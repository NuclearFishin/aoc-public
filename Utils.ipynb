{
 "cells": [
  {
   "cell_type": "code",
   "execution_count": 36,
   "metadata": {
    "dotnet_interactive": {
     "language": "csharp"
    },
    "polyglot_notebook": {
     "kernelName": "csharp"
    },
    "vscode": {
     "languageId": "polyglot-notebook"
    }
   },
   "outputs": [],
   "source": [
    "// Some utility functions etc; stuff common to each day's puzzle"
   ]
  },
  {
   "cell_type": "code",
   "execution_count": 37,
   "metadata": {
    "dotnet_interactive": {
     "language": "csharp"
    },
    "polyglot_notebook": {
     "kernelName": "csharp"
    },
    "vscode": {
     "languageId": "polyglot-notebook"
    }
   },
   "outputs": [],
   "source": [
    "using System.IO;\n",
    "using System.Text.RegularExpressions;\n",
    "using SCG = System.Collections.Generic;"
   ]
  },
  {
   "cell_type": "code",
   "execution_count": 38,
   "metadata": {
    "dotnet_interactive": {
     "language": "csharp"
    },
    "polyglot_notebook": {
     "kernelName": "csharp"
    },
    "vscode": {
     "languageId": "polyglot-notebook"
    }
   },
   "outputs": [],
   "source": [
    "/// <summary>\n",
    "/// Load a given day's puzzle input\n",
    "/// </summary>\n",
    "string[] LoadPuzzleInput(int year, int day)\n",
    "{\n",
    "    var filePath = $\"Day{day}.txt\";\n",
    "    Console.WriteLine($\"Loading puzzle file: {filePath}\");\n",
    "    \n",
    "    var lines = File.ReadAllLines(filePath);\n",
    "\n",
    "    Console.WriteLine($\"Total lines: {lines.Length}\");\n",
    "    var maxLineLength = lines.Select(line => line.Length).Max();\n",
    "    Console.WriteLine($\"Max line length: {maxLineLength}\");\n",
    "    Console.WriteLine();\n",
    "\n",
    "    return lines;\n",
    "}"
   ]
  },
  {
   "cell_type": "code",
   "execution_count": 39,
   "metadata": {
    "dotnet_interactive": {
     "language": "csharp"
    },
    "polyglot_notebook": {
     "kernelName": "csharp"
    },
    "vscode": {
     "languageId": "polyglot-notebook"
    }
   },
   "outputs": [],
   "source": [
    "/// <summary>\n",
    "/// Display a sample of the puzzle input lines\n",
    "/// </summary>\n",
    "void WriteLines<T>(IEnumerable<T> lines, int maxRows = 5, int maxCols = 500)\n",
    "{\n",
    "    foreach (var line in lines.Take(maxRows))\n",
    "    {\n",
    "        var lineStr = line.ToString();\n",
    "        lineStr = (lineStr.Length - maxCols) switch {\n",
    "            > 0 => lineStr.Substring(0, maxCols),\n",
    "            _ => lineStr\n",
    "        };\n",
    "        Console.WriteLine(lineStr);\n",
    "    }\n",
    "}"
   ]
  },
  {
   "cell_type": "code",
   "execution_count": 40,
   "metadata": {
    "dotnet_interactive": {
     "language": "csharp"
    },
    "polyglot_notebook": {
     "kernelName": "csharp"
    },
    "vscode": {
     "languageId": "polyglot-notebook"
    }
   },
   "outputs": [],
   "source": [
    "/// <summary>\n",
    "/// Exception thrown when <c>Ensure</c> check does not match\n",
    "/// </summary>\n",
    "class PuzzleFailureException(string message) : Exception(message) {}\n",
    "\n",
    "/// <summary>\n",
    "/// Ensure puzzle answer is correct\n",
    "/// </summary>\n",
    "void Ensure<T>(T expected, T answer) where T : IComparable<T>\n",
    "{\n",
    "    if (!expected.Equals(answer)) {\n",
    "        throw new PuzzleFailureException($\"Expected puzzle answer to equal {expected}, was {answer}\");\n",
    "    }\n",
    "}"
   ]
  },
  {
   "cell_type": "code",
   "execution_count": 41,
   "metadata": {
    "dotnet_interactive": {
     "language": "csharp"
    },
    "polyglot_notebook": {
     "kernelName": "csharp"
    },
    "vscode": {
     "languageId": "polyglot-notebook"
    }
   },
   "outputs": [],
   "source": [
    "// Based on:\n",
    "// https://github.com/dotnet/csharplang/discussions/388#discussioncomment-67632\n",
    "\n",
    "/// <summmary>\n",
    "/// Array deconstructor helper\n",
    "/// </summary>\n",
    "public static void Deconstruct<T>(this T[] array, out T item1)\n",
    "{\n",
    "    if (array is [var a]) {\n",
    "        item1 = a;\n",
    "    } else {\n",
    "        throw new ArgumentException(nameof(array), $\"Expected 1 item, got {array.Length}\");\n",
    "    }\n",
    "}\n",
    "\n",
    "/// <summmary>\n",
    "/// Array deconstructor helper\n",
    "/// </summary>\n",
    "public static void Deconstruct<T>(this T[] array, out T item1, out T item2)\n",
    "{\n",
    "    if (array is [var a, var b])\n",
    "    {\n",
    "        item1 = a;\n",
    "        item2 = b;\n",
    "    } else {\n",
    "        throw new ArgumentException(nameof(array), $\"Expected 2 items, got {array.Length}\");\n",
    "    }\n",
    "}"
   ]
  },
  {
   "cell_type": "code",
   "execution_count": 42,
   "metadata": {
    "dotnet_interactive": {
     "language": "csharp"
    },
    "polyglot_notebook": {
     "kernelName": "csharp"
    },
    "vscode": {
     "languageId": "polyglot-notebook"
    }
   },
   "outputs": [],
   "source": [
    "using System.Text.RegularExpressions;\n",
    "\n",
    "/// <summary>\n",
    "/// Regex deconstructor helper - assign values corresponding to gc[i].Value, or null if no group\n",
    "/// </summary>\n",
    "public static void Deconstruct(this GroupCollection gc, out string a, out string b, out string c, out string d)\n",
    "{\n",
    "    var values = Enumerable.Range(0, 4).Select(i => i < gc.Count ? gc[i].Value : null).ToArray();\n",
    "    a = values[0];\n",
    "    b = values[1];\n",
    "    c = values[2];\n",
    "    d = values[3];\n",
    "}\n",
    "\n",
    "/// <summary>\n",
    "/// Regex deconstructor helper - assign values corresponding to gc[i].Value, or null if no group\n",
    "/// </summary>\n",
    "public static void Deconstruct(this GroupCollection gc, out string a, out string b, out string c)\n",
    "{\n",
    "    (a, b, c, _) = gc;\n",
    "}"
   ]
  },
  {
   "cell_type": "code",
   "execution_count": 43,
   "metadata": {
    "dotnet_interactive": {
     "language": "csharp"
    },
    "polyglot_notebook": {
     "kernelName": "csharp"
    },
    "vscode": {
     "languageId": "polyglot-notebook"
    }
   },
   "outputs": [],
   "source": [
    "/// <summary>\n",
    "/// Separate <c>source</c> into multiple groups\n",
    "/// </summary>\n",
    "/// <remarks>Useful when the puzzle input contains multiple sections</remarks>\n",
    "public static IEnumerable<string[]> SeparateBy(this IEnumerable<string> source, Func<string, bool> separator)\n",
    "{\n",
    "    ArgumentNullException.ThrowIfNull(source);\n",
    "    ArgumentNullException.ThrowIfNull(separator);\n",
    "\n",
    "    List<string> current = new();\n",
    "    foreach (var line in source)\n",
    "    {\n",
    "        if (separator(line))\n",
    "        {\n",
    "            yield return current.ToArray();\n",
    "            current = new();\n",
    "            continue;\n",
    "        }\n",
    "        \n",
    "        current.Add(line);\n",
    "    }\n",
    "    yield return current.ToArray();\n",
    "}"
   ]
  },
  {
   "cell_type": "code",
   "execution_count": 44,
   "metadata": {
    "dotnet_interactive": {
     "language": "csharp"
    },
    "polyglot_notebook": {
     "kernelName": "csharp"
    },
    "vscode": {
     "languageId": "polyglot-notebook"
    }
   },
   "outputs": [],
   "source": [
    "// Waiting for dotnet-interactive to update to .NET 9...\n",
    "// https://github.com/dotnet/interactive/issues/3760\n",
    "\n",
    "if (Environment.Version.Major >= 9) {\n",
    "    throw new Exception(\"We don't need the following extensions anymore!\");\n",
    "}\n",
    "\n",
    "/// <summary>\n",
    "/// Enumerate a collection alongside its index\n",
    "/// </summary>\n",
    "/// <remarks>Analogue of System.Linq.Enumerable.Index in .NET 9</remarks>\n",
    "public static IEnumerable<(int Index, T Item)> Index<T>(this IEnumerable<T> source)\n",
    "{\n",
    "    var i = 0;\n",
    "    foreach (var item in source)\n",
    "    {\n",
    "        yield return (i++, item);\n",
    "    }\n",
    "}"
   ]
  },
  {
   "cell_type": "code",
   "execution_count": 45,
   "metadata": {
    "dotnet_interactive": {
     "language": "csharp"
    },
    "polyglot_notebook": {
     "kernelName": "csharp"
    },
    "vscode": {
     "languageId": "polyglot-notebook"
    }
   },
   "outputs": [],
   "source": [
    "// Points and Grids\n",
    "/////\n",
    "\n",
    "record struct Point(int X, int Y)\n",
    "{\n",
    "    public override string ToString() => $\"({X}, {Y})\";\n",
    "    \n",
    "    public static Point operator +(Point a, Point b) => (a.X + b.X, a.Y + b.Y);\n",
    "    public static Point operator -(Point a, Point b) => a + (-b);\n",
    "    public static Point operator -(Point p) => (-p.X, -p.Y);\n",
    "    public static Point operator *(Point p, int x) => (p.X * x, p.Y * x);\n",
    "\n",
    "    public static implicit operator Point((int x, int y) xy) => new(xy.x, xy.y);\n",
    "}\n",
    "\n",
    "static Point Up = (0, -1);\n",
    "static Point Down = -Up;\n",
    "static Point Left = (-1, 0);\n",
    "static Point Right = -Left;\n",
    "\n",
    "Dictionary<Point, Point> RightTurns = new()\n",
    "{\n",
    "    { Up, Right },\n",
    "    { Right, Down },\n",
    "    { Down, Left },\n",
    "    { Left, Up }\n",
    "};\n",
    "Point TurnRight(Point p) => RightTurns[p];"
   ]
  },
  {
   "cell_type": "code",
   "execution_count": 46,
   "metadata": {
    "dotnet_interactive": {
     "language": "csharp"
    },
    "polyglot_notebook": {
     "kernelName": "csharp"
    },
    "vscode": {
     "languageId": "polyglot-notebook"
    }
   },
   "outputs": [],
   "source": [
    "// Tests\n",
    "if (false) \n",
    "{\n",
    "    Point p = new(1, 1);\n",
    "    Console.WriteLine(p);\n",
    "\n",
    "    foreach (var testPoint in new[] {Up, Down, Left, Right})\n",
    "    {\n",
    "        Console.WriteLine(p + testPoint);\n",
    "    }\n",
    "\n",
    "    Console.WriteLine(p * 5);\n",
    "}"
   ]
  },
  {
   "cell_type": "code",
   "execution_count": 47,
   "metadata": {
    "dotnet_interactive": {
     "language": "csharp"
    },
    "polyglot_notebook": {
     "kernelName": "csharp"
    },
    "vscode": {
     "languageId": "polyglot-notebook"
    }
   },
   "outputs": [],
   "source": [
    "class CharGrid(string[] inputLines)\n",
    "{\n",
    "    string[] _inputLines = inputLines;\n",
    "\n",
    "    /// <summary>\n",
    "    /// Maximum addressible row\n",
    "    /// </summary>\n",
    "    public int Rows { get; } = inputLines.Length;\n",
    "\n",
    "    /// <summary>\n",
    "    /// Maximum addressible column\n",
    "    /// </summary>\n",
    "    public int Cols { get; } = inputLines[0].Length;\n",
    "\n",
    "    /// <summary>\n",
    "    /// Character at corresponding point\n",
    "    /// </summary>\n",
    "    public char this[Point p]\n",
    "    {\n",
    "        get => _inputLines[p.Y][p.X];\n",
    "        set\n",
    "        {\n",
    "            var lineBuffer = _inputLines[p.Y].ToCharArray();\n",
    "            lineBuffer[p.X] = value;\n",
    "            _inputLines[p.Y] = new string(lineBuffer);\n",
    "        }\n",
    "    }\n",
    "\n",
    "    /// <summary>\n",
    "    /// Enumerate all points and characters in the grid\n",
    "    /// </summary>\n",
    "    /// <remarks>Useful for searching for specific features</remarks>\n",
    "    public IEnumerable<(Point point, char ch)> Enumerate()\n",
    "    {\n",
    "        var q = from y in Enumerable.Range(0, Rows)\n",
    "                from x in Enumerable.Range(0, Cols)\n",
    "                let p = new Point(x, y)\n",
    "                select (p, this[p]);\n",
    "        return q;\n",
    "    }\n",
    "\n",
    "    /// <summary>\n",
    "    /// Is <c>p</c> a valid point within the grid?\n",
    "    /// </summary>\n",
    "    public bool IsValid(Point p) => p switch\n",
    "    {\n",
    "        (< 0, _) => false,\n",
    "        (_, < 0) => false,\n",
    "        (var x, _) when x >= Cols => false,\n",
    "        (_, var y) when y >= Rows => false,\n",
    "        _ => true\n",
    "    };\n",
    "\n",
    "    public CharGrid Clone() => new([.._inputLines]);\n",
    "}"
   ]
  },
  {
   "cell_type": "code",
   "execution_count": 48,
   "metadata": {
    "dotnet_interactive": {
     "language": "csharp"
    },
    "polyglot_notebook": {
     "kernelName": "csharp"
    },
    "vscode": {
     "languageId": "polyglot-notebook"
    }
   },
   "outputs": [],
   "source": [
    "static Dictionary<char, int> DigitLookup = new()\n",
    "{\n",
    "    { '0', 0 },\n",
    "    { '1', 1 },\n",
    "    { '2', 2 },\n",
    "    { '3', 3 },\n",
    "    { '4', 4 },\n",
    "    { '5', 5 },\n",
    "    { '6', 6 },\n",
    "    { '7', 7 },\n",
    "    { '8', 8 },\n",
    "    { '9', 9 }\n",
    "};\n",
    "\n",
    "/// <summary>\n",
    "/// Convert a number character into the numeric value. A common puzzle requirement.\n",
    "/// </summary>\n",
    "public static int ToInt(this char ch) => DigitLookup[ch];"
   ]
  },
  {
   "cell_type": "code",
   "execution_count": 49,
   "metadata": {
    "dotnet_interactive": {
     "language": "csharp"
    },
    "polyglot_notebook": {
     "kernelName": "csharp"
    },
    "vscode": {
     "languageId": "polyglot-notebook"
    }
   },
   "outputs": [],
   "source": [
    "/// <summary>\n",
    "/// Helper to ensure loops always terminate\n",
    "/// </summary>\n",
    "class SafetyLimit\n",
    "{\n",
    "    int _attempts = 0;\n",
    "\n",
    "    public void EnsureBelow(int limit)\n",
    "    {\n",
    "        if (++_attempts == limit)\n",
    "        {\n",
    "            throw new Exception($\"Safety limit of {limit} exceeded.\");\n",
    "        }\n",
    "    }\n",
    "}"
   ]
  },
  {
   "cell_type": "code",
   "execution_count": 50,
   "metadata": {
    "dotnet_interactive": {
     "language": "csharp"
    },
    "polyglot_notebook": {
     "kernelName": "csharp"
    },
    "vscode": {
     "languageId": "polyglot-notebook"
    }
   },
   "outputs": [],
   "source": [
    "// Tests\n",
    "\n",
    "if (false)\n",
    "{\n",
    "    string[] testInputLines = [\n",
    "        \"ab\",\n",
    "        \"cd\"\n",
    "    ];\n",
    "\n",
    "    CharGrid grid = new(testInputLines);\n",
    "\n",
    "    Point p = new(0, 0);\n",
    "    Console.WriteLine(grid[p]);\n",
    "    Console.WriteLine(grid[p + Right]);\n",
    "    Console.WriteLine(grid[p + Down]);\n",
    "    Console.WriteLine(grid[p + Down + Right]);\n",
    "\n",
    "    Console.WriteLine(grid.IsValid(p));\n",
    "    Console.WriteLine(grid.IsValid(p + Right));\n",
    "    Console.WriteLine(grid.IsValid(p + Right + Right));\n",
    "}"
   ]
  },
  {
   "cell_type": "code",
   "execution_count": 1,
   "metadata": {
    "dotnet_interactive": {
     "language": "csharp"
    },
    "polyglot_notebook": {
     "kernelName": "csharp"
    },
    "vscode": {
     "languageId": "polyglot-notebook"
    }
   },
   "outputs": [],
   "source": [
    "static IEnumerable<LinkedListNode<T>> WalkNodes<T>(this LinkedList<T> list)\n",
    "{\n",
    "    var node = list.First;\n",
    "    while (node != null)\n",
    "    {\n",
    "        yield return node;\n",
    "        node = node.Next;\n",
    "    }\n",
    "}"
   ]
  },
  {
   "cell_type": "code",
   "execution_count": null,
   "metadata": {
    "vscode": {
     "languageId": "polyglot-notebook"
    }
   },
   "outputs": [],
   "source": [
    "/// <summary>\n",
    "/// Breadth-First Search, another common puzzle algorithm.\n",
    "/// </summary>\n",
    "IEnumerable<T> BFS<T>(T startNode, Func<T, IEnumerable<T>> getNeighbours)\n",
    "{\n",
    "    HashSet<T> visited = new();\n",
    "    \n",
    "    Queue<T> queue = new();\n",
    "    queue.Enqueue(startNode);\n",
    "\n",
    "    while (queue.TryDequeue(out var node))\n",
    "    {\n",
    "        if (visited.Contains(node)) continue;\n",
    "\n",
    "        yield return node;\n",
    "        \n",
    "        visited.Add(node);\n",
    "\n",
    "        foreach (var neighbour in getNeighbours(node))\n",
    "        {\n",
    "            queue.Enqueue(neighbour);\n",
    "        }\n",
    "    }\n",
    "}"
   ]
  }
 ],
 "metadata": {
  "kernelspec": {
   "display_name": ".NET (C#)",
   "language": "C#",
   "name": ".net-csharp"
  },
  "language_info": {
   "name": "python"
  },
  "polyglot_notebook": {
   "kernelInfo": {
    "defaultKernelName": "csharp",
    "items": [
     {
      "aliases": [],
      "name": "csharp"
     }
    ]
   }
  }
 },
 "nbformat": 4,
 "nbformat_minor": 2
}
