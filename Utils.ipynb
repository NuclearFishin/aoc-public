{
 "cells": [
  {
   "cell_type": "code",
   "execution_count": 1,
   "metadata": {
    "dotnet_interactive": {
     "language": "csharp"
    },
    "polyglot_notebook": {
     "kernelName": "csharp"
    },
    "vscode": {
     "languageId": "polyglot-notebook"
    }
   },
   "outputs": [],
   "source": [
    "// Some utility functions etc; stuff common to each day's puzzle"
   ]
  },
  {
   "cell_type": "code",
   "execution_count": 2,
   "metadata": {
    "dotnet_interactive": {
     "language": "csharp"
    },
    "polyglot_notebook": {
     "kernelName": "csharp"
    },
    "vscode": {
     "languageId": "polyglot-notebook"
    }
   },
   "outputs": [],
   "source": [
    "using System.IO;\n",
    "using System.Text.RegularExpressions;\n",
    "using SCG = System.Collections.Generic;"
   ]
  },
  {
   "cell_type": "code",
   "execution_count": 3,
   "metadata": {
    "dotnet_interactive": {
     "language": "csharp"
    },
    "polyglot_notebook": {
     "kernelName": "csharp"
    },
    "vscode": {
     "languageId": "polyglot-notebook"
    }
   },
   "outputs": [],
   "source": [
    "// Console output is repeated when this util file is imported in other\n",
    "// notebooks, so skip these tests to keep the imports clean\n",
    "private static bool RUN_TESTS = false;"
   ]
  },
  {
   "cell_type": "code",
   "execution_count": 4,
   "metadata": {
    "dotnet_interactive": {
     "language": "csharp"
    },
    "polyglot_notebook": {
     "kernelName": "csharp"
    },
    "vscode": {
     "languageId": "polyglot-notebook"
    }
   },
   "outputs": [],
   "source": [
    "/// <summary>\n",
    "/// Load a given day's puzzle input\n",
    "/// </summary>\n",
    "string[] LoadPuzzleInput(int year, int day)\n",
    "{\n",
    "    var filePath = $\"Day{day}.txt\";\n",
    "    Console.WriteLine($\"Loading puzzle file: {filePath}\");\n",
    "    \n",
    "    var lines = File.ReadAllLines(filePath);\n",
    "\n",
    "    Console.WriteLine($\"Total lines: {lines.Length}\");\n",
    "    var maxLineLength = lines.Select(line => line.Length).Max();\n",
    "    Console.WriteLine($\"Max line length: {maxLineLength}\");\n",
    "    Console.WriteLine();\n",
    "\n",
    "    return lines;\n",
    "}"
   ]
  },
  {
   "cell_type": "code",
   "execution_count": 5,
   "metadata": {
    "dotnet_interactive": {
     "language": "csharp"
    },
    "polyglot_notebook": {
     "kernelName": "csharp"
    },
    "vscode": {
     "languageId": "polyglot-notebook"
    }
   },
   "outputs": [],
   "source": [
    "/// <summary>\n",
    "/// Display a sample of the puzzle input lines\n",
    "/// </summary>\n",
    "void WriteLines<T>(IEnumerable<T> lines, int maxRows = 5, int maxCols = 500)\n",
    "{\n",
    "    foreach (var line in lines.Take(maxRows))\n",
    "    {\n",
    "        var lineStr = line.ToString();\n",
    "        lineStr = (lineStr.Length - maxCols) switch {\n",
    "            > 0 => lineStr.Substring(0, maxCols),\n",
    "            _ => lineStr\n",
    "        };\n",
    "        Console.WriteLine(lineStr);\n",
    "    }\n",
    "}"
   ]
  },
  {
   "cell_type": "code",
   "execution_count": 6,
   "metadata": {
    "dotnet_interactive": {
     "language": "csharp"
    },
    "polyglot_notebook": {
     "kernelName": "csharp"
    },
    "vscode": {
     "languageId": "polyglot-notebook"
    }
   },
   "outputs": [],
   "source": [
    "/// <summary>\n",
    "/// Exception thrown when <c>Ensure</c> check does not match\n",
    "/// </summary>\n",
    "class PuzzleFailureException(string message) : Exception(message) {}\n",
    "\n",
    "/// <summary>\n",
    "/// Ensure puzzle answer is correct\n",
    "/// </summary>\n",
    "void Ensure<T>(T expected, T answer) where T : IComparable<T>\n",
    "{\n",
    "    if (!expected.Equals(answer)) {\n",
    "        throw new PuzzleFailureException($\"Expected puzzle answer to equal {expected}, was {answer}\");\n",
    "    }\n",
    "}"
   ]
  },
  {
   "cell_type": "code",
   "execution_count": 7,
   "metadata": {
    "dotnet_interactive": {
     "language": "csharp"
    },
    "polyglot_notebook": {
     "kernelName": "csharp"
    },
    "vscode": {
     "languageId": "polyglot-notebook"
    }
   },
   "outputs": [],
   "source": [
    "// Loosely based on:\n",
    "// https://github.com/dotnet/csharplang/discussions/388#discussioncomment-67632\n",
    "\n",
    "/// <summary>Array deconstructor helper</summary>\n",
    "public static void Deconstruct<T>(this T[] array, out T item1, out T item2, out T item3, out T item4)\n",
    "{\n",
    "    item1 = GetValueOrDefault(array, 0);\n",
    "    item2 = GetValueOrDefault(array, 1);\n",
    "    item3 = GetValueOrDefault(array, 2);\n",
    "    item4 = GetValueOrDefault(array, 3);\n",
    "}\n",
    "\n",
    "/// <summary>Array deconstructor helper</summary>\n",
    "public static void Deconstruct<T>(this T[] array, out T item1, out T item2, out T item3)\n",
    "{\n",
    "    (item1, item2, item3, _) = array;\n",
    "}\n",
    "\n",
    "/// <summary>Array deconstructor helper</summary>\n",
    "public static void Deconstruct<T>(this T[] array, out T item1, out T item2)\n",
    "{\n",
    "    (item1, item2, _, _) = array;\n",
    "}\n",
    "\n",
    "/// <summary>Array deconstructor helper</summary>\n",
    "public static void Deconstruct<T>(this T[] array, out T item1)\n",
    "{\n",
    "    (item1, _, _, _) = array;\n",
    "}\n",
    "\n",
    "private static T GetValueOrDefault<T>(T[] array, int i) => (array.Length - i) switch {\n",
    "    > 0 => array[i],\n",
    "    _ => default(T)\n",
    "};"
   ]
  },
  {
   "cell_type": "code",
   "execution_count": 8,
   "metadata": {
    "dotnet_interactive": {
     "language": "csharp"
    },
    "polyglot_notebook": {
     "kernelName": "csharp"
    },
    "vscode": {
     "languageId": "polyglot-notebook"
    }
   },
   "outputs": [],
   "source": [
    "using System.Text.RegularExpressions;\n",
    "\n",
    "/// <summary>\n",
    "/// Regex deconstructor helper - assign values corresponding to gc[i].Value, or null if no group\n",
    "/// </summary>\n",
    "public static void Deconstruct(this GroupCollection gc, out string a, out string b, out string c, out string d)\n",
    "{\n",
    "    var values = Enumerable.Range(0, 4).Select(i => i < gc.Count ? gc[i].Value : null).ToArray();\n",
    "    a = values[0];\n",
    "    b = values[1];\n",
    "    c = values[2];\n",
    "    d = values[3];\n",
    "}\n",
    "\n",
    "/// <summary>\n",
    "/// Regex deconstructor helper - assign values corresponding to gc[i].Value, or null if no group\n",
    "/// </summary>\n",
    "public static void Deconstruct(this GroupCollection gc, out string a, out string b, out string c)\n",
    "{\n",
    "    (a, b, c, _) = gc;\n",
    "}"
   ]
  },
  {
   "cell_type": "code",
   "execution_count": 9,
   "metadata": {
    "dotnet_interactive": {
     "language": "csharp"
    },
    "polyglot_notebook": {
     "kernelName": "csharp"
    },
    "vscode": {
     "languageId": "polyglot-notebook"
    }
   },
   "outputs": [],
   "source": [
    "/// <summary>\n",
    "/// Separate <c>source</c> into multiple groups\n",
    "/// </summary>\n",
    "/// <remarks>Useful when the puzzle input contains multiple sections</remarks>\n",
    "public static IEnumerable<string[]> SeparateBy(this IEnumerable<string> source, Func<string, bool> separator)\n",
    "{\n",
    "    ArgumentNullException.ThrowIfNull(source);\n",
    "    ArgumentNullException.ThrowIfNull(separator);\n",
    "\n",
    "    List<string> current = new();\n",
    "    foreach (var line in source)\n",
    "    {\n",
    "        if (separator(line))\n",
    "        {\n",
    "            yield return current.ToArray();\n",
    "            current = new();\n",
    "            continue;\n",
    "        }\n",
    "        \n",
    "        current.Add(line);\n",
    "    }\n",
    "    yield return current.ToArray();\n",
    "}"
   ]
  },
  {
   "cell_type": "code",
   "execution_count": 10,
   "metadata": {
    "dotnet_interactive": {
     "language": "csharp"
    },
    "polyglot_notebook": {
     "kernelName": "csharp"
    },
    "vscode": {
     "languageId": "polyglot-notebook"
    }
   },
   "outputs": [],
   "source": [
    "// Waiting for dotnet-interactive to update to .NET 9...\n",
    "// https://github.com/dotnet/interactive/issues/3760\n",
    "\n",
    "if (Environment.Version.Major >= 9) {\n",
    "    throw new Exception(\"We don't need the following extensions anymore!\");\n",
    "}\n",
    "\n",
    "/// <summary>\n",
    "/// Enumerate a collection alongside its index\n",
    "/// </summary>\n",
    "/// <remarks>Analogue of System.Linq.Enumerable.Index in .NET 9</remarks>\n",
    "public static IEnumerable<(int Index, T Item)> Index<T>(this IEnumerable<T> source)\n",
    "{\n",
    "    var i = 0;\n",
    "    foreach (var item in source)\n",
    "    {\n",
    "        yield return (i++, item);\n",
    "    }\n",
    "}"
   ]
  },
  {
   "cell_type": "code",
   "execution_count": 11,
   "metadata": {
    "dotnet_interactive": {
     "language": "csharp"
    },
    "polyglot_notebook": {
     "kernelName": "csharp"
    },
    "vscode": {
     "languageId": "polyglot-notebook"
    }
   },
   "outputs": [],
   "source": [
    "// Points and Grids\n",
    "/////\n",
    "\n",
    "record struct Point(int X, int Y)\n",
    "{\n",
    "    public override string ToString() => $\"({X}, {Y})\";\n",
    "    \n",
    "    public static Point operator +(Point a, Point b) => (a.X + b.X, a.Y + b.Y);\n",
    "    public static Point operator -(Point a, Point b) => a + (-b);\n",
    "    public static Point operator -(Point p) => (-p.X, -p.Y);\n",
    "    public static Point operator *(Point p, int x) => (p.X * x, p.Y * x);\n",
    "\n",
    "    public static implicit operator Point((int x, int y) xy) => new(xy.x, xy.y);\n",
    "}\n",
    "\n",
    "static readonly Point Up = (0, -1);\n",
    "static readonly Point Down = -Up;\n",
    "static readonly Point Left = (-1, 0);\n",
    "static readonly Point Right = -Left;\n",
    "\n",
    "Dictionary<Point, Point> RightTurns = new()\n",
    "{\n",
    "    { Up, Right },\n",
    "    { Right, Down },\n",
    "    { Down, Left },\n",
    "    { Left, Up }\n",
    "};\n",
    "Point TurnRight(Point p) => RightTurns[p];"
   ]
  },
  {
   "cell_type": "code",
   "execution_count": 12,
   "metadata": {
    "dotnet_interactive": {
     "language": "csharp"
    },
    "polyglot_notebook": {
     "kernelName": "csharp"
    },
    "vscode": {
     "languageId": "polyglot-notebook"
    }
   },
   "outputs": [],
   "source": [
    "// Tests\n",
    "if (RUN_TESTS) \n",
    "{\n",
    "    Point p = new(1, 1);\n",
    "    Console.WriteLine(p);\n",
    "\n",
    "    foreach (var testPoint in new[] {Up, Down, Left, Right})\n",
    "    {\n",
    "        Console.WriteLine(p + testPoint);\n",
    "    }\n",
    "\n",
    "    Console.WriteLine(p * 5);\n",
    "}"
   ]
  },
  {
   "cell_type": "code",
   "execution_count": 13,
   "metadata": {
    "dotnet_interactive": {
     "language": "csharp"
    },
    "polyglot_notebook": {
     "kernelName": "csharp"
    },
    "vscode": {
     "languageId": "polyglot-notebook"
    }
   },
   "outputs": [],
   "source": [
    "class CharGrid(string[] inputLines)\n",
    "{\n",
    "    string[] _inputLines = inputLines;\n",
    "\n",
    "    /// <summary>\n",
    "    /// Maximum addressible row\n",
    "    /// </summary>\n",
    "    public int Rows { get; } = inputLines.Length;\n",
    "\n",
    "    /// <summary>\n",
    "    /// Maximum addressible column\n",
    "    /// </summary>\n",
    "    public int Cols { get; } = inputLines[0].Length;\n",
    "\n",
    "    /// <summary>\n",
    "    /// Character at corresponding point\n",
    "    /// </summary>\n",
    "    public char this[Point p]\n",
    "    {\n",
    "        get => _inputLines[p.Y][p.X];\n",
    "        set\n",
    "        {\n",
    "            var lineBuffer = _inputLines[p.Y].ToCharArray();\n",
    "            lineBuffer[p.X] = value;\n",
    "            _inputLines[p.Y] = new string(lineBuffer);\n",
    "        }\n",
    "    }\n",
    "\n",
    "    /// <summary>\n",
    "    /// Enumerate all points and characters in the grid\n",
    "    /// </summary>\n",
    "    /// <remarks>Useful for searching for specific features</remarks>\n",
    "    public IEnumerable<(Point point, char ch)> Enumerate()\n",
    "    {\n",
    "        var q = from y in Enumerable.Range(0, Rows)\n",
    "                from x in Enumerable.Range(0, Cols)\n",
    "                let p = new Point(x, y)\n",
    "                select (p, this[p]);\n",
    "        return q;\n",
    "    }\n",
    "\n",
    "    /// <summary>\n",
    "    /// Is <c>p</c> a valid point within the grid?\n",
    "    /// </summary>\n",
    "    public bool IsValid(Point p) => p switch\n",
    "    {\n",
    "        (< 0, _) => false,\n",
    "        (_, < 0) => false,\n",
    "        (var x, _) when x >= Cols => false,\n",
    "        (_, var y) when y >= Rows => false,\n",
    "        _ => true\n",
    "    };\n",
    "\n",
    "    /// <summary>\n",
    "    /// Clone current grid\n",
    "    /// </summary>\n",
    "    public CharGrid Clone() => new([.._inputLines]);\n",
    "\n",
    "    /// <summary>\n",
    "    /// Render the grid for printing to console\n",
    "    /// </summary>\n",
    "    public string Render() => String.Join(\"\\n\", _inputLines);\n",
    "}"
   ]
  },
  {
   "cell_type": "code",
   "execution_count": 14,
   "metadata": {
    "dotnet_interactive": {
     "language": "csharp"
    },
    "polyglot_notebook": {
     "kernelName": "csharp"
    },
    "vscode": {
     "languageId": "polyglot-notebook"
    }
   },
   "outputs": [],
   "source": [
    "static Dictionary<char, int> DigitLookup = new()\n",
    "{\n",
    "    { '0', 0 },\n",
    "    { '1', 1 },\n",
    "    { '2', 2 },\n",
    "    { '3', 3 },\n",
    "    { '4', 4 },\n",
    "    { '5', 5 },\n",
    "    { '6', 6 },\n",
    "    { '7', 7 },\n",
    "    { '8', 8 },\n",
    "    { '9', 9 }\n",
    "};\n",
    "\n",
    "/// <summary>\n",
    "/// Convert a number character into the numeric value. A common puzzle requirement.\n",
    "/// </summary>\n",
    "public static int ToInt(this char ch) => DigitLookup[ch];"
   ]
  },
  {
   "cell_type": "code",
   "execution_count": 15,
   "metadata": {
    "dotnet_interactive": {
     "language": "csharp"
    },
    "polyglot_notebook": {
     "kernelName": "csharp"
    },
    "vscode": {
     "languageId": "polyglot-notebook"
    }
   },
   "outputs": [],
   "source": [
    "/// <summary>\n",
    "/// Helper to ensure loops always terminate\n",
    "/// </summary>\n",
    "class SafetyLimit\n",
    "{\n",
    "    int _attempts = 0;\n",
    "\n",
    "    public void EnsureBelow(int limit)\n",
    "    {\n",
    "        if (++_attempts == limit)\n",
    "        {\n",
    "            throw new Exception($\"Safety limit of {limit} exceeded.\");\n",
    "        }\n",
    "    }\n",
    "}"
   ]
  },
  {
   "cell_type": "code",
   "execution_count": 16,
   "metadata": {
    "dotnet_interactive": {
     "language": "csharp"
    },
    "polyglot_notebook": {
     "kernelName": "csharp"
    },
    "vscode": {
     "languageId": "polyglot-notebook"
    }
   },
   "outputs": [],
   "source": [
    "// Tests\n",
    "\n",
    "if (RUN_TESTS)\n",
    "{\n",
    "    string[] testInputLines = [\n",
    "        \"ab\",\n",
    "        \"cd\"\n",
    "    ];\n",
    "\n",
    "    CharGrid grid = new(testInputLines);\n",
    "\n",
    "    Point p = new(0, 0);\n",
    "    Console.WriteLine(grid[p]);\n",
    "    Console.WriteLine(grid[p + Right]);\n",
    "    Console.WriteLine(grid[p + Down]);\n",
    "    Console.WriteLine(grid[p + Down + Right]);\n",
    "\n",
    "    Console.WriteLine(grid.IsValid(p));\n",
    "    Console.WriteLine(grid.IsValid(p + Right));\n",
    "    Console.WriteLine(grid.IsValid(p + Right + Right));\n",
    "}"
   ]
  },
  {
   "cell_type": "code",
   "execution_count": 17,
   "metadata": {
    "dotnet_interactive": {
     "language": "csharp"
    },
    "polyglot_notebook": {
     "kernelName": "csharp"
    },
    "vscode": {
     "languageId": "polyglot-notebook"
    }
   },
   "outputs": [],
   "source": [
    "static IEnumerable<LinkedListNode<T>> WalkNodes<T>(this LinkedList<T> list)\n",
    "{\n",
    "    var node = list.First;\n",
    "    while (node != null)\n",
    "    {\n",
    "        yield return node;\n",
    "        node = node.Next;\n",
    "    }\n",
    "}"
   ]
  },
  {
   "cell_type": "code",
   "execution_count": 18,
   "metadata": {
    "dotnet_interactive": {
     "language": "csharp"
    },
    "polyglot_notebook": {
     "kernelName": "csharp"
    },
    "vscode": {
     "languageId": "polyglot-notebook"
    }
   },
   "outputs": [],
   "source": [
    "/// <summary>\n",
    "/// Breadth-First Search, another common puzzle algorithm.\n",
    "/// </summary>\n",
    "IEnumerable<T> BFS<T>(T startNode, Func<T, IEnumerable<T>> getNeighbours)\n",
    "{\n",
    "    HashSet<T> visited = new();\n",
    "    \n",
    "    Queue<T> queue = new();\n",
    "    queue.Enqueue(startNode);\n",
    "\n",
    "    while (queue.TryDequeue(out var node))\n",
    "    {\n",
    "        if (visited.Contains(node)) continue;\n",
    "\n",
    "        yield return node;\n",
    "        \n",
    "        visited.Add(node);\n",
    "\n",
    "        foreach (var neighbour in getNeighbours(node))\n",
    "        {\n",
    "            queue.Enqueue(neighbour);\n",
    "        }\n",
    "    }\n",
    "}"
   ]
  },
  {
   "cell_type": "code",
   "execution_count": 19,
   "metadata": {
    "dotnet_interactive": {
     "language": "csharp"
    },
    "polyglot_notebook": {
     "kernelName": "csharp"
    },
    "vscode": {
     "languageId": "polyglot-notebook"
    }
   },
   "outputs": [],
   "source": [
    "using static System.Globalization.CultureInfo;\n",
    "\n",
    "/// <summary>\n",
    "/// Solve a system of linear equations via Gaussian elimination\n",
    "/// <summary>\n",
    "/// <paramref name=\"matrix\">Matrix of linear equations expressed in rows, eg: Ax + By = C</paramref>\n",
    "/// <remarks>https://en.wikipedia.org/wiki/Gaussian_elimination</remarks>\n",
    "void GaussianElim(decimal[][] matrix)\n",
    "{\n",
    "    var rows = matrix.Length;\n",
    "    var cols = matrix[0].Length;\n",
    "\n",
    "    var pivotRow = 0;\n",
    "    var pivotCol = 0;\n",
    "\n",
    "    var range = (int minInc, int maxEx) => Enumerable.Range(minInc, maxEx - minInc);\n",
    "\n",
    "    void swapRows(int i, int j)\n",
    "    {\n",
    "        var tmp = matrix[i];\n",
    "        matrix[i] = matrix[j];\n",
    "        matrix[j] = tmp;\n",
    "    }\n",
    "\n",
    "    decimal[] scale(int row, decimal scale) => matrix[row].Select(col => col * scale).ToArray();\n",
    "\n",
    "    void add(int row, decimal[] otherRow)\n",
    "    {\n",
    "        matrix[row] = matrix[row].Zip(otherRow, (a, b) => a + b).ToArray();\n",
    "    }\n",
    "\n",
    "    while (pivotRow < rows && pivotCol < cols)\n",
    "    {\n",
    "        var rowMax = range(pivotRow, rows).OrderByDescending(i => Math.Abs(matrix[i][pivotCol])).First();\n",
    "\n",
    "        if (matrix[rowMax][pivotCol] == 0)\n",
    "        {\n",
    "            pivotRow++;\n",
    "        }\n",
    "        else\n",
    "        {\n",
    "            swapRows(pivotRow, rowMax);\n",
    "\n",
    "            // Now that we have our pivot row / colum. We can zero-out the pivot\n",
    "            // column for all rows below the pivot row\n",
    "            foreach (var rowBelow in range(pivotRow + 1, rows))\n",
    "            {\n",
    "                var ratio = matrix[rowBelow][pivotCol] / matrix[pivotRow][pivotCol];\n",
    "                add(row: rowBelow, scale(pivotRow, -ratio));\n",
    "                // Mitigation for precision issues\n",
    "                matrix[rowBelow][pivotCol] = 0;\n",
    "            }\n",
    "\n",
    "            pivotRow++;\n",
    "            pivotCol++;\n",
    "        }\n",
    "    }\n",
    "\n",
    "    // We are now in row-echelon form. Now to reduce...\n",
    "\n",
    "    // Note that due to small losses of precision during the reduction stage,\n",
    "    // values for zero and one can be slightly off, eg zero is\n",
    "    // 0.0000000000000000000000000001. Mitigations have been added below.\n",
    "\n",
    "    foreach (var row in range(0, rows))\n",
    "    {\n",
    "        var pivot = Array.FindIndex(matrix[row], col => Math.Abs(col) > 0.01m);\n",
    "        if (pivot != -1)\n",
    "        {\n",
    "            matrix[row] = scale(row, 1m / matrix[row][pivot]);\n",
    "            // Mitigation for precision issues\n",
    "            matrix[row][pivot] = 1;\n",
    "\n",
    "            foreach (var aboveRow in range(0, row))\n",
    "            {\n",
    "                add(aboveRow, scale(row, -matrix[aboveRow][pivot]));\n",
    "                // Mitigation for precision issues\n",
    "                matrix[aboveRow][pivot] = 0;\n",
    "            }\n",
    "        }\n",
    "    }\n",
    "}\n",
    "\n",
    "void Render(decimal[][] matrix)\n",
    "{\n",
    "    foreach (var row in matrix)\n",
    "    {\n",
    "        // var rowNums = string.Join(\" \", row.Select(col => col.ToString(\"0.##\", CurrentCulture)));\n",
    "        var rowNums = string.Join(\" \", row);        \n",
    "        Console.WriteLine($\"| {rowNums} |\");\n",
    "    }\n",
    "    Console.WriteLine();\n",
    "}"
   ]
  },
  {
   "cell_type": "code",
   "execution_count": 20,
   "metadata": {
    "dotnet_interactive": {
     "language": "csharp"
    },
    "polyglot_notebook": {
     "kernelName": "csharp"
    },
    "vscode": {
     "languageId": "polyglot-notebook"
    }
   },
   "outputs": [],
   "source": [
    "// Tests\n",
    "\n",
    "if (RUN_TESTS) \n",
    "{\n",
    "    decimal[][] gaussianTestInput = [\n",
    "        [2, 1, -1, 8],\n",
    "        [-3, -1, 2, -11],\n",
    "        [-2, 1, 2, -3]\n",
    "    ];\n",
    "\n",
    "    Render(gaussianTestInput);\n",
    "\n",
    "    GaussianElim(gaussianTestInput);\n",
    "\n",
    "    Render(gaussianTestInput);\n",
    "}"
   ]
  },
  {
   "cell_type": "code",
   "execution_count": 21,
   "metadata": {
    "dotnet_interactive": {
     "language": "csharp"
    },
    "polyglot_notebook": {
     "kernelName": "csharp"
    },
    "vscode": {
     "languageId": "polyglot-notebook"
    }
   },
   "outputs": [],
   "source": [
    "// Not 100% tested, but hopefully this allows long-running calculations to be\n",
    "// stopped without having to restart\n",
    "\n",
    "/// <summary>\n",
    "/// Check whether the cancel button has been pressed in the notebook UI. \n",
    "/// </summary>\n",
    "static bool TaskCancelled => Microsoft.DotNet.Interactive.KernelInvocationContext.Current.CancellationToken.IsCancellationRequested;"
   ]
  },
  {
   "cell_type": "code",
   "execution_count": 22,
   "metadata": {
    "vscode": {
     "languageId": "polyglot-notebook"
    }
   },
   "outputs": [],
   "source": [
    "/// <summary>\n",
    "/// Used in <see>ShortestPath. For a given node + lowest cost, return updated costs for neighbouring nodes</see>\n",
    "/// </summary> \n",
    "delegate IEnumerable<(T node, TCost cost)> NextNodeFunc<T, TCost>(T node, TCost cost);\n",
    "\n",
    "/// <summary>\n",
    "/// Dijkstra's shortest path algorithm\n",
    "/// </summary>\n",
    "/// <param name=\"start\">Node from which to start (assume 0 cost)</param>\n",
    "/// <param name=\"nextNodeFunc\">For a given node, return reachable nodes + costs</param>\n",
    "IEnumerable<(T node, TCost cost)> ShortestPath<T, TCost>(T start, NextNodeFunc<T, TCost> nextNodeFunc)\n",
    "{\n",
    "    PriorityQueue<T, TCost> queue = new(); \n",
    "    HashSet<T> visited = new();\n",
    "\n",
    "    queue.Enqueue(start, default);\n",
    "    while (queue.TryDequeue(out var node, out var cost))\n",
    "    {\n",
    "        if (visited.Contains(node))\n",
    "        {\n",
    "            // Already processed (at lowest cost)\n",
    "            continue;\n",
    "        }\n",
    "\n",
    "        yield return ((node, cost));\n",
    "        \n",
    "        visited.Add(node);\n",
    "\n",
    "        foreach (var (nextNode, nextCost) in nextNodeFunc(node, cost))\n",
    "        {\n",
    "            queue.Enqueue(nextNode, nextCost);\n",
    "        }\n",
    "    }\n",
    "}\n",
    "\n",
    "const int MAX_COST = int.MaxValue;"
   ]
  },
  {
   "cell_type": "code",
   "execution_count": 23,
   "metadata": {
    "vscode": {
     "languageId": "polyglot-notebook"
    }
   },
   "outputs": [],
   "source": [
    "// Utils to parse numbers (or other regexes) from string inputs\n",
    "\n",
    "/// <summary>\n",
    "/// Parse all matches of a regex (eg: all numbers)\n",
    "/// </summary>\n",
    "static IEnumerable<string> ParseAll(this IEnumerable<string> lines, string regex) \n",
    "{\n",
    "    var q = from line in lines\n",
    "            from match in Regex.Matches(line, regex)\n",
    "            select match.ToString();\n",
    "    return q;\n",
    "}\n",
    "\n",
    "/// <summary>\n",
    "/// Parse all matches of a regex (eg: all numbers)\n",
    "/// </summary>\n",
    "static IEnumerable<string> ParseAll(this string line, string regex) => ParseAll([line], regex);"
   ]
  }
 ],
 "metadata": {
  "kernelspec": {
   "display_name": ".NET (C#)",
   "language": "C#",
   "name": ".net-csharp"
  },
  "language_info": {
   "name": "python"
  },
  "polyglot_notebook": {
   "kernelInfo": {
    "defaultKernelName": "csharp",
    "items": [
     {
      "aliases": [],
      "name": "csharp"
     }
    ]
   }
  }
 },
 "nbformat": 4,
 "nbformat_minor": 2
}
