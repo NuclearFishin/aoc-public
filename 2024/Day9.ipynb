{
  "cells": [
    {
      "cell_type": "markdown",
      "metadata": {
        "dotnet_interactive": {
          "language": "csharp"
        },
        "polyglot_notebook": {
          "kernelName": "csharp"
        },
        "vscode": {
          "languageId": "polyglot-notebook"
        }
      },
      "source": [
        "### --- Day 9: Disk Fragmenter ---\n",
        "\n",
        "Puzzle description redacted as-per Advent of Code guidelines\n",
        "\n",
        "You may find the puzzle description at: https://adventofcode.com/2024/day/9"
      ]
    },
    {
      "cell_type": "code",
      "execution_count": 2,
      "metadata": {
        "dotnet_interactive": {
          "language": "csharp"
        },
        "polyglot_notebook": {
          "kernelName": "csharp"
        },
        "vscode": {
          "languageId": "polyglot-notebook"
        }
      },
      "outputs": [],
      "source": [
        "#!import ../Utils.ipynb"
      ]
    },
    {
      "cell_type": "code",
      "execution_count": 3,
      "metadata": {
        "dotnet_interactive": {
          "language": "csharp"
        },
        "polyglot_notebook": {
          "kernelName": "csharp"
        },
        "vscode": {
          "languageId": "polyglot-notebook"
        }
      },
      "outputs": [
        {
          "name": "stdout",
          "output_type": "stream",
          "text": [
            "Loading puzzle file: Day9.txt\n",
            "Total lines: 1\n",
            "Max line length: 19999\n",
            "\n",
            "37177921644951938277999269384375694569563018897314838836721412555971912060537033\n"
          ]
        }
      ],
      "source": [
        "var inputLines = LoadPuzzleInput(2024, 9);\n",
        "WriteLines(inputLines, maxCols: 80);"
      ]
    },
    {
      "cell_type": "code",
      "execution_count": 4,
      "metadata": {
        "dotnet_interactive": {
          "language": "csharp"
        },
        "polyglot_notebook": {
          "kernelName": "csharp"
        },
        "vscode": {
          "languageId": "polyglot-notebook"
        }
      },
      "outputs": [],
      "source": [
        "var inputLine = inputLines[0];"
      ]
    },
    {
      "cell_type": "code",
      "execution_count": 5,
      "metadata": {
        "vscode": {
          "languageId": "polyglot-notebook"
        }
      },
      "outputs": [],
      "source": [
        "var testInputLine = \u00222333133121414131402\u0022;"
      ]
    },
    {
      "cell_type": "markdown",
      "metadata": {},
      "source": [
        "Whoa, that puzzle input looks like it could render into an impossibly huge buffer! Let\u0027s see exactly how big it would be..."
      ]
    },
    {
      "cell_type": "code",
      "execution_count": 6,
      "metadata": {
        "vscode": {
          "languageId": "polyglot-notebook"
        }
      },
      "outputs": [
        {
          "name": "stdout",
          "output_type": "stream",
          "text": [
            "42\n",
            "95186\n"
          ]
        }
      ],
      "source": [
        "int CalcBufferSize(string inputLine) =\u003E inputLine.ToCharArray().Select(CharToDigit).Sum();\n",
        "\n",
        "Console.WriteLine(CalcBufferSize(testInputLine));\n",
        "Console.WriteLine(CalcBufferSize(inputLine));"
      ]
    },
    {
      "cell_type": "markdown",
      "metadata": {},
      "source": [
        "Ok, 95K is not too bad. I think the simplest approach will be to maintain pointers at each end of a buffer, and move items from the end to the start until the pointers cross over."
      ]
    },
    {
      "cell_type": "code",
      "execution_count": 7,
      "metadata": {
        "dotnet_interactive": {
          "language": "csharp"
        },
        "polyglot_notebook": {
          "kernelName": "csharp"
        },
        "vscode": {
          "languageId": "polyglot-notebook"
        }
      },
      "outputs": [],
      "source": [
        "long DefragAndChecksum(string inputLine)\n",
        "{\n",
        "    var buffer = CreateBuffer(inputLine);\n",
        "    Defrag(buffer);\n",
        "    return CalculateChecksum(buffer);\n",
        "}\n",
        "\n",
        "// Use 0 to represent empty. This creates a slight problem as the file IDs also\n",
        "// start at 0. But we\u0027ll mitigate that by starting the file IDs at 1 and correcting\n",
        "// them during the checksum\n",
        "const int EMPTY = 0;\n",
        "\n",
        "int[] CreateBuffer(string inputLine)\n",
        "{\n",
        "    var bufferSize = CalcBufferSize(inputLine);\n",
        "    var buffer = new int[bufferSize];\n",
        "\n",
        "    var inputInts = inputLine.ToCharArray().Select(CharToDigit);\n",
        "\n",
        "    var fileId = 1;\n",
        "    var pointer = 0;\n",
        "\n",
        "    void writeFile(int length)\n",
        "    {\n",
        "        foreach (var i in Enumerable.Range(0, length))\n",
        "        {\n",
        "            buffer[pointer\u002B\u002B] = fileId;\n",
        "        }\n",
        "        fileId\u002B\u002B;\n",
        "    }\n",
        "\n",
        "    foreach (var (index, length) in inputInts.Index())\n",
        "    {\n",
        "        if (index % 2 == 0)\n",
        "        {\n",
        "            writeFile(length);\n",
        "        }\n",
        "        else\n",
        "        {\n",
        "            // Empty space, already 0\n",
        "            pointer \u002B= length;\n",
        "        }\n",
        "    }\n",
        "\n",
        "    return buffer;\n",
        "}\n",
        "\n",
        "void Defrag(int[] fileBuffer)\n",
        "{\n",
        "    int rightPointer = fileBuffer.Length - 1;\n",
        "    int leftPointer = 0;\n",
        "\n",
        "    SafetyLimit safetyLimit = new();\n",
        "\n",
        "    while (true)\n",
        "    {\n",
        "        safetyLimit.EnsureBelow(50_000);\n",
        "\n",
        "        while (fileBuffer[rightPointer] == EMPTY)\n",
        "        {\n",
        "            rightPointer--;\n",
        "        }\n",
        "        while (fileBuffer[leftPointer] != EMPTY)\n",
        "        {\n",
        "            leftPointer\u002B\u002B;\n",
        "        }\n",
        "\n",
        "        if (leftPointer \u003E= rightPointer)\n",
        "        {\n",
        "            return;\n",
        "        }\n",
        "\n",
        "        // Swap\n",
        "        fileBuffer[leftPointer] = fileBuffer[rightPointer];\n",
        "        fileBuffer[rightPointer] = EMPTY;\n",
        "    }\n",
        "}\n",
        "\n",
        "long CalculateChecksum(int[] fileBuffer) =\u003E fileBuffer.Where(i =\u003E i != EMPTY).Select((item, i) =\u003E i * (long)(item - 1)).Sum();"
      ]
    },
    {
      "cell_type": "code",
      "execution_count": 8,
      "metadata": {
        "vscode": {
          "languageId": "polyglot-notebook"
        }
      },
      "outputs": [
        {
          "name": "stdout",
          "output_type": "stream",
          "text": [
            "1928\n"
          ]
        }
      ],
      "source": [
        "// ...In this example, the checksum is the sum of these, 1928.\n",
        "\n",
        "var testAnswer = DefragAndChecksum(testInputLine);\n",
        "Console.WriteLine(testAnswer);"
      ]
    },
    {
      "cell_type": "code",
      "execution_count": 9,
      "metadata": {
        "vscode": {
          "languageId": "polyglot-notebook"
        }
      },
      "outputs": [
        {
          "name": "stdout",
          "output_type": "stream",
          "text": [
            "6421128769094\n"
          ]
        }
      ],
      "source": [
        "var part1Answer = DefragAndChecksum(inputLine);\n",
        "Console.WriteLine(part1Answer);"
      ]
    },
    {
      "cell_type": "code",
      "execution_count": 10,
      "metadata": {
        "vscode": {
          "languageId": "polyglot-notebook"
        }
      },
      "outputs": [],
      "source": [
        "// 6421128769094 is correct!\n",
        "Ensure(6421128769094, part1Answer);"
      ]
    }
  ],
  "metadata": {
    "kernelspec": {
      "display_name": ".NET (C#)",
      "language": "C#",
      "name": ".net-csharp"
    },
    "language_info": {
      "name": "python"
    },
    "polyglot_notebook": {
      "kernelInfo": {
        "defaultKernelName": "csharp",
        "items": [
          {
            "aliases": [],
            "name": "csharp"
          }
        ]
      }
    }
  },
  "nbformat": 4,
  "nbformat_minor": 2
}