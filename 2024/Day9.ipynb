{
  "cells": [
    {
      "cell_type": "markdown",
      "metadata": {
        "dotnet_interactive": {
          "language": "csharp"
        },
        "polyglot_notebook": {
          "kernelName": "csharp"
        },
        "vscode": {
          "languageId": "polyglot-notebook"
        }
      },
      "source": [
        "### --- Day 9: Disk Fragmenter ---\n",
        "\n",
        "Puzzle description redacted as-per Advent of Code guidelines\n",
        "\n",
        "You may find the puzzle description at: https://adventofcode.com/2024/day/9"
      ]
    },
    {
      "cell_type": "code",
      "execution_count": 2,
      "metadata": {
        "dotnet_interactive": {
          "language": "csharp"
        },
        "polyglot_notebook": {
          "kernelName": "csharp"
        },
        "vscode": {
          "languageId": "polyglot-notebook"
        }
      },
      "outputs": [],
      "source": [
        "#!import ../Utils.ipynb"
      ]
    },
    {
      "cell_type": "code",
      "execution_count": 3,
      "metadata": {
        "dotnet_interactive": {
          "language": "csharp"
        },
        "polyglot_notebook": {
          "kernelName": "csharp"
        },
        "vscode": {
          "languageId": "polyglot-notebook"
        }
      },
      "outputs": [
        {
          "name": "stdout",
          "output_type": "stream",
          "text": [
            "Loading puzzle file: Day9.txt\n",
            "Total lines: 1\n",
            "Max line length: 19999\n",
            "\n",
            "37177921644951938277999269384375694569563018897314838836721412555971912060537033\n"
          ]
        }
      ],
      "source": [
        "var inputLines = LoadPuzzleInput(2024, 9);\n",
        "WriteLines(inputLines, maxCols: 80);"
      ]
    },
    {
      "cell_type": "code",
      "execution_count": 4,
      "metadata": {
        "dotnet_interactive": {
          "language": "csharp"
        },
        "polyglot_notebook": {
          "kernelName": "csharp"
        },
        "vscode": {
          "languageId": "polyglot-notebook"
        }
      },
      "outputs": [],
      "source": [
        "var inputLine = inputLines[0];"
      ]
    },
    {
      "cell_type": "code",
      "execution_count": 5,
      "metadata": {
        "dotnet_interactive": {
          "language": "csharp"
        },
        "polyglot_notebook": {
          "kernelName": "csharp"
        },
        "vscode": {
          "languageId": "polyglot-notebook"
        }
      },
      "outputs": [],
      "source": [
        "var testInputLine = \u00222333133121414131402\u0022;"
      ]
    },
    {
      "cell_type": "markdown",
      "metadata": {},
      "source": [
        "Whoa, that puzzle input looks like it could render into an impossibly huge buffer! Let\u0027s see exactly how big it would be..."
      ]
    },
    {
      "cell_type": "code",
      "execution_count": 6,
      "metadata": {
        "dotnet_interactive": {
          "language": "csharp"
        },
        "polyglot_notebook": {
          "kernelName": "csharp"
        },
        "vscode": {
          "languageId": "polyglot-notebook"
        }
      },
      "outputs": [
        {
          "name": "stdout",
          "output_type": "stream",
          "text": [
            "42\n",
            "95186\n"
          ]
        }
      ],
      "source": [
        "int CalcBufferSize(string inputLine) =\u003E inputLine.ToCharArray().Select(ToInt).Sum();\n",
        "\n",
        "Console.WriteLine(CalcBufferSize(testInputLine));\n",
        "Console.WriteLine(CalcBufferSize(inputLine));"
      ]
    },
    {
      "cell_type": "markdown",
      "metadata": {},
      "source": [
        "Ok, 95K is not too bad. I think the simplest approach will be to maintain pointers at each end of a buffer, and move items from the end to the start until the pointers cross over."
      ]
    },
    {
      "cell_type": "code",
      "execution_count": 7,
      "metadata": {
        "dotnet_interactive": {
          "language": "csharp"
        },
        "polyglot_notebook": {
          "kernelName": "csharp"
        },
        "vscode": {
          "languageId": "polyglot-notebook"
        }
      },
      "outputs": [],
      "source": [
        "long DefragAndChecksum(string inputLine)\n",
        "{\n",
        "    var buffer = CreateBuffer(inputLine);\n",
        "    Defrag(buffer);\n",
        "    return CalculateChecksum(buffer);\n",
        "}\n",
        "\n",
        "// Use 0 to represent empty. This creates a slight problem as the file IDs also\n",
        "// start at 0. But we\u0027ll mitigate that by starting the file IDs at 1 and correcting\n",
        "// them during the checksum\n",
        "const int EMPTY = 0;\n",
        "\n",
        "int[] CreateBuffer(string inputLine)\n",
        "{\n",
        "    var bufferSize = CalcBufferSize(inputLine);\n",
        "    var buffer = new int[bufferSize];\n",
        "\n",
        "    var inputInts = inputLine.ToCharArray().Select(ToInt);\n",
        "\n",
        "    var fileId = 1;\n",
        "    var pointer = 0;\n",
        "\n",
        "    void writeFile(int length)\n",
        "    {\n",
        "        foreach (var i in Enumerable.Range(0, length))\n",
        "        {\n",
        "            buffer[pointer\u002B\u002B] = fileId;\n",
        "        }\n",
        "        fileId\u002B\u002B;\n",
        "    }\n",
        "\n",
        "    foreach (var (index, length) in inputInts.Index())\n",
        "    {\n",
        "        if (index % 2 == 0)\n",
        "        {\n",
        "            writeFile(length);\n",
        "        }\n",
        "        else\n",
        "        {\n",
        "            // Empty space, already 0\n",
        "            pointer \u002B= length;\n",
        "        }\n",
        "    }\n",
        "\n",
        "    return buffer;\n",
        "}\n",
        "\n",
        "void Defrag(int[] fileBuffer)\n",
        "{\n",
        "    int rightPointer = fileBuffer.Length - 1;\n",
        "    int leftPointer = 0;\n",
        "\n",
        "    SafetyLimit safetyLimit = new();\n",
        "\n",
        "    while (true)\n",
        "    {\n",
        "        safetyLimit.EnsureBelow(50_000);\n",
        "\n",
        "        while (fileBuffer[rightPointer] == EMPTY)\n",
        "        {\n",
        "            rightPointer--;\n",
        "        }\n",
        "        while (fileBuffer[leftPointer] != EMPTY)\n",
        "        {\n",
        "            leftPointer\u002B\u002B;\n",
        "        }\n",
        "\n",
        "        if (leftPointer \u003E= rightPointer)\n",
        "        {\n",
        "            return;\n",
        "        }\n",
        "\n",
        "        // Swap\n",
        "        fileBuffer[leftPointer] = fileBuffer[rightPointer];\n",
        "        fileBuffer[rightPointer] = EMPTY;\n",
        "    }\n",
        "}\n",
        "\n",
        "long CalculateChecksum(int[] fileBuffer) =\u003E fileBuffer.Where(i =\u003E i != EMPTY).Select((item, i) =\u003E i * (long)(item - 1)).Sum();"
      ]
    },
    {
      "cell_type": "code",
      "execution_count": 8,
      "metadata": {
        "dotnet_interactive": {
          "language": "csharp"
        },
        "polyglot_notebook": {
          "kernelName": "csharp"
        },
        "vscode": {
          "languageId": "polyglot-notebook"
        }
      },
      "outputs": [
        {
          "name": "stdout",
          "output_type": "stream",
          "text": [
            "1928\n"
          ]
        }
      ],
      "source": [
        "// ...In this example, the checksum is the sum of these, 1928.\n",
        "\n",
        "var testAnswer = DefragAndChecksum(testInputLine);\n",
        "Console.WriteLine(testAnswer);"
      ]
    },
    {
      "cell_type": "code",
      "execution_count": 9,
      "metadata": {
        "dotnet_interactive": {
          "language": "csharp"
        },
        "polyglot_notebook": {
          "kernelName": "csharp"
        },
        "vscode": {
          "languageId": "polyglot-notebook"
        }
      },
      "outputs": [
        {
          "name": "stdout",
          "output_type": "stream",
          "text": [
            "6421128769094\n"
          ]
        }
      ],
      "source": [
        "// Compact the amphipod\u0027s hard drive using the process he requested. What is the\n",
        "// resulting filesystem checksum? (Be careful copy/pasting the input for this\n",
        "// puzzle; it is a single, very long line.)\n",
        "\n",
        "var part1Answer = DefragAndChecksum(inputLine);\n",
        "Console.WriteLine(part1Answer);"
      ]
    },
    {
      "cell_type": "code",
      "execution_count": 10,
      "metadata": {
        "dotnet_interactive": {
          "language": "csharp"
        },
        "polyglot_notebook": {
          "kernelName": "csharp"
        },
        "vscode": {
          "languageId": "polyglot-notebook"
        }
      },
      "outputs": [],
      "source": [
        "// 6421128769094 is correct!\n",
        "Ensure(6421128769094, part1Answer);"
      ]
    },
    {
      "cell_type": "markdown",
      "metadata": {
        "dotnet_interactive": {
          "language": "csharp"
        },
        "polyglot_notebook": {
          "kernelName": "csharp"
        },
        "vscode": {
          "languageId": "polyglot-notebook"
        }
      },
      "source": [
        "### --- Part Two ---\n",
        "\n",
        "Puzzle description redacted as-per Advent of Code guidelines\n",
        "\n",
        "You may find the puzzle description at: https://adventofcode.com/2024/day/9"
      ]
    },
    {
      "cell_type": "markdown",
      "metadata": {},
      "source": [
        "Ok, I think for this part we\u0027ll have to switch to linked lists, so we can keep the blocks grouped together"
      ]
    },
    {
      "cell_type": "code",
      "execution_count": 12,
      "metadata": {
        "dotnet_interactive": {
          "language": "csharp"
        },
        "polyglot_notebook": {
          "kernelName": "csharp"
        },
        "vscode": {
          "languageId": "polyglot-notebook"
        }
      },
      "outputs": [],
      "source": [
        "abstract record DiskElement(int Length) \n",
        "{\n",
        "    public abstract string ToRenderString();\n",
        "}\n",
        "\n",
        "record FreeSpace(int Length) : DiskElement(Length)\n",
        "{\n",
        "    public override string ToRenderString() =\u003E new string(Enumerable.Range(0, Length).Select(_ =\u003E \u0027.\u0027).ToArray());\n",
        "}\n",
        "\n",
        "record File(int Length, int FileId) : DiskElement(Length)\n",
        "{\n",
        "    public override string ToRenderString() =\u003E string.Join(\u0022\u0022, Enumerable.Range(0, Length).Select(_ =\u003E FileId.ToString()));\n",
        "}"
      ]
    },
    {
      "cell_type": "code",
      "execution_count": 13,
      "metadata": {
        "dotnet_interactive": {
          "language": "csharp"
        },
        "polyglot_notebook": {
          "kernelName": "csharp"
        },
        "vscode": {
          "languageId": "polyglot-notebook"
        }
      },
      "outputs": [
        {
          "name": "stdout",
          "output_type": "stream",
          "text": [
            "00...111...2...333.44.5555.6666.777.888899\n"
          ]
        }
      ],
      "source": [
        "using Disk = SCG.LinkedList\u003CDiskElement\u003E;\n",
        "using ElementNode = SCG.LinkedListNode\u003CDiskElement\u003E;\n",
        "using FreeNode = SCG.LinkedListNode\u003CFreeSpace\u003E;\n",
        "using FileNode = SCG.LinkedListNode\u003CFile\u003E;\n",
        "\n",
        "Disk CreateDisk(string inputLine)\n",
        "{\n",
        "    var digits = inputLine.Select(ToInt);\n",
        "\n",
        "    Disk result = new();\n",
        "\n",
        "    int fileId = 0;\n",
        "    foreach (var (index, length) in digits.Index())\n",
        "    {\n",
        "        DiskElement elem = index switch {\n",
        "            var x when x % 2 == 0 =\u003E new File(length, fileId\u002B\u002B),\n",
        "            _ =\u003E new FreeSpace(length)\n",
        "        };\n",
        "        result.AddLast(elem);\n",
        "    }\n",
        "\n",
        "    return result;\n",
        "}\n",
        "\n",
        "string Render(Disk disk) =\u003E string.Join(\u0022\u0022, disk.Select(elem =\u003E elem.ToRenderString()));\n",
        "\n",
        "// Test\n",
        "\n",
        "void TestCreateDisk(string inputLine)\n",
        "{\n",
        "    var disk = CreateDisk(inputLine);\n",
        "    var testRender = Render(disk);\n",
        "    Console.WriteLine(testRender);\n",
        "    Ensure(\u002200...111...2...333.44.5555.6666.777.888899\u0022, testRender);\n",
        "}\n",
        "TestCreateDisk(testInputLine);"
      ]
    },
    {
      "cell_type": "markdown",
      "metadata": {},
      "source": [
        "Ok, within our \u0060Disk\u0060 linked list, we have all the files and free space linked together, in order.\n",
        "\n",
        "To defrag, pick file nodes off the end of the list, then search forwards from the start of the list until we find a free space node big enough to fit the file. Potentially this could be made more efficient by using some kind of free-list, which groups the free spaces by size, so we don\u0027t search the entire list from scratch every time, but hopefully this basic algorithm is fast enough for the given input.\n",
        "\n",
        "Once we have found our free space in which to insert, we insert the file before the free space node, then truncate the length of the free space node, or delete it if the file fits exactly."
      ]
    },
    {
      "cell_type": "code",
      "execution_count": 14,
      "metadata": {
        "dotnet_interactive": {
          "language": "csharp"
        },
        "polyglot_notebook": {
          "kernelName": "csharp"
        },
        "vscode": {
          "languageId": "polyglot-notebook"
        }
      },
      "outputs": [
        {
          "name": "stdout",
          "output_type": "stream",
          "text": [
            "00992111777.44.333....5555.6666.....8888..\n"
          ]
        }
      ],
      "source": [
        "void Defrag2(Disk disk)\n",
        "{\n",
        "    var filesToMove = disk.WalkNodes().Where(n =\u003E n.Value is File).Reverse().ToList();\n",
        "\n",
        "    foreach (var fileToMove in filesToMove)\n",
        "    {\n",
        "        var freeSpaceNode = disk.WalkNodes()\n",
        "            .TakeWhile(n =\u003E n != fileToMove)\n",
        "            .Where(n =\u003E n.Value is FreeSpace fs \u0026\u0026 fs.Length \u003E= fileToMove.Value.Length)\n",
        "            .FirstOrDefault();\n",
        "        if (freeSpaceNode is null)\n",
        "        {\n",
        "            continue;\n",
        "        }\n",
        "\n",
        "        // Put some free space where the file used to be\n",
        "        disk.AddAfter(fileToMove, new FreeSpace(fileToMove.Value.Length));\n",
        "        disk.Remove(fileToMove);\n",
        "\n",
        "        // Move the file ahead of the free space node\n",
        "        disk.AddBefore(freeSpaceNode, fileToMove);\n",
        "        var remainLength = freeSpaceNode.Value.Length - fileToMove.Value.Length;\n",
        "        // Truncate or delete the free space\n",
        "        if (remainLength \u003E 0) {\n",
        "            freeSpaceNode.Value = new FreeSpace(remainLength);\n",
        "        } else {\n",
        "            disk.Remove(freeSpaceNode);\n",
        "        }\n",
        "    }\n",
        "}\n",
        "\n",
        "// Test\n",
        "\n",
        "void TestDefrag2(string inputLine)\n",
        "{\n",
        "    var disk = CreateDisk(inputLine);\n",
        "    Defrag2(disk);\n",
        "    var testRender = Render(disk);\n",
        "    Console.WriteLine(testRender);\n",
        "    Ensure(\u002200992111777.44.333....5555.6666.....8888..\u0022, testRender);\n",
        "}\n",
        "TestDefrag2(testInputLine);"
      ]
    },
    {
      "cell_type": "code",
      "execution_count": 15,
      "metadata": {
        "dotnet_interactive": {
          "language": "csharp"
        },
        "polyglot_notebook": {
          "kernelName": "csharp"
        },
        "vscode": {
          "languageId": "polyglot-notebook"
        }
      },
      "outputs": [],
      "source": [
        "long CalculateChecksum2(Disk d)\n",
        "{\n",
        "    long sum = 0;\n",
        "\n",
        "    int i = 0;\n",
        "    foreach (var node in d.WalkNodes())\n",
        "    {\n",
        "        if (node.Value is File f)\n",
        "        {\n",
        "            sum \u002B= Enumerable.Range(i, f.Length).Select(j =\u003E (long)j * f.FileId).Sum();\n",
        "        }\n",
        "        i \u002B= node.Value.Length;\n",
        "    }\n",
        "\n",
        "    return sum;\n",
        "}"
      ]
    },
    {
      "cell_type": "code",
      "execution_count": 16,
      "metadata": {
        "dotnet_interactive": {
          "language": "csharp"
        },
        "polyglot_notebook": {
          "kernelName": "csharp"
        },
        "vscode": {
          "languageId": "polyglot-notebook"
        }
      },
      "outputs": [],
      "source": [
        "// Put it all together\n",
        "\n",
        "long DefragAndChecksum2(string inputLine)\n",
        "{\n",
        "    var disk = CreateDisk(inputLine);\n",
        "    Defrag2(disk);\n",
        "    return CalculateChecksum2(disk);\n",
        "}"
      ]
    },
    {
      "cell_type": "code",
      "execution_count": 17,
      "metadata": {
        "dotnet_interactive": {
          "language": "csharp"
        },
        "polyglot_notebook": {
          "kernelName": "csharp"
        },
        "vscode": {
          "languageId": "polyglot-notebook"
        }
      },
      "outputs": [
        {
          "name": "stdout",
          "output_type": "stream",
          "text": [
            "2858\n"
          ]
        }
      ],
      "source": [
        "// The process of updating the filesystem checksum is the same; now, this\n",
        "// example\u0027s checksum would be 2858.\n",
        "\n",
        "var part2TestAnswer = DefragAndChecksum2(testInputLine);\n",
        "Console.WriteLine(part2TestAnswer);"
      ]
    },
    {
      "cell_type": "code",
      "execution_count": 18,
      "metadata": {
        "dotnet_interactive": {
          "language": "csharp"
        },
        "polyglot_notebook": {
          "kernelName": "csharp"
        },
        "vscode": {
          "languageId": "polyglot-notebook"
        }
      },
      "outputs": [
        {
          "name": "stdout",
          "output_type": "stream",
          "text": [
            "6448168620520\n"
          ]
        }
      ],
      "source": [
        "// Start over, now compacting the amphipod\u0027s hard drive using this new method\n",
        "// instead. What is the resulting filesystem checksum?\n",
        "\n",
        "var part2Answer = DefragAndChecksum2(inputLine);\n",
        "Console.WriteLine(part2Answer);"
      ]
    },
    {
      "cell_type": "code",
      "execution_count": 19,
      "metadata": {
        "dotnet_interactive": {
          "language": "csharp"
        },
        "polyglot_notebook": {
          "kernelName": "csharp"
        },
        "vscode": {
          "languageId": "polyglot-notebook"
        }
      },
      "outputs": [],
      "source": [
        "// 6448168620520 is correct!\n",
        "Ensure(6448168620520, part2Answer);"
      ]
    }
  ],
  "metadata": {
    "kernelspec": {
      "display_name": ".NET (C#)",
      "language": "C#",
      "name": ".net-csharp"
    },
    "language_info": {
      "name": "python"
    },
    "polyglot_notebook": {
      "kernelInfo": {
        "defaultKernelName": "csharp",
        "items": [
          {
            "aliases": [],
            "name": "csharp"
          }
        ]
      }
    }
  },
  "nbformat": 4,
  "nbformat_minor": 2
}