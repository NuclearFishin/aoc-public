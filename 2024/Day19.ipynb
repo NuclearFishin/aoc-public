{
  "cells": [
    {
      "cell_type": "markdown",
      "metadata": {
        "dotnet_interactive": {
          "language": "csharp"
        },
        "polyglot_notebook": {
          "kernelName": "csharp"
        },
        "vscode": {
          "languageId": "polyglot-notebook"
        }
      },
      "source": [
        "### --- Day 19: Linen Layout ---\n",
        "\n",
        "Puzzle description redacted as-per Advent of Code guidelines\n",
        "\n",
        "You may find the puzzle description at: https://adventofcode.com/2024/day/19"
      ]
    },
    {
      "cell_type": "code",
      "execution_count": 2,
      "metadata": {
        "dotnet_interactive": {
          "language": "csharp"
        },
        "polyglot_notebook": {
          "kernelName": "csharp"
        },
        "vscode": {
          "languageId": "polyglot-notebook"
        }
      },
      "outputs": [],
      "source": [
        "#!import ../Utils.ipynb"
      ]
    },
    {
      "cell_type": "code",
      "execution_count": 3,
      "metadata": {
        "dotnet_interactive": {
          "language": "csharp"
        },
        "polyglot_notebook": {
          "kernelName": "csharp"
        },
        "vscode": {
          "languageId": "polyglot-notebook"
        }
      },
      "outputs": [
        {
          "name": "stdout",
          "output_type": "stream",
          "text": [
            "Loading puzzle file: Day19.txt\n",
            "Total lines: 402\n",
            "Max line length: 2902\n",
            "\n",
            "brbwuur, bwuw, bbb, wbgu, gguw, ubuguw, rrw, brgr, uur, urguwruu, uubr, ru, uuw,\n",
            "\n",
            "buwugbgrgururgwrgrrugbwgrwurgbubrggruwugwgrwguuurwu\n",
            "bwbrurbwgurggbbwbrbwubrurrwrwwwruurbrrguuubg\n",
            "buubbubwwwgugwgwruwbrwbbgrrwwrurrbwgwbbrbugbbubbbwuwubrbg\n"
          ]
        }
      ],
      "source": [
        "var inputLines = LoadPuzzleInput(2024, 19);\n",
        "WriteLines(inputLines, maxCols: 80);"
      ]
    },
    {
      "cell_type": "code",
      "execution_count": 4,
      "metadata": {
        "dotnet_interactive": {
          "language": "csharp"
        },
        "polyglot_notebook": {
          "kernelName": "csharp"
        },
        "vscode": {
          "languageId": "polyglot-notebook"
        }
      },
      "outputs": [],
      "source": [
        "string[] testInputLines = [\n",
        "    \u0022r, wr, b, g, bwu, rb, gb, br\u0022,\n",
        "    \u0022\u0022,\n",
        "    \u0022brwrr\u0022,\n",
        "    \u0022bggr\u0022,\n",
        "    \u0022gbbr\u0022,\n",
        "    \u0022rrbgbr\u0022,\n",
        "    \u0022ubwu\u0022,\n",
        "    \u0022bwurrg\u0022,\n",
        "    \u0022brgr\u0022,\n",
        "    \u0022bbrgwb\u0022,\n",
        "];"
      ]
    },
    {
      "cell_type": "markdown",
      "metadata": {},
      "source": [
        "I reckon there is a more sophisticated and efficient approach to this (perhaps a trie??), but given the number of designs and patterns, the most basic approach to \u0022chomp\u0022 off bits of the string seems feasible. We\u0027ll start with that and investigate other solutions later."
      ]
    },
    {
      "cell_type": "code",
      "execution_count": 5,
      "metadata": {
        "dotnet_interactive": {
          "language": "csharp"
        },
        "polyglot_notebook": {
          "kernelName": "csharp"
        },
        "vscode": {
          "languageId": "polyglot-notebook"
        }
      },
      "outputs": [],
      "source": [
        "(string[] patterns, string[] designs) ParseLines(string[] inputLines)\n",
        "{\n",
        "    var (patternLine, designLines) = inputLines.SeparateBy(line =\u003E line is \u0022\u0022).ToArray();\n",
        "\n",
        "    var patterns = patternLine[0].Split(\u0022, \u0022).ToArray();\n",
        "    return (patterns, designLines);\n",
        "}"
      ]
    },
    {
      "cell_type": "markdown",
      "metadata": {
        "dotnet_interactive": {
          "language": "csharp"
        },
        "polyglot_notebook": {
          "kernelName": "csharp"
        },
        "vscode": {
          "languageId": "polyglot-notebook"
        }
      },
      "source": [
        "Retrospective note: my initial attempt used a queue instead of recursion. Surprisingly, this was much slower than the recursive approach! Approx 6 seconds to find the answer for part 1, compared to a few milliseconds.\n",
        "\n",
        "The reason appears to be the FIFO semantics of a queue. This means our code matches patterns in a \u0022wide\u0022 manner, whereas recursion matches \u0022deep\u0022. Given we only need a single match, this turns out to be much faster.\n",
        "\n",
        "Therefore I have replaced the queue with a stack. A stack gives us LIFO, deep-matching semantics, mirroring the recursive approach.\n"
      ]
    },
    {
      "cell_type": "code",
      "execution_count": 6,
      "metadata": {
        "vscode": {
          "languageId": "polyglot-notebook"
        }
      },
      "outputs": [],
      "source": [
        "bool CanMake(string[] patterns, string design)\n",
        "{\n",
        "    Stack\u003Cstring\u003E designs = new(); // see retrospective note!\n",
        "    designs.Push(design);\n",
        "\n",
        "    // Make sure we don\u0027t regenerate the same string out of different pattern\n",
        "    // combinations\n",
        "    HashSet\u003Cstring\u003E seen = new();\n",
        "\n",
        "    while (designs.TryPop(out var currentDesign))\n",
        "    {\n",
        "        seen.Add(currentDesign);\n",
        "\n",
        "        foreach (var pattern in patterns)\n",
        "        {\n",
        "            if (currentDesign.StartsWith(pattern))\n",
        "            {\n",
        "                var remainDesign = currentDesign.Substring(pattern.Length);\n",
        "                if (remainDesign is \u0022\u0022)\n",
        "                {\n",
        "                    return true;\n",
        "                }\n",
        "                \n",
        "                if (seen.Contains(remainDesign))\n",
        "                {\n",
        "                    // Already generated this sub-design out of different patterns\n",
        "                    continue;\n",
        "                }\n",
        "\n",
        "                designs.Push(remainDesign);\n",
        "            }\n",
        "        }\n",
        "    }\n",
        "\n",
        "    return false;\n",
        "}"
      ]
    },
    {
      "cell_type": "code",
      "execution_count": 7,
      "metadata": {
        "vscode": {
          "languageId": "polyglot-notebook"
        }
      },
      "outputs": [],
      "source": [
        "// The alternative recursive implementation (see retrospective note above)\n",
        "\n",
        "bool CanMakeRecursive(string[] patterns, string design) =\u003E design switch {\n",
        "    \u0022\u0022 =\u003E true,\n",
        "    _ =\u003E patterns.Where(pattern =\u003E design.StartsWith(pattern))\n",
        "                 .Any(pattern =\u003E CanMakeRecursive(patterns, design[pattern.Length..]))\n",
        "};"
      ]
    },
    {
      "cell_type": "code",
      "execution_count": 8,
      "metadata": {
        "dotnet_interactive": {
          "language": "csharp"
        },
        "polyglot_notebook": {
          "kernelName": "csharp"
        },
        "vscode": {
          "languageId": "polyglot-notebook"
        }
      },
      "outputs": [],
      "source": [
        "int CountMakeable(string[] inputLines)\n",
        "{\n",
        "    var (patterns, designs) = ParseLines(inputLines);\n",
        "    return designs.Where(design =\u003E CanMake(patterns, design)).Count();\n",
        "}"
      ]
    },
    {
      "cell_type": "code",
      "execution_count": 9,
      "metadata": {
        "dotnet_interactive": {
          "language": "csharp"
        },
        "polyglot_notebook": {
          "kernelName": "csharp"
        },
        "vscode": {
          "languageId": "polyglot-notebook"
        }
      },
      "outputs": [
        {
          "name": "stdout",
          "output_type": "stream",
          "text": [
            "6\n"
          ]
        }
      ],
      "source": [
        "// In this example, 6 of the eight designs are possible with the available towel patterns.\n",
        "\n",
        "var testAnswer = CountMakeable(testInputLines);\n",
        "Console.WriteLine(testAnswer);"
      ]
    },
    {
      "cell_type": "code",
      "execution_count": 10,
      "metadata": {
        "dotnet_interactive": {
          "language": "csharp"
        },
        "polyglot_notebook": {
          "kernelName": "csharp"
        },
        "vscode": {
          "languageId": "polyglot-notebook"
        }
      },
      "outputs": [
        {
          "name": "stdout",
          "output_type": "stream",
          "text": [
            "233\n"
          ]
        }
      ],
      "source": [
        "// To get into the onsen as soon as possible, consult your list of towel\n",
        "// patterns and desired designs carefully. How many designs are possible?\n",
        "\n",
        "var part1Answer = CountMakeable(inputLines);\n",
        "Console.WriteLine(part1Answer);"
      ]
    },
    {
      "cell_type": "code",
      "execution_count": 11,
      "metadata": {
        "dotnet_interactive": {
          "language": "csharp"
        },
        "polyglot_notebook": {
          "kernelName": "csharp"
        },
        "vscode": {
          "languageId": "polyglot-notebook"
        }
      },
      "outputs": [],
      "source": [
        "// 233 is correct!\n",
        "Ensure(233, part1Answer);"
      ]
    },
    {
      "cell_type": "markdown",
      "metadata": {
        "dotnet_interactive": {
          "language": "csharp"
        },
        "polyglot_notebook": {
          "kernelName": "csharp"
        },
        "vscode": {
          "languageId": "polyglot-notebook"
        }
      },
      "source": [
        "### --- Part Two ---\n",
        "\n",
        "Puzzle description redacted as-per Advent of Code guidelines\n",
        "\n",
        "You may find the puzzle description at: https://adventofcode.com/2024/day/19"
      ]
    },
    {
      "cell_type": "markdown",
      "metadata": {
        "vscode": {
          "languageId": "polyglot-notebook"
        }
      },
      "source": [
        "In summary, for part 2 we need to count all possible ways that the given patterns can make a particular design.\n",
        "\n",
        "I think we can achieve this with a dynamic programming approach. Starting at the end of the string...\n",
        "\n",
        "* There is 1 way to make \u0060r\u0060\n",
        "* There are 2 ways to make \u0060br\u0060:\n",
        "    * \u0060b\u0060 \u002B \u0060r\u0060\n",
        "    * \u0060br\u0060\n",
        "* There are 3 ways to make \u0060gbr\u0060\n",
        "    * \u0060g\u0060 \u002B \u0060br\u0060 (2 ways)\n",
        "    * \u0060gb\u0060 (1) * \u0060r\u0060 (1 way)\n",
        "\n",
        "Essentially, for a given character position \u0060i\u0060, the value for \u0060patterns(i) = sum(patterns(i \u002B b))\u0060, for each pattern of length \u0060b\u0060 that matches the substring starting at \u0060i\u0060."
      ]
    },
    {
      "cell_type": "code",
      "execution_count": 13,
      "metadata": {
        "vscode": {
          "languageId": "polyglot-notebook"
        }
      },
      "outputs": [],
      "source": [
        "// Our cache of known combos for a given substring.\n",
        "\n",
        "// Design substring =\u003E combo count.\n",
        "using CountCache = SCG.Dictionary\u003Cstring, long\u003E;"
      ]
    },
    {
      "cell_type": "code",
      "execution_count": 14,
      "metadata": {
        "dotnet_interactive": {
          "language": "csharp"
        },
        "polyglot_notebook": {
          "kernelName": "csharp"
        },
        "vscode": {
          "languageId": "polyglot-notebook"
        }
      },
      "outputs": [],
      "source": [
        "long CountPatternCombos(string[] patterns, string[] designs)\n",
        "{\n",
        "    CountCache countCache = new();\n",
        "\n",
        "    long CountOne(string[] patterns, string designSubstr)\n",
        "    {\n",
        "        var result = countCache.TryGetValue(designSubstr, out var cached) switch {\n",
        "            true =\u003E cached,\n",
        "            _ when designSubstr is \u0022\u0022 =\u003E 1,\n",
        "            _ =\u003E patterns.Where(sp =\u003E designSubstr.StartsWith(sp))\n",
        "                               .Sum(sp =\u003E CountOne(patterns, designSubstr[sp.Length..]))\n",
        "        };\n",
        "\n",
        "        countCache[designSubstr] = result;\n",
        "        return result;\n",
        "    }\n",
        "\n",
        "    return designs.Sum(design =\u003E CountOne(patterns, design));\n",
        "}"
      ]
    },
    {
      "cell_type": "code",
      "execution_count": 15,
      "metadata": {
        "vscode": {
          "languageId": "polyglot-notebook"
        }
      },
      "outputs": [],
      "source": [
        "long CountPatternCombos(string[] inputLines)\n",
        "{\n",
        "    var (patterns, designs) = ParseLines(inputLines);\n",
        "    return CountPatternCombos(patterns, designs);\n",
        "}"
      ]
    },
    {
      "cell_type": "code",
      "execution_count": 16,
      "metadata": {
        "vscode": {
          "languageId": "polyglot-notebook"
        }
      },
      "outputs": [
        {
          "name": "stdout",
          "output_type": "stream",
          "text": [
            "16\n"
          ]
        }
      ],
      "source": [
        "// Adding up all of the ways the towels in this example could be arranged into\n",
        "// the desired designs yields 16 (2 \u002B 1 \u002B 4 \u002B 6 \u002B 1 \u002B 2).\n",
        "\n",
        "var part2TestAnswer = CountPatternCombos(testInputLines);\n",
        "Console.WriteLine(part2TestAnswer);"
      ]
    },
    {
      "cell_type": "code",
      "execution_count": 17,
      "metadata": {
        "vscode": {
          "languageId": "polyglot-notebook"
        }
      },
      "outputs": [
        {
          "name": "stdout",
          "output_type": "stream",
          "text": [
            "691316989225259\n"
          ]
        }
      ],
      "source": [
        "// They\u0027ll let you into the onsen as soon as you have the list. What do you get\n",
        "// if you add up the number of different ways you could make each design?\n",
        "\n",
        "var part2Answer = CountPatternCombos(inputLines);\n",
        "Console.WriteLine(part2Answer);"
      ]
    },
    {
      "cell_type": "code",
      "execution_count": 18,
      "metadata": {
        "vscode": {
          "languageId": "polyglot-notebook"
        }
      },
      "outputs": [],
      "source": [
        "// 691316989225259 is correct!\n",
        "Ensure(691316989225259, part2Answer);"
      ]
    }
  ],
  "metadata": {
    "kernelspec": {
      "display_name": ".NET (C#)",
      "language": "C#",
      "name": ".net-csharp"
    },
    "language_info": {
      "name": "python"
    },
    "polyglot_notebook": {
      "kernelInfo": {
        "defaultKernelName": "csharp",
        "items": [
          {
            "aliases": [],
            "name": "csharp"
          }
        ]
      }
    }
  },
  "nbformat": 4,
  "nbformat_minor": 2
}