{
  "cells": [
    {
      "cell_type": "markdown",
      "metadata": {
        "dotnet_interactive": {
          "language": "csharp"
        },
        "polyglot_notebook": {
          "kernelName": "csharp"
        },
        "vscode": {
          "languageId": "polyglot-notebook"
        }
      },
      "source": [
        "### --- Day 19: Linen Layout ---\n",
        "\n",
        "Puzzle description redacted as-per Advent of Code guidelines\n",
        "\n",
        "You may find the puzzle description at: https://adventofcode.com/2024/day/19"
      ]
    },
    {
      "cell_type": "code",
      "execution_count": 2,
      "metadata": {
        "dotnet_interactive": {
          "language": "csharp"
        },
        "polyglot_notebook": {
          "kernelName": "csharp"
        },
        "vscode": {
          "languageId": "polyglot-notebook"
        }
      },
      "outputs": [],
      "source": [
        "#!import ../Utils.ipynb"
      ]
    },
    {
      "cell_type": "code",
      "execution_count": 3,
      "metadata": {
        "dotnet_interactive": {
          "language": "csharp"
        },
        "polyglot_notebook": {
          "kernelName": "csharp"
        },
        "vscode": {
          "languageId": "polyglot-notebook"
        }
      },
      "outputs": [
        {
          "name": "stdout",
          "output_type": "stream",
          "text": [
            "Loading puzzle file: Day19.txt\n",
            "Total lines: 402\n",
            "Max line length: 2902\n",
            "\n",
            "brbwuur, bwuw, bbb, wbgu, gguw, ubuguw, rrw, brgr, uur, urguwruu, uubr, ru, uuw,\n",
            "\n",
            "buwugbgrgururgwrgrrugbwgrwurgbubrggruwugwgrwguuurwu\n",
            "bwbrurbwgurggbbwbrbwubrurrwrwwwruurbrrguuubg\n",
            "buubbubwwwgugwgwruwbrwbbgrrwwrurrbwgwbbrbugbbubbbwuwubrbg\n"
          ]
        }
      ],
      "source": [
        "var inputLines = LoadPuzzleInput(2024, 19);\n",
        "WriteLines(inputLines, maxCols: 80);"
      ]
    },
    {
      "cell_type": "code",
      "execution_count": 4,
      "metadata": {
        "dotnet_interactive": {
          "language": "csharp"
        },
        "polyglot_notebook": {
          "kernelName": "csharp"
        },
        "vscode": {
          "languageId": "polyglot-notebook"
        }
      },
      "outputs": [],
      "source": [
        "string[] testInputLines = [\n",
        "    \u0022r, wr, b, g, bwu, rb, gb, br\u0022,\n",
        "    \u0022\u0022,\n",
        "    \u0022brwrr\u0022,\n",
        "    \u0022bggr\u0022,\n",
        "    \u0022gbbr\u0022,\n",
        "    \u0022rrbgbr\u0022,\n",
        "    \u0022ubwu\u0022,\n",
        "    \u0022bwurrg\u0022,\n",
        "    \u0022brgr\u0022,\n",
        "    \u0022bbrgwb\u0022,\n",
        "];"
      ]
    },
    {
      "cell_type": "markdown",
      "metadata": {},
      "source": [
        "I reckon there is a more sophisticated and efficient approach to this (perhaps a trie??), but given the number of designs and patterns, the most basic approach to \u0022chomp\u0022 off bits of the string seems feasible. We\u0027ll start with that and investigate other solutions later."
      ]
    },
    {
      "cell_type": "code",
      "execution_count": 5,
      "metadata": {
        "dotnet_interactive": {
          "language": "csharp"
        },
        "polyglot_notebook": {
          "kernelName": "csharp"
        },
        "vscode": {
          "languageId": "polyglot-notebook"
        }
      },
      "outputs": [],
      "source": [
        "(string[] patterns, string[] designs) ParseLines(string[] inputLines)\n",
        "{\n",
        "    var (patternLine, designLines) = inputLines.SeparateBy(line =\u003E line is \u0022\u0022).ToArray();\n",
        "\n",
        "    var patterns = patternLine[0].Split(\u0022, \u0022).ToArray();\n",
        "    return (patterns, designLines);\n",
        "}"
      ]
    },
    {
      "cell_type": "code",
      "execution_count": 6,
      "metadata": {
        "dotnet_interactive": {
          "language": "csharp"
        },
        "polyglot_notebook": {
          "kernelName": "csharp"
        },
        "vscode": {
          "languageId": "polyglot-notebook"
        }
      },
      "outputs": [],
      "source": [
        "bool CanMake(string[] patterns, string design)\n",
        "{\n",
        "    Queue\u003Cstring\u003E designs = new();\n",
        "    designs.Enqueue(design);\n",
        "\n",
        "    // Make sure we don\u0027t regenerate the same string out of different pattern\n",
        "    // combinations\n",
        "    HashSet\u003Cstring\u003E seen = new();\n",
        "\n",
        "    while (designs.TryDequeue(out var currentDesign))\n",
        "    {\n",
        "        seen.Add(currentDesign);\n",
        "\n",
        "        foreach (var pattern in patterns)\n",
        "        {\n",
        "            if (currentDesign.StartsWith(pattern))\n",
        "            {\n",
        "                var remainDesign = currentDesign.Substring(pattern.Length);\n",
        "                if (remainDesign is \u0022\u0022)\n",
        "                {\n",
        "                    return true;\n",
        "                }\n",
        "                \n",
        "                if (seen.Contains(remainDesign))\n",
        "                {\n",
        "                    // Already generated this sub-design out of different patterns\n",
        "                    continue;\n",
        "                }\n",
        "\n",
        "                designs.Enqueue(remainDesign);\n",
        "            }\n",
        "        }\n",
        "    }\n",
        "\n",
        "    return false;\n",
        "}"
      ]
    },
    {
      "cell_type": "code",
      "execution_count": 7,
      "metadata": {
        "dotnet_interactive": {
          "language": "csharp"
        },
        "polyglot_notebook": {
          "kernelName": "csharp"
        },
        "vscode": {
          "languageId": "polyglot-notebook"
        }
      },
      "outputs": [],
      "source": [
        "int CountMakeable(string[] inputLines)\n",
        "{\n",
        "    var (patterns, designs) = ParseLines(inputLines);\n",
        "\n",
        "    return designs.Where(design =\u003E CanMake(patterns, design)).Count();\n",
        "}"
      ]
    },
    {
      "cell_type": "code",
      "execution_count": 8,
      "metadata": {
        "dotnet_interactive": {
          "language": "csharp"
        },
        "polyglot_notebook": {
          "kernelName": "csharp"
        },
        "vscode": {
          "languageId": "polyglot-notebook"
        }
      },
      "outputs": [
        {
          "name": "stdout",
          "output_type": "stream",
          "text": [
            "6\n"
          ]
        }
      ],
      "source": [
        "// In this example, 6 of the eight designs are possible with the available towel patterns.\n",
        "\n",
        "var testAnswer = CountMakeable(testInputLines);\n",
        "Console.WriteLine(testAnswer);"
      ]
    },
    {
      "cell_type": "code",
      "execution_count": 9,
      "metadata": {
        "dotnet_interactive": {
          "language": "csharp"
        },
        "polyglot_notebook": {
          "kernelName": "csharp"
        },
        "vscode": {
          "languageId": "polyglot-notebook"
        }
      },
      "outputs": [
        {
          "name": "stdout",
          "output_type": "stream",
          "text": [
            "233\n"
          ]
        }
      ],
      "source": [
        "// To get into the onsen as soon as possible, consult your list of towel\n",
        "// patterns and desired designs carefully. How many designs are possible?\n",
        "\n",
        "var part1Answer = CountMakeable(inputLines);\n",
        "Console.WriteLine(part1Answer);"
      ]
    },
    {
      "cell_type": "code",
      "execution_count": 10,
      "metadata": {
        "dotnet_interactive": {
          "language": "csharp"
        },
        "polyglot_notebook": {
          "kernelName": "csharp"
        },
        "vscode": {
          "languageId": "polyglot-notebook"
        }
      },
      "outputs": [],
      "source": [
        "// 233 is correct!\n",
        "Ensure(233, part1Answer);"
      ]
    },
    {
      "cell_type": "markdown",
      "metadata": {
        "dotnet_interactive": {
          "language": "csharp"
        },
        "polyglot_notebook": {
          "kernelName": "csharp"
        },
        "vscode": {
          "languageId": "polyglot-notebook"
        }
      },
      "source": [
        "### --- Part Two ---\n",
        "\n",
        "Puzzle description redacted as-per Advent of Code guidelines\n",
        "\n",
        "You may find the puzzle description at: https://adventofcode.com/2024/day/19"
      ]
    },
    {
      "cell_type": "markdown",
      "metadata": {
        "vscode": {
          "languageId": "polyglot-notebook"
        }
      },
      "source": [
        "In summary, for part 2 we need to count all possible ways that the given patterns can make a particular design.\n",
        "\n",
        "I think we can achieve this with a dynamic programming approach. Starting at the end of the string...\n",
        "\n",
        "* There is 1 way to make \u0060r\u0060\n",
        "* There are 2 ways to make \u0060br\u0060:\n",
        "    * \u0060b\u0060 \u002B \u0060r\u0060\n",
        "    * \u0060br\u0060\n",
        "* There are 3 ways to make \u0060gbr\u0060\n",
        "    * \u0060g\u0060 \u002B \u0060br\u0060 (2 ways)\n",
        "    * \u0060gb\u0060 (1) * \u0060r\u0060 (1 way)\n",
        "\n",
        "Essentially, for a given character position \u0060i\u0060, the value for \u0060patterns(i) = sum(patterns(i \u002B b))\u0060, for each pattern of length \u0060b\u0060 that matches the substring starting at \u0060i\u0060."
      ]
    },
    {
      "cell_type": "code",
      "execution_count": 12,
      "metadata": {
        "vscode": {
          "languageId": "polyglot-notebook"
        }
      },
      "outputs": [],
      "source": [
        "// Our cache of known combos for a given substring.\n",
        "\n",
        "// Mapping is: substring length =\u003E combo count.\n",
        "using CountCache = SCG.Dictionary\u003Cint, long\u003E;"
      ]
    },
    {
      "cell_type": "code",
      "execution_count": 13,
      "metadata": {
        "dotnet_interactive": {
          "language": "csharp"
        },
        "polyglot_notebook": {
          "kernelName": "csharp"
        },
        "vscode": {
          "languageId": "polyglot-notebook"
        }
      },
      "outputs": [],
      "source": [
        "long CountPatternCombos(string[] stripePatterns, string design)\n",
        "{\n",
        "    CountCache countCache = new();\n",
        "\n",
        "    long CountOne(string[] stripePatterns, ReadOnlySpan\u003Cchar\u003E designSubstr)\n",
        "    {\n",
        "        if (countCache.TryGetValue(designSubstr.Length, out var result))\n",
        "        {\n",
        "            return result;\n",
        "        }\n",
        "        \n",
        "        foreach (var stripePattern in stripePatterns)\n",
        "        {\n",
        "            if (designSubstr.StartsWith(stripePattern))\n",
        "            {\n",
        "                // We can potentially make this design with the current pattern\n",
        "\n",
        "                var nextSubstr = designSubstr[stripePattern.Length..];\n",
        "               \n",
        "                result \u002B= nextSubstr.Length switch {\n",
        "                    // Fully satisfied the design\n",
        "                    0 =\u003E 1,\n",
        "                    // Still more of the design to go\n",
        "                    _ =\u003E CountOne(stripePatterns, nextSubstr)\n",
        "                };\n",
        "            }\n",
        "        }\n",
        "        countCache[designSubstr.Length] = result;\n",
        "\n",
        "        return result;\n",
        "    }\n",
        "\n",
        "    return CountOne(stripePatterns, design);\n",
        "}"
      ]
    },
    {
      "cell_type": "code",
      "execution_count": 14,
      "metadata": {
        "vscode": {
          "languageId": "polyglot-notebook"
        }
      },
      "outputs": [],
      "source": [
        "long CountAllPatternCombos(string[] inputLines)\n",
        "{\n",
        "    var (stripePatterns, designs) = ParseLines(inputLines);\n",
        "\n",
        "    return designs.Select(design =\u003E (long)CountPatternCombos(stripePatterns, design)).Sum();\n",
        "}"
      ]
    },
    {
      "cell_type": "code",
      "execution_count": 15,
      "metadata": {
        "vscode": {
          "languageId": "polyglot-notebook"
        }
      },
      "outputs": [
        {
          "name": "stdout",
          "output_type": "stream",
          "text": [
            "16\n"
          ]
        }
      ],
      "source": [
        "// Adding up all of the ways the towels in this example could be arranged into\n",
        "// the desired designs yields 16 (2 \u002B 1 \u002B 4 \u002B 6 \u002B 1 \u002B 2).\n",
        "\n",
        "var part2TestAnswer = CountAllPatternCombos(testInputLines);\n",
        "Console.WriteLine(part2TestAnswer);"
      ]
    },
    {
      "cell_type": "code",
      "execution_count": 16,
      "metadata": {
        "vscode": {
          "languageId": "polyglot-notebook"
        }
      },
      "outputs": [
        {
          "name": "stdout",
          "output_type": "stream",
          "text": [
            "691316989225259\n"
          ]
        }
      ],
      "source": [
        "// They\u0027ll let you into the onsen as soon as you have the list. What do you get\n",
        "// if you add up the number of different ways you could make each design?\n",
        "\n",
        "var part2Answer = CountAllPatternCombos(inputLines);\n",
        "Console.WriteLine(part2Answer);"
      ]
    },
    {
      "cell_type": "code",
      "execution_count": 17,
      "metadata": {
        "vscode": {
          "languageId": "polyglot-notebook"
        }
      },
      "outputs": [],
      "source": [
        "// 691316989225259 is correct!\n",
        "Ensure(691316989225259, part2Answer);"
      ]
    }
  ],
  "metadata": {
    "kernelspec": {
      "display_name": ".NET (C#)",
      "language": "C#",
      "name": ".net-csharp"
    },
    "language_info": {
      "name": "python"
    },
    "polyglot_notebook": {
      "kernelInfo": {
        "defaultKernelName": "csharp",
        "items": [
          {
            "aliases": [],
            "name": "csharp"
          }
        ]
      }
    }
  },
  "nbformat": 4,
  "nbformat_minor": 2
}