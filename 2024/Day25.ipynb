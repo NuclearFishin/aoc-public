{
  "cells": [
    {
      "cell_type": "markdown",
      "metadata": {
        "dotnet_interactive": {
          "language": "csharp"
        },
        "polyglot_notebook": {
          "kernelName": "csharp"
        },
        "vscode": {
          "languageId": "polyglot-notebook"
        }
      },
      "source": [
        "### --- Day 25: Code Chronicle ---\n",
        "\n",
        "Puzzle description redacted as-per Advent of Code guidelines\n",
        "\n",
        "You may find the puzzle description at: https://adventofcode.com/2024/day/25"
      ]
    },
    {
      "cell_type": "code",
      "execution_count": 2,
      "metadata": {
        "dotnet_interactive": {
          "language": "csharp"
        },
        "polyglot_notebook": {
          "kernelName": "csharp"
        },
        "vscode": {
          "languageId": "polyglot-notebook"
        }
      },
      "outputs": [],
      "source": [
        "#!import ../Utils.ipynb"
      ]
    },
    {
      "cell_type": "code",
      "execution_count": 3,
      "metadata": {
        "dotnet_interactive": {
          "language": "csharp"
        },
        "polyglot_notebook": {
          "kernelName": "csharp"
        },
        "vscode": {
          "languageId": "polyglot-notebook"
        }
      },
      "outputs": [
        {
          "name": "stdout",
          "output_type": "stream",
          "text": [
            "Loading puzzle file: Day25.txt\n",
            "Total lines: 3999\n",
            "Max line length: 5\n",
            "\n",
            "#####\n",
            "####.\n",
            "##.#.\n",
            "#..#.\n",
            ".....\n"
          ]
        }
      ],
      "source": [
        "var inputLines = LoadPuzzleInput(2024, 25);\n",
        "WriteLines(inputLines);"
      ]
    },
    {
      "cell_type": "code",
      "execution_count": 4,
      "metadata": {
        "dotnet_interactive": {
          "language": "csharp"
        },
        "polyglot_notebook": {
          "kernelName": "csharp"
        },
        "vscode": {
          "languageId": "polyglot-notebook"
        }
      },
      "outputs": [],
      "source": [
        "string[] testInputLines = [\n",
        "    \u0022#####\u0022,\n",
        "    \u0022.####\u0022,\n",
        "    \u0022.####\u0022,\n",
        "    \u0022.####\u0022,\n",
        "    \u0022.#.#.\u0022,\n",
        "    \u0022.#...\u0022,\n",
        "    \u0022.....\u0022,\n",
        "    \u0022\u0022,\n",
        "    \u0022#####\u0022,\n",
        "    \u0022##.##\u0022,\n",
        "    \u0022.#.##\u0022,\n",
        "    \u0022...##\u0022,\n",
        "    \u0022...#.\u0022,\n",
        "    \u0022...#.\u0022,\n",
        "    \u0022.....\u0022,\n",
        "    \u0022\u0022,\n",
        "    \u0022.....\u0022,\n",
        "    \u0022#....\u0022,\n",
        "    \u0022#....\u0022,\n",
        "    \u0022#...#\u0022,\n",
        "    \u0022#.#.#\u0022,\n",
        "    \u0022#.###\u0022,\n",
        "    \u0022#####\u0022,\n",
        "    \u0022\u0022,\n",
        "    \u0022.....\u0022,\n",
        "    \u0022.....\u0022,\n",
        "    \u0022#.#..\u0022,\n",
        "    \u0022###..\u0022,\n",
        "    \u0022###.#\u0022,\n",
        "    \u0022###.#\u0022,\n",
        "    \u0022#####\u0022,\n",
        "    \u0022\u0022,\n",
        "    \u0022.....\u0022,\n",
        "    \u0022.....\u0022,\n",
        "    \u0022.....\u0022,\n",
        "    \u0022#....\u0022,\n",
        "    \u0022#.#..\u0022,\n",
        "    \u0022#.#.#\u0022,\n",
        "    \u0022#####\u0022,\n",
        "];"
      ]
    },
    {
      "cell_type": "markdown",
      "metadata": {},
      "source": [
        "Ok, I think this one is quite straightforward? I guess it\u0027s released on Christmas day, it shouldn\u0027t keep us on our computers for too long :) It looks like we can add the \u0060#\u0060 characters in each column, and as long as they sum to \u00605\u0060 or less when comparing, they are compatible."
      ]
    },
    {
      "cell_type": "code",
      "execution_count": 5,
      "metadata": {
        "dotnet_interactive": {
          "language": "csharp"
        },
        "polyglot_notebook": {
          "kernelName": "csharp"
        },
        "vscode": {
          "languageId": "polyglot-notebook"
        }
      },
      "outputs": [],
      "source": [
        "int CountCompatibleKeysAndLocks(string[] inputLines)\n",
        "{\n",
        "    var keysLocks = inputLines.SeparateBy(line =\u003E line is \u0022\u0022).ToLookup(kl =\u003E kl[0][0]);\n",
        "    var locks = keysLocks[\u0027#\u0027].Select(CountCols);\n",
        "    var keys = keysLocks[\u0027.\u0027].Select(CountCols);\n",
        "\n",
        "    return locks.Sum(@lock =\u003E keys.Where(key =\u003E Fits(key, @lock)).Count());\n",
        "}\n",
        "\n",
        "int[] CountCols(string[] keyOrLock) =\u003E Enumerable.Range(0, 5)\n",
        "    .Select(col =\u003E Enumerable.Range(0, 7).Sum(row =\u003E keyOrLock[row][col] is \u0027#\u0027 ? 1 : 0) - 1)\n",
        "    .ToArray();\n",
        "\n",
        "bool Fits(int[] key, int[] @lock) =\u003E key.Zip(@lock, (k, l) =\u003E k \u002B l).All(i =\u003E i \u003C= 5);"
      ]
    },
    {
      "cell_type": "code",
      "execution_count": 6,
      "metadata": {
        "dotnet_interactive": {
          "language": "csharp"
        },
        "polyglot_notebook": {
          "kernelName": "csharp"
        },
        "vscode": {
          "languageId": "polyglot-notebook"
        }
      },
      "outputs": [
        {
          "name": "stdout",
          "output_type": "stream",
          "text": [
            "3\n"
          ]
        }
      ],
      "source": [
        "// So, in this example, the number of unique lock/key pairs that fit together\n",
        "// without overlapping in any column is 3.\n",
        "\n",
        "var testAnswer = CountCompatibleKeysAndLocks(testInputLines);\n",
        "Console.WriteLine(testAnswer);"
      ]
    },
    {
      "cell_type": "code",
      "execution_count": 7,
      "metadata": {
        "dotnet_interactive": {
          "language": "csharp"
        },
        "polyglot_notebook": {
          "kernelName": "csharp"
        },
        "vscode": {
          "languageId": "polyglot-notebook"
        }
      },
      "outputs": [
        {
          "name": "stdout",
          "output_type": "stream",
          "text": [
            "3483\n"
          ]
        }
      ],
      "source": [
        "// Analyze your lock and key schematics. How many unique lock/key pairs fit\n",
        "// together without overlapping in any column?\n",
        "\n",
        "var part1Answer = CountCompatibleKeysAndLocks(inputLines);\n",
        "Console.WriteLine(part1Answer);"
      ]
    },
    {
      "cell_type": "code",
      "execution_count": 8,
      "metadata": {
        "dotnet_interactive": {
          "language": "csharp"
        },
        "polyglot_notebook": {
          "kernelName": "csharp"
        },
        "vscode": {
          "languageId": "polyglot-notebook"
        }
      },
      "outputs": [],
      "source": [
        "// 3483 is correct!\n",
        "Ensure(3483, part1Answer);"
      ]
    }
  ],
  "metadata": {
    "kernelspec": {
      "display_name": ".NET (C#)",
      "language": "C#",
      "name": ".net-csharp"
    },
    "language_info": {
      "name": "python"
    },
    "polyglot_notebook": {
      "kernelInfo": {
        "defaultKernelName": "csharp",
        "items": [
          {
            "aliases": [],
            "name": "csharp"
          }
        ]
      }
    }
  },
  "nbformat": 4,
  "nbformat_minor": 2
}