{
  "cells": [
    {
      "cell_type": "markdown",
      "metadata": {
        "dotnet_interactive": {
          "language": "csharp"
        },
        "polyglot_notebook": {
          "kernelName": "csharp"
        },
        "vscode": {
          "languageId": "polyglot-notebook"
        }
      },
      "source": [
        "### --- Day 4: Ceres Search ---\n",
        "\n",
        "Puzzle description redacted as-per Advent of Code guidelines\n",
        "\n",
        "You may find the puzzle description at: https://adventofcode.com/2024/day/4"
      ]
    },
    {
      "cell_type": "code",
      "execution_count": 2,
      "metadata": {
        "dotnet_interactive": {
          "language": "csharp"
        },
        "polyglot_notebook": {
          "kernelName": "csharp"
        },
        "vscode": {
          "languageId": "polyglot-notebook"
        }
      },
      "outputs": [],
      "source": [
        "#!import ../Utils.ipynb"
      ]
    },
    {
      "cell_type": "code",
      "execution_count": 3,
      "metadata": {
        "dotnet_interactive": {
          "language": "csharp"
        },
        "polyglot_notebook": {
          "kernelName": "csharp"
        },
        "vscode": {
          "languageId": "polyglot-notebook"
        }
      },
      "outputs": [
        {
          "name": "stdout",
          "output_type": "stream",
          "text": [
            "Loading puzzle file: Day4.txt\n",
            "Total lines: 140\n",
            "Max line length: 140\n",
            "\n",
            "SSSXMASAMSSSSSSXMASXMASXXMXMAXSSMSSXXSMMSXMMSMMMMMAXSSMMXMAMAMSMXXSMSSMXXMAMMXSMMSXMAMAMXSMMMSMSAMXXMSMXMXSAAXMSMMXSSMSASMXMSAMXXXMMASXXMSSM\n",
            "AMMAMXXAXAXAAAXAMASXMAXMSMSSSMAXMASMMMAAMMSSMAAMASXXXAXXXMAXAXAMMXMXAAMSASXMSXMAASMMSSXMASAAXMAMXSAXMASAMMMASXMAAXMXAASAMXAMMMMSSSMSAMXAAAAS\n",
            "MMSSMMSSMXSMSMSMMASAMXSXAAAAAMMMMAXXAXMMSASASMMSAXMASXMMSMMSMSAMSAMMMAMSAXMASAMMMSAAAMAMASMMXMAMAXAASXSMSXXSMASMSMASMMMMMSMSAAMAAAMMAMSSMSSM\n",
            "XAAAAXAMXMAMAAXAMXSXMASMMSMSMMMAMSSSSSMAMXMAMXMMMSXAMAXAAXMAXXXXSASASAAMXMMAMASMXSMMSSXMASXAMMMMMSSMMXMASAXXMXMAXAMXASMSMAXSMSSMMMMMMMAXAMXM\n",
            "MMSSMMMSMMMMMMSAMXMAXAMAMXXAMASXMAMMXAMASMMSMMSAMXMASXMSASMSSSMXSAMXSMMSAXMASMMMAMXMXMAMXMMMSAAAAMAAXXMAMMMSXMSSMXXSAMASMMMSXMAXSASASMAMXAAX\n"
          ]
        }
      ],
      "source": [
        "var inputLines = LoadPuzzleInput(2024, 4);\n",
        "WriteLines(inputLines);"
      ]
    },
    {
      "cell_type": "code",
      "execution_count": 4,
      "metadata": {
        "dotnet_interactive": {
          "language": "csharp"
        },
        "polyglot_notebook": {
          "kernelName": "csharp"
        },
        "vscode": {
          "languageId": "polyglot-notebook"
        }
      },
      "outputs": [],
      "source": [
        "string[] testInputLines = [\n",
        "    \u0022MMMSXXMASM\u0022,\n",
        "    \u0022MSAMXMSMSA\u0022,\n",
        "    \u0022AMXSXMAAMM\u0022,\n",
        "    \u0022MSAMASMSMX\u0022,\n",
        "    \u0022XMASAMXAMM\u0022,\n",
        "    \u0022XXAMMXXAMA\u0022,\n",
        "    \u0022SMSMSASXSS\u0022,\n",
        "    \u0022SAXAMASAAA\u0022,\n",
        "    \u0022MAMMMXMMMM\u0022,\n",
        "    \u0022MXMXAXMASX\u0022,\n",
        "];"
      ]
    },
    {
      "cell_type": "code",
      "execution_count": 5,
      "metadata": {
        "dotnet_interactive": {
          "language": "csharp"
        },
        "polyglot_notebook": {
          "kernelName": "csharp"
        },
        "vscode": {
          "languageId": "polyglot-notebook"
        }
      },
      "outputs": [],
      "source": [
        "int CountXmas(string[] inputLines)\n",
        "{\n",
        "    CharGrid grid = new(inputLines);\n",
        "    var xPoints = grid.Enumerate().Where(g =\u003E g.ch == \u0027X\u0027).Select(g =\u003E g.point);\n",
        "\n",
        "    var allXmas = xPoints.SelectMany(p =\u003E SearchAllDirs(p, grid)).Where(str =\u003E str == \u0022XMAS\u0022).Count();\n",
        "    return allXmas;\n",
        "}\n",
        "\n",
        "IEnumerable\u003Cstring\u003E SearchAllDirs(Point p, CharGrid grid)\n",
        "{\n",
        "    Point[] searchDirections = [\n",
        "        Up,\n",
        "        Down,\n",
        "        Left,\n",
        "        Right,\n",
        "        Up \u002B Right,\n",
        "        Up \u002B Left,\n",
        "        Down \u002B Right,\n",
        "        Down \u002B Left\n",
        "    ];\n",
        "\n",
        "    var charBuffer = new char[4];\n",
        "    foreach (var dir in searchDirections)\n",
        "    {\n",
        "        if (!grid.IsValid(p \u002B dir * 3))\n",
        "            continue;\n",
        "        \n",
        "        foreach (var i in Enumerable.Range(0, 4))\n",
        "        {\n",
        "            charBuffer[i] = grid[p \u002B dir * i];\n",
        "        }\n",
        "\n",
        "        yield return new(charBuffer);\n",
        "    }\n",
        "}"
      ]
    },
    {
      "cell_type": "code",
      "execution_count": 6,
      "metadata": {
        "dotnet_interactive": {
          "language": "csharp"
        },
        "polyglot_notebook": {
          "kernelName": "csharp"
        },
        "vscode": {
          "languageId": "polyglot-notebook"
        }
      },
      "outputs": [
        {
          "name": "stdout",
          "output_type": "stream",
          "text": [
            "18\n"
          ]
        }
      ],
      "source": [
        "// In this word search, XMAS occurs a total of 18 times\n",
        "\n",
        "var testInputAnswer = CountXmas(testInputLines);\n",
        "Console.WriteLine(testInputAnswer);"
      ]
    },
    {
      "cell_type": "code",
      "execution_count": 7,
      "metadata": {
        "dotnet_interactive": {
          "language": "csharp"
        },
        "polyglot_notebook": {
          "kernelName": "csharp"
        },
        "vscode": {
          "languageId": "polyglot-notebook"
        }
      },
      "outputs": [
        {
          "name": "stdout",
          "output_type": "stream",
          "text": [
            "2514\n"
          ]
        }
      ],
      "source": [
        "// Take a look at the little Elf\u0027s word search. How many times does XMAS appear?\n",
        "\n",
        "var part1Answer = CountXmas(inputLines);\n",
        "Console.WriteLine(part1Answer);"
      ]
    },
    {
      "cell_type": "code",
      "execution_count": 8,
      "metadata": {
        "dotnet_interactive": {
          "language": "csharp"
        },
        "polyglot_notebook": {
          "kernelName": "csharp"
        },
        "vscode": {
          "languageId": "polyglot-notebook"
        }
      },
      "outputs": [],
      "source": [
        "// 2514 is correct!\n",
        "Ensure(2514, part1Answer);"
      ]
    },
    {
      "cell_type": "markdown",
      "metadata": {
        "dotnet_interactive": {
          "language": "csharp"
        },
        "polyglot_notebook": {
          "kernelName": "csharp"
        },
        "vscode": {
          "languageId": "polyglot-notebook"
        }
      },
      "source": [
        "### --- Part Two ---\n",
        "\n",
        "Puzzle description redacted as-per Advent of Code guidelines\n",
        "\n",
        "You may find the puzzle description at: https://adventofcode.com/2024/day/4"
      ]
    },
    {
      "cell_type": "code",
      "execution_count": 10,
      "metadata": {
        "dotnet_interactive": {
          "language": "csharp"
        },
        "polyglot_notebook": {
          "kernelName": "csharp"
        },
        "vscode": {
          "languageId": "polyglot-notebook"
        }
      },
      "outputs": [],
      "source": [
        "int CountXmas2(string[] inputLines)\n",
        "{\n",
        "    CharGrid grid = new(inputLines);\n",
        "\n",
        "    var aPoints = grid.Enumerate().Where(g =\u003E g.ch == \u0027A\u0027).Select(g =\u003E g.point);\n",
        "\n",
        "    var xmas2Count = aPoints.Where(p =\u003E IsXWord(p, grid)).Count();\n",
        "    return xmas2Count;\n",
        "}\n",
        "\n",
        "bool IsXWord(Point p, CharGrid grid)\n",
        "{\n",
        "    Point[] backSlashPoints = [p \u002B Left \u002B Up, p, p \u002B Right \u002B Down];\n",
        "    Point[] forwardSlashPoints = [p \u002B Left \u002B Down, p, p \u002B Right \u002B Up];\n",
        "\n",
        "    return IsValidWord(backSlashPoints, grid) \u0026\u0026 IsValidWord(forwardSlashPoints, grid);\n",
        "}\n",
        "\n",
        "bool IsValidWord(Point[] points, CharGrid grid)\n",
        "{\n",
        "    var charBuffer = new char[points.Length];\n",
        "\n",
        "    foreach (var (i, point) in points.Index())\n",
        "    {\n",
        "        if (!grid.IsValid(point)) {\n",
        "            return false;\n",
        "        }\n",
        "\n",
        "        charBuffer[i] = grid[point];\n",
        "    }\n",
        "\n",
        "    return charBuffer switch {\n",
        "        [\u0027M\u0027, \u0027A\u0027, \u0027S\u0027] =\u003E true,\n",
        "        [\u0027S\u0027, \u0027A\u0027, \u0027M\u0027] =\u003E true,\n",
        "        _ =\u003E false\n",
        "    };\n",
        "}"
      ]
    },
    {
      "cell_type": "code",
      "execution_count": 11,
      "metadata": {
        "dotnet_interactive": {
          "language": "csharp"
        },
        "polyglot_notebook": {
          "kernelName": "csharp"
        },
        "vscode": {
          "languageId": "polyglot-notebook"
        }
      },
      "outputs": [
        {
          "name": "stdout",
          "output_type": "stream",
          "text": [
            "9\n"
          ]
        }
      ],
      "source": [
        "// In this example, an X-MAS appears 9 times.\n",
        "\n",
        "var part2TestAnswer = CountXmas2(testInputLines);\n",
        "Console.WriteLine(part2TestAnswer);"
      ]
    },
    {
      "cell_type": "code",
      "execution_count": 12,
      "metadata": {
        "dotnet_interactive": {
          "language": "csharp"
        },
        "polyglot_notebook": {
          "kernelName": "csharp"
        },
        "vscode": {
          "languageId": "polyglot-notebook"
        }
      },
      "outputs": [
        {
          "name": "stdout",
          "output_type": "stream",
          "text": [
            "1888\n"
          ]
        }
      ],
      "source": [
        "// Flip the word search from the instructions back over to the word search side and try again. How many times does an X-MAS appear?\n",
        "\n",
        "var part2Answer = CountXmas2(inputLines);\n",
        "Console.WriteLine(part2Answer);"
      ]
    },
    {
      "cell_type": "code",
      "execution_count": 13,
      "metadata": {
        "dotnet_interactive": {
          "language": "csharp"
        },
        "polyglot_notebook": {
          "kernelName": "csharp"
        },
        "vscode": {
          "languageId": "polyglot-notebook"
        }
      },
      "outputs": [],
      "source": [
        "// 1888 is correct!\n",
        "Ensure(1888, part2Answer);"
      ]
    }
  ],
  "metadata": {
    "kernelspec": {
      "display_name": ".NET (C#)",
      "language": "C#",
      "name": ".net-csharp"
    },
    "language_info": {
      "name": "python"
    },
    "polyglot_notebook": {
      "kernelInfo": {
        "defaultKernelName": "csharp",
        "items": [
          {
            "aliases": [],
            "name": "csharp"
          }
        ]
      }
    }
  },
  "nbformat": 4,
  "nbformat_minor": 2
}