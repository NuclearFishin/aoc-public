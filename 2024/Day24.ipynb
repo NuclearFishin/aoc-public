{
  "cells": [
    {
      "cell_type": "markdown",
      "metadata": {
        "dotnet_interactive": {
          "language": "csharp"
        },
        "polyglot_notebook": {
          "kernelName": "csharp"
        },
        "vscode": {
          "languageId": "polyglot-notebook"
        }
      },
      "source": [
        "### --- Day 24: Crossed Wires ---\n",
        "\n",
        "Puzzle description redacted as-per Advent of Code guidelines\n",
        "\n",
        "You may find the puzzle description at: https://adventofcode.com/2024/day/24"
      ]
    },
    {
      "cell_type": "code",
      "execution_count": 2,
      "metadata": {
        "dotnet_interactive": {
          "language": "csharp"
        },
        "polyglot_notebook": {
          "kernelName": "csharp"
        },
        "vscode": {
          "languageId": "polyglot-notebook"
        }
      },
      "outputs": [],
      "source": [
        "#!import ../Utils.ipynb"
      ]
    },
    {
      "cell_type": "code",
      "execution_count": 3,
      "metadata": {
        "dotnet_interactive": {
          "language": "csharp"
        },
        "polyglot_notebook": {
          "kernelName": "csharp"
        },
        "vscode": {
          "languageId": "polyglot-notebook"
        }
      },
      "outputs": [
        {
          "name": "stdout",
          "output_type": "stream",
          "text": [
            "\n",
            "x00: 1\n",
            "x01: 1\n",
            "x02: 1\n",
            "x03: 1\n",
            "x04: 0\n",
            "vgh OR dhk -\u003E kfp\n",
            "qpb OR tdt -\u003E z45\n",
            "njd XOR hwt -\u003E z33\n",
            "y38 AND x38 -\u003E srk\n",
            "y25 AND x25 -\u003E sth\n"
          ]
        }
      ],
      "source": [
        "var inputLines = LoadPuzzleInput(2024, 24);\n",
        "var (signals, gates) = inputLines.SeparateBy(line =\u003E line is \u0022\u0022).ToArray();\n",
        "WriteLines(signals);\n",
        "WriteLines(gates);"
      ]
    },
    {
      "cell_type": "markdown",
      "metadata": {},
      "source": [
        "This one looks reasonably straightforward for part 1, albeit mechanical. We can model the And, Or, Xor functions, arrange them according to the gate specifications, and crank the handle..."
      ]
    },
    {
      "cell_type": "code",
      "execution_count": 4,
      "metadata": {
        "dotnet_interactive": {
          "language": "csharp"
        },
        "polyglot_notebook": {
          "kernelName": "csharp"
        },
        "vscode": {
          "languageId": "polyglot-notebook"
        }
      },
      "outputs": [],
      "source": [
        "// Wires can carry 0, 1 or no value at all\n",
        "\n",
        "using Signal = bool?;\n",
        "using Wire = string;"
      ]
    },
    {
      "cell_type": "code",
      "execution_count": 5,
      "metadata": {
        "dotnet_interactive": {
          "language": "csharp"
        },
        "polyglot_notebook": {
          "kernelName": "csharp"
        },
        "vscode": {
          "languageId": "polyglot-notebook"
        }
      },
      "outputs": [],
      "source": [
        "class Device\n",
        "{\n",
        "    public Device(string[] gateDefs)\n",
        "    {\n",
        "        _gateFuncs = new();\n",
        "\n",
        "        foreach (var gateDef in gateDefs)\n",
        "        {\n",
        "            var (a, op, b, _, output) = gateDef.Split(\u0027 \u0027).ToArray();\n",
        "\n",
        "            var gateFunc = MakeGateFunc(a, op, b, output);\n",
        "            _gateFuncs.TryAdd(a, []);\n",
        "            _gateFuncs.TryAdd(b, []);\n",
        "            _gateFuncs[a].Add(gateFunc);\n",
        "            _gateFuncs[b].Add(gateFunc);\n",
        "        }\n",
        "    }\n",
        "\n",
        "    public void Simulate(string[] signalDefs)\n",
        "    {\n",
        "        _signals = new();\n",
        "\n",
        "        foreach (var signalDef in signalDefs)\n",
        "        {\n",
        "            var (input, signalStr) = signalDef.Split(\u0022: \u0022);\n",
        "            Signal signal = (signalStr == \u00221\u0022);\n",
        "            SendSignal(input, signal);\n",
        "        }\n",
        "    }\n",
        "\n",
        "    Action MakeGateFunc(Wire aWire, string op, Wire bWire, Wire outputWire)\n",
        "    {\n",
        "        return () =\u003E\n",
        "        {\n",
        "            var aVal = _signals.GetValueOrDefault(aWire);\n",
        "            var bVal = _signals.GetValueOrDefault(bWire);\n",
        "\n",
        "            var outputVal = (aVal, op, bVal) switch {\n",
        "                (not null, \u0022OR\u0022, not null) =\u003E aVal | bVal,\n",
        "                (not null, \u0022AND\u0022, not null) =\u003E aVal \u0026 bVal,\n",
        "                (not null, \u0022XOR\u0022, not null) =\u003E aVal ^ bVal,\n",
        "                _ =\u003E null\n",
        "            };\n",
        "\n",
        "            SendSignal(outputWire, outputVal);\n",
        "        };\n",
        "    }\n",
        "\n",
        "    void SendSignal(Wire inputWire, Signal signal)\n",
        "    {\n",
        "        if (signal is null) { return; }\n",
        "\n",
        "        _signals[inputWire] = signal;\n",
        "        foreach (var signalFunc in _gateFuncs.GetValueOrDefault(inputWire, []))\n",
        "        {\n",
        "            signalFunc();\n",
        "        }\n",
        "    }\n",
        "\n",
        "    public long DecimalValue\n",
        "    {\n",
        "        get\n",
        "        {\n",
        "            var zOutputs = _signals.Where(kv =\u003E kv.Key[0] is \u0027z\u0027).OrderBy(kv =\u003E kv.Key).Reverse();\n",
        "\n",
        "            return zOutputs.Aggregate(0L, (v, next) =\u003E (v \u003C\u003C= 1) | (next.Value.Value ? 1L : 0L));\n",
        "        }\n",
        "    }\n",
        "\n",
        "    Dictionary\u003CWire, Signal\u003E _signals;\n",
        "    Dictionary\u003CWire, IList\u003CAction\u003E\u003E _gateFuncs;\n",
        "}"
      ]
    },
    {
      "cell_type": "code",
      "execution_count": 6,
      "metadata": {
        "dotnet_interactive": {
          "language": "csharp"
        },
        "polyglot_notebook": {
          "kernelName": "csharp"
        },
        "vscode": {
          "languageId": "polyglot-notebook"
        }
      },
      "outputs": [],
      "source": [
        "Device part1Device = new(gates);\n",
        "part1Device.Simulate(signals);\n",
        "var part1Answer = part1Device.DecimalValue;\n",
        "Console.WriteLine(part1Answer);"
      ]
    },
    {
      "cell_type": "code",
      "execution_count": 7,
      "metadata": {
        "dotnet_interactive": {
          "language": "csharp"
        },
        "polyglot_notebook": {
          "kernelName": "csharp"
        },
        "vscode": {
          "languageId": "polyglot-notebook"
        }
      },
      "outputs": [],
      "source": [
        "// 45923082839246 is correct!\n",
        "Ensure(45923082839246L, part1Answer);"
      ]
    },
    {
      "cell_type": "markdown",
      "metadata": {
        "dotnet_interactive": {
          "language": "csharp"
        },
        "polyglot_notebook": {
          "kernelName": "csharp"
        },
        "vscode": {
          "languageId": "polyglot-notebook"
        }
      },
      "source": [
        "### --- Part Two ---\n",
        "\n",
        "Puzzle description redacted as-per Advent of Code guidelines\n",
        "\n",
        "You may find the puzzle description at: https://adventofcode.com/2024/day/24"
      ]
    },
    {
      "cell_type": "markdown",
      "metadata": {},
      "source": [
        "Ok, for part 2, the output wires of four pairs of gates have been swapped. It actually took me a minute or two to grasp what\u0027s going on here, as each line of gate definition contains IDs for its inputs as well as outputs. I found the easiest way to think about the problem is in pairs of lines. That is, we find two lines from our gate definitions, eg:\n",
        "\n",
        "\u0060\u0060\u0060\n",
        "x00 AND y00 -\u003E z05  \u003C--- first\n",
        "x01 AND y01 -\u003E z02\n",
        "x02 AND y02 -\u003E z01  \u003C--- second\n",
        "\u0060\u0060\u0060\n",
        "\n",
        "...and just swap the output IDs. Other gates that use those same IDs in their inputs do not change.\n",
        "\n",
        "On to solutions - the most basic approach would be to try all combinations of line pairs. An unlikely approach, but let\u0027s confirm:"
      ]
    },
    {
      "cell_type": "code",
      "execution_count": 9,
      "metadata": {
        "dotnet_interactive": {
          "language": "csharp"
        },
        "polyglot_notebook": {
          "kernelName": "csharp"
        },
        "vscode": {
          "languageId": "polyglot-notebook"
        }
      },
      "outputs": [],
      "source": [
        "// Ok, the braindead approach would be to try all permutations of 8 items. Is that even feasible?\n",
        "\n",
        "void CheckOutputSwaps(string[] gateDefs)\n",
        "{\n",
        "    var totalGates = gateDefs.Count();\n",
        "    Console.WriteLine($\u0022Total gates: {totalGates}\u0022);\n",
        "\n",
        "    var totalPairs = totalGates * (totalGates - 1);\n",
        "    Console.WriteLine($\u0022Total gate pairs: {totalPairs}\u0022);\n",
        "\n",
        "    var combos = Enumerable.Range(0, 4).Select(i =\u003E totalPairs - i).Aggregate(1L, (a, b) =\u003E a * b);\n",
        "    Console.WriteLine($\u0022Total 4-combinations of pairs: {combos}\u0022);\n",
        "}\n",
        "\n",
        "CheckOutputSwaps(gates);"
      ]
    },
    {
      "cell_type": "markdown",
      "metadata": {
        "vscode": {
          "languageId": "polyglot-notebook"
        }
      },
      "source": [
        "Ok, clearly way too many pair combinations to brute force. Perhaps we could reduce the number of gates involved, but we\u0027ll try a few other things first.\n",
        "\n",
        "Let\u0027s try rendering as a flowchart - that worked for the counter puzzle last year:"
      ]
    },
    {
      "cell_type": "code",
      "execution_count": 10,
      "metadata": {
        "dotnet_interactive": {
          "language": "csharp"
        },
        "polyglot_notebook": {
          "kernelName": "csharp"
        },
        "vscode": {
          "languageId": "polyglot-notebook"
        }
      },
      "outputs": [],
      "source": [
        "async Task MakeItFlow(string[] gateDefs)\n",
        "{\n",
        "    StringBuilder sb = new();\n",
        "    sb.AppendLine(\u0022flowchart LR\u0022);\n",
        "\n",
        "    foreach (var line in gateDefs)\n",
        "    {\n",
        "        var (a, op, b, _, output) = line.Split(\u0027 \u0027).ToArray();\n",
        "\n",
        "        sb.AppendLine($\u0022    {a} --\u003E {output}\u0022);\n",
        "        sb.AppendLine($\u0022    {b} --\u003E {output}\u0022);\n",
        "    }\n",
        "\n",
        "    await RunCellFromString(sb.ToString(), \u0022mermaid\u0022);\n",
        "}\n",
        "\n",
        "await MakeItFlow(gates);"
      ]
    },
    {
      "cell_type": "markdown",
      "metadata": {},
      "source": [
        "Seems the chart doesn\u0027t even load :) Pasting the text into the [Mermaid Chart Online Playground](https://www.mermaidchart.com) does however. We get the following image:\n",
        "\n",
        "![Online chart rendered output](Day24.mermaid.svg)\n",
        "\n",
        "Looks like it\u0027s semi-structured, but nothing immediately obvious jumps out.\n",
        "\n",
        "I can only presume that, given we\u0027re dealing with bitwise addition and logic gates, the gates are structured as adders. Time to refresh my memory on adder gate structure. Thanks to [this article on VerilogCode.com](http://www.verilogcode.com/2015/05/digital-logic-design-full-adder-using.html) for the following images.\n",
        "\n",
        "A *half adder* is structured like so:\n",
        "\n",
        "![Half adder](https://lh5.googleusercontent.com/LGpTC5kvu-DDKV1zA5_3kuW0EDxgx8c1a32gldLwhff6XF14o67Q7WQ55ey2bzLCYEMj35gTfzpQTNJqfhc7B94iRQaCeGI3k3mROp1_yf2MFIPdgJDfhU6pbxy6KEGTNv2tXQU)\n",
        "\n",
        "We should expect our first two inputs \u0060x00\u0060 and \u0060y00\u0060 to be a half adder, since there\u0027s no carry-in. Checking the gate definitions in the input text, it looks like this is the case!\n",
        "\n",
        "\u0060\u0060\u0060\n",
        "y00 XOR x00 -\u003E z00 --\u003E Result\n",
        "x00 AND y00 -\u003E mjh --\u003E Carry\n",
        "\u0060\u0060\u0060\n",
        "\n",
        "Now, we should see the carry-out of this half adder passed into the *full adder* for bits \u0060x01\u0060 and \u0060y01\u0060. A full adder looks like so:\n",
        "\n",
        "![Full adder](https://blogger.googleusercontent.com/img/b/R29vZ2xl/AVvXsEjCggOUxzlTPs-wHi0vUNmUCnvInN7KwvnA6vIRpWaGZcaOv0vZLIbPnLok-UKM5q1zNlduG0xMpDXvQY9u6LltgnxJB4Lpqi8x5RVKYOfmnuq4wX4HXiIUEcwdRlAqSmpqECdAiZzht5Y/s1600/Screen\u002BShot\u002B2015-05-15\u002Bat\u002B10.52.26\u002BPM.png)\n",
        "\n",
        "We know the first carry-in bit should be \u0060mjh\u0060, so let\u0027s check our gate definitions:\n",
        "\n",
        "\u0060\u0060\u0060\n",
        "y01 XOR x01 -\u003E rdj\n",
        "rdj XOR mjh -\u003E z01 --\u003E Result\n",
        "\n",
        "x01 AND y01 -\u003E mkr\n",
        "rdj AND mjh -\u003E tqp\n",
        "mkr OR tqp -\u003E fhf  --\u003E Cout\n",
        "\u0060\u0060\u0060\n",
        "\n",
        "Again we have a match! So we know the gates are structured in adder formation. Also, we know that the first half-adder is correct, so we can focus on the full adders only: perhaps we can trace the gates, and throw errors when we fail validation. We might have to manually correct, but at the end we should be able to find our 4 swaps."
      ]
    },
    {
      "cell_type": "code",
      "execution_count": 11,
      "metadata": {
        "dotnet_interactive": {
          "language": "csharp"
        },
        "polyglot_notebook": {
          "kernelName": "csharp"
        },
        "vscode": {
          "languageId": "polyglot-notebook"
        }
      },
      "outputs": [],
      "source": [
        "Wire AssertAdder(string[] gateDefs, Wire a, Wire b, Wire cin, Wire result)\n",
        "{\n",
        "    // Result gates\n",
        "    var aXORb = Find(a, \u0022XOR\u0022, b);\n",
        "    var resultWire = Find(aXORb, \u0022XOR\u0022, cin);\n",
        "    \n",
        "    if (resultWire != result)\n",
        "    {\n",
        "        throw new Exception($\u0022Expected result wire to be {result}, was {resultWire}\u0022);\n",
        "    }\n",
        "    \n",
        "    // Cout gates\n",
        "    var aANDb = Find(a, \u0022AND\u0022, b);\n",
        "    var and2 = Find(aXORb, \u0022AND\u0022, cin);\n",
        "    var coutWire = Find(and2, \u0022OR\u0022, aANDb);\n",
        "\n",
        "    return coutWire;\n",
        "\n",
        "    Wire Find(Wire a, Wire op, Wire b)\n",
        "    {\n",
        "        var targetLine1 = $\u0022{a} {op} {b}\u0022;\n",
        "        var targetLine2 = $\u0022{b} {op} {a}\u0022;\n",
        "\n",
        "        return gateDefs.SingleOrDefault(line =\u003E line.StartsWith(targetLine1) || line.StartsWith(targetLine2)) switch {\n",
        "            var x when x is not null =\u003E x[^3..],\n",
        "            _ =\u003E throw new Exception($\u0022Cannot find {a} {op} {b}\u0022)\n",
        "        };\n",
        "    }\n",
        "}\n",
        "\n",
        "string CheckAllGates()\n",
        "{\n",
        "    // mjh is the first carry-in, as shown above\n",
        "    var carryIn = \u0022mjh\u0022;\n",
        "    var gateDefs = gates.ToArray();\n",
        "\n",
        "    // At each run, the verification would fail on the next crossed wire. The\n",
        "    // following swaps are the result of manually inspecting and fixing each one.\n",
        "    List\u003Cstring\u003E swaps = new();\n",
        "    // Failure on x09\n",
        "    swap(\u0022jnn XOR wpr -\u003E rkf\u0022, \u0022y09 AND x09 -\u003E z09\u0022);\n",
        "    // Failure on x20\n",
        "    swap(\u0022stj XOR qkq -\u003E jgb\u0022, \u0022qkq AND stj -\u003E z20\u0022);\n",
        "    // Failure on x24\n",
        "    swap(\u0022tnm XOR kkp -\u003E vcg\u0022, \u0022jnh OR njq -\u003E z24\u0022);\n",
        "    // Failure on x31\n",
        "    swap(\u0022x31 XOR y31 -\u003E rvc\u0022, \u0022x31 AND y31 -\u003E rrs\u0022);\n",
        "    \n",
        "    // Verify each adder, using the previous carry-out bit as the carry-in\n",
        "    foreach (var i in Enumerable.Range(1, 44))\n",
        "    {\n",
        "        var ii = i.ToString(\u002200\u0022);\n",
        "        var a = $\u0022x{ii}\u0022;\n",
        "        var b = $\u0022y{ii}\u0022;\n",
        "        var result = $\u0022z{ii}\u0022;\n",
        "\n",
        "        // Console.WriteLine($\u0022Checking {a} \u002B {b} = {result}\u0022);\n",
        "        var carryOut = AssertAdder(gateDefs, a, b, carryIn, result);\n",
        "        // Console.WriteLine($\u0022Passed. CarryOut is {carryOut}\u0022);\n",
        "        carryIn = carryOut;\n",
        "    }\n",
        "\n",
        "    void swap(string a, string b)\n",
        "    {\n",
        "        var (aHead, aTail) = a.Split(\u0022 -\u003E \u0022);\n",
        "        var (bHead, bTail) = b.Split(\u0022 -\u003E \u0022);\n",
        "\n",
        "        gateDefs = gateDefs.Select(line =\u003E line\n",
        "            .Replace(a, $\u0022{aHead} -\u003E {bTail}\u0022)\n",
        "            .Replace(b, $\u0022{bHead} -\u003E {aTail}\u0022)\n",
        "        ).ToArray();\n",
        "\n",
        "        swaps.AddRange([aTail, bTail]);\n",
        "    }\n",
        "\n",
        "    swaps.Sort();\n",
        "    return string.Join(\u0022,\u0022, swaps);\n",
        "}\n",
        "\n",
        "var part2Result = CheckAllGates();\n",
        "Console.WriteLine(part2Result);"
      ]
    },
    {
      "cell_type": "code",
      "execution_count": 12,
      "metadata": {
        "dotnet_interactive": {
          "language": "csharp"
        },
        "polyglot_notebook": {
          "kernelName": "csharp"
        },
        "vscode": {
          "languageId": "polyglot-notebook"
        }
      },
      "outputs": [],
      "source": [
        "// jgb,rkf,rrs,rvc,vcg,z09,z20,z24 is correct!\n",
        "Ensure(\u0022jgb,rkf,rrs,rvc,vcg,z09,z20,z24\u0022, part2Result);"
      ]
    }
  ],
  "metadata": {
    "kernelspec": {
      "display_name": ".NET (C#)",
      "language": "C#",
      "name": ".net-csharp"
    },
    "language_info": {
      "name": "python",
      "version": "3.9.6"
    },
    "polyglot_notebook": {
      "kernelInfo": {
        "defaultKernelName": "csharp",
        "items": [
          {
            "aliases": [],
            "name": "csharp"
          }
        ]
      }
    }
  },
  "nbformat": 4,
  "nbformat_minor": 2
}