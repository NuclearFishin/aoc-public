{
  "cells": [
    {
      "cell_type": "markdown",
      "metadata": {
        "dotnet_interactive": {
          "language": "csharp"
        },
        "polyglot_notebook": {
          "kernelName": "csharp"
        },
        "vscode": {
          "languageId": "polyglot-notebook"
        }
      },
      "source": [
        "### --- Day 24: Crossed Wires ---\n",
        "\n",
        "Puzzle description redacted as-per Advent of Code guidelines\n",
        "\n",
        "You may find the puzzle description at: https://adventofcode.com/2024/day/24"
      ]
    },
    {
      "cell_type": "code",
      "execution_count": 2,
      "metadata": {
        "dotnet_interactive": {
          "language": "csharp"
        },
        "polyglot_notebook": {
          "kernelName": "csharp"
        },
        "vscode": {
          "languageId": "polyglot-notebook"
        }
      },
      "outputs": [],
      "source": [
        "#!import ../Utils.ipynb"
      ]
    },
    {
      "cell_type": "code",
      "execution_count": 3,
      "metadata": {
        "dotnet_interactive": {
          "language": "csharp"
        },
        "polyglot_notebook": {
          "kernelName": "csharp"
        },
        "vscode": {
          "languageId": "polyglot-notebook"
        }
      },
      "outputs": [
        {
          "name": "stdout",
          "output_type": "stream",
          "text": [
            "Loading puzzle file: Day24.txt\n",
            "Total lines: 313\n",
            "Max line length: 18\n",
            "\n",
            "x00: 1\n",
            "x01: 1\n",
            "x02: 1\n",
            "x03: 1\n",
            "x04: 0\n",
            "vgh OR dhk -\u003E kfp\n",
            "qpb OR tdt -\u003E z45\n",
            "njd XOR hwt -\u003E z33\n",
            "y38 AND x38 -\u003E srk\n",
            "y25 AND x25 -\u003E sth\n"
          ]
        }
      ],
      "source": [
        "var inputLines = LoadPuzzleInput(2024, 24);\n",
        "var (signals, gates) = inputLines.SeparateBy(line =\u003E line is \u0022\u0022).ToArray();\n",
        "WriteLines(signals);\n",
        "WriteLines(gates);"
      ]
    },
    {
      "cell_type": "markdown",
      "metadata": {},
      "source": [
        "This one looks reasonably straightforward for part 1, albeit mechanical. We can model the And, Or, Xor functions, arrange them according to the gate specifications, and crank the handle..."
      ]
    },
    {
      "cell_type": "code",
      "execution_count": 4,
      "metadata": {
        "dotnet_interactive": {
          "language": "csharp"
        },
        "polyglot_notebook": {
          "kernelName": "csharp"
        },
        "vscode": {
          "languageId": "polyglot-notebook"
        }
      },
      "outputs": [],
      "source": [
        "// Wires can carry 0, 1 or no value at all\n",
        "\n",
        "using Signal = bool?;\n",
        "using Wire = string;"
      ]
    },
    {
      "cell_type": "code",
      "execution_count": 5,
      "metadata": {
        "dotnet_interactive": {
          "language": "csharp"
        },
        "polyglot_notebook": {
          "kernelName": "csharp"
        },
        "vscode": {
          "languageId": "polyglot-notebook"
        }
      },
      "outputs": [],
      "source": [
        "class Device\n",
        "{\n",
        "    public Device(string[] gateDefs)\n",
        "    {\n",
        "        _gateFuncs = new();\n",
        "\n",
        "        foreach (var gateDef in gateDefs)\n",
        "        {\n",
        "            var (a, op, b, _, output) = gateDef.Split(\u0027 \u0027).ToArray();\n",
        "\n",
        "            var gateFunc = MakeGateFunc(a, op, b, output);\n",
        "            _gateFuncs.TryAdd(a, []);\n",
        "            _gateFuncs.TryAdd(b, []);\n",
        "            _gateFuncs[a].Add(gateFunc);\n",
        "            _gateFuncs[b].Add(gateFunc);\n",
        "        }\n",
        "    }\n",
        "\n",
        "    public void Simulate(string[] signalDefs)\n",
        "    {\n",
        "        _signals = new();\n",
        "\n",
        "        foreach (var signalDef in signalDefs)\n",
        "        {\n",
        "            var (input, signalStr) = signalDef.Split(\u0022: \u0022);\n",
        "            Signal signal = (signalStr == \u00221\u0022);\n",
        "            SendSignal(input, signal);\n",
        "        }\n",
        "    }\n",
        "\n",
        "    Action MakeGateFunc(Wire aWire, string op, Wire bWire, Wire outputWire)\n",
        "    {\n",
        "        return () =\u003E\n",
        "        {\n",
        "            var aVal = _signals.GetValueOrDefault(aWire);\n",
        "            var bVal = _signals.GetValueOrDefault(bWire);\n",
        "\n",
        "            var outputVal = (aVal, op, bVal) switch {\n",
        "                (not null, \u0022OR\u0022, not null) =\u003E aVal | bVal,\n",
        "                (not null, \u0022AND\u0022, not null) =\u003E aVal \u0026 bVal,\n",
        "                (not null, \u0022XOR\u0022, not null) =\u003E aVal ^ bVal,\n",
        "                _ =\u003E null\n",
        "            };\n",
        "\n",
        "            SendSignal(outputWire, outputVal);\n",
        "        };\n",
        "    }\n",
        "\n",
        "    void SendSignal(Wire inputWire, Signal signal)\n",
        "    {\n",
        "        if (signal is null) { return; }\n",
        "\n",
        "        _signals[inputWire] = signal;\n",
        "        foreach (var signalFunc in _gateFuncs.GetValueOrDefault(inputWire, []))\n",
        "        {\n",
        "            signalFunc();\n",
        "        }\n",
        "    }\n",
        "\n",
        "    public long DecimalValue\n",
        "    {\n",
        "        get\n",
        "        {\n",
        "            var zOutputs = _signals.Where(kv =\u003E kv.Key[0] is \u0027z\u0027).OrderBy(kv =\u003E kv.Key).Reverse();\n",
        "\n",
        "            return zOutputs.Aggregate(0L, (v, next) =\u003E (v \u003C\u003C= 1) | (next.Value.Value ? 1L : 0L));\n",
        "        }\n",
        "    }\n",
        "\n",
        "    Dictionary\u003CWire, Signal\u003E _signals;\n",
        "    Dictionary\u003CWire, IList\u003CAction\u003E\u003E _gateFuncs;\n",
        "}"
      ]
    },
    {
      "cell_type": "code",
      "execution_count": 6,
      "metadata": {
        "dotnet_interactive": {
          "language": "csharp"
        },
        "polyglot_notebook": {
          "kernelName": "csharp"
        },
        "vscode": {
          "languageId": "polyglot-notebook"
        }
      },
      "outputs": [
        {
          "name": "stdout",
          "output_type": "stream",
          "text": [
            "45923082839246\n"
          ]
        }
      ],
      "source": [
        "Device part1Device = new(gates);\n",
        "part1Device.Simulate(signals);\n",
        "var part1Answer = part1Device.DecimalValue;\n",
        "Console.WriteLine(part1Answer);"
      ]
    },
    {
      "cell_type": "code",
      "execution_count": 7,
      "metadata": {
        "dotnet_interactive": {
          "language": "csharp"
        },
        "polyglot_notebook": {
          "kernelName": "csharp"
        },
        "vscode": {
          "languageId": "polyglot-notebook"
        }
      },
      "outputs": [],
      "source": [
        "// 45923082839246 is correct!\n",
        "Ensure(45923082839246L, part1Answer);"
      ]
    },
    {
      "cell_type": "markdown",
      "metadata": {
        "dotnet_interactive": {
          "language": "csharp"
        },
        "polyglot_notebook": {
          "kernelName": "csharp"
        },
        "vscode": {
          "languageId": "polyglot-notebook"
        }
      },
      "source": [
        "### --- Part Two ---\n",
        "\n",
        "Puzzle description redacted as-per Advent of Code guidelines\n",
        "\n",
        "You may find the puzzle description at: https://adventofcode.com/2024/day/24"
      ]
    },
    {
      "cell_type": "markdown",
      "metadata": {},
      "source": [
        "Ok, for part 2, the output wires of four pairs of gates have been swapped. It actually took me a minute or two to grasp what\u0027s going on here, as each line of gate definition contains IDs for its inputs as well as outputs. I found the easiest way to think about the problem is in pairs of lines. That is, we find two lines from our gate definitions, eg:\n",
        "\n",
        "\u0060\u0060\u0060\n",
        "x00 AND y00 -\u003E z05  \u003C--- first\n",
        "x01 AND y01 -\u003E z02\n",
        "x02 AND y02 -\u003E z01  \u003C--- second\n",
        "\u0060\u0060\u0060\n",
        "\n",
        "...and just swap the output IDs. Other gates that use those same IDs in their inputs do not change.\n",
        "\n",
        "On to solutions - the most basic approach would be to try all combinations of line pairs. An unlikely approach, but let\u0027s confirm:"
      ]
    },
    {
      "cell_type": "code",
      "execution_count": 9,
      "metadata": {
        "dotnet_interactive": {
          "language": "csharp"
        },
        "polyglot_notebook": {
          "kernelName": "csharp"
        },
        "vscode": {
          "languageId": "polyglot-notebook"
        }
      },
      "outputs": [
        {
          "name": "stdout",
          "output_type": "stream",
          "text": [
            "Total gates: 222\n",
            "Total gate pairs: 49062\n",
            "Total 4-combinations of pairs: 5793324824960810280\n"
          ]
        }
      ],
      "source": [
        "// Ok, the braindead approach would be to try all permutations of 8 items. Is that even feasible?\n",
        "\n",
        "void CheckOutputSwaps(string[] gateDefs)\n",
        "{\n",
        "    var totalGates = gateDefs.Count();\n",
        "    Console.WriteLine($\u0022Total gates: {totalGates}\u0022);\n",
        "\n",
        "    var totalPairs = totalGates * (totalGates - 1);\n",
        "    Console.WriteLine($\u0022Total gate pairs: {totalPairs}\u0022);\n",
        "\n",
        "    var combos = Enumerable.Range(0, 4).Select(i =\u003E totalPairs - i).Aggregate(1L, (a, b) =\u003E a * b);\n",
        "    Console.WriteLine($\u0022Total 4-combinations of pairs: {combos}\u0022);\n",
        "}\n",
        "\n",
        "CheckOutputSwaps(gates);"
      ]
    },
    {
      "cell_type": "markdown",
      "metadata": {
        "vscode": {
          "languageId": "polyglot-notebook"
        }
      },
      "source": [
        "Ok, clearly way too many pair combinations to brute force. Perhaps we could reduce the number of gates involved, but we\u0027ll try a few other things first.\n",
        "\n",
        "Let\u0027s try rendering as a flowchart - that worked for the counter puzzle last year:"
      ]
    },
    {
      "cell_type": "code",
      "execution_count": 10,
      "metadata": {
        "dotnet_interactive": {
          "language": "csharp"
        },
        "polyglot_notebook": {
          "kernelName": "csharp"
        },
        "vscode": {
          "languageId": "polyglot-notebook"
        }
      },
      "outputs": [
        {
          "data": {
            "text/html": [
              "\u003Cdiv class=\u0022mermaidMarkdownContainer\u0022 style=\u0022background-color:white\u0022\u003E\n",
              "\u003Clink rel=\u0022stylesheet\u0022 href=\u0022https://cdnjs.cloudflare.com/ajax/libs/font-awesome/6.2.0/css/all.min.css\u0022\u003E\n",
              "\u003Cdiv id=\u002262035069388a44878872f0c5cac53525\u0022\u003E\u003C/div\u003E\n",
              "\u003Cscript type=\u0022module\u0022\u003E\n",
              "\r\n",
              "            import mermaid from \u0027https://cdn.jsdelivr.net/npm/mermaid@10.6.1/dist/mermaid.esm.min.mjs\u0027;\r\n",
              "            let renderTarget = document.getElementById(\u002762035069388a44878872f0c5cac53525\u0027);\r\n",
              "            try {\r\n",
              "                const {svg, bindFunctions} = await mermaid.mermaidAPI.render( \r\n",
              "                    \u0027mermaid_62035069388a44878872f0c5cac53525\u0027, \r\n",
              "                    \u0060flowchart LR\n",
              "    vgh --\u003E kfp\n",
              "    dhk --\u003E kfp\n",
              "    qpb --\u003E z45\n",
              "    tdt --\u003E z45\n",
              "    njd --\u003E z33\n",
              "    hwt --\u003E z33\n",
              "    y38 --\u003E srk\n",
              "    x38 --\u003E srk\n",
              "    y25 --\u003E sth\n",
              "    x25 --\u003E sth\n",
              "    jrw --\u003E htw\n",
              "    tmm --\u003E htw\n",
              "    qkn --\u003E kff\n",
              "    dvc --\u003E kff\n",
              "    x08 --\u003E kmm\n",
              "    y08 --\u003E kmm\n",
              "    dcj --\u003E jkm\n",
              "    wrr --\u003E jkm\n",
              "    mmc --\u003E z05\n",
              "    mdv --\u003E z05\n",
              "    x35 --\u003E vss\n",
              "    y35 --\u003E vss\n",
              "    x14 --\u003E nvj\n",
              "    y14 --\u003E nvj\n",
              "    fks --\u003E fww\n",
              "    mgs --\u003E fww\n",
              "    jnh --\u003E z24\n",
              "    njq --\u003E z24\n",
              "    mfk --\u003E z12\n",
              "    pwh --\u003E z12\n",
              "    rbc --\u003E jqw\n",
              "    kgg --\u003E jqw\n",
              "    cbm --\u003E nfn\n",
              "    jjn --\u003E nfn\n",
              "    x30 --\u003E fqm\n",
              "    y30 --\u003E fqm\n",
              "    x18 --\u003E kgg\n",
              "    y18 --\u003E kgg\n",
              "    x23 --\u003E smg\n",
              "    y23 --\u003E smg\n",
              "    y36 --\u003E sfh\n",
              "    x36 --\u003E sfh\n",
              "    kvb --\u003E dhk\n",
              "    fhp --\u003E dhk\n",
              "    y24 --\u003E njq\n",
              "    x24 --\u003E njq\n",
              "    x20 --\u003E hkt\n",
              "    y20 --\u003E hkt\n",
              "    x36 --\u003E dcq\n",
              "    y36 --\u003E dcq\n",
              "    y17 --\u003E wvs\n",
              "    x17 --\u003E wvs\n",
              "    y09 --\u003E wpr\n",
              "    x09 --\u003E wpr\n",
              "    tjp --\u003E trq\n",
              "    tdk --\u003E trq\n",
              "    gkq --\u003E z08\n",
              "    qbf --\u003E z08\n",
              "    fmw --\u003E twt\n",
              "    ffk --\u003E twt\n",
              "    y38 --\u003E ccw\n",
              "    x38 --\u003E ccw\n",
              "    vss --\u003E bbq\n",
              "    nkn --\u003E bbq\n",
              "    x02 --\u003E rfb\n",
              "    y02 --\u003E rfb\n",
              "    wwj --\u003E njd\n",
              "    pjn --\u003E njd\n",
              "    csn --\u003E z19\n",
              "    jqw --\u003E z19\n",
              "    y06 --\u003E fwp\n",
              "    x06 --\u003E fwp\n",
              "    tms --\u003E nkn\n",
              "    wbm --\u003E nkn\n",
              "    tff --\u003E jgd\n",
              "    nbm --\u003E jgd\n",
              "    y13 --\u003E vgh\n",
              "    x13 --\u003E vgh\n",
              "    y19 --\u003E dwn\n",
              "    x19 --\u003E dwn\n",
              "    nfn --\u003E jwb\n",
              "    nsk --\u003E jwb\n",
              "    smg --\u003E z23\n",
              "    hrk --\u003E z23\n",
              "    kkp --\u003E jnh\n",
              "    tnm --\u003E jnh\n",
              "    x03 --\u003E tjp\n",
              "    y03 --\u003E tjp\n",
              "    qbf --\u003E thk\n",
              "    gkq --\u003E thk\n",
              "    x16 --\u003E gjg\n",
              "    y16 --\u003E gjg\n",
              "    mfk --\u003E wpw\n",
              "    pwh --\u003E wpw\n",
              "    y06 --\u003E jdp\n",
              "    x06 --\u003E jdp\n",
              "    x22 --\u003E cnp\n",
              "    y22 --\u003E cnp\n",
              "    bwv --\u003E mpd\n",
              "    fwb --\u003E mpd\n",
              "    mpd --\u003E hmk\n",
              "    wnw --\u003E hmk\n",
              "    y21 --\u003E hvt\n",
              "    x21 --\u003E hvt\n",
              "    fmd --\u003E z26\n",
              "    qcw --\u003E z26\n",
              "    tcs --\u003E z10\n",
              "    hwg --\u003E z10\n",
              "    fwp --\u003E qjk\n",
              "    fww --\u003E qjk\n",
              "    x29 --\u003E nfp\n",
              "    y29 --\u003E nfp\n",
              "    cmj --\u003E fpt\n",
              "    htw --\u003E fpt\n",
              "    x10 --\u003E psb\n",
              "    y10 --\u003E psb\n",
              "    mkr --\u003E fhf\n",
              "    tqp --\u003E fhf\n",
              "    bqn --\u003E z15\n",
              "    kmr --\u003E z15\n",
              "    qkq --\u003E z20\n",
              "    stj --\u003E z20\n",
              "    cnp --\u003E hrk\n",
              "    dbc --\u003E hrk\n",
              "    vcg --\u003E rss\n",
              "    qgb --\u003E rss\n",
              "    bqs --\u003E qbf\n",
              "    qnq --\u003E qbf\n",
              "    sth --\u003E qcw\n",
              "    rss --\u003E qcw\n",
              "    sfh --\u003E stg\n",
              "    bbq --\u003E stg\n",
              "    stj --\u003E jgb\n",
              "    qkq --\u003E jgb\n",
              "    wsq --\u003E hrn\n",
              "    wvs --\u003E hrn\n",
              "    y05 --\u003E mdv\n",
              "    x05 --\u003E mdv\n",
              "    y27 --\u003E wnw\n",
              "    x27 --\u003E wnw\n",
              "    nsm --\u003E z32\n",
              "    mfq --\u003E z32\n",
              "    njd --\u003E ppm\n",
              "    hwt --\u003E ppm\n",
              "    csn --\u003E skp\n",
              "    jqw --\u003E skp\n",
              "    y39 --\u003E bnj\n",
              "    x39 --\u003E bnj\n",
              "    rkf --\u003E tcs\n",
              "    hvk --\u003E tcs\n",
              "    y41 --\u003E nsk\n",
              "    x41 --\u003E nsk\n",
              "    hmk --\u003E tff\n",
              "    tqj --\u003E tff\n",
              "    hrn --\u003E z18\n",
              "    pfb --\u003E z18\n",
              "    x32 --\u003E mfq\n",
              "    y32 --\u003E mfq\n",
              "    wmj --\u003E gsj\n",
              "    djn --\u003E gsj\n",
              "    tnm --\u003E vcg\n",
              "    kkp --\u003E vcg\n",
              "    x00 --\u003E mjh\n",
              "    y00 --\u003E mjh\n",
              "    srk --\u003E rsg\n",
              "    rtf --\u003E rsg\n",
              "    x04 --\u003E hcs\n",
              "    y04 --\u003E hcs\n",
              "    y33 --\u003E fjr\n",
              "    x33 --\u003E fjr\n",
              "    y27 --\u003E tqj\n",
              "    x27 --\u003E tqj\n",
              "    psb --\u003E whj\n",
              "    pjf --\u003E whj\n",
              "    jnn --\u003E hvk\n",
              "    wpr --\u003E hvk\n",
              "    y42 --\u003E dvc\n",
              "    x42 --\u003E dvc\n",
              "    x18 --\u003E pfb\n",
              "    y18 --\u003E pfb\n",
              "    x25 --\u003E qgb\n",
              "    y25 --\u003E qgb\n",
              "    x03 --\u003E csd\n",
              "    y03 --\u003E csd\n",
              "    y40 --\u003E qbn\n",
              "    x40 --\u003E qbn\n",
              "    kbq --\u003E tdk\n",
              "    csd --\u003E tdk\n",
              "    rdj --\u003E tqp\n",
              "    mjh --\u003E tqp\n",
              "    fhp --\u003E z13\n",
              "    kvb --\u003E z13\n",
              "    y10 --\u003E hwg\n",
              "    x10 --\u003E hwg\n",
              "    x01 --\u003E mkr\n",
              "    y01 --\u003E mkr\n",
              "    vpc --\u003E wbm\n",
              "    mqg --\u003E wbm\n",
              "    csf --\u003E z31\n",
              "    rrs --\u003E z31\n",
              "    wmj --\u003E z37\n",
              "    djn --\u003E z37\n",
              "    mpd --\u003E z27\n",
              "    wnw --\u003E z27\n",
              "    fwg --\u003E z07\n",
              "    rvj --\u003E z07\n",
              "    csd --\u003E z03\n",
              "    kbq --\u003E z03\n",
              "    dwn --\u003E stj\n",
              "    skp --\u003E stj\n",
              "    vfd --\u003E z44\n",
              "    pjw --\u003E z44\n",
              "    psg --\u003E dcj\n",
              "    jgd --\u003E dcj\n",
              "    x15 --\u003E kmr\n",
              "    y15 --\u003E kmr\n",
              "    nbm --\u003E z28\n",
              "    tff --\u003E z28\n",
              "    x07 --\u003E rvj\n",
              "    y07 --\u003E rvj\n",
              "    rsp --\u003E wsq\n",
              "    fsf --\u003E wsq\n",
              "    x16 --\u003E cmj\n",
              "    y16 --\u003E cmj\n",
              "    y05 --\u003E mgs\n",
              "    x05 --\u003E mgs\n",
              "    y11 --\u003E bcw\n",
              "    x11 --\u003E bcw\n",
              "    y40 --\u003E cbm\n",
              "    x40 --\u003E cbm\n",
              "    bvn --\u003E qkn\n",
              "    jwb --\u003E qkn\n",
              "    tkv --\u003E wkn\n",
              "    npv --\u003E wkn\n",
              "    grc --\u003E mmc\n",
              "    jwd --\u003E mmc\n",
              "    ffk --\u003E z30\n",
              "    fmw --\u003E z30\n",
              "    ghk --\u003E pwh\n",
              "    grb --\u003E pwh\n",
              "    x30 --\u003E fmw\n",
              "    y30 --\u003E fmw\n",
              "    ppm --\u003E fsn\n",
              "    fjr --\u003E fsn\n",
              "    khg --\u003E pjw\n",
              "    wkn --\u003E pjw\n",
              "    x17 --\u003E fsf\n",
              "    y17 --\u003E fsf\n",
              "    y44 --\u003E vfd\n",
              "    x44 --\u003E vfd\n",
              "    x13 --\u003E fhp\n",
              "    y13 --\u003E fhp\n",
              "    y28 --\u003E psg\n",
              "    x28 --\u003E psg\n",
              "    pcp --\u003E tkv\n",
              "    kff --\u003E tkv\n",
              "    bhs --\u003E z34\n",
              "    fsn --\u003E z34\n",
              "    dvc --\u003E z42\n",
              "    qkn --\u003E z42\n",
              "    pst --\u003E jjn\n",
              "    qbn --\u003E jjn\n",
              "    bcw --\u003E z11\n",
              "    whj --\u003E z11\n",
              "    kmr --\u003E jrw\n",
              "    bqn --\u003E jrw\n",
              "    pfb --\u003E rbc\n",
              "    hrn --\u003E rbc\n",
              "    x37 --\u003E djn\n",
              "    y37 --\u003E djn\n",
              "    x31 --\u003E rrs\n",
              "    y31 --\u003E rrs\n",
              "    csf --\u003E pgq\n",
              "    rrs --\u003E pgq\n",
              "    tms --\u003E z35\n",
              "    wbm --\u003E z35\n",
              "    khb --\u003E dbc\n",
              "    qtq --\u003E dbc\n",
              "    fsn --\u003E vpc\n",
              "    bhs --\u003E vpc\n",
              "    y14 --\u003E rvd\n",
              "    x14 --\u003E rvd\n",
              "    x22 --\u003E khb\n",
              "    y22 --\u003E khb\n",
              "    rdj --\u003E z01\n",
              "    mjh --\u003E z01\n",
              "    hvt --\u003E shc\n",
              "    bfp --\u003E shc\n",
              "    rfb --\u003E kbq\n",
              "    qtr --\u003E kbq\n",
              "    y26 --\u003E bwv\n",
              "    x26 --\u003E bwv\n",
              "    y37 --\u003E trf\n",
              "    x37 --\u003E trf\n",
              "    x12 --\u003E qcg\n",
              "    y12 --\u003E qcg\n",
              "    x23 --\u003E knh\n",
              "    y23 --\u003E knh\n",
              "    qcg --\u003E kvb\n",
              "    wpw --\u003E kvb\n",
              "    gsj --\u003E wqq\n",
              "    trf --\u003E wqq\n",
              "    fmd --\u003E fwb\n",
              "    qcw --\u003E fwb\n",
              "    x41 --\u003E bvn\n",
              "    y41 --\u003E bvn\n",
              "    nsk --\u003E z41\n",
              "    nfn --\u003E z41\n",
              "    rvc --\u003E nsm\n",
              "    pgq --\u003E nsm\n",
              "    y32 --\u003E pjn\n",
              "    x32 --\u003E pjn\n",
              "    vfd --\u003E qpb\n",
              "    pjw --\u003E qpb\n",
              "    mfq --\u003E wwj\n",
              "    nsm --\u003E wwj\n",
              "    cmj --\u003E z16\n",
              "    htw --\u003E z16\n",
              "    jkm --\u003E ffk\n",
              "    nfp --\u003E ffk\n",
              "    x42 --\u003E pcp\n",
              "    y42 --\u003E pcp\n",
              "    fsf --\u003E z17\n",
              "    rsp --\u003E z17\n",
              "    rvj --\u003E bqs\n",
              "    fwg --\u003E bqs\n",
              "    y28 --\u003E nbm\n",
              "    x28 --\u003E nbm\n",
              "    tcs --\u003E pjf\n",
              "    hwg --\u003E pjf\n",
              "    x08 --\u003E gkq\n",
              "    y08 --\u003E gkq\n",
              "    qgb --\u003E z25\n",
              "    vcg --\u003E z25\n",
              "    hcs --\u003E z04\n",
              "    trq --\u003E z04\n",
              "    jgb --\u003E bfp\n",
              "    hkt --\u003E bfp\n",
              "    rvd --\u003E z14\n",
              "    kfp --\u003E z14\n",
              "    wqq --\u003E rtf\n",
              "    ccw --\u003E rtf\n",
              "    y20 --\u003E qkq\n",
              "    x20 --\u003E qkq\n",
              "    kfp --\u003E qmp\n",
              "    rvd --\u003E qmp\n",
              "    x04 --\u003E grc\n",
              "    y04 --\u003E grc\n",
              "    qbn --\u003E z40\n",
              "    pst --\u003E z40\n",
              "    fqm --\u003E csf\n",
              "    twt --\u003E csf\n",
              "    khb --\u003E z22\n",
              "    qtq --\u003E z22\n",
              "    y00 --\u003E z00\n",
              "    x00 --\u003E z00\n",
              "    y34 --\u003E mqg\n",
              "    x34 --\u003E mqg\n",
              "    x11 --\u003E grb\n",
              "    y11 --\u003E grb\n",
              "    y34 --\u003E bhs\n",
              "    x34 --\u003E bhs\n",
              "    y09 --\u003E z09\n",
              "    x09 --\u003E z09\n",
              "    hrk --\u003E vvb\n",
              "    smg --\u003E vvb\n",
              "    x12 --\u003E mfk\n",
              "    y12 --\u003E mfk\n",
              "    gjg --\u003E rsp\n",
              "    fpt --\u003E rsp\n",
              "    y39 --\u003E hkr\n",
              "    x39 --\u003E hkr\n",
              "    x31 --\u003E rvc\n",
              "    y31 --\u003E rvc\n",
              "    kmm --\u003E jnn\n",
              "    thk --\u003E jnn\n",
              "    rsg --\u003E z39\n",
              "    hkr --\u003E z39\n",
              "    fht --\u003E z02\n",
              "    fhf --\u003E z02\n",
              "    hkr --\u003E mhh\n",
              "    rsg --\u003E mhh\n",
              "    bfp --\u003E z21\n",
              "    hvt --\u003E z21\n",
              "    shc --\u003E qtq\n",
              "    nvr --\u003E qtq\n",
              "    y01 --\u003E rdj\n",
              "    x01 --\u003E rdj\n",
              "    trq --\u003E jwd\n",
              "    hcs --\u003E jwd\n",
              "    y07 --\u003E qnq\n",
              "    x07 --\u003E qnq\n",
              "    qmp --\u003E bqn\n",
              "    nvj --\u003E bqn\n",
              "    x29 --\u003E wrr\n",
              "    y29 --\u003E wrr\n",
              "    y33 --\u003E hwt\n",
              "    x33 --\u003E hwt\n",
              "    x19 --\u003E csn\n",
              "    y19 --\u003E csn\n",
              "    whj --\u003E ghk\n",
              "    bcw --\u003E ghk\n",
              "    y24 --\u003E tnm\n",
              "    x24 --\u003E tnm\n",
              "    dcq --\u003E wmj\n",
              "    stg --\u003E wmj\n",
              "    tkv --\u003E z43\n",
              "    npv --\u003E z43\n",
              "    mhh --\u003E pst\n",
              "    bnj --\u003E pst\n",
              "    mmc --\u003E fks\n",
              "    mdv --\u003E fks\n",
              "    x02 --\u003E fht\n",
              "    y02 --\u003E fht\n",
              "    y44 --\u003E tdt\n",
              "    x44 --\u003E tdt\n",
              "    x43 --\u003E khg\n",
              "    y43 --\u003E khg\n",
              "    jnn --\u003E rkf\n",
              "    wpr --\u003E rkf\n",
              "    knh --\u003E kkp\n",
              "    vvb --\u003E kkp\n",
              "    y15 --\u003E tmm\n",
              "    x15 --\u003E tmm\n",
              "    x35 --\u003E tms\n",
              "    y35 --\u003E tms\n",
              "    fht --\u003E qtr\n",
              "    fhf --\u003E qtr\n",
              "    dcj --\u003E z29\n",
              "    wrr --\u003E z29\n",
              "    fww --\u003E z06\n",
              "    fwp --\u003E z06\n",
              "    y21 --\u003E nvr\n",
              "    x21 --\u003E nvr\n",
              "    y43 --\u003E npv\n",
              "    x43 --\u003E npv\n",
              "    sfh --\u003E z36\n",
              "    bbq --\u003E z36\n",
              "    qjk --\u003E fwg\n",
              "    jdp --\u003E fwg\n",
              "    y26 --\u003E fmd\n",
              "    x26 --\u003E fmd\n",
              "    wqq --\u003E z38\n",
              "    ccw --\u003E z38\n",
              "\u0060);\r\n",
              "                renderTarget.innerHTML = svg;\r\n",
              "                bindFunctions?.(renderTarget);\r\n",
              "            }\r\n",
              "            catch (error) {\r\n",
              "                console.log(error);\r\n",
              "            }\n",
              "\u003C/script\u003E\n",
              "\u003C/div\u003E\n"
            ]
          },
          "metadata": {},
          "output_type": "display_data"
        }
      ],
      "source": [
        "async Task MakeItFlow(string[] gateDefs)\n",
        "{\n",
        "    StringBuilder sb = new();\n",
        "    sb.AppendLine(\u0022flowchart LR\u0022);\n",
        "\n",
        "    foreach (var line in gateDefs)\n",
        "    {\n",
        "        var (a, op, b, _, output) = line.Split(\u0027 \u0027).ToArray();\n",
        "\n",
        "        sb.AppendLine($\u0022    {a} --\u003E {output}\u0022);\n",
        "        sb.AppendLine($\u0022    {b} --\u003E {output}\u0022);\n",
        "    }\n",
        "\n",
        "    await RunCellFromString(sb.ToString(), \u0022mermaid\u0022);\n",
        "}\n",
        "\n",
        "await MakeItFlow(gates);"
      ]
    },
    {
      "cell_type": "markdown",
      "metadata": {},
      "source": [
        "Seems the chart doesn\u0027t even load :) Pasting the text into the [Mermaid Chart Online Playground](https://www.mermaidchart.com) does however. We get the following image:\n",
        "\n",
        "![Online chart rendered output](Day24.mermaid.svg)\n",
        "\n",
        "Looks like it\u0027s semi-structured, but nothing immediately obvious jumps out.\n",
        "\n",
        "I can only presume that, given we\u0027re dealing with bitwise addition and logic gates, the gates are structured as adders. Time to refresh my memory on adder gate structure. Thanks to [this article on VerilogCode.com](http://www.verilogcode.com/2015/05/digital-logic-design-full-adder-using.html) for the following images.\n",
        "\n",
        "A *half adder* is structured like so:\n",
        "\n",
        "![Half adder](https://lh5.googleusercontent.com/LGpTC5kvu-DDKV1zA5_3kuW0EDxgx8c1a32gldLwhff6XF14o67Q7WQ55ey2bzLCYEMj35gTfzpQTNJqfhc7B94iRQaCeGI3k3mROp1_yf2MFIPdgJDfhU6pbxy6KEGTNv2tXQU)\n",
        "\n",
        "We should expect our first two inputs \u0060x00\u0060 and \u0060y00\u0060 to be a half adder, since there\u0027s no carry-in. Checking the gate definitions in the input text, it looks like this is the case!\n",
        "\n",
        "\u0060\u0060\u0060\n",
        "y00 XOR x00 -\u003E z00 --\u003E Result\n",
        "x00 AND y00 -\u003E mjh --\u003E Carry\n",
        "\u0060\u0060\u0060\n",
        "\n",
        "Now, we should see the carry-out of this half adder passed into the *full adder* for bits \u0060x01\u0060 and \u0060y01\u0060. A full adder looks like so:\n",
        "\n",
        "![Full adder](https://blogger.googleusercontent.com/img/b/R29vZ2xl/AVvXsEjCggOUxzlTPs-wHi0vUNmUCnvInN7KwvnA6vIRpWaGZcaOv0vZLIbPnLok-UKM5q1zNlduG0xMpDXvQY9u6LltgnxJB4Lpqi8x5RVKYOfmnuq4wX4HXiIUEcwdRlAqSmpqECdAiZzht5Y/s1600/Screen\u002BShot\u002B2015-05-15\u002Bat\u002B10.52.26\u002BPM.png)\n",
        "\n",
        "We know the first carry-in bit should be \u0060mjh\u0060, so let\u0027s check our gate definitions:\n",
        "\n",
        "\u0060\u0060\u0060\n",
        "y01 XOR x01 -\u003E rdj\n",
        "rdj XOR mjh -\u003E z01 --\u003E Result\n",
        "\n",
        "x01 AND y01 -\u003E mkr\n",
        "rdj AND mjh -\u003E tqp\n",
        "mkr OR tqp -\u003E fhf  --\u003E Cout\n",
        "\u0060\u0060\u0060\n",
        "\n",
        "Again we have a match! So we know the gates are structured in adder formation. Also, we know that the first half-adder is correct, so we can focus on the full adders only: perhaps we can trace the gates, and throw errors when we fail validation. We might have to manually correct, but at the end we should be able to find our 4 swaps."
      ]
    },
    {
      "cell_type": "code",
      "execution_count": 11,
      "metadata": {
        "dotnet_interactive": {
          "language": "csharp"
        },
        "polyglot_notebook": {
          "kernelName": "csharp"
        },
        "vscode": {
          "languageId": "polyglot-notebook"
        }
      },
      "outputs": [
        {
          "name": "stdout",
          "output_type": "stream",
          "text": [
            "jgb,rkf,rrs,rvc,vcg,z09,z20,z24\n"
          ]
        }
      ],
      "source": [
        "Wire AssertAdder(string[] gateDefs, Wire a, Wire b, Wire cin, Wire result)\n",
        "{\n",
        "    // Result gates\n",
        "    var aXORb = Find(a, \u0022XOR\u0022, b);\n",
        "    var resultWire = Find(aXORb, \u0022XOR\u0022, cin);\n",
        "    \n",
        "    if (resultWire != result)\n",
        "    {\n",
        "        throw new Exception($\u0022Expected result wire to be {result}, was {resultWire}\u0022);\n",
        "    }\n",
        "    \n",
        "    // Cout gates\n",
        "    var aANDb = Find(a, \u0022AND\u0022, b);\n",
        "    var and2 = Find(aXORb, \u0022AND\u0022, cin);\n",
        "    var coutWire = Find(and2, \u0022OR\u0022, aANDb);\n",
        "\n",
        "    return coutWire;\n",
        "\n",
        "    Wire Find(Wire a, Wire op, Wire b)\n",
        "    {\n",
        "        var targetLine1 = $\u0022{a} {op} {b}\u0022;\n",
        "        var targetLine2 = $\u0022{b} {op} {a}\u0022;\n",
        "\n",
        "        return gateDefs.SingleOrDefault(line =\u003E line.StartsWith(targetLine1) || line.StartsWith(targetLine2)) switch {\n",
        "            var x when x is not null =\u003E x[^3..],\n",
        "            _ =\u003E throw new Exception($\u0022Cannot find {a} {op} {b}\u0022)\n",
        "        };\n",
        "    }\n",
        "}\n",
        "\n",
        "string CheckAllGates()\n",
        "{\n",
        "    // mjh is the first carry-in, as shown above\n",
        "    var carryIn = \u0022mjh\u0022;\n",
        "    var gateDefs = gates.ToArray();\n",
        "\n",
        "    // At each run, the verification would fail on the next crossed wire. The\n",
        "    // following swaps are the result of manually inspecting and fixing each one.\n",
        "    List\u003Cstring\u003E swaps = new();\n",
        "    // Failure on x09\n",
        "    swap(\u0022jnn XOR wpr -\u003E rkf\u0022, \u0022y09 AND x09 -\u003E z09\u0022);\n",
        "    // Failure on x20\n",
        "    swap(\u0022stj XOR qkq -\u003E jgb\u0022, \u0022qkq AND stj -\u003E z20\u0022);\n",
        "    // Failure on x24\n",
        "    swap(\u0022tnm XOR kkp -\u003E vcg\u0022, \u0022jnh OR njq -\u003E z24\u0022);\n",
        "    // Failure on x31\n",
        "    swap(\u0022x31 XOR y31 -\u003E rvc\u0022, \u0022x31 AND y31 -\u003E rrs\u0022);\n",
        "    \n",
        "    // Verify each adder, using the previous carry-out bit as the carry-in\n",
        "    foreach (var i in Enumerable.Range(1, 44))\n",
        "    {\n",
        "        var ii = i.ToString(\u002200\u0022);\n",
        "        var a = $\u0022x{ii}\u0022;\n",
        "        var b = $\u0022y{ii}\u0022;\n",
        "        var result = $\u0022z{ii}\u0022;\n",
        "\n",
        "        // Console.WriteLine($\u0022Checking {a} \u002B {b} = {result}\u0022);\n",
        "        var carryOut = AssertAdder(gateDefs, a, b, carryIn, result);\n",
        "        // Console.WriteLine($\u0022Passed. CarryOut is {carryOut}\u0022);\n",
        "        carryIn = carryOut;\n",
        "    }\n",
        "\n",
        "    void swap(string a, string b)\n",
        "    {\n",
        "        var (aHead, aTail) = a.Split(\u0022 -\u003E \u0022);\n",
        "        var (bHead, bTail) = b.Split(\u0022 -\u003E \u0022);\n",
        "\n",
        "        gateDefs = gateDefs.Select(line =\u003E line\n",
        "            .Replace(a, $\u0022{aHead} -\u003E {bTail}\u0022)\n",
        "            .Replace(b, $\u0022{bHead} -\u003E {aTail}\u0022)\n",
        "        ).ToArray();\n",
        "\n",
        "        swaps.AddRange([aTail, bTail]);\n",
        "    }\n",
        "\n",
        "    swaps.Sort();\n",
        "    return string.Join(\u0022,\u0022, swaps);\n",
        "}\n",
        "\n",
        "var part2Result = CheckAllGates();\n",
        "Console.WriteLine(part2Result);"
      ]
    },
    {
      "cell_type": "code",
      "execution_count": 12,
      "metadata": {
        "dotnet_interactive": {
          "language": "csharp"
        },
        "polyglot_notebook": {
          "kernelName": "csharp"
        },
        "vscode": {
          "languageId": "polyglot-notebook"
        }
      },
      "outputs": [],
      "source": [
        "// jgb,rkf,rrs,rvc,vcg,z09,z20,z24 is correct!\n",
        "Ensure(\u0022jgb,rkf,rrs,rvc,vcg,z09,z20,z24\u0022, part2Result);"
      ]
    }
  ],
  "metadata": {
    "kernelspec": {
      "display_name": ".NET (C#)",
      "language": "C#",
      "name": ".net-csharp"
    },
    "language_info": {
      "name": "python",
      "version": "3.9.6"
    },
    "polyglot_notebook": {
      "kernelInfo": {
        "defaultKernelName": "csharp",
        "items": [
          {
            "aliases": [],
            "name": "csharp"
          }
        ]
      }
    }
  },
  "nbformat": 4,
  "nbformat_minor": 2
}