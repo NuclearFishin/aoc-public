{
  "cells": [
    {
      "cell_type": "markdown",
      "metadata": {
        "dotnet_interactive": {
          "language": "csharp"
        },
        "polyglot_notebook": {
          "kernelName": "csharp"
        },
        "vscode": {
          "languageId": "polyglot-notebook"
        }
      },
      "source": [
        "### --- Day 14: Restroom Redoubt ---\n",
        "\n",
        "Puzzle description redacted as-per Advent of Code guidelines\n",
        "\n",
        "You may find the puzzle description at: https://adventofcode.com/2024/day/14"
      ]
    },
    {
      "cell_type": "code",
      "execution_count": 2,
      "metadata": {
        "dotnet_interactive": {
          "language": "csharp"
        },
        "polyglot_notebook": {
          "kernelName": "csharp"
        },
        "vscode": {
          "languageId": "polyglot-notebook"
        }
      },
      "outputs": [],
      "source": [
        "#!import ../Utils.ipynb"
      ]
    },
    {
      "cell_type": "code",
      "execution_count": 3,
      "metadata": {
        "dotnet_interactive": {
          "language": "csharp"
        },
        "polyglot_notebook": {
          "kernelName": "csharp"
        },
        "vscode": {
          "languageId": "polyglot-notebook"
        }
      },
      "outputs": [
        {
          "name": "stdout",
          "output_type": "stream",
          "text": [
            "Loading puzzle file: Day14.txt\n",
            "Total lines: 500\n",
            "Max line length: 18\n",
            "\n",
            "p=39,34 v=40,73\n",
            "p=43,71 v=-56,-11\n",
            "p=87,9 v=71,41\n",
            "p=67,40 v=12,6\n",
            "p=54,54 v=-22,73\n"
          ]
        }
      ],
      "source": [
        "var inputLines = LoadPuzzleInput(2024, 14);\n",
        "WriteLines(inputLines);"
      ]
    },
    {
      "cell_type": "code",
      "execution_count": 4,
      "metadata": {
        "dotnet_interactive": {
          "language": "csharp"
        },
        "polyglot_notebook": {
          "kernelName": "csharp"
        },
        "vscode": {
          "languageId": "polyglot-notebook"
        }
      },
      "outputs": [],
      "source": [
        "string[] testInputLines = [\n",
        "    \u0022p=0,4 v=3,-3\u0022,\n",
        "    \u0022p=6,3 v=-1,-3\u0022,\n",
        "    \u0022p=10,3 v=-1,2\u0022,\n",
        "    \u0022p=2,0 v=2,-1\u0022,\n",
        "    \u0022p=0,0 v=1,3\u0022,\n",
        "    \u0022p=3,0 v=-2,-2\u0022,\n",
        "    \u0022p=7,6 v=-1,-3\u0022,\n",
        "    \u0022p=3,0 v=-1,-2\u0022,\n",
        "    \u0022p=9,3 v=2,3\u0022,\n",
        "    \u0022p=7,3 v=-1,2\u0022,\n",
        "    \u0022p=2,4 v=2,-3\u0022,\n",
        "    \u0022p=9,5 v=-3,-3\u0022,\n",
        "];"
      ]
    },
    {
      "cell_type": "markdown",
      "metadata": {},
      "source": [
        "This first part looks fairly straightforward: move by \u0060100 x velocity\u0060, calculate the position modulo room size."
      ]
    },
    {
      "cell_type": "code",
      "execution_count": 5,
      "metadata": {
        "dotnet_interactive": {
          "language": "csharp"
        },
        "polyglot_notebook": {
          "kernelName": "csharp"
        },
        "vscode": {
          "languageId": "polyglot-notebook"
        }
      },
      "outputs": [],
      "source": [
        "record struct Robot(Point Position, Point Velocity) {}"
      ]
    },
    {
      "cell_type": "code",
      "execution_count": 6,
      "metadata": {
        "dotnet_interactive": {
          "language": "csharp"
        },
        "polyglot_notebook": {
          "kernelName": "csharp"
        },
        "vscode": {
          "languageId": "polyglot-notebook"
        }
      },
      "outputs": [],
      "source": [
        "Robot ParseRobot(string inputLine)\n",
        "{\n",
        "    var bits = inputLine.Split([\u0022p=\u0022, \u0022 v=\u0022, \u0022,\u0022], StringSplitOptions.RemoveEmptyEntries)\n",
        "                .Select(int.Parse)\n",
        "                .ToArray();\n",
        "    \n",
        "    var (pX, pY, vX, vY) = bits;\n",
        "    return new((pX, pY), (vX, vY));\n",
        "}\n"
      ]
    },
    {
      "cell_type": "code",
      "execution_count": 7,
      "metadata": {
        "vscode": {
          "languageId": "polyglot-notebook"
        }
      },
      "outputs": [],
      "source": [
        "// The robots outside the actual bathroom are in a space which is 101 tiles wide\n",
        "// and 103 tiles tall (when viewed from above). However, in this example, the\n",
        "// robots are in a space which is only 11 tiles wide and 7 tiles tall.\n",
        "\n",
        "using Room = (int Width, int Height);\n",
        "\n",
        "Room testRoom = new(11, 7);\n",
        "Room part1Room = new(101, 103);"
      ]
    },
    {
      "cell_type": "code",
      "execution_count": 8,
      "metadata": {
        "vscode": {
          "languageId": "polyglot-notebook"
        }
      },
      "outputs": [],
      "source": [
        "Point Walk(Robot robot, Room room, int seconds)\n",
        "{\n",
        "    var newX = WalkOne(robot.Position.X, robot.Velocity.X, seconds, room.Width);\n",
        "    var newY = WalkOne(robot.Position.Y, robot.Velocity.Y, seconds, room.Height);\n",
        "\n",
        "    return (newX, newY);\n",
        "}\n",
        "\n",
        "int WalkOne(int position, int velocity, int seconds, int size)\n",
        "{\n",
        "    var newPos = (position \u002B velocity * seconds) % size;\n",
        "\n",
        "    newPos = newPos switch {\n",
        "        \u003C 0 =\u003E newPos \u002B size,\n",
        "        _ =\u003E newPos\n",
        "    };\n",
        "\n",
        "    return newPos;\n",
        "}\n",
        "\n",
        "int GetQuadrant(Point point, Room room) \n",
        "{\n",
        "    var xHalf = room.Width / 2;\n",
        "    int yHalf = room.Height / 2;\n",
        "\n",
        "    // Quadrants are 1, 2, 3, 4, clockwise from top-left. 0 means on the border\n",
        "    // therefore no quadrant\n",
        "    var quadrant = (point.X - xHalf, point.Y - yHalf) switch {\n",
        "        (\u003C 0, \u003C 0) =\u003E 1,\n",
        "        (\u003E 0, \u003C 0) =\u003E 2,\n",
        "        (\u003E 0, \u003E 0) =\u003E 3,\n",
        "        (\u003C 0, \u003E 0) =\u003E 4,\n",
        "        _ =\u003E 0\n",
        "    };\n",
        "\n",
        "    return quadrant;\n",
        "}\n",
        "\n",
        "int WalkAll(string[] inputLines, Room room)\n",
        "{\n",
        "    const int seconds = 100;\n",
        "\n",
        "    var x = from inputLine in inputLines\n",
        "            let robot = ParseRobot(inputLine)\n",
        "            let newPos = Walk(robot, room, seconds)\n",
        "            group newPos by GetQuadrant(newPos, room) into quadrants\n",
        "            select (quadrant: quadrants.Key, count: quadrants.Count());\n",
        "\n",
        "    return x.Where(qc =\u003E qc.quadrant != 0).Select(qc =\u003E qc.count).Aggregate(1, (a, b) =\u003E a * b);\n",
        "}"
      ]
    },
    {
      "cell_type": "code",
      "execution_count": 9,
      "metadata": {
        "vscode": {
          "languageId": "polyglot-notebook"
        }
      },
      "outputs": [
        {
          "name": "stdout",
          "output_type": "stream",
          "text": [
            "12\n"
          ]
        }
      ],
      "source": [
        "// In this example, the quadrants contain 1, 3, 4, and 1 robot. Multiplying\n",
        "//these together gives a total safety factor of 12.\n",
        "\n",
        "var testAnswer = WalkAll(testInputLines, testRoom);\n",
        "Console.WriteLine(testAnswer);"
      ]
    },
    {
      "cell_type": "code",
      "execution_count": 10,
      "metadata": {
        "vscode": {
          "languageId": "polyglot-notebook"
        }
      },
      "outputs": [
        {
          "name": "stdout",
          "output_type": "stream",
          "text": [
            "211773366\n"
          ]
        }
      ],
      "source": [
        "// Predict the motion of the robots in your list within a space which is 101\n",
        "// tiles wide and 103 tiles tall. What will the safety factor be after exactly 100\n",
        "// seconds have elapsed?\n",
        "\n",
        "var part1Answer = WalkAll(inputLines, part1Room);\n",
        "Console.WriteLine(part1Answer);"
      ]
    },
    {
      "cell_type": "code",
      "execution_count": 11,
      "metadata": {
        "vscode": {
          "languageId": "polyglot-notebook"
        }
      },
      "outputs": [],
      "source": [
        "// 211773366 is correct!\n",
        "Ensure(211773366, part1Answer);"
      ]
    }
  ],
  "metadata": {
    "kernelspec": {
      "display_name": ".NET (C#)",
      "language": "C#",
      "name": ".net-csharp"
    },
    "language_info": {
      "name": "python"
    },
    "polyglot_notebook": {
      "kernelInfo": {
        "defaultKernelName": "csharp",
        "items": [
          {
            "aliases": [],
            "name": "csharp"
          }
        ]
      }
    }
  },
  "nbformat": 4,
  "nbformat_minor": 2
}