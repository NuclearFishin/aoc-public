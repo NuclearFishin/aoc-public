{
  "cells": [
    {
      "cell_type": "markdown",
      "metadata": {
        "dotnet_interactive": {
          "language": "csharp"
        },
        "polyglot_notebook": {
          "kernelName": "csharp"
        },
        "vscode": {
          "languageId": "polyglot-notebook"
        }
      },
      "source": [
        "### --- Day 14: Restroom Redoubt ---\n",
        "\n",
        "Puzzle description redacted as-per Advent of Code guidelines\n",
        "\n",
        "You may find the puzzle description at: https://adventofcode.com/2024/day/14"
      ]
    },
    {
      "cell_type": "code",
      "execution_count": 2,
      "metadata": {
        "dotnet_interactive": {
          "language": "csharp"
        },
        "polyglot_notebook": {
          "kernelName": "csharp"
        },
        "vscode": {
          "languageId": "polyglot-notebook"
        }
      },
      "outputs": [],
      "source": [
        "#!import ../Utils.ipynb"
      ]
    },
    {
      "cell_type": "code",
      "execution_count": 3,
      "metadata": {
        "dotnet_interactive": {
          "language": "csharp"
        },
        "polyglot_notebook": {
          "kernelName": "csharp"
        },
        "vscode": {
          "languageId": "polyglot-notebook"
        }
      },
      "outputs": [
        {
          "name": "stdout",
          "output_type": "stream",
          "text": [
            "Loading puzzle file: Day14.txt\n",
            "Total lines: 500\n",
            "Max line length: 18\n",
            "\n",
            "p=39,34 v=40,73\n",
            "p=43,71 v=-56,-11\n",
            "p=87,9 v=71,41\n",
            "p=67,40 v=12,6\n",
            "p=54,54 v=-22,73\n"
          ]
        }
      ],
      "source": [
        "var inputLines = LoadPuzzleInput(2024, 14);\n",
        "WriteLines(inputLines);"
      ]
    },
    {
      "cell_type": "code",
      "execution_count": 4,
      "metadata": {
        "dotnet_interactive": {
          "language": "csharp"
        },
        "polyglot_notebook": {
          "kernelName": "csharp"
        },
        "vscode": {
          "languageId": "polyglot-notebook"
        }
      },
      "outputs": [],
      "source": [
        "string[] testInputLines = [\n",
        "    \u0022p=0,4 v=3,-3\u0022,\n",
        "    \u0022p=6,3 v=-1,-3\u0022,\n",
        "    \u0022p=10,3 v=-1,2\u0022,\n",
        "    \u0022p=2,0 v=2,-1\u0022,\n",
        "    \u0022p=0,0 v=1,3\u0022,\n",
        "    \u0022p=3,0 v=-2,-2\u0022,\n",
        "    \u0022p=7,6 v=-1,-3\u0022,\n",
        "    \u0022p=3,0 v=-1,-2\u0022,\n",
        "    \u0022p=9,3 v=2,3\u0022,\n",
        "    \u0022p=7,3 v=-1,2\u0022,\n",
        "    \u0022p=2,4 v=2,-3\u0022,\n",
        "    \u0022p=9,5 v=-3,-3\u0022,\n",
        "];"
      ]
    },
    {
      "cell_type": "markdown",
      "metadata": {},
      "source": [
        "This first part looks fairly straightforward: move by \u0060100 x velocity\u0060, calculate the position modulo room size."
      ]
    },
    {
      "cell_type": "code",
      "execution_count": 5,
      "metadata": {
        "dotnet_interactive": {
          "language": "csharp"
        },
        "polyglot_notebook": {
          "kernelName": "csharp"
        },
        "vscode": {
          "languageId": "polyglot-notebook"
        }
      },
      "outputs": [],
      "source": [
        "record struct Robot(Point Position, Point Velocity) {}"
      ]
    },
    {
      "cell_type": "code",
      "execution_count": 6,
      "metadata": {
        "dotnet_interactive": {
          "language": "csharp"
        },
        "polyglot_notebook": {
          "kernelName": "csharp"
        },
        "vscode": {
          "languageId": "polyglot-notebook"
        }
      },
      "outputs": [],
      "source": [
        "Robot ParseRobot(string inputLine)\n",
        "{\n",
        "    var bits = inputLine.Split([\u0022p=\u0022, \u0022 v=\u0022, \u0022,\u0022], StringSplitOptions.RemoveEmptyEntries)\n",
        "                .Select(int.Parse)\n",
        "                .ToArray();\n",
        "    \n",
        "    var (pX, pY, vX, vY) = bits;\n",
        "    return new((pX, pY), (vX, vY));\n",
        "}"
      ]
    },
    {
      "cell_type": "code",
      "execution_count": 7,
      "metadata": {
        "vscode": {
          "languageId": "polyglot-notebook"
        }
      },
      "outputs": [],
      "source": [
        "// The robots outside the actual bathroom are in a space which is 101 tiles wide\n",
        "// and 103 tiles tall (when viewed from above). However, in this example, the\n",
        "// robots are in a space which is only 11 tiles wide and 7 tiles tall.\n",
        "\n",
        "using Room = (int Width, int Height);\n",
        "\n",
        "Room testRoom = new(11, 7);\n",
        "Room part1Room = new(101, 103);"
      ]
    },
    {
      "cell_type": "code",
      "execution_count": 8,
      "metadata": {
        "vscode": {
          "languageId": "polyglot-notebook"
        }
      },
      "outputs": [],
      "source": [
        "Point Walk(Robot robot, Room room, int seconds)\n",
        "{\n",
        "    var newX = WalkOne(robot.Position.X, robot.Velocity.X, seconds, room.Width);\n",
        "    var newY = WalkOne(robot.Position.Y, robot.Velocity.Y, seconds, room.Height);\n",
        "\n",
        "    return (newX, newY);\n",
        "}\n",
        "\n",
        "int WalkOne(int position, int velocity, int seconds, int size)\n",
        "{\n",
        "    var newPos = (position \u002B velocity * seconds) % size;\n",
        "\n",
        "    newPos = newPos switch {\n",
        "        \u003C 0 =\u003E newPos \u002B size,\n",
        "        _ =\u003E newPos\n",
        "    };\n",
        "\n",
        "    return newPos;\n",
        "}\n",
        "\n",
        "int GetQuadrant(Point point, Room room) \n",
        "{\n",
        "    var xHalf = room.Width / 2;\n",
        "    int yHalf = room.Height / 2;\n",
        "\n",
        "    // Quadrants are 1, 2, 3, 4, clockwise from top-left. 0 means on the border\n",
        "    // therefore no quadrant\n",
        "    var quadrant = (point.X - xHalf, point.Y - yHalf) switch {\n",
        "        (\u003C 0, \u003C 0) =\u003E 1,\n",
        "        (\u003E 0, \u003C 0) =\u003E 2,\n",
        "        (\u003E 0, \u003E 0) =\u003E 3,\n",
        "        (\u003C 0, \u003E 0) =\u003E 4,\n",
        "        _ =\u003E 0\n",
        "    };\n",
        "\n",
        "    return quadrant;\n",
        "}\n",
        "\n",
        "int WalkAll(string[] inputLines, Room room)\n",
        "{\n",
        "    const int seconds = 100;\n",
        "\n",
        "    var x = from inputLine in inputLines\n",
        "            let robot = ParseRobot(inputLine)\n",
        "            let newPos = Walk(robot, room, seconds)\n",
        "            group newPos by GetQuadrant(newPos, room) into quadrants\n",
        "            select (quadrant: quadrants.Key, count: quadrants.Count());\n",
        "\n",
        "    return x.Where(qc =\u003E qc.quadrant != 0).Select(qc =\u003E qc.count).Aggregate(1, (a, b) =\u003E a * b);\n",
        "}"
      ]
    },
    {
      "cell_type": "code",
      "execution_count": 9,
      "metadata": {
        "vscode": {
          "languageId": "polyglot-notebook"
        }
      },
      "outputs": [
        {
          "name": "stdout",
          "output_type": "stream",
          "text": [
            "12\n"
          ]
        }
      ],
      "source": [
        "// In this example, the quadrants contain 1, 3, 4, and 1 robot. Multiplying\n",
        "//these together gives a total safety factor of 12.\n",
        "\n",
        "var testAnswer = WalkAll(testInputLines, testRoom);\n",
        "Console.WriteLine(testAnswer);"
      ]
    },
    {
      "cell_type": "code",
      "execution_count": 10,
      "metadata": {
        "vscode": {
          "languageId": "polyglot-notebook"
        }
      },
      "outputs": [
        {
          "name": "stdout",
          "output_type": "stream",
          "text": [
            "211773366\n"
          ]
        }
      ],
      "source": [
        "// Predict the motion of the robots in your list within a space which is 101\n",
        "// tiles wide and 103 tiles tall. What will the safety factor be after exactly 100\n",
        "// seconds have elapsed?\n",
        "\n",
        "var part1Answer = WalkAll(inputLines, part1Room);\n",
        "Console.WriteLine(part1Answer);"
      ]
    },
    {
      "cell_type": "code",
      "execution_count": 11,
      "metadata": {
        "vscode": {
          "languageId": "polyglot-notebook"
        }
      },
      "outputs": [],
      "source": [
        "// 211773366 is correct!\n",
        "Ensure(211773366, part1Answer);"
      ]
    },
    {
      "cell_type": "markdown",
      "metadata": {
        "vscode": {
          "languageId": "polyglot-notebook"
        }
      },
      "source": [
        "### --- Part Two ---\n",
        "\n",
        "Puzzle description redacted as-per Advent of Code guidelines\n",
        "\n",
        "You may find the puzzle description at: https://adventofcode.com/2024/day/14"
      ]
    },
    {
      "cell_type": "markdown",
      "metadata": {
        "vscode": {
          "languageId": "polyglot-notebook"
        }
      },
      "source": [
        "Ok, that is a strange one! A Christmas tree could be many different shapes: single triangle, jagged, etc. There could be a base, decorations, it could be filled or an outline. Hmmm!\n",
        "\n",
        "I\u0027m guessing I\u0027ll just have to iterate the movements until a christmas tree appears. This is one time where a notebook might be a disadvantage, as if this were a console app I could animate the screen for each second of movement. Instead, I guess I\u0027ll write to a file and look at that."
      ]
    },
    {
      "cell_type": "code",
      "execution_count": 13,
      "metadata": {
        "vscode": {
          "languageId": "polyglot-notebook"
        }
      },
      "outputs": [],
      "source": [
        "// True if the current robo-state might be in a tree configuration. Allows us to\n",
        "// test different theories.\n",
        "delegate bool MightBeTreeFunc(Robot[] robots, Room room, int seconds);"
      ]
    },
    {
      "cell_type": "code",
      "execution_count": 14,
      "metadata": {
        "vscode": {
          "languageId": "polyglot-notebook"
        }
      },
      "outputs": [],
      "source": [
        "void SearchForTrees(string[] inputLines, Room room, MightBeTreeFunc mightBeTree, int treesToFind, string filename)\n",
        "{\n",
        "    var robots = inputLines.Select(ParseRobot).ToArray();\n",
        "\n",
        "    SafetyLimit sl = new();\n",
        "    using var writer = new StreamWriter(filename, append: false);\n",
        "    int seconds = 0;\n",
        "    int timesFound = 0;\n",
        "    while (true)\n",
        "    {\n",
        "        sl.EnsureBelow(1_000_000);\n",
        "\n",
        "        if (mightBeTree(robots, room, seconds))\n",
        "        {\n",
        "            timesFound\u002B\u002B;\n",
        "            writer.WriteLine($\u0022Found potential tree after {seconds} seconds\u0022);\n",
        "            \n",
        "            Console.Write($\u0022{seconds}, \u0022);\n",
        "            if (timesFound % 10 == 0) { Console.WriteLine(); }\n",
        "\n",
        "            Render(robots, room, writer);\n",
        "\n",
        "            if (timesFound == treesToFind)\n",
        "            {\n",
        "                Console.WriteLine();\n",
        "                Console.WriteLine($\u0022Stopping after {timesFound} trees found in {seconds} seconds\u0022);\n",
        "                return; \n",
        "            }\n",
        "        }\n",
        "\n",
        "        // Walk for one second\n",
        "        foreach (var (i, robot) in robots.Index())\n",
        "        {\n",
        "            robots[i] = robot with { Position = Walk(robot, room, 1) };\n",
        "        }\n",
        "        \n",
        "        seconds\u002B\u002B;\n",
        "    }\n",
        "}\n",
        "\n",
        "void Render(Robot[] robots, Room room, TextWriter writer)\n",
        "{\n",
        "    var rows = room.Height;\n",
        "    var cols = room.Width;\n",
        "\n",
        "    foreach (var row in Enumerable.Range(0, rows))\n",
        "    {\n",
        "        StringBuilder sb = new(cols);\n",
        "        foreach (var col in Enumerable.Range(0, cols))\n",
        "        {\n",
        "            var tile = robots.Any(r =\u003E r.Position == (col, row)) switch {\n",
        "                true =\u003E \u0027#\u0027,\n",
        "                _ =\u003E \u0027.\u0027\n",
        "            };\n",
        "            sb.Append(tile);\n",
        "        }\n",
        "        writer.WriteLine(sb);\n",
        "    }\n",
        "}"
      ]
    },
    {
      "cell_type": "markdown",
      "metadata": {},
      "source": [
        "As a first attempt, let\u0027s assume the christmas tree is an outline that is triangular at the top, with the topmost point in the middle of the top row. We can render all occurrences of this and see if it looks like a tree."
      ]
    },
    {
      "cell_type": "code",
      "execution_count": 15,
      "metadata": {
        "vscode": {
          "languageId": "polyglot-notebook"
        }
      },
      "outputs": [
        {
          "name": "stdout",
          "output_type": "stream",
          "text": [
            "26, 44, 45, 55, 60, 65, 71, 93, 103, 126, \n",
            "132, 135, 141, 173, 176, 204, 218, 234, 253, 265, \n",
            "271, 302, 335, 337, 351, 356, 401, 421, 456, 466, \n",
            "467, 479, 517, 573, 575, 664, 671, 693, 702, 722, \n",
            "740, 766, 777, 790, 792, 862, 876, 880, 936, 939, \n",
            "\n",
            "Stopping after 50 trees found in 939 seconds\n"
          ]
        }
      ],
      "source": [
        "bool IsTopMiddle(Robot[] robots, Room room, int seconds) =\u003E robots.Any(r =\u003E r.Position == (room.Width / 2, 0));\n",
        "\n",
        "SearchForTrees(inputLines, part1Room, IsTopMiddle, 50, \u0022IsTopMiddle.txt\u0022);"
      ]
    },
    {
      "cell_type": "markdown",
      "metadata": {},
      "source": [
        "Hmm, not much happening there, basically white noise. Maybe we need to specify more of the triangle"
      ]
    },
    {
      "cell_type": "code",
      "execution_count": 16,
      "metadata": {
        "vscode": {
          "languageId": "polyglot-notebook"
        }
      },
      "outputs": [
        {
          "name": "stdout",
          "output_type": "stream",
          "text": [
            "421, 2144, 10824, 12547, 21227, 22950, 31630, 33353, 42033, 43756, \n",
            "52436, 54159, 62839, 64562, 73242, 74965, 83645, 85368, 94048, 95771, \n",
            "104451, 106174, 114854, 116577, 125257, 126980, 135660, 137383, 146063, 147786, \n",
            "156466, 158189, 166869, 168592, 177272, 178995, 187675, 189398, 198078, 199801, \n",
            "208481, 210204, 218884, 220607, 229287, 231010, 239690, 241413, 250093, 251816, \n",
            "\n",
            "Stopping after 50 trees found in 251816 seconds\n"
          ]
        }
      ],
      "source": [
        "bool IsMoreTriangle(Robot[] robots, Room room, int seconds)\n",
        "{\n",
        "    Point topMiddle = (room.Width / 2, 0);\n",
        "    Point triLeft = topMiddle \u002B Down \u002B Left;\n",
        "    Point triRight = topMiddle \u002B Down \u002B Right;\n",
        "\n",
        "    Point[] allChecks = [topMiddle, triLeft, triRight];\n",
        "\n",
        "    return allChecks.All(checkPoint =\u003E robots.Any(robot =\u003E robot.Position == checkPoint));\n",
        "}\n",
        "\n",
        "SearchForTrees(inputLines, part1Room, IsMoreTriangle, 50, \u0022IsMoreTriangle.txt\u0022);"
      ]
    },
    {
      "cell_type": "markdown",
      "metadata": {},
      "source": [
        "Bummer, looks about the same!\n",
        "\n",
        "Let\u0027s try a new theory: whatever the shape of the tree, it is likely symmetrical in shape down the middle, so let\u0027s find instances where the positions are roughly symmetrical, i.e., the same number of robots in the left / right quadrants."
      ]
    },
    {
      "cell_type": "code",
      "execution_count": 17,
      "metadata": {
        "vscode": {
          "languageId": "polyglot-notebook"
        }
      },
      "outputs": [
        {
          "name": "stdout",
          "output_type": "stream",
          "text": [
            "3, 7, 8, 9, 10, 13, 14, 15, 17, 18, \n",
            "19, 20, 25, 27, 28, 31, 33, 34, 38, 40, \n",
            "41, 42, 51, 52, 54, 67, 68, 77, 84, 87, \n",
            "88, 89, 91, 92, 96, 98, 101, 104, 105, 106, \n",
            "108, 110, 112, 119, 122, 125, 126, 128, 130, 132, \n",
            "\n",
            "Stopping after 50 trees found in 132 seconds\n"
          ]
        }
      ],
      "source": [
        "bool IsSymmetrical(Robot[] robots, Room room, int seconds)\n",
        "{\n",
        "    var quadrants = robots.GroupBy(r =\u003E GetQuadrant(r.Position, room)).OrderBy(q =\u003E q.Key).Select(qg =\u003E (decimal)qg.Count()).ToArray();\n",
        "\n",
        "    var (q0, q1, q2, q3) = quadrants;\n",
        "\n",
        "    return (q1 / q2) switch {\n",
        "        \u003E= 0.95m and \u003C= 1.05m =\u003E true,\n",
        "        _ =\u003E false\n",
        "    };\n",
        "}\n",
        "\n",
        "SearchForTrees(inputLines, part1Room, IsSymmetrical, 50, \u0022IsSymmetrical.txt\u0022);"
      ]
    },
    {
      "cell_type": "markdown",
      "metadata": {},
      "source": [
        "Still looks like noise. I realise the error of my ways now: the noise is roughly balanced between the two quadrants, so this heuristic would never work.\n",
        "\n",
        "We could try and get clever with some kind of row-wise symmetry heuristic, but at this point, let\u0027s just render a sh*tload of trees and look for clues..."
      ]
    },
    {
      "cell_type": "code",
      "execution_count": 18,
      "metadata": {
        "vscode": {
          "languageId": "polyglot-notebook"
        }
      },
      "outputs": [
        {
          "name": "stdout",
          "output_type": "stream",
          "text": [
            "0, 1, 2, 3, 4, 5, 6, 7, 8, 9, \n",
            "10, 11, 12, 13, 14, 15, 16, 17, 18, 19, \n",
            "20, 21, 22, 23, 24, 25, 26, 27, 28, 29, \n",
            "30, 31, 32, 33, 34, 35, 36, 37, 38, 39, \n",
            "40, 41, 42, 43, 44, 45, 46, 47, 48, 49, \n",
            "50, 51, 52, 53, 54, 55, 56, 57, 58, 59, \n",
            "60, 61, 62, 63, 64, 65, 66, 67, 68, 69, \n",
            "70, 71, 72, 73, 74, 75, 76, 77, 78, 79, \n",
            "80, 81, 82, 83, 84, 85, 86, 87, 88, 89, \n",
            "90, 91, 92, 93, 94, 95, 96, 97, 98, 99, \n",
            "100, 101, 102, 103, 104, 105, 106, 107, 108, 109, \n",
            "110, 111, 112, 113, 114, 115, 116, 117, 118, 119, \n",
            "120, 121, 122, 123, 124, 125, 126, 127, 128, 129, \n",
            "130, 131, 132, 133, 134, 135, 136, 137, 138, 139, \n",
            "140, 141, 142, 143, 144, 145, 146, 147, 148, 149, \n",
            "150, 151, 152, 153, 154, 155, 156, 157, 158, 159, \n",
            "160, 161, 162, 163, 164, 165, 166, 167, 168, 169, \n",
            "170, 171, 172, 173, 174, 175, 176, 177, 178, 179, \n",
            "180, 181, 182, 183, 184, 185, 186, 187, 188, 189, \n",
            "190, 191, 192, 193, 194, 195, 196, 197, 198, 199, \n",
            "200, 201, 202, 203, 204, 205, 206, 207, 208, 209, \n",
            "210, 211, 212, 213, 214, 215, 216, 217, 218, 219, \n",
            "220, 221, 222, 223, 224, 225, 226, 227, 228, 229, \n",
            "230, 231, 232, 233, 234, 235, 236, 237, 238, 239, \n",
            "240, 241, 242, 243, 244, 245, 246, 247, 248, 249, \n",
            "250, 251, 252, 253, 254, 255, 256, 257, 258, 259, \n",
            "260, 261, 262, 263, 264, 265, 266, 267, 268, 269, \n",
            "270, 271, 272, 273, 274, 275, 276, 277, 278, 279, \n",
            "280, 281, 282, 283, 284, 285, 286, 287, 288, 289, \n",
            "290, 291, 292, 293, 294, 295, 296, 297, 298, 299, \n",
            "\n",
            "Stopping after 300 trees found in 299 seconds\n"
          ]
        }
      ],
      "source": [
        "bool ShowEverything(Robot[] robots, Room room, int seconds) =\u003E true;\n",
        "\n",
        "SearchForTrees(inputLines, part1Room, ShowEverything, 300, \u0022allTrees.txt\u0022);"
      ]
    },
    {
      "cell_type": "markdown",
      "metadata": {},
      "source": [
        "Hmm, most of the renders just look like noise, but interestingly after 72 seconds the robots appear to \u0022organise\u0022 slightly. This pattern occurs again every 101 seconds thereafter, ie 173, 274, etc.\n",
        "\n",
        "Let\u0027s render a bunch of these ones and see what happens..."
      ]
    },
    {
      "cell_type": "code",
      "execution_count": 19,
      "metadata": {
        "vscode": {
          "languageId": "polyglot-notebook"
        }
      },
      "outputs": [
        {
          "name": "stdout",
          "output_type": "stream",
          "text": [
            "72, 173, 274, 375, 476, 577, 678, 779, 880, 981, \n",
            "1082, 1183, 1284, 1385, 1486, 1587, 1688, 1789, 1890, 1991, \n",
            "2092, 2193, 2294, 2395, 2496, 2597, 2698, 2799, 2900, 3001, \n",
            "3102, 3203, 3304, 3405, 3506, 3607, 3708, 3809, 3910, 4011, \n",
            "4112, 4213, 4314, 4415, 4516, 4617, 4718, 4819, 4920, 5021, \n",
            "5122, 5223, 5324, 5425, 5526, 5627, 5728, 5829, 5930, 6031, \n",
            "6132, 6233, 6334, 6435, 6536, 6637, 6738, 6839, 6940, 7041, \n",
            "7142, 7243, 7344, 7445, 7546, 7647, 7748, 7849, 7950, 8051, \n",
            "8152, 8253, 8354, 8455, 8556, 8657, 8758, 8859, 8960, 9061, \n",
            "9162, 9263, 9364, 9465, 9566, 9667, 9768, 9869, 9970, 10071, \n",
            "\n",
            "Stopping after 100 trees found in 10071 seconds\n"
          ]
        }
      ],
      "source": [
        "bool IsEvery101(Robot[] robots, Room room, int seconds) =\u003E seconds % 101 == 72;\n",
        "\n",
        "SearchForTrees(inputLines, part1Room, IsEvery101, 100, \u0022IsEvery101.txt\u0022);"
      ]
    },
    {
      "cell_type": "markdown",
      "metadata": {},
      "source": [
        "Aha! There it is! After 7344 seconds. It is symmetrical as suspected, and trianglular at the top, but not located in the middle of the room! It\u0027s also a filled tree, not an outline."
      ]
    },
    {
      "cell_type": "code",
      "execution_count": 20,
      "metadata": {
        "vscode": {
          "languageId": "polyglot-notebook"
        }
      },
      "outputs": [],
      "source": [
        "// What is the fewest number of seconds that must elapse for the robots to\n",
        "// display the Easter egg?\n",
        "\n",
        "var part2Answer = 7344;"
      ]
    },
    {
      "cell_type": "code",
      "execution_count": 21,
      "metadata": {
        "vscode": {
          "languageId": "polyglot-notebook"
        }
      },
      "outputs": [],
      "source": [
        "// 7344 is correct!\n",
        "Ensure(7344, part2Answer);"
      ]
    },
    {
      "cell_type": "markdown",
      "metadata": {},
      "source": [
        "Just out of interest, I took a look at [Peter Norvig\u0027s solution](https://github.com/norvig/pytudes/blob/main/ipynb/Advent-2024.ipynb) to see if there\u0027s an \u0022algorithmic\u0022 way to solve this. \n",
        "\n",
        "After a few tree-hunting expeditions of his own, Peter eventually used an algorithm to find when the robots are most tightly coalesced around a centroid. Looks like that worked, and it looks like fun, so let\u0027s try it!"
      ]
    },
    {
      "cell_type": "code",
      "execution_count": 22,
      "metadata": {
        "vscode": {
          "languageId": "polyglot-notebook"
        }
      },
      "outputs": [],
      "source": [
        "IEnumerable\u003C(int distance, int seconds)\u003E WalkDistances(string[] inputLines, Room room, int maxSeconds)\n",
        "{\n",
        "    var robots = inputLines.Select(ParseRobot).ToArray();\n",
        "\n",
        "    var seconds = 0;\n",
        "    while (seconds \u003C= maxSeconds)\n",
        "    {\n",
        "        var distance = DistanceFromCentroid(robots, room);\n",
        "        \n",
        "        yield return (distance, seconds);\n",
        "\n",
        "        // Walk for one second\n",
        "        foreach (var (i, robot) in robots.Index())\n",
        "        {\n",
        "            robots[i] = robot with { Position = Walk(robot, room, 1) };\n",
        "        }\n",
        "\n",
        "        seconds\u002B\u002B;\n",
        "    }\n",
        "}\n",
        "\n",
        "int DistanceFromCentroid(Robot[] robots, Room room)\n",
        "{\n",
        "    var meanX = robots.Select(r =\u003E r.Position.X).Sum() / robots.Length;\n",
        "    var meanY = robots.Select(r =\u003E r.Position.Y).Sum() / robots.Length;\n",
        "\n",
        "    Point centroid = (meanX, meanY);\n",
        "\n",
        "    var meanDistance = robots.Select(r =\u003E SimpleDistance(r.Position, centroid)).Sum() / robots.Length;\n",
        "\n",
        "    return meanDistance;\n",
        "}\n",
        "\n",
        "int SimpleDistance(Point a, Point b)\n",
        "{\n",
        "    var diff = b - a;\n",
        "    return Math.Abs(diff.X) \u002B Math.Abs(diff.Y);\n",
        "}"
      ]
    },
    {
      "cell_type": "code",
      "execution_count": 23,
      "metadata": {
        "vscode": {
          "languageId": "polyglot-notebook"
        }
      },
      "outputs": [
        {
          "name": "stdout",
          "output_type": "stream",
          "text": [
            "Distance after 7344 seconds is 25\n",
            "Distance after 2297 seconds is 35\n",
            "Distance after 134 seconds is 36\n",
            "Distance after 340 seconds is 36\n",
            "Distance after 1061 seconds is 36\n",
            "Distance after 3327 seconds is 36\n",
            "Distance after 4460 seconds is 36\n",
            "Distance after 5078 seconds is 36\n",
            "Distance after 8477 seconds is 36\n",
            "Distance after 8786 seconds is 36\n"
          ]
        }
      ],
      "source": [
        "foreach (var (distance, seconds) in WalkDistances(inputLines, part1Room, 10_000).OrderBy(wd =\u003E wd.distance).Take(10))\n",
        "{\n",
        "    Console.WriteLine($\u0022Distance after {seconds} seconds is {distance}\u0022);\n",
        "}"
      ]
    },
    {
      "cell_type": "markdown",
      "metadata": {},
      "source": [
        "Sure enough, there\u0027s our tree at the top with the lowest mean distance."
      ]
    }
  ],
  "metadata": {
    "kernelspec": {
      "display_name": ".NET (C#)",
      "language": "C#",
      "name": ".net-csharp"
    },
    "language_info": {
      "name": "python"
    },
    "polyglot_notebook": {
      "kernelInfo": {
        "defaultKernelName": "csharp",
        "items": [
          {
            "aliases": [],
            "name": "csharp"
          }
        ]
      }
    }
  },
  "nbformat": 4,
  "nbformat_minor": 2
}