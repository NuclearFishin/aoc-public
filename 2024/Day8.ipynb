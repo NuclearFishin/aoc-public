{
  "cells": [
    {
      "cell_type": "markdown",
      "metadata": {
        "dotnet_interactive": {
          "language": "csharp"
        },
        "polyglot_notebook": {
          "kernelName": "csharp"
        },
        "vscode": {
          "languageId": "polyglot-notebook"
        }
      },
      "source": [
        "### --- Day 8: Resonant Collinearity ---\n",
        "\n",
        "Puzzle description redacted as-per Advent of Code guidelines\n",
        "\n",
        "You may find the puzzle description at: https://adventofcode.com/2024/day/8"
      ]
    },
    {
      "cell_type": "code",
      "execution_count": 2,
      "metadata": {
        "dotnet_interactive": {
          "language": "csharp"
        },
        "polyglot_notebook": {
          "kernelName": "csharp"
        },
        "vscode": {
          "languageId": "polyglot-notebook"
        }
      },
      "outputs": [],
      "source": [
        "#!import ../Utils.ipynb"
      ]
    },
    {
      "cell_type": "code",
      "execution_count": 3,
      "metadata": {
        "dotnet_interactive": {
          "language": "csharp"
        },
        "polyglot_notebook": {
          "kernelName": "csharp"
        },
        "vscode": {
          "languageId": "polyglot-notebook"
        }
      },
      "outputs": [
        {
          "name": "stdout",
          "output_type": "stream",
          "text": [
            "Total lines: 50\n",
            "Max line length: 50\n",
            "\n",
            ".....................U.........w..................\n",
            "l.................................................\n",
            "...........o.a................U...w...............\n",
            "............................................W.....\n",
            "..........T....................s.............7....\n"
          ]
        }
      ],
      "source": [
        "var inputLines = LoadPuzzleInput(202, 8);\n",
        "WriteLines(inputLines);"
      ]
    },
    {
      "cell_type": "code",
      "execution_count": 4,
      "metadata": {
        "dotnet_interactive": {
          "language": "csharp"
        },
        "polyglot_notebook": {
          "kernelName": "csharp"
        },
        "vscode": {
          "languageId": "polyglot-notebook"
        }
      },
      "outputs": [],
      "source": [
        "string[] testInputLines = [\n",
        "    \u0022............\u0022,\n",
        "    \u0022........0...\u0022,\n",
        "    \u0022.....0......\u0022,\n",
        "    \u0022.......0....\u0022,\n",
        "    \u0022....0.......\u0022,\n",
        "    \u0022......A.....\u0022,\n",
        "    \u0022............\u0022,\n",
        "    \u0022............\u0022,\n",
        "    \u0022........A...\u0022,\n",
        "    \u0022.........A..\u0022,\n",
        "    \u0022............\u0022,\n",
        "    \u0022............\u0022,\n",
        "];"
      ]
    },
    {
      "cell_type": "code",
      "execution_count": 5,
      "metadata": {
        "vscode": {
          "languageId": "polyglot-notebook"
        }
      },
      "outputs": [],
      "source": [
        "int CountAntinodes(string[] inputLines)\n",
        "{\n",
        "    // This gets modified in part 2 (spoiler alert), hence the base function\n",
        "    \n",
        "    return CountAntinodesBase(new CharGrid(inputLines), GetAntinodes);\n",
        "}\n",
        "\n",
        "int CountAntinodesBase(CharGrid grid, AntinodeFunc getAntinodes)\n",
        "{\n",
        "    var antennaGroups = from pointChar in grid.Enumerate()\n",
        "                        let point = pointChar.point\n",
        "                        let ch = pointChar.ch\n",
        "                        where ch is not \u0027.\u0027\n",
        "                        group point by ch into chGroup\n",
        "                        select chGroup.ToArray();\n",
        "\n",
        "    var q = from antennaGroup in antennaGroups\n",
        "            from antennaPair in GetPairs(antennaGroup)\n",
        "            from antinode in getAntinodes(antennaPair.a, antennaPair.b)\n",
        "            where grid.IsValid(antinode)\n",
        "            select antinode;\n",
        "\n",
        "    return q.Distinct().Count();\n",
        "}\n",
        "\n",
        "IEnumerable\u003C(Point a, Point b)\u003E GetPairs(Point[] points)\n",
        "{\n",
        "    var q = from i in Enumerable.Range(0, points.Length)\n",
        "            from j in Enumerable.Range(i \u002B 1, points.Length - i - 1)\n",
        "            select (points[i], points[j]);\n",
        "    return q;\n",
        "}\n",
        "\n",
        "IList\u003CPoint\u003E GetAntinodes(Point ant1, Point ant2)\n",
        "{\n",
        "    var distance = ant1 - ant2;\n",
        "\n",
        "    var n1 = ant2 - distance;\n",
        "    var n2 = ant1 \u002B distance;\n",
        "\n",
        "    return [n1, n2];\n",
        "}\n",
        "\n",
        "delegate IEnumerable\u003CPoint\u003E AntinodeFunc(Point point1, Point point2);\n"
      ]
    },
    {
      "cell_type": "code",
      "execution_count": 6,
      "metadata": {
        "dotnet_interactive": {
          "language": "csharp"
        },
        "polyglot_notebook": {
          "kernelName": "csharp"
        },
        "vscode": {
          "languageId": "polyglot-notebook"
        }
      },
      "outputs": [],
      "source": [
        "// ...there are 14 total unique locations that contain an antinode within the bounds of the map.\n",
        "\n",
        "var testAnswer = CountAntinodes(testInputLines);\n",
        "Console.WriteLine(testAnswer);"
      ]
    },
    {
      "cell_type": "code",
      "execution_count": 7,
      "metadata": {
        "dotnet_interactive": {
          "language": "csharp"
        },
        "polyglot_notebook": {
          "kernelName": "csharp"
        },
        "vscode": {
          "languageId": "polyglot-notebook"
        }
      },
      "outputs": [],
      "source": [
        "// Calculate the impact of the signal. How many unique locations within the bounds of the map contain an antinode?\n",
        "\n",
        "var part1Answer = CountAntinodes(inputLines);\n",
        "Console.WriteLine(part1Answer);"
      ]
    },
    {
      "cell_type": "code",
      "execution_count": 8,
      "metadata": {
        "dotnet_interactive": {
          "language": "csharp"
        },
        "polyglot_notebook": {
          "kernelName": "csharp"
        },
        "vscode": {
          "languageId": "polyglot-notebook"
        }
      },
      "outputs": [],
      "source": [
        "// 423 is correct!\n",
        "Ensure(423, part1Answer);"
      ]
    },
    {
      "cell_type": "markdown",
      "metadata": {
        "dotnet_interactive": {
          "language": "csharp"
        },
        "polyglot_notebook": {
          "kernelName": "csharp"
        },
        "vscode": {
          "languageId": "polyglot-notebook"
        }
      },
      "source": [
        "### --- Part Two ---\n",
        "\n",
        "Puzzle description redacted as-per Advent of Code guidelines\n",
        "\n",
        "You may find the puzzle description at: https://adventofcode.com/2024/day/8"
      ]
    },
    {
      "cell_type": "code",
      "execution_count": 10,
      "metadata": {
        "vscode": {
          "languageId": "polyglot-notebook"
        }
      },
      "outputs": [],
      "source": [
        "IEnumerable\u003CPoint\u003E GetAntinodes2(Point ant1, Point ant2, CharGrid grid)\n",
        "{\n",
        "    var distance = ant1 - ant2;\n",
        "\n",
        "    var p = ant1;\n",
        "    while (grid.IsValid(p))\n",
        "    {\n",
        "        yield return p;\n",
        "        p -= distance;\n",
        "    }\n",
        "    p = ant1 \u002B distance;\n",
        "    while (grid.IsValid(p))\n",
        "    {\n",
        "        yield return p;\n",
        "        p \u002B= distance;\n",
        "    }\n",
        "}"
      ]
    },
    {
      "cell_type": "code",
      "execution_count": 11,
      "metadata": {
        "vscode": {
          "languageId": "polyglot-notebook"
        }
      },
      "outputs": [],
      "source": [
        "int CountAntinodes2(string[] inputLines)\n",
        "{\n",
        "    var grid = new CharGrid(inputLines);\n",
        "    return CountAntinodesBase(grid, (p1, p2) =\u003E GetAntinodes2(p1, p2, grid));\n",
        "}"
      ]
    },
    {
      "cell_type": "code",
      "execution_count": 12,
      "metadata": {
        "vscode": {
          "languageId": "polyglot-notebook"
        }
      },
      "outputs": [],
      "source": [
        "// The original example now has 34 antinodes, including the antinodes that appear on every antenna:\n",
        "\n",
        "var part2TestAnswer = CountAntinodes2(testInputLines);\n",
        "Console.WriteLine(part2TestAnswer);"
      ]
    },
    {
      "cell_type": "code",
      "execution_count": 13,
      "metadata": {
        "vscode": {
          "languageId": "polyglot-notebook"
        }
      },
      "outputs": [],
      "source": [
        "// Calculate the impact of the signal using this updated model. How many unique locations within the bounds of the map contain an antinode?\n",
        "\n",
        "var part2Answer = CountAntinodes2(inputLines);\n",
        "Console.WriteLine(part2Answer);"
      ]
    },
    {
      "cell_type": "code",
      "execution_count": 14,
      "metadata": {
        "vscode": {
          "languageId": "polyglot-notebook"
        }
      },
      "outputs": [],
      "source": [
        "// 1287 is correct!\n",
        "Ensure(1287, part2Answer);"
      ]
    }
  ],
  "metadata": {
    "kernelspec": {
      "display_name": ".NET (C#)",
      "language": "C#",
      "name": ".net-csharp"
    },
    "language_info": {
      "name": "python"
    },
    "polyglot_notebook": {
      "kernelInfo": {
        "defaultKernelName": "csharp",
        "items": [
          {
            "aliases": [],
            "name": "csharp"
          }
        ]
      }
    }
  },
  "nbformat": 4,
  "nbformat_minor": 2
}