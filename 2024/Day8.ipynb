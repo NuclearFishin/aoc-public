{
  "cells": [
    {
      "cell_type": "markdown",
      "metadata": {
        "vscode": {
          "languageId": "polyglot-notebook"
        }
      },
      "source": [
        "### --- Day 8: Resonant Collinearity ---\n",
        "\n",
        "Puzzle description redacted as-per Advent of Code guidelines\n",
        "\n",
        "You may find the puzzle description at: https://adventofcode.com/2024/day/8"
      ]
    },
    {
      "cell_type": "code",
      "execution_count": 2,
      "metadata": {
        "vscode": {
          "languageId": "polyglot-notebook"
        }
      },
      "outputs": [],
      "source": [
        "#!import ../Utils.ipynb"
      ]
    },
    {
      "cell_type": "code",
      "execution_count": 3,
      "metadata": {
        "vscode": {
          "languageId": "polyglot-notebook"
        }
      },
      "outputs": [
        {
          "name": "stdout",
          "output_type": "stream",
          "text": [
            "Loading puzzle file: Day8.txt\n",
            "Total lines: 50\n",
            "Max line length: 50\n",
            "\n",
            ".....................U.........w..................\n",
            "l.................................................\n",
            "...........o.a................U...w...............\n",
            "............................................W.....\n",
            "..........T....................s.............7....\n"
          ]
        }
      ],
      "source": [
        "var inputLines = LoadPuzzleInput(202, 8);\n",
        "WriteLines(inputLines);"
      ]
    },
    {
      "cell_type": "code",
      "execution_count": 4,
      "metadata": {
        "vscode": {
          "languageId": "polyglot-notebook"
        }
      },
      "outputs": [],
      "source": [
        "string[] testInputLines = [\n",
        "    \u0022............\u0022,\n",
        "    \u0022........0...\u0022,\n",
        "    \u0022.....0......\u0022,\n",
        "    \u0022.......0....\u0022,\n",
        "    \u0022....0.......\u0022,\n",
        "    \u0022......A.....\u0022,\n",
        "    \u0022............\u0022,\n",
        "    \u0022............\u0022,\n",
        "    \u0022........A...\u0022,\n",
        "    \u0022.........A..\u0022,\n",
        "    \u0022............\u0022,\n",
        "    \u0022............\u0022,\n",
        "];"
      ]
    },
    {
      "cell_type": "code",
      "execution_count": 5,
      "metadata": {
        "vscode": {
          "languageId": "polyglot-notebook"
        }
      },
      "outputs": [],
      "source": [
        "int CountAntinodes(string[] inputLines)\n",
        "{\n",
        "    var grid = new CharGrid(inputLines);\n",
        "\n",
        "    var antennaGroups = from pointChar in grid.Enumerate()\n",
        "                        let point = pointChar.point\n",
        "                        let ch = pointChar.ch\n",
        "                        where ch is not \u0027.\u0027\n",
        "                        group point by ch into chGroup\n",
        "                        select chGroup.ToArray();\n",
        "\n",
        "    var q = from antennaGroup in antennaGroups\n",
        "            from antennaPair in GetPairs(antennaGroup)\n",
        "            from antinode in GetAntinodes(antennaPair.a, antennaPair.b)\n",
        "            where grid.IsValid(antinode)\n",
        "            select antinode;\n",
        "\n",
        "    return q.Distinct().Count();\n",
        "}\n",
        "\n",
        "IEnumerable\u003C(Point a, Point b)\u003E GetPairs(Point[] points)\n",
        "{\n",
        "    var q = from i in Enumerable.Range(0, points.Length)\n",
        "            from j in Enumerable.Range(i \u002B 1, points.Length - i - 1)\n",
        "            select (points[i], points[j]);\n",
        "    return q;\n",
        "}\n",
        "\n",
        "IList\u003CPoint\u003E GetAntinodes(Point ant1, Point ant2)\n",
        "{\n",
        "    var distance = ant1 - ant2;\n",
        "\n",
        "    var n1 = ant2 - distance;\n",
        "    var n2 = ant1 \u002B distance;\n",
        "\n",
        "    return [n1, n2];\n",
        "}"
      ]
    },
    {
      "cell_type": "code",
      "execution_count": 6,
      "metadata": {
        "vscode": {
          "languageId": "polyglot-notebook"
        }
      },
      "outputs": [
        {
          "name": "stdout",
          "output_type": "stream",
          "text": [
            "14\n"
          ]
        }
      ],
      "source": [
        "// ...there are 14 total unique locations that contain an antinode within the bounds of the map.\n",
        "\n",
        "var testAnswer = CountAntinodes(testInputLines);\n",
        "Console.WriteLine(testAnswer);"
      ]
    },
    {
      "cell_type": "code",
      "execution_count": 7,
      "metadata": {
        "vscode": {
          "languageId": "polyglot-notebook"
        }
      },
      "outputs": [
        {
          "name": "stdout",
          "output_type": "stream",
          "text": [
            "423\n"
          ]
        }
      ],
      "source": [
        "// Calculate the impact of the signal. How many unique locations within the bounds of the map contain an antinode?\n",
        "\n",
        "var part1Answer = CountAntinodes(inputLines);\n",
        "Console.WriteLine(part1Answer);"
      ]
    },
    {
      "cell_type": "code",
      "execution_count": 9,
      "metadata": {
        "vscode": {
          "languageId": "polyglot-notebook"
        }
      },
      "outputs": [],
      "source": [
        "// 423 is correct!\n",
        "Ensure(423, part1Answer);"
      ]
    },
    {
      "cell_type": "markdown",
      "metadata": {
        "vscode": {
          "languageId": "polyglot-notebook"
        }
      },
      "source": [
        "### --- Part Two ---\n",
        "\n",
        "Puzzle description redacted as-per Advent of Code guidelines\n",
        "\n",
        "You may find the puzzle description at: https://adventofcode.com/2024/day/8"
      ]
    }
  ],
  "metadata": {
    "kernelspec": {
      "display_name": ".NET (C#)",
      "language": "C#",
      "name": ".net-csharp"
    },
    "language_info": {
      "name": "python"
    },
    "polyglot_notebook": {
      "kernelInfo": {
        "defaultKernelName": "csharp",
        "items": [
          {
            "aliases": [],
            "name": "csharp"
          }
        ]
      }
    }
  },
  "nbformat": 4,
  "nbformat_minor": 2
}