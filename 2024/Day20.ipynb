{
  "cells": [
    {
      "cell_type": "markdown",
      "metadata": {
        "dotnet_interactive": {
          "language": "csharp"
        },
        "polyglot_notebook": {
          "kernelName": "csharp"
        },
        "vscode": {
          "languageId": "polyglot-notebook"
        }
      },
      "source": [
        "### --- Day 20: Race Condition ---\n",
        "\n",
        "Puzzle description redacted as-per Advent of Code guidelines\n",
        "\n",
        "You may find the puzzle description at: https://adventofcode.com/2024/day/20"
      ]
    },
    {
      "cell_type": "code",
      "execution_count": 2,
      "metadata": {
        "dotnet_interactive": {
          "language": "csharp"
        },
        "polyglot_notebook": {
          "kernelName": "csharp"
        },
        "vscode": {
          "languageId": "polyglot-notebook"
        }
      },
      "outputs": [],
      "source": [
        "#!import ../Utils.ipynb"
      ]
    },
    {
      "cell_type": "code",
      "execution_count": 3,
      "metadata": {
        "dotnet_interactive": {
          "language": "csharp"
        },
        "polyglot_notebook": {
          "kernelName": "csharp"
        },
        "vscode": {
          "languageId": "polyglot-notebook"
        }
      },
      "outputs": [
        {
          "name": "stdout",
          "output_type": "stream",
          "text": [
            "Loading puzzle file: Day20.txt\n",
            "Total lines: 141\n",
            "Max line length: 141\n",
            "\n",
            "##################################################\n",
            "#...###.....#...###...#...#...###...###...#.......\n",
            "#.#.###.###.#.#.###.#.#.#.#.#.###.#.###.#.#.#####.\n",
            "#.#...#...#...#.....#...#...#...#.#...#.#.#.....#.\n",
            "#.###.###.#####################.#.###.#.#.#####.#.\n"
          ]
        }
      ],
      "source": [
        "var inputLines = LoadPuzzleInput(2024, 20);\n",
        "WriteLines(inputLines, maxCols: 50);"
      ]
    },
    {
      "cell_type": "markdown",
      "metadata": {
        "vscode": {
          "languageId": "polyglot-notebook"
        }
      },
      "source": [
        "Ok, since the cheat is defined by the start / end position. The definition of \u0022save\u0022 is relative to the fastest non-cheating time, so we need to find that first.\n",
        "\n",
        "Then for the cheating part - a two-move cheat that must end back on the path is equivalent to one step through a wall. So perhaps we can try deleting each wall piece and seeing how that affects our path to the end.\n",
        "\n",
        "This sounds pretty expensive (spoiler: it is), but here\u0027s a few points we can leverage to help optimise:\n",
        "\n",
        "* We can skip wall pieces around the perimeter\n",
        "* We already know the distance to each point before we start cheating\n",
        "* Given we know the distance to all points around a wall piece, we know the distance to step into the wall is \u0060min(neighbour distance) \u002B 1\u0060. Consequently we also know the distance for the subsequent step(s).\n",
        "* Given are only considering 100\u002B point savings, if cheating through the wall doesn\u0027t yield at least 100 point saving for one of the neighbour steps, it would be impossible for the other steps to yield 100\u002B step savings. So we can stop here!\n",
        "\n",
        "So for the cheating phase, we can start our shortest-path search from the wall piece, and keep searching so long as we are finding 100\u002B point savings until we reach the end or run out of steps to take."
      ]
    },
    {
      "cell_type": "code",
      "execution_count": 4,
      "metadata": {
        "dotnet_interactive": {
          "language": "csharp"
        },
        "polyglot_notebook": {
          "kernelName": "csharp"
        },
        "vscode": {
          "languageId": "polyglot-notebook"
        }
      },
      "outputs": [],
      "source": [
        "string[] testInputLines = [\n",
        "    \u0022###############\u0022,\n",
        "    \u0022#...#...#.....#\u0022,\n",
        "    \u0022#.#.#.#.#.###.#\u0022,\n",
        "    \u0022#S#...#.#.#...#\u0022,\n",
        "    \u0022#######.#.#.###\u0022,\n",
        "    \u0022#######.#.#...#\u0022,\n",
        "    \u0022#######.#.###.#\u0022,\n",
        "    \u0022###..E#...#...#\u0022,\n",
        "    \u0022###.#######.###\u0022,\n",
        "    \u0022#...###...#...#\u0022,\n",
        "    \u0022#.#####.#.###.#\u0022,\n",
        "    \u0022#.#...#.#.#...#\u0022,\n",
        "    \u0022#.#.#.#.#.#.###\u0022,\n",
        "    \u0022#...#...#...###\u0022,\n",
        "    \u0022###############\u0022,\n",
        "];"
      ]
    },
    {
      "cell_type": "code",
      "execution_count": 5,
      "metadata": {
        "dotnet_interactive": {
          "language": "csharp"
        },
        "polyglot_notebook": {
          "kernelName": "csharp"
        },
        "vscode": {
          "languageId": "polyglot-notebook"
        }
      },
      "outputs": [],
      "source": [
        "using Cost = int;"
      ]
    },
    {
      "cell_type": "code",
      "execution_count": 6,
      "metadata": {
        "dotnet_interactive": {
          "language": "csharp"
        },
        "polyglot_notebook": {
          "kernelName": "csharp"
        },
        "vscode": {
          "languageId": "polyglot-notebook"
        }
      },
      "outputs": [],
      "source": [
        "using PointCost = (Point point, Cost cost);\n",
        "using SavingCount = (Cost saving, int count);\n",
        "\n",
        "const char WALL = \u0027#\u0027;\n",
        "const char START = \u0027S\u0027;\n",
        "const char END = \u0027E\u0027;\n",
        "\n",
        "static readonly Point[] UDLR = [Up, Down, Left, Right];\n",
        "\n",
        "IEnumerable\u003CSavingCount\u003E FindCheatSavings(string[] inputLines, int minimumSaving)\n",
        "{\n",
        "    CharGrid grid = new(inputLines);\n",
        "    \n",
        "    var walls = grid.Enumerate().Where(pch =\u003E pch.ch is WALL).Select(pch =\u003E pch.point).ToHashSet();\n",
        "    var start = grid.Enumerate().Where(pch =\u003E pch.ch is START).Single().point;\n",
        "    var end = grid.Enumerate().Where(pch =\u003E pch.ch is END).Single().point;\n",
        "\n",
        "    // Start with the \u0022default\u0022 costs, then we can explore a second time and\n",
        "    // see if we get anything shorter.\n",
        "\n",
        "    var defaults = ShortestPath(start, GetNextNodeFunc(grid, walls))\n",
        "                    .ToDictionary(pointCost =\u003E pointCost.node, pointCost =\u003E pointCost.cost);\n",
        "    var shortest = defaults[end];\n",
        "    Console.WriteLine($\u0022Shortest legal path cost is {shortest}\u0022);\n",
        "\n",
        "    // Now that we know the actual shortest cost, find all the candidate edges\n",
        "    // and try deleting them one-by-one.\n",
        "\n",
        "    var nonEdgeWalls = walls.Where(wall =\u003E wall switch {\n",
        "        (var x, _) when x is 0 || x \u002B 1 == grid.Cols =\u003E false,\n",
        "        (_, var y) when y is 0 || y \u002B 1 == grid.Rows =\u003E false,\n",
        "        _ =\u003E true\n",
        "    }).ToHashSet();\n",
        "\n",
        "    var savings = nonEdgeWalls\n",
        "                    .Select(RemoveOne)\n",
        "                    .Where(diff =\u003E diff \u003E 0)\n",
        "                    .GroupBy(diff =\u003E diff)\n",
        "                    .Select(g =\u003E (g.Key, g.Count()));\n",
        "    return savings;\n",
        "\n",
        "    Cost RemoveOne(Point wall)\n",
        "    {\n",
        "        var wallCost = UDLR\n",
        "                        .Select(dir =\u003E wall \u002B dir)\n",
        "                        .Where(p =\u003E !walls.Contains(p))\n",
        "                        .Select(p =\u003E defaults[p] \u002B 1)\n",
        "                        .Append(Cost.MaxValue)\n",
        "                        .Min();\n",
        "\n",
        "        // Starting from the wall piece we just deleted, see if we can reach the\n",
        "        // end whilst maintaining our minimum saving\n",
        "        defaults[wall] = Cost.MaxValue; // Ensure we find a saving for the 0th step\n",
        "        var (_, newCost) = ShortestPath(wall, GetCheatingNextNode(grid, walls, defaults, wallCost, minimumSaving))\n",
        "                            .Where(pc =\u003E pc.node == end)\n",
        "                            .FirstOrDefault();\n",
        "        defaults.Remove(wall);\n",
        "\n",
        "        // At this point we hopefully made it from the wall to the end\n",
        "        newCost = newCost switch {\n",
        "            0 =\u003E shortest, // didn\u0027t reach the end\n",
        "            _ =\u003E newCost \u002B wallCost // include the steps to reach the wall\n",
        "        };\n",
        "\n",
        "        var diff = shortest - newCost;\n",
        "        return diff;\n",
        "    }\n",
        "}\n",
        "\n",
        "// Standard neighbour search for shortest path algo\n",
        "NextNodeFunc\u003CPoint, Cost\u003E GetNextNodeFunc(CharGrid grid, HashSet\u003CPoint\u003E walls)\n",
        "{\n",
        "    IEnumerable\u003CPointCost\u003E NextNodeFunc(Point point, Cost cost)\n",
        "    {\n",
        "        return UDLR.Select(dir =\u003E point \u002B dir)\n",
        "                    .Where(p =\u003E grid.IsValid(p))\n",
        "                    .Where(p =\u003E !walls.Contains(p))\n",
        "                    .Select(p =\u003E (p, cost \u002B 1));\n",
        "    };\n",
        "\n",
        "    return NextNodeFunc;\n",
        "}\n",
        "\n",
        "// Cheating edition of neighbour search. Find neighbours so long as they are\n",
        "// still saving us more than \u0060minSaving\u0060\n",
        "NextNodeFunc\u003CPoint, Cost\u003E GetCheatingNextNode(CharGrid grid, HashSet\u003CPoint\u003E walls, Dictionary\u003CPoint, Cost\u003E defaults, Cost wallCost, Cost minSaving)\n",
        "{\n",
        "    var defaultFunc = GetNextNodeFunc(grid, walls);\n",
        "    PointCost[] none = [];\n",
        "\n",
        "    IEnumerable\u003CPointCost\u003E NextNodeFunc(Point point, Cost cost)\n",
        "    {\n",
        "        var cheatCost = wallCost \u002B cost;\n",
        "        var defaultCost = defaults[point];\n",
        "\n",
        "        return (defaultCost - cheatCost - minSaving) switch {\n",
        "            \u003E= 0 =\u003E defaultFunc(point, cost),\n",
        "            _ =\u003E none\n",
        "        };\n",
        "    }\n",
        "\n",
        "    return NextNodeFunc;\n",
        "}\n"
      ]
    },
    {
      "cell_type": "code",
      "execution_count": 7,
      "metadata": {
        "dotnet_interactive": {
          "language": "csharp"
        },
        "polyglot_notebook": {
          "kernelName": "csharp"
        },
        "vscode": {
          "languageId": "polyglot-notebook"
        }
      },
      "outputs": [
        {
          "name": "stdout",
          "output_type": "stream",
          "text": [
            "Shortest legal path cost is 84\n",
            "There are 14 cheats saving 2 picos.\n",
            "There are 14 cheats saving 4 picos.\n",
            "There are 2 cheats saving 6 picos.\n",
            "There are 4 cheats saving 8 picos.\n",
            "There are 2 cheats saving 10 picos.\n",
            "There are 3 cheats saving 12 picos.\n",
            "There are 1 cheats saving 20 picos.\n",
            "There are 1 cheats saving 36 picos.\n",
            "There are 1 cheats saving 38 picos.\n",
            "There are 1 cheats saving 40 picos.\n",
            "There are 1 cheats saving 64 picos.\n"
          ]
        }
      ],
      "source": [
        "// For the test input...\n",
        "\n",
        "// There are 14 cheats that save 2 picoseconds.\n",
        "// There are 14 cheats that save 4 picoseconds.\n",
        "// There are 2 cheats that save 6 picoseconds.\n",
        "// There are 4 cheats that save 8 picoseconds.\n",
        "// There are 2 cheats that save 10 picoseconds.\n",
        "// There are 3 cheats that save 12 picoseconds.\n",
        "// There is one cheat that saves 20 picoseconds.\n",
        "// There is one cheat that saves 36 picoseconds.\n",
        "// There is one cheat that saves 38 picoseconds.\n",
        "// There is one cheat that saves 40 picoseconds.\n",
        "// There is one cheat that saves 64 picoseconds.\n",
        "\n",
        "const int testMinSaving = 1;\n",
        "foreach (var (saving, count) in FindCheatSavings(testInputLines, testMinSaving).OrderBy(x =\u003E x.saving))\n",
        "{\n",
        "    Console.WriteLine($\u0022There are {count} cheats saving {saving} picos.\u0022);\n",
        "}"
      ]
    },
    {
      "cell_type": "code",
      "execution_count": 8,
      "metadata": {
        "dotnet_interactive": {
          "language": "csharp"
        },
        "polyglot_notebook": {
          "kernelName": "csharp"
        },
        "vscode": {
          "languageId": "polyglot-notebook"
        }
      },
      "outputs": [
        {
          "name": "stdout",
          "output_type": "stream",
          "text": [
            "Shortest legal path cost is 9504\n",
            "1415\n"
          ]
        }
      ],
      "source": [
        "// You aren\u0027t sure what the conditions of the racetrack will be like, so to give\n",
        "// yourself as many options as possible, you\u0027ll need a list of the best cheats. How\n",
        "// many cheats would save you at least 100 picoseconds?\n",
        "\n",
        "const int part1MinSaving = 100;\n",
        "var part1Answer =  FindCheatSavings(inputLines, part1MinSaving).Sum(x =\u003E x.count);\n",
        "Console.WriteLine(part1Answer);"
      ]
    },
    {
      "cell_type": "code",
      "execution_count": 9,
      "metadata": {
        "dotnet_interactive": {
          "language": "csharp"
        },
        "polyglot_notebook": {
          "kernelName": "csharp"
        },
        "vscode": {
          "languageId": "polyglot-notebook"
        }
      },
      "outputs": [],
      "source": [
        "// 1415 is correct!\n",
        "Ensure(1415, part1Answer);"
      ]
    },
    {
      "cell_type": "markdown",
      "metadata": {
        "dotnet_interactive": {
          "language": "csharp"
        },
        "polyglot_notebook": {
          "kernelName": "csharp"
        },
        "vscode": {
          "languageId": "polyglot-notebook"
        }
      },
      "source": [
        "### --- Part Two ---\n",
        "\n",
        "Puzzle description redacted as-per Advent of Code guidelines\n",
        "\n",
        "You may find the puzzle description at: https://adventofcode.com/2024/day/20"
      ]
    },
    {
      "cell_type": "markdown",
      "metadata": {},
      "source": [
        "Ok, for part 2, we need to allow for 20-picosecond skips!\n",
        "\n",
        "A cheat is defined by its start / end position, regardleses of how many combinations result in a saving. So for a given start / end we can find the first cheat saving over 100 picos and stop there.\n",
        "\n",
        "I\u0027m thinking we create a cheat \u0022mask\u0022, calculating the cost to reach every point within a 20 picosecond radius. From there, take the points with 100\u002B picosecond savings, and search our way to the end like part 1.\n",
        "\n",
        "_Some hours later..._\n",
        "\n",
        "Ok, something I wished had I noticed much earlier: the path is completely linear! No branches, and it starts / ends exactly at the designated points. Let\u0027s confirm that:"
      ]
    },
    {
      "cell_type": "code",
      "execution_count": 11,
      "metadata": {
        "dotnet_interactive": {
          "language": "csharp"
        },
        "polyglot_notebook": {
          "kernelName": "csharp"
        },
        "vscode": {
          "languageId": "polyglot-notebook"
        }
      },
      "outputs": [],
      "source": [
        "void EnsureLinear(string[] inputLines)\n",
        "{\n",
        "    CharGrid grid = new(inputLines);\n",
        "    \n",
        "    var walls = grid.Enumerate().Where(pch =\u003E pch.ch is WALL).Select(pch =\u003E pch.point).ToHashSet();\n",
        "    var start = grid.Enumerate().Where(pch =\u003E pch.ch is START).Single().point;\n",
        "    var end = grid.Enumerate().Where(pch =\u003E pch.ch is END).Single().point;\n",
        "\n",
        "    int neighbours(Point p) =\u003E UDLR.Count(dir =\u003E grid[p \u002B dir] is not WALL);\n",
        "\n",
        "    var isLinear = grid.Enumerate().All(pch =\u003E pch switch {\n",
        "        // Only the start / end points have one neighbour\n",
        "        (var p, not WALL) when p == start || p == end =\u003E neighbours(p) == 1,\n",
        "        // All other points have 2 neighbours, ie no branches\n",
        "        (var p, not WALL) =\u003E neighbours(p) == 2,\n",
        "        _ =\u003E true\n",
        "    });\n",
        "\n",
        "    Ensure(true, isLinear);\n",
        "}\n",
        "\n",
        "EnsureLinear(testInputLines);\n",
        "EnsureLinear(inputLines);"
      ]
    },
    {
      "cell_type": "markdown",
      "metadata": {
        "vscode": {
          "languageId": "polyglot-notebook"
        }
      },
      "source": [
        "Now that we know this, we can make significant optimisations over a shortest-path algorithm. From a given point \u0060p\u0060, if we can cheat and reach point \u0060c\u0060 with a saving \u0060s\u0060, we know that saving of \u0060s\u0060 will be maintained all the way to the end. No need to re-explore.\n",
        "\n",
        "So essentially, our approach will be to explore all points along the path, and using the cheat mask mentioned above, if we discover any points we can reach with a saving of 100\u002B picoseconds, we include that point-pair as a valid cheat."
      ]
    },
    {
      "cell_type": "code",
      "execution_count": 12,
      "metadata": {
        "dotnet_interactive": {
          "language": "csharp"
        },
        "polyglot_notebook": {
          "kernelName": "csharp"
        },
        "vscode": {
          "languageId": "polyglot-notebook"
        }
      },
      "outputs": [],
      "source": [
        "IEnumerable\u003CSavingCount\u003E FindCheatSavings2(string[] inputLines, int cheatSteps = 20, int minSaving = 100)\n",
        "{\n",
        "    var q = from down in Enumerable.Range(0, cheatSteps \u002B 1)\n",
        "            from right in Enumerable.Range(0, cheatSteps \u002B 1 - down)\n",
        "            let up = -down\n",
        "            let left = -right\n",
        "            let cost = down \u002B right\n",
        "            from dir in new Point[] {(down, right), (up, right), (down, left), (up, left)}\n",
        "            select (dir, cost);\n",
        "    var cheatMask = q.Distinct().ToList();\n",
        "\n",
        "    CharGrid grid = new(inputLines);\n",
        "    var walls = grid.Enumerate().Where(pch =\u003E pch.ch is WALL).Select(pch =\u003E pch.point).ToHashSet();\n",
        "    var start = grid.Enumerate().Where(pch =\u003E pch.ch is START).Single().point;\n",
        "    var end = grid.Enumerate().Where(pch =\u003E pch.ch is END).Single().point;\n",
        "\n",
        "    // Shortest path is no longer necessary, but let\u0027s use it since we\u0027ve got it\n",
        "    var pathSteps = ShortestPath(start, GetNextNodeFunc(grid, walls))\n",
        "                        .ToDictionary(pointCost =\u003E pointCost.node, pointCost =\u003E pointCost.cost);\n",
        "\n",
        "    return pathSteps.Keys.SelectMany(GetAllSavings)\n",
        "            .GroupBy(saving =\u003E saving)\n",
        "            .Select(savingGroup =\u003E (saving: savingGroup.Key, count: savingGroup.Count()))\n",
        "            .OrderBy(sc =\u003E sc.saving);\n",
        "\n",
        "    IEnumerable\u003Cint\u003E GetAllSavings(Point point)\n",
        "    {\n",
        "        // Use the cheat mask to check each reachable point. See how many points\n",
        "        // we can now reach with a suitable saving\n",
        "\n",
        "        var savingQ = from cm in cheatMask\n",
        "                      let cheatPoint = point \u002B cm.dir\n",
        "                      where pathSteps.ContainsKey(cheatPoint)\n",
        "                      let cheatCost = pathSteps[point] \u002B cm.cost\n",
        "                      let saving = pathSteps[cheatPoint] - cheatCost\n",
        "                      where saving \u003E= minSaving\n",
        "                      select saving;\n",
        "\n",
        "        return savingQ;\n",
        "    }\n",
        "}"
      ]
    },
    {
      "cell_type": "code",
      "execution_count": 13,
      "metadata": {
        "dotnet_interactive": {
          "language": "csharp"
        },
        "polyglot_notebook": {
          "kernelName": "csharp"
        },
        "vscode": {
          "languageId": "polyglot-notebook"
        }
      },
      "outputs": [
        {
          "name": "stdout",
          "output_type": "stream",
          "text": [
            "There are 32 cheats saving 50 picos.\n",
            "There are 31 cheats saving 52 picos.\n",
            "There are 29 cheats saving 54 picos.\n",
            "There are 39 cheats saving 56 picos.\n",
            "There are 25 cheats saving 58 picos.\n",
            "There are 23 cheats saving 60 picos.\n",
            "There are 20 cheats saving 62 picos.\n",
            "There are 19 cheats saving 64 picos.\n",
            "There are 12 cheats saving 66 picos.\n",
            "There are 14 cheats saving 68 picos.\n",
            "There are 12 cheats saving 70 picos.\n",
            "There are 22 cheats saving 72 picos.\n",
            "There are 4 cheats saving 74 picos.\n",
            "There are 3 cheats saving 76 picos.\n"
          ]
        }
      ],
      "source": [
        "// You\u0027ll still need a list of the best cheats, but now there are even more to\n",
        "// choose between. Here are the quantities of cheats in this example that save 50\n",
        "// picoseconds or more:\n",
        "\n",
        "// There are 32 cheats that save 50 picoseconds.\n",
        "// There are 31 cheats that save 52 picoseconds.\n",
        "// There are 29 cheats that save 54 picoseconds.\n",
        "// There are 39 cheats that save 56 picoseconds.\n",
        "// There are 25 cheats that save 58 picoseconds.\n",
        "// There are 23 cheats that save 60 picoseconds.\n",
        "// There are 20 cheats that save 62 picoseconds.\n",
        "// There are 19 cheats that save 64 picoseconds.\n",
        "// There are 12 cheats that save 66 picoseconds.\n",
        "// There are 14 cheats that save 68 picoseconds.\n",
        "// There are 12 cheats that save 70 picoseconds.\n",
        "// There are 22 cheats that save 72 picoseconds.\n",
        "// There are 4 cheats that save 74 picoseconds.\n",
        "// There are 3 cheats that save 76 picoseconds.\n",
        "\n",
        "foreach (var (saving, count) in FindCheatSavings2(testInputLines, minSaving: 50))\n",
        "{\n",
        "    Console.WriteLine($\u0022There are {count} cheats saving {saving} picos.\u0022);\n",
        "}"
      ]
    },
    {
      "cell_type": "code",
      "execution_count": 14,
      "metadata": {
        "dotnet_interactive": {
          "language": "csharp"
        },
        "polyglot_notebook": {
          "kernelName": "csharp"
        },
        "vscode": {
          "languageId": "polyglot-notebook"
        }
      },
      "outputs": [
        {
          "name": "stdout",
          "output_type": "stream",
          "text": [
            "1022577\n"
          ]
        }
      ],
      "source": [
        "// Find the best cheats using the updated cheating rules. How many cheats would\n",
        "// save you at least 100 picoseconds?\n",
        "\n",
        "var part2Answer = FindCheatSavings2(inputLines).Sum(x =\u003E x.count);\n",
        "Console.WriteLine(part2Answer);"
      ]
    },
    {
      "cell_type": "code",
      "execution_count": 15,
      "metadata": {
        "dotnet_interactive": {
          "language": "csharp"
        },
        "polyglot_notebook": {
          "kernelName": "csharp"
        },
        "vscode": {
          "languageId": "polyglot-notebook"
        }
      },
      "outputs": [],
      "source": [
        "// 1022577 is correct!\n",
        "Ensure(1022577, part2Answer);"
      ]
    }
  ],
  "metadata": {
    "kernelspec": {
      "display_name": ".NET (C#)",
      "language": "C#",
      "name": ".net-csharp"
    },
    "language_info": {
      "name": "python"
    },
    "polyglot_notebook": {
      "kernelInfo": {
        "defaultKernelName": "csharp",
        "items": [
          {
            "aliases": [],
            "name": "csharp"
          }
        ]
      }
    }
  },
  "nbformat": 4,
  "nbformat_minor": 2
}