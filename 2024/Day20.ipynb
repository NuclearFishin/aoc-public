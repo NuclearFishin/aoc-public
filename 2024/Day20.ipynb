{
  "cells": [
    {
      "cell_type": "markdown",
      "metadata": {
        "dotnet_interactive": {
          "language": "csharp"
        },
        "polyglot_notebook": {
          "kernelName": "csharp"
        },
        "vscode": {
          "languageId": "polyglot-notebook"
        }
      },
      "source": [
        "### --- Day 20: Race Condition ---\n",
        "\n",
        "Puzzle description redacted as-per Advent of Code guidelines\n",
        "\n",
        "You may find the puzzle description at: https://adventofcode.com/2024/day/20"
      ]
    },
    {
      "cell_type": "code",
      "execution_count": 2,
      "metadata": {
        "dotnet_interactive": {
          "language": "csharp"
        },
        "polyglot_notebook": {
          "kernelName": "csharp"
        },
        "vscode": {
          "languageId": "polyglot-notebook"
        }
      },
      "outputs": [],
      "source": [
        "#!import ../Utils.ipynb"
      ]
    },
    {
      "cell_type": "code",
      "execution_count": 3,
      "metadata": {
        "dotnet_interactive": {
          "language": "csharp"
        },
        "polyglot_notebook": {
          "kernelName": "csharp"
        },
        "vscode": {
          "languageId": "polyglot-notebook"
        }
      },
      "outputs": [
        {
          "name": "stdout",
          "output_type": "stream",
          "text": [
            "Loading puzzle file: Day20.txt\n",
            "Total lines: 141\n",
            "Max line length: 141\n",
            "\n",
            "##################################################\n",
            "#...###.....#...###...#...#...###...###...#.......\n",
            "#.#.###.###.#.#.###.#.#.#.#.#.###.#.###.#.#.#####.\n",
            "#.#...#...#...#.....#...#...#...#.#...#.#.#.....#.\n",
            "#.###.###.#####################.#.###.#.#.#####.#.\n"
          ]
        }
      ],
      "source": [
        "var inputLines = LoadPuzzleInput(2024, 20);\n",
        "WriteLines(inputLines, maxCols: 50);"
      ]
    },
    {
      "cell_type": "markdown",
      "metadata": {
        "vscode": {
          "languageId": "polyglot-notebook"
        }
      },
      "source": [
        "Ok, since the cheat is defined by the start / end position. The definition of \u0022save\u0022 is relative to the fastest non-cheating time, so we need to find that first.\n",
        "\n",
        "Then for the cheating part - a two-move cheat that must end back on the path is equivalent to one step through a wall. So perhaps we can try deleting each wall piece and seeing how that affects our path to the end.\n",
        "\n",
        "This sounds pretty expensive (spoiler: it is), but here\u0027s a few points we can leverage to help optimise:\n",
        "\n",
        "* We can skip wall pieces around the perimeter\n",
        "* We already know the distance to each point before we start cheating\n",
        "* Given we know the distance to all points around a wall piece, we know the distance to step into the wall is \u0060min(neighbour distance) \u002B 1\u0060. Consequently we also know the distance for the subsequent step(s).\n",
        "* Given are only considering 100\u002B point savings, if cheating through the wall doesn\u0027t yield at least 100 point saving for one of the neighbour steps, it would be impossible for the other steps to yield 100\u002B step savings. So we can stop here!\n",
        "\n",
        "So for the cheating phase, we can start our shortest-path search from the wall piece, and keep searching so long as we are finding 100\u002B point savings until we reach the end or run out of steps to take."
      ]
    },
    {
      "cell_type": "code",
      "execution_count": 4,
      "metadata": {
        "dotnet_interactive": {
          "language": "csharp"
        },
        "polyglot_notebook": {
          "kernelName": "csharp"
        },
        "vscode": {
          "languageId": "polyglot-notebook"
        }
      },
      "outputs": [],
      "source": [
        "string[] testInputLines = [\n",
        "    \u0022###############\u0022,\n",
        "    \u0022#...#...#.....#\u0022,\n",
        "    \u0022#.#.#.#.#.###.#\u0022,\n",
        "    \u0022#S#...#.#.#...#\u0022,\n",
        "    \u0022#######.#.#.###\u0022,\n",
        "    \u0022#######.#.#...#\u0022,\n",
        "    \u0022#######.#.###.#\u0022,\n",
        "    \u0022###..E#...#...#\u0022,\n",
        "    \u0022###.#######.###\u0022,\n",
        "    \u0022#...###...#...#\u0022,\n",
        "    \u0022#.#####.#.###.#\u0022,\n",
        "    \u0022#.#...#.#.#...#\u0022,\n",
        "    \u0022#.#.#.#.#.#.###\u0022,\n",
        "    \u0022#...#...#...###\u0022,\n",
        "    \u0022###############\u0022,\n",
        "];"
      ]
    },
    {
      "cell_type": "code",
      "execution_count": 5,
      "metadata": {
        "dotnet_interactive": {
          "language": "csharp"
        },
        "polyglot_notebook": {
          "kernelName": "csharp"
        },
        "vscode": {
          "languageId": "polyglot-notebook"
        }
      },
      "outputs": [],
      "source": [
        "using Cost = int;"
      ]
    },
    {
      "cell_type": "code",
      "execution_count": 6,
      "metadata": {
        "dotnet_interactive": {
          "language": "csharp"
        },
        "polyglot_notebook": {
          "kernelName": "csharp"
        },
        "vscode": {
          "languageId": "polyglot-notebook"
        }
      },
      "outputs": [],
      "source": [
        "using PointCost = (Point point, Cost cost);\n",
        "using SavingCount = (Cost saving, int count);\n",
        "\n",
        "const char WALL = \u0027#\u0027;\n",
        "const char START = \u0027S\u0027;\n",
        "const char END = \u0027E\u0027;\n",
        "\n",
        "static readonly Point[] UDLR = [Up, Down, Left, Right];\n",
        "\n",
        "IEnumerable\u003CSavingCount\u003E FindCheatSavings(string[] inputLines, int minimumSaving)\n",
        "{\n",
        "    CharGrid grid = new(inputLines);\n",
        "    \n",
        "    var walls = grid.Enumerate().Where(pch =\u003E pch.ch is WALL).Select(pch =\u003E pch.point).ToHashSet();\n",
        "    var start = grid.Enumerate().Where(pch =\u003E pch.ch is START).Single().point;\n",
        "    var end = grid.Enumerate().Where(pch =\u003E pch.ch is END).Single().point;\n",
        "\n",
        "    // Start with the \u0022default\u0022 costs, then we can explore a second time and\n",
        "    // see if we get anything shorter.\n",
        "\n",
        "    var defaults = ShortestPath(start, GetNextNodeFunc(grid, walls))\n",
        "                    .ToDictionary(pointCost =\u003E pointCost.node, pointCost =\u003E pointCost.cost);\n",
        "    var shortest = defaults[end];\n",
        "    Console.WriteLine($\u0022Shortest legal path cost is {shortest}\u0022);\n",
        "\n",
        "    // Now that we know the actual shortest cost, find all the candidate edges\n",
        "    // and try deleting them one-by-one.\n",
        "\n",
        "    var nonEdgeWalls = walls.Where(wall =\u003E (wall) switch {\n",
        "        (var x, _) when x is 0 || x \u002B 1 == grid.Cols =\u003E false,\n",
        "        (_, var y) when y is 0 || y \u002B 1 == grid.Rows =\u003E false,\n",
        "        _ =\u003E true\n",
        "    }).ToHashSet();\n",
        "\n",
        "    var savings = nonEdgeWalls\n",
        "                    .Select(RemoveOne)\n",
        "                    .Where(diff =\u003E diff \u003E 0)\n",
        "                    .GroupBy(diff =\u003E diff)\n",
        "                    .Select(g =\u003E (g.Key, g.Count()));\n",
        "    return savings;\n",
        "\n",
        "    Cost RemoveOne(Point wall)\n",
        "    {\n",
        "        var wallCost = UDLR\n",
        "                        .Select(dir =\u003E wall \u002B dir)\n",
        "                        .Where(p =\u003E !walls.Contains(p))\n",
        "                        .Select(p =\u003E defaults[p] \u002B 1)\n",
        "                        .Append(Cost.MaxValue)\n",
        "                        .Min();\n",
        "\n",
        "        // Starting from the wall piece we just deleted, see if we can reach the\n",
        "        // end whilst maintaining our minimum saving\n",
        "        defaults[wall] = Cost.MaxValue; // Ensure we find a saving for the 0th step\n",
        "        var (_, newCost) = ShortestPath(wall, GetCheatingNextNode(grid, walls, defaults, wallCost, minimumSaving))\n",
        "                            .Where(pc =\u003E pc.node == end)\n",
        "                            .FirstOrDefault();\n",
        "        defaults.Remove(wall);\n",
        "\n",
        "        // At this point we hopefully made it from the wall to the end\n",
        "        newCost = newCost switch {\n",
        "            0 =\u003E shortest, // didn\u0027t reach the end\n",
        "            _ =\u003E newCost \u002B wallCost // include the steps to reach the wall\n",
        "        };\n",
        "\n",
        "        var diff = shortest - newCost;\n",
        "        return diff;\n",
        "    }\n",
        "}\n",
        "\n",
        "// Standard neighbour search for shortest path algo\n",
        "NextNodeFunc\u003CPoint, Cost\u003E GetNextNodeFunc(CharGrid grid, HashSet\u003CPoint\u003E walls)\n",
        "{\n",
        "    IEnumerable\u003CPointCost\u003E NextNodeFunc(Point point, Cost cost)\n",
        "    {\n",
        "        return UDLR.Select(dir =\u003E point \u002B dir)\n",
        "                    .Where(p =\u003E grid.IsValid(p))\n",
        "                    .Where(p =\u003E !walls.Contains(p))\n",
        "                    .Select(p =\u003E (p, cost \u002B 1));\n",
        "    };\n",
        "\n",
        "    return NextNodeFunc;\n",
        "}\n",
        "\n",
        "// Cheating edition of neighbour search. Find neighbours so long as they are\n",
        "// still saving us more than \u0060minSaving\u0060\n",
        "NextNodeFunc\u003CPoint, Cost\u003E GetCheatingNextNode(CharGrid grid, HashSet\u003CPoint\u003E walls, Dictionary\u003CPoint, Cost\u003E defaults, Cost wallCost, Cost minSaving)\n",
        "{\n",
        "    var defaultFunc = GetNextNodeFunc(grid, walls);\n",
        "    PointCost[] none = [];\n",
        "\n",
        "    IEnumerable\u003CPointCost\u003E NextNodeFunc(Point point, Cost cost)\n",
        "    {\n",
        "        var cheatCost = wallCost \u002B cost;\n",
        "        var defaultCost = defaults[point];\n",
        "\n",
        "        return (defaultCost - cheatCost - minSaving) switch {\n",
        "            \u003E= 0 =\u003E defaultFunc(point, cost),\n",
        "            _ =\u003E none\n",
        "        };\n",
        "    }\n",
        "\n",
        "    return NextNodeFunc;\n",
        "}\n"
      ]
    },
    {
      "cell_type": "code",
      "execution_count": 7,
      "metadata": {
        "dotnet_interactive": {
          "language": "csharp"
        },
        "polyglot_notebook": {
          "kernelName": "csharp"
        },
        "vscode": {
          "languageId": "polyglot-notebook"
        }
      },
      "outputs": [
        {
          "name": "stdout",
          "output_type": "stream",
          "text": [
            "Shortest legal path cost is 84\n",
            "There are 14 cheats saving 2 picos.\n",
            "There are 14 cheats saving 4 picos.\n",
            "There are 2 cheats saving 6 picos.\n",
            "There are 4 cheats saving 8 picos.\n",
            "There are 2 cheats saving 10 picos.\n",
            "There are 3 cheats saving 12 picos.\n",
            "There are 1 cheats saving 20 picos.\n",
            "There are 1 cheats saving 36 picos.\n",
            "There are 1 cheats saving 38 picos.\n",
            "There are 1 cheats saving 40 picos.\n",
            "There are 1 cheats saving 64 picos.\n"
          ]
        }
      ],
      "source": [
        "// For the test input...\n",
        "\n",
        "// There are 14 cheats that save 2 picoseconds.\n",
        "// There are 14 cheats that save 4 picoseconds.\n",
        "// There are 2 cheats that save 6 picoseconds.\n",
        "// There are 4 cheats that save 8 picoseconds.\n",
        "// There are 2 cheats that save 10 picoseconds.\n",
        "// There are 3 cheats that save 12 picoseconds.\n",
        "// There is one cheat that saves 20 picoseconds.\n",
        "// There is one cheat that saves 36 picoseconds.\n",
        "// There is one cheat that saves 38 picoseconds.\n",
        "// There is one cheat that saves 40 picoseconds.\n",
        "// There is one cheat that saves 64 picoseconds.\n",
        "\n",
        "const int testMinSaving = 1;\n",
        "foreach (var (saving, count) in FindCheatSavings(testInputLines, testMinSaving).OrderBy(x =\u003E x.saving))\n",
        "{\n",
        "    Console.WriteLine($\u0022There are {count} cheats saving {saving} picos.\u0022);\n",
        "}"
      ]
    },
    {
      "cell_type": "code",
      "execution_count": 8,
      "metadata": {
        "dotnet_interactive": {
          "language": "csharp"
        },
        "polyglot_notebook": {
          "kernelName": "csharp"
        },
        "vscode": {
          "languageId": "polyglot-notebook"
        }
      },
      "outputs": [],
      "source": [
        "int CountCheatSavings(string[] inputLines, int minimumSaving)\n",
        "{\n",
        "    return FindCheatSavings(inputLines, minimumSaving)\n",
        "            .Select(x =\u003E x.count)\n",
        "            .Sum();\n",
        "}"
      ]
    },
    {
      "cell_type": "code",
      "execution_count": 9,
      "metadata": {
        "dotnet_interactive": {
          "language": "csharp"
        },
        "polyglot_notebook": {
          "kernelName": "csharp"
        },
        "vscode": {
          "languageId": "polyglot-notebook"
        }
      },
      "outputs": [
        {
          "name": "stdout",
          "output_type": "stream",
          "text": [
            "Shortest legal path cost is 9504\n",
            "1415\n"
          ]
        }
      ],
      "source": [
        "// You aren\u0027t sure what the conditions of the racetrack will be like, so to give\n",
        "// yourself as many options as possible, you\u0027ll need a list of the best cheats. How\n",
        "// many cheats would save you at least 100 picoseconds?\n",
        "\n",
        "const int part1MinSaving = 100;\n",
        "var part1Answer = CountCheatSavings(inputLines, part1MinSaving);\n",
        "Console.WriteLine(part1Answer);"
      ]
    },
    {
      "cell_type": "code",
      "execution_count": 10,
      "metadata": {
        "dotnet_interactive": {
          "language": "csharp"
        },
        "polyglot_notebook": {
          "kernelName": "csharp"
        },
        "vscode": {
          "languageId": "polyglot-notebook"
        }
      },
      "outputs": [],
      "source": [
        "// 1415 is correct!\n",
        "Ensure(1415, part1Answer);"
      ]
    }
  ],
  "metadata": {
    "kernelspec": {
      "display_name": ".NET (C#)",
      "language": "C#",
      "name": ".net-csharp"
    },
    "language_info": {
      "name": "python"
    },
    "polyglot_notebook": {
      "kernelInfo": {
        "defaultKernelName": "csharp",
        "items": [
          {
            "aliases": [],
            "name": "csharp"
          }
        ]
      }
    }
  },
  "nbformat": 4,
  "nbformat_minor": 2
}