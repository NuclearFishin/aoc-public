{
  "cells": [
    {
      "cell_type": "markdown",
      "metadata": {
        "dotnet_interactive": {
          "language": "csharp"
        },
        "polyglot_notebook": {
          "kernelName": "csharp"
        },
        "vscode": {
          "languageId": "polyglot-notebook"
        }
      },
      "source": [
        "### --- Day 13: Claw Contraption ---\n",
        "\n",
        "Puzzle description redacted as-per Advent of Code guidelines\n",
        "\n",
        "You may find the puzzle description at: https://adventofcode.com/2024/day/13"
      ]
    },
    {
      "cell_type": "code",
      "execution_count": 2,
      "metadata": {
        "dotnet_interactive": {
          "language": "csharp"
        },
        "polyglot_notebook": {
          "kernelName": "csharp"
        },
        "vscode": {
          "languageId": "polyglot-notebook"
        }
      },
      "outputs": [],
      "source": [
        "#!import ../Utils.ipynb"
      ]
    },
    {
      "cell_type": "code",
      "execution_count": 3,
      "metadata": {
        "dotnet_interactive": {
          "language": "csharp"
        },
        "polyglot_notebook": {
          "kernelName": "csharp"
        },
        "vscode": {
          "languageId": "polyglot-notebook"
        }
      },
      "outputs": [],
      "source": [
        "using System.Text.RegularExpressions;"
      ]
    },
    {
      "cell_type": "code",
      "execution_count": 4,
      "metadata": {
        "dotnet_interactive": {
          "language": "csharp"
        },
        "polyglot_notebook": {
          "kernelName": "csharp"
        },
        "vscode": {
          "languageId": "polyglot-notebook"
        }
      },
      "outputs": [
        {
          "name": "stdout",
          "output_type": "stream",
          "text": [
            "Loading puzzle file: Day13.txt\n",
            "Total lines: 1279\n",
            "Max line length: 23\n",
            "\n",
            "Button A: X\u002B25, Y\u002B60\n",
            "Button B: X\u002B54, Y\u002B25\n",
            "Prize: X=12630, Y=3335\n",
            "\n",
            "Button A: X\u002B22, Y\u002B58\n",
            "Button B: X\u002B65, Y\u002B17\n",
            "Prize: X=9383, Y=13439\n"
          ]
        }
      ],
      "source": [
        "var inputLines = LoadPuzzleInput(2024, 13);\n",
        "WriteLines(inputLines, maxRows: 7);"
      ]
    },
    {
      "cell_type": "code",
      "execution_count": 5,
      "metadata": {
        "dotnet_interactive": {
          "language": "csharp"
        },
        "polyglot_notebook": {
          "kernelName": "csharp"
        },
        "vscode": {
          "languageId": "polyglot-notebook"
        }
      },
      "outputs": [],
      "source": [
        "string[] testInputLines = [\n",
        "    \u0022Button A: X\u002B94, Y\u002B34\u0022,\n",
        "    \u0022Button B: X\u002B22, Y\u002B67\u0022,\n",
        "    \u0022Prize: X=8400, Y=5400\u0022,\n",
        "    \u0022\u0022,\n",
        "    \u0022Button A: X\u002B26, Y\u002B66\u0022,\n",
        "    \u0022Button B: X\u002B67, Y\u002B21\u0022,\n",
        "    \u0022Prize: X=12748, Y=12176\u0022,\n",
        "    \u0022\u0022,\n",
        "    \u0022Button A: X\u002B17, Y\u002B86\u0022,\n",
        "    \u0022Button B: X\u002B84, Y\u002B37\u0022,\n",
        "    \u0022Prize: X=7870, Y=6450\u0022,\n",
        "    \u0022\u0022,\n",
        "    \u0022Button A: X\u002B69, Y\u002B23\u0022,\n",
        "    \u0022Button B: X\u002B27, Y\u002B71\u0022,\n",
        "    \u0022Prize: X=18641, Y=10279\u0022,\n",
        "];"
      ]
    },
    {
      "cell_type": "code",
      "execution_count": 6,
      "metadata": {
        "dotnet_interactive": {
          "language": "csharp"
        },
        "polyglot_notebook": {
          "kernelName": "csharp"
        },
        "vscode": {
          "languageId": "polyglot-notebook"
        }
      },
      "outputs": [],
      "source": [
        "record Button(int Xboost, int Yboost) \n",
        "{\n",
        "    public Button(string XBoost, string YBoost): this(int.Parse(XBoost), int.Parse(YBoost)) {}\n",
        "\n",
        "    public Point AsPoint { get; } = new(Xboost, Yboost);\n",
        "}\n",
        "record Prize(int X, int Y)\n",
        "{\n",
        "    public Prize(string X, string Y) : this(int.Parse(X), int.Parse(Y)) {}\n",
        "\n",
        "    public Point AsPoint { get; } = new(X, Y);\n",
        "}\n",
        "record Game(Button A, Button B, Prize Prize) {}\n",
        "\n",
        "Regex buttonRegex = new(@\u0022X\\\u002B(\\d\u002B), Y\\\u002B(\\d\u002B)\u0022);\n",
        "Regex prizeRegex = new(@\u0022X=(\\d\u002B), Y=(\\d\u002B)\u0022);\n",
        "\n",
        "Game ParseGame(string[] inputLines)\n",
        "{\n",
        "    var (_, x, y) = buttonRegex.Match(inputLines[0]).Groups;\n",
        "    Button aButton = new(x, y);\n",
        "    (_, x, y) = buttonRegex.Match(inputLines[1]).Groups;\n",
        "    Button bButton = new(x, y);\n",
        "    (_, x, y) = prizeRegex.Match(inputLines[2]).Groups;\n",
        "    Prize prize = new(x, y);\n",
        "\n",
        "    return new(aButton, bButton, prize);\n",
        "}\n",
        "\n",
        "IList\u003CGame\u003E ParseAllGames(string[] inputLines)\n",
        "{\n",
        "    return inputLines.SeparateBy(line =\u003E line is \u0022\u0022).Select(ParseGame).ToList();\n",
        "}"
      ]
    },
    {
      "cell_type": "markdown",
      "metadata": {},
      "source": [
        "There might be some clever mathematical way to solve this, but the basic brute-force approach also seems feasible, given the theoretical maximum of 100 x 100 combinations of A and B. This will probably come back to bite us for part 2, but let\u0027s see :)"
      ]
    },
    {
      "cell_type": "code",
      "execution_count": 7,
      "metadata": {
        "dotnet_interactive": {
          "language": "csharp"
        },
        "polyglot_notebook": {
          "kernelName": "csharp"
        },
        "vscode": {
          "languageId": "polyglot-notebook"
        }
      },
      "outputs": [],
      "source": [
        "// ...it costs 3 tokens to push the A button and 1 token to push the B button.\n",
        "int GetTokenCost(int aPress, int bPress) =\u003E aPress * 3 \u002B bPress;\n",
        "\n",
        "// There\u0027s a maximum of 100 presses, but realistically we\u0027ll exceed our target long before 100\n",
        "int PressLimit(int aBoost, int bBoost, int prize)\n",
        "{\n",
        "    int minBoost = Math.Min(aBoost, bBoost);\n",
        "    return Math.Min(prize / minBoost, 100);\n",
        "}\n",
        "\n",
        "int SolveGame(Game game)\n",
        "{\n",
        "    var (aButton, bButton, prize) = game;\n",
        "    \n",
        "    int aPressLimit = PressLimit(aButton.Xboost, bButton.Xboost, prize.X);\n",
        "    int bPressLimit = PressLimit(aButton.Yboost, bButton.Yboost, prize.Y);\n",
        "\n",
        "    int minTokens = int.MaxValue;\n",
        "    foreach (var aPresses in Enumerable.Range(1, aPressLimit))\n",
        "    foreach (var bPresses in Enumerable.Range(1, bPressLimit))\n",
        "    {\n",
        "        var finalPosition = aButton.AsPoint * aPresses \u002B bButton.AsPoint * bPresses;\n",
        "        if (finalPosition == prize.AsPoint)\n",
        "        {\n",
        "            minTokens = GetTokenCost(aPresses, bPresses) switch {\n",
        "                var cost when cost \u003C minTokens =\u003E cost,\n",
        "                _ =\u003E minTokens\n",
        "            };\n",
        "        }\n",
        "    }\n",
        "    return minTokens switch {\n",
        "        \u003C int.MaxValue =\u003E minTokens,\n",
        "        _ =\u003E 0\n",
        "    };\n",
        "}\n",
        "\n",
        "// Put it all together\n",
        "\n",
        "int SolveAllGames(string[] inputLines) =\u003E ParseAllGames(inputLines).Select(SolveGame).Sum();"
      ]
    },
    {
      "cell_type": "code",
      "execution_count": 8,
      "metadata": {
        "dotnet_interactive": {
          "language": "csharp"
        },
        "polyglot_notebook": {
          "kernelName": "csharp"
        },
        "vscode": {
          "languageId": "polyglot-notebook"
        }
      },
      "outputs": [
        {
          "name": "stdout",
          "output_type": "stream",
          "text": [
            "480\n"
          ]
        }
      ],
      "source": [
        "// So, the most prizes you could possibly win is two; the minimum tokens you\n",
        "// would have to spend to win all (two) prizes is 480.\n",
        "\n",
        "var testAnswer = SolveAllGames(testInputLines);\n",
        "Console.WriteLine(testAnswer);"
      ]
    },
    {
      "cell_type": "code",
      "execution_count": 9,
      "metadata": {
        "dotnet_interactive": {
          "language": "csharp"
        },
        "polyglot_notebook": {
          "kernelName": "csharp"
        },
        "vscode": {
          "languageId": "polyglot-notebook"
        }
      },
      "outputs": [
        {
          "name": "stdout",
          "output_type": "stream",
          "text": [
            "35997\n"
          ]
        }
      ],
      "source": [
        "// Figure out how to win as many prizes as possible. What is the fewest tokens\n",
        "// you would have to spend to win all possible prizes?\n",
        "\n",
        "var part1Answer = SolveAllGames(inputLines);\n",
        "Console.WriteLine(part1Answer);"
      ]
    },
    {
      "cell_type": "code",
      "execution_count": 10,
      "metadata": {
        "dotnet_interactive": {
          "language": "csharp"
        },
        "polyglot_notebook": {
          "kernelName": "csharp"
        },
        "vscode": {
          "languageId": "polyglot-notebook"
        }
      },
      "outputs": [],
      "source": [
        "// 35997 is correct!\n",
        "Ensure(35997, part1Answer);"
      ]
    },
    {
      "cell_type": "markdown",
      "metadata": {
        "dotnet_interactive": {
          "language": "csharp"
        },
        "polyglot_notebook": {
          "kernelName": "csharp"
        },
        "vscode": {
          "languageId": "polyglot-notebook"
        }
      },
      "source": [
        "### --- Part Two ---\n",
        "\n",
        "Puzzle description redacted as-per Advent of Code guidelines\n",
        "\n",
        "You may find the puzzle description at: https://adventofcode.com/2024/day/13"
      ]
    },
    {
      "cell_type": "markdown",
      "metadata": {},
      "source": [
        "As suspected our basic approach for part 1 doesn\u0027t work here :) I played around with a few ideas regarding factorisation, but ultimately I had to take my first hint here!\n",
        "\n",
        "The crutial hint here is that there aren\u0027t actually multiple solutions to the button combinations! If you consider A and B as vectors, and assuming they are not multiples of each other, you need a very specific number of A and B vectors to increment your way to the target. Changing the number of A / B vectors would change the resulting point away from the target.\n",
        "\n",
        "As a simple example, let vector A point directly up, and vector B point directly right. There is only a single number of ups and rights that will let you hit the target, not multiple. All that stuff about \u0022lowest cost\u0022 is a red herring!\n",
        "\n",
        "Therefore, in part 2 we are basically solving 2 linear equations, which we can do with Gaussian Elimination (defined in [Utils](../Utils.ipynb))."
      ]
    },
    {
      "cell_type": "code",
      "execution_count": 12,
      "metadata": {
        "dotnet_interactive": {
          "language": "csharp"
        },
        "polyglot_notebook": {
          "kernelName": "csharp"
        },
        "vscode": {
          "languageId": "polyglot-notebook"
        }
      },
      "outputs": [],
      "source": [
        "long SolveGame2(Game game)\n",
        "{\n",
        "    var (aButton, bButton, prize) = game;\n",
        "    const decimal part2Extra = 10000000000000;\n",
        "\n",
        "    decimal newPrizeX = prize.X \u002B part2Extra;\n",
        "    decimal newPrizeY = prize.Y \u002B part2Extra;\n",
        "\n",
        "    decimal[][] gameMatrix = [\n",
        "        [aButton.Xboost, bButton.Xboost, newPrizeX],\n",
        "        [aButton.Yboost, bButton.Yboost, newPrizeY]\n",
        "    ];\n",
        "    \n",
        "    GaussianElim(gameMatrix);\n",
        "\n",
        "    var (_, _, aPressesRaw) = gameMatrix[0];\n",
        "    var (_, _, bPressesRaw) = gameMatrix[1];\n",
        "    \n",
        "    // If a solution is found, the presses should be integer values\n",
        "    var aPresses = Math.Round(aPressesRaw, 0);\n",
        "    var bPresses = Math.Round(bPressesRaw, 0);\n",
        "\n",
        "    var xCheck = aButton.Xboost * aPresses \u002B bButton.Xboost * bPresses;\n",
        "    if (xCheck != newPrizeX)\n",
        "    {\n",
        "        // No solution for X\n",
        "        return 0;\n",
        "    }\n",
        "    var yCheck = aButton.Yboost * aPresses \u002B bButton.Yboost * bPresses;\n",
        "    if (yCheck != newPrizeY)\n",
        "    {\n",
        "        // No solution for Y\n",
        "        return 0;\n",
        "    }\n",
        "\n",
        "    // Solution found!\n",
        "    return GetTokenCost(aPresses, bPresses);\n",
        "}\n",
        "\n",
        "long GetTokenCost(decimal aPress, decimal bPress) =\u003E (long)(aPress * 3 \u002B bPress);\n",
        "\n",
        "long SolveAllGames2(string[] inputLines) =\u003E ParseAllGames(inputLines).Select(SolveGame2).Sum();"
      ]
    },
    {
      "cell_type": "code",
      "execution_count": 13,
      "metadata": {
        "dotnet_interactive": {
          "language": "csharp"
        },
        "polyglot_notebook": {
          "kernelName": "csharp"
        },
        "vscode": {
          "languageId": "polyglot-notebook"
        }
      },
      "outputs": [
        {
          "name": "stdout",
          "output_type": "stream",
          "text": [
            "875318608908\n"
          ]
        }
      ],
      "source": [
        "var part2TestAnswer = SolveAllGames2(testInputLines);\n",
        "Console.WriteLine(part2TestAnswer);"
      ]
    },
    {
      "cell_type": "code",
      "execution_count": 14,
      "metadata": {
        "dotnet_interactive": {
          "language": "csharp"
        },
        "polyglot_notebook": {
          "kernelName": "csharp"
        },
        "vscode": {
          "languageId": "polyglot-notebook"
        }
      },
      "outputs": [
        {
          "name": "stdout",
          "output_type": "stream",
          "text": [
            "82510994362072\n"
          ]
        }
      ],
      "source": [
        "// Using the corrected prize coordinates, figure out how to win as many prizes\n",
        "// as possible. What is the fewest tokens you would have to spend to win all\n",
        "// possible prizes?\n",
        "\n",
        "var part2Answer = SolveAllGames2(inputLines);\n",
        "Console.WriteLine(part2Answer);"
      ]
    },
    {
      "cell_type": "code",
      "execution_count": 15,
      "metadata": {
        "dotnet_interactive": {
          "language": "csharp"
        },
        "polyglot_notebook": {
          "kernelName": "csharp"
        },
        "vscode": {
          "languageId": "polyglot-notebook"
        }
      },
      "outputs": [],
      "source": [
        "// 82510994362072 is correct!\n",
        "Ensure(82510994362072, part2Answer);"
      ]
    }
  ],
  "metadata": {
    "kernelspec": {
      "display_name": ".NET (C#)",
      "language": "C#",
      "name": ".net-csharp"
    },
    "language_info": {
      "name": "python"
    },
    "polyglot_notebook": {
      "kernelInfo": {
        "defaultKernelName": "csharp",
        "items": [
          {
            "aliases": [],
            "name": "csharp"
          }
        ]
      }
    }
  },
  "nbformat": 4,
  "nbformat_minor": 2
}