{
  "cells": [
    {
      "cell_type": "markdown",
      "metadata": {
        "dotnet_interactive": {
          "language": "csharp"
        },
        "polyglot_notebook": {
          "kernelName": "csharp"
        },
        "vscode": {
          "languageId": "polyglot-notebook"
        }
      },
      "source": [
        "### --- Day 16: Reindeer Maze ---\n",
        "\n",
        "Puzzle description redacted as-per Advent of Code guidelines\n",
        "\n",
        "You may find the puzzle description at: https://adventofcode.com/2024/day/16"
      ]
    },
    {
      "cell_type": "code",
      "execution_count": 2,
      "metadata": {
        "dotnet_interactive": {
          "language": "csharp"
        },
        "polyglot_notebook": {
          "kernelName": "csharp"
        },
        "vscode": {
          "languageId": "polyglot-notebook"
        }
      },
      "outputs": [],
      "source": [
        "#!import ../Utils.ipynb"
      ]
    },
    {
      "cell_type": "code",
      "execution_count": 3,
      "metadata": {
        "dotnet_interactive": {
          "language": "csharp"
        },
        "polyglot_notebook": {
          "kernelName": "csharp"
        },
        "vscode": {
          "languageId": "polyglot-notebook"
        }
      },
      "outputs": [
        {
          "name": "stdout",
          "output_type": "stream",
          "text": [
            "Loading puzzle file: Day16.txt\n",
            "Total lines: 141\n",
            "Max line length: 141\n",
            "\n",
            "#############################################################################################################################################\n",
            "#.............#...#...........#...#...................#.........#...........#...................................#.............#.......#....E#\n",
            "#.#####.#####.#.#.#.###.#####.#.#.#.#.#########.#####.#.#######.#.#########.#######.###.###.###.#.#######.#.###.#.#########.#.#####.#.#.#.#.#\n",
            "#.#...#...#.#...#.#...#.....#.#.#.#.#.....#.....#...#...#.......#...#.....#.....#...#.#.....#.#.#.#.....#.#...#.#.#.#.......#...#...#.#.#.#.#\n",
            "###.#.#.#.#.###.#.###.#.###.#.#.#.#.#.###.#.#####.#######.#########.###.#######.#.###.#######.#.#.#####.#.###.#.#.#.#.#########.#.###.#.#.#.#\n"
          ]
        }
      ],
      "source": [
        "var inputLines = LoadPuzzleInput(2024, 16);\n",
        "WriteLines(inputLines);"
      ]
    },
    {
      "cell_type": "code",
      "execution_count": 4,
      "metadata": {
        "dotnet_interactive": {
          "language": "csharp"
        },
        "polyglot_notebook": {
          "kernelName": "csharp"
        },
        "vscode": {
          "languageId": "polyglot-notebook"
        }
      },
      "outputs": [],
      "source": [
        "string[] testInputLines = [\n",
        "    \u0022###############\u0022,\n",
        "    \u0022#.......#....E#\u0022,\n",
        "    \u0022#.#.###.#.###.#\u0022,\n",
        "    \u0022#.....#.#...#.#\u0022,\n",
        "    \u0022#.###.#####.#.#\u0022,\n",
        "    \u0022#.#.#.......#.#\u0022,\n",
        "    \u0022#.#.#####.###.#\u0022,\n",
        "    \u0022#...........#.#\u0022,\n",
        "    \u0022###.#.#####.#.#\u0022,\n",
        "    \u0022#...#.....#.#.#\u0022,\n",
        "    \u0022#.#.#.###.#.#.#\u0022,\n",
        "    \u0022#.....#...#.#.#\u0022,\n",
        "    \u0022#.###.#.#.#.#.#\u0022,\n",
        "    \u0022#S..#.....#...#\u0022,\n",
        "    \u0022###############\u0022,\n",
        "];"
      ]
    },
    {
      "cell_type": "markdown",
      "metadata": {},
      "source": [
        "This looks like a fairly straightforward use of Dijkstra\u0027s algorithm, modelling each \u0022node\u0022 as a point \u002B direction."
      ]
    },
    {
      "cell_type": "code",
      "execution_count": 5,
      "metadata": {
        "dotnet_interactive": {
          "language": "csharp"
        },
        "polyglot_notebook": {
          "kernelName": "csharp"
        },
        "vscode": {
          "languageId": "polyglot-notebook"
        }
      },
      "outputs": [],
      "source": [
        "using PointDir = (Point point, Point dir);\n",
        "using Cost = uint;"
      ]
    },
    {
      "cell_type": "code",
      "execution_count": 6,
      "metadata": {
        "dotnet_interactive": {
          "language": "csharp"
        },
        "polyglot_notebook": {
          "kernelName": "csharp"
        },
        "vscode": {
          "languageId": "polyglot-notebook"
        }
      },
      "outputs": [],
      "source": [
        "using PointDirCost = (PointDir pointDir, Cost cost);\n",
        "using NextMoveFunc = NextNodeFunc\u003CPointDir, Cost\u003E;"
      ]
    },
    {
      "cell_type": "code",
      "execution_count": 7,
      "metadata": {
        "dotnet_interactive": {
          "language": "csharp"
        },
        "polyglot_notebook": {
          "kernelName": "csharp"
        },
        "vscode": {
          "languageId": "polyglot-notebook"
        }
      },
      "outputs": [],
      "source": [
        "int FindLowestScore(string[] inputLines)\n",
        "{\n",
        "    CharGrid grid = new(inputLines);\n",
        "\n",
        "    var ((end, _), (start, _)) = grid.Enumerate().Where(pch =\u003E pch.ch is START or END).OrderBy(pch =\u003E pch.ch).ToArray();\n",
        "\n",
        "    var nextMoveFunc = GetNextMoveFunc(grid);\n",
        "\n",
        "    var minCost = ShortestPath((start, Right), nextMoveFunc)\n",
        "                    .First\u003CPointDirCost\u003E(pdc =\u003E pdc.pointDir.point == end).cost;\n",
        "    return (int)minCost;\n",
        "}\n",
        "\n",
        "NextMoveFunc GetNextMoveFunc(CharGrid grid)\n",
        "{\n",
        "    // They can move forward one tile at a time (increasing their score by 1\n",
        "    // point), but never into a wall (#). They can also rotate clockwise or\n",
        "    // counterclockwise 90 degrees at a time (increasing their score by 1000\n",
        "    // points).\n",
        "    IEnumerable\u003CPointDirCost\u003E nextMoveFunc(PointDir pointDir, Cost cost)\n",
        "    {\n",
        "        var (point, dir) = pointDir;\n",
        "\n",
        "        var nextStep = point \u002B dir;\n",
        "        if (grid.IsValid(nextStep) \u0026\u0026 grid[nextStep] is not WALL) {\n",
        "            yield return ((nextStep, dir), cost \u002B 1);\n",
        "        }\n",
        "        dir = TurnRight(dir);\n",
        "        yield return ((point, dir), cost \u002B 1000);\n",
        "        dir = TurnRight(TurnRight(dir));\n",
        "        yield return ((point, dir), cost \u002B 1000);\n",
        "    }\n",
        "    return nextMoveFunc;\n",
        "}\n",
        "\n",
        "const char WALL = \u0027#\u0027;\n",
        "const char START = \u0027S\u0027;\n",
        "const char END = \u0027E\u0027;"
      ]
    },
    {
      "cell_type": "code",
      "execution_count": 8,
      "metadata": {
        "dotnet_interactive": {
          "language": "csharp"
        },
        "polyglot_notebook": {
          "kernelName": "csharp"
        },
        "vscode": {
          "languageId": "polyglot-notebook"
        }
      },
      "outputs": [
        {
          "name": "stdout",
          "output_type": "stream",
          "text": [
            "7036\n"
          ]
        }
      ],
      "source": [
        "// There are many paths through this maze, but taking any of the best paths\n",
        "// would incur a score of only 7036\n",
        "\n",
        "var testAnswer = FindLowestScore(testInputLines);\n",
        "Console.WriteLine(testAnswer);"
      ]
    },
    {
      "cell_type": "code",
      "execution_count": 9,
      "metadata": {
        "dotnet_interactive": {
          "language": "csharp"
        },
        "polyglot_notebook": {
          "kernelName": "csharp"
        },
        "vscode": {
          "languageId": "polyglot-notebook"
        }
      },
      "outputs": [
        {
          "name": "stdout",
          "output_type": "stream",
          "text": [
            "94436\n"
          ]
        }
      ],
      "source": [
        "// Analyze your map carefully. What is the lowest score a Reindeer could\n",
        "// possibly get?\n",
        "\n",
        "var part1Answer = FindLowestScore(inputLines);\n",
        "Console.WriteLine(part1Answer);"
      ]
    },
    {
      "cell_type": "code",
      "execution_count": 10,
      "metadata": {
        "dotnet_interactive": {
          "language": "csharp"
        },
        "polyglot_notebook": {
          "kernelName": "csharp"
        },
        "vscode": {
          "languageId": "polyglot-notebook"
        }
      },
      "outputs": [],
      "source": [
        "// 94436 is correct!\n",
        "Ensure(94436, part1Answer);"
      ]
    },
    {
      "cell_type": "markdown",
      "metadata": {
        "dotnet_interactive": {
          "language": "csharp"
        },
        "polyglot_notebook": {
          "kernelName": "csharp"
        },
        "vscode": {
          "languageId": "polyglot-notebook"
        }
      },
      "source": [
        "### --- Part Two ---\n",
        "\n",
        "Puzzle description redacted as-per Advent of Code guidelines\n",
        "\n",
        "You may find the puzzle description at: https://adventofcode.com/2024/day/16"
      ]
    },
    {
      "cell_type": "markdown",
      "metadata": {},
      "source": [
        "Ok, so in order to figure out this one, we need to know which tiles are on the best path.\n",
        "\n",
        "For a given tile, we know the previous step that has given the current tile its lowest score. So if we keep track of the \u0022parent\u0022 steps, we can trace our way back up the best path. Once we know the path, counting the points along this path is straightforward."
      ]
    },
    {
      "cell_type": "code",
      "execution_count": 12,
      "metadata": {
        "dotnet_interactive": {
          "language": "csharp"
        },
        "polyglot_notebook": {
          "kernelName": "csharp"
        },
        "vscode": {
          "languageId": "polyglot-notebook"
        }
      },
      "outputs": [],
      "source": [
        "// The cost dictionary to track the parent relationship. Note there could be\n",
        "// multiple parents if different paths have the same cost, so we\u0027ll manage that\n",
        "// accordingly below\n",
        "\n",
        "using CostDict = SCG.Dictionary\u003CPointDir, (Cost cost, SCG.List\u003CPointDir\u003E parents)\u003E;"
      ]
    },
    {
      "cell_type": "code",
      "execution_count": 13,
      "metadata": {
        "dotnet_interactive": {
          "language": "csharp"
        },
        "polyglot_notebook": {
          "kernelName": "csharp"
        },
        "vscode": {
          "languageId": "polyglot-notebook"
        }
      },
      "outputs": [],
      "source": [
        "int CountTilesOnBestPath(string[] inputLines, uint knownMinCost)\n",
        "{\n",
        "    CharGrid grid = new(inputLines);\n",
        "\n",
        "    var ((end, _), (start, _)) = grid.Enumerate().Where(pch =\u003E pch.ch is START or END).OrderBy(pch =\u003E pch.ch).ToArray();\n",
        "\n",
        "    CostDict costDict = new();\n",
        "    costDict[(start, Right)] = (0, new());\n",
        "    var nextMoveFunc = GetNextMoveFunc2(grid, costDict);\n",
        "\n",
        "    var _ = ShortestPath((start, Right), nextMoveFunc).Count();\n",
        "\n",
        "    var ends = costDict.Keys.Where(k =\u003E k.point == end \u0026\u0026 costDict[k].cost == knownMinCost);\n",
        "\n",
        "    var pointCount = ends.SelectMany(end =\u003E GetPointPath(costDict, end)).Distinct().Count();\n",
        "    return pointCount;\n",
        "}\n",
        "\n",
        "NextMoveFunc GetNextMoveFunc2(CharGrid grid, CostDict costDict)\n",
        "{\n",
        "    // During this exploration phase, we know the reachable points have this\n",
        "    // current point as their parent. So we can use this to build the cost / parent\n",
        "    // relationship\n",
        "    IEnumerable\u003CPointDirCost\u003E nextMoveFunc(PointDir pointDir, Cost cost)\n",
        "    {\n",
        "        var (point, dir) = pointDir;\n",
        "\n",
        "        var nextStep = point \u002B dir;\n",
        "        if (grid.IsValid(nextStep) \u0026\u0026 grid[nextStep] is not WALL) {\n",
        "            PointDirCost nextStepCost = ((nextStep, dir), cost \u002B 1);\n",
        "            TrySetLowest(nextStepCost, pointDir);\n",
        "            yield return nextStepCost;\n",
        "        }\n",
        "        \n",
        "        dir = TurnRight(dir);\n",
        "        PointDirCost nextTurnCost = ((point, dir), cost \u002B 1000);\n",
        "        TrySetLowest(nextTurnCost, pointDir);\n",
        "        yield return nextTurnCost;\n",
        "\n",
        "        dir = TurnRight(TurnRight(dir));\n",
        "        nextTurnCost = ((point, dir), cost \u002B 1000);\n",
        "        TrySetLowest(nextTurnCost, pointDir);\n",
        "        yield return nextTurnCost;\n",
        "    }\n",
        "    return nextMoveFunc;\n",
        "\n",
        "    void TrySetLowest(PointDirCost pdc, PointDir parent)\n",
        "    {\n",
        "        var currentCostParent = costDict.GetValueOrDefault(pdc.pointDir, (pdc.cost, new()));\n",
        "\n",
        "        if (pdc.cost == currentCostParent.cost)\n",
        "        {\n",
        "            // Equal-best cost. Add this parent to the existing list.\n",
        "            currentCostParent.parents.Add(parent);\n",
        "        }\n",
        "        else if (pdc.cost \u003C currentCostParent.cost)\n",
        "        {\n",
        "            // New best cost with new singular parent.\n",
        "            currentCostParent = (pdc.cost, [parent]);\n",
        "        }\n",
        "        costDict[pdc.pointDir] = currentCostParent;\n",
        "    }\n",
        "}\n",
        "\n",
        "IEnumerable\u003CPoint\u003E GetPointPath(CostDict costDict, PointDir current)\n",
        "{\n",
        "    var parentPath = from parent in costDict[current].parents\n",
        "                     from parentPoint in GetPointPath(costDict, parent)\n",
        "                     select parentPoint;\n",
        "    return parentPath.Append(current.point);\n",
        "}\n",
        "                                                                         "
      ]
    },
    {
      "cell_type": "code",
      "execution_count": 14,
      "metadata": {
        "dotnet_interactive": {
          "language": "csharp"
        },
        "polyglot_notebook": {
          "kernelName": "csharp"
        },
        "vscode": {
          "languageId": "polyglot-notebook"
        }
      },
      "outputs": [
        {
          "name": "stdout",
          "output_type": "stream",
          "text": [
            "45\n"
          ]
        }
      ],
      "source": [
        "// In the first example, there are 45 tiles (marked O) that are part of at least\n",
        "// one of the various best paths through the maze:\n",
        "\n",
        "var part2TestAnswer = CountTilesOnBestPath(testInputLines, 7036);\n",
        "Console.WriteLine(part2TestAnswer);"
      ]
    },
    {
      "cell_type": "code",
      "execution_count": 15,
      "metadata": {
        "dotnet_interactive": {
          "language": "csharp"
        },
        "polyglot_notebook": {
          "kernelName": "csharp"
        },
        "vscode": {
          "languageId": "polyglot-notebook"
        }
      },
      "outputs": [
        {
          "name": "stdout",
          "output_type": "stream",
          "text": [
            "481\n"
          ]
        }
      ],
      "source": [
        "// Analyze your map further. How many tiles are part of at least one of the best\n",
        "// paths through the maze?\n",
        "\n",
        "var part2Answer = CountTilesOnBestPath(inputLines, 94436);\n",
        "Console.WriteLine(part2Answer);"
      ]
    },
    {
      "cell_type": "code",
      "execution_count": 16,
      "metadata": {
        "dotnet_interactive": {
          "language": "csharp"
        },
        "polyglot_notebook": {
          "kernelName": "csharp"
        },
        "vscode": {
          "languageId": "polyglot-notebook"
        }
      },
      "outputs": [],
      "source": [
        "// 481 is correct!\n",
        "Ensure(481, part2Answer);"
      ]
    }
  ],
  "metadata": {
    "kernelspec": {
      "display_name": ".NET (C#)",
      "language": "C#",
      "name": ".net-csharp"
    },
    "language_info": {
      "name": "python"
    },
    "polyglot_notebook": {
      "kernelInfo": {
        "defaultKernelName": "csharp",
        "items": [
          {
            "aliases": [],
            "name": "csharp"
          }
        ]
      }
    }
  },
  "nbformat": 4,
  "nbformat_minor": 2
}