{
  "cells": [
    {
      "cell_type": "markdown",
      "metadata": {
        "dotnet_interactive": {
          "language": "csharp"
        },
        "polyglot_notebook": {
          "kernelName": "csharp"
        },
        "vscode": {
          "languageId": "polyglot-notebook"
        }
      },
      "source": [
        "### --- Day 17: Chronospatial Computer ---\n",
        "\n",
        "Puzzle description redacted as-per Advent of Code guidelines\n",
        "\n",
        "You may find the puzzle description at: https://adventofcode.com/2024/day/17"
      ]
    },
    {
      "cell_type": "code",
      "execution_count": 2,
      "metadata": {
        "dotnet_interactive": {
          "language": "csharp"
        },
        "polyglot_notebook": {
          "kernelName": "csharp"
        },
        "vscode": {
          "languageId": "polyglot-notebook"
        }
      },
      "outputs": [],
      "source": [
        "#!import ../Utils.ipynb"
      ]
    },
    {
      "cell_type": "code",
      "execution_count": 3,
      "metadata": {
        "dotnet_interactive": {
          "language": "csharp"
        },
        "polyglot_notebook": {
          "kernelName": "csharp"
        },
        "vscode": {
          "languageId": "polyglot-notebook"
        }
      },
      "outputs": [
        {
          "name": "stdout",
          "output_type": "stream",
          "text": [
            "Loading puzzle file: Day17.txt\n",
            "Total lines: 5\n",
            "Max line length: 40\n",
            "\n",
            "Register A: 38610541\n",
            "Register B: 0\n",
            "Register C: 0\n",
            "\n",
            "Program: 2,4,1,1,7,5,1,5,4,3,5,5,0,3,3,0\n"
          ]
        }
      ],
      "source": [
        "var inputLines = LoadPuzzleInput(2024, 17);\n",
        "WriteLines(inputLines);\n",
        "// var (inputRegisters, inputInstructions) = inputLines.SeparateBy(line =\u003E line is \u0022\u0022).ToArray();\n",
        "\n",
        "// WriteLines(inputRegisters);\n",
        "// WriteLines(inputInstructions);"
      ]
    },
    {
      "cell_type": "code",
      "execution_count": 4,
      "metadata": {
        "dotnet_interactive": {
          "language": "csharp"
        },
        "polyglot_notebook": {
          "kernelName": "csharp"
        },
        "vscode": {
          "languageId": "polyglot-notebook"
        }
      },
      "outputs": [],
      "source": [
        "string[] testInputLines =\n",
        "[\n",
        "    \u0022Register A: 729\u0022,\n",
        "    \u0022Register B: 0\u0022,\n",
        "    \u0022Register C: 0\u0022,\n",
        "    \u0022\u0022,\n",
        "    \u0022Program: 0,1,5,4,3,0\u0022,\n",
        "];"
      ]
    },
    {
      "cell_type": "code",
      "execution_count": 5,
      "metadata": {
        "dotnet_interactive": {
          "language": "csharp"
        },
        "polyglot_notebook": {
          "kernelName": "csharp"
        },
        "vscode": {
          "languageId": "polyglot-notebook"
        }
      },
      "outputs": [],
      "source": [
        "// delegate int ComboOperand();\n",
        "delegate void Instruction(int operand);\n",
        "\n",
        "class Processor\n",
        "{\n",
        "    public Processor()\n",
        "    {\n",
        "        PopulateInstructions();\n",
        "    }\n",
        "    \n",
        "    // The computer also has three registers named A, B, and C, but these\n",
        "    // registers aren\u0027t limited to 3 bits and can instead hold any integer.\n",
        "    public int RegisterA { get; private set; }\n",
        "    public int RegisterB { get; private set; }\n",
        "    public int RegisterC { get; private set; }\n",
        "\n",
        "    // A number called the instruction pointer identifies the position in the\n",
        "    // program from which the next opcode will be read; it starts at 0, pointing at\n",
        "    // the first 3-bit number in the program.\n",
        "    public int InstructionPointer { get; private set; }\n",
        "\n",
        "    public void Process(int a, int b, int c, int[] instructions)\n",
        "    {\n",
        "        (RegisterA, RegisterB, RegisterC) = (a, b, c);\n",
        "        InstructionPointer = 0;\n",
        "        _output = new();\n",
        "\n",
        "        while (InstructionPointer \u003C instructions.Length)\n",
        "        {\n",
        "            var (inst, operand) = instructions[InstructionPointer..(InstructionPointer\u002B2)];\n",
        "            var instruction = _instructionLookup[inst];\n",
        "            instruction(operand);\n",
        "        }\n",
        "    }\n",
        "\n",
        "    StringBuilder _output;\n",
        "    public string Output =\u003E _output.ToString();\n",
        "\n",
        "    // Operands\n",
        "    /////\n",
        "\n",
        "    int Combo(int i) =\u003E i switch {\n",
        "        0 =\u003E 0,\n",
        "        1 =\u003E 1,\n",
        "        2 =\u003E 2,\n",
        "        3 =\u003E 3,\n",
        "        4 =\u003E RegisterA,\n",
        "        5 =\u003E RegisterB,\n",
        "        6 =\u003E RegisterC,\n",
        "        _ =\u003E throw new ArgumentException($\u0022Unexpected combo operand\u0022)\n",
        "    };\n",
        "\n",
        "    // Instructions\n",
        "    /////\n",
        "\n",
        "    Dictionary\u003Cint, Instruction\u003E _instructionLookup;\n",
        "\n",
        "    void PopulateInstructions()\n",
        "    {\n",
        "        _instructionLookup = new()\n",
        "        {\n",
        "            { 0, Adv_0 },\n",
        "            { 1, Bxl_1 },\n",
        "            { 2, Bst_2 },\n",
        "            { 3, Jnz_3 },\n",
        "            { 4, Bxc_4 },\n",
        "            { 5, Out_5 },\n",
        "            { 6, Bdv_6 },\n",
        "            { 7, Cdv_7 }\n",
        "        };\n",
        "    }\n",
        "\n",
        "    // The eight instructions are as follows:\n",
        "\n",
        "    // The adv instruction (opcode 0) performs division. The numerator is the\n",
        "    // value in the A register. The denominator is found by raising 2 to the power\n",
        "    // of the instruction\u0027s combo operand. (So, an operand of 2 would divide A by 4\n",
        "    // (2^2); an operand of 5 would divide A by 2^B.) The result of the division\n",
        "    // operation is truncated to an integer and then written to the A register.\n",
        "    void Adv_0(int operand) {\n",
        "        RegisterA = RegisterA / (int)Math.Pow(2, Combo(operand));\n",
        "        InstructionPointer \u002B= 2;\n",
        "    }\n",
        "\n",
        "    // The bxl instruction (opcode 1) calculates the bitwise XOR of register B\n",
        "    // and the instruction\u0027s literal operand, then stores the result in register B.\n",
        "    void Bxl_1(int operand) {\n",
        "        RegisterB = RegisterB ^ operand;\n",
        "        InstructionPointer \u002B= 2;\n",
        "    }\n",
        "\n",
        "    // The bst instruction (opcode 2) calculates the value of its combo operand\n",
        "    // modulo 8 (thereby keeping only its lowest 3 bits), then writes that value to\n",
        "    // the B register.\n",
        "    void Bst_2(int operand) {\n",
        "        RegisterB = Combo(operand) % 8;\n",
        "        InstructionPointer \u002B= 2;\n",
        "    }\n",
        "\n",
        "    // The jnz instruction (opcode 3) does nothing if the A register is 0.\n",
        "    // However, if the A register is not zero, it jumps by setting the instruction\n",
        "    // pointer to the value of its literal operand; if this instruction jumps, the\n",
        "    // instruction pointer is not increased by 2 after this instruction.\n",
        "    void Jnz_3(int operand) {\n",
        "        if (RegisterA is 0) {\n",
        "            InstructionPointer \u002B= 2;\n",
        "            return; \n",
        "        }\n",
        "        InstructionPointer = operand;\n",
        "    }\n",
        "\n",
        "    // The bxc instruction (opcode 4) calculates the bitwise XOR of register B\n",
        "    // and register C, then stores the result in register B. (For legacy reasons,\n",
        "    // this instruction reads an operand but ignores it.)\n",
        "    void Bxc_4(int operand) {\n",
        "        RegisterB = RegisterB ^ RegisterC;\n",
        "        InstructionPointer \u002B= 2;\n",
        "    }\n",
        "\n",
        "    // The out instruction (opcode 5) calculates the value of its combo operand\n",
        "    // modulo 8, then outputs that value. (If a program outputs multiple values,\n",
        "    // they are separated by commas.)\n",
        "    void Out_5(int operand) {\n",
        "        if (_output.Length \u003E 0) {\n",
        "            _output.Append(\u0022,\u0022);\n",
        "        }\n",
        "        _output.Append(Combo(operand) % 8);\n",
        "        InstructionPointer \u002B= 2;\n",
        "    }\n",
        "\n",
        "    // The bdv instruction (opcode 6) works exactly like the adv instruction\n",
        "    // except that the result is stored in the B register. (The numerator is still\n",
        "    // read from the A register.)\n",
        "    void Bdv_6(int operand) {\n",
        "        RegisterB = RegisterA / (int)Math.Pow(2, Combo(operand));\n",
        "        InstructionPointer \u002B= 2;\n",
        "    }\n",
        "\n",
        "    // The cdv instruction (opcode 7) works exactly like the adv instruction\n",
        "    // except that the result is stored in the C register. (The numerator is still\n",
        "    // read from the A register.)\n",
        "    void Cdv_7(int operand) {\n",
        "        RegisterC = RegisterA / (int)Math.Pow(2, Combo(operand));\n",
        "        InstructionPointer \u002B= 2;\n",
        "    }\n",
        "}"
      ]
    },
    {
      "cell_type": "code",
      "execution_count": 6,
      "metadata": {
        "dotnet_interactive": {
          "language": "csharp"
        },
        "polyglot_notebook": {
          "kernelName": "csharp"
        },
        "vscode": {
          "languageId": "polyglot-notebook"
        }
      },
      "outputs": [],
      "source": [
        "string RunProcessor(string[] inputLines)\n",
        "{\n",
        "    var numbers = inputLines.ParseAll(@\u0022\\d\u002B\u0022).Select(int.Parse).ToArray();\n",
        "\n",
        "    var (a, b, c) = numbers;\n",
        "    var instructions = numbers[3..].ToArray();\n",
        "    \n",
        "    Processor processor = new();\n",
        "    processor.Process(a, b, c, instructions);\n",
        "    return processor.Output;\n",
        "}"
      ]
    },
    {
      "cell_type": "code",
      "execution_count": 7,
      "metadata": {
        "dotnet_interactive": {
          "language": "csharp"
        },
        "polyglot_notebook": {
          "kernelName": "csharp"
        },
        "vscode": {
          "languageId": "polyglot-notebook"
        }
      },
      "outputs": [
        {
          "name": "stdout",
          "output_type": "stream",
          "text": [
            "4,6,3,5,6,3,5,2,1,0\n"
          ]
        }
      ],
      "source": [
        "// After the above program halts, its final output will be 4,6,3,5,6,3,5,2,1,0.\n",
        "\n",
        "var testAnswer = RunProcessor(testInputLines);\n",
        "Console.WriteLine(testAnswer);"
      ]
    },
    {
      "cell_type": "code",
      "execution_count": 8,
      "metadata": {
        "dotnet_interactive": {
          "language": "csharp"
        },
        "polyglot_notebook": {
          "kernelName": "csharp"
        },
        "vscode": {
          "languageId": "polyglot-notebook"
        }
      },
      "outputs": [
        {
          "name": "stdout",
          "output_type": "stream",
          "text": [
            "7,5,4,3,4,5,3,4,6\n"
          ]
        }
      ],
      "source": [
        "var part1Answer = RunProcessor(inputLines);\n",
        "Console.WriteLine(part1Answer);"
      ]
    },
    {
      "cell_type": "code",
      "execution_count": 9,
      "metadata": {
        "dotnet_interactive": {
          "language": "csharp"
        },
        "polyglot_notebook": {
          "kernelName": "csharp"
        },
        "vscode": {
          "languageId": "polyglot-notebook"
        }
      },
      "outputs": [],
      "source": [
        "// 7,5,4,3,4,5,3,4,6 is correct\n",
        "Ensure(\u00227,5,4,3,4,5,3,4,6\u0022, part1Answer);"
      ]
    },
    {
      "cell_type": "markdown",
      "metadata": {
        "dotnet_interactive": {
          "language": "csharp"
        },
        "polyglot_notebook": {
          "kernelName": "csharp"
        },
        "vscode": {
          "languageId": "polyglot-notebook"
        }
      },
      "source": [
        "### --- Part Two ---\n",
        "\n",
        "Puzzle description redacted as-per Advent of Code guidelines\n",
        "\n",
        "You may find the puzzle description at: https://adventofcode.com/2024/day/17"
      ]
    }
  ],
  "metadata": {
    "kernelspec": {
      "display_name": ".NET (C#)",
      "language": "C#",
      "name": ".net-csharp"
    },
    "language_info": {
      "name": "python"
    },
    "polyglot_notebook": {
      "kernelInfo": {
        "defaultKernelName": "csharp",
        "items": [
          {
            "aliases": [],
            "name": "csharp"
          }
        ]
      }
    }
  },
  "nbformat": 4,
  "nbformat_minor": 2
}