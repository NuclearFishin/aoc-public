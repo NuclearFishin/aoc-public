{
  "cells": [
    {
      "cell_type": "markdown",
      "metadata": {
        "dotnet_interactive": {
          "language": "csharp"
        },
        "polyglot_notebook": {
          "kernelName": "csharp"
        },
        "vscode": {
          "languageId": "polyglot-notebook"
        }
      },
      "source": [
        "### --- Day 17: Chronospatial Computer ---\n",
        "\n",
        "Puzzle description redacted as-per Advent of Code guidelines\n",
        "\n",
        "You may find the puzzle description at: https://adventofcode.com/2024/day/17"
      ]
    },
    {
      "cell_type": "code",
      "execution_count": 2,
      "metadata": {
        "dotnet_interactive": {
          "language": "csharp"
        },
        "polyglot_notebook": {
          "kernelName": "csharp"
        },
        "vscode": {
          "languageId": "polyglot-notebook"
        }
      },
      "outputs": [],
      "source": [
        "#!import ../Utils.ipynb"
      ]
    },
    {
      "cell_type": "code",
      "execution_count": 3,
      "metadata": {
        "dotnet_interactive": {
          "language": "csharp"
        },
        "polyglot_notebook": {
          "kernelName": "csharp"
        },
        "vscode": {
          "languageId": "polyglot-notebook"
        }
      },
      "outputs": [
        {
          "name": "stdout",
          "output_type": "stream",
          "text": [
            "Loading puzzle file: Day17.txt\n",
            "Total lines: 5\n",
            "Max line length: 40\n",
            "\n",
            "Register A: 38610541\n",
            "Register B: 0\n",
            "Register C: 0\n",
            "\n",
            "Program: 2,4,1,1,7,5,1,5,4,3,5,5,0,3,3,0\n"
          ]
        }
      ],
      "source": [
        "var inputLines = LoadPuzzleInput(2024, 17);\n",
        "WriteLines(inputLines);"
      ]
    },
    {
      "cell_type": "code",
      "execution_count": 4,
      "metadata": {
        "dotnet_interactive": {
          "language": "csharp"
        },
        "polyglot_notebook": {
          "kernelName": "csharp"
        },
        "vscode": {
          "languageId": "polyglot-notebook"
        }
      },
      "outputs": [],
      "source": [
        "string[] testInputLines =\n",
        "[\n",
        "    \u0022Register A: 729\u0022,\n",
        "    \u0022Register B: 0\u0022,\n",
        "    \u0022Register C: 0\u0022,\n",
        "    \u0022\u0022,\n",
        "    \u0022Program: 0,1,5,4,3,0\u0022,\n",
        "];"
      ]
    },
    {
      "cell_type": "code",
      "execution_count": 5,
      "metadata": {
        "dotnet_interactive": {
          "language": "csharp"
        },
        "polyglot_notebook": {
          "kernelName": "csharp"
        },
        "vscode": {
          "languageId": "polyglot-notebook"
        }
      },
      "outputs": [],
      "source": [
        "using Register = ulong; // Need 64-bit numbers for Part 2\n",
        "using Instr = byte; // Instructions are octal\n",
        "\n",
        "delegate void Instruction(Instr operand);"
      ]
    },
    {
      "cell_type": "code",
      "execution_count": 6,
      "metadata": {
        "dotnet_interactive": {
          "language": "csharp"
        },
        "polyglot_notebook": {
          "kernelName": "csharp"
        },
        "vscode": {
          "languageId": "polyglot-notebook"
        }
      },
      "outputs": [],
      "source": [
        "class Processor\n",
        "{\n",
        "    public Processor()\n",
        "    {\n",
        "        PopulateInstructions();\n",
        "    }\n",
        "    \n",
        "    // The computer also has three registers named A, B, and C, but these\n",
        "    // registers aren\u0027t limited to 3 bits and can instead hold any integer.\n",
        "    public Register RegisterA { get; private set; }\n",
        "    public Register RegisterB { get; private set; }\n",
        "    public Register RegisterC { get; private set; }\n",
        "\n",
        "    // A number called the instruction pointer identifies the position in the\n",
        "    // program from which the next opcode will be read; it starts at 0, pointing at\n",
        "    // the first 3-bit number in the program.\n",
        "    public int InstructionPointer { get; private set; }\n",
        "\n",
        "    public void Process(Register a, Register b, Register c, Instr[] instructions)\n",
        "    {\n",
        "        (RegisterA, RegisterB, RegisterC) = (a, b, c);\n",
        "        InstructionPointer = 0;\n",
        "        _output = new();\n",
        "\n",
        "        while (InstructionPointer \u003C instructions.Length)\n",
        "        {\n",
        "            var (inst, operand) = instructions[InstructionPointer..(InstructionPointer\u002B2)];\n",
        "            var instruction = _instructionLookup[inst];\n",
        "            instruction(operand);\n",
        "        }\n",
        "    }\n",
        "\n",
        "    StringBuilder _output;\n",
        "    public string Output =\u003E _output.ToString();\n",
        "\n",
        "    // Operands\n",
        "    /////\n",
        "\n",
        "    Register Combo(Instr i) =\u003E i switch {\n",
        "        0 =\u003E 0,\n",
        "        1 =\u003E 1,\n",
        "        2 =\u003E 2,\n",
        "        3 =\u003E 3,\n",
        "        4 =\u003E RegisterA,\n",
        "        5 =\u003E RegisterB,\n",
        "        6 =\u003E RegisterC,\n",
        "        _ =\u003E throw new ArgumentException($\u0022Unexpected combo operand\u0022)\n",
        "    };\n",
        "\n",
        "    // Instructions\n",
        "    /////\n",
        "\n",
        "    Dictionary\u003CInstr, Instruction\u003E _instructionLookup;\n",
        "\n",
        "    void PopulateInstructions()\n",
        "    {\n",
        "        _instructionLookup = new()\n",
        "        {\n",
        "            { 0, Adv_0 },\n",
        "            { 1, Bxl_1 },\n",
        "            { 2, Bst_2 },\n",
        "            { 3, Jnz_3 },\n",
        "            { 4, Bxc_4 },\n",
        "            { 5, Out_5 },\n",
        "            { 6, Bdv_6 },\n",
        "            { 7, Cdv_7 }\n",
        "        };\n",
        "    }\n",
        "\n",
        "    // The eight instructions are as follows:\n",
        "\n",
        "    // The adv instruction (opcode 0) performs division. The numerator is the\n",
        "    // value in the A register. The denominator is found by raising 2 to the power\n",
        "    // of the instruction\u0027s combo operand. (So, an operand of 2 would divide A by 4\n",
        "    // (2^2); an operand of 5 would divide A by 2^B.) The result of the division\n",
        "    // operation is truncated to an integer and then written to the A register.\n",
        "    void Adv_0(Instr operand) {\n",
        "        RegisterA = RegisterA / (Register)Math.Pow(2, Combo(operand));\n",
        "        InstructionPointer \u002B= 2;\n",
        "    }\n",
        "\n",
        "    // The bxl instruction (opcode 1) calculates the bitwise XOR of register B\n",
        "    // and the instruction\u0027s literal operand, then stores the result in register B.\n",
        "    void Bxl_1(Instr operand) {\n",
        "        RegisterB = RegisterB ^ (Register)operand;\n",
        "        InstructionPointer \u002B= 2;\n",
        "    }\n",
        "\n",
        "    // The bst instruction (opcode 2) calculates the value of its combo operand\n",
        "    // modulo 8 (thereby keeping only its lowest 3 bits), then writes that value to\n",
        "    // the B register.\n",
        "    void Bst_2(Instr operand) {\n",
        "        RegisterB = Combo(operand) % 8;\n",
        "        InstructionPointer \u002B= 2;\n",
        "    }\n",
        "\n",
        "    // The jnz instruction (opcode 3) does nothing if the A register is 0.\n",
        "    // However, if the A register is not zero, it jumps by setting the instruction\n",
        "    // pointer to the value of its literal operand; if this instruction jumps, the\n",
        "    // instruction pointer is not increased by 2 after this instruction.\n",
        "    void Jnz_3(Instr operand) {\n",
        "        if (RegisterA is 0) {\n",
        "            InstructionPointer \u002B= 2;\n",
        "            return; \n",
        "        }\n",
        "        InstructionPointer = operand;\n",
        "    }\n",
        "\n",
        "    // The bxc instruction (opcode 4) calculates the bitwise XOR of register B\n",
        "    // and register C, then stores the result in register B. (For legacy reasons,\n",
        "    // this instruction reads an operand but ignores it.)\n",
        "    void Bxc_4(Instr operand) {\n",
        "        RegisterB = RegisterB ^ RegisterC;\n",
        "        InstructionPointer \u002B= 2;\n",
        "    }\n",
        "\n",
        "    // The out instruction (opcode 5) calculates the value of its combo operand\n",
        "    // modulo 8, then outputs that value. (If a program outputs multiple values,\n",
        "    // they are separated by commas.)\n",
        "    void Out_5(Instr operand) {\n",
        "        if (_output.Length \u003E 0) {\n",
        "            _output.Append(\u0022,\u0022);\n",
        "        }\n",
        "        _output.Append(Combo(operand) % 8);\n",
        "        InstructionPointer \u002B= 2;\n",
        "    }\n",
        "\n",
        "    // The bdv instruction (opcode 6) works exactly like the adv instruction\n",
        "    // except that the result is stored in the B register. (The numerator is still\n",
        "    // read from the A register.)\n",
        "    void Bdv_6(Instr operand) {\n",
        "        RegisterB = RegisterA / (Register)Math.Pow(2, Combo(operand));\n",
        "        InstructionPointer \u002B= 2;\n",
        "    }\n",
        "\n",
        "    // The cdv instruction (opcode 7) works exactly like the adv instruction\n",
        "    // except that the result is stored in the C register. (The numerator is still\n",
        "    // read from the A register.)\n",
        "    void Cdv_7(Instr operand) {\n",
        "        RegisterC = RegisterA / (Register)Math.Pow(2, Combo(operand));\n",
        "        InstructionPointer \u002B= 2;\n",
        "    }\n",
        "}"
      ]
    },
    {
      "cell_type": "code",
      "execution_count": 7,
      "metadata": {
        "dotnet_interactive": {
          "language": "csharp"
        },
        "polyglot_notebook": {
          "kernelName": "csharp"
        },
        "vscode": {
          "languageId": "polyglot-notebook"
        }
      },
      "outputs": [],
      "source": [
        "string RunProcessor(string[] inputLines)\n",
        "{\n",
        "    var numbers = inputLines.ParseAll(@\u0022\\d\u002B\u0022).ToArray();\n",
        "\n",
        "    var (a, b, c) = numbers.Select(Register.Parse).ToArray();\n",
        "    var instructions = numbers[3..].Select(Instr.Parse).ToArray();\n",
        "    \n",
        "    Processor processor = new();\n",
        "    processor.Process(a, b, c, instructions);\n",
        "    return processor.Output;\n",
        "}"
      ]
    },
    {
      "cell_type": "code",
      "execution_count": 8,
      "metadata": {
        "dotnet_interactive": {
          "language": "csharp"
        },
        "polyglot_notebook": {
          "kernelName": "csharp"
        },
        "vscode": {
          "languageId": "polyglot-notebook"
        }
      },
      "outputs": [
        {
          "name": "stdout",
          "output_type": "stream",
          "text": [
            "4,6,3,5,6,3,5,2,1,0\n"
          ]
        }
      ],
      "source": [
        "// After the above program halts, its final output will be 4,6,3,5,6,3,5,2,1,0.\n",
        "\n",
        "var testAnswer = RunProcessor(testInputLines);\n",
        "Console.WriteLine(testAnswer);"
      ]
    },
    {
      "cell_type": "code",
      "execution_count": 9,
      "metadata": {
        "dotnet_interactive": {
          "language": "csharp"
        },
        "polyglot_notebook": {
          "kernelName": "csharp"
        },
        "vscode": {
          "languageId": "polyglot-notebook"
        }
      },
      "outputs": [
        {
          "name": "stdout",
          "output_type": "stream",
          "text": [
            "7,5,4,3,4,5,3,4,6\n"
          ]
        }
      ],
      "source": [
        "// Using the information provided by the debugger, initialize the registers to\n",
        "// the given values, then run the program. Once it halts, what do you get if you\n",
        "// use commas to join the values it output into a single string?\n",
        "\n",
        "var part1Answer = RunProcessor(inputLines);\n",
        "Console.WriteLine(part1Answer);"
      ]
    },
    {
      "cell_type": "code",
      "execution_count": 10,
      "metadata": {
        "dotnet_interactive": {
          "language": "csharp"
        },
        "polyglot_notebook": {
          "kernelName": "csharp"
        },
        "vscode": {
          "languageId": "polyglot-notebook"
        }
      },
      "outputs": [],
      "source": [
        "// 7,5,4,3,4,5,3,4,6 is correct!\n",
        "Ensure(\u00227,5,4,3,4,5,3,4,6\u0022, part1Answer);"
      ]
    },
    {
      "cell_type": "markdown",
      "metadata": {
        "dotnet_interactive": {
          "language": "csharp"
        },
        "polyglot_notebook": {
          "kernelName": "csharp"
        },
        "vscode": {
          "languageId": "polyglot-notebook"
        }
      },
      "source": [
        "### --- Part Two ---\n",
        "\n",
        "Puzzle description redacted as-per Advent of Code guidelines\n",
        "\n",
        "You may find the puzzle description at: https://adventofcode.com/2024/day/17"
      ]
    },
    {
      "cell_type": "markdown",
      "metadata": {},
      "source": [
        "This was a tricky one! A few hard-fought observations and a hint or two eventually led me to the answer.\n",
        "\n",
        "Using this basic function below to observe the output..."
      ]
    },
    {
      "cell_type": "code",
      "execution_count": 12,
      "metadata": {
        "dotnet_interactive": {
          "language": "csharp"
        },
        "polyglot_notebook": {
          "kernelName": "csharp"
        },
        "vscode": {
          "languageId": "polyglot-notebook"
        }
      },
      "outputs": [
        {
          "name": "stdout",
          "output_type": "stream",
          "text": [
            "0\n",
            "0\n",
            "0\n",
            "0\n",
            "0\n",
            "0\n",
            "0\n",
            "0\n",
            "1,0\n",
            "1,0\n",
            "1,0\n",
            "1,0\n",
            "1,0\n",
            "1,0\n",
            "1,0\n",
            "1,0\n",
            "2,0\n",
            "2,0\n",
            "2,0\n",
            "2,0\n"
          ]
        }
      ],
      "source": [
        "Instr[] testInstructions = [0,3,5,4,3,0];\n",
        "Instr[] realInstructions = [2,4,1,1,7,5,1,5,4,3,5,5,0,3,3,0];\n",
        "\n",
        "string ProcessOne(Register registerA, Instr[] instructions)\n",
        "{\n",
        "    var processor = new Processor();\n",
        "    processor.Process(registerA, 0, 0, instructions);\n",
        "    return processor.Output;\n",
        "}\n",
        "\n",
        "foreach (Register i in Enumerable.Range(0, 20))\n",
        "{\n",
        "    Console.WriteLine(ProcessOne(i, testInstructions));\n",
        "}"
      ]
    },
    {
      "cell_type": "markdown",
      "metadata": {},
      "source": [
        "...we notice with the sample instructions that the output is an octal counter!\n",
        "\n",
        "#### Hypothesis 1: The instructions are a counter with the digits offset\n",
        "\n",
        "Result: failed. The digits output are octal, but the digits do not cycle like a counter would. Sometimes the same digit is repeated, eg, \u006064\u0060 gives \u0060404\u0060, but so does \u006065\u0060"
      ]
    },
    {
      "cell_type": "code",
      "execution_count": 13,
      "metadata": {
        "dotnet_interactive": {
          "language": "csharp"
        },
        "polyglot_notebook": {
          "kernelName": "csharp"
        },
        "vscode": {
          "languageId": "polyglot-notebook"
        }
      },
      "outputs": [
        {
          "name": "stdout",
          "output_type": "stream",
          "text": [
            "2,2\n",
            "3,2\n",
            "0,3\n",
            "4,3\n",
            "1,3\n",
            "1,3\n",
            "1,3\n",
            "2,3\n",
            "2,3\n",
            "3,3\n",
            "4,0,4\n",
            "4,0,4\n",
            "6,0,4\n",
            "7,0,4\n",
            "2,0,4\n",
            "5,0,4\n",
            "2,0,4\n",
            "2,0,4\n",
            "0,4,4\n",
            "4,4,4\n"
          ]
        }
      ],
      "source": [
        "foreach (Register i in Enumerable.Range(54, 20))\n",
        "{\n",
        "    Console.WriteLine(ProcessOne(i, realInstructions));\n",
        "}"
      ]
    },
    {
      "cell_type": "markdown",
      "metadata": {},
      "source": [
        "#### Hypothesis 2: Subsets of the instructions repeat every \u0060N\u0060 cycles\n",
        "\n",
        "Eg, the end result for \u00603,3,0\u0060 comes around every \u0060N\u0060 iterations, then we can jump by \u0060N\u0060 iterations until we find the next subset \u00600,3,3,0\u0060, then increase again until we find the next subset, and so on.\n",
        "\n",
        "Result: failed. The test shows no obvious cyclic repetition."
      ]
    },
    {
      "cell_type": "code",
      "execution_count": 14,
      "metadata": {
        "dotnet_interactive": {
          "language": "csharp"
        },
        "polyglot_notebook": {
          "kernelName": "csharp"
        },
        "vscode": {
          "languageId": "polyglot-notebook"
        }
      },
      "outputs": [
        {
          "name": "stdout",
          "output_type": "stream",
          "text": [
            "Iteration 152996 ends with 5,5,0,3,3,0: 5,5,0,3,3,0 (\u002B152996)\n",
            "Iteration 152999 ends with 5,5,0,3,3,0: 5,5,0,3,3,0 (\u002B3)\n",
            "Iteration 154155 ends with 5,5,0,3,3,0: 5,5,0,3,3,0 (\u002B1156)\n",
            "Iteration 1223968 ends with 5,5,0,3,3,0: 4,5,5,0,3,3,0 (\u002B1069813)\n",
            "Iteration 1223969 ends with 5,5,0,3,3,0: 4,5,5,0,3,3,0 (\u002B1)\n",
            "Iteration 1223970 ends with 5,5,0,3,3,0: 2,5,5,0,3,3,0 (\u002B1)\n",
            "Iteration 1223971 ends with 5,5,0,3,3,0: 7,5,5,0,3,3,0 (\u002B1)\n",
            "Iteration 1223972 ends with 5,5,0,3,3,0: 1,5,5,0,3,3,0 (\u002B1)\n",
            "Iteration 1223973 ends with 5,5,0,3,3,0: 3,5,5,0,3,3,0 (\u002B1)\n",
            "Iteration 1223974 ends with 5,5,0,3,3,0: 0,5,5,0,3,3,0 (\u002B1)\n",
            "Iteration 1223975 ends with 5,5,0,3,3,0: 7,5,5,0,3,3,0 (\u002B1)\n",
            "Iteration 1223992 ends with 5,5,0,3,3,0: 0,5,5,0,3,3,0 (\u002B17)\n",
            "Iteration 1223993 ends with 5,5,0,3,3,0: 4,5,5,0,3,3,0 (\u002B1)\n",
            "Iteration 1223994 ends with 5,5,0,3,3,0: 1,5,5,0,3,3,0 (\u002B1)\n",
            "Iteration 1223995 ends with 5,5,0,3,3,0: 1,5,5,0,3,3,0 (\u002B1)\n",
            "Iteration 1223996 ends with 5,5,0,3,3,0: 1,5,5,0,3,3,0 (\u002B1)\n",
            "Iteration 1223997 ends with 5,5,0,3,3,0: 2,5,5,0,3,3,0 (\u002B1)\n",
            "Iteration 1223998 ends with 5,5,0,3,3,0: 0,5,5,0,3,3,0 (\u002B1)\n",
            "Iteration 1223999 ends with 5,5,0,3,3,0: 7,5,5,0,3,3,0 (\u002B1)\n",
            "Iteration 1233240 ends with 5,5,0,3,3,0: 0,5,5,0,3,3,0 (\u002B9241)\n",
            "Iteration 1233241 ends with 5,5,0,3,3,0: 4,5,5,0,3,3,0 (\u002B1)\n",
            "Iteration 1233242 ends with 5,5,0,3,3,0: 5,5,5,0,3,3,0 (\u002B1)\n",
            "Iteration 1233243 ends with 5,5,0,3,3,0: 1,5,5,0,3,3,0 (\u002B1)\n",
            "Iteration 1233244 ends with 5,5,0,3,3,0: 2,5,5,0,3,3,0 (\u002B1)\n",
            "Iteration 1233245 ends with 5,5,0,3,3,0: 4,5,5,0,3,3,0 (\u002B1)\n",
            "Iteration 1233246 ends with 5,5,0,3,3,0: 0,5,5,0,3,3,0 (\u002B1)\n",
            "Iteration 1233247 ends with 5,5,0,3,3,0: 6,5,5,0,3,3,0 (\u002B1)\n"
          ]
        }
      ],
      "source": [
        "void FindCycles(string endsWith, Register max = 2_000_000)\n",
        "{\n",
        "    Register last = 0;\n",
        "    for (Register i = 0; i \u003C max; i\u002B\u002B)\n",
        "    {\n",
        "        var latest = ProcessOne(i, realInstructions);\n",
        "        if (latest.EndsWith(endsWith))\n",
        "        {\n",
        "            Console.WriteLine($\u0022Iteration {i} ends with {endsWith}: {latest} (\u002B{i - last})\u0022);\n",
        "            last = i;\n",
        "        }\n",
        "    }\n",
        "}\n",
        "\n",
        "// Program: 2,4,1,1,7,5,1,5,4,3,5,5,0,3,3,0\n",
        "FindCycles(\u00225,5,0,3,3,0\u0022);"
      ]
    },
    {
      "cell_type": "markdown",
      "metadata": {},
      "source": [
        "At this point it was time to [check Reddit for some hints](https://www.reddit.com/r/adventofcode/comments/1hgcuw8/2024_day_17_part_2_any_hints_folks/).\n",
        "\n",
        "The hint that got me going in the right direction was to think of the input register value as an octal number. When doing this, we note that the number of octal digits of the input register matches the number of digits of the output. So we know our register value is going to be a 16-digit number, in octal. (16 digits x 4 bits = 64 bit number).\n",
        "\n",
        "With a bit more exploration, we notice that as we change digits \u00601,2,...n\u0060 from the start of our input, the corresponding digits \u00601,2,...n\u0060 from the _end_ of the output correspondingly change. Sometimes the output digit prior to the \u0060n\u0060th digit will also change, but that doesn\u0027t matter as we are not looking at that part of the output yet.\n",
        "\n",
        "To put it another way: the digits \u00601-n\u0060 at the start of the input will generate consistent values for the values \u00601-n\u0060 at the end of the output, even as digits \u0060n\u002B1\u0060, \u0060n\u002B2\u0060, etc are subsequently mutated.\n",
        "\n",
        "Eg:\n",
        "\n",
        "\u0060\u0060\u0060\n",
        "1,0,0,0,0,0,0,0,0,0,0,0,0,0,0,0 =\u003E 4,4,4,4,4,4,4,4,4,4,4,4,4,4,0,4\n",
        "2,0,0,0,0,0,0,0,0,0,0,0,0,0,0,0 =\u003E 4,4,4,4,4,4,4,4,4,4,4,4,4,4,4,6\n",
        "3,0,0,0,0,0,0,0,0,0,0,0,0,0,0,0 =\u003E 4,4,4,4,4,4,4,4,4,4,4,4,4,4,0,7\n",
        "4,0,0,0,0,0,0,0,0,0,0,0,0,0,0,0 =\u003E 4,4,4,4,4,4,4,4,4,4,4,4,4,4,4,0\n",
        "...\n",
        "4,1,0,0,0,0,0,0,0,0,0,0,0,0,0,0 =\u003E 4,4,4,4,4,4,4,4,4,4,4,4,4,0,4,0\n",
        "4,2,0,0,0,0,0,0,0,0,0,0,0,0,0,0 =\u003E 4,4,4,4,4,4,4,4,4,4,4,4,4,4,2,0\n",
        "4,3,0,0,0,0,0,0,0,0,0,0,0,0,0,0 =\u003E 4,4,4,4,4,4,4,4,4,4,4,4,4,0,7,0\n",
        "4,4,0,0,0,0,0,0,0,0,0,0,0,0,0,0 =\u003E 4,4,4,4,4,4,4,4,4,4,4,4,4,4,1,0\n",
        "4,5,0,0,0,0,0,0,0,0,0,0,0,0,0,0 =\u003E 4,4,4,4,4,4,4,4,4,4,4,4,4,0,3,0\n",
        "...\n",
        "4,5,1,0,0,0,0,0,0,0,0,0,0,0,0,0 =\u003E 4,4,4,4,4,4,4,4,4,4,4,4,0,4,3,0\n",
        "4,5,2,0,0,0,0,0,0,0,0,0,0,0,0,0 =\u003E 4,4,4,4,4,4,4,4,4,4,4,4,4,3,3,0\n",
        "4,5,3,0,0,0,0,0,0,0,0,0,0,0,0,0 =\u003E 4,4,4,4,4,4,4,4,4,4,4,4,0,5,3,0\n",
        "4,5,4,0,0,0,0,0,0,0,0,0,0,0,0,0 =\u003E 4,4,4,4,4,4,4,4,4,4,4,4,4,1,3,0\n",
        "4,5,5,0,0,0,0,0,0,0,0,0,0,0,0,0 =\u003E 4,4,4,4,4,4,4,4,4,4,4,4,0,3,3,0\n",
        "\u0060\u0060\u0060\n",
        "\n",
        "This is the key insight that allows us to find the solution. We can increment each input digit \u0060i\u0060, check the \u0060-i\u0060th digit of the output and see if it matches our expected, and if so, move to the next digit until the target string is reached.\n",
        "\n",
        "This technique proves to be successful! Although the final trick is that upon finding a match for digit \u0060i\u0060, you cannot immediately move on to digit \u0060i\u002B1\u0060- there might be multiple matches, eg:\n",
        "\n",
        "\u0060\u0060\u0060\n",
        "Checking for 3,3,0:\n",
        "\n",
        "4,5,2,0,0,0,0,0,0,0,0,0,0,0,0,0 =\u003E 4,4,4,4,4,4,4,4,4,4,4,4,4,3,3,0\n",
        "...and\n",
        "4,5,5,0,0,0,0,0,0,0,0,0,0,0,0,0 =\u003E 4,4,4,4,4,4,4,4,4,4,4,4,0,3,3,0\n",
        "\u0060\u0060\u0060\n",
        "\n",
        "When taking only the first match on every \u0060i\u0060th digit, the very last digit fails to match. I guess the earlier input digits affect later digits in a way that probably makes sense if I were to study the logical flow of the input instructions. Nonetheless, searching through all matching inputs yields the correct solution."
      ]
    },
    {
      "cell_type": "code",
      "execution_count": 15,
      "metadata": {
        "dotnet_interactive": {
          "language": "csharp"
        },
        "polyglot_notebook": {
          "kernelName": "csharp"
        },
        "vscode": {
          "languageId": "polyglot-notebook"
        }
      },
      "outputs": [],
      "source": [
        "/// \u003Csummary\u003EConvert from Octal -\u003E Decimal\u003C/summary\u003E\n",
        "Register FromOctal(params Instr[] octalDigits)\n",
        "{\n",
        "    checked\n",
        "    {\n",
        "        Register result = 0;\n",
        "        Register exp = 1;\n",
        "        for (var i = 0; i \u003C octalDigits.Length; i\u002B\u002B)\n",
        "        {\n",
        "            var digit = octalDigits[^(i \u002B 1)];\n",
        "            result \u002B= digit * exp;\n",
        "\n",
        "            exp *= 8;\n",
        "        }\n",
        "\n",
        "        return result;\n",
        "    }\n",
        "}"
      ]
    },
    {
      "cell_type": "code",
      "execution_count": 16,
      "metadata": {
        "dotnet_interactive": {
          "language": "csharp"
        },
        "polyglot_notebook": {
          "kernelName": "csharp"
        },
        "vscode": {
          "languageId": "polyglot-notebook"
        }
      },
      "outputs": [
        {
          "name": "stdout",
          "output_type": "stream",
          "text": [
            "Found 164278899142333 -\u003E 2,4,1,1,7,5,1,5,4,3,5,5,0,3,3,0\n",
            "Found 164278899142589 -\u003E 2,4,1,1,7,5,1,5,4,3,5,5,0,3,3,0\n"
          ]
        }
      ],
      "source": [
        "// Use this to represent a match that we need to search: assign values 0-7 to\n",
        "// digit i in checkDigits, see if we now have a match for digit -i in the output\n",
        "using CheckIndex = (Instr[] checkDigits, int i);\n",
        "\n",
        "IEnumerable\u003CRegister\u003E FindMatches(string targetString)\n",
        "{\n",
        "    var instructions = targetString.Split(\u0027,\u0027).Select(Instr.Parse).ToArray();\n",
        "    \n",
        "    Queue\u003CCheckIndex\u003E queue = new();\n",
        "    var targetLength = targetString.Split(\u0027,\u0027).Count();\n",
        "    queue.Enqueue((new Instr[targetLength], 0));\n",
        "\n",
        "    while (queue.TryDequeue(out var nextCheck))\n",
        "    {\n",
        "        var (checkDigits, i) = nextCheck;\n",
        "        var targetSubstring = targetString.Substring(targetString.Length - (2 * i \u002B 1));\n",
        "\n",
        "        foreach (Instr j in Enumerable.Range(0, 8))\n",
        "        {\n",
        "            checkDigits[i] = j;\n",
        "\n",
        "            var checkString = ProcessOne(FromOctal(checkDigits), instructions);\n",
        "\n",
        "            if (checkString.EndsWith(targetSubstring))\n",
        "            {\n",
        "                // Found a substring\n",
        "                if (checkString == targetString)\n",
        "                {\n",
        "                    // Found the whole target string!\n",
        "                    yield return FromOctal(checkDigits);\n",
        "                    continue;\n",
        "                }\n",
        "                queue.Enqueue((checkDigits.ToArray(), i \u002B 1));\n",
        "            }\n",
        "        }\n",
        "    }\n",
        "}\n",
        "\n",
        "var matches =  FindMatches(\u00222,4,1,1,7,5,1,5,4,3,5,5,0,3,3,0\u0022);\n",
        "foreach (var match in matches)\n",
        "{\n",
        "    Console.WriteLine($\u0022Found {match} -\u003E {ProcessOne(match, realInstructions)}\u0022);\n",
        "}"
      ]
    },
    {
      "cell_type": "code",
      "execution_count": 17,
      "metadata": {
        "dotnet_interactive": {
          "language": "csharp"
        },
        "polyglot_notebook": {
          "kernelName": "csharp"
        },
        "vscode": {
          "languageId": "polyglot-notebook"
        }
      },
      "outputs": [
        {
          "name": "stdout",
          "output_type": "stream",
          "text": [
            "164278899142333\n"
          ]
        }
      ],
      "source": [
        "Register FindLowestMatch(string targetString) =\u003E FindMatches(targetString).Min();\n",
        "\n",
        "// What is the lowest positive initial value for register A that causes the program to output a copy of itself?\n",
        "\n",
        "var part2Answer = FindLowestMatch(\u00222,4,1,1,7,5,1,5,4,3,5,5,0,3,3,0\u0022);\n",
        "Console.WriteLine(part2Answer);"
      ]
    },
    {
      "cell_type": "code",
      "execution_count": 18,
      "metadata": {
        "dotnet_interactive": {
          "language": "csharp"
        },
        "polyglot_notebook": {
          "kernelName": "csharp"
        },
        "vscode": {
          "languageId": "polyglot-notebook"
        }
      },
      "outputs": [],
      "source": [
        "// 164278899142333 is correct!\n",
        "Ensure(164278899142333u, part2Answer);"
      ]
    }
  ],
  "metadata": {
    "kernelspec": {
      "display_name": ".NET (C#)",
      "language": "C#",
      "name": ".net-csharp"
    },
    "language_info": {
      "name": "python"
    },
    "polyglot_notebook": {
      "kernelInfo": {
        "defaultKernelName": "csharp",
        "items": [
          {
            "aliases": [],
            "name": "csharp"
          }
        ]
      }
    }
  },
  "nbformat": 4,
  "nbformat_minor": 2
}