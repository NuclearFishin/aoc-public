{
  "cells": [
    {
      "cell_type": "markdown",
      "metadata": {
        "dotnet_interactive": {
          "language": "csharp"
        },
        "polyglot_notebook": {
          "kernelName": "csharp"
        },
        "vscode": {
          "languageId": "polyglot-notebook"
        }
      },
      "source": [
        "### --- Day 10: Hoof It ---\n",
        "\n",
        "Puzzle description redacted as-per Advent of Code guidelines\n",
        "\n",
        "You may find the puzzle description at: https://adventofcode.com/2024/day/10"
      ]
    },
    {
      "cell_type": "code",
      "execution_count": 2,
      "metadata": {
        "vscode": {
          "languageId": "polyglot-notebook"
        }
      },
      "outputs": [],
      "source": [
        "#!import ../Utils.ipynb"
      ]
    },
    {
      "cell_type": "code",
      "execution_count": 3,
      "metadata": {
        "vscode": {
          "languageId": "polyglot-notebook"
        }
      },
      "outputs": [
        {
          "name": "stdout",
          "output_type": "stream",
          "text": [
            "Loading puzzle file: Day10.txt\n",
            "Total lines: 59\n",
            "Max line length: 59\n",
            "\n",
            "43450121898101101123127821096542109876109701010178732100123\n",
            "89543230767213210011018912987433234565018892121269823445674\n",
            "76692145654300398322167903876323398934327743434454310538985\n",
            "45781096890121497413456874565012367898456658945893239627876\n",
            "34301587765432586504010567654101256787650167876761128716321\n"
          ]
        }
      ],
      "source": [
        "var inputLines = LoadPuzzleInput(2024, 10);\n",
        "WriteLines(inputLines);"
      ]
    },
    {
      "cell_type": "code",
      "execution_count": 4,
      "metadata": {
        "vscode": {
          "languageId": "polyglot-notebook"
        }
      },
      "outputs": [],
      "source": [
        "string[] testInputLines = [\n",
        "    \u002289010123\u0022,\n",
        "    \u002278121874\u0022,\n",
        "    \u002287430965\u0022,\n",
        "    \u002296549874\u0022,\n",
        "    \u002245678903\u0022,\n",
        "    \u002232019012\u0022,\n",
        "    \u002201329801\u0022,\n",
        "    \u002210456732\u0022,\n",
        "];"
      ]
    },
    {
      "cell_type": "markdown",
      "metadata": {
        "vscode": {
          "languageId": "polyglot-notebook"
        }
      },
      "source": [
        "Ok, I think this is a fairly straightforward breadth-first search. Given the number must be increasing for each step, I don\u0027t think we have to worry about backtracking or current direction."
      ]
    },
    {
      "cell_type": "code",
      "execution_count": 5,
      "metadata": {
        "vscode": {
          "languageId": "polyglot-notebook"
        }
      },
      "outputs": [],
      "source": [
        "int CountTrails(string[] inputLines)\n",
        "{\n",
        "    CharGrid grid = new(inputLines);\n",
        "    var trailHeads = grid.Enumerate().Where(pointChar =\u003E pointChar.ch == \u00270\u0027);\n",
        "    return trailHeads.Select(th =\u003E GetTrailScore(grid, th.point)).Sum();\n",
        "}\n",
        "\n",
        "int GetTrailScore(CharGrid grid, Point trailHead, ITrailCounter trailCounter = null)\n",
        "{\n",
        "    trailCounter ??= new Part1TrailCounter();\n",
        "    \n",
        "    Queue\u003CPoint\u003E pointQueue = new();\n",
        "    pointQueue.Enqueue(trailHead);\n",
        "\n",
        "    while (pointQueue.TryDequeue(out var p))\n",
        "    {\n",
        "        var pNum = grid[p].ToInt();\n",
        "        if (pNum is 9) {\n",
        "            trailCounter.TrailFound(trailHead, p);\n",
        "            continue;\n",
        "        }\n",
        "\n",
        "        foreach (var pNext in GetNextSteps(p))\n",
        "        {\n",
        "            if (!grid.IsValid(pNext)) continue;\n",
        "\n",
        "            var pNextNum = grid[pNext].ToInt();\n",
        "            if (pNextNum == pNum \u002B 1)\n",
        "            {\n",
        "                pointQueue.Enqueue(pNext);\n",
        "            }\n",
        "        }\n",
        "    }\n",
        "\n",
        "    return trailCounter.Count;\n",
        "}\n",
        "\n",
        "// Abstract the counter mechanism, we need this for part 2\n",
        "interface ITrailCounter\n",
        "{\n",
        "    void TrailFound(Point trailHead, Point trailEnd);\n",
        "    int Count { get; }\n",
        "}\n",
        "\n",
        "class Part1TrailCounter : ITrailCounter\n",
        "{\n",
        "    HashSet\u003CPoint\u003E _trailEnds = new();\n",
        "    \n",
        "    public void TrailFound(Point trailHead, Point trailEnd) =\u003E _trailEnds.Add(trailEnd);\n",
        "    public int Count =\u003E _trailEnds.Count;\n",
        "}\n",
        "\n",
        "Point[] directions = [Up, Down, Left, Right];\n",
        "IEnumerable\u003CPoint\u003E GetNextSteps(Point p) =\u003E directions.Select(dir =\u003E p \u002B dir);"
      ]
    },
    {
      "cell_type": "code",
      "execution_count": 6,
      "metadata": {
        "vscode": {
          "languageId": "polyglot-notebook"
        }
      },
      "outputs": [
        {
          "name": "stdout",
          "output_type": "stream",
          "text": [
            "36\n"
          ]
        }
      ],
      "source": [
        "// This larger example has 9 trailheads. Considering the trailheads in reading\n",
        "// order, they have scores of 5, 6, 5, 3, 1, 3, 5, 3, and 5. Adding these scores\n",
        "// together, the sum of the scores of all trailheads is 36.\n",
        "\n",
        "var testAnswer = CountTrails(testInputLines);\n",
        "Console.WriteLine(testAnswer);"
      ]
    },
    {
      "cell_type": "code",
      "execution_count": 7,
      "metadata": {
        "vscode": {
          "languageId": "polyglot-notebook"
        }
      },
      "outputs": [
        {
          "name": "stdout",
          "output_type": "stream",
          "text": [
            "786\n"
          ]
        }
      ],
      "source": [
        "// The reindeer gleefully carries over a protractor and adds it to the pile.\n",
        "// What is the sum of the scores of all trailheads on your topographic map?\n",
        "\n",
        "var part1Answer = CountTrails(inputLines);\n",
        "Console.WriteLine(part1Answer);"
      ]
    },
    {
      "cell_type": "code",
      "execution_count": 8,
      "metadata": {
        "vscode": {
          "languageId": "polyglot-notebook"
        }
      },
      "outputs": [],
      "source": [
        "// 786 is correct!\n",
        "Ensure(786, part1Answer);"
      ]
    },
    {
      "cell_type": "markdown",
      "metadata": {
        "vscode": {
          "languageId": "polyglot-notebook"
        }
      },
      "source": [
        "### --- Part Two ---\n",
        "\n",
        "Puzzle description redacted as-per Advent of Code guidelines\n",
        "\n",
        "You may find the puzzle description at: https://adventofcode.com/2024/day/10"
      ]
    },
    {
      "cell_type": "markdown",
      "metadata": {},
      "source": [
        "Ok, so for part 2 we just count total trails, not distinct end points."
      ]
    },
    {
      "cell_type": "code",
      "execution_count": 10,
      "metadata": {
        "vscode": {
          "languageId": "polyglot-notebook"
        }
      },
      "outputs": [],
      "source": [
        "class Part2TrailCounter : ITrailCounter\n",
        "{\n",
        "    public void TrailFound(Point trailHead, Point trailEnd) =\u003E Count\u002B\u002B;\n",
        "    public int Count { get; private set; } = 0;\n",
        "}"
      ]
    },
    {
      "cell_type": "code",
      "execution_count": 11,
      "metadata": {
        "vscode": {
          "languageId": "polyglot-notebook"
        }
      },
      "outputs": [],
      "source": [
        "int CountTrails2(string[] inputLines)\n",
        "{\n",
        "    CharGrid grid = new(inputLines);\n",
        "    var trailHeads = grid.Enumerate().Where(pointChar =\u003E pointChar.ch == \u00270\u0027);\n",
        "    return trailHeads.Select(th =\u003E GetTrailScore(grid, th.point, new Part2TrailCounter())).Sum();\n",
        "}"
      ]
    },
    {
      "cell_type": "code",
      "execution_count": 12,
      "metadata": {
        "vscode": {
          "languageId": "polyglot-notebook"
        }
      },
      "outputs": [
        {
          "name": "stdout",
          "output_type": "stream",
          "text": [
            "1722\n"
          ]
        }
      ],
      "source": [
        "// ...What is the sum of the ratings of all trailheads?\n",
        "\n",
        "var part2Answer = CountTrails2(inputLines);\n",
        "Console.WriteLine(part2Answer);"
      ]
    },
    {
      "cell_type": "code",
      "execution_count": 13,
      "metadata": {
        "vscode": {
          "languageId": "polyglot-notebook"
        }
      },
      "outputs": [],
      "source": [
        "// 1722 is correct!\n",
        "Ensure(1722, part2Answer);"
      ]
    }
  ],
  "metadata": {
    "kernelspec": {
      "display_name": ".NET (C#)",
      "language": "C#",
      "name": ".net-csharp"
    },
    "language_info": {
      "name": "python"
    },
    "polyglot_notebook": {
      "kernelInfo": {
        "defaultKernelName": "csharp",
        "items": [
          {
            "aliases": [],
            "name": "csharp"
          }
        ]
      }
    }
  },
  "nbformat": 4,
  "nbformat_minor": 2
}