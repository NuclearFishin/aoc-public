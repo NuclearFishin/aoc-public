{
  "cells": [
    {
      "cell_type": "code",
      "execution_count": 1,
      "metadata": {
        "dotnet_interactive": {
          "language": "csharp"
        },
        "polyglot_notebook": {
          "kernelName": "csharp"
        },
        "vscode": {
          "languageId": "polyglot-notebook"
        }
      },
      "outputs": [],
      "source": [
        "// --- Day 2: Red-Nosed Reports ---\n",
        "\n",
        "// Puzzle description redacted as-per Advent of Code guidelines\n",
        "\n",
        "// You may find the puzzle description at: https://adventofcode.com/2024/day/2"
      ]
    },
    {
      "cell_type": "code",
      "execution_count": 2,
      "metadata": {
        "vscode": {
          "languageId": "polyglot-notebook"
        }
      },
      "outputs": [],
      "source": [
        "#!import ../Utils.ipynb"
      ]
    },
    {
      "cell_type": "code",
      "execution_count": 3,
      "metadata": {
        "vscode": {
          "languageId": "polyglot-notebook"
        }
      },
      "outputs": [
        {
          "name": "stdout",
          "output_type": "stream",
          "text": [
            "Loading puzzle file: Day2.txt\n",
            "Total lines: 1000\n",
            "Max line length: 23\n",
            "\n",
            "1 4 5 8 11 12 9\n",
            "7 8 9 10 12 15 17 17\n",
            "17 20 23 25 27 31\n",
            "55 57 58 61 63 64 70\n",
            "39 42 45 43 44\n"
          ]
        }
      ],
      "source": [
        "var inputLines = LoadPuzzleInput(2024, 2);\n",
        "WriteLines(inputLines);"
      ]
    },
    {
      "cell_type": "code",
      "execution_count": 4,
      "metadata": {
        "vscode": {
          "languageId": "polyglot-notebook"
        }
      },
      "outputs": [],
      "source": [
        "string[] testInputLines = [\n",
        "    \u00227 6 4 2 1\u0022,\n",
        "    \u00221 2 7 8 9\u0022,\n",
        "    \u00229 7 6 2 1\u0022,\n",
        "    \u00221 3 2 4 5\u0022,\n",
        "    \u00228 6 4 4 1\u0022,\n",
        "    \u00221 3 6 7 9\u0022,\n",
        "];"
      ]
    },
    {
      "cell_type": "code",
      "execution_count": 5,
      "metadata": {
        "vscode": {
          "languageId": "polyglot-notebook"
        }
      },
      "outputs": [],
      "source": [
        "int[] ParseLine(string inputLine) =\u003E inputLine.Split(\u0027 \u0027).Select(int.Parse).ToArray();"
      ]
    },
    {
      "cell_type": "code",
      "execution_count": 6,
      "metadata": {
        "vscode": {
          "languageId": "polyglot-notebook"
        }
      },
      "outputs": [],
      "source": [
        "bool IsValid(int[] line)\n",
        "{\n",
        "    var diffs = line.Zip(line.Skip(1)).Select((ab) =\u003E ab.First - ab.Second).ToArray();\n",
        "\n",
        "    var increasingOrDecreasing = diffs.All(diff =\u003E diff \u003E 0) || diffs.All(diff =\u003E diff \u003C 0);\n",
        "    var allInRange = diffs.Select(Math.Abs).All(diff =\u003E diff \u003E 0 \u0026\u0026 diff \u003C= 3);\n",
        "\n",
        "    return increasingOrDecreasing \u0026\u0026 allInRange;\n",
        "}"
      ]
    },
    {
      "cell_type": "code",
      "execution_count": 7,
      "metadata": {
        "vscode": {
          "languageId": "polyglot-notebook"
        }
      },
      "outputs": [
        {
          "name": "stdout",
          "output_type": "stream",
          "text": [
            "2\n"
          ]
        }
      ],
      "source": [
        "// So, in this example, 2 reports are safe.\n",
        "\n",
        "var testAnswer = testInputLines.Select(ParseLine).Where(IsValid).Count();\n",
        "Console.WriteLine(testAnswer);"
      ]
    },
    {
      "cell_type": "code",
      "execution_count": 8,
      "metadata": {
        "vscode": {
          "languageId": "polyglot-notebook"
        }
      },
      "outputs": [
        {
          "name": "stdout",
          "output_type": "stream",
          "text": [
            "549\n"
          ]
        }
      ],
      "source": [
        "// Analyze the unusual data from the engineers. How many reports are safe?\n",
        "\n",
        "var part1Answer = inputLines.Select(ParseLine).Where(IsValid).Count();\n",
        "Console.WriteLine(part1Answer);"
      ]
    },
    {
      "cell_type": "code",
      "execution_count": 9,
      "metadata": {
        "vscode": {
          "languageId": "polyglot-notebook"
        }
      },
      "outputs": [],
      "source": [
        "// 549 is correct!\n",
        "Ensure(549, part1Answer);"
      ]
    },
    {
      "cell_type": "code",
      "execution_count": 10,
      "metadata": {
        "vscode": {
          "languageId": "polyglot-notebook"
        }
      },
      "outputs": [],
      "source": [
        "// --- Part Two ---\n",
        "\n",
        "// Puzzle description redacted as-per Advent of Code guidelines\n",
        "\n",
        "// You may find the puzzle description at: https://adventofcode.com/2024/day/2"
      ]
    },
    {
      "cell_type": "code",
      "execution_count": 11,
      "metadata": {
        "vscode": {
          "languageId": "polyglot-notebook"
        }
      },
      "outputs": [],
      "source": [
        "IEnumerable\u003Cint[]\u003E TryAllCombos(int[] line)\n",
        "{\n",
        "    foreach (var i in Enumerable.Range(0, line.Length))\n",
        "    {\n",
        "        yield return Enumerable.Range(0, line.Length).Where(j =\u003E j != i).Select(j =\u003E line[j]).ToArray();\n",
        "    }\n",
        "}"
      ]
    },
    {
      "cell_type": "code",
      "execution_count": 12,
      "metadata": {
        "vscode": {
          "languageId": "polyglot-notebook"
        }
      },
      "outputs": [],
      "source": [
        "bool AtLeastOneValid(int[] inputLine) =\u003E TryAllCombos(inputLine).Where(IsValid).Any();"
      ]
    },
    {
      "cell_type": "code",
      "execution_count": 13,
      "metadata": {
        "vscode": {
          "languageId": "polyglot-notebook"
        }
      },
      "outputs": [
        {
          "name": "stdout",
          "output_type": "stream",
          "text": [
            "4\n"
          ]
        }
      ],
      "source": [
        "// Thanks to the Problem Dampener, 4 reports are actually safe!\n",
        "\n",
        "var part2TestAnswer = testInputLines.Select(ParseLine).Where(AtLeastOneValid).Count();\n",
        "Console.WriteLine(part2TestAnswer);"
      ]
    },
    {
      "cell_type": "code",
      "execution_count": 14,
      "metadata": {
        "vscode": {
          "languageId": "polyglot-notebook"
        }
      },
      "outputs": [
        {
          "name": "stdout",
          "output_type": "stream",
          "text": [
            "589\n"
          ]
        }
      ],
      "source": [
        "// Update your analysis by handling situations where the Problem Dampener can remove a single level from unsafe reports. How many reports are now safe?\n",
        "\n",
        "var part2Answer = inputLines.Select(ParseLine).Where(AtLeastOneValid).Count();\n",
        "Console.WriteLine(part2Answer);"
      ]
    },
    {
      "cell_type": "code",
      "execution_count": 15,
      "metadata": {
        "vscode": {
          "languageId": "polyglot-notebook"
        }
      },
      "outputs": [],
      "source": [
        "// 589 is correct!\n",
        "Ensure(589, part2Answer);"
      ]
    }
  ],
  "metadata": {
    "kernelspec": {
      "display_name": ".NET (C#)",
      "language": "C#",
      "name": ".net-csharp"
    },
    "language_info": {
      "name": "python"
    },
    "polyglot_notebook": {
      "kernelInfo": {
        "defaultKernelName": "csharp",
        "items": [
          {
            "aliases": [],
            "name": "csharp"
          }
        ]
      }
    }
  },
  "nbformat": 4,
  "nbformat_minor": 2
}