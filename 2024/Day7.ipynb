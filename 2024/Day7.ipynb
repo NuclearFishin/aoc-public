{
  "cells": [
    {
      "cell_type": "markdown",
      "execution_count": 1,
      "metadata": {
        "dotnet_interactive": {
          "language": "csharp"
        },
        "polyglot_notebook": {
          "kernelName": "csharp"
        },
        "vscode": {
          "languageId": "polyglot-notebook"
        }
      },
      "source": [
        "### --- Day 7: Bridge Repair ---\n",
        "\n",
        "Puzzle description redacted as-per Advent of Code guidelines\n",
        "\n",
        "You may find the puzzle description at: https://adventofcode.com/2024/day/7"
      ]
    },
    {
      "cell_type": "code",
      "execution_count": 2,
      "metadata": {
        "dotnet_interactive": {
          "language": "csharp"
        },
        "polyglot_notebook": {
          "kernelName": "csharp"
        },
        "vscode": {
          "languageId": "polyglot-notebook"
        }
      },
      "outputs": [],
      "source": [
        "#!import ../Utils.ipynb"
      ]
    },
    {
      "cell_type": "code",
      "execution_count": 3,
      "metadata": {
        "dotnet_interactive": {
          "language": "csharp"
        },
        "polyglot_notebook": {
          "kernelName": "csharp"
        },
        "vscode": {
          "languageId": "polyglot-notebook"
        }
      },
      "outputs": [
        {
          "name": "stdout",
          "output_type": "stream",
          "text": [
            "Loading puzzle file: Day7.txt\n",
            "Total lines: 850\n",
            "Max line length: 41\n",
            "\n",
            "194558: 2 6 664 40 874 40 7\n",
            "127536599: 49 4 21 65 99\n",
            "26009943184: 6 6 83 31 25 72 5 4 39 4\n",
            "250121527725: 8 8 1 32 907 4 7 7 2 4 7 4\n",
            "5493508: 3 893 785 38 86\n"
          ]
        }
      ],
      "source": [
        "var inputLines = LoadPuzzleInput(2024, 7);\n",
        "WriteLines(inputLines);"
      ]
    },
    {
      "cell_type": "code",
      "execution_count": 4,
      "metadata": {
        "vscode": {
          "languageId": "polyglot-notebook"
        }
      },
      "outputs": [],
      "source": [
        "string[] testInputLines = [\n",
        "    \u0022190: 10 19\u0022,\n",
        "    \u00223267: 81 40 27\u0022,\n",
        "    \u002283: 17 5\u0022,\n",
        "    \u0022156: 15 6\u0022,\n",
        "    \u00227290: 6 8 6 15\u0022,\n",
        "    \u0022161011: 16 10 13\u0022,\n",
        "    \u0022192: 17 8 14\u0022,\n",
        "    \u002221037: 9 7 18 13\u0022,\n",
        "    \u0022292: 11 6 16 20\u0022,\n",
        "];"
      ]
    },
    {
      "cell_type": "code",
      "execution_count": 5,
      "metadata": {
        "vscode": {
          "languageId": "polyglot-notebook"
        }
      },
      "outputs": [],
      "source": [
        "using Instr = System.Func\u003Clong, long, long\u003E;\n",
        "\n",
        "long Add(long a, long b) =\u003E a \u002B b;\n",
        "long Mult(long a, long b) =\u003E a * b;\n",
        "\n",
        "Instr[] part1Instructions = [Add, Mult]; // spoiler alert!"
      ]
    },
    {
      "cell_type": "code",
      "execution_count": 6,
      "metadata": {
        "vscode": {
          "languageId": "polyglot-notebook"
        }
      },
      "outputs": [],
      "source": [
        "// I think we\u0027re going to need this. Combine all items from source into an array\n",
        "\n",
        "IEnumerable\u003CIEnumerable\u003CT\u003E\u003E Combine\u003CT\u003E(IEnumerable\u003CT\u003E source, int length) =\u003E length switch\n",
        "{\n",
        "    1 =\u003E source.Select(item =\u003E new T[] { item }),\n",
        "    _ =\u003E source.SelectMany(item =\u003E Combine(source, length - 1).Select(rest =\u003E rest.Append(item))),\n",
        "};"
      ]
    },
    {
      "cell_type": "code",
      "execution_count": null,
      "metadata": {
        "vscode": {
          "languageId": "polyglot-notebook"
        }
      },
      "outputs": [],
      "source": [
        "// Just for fun, let\u0027s try a non-recursive option\n",
        "\n",
        "IEnumerable\u003CIEnumerable\u003CT\u003E\u003E CombineAlt\u003CT\u003E(IList\u003CT\u003E source, int length)\n",
        "{\n",
        "    // Let\u0027s do this in the style of an \u0022adder\u0022, i.e., increment all values for\n",
        "    // the lowest digit, and when it increments past the last value, reset and\n",
        "    // \u0022carry the one\u0022, i.e., increment the next digit.\n",
        "\n",
        "    // Retrospective note: turns out this function does seem to be faster than\n",
        "    // the original function, presumably because there is less stack traversal and.\n",
        "    // array allocation.\n",
        "\n",
        "    int[] adder = new int[length];\n",
        "    T[] buffer = adder.Select(i =\u003E source[i]).ToArray();\n",
        "\n",
        "    bool Next()\n",
        "    {\n",
        "        var i = 0;\n",
        "        while (i \u003C length)\n",
        "        {\n",
        "            adder[i]\u002B\u002B;\n",
        "            buffer[i] = source[adder[i] % source.Count];\n",
        "            if (adder[i] == source.Count)\n",
        "            {\n",
        "                // \u0022Carry the one\u0022\n",
        "                adder[i] = 0;\n",
        "                i\u002B\u002B;\n",
        "            } \n",
        "            else \n",
        "            {\n",
        "                // Still enumerating the current digit\n",
        "                return true;\n",
        "            }\n",
        "        }\n",
        "\n",
        "        // We have \u0022overflowed\u0022 ie no more combos to enumerate\n",
        "        return false;\n",
        "    }\n",
        "\n",
        "    do\n",
        "    {\n",
        "        yield return buffer;\n",
        "    } while (Next());\n",
        "}"
      ]
    },
    {
      "cell_type": "code",
      "execution_count": 8,
      "metadata": {
        "vscode": {
          "languageId": "polyglot-notebook"
        }
      },
      "outputs": [],
      "source": [
        "long Compute(string row) =\u003E ComputeBase(row, part1Instructions);\n",
        "\n",
        "long ComputeBase(string row, Instr[] instructions)\n",
        "{\n",
        "    var rowBits = row.Split([\u0027:\u0027, \u0027 \u0027], StringSplitOptions.RemoveEmptyEntries).Select(long.Parse).ToArray();\n",
        "    var target = rowBits[0];\n",
        "    var inputs = rowBits[1..];\n",
        "\n",
        "    var mathCombos = Combine(instructions, inputs.Length - 1).Select(c =\u003E c.ToArray());\n",
        "    foreach (var mathCombo in mathCombos)\n",
        "    {\n",
        "        var i = 0;\n",
        "        var result = inputs.Aggregate((a, b) =\u003E mathCombo[i\u002B\u002B](a, b));\n",
        "        if (result == target) {\n",
        "            return target;\n",
        "        }\n",
        "    }\n",
        "\n",
        "    return 0;\n",
        "}"
      ]
    },
    {
      "cell_type": "code",
      "execution_count": 9,
      "metadata": {
        "vscode": {
          "languageId": "polyglot-notebook"
        }
      },
      "outputs": [
        {
          "name": "stdout",
          "output_type": "stream",
          "text": [
            "3749\n"
          ]
        }
      ],
      "source": [
        "// In the above example, the sum of the test values for the three equations listed above is 3749.\n",
        "\n",
        "var testAnswer = testInputLines.Select(Compute).Sum();\n",
        "Console.WriteLine(testAnswer);"
      ]
    },
    {
      "cell_type": "code",
      "execution_count": 10,
      "metadata": {
        "vscode": {
          "languageId": "polyglot-notebook"
        }
      },
      "outputs": [
        {
          "name": "stdout",
          "output_type": "stream",
          "text": [
            "5512534574980\n"
          ]
        }
      ],
      "source": [
        "// Determine which equations could possibly be true. What is their total calibration result?\n",
        "\n",
        "var part1Answer = inputLines.Select(Compute).Sum();\n",
        "Console.WriteLine(part1Answer);"
      ]
    },
    {
      "cell_type": "code",
      "execution_count": 11,
      "metadata": {
        "vscode": {
          "languageId": "polyglot-notebook"
        }
      },
      "outputs": [],
      "source": [
        "// 5512534574980 is correct!\n",
        "Ensure(5512534574980, part1Answer);"
      ]
    },
    {
      "cell_type": "markdown",
      "execution_count": 12,
      "metadata": {
        "vscode": {
          "languageId": "polyglot-notebook"
        }
      },
      "source": [
        "### --- Part Two ---\n",
        "\n",
        "Puzzle description redacted as-per Advent of Code guidelines\n",
        "\n",
        "You may find the puzzle description at: https://adventofcode.com/2024/day/7"
      ]
    },
    {
      "cell_type": "code",
      "execution_count": 13,
      "metadata": {
        "vscode": {
          "languageId": "polyglot-notebook"
        }
      },
      "outputs": [],
      "source": [
        "long Concat(long a, long b) =\u003E long.Parse($\u0022{a}{b}\u0022);\n",
        "\n",
        "Instr[] part2Instructions = [..part1Instructions, Concat];\n",
        "\n",
        "long Part2Compute(string row) =\u003E ComputeBase(row, part2Instructions);"
      ]
    },
    {
      "cell_type": "code",
      "execution_count": 14,
      "metadata": {
        "vscode": {
          "languageId": "polyglot-notebook"
        }
      },
      "outputs": [
        {
          "name": "stdout",
          "output_type": "stream",
          "text": [
            "11387\n"
          ]
        }
      ],
      "source": [
        "// Adding up all six test values ... produces the new total calibration result of 11387.\n",
        "\n",
        "var part2TestAnswer = testInputLines.Select(Part2Compute).Sum();\n",
        "Console.WriteLine(part2TestAnswer);"
      ]
    },
    {
      "cell_type": "code",
      "execution_count": 15,
      "metadata": {
        "vscode": {
          "languageId": "polyglot-notebook"
        }
      },
      "outputs": [
        {
          "name": "stdout",
          "output_type": "stream",
          "text": [
            "328790210468594\n"
          ]
        }
      ],
      "source": [
        "var part2Answer = inputLines.Select(Part2Compute).Sum();\n",
        "Console.WriteLine(part2Answer);"
      ]
    },
    {
      "cell_type": "code",
      "execution_count": 16,
      "metadata": {
        "vscode": {
          "languageId": "polyglot-notebook"
        }
      },
      "outputs": [],
      "source": [
        "// 328790210468594 is correct!\n",
        "Ensure(328790210468594, part2Answer);"
      ]
    }
  ],
  "metadata": {
    "kernelspec": {
      "display_name": ".NET (C#)",
      "language": "C#",
      "name": ".net-csharp"
    },
    "language_info": {
      "name": "python"
    },
    "polyglot_notebook": {
      "kernelInfo": {
        "defaultKernelName": "csharp",
        "items": [
          {
            "aliases": [],
            "name": "csharp"
          }
        ]
      }
    }
  },
  "nbformat": 4,
  "nbformat_minor": 2
}