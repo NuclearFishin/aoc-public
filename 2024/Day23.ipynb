{
  "cells": [
    {
      "cell_type": "markdown",
      "metadata": {
        "dotnet_interactive": {
          "language": "csharp"
        },
        "polyglot_notebook": {
          "kernelName": "csharp"
        },
        "vscode": {
          "languageId": "polyglot-notebook"
        }
      },
      "source": [
        "### --- Day 23: LAN Party ---\n",
        "\n",
        "Puzzle description redacted as-per Advent of Code guidelines\n",
        "\n",
        "You may find the puzzle description at: https://adventofcode.com/2024/day/23"
      ]
    },
    {
      "cell_type": "code",
      "execution_count": 2,
      "metadata": {
        "dotnet_interactive": {
          "language": "csharp"
        },
        "polyglot_notebook": {
          "kernelName": "csharp"
        },
        "vscode": {
          "languageId": "polyglot-notebook"
        }
      },
      "outputs": [],
      "source": [
        "#!import ../Utils.ipynb"
      ]
    },
    {
      "cell_type": "code",
      "execution_count": 3,
      "metadata": {
        "dotnet_interactive": {
          "language": "csharp"
        },
        "polyglot_notebook": {
          "kernelName": "csharp"
        },
        "vscode": {
          "languageId": "polyglot-notebook"
        }
      },
      "outputs": [
        {
          "name": "stdout",
          "output_type": "stream",
          "text": [
            "Loading puzzle file: Day23.txt\n",
            "Total lines: 3380\n",
            "Max line length: 5\n",
            "\n",
            "kf-gq\n",
            "cc-pf\n",
            "oc-ev\n",
            "eo-ju\n",
            "sq-xg\n"
          ]
        }
      ],
      "source": [
        "var inputLines = LoadPuzzleInput(2024, 23);\n",
        "WriteLines(inputLines);"
      ]
    },
    {
      "cell_type": "code",
      "execution_count": 4,
      "metadata": {
        "dotnet_interactive": {
          "language": "csharp"
        },
        "polyglot_notebook": {
          "kernelName": "csharp"
        },
        "vscode": {
          "languageId": "polyglot-notebook"
        }
      },
      "outputs": [],
      "source": [
        "string[] testInputLines = [\n",
        "    \u0022kh-tc\u0022,\n",
        "    \u0022qp-kh\u0022,\n",
        "    \u0022de-cg\u0022,\n",
        "    \u0022ka-co\u0022,\n",
        "    \u0022yn-aq\u0022,\n",
        "    \u0022qp-ub\u0022,\n",
        "    \u0022cg-tb\u0022,\n",
        "    \u0022vc-aq\u0022,\n",
        "    \u0022tb-ka\u0022,\n",
        "    \u0022wh-tc\u0022,\n",
        "    \u0022yn-cg\u0022,\n",
        "    \u0022kh-ub\u0022,\n",
        "    \u0022ta-co\u0022,\n",
        "    \u0022de-co\u0022,\n",
        "    \u0022tc-td\u0022,\n",
        "    \u0022tb-wq\u0022,\n",
        "    \u0022wh-td\u0022,\n",
        "    \u0022ta-ka\u0022,\n",
        "    \u0022td-qp\u0022,\n",
        "    \u0022aq-cg\u0022,\n",
        "    \u0022wq-ub\u0022,\n",
        "    \u0022ub-vc\u0022,\n",
        "    \u0022de-ta\u0022,\n",
        "    \u0022wq-aq\u0022,\n",
        "    \u0022wq-vc\u0022,\n",
        "    \u0022wh-yn\u0022,\n",
        "    \u0022ka-de\u0022,\n",
        "    \u0022kh-ta\u0022,\n",
        "    \u0022co-tc\u0022,\n",
        "    \u0022wh-qp\u0022,\n",
        "    \u0022tb-vc\u0022,\n",
        "    \u0022td-yn\u0022,\n",
        "];"
      ]
    },
    {
      "cell_type": "markdown",
      "metadata": {},
      "source": [
        "In this graph-based problem we should be able to model the graph as a dictionary of node -\u003E neighbours. To be a connected triplet, we know that \u0060a -\u003E b\u0060, \u0060b -\u003E c\u0060, and \u0060c -\u003E a\u0060. Because its undirected, this is sufficient to establish interconnection between these three nodes.\n",
        "\n",
        "One super-simple way to do this might be to just try all combinations?! Once we have the neighbour dictionary, testing all \u0060[a,b,c]\u0060 combinations should be reasonably fast for a network of this size. Let\u0027s see..."
      ]
    },
    {
      "cell_type": "code",
      "execution_count": 5,
      "metadata": {
        "dotnet_interactive": {
          "language": "csharp"
        },
        "polyglot_notebook": {
          "kernelName": "csharp"
        },
        "vscode": {
          "languageId": "polyglot-notebook"
        }
      },
      "outputs": [],
      "source": [
        "using NeighbourLookup = SCG.Dictionary\u003Cstring, SCG.HashSet\u003Cstring\u003E\u003E;\n",
        "\n",
        "NeighbourLookup ParseNeighbours(string[] inputLines)\n",
        "{\n",
        "    NeighbourLookup result = new();\n",
        "    \n",
        "    foreach (var line in inputLines)\n",
        "    {\n",
        "        var (a, b) = line.Split(\u0027-\u0027);\n",
        "\n",
        "        result.TryAdd(a, new());\n",
        "        result[a].Add(b);\n",
        "        result.TryAdd(b, new());\n",
        "        result[b].Add(a);\n",
        "    }\n",
        "\n",
        "    return result;\n",
        "}"
      ]
    },
    {
      "cell_type": "code",
      "execution_count": 6,
      "metadata": {
        "dotnet_interactive": {
          "language": "csharp"
        },
        "polyglot_notebook": {
          "kernelName": "csharp"
        },
        "vscode": {
          "languageId": "polyglot-notebook"
        }
      },
      "outputs": [],
      "source": [
        "using Triplet = (string a, string b, string c);\n",
        "\n",
        "IEnumerable\u003CTriplet\u003E FindMatchingTriplets(string[] inputLines)\n",
        "{\n",
        "    var neighbours = ParseNeighbours(inputLines);\n",
        "    var nodes = neighbours.Keys.ToList();\n",
        "    nodes.Sort();\n",
        "    var ts = nodes.Select(n =\u003E n[0] is \u0027t\u0027).ToArray();\n",
        "\n",
        "    for (var i = 0; i \u003C nodes.Count; i\u002B\u002B)\n",
        "    for (var j = i \u002B 1; j \u003C nodes.Count; j\u002B\u002B)\n",
        "    {\n",
        "        var a = nodes[i];\n",
        "        var b = nodes[j];\n",
        "\n",
        "        if (neighbours[a].Contains(b))\n",
        "        {\n",
        "            for (var k = j \u002B 1; k \u003C nodes.Count; k\u002B\u002B)\n",
        "            {\n",
        "                var c = nodes[k];\n",
        "                \n",
        "                if (neighbours[b].Contains(c)\n",
        "                \u0026\u0026 neighbours[c].Contains(a))\n",
        "                {\n",
        "                    if (ts[i] || ts[j] || ts[k])\n",
        "                    {\n",
        "                        yield return (a, b, c);\n",
        "                    }\n",
        "                }\n",
        "            }\n",
        "        }\n",
        "    }\n",
        "}"
      ]
    },
    {
      "cell_type": "code",
      "execution_count": 7,
      "metadata": {
        "dotnet_interactive": {
          "language": "csharp"
        },
        "polyglot_notebook": {
          "kernelName": "csharp"
        },
        "vscode": {
          "languageId": "polyglot-notebook"
        }
      },
      "outputs": [
        {
          "name": "stdout",
          "output_type": "stream",
          "text": [
            "(co, de, ta)\n",
            "(co, ka, ta)\n",
            "(de, ka, ta)\n",
            "(qp, td, wh)\n",
            "(tb, vc, wq)\n",
            "(tc, td, wh)\n",
            "(td, wh, yn)\n"
          ]
        }
      ],
      "source": [
        "// ... That narrows the list down to 7 sets of three inter-connected computers:\n",
        "\n",
        "// co,de,ta\n",
        "// co,ka,ta\n",
        "// de,ka,ta\n",
        "// qp,td,wh\n",
        "// tb,vc,wq\n",
        "// tc,td,wh\n",
        "// td,wh,yn\n",
        "\n",
        "foreach (var triplet in FindMatchingTriplets(testInputLines))\n",
        "{\n",
        "    Console.WriteLine(triplet);\n",
        "}"
      ]
    },
    {
      "cell_type": "code",
      "execution_count": 8,
      "metadata": {
        "dotnet_interactive": {
          "language": "csharp"
        },
        "polyglot_notebook": {
          "kernelName": "csharp"
        },
        "vscode": {
          "languageId": "polyglot-notebook"
        }
      },
      "outputs": [
        {
          "name": "stdout",
          "output_type": "stream",
          "text": [
            "7\n"
          ]
        }
      ],
      "source": [
        "int CountInterconnected(string[] inputLines) =\u003E FindMatchingTriplets(inputLines).Count();\n",
        "\n",
        "var testAnswer = CountInterconnected(testInputLines);\n",
        "Console.WriteLine(testAnswer);"
      ]
    },
    {
      "cell_type": "code",
      "execution_count": 9,
      "metadata": {
        "dotnet_interactive": {
          "language": "csharp"
        },
        "polyglot_notebook": {
          "kernelName": "csharp"
        },
        "vscode": {
          "languageId": "polyglot-notebook"
        }
      },
      "outputs": [
        {
          "name": "stdout",
          "output_type": "stream",
          "text": [
            "1083\n"
          ]
        }
      ],
      "source": [
        "// Find all the sets of three inter-connected computers. How many contain at\n",
        "// least one computer with a name that starts with t?\n",
        "\n",
        "var part1Answer = CountInterconnected(inputLines);\n",
        "Console.WriteLine(part1Answer);"
      ]
    },
    {
      "cell_type": "code",
      "execution_count": 10,
      "metadata": {
        "dotnet_interactive": {
          "language": "csharp"
        },
        "polyglot_notebook": {
          "kernelName": "csharp"
        },
        "vscode": {
          "languageId": "polyglot-notebook"
        }
      },
      "outputs": [],
      "source": [
        "// 1083 is correct\n",
        "Ensure(1083, part1Answer);"
      ]
    },
    {
      "cell_type": "markdown",
      "metadata": {
        "dotnet_interactive": {
          "language": "csharp"
        },
        "polyglot_notebook": {
          "kernelName": "csharp"
        },
        "vscode": {
          "languageId": "polyglot-notebook"
        }
      },
      "source": [
        "### --- Part Two ---\n",
        "\n",
        "Puzzle description redacted as-per Advent of Code guidelines\n",
        "\n",
        "You may find the puzzle description at: https://adventofcode.com/2024/day/23"
      ]
    },
    {
      "cell_type": "markdown",
      "metadata": {},
      "source": [
        "Ok, so for part 2, we need to find the largest set of nodes that are strongly connected to each other.\n",
        "\n",
        "For a group of \u0060n\u0060 nodes to be strongly connected, there needs to be \u0060n-1\u0060 connections between them. Let\u0027s take a quick look at our theoretical maximum size, to get an idea for which approach to take."
      ]
    },
    {
      "cell_type": "code",
      "execution_count": 12,
      "metadata": {
        "vscode": {
          "languageId": "polyglot-notebook"
        }
      },
      "outputs": [
        {
          "name": "stdout",
          "output_type": "stream",
          "text": [
            "Total nodes: 520\n",
            "Theoretical max connected size: 14\n"
          ]
        }
      ],
      "source": [
        "void CheckProblemSize(string[] inputLines)\n",
        "{\n",
        "    var neighbours = ParseNeighbours(inputLines);\n",
        "    var totalNodes = neighbours.Count;\n",
        "    var maxNeighbours = neighbours.Values.Max(v =\u003E v.Count);\n",
        "\n",
        "    Console.WriteLine($\u0022Total nodes: {totalNodes}\u0022);\n",
        "    Console.WriteLine($\u0022Theoretical max connected size: {maxNeighbours \u002B 1}\u0022);\n",
        "}\n",
        "CheckProblemSize(inputLines);"
      ]
    },
    {
      "cell_type": "markdown",
      "metadata": {},
      "source": [
        "Ok, testing all combinations of 14 nodes out of 520 is too computationally expensive, so unsurprisingly our Part 1 stragegy won\u0027t work here. I think we\u0027ll need to figure out an efficient way to traverse the nodes instead.\n",
        "\n",
        "We know that for nodes to be strongly connected, there must exist direct edges between every node. Therefore, trivially, a pair of nodes are strongly connected to each other.\n",
        "\n",
        "For a given set of \u0060n\u0060 strongly connected nodes, we know that adding another node to this set requires that all members of this set have an edge to the new node. Since our graph structure gives us the neighbours for each node, if we compute the set intersection of these neighbours, any nodes in this intersection can be used to grow our strongly connected set by another node. Note we can\u0027t just add all nodes from the intersection in one go: we haven\u0027t verified these nodes are connected to each other. But for \u0060m\u0060 nodes in the intersection, we can create \u0060m\u0060 new groups of size \u0060n \u002B 1\u0060.\n",
        "\n",
        "Given this, we can start with all pairs of connected nodes, and incrementally grow these sets until we find the largest one. Hopefully that\u0027s computationally feasible, let\u0027s see!"
      ]
    },
    {
      "cell_type": "code",
      "execution_count": 13,
      "metadata": {
        "dotnet_interactive": {
          "language": "csharp"
        },
        "polyglot_notebook": {
          "kernelName": "csharp"
        },
        "vscode": {
          "languageId": "polyglot-notebook"
        }
      },
      "outputs": [],
      "source": [
        "string FindLargestConnectedSet(string[] inputLines)\n",
        "{\n",
        "    var allNeighbours = ParseNeighbours(inputLines);\n",
        "\n",
        "    Queue\u003Cstring[]\u003E setQueue = new();\n",
        "    foreach (var (node, neighbour) in allNeighbours)\n",
        "    {\n",
        "        // Keep all the nodes in alphabetical order: that way we don\u0027t consider\n",
        "        // [a,b,c] and [b,c,a], which are equivalent\n",
        "        foreach (var n in neighbour.Where(n =\u003E n.CompareTo(node) \u003E 0))\n",
        "        {\n",
        "            setQueue.Enqueue([node, n]);\n",
        "        }\n",
        "    }\n",
        "\n",
        "    string[] maxSet = [];\n",
        "    while (setQueue.TryDequeue(out var set))\n",
        "    {\n",
        "        if (set.Length \u003E maxSet.Length)\n",
        "        {\n",
        "            Console.WriteLine($\u0022Found a new max length set of {set.Length}\u0022);\n",
        "            maxSet = set;\n",
        "        }\n",
        "\n",
        "        HashSet\u003Cstring\u003E nextNodes = new(allNeighbours[set[0]]);\n",
        "        foreach (var member in set[1..]) {\n",
        "            nextNodes.IntersectWith(allNeighbours[member]);\n",
        "        }\n",
        "\n",
        "        var lastNode = set[^1];\n",
        "        foreach (var nextNode in nextNodes.Where(nn =\u003E nn.CompareTo(lastNode) \u003E 0))\n",
        "        {\n",
        "            setQueue.Enqueue([..set, nextNode]);\n",
        "        }\n",
        "    }\n",
        "\n",
        "    return string.Join(\u0022,\u0022, maxSet);\n",
        "}"
      ]
    },
    {
      "cell_type": "code",
      "execution_count": 14,
      "metadata": {
        "dotnet_interactive": {
          "language": "csharp"
        },
        "polyglot_notebook": {
          "kernelName": "csharp"
        },
        "vscode": {
          "languageId": "polyglot-notebook"
        }
      },
      "outputs": [
        {
          "name": "stdout",
          "output_type": "stream",
          "text": [
            "Found a new max length set of 2\n",
            "Found a new max length set of 3\n",
            "Found a new max length set of 4\n",
            "co,de,ka,ta\n"
          ]
        }
      ],
      "source": [
        "// In this example, the password would be co,de,ka,ta.\n",
        "\n",
        "var part2TestAnswer = FindLargestConnectedSet(testInputLines);\n",
        "Console.WriteLine(part2TestAnswer);"
      ]
    },
    {
      "cell_type": "code",
      "execution_count": 15,
      "metadata": {
        "vscode": {
          "languageId": "polyglot-notebook"
        }
      },
      "outputs": [
        {
          "name": "stdout",
          "output_type": "stream",
          "text": [
            "Found a new max length set of 2\n",
            "Found a new max length set of 3\n",
            "Found a new max length set of 4\n",
            "Found a new max length set of 5\n",
            "Found a new max length set of 6\n",
            "Found a new max length set of 7\n",
            "Found a new max length set of 8\n",
            "Found a new max length set of 9\n",
            "Found a new max length set of 10\n",
            "Found a new max length set of 11\n",
            "Found a new max length set of 12\n",
            "Found a new max length set of 13\n",
            "as,bu,cp,dj,ez,fd,hu,it,kj,nx,pp,xh,yu\n"
          ]
        }
      ],
      "source": [
        "// What is the password to get into the LAN party?\n",
        "\n",
        "var part2Answer = FindLargestConnectedSet(inputLines);\n",
        "Console.WriteLine(part2Answer);"
      ]
    },
    {
      "cell_type": "code",
      "execution_count": 16,
      "metadata": {
        "vscode": {
          "languageId": "polyglot-notebook"
        }
      },
      "outputs": [],
      "source": [
        "// as,bu,cp,dj,ez,fd,hu,it,kj,nx,pp,xh,yu is correct!\n",
        "Ensure(\u0022as,bu,cp,dj,ez,fd,hu,it,kj,nx,pp,xh,yu\u0022, part2Answer);"
      ]
    }
  ],
  "metadata": {
    "kernelspec": {
      "display_name": ".NET (C#)",
      "language": "C#",
      "name": ".net-csharp"
    },
    "language_info": {
      "name": "python"
    },
    "polyglot_notebook": {
      "kernelInfo": {
        "defaultKernelName": "csharp",
        "items": [
          {
            "aliases": [],
            "name": "csharp"
          }
        ]
      }
    }
  },
  "nbformat": 4,
  "nbformat_minor": 2
}