{
  "cells": [
    {
      "cell_type": "markdown",
      "metadata": {
        "dotnet_interactive": {
          "language": "csharp"
        },
        "polyglot_notebook": {
          "kernelName": "csharp"
        },
        "vscode": {
          "languageId": "polyglot-notebook"
        }
      },
      "source": [
        "### --- Day 1: Historian Hysteria ---\n",
        "\n",
        "Puzzle description redacted as-per Advent of Code guidelines\n",
        "\n",
        "You may find the puzzle description at: https://adventofcode.com/2024/day/1"
      ]
    },
    {
      "cell_type": "code",
      "execution_count": 30,
      "metadata": {
        "vscode": {
          "languageId": "polyglot-notebook"
        }
      },
      "outputs": [],
      "source": [
        "#!import ../Utils.ipynb"
      ]
    },
    {
      "cell_type": "code",
      "execution_count": 31,
      "metadata": {
        "vscode": {
          "languageId": "polyglot-notebook"
        }
      },
      "outputs": [
        {
          "name": "stdout",
          "output_type": "stream",
          "text": [
            "Loading puzzle file: Day1.txt\n",
            "Total lines: 1000\n",
            "Max line length: 13\n",
            "\n",
            "76569   66648\n",
            "38663   66530\n",
            "60350   60777\n",
            "35330   13469\n",
            "88681   66648\n"
          ]
        }
      ],
      "source": [
        "var inputLines = LoadPuzzleInput(2024, 1);\n",
        "WriteLines(inputLines);"
      ]
    },
    {
      "cell_type": "code",
      "execution_count": 32,
      "metadata": {
        "vscode": {
          "languageId": "polyglot-notebook"
        }
      },
      "outputs": [],
      "source": [
        "string[] testInputLines = [\n",
        "    \u00223   4\u0022,\n",
        "    \u00224   3\u0022,\n",
        "    \u00222   5\u0022,\n",
        "    \u00221   3\u0022,\n",
        "    \u00223   9\u0022,\n",
        "    \u00223   3\u0022,\n",
        "];"
      ]
    },
    {
      "cell_type": "code",
      "execution_count": 33,
      "metadata": {
        "vscode": {
          "languageId": "polyglot-notebook"
        }
      },
      "outputs": [],
      "source": [
        "(List\u003Cint\u003E firstCol, List\u003Cint\u003E secondCol) SplitCols(string[] inputLines)\n",
        "{\n",
        "    var pairs = inputLines.Select(line =\u003E line.Split(\u0022   \u0022).Select(int.Parse).ToArray());\n",
        "    \n",
        "    List\u003Cint\u003E firstCol = new(inputLines.Length);\n",
        "    List\u003Cint\u003E secondCol = new(inputLines.Length);\n",
        "    foreach (var pair in pairs)\n",
        "    {\n",
        "        var (l, r) = pair;\n",
        "\n",
        "        firstCol.Add(l);\n",
        "        secondCol.Add(r);\n",
        "    }\n",
        "\n",
        "    return (firstCol, secondCol);\n",
        "}"
      ]
    },
    {
      "cell_type": "code",
      "execution_count": 34,
      "metadata": {
        "vscode": {
          "languageId": "polyglot-notebook"
        }
      },
      "outputs": [],
      "source": [
        "int TotalDistance(string[] inputLines)\n",
        "{\n",
        "    var (firstCol, secondCol) = SplitCols(inputLines);    \n",
        "\n",
        "    firstCol.Sort();\n",
        "    secondCol.Sort();\n",
        "\n",
        "    var distances = firstCol.Zip(secondCol).Select(x =\u003E Math.Abs(x.First - x.Second)).Sum();\n",
        "    return distances;\n",
        "}"
      ]
    },
    {
      "cell_type": "code",
      "execution_count": 35,
      "metadata": {
        "vscode": {
          "languageId": "polyglot-notebook"
        }
      },
      "outputs": [
        {
          "name": "stdout",
          "output_type": "stream",
          "text": [
            "11\n"
          ]
        }
      ],
      "source": [
        "// To find the total distance between the left list and the right list, add up\n",
        "// the distances between all of the pairs you found. In the example above, this is\n",
        "// 2 \u002B 1 \u002B 0 \u002B 1 \u002B 2 \u002B 5, a total distance of 11!\n",
        "\n",
        "var testAnswer = TotalDistance(testInputLines);\n",
        "Console.WriteLine(testAnswer);"
      ]
    },
    {
      "cell_type": "code",
      "execution_count": 36,
      "metadata": {
        "vscode": {
          "languageId": "polyglot-notebook"
        }
      },
      "outputs": [
        {
          "name": "stdout",
          "output_type": "stream",
          "text": [
            "3246517\n"
          ]
        }
      ],
      "source": [
        "var part1Answer = TotalDistance(inputLines);\n",
        "Console.WriteLine(part1Answer);"
      ]
    },
    {
      "cell_type": "code",
      "execution_count": 37,
      "metadata": {
        "vscode": {
          "languageId": "polyglot-notebook"
        }
      },
      "outputs": [],
      "source": [
        "// 3246517 is correct!\n",
        "Ensure(3246517, part1Answer);"
      ]
    },
    {
      "cell_type": "markdown",
      "metadata": {
        "vscode": {
          "languageId": "polyglot-notebook"
        }
      },
      "source": [
        "### --- Part Two ---\n",
        "\n",
        "Puzzle description redacted as-per Advent of Code guidelines\n",
        "\n",
        "You may find the puzzle description at: https://adventofcode.com/2024/day/1"
      ]
    },
    {
      "cell_type": "code",
      "execution_count": 39,
      "metadata": {
        "vscode": {
          "languageId": "polyglot-notebook"
        }
      },
      "outputs": [],
      "source": [
        "int SimilarityScore(string[] inputLines)\n",
        "{\n",
        "    var (firstCol, secondCol) = SplitCols(inputLines);\n",
        "\n",
        "    var similarityQ = from col in secondCol\n",
        "                      group col by col into colGroup\n",
        "                      let col = colGroup.Key\n",
        "                      let count = colGroup.Count()\n",
        "                      select (col, count);\n",
        "    var similarity = similarityQ.ToDictionary(cc =\u003E cc.col, cc =\u003E cc.count);\n",
        "\n",
        "    var totalScore = firstCol.Select(c =\u003E c * similarity.GetValueOrDefault(c)).Sum();\n",
        "\n",
        "    return totalScore;\n",
        "}"
      ]
    },
    {
      "cell_type": "code",
      "execution_count": 40,
      "metadata": {
        "vscode": {
          "languageId": "polyglot-notebook"
        }
      },
      "outputs": [
        {
          "name": "stdout",
          "output_type": "stream",
          "text": [
            "31\n"
          ]
        }
      ],
      "source": [
        "// So, for these example lists, the similarity score at the end of this process is 31 (9 \u002B 4 \u002B 0 \u002B 0 \u002B 9 \u002B 9).\n",
        "\n",
        "var part2TestAnswer = SimilarityScore(testInputLines);\n",
        "Console.WriteLine(part2TestAnswer);"
      ]
    },
    {
      "cell_type": "code",
      "execution_count": 41,
      "metadata": {
        "vscode": {
          "languageId": "polyglot-notebook"
        }
      },
      "outputs": [
        {
          "name": "stdout",
          "output_type": "stream",
          "text": [
            "29379307\n"
          ]
        }
      ],
      "source": [
        "// Once again consider your left and right lists. What is their similarity score?\n",
        "\n",
        "var part2Answer = SimilarityScore(inputLines);\n",
        "Console.WriteLine(part2Answer);"
      ]
    },
    {
      "cell_type": "code",
      "execution_count": 42,
      "metadata": {
        "vscode": {
          "languageId": "polyglot-notebook"
        }
      },
      "outputs": [],
      "source": [
        "// 29379307 is correct\n",
        "Ensure(29379307, part2Answer);"
      ]
    }
  ],
  "metadata": {
    "kernelspec": {
      "display_name": ".NET (C#)",
      "language": "C#",
      "name": ".net-csharp"
    },
    "language_info": {
      "name": "python"
    },
    "polyglot_notebook": {
      "kernelInfo": {
        "defaultKernelName": "csharp",
        "items": [
          {
            "aliases": [],
            "name": "csharp"
          }
        ]
      }
    }
  },
  "nbformat": 4,
  "nbformat_minor": 2
}