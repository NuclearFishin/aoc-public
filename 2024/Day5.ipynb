{
  "cells": [
    {
      "cell_type": "markdown",
      "execution_count": 1,
      "metadata": {
        "dotnet_interactive": {
          "language": "csharp"
        },
        "polyglot_notebook": {
          "kernelName": "csharp"
        },
        "vscode": {
          "languageId": "polyglot-notebook"
        }
      },
      "source": [
        "### --- Day 5: Print Queue ---\n",
        "\n",
        "Puzzle description redacted as-per Advent of Code guidelines\n",
        "\n",
        "You may find the puzzle description at: https://adventofcode.com/2024/day/5"
      ]
    },
    {
      "cell_type": "code",
      "execution_count": 2,
      "metadata": {
        "dotnet_interactive": {
          "language": "csharp"
        },
        "polyglot_notebook": {
          "kernelName": "csharp"
        },
        "vscode": {
          "languageId": "polyglot-notebook"
        }
      },
      "outputs": [],
      "source": [
        "#!import ../Utils.ipynb"
      ]
    },
    {
      "cell_type": "code",
      "execution_count": 3,
      "metadata": {
        "vscode": {
          "languageId": "polyglot-notebook"
        }
      },
      "outputs": [],
      "source": [
        "using SCG = System.Collections.Generic;"
      ]
    },
    {
      "cell_type": "code",
      "execution_count": 4,
      "metadata": {
        "dotnet_interactive": {
          "language": "csharp"
        },
        "polyglot_notebook": {
          "kernelName": "csharp"
        },
        "vscode": {
          "languageId": "polyglot-notebook"
        }
      },
      "outputs": [
        {
          "name": "stdout",
          "output_type": "stream",
          "text": [
            "Loading puzzle file: Day5.txt\n",
            "Total lines: 1379\n",
            "Max line length: 68\n",
            "\n",
            "61|98\n",
            "25|32\n",
            "25|15\n",
            "98|88\n",
            "98|77\n"
          ]
        }
      ],
      "source": [
        "var inputLines = LoadPuzzleInput(2024, 5);\n",
        "WriteLines(inputLines);"
      ]
    },
    {
      "cell_type": "code",
      "execution_count": 5,
      "metadata": {
        "dotnet_interactive": {
          "language": "csharp"
        },
        "polyglot_notebook": {
          "kernelName": "csharp"
        },
        "vscode": {
          "languageId": "polyglot-notebook"
        }
      },
      "outputs": [],
      "source": [
        "string[] testInputLines = [\n",
        "    \u002247|53\u0022,\n",
        "    \u002297|13\u0022,\n",
        "    \u002297|61\u0022,\n",
        "    \u002297|47\u0022,\n",
        "    \u002275|29\u0022,\n",
        "    \u002261|13\u0022,\n",
        "    \u002275|53\u0022,\n",
        "    \u002229|13\u0022,\n",
        "    \u002297|29\u0022,\n",
        "    \u002253|29\u0022,\n",
        "    \u002261|53\u0022,\n",
        "    \u002297|53\u0022,\n",
        "    \u002261|29\u0022,\n",
        "    \u002247|13\u0022,\n",
        "    \u002275|47\u0022,\n",
        "    \u002297|75\u0022,\n",
        "    \u002247|61\u0022,\n",
        "    \u002275|61\u0022,\n",
        "    \u002247|29\u0022,\n",
        "    \u002275|13\u0022,\n",
        "    \u002253|13\u0022,\n",
        "    \u0022\u0022,\n",
        "    \u002275,47,61,53,29\u0022,\n",
        "    \u002297,61,53,29,13\u0022,\n",
        "    \u002275,29,13\u0022,\n",
        "    \u002275,97,47,61,53\u0022,\n",
        "    \u002261,13,29\u0022,\n",
        "    \u002297,13,75,29,47\u0022,\n",
        "];"
      ]
    },
    {
      "cell_type": "code",
      "execution_count": 6,
      "metadata": {
        "dotnet_interactive": {
          "language": "csharp"
        },
        "polyglot_notebook": {
          "kernelName": "csharp"
        },
        "vscode": {
          "languageId": "polyglot-notebook"
        }
      },
      "outputs": [],
      "source": [
        "using Rule = (string before, string after);\n",
        "using PositionDict = SCG.Dictionary\u003Cstring, int\u003E;\n",
        "\n",
        "int FilterOrderedPages(string[] inputLines)\n",
        "{\n",
        "    var (rulesSection, pageNumbersSection) = inputLines.SeparateBy(str =\u003E str is \u0022\u0022).ToArray();\n",
        "\n",
        "    var rulesQ = from rule in rulesSection\n",
        "                 let ruleBits = rule.Split(\u0027|\u0027)\n",
        "                 let before = ruleBits[0]\n",
        "                 let after = ruleBits[1]\n",
        "                 select (before, after);\n",
        "    var rules = rulesQ.ToList();\n",
        "\n",
        "    var pageNumbersLines = pageNumbersSection.Select(line =\u003E line.Split(\u0027,\u0027));\n",
        "\n",
        "    var matchLinesQ = from pageNumbers in pageNumbersLines\n",
        "                      where InOrder(rules, pageNumbers)\n",
        "                      select GetMiddleNumber(pageNumbers);\n",
        "\n",
        "    return matchLinesQ.Sum();\n",
        "}\n",
        "\n",
        "bool InOrder(List\u003CRule\u003E rules, string[] pageNumbers)\n",
        "{\n",
        "    var positions = pageNumbers.Index().ToDictionary(kv =\u003E kv.Item, kv =\u003E kv.Index);\n",
        "    return rules.All(rule =\u003E RuleMatches(positions, rule));\n",
        "}\n",
        "\n",
        "bool RuleMatches(PositionDict positions, Rule rule) =\u003E rule switch\n",
        "{\n",
        "    (var before, _) when !positions.ContainsKey(before) =\u003E true,\n",
        "    (_, var after) when !positions.ContainsKey(after) =\u003E true,\n",
        "    _ =\u003E positions[rule.before] \u003C positions[rule.after]\n",
        "};\n",
        "\n",
        "int GetMiddleNumber(IList\u003Cstring\u003E pageNumbers) =\u003E pageNumbers.Count switch\n",
        "{\n",
        "    var length when length % 2 == 0 =\u003E throw new ArgumentException(\u0022Expected odd length\u0022, nameof(pageNumbers)),\n",
        "    var length =\u003E int.Parse(pageNumbers[length / 2])\n",
        "};"
      ]
    },
    {
      "cell_type": "code",
      "execution_count": 7,
      "metadata": {
        "dotnet_interactive": {
          "language": "csharp"
        },
        "polyglot_notebook": {
          "kernelName": "csharp"
        },
        "vscode": {
          "languageId": "polyglot-notebook"
        }
      },
      "outputs": [
        {
          "name": "stdout",
          "output_type": "stream",
          "text": [
            "143\n"
          ]
        }
      ],
      "source": [
        "// These have middle page numbers of 61, 53, and 29 respectively. Adding these\n",
        "// page numbers together gives 143.\n",
        "\n",
        "var testAnswer = FilterOrderedPages(testInputLines);\n",
        "Console.WriteLine(testAnswer);"
      ]
    },
    {
      "cell_type": "code",
      "execution_count": 8,
      "metadata": {
        "dotnet_interactive": {
          "language": "csharp"
        },
        "polyglot_notebook": {
          "kernelName": "csharp"
        },
        "vscode": {
          "languageId": "polyglot-notebook"
        }
      },
      "outputs": [
        {
          "name": "stdout",
          "output_type": "stream",
          "text": [
            "6384\n"
          ]
        }
      ],
      "source": [
        "var part1Answer = FilterOrderedPages(inputLines);\n",
        "Console.WriteLine(part1Answer);"
      ]
    },
    {
      "cell_type": "code",
      "execution_count": 9,
      "metadata": {
        "dotnet_interactive": {
          "language": "csharp"
        },
        "polyglot_notebook": {
          "kernelName": "csharp"
        },
        "vscode": {
          "languageId": "polyglot-notebook"
        }
      },
      "outputs": [],
      "source": [
        "// 6384 is correct!\n",
        "Ensure(6384, part1Answer);"
      ]
    },
    {
      "cell_type": "markdown",
      "execution_count": 10,
      "metadata": {
        "dotnet_interactive": {
          "language": "csharp"
        },
        "polyglot_notebook": {
          "kernelName": "csharp"
        },
        "vscode": {
          "languageId": "polyglot-notebook"
        }
      },
      "source": [
        "### --- Part Two ---\n",
        "\n",
        "Puzzle description redacted as-per Advent of Code guidelines\n",
        "\n",
        "You may find the puzzle description at: https://adventofcode.com/2024/day/5"
      ]
    },
    {
      "cell_type": "code",
      "execution_count": 11,
      "metadata": {
        "dotnet_interactive": {
          "language": "csharp"
        },
        "polyglot_notebook": {
          "kernelName": "csharp"
        },
        "vscode": {
          "languageId": "polyglot-notebook"
        }
      },
      "outputs": [],
      "source": [
        "// To solve this, I think we can use the rules to define a custom sort ordering,\n",
        "// and then sort each list.\n",
        "\n",
        "using RuleDict = SCG.Dictionary\u003Cstring, SCG.HashSet\u003Cstring\u003E\u003E;\n",
        "\n",
        "class RuleComparer(RuleDict ruleDict) : IComparer\u003Cstring\u003E\n",
        "{\n",
        "    RuleDict _ruleDict = ruleDict;\n",
        "    \n",
        "    public int Compare(string x, string y)\n",
        "    {\n",
        "        var hasX = _ruleDict.TryGetValue(x, out var xPos);\n",
        "        var hasY = _ruleDict.TryGetValue(y, out var yPos);\n",
        "\n",
        "        return (hasX, hasY) switch {\n",
        "            (true, _) when xPos.Contains(y) =\u003E -1, // x before y\n",
        "            (_, true) when yPos.Contains(x) =\u003E 1, // y before x\n",
        "            _ =\u003E 0 // no change\n",
        "        };\n",
        "    }\n",
        "}"
      ]
    },
    {
      "cell_type": "code",
      "execution_count": 12,
      "metadata": {
        "vscode": {
          "languageId": "polyglot-notebook"
        }
      },
      "outputs": [],
      "source": [
        "int FilterUnorderedPages(string[] inputLines, int part1Answer)\n",
        "{\n",
        "    var (rulesSection, pageNumbersSection) = inputLines.SeparateBy(str =\u003E str is \u0022\u0022).ToArray();\n",
        "\n",
        "    var pageNumbersLines = pageNumbersSection.Select(line =\u003E line.Split(\u0027,\u0027).ToList());\n",
        "\n",
        "    RuleDict ruleDict = new();\n",
        "    foreach (var rule in rulesSection)\n",
        "    {\n",
        "        var (before, after) = rule.Split(\u0027|\u0027);\n",
        "\n",
        "        var afters = ruleDict.GetValueOrDefault(before, new());\n",
        "        afters.Add(after);\n",
        "        ruleDict[before] = afters;\n",
        "    }\n",
        "    RuleComparer ruleComparer = new(ruleDict);\n",
        "\n",
        "    var sum = 0;\n",
        "    foreach (var line in pageNumbersLines)\n",
        "    {\n",
        "        line.Sort(ruleComparer);\n",
        "        sum \u002B= GetMiddleNumber(line);\n",
        "    }\n",
        "\n",
        "    return sum - part1Answer;\n",
        "}"
      ]
    },
    {
      "cell_type": "code",
      "execution_count": 13,
      "metadata": {
        "vscode": {
          "languageId": "polyglot-notebook"
        }
      },
      "outputs": [
        {
          "name": "stdout",
          "output_type": "stream",
          "text": [
            "123\n"
          ]
        }
      ],
      "source": [
        "// After taking only the incorrectly-ordered updates and ordering them\n",
        "// correctly, their middle page numbers are 47, 29, and 47. Adding these together\n",
        "// produces 123.\n",
        "\n",
        "var part2TestAnswer = FilterUnorderedPages(testInputLines, testAnswer);\n",
        "Console.WriteLine(part2TestAnswer);"
      ]
    },
    {
      "cell_type": "code",
      "execution_count": 14,
      "metadata": {
        "vscode": {
          "languageId": "polyglot-notebook"
        }
      },
      "outputs": [
        {
          "name": "stdout",
          "output_type": "stream",
          "text": [
            "5353\n"
          ]
        }
      ],
      "source": [
        "// Find the updates which are not in the correct order. What do you get if you\n",
        "// add up the middle page numbers after correctly ordering just those updates?\n",
        "\n",
        "var part2Answer = FilterUnorderedPages(inputLines, part1Answer);\n",
        "Console.WriteLine(part2Answer);"
      ]
    },
    {
      "cell_type": "code",
      "execution_count": 15,
      "metadata": {
        "vscode": {
          "languageId": "polyglot-notebook"
        }
      },
      "outputs": [],
      "source": [
        "// 5353 is correct!\n",
        "Ensure(5353, part2Answer);"
      ]
    }
  ],
  "metadata": {
    "kernelspec": {
      "display_name": ".NET (C#)",
      "language": "C#",
      "name": ".net-csharp"
    },
    "language_info": {
      "name": "python"
    },
    "polyglot_notebook": {
      "kernelInfo": {
        "defaultKernelName": "csharp",
        "items": [
          {
            "aliases": [],
            "name": "csharp"
          }
        ]
      }
    }
  },
  "nbformat": 4,
  "nbformat_minor": 2
}