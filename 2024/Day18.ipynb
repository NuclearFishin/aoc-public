{
  "cells": [
    {
      "cell_type": "markdown",
      "metadata": {
        "dotnet_interactive": {
          "language": "csharp"
        },
        "polyglot_notebook": {
          "kernelName": "csharp"
        },
        "vscode": {
          "languageId": "polyglot-notebook"
        }
      },
      "source": [
        "### --- Day 18: RAM Run ---\n",
        "\n",
        "Puzzle description redacted as-per Advent of Code guidelines\n",
        "\n",
        "You may find the puzzle description at: https://adventofcode.com/2024/day/18"
      ]
    },
    {
      "cell_type": "code",
      "execution_count": 2,
      "metadata": {
        "dotnet_interactive": {
          "language": "csharp"
        },
        "polyglot_notebook": {
          "kernelName": "csharp"
        },
        "vscode": {
          "languageId": "polyglot-notebook"
        }
      },
      "outputs": [],
      "source": [
        "#!import ../Utils.ipynb"
      ]
    },
    {
      "cell_type": "code",
      "execution_count": 3,
      "metadata": {
        "dotnet_interactive": {
          "language": "csharp"
        },
        "polyglot_notebook": {
          "kernelName": "csharp"
        },
        "vscode": {
          "languageId": "polyglot-notebook"
        }
      },
      "outputs": [
        {
          "name": "stdout",
          "output_type": "stream",
          "text": [
            "Loading puzzle file: Day18.txt\n",
            "Total lines: 3450\n",
            "Max line length: 5\n",
            "\n",
            "21,9\n",
            "69,53\n",
            "31,24\n",
            "2,9\n",
            "50,53\n"
          ]
        }
      ],
      "source": [
        "var inputLines = LoadPuzzleInput(2024, 18);\n",
        "WriteLines(inputLines);"
      ]
    },
    {
      "cell_type": "code",
      "execution_count": 4,
      "metadata": {
        "dotnet_interactive": {
          "language": "csharp"
        },
        "polyglot_notebook": {
          "kernelName": "csharp"
        },
        "vscode": {
          "languageId": "polyglot-notebook"
        }
      },
      "outputs": [],
      "source": [
        "string[] testInputLines = [\n",
        "    \u00225,4\u0022,\n",
        "    \u00224,2\u0022,\n",
        "    \u00224,5\u0022,\n",
        "    \u00223,0\u0022,\n",
        "    \u00222,1\u0022,\n",
        "    \u00226,3\u0022,\n",
        "    \u00222,4\u0022,\n",
        "    \u00221,5\u0022,\n",
        "    \u00220,6\u0022,\n",
        "    \u00223,3\u0022,\n",
        "    \u00222,6\u0022,\n",
        "    \u00225,1\u0022,\n",
        "    \u00221,2\u0022,\n",
        "    \u00225,5\u0022,\n",
        "    \u00222,5\u0022,\n",
        "    \u00226,5\u0022,\n",
        "    \u00221,4\u0022,\n",
        "    \u00220,4\u0022,\n",
        "    \u00226,4\u0022,\n",
        "    \u00221,1\u0022,\n",
        "    \u00226,1\u0022,\n",
        "    \u00221,0\u0022,\n",
        "    \u00220,5\u0022,\n",
        "    \u00221,6\u0022,\n",
        "    \u00222,0\u0022,\n",
        "];"
      ]
    },
    {
      "cell_type": "markdown",
      "metadata": {},
      "source": [
        "This looks like another straightforward application for the shortest path algorithm, given we wait for all the holes to be made before proceeding. If we had to start moving as the holes were still falling, that would be a different problem altogether (probably this will be part 2 ;)"
      ]
    },
    {
      "cell_type": "code",
      "execution_count": 5,
      "metadata": {
        "dotnet_interactive": {
          "language": "csharp"
        },
        "polyglot_notebook": {
          "kernelName": "csharp"
        },
        "vscode": {
          "languageId": "polyglot-notebook"
        }
      },
      "outputs": [],
      "source": [
        "const int GRID_SIZE = 71; // 0-70\n",
        "const int TEST_GRID_SIZE = 7; // 0-6"
      ]
    },
    {
      "cell_type": "code",
      "execution_count": 6,
      "metadata": {
        "dotnet_interactive": {
          "language": "csharp"
        },
        "polyglot_notebook": {
          "kernelName": "csharp"
        },
        "vscode": {
          "languageId": "polyglot-notebook"
        }
      },
      "outputs": [],
      "source": [
        "IEnumerable\u003CPoint\u003E ParsePoints(string[] inputLines) =\u003E from line in inputLines\n",
        "                                                       let xy = line.ParseAll(@\u0022\\d\u002B\u0022).Select(int.Parse).ToArray()\n",
        "                                                       let x = xy[0]\n",
        "                                                       let y = xy[1]\n",
        "                                                       select new Point(x, y);\n"
      ]
    },
    {
      "cell_type": "code",
      "execution_count": 7,
      "metadata": {
        "dotnet_interactive": {
          "language": "csharp"
        },
        "polyglot_notebook": {
          "kernelName": "csharp"
        },
        "vscode": {
          "languageId": "polyglot-notebook"
        }
      },
      "outputs": [],
      "source": [
        "using PointCost = (Point point, uint cost);"
      ]
    },
    {
      "cell_type": "code",
      "execution_count": 8,
      "metadata": {
        "dotnet_interactive": {
          "language": "csharp"
        },
        "polyglot_notebook": {
          "kernelName": "csharp"
        },
        "vscode": {
          "languageId": "polyglot-notebook"
        }
      },
      "outputs": [],
      "source": [
        "uint HowLong(string[] inputLines, int size, int waitTime)\n",
        "{\n",
        "    var line = new string(Enumerable.Range(0, size).Select(_ =\u003E \u0027.\u0027).ToArray());\n",
        "    var lines = Enumerable.Range(0, size).Select(_ =\u003E line).ToArray();\n",
        "\n",
        "    CharGrid grid = new(lines);\n",
        "    \n",
        "    foreach (var holePoint in ParsePoints(inputLines).Take(waitTime))\n",
        "    {\n",
        "        grid[holePoint] = HOLE;\n",
        "    }\n",
        "\n",
        "    Point start = (0, 0);\n",
        "    Point end = new(size - 1, size - 1);\n",
        "\n",
        "    var nextFunc = GetNextFunc(grid);\n",
        "\n",
        "    var cost = ShortestPath(start, nextFunc)\n",
        "                .First\u003CPointCost\u003E(pc =\u003E pc.point == end)\n",
        "                .cost;\n",
        "    return cost;\n",
        "}\n",
        "\n",
        "NextNodeFunc\u003CPoint, uint\u003E GetNextFunc(CharGrid grid)\n",
        "{\n",
        "    IEnumerable\u003CPointCost\u003E GetAllPoints(Point point, uint cost)\n",
        "    {\n",
        "        return AllDirs.Select(dir =\u003E point \u002B dir)\n",
        "                .Where(p =\u003E grid.IsValid(p) \u0026\u0026 grid[p] is not HOLE)\n",
        "                .Select(p =\u003E (p, cost \u002B 1));\n",
        "    }\n",
        "\n",
        "    return GetAllPoints;\n",
        "}\n",
        "\n",
        "Point[] AllDirs = [Up, Down, Left, Right];\n",
        "\n",
        "const char HOLE = \u0027#\u0027;"
      ]
    },
    {
      "cell_type": "code",
      "execution_count": 9,
      "metadata": {
        "dotnet_interactive": {
          "language": "csharp"
        },
        "polyglot_notebook": {
          "kernelName": "csharp"
        },
        "vscode": {
          "languageId": "polyglot-notebook"
        }
      },
      "outputs": [
        {
          "name": "stdout",
          "output_type": "stream",
          "text": [
            "22\n"
          ]
        }
      ],
      "source": [
        "// You can take steps up, down, left, or right. After just 12 bytes have\n",
        "// corrupted locations in your memory space, the shortest path from the top left\n",
        "// corner to the exit would take 22 steps. Here (marked with O) is one such path:\n",
        "\n",
        "var testAnswer = HowLong(testInputLines, TEST_GRID_SIZE, 12);\n",
        "Console.WriteLine(testAnswer);"
      ]
    },
    {
      "cell_type": "code",
      "execution_count": 10,
      "metadata": {
        "dotnet_interactive": {
          "language": "csharp"
        },
        "polyglot_notebook": {
          "kernelName": "csharp"
        },
        "vscode": {
          "languageId": "polyglot-notebook"
        }
      },
      "outputs": [
        {
          "name": "stdout",
          "output_type": "stream",
          "text": [
            "250\n"
          ]
        }
      ],
      "source": [
        "// Simulate the first kilobyte (1024 bytes) falling onto your memory space.\n",
        "// Afterward, what is the minimum number of steps needed to reach the exit?\n",
        "\n",
        "var part1Answer = HowLong(inputLines, GRID_SIZE, 1024);\n",
        "Console.WriteLine(part1Answer);"
      ]
    },
    {
      "cell_type": "code",
      "execution_count": 11,
      "metadata": {
        "dotnet_interactive": {
          "language": "csharp"
        },
        "polyglot_notebook": {
          "kernelName": "csharp"
        },
        "vscode": {
          "languageId": "polyglot-notebook"
        }
      },
      "outputs": [],
      "source": [
        "// 250 is correct!\n",
        "Ensure(250u, part1Answer);"
      ]
    },
    {
      "cell_type": "markdown",
      "metadata": {
        "dotnet_interactive": {
          "language": "csharp"
        },
        "polyglot_notebook": {
          "kernelName": "csharp"
        },
        "vscode": {
          "languageId": "polyglot-notebook"
        }
      },
      "source": [
        "### --- Part Two ---\n",
        "\n",
        "Puzzle description redacted as-per Advent of Code guidelines\n",
        "\n",
        "You may find the puzzle description at: https://adventofcode.com/2024/day/18"
      ]
    }
  ],
  "metadata": {
    "kernelspec": {
      "display_name": ".NET (C#)",
      "language": "C#",
      "name": ".net-csharp"
    },
    "language_info": {
      "name": "python"
    },
    "polyglot_notebook": {
      "kernelInfo": {
        "defaultKernelName": "csharp",
        "items": [
          {
            "aliases": [],
            "name": "csharp"
          }
        ]
      }
    }
  },
  "nbformat": 4,
  "nbformat_minor": 2
}