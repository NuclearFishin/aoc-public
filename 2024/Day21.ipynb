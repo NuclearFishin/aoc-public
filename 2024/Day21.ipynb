{
  "cells": [
    {
      "cell_type": "markdown",
      "metadata": {
        "dotnet_interactive": {
          "language": "csharp"
        },
        "polyglot_notebook": {
          "kernelName": "csharp"
        },
        "vscode": {
          "languageId": "polyglot-notebook"
        }
      },
      "source": [
        "### --- Day 21: Keypad Conundrum ---\n",
        "\n",
        "Puzzle description redacted as-per Advent of Code guidelines\n",
        "\n",
        "You may find the puzzle description at: https://adventofcode.com/2024/day/21"
      ]
    },
    {
      "cell_type": "code",
      "execution_count": 2,
      "metadata": {
        "dotnet_interactive": {
          "language": "csharp"
        },
        "polyglot_notebook": {
          "kernelName": "csharp"
        },
        "vscode": {
          "languageId": "polyglot-notebook"
        }
      },
      "outputs": [],
      "source": [
        "#!import ../Utils.ipynb"
      ]
    },
    {
      "cell_type": "code",
      "execution_count": 3,
      "metadata": {
        "dotnet_interactive": {
          "language": "csharp"
        },
        "polyglot_notebook": {
          "kernelName": "csharp"
        },
        "vscode": {
          "languageId": "polyglot-notebook"
        }
      },
      "outputs": [
        {
          "name": "stdout",
          "output_type": "stream",
          "text": [
            "Loading puzzle file: Day21.txt\n",
            "Total lines: 5\n",
            "Max line length: 4\n",
            "\n",
            "869A\n",
            "180A\n",
            "596A\n"
          ]
        }
      ],
      "source": [
        "var inputLines = LoadPuzzleInput(2024, 21);\n",
        "WriteLines(inputLines, maxRows: 3);"
      ]
    },
    {
      "cell_type": "code",
      "execution_count": 4,
      "metadata": {
        "dotnet_interactive": {
          "language": "csharp"
        },
        "polyglot_notebook": {
          "kernelName": "csharp"
        },
        "vscode": {
          "languageId": "polyglot-notebook"
        }
      },
      "outputs": [],
      "source": [
        "string[] testInputLines = [\n",
        "    \u0022029A\u0022,\n",
        "    \u0022980A\u0022,\n",
        "    \u0022179A\u0022,\n",
        "    \u0022456A\u0022,\n",
        "    \u0022379A\u0022,\n",
        "];"
      ]
    },
    {
      "cell_type": "markdown",
      "metadata": {
        "vscode": {
          "languageId": "polyglot-notebook"
        }
      },
      "source": [
        "Ok, for starters, we know that for a given keypad we can pre-calculate the minimum steps from one key to another.\n",
        "\n",
        "Things get more complex once we connect the keypads together however, as the position of prior keypads might affect the cost of lower keypads. Eg: if the prior keypad is already in the up position, then going up \u002B right would be cheaper than going right \u002B up.\n",
        "\n",
        "So I think we need to evaluate the possible combinations.\n",
        "\n"
      ]
    },
    {
      "cell_type": "code",
      "execution_count": 5,
      "metadata": {
        "dotnet_interactive": {
          "language": "csharp"
        },
        "polyglot_notebook": {
          "kernelName": "csharp"
        },
        "vscode": {
          "languageId": "polyglot-notebook"
        }
      },
      "outputs": [],
      "source": [
        "using Key = char;\n",
        "using KeySequence = string;"
      ]
    },
    {
      "cell_type": "code",
      "execution_count": 6,
      "metadata": {
        "dotnet_interactive": {
          "language": "csharp"
        },
        "polyglot_notebook": {
          "kernelName": "csharp"
        },
        "vscode": {
          "languageId": "polyglot-notebook"
        }
      },
      "outputs": [],
      "source": [
        "using FromToDict = SCG.Dictionary\u003C(Key from, Key to), SCG.IEnumerable\u003CKeySequence\u003E\u003E;\n",
        "const Key EMPTY = \u0027.\u0027;\n",
        "static readonly Point Push = (0, 0);\n",
        "\n",
        "class Keypad\n",
        "{\n",
        "    readonly Dictionary\u003CPoint, Key\u003E Keys = new();\n",
        "    readonly Dictionary\u003CKey, Point\u003E Positions = new();\n",
        "    readonly FromToDict _fromToCache = new();\n",
        "\n",
        "    public Keypad(string[] inputLines)\n",
        "    {\n",
        "        CharGrid grid = new (inputLines);\n",
        "\n",
        "        foreach (var (point, ch) in grid.Enumerate().Where(pch =\u003E pch.ch is not EMPTY))\n",
        "        {\n",
        "            Keys[point] = ch;\n",
        "            Positions[ch] = point;\n",
        "        }\n",
        "    }\n",
        "\n",
        "    /// \u003Csummary\u003E\n",
        "    /// Get the shortest sequences of directions from one key to another\n",
        "    /// \u003C/summary\u003E\n",
        "    public IEnumerable\u003CKeySequence\u003E GetSequences(Key fromKey, Key toKey)\n",
        "    {\n",
        "        if (fromKey == toKey) { return PushOnly; }\n",
        "        \n",
        "        var cacheKey = (fromKey, toKey);\n",
        "        if (_fromToCache.TryGetValue(cacheKey, out var result))\n",
        "        {\n",
        "            return result;\n",
        "        }\n",
        "\n",
        "        var (from, to) = (Positions[fromKey], Positions[toKey]);\n",
        "        var diff = to - from;\n",
        "\n",
        "        var distance = Math.Abs(diff.X) \u002B Math.Abs(diff.Y);\n",
        "        var horizDir = diff.X \u003C 0 ? Left : Right;\n",
        "        var vertDir = diff.Y \u003C 0 ? Up : Down;\n",
        "\n",
        "        var q = from directions in Permutations([horizDir, vertDir], distance)\n",
        "                where IsValidPath(@from, to, directions)\n",
        "                select Stringify(directions.Append(Push));\n",
        "\n",
        "        result = q.ToArray();\n",
        "        _fromToCache[cacheKey] = result;\n",
        "        \n",
        "        return result;\n",
        "    }\n",
        "\n",
        "    bool IsValidPath(Point start, Point end, IEnumerable\u003CPoint\u003E directions)\n",
        "    {\n",
        "        var current = start;\n",
        "        foreach (var dir in directions)\n",
        "        {\n",
        "            current \u002B= dir;\n",
        "            if (!Keys.ContainsKey(current))\n",
        "            {\n",
        "                return false;\n",
        "            }\n",
        "        }\n",
        "        return current == end;\n",
        "    }\n",
        "\n",
        "    static readonly IEnumerable\u003CKeySequence\u003E PushOnly = [\u0022A\u0022];\n",
        "    static readonly Dictionary\u003CPoint, Key\u003E DirMap = new()\n",
        "    {\n",
        "        { Up, \u0027^\u0027 },\n",
        "        { Down, \u0027v\u0027 },\n",
        "        { Left, \u0027\u003C\u0027 },\n",
        "        { Right, \u0027\u003E\u0027 },\n",
        "        { Push, \u0027A\u0027 }\n",
        "    };\n",
        "    static KeySequence Stringify(IEnumerable\u003CPoint\u003E dirs) =\u003E new(dirs.Select(dir =\u003E DirMap[dir]).ToArray());\n",
        "}"
      ]
    },
    {
      "cell_type": "code",
      "execution_count": 7,
      "metadata": {
        "dotnet_interactive": {
          "language": "csharp"
        },
        "polyglot_notebook": {
          "kernelName": "csharp"
        },
        "vscode": {
          "languageId": "polyglot-notebook"
        }
      },
      "outputs": [],
      "source": [
        "// \u002B---\u002B---\u002B---\u002B\n",
        "// | 7 | 8 | 9 |\n",
        "// \u002B---\u002B---\u002B---\u002B\n",
        "// | 4 | 5 | 6 |\n",
        "// \u002B---\u002B---\u002B---\u002B\n",
        "// | 1 | 2 | 3 |\n",
        "// \u002B---\u002B---\u002B---\u002B\n",
        "//     | 0 | A |\n",
        "//     \u002B---\u002B---\u002B\n",
        "\n",
        "string[] numpad = \n",
        "[\n",
        "    \u0022789\u0022,\n",
        "    \u0022456\u0022,\n",
        "    \u0022123\u0022,\n",
        "    \u0022.0A\u0022\n",
        "];\n",
        "\n",
        "//     \u002B---\u002B---\u002B\n",
        "//     | ^ | A |\n",
        "// \u002B---\u002B---\u002B---\u002B\n",
        "// | \u003C | v | \u003E |\n",
        "// \u002B---\u002B---\u002B---\u002B\n",
        "\n",
        "string[] dirpad = \n",
        "[\n",
        "    \u0022.^A\u0022,\n",
        "    \u0022\u003Cv\u003E\u0022\n",
        "];"
      ]
    },
    {
      "cell_type": "code",
      "execution_count": 8,
      "metadata": {
        "dotnet_interactive": {
          "language": "csharp"
        },
        "polyglot_notebook": {
          "kernelName": "csharp"
        },
        "vscode": {
          "languageId": "polyglot-notebook"
        }
      },
      "outputs": [],
      "source": [
        "// So for the sequence 029A, we need to find...\n",
        "\n",
        "// Directions from A (starting point) to 0\n",
        "// Directions from 0 to 2\n",
        "// Directions from 2 to 9\n",
        "// Directions from 9 to A\n",
        "\n",
        "// Then, given a set of directions...\n",
        "\n",
        "// We need to map up/down/left/right/push as keys on the new keypad\n",
        "// Then, for each direction pair, we need to get the sequence\n",
        "// Find the sum of the sequence, and we\u0027re done"
      ]
    },
    {
      "cell_type": "code",
      "execution_count": 9,
      "metadata": {
        "dotnet_interactive": {
          "language": "csharp"
        },
        "polyglot_notebook": {
          "kernelName": "csharp"
        },
        "vscode": {
          "languageId": "polyglot-notebook"
        }
      },
      "outputs": [
        {
          "name": "stdout",
          "output_type": "stream",
          "text": [
            "\u003CA^A\u003E^^AvvvA\n",
            "\u003CA^A^\u003E^AvvvA\n",
            "\u003CA^A^^\u003EAvvvA\n"
          ]
        }
      ],
      "source": [
        "IEnumerable\u003CKeySequence\u003E GetWholeSequence(KeySequence sequence, string[] keys)\n",
        "{\n",
        "    Keypad np = new(keys);\n",
        "\n",
        "    return GetPair(sequence, sequence.Length - 1);\n",
        "    \n",
        "    IEnumerable\u003CKeySequence\u003E GetPair(KeySequence sequence, int pos)\n",
        "    {\n",
        "        var result = pos switch {\n",
        "            0 =\u003E np.GetSequences(\u0027A\u0027, sequence[0]),\n",
        "            _ =\u003E GetPair(sequence, pos - 1)\n",
        "                    .SelectMany(gp =\u003E np.GetSequences(sequence[pos-1], sequence[pos])\n",
        "                                            .Select(seq =\u003E $\u0022{gp}{seq}\u0022))\n",
        "        };\n",
        "\n",
        "        return result;\n",
        "    } \n",
        "}\n",
        "\n",
        "// In total, there are three shortest possible sequences of button presses on\n",
        "// this directional keypad that would cause the robot to type 029A: \u003CA^A\u003E^^AvvvA,\n",
        "// \u003CA^A^\u003E^AvvvA, and \u003CA^A^^\u003EAvvvA.\n",
        "\n",
        "var getWholeSequenceTest = GetWholeSequence(\u0022029A\u0022, numpad);\n",
        "foreach (var seq in getWholeSequenceTest)\n",
        "{\n",
        "    Console.WriteLine(seq);\n",
        "}"
      ]
    },
    {
      "cell_type": "code",
      "execution_count": 10,
      "metadata": {
        "dotnet_interactive": {
          "language": "csharp"
        },
        "polyglot_notebook": {
          "kernelName": "csharp"
        },
        "vscode": {
          "languageId": "polyglot-notebook"
        }
      },
      "outputs": [
        {
          "name": "stdout",
          "output_type": "stream",
          "text": [
            "68\n"
          ]
        }
      ],
      "source": [
        "int GetMinLength(string combo)\n",
        "{\n",
        "    var q = from lvl1 in GetWholeSequence(combo, numpad)\n",
        "            from lvl2 in GetWholeSequence(lvl1, dirpad)\n",
        "            from lvl3 in GetWholeSequence(lvl2, dirpad)\n",
        "            select lvl3.Length;\n",
        "\n",
        "    return q.Min();\n",
        "}\n",
        "\n",
        "// The length of the shortest sequence of button presses ... for 029A, this would be 68.\n",
        "\n",
        "var testGetMinLength = GetMinLength(\u0022029A\u0022);\n",
        "Console.WriteLine(testGetMinLength);"
      ]
    },
    {
      "cell_type": "code",
      "execution_count": 11,
      "metadata": {
        "dotnet_interactive": {
          "language": "csharp"
        },
        "polyglot_notebook": {
          "kernelName": "csharp"
        },
        "vscode": {
          "languageId": "polyglot-notebook"
        }
      },
      "outputs": [
        {
          "name": "stdout",
          "output_type": "stream",
          "text": [
            "126384\n"
          ]
        }
      ],
      "source": [
        "int GetComplexity(string combo)\n",
        "{\n",
        "    // The complexity of a single code (like 029A) is equal to the result of multiplying these two values:\n",
        "\n",
        "    // The length of the shortest sequence of button presses...\n",
        "    var shortestSequence = GetMinLength(combo);\n",
        "    \n",
        "    // The numeric part of the code (ignoring leading zeroes); for 029A, this would be 29.\n",
        "    var numericPart = int.Parse(combo[0..3]);\n",
        "\n",
        "    return numericPart * shortestSequence;\n",
        "}\n",
        "\n",
        "// In the above example, complexity of the five codes can be found by\n",
        "// calculating 68 * 29, 60 * 980, 68 * 179, 64 * 456, and 64 * 379. Adding these\n",
        "// together produces 126384.\n",
        "\n",
        "var testAnswer = testInputLines.Select(GetComplexity).Sum();\n",
        "Console.WriteLine(testAnswer);"
      ]
    },
    {
      "cell_type": "code",
      "execution_count": 12,
      "metadata": {
        "dotnet_interactive": {
          "language": "csharp"
        },
        "polyglot_notebook": {
          "kernelName": "csharp"
        },
        "vscode": {
          "languageId": "polyglot-notebook"
        }
      },
      "outputs": [
        {
          "name": "stdout",
          "output_type": "stream",
          "text": [
            "248108\n"
          ]
        }
      ],
      "source": [
        "// Find the fewest number of button presses you\u0027ll need to perform in order to\n",
        "// cause the robot in front of the door to type each code. What is the sum of the\n",
        "// complexities of the five codes on your list?\n",
        "\n",
        "var part1Answer = inputLines.Select(GetComplexity).Sum();\n",
        "Console.WriteLine(part1Answer);"
      ]
    },
    {
      "cell_type": "code",
      "execution_count": 13,
      "metadata": {
        "dotnet_interactive": {
          "language": "csharp"
        },
        "polyglot_notebook": {
          "kernelName": "csharp"
        },
        "vscode": {
          "languageId": "polyglot-notebook"
        }
      },
      "outputs": [],
      "source": [
        "// 248108 is correct!\n",
        "Ensure(248108, part1Answer);"
      ]
    },
    {
      "cell_type": "markdown",
      "metadata": {
        "dotnet_interactive": {
          "language": "csharp"
        },
        "polyglot_notebook": {
          "kernelName": "csharp"
        },
        "vscode": {
          "languageId": "polyglot-notebook"
        }
      },
      "source": [
        "### --- Part Two ---\n",
        "\n",
        "Puzzle description redacted as-per Advent of Code guidelines\n",
        "\n",
        "You may find the puzzle description at: https://adventofcode.com/2024/day/21"
      ]
    },
    {
      "cell_type": "markdown",
      "metadata": {},
      "source": [
        "Ok, for part 2, there are now 25 robots! There must be a more general way solve this than we did for part 1...\n",
        "\n",
        "The challenge I had with this part was that I couldn\u0027t convince myself that lower robots were always in a known position, although in retrospect this is indeed the case. Having skimmed some solutions for ideas and taking a fresh look, a few insights helped me towards a solution.\n",
        "\n",
        "The first insight that helped is to consider the sequence in terms of \u0022indirection levels\u0022, where 0 means standing directly in front of a keypad, and 1 means via 1 robot, and 2 via another robot etc.\n",
        "\n",
        "Consider the string \u0060029A\u0060:\n",
        "\n",
        "* The cost of entering \u0060029A\u0060 at indirection level \u00600\u0060 is just \u00604\u0060, as we can press each key directly\n",
        "* The cost of entering \u0060029A\u0060 at indirection level \u00601\u0060 means we are standing in front of a robot, that is...\n",
        "* The cost of entering \u0060029A\u0060 at indirection level \u00601\u0060 is equivalent to entering a longer sequence at indirection level \u00600\u0060\n",
        "\n",
        "So in general, entering a sequence at indirection level \u0060n\u0060 can be re-framed as solving a longer sequence at indirection level \u0060n-1\u0060\n",
        "\n",
        "But how do we know what this \u0022longer sequence\u0022 is? It\u0027s the sequence of individial key transitions!\n",
        "\n",
        "Which brings us to the second insight: for a given indirection level, the cost of transitioning from key \u0060X-\u003EY\u0060 is always the same! There\u0027s a rough proof:\n",
        "\n",
        "* Transitioning from \u0060X-\u003EY\u0060 at indirection level \u00600\u0060 is \u00601\u0060, since we are standing in front of it. Therefore \u0060X-\u003EY\u0060 is always equal.\n",
        "* Tarnsitioning from \u0060X-\u003EY\u0060 at indirection level \u00601\u0060 means standing in front of a robot, intialised to \u0060A\u0060, and entering the shortest sequence that must necessarily end back at \u0060A\u0060, as this key is the Push action. So since key transitions always start / finish at \u0060A\u0060, a given transition will always have the same cost.\n",
        "\n",
        "This recursive approach is readily cacheable. Now we have everything we need to solve."
      ]
    },
    {
      "cell_type": "code",
      "execution_count": 15,
      "metadata": {
        "dotnet_interactive": {
          "language": "csharp"
        },
        "polyglot_notebook": {
          "kernelName": "csharp"
        },
        "vscode": {
          "languageId": "polyglot-notebook"
        }
      },
      "outputs": [],
      "source": [
        "long GetMinCost(KeySequence keySequence, int levels)\n",
        "{\n",
        "    Dictionary\u003C(Key from, Key to, int indirectionLevel), long\u003E costCache = new();\n",
        "    \n",
        "    return GetMinCost(keySequence, levels, levels);\n",
        "\n",
        "    long GetMinCost(KeySequence keySequence, int levels, int indirectionLevel)\n",
        "    {\n",
        "        if (indirectionLevel == 0)\n",
        "        {\n",
        "            // Just push the keys directly!\n",
        "            return keySequence.Length;\n",
        "        }\n",
        "        \n",
        "        // At this point we are \u0022indirect\u0022.\n",
        "\n",
        "        // Eg for: \u0060029A\u0060, we are solving for A-\u003E0, 0-\u003E2, 2-\u003E9, etc\n",
        "        var pairs = keySequence.Prepend(\u0027A\u0027).Zip(keySequence);\n",
        "\n",
        "        // As explained above, the total cost is the sum of the individual key\n",
        "        // transitions\n",
        "        long total = 0;\n",
        "        foreach (var (a, b) in pairs)\n",
        "        {\n",
        "            total \u002B= GetPairCost(a, b, indirectionLevel);\n",
        "        }\n",
        "        return total;\n",
        "\n",
        "        long GetPairCost(Key a, Key b, int indirectionLevel)\n",
        "        {\n",
        "            var cacheKey = (a, b, indirectionLevel);\n",
        "            if (costCache.TryGetValue(cacheKey, out var result))\n",
        "            {\n",
        "                return result;\n",
        "            }\n",
        "\n",
        "            // Time to re-frame:\n",
        "            //\n",
        "            // Given this key transition and indirection level, what would be\n",
        "            // the equivalent sequence we could input at the lower indirection\n",
        "            // level?\n",
        "\n",
        "            // There could be multiple sequences; naturally we take the shortest\n",
        "            // one.\n",
        "\n",
        "            var keys = indirectionLevel == levels ? numpad : dirpad;\n",
        "            Keypad keypad = new(keys);\n",
        "\n",
        "            result = keypad.GetSequences(a, b)\n",
        "                        .Min(seq =\u003E GetMinCost(seq, levels, indirectionLevel-1));\n",
        "            \n",
        "            costCache[cacheKey] = result;\n",
        "\n",
        "            return result;\n",
        "        }\n",
        "    }\n",
        "}"
      ]
    },
    {
      "cell_type": "code",
      "execution_count": 16,
      "metadata": {
        "dotnet_interactive": {
          "language": "csharp"
        },
        "polyglot_notebook": {
          "kernelName": "csharp"
        },
        "vscode": {
          "languageId": "polyglot-notebook"
        }
      },
      "outputs": [
        {
          "name": "stdout",
          "output_type": "stream",
          "text": [
            "126384\n",
            "248108\n"
          ]
        }
      ],
      "source": [
        "// Re-test part 1 with the new algorithm:\n",
        "\n",
        "long GetComplexity2(string combo, int levels)\n",
        "{\n",
        "    var numericPart = int.Parse(combo[0..3]);\n",
        "    \n",
        "    var shortestSequence = GetMinCost(combo, levels);\n",
        "\n",
        "    return numericPart * shortestSequence;\n",
        "}\n",
        "\n",
        "long GetComplexityPt1(string combo) =\u003E GetComplexity2(combo, 3);\n",
        "\n",
        "var testAnswerV2 = testInputLines.Select(GetComplexityPt1).Sum();\n",
        "Console.WriteLine(testAnswerV2);\n",
        "\n",
        "var part1AnswerV2 = inputLines.Select(GetComplexityPt1).Sum();\n",
        "Console.WriteLine(part1AnswerV2);"
      ]
    },
    {
      "cell_type": "code",
      "execution_count": 17,
      "metadata": {
        "dotnet_interactive": {
          "language": "csharp"
        },
        "polyglot_notebook": {
          "kernelName": "csharp"
        },
        "vscode": {
          "languageId": "polyglot-notebook"
        }
      },
      "outputs": [
        {
          "name": "stdout",
          "output_type": "stream",
          "text": [
            "303836969158972\n"
          ]
        }
      ],
      "source": [
        "// Find the fewest number of button presses you\u0027ll need to perform in order to\n",
        "// cause the robot in front of the door to type each code. What is the sum of the\n",
        "// complexities of the five codes on your list?\n",
        "\n",
        "var part2Answer = inputLines.Select(line =\u003E GetComplexity2(line, 26)).Sum();\n",
        "Console.WriteLine(part2Answer);"
      ]
    },
    {
      "cell_type": "code",
      "execution_count": 18,
      "metadata": {
        "dotnet_interactive": {
          "language": "csharp"
        },
        "polyglot_notebook": {
          "kernelName": "csharp"
        },
        "vscode": {
          "languageId": "polyglot-notebook"
        }
      },
      "outputs": [],
      "source": [
        "// 303836969158972 is correct\n",
        "Ensure(303836969158972, part2Answer);"
      ]
    }
  ],
  "metadata": {
    "kernelspec": {
      "display_name": ".NET (C#)",
      "language": "C#",
      "name": ".net-csharp"
    },
    "language_info": {
      "name": "python"
    },
    "polyglot_notebook": {
      "kernelInfo": {
        "defaultKernelName": "csharp",
        "items": [
          {
            "aliases": [],
            "name": "csharp"
          }
        ]
      }
    }
  },
  "nbformat": 4,
  "nbformat_minor": 2
}