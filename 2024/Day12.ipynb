{
  "cells": [
    {
      "cell_type": "markdown",
      "metadata": {
        "vscode": {
          "languageId": "polyglot-notebook"
        }
      },
      "source": [
        "### --- Day 12: Garden Groups ---\n",
        "\n",
        "Puzzle description redacted as-per Advent of Code guidelines\n",
        "\n",
        "You may find the puzzle description at: https://adventofcode.com/2024/day/12"
      ]
    },
    {
      "cell_type": "code",
      "execution_count": 2,
      "metadata": {
        "vscode": {
          "languageId": "polyglot-notebook"
        }
      },
      "outputs": [],
      "source": [
        "#!import ../Utils.ipynb"
      ]
    },
    {
      "cell_type": "code",
      "execution_count": 3,
      "metadata": {
        "vscode": {
          "languageId": "polyglot-notebook"
        }
      },
      "outputs": [
        {
          "name": "stdout",
          "output_type": "stream",
          "text": [
            "Loading puzzle file: Day12.txt\n",
            "Total lines: 140\n",
            "Max line length: 140\n",
            "\n",
            "RRRRRRRRRRRRRRRRKKKKKKKKRRRRRRRRRRRRRRRRRRRROOPOOOOOOOOGOOONYYYYYYEDDDDDDDDDDDLLLLLLLLOOOOOOOOOOOOOOOXVVXHHHHHHHHHHLLLLLLLLLLLLLLJJJJJJJJJJC\n",
            "RRRRRRRRRRRRRRRRKKKKKKKKKRRRRRRRRRRRRRRRRRRRROOOOOOOOOOOOOOYXYYYYKEDDDDDDDIIIDLLLLLLLLLLOOOOOOOOOOOOOXXXXHHHHHHHLLLLLLLLLLLLLLLLJJJJJJJJJJJC\n",
            "RRRRRRRRRRRRRRKKKKKKKKKKRRRRRRRRRRRRRRRRRRRRROOOOOOOOOOOOOOYYYYYYKEDDDDDDDDDILLLLLLLLLLLOOOOOOOOOOOOOOXXXXXXXHHHHHLLLLLLLLLLLLLJJJJJJJJJJJJC\n",
            "RRRRRRRRRRRRKKKKKKKKKKKKKRRRRRRRRRRRRRRRRRRRROOOOOOOOOOOOOOOOYYYYKDDDDDDDDDDIILLLLLLLLLLOOOOOOOOOOOOOOXXXXXXXHHHHHLLLLLLLLLLLLLLJJJJJJJJJJJC\n",
            "RRRRRRRRRRRRKKKKKKKKKKKKKERREREERRRRRMMMRRRROOOOOOOOOOOOOOOOYYYYYKKDDDDDDDDDDDDLLLLLLLLOOOOOOOOOOOOOOOXXXXXXXHHHHLLLLLLLLLLLLLLJJJJJJJJJJAAA\n"
          ]
        }
      ],
      "source": [
        "var inputLines = LoadPuzzleInput(2024, 12);\n",
        "WriteLines(inputLines);"
      ]
    },
    {
      "cell_type": "code",
      "execution_count": 4,
      "metadata": {
        "vscode": {
          "languageId": "polyglot-notebook"
        }
      },
      "outputs": [],
      "source": [
        "string[] testInputLinesSmall = [\n",
        "    \u0022AAAA\u0022,\n",
        "    \u0022BBCD\u0022,\n",
        "    \u0022BBCC\u0022,\n",
        "    \u0022EEEC\u0022,\n",
        "];"
      ]
    },
    {
      "cell_type": "markdown",
      "metadata": {},
      "source": [
        "Let\u0027s model the group: a collection of points with the same plant type."
      ]
    },
    {
      "cell_type": "code",
      "execution_count": 5,
      "metadata": {
        "vscode": {
          "languageId": "polyglot-notebook"
        }
      },
      "outputs": [],
      "source": [
        "class Group\n",
        "{\n",
        "    public Group(char plantType, Point initialMember)\n",
        "    {\n",
        "        PlantType = plantType;\n",
        "        Members.Add(initialMember);\n",
        "    }\n",
        "\n",
        "    public char PlantType { get; }\n",
        "    public HashSet\u003CPoint\u003E Members { get; } = new();\n",
        "}"
      ]
    },
    {
      "cell_type": "markdown",
      "metadata": {},
      "source": [
        "We need to find the groups. We can do this by picking a point and walking the graph for neighbours of the same type:"
      ]
    },
    {
      "cell_type": "code",
      "execution_count": 6,
      "metadata": {
        "vscode": {
          "languageId": "polyglot-notebook"
        }
      },
      "outputs": [],
      "source": [
        "IEnumerable\u003CGroup\u003E FindGroups(CharGrid grid)\n",
        "{\n",
        "    HashSet\u003CPoint\u003E grouped = new();\n",
        "    var getNeighbours = (Point origin) =\u003E UDLR.Select(dir =\u003E origin \u002B dir).Where(p =\u003E grid.IsValid(p));\n",
        "\n",
        "    foreach (var (point, ch) in grid.Enumerate())\n",
        "    {\n",
        "        if (grouped.Contains(point)) { continue; }\n",
        "\n",
        "        Group newGroup = new(ch, point);\n",
        "\n",
        "        var getMatchingNeighbours = (Point origin) =\u003E getNeighbours(origin).Where(n =\u003E grid[n] == newGroup.PlantType);\n",
        "        foreach (var neighbour in BFS(point, getMatchingNeighbours))\n",
        "        {\n",
        "            newGroup.Members.Add(neighbour);\n",
        "            grouped.Add(neighbour);\n",
        "        }\n",
        "\n",
        "        yield return newGroup;\n",
        "    }\n",
        "}\n",
        "\n",
        "Point[] UDLR = [Up, Down, Left, Right];\n"
      ]
    },
    {
      "cell_type": "markdown",
      "metadata": {},
      "source": [
        "Now that we have the groups, the rest is fairly straightforward:"
      ]
    },
    {
      "cell_type": "code",
      "execution_count": 7,
      "metadata": {
        "vscode": {
          "languageId": "polyglot-notebook"
        }
      },
      "outputs": [],
      "source": [
        "int GetTotalPrice(string[] inputLines)\n",
        "{\n",
        "    CharGrid grid = new(inputLines);\n",
        "    var groups = FindGroups(grid);\n",
        "\n",
        "    return groups.Select(GetPrice).Sum();\n",
        "}\n",
        "\n",
        "int GetPrice(Group group)\n",
        "{\n",
        "    var area = group.Members.Count;\n",
        "    var perimeter = area * 4;\n",
        "\n",
        "    var internalEdges = from point in @group.Members\n",
        "                        from neighbour in UDLR.Select(dir =\u003E point \u002B dir)\n",
        "                        where @group.Members.Contains(neighbour)\n",
        "                        select 1;\n",
        "\n",
        "    perimeter -= internalEdges.Sum();\n",
        "\n",
        "    return area * perimeter;\n",
        "}"
      ]
    },
    {
      "cell_type": "code",
      "execution_count": 8,
      "metadata": {
        "vscode": {
          "languageId": "polyglot-notebook"
        }
      },
      "outputs": [
        {
          "name": "stdout",
          "output_type": "stream",
          "text": [
            "140\n"
          ]
        }
      ],
      "source": [
        "// In the first example, region A has price 4 * 10 = 40, region B has price 4 *\n",
        "// 8 = 32, region C has price 4 * 10 = 40, region D has price 1 * 4 = 4, and region\n",
        "// E has price 3 * 8 = 24. So, the total price for the first example is 140.\n",
        "\n",
        "var smallTestAnswer = GetTotalPrice(testInputLinesSmall);\n",
        "Console.WriteLine(smallTestAnswer);"
      ]
    },
    {
      "cell_type": "code",
      "execution_count": 9,
      "metadata": {
        "vscode": {
          "languageId": "polyglot-notebook"
        }
      },
      "outputs": [
        {
          "name": "stdout",
          "output_type": "stream",
          "text": [
            "772\n"
          ]
        }
      ],
      "source": [
        "// In the second example, the region with all of the O plants has price 21 * 36\n",
        "// = 756, and each of the four smaller X regions has price 1 * 4 = 4, for a total\n",
        "// price of 772 (756 \u002B 4 \u002B 4 \u002B 4 \u002B 4).\n",
        "\n",
        "string[] testInputLinesX = [\n",
        "    \u0022OOOOO\u0022,\n",
        "    \u0022OXOXO\u0022,\n",
        "    \u0022OOOOO\u0022,\n",
        "    \u0022OXOXO\u0022,\n",
        "    \u0022OOOOO\u0022,\n",
        "];\n",
        "var xTestAnswer = GetTotalPrice(testInputLinesX);\n",
        "Console.WriteLine(xTestAnswer);"
      ]
    },
    {
      "cell_type": "code",
      "execution_count": 10,
      "metadata": {
        "vscode": {
          "languageId": "polyglot-notebook"
        }
      },
      "outputs": [
        {
          "name": "stdout",
          "output_type": "stream",
          "text": [
            "1930\n"
          ]
        }
      ],
      "source": [
        "// Here\u0027s a larger example... So, it has a total price of 1930.\n",
        "\n",
        "string[] testInputLinesLarge = [\n",
        "    \u0022RRRRIICCFF\u0022,\n",
        "    \u0022RRRRIICCCF\u0022,\n",
        "    \u0022VVRRRCCFFF\u0022,\n",
        "    \u0022VVRCCCJFFF\u0022,\n",
        "    \u0022VVVVCJJCFE\u0022,\n",
        "    \u0022VVIVCCJJEE\u0022,\n",
        "    \u0022VVIIICJJEE\u0022,\n",
        "    \u0022MIIIIIJJEE\u0022,\n",
        "    \u0022MIIISIJEEE\u0022,\n",
        "    \u0022MMMISSJEEE\u0022,\n",
        "];\n",
        "\n",
        "var largeTestAnswer = GetTotalPrice(testInputLinesLarge);\n",
        "Console.WriteLine(largeTestAnswer);"
      ]
    },
    {
      "cell_type": "code",
      "execution_count": 11,
      "metadata": {
        "vscode": {
          "languageId": "polyglot-notebook"
        }
      },
      "outputs": [
        {
          "name": "stdout",
          "output_type": "stream",
          "text": [
            "1375476\n"
          ]
        }
      ],
      "source": [
        "// What is the total price of fencing all regions on your map?\n",
        "\n",
        "var part1Answer = GetTotalPrice(inputLines);\n",
        "Console.WriteLine(part1Answer);"
      ]
    },
    {
      "cell_type": "code",
      "execution_count": 12,
      "metadata": {
        "vscode": {
          "languageId": "polyglot-notebook"
        }
      },
      "outputs": [],
      "source": [
        "// 1375476 is correct!\n",
        "Ensure(1375476, part1Answer);"
      ]
    }
  ],
  "metadata": {
    "kernelspec": {
      "display_name": ".NET (C#)",
      "language": "C#",
      "name": ".net-csharp"
    },
    "language_info": {
      "name": "python"
    },
    "polyglot_notebook": {
      "kernelInfo": {
        "defaultKernelName": "csharp",
        "items": [
          {
            "aliases": [],
            "name": "csharp"
          }
        ]
      }
    }
  },
  "nbformat": 4,
  "nbformat_minor": 2
}