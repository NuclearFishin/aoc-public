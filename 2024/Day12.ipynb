{
  "cells": [
    {
      "cell_type": "markdown",
      "metadata": {
        "vscode": {
          "languageId": "polyglot-notebook"
        }
      },
      "source": [
        "### --- Day 12: Garden Groups ---\n",
        "\n",
        "Puzzle description redacted as-per Advent of Code guidelines\n",
        "\n",
        "You may find the puzzle description at: https://adventofcode.com/2024/day/12"
      ]
    },
    {
      "cell_type": "code",
      "execution_count": 2,
      "metadata": {
        "vscode": {
          "languageId": "polyglot-notebook"
        }
      },
      "outputs": [],
      "source": [
        "#!import ../Utils.ipynb"
      ]
    },
    {
      "cell_type": "code",
      "execution_count": 3,
      "metadata": {
        "vscode": {
          "languageId": "polyglot-notebook"
        }
      },
      "outputs": [
        {
          "name": "stdout",
          "output_type": "stream",
          "text": [
            "Loading puzzle file: Day12.txt\n",
            "Total lines: 140\n",
            "Max line length: 140\n",
            "\n",
            "RRRRRRRRRRRRRRRRKKKKKKKKRRRRRRRRRRRRRRRRRRRROOPOOOOOOOOGOOONYYYYYYEDDDDDDDDDDDLLLLLLLLOOOOOOOOOOOOOOOXVVXHHHHHHHHHHLLLLLLLLLLLLLLJJJJJJJJJJC\n",
            "RRRRRRRRRRRRRRRRKKKKKKKKKRRRRRRRRRRRRRRRRRRRROOOOOOOOOOOOOOYXYYYYKEDDDDDDDIIIDLLLLLLLLLLOOOOOOOOOOOOOXXXXHHHHHHHLLLLLLLLLLLLLLLLJJJJJJJJJJJC\n",
            "RRRRRRRRRRRRRRKKKKKKKKKKRRRRRRRRRRRRRRRRRRRRROOOOOOOOOOOOOOYYYYYYKEDDDDDDDDDILLLLLLLLLLLOOOOOOOOOOOOOOXXXXXXXHHHHHLLLLLLLLLLLLLJJJJJJJJJJJJC\n",
            "RRRRRRRRRRRRKKKKKKKKKKKKKRRRRRRRRRRRRRRRRRRRROOOOOOOOOOOOOOOOYYYYKDDDDDDDDDDIILLLLLLLLLLOOOOOOOOOOOOOOXXXXXXXHHHHHLLLLLLLLLLLLLLJJJJJJJJJJJC\n",
            "RRRRRRRRRRRRKKKKKKKKKKKKKERREREERRRRRMMMRRRROOOOOOOOOOOOOOOOYYYYYKKDDDDDDDDDDDDLLLLLLLLOOOOOOOOOOOOOOOXXXXXXXHHHHLLLLLLLLLLLLLLJJJJJJJJJJAAA\n"
          ]
        }
      ],
      "source": [
        "var inputLines = LoadPuzzleInput(2024, 12);\n",
        "WriteLines(inputLines);"
      ]
    },
    {
      "cell_type": "code",
      "execution_count": 4,
      "metadata": {
        "vscode": {
          "languageId": "polyglot-notebook"
        }
      },
      "outputs": [],
      "source": [
        "string[] testInputLinesSmall = [\n",
        "    \u0022AAAA\u0022,\n",
        "    \u0022BBCD\u0022,\n",
        "    \u0022BBCC\u0022,\n",
        "    \u0022EEEC\u0022,\n",
        "];"
      ]
    },
    {
      "cell_type": "markdown",
      "metadata": {},
      "source": [
        "Let\u0027s model the group: a collection of points with the same plant type."
      ]
    },
    {
      "cell_type": "code",
      "execution_count": 5,
      "metadata": {
        "vscode": {
          "languageId": "polyglot-notebook"
        }
      },
      "outputs": [],
      "source": [
        "class Group\n",
        "{\n",
        "    public Group(char plantType, Point initialMember)\n",
        "    {\n",
        "        PlantType = plantType;\n",
        "        Members.Add(initialMember);\n",
        "    }\n",
        "\n",
        "    public char PlantType { get; }\n",
        "    public HashSet\u003CPoint\u003E Members { get; } = new();\n",
        "}"
      ]
    },
    {
      "cell_type": "markdown",
      "metadata": {},
      "source": [
        "We need to find the groups. We can do this by picking a point and walking the graph for neighbours of the same type:"
      ]
    },
    {
      "cell_type": "code",
      "execution_count": 6,
      "metadata": {
        "vscode": {
          "languageId": "polyglot-notebook"
        }
      },
      "outputs": [],
      "source": [
        "IEnumerable\u003CGroup\u003E FindGroups(CharGrid grid)\n",
        "{\n",
        "    HashSet\u003CPoint\u003E grouped = new();\n",
        "    var getNeighbours = (Point origin) =\u003E UDLR.Select(dir =\u003E origin \u002B dir).Where(p =\u003E grid.IsValid(p));\n",
        "\n",
        "    foreach (var (point, ch) in grid.Enumerate())\n",
        "    {\n",
        "        if (grouped.Contains(point)) { continue; }\n",
        "\n",
        "        Group newGroup = new(ch, point);\n",
        "\n",
        "        var getMatchingNeighbours = (Point origin) =\u003E getNeighbours(origin).Where(n =\u003E grid[n] == newGroup.PlantType);\n",
        "        foreach (var neighbour in BFS(point, getMatchingNeighbours))\n",
        "        {\n",
        "            newGroup.Members.Add(neighbour);\n",
        "            grouped.Add(neighbour);\n",
        "        }\n",
        "\n",
        "        yield return newGroup;\n",
        "    }\n",
        "}\n",
        "\n",
        "Point[] UDLR = [Up, Down, Left, Right];\n"
      ]
    },
    {
      "cell_type": "markdown",
      "metadata": {},
      "source": [
        "Now that we have the groups, the rest is fairly straightforward:"
      ]
    },
    {
      "cell_type": "code",
      "execution_count": 7,
      "metadata": {
        "vscode": {
          "languageId": "polyglot-notebook"
        }
      },
      "outputs": [],
      "source": [
        "int GetTotalPrice(string[] inputLines)\n",
        "{\n",
        "    CharGrid grid = new(inputLines);\n",
        "    var groups = FindGroups(grid);\n",
        "\n",
        "    return groups.Select(GetPrice).Sum();\n",
        "}\n",
        "\n",
        "int GetPrice(Group group)\n",
        "{\n",
        "    var area = group.Members.Count;\n",
        "    var perimeter = area * 4;\n",
        "\n",
        "    var internalEdges = from point in @group.Members\n",
        "                        from neighbour in UDLR.Select(dir =\u003E point \u002B dir)\n",
        "                        where @group.Members.Contains(neighbour)\n",
        "                        select 1;\n",
        "\n",
        "    perimeter -= internalEdges.Sum();\n",
        "\n",
        "    return area * perimeter;\n",
        "}"
      ]
    },
    {
      "cell_type": "code",
      "execution_count": 8,
      "metadata": {
        "vscode": {
          "languageId": "polyglot-notebook"
        }
      },
      "outputs": [
        {
          "name": "stdout",
          "output_type": "stream",
          "text": [
            "140\n"
          ]
        }
      ],
      "source": [
        "// In the first example, region A has price 4 * 10 = 40, region B has price 4 *\n",
        "// 8 = 32, region C has price 4 * 10 = 40, region D has price 1 * 4 = 4, and region\n",
        "// E has price 3 * 8 = 24. So, the total price for the first example is 140.\n",
        "\n",
        "var smallTestAnswer = GetTotalPrice(testInputLinesSmall);\n",
        "Console.WriteLine(smallTestAnswer);"
      ]
    },
    {
      "cell_type": "code",
      "execution_count": 9,
      "metadata": {
        "vscode": {
          "languageId": "polyglot-notebook"
        }
      },
      "outputs": [
        {
          "name": "stdout",
          "output_type": "stream",
          "text": [
            "772\n"
          ]
        }
      ],
      "source": [
        "// In the second example, the region with all of the O plants has price 21 * 36\n",
        "// = 756, and each of the four smaller X regions has price 1 * 4 = 4, for a total\n",
        "// price of 772 (756 \u002B 4 \u002B 4 \u002B 4 \u002B 4).\n",
        "\n",
        "string[] testInputLinesX = [\n",
        "    \u0022OOOOO\u0022,\n",
        "    \u0022OXOXO\u0022,\n",
        "    \u0022OOOOO\u0022,\n",
        "    \u0022OXOXO\u0022,\n",
        "    \u0022OOOOO\u0022,\n",
        "];\n",
        "var xTestAnswer = GetTotalPrice(testInputLinesX);\n",
        "Console.WriteLine(xTestAnswer);"
      ]
    },
    {
      "cell_type": "code",
      "execution_count": 10,
      "metadata": {
        "vscode": {
          "languageId": "polyglot-notebook"
        }
      },
      "outputs": [
        {
          "name": "stdout",
          "output_type": "stream",
          "text": [
            "1930\n"
          ]
        }
      ],
      "source": [
        "// Here\u0027s a larger example... So, it has a total price of 1930.\n",
        "\n",
        "string[] testInputLinesLarge = [\n",
        "    \u0022RRRRIICCFF\u0022,\n",
        "    \u0022RRRRIICCCF\u0022,\n",
        "    \u0022VVRRRCCFFF\u0022,\n",
        "    \u0022VVRCCCJFFF\u0022,\n",
        "    \u0022VVVVCJJCFE\u0022,\n",
        "    \u0022VVIVCCJJEE\u0022,\n",
        "    \u0022VVIIICJJEE\u0022,\n",
        "    \u0022MIIIIIJJEE\u0022,\n",
        "    \u0022MIIISIJEEE\u0022,\n",
        "    \u0022MMMISSJEEE\u0022,\n",
        "];\n",
        "\n",
        "var largeTestAnswer = GetTotalPrice(testInputLinesLarge);\n",
        "Console.WriteLine(largeTestAnswer);"
      ]
    },
    {
      "cell_type": "code",
      "execution_count": 11,
      "metadata": {
        "vscode": {
          "languageId": "polyglot-notebook"
        }
      },
      "outputs": [
        {
          "name": "stdout",
          "output_type": "stream",
          "text": [
            "1375476\n"
          ]
        }
      ],
      "source": [
        "// What is the total price of fencing all regions on your map?\n",
        "\n",
        "var part1Answer = GetTotalPrice(inputLines);\n",
        "Console.WriteLine(part1Answer);"
      ]
    },
    {
      "cell_type": "code",
      "execution_count": 12,
      "metadata": {
        "vscode": {
          "languageId": "polyglot-notebook"
        }
      },
      "outputs": [],
      "source": [
        "// 1375476 is correct!\n",
        "Ensure(1375476, part1Answer);"
      ]
    },
    {
      "cell_type": "markdown",
      "metadata": {
        "vscode": {
          "languageId": "polyglot-notebook"
        }
      },
      "source": [
        "### --- Part Two ---\n",
        "\n",
        "Puzzle description redacted as-per Advent of Code guidelines\n",
        "\n",
        "You may find the puzzle description at: https://adventofcode.com/2024/day/12"
      ]
    },
    {
      "cell_type": "markdown",
      "metadata": {},
      "source": [
        "We know a member of a group has a top fence if the neighbour above it is not part of our group. Similarly for bottom, left, right.\n",
        "\n",
        "Sticking with top, we know fence is part of a side if it\u0027s adjacent to another fence on the same row. If there\u0027s a gap, or if it\u0027s a different row, they can\u0027t possibly be part of the same side.\n",
        "\n",
        "Again we can apply similar logic for bottom, left, right."
      ]
    },
    {
      "cell_type": "code",
      "execution_count": 14,
      "metadata": {
        "vscode": {
          "languageId": "polyglot-notebook"
        }
      },
      "outputs": [],
      "source": [
        "int GetTotalPrice2(string[] inputLines)\n",
        "{\n",
        "    CharGrid grid = new(inputLines);\n",
        "    var groups = FindGroups(grid);\n",
        "\n",
        "    return groups.Select(GetPrice2).Sum();\n",
        "}\n",
        "\n",
        "int GetPrice2(Group group)\n",
        "{\n",
        "    var area = group.Members.Count;\n",
        "\n",
        "    int totalSideCount = 0;\n",
        "    totalSideCount \u002B= CountSides(group, Up);\n",
        "    totalSideCount \u002B= CountSides(group, Down);\n",
        "    totalSideCount \u002B= CountSides(group, Left, transpose: true);\n",
        "    totalSideCount \u002B= CountSides(group, Right, transpose: true);\n",
        "\n",
        "    return totalSideCount * area;\n",
        "}\n",
        "\n",
        "int CountSides(Group group, Point direction, bool transpose = false)\n",
        "{\n",
        "    var points = group.Members.Where(point =\u003E !group.Members.Contains(point \u002B direction));\n",
        "    if (transpose) {\n",
        "        points = points.Select(p =\u003E new Point(p.Y, p.X));\n",
        "    }\n",
        "\n",
        "    var orderedPoints = points.OrderBy(p =\u003E (p.Y, p.X)).ToList();\n",
        "    return 1 \u002B orderedPoints.Zip(orderedPoints[1..]).Where(op =\u003E (op.Second - op.First != Right)).Count();\n",
        "}"
      ]
    },
    {
      "cell_type": "code",
      "execution_count": 15,
      "metadata": {
        "vscode": {
          "languageId": "polyglot-notebook"
        }
      },
      "outputs": [
        {
          "name": "stdout",
          "output_type": "stream",
          "text": [
            "236\n"
          ]
        }
      ],
      "source": [
        "// Here\u0027s a map that includes an E-shaped region full of type E plants:\n",
        "// ...\n",
        "// Including the two regions full of type X plants, this map has a total price of 236.\n",
        "\n",
        "string[] testInputE = [\n",
        "    \u0022EEEEE\u0022,\n",
        "    \u0022EXXXX\u0022,\n",
        "    \u0022EEEEE\u0022,\n",
        "    \u0022EXXXX\u0022,\n",
        "    \u0022EEEEE\u0022,\n",
        "];\n",
        "var part2TestAnswerE = GetTotalPrice2(testInputE);\n",
        "Console.WriteLine(part2TestAnswerE);"
      ]
    },
    {
      "cell_type": "code",
      "execution_count": 16,
      "metadata": {
        "vscode": {
          "languageId": "polyglot-notebook"
        }
      },
      "outputs": [
        {
          "name": "stdout",
          "output_type": "stream",
          "text": [
            "368\n"
          ]
        }
      ],
      "source": [
        "// This map has a total price of 368:\n",
        "\n",
        "string[] testInputF = [\n",
        "    \u0022AAAAAA\u0022,\n",
        "    \u0022AAABBA\u0022,\n",
        "    \u0022AAABBA\u0022,\n",
        "    \u0022ABBAAA\u0022,\n",
        "    \u0022ABBAAA\u0022,\n",
        "    \u0022AAAAAA\u0022,\n",
        "];\n",
        "var part2TestAnswerF = GetTotalPrice2(testInputF);\n",
        "Console.WriteLine(part2TestAnswerF);"
      ]
    },
    {
      "cell_type": "code",
      "execution_count": 17,
      "metadata": {
        "vscode": {
          "languageId": "polyglot-notebook"
        }
      },
      "outputs": [
        {
          "name": "stdout",
          "output_type": "stream",
          "text": [
            "1206\n"
          ]
        }
      ],
      "source": [
        "// The larger example from before now has the following updated prices:\n",
        "// ...\n",
        "// Adding these together produces its new total price of 1206.\n",
        "\n",
        "var part2LargeTestAnswer = GetTotalPrice2(testInputLinesLarge);\n",
        "Console.WriteLine(part2LargeTestAnswer);"
      ]
    },
    {
      "cell_type": "code",
      "execution_count": 18,
      "metadata": {
        "vscode": {
          "languageId": "polyglot-notebook"
        }
      },
      "outputs": [
        {
          "name": "stdout",
          "output_type": "stream",
          "text": [
            "821372\n"
          ]
        }
      ],
      "source": [
        "// What is the new total price of fencing all regions on your map?\n",
        "\n",
        "var part2Answer = GetTotalPrice2(inputLines);\n",
        "Console.WriteLine(part2Answer);"
      ]
    },
    {
      "cell_type": "code",
      "execution_count": 19,
      "metadata": {
        "vscode": {
          "languageId": "polyglot-notebook"
        }
      },
      "outputs": [],
      "source": [
        "// 821372 is correct!\n",
        "Ensure(821372, part2Answer);"
      ]
    }
  ],
  "metadata": {
    "kernelspec": {
      "display_name": ".NET (C#)",
      "language": "C#",
      "name": ".net-csharp"
    },
    "language_info": {
      "name": "python"
    },
    "polyglot_notebook": {
      "kernelInfo": {
        "defaultKernelName": "csharp",
        "items": [
          {
            "aliases": [],
            "name": "csharp"
          }
        ]
      }
    }
  },
  "nbformat": 4,
  "nbformat_minor": 2
}