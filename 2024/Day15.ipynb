{
  "cells": [
    {
      "cell_type": "markdown",
      "metadata": {
        "dotnet_interactive": {
          "language": "csharp"
        },
        "polyglot_notebook": {
          "kernelName": "csharp"
        },
        "vscode": {
          "languageId": "polyglot-notebook"
        }
      },
      "source": [
        "### --- Day 15: Warehouse Woes ---\n",
        "\n",
        "Puzzle description redacted as-per Advent of Code guidelines\n",
        "\n",
        "You may find the puzzle description at: https://adventofcode.com/2024/day/15"
      ]
    },
    {
      "cell_type": "code",
      "execution_count": 2,
      "metadata": {
        "dotnet_interactive": {
          "language": "csharp"
        },
        "polyglot_notebook": {
          "kernelName": "csharp"
        },
        "vscode": {
          "languageId": "polyglot-notebook"
        }
      },
      "outputs": [],
      "source": [
        "#!import ../Utils.ipynb"
      ]
    },
    {
      "cell_type": "code",
      "execution_count": 3,
      "metadata": {
        "dotnet_interactive": {
          "language": "csharp"
        },
        "polyglot_notebook": {
          "kernelName": "csharp"
        },
        "vscode": {
          "languageId": "polyglot-notebook"
        }
      },
      "outputs": [
        {
          "name": "stdout",
          "output_type": "stream",
          "text": [
            "Loading puzzle file: Day15.txt\n",
            "Total lines: 71\n",
            "Max line length: 1000\n",
            "\n",
            "##################################################\n",
            "#.#O.O...#..##O.#.O...#OO.O....O.O#....#.....#.OO#\n",
            "#...O..O...O.....O...#...OOO.O..#.....OO....##O..#\n",
            "#O....O........O#........O#O..O.#.O..OO.O.O.O.OO.#\n",
            "#....#......O...O...O....#.O.OO.OOO.#OOOO.#...#..#\n",
            "\n",
            "vv^\u003Evv\u003C\u003C\u003Ev\u003E^^v\u003E\u003E\u003C\u003C\u003Evv^\u003E^\u003E\u003C\u003C\u003Ev^\u003Cvv\u003E^\u003C\u003E\u003C\u003E\u003C\u003C\u003E\u003Cvv^v^\u003Ev\n",
            "\u003Evvvvv^\u003C\u003E\u003Cv\u003C\u003Cv^\u003E\u003Cvv^\u003E^^\u003Cvvv\u003C^^\u003Cv\u003E\u003C^\u003E\u003Ev\u003E\u003Ev\u003E\u003E^vv\u003C\u003E\u003Ev\n",
            "\u003C^\u003E^^v^\u003C\u003C\u003E\u003C\u003C\u003E\u003E^\u003E\u003C\u003C^\u003E\u003Cv^\u003E^\u003C\u003E\u003E^^\u003C\u003E^\u003Ev\u003C\u003E\u003E\u003Cv^v\u003Cv\u003C^\u003E^v\u003C\n",
            "\u003C^\u003E\u003C^\u003C^\u003C\u003C^\u003C\u003E\u003C\u003E\u003C\u003C\u003C\u003E^\u003C^\u003C\u003E^vvv\u003C\u003C^\u003Cvv\u003C^\u003C^\u003Cv^\u003E^v\u003E\u003Cv\u003E\u003Ev\u003E\n",
            "^v^\u003E\u003E\u003C^\u003E^\u003C\u003C^\u003C\u003E\u003Ev^\u003C^v^v\u003E\u003E\u003C^\u003C\u003E^\u003Cv\u003C^v\u003Cv\u003C\u003Ev^\u003C\u003E\u003C^vv\u003C^vv\n"
          ]
        }
      ],
      "source": [
        "var inputLines = LoadPuzzleInput(2024, 15);\n",
        "var (inputMapLines, inputMoveLines) = inputLines.SeparateBy(line =\u003E line is \u0022\u0022).ToArray();\n",
        "WriteLines(inputMapLines);\n",
        "Console.WriteLine();\n",
        "WriteLines(inputMoveLines, maxCols: 50);"
      ]
    },
    {
      "cell_type": "code",
      "execution_count": 4,
      "metadata": {
        "dotnet_interactive": {
          "language": "csharp"
        },
        "polyglot_notebook": {
          "kernelName": "csharp"
        },
        "vscode": {
          "languageId": "polyglot-notebook"
        }
      },
      "outputs": [],
      "source": [
        "string[] testInputMapLines = [\n",
        "    \u0022##########\u0022,\n",
        "    \u0022#..O..O.O#\u0022,\n",
        "    \u0022#......O.#\u0022,\n",
        "    \u0022#.OO..O.O#\u0022,\n",
        "    \u0022#..O@..O.#\u0022,\n",
        "    \u0022#O#..O...#\u0022,\n",
        "    \u0022#O..O..O.#\u0022,\n",
        "    \u0022#.OO.O.OO#\u0022,\n",
        "    \u0022#....O...#\u0022,\n",
        "    \u0022##########\u0022,\n",
        "];\n",
        "\n",
        "string[] testInputMapMoves = [\n",
        "    \u0022\u003Cvv\u003E^\u003Cv^\u003Ev\u003E^vv^v\u003Ev\u003C\u003Ev^v\u003Cv\u003C^vv\u003C\u003C\u003C^\u003E\u003C\u003C\u003E\u003C\u003E\u003Ev\u003Cvvv\u003C\u003E^v^\u003E^\u003C\u003C\u003C\u003E\u003C\u003Cv\u003C\u003C\u003Cv^vv^v\u003E^\u0022,\n",
        "    \u0022vvv\u003C\u003C^\u003E^v^^\u003E\u003C\u003C\u003E\u003E\u003E\u003C\u003E^\u003C\u003C\u003E\u003C^vv^^\u003C\u003Evvv\u003C\u003E\u003E\u003C^^v\u003E^\u003Evv\u003C\u003Ev\u003C\u003C\u003C\u003Cv\u003C^v\u003E^\u003C^^\u003E\u003E\u003E^\u003Cv\u003Cv\u0022,\n",
        "    \u0022\u003E\u003C\u003Evv\u003Ev^v^\u003C\u003E\u003E\u003C\u003E\u003E\u003E\u003E\u003C^^\u003Evv\u003Ev\u003C^^^\u003E\u003Ev^v^\u003C^^\u003Ev^^\u003Ev^\u003C^v\u003Ev\u003C\u003E\u003Ev^v^\u003Cv\u003Ev^^\u003C^^vv\u003C\u0022,\n",
        "    \u0022\u003C\u003Cv\u003C^\u003E\u003E^^^^\u003E\u003E\u003Ev^\u003C\u003Evvv^\u003E\u003Cv\u003C\u003C\u003C\u003E^^^vv^\u003Cvvv\u003E^\u003Ev\u003C^^^^v\u003C\u003E^\u003Evvvv\u003E\u003C\u003E\u003Ev^\u003C\u003C^^^^^\u0022,\n",
        "    \u0022^\u003E\u003C^\u003E\u003C\u003E\u003E\u003E\u003C\u003E^^\u003C\u003C^^v\u003E\u003E\u003E\u003C^\u003Cv\u003E^\u003Cvv\u003E\u003Ev\u003E\u003E\u003E^v\u003E\u003C\u003E^v\u003E\u003C\u003C\u003C\u003Cv\u003E\u003Ev\u003Cv\u003Cv\u003Evvv\u003E^\u003C\u003E\u003C\u003C\u003E^\u003E\u003C\u0022,\n",
        "    \u0022^\u003E\u003E\u003C\u003E^v\u003C\u003E\u003C^vvv\u003C^^\u003C\u003E\u003Cv\u003C\u003C\u003C\u003C\u003C\u003E\u003C^v\u003C\u003C\u003C\u003E\u003C\u003C\u003C^^\u003Cv\u003C^^^\u003E\u003C^\u003E\u003E^\u003Cv^\u003E\u003C\u003C\u003C^\u003E\u003E^v\u003Cv^v\u003Cv^\u0022,\n",
        "    \u0022\u003E^\u003E\u003E^v\u003Evv\u003E^\u003C\u003C^v\u003C\u003E\u003E\u003C\u003C\u003E\u003C\u003Cv\u003C\u003Cv\u003E\u003C\u003Ev\u003C^vv\u003C\u003C\u003C\u003E^^v^\u003E^^\u003E\u003E\u003E\u003C\u003C^v\u003E\u003Ev^v\u003E\u003C^^\u003E\u003E^\u003C\u003Evv^\u0022,\n",
        "    \u0022\u003C\u003E\u003C^^\u003E^^^\u003C\u003E\u003Cvvvvv^v\u003Cv\u003C\u003C\u003E^v\u003Cv\u003Ev\u003C\u003C^\u003E\u003C\u003C\u003E\u003C\u003C\u003E\u003C\u003C\u003C^^\u003C\u003C\u003C^\u003C\u003C\u003E\u003E\u003C\u003C\u003E\u003C^^^\u003E^^\u003C\u003E^\u003Ev\u003C\u003E\u0022,\n",
        "    \u0022^^\u003Evv\u003C^v^v\u003Cvv\u003E^\u003C\u003E\u003Cv\u003C^v\u003E^^^\u003E\u003E\u003E^^vvv^\u003Evvv\u003C\u003E\u003E\u003E^\u003C^\u003E\u003E\u003E\u003E\u003E^\u003C\u003C^v\u003E^vvv\u003C\u003E^\u003C\u003E\u003C\u003Cv\u003E\u0022,\n",
        "    \u0022v^^\u003E\u003E\u003E\u003C\u003C^^\u003C\u003E\u003E^v^\u003Cv^vv\u003C\u003Ev^\u003C\u003C\u003E^\u003C^v^v\u003E\u003C^\u003C\u003C\u003C\u003E\u003C\u003C^\u003Cv\u003E\u003Cv\u003C\u003Evv\u003E\u003Ev\u003E\u003Cv^\u003Cvv\u003C\u003Ev^\u003C\u003C^\u0022,\n",
        "];"
      ]
    },
    {
      "cell_type": "markdown",
      "metadata": {
        "vscode": {
          "languageId": "polyglot-notebook"
        }
      },
      "source": [
        "Part 1 looks fairly straightforward: for a given movement, check all boxes in the direction to be pushed and ensure there is a free space at the end. If so, we can move all the blocks. If not, then we\u0027ve hit a wall and we can\u0027t move."
      ]
    },
    {
      "cell_type": "code",
      "execution_count": 5,
      "metadata": {
        "dotnet_interactive": {
          "language": "csharp"
        },
        "polyglot_notebook": {
          "kernelName": "csharp"
        },
        "vscode": {
          "languageId": "polyglot-notebook"
        }
      },
      "outputs": [],
      "source": [
        "int DoWarehouse(string[] inputMap, string[] inputMoves)\n",
        "{\n",
        "    var grid = new CharGrid(inputMap).Clone();\n",
        "\n",
        "    var robot = grid.Enumerate().Where(g =\u003E g.ch is ROBOT).Single().point;\n",
        "\n",
        "    var moves = inputMoves.SelectMany(moveLine =\u003E moveLine.ToCharArray()).Select(ch =\u003E moveLookup[ch]);\n",
        "    foreach (var direction in moves)\n",
        "    {\n",
        "        robot = Move(grid, robot, direction);\n",
        "    }\n",
        "\n",
        "    var boxCoOrds = grid.Enumerate().Where(g =\u003E g.ch is BOX).Select(g =\u003E GpsCoord(g.point)).Sum();\n",
        "    return boxCoOrds;\n",
        "}\n",
        "\n",
        "Point Move(CharGrid grid, Point robot, Point direction)\n",
        "{\n",
        "    var movements = CheckMove(grid, robot, direction).ToArray();\n",
        "\n",
        "    if (movements[^1] is (_, WALL))\n",
        "    {\n",
        "        // Wall at the end, can\u0027t push\n",
        "        return robot;\n",
        "    }\n",
        "\n",
        "    // Do the move\n",
        "    foreach (var (current, next) in movements.Zip(movements.Skip(1)))\n",
        "    {\n",
        "        grid[next.point] = current.item;\n",
        "    }\n",
        "    \n",
        "    grid[robot] = SPACE;\n",
        "\n",
        "    return robot \u002B direction;\n",
        "}\n",
        "\n",
        "IEnumerable\u003C(Point point, Char item)\u003E CheckMove(CharGrid grid, Point start, Point direction)\n",
        "{\n",
        "    Point checkPoint = start;\n",
        "    var item = grid[checkPoint];\n",
        "\n",
        "    while (true)\n",
        "    {\n",
        "        yield return (checkPoint, item);\n",
        "\n",
        "        if (item is WALL or SPACE)\n",
        "        {\n",
        "            break;\n",
        "        }\n",
        "        checkPoint \u002B= direction;\n",
        "        item = grid[checkPoint];\n",
        "    }\n",
        "}\n",
        "\n",
        "Dictionary\u003Cchar, Point\u003E moveLookup = new() \n",
        "{\n",
        "    { \u0027^\u0027, Up },\n",
        "    { \u0027v\u0027, Down },\n",
        "    { \u0027\u003C\u0027, Left },\n",
        "    { \u0027\u003E\u0027, Right },\n",
        "};\n",
        "\n",
        "const char ROBOT = \u0027@\u0027;\n",
        "const char SPACE = \u0027.\u0027;\n",
        "const char WALL = \u0027#\u0027;\n",
        "const char BOX = \u0027O\u0027;\n",
        "\n",
        "// The GPS coordinate of a box is equal to 100 times its distance from the top\n",
        "// edge of the map plus its distance from the left edge of the map.\n",
        "int GpsCoord(Point point) =\u003E point.X \u002B 100 * point.Y;"
      ]
    },
    {
      "cell_type": "code",
      "execution_count": 6,
      "metadata": {
        "dotnet_interactive": {
          "language": "csharp"
        },
        "polyglot_notebook": {
          "kernelName": "csharp"
        },
        "vscode": {
          "languageId": "polyglot-notebook"
        }
      },
      "outputs": [
        {
          "name": "stdout",
          "output_type": "stream",
          "text": [
            "10092\n"
          ]
        }
      ],
      "source": [
        "// In the larger example, the sum of all boxes\u0027 GPS coordinates is 10092\n",
        "\n",
        "var testAnswer = DoWarehouse(testInputMapLines, testInputMapMoves);\n",
        "Console.WriteLine(testAnswer);"
      ]
    },
    {
      "cell_type": "code",
      "execution_count": 7,
      "metadata": {
        "dotnet_interactive": {
          "language": "csharp"
        },
        "polyglot_notebook": {
          "kernelName": "csharp"
        },
        "vscode": {
          "languageId": "polyglot-notebook"
        }
      },
      "outputs": [
        {
          "name": "stdout",
          "output_type": "stream",
          "text": [
            "1442192\n"
          ]
        }
      ],
      "source": [
        "// Predict the motion of the robot and boxes in the warehouse. After the robot\n",
        "// is finished moving, what is the sum of all boxes\u0027 GPS coordinates?\n",
        "\n",
        "var part1Answer = DoWarehouse(inputMapLines, inputMoveLines);\n",
        "Console.WriteLine(part1Answer);"
      ]
    },
    {
      "cell_type": "code",
      "execution_count": 8,
      "metadata": {
        "vscode": {
          "languageId": "polyglot-notebook"
        }
      },
      "outputs": [],
      "source": [
        "// 1442192 is correct!\n",
        "Ensure(1442192, part1Answer);"
      ]
    }
  ],
  "metadata": {
    "kernelspec": {
      "display_name": ".NET (C#)",
      "language": "C#",
      "name": ".net-csharp"
    },
    "language_info": {
      "name": "python"
    },
    "polyglot_notebook": {
      "kernelInfo": {
        "defaultKernelName": "csharp",
        "items": [
          {
            "aliases": [],
            "name": "csharp"
          }
        ]
      }
    }
  },
  "nbformat": 4,
  "nbformat_minor": 2
}