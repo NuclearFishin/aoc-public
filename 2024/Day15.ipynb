{
  "cells": [
    {
      "cell_type": "markdown",
      "metadata": {
        "dotnet_interactive": {
          "language": "csharp"
        },
        "polyglot_notebook": {
          "kernelName": "csharp"
        },
        "vscode": {
          "languageId": "polyglot-notebook"
        }
      },
      "source": [
        "### --- Day 15: Warehouse Woes ---\n",
        "\n",
        "Puzzle description redacted as-per Advent of Code guidelines\n",
        "\n",
        "You may find the puzzle description at: https://adventofcode.com/2024/day/15"
      ]
    },
    {
      "cell_type": "code",
      "execution_count": 2,
      "metadata": {
        "dotnet_interactive": {
          "language": "csharp"
        },
        "polyglot_notebook": {
          "kernelName": "csharp"
        },
        "vscode": {
          "languageId": "polyglot-notebook"
        }
      },
      "outputs": [],
      "source": [
        "#!import ../Utils.ipynb"
      ]
    },
    {
      "cell_type": "code",
      "execution_count": 3,
      "metadata": {
        "dotnet_interactive": {
          "language": "csharp"
        },
        "polyglot_notebook": {
          "kernelName": "csharp"
        },
        "vscode": {
          "languageId": "polyglot-notebook"
        }
      },
      "outputs": [
        {
          "name": "stdout",
          "output_type": "stream",
          "text": [
            "Loading puzzle file: Day15.txt\n",
            "Total lines: 71\n",
            "Max line length: 1000\n",
            "\n",
            "##################################################\n",
            "#.#O.O...#..##O.#.O...#OO.O....O.O#....#.....#.OO#\n",
            "#...O..O...O.....O...#...OOO.O..#.....OO....##O..#\n",
            "#O....O........O#........O#O..O.#.O..OO.O.O.O.OO.#\n",
            "#....#......O...O...O....#.O.OO.OOO.#OOOO.#...#..#\n",
            "\n",
            "vv^\u003Evv\u003C\u003C\u003Ev\u003E^^v\u003E\u003E\u003C\u003C\u003Evv^\u003E^\u003E\u003C\u003C\u003Ev^\u003Cvv\u003E^\u003C\u003E\u003C\u003E\u003C\u003C\u003E\u003Cvv^v^\u003Ev\n",
            "\u003Evvvvv^\u003C\u003E\u003Cv\u003C\u003Cv^\u003E\u003Cvv^\u003E^^\u003Cvvv\u003C^^\u003Cv\u003E\u003C^\u003E\u003Ev\u003E\u003Ev\u003E\u003E^vv\u003C\u003E\u003Ev\n",
            "\u003C^\u003E^^v^\u003C\u003C\u003E\u003C\u003C\u003E\u003E^\u003E\u003C\u003C^\u003E\u003Cv^\u003E^\u003C\u003E\u003E^^\u003C\u003E^\u003Ev\u003C\u003E\u003E\u003Cv^v\u003Cv\u003C^\u003E^v\u003C\n",
            "\u003C^\u003E\u003C^\u003C^\u003C\u003C^\u003C\u003E\u003C\u003E\u003C\u003C\u003C\u003E^\u003C^\u003C\u003E^vvv\u003C\u003C^\u003Cvv\u003C^\u003C^\u003Cv^\u003E^v\u003E\u003Cv\u003E\u003Ev\u003E\n",
            "^v^\u003E\u003E\u003C^\u003E^\u003C\u003C^\u003C\u003E\u003Ev^\u003C^v^v\u003E\u003E\u003C^\u003C\u003E^\u003Cv\u003C^v\u003Cv\u003C\u003Ev^\u003C\u003E\u003C^vv\u003C^vv\n"
          ]
        }
      ],
      "source": [
        "var inputLines = LoadPuzzleInput(2024, 15);\n",
        "var (inputMapLines, inputMoveLines) = inputLines.SeparateBy(line =\u003E line is \u0022\u0022).ToArray();\n",
        "WriteLines(inputMapLines);\n",
        "Console.WriteLine();\n",
        "WriteLines(inputMoveLines, maxCols: 50);"
      ]
    },
    {
      "cell_type": "code",
      "execution_count": 4,
      "metadata": {
        "dotnet_interactive": {
          "language": "csharp"
        },
        "polyglot_notebook": {
          "kernelName": "csharp"
        },
        "vscode": {
          "languageId": "polyglot-notebook"
        }
      },
      "outputs": [],
      "source": [
        "string[] testInputMapLines = [\n",
        "    \u0022##########\u0022,\n",
        "    \u0022#..O..O.O#\u0022,\n",
        "    \u0022#......O.#\u0022,\n",
        "    \u0022#.OO..O.O#\u0022,\n",
        "    \u0022#..O@..O.#\u0022,\n",
        "    \u0022#O#..O...#\u0022,\n",
        "    \u0022#O..O..O.#\u0022,\n",
        "    \u0022#.OO.O.OO#\u0022,\n",
        "    \u0022#....O...#\u0022,\n",
        "    \u0022##########\u0022,\n",
        "];\n",
        "\n",
        "string[] testInputMapMoves = [\n",
        "    \u0022\u003Cvv\u003E^\u003Cv^\u003Ev\u003E^vv^v\u003Ev\u003C\u003Ev^v\u003Cv\u003C^vv\u003C\u003C\u003C^\u003E\u003C\u003C\u003E\u003C\u003E\u003Ev\u003Cvvv\u003C\u003E^v^\u003E^\u003C\u003C\u003C\u003E\u003C\u003Cv\u003C\u003C\u003Cv^vv^v\u003E^\u0022,\n",
        "    \u0022vvv\u003C\u003C^\u003E^v^^\u003E\u003C\u003C\u003E\u003E\u003E\u003C\u003E^\u003C\u003C\u003E\u003C^vv^^\u003C\u003Evvv\u003C\u003E\u003E\u003C^^v\u003E^\u003Evv\u003C\u003Ev\u003C\u003C\u003C\u003Cv\u003C^v\u003E^\u003C^^\u003E\u003E\u003E^\u003Cv\u003Cv\u0022,\n",
        "    \u0022\u003E\u003C\u003Evv\u003Ev^v^\u003C\u003E\u003E\u003C\u003E\u003E\u003E\u003E\u003C^^\u003Evv\u003Ev\u003C^^^\u003E\u003Ev^v^\u003C^^\u003Ev^^\u003Ev^\u003C^v\u003Ev\u003C\u003E\u003Ev^v^\u003Cv\u003Ev^^\u003C^^vv\u003C\u0022,\n",
        "    \u0022\u003C\u003Cv\u003C^\u003E\u003E^^^^\u003E\u003E\u003Ev^\u003C\u003Evvv^\u003E\u003Cv\u003C\u003C\u003C\u003E^^^vv^\u003Cvvv\u003E^\u003Ev\u003C^^^^v\u003C\u003E^\u003Evvvv\u003E\u003C\u003E\u003Ev^\u003C\u003C^^^^^\u0022,\n",
        "    \u0022^\u003E\u003C^\u003E\u003C\u003E\u003E\u003E\u003C\u003E^^\u003C\u003C^^v\u003E\u003E\u003E\u003C^\u003Cv\u003E^\u003Cvv\u003E\u003Ev\u003E\u003E\u003E^v\u003E\u003C\u003E^v\u003E\u003C\u003C\u003C\u003Cv\u003E\u003Ev\u003Cv\u003Cv\u003Evvv\u003E^\u003C\u003E\u003C\u003C\u003E^\u003E\u003C\u0022,\n",
        "    \u0022^\u003E\u003E\u003C\u003E^v\u003C\u003E\u003C^vvv\u003C^^\u003C\u003E\u003Cv\u003C\u003C\u003C\u003C\u003C\u003E\u003C^v\u003C\u003C\u003C\u003E\u003C\u003C\u003C^^\u003Cv\u003C^^^\u003E\u003C^\u003E\u003E^\u003Cv^\u003E\u003C\u003C\u003C^\u003E\u003E^v\u003Cv^v\u003Cv^\u0022,\n",
        "    \u0022\u003E^\u003E\u003E^v\u003Evv\u003E^\u003C\u003C^v\u003C\u003E\u003E\u003C\u003C\u003E\u003C\u003Cv\u003C\u003Cv\u003E\u003C\u003Ev\u003C^vv\u003C\u003C\u003C\u003E^^v^\u003E^^\u003E\u003E\u003E\u003C\u003C^v\u003E\u003Ev^v\u003E\u003C^^\u003E\u003E^\u003C\u003Evv^\u0022,\n",
        "    \u0022\u003C\u003E\u003C^^\u003E^^^\u003C\u003E\u003Cvvvvv^v\u003Cv\u003C\u003C\u003E^v\u003Cv\u003Ev\u003C\u003C^\u003E\u003C\u003C\u003E\u003C\u003C\u003E\u003C\u003C\u003C^^\u003C\u003C\u003C^\u003C\u003C\u003E\u003E\u003C\u003C\u003E\u003C^^^\u003E^^\u003C\u003E^\u003Ev\u003C\u003E\u0022,\n",
        "    \u0022^^\u003Evv\u003C^v^v\u003Cvv\u003E^\u003C\u003E\u003Cv\u003C^v\u003E^^^\u003E\u003E\u003E^^vvv^\u003Evvv\u003C\u003E\u003E\u003E^\u003C^\u003E\u003E\u003E\u003E\u003E^\u003C\u003C^v\u003E^vvv\u003C\u003E^\u003C\u003E\u003C\u003Cv\u003E\u0022,\n",
        "    \u0022v^^\u003E\u003E\u003E\u003C\u003C^^\u003C\u003E\u003E^v^\u003Cv^vv\u003C\u003Ev^\u003C\u003C\u003E^\u003C^v^v\u003E\u003C^\u003C\u003C\u003C\u003E\u003C\u003C^\u003Cv\u003E\u003Cv\u003C\u003Evv\u003E\u003Ev\u003E\u003Cv^\u003Cvv\u003C\u003Ev^\u003C\u003C^\u0022,\n",
        "];"
      ]
    },
    {
      "cell_type": "markdown",
      "metadata": {
        "vscode": {
          "languageId": "polyglot-notebook"
        }
      },
      "source": [
        "Part 1 looks fairly straightforward: for a given movement, check all boxes in the direction to be pushed and ensure there is a free space at the end. If so, we can move all the blocks. If not, then we\u0027ve hit a wall and we can\u0027t move."
      ]
    },
    {
      "cell_type": "code",
      "execution_count": 5,
      "metadata": {
        "dotnet_interactive": {
          "language": "csharp"
        },
        "polyglot_notebook": {
          "kernelName": "csharp"
        },
        "vscode": {
          "languageId": "polyglot-notebook"
        }
      },
      "outputs": [],
      "source": [
        "int DoWarehouse(string[] inputMap, string[] inputMoves)\n",
        "{\n",
        "    var grid = new CharGrid(inputMap).Clone();\n",
        "\n",
        "    var robot = grid.Enumerate().Where(g =\u003E g.ch is ROBOT).Single().point;\n",
        "\n",
        "    var moves = inputMoves.SelectMany(moveLine =\u003E moveLine.ToCharArray()).Select(ch =\u003E moveLookup[ch]);\n",
        "    foreach (var direction in moves)\n",
        "    {\n",
        "        robot = Move(grid, robot, direction);\n",
        "    }\n",
        "\n",
        "    var boxCoords = grid.Enumerate().Where(g =\u003E g.ch is BOX).Select(g =\u003E GpsCoord(g.point)).Sum();\n",
        "    return boxCoords;\n",
        "}\n",
        "\n",
        "Point Move(CharGrid grid, Point robot, Point direction)\n",
        "{\n",
        "    var movements = CheckMove(grid, robot, direction).ToArray();\n",
        "\n",
        "    if (movements[^1] is (_, WALL))\n",
        "    {\n",
        "        // Wall at the end, can\u0027t push\n",
        "        return robot;\n",
        "    }\n",
        "\n",
        "    // Do the move\n",
        "    foreach (var (current, next) in movements.Zip(movements.Skip(1)))\n",
        "    {\n",
        "        grid[next.point] = current.item;\n",
        "    }\n",
        "    \n",
        "    grid[robot] = SPACE;\n",
        "\n",
        "    return robot \u002B direction;\n",
        "}\n",
        "\n",
        "IEnumerable\u003C(Point point, Char item)\u003E CheckMove(CharGrid grid, Point start, Point direction)\n",
        "{\n",
        "    Point checkPoint = start;\n",
        "    var item = grid[checkPoint];\n",
        "\n",
        "    while (true)\n",
        "    {\n",
        "        yield return (checkPoint, item);\n",
        "\n",
        "        if (item is WALL or SPACE)\n",
        "        {\n",
        "            break;\n",
        "        }\n",
        "        checkPoint \u002B= direction;\n",
        "        item = grid[checkPoint];\n",
        "    }\n",
        "}\n",
        "\n",
        "Dictionary\u003Cchar, Point\u003E moveLookup = new() \n",
        "{\n",
        "    { \u0027^\u0027, Up },\n",
        "    { \u0027v\u0027, Down },\n",
        "    { \u0027\u003C\u0027, Left },\n",
        "    { \u0027\u003E\u0027, Right },\n",
        "};\n",
        "\n",
        "const char ROBOT = \u0027@\u0027;\n",
        "const char SPACE = \u0027.\u0027;\n",
        "const char WALL = \u0027#\u0027;\n",
        "const char BOX = \u0027O\u0027;\n",
        "\n",
        "// The GPS coordinate of a box is equal to 100 times its distance from the top\n",
        "// edge of the map plus its distance from the left edge of the map.\n",
        "int GpsCoord(Point point) =\u003E point.X \u002B 100 * point.Y;"
      ]
    },
    {
      "cell_type": "code",
      "execution_count": 6,
      "metadata": {
        "dotnet_interactive": {
          "language": "csharp"
        },
        "polyglot_notebook": {
          "kernelName": "csharp"
        },
        "vscode": {
          "languageId": "polyglot-notebook"
        }
      },
      "outputs": [
        {
          "name": "stdout",
          "output_type": "stream",
          "text": [
            "10092\n"
          ]
        }
      ],
      "source": [
        "// In the larger example, the sum of all boxes\u0027 GPS coordinates is 10092\n",
        "\n",
        "var testAnswer = DoWarehouse(testInputMapLines, testInputMapMoves);\n",
        "Console.WriteLine(testAnswer);"
      ]
    },
    {
      "cell_type": "code",
      "execution_count": 7,
      "metadata": {
        "dotnet_interactive": {
          "language": "csharp"
        },
        "polyglot_notebook": {
          "kernelName": "csharp"
        },
        "vscode": {
          "languageId": "polyglot-notebook"
        }
      },
      "outputs": [
        {
          "name": "stdout",
          "output_type": "stream",
          "text": [
            "1442192\n"
          ]
        }
      ],
      "source": [
        "// Predict the motion of the robot and boxes in the warehouse. After the robot\n",
        "// is finished moving, what is the sum of all boxes\u0027 GPS coordinates?\n",
        "\n",
        "var part1Answer = DoWarehouse(inputMapLines, inputMoveLines);\n",
        "Console.WriteLine(part1Answer);"
      ]
    },
    {
      "cell_type": "code",
      "execution_count": 8,
      "metadata": {
        "vscode": {
          "languageId": "polyglot-notebook"
        }
      },
      "outputs": [],
      "source": [
        "// 1442192 is correct!\n",
        "Ensure(1442192, part1Answer);"
      ]
    },
    {
      "cell_type": "markdown",
      "metadata": {
        "vscode": {
          "languageId": "polyglot-notebook"
        }
      },
      "source": [
        "### --- Part Two ---\n",
        "\n",
        "Puzzle description redacted as-per Advent of Code guidelines\n",
        "\n",
        "You may find the puzzle description at: https://adventofcode.com/2024/day/15"
      ]
    },
    {
      "cell_type": "markdown",
      "metadata": {},
      "source": [
        "The tile-doubling part is fairly easy to express..."
      ]
    },
    {
      "cell_type": "code",
      "execution_count": 10,
      "metadata": {
        "vscode": {
          "languageId": "polyglot-notebook"
        }
      },
      "outputs": [],
      "source": [
        "// If the tile is #, the new map contains ## instead.\n",
        "// If the tile is O, the new map contains [] instead.\n",
        "// If the tile is ., the new map contains .. instead.\n",
        "// If the tile is @, the new map contains @. instead.\n",
        "\n",
        "string DoubleTile(char tile) =\u003E tile switch {\n",
        "    \u0027#\u0027 =\u003E \u0022##\u0022,\n",
        "    \u0027O\u0027 =\u003E \u0022[]\u0022,\n",
        "    \u0027@\u0027 =\u003E \u0022@.\u0022,\n",
        "    _ =\u003E \u0022..\u0022\n",
        "};\n",
        "\n",
        "string[] DoubleMap(string[] inputLines) =\u003E inputLines.Select(line =\u003E String.Join(\u0022\u0022, line.ToCharArray().Select(DoubleTile))).ToArray();"
      ]
    },
    {
      "cell_type": "code",
      "execution_count": 11,
      "metadata": {
        "vscode": {
          "languageId": "polyglot-notebook"
        }
      },
      "outputs": [
        {
          "name": "stdout",
          "output_type": "stream",
          "text": [
            "####################\n",
            "##....[]....[]..[]##\n",
            "##............[]..##\n",
            "##..[][]....[]..[]##\n",
            "##....[]@.....[]..##\n",
            "##[]##....[]......##\n",
            "##[]....[]....[]..##\n",
            "##..[][]..[]..[][]##\n",
            "##........[]......##\n",
            "####################\n"
          ]
        }
      ],
      "source": [
        "// The larger example from before would now look like this:\n",
        "\n",
        "// ####################\n",
        "// ##....[]....[]..[]##\n",
        "// ##............[]..##\n",
        "// ##..[][]....[]..[]##\n",
        "// ##....[]@.....[]..##\n",
        "// ##[]##....[]......##\n",
        "// ##[]....[]....[]..##\n",
        "// ##..[][]..[]..[][]##\n",
        "// ##........[]......##\n",
        "// ####################\n",
        "\n",
        "var testDoubleGrid = new CharGrid(DoubleMap(testInputMapLines));\n",
        "Console.WriteLine(testDoubleGrid.Render());"
      ]
    },
    {
      "cell_type": "markdown",
      "metadata": {},
      "source": [
        "Now that it\u0027s possible to push adjacent blocks, let\u0027s try a different move algorithm. For a given point to push, let\u0027s traverse the set of points that will be involved in the move. Once we have these points, we know that we can relocate them one point forward in the nominated direction. Likewise, if any of those points contain a wall, we skip the move."
      ]
    },
    {
      "cell_type": "code",
      "execution_count": 12,
      "metadata": {
        "vscode": {
          "languageId": "polyglot-notebook"
        }
      },
      "outputs": [],
      "source": [
        "const char BOX_LEFT = \u0027[\u0027;\n",
        "const char BOX_RIGHT = \u0027]\u0027;\n",
        "\n",
        "// Find all the points involved in the move\n",
        "HashSet\u003CPoint\u003E FindPoints(CharGrid grid, Point start, Point direction)\n",
        "{\n",
        "    var result = BFS(start, GetNeighbours).ToHashSet();\n",
        "    return result;\n",
        "\n",
        "    IEnumerable\u003CPoint\u003E GetNeighbours(Point p)\n",
        "    {\n",
        "        var ch = grid[p];\n",
        "\n",
        "        if (ch is BOX_LEFT) {\n",
        "            yield return p \u002B Right;\n",
        "        } else if (ch is BOX_RIGHT) {\n",
        "            yield return p \u002B Left;\n",
        "        }\n",
        "        \n",
        "        if (ch is not (WALL or SPACE))\n",
        "        {\n",
        "            yield return p \u002B direction;\n",
        "        }\n",
        "    };\n",
        "}\n",
        "\n",
        "// Perform a move of all the points \n",
        "void MoveAll(CharGrid grid, HashSet\u003CPoint\u003E points, Point direction)\n",
        "{\n",
        "    foreach (var (point, newChar) in points.Select(GetNewChar).ToList())\n",
        "    {\n",
        "        grid[point] = newChar;\n",
        "    }\n",
        "\n",
        "    // The set of points includes the empty space at the end. Move up all tiles\n",
        "    // into their new space, ultimately filling this empty space.\n",
        "    (Point point, Char newChar) GetNewChar(Point p) =\u003E points.Contains(p - direction) switch {\n",
        "        // A point along the chain that is not the beginning; we can move the\n",
        "        // previous tile into this space\n",
        "        true =\u003E (p, grid[p - direction]),\n",
        "        // The beginning of the chain, which is now a space\n",
        "        false =\u003E (p, \u0027.\u0027)\n",
        "    };\n",
        "}"
      ]
    },
    {
      "cell_type": "code",
      "execution_count": 13,
      "metadata": {
        "vscode": {
          "languageId": "polyglot-notebook"
        }
      },
      "outputs": [],
      "source": [
        "int DoWarehouse2(string[] inputMapLines, string[] inputMoves)\n",
        "{\n",
        "    var doubleLines = DoubleMap(inputMapLines);\n",
        "    var grid = new CharGrid(doubleLines);\n",
        "    var robot = grid.Enumerate().Single(g =\u003E g.ch is ROBOT).point;\n",
        "\n",
        "    var moves = inputMoves.SelectMany(moveLine =\u003E moveLine.ToCharArray()).Select(ch =\u003E moveLookup[ch]);\n",
        "    foreach (var direction in moves)\n",
        "    {\n",
        "        var movePoints = FindPoints(grid, robot, direction);\n",
        "\n",
        "        var hitsWall = movePoints.Any(p =\u003E grid[p] is WALL);\n",
        "        if (hitsWall)\n",
        "        {\n",
        "            continue;\n",
        "        }\n",
        "\n",
        "        MoveAll(grid, movePoints, direction);\n",
        "        robot \u002B= direction;\n",
        "    }\n",
        "\n",
        "    var boxCoords = grid.Enumerate().Where(g =\u003E g.ch is BOX_LEFT).Select(g =\u003E GpsCoord(g.point)).Sum();\n",
        "    return boxCoords;\n",
        "}"
      ]
    },
    {
      "cell_type": "code",
      "execution_count": 14,
      "metadata": {
        "vscode": {
          "languageId": "polyglot-notebook"
        }
      },
      "outputs": [
        {
          "name": "stdout",
          "output_type": "stream",
          "text": [
            "9021\n"
          ]
        }
      ],
      "source": [
        "// In the scaled-up version of the larger example from above, after the robot\n",
        "// has finished all of its moves...\n",
        "\n",
        "// ...The sum of these boxes\u0027 GPS coordinates is 9021.\n",
        "\n",
        "var part2TestAnswer = DoWarehouse2(testInputMapLines, testInputMapMoves);\n",
        "Console.WriteLine(part2TestAnswer);"
      ]
    },
    {
      "cell_type": "code",
      "execution_count": 15,
      "metadata": {
        "vscode": {
          "languageId": "polyglot-notebook"
        }
      },
      "outputs": [
        {
          "name": "stdout",
          "output_type": "stream",
          "text": [
            "1448458\n"
          ]
        }
      ],
      "source": [
        "// Predict the motion of the robot and boxes in this new, scaled-up warehouse.\n",
        "// What is the sum of all boxes\u0027 final GPS coordinates?\n",
        "\n",
        "var part2Answer = DoWarehouse2(inputMapLines, inputMoveLines);\n",
        "Console.WriteLine(part2Answer);"
      ]
    },
    {
      "cell_type": "code",
      "execution_count": 16,
      "metadata": {
        "vscode": {
          "languageId": "polyglot-notebook"
        }
      },
      "outputs": [],
      "source": [
        "// 1448458 is correct\n",
        "Ensure(1448458, part2Answer);"
      ]
    }
  ],
  "metadata": {
    "kernelspec": {
      "display_name": ".NET (C#)",
      "language": "C#",
      "name": ".net-csharp"
    },
    "language_info": {
      "name": "python"
    },
    "polyglot_notebook": {
      "kernelInfo": {
        "defaultKernelName": "csharp",
        "items": [
          {
            "aliases": [],
            "name": "csharp"
          }
        ]
      }
    }
  },
  "nbformat": 4,
  "nbformat_minor": 2
}