{
  "cells": [
    {
      "cell_type": "markdown",
      "metadata": {
        "vscode": {
          "languageId": "polyglot-notebook"
        }
      },
      "source": [
        "### --- Day 11: Plutonian Pebbles ---\n",
        "\n",
        "Puzzle description redacted as-per Advent of Code guidelines\n",
        "\n",
        "You may find the puzzle description at: https://adventofcode.com/2024/day/11"
      ]
    },
    {
      "cell_type": "code",
      "execution_count": 2,
      "metadata": {
        "vscode": {
          "languageId": "polyglot-notebook"
        }
      },
      "outputs": [],
      "source": [
        "#!import ../Utils.ipynb"
      ]
    },
    {
      "cell_type": "code",
      "execution_count": 3,
      "metadata": {
        "vscode": {
          "languageId": "polyglot-notebook"
        }
      },
      "outputs": [
        {
          "name": "stdout",
          "output_type": "stream",
          "text": [
            "Loading puzzle file: Day11.txt\n",
            "Total lines: 1\n",
            "Max line length: 36\n",
            "\n",
            "1750884 193 866395 7 1158 31 35216 0\n"
          ]
        }
      ],
      "source": [
        "var inputLines = LoadPuzzleInput(2024, 11);\n",
        "WriteLines(inputLines);"
      ]
    },
    {
      "cell_type": "code",
      "execution_count": 4,
      "metadata": {
        "vscode": {
          "languageId": "polyglot-notebook"
        }
      },
      "outputs": [],
      "source": [
        "var inputLine = inputLines[0];"
      ]
    },
    {
      "cell_type": "code",
      "execution_count": 5,
      "metadata": {
        "vscode": {
          "languageId": "polyglot-notebook"
        }
      },
      "outputs": [],
      "source": [
        "var testInputLine = \u0022125 17\u0022;"
      ]
    },
    {
      "cell_type": "code",
      "execution_count": 6,
      "metadata": {
        "vscode": {
          "languageId": "polyglot-notebook"
        }
      },
      "outputs": [],
      "source": [
        "using Stone = long; // int too small\n",
        "\n",
        "LinkedList\u003CStone\u003E ParseStones(string inputLine)\n",
        "{\n",
        "    var numbers = inputLine.Split(\u0027 \u0027).Select(Stone.Parse);\n",
        "    return new(numbers);\n",
        "}"
      ]
    },
    {
      "cell_type": "markdown",
      "metadata": {},
      "source": [
        "Let\u0027s start by modelling the stone operations:"
      ]
    },
    {
      "cell_type": "code",
      "execution_count": 7,
      "metadata": {
        "vscode": {
          "languageId": "polyglot-notebook"
        }
      },
      "outputs": [],
      "source": [
        "delegate void StoneAction(LinkedList\u003CStone\u003E stones, LinkedListNode\u003CStone\u003E stone);\n",
        "\n",
        "StoneAction AddOne = (stones, stone) =\u003E stone.Value = 1;\n",
        "StoneAction Multiply2024 = (stones, stone) =\u003E stone.Value *= 2024;\n",
        "StoneAction Split = (stones, stone) =\u003E {\n",
        "    var stoneStr = stone.Value.ToString().AsSpan();\n",
        "    var half = stoneStr.Length / 2;\n",
        "    var firstHalf = Stone.Parse(stoneStr[0..half]);\n",
        "    var secondHalf = Stone.Parse(stoneStr[half..]);\n",
        "\n",
        "    stone.Value = firstHalf;\n",
        "    stones.AddAfter(stone, secondHalf);\n",
        "};\n",
        "\n",
        "StoneAction Transform = (stones, stone) =\u003E {\n",
        "    var func = stone.Value switch {\n",
        "        // If the stone is engraved with the number 0, it is replaced by a stone\n",
        "        // engraved with the number 1.\n",
        "        0 =\u003E AddOne,\n",
        "        \n",
        "        // If the stone is engraved with a number that has an even number of\n",
        "        // digits, it is replaced by two stones.\n",
        "        var v when v.ToString().Length % 2 == 0 =\u003E Split,\n",
        "        \n",
        "        // If none of the other rules apply, the stone is replaced by a new\n",
        "        // stone; the old stone\u0027s number multiplied by 2024 is engraved on the new\n",
        "        // stone.\n",
        "        _ =\u003E Multiply2024\n",
        "    };\n",
        "    func(stones, stone);\n",
        "};\n"
      ]
    },
    {
      "cell_type": "markdown",
      "metadata": {},
      "source": [
        "Now the blinking part is straightforward:"
      ]
    },
    {
      "cell_type": "code",
      "execution_count": 8,
      "metadata": {
        "vscode": {
          "languageId": "polyglot-notebook"
        }
      },
      "outputs": [],
      "source": [
        "int BlinkAndCount(string inputLine, int times = 25)\n",
        "{\n",
        "    var stones = ParseStones(inputLine);\n",
        "    foreach (var _ in Enumerable.Range(0, times))\n",
        "    {\n",
        "        BlinkOnce(stones);\n",
        "    }\n",
        "    return stones.Count;\n",
        "}\n",
        "\n",
        "void BlinkOnce(LinkedList\u003CStone\u003E stones)\n",
        "{\n",
        "    foreach (var stone in stones.WalkNodes().ToList())\n",
        "    {\n",
        "        Transform(stones, stone);\n",
        "    }\n",
        "}"
      ]
    },
    {
      "cell_type": "code",
      "execution_count": 9,
      "metadata": {
        "vscode": {
          "languageId": "polyglot-notebook"
        }
      },
      "outputs": [
        {
          "name": "stdout",
          "output_type": "stream",
          "text": [
            "55312\n"
          ]
        }
      ],
      "source": [
        "// In this example, after blinking six times, you would have 22 stones. After\n",
        "// blinking 25 times, you would have 55312 stones!\n",
        "\n",
        "var testAnswer = BlinkAndCount(testInputLine);\n",
        "Console.WriteLine(testAnswer);"
      ]
    },
    {
      "cell_type": "code",
      "execution_count": null,
      "metadata": {
        "vscode": {
          "languageId": "polyglot-notebook"
        }
      },
      "outputs": [
        {
          "name": "stdout",
          "output_type": "stream",
          "text": [
            "231278\n"
          ]
        }
      ],
      "source": [
        "// Consider the arrangement of stones in front of you. How many stones will you\n",
        "// have after blinking 25 times?\n",
        "\n",
        "var part1Answer = BlinkAndCount(inputLine, 25);\n",
        "Console.WriteLine(part1Answer);"
      ]
    },
    {
      "cell_type": "code",
      "execution_count": 11,
      "metadata": {
        "vscode": {
          "languageId": "polyglot-notebook"
        }
      },
      "outputs": [],
      "source": [
        "// 231278 is correct!\n",
        "Ensure(231278, part1Answer);"
      ]
    }
  ],
  "metadata": {
    "kernelspec": {
      "display_name": ".NET (C#)",
      "language": "C#",
      "name": ".net-csharp"
    },
    "language_info": {
      "name": "python"
    },
    "polyglot_notebook": {
      "kernelInfo": {
        "defaultKernelName": "csharp",
        "items": [
          {
            "aliases": [],
            "name": "csharp"
          }
        ]
      }
    }
  },
  "nbformat": 4,
  "nbformat_minor": 2
}