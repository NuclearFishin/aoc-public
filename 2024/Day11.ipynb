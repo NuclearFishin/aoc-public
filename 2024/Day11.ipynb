{
  "cells": [
    {
      "cell_type": "markdown",
      "metadata": {
        "vscode": {
          "languageId": "polyglot-notebook"
        }
      },
      "source": [
        "### --- Day 11: Plutonian Pebbles ---\n",
        "\n",
        "Puzzle description redacted as-per Advent of Code guidelines\n",
        "\n",
        "You may find the puzzle description at: https://adventofcode.com/2024/day/11"
      ]
    },
    {
      "cell_type": "code",
      "execution_count": 2,
      "metadata": {
        "vscode": {
          "languageId": "polyglot-notebook"
        }
      },
      "outputs": [],
      "source": [
        "#!import ../Utils.ipynb"
      ]
    },
    {
      "cell_type": "code",
      "execution_count": 3,
      "metadata": {
        "vscode": {
          "languageId": "polyglot-notebook"
        }
      },
      "outputs": [
        {
          "name": "stdout",
          "output_type": "stream",
          "text": [
            "\n",
            "1750884 193 866395 7 1158 31 35216 0\n"
          ]
        }
      ],
      "source": [
        "var inputLines = LoadPuzzleInput(2024, 11);\n",
        "WriteLines(inputLines);"
      ]
    },
    {
      "cell_type": "code",
      "execution_count": 4,
      "metadata": {
        "vscode": {
          "languageId": "polyglot-notebook"
        }
      },
      "outputs": [],
      "source": [
        "var inputLine = inputLines[0];"
      ]
    },
    {
      "cell_type": "code",
      "execution_count": 5,
      "metadata": {
        "vscode": {
          "languageId": "polyglot-notebook"
        }
      },
      "outputs": [],
      "source": [
        "var testInputLine = \u0022125 17\u0022;"
      ]
    },
    {
      "cell_type": "code",
      "execution_count": 6,
      "metadata": {
        "vscode": {
          "languageId": "polyglot-notebook"
        }
      },
      "outputs": [],
      "source": [
        "using Stone = long; // int too small\n",
        "\n",
        "LinkedList\u003CStone\u003E ParseStones(string inputLine)\n",
        "{\n",
        "    var numbers = inputLine.Split(\u0027 \u0027).Select(Stone.Parse);\n",
        "    return new(numbers);\n",
        "}"
      ]
    },
    {
      "cell_type": "markdown",
      "metadata": {},
      "source": [
        "Let\u0027s start by modelling the stone operations:"
      ]
    },
    {
      "cell_type": "code",
      "execution_count": 7,
      "metadata": {
        "vscode": {
          "languageId": "polyglot-notebook"
        }
      },
      "outputs": [],
      "source": [
        "delegate void StoneAction(LinkedList\u003CStone\u003E stones, LinkedListNode\u003CStone\u003E stone);\n",
        "\n",
        "StoneAction AddOne = (stones, stone) =\u003E stone.Value = 1;\n",
        "StoneAction Multiply2024 = (stones, stone) =\u003E stone.Value *= 2024;\n",
        "StoneAction Split = (stones, stone) =\u003E {\n",
        "    var stoneStr = stone.Value.ToString().AsSpan();\n",
        "    var half = stoneStr.Length / 2;\n",
        "    var firstHalf = Stone.Parse(stoneStr[0..half]);\n",
        "    var secondHalf = Stone.Parse(stoneStr[half..]);\n",
        "\n",
        "    stone.Value = firstHalf;\n",
        "    stones.AddAfter(stone, secondHalf);\n",
        "};\n",
        "\n",
        "StoneAction Transform = (stones, stone) =\u003E {\n",
        "    var func = stone.Value switch {\n",
        "        // If the stone is engraved with the number 0, it is replaced by a stone\n",
        "        // engraved with the number 1.\n",
        "        0 =\u003E AddOne,\n",
        "        \n",
        "        // If the stone is engraved with a number that has an even number of\n",
        "        // digits, it is replaced by two stones.\n",
        "        var v when v.ToString().Length % 2 == 0 =\u003E Split,\n",
        "        \n",
        "        // If none of the other rules apply, the stone is replaced by a new\n",
        "        // stone; the old stone\u0027s number multiplied by 2024 is engraved on the new\n",
        "        // stone.\n",
        "        _ =\u003E Multiply2024\n",
        "    };\n",
        "    func(stones, stone);\n",
        "};\n"
      ]
    },
    {
      "cell_type": "markdown",
      "metadata": {},
      "source": [
        "Now the blinking part is straightforward:"
      ]
    },
    {
      "cell_type": "code",
      "execution_count": 8,
      "metadata": {
        "vscode": {
          "languageId": "polyglot-notebook"
        }
      },
      "outputs": [],
      "source": [
        "int BlinkAndCount(string inputLine, int times = 25)\n",
        "{\n",
        "    var stones = ParseStones(inputLine);\n",
        "    foreach (var _ in Enumerable.Range(0, times))\n",
        "    {\n",
        "        BlinkOnce(stones);\n",
        "    }\n",
        "    return stones.Count;\n",
        "}\n",
        "\n",
        "void BlinkOnce(LinkedList\u003CStone\u003E stones)\n",
        "{\n",
        "    foreach (var stone in stones.WalkNodes().ToList())\n",
        "    {\n",
        "        Transform(stones, stone);\n",
        "    }\n",
        "}"
      ]
    },
    {
      "cell_type": "code",
      "execution_count": 9,
      "metadata": {
        "vscode": {
          "languageId": "polyglot-notebook"
        }
      },
      "outputs": [],
      "source": [
        "// In this example, after blinking six times, you would have 22 stones. After\n",
        "// blinking 25 times, you would have 55312 stones!\n",
        "\n",
        "var testAnswer = BlinkAndCount(testInputLine);\n",
        "Console.WriteLine(testAnswer);"
      ]
    },
    {
      "cell_type": "code",
      "execution_count": 10,
      "metadata": {
        "vscode": {
          "languageId": "polyglot-notebook"
        }
      },
      "outputs": [],
      "source": [
        "// Consider the arrangement of stones in front of you. How many stones will you\n",
        "// have after blinking 25 times?\n",
        "\n",
        "var part1Answer = BlinkAndCount(inputLine);\n",
        "Console.WriteLine(part1Answer);"
      ]
    },
    {
      "cell_type": "code",
      "execution_count": 11,
      "metadata": {
        "vscode": {
          "languageId": "polyglot-notebook"
        }
      },
      "outputs": [],
      "source": [
        "// 231278 is correct!\n",
        "Ensure(231278, part1Answer);"
      ]
    },
    {
      "cell_type": "markdown",
      "metadata": {
        "vscode": {
          "languageId": "polyglot-notebook"
        }
      },
      "source": [
        "### --- Part Two ---\n",
        "\n",
        "Puzzle description redacted as-per Advent of Code guidelines\n",
        "\n",
        "You may find the puzzle description at: https://adventofcode.com/2024/day/11"
      ]
    },
    {
      "cell_type": "markdown",
      "metadata": {},
      "source": [
        "This naive approach takes waay too long, we\u0027ll need to think of something else:"
      ]
    },
    {
      "cell_type": "code",
      "execution_count": 13,
      "metadata": {
        "vscode": {
          "languageId": "polyglot-notebook"
        }
      },
      "outputs": [],
      "source": [
        "// var part2Answer = BlinkAndCount(inputLine, times: 75);\n",
        "// Console.WriteLine(part2Answer);"
      ]
    },
    {
      "cell_type": "markdown",
      "metadata": {
        "vscode": {
          "languageId": "polyglot-notebook"
        }
      },
      "source": [
        "So looking at the breakdown of blink results from just the test string, it looks like we have a reasonable amount of repetition. \n",
        "\n",
        "Perhaps we can maintain a dictionary of stones -\u003E counts, and increment the state of the dictionary on each blink."
      ]
    },
    {
      "cell_type": "code",
      "execution_count": 14,
      "metadata": {
        "vscode": {
          "languageId": "polyglot-notebook"
        }
      },
      "outputs": [],
      "source": [
        "// At 75 repetitions, some counts are too small for int!\n",
        "using StoneCount = long;"
      ]
    },
    {
      "cell_type": "code",
      "execution_count": 15,
      "metadata": {
        "vscode": {
          "languageId": "polyglot-notebook"
        }
      },
      "outputs": [],
      "source": [
        "using StoneDict = SCG.Dictionary\u003CStone, StoneCount\u003E;\n",
        "\n",
        "StoneDict ParseStones2(string inputLine)\n",
        "{\n",
        "    return inputLine.Split(\u0027 \u0027).Select(Stone.Parse).GroupBy(st =\u003E st).ToDictionary(stGroup =\u003E stGroup.Key, stGroup =\u003E stGroup.LongCount());\n",
        "}"
      ]
    },
    {
      "cell_type": "markdown",
      "metadata": {},
      "source": [
        "Use a similar approach as part 1 i.e., defining transform functions, this time performing the transform \u0060n\u0060 times for the \u0060n\u0060 instances of the stone."
      ]
    },
    {
      "cell_type": "code",
      "execution_count": 16,
      "metadata": {
        "vscode": {
          "languageId": "polyglot-notebook"
        }
      },
      "outputs": [],
      "source": [
        "delegate void StoneDictAction(StoneDict dict, Stone stone, StoneCount nTimes);\n",
        "\n",
        "void Replace(StoneDict dict, Stone oldStone, Stone newStone, StoneCount nTimes)\n",
        "{\n",
        "    dict[oldStone] -= nTimes;\n",
        "    Increment(dict, newStone, nTimes);\n",
        "}\n",
        "\n",
        "StoneDictAction Increment = (dict, stone, nTimes) =\u003E {\n",
        "    dict[stone] = dict.TryGetValue(stone, out var stoneCount) switch {\n",
        "        true =\u003E stoneCount \u002B nTimes,\n",
        "        _ =\u003E nTimes\n",
        "    };\n",
        "};\n",
        "\n",
        "StoneDictAction AddOne_2 = (dict, stone, nTimes) =\u003E Replace(dict, stone, stone \u002B 1, nTimes);\n",
        "\n",
        "StoneDictAction Multiply2024_2 = (dict, stone, times) =\u003E Replace(dict, stone, stone * 2024, times);\n",
        "\n",
        "StoneDictAction Split_2 = (dict, stone, times) =\u003E {\n",
        "    var stoneStr = stone.ToString().AsSpan();\n",
        "    var half = stoneStr.Length / 2;\n",
        "    var firstHalf = Stone.Parse(stoneStr[0..half]);\n",
        "    var secondHalf = Stone.Parse(stoneStr[half..]);\n",
        "\n",
        "    Replace(dict, stone, firstHalf, times);\n",
        "    Increment(dict, secondHalf, times);\n",
        "};\n",
        "\n",
        "StoneDictAction Transform_2 = (dict, stone, times) =\u003E {\n",
        "    var func = stone switch {\n",
        "        0 =\u003E AddOne_2,\n",
        "        var v when v.ToString().Length % 2 == 0 =\u003E Split_2,\n",
        "        _ =\u003E Multiply2024_2\n",
        "    };\n",
        "    func(dict, stone, times);\n",
        "};"
      ]
    },
    {
      "cell_type": "code",
      "execution_count": 17,
      "metadata": {
        "vscode": {
          "languageId": "polyglot-notebook"
        }
      },
      "outputs": [],
      "source": [
        "long BlinkAndCount2(string inputLine, int times = 25)\n",
        "{\n",
        "    var stones = ParseStones2(inputLine);\n",
        "    foreach (var _ in Enumerable.Range(0, times))\n",
        "    {\n",
        "        BlinkOnce2(stones);\n",
        "    }\n",
        "\n",
        "    return stones.Values.Sum();\n",
        "}\n",
        "\n",
        "void BlinkOnce2(StoneDict stones)\n",
        "{\n",
        "    foreach (var (stone, count) in stones.ToList())\n",
        "    {\n",
        "        if (count == 0) continue;\n",
        "\n",
        "        Transform_2(stones, stone, count);\n",
        "    }\n",
        "}"
      ]
    },
    {
      "cell_type": "code",
      "execution_count": 18,
      "metadata": {
        "vscode": {
          "languageId": "polyglot-notebook"
        }
      },
      "outputs": [],
      "source": [
        "// Ensure the provided sample still produces the same result for part 1, i.e.,\n",
        "// 55312\n",
        "\n",
        "var part2TestAnswer = BlinkAndCount2(testInputLine);\n",
        "Console.WriteLine(part2TestAnswer);"
      ]
    },
    {
      "cell_type": "code",
      "execution_count": 19,
      "metadata": {
        "vscode": {
          "languageId": "polyglot-notebook"
        }
      },
      "outputs": [],
      "source": [
        "// How many stones would you have after blinking a total of 75 times?\n",
        "\n",
        "var part2Answer = BlinkAndCount2(inputLine, times: 75);\n",
        "Console.WriteLine(part2Answer);"
      ]
    },
    {
      "cell_type": "code",
      "execution_count": 20,
      "metadata": {
        "vscode": {
          "languageId": "polyglot-notebook"
        }
      },
      "outputs": [],
      "source": [
        "// 274229228071551 is correct!\n",
        "Ensure(274229228071551, part2Answer);"
      ]
    }
  ],
  "metadata": {
    "kernelspec": {
      "display_name": ".NET (C#)",
      "language": "C#",
      "name": ".net-csharp"
    },
    "language_info": {
      "name": "python"
    },
    "polyglot_notebook": {
      "kernelInfo": {
        "defaultKernelName": "csharp",
        "items": [
          {
            "aliases": [],
            "name": "csharp"
          }
        ]
      }
    }
  },
  "nbformat": 4,
  "nbformat_minor": 2
}