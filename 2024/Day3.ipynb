{
  "cells": [
    {
      "cell_type": "code",
      "execution_count": 78,
      "metadata": {
        "dotnet_interactive": {
          "language": "csharp"
        },
        "polyglot_notebook": {
          "kernelName": "csharp"
        },
        "vscode": {
          "languageId": "polyglot-notebook"
        }
      },
      "outputs": [],
      "source": [
        "// --- Day 3: Mull It Over ---\n",
        "\n",
        "// Puzzle description redacted as-per Advent of Code guidelines\n",
        "\n",
        "// You may find the puzzle description at: https://adventofcode.com/2024/day/3"
      ]
    },
    {
      "cell_type": "code",
      "execution_count": 79,
      "metadata": {
        "vscode": {
          "languageId": "polyglot-notebook"
        }
      },
      "outputs": [],
      "source": [
        "#!import ../Utils.ipynb"
      ]
    },
    {
      "cell_type": "code",
      "execution_count": 80,
      "metadata": {
        "vscode": {
          "languageId": "polyglot-notebook"
        }
      },
      "outputs": [
        {
          "name": "stdout",
          "output_type": "stream",
          "text": [
            "Loading puzzle file: Day3.txt\n",
            "Total lines: 6\n",
            "Max line length: 3451\n",
            "\n",
            "(who()where()\u0027\u0027~[how()\u0027\u0026do()why()$;mul(323,598)\u0026/-\u0027}{\u0026-/\u003Cdo(), \u0027~\u003E[?-mul(933,97)\n",
            "mul(759,17why()\u0026\u0027!](%-mul(389,889),select(){/mul(907,972)why()\u0026(\u003Cmul(778,477)-:f\n",
            "#-}*mul(204,272)^@\u0027:%\u003E]\u0027/mul(399,973)from()!,\u003E\u003Emul(183,122):?#\u003C({\u002B )mul(489,296^\n",
            "{!;\u0027;\u0027~)$^#!/usr/bin/perl\u003C@what()\u0026where()-[!]mul(215,331):!^~!\u0026mul(740,257)how(2\n",
            "*where()select()!\u002B! \u0027@mul(279,497)?when()mul(261,969)select()\u0026!\u0026mul(361,865):~\u003C}\n"
          ]
        }
      ],
      "source": [
        "var inputLines = LoadPuzzleInput(2024, 3);\n",
        "WriteLines(inputLines, maxCols: 80);"
      ]
    },
    {
      "cell_type": "code",
      "execution_count": 81,
      "metadata": {
        "vscode": {
          "languageId": "polyglot-notebook"
        }
      },
      "outputs": [],
      "source": [
        "var testInputLine = @\u0022xmul(2,4)%\u0026mul[3,7]!@^do_not_mul(5,5)\u002Bmul(32,64]then(mul(11,8)mul(8,5))\u0022;"
      ]
    },
    {
      "cell_type": "code",
      "execution_count": 82,
      "metadata": {
        "vscode": {
          "languageId": "polyglot-notebook"
        }
      },
      "outputs": [],
      "source": [
        "using System.Text.RegularExpressions;\n",
        "\n",
        "Regex mulRegex = new(@\u0022mul\\((\\d{1,3}),(\\d{1,3})\\)\u0022);\n",
        "\n",
        "int MultiplyParams(Match match)\n",
        "{\n",
        "    var a = int.Parse(match.Groups[1].ValueSpan);\n",
        "    var b = int.Parse(match.Groups[2].ValueSpan);\n",
        "\n",
        "    return a * b;\n",
        "}\n",
        "int SumMatches(string inputLine) =\u003E mulRegex.Matches(inputLine).Select(MultiplyParams).Sum();"
      ]
    },
    {
      "cell_type": "code",
      "execution_count": 83,
      "metadata": {
        "vscode": {
          "languageId": "polyglot-notebook"
        }
      },
      "outputs": [
        {
          "name": "stdout",
          "output_type": "stream",
          "text": [
            "161\n"
          ]
        }
      ],
      "source": [
        "// Only the four highlighted sections are real mul instructions. Adding up the\n",
        "// result of each instruction produces 161 (2*4 \u002B 5*5 \u002B 11*8 \u002B 8*5).\n",
        "\n",
        "var testAnswer = SumMatches(testInputLine);\n",
        "Console.WriteLine(testAnswer);"
      ]
    },
    {
      "cell_type": "code",
      "execution_count": 84,
      "metadata": {
        "vscode": {
          "languageId": "polyglot-notebook"
        }
      },
      "outputs": [
        {
          "name": "stdout",
          "output_type": "stream",
          "text": [
            "185797128\n"
          ]
        }
      ],
      "source": [
        "// Scan the corrupted memory for uncorrupted mul instructions. What do you get\n",
        "// if you add up all of the results of the multiplications?\n",
        "\n",
        "var part1Answer = inputLines.Select(SumMatches).Sum();\n",
        "Console.WriteLine(part1Answer);"
      ]
    },
    {
      "cell_type": "code",
      "execution_count": 85,
      "metadata": {
        "vscode": {
          "languageId": "polyglot-notebook"
        }
      },
      "outputs": [],
      "source": [
        "// 185797128 is correct!\n",
        "Ensure(185797128, part1Answer);"
      ]
    },
    {
      "cell_type": "code",
      "execution_count": 86,
      "metadata": {
        "vscode": {
          "languageId": "polyglot-notebook"
        }
      },
      "outputs": [],
      "source": [
        "// --- Part Two ---\n",
        "\n",
        "// Puzzle description redacted as-per Advent of Code guidelines\n",
        "\n",
        "// You may find the puzzle description at: https://adventofcode.com/2024/day/3"
      ]
    },
    {
      "cell_type": "code",
      "execution_count": 87,
      "metadata": {
        "vscode": {
          "languageId": "polyglot-notebook"
        }
      },
      "outputs": [],
      "source": [
        "// Example line is different for part 2!\n",
        "var part2TestInputLine = \u0022xmul(2,4)\u0026mul[3,7]!^don\u0027t()_mul(5,5)\u002Bmul(32,64](mul(11,8)undo()?mul(8,5))\u0022;"
      ]
    },
    {
      "cell_type": "code",
      "execution_count": 88,
      "metadata": {
        "vscode": {
          "languageId": "polyglot-notebook"
        }
      },
      "outputs": [],
      "source": [
        "IEnumerable\u003Cstring\u003E SplitDoDont(string inputLine)\n",
        "{\n",
        "    // Split by \u0022do\u0022 first. Then we know each string is enabled until we hit a\n",
        "    // \u0022don\u0027t\u0022\n",
        "    var dos = inputLine.Split(\u0022do()\u0022);\n",
        "    return dos.Select(d =\u003E d.Split(\u0022don\u0027t()\u0022)[0]).ToList();\n",
        "}\n",
        "int SplitAndSum(string inputLine) =\u003E SplitDoDont(inputLine).Select(SumMatches).Sum();"
      ]
    },
    {
      "cell_type": "code",
      "execution_count": 89,
      "metadata": {
        "vscode": {
          "languageId": "polyglot-notebook"
        }
      },
      "outputs": [
        {
          "name": "stdout",
          "output_type": "stream",
          "text": [
            "48\n"
          ]
        }
      ],
      "source": [
        "// This time, the sum of the results is 48 (2*4 \u002B 8*5).\n",
        "\n",
        "var part2TestAnswer = SplitAndSum(part2TestInputLine);\n",
        "Console.WriteLine(part2TestAnswer);"
      ]
    },
    {
      "cell_type": "code",
      "execution_count": null,
      "metadata": {
        "vscode": {
          "languageId": "polyglot-notebook"
        }
      },
      "outputs": [
        {
          "name": "stdout",
          "output_type": "stream",
          "text": [
            "89798695\n"
          ]
        }
      ],
      "source": [
        "// Handle the new instructions; what do you get if you add up all of the results of just the enabled multiplications?\n",
        "\n",
        "// (Bit of a gotchya on this one: the do/don\u0027t state is continuous across\n",
        "// lines. To fix this just merge the lines together)\n",
        "\n",
        "var part2Answer = SplitAndSum(string.Join(string.Empty, inputLines));\n",
        "Console.WriteLine(part2Answer);"
      ]
    },
    {
      "cell_type": "code",
      "execution_count": 91,
      "metadata": {
        "vscode": {
          "languageId": "polyglot-notebook"
        }
      },
      "outputs": [],
      "source": [
        "// 89798695 is correct!\n",
        "Ensure(89798695, part2Answer);"
      ]
    }
  ],
  "metadata": {
    "kernelspec": {
      "display_name": ".NET (C#)",
      "language": "C#",
      "name": ".net-csharp"
    },
    "language_info": {
      "name": "python"
    },
    "polyglot_notebook": {
      "kernelInfo": {
        "defaultKernelName": "csharp",
        "items": [
          {
            "aliases": [],
            "name": "csharp"
          }
        ]
      }
    }
  },
  "nbformat": 4,
  "nbformat_minor": 2
}