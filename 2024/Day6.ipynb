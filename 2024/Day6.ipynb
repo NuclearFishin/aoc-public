{
  "cells": [
    {
      "cell_type": "markdown",
      "metadata": {
        "dotnet_interactive": {
          "language": "csharp"
        },
        "polyglot_notebook": {
          "kernelName": "csharp"
        },
        "vscode": {
          "languageId": "polyglot-notebook"
        }
      },
      "source": [
        "### --- Day 6: Guard Gallivant ---\n",
        "\n",
        "Puzzle description redacted as-per Advent of Code guidelines\n",
        "\n",
        "You may find the puzzle description at: https://adventofcode.com/2024/day/6"
      ]
    },
    {
      "cell_type": "code",
      "execution_count": 2,
      "metadata": {
        "dotnet_interactive": {
          "language": "csharp"
        },
        "polyglot_notebook": {
          "kernelName": "csharp"
        },
        "vscode": {
          "languageId": "polyglot-notebook"
        }
      },
      "outputs": [],
      "source": [
        "#!import ../Utils.ipynb"
      ]
    },
    {
      "cell_type": "code",
      "execution_count": 3,
      "metadata": {
        "dotnet_interactive": {
          "language": "csharp"
        },
        "polyglot_notebook": {
          "kernelName": "csharp"
        },
        "vscode": {
          "languageId": "polyglot-notebook"
        }
      },
      "outputs": [
        {
          "name": "stdout",
          "output_type": "stream",
          "text": [
            "Loading puzzle file: Day6.txt\n",
            "Total lines: 130\n",
            "Max line length: 130\n",
            "\n",
            "......#........#.............#.##..........................................#.......#...#........#......................#..........\n",
            ".......................#...#................................#..#.........................................#.....#.....#............\n",
            ".......................................#.................#..................#....#........................................#.......\n",
            ".............#...................#.#...............................#....#....#.#.......................................#..#.......\n",
            "...............................#........##.#..............................#..............................#..#...#..#..............\n"
          ]
        }
      ],
      "source": [
        "var inputLines = LoadPuzzleInput(2024, 6);\n",
        "WriteLines(inputLines);"
      ]
    },
    {
      "cell_type": "code",
      "execution_count": 4,
      "metadata": {
        "dotnet_interactive": {
          "language": "csharp"
        },
        "polyglot_notebook": {
          "kernelName": "csharp"
        },
        "vscode": {
          "languageId": "polyglot-notebook"
        }
      },
      "outputs": [],
      "source": [
        "string[] testInputLines = [\n",
        "    \u0022....#.....\u0022,\n",
        "    \u0022.........#\u0022,\n",
        "    \u0022..........\u0022,\n",
        "    \u0022..#.......\u0022,\n",
        "    \u0022.......#..\u0022,\n",
        "    \u0022..........\u0022,\n",
        "    \u0022.#..^.....\u0022,\n",
        "    \u0022........#.\u0022,\n",
        "    \u0022#.........\u0022,\n",
        "    \u0022......#...\u0022,\n",
        "];"
      ]
    },
    {
      "cell_type": "code",
      "execution_count": 5,
      "metadata": {
        "dotnet_interactive": {
          "language": "csharp"
        },
        "polyglot_notebook": {
          "kernelName": "csharp"
        },
        "vscode": {
          "languageId": "polyglot-notebook"
        }
      },
      "outputs": [],
      "source": [
        "IEnumerable\u003C(Point point, Point direction)\u003E Walk(CharGrid grid)\n",
        "{\n",
        "    var currentPoint = grid.Enumerate().Single(pch =\u003E pch.ch is \u0027^\u0027).point;\n",
        "    var currentDirection = Up;\n",
        "\n",
        "    yield return (currentPoint, currentDirection);\n",
        "\n",
        "    int safety = 0;\n",
        "    const int safety_limit = 1_000_000;\n",
        "    while (true)\n",
        "    {\n",
        "        if (safety\u002B\u002B \u003E safety_limit) {\n",
        "            throw new Exception(\u0022Exceeded safety limit\u0022);\n",
        "        }\n",
        "\n",
        "        var nextPoint = currentPoint \u002B currentDirection;\n",
        "        if (!grid.IsValid(nextPoint)) {\n",
        "            // Exited the map, we\u0027re done\n",
        "            break;\n",
        "        }\n",
        "        else if (grid[nextPoint] is \u0027#\u0027) {\n",
        "            // Hit an object, turn right\n",
        "            currentDirection = TurnRight(currentDirection);\n",
        "            continue;\n",
        "        }\n",
        "        \n",
        "        // Free space ahead, take a step\n",
        "        currentPoint = nextPoint;\n",
        "        yield return (currentPoint, currentDirection);\n",
        "    }\n",
        "}\n",
        "\n",
        "int DistinctPositions(string[] inputLines)\n",
        "{\n",
        "    CharGrid grid = new(inputLines);\n",
        "\n",
        "    var visited = Walk(grid).Select(pointDir =\u003E pointDir.point).Distinct();\n",
        "    return visited.Count();\n",
        "}"
      ]
    },
    {
      "cell_type": "code",
      "execution_count": 6,
      "metadata": {
        "dotnet_interactive": {
          "language": "csharp"
        },
        "polyglot_notebook": {
          "kernelName": "csharp"
        },
        "vscode": {
          "languageId": "polyglot-notebook"
        }
      },
      "outputs": [
        {
          "name": "stdout",
          "output_type": "stream",
          "text": [
            "41\n"
          ]
        }
      ],
      "source": [
        "// In this example, the guard will visit 41 distinct positions on your map.\n",
        "\n",
        "var testAnswer = DistinctPositions(testInputLines);\n",
        "Console.WriteLine(testAnswer);"
      ]
    },
    {
      "cell_type": "code",
      "execution_count": 7,
      "metadata": {
        "dotnet_interactive": {
          "language": "csharp"
        },
        "polyglot_notebook": {
          "kernelName": "csharp"
        },
        "vscode": {
          "languageId": "polyglot-notebook"
        }
      },
      "outputs": [
        {
          "name": "stdout",
          "output_type": "stream",
          "text": [
            "5080\n"
          ]
        }
      ],
      "source": [
        "// Predict the path of the guard. How many distinct positions will the guard visit before leaving the mapped area?\n",
        "\n",
        "var part1Answer = DistinctPositions(inputLines);\n",
        "Console.WriteLine(part1Answer);"
      ]
    },
    {
      "cell_type": "code",
      "execution_count": 8,
      "metadata": {
        "dotnet_interactive": {
          "language": "csharp"
        },
        "polyglot_notebook": {
          "kernelName": "csharp"
        },
        "vscode": {
          "languageId": "polyglot-notebook"
        }
      },
      "outputs": [],
      "source": [
        "// 5080 is correct!\n",
        "Ensure(5080, part1Answer);"
      ]
    },
    {
      "cell_type": "markdown",
      "metadata": {
        "dotnet_interactive": {
          "language": "csharp"
        },
        "polyglot_notebook": {
          "kernelName": "csharp"
        },
        "vscode": {
          "languageId": "polyglot-notebook"
        }
      },
      "source": [
        "### --- Part Two ---\n",
        "\n",
        "Puzzle description redacted as-per Advent of Code guidelines\n",
        "\n",
        "You may find the puzzle description at: https://adventofcode.com/2024/day/6"
      ]
    },
    {
      "cell_type": "code",
      "execution_count": 10,
      "metadata": {
        "dotnet_interactive": {
          "language": "csharp"
        },
        "polyglot_notebook": {
          "kernelName": "csharp"
        },
        "vscode": {
          "languageId": "polyglot-notebook"
        }
      },
      "outputs": [],
      "source": [
        "// Retrospective note: I tried a few ideas with this one, but ultimately just\n",
        "// brute-forced it by placing an obstruction along each point in the original path and\n",
        "// re-walking it :)"
      ]
    },
    {
      "cell_type": "code",
      "execution_count": 11,
      "metadata": {
        "vscode": {
          "languageId": "polyglot-notebook"
        }
      },
      "outputs": [],
      "source": [
        "using WalkHistory = SCG.HashSet\u003C(Point point, Point direction)\u003E;\n",
        "\n",
        "int CountObstructionPoints(string[] inputLines)\n",
        "{\n",
        "    CharGrid grid = new(inputLines);\n",
        "\n",
        "    var allSteps = Walk(grid).ToList();\n",
        "    var allPoints = allSteps.Select(pointDir =\u003E pointDir.point).ToHashSet();\n",
        "\n",
        "    // Don\u0027t want to place an obstruction directly on our starting position\n",
        "    allPoints.Remove(allSteps[0].point); \n",
        "\n",
        "    return allPoints.Where(point =\u003E ContainsLoop(grid, point)).Count();\n",
        "}\n",
        "\n",
        "bool ContainsLoop(CharGrid originalGrid, Point obstructionPoint)\n",
        "{\n",
        "    var newGrid = originalGrid.Clone();\n",
        "    newGrid[obstructionPoint] = \u0027#\u0027;\n",
        "\n",
        "    WalkHistory walkHistory = new();\n",
        "    foreach (var pointDir in Walk(newGrid))\n",
        "    {\n",
        "        var visited = !walkHistory.Add(pointDir);\n",
        "        if (visited) {\n",
        "            // Found a loop\n",
        "            return true;\n",
        "        }\n",
        "    }\n",
        "    return false;\n",
        "}"
      ]
    },
    {
      "cell_type": "code",
      "execution_count": 12,
      "metadata": {
        "dotnet_interactive": {
          "language": "csharp"
        },
        "polyglot_notebook": {
          "kernelName": "csharp"
        },
        "vscode": {
          "languageId": "polyglot-notebook"
        }
      },
      "outputs": [
        {
          "name": "stdout",
          "output_type": "stream",
          "text": [
            "6\n"
          ]
        }
      ],
      "source": [
        "// ...in this example, there are 6 different positions you could choose.\n",
        "\n",
        "var part2TestAnswer = CountObstructionPoints(testInputLines);\n",
        "Console.WriteLine(part2TestAnswer);"
      ]
    },
    {
      "cell_type": "code",
      "execution_count": 13,
      "metadata": {
        "dotnet_interactive": {
          "language": "csharp"
        },
        "polyglot_notebook": {
          "kernelName": "csharp"
        },
        "vscode": {
          "languageId": "polyglot-notebook"
        }
      },
      "outputs": [
        {
          "name": "stdout",
          "output_type": "stream",
          "text": [
            "1919\n"
          ]
        }
      ],
      "source": [
        "// You need to get the guard stuck in a loop by adding a single new obstruction.\n",
        "// How many different positions could you choose for this obstruction?\n",
        "\n",
        "var part2Answer = CountObstructionPoints(inputLines);\n",
        "Console.WriteLine(part2Answer);"
      ]
    },
    {
      "cell_type": "code",
      "execution_count": 14,
      "metadata": {
        "dotnet_interactive": {
          "language": "csharp"
        },
        "polyglot_notebook": {
          "kernelName": "csharp"
        },
        "vscode": {
          "languageId": "polyglot-notebook"
        }
      },
      "outputs": [],
      "source": [
        "// 1919 is correct!\n",
        "Ensure(1919, part2Answer);"
      ]
    }
  ],
  "metadata": {
    "kernelspec": {
      "display_name": ".NET (C#)",
      "language": "C#",
      "name": ".net-csharp"
    },
    "language_info": {
      "name": "python"
    },
    "polyglot_notebook": {
      "kernelInfo": {
        "defaultKernelName": "csharp",
        "items": [
          {
            "aliases": [],
            "name": "csharp"
          }
        ]
      }
    }
  },
  "nbformat": 4,
  "nbformat_minor": 2
}