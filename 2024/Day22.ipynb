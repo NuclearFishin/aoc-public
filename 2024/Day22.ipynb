{
  "cells": [
    {
      "cell_type": "markdown",
      "metadata": {
        "dotnet_interactive": {
          "language": "csharp"
        },
        "polyglot_notebook": {
          "kernelName": "csharp"
        }
      },
      "source": [
        "### --- Day 22: Monkey Market ---\n",
        "\n",
        "Puzzle description redacted as-per Advent of Code guidelines\n",
        "\n",
        "You may find the puzzle description at: https://adventofcode.com/2024/day/22"
      ]
    },
    {
      "cell_type": "code",
      "execution_count": 2,
      "metadata": {
        "dotnet_interactive": {
          "language": "csharp"
        },
        "polyglot_notebook": {
          "kernelName": "csharp"
        }
      },
      "outputs": [],
      "source": [
        "#!import ../Utils.ipynb"
      ]
    },
    {
      "cell_type": "code",
      "execution_count": 3,
      "metadata": {
        "dotnet_interactive": {
          "language": "csharp"
        },
        "polyglot_notebook": {
          "kernelName": "csharp"
        }
      },
      "outputs": [
        {
          "name": "stdout",
          "output_type": "stream",
          "text": [
            "Loading puzzle file: Day22.txt\n",
            "Total lines: 1635\n",
            "Max line length: 8\n",
            "\n",
            "8379519\n",
            "8825018\n",
            "7346587\n",
            "8726021\n",
            "1408335\n"
          ]
        }
      ],
      "source": [
        "var inputLines = LoadPuzzleInput(2024, 22);\n",
        "WriteLines(inputLines);"
      ]
    },
    {
      "cell_type": "markdown",
      "metadata": {},
      "source": [
        "Ok, so the simple approach is to implement the mix / prune functions and generate, but I suspect this won\u0027t be enough for stage 2 :) Probably we need to cache the results or something like that, but we\u0027ll cross that bridge when we come to it."
      ]
    },
    {
      "cell_type": "code",
      "execution_count": 4,
      "metadata": {
        "dotnet_interactive": {
          "language": "csharp"
        },
        "polyglot_notebook": {
          "kernelName": "csharp"
        }
      },
      "outputs": [],
      "source": [
        "using Num = uint;"
      ]
    },
    {
      "cell_type": "code",
      "execution_count": 5,
      "metadata": {
        "dotnet_interactive": {
          "language": "csharp"
        },
        "polyglot_notebook": {
          "kernelName": "csharp"
        }
      },
      "outputs": [],
      "source": [
        "// To mix a value into the secret number, calculate the bitwise XOR of the given\n",
        "// value and the secret number. Then, the secret number becomes the result of that\n",
        "// operation. (If the secret number is 42 and you were to mix 15 into the secret\n",
        "// number, the secret number would become 37.)\n",
        "\n",
        "Num Mix(Num a, Num b) =\u003E a ^ b;\n",
        "\n",
        "// To prune the secret number, calculate the value of the secret number modulo\n",
        "// 16777216. Then, the secret number becomes the result of that operation. (If the\n",
        "// secret number is 100000000 and you were to prune the secret number, the secret\n",
        "// number would become 16113920.)\n",
        "\n",
        "Num Prune(Num a) =\u003E a % 16777216; // ie take first 24 bits\n"
      ]
    },
    {
      "cell_type": "code",
      "execution_count": 6,
      "metadata": {
        "dotnet_interactive": {
          "language": "csharp"
        },
        "polyglot_notebook": {
          "kernelName": "csharp"
        }
      },
      "outputs": [],
      "source": [
        "// In particular, each buyer\u0027s secret number evolves into the next secret number in the sequence via the following process:\n",
        "\n",
        "Num Evolve(Num secret)\n",
        "{\n",
        "    // Note: this function will overflow a 32-bit integer. Technically it\u0027s OK\n",
        "    // since the bits are lost from the top and the result is pruned to the 24\n",
        "    // lower bits\n",
        "\n",
        "    // checked {\n",
        "        // Each step of the above process involves mixing and pruning:\n",
        "\n",
        "        // Calculate the result of multiplying the secret number by 64. Then, mix\n",
        "        // this result into the secret number. Finally, prune the secret number.\n",
        "        secret = Prune(Mix(secret * 64, secret));\n",
        "\n",
        "        // Calculate the result of dividing the secret number by 32. Round the\n",
        "        // result down to the nearest integer. Then, mix this result into the secret\n",
        "        // number. Finally, prune the secret number.\n",
        "        secret = Prune(Mix(secret / 32, secret));\n",
        "\n",
        "        // Calculate the result of multiplying the secret number by 2048. Then, mix\n",
        "        // this result into the secret number. Finally, prune the secret number.\n",
        "        secret = Prune(Mix(secret * 2048, secret));\n",
        "    // }\n",
        "\n",
        "    return secret;\n",
        "}"
      ]
    },
    {
      "cell_type": "code",
      "execution_count": 7,
      "metadata": {
        "dotnet_interactive": {
          "language": "csharp"
        },
        "polyglot_notebook": {
          "kernelName": "csharp"
        }
      },
      "outputs": [
        {
          "name": "stdout",
          "output_type": "stream",
          "text": [
            "15887950\n",
            "16495136\n",
            "527345\n",
            "704524\n",
            "1553684\n",
            "12683156\n",
            "11100544\n",
            "12249484\n",
            "7753432\n",
            "5908254\n"
          ]
        }
      ],
      "source": [
        "// So, if a buyer had a secret number of 123, that buyer\u0027s next ten secret numbers would be:\n",
        "\n",
        "// 15887950\n",
        "// 16495136\n",
        "// 527345\n",
        "// 704524\n",
        "// 1553684\n",
        "// 12683156\n",
        "// 11100544\n",
        "// 12249484\n",
        "// 7753432\n",
        "// 5908254\n",
        "\n",
        "Num testSecret = 123;\n",
        "foreach (var s in Enumerable.Range(0, 10))\n",
        "{\n",
        "    testSecret = Evolve(testSecret);\n",
        "    Console.WriteLine(testSecret);\n",
        "}"
      ]
    },
    {
      "cell_type": "code",
      "execution_count": 8,
      "metadata": {
        "dotnet_interactive": {
          "language": "csharp"
        },
        "polyglot_notebook": {
          "kernelName": "csharp"
        }
      },
      "outputs": [],
      "source": [
        "Num Evolve2K(Num secret) =\u003E Enumerable.Range(0, 2000).Aggregate(secret, (s, i) =\u003E Evolve(s));\n",
        "\n",
        "long EvolveSum(string[] inputLines) =\u003E inputLines.Select(Num.Parse)\n",
        "                                        .Select(Evolve2K)\n",
        "                                        .Sum(s =\u003E (long)s);"
      ]
    },
    {
      "cell_type": "code",
      "execution_count": 9,
      "metadata": {
        "dotnet_interactive": {
          "language": "csharp"
        },
        "polyglot_notebook": {
          "kernelName": "csharp"
        }
      },
      "outputs": [
        {
          "name": "stdout",
          "output_type": "stream",
          "text": [
            "13753970725\n"
          ]
        }
      ],
      "source": [
        "// For each buyer, simulate the creation of 2000 new secret numbers. What is the sum of the 2000th secret number generated by each buyer?\n",
        "\n",
        "var part1Answer = EvolveSum(inputLines);\n",
        "Console.WriteLine(part1Answer);"
      ]
    },
    {
      "cell_type": "code",
      "execution_count": 10,
      "metadata": {
        "dotnet_interactive": {
          "language": "csharp"
        },
        "polyglot_notebook": {
          "kernelName": "csharp"
        }
      },
      "outputs": [],
      "source": [
        "// 13753970725 is correct\n",
        "Ensure(13753970725, part1Answer);"
      ]
    },
    {
      "cell_type": "markdown",
      "metadata": {
        "dotnet_interactive": {
          "language": "csharp"
        },
        "polyglot_notebook": {
          "kernelName": "csharp"
        }
      },
      "source": [
        "### --- Part Two ---\n",
        "\n",
        "Puzzle description redacted as-per Advent of Code guidelines\n",
        "\n",
        "You may find the puzzle description at: https://adventofcode.com/2024/day/22"
      ]
    },
    {
      "cell_type": "markdown",
      "metadata": {},
      "source": [
        "Ok, so for this one we have to find sequences of 4 price changes, and find the most common sequence such that we get the highest price occurring at the 4th element in the sequence.\n",
        "\n",
        "This certainly feels sliding window-ish, but I don\u0027t think it quite is, since we not aggregating the window (eg rolling sum). We need to know the full sequence of 4 prices in each iteration. (Actually, we might be able to do something clever with bit-shifting, but maybe we\u0027ll try that later.) For now, if we model the sequence as a tuple, we can use them as the key in a dictionary, and take the entry with the highest sum of prices."
      ]
    },
    {
      "cell_type": "code",
      "execution_count": 12,
      "metadata": {
        "dotnet_interactive": {
          "language": "csharp"
        },
        "polyglot_notebook": {
          "kernelName": "csharp"
        }
      },
      "outputs": [],
      "source": [
        "// Of course, the secret numbers aren\u0027t the prices each buyer is offering! That\n",
        "// would be ridiculous. Instead, the prices the buyer offers are just the ones\n",
        "// digit of each of their secret numbers.\n",
        "\n",
        "IEnumerable\u003Cint\u003E Evolve2(Num seed, int times = 2001)\n",
        "{\n",
        "    var i = 0;\n",
        "    while (i\u002B\u002B \u003C times)\n",
        "    {\n",
        "        yield return (int)(seed % 10);\n",
        "        seed = Evolve(seed);\n",
        "    }\n",
        "}"
      ]
    },
    {
      "cell_type": "code",
      "execution_count": 13,
      "metadata": {
        "dotnet_interactive": {
          "language": "csharp"
        },
        "polyglot_notebook": {
          "kernelName": "csharp"
        }
      },
      "outputs": [],
      "source": [
        "// Unfortunately, the monkey only knows how to decide when to sell by looking at\n",
        "// the changes in price. Specifically, the monkey will only look for a specific\n",
        "// sequence of four consecutive changes in price, then immediately sell when it\n",
        "// sees that sequence.\n",
        "\n",
        "using DiffSequence = (int a, int b, int c, int d);"
      ]
    },
    {
      "cell_type": "code",
      "execution_count": 14,
      "metadata": {
        "dotnet_interactive": {
          "language": "csharp"
        },
        "polyglot_notebook": {
          "kernelName": "csharp"
        }
      },
      "outputs": [],
      "source": [
        "using DiffPrice = (DiffSequence sequence, int price);\n",
        "\n",
        "IEnumerable\u003CDiffPrice\u003E GetDiffPrices(int[] seq)\n",
        "{\n",
        "    for (var i = 4; i \u003C seq.Length; i\u002B\u002B)\n",
        "    {\n",
        "        var (a, b, c, d, e) = (seq[i-4], seq[i-3], seq[i-2], seq[i-1], seq[i]);\n",
        "        DiffPrice dp = ((b-a, c-b, d-c, e-d), seq[i]);\n",
        "        yield return dp;\n",
        "    }\n",
        "}\n",
        "\n",
        "// Each buyer only wants to buy one hiding spot, so after the hiding spot is\n",
        "// sold, the monkey will move on to the next buyer.\n",
        "\n",
        "IEnumerable\u003CDiffPrice\u003E FirstOnly(IEnumerable\u003CDiffPrice\u003E diffPrices)\n",
        "{\n",
        "    HashSet\u003CDiffSequence\u003E seen = new(2000);\n",
        "    foreach (var dp in diffPrices.Where(x =\u003E !seen.Contains(x.sequence)))\n",
        "    {\n",
        "        yield return dp;\n",
        "        seen.Add(dp.sequence);\n",
        "    }\n",
        "}\n",
        "\n",
        "int GetMostBananas(string[] inputLines)\n",
        "{\n",
        "    var seeds = inputLines.Select(Num.Parse);\n",
        "    \n",
        "    var q = from seed in seeds\n",
        "            let prices = Evolve2(seed).ToArray()\n",
        "            from diffPrice in FirstOnly(GetDiffPrices(prices))\n",
        "            group diffPrice by diffPrice.sequence into diffGroup\n",
        "            let total = diffGroup.Sum(x =\u003E x.price)\n",
        "            orderby total descending\n",
        "            select (diffGroup.Key, total);\n",
        "\n",
        "    var best = q.First();\n",
        "    Console.WriteLine($\u0022Best is {best}\u0022);\n",
        "    return best.total;\n",
        "}"
      ]
    },
    {
      "cell_type": "code",
      "execution_count": 15,
      "metadata": {
        "dotnet_interactive": {
          "language": "csharp"
        },
        "polyglot_notebook": {
          "kernelName": "csharp"
        }
      },
      "outputs": [
        {
          "name": "stdout",
          "output_type": "stream",
          "text": [
            "Best is ((-2, 1, -1, 3), 23)\n"
          ]
        }
      ],
      "source": [
        "// Suppose the initial secret number of each buyer is:\n",
        "\n",
        "// 1\n",
        "// 2\n",
        "// 3\n",
        "// 2024\n",
        "\n",
        "// There are many sequences of four price changes you could tell the monkey, but\n",
        "// for these four buyers, the sequence that will get you the most bananas is\n",
        "// -2,1,-1,3. Using that sequence ... you would get 23 (7 \u002B 7 \u002B 9) bananas!\n",
        "\n",
        "string[] testInputLines = \n",
        "[\n",
        "    \u00221\u0022,\n",
        "    \u00222\u0022,\n",
        "    \u00223\u0022,\n",
        "    \u00222024\u0022\n",
        "];\n",
        "\n",
        "GetMostBananas(testInputLines);"
      ]
    },
    {
      "cell_type": "code",
      "execution_count": 16,
      "metadata": {
        "dotnet_interactive": {
          "language": "csharp"
        },
        "polyglot_notebook": {
          "kernelName": "csharp"
        }
      },
      "outputs": [
        {
          "name": "stdout",
          "output_type": "stream",
          "text": [
            "Best is ((-3, 0, 4, 0), 1570)\n"
          ]
        }
      ],
      "source": [
        "// Figure out the best sequence to tell the monkey so that by looking for that\n",
        "// same sequence of changes in every buyer\u0027s future prices, you get the most\n",
        "// bananas in total. What is the most bananas you can get?\n",
        "\n",
        "var part2Answer = GetMostBananas(inputLines);"
      ]
    },
    {
      "cell_type": "code",
      "execution_count": 17,
      "metadata": {
        "dotnet_interactive": {
          "language": "csharp"
        },
        "polyglot_notebook": {
          "kernelName": "csharp"
        }
      },
      "outputs": [],
      "source": [
        "// 1570 is correct!\n",
        "Ensure(1570, part2Answer);"
      ]
    },
    {
      "cell_type": "markdown",
      "metadata": {},
      "source": [
        "#### Let\u0027s try the sliding window\n",
        "\n",
        "Just for funsies, let\u0027s try the sliding window approach. Since each secret number is only a single digit, the diffs between secret numbers are small enough that we can fit a sequence of four into a single integer. So we can maintain the sliding window of price changes using bit shifting. Let\u0027s give it a go!"
      ]
    },
    {
      "cell_type": "code",
      "execution_count": 19,
      "metadata": {
        "dotnet_interactive": {
          "language": "csharp"
        },
        "polyglot_notebook": {
          "kernelName": "csharp"
        }
      },
      "outputs": [],
      "source": [
        "// Push 4 byte values into a single integer. This becomes our sequence\n",
        "// \u0022fingerprint\u0022\n",
        "\n",
        "int Push(int current, int value) =\u003E (current \u003C\u003C 8) | (value \u0026 byte.MaxValue);"
      ]
    },
    {
      "cell_type": "code",
      "execution_count": 20,
      "metadata": {
        "dotnet_interactive": {
          "language": "csharp"
        },
        "polyglot_notebook": {
          "kernelName": "csharp"
        }
      },
      "outputs": [
        {
          "name": "stdout",
          "output_type": "stream",
          "text": [
            "Best is 23\n",
            "Best is 1570\n"
          ]
        }
      ],
      "source": [
        "int GetInitialFingerprint(IEnumerable\u003Cint\u003E items) =\u003E items.Aggregate(0, (current, next) =\u003E Push(current, next));\n",
        "int GetNextFingerprint(int current, int remove, int add) =\u003E Push(current, add);\n",
        "\n",
        "void GetMostBananas_Sliding(string[] inputLines)\n",
        "{\n",
        "    var seeds = inputLines.Select(Num.Parse);\n",
        "\n",
        "    Dictionary\u003Cint, int\u003E bananas = new(); // Bananas per sequence\n",
        "\n",
        "    foreach (var seed in seeds)\n",
        "    {\n",
        "        var prices = Evolve2(seed).ToArray();\n",
        "        var diffs = prices.Index().Skip(1).Select(x =\u003E x.Item - prices[x.Index - 1]);\n",
        "        var fingerprints = SlidingWindow(diffs, 4, GetInitialFingerprint, GetNextFingerprint);\n",
        "\n",
        "        HashSet\u003Cint\u003E seen = new(2000);\n",
        "\n",
        "        foreach (var (fingerprint, num) in fingerprints.Zip(prices[4..]))\n",
        "        {\n",
        "            if (!seen.Contains(fingerprint))\n",
        "            {\n",
        "                bananas[fingerprint] = bananas.TryGetValue(fingerprint, out var x) switch {\n",
        "                    false =\u003E num,\n",
        "                    true =\u003E x \u002B num\n",
        "                };\n",
        "                seen.Add(fingerprint);\n",
        "            }\n",
        "        }\n",
        "    }\n",
        "\n",
        "    var best = bananas.Values.Max();\n",
        "    Console.WriteLine($\u0022Best is {best}\u0022);\n",
        "}\n",
        "\n",
        "GetMostBananas_Sliding(testInputLines);\n",
        "GetMostBananas_Sliding(inputLines);"
      ]
    }
  ],
  "metadata": {
    "kernelspec": {
      "display_name": ".NET (C#)",
      "language": "C#",
      "name": ".net-csharp"
    },
    "language_info": {
      "name": "polyglot-notebook"
    },
    "polyglot_notebook": {
      "kernelInfo": {
        "defaultKernelName": "csharp",
        "items": [
          {
            "aliases": [],
            "name": "csharp"
          }
        ]
      }
    }
  },
  "nbformat": 4,
  "nbformat_minor": 2
}