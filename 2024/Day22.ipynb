{
  "cells": [
    {
      "cell_type": "markdown",
      "metadata": {
        "dotnet_interactive": {
          "language": "csharp"
        },
        "polyglot_notebook": {
          "kernelName": "csharp"
        },
        "vscode": {
          "languageId": "polyglot-notebook"
        }
      },
      "source": [
        "### --- Day 22: Monkey Market ---\n",
        "\n",
        "Puzzle description redacted as-per Advent of Code guidelines\n",
        "\n",
        "You may find the puzzle description at: https://adventofcode.com/2024/day/22"
      ]
    },
    {
      "cell_type": "code",
      "execution_count": 2,
      "metadata": {
        "dotnet_interactive": {
          "language": "csharp"
        },
        "polyglot_notebook": {
          "kernelName": "csharp"
        },
        "vscode": {
          "languageId": "polyglot-notebook"
        }
      },
      "outputs": [],
      "source": [
        "#!import ../Utils.ipynb"
      ]
    },
    {
      "cell_type": "code",
      "execution_count": 3,
      "metadata": {
        "vscode": {
          "languageId": "polyglot-notebook"
        }
      },
      "outputs": [
        {
          "name": "stdout",
          "output_type": "stream",
          "text": [
            "Loading puzzle file: Day22.txt\n",
            "Total lines: 1635\n",
            "Max line length: 8\n",
            "\n",
            "8379519\n",
            "8825018\n",
            "7346587\n",
            "8726021\n",
            "1408335\n"
          ]
        }
      ],
      "source": [
        "var inputLines = LoadPuzzleInput(2024, 22);\n",
        "WriteLines(inputLines);"
      ]
    },
    {
      "cell_type": "markdown",
      "metadata": {},
      "source": [
        "Ok, so the simple approach is to implement the mix / prune functions and generate, but I suspect this won\u0027t be enough for stage 2 :) Probably we need to cache the results or something like that, but we\u0027ll cross that bridge when we come to it."
      ]
    },
    {
      "cell_type": "code",
      "execution_count": 4,
      "metadata": {
        "vscode": {
          "languageId": "polyglot-notebook"
        }
      },
      "outputs": [],
      "source": [
        "using Num = uint;"
      ]
    },
    {
      "cell_type": "code",
      "execution_count": 5,
      "metadata": {
        "dotnet_interactive": {
          "language": "csharp"
        },
        "polyglot_notebook": {
          "kernelName": "csharp"
        },
        "vscode": {
          "languageId": "polyglot-notebook"
        }
      },
      "outputs": [],
      "source": [
        "// To mix a value into the secret number, calculate the bitwise XOR of the given\n",
        "// value and the secret number. Then, the secret number becomes the result of that\n",
        "// operation. (If the secret number is 42 and you were to mix 15 into the secret\n",
        "// number, the secret number would become 37.)\n",
        "\n",
        "Num Mix(Num a, Num b) =\u003E a ^ b;\n",
        "\n",
        "// To prune the secret number, calculate the value of the secret number modulo\n",
        "// 16777216. Then, the secret number becomes the result of that operation. (If the\n",
        "// secret number is 100000000 and you were to prune the secret number, the secret\n",
        "// number would become 16113920.)\n",
        "\n",
        "Num Prune(Num a) =\u003E a % 16777216; // ie take first 24 digits\n"
      ]
    },
    {
      "cell_type": "code",
      "execution_count": 6,
      "metadata": {
        "vscode": {
          "languageId": "polyglot-notebook"
        }
      },
      "outputs": [],
      "source": [
        "// In particular, each buyer\u0027s secret number evolves into the next secret number in the sequence via the following process:\n",
        "\n",
        "Num Evolve(Num secret)\n",
        "{\n",
        "    // Note: this function will overflow a 32-bit integer. Technically it\u0027s OK\n",
        "    // since the bits are lost from the top and the result is pruned to the 24\n",
        "    // lower bits\n",
        "\n",
        "    // checked {\n",
        "\n",
        "        // Each step of the above process involves mixing and pruning:\n",
        "\n",
        "        // Calculate the result of multiplying the secret number by 64. Then, mix\n",
        "        // this result into the secret number. Finally, prune the secret number.\n",
        "        secret = Prune(Mix(secret * 64, secret));\n",
        "\n",
        "        // Calculate the result of dividing the secret number by 32. Round the\n",
        "        // result down to the nearest integer. Then, mix this result into the secret\n",
        "        // number. Finally, prune the secret number.\n",
        "        secret = Prune(Mix(secret / 32, secret));\n",
        "\n",
        "        // Calculate the result of multiplying the secret number by 2048. Then, mix\n",
        "        // this result into the secret number. Finally, prune the secret number.\n",
        "\n",
        "        secret = Prune(Mix(secret * 2048, secret));\n",
        "    \n",
        "    // }\n",
        "\n",
        "    return secret;\n",
        "}"
      ]
    },
    {
      "cell_type": "code",
      "execution_count": 7,
      "metadata": {
        "vscode": {
          "languageId": "polyglot-notebook"
        }
      },
      "outputs": [
        {
          "name": "stdout",
          "output_type": "stream",
          "text": [
            "15887950\n",
            "16495136\n",
            "527345\n",
            "704524\n",
            "1553684\n",
            "12683156\n",
            "11100544\n",
            "12249484\n",
            "7753432\n",
            "5908254\n"
          ]
        }
      ],
      "source": [
        "// So, if a buyer had a secret number of 123, that buyer\u0027s next ten secret numbers would be:\n",
        "\n",
        "// 15887950\n",
        "// 16495136\n",
        "// 527345\n",
        "// 704524\n",
        "// 1553684\n",
        "// 12683156\n",
        "// 11100544\n",
        "// 12249484\n",
        "// 7753432\n",
        "// 5908254\n",
        "\n",
        "Num testSecret = 123;\n",
        "foreach (var s in Enumerable.Range(0, 10))\n",
        "{\n",
        "    testSecret = Evolve(testSecret);\n",
        "    Console.WriteLine(testSecret);\n",
        "}"
      ]
    },
    {
      "cell_type": "code",
      "execution_count": 8,
      "metadata": {
        "vscode": {
          "languageId": "polyglot-notebook"
        }
      },
      "outputs": [],
      "source": [
        "Num Evolve2K(Num secret) =\u003E Enumerable.Range(0, 2000).Aggregate(secret, (s, i) =\u003E Evolve(s));\n",
        "\n",
        "long EvolveSum(string[] inputLines) =\u003E inputLines.Select(Num.Parse)\n",
        "                                        .Select(Evolve2K)\n",
        "                                        .Sum(s =\u003E (long)s);"
      ]
    },
    {
      "cell_type": "code",
      "execution_count": 9,
      "metadata": {
        "vscode": {
          "languageId": "polyglot-notebook"
        }
      },
      "outputs": [
        {
          "name": "stdout",
          "output_type": "stream",
          "text": [
            "13753970725\n"
          ]
        }
      ],
      "source": [
        "// For each buyer, simulate the creation of 2000 new secret numbers. What is the sum of the 2000th secret number generated by each buyer?\n",
        "\n",
        "var part1Answer = EvolveSum(inputLines);\n",
        "Console.WriteLine(part1Answer);"
      ]
    },
    {
      "cell_type": "code",
      "execution_count": 10,
      "metadata": {
        "vscode": {
          "languageId": "polyglot-notebook"
        }
      },
      "outputs": [],
      "source": [
        "// 13753970725 is correct\n",
        "Ensure(13753970725, part1Answer);"
      ]
    }
  ],
  "metadata": {
    "kernelspec": {
      "display_name": ".NET (C#)",
      "language": "C#",
      "name": ".net-csharp"
    },
    "language_info": {
      "name": "python"
    },
    "polyglot_notebook": {
      "kernelInfo": {
        "defaultKernelName": "csharp",
        "items": [
          {
            "aliases": [],
            "name": "csharp"
          }
        ]
      }
    }
  },
  "nbformat": 4,
  "nbformat_minor": 2
}