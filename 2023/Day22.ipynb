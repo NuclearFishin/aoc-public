{
  "cells": [
    {
      "cell_type": "markdown",
      "metadata": {
        "dotnet_interactive": {
          "language": "csharp"
        },
        "polyglot_notebook": {
          "kernelName": "csharp"
        },
        "vscode": {
          "languageId": "polyglot-notebook"
        }
      },
      "source": [
        "### --- Day 22: Sand Slabs ---\n",
        "\n",
        "Puzzle description redacted as-per Advent of Code guidelines\n",
        "\n",
        "You may find the puzzle description at: https://adventofcode.com/2023/day/22"
      ]
    },
    {
      "cell_type": "code",
      "execution_count": 2,
      "metadata": {
        "dotnet_interactive": {
          "language": "csharp"
        },
        "polyglot_notebook": {
          "kernelName": "csharp"
        },
        "vscode": {
          "languageId": "polyglot-notebook"
        }
      },
      "outputs": [],
      "source": [
        "#!import ../Utils.ipynb"
      ]
    },
    {
      "cell_type": "code",
      "execution_count": 3,
      "metadata": {
        "dotnet_interactive": {
          "language": "csharp"
        },
        "polyglot_notebook": {
          "kernelName": "csharp"
        },
        "vscode": {
          "languageId": "polyglot-notebook"
        }
      },
      "outputs": [
        {
          "name": "stdout",
          "output_type": "stream",
          "text": [
            "Loading puzzle file: Day22.txt\n",
            "Total lines: 1232\n",
            "Max line length: 15\n",
            "\n",
            "6,8,103~7,8,103\n",
            "1,4,214~1,4,216\n",
            "1,4,10~1,5,10\n",
            "4,5,56~4,9,56\n",
            "7,5,109~8,5,109\n"
          ]
        }
      ],
      "source": [
        "var inputLines = LoadPuzzleInput(2023, 22);\n",
        "WriteLines(inputLines);"
      ]
    },
    {
      "cell_type": "code",
      "execution_count": 4,
      "metadata": {
        "dotnet_interactive": {
          "language": "csharp"
        },
        "polyglot_notebook": {
          "kernelName": "csharp"
        },
        "vscode": {
          "languageId": "polyglot-notebook"
        }
      },
      "outputs": [],
      "source": [
        "record Point(int x, int y, int z);\n",
        "\n",
        "record Brick(Point start, Point end) \n",
        "{\n",
        "    public HashSet\u003CPoint\u003E AllPoints \n",
        "    {\n",
        "        get \n",
        "        {\n",
        "            HashSet\u003CPoint\u003E result = new();\n",
        "\n",
        "            for (var x = start.x; x \u003C= end.x; x\u002B\u002B)\n",
        "            for (var y = start.y; y \u003C= end.y; y\u002B\u002B)\n",
        "            for (var z = start.z; z \u003C= end.z; z\u002B\u002B) \n",
        "            {\n",
        "                result.Add(new Point(x, y, z));\n",
        "            }\n",
        "\n",
        "            return result;\n",
        "        }\n",
        "    }\n",
        "\n",
        "    public IEnumerable\u003CPoint\u003E BottomPoints\n",
        "    {\n",
        "        get \n",
        "        {\n",
        "            for (var x = start.x; x \u003C= end.x; x\u002B\u002B)\n",
        "            for (var y = start.y; y \u003C= end.y; y\u002B\u002B) \n",
        "            {\n",
        "                yield return new Point(x, y, start.z);\n",
        "            }\n",
        "        }\n",
        "    }\n",
        "\n",
        "    public Brick MoveDown(int fallDistance) =\u003E new Brick(new Point(start.x, start.y, start.z - fallDistance), new Point(end.x, end.y, end.z - fallDistance));\n",
        "}\n",
        "\n",
        "static Brick ParseBrick(string line) {\n",
        "    var bits = line.Split(\u0027~\u0027)\n",
        "        .SelectMany(x =\u003E x.Split(\u0027,\u0027))\n",
        "        .Select(int.Parse)\n",
        "        .ToArray();\n",
        "\n",
        "    var brick = bits switch {\n",
        "        [var a, var b, var c, var d, var e, var f] =\u003E new Brick(new Point(a, b, c), new Point(d, e, f)),\n",
        "        _ =\u003E throw new ArgumentException($\u0022Unable to parse line {line}\u0022)\n",
        "    };\n",
        "\n",
        "    return brick;\n",
        "}"
      ]
    },
    {
      "cell_type": "code",
      "execution_count": 5,
      "metadata": {
        "dotnet_interactive": {
          "language": "csharp"
        },
        "polyglot_notebook": {
          "kernelName": "csharp"
        },
        "vscode": {
          "languageId": "polyglot-notebook"
        }
      },
      "outputs": [
        {
          "name": "stdout",
          "output_type": "stream",
          "text": [
            "Point { x = 1, y = 0, z = 1 }\n",
            "Point { x = 1, y = 1, z = 1 }\n",
            "Point { x = 1, y = 2, z = 1 }\n"
          ]
        }
      ],
      "source": [
        "string[] testInputLines = [\n",
        "    \u00221,0,1~1,2,1\u0022,\n",
        "    \u00220,0,2~2,0,2\u0022,\n",
        "    \u00220,2,3~2,2,3\u0022,\n",
        "    \u00220,0,4~0,2,4\u0022,\n",
        "    \u00222,0,5~2,2,5\u0022,\n",
        "    \u00220,1,6~2,1,6\u0022,\n",
        "    \u00221,1,8~1,1,9\u0022,\n",
        "];\n",
        "\n",
        "var testInputBricks = testInputLines.Select(ParseBrick).ToArray();\n",
        "\n",
        "// foreach (var b in testInputBricks) {\n",
        "//     Console.WriteLine(string.Join(\u0022, \u0022, b.AllPoints));\n",
        "// }\n",
        "\n",
        "foreach (var bp in testInputBricks[0].BottomPoints) {\n",
        "    Console.WriteLine(bp);\n",
        "}"
      ]
    },
    {
      "cell_type": "code",
      "execution_count": 6,
      "metadata": {
        "dotnet_interactive": {
          "language": "csharp"
        },
        "polyglot_notebook": {
          "kernelName": "csharp"
        },
        "vscode": {
          "languageId": "polyglot-notebook"
        }
      },
      "outputs": [
        {
          "name": "stdout",
          "output_type": "stream",
          "text": [
            "Point { x = 1, y = 0, z = 0 } -\u003E Point { x = 1, y = 2, z = 0 } (True)\n",
            "Point { x = 0, y = 0, z = 1 } -\u003E Point { x = 2, y = 0, z = 1 } (False)\n",
            "Point { x = 0, y = 2, z = 1 } -\u003E Point { x = 2, y = 2, z = 1 } (False)\n",
            "Point { x = 0, y = 0, z = 2 } -\u003E Point { x = 0, y = 2, z = 2 } (False)\n",
            "Point { x = 2, y = 0, z = 2 } -\u003E Point { x = 2, y = 2, z = 2 } (False)\n",
            "Point { x = 0, y = 1, z = 3 } -\u003E Point { x = 2, y = 1, z = 3 } (True)\n",
            "Point { x = 1, y = 1, z = 4 } -\u003E Point { x = 1, y = 1, z = 5 } (False)\n",
            "\n",
            "5\n"
          ]
        }
      ],
      "source": [
        "class DropSim \n",
        "{\n",
        "    readonly Dictionary\u003CBrick, bool\u003E loadBearing = new();\n",
        "    readonly Dictionary\u003CPoint, Brick\u003E brickPoints = new();\n",
        "\n",
        "    // needed for part 2\n",
        "    readonly Dictionary\u003CBrick, HashSet\u003CBrick\u003E\u003E supporting = new();\n",
        "    readonly Dictionary\u003CBrick, HashSet\u003CBrick\u003E\u003E supportedBy = new();\n",
        "\n",
        "    public void Drop(Brick brick) {\n",
        "        // Get the bottom points of the brick\n",
        "        var bottomPoints = brick.BottomPoints.ToList();\n",
        "\n",
        "        // Move them down until at least one pixel is occupied.\n",
        "        var zStart = brick.start.z;\n",
        "        var zLand = zStart - 1;\n",
        "        HashSet\u003CBrick\u003E collisions = new();\n",
        "        while (zLand \u003E= 0)\n",
        "        {\n",
        "            var q = from bp in bottomPoints\n",
        "                    let newPoint = new Point(bp.x, bp.y, zLand)\n",
        "                    where brickPoints.ContainsKey(newPoint)\n",
        "                    select brickPoints[newPoint];\n",
        "\n",
        "            collisions.UnionWith(q);\n",
        "\n",
        "            if (collisions.Count \u003E 0) {\n",
        "                // The resting point is 1 above this point\n",
        "                break;\n",
        "            }\n",
        "            zLand--;\n",
        "        }\n",
        "        zLand \u002B= 1;\n",
        "\n",
        "        // The brick(s) underneath are now load-bearing\n",
        "        var fallDistance = zStart - zLand;\n",
        "        var landedBrick = brick.MoveDown(fallDistance);\n",
        "\n",
        "        loadBearing[landedBrick] = false;\n",
        "        foreach (var p in landedBrick.AllPoints) {\n",
        "            brickPoints[p] = landedBrick;\n",
        "        }\n",
        "\n",
        "        if (collisions.Count == 1)\n",
        "        {\n",
        "            // Only one block holds up this falling block. Therefore the\n",
        "            // supporting block is a load-bearing block\n",
        "            \n",
        "            loadBearing[collisions.Single()] = true;\n",
        "        }\n",
        "\n",
        "        // Part 2\n",
        "        supporting[landedBrick] = new();\n",
        "        supportedBy[landedBrick] = new();\n",
        "        foreach (var c in collisions) \n",
        "        {\n",
        "            supporting[c].Add(landedBrick);\n",
        "            supportedBy[landedBrick].Add(c);\n",
        "        }\n",
        "    }\n",
        "\n",
        "    public string Render() {\n",
        "        var sb = new StringBuilder();\n",
        "        \n",
        "        foreach (var lb in loadBearing) {\n",
        "            var brick = lb.Key;\n",
        "            sb.AppendLine($\u0022{brick.start} -\u003E {brick.end} ({lb.Value})\u0022);\n",
        "        }\n",
        "\n",
        "        return sb.ToString();\n",
        "    }\n",
        "\n",
        "    // public int SafeToDisintegrate =\u003E loadBearing.Where(lb =\u003E !lb.Value).Count();\n",
        "\n",
        "    public int SafeToDisintegrate \n",
        "    {\n",
        "        get {\n",
        "            // This is a convoluted way, just to test our supporting / supportedBy\n",
        "            var loadBearing = supporting\n",
        "                // We are supporting blocks\n",
        "                .Where(s =\u003E s.Value.Count \u003E 0)\n",
        "                // Those blocks are only supported by us\n",
        "                .Where(s =\u003E s.Value.Any(ss =\u003E supportedBy[ss].Count == 1))\n",
        "                .Count();\n",
        "\n",
        "            return supporting.Count - loadBearing;\n",
        "        }\n",
        "    }\n",
        "\n",
        "    public IEnumerable\u003CBrick\u003E AllBricks =\u003E loadBearing.Keys;\n",
        "    public IEnumerable\u003CBrick\u003E LoadBearing =\u003E loadBearing.Where(lb =\u003E lb.Value).Select(lb =\u003E lb.Key);\n",
        "    public Dictionary\u003CBrick, HashSet\u003CBrick\u003E\u003E Supporting =\u003E supporting;\n",
        "    public Dictionary\u003CBrick, HashSet\u003CBrick\u003E\u003E SupportedBy =\u003E supportedBy;\n",
        "}\n",
        "\n",
        "var testSim = new DropSim();\n",
        "// testSim.Drop(testInputBricks[0]);\n",
        "// testSim.Drop(testInputBricks[1]);\n",
        "foreach (var b in testInputBricks) {\n",
        "    testSim.Drop(b);\n",
        "}\n",
        "\n",
        "Console.WriteLine(testSim.Render());\n",
        "\n",
        "// So, in this example, 5 bricks can be safely disintegrated.\n",
        "Console.WriteLine(testSim.SafeToDisintegrate);"
      ]
    },
    {
      "cell_type": "code",
      "execution_count": 7,
      "metadata": {
        "dotnet_interactive": {
          "language": "csharp"
        },
        "polyglot_notebook": {
          "kernelName": "csharp"
        },
        "vscode": {
          "languageId": "polyglot-notebook"
        }
      },
      "outputs": [],
      "source": [
        "var inputBricks = inputLines.Select(ParseBrick).OrderBy(b =\u003E b.start.z).ToArray();\n",
        "\n",
        "var part1Sim = new DropSim();\n",
        "foreach (var b in inputBricks) {\n",
        "    part1Sim.Drop(b);\n",
        "}"
      ]
    },
    {
      "cell_type": "code",
      "execution_count": 8,
      "metadata": {
        "dotnet_interactive": {
          "language": "csharp"
        },
        "polyglot_notebook": {
          "kernelName": "csharp"
        },
        "vscode": {
          "languageId": "polyglot-notebook"
        }
      },
      "outputs": [
        {
          "name": "stdout",
          "output_type": "stream",
          "text": [
            "430\n"
          ]
        }
      ],
      "source": [
        "// Figure how the blocks will settle based on the snapshot. Once they\u0027ve\n",
        "// settled, consider disintegrating a single brick; how many bricks could be safely\n",
        "// chosen as the one to get disintegrated?\n",
        "\n",
        "var part1Answer = part1Sim.SafeToDisintegrate;\n",
        "Console.WriteLine(part1Answer);"
      ]
    },
    {
      "cell_type": "code",
      "execution_count": 9,
      "metadata": {
        "dotnet_interactive": {
          "language": "csharp"
        },
        "polyglot_notebook": {
          "kernelName": "csharp"
        },
        "vscode": {
          "languageId": "polyglot-notebook"
        }
      },
      "outputs": [],
      "source": [
        "// 430 is correct!\n",
        "Ensure(430, part1Answer);"
      ]
    },
    {
      "cell_type": "markdown",
      "metadata": {
        "dotnet_interactive": {
          "language": "csharp"
        },
        "polyglot_notebook": {
          "kernelName": "csharp"
        },
        "vscode": {
          "languageId": "polyglot-notebook"
        }
      },
      "source": [
        "### --- Part Two ---\n",
        "\n",
        "Puzzle description redacted as-per Advent of Code guidelines\n",
        "\n",
        "You may find the puzzle description at: https://adventofcode.com/2023/day/22"
      ]
    },
    {
      "cell_type": "code",
      "execution_count": 11,
      "metadata": {
        "dotnet_interactive": {
          "language": "csharp"
        },
        "polyglot_notebook": {
          "kernelName": "csharp"
        },
        "vscode": {
          "languageId": "polyglot-notebook"
        }
      },
      "outputs": [],
      "source": [
        "// Ok, so trying to disintegrate a non-load-bearing brick will do nothing, since there will be another brick holding up anything above. So the load-bearing bricks are the roots of our search.\n",
        "\n",
        "// Imagine this case:\n",
        "\n",
        "        //    *\n",
        "        //    *           F\n",
        "        // *********      E\n",
        "        //   *    *\n",
        "        //   *    *       C     D\n",
        "        // **********     B\n",
        "        //     *\n",
        "        //     *          A\n",
        "        //     *\n",
        "\n",
        "// A is load-bearing because it is supporting B\n",
        "// B is load-bearing because it is supporting C and D\n",
        "// C and D are NOT load bearing because E is supported by both\n",
        "// E is load-bearing because it is supporting F\n",
        "// F is NOT load-bearing because it is not supporting anything\n",
        "//\n",
        "// ...but removing A would cause a chain-reaction that would cause all of them to fall\n",
        "\n",
        "// Potentially, we can consider each load-bearing brick as as root, and trace upwards. \n",
        "\n",
        "// For each brick, we mark all the bricks it\u0027s supporting\n",
        "\n",
        "// For those bricks, if they are only supported by marked bricks, mark them and trace upwards\n",
        "\n",
        "// If they are supported by a non-marked brick, they will not fall and neither will any above"
      ]
    },
    {
      "cell_type": "code",
      "execution_count": 12,
      "metadata": {
        "dotnet_interactive": {
          "language": "csharp"
        },
        "polyglot_notebook": {
          "kernelName": "csharp"
        },
        "vscode": {
          "languageId": "polyglot-notebook"
        }
      },
      "outputs": [],
      "source": [
        "record TracedBrick(HashSet\u003CBrick\u003E coloured, HashSet\u003CBrick\u003E supporting)\n",
        "{\n",
        "    public int ResultCount =\u003E coloured.Count - 1;\n",
        "}\n",
        "\n",
        "class BrickTracer \n",
        "{\n",
        "    Dictionary\u003CBrick, TracedBrick\u003E traced = new();\n",
        "\n",
        "    public TracedBrick TraceOne(DropSim sim, Brick brickRoot)\n",
        "    {\n",
        "        Queue\u003CBrick\u003E queue = new();\n",
        "        HashSet\u003CBrick\u003E coloured = new();\n",
        "        HashSet\u003CBrick\u003E supportingBricks = new();\n",
        "\n",
        "        queue.Enqueue(brickRoot);\n",
        "\n",
        "        while (queue.TryDequeue(out var currentBrick))\n",
        "        {\n",
        "            var supportedBy = sim.SupportedBy[currentBrick];\n",
        "            var inColour = supportedBy.All(sb =\u003E coloured.Contains(sb));\n",
        "            if (!inColour \u0026\u0026 currentBrick != brickRoot) {\n",
        "                // This brick is supported by bricks outside our trace. It will not fall.\n",
        "                \n",
        "                // (From a caching perspective, we want to know how many bricks\n",
        "                // will fall, but also which ones remain supported, as future\n",
        "                // traces further down the stack might cause this whole set to fall.)\n",
        "                supportingBricks.Add(currentBrick);\n",
        "                continue;\n",
        "            }\n",
        "\n",
        "            // This brick is in our trace. Add it to the set and consider the bricks\n",
        "            // it\u0027s supporting \n",
        "\n",
        "            coloured.Add(currentBrick);\n",
        "            var supporting = sim.Supporting[currentBrick];\n",
        "\n",
        "            if (traced.TryGetValue(currentBrick, out var existing)) {\n",
        "                // This is a load-bearing brick that we have previously traced. We\n",
        "                // can save re-tracing the internals of this brick.\n",
        "\n",
        "                coloured.UnionWith(existing.coloured);\n",
        "                supporting = existing.supporting;\n",
        "            }\n",
        "\n",
        "            foreach (var s in supporting)\n",
        "            {\n",
        "                queue.Enqueue(s);\n",
        "            }\n",
        "        }\n",
        "\n",
        "        TracedBrick result = new(coloured, supportingBricks);\n",
        "        traced[brickRoot] = result;\n",
        "\n",
        "        return result;\n",
        "    }\n",
        "}"
      ]
    },
    {
      "cell_type": "code",
      "execution_count": 13,
      "metadata": {
        "dotnet_interactive": {
          "language": "csharp"
        },
        "polyglot_notebook": {
          "kernelName": "csharp"
        },
        "vscode": {
          "languageId": "polyglot-notebook"
        }
      },
      "outputs": [
        {
          "name": "stdout",
          "output_type": "stream",
          "text": [
            "Checking Point { x = 1, y = 0, z = 0 } = 6 additional bricks\n",
            "Checking Point { x = 0, y = 1, z = 3 } = 1 additional bricks\n"
          ]
        }
      ],
      "source": [
        "// Using the same example as above:\n",
        "\n",
        "// Disintegrating brick A would cause all 6 other bricks to fall.\n",
        "// Disintegrating brick F would cause only 1 other brick, G, to fall.\n",
        "// Disintegrating any other brick would cause no other bricks to fall. So, in\n",
        "// this example, the sum of the number of other bricks that would fall as a result\n",
        "// of disintegrating each brick is 7.\n",
        "\n",
        "var testTracer = new BrickTracer();\n",
        "foreach (var s in testSim.LoadBearing)\n",
        "{\n",
        "    var xx = testTracer.TraceOne(testSim, s);\n",
        "\n",
        "    Console.WriteLine($\u0022Checking {s.start} = {xx.ResultCount} additional bricks\u0022);\n",
        "}"
      ]
    },
    {
      "cell_type": "code",
      "execution_count": 14,
      "metadata": {
        "dotnet_interactive": {
          "language": "csharp"
        },
        "polyglot_notebook": {
          "kernelName": "csharp"
        },
        "vscode": {
          "languageId": "polyglot-notebook"
        }
      },
      "outputs": [
        {
          "name": "stdout",
          "output_type": "stream",
          "text": [
            "60558\n"
          ]
        }
      ],
      "source": [
        "// For each brick, determine how many other bricks would fall if that brick were\n",
        "// disintegrated. What is the sum of the number of other bricks that would fall?\n",
        "\n",
        "var part2Tracer = new BrickTracer();\n",
        "var part2Answer = part1Sim.LoadBearing.Reverse().Select(lb =\u003E part2Tracer.TraceOne(part1Sim, lb).ResultCount).Sum();\n",
        "Console.WriteLine(part2Answer);"
      ]
    },
    {
      "cell_type": "code",
      "execution_count": 15,
      "metadata": {
        "dotnet_interactive": {
          "language": "csharp"
        },
        "polyglot_notebook": {
          "kernelName": "csharp"
        },
        "vscode": {
          "languageId": "polyglot-notebook"
        }
      },
      "outputs": [],
      "source": [
        "// 60558 is correct!\n",
        "Ensure(60558, part2Answer);"
      ]
    }
  ],
  "metadata": {
    "kernelspec": {
      "display_name": ".NET (C#)",
      "language": "C#",
      "name": ".net-csharp"
    },
    "language_info": {
      "name": "python"
    },
    "polyglot_notebook": {
      "kernelInfo": {
        "defaultKernelName": "csharp",
        "items": [
          {
            "aliases": [],
            "name": "csharp"
          }
        ]
      }
    }
  },
  "nbformat": 4,
  "nbformat_minor": 2
}