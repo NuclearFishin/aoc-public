{
  "cells": [
    {
      "cell_type": "code",
      "execution_count": 1,
      "metadata": {
        "dotnet_interactive": {
          "language": "csharp"
        },
        "polyglot_notebook": {
          "kernelName": "csharp"
        },
        "vscode": {
          "languageId": "polyglot-notebook"
        }
      },
      "outputs": [],
      "source": [
        "// --- Day 13: Point of Incidence ---\n",
        "\n",
        "// Puzzle description redacted as-per Advent of Code guidelines\n",
        "\n",
        "// You may find the puzzle description at: https://adventofcode.com/2023/day/13"
      ]
    },
    {
      "cell_type": "code",
      "execution_count": 2,
      "metadata": {
        "dotnet_interactive": {
          "language": "csharp"
        },
        "polyglot_notebook": {
          "kernelName": "csharp"
        },
        "vscode": {
          "languageId": "polyglot-notebook"
        }
      },
      "outputs": [],
      "source": [
        "#!import ../Utils.ipynb"
      ]
    },
    {
      "cell_type": "code",
      "execution_count": 3,
      "metadata": {
        "dotnet_interactive": {
          "language": "csharp"
        },
        "polyglot_notebook": {
          "kernelName": "csharp"
        },
        "vscode": {
          "languageId": "polyglot-notebook"
        }
      },
      "outputs": [
        {
          "name": "stdout",
          "output_type": "stream",
          "text": [
            "Loading puzzle file: Day13.txt\n",
            "Total lines: 1349\n",
            "Max line length: 17\n",
            "\n",
            "######..#\n",
            ".##....#.\n",
            ".....##.#\n",
            ".....##.#\n",
            ".##..#.#.\n"
          ]
        }
      ],
      "source": [
        "var inputLines = LoadPuzzleInput(2023, 13);\n",
        "WriteLines(inputLines);"
      ]
    },
    {
      "cell_type": "code",
      "execution_count": 4,
      "metadata": {
        "dotnet_interactive": {
          "language": "csharp"
        },
        "polyglot_notebook": {
          "kernelName": "csharp"
        },
        "vscode": {
          "languageId": "polyglot-notebook"
        }
      },
      "outputs": [
        {
          "name": "stdout",
          "output_type": "stream",
          "text": [
            "(5, 6),(4, 7)\n"
          ]
        }
      ],
      "source": [
        "IEnumerable\u003C(T left, T right)\u003E Mirror\u003CT\u003E(IList\u003CT\u003E input, int mirrorLength) {\n",
        "    var left = input.Take(mirrorLength).Reverse();\n",
        "    var right = input.Skip(mirrorLength).Take(mirrorLength);\n",
        "\n",
        "    var pairs = left.Zip(right);\n",
        "\n",
        "    return pairs;\n",
        "}\n",
        "Console.WriteLine(string.Join(\u0022,\u0022, Mirror([1,2,3,4,5,6,7], 5)));"
      ]
    },
    {
      "cell_type": "code",
      "execution_count": 5,
      "metadata": {
        "dotnet_interactive": {
          "language": "csharp"
        },
        "polyglot_notebook": {
          "kernelName": "csharp"
        },
        "vscode": {
          "languageId": "polyglot-notebook"
        }
      },
      "outputs": [],
      "source": [
        "bool IsMirror\u003CT\u003E(IList\u003CT\u003E input, int mirrorLength, Func\u003CT, T, bool\u003E equality) =\u003E Mirror(input, mirrorLength).All(lr =\u003E equality(lr.left, lr.right));"
      ]
    },
    {
      "cell_type": "code",
      "execution_count": 6,
      "metadata": {
        "dotnet_interactive": {
          "language": "csharp"
        },
        "polyglot_notebook": {
          "kernelName": "csharp"
        },
        "vscode": {
          "languageId": "polyglot-notebook"
        }
      },
      "outputs": [
        {
          "name": "stdout",
          "output_type": "stream",
          "text": [
            "5,7\n"
          ]
        }
      ],
      "source": [
        "using System.Collections.Immutable;\n",
        "\n",
        "ImmutableHashSet\u003Cint\u003E GetMirrors\u003CT\u003E(IList\u003CT\u003E input, Func\u003CT, T, bool\u003E equality) =\u003E Enumerable.Range(1, input.Count - 1)\n",
        "    .Where(i =\u003E IsMirror(input, i, equality))\n",
        "    .ToImmutableHashSet();\n",
        "\n",
        "var charsEqual = (char left, char right) =\u003E left == right;\n",
        "\n",
        "var testInputLine = \u0022#.##..##.\u0022;\n",
        "Console.WriteLine(String.Join(\u0022,\u0022, GetMirrors(testInputLine.ToList(), charsEqual)));"
      ]
    },
    {
      "cell_type": "code",
      "execution_count": 7,
      "metadata": {
        "dotnet_interactive": {
          "language": "csharp"
        },
        "polyglot_notebook": {
          "kernelName": "csharp"
        },
        "vscode": {
          "languageId": "polyglot-notebook"
        }
      },
      "outputs": [
        {
          "name": "stdout",
          "output_type": "stream",
          "text": [
            "5\n"
          ]
        }
      ],
      "source": [
        "int GetColOfReflection(IEnumerable\u003Cstring\u003E inputs) =\u003E inputs\n",
        "    .Select(input =\u003E GetMirrors(input.ToList(), charsEqual))\n",
        "    .Aggregate((a, b) =\u003E a.Intersect(b))\n",
        "    .SingleOrDefault();\n",
        "\n",
        "var testInput = \u0022\u0022\u0022\n",
        "#.##..##.\n",
        "..#.##.#.\n",
        "##......#\n",
        "##......#\n",
        "..#.##.#.\n",
        "..##..##.\n",
        "#.#.##.#.\n",
        "\u0022\u0022\u0022;\n",
        "var testInputLines = testInput.Split(\u0027\\n\u0027);\n",
        "Console.WriteLine(GetColOfReflection(testInputLines));"
      ]
    },
    {
      "cell_type": "code",
      "execution_count": 8,
      "metadata": {
        "dotnet_interactive": {
          "language": "csharp"
        },
        "polyglot_notebook": {
          "kernelName": "csharp"
        },
        "vscode": {
          "languageId": "polyglot-notebook"
        }
      },
      "outputs": [
        {
          "name": "stdout",
          "output_type": "stream",
          "text": [
            "0\n",
            "4\n"
          ]
        }
      ],
      "source": [
        "var testInput2 = \u0022\u0022\u0022\n",
        "#...##..#\n",
        "#....#..#\n",
        "..##..###\n",
        "#####.##.\n",
        "#####.##.\n",
        "..##..###\n",
        "#....#..#\n",
        "\u0022\u0022\u0022;\n",
        "var testInputLines2 = testInput2.Split(\u0027\\n\u0027);\n",
        "\n",
        "// Should be no common mirror line in the row direction (answer = 0);\n",
        "var colAnswer2 = GetColOfReflection(testInputLines2);\n",
        "Console.WriteLine(colAnswer2);\n",
        "\n",
        "var rowsEqual = (string left, string right) =\u003E left == right;\n",
        "int GetRowOfReflection(IList\u003Cstring\u003E inputLines) =\u003E GetMirrors(inputLines, rowsEqual).SingleOrDefault();\n",
        "\n",
        "// This pattern reflects across the horizontal line between rows 4 and 5.\n",
        "var rowAnswer2 = GetRowOfReflection(testInputLines2);\n",
        "Console.WriteLine(rowAnswer2);\n"
      ]
    },
    {
      "cell_type": "code",
      "execution_count": 9,
      "metadata": {
        "dotnet_interactive": {
          "language": "csharp"
        },
        "polyglot_notebook": {
          "kernelName": "csharp"
        },
        "vscode": {
          "languageId": "polyglot-notebook"
        }
      },
      "outputs": [
        {
          "name": "stdout",
          "output_type": "stream",
          "text": [
            "100\n",
            "######..#\n",
            ".##....#.\n",
            ".....##.#\n",
            ".....##.#\n",
            ".##..#.#.\n",
            "######..#\n",
            "#..#..###\n",
            ".##..#.##\n",
            "#####.#.#\n",
            "#..#.##..\n",
            ".....###.\n",
            "#####....\n",
            "....##.#.\n"
          ]
        }
      ],
      "source": [
        "IEnumerable\u003CList\u003Cstring\u003E\u003E ParsePuzzles(string[] inputLines) {\n",
        "    var result = new List\u003Cstring\u003E();\n",
        "\n",
        "    foreach (var line in inputLines) {\n",
        "        if (line.Length == 0) {\n",
        "            yield return result;\n",
        "            result = new();\n",
        "        } else {\n",
        "            result.Add(line);\n",
        "        }\n",
        "    }\n",
        "\n",
        "    if (result.Any()) {\n",
        "        yield return result;\n",
        "    }\n",
        "}\n",
        "var inputPuzzles = ParsePuzzles(inputLines).ToArray();\n",
        "Console.WriteLine(inputPuzzles.Length);\n",
        "Console.WriteLine(string.Join(\u0027\\n\u0027, inputPuzzles[0]));"
      ]
    },
    {
      "cell_type": "code",
      "execution_count": 10,
      "metadata": {
        "dotnet_interactive": {
          "language": "csharp"
        },
        "polyglot_notebook": {
          "kernelName": "csharp"
        },
        "vscode": {
          "languageId": "polyglot-notebook"
        }
      },
      "outputs": [
        {
          "name": "stdout",
          "output_type": "stream",
          "text": [
            "335\n",
            "317\n",
            "32035\n"
          ]
        }
      ],
      "source": [
        "// To summarize your pattern notes, add up the number of columns to the left of\n",
        "// each vertical line of reflection; to that, also add 100 multiplied by the number\n",
        "// of rows above each horizontal line of reflection. In the above example, the\n",
        "// first pattern\u0027s vertical line has 5 columns to its left and the second pattern\u0027s\n",
        "// horizontal line has 4 rows above it, a total of 405.\n",
        "\n",
        "var leftColumns = inputPuzzles.Select(GetColOfReflection).Sum();\n",
        "Console.WriteLine(leftColumns);\n",
        "var aboveRows = inputPuzzles.Select(GetRowOfReflection).Sum();\n",
        "Console.WriteLine(aboveRows);\n",
        "\n",
        "var part1Answer = leftColumns \u002B aboveRows * 100;\n",
        "Console.WriteLine(part1Answer);"
      ]
    },
    {
      "cell_type": "code",
      "execution_count": 11,
      "metadata": {
        "dotnet_interactive": {
          "language": "csharp"
        },
        "polyglot_notebook": {
          "kernelName": "csharp"
        },
        "vscode": {
          "languageId": "polyglot-notebook"
        }
      },
      "outputs": [],
      "source": [
        "// 32035 is correct!\n",
        "Ensure(32035, part1Answer);"
      ]
    },
    {
      "cell_type": "code",
      "execution_count": 12,
      "metadata": {
        "dotnet_interactive": {
          "language": "csharp"
        },
        "polyglot_notebook": {
          "kernelName": "csharp"
        },
        "vscode": {
          "languageId": "polyglot-notebook"
        }
      },
      "outputs": [],
      "source": [
        "// --- Part Two ---\n",
        "\n",
        "// Puzzle description redacted as-per Advent of Code guidelines\n",
        "\n",
        "// You may find the puzzle description at: https://adventofcode.com/2023/day/13"
      ]
    },
    {
      "cell_type": "code",
      "execution_count": 13,
      "metadata": {
        "dotnet_interactive": {
          "language": "csharp"
        },
        "polyglot_notebook": {
          "kernelName": "csharp"
        },
        "vscode": {
          "languageId": "polyglot-notebook"
        }
      },
      "outputs": [],
      "source": [
        "char Swap(char ch) =\u003E ch switch {\n",
        "    \u0027#\u0027 =\u003E \u0027.\u0027,\n",
        "    \u0027.\u0027 =\u003E \u0027#\u0027,\n",
        "    _ =\u003E throw new Exception(\u0022Unexpected char\u0022)\n",
        "};"
      ]
    },
    {
      "cell_type": "code",
      "execution_count": 14,
      "metadata": {
        "dotnet_interactive": {
          "language": "csharp"
        },
        "polyglot_notebook": {
          "kernelName": "csharp"
        },
        "vscode": {
          "languageId": "polyglot-notebook"
        }
      },
      "outputs": [
        {
          "name": "stdout",
          "output_type": "stream",
          "text": [
            "117\n"
          ]
        }
      ],
      "source": [
        "IEnumerable\u003CList\u003Cstring\u003E\u003E SwapAllChars(List\u003Cstring\u003E puzzleInput) {\n",
        "    for (var row = 0; row \u003C puzzleInput.Count; row\u002B\u002B) {\n",
        "        var line = puzzleInput[row].ToCharArray();\n",
        "        for (var col = 0; col \u003C puzzleInput[0].Length; col\u002B\u002B) {\n",
        "            line[col] = Swap(line[col]);\n",
        "            puzzleInput[row] = new string(line);\n",
        "            yield return puzzleInput;\n",
        "            line[col] = Swap(line[col]);\n",
        "        }\n",
        "        puzzleInput[row] = new string(line);\n",
        "    }\n",
        "}\n",
        "\n",
        "// 9 x 13 = 117\n",
        "Console.WriteLine(SwapAllChars(inputPuzzles[0]).Count());"
      ]
    },
    {
      "cell_type": "code",
      "execution_count": 15,
      "metadata": {
        "dotnet_interactive": {
          "language": "csharp"
        },
        "polyglot_notebook": {
          "kernelName": "csharp"
        },
        "vscode": {
          "languageId": "polyglot-notebook"
        }
      },
      "outputs": [],
      "source": [
        "ImmutableHashSet\u003Cint\u003E GetRowOfReflection2(IList\u003Cstring\u003E inputLines) =\u003E GetMirrors(inputLines, rowsEqual);\n",
        "\n",
        "ImmutableHashSet\u003Cint\u003E GetColOfReflection2(IList\u003Cstring\u003E inputs) =\u003E inputs\n",
        "    .Select(input =\u003E GetMirrors(input.ToList(), charsEqual))\n",
        "    .Aggregate((a, b) =\u003E a.Intersect(b));\n",
        "\n",
        "(int newColLeft, int newRowAbove) GetNewSplit(List\u003Cstring\u003E inputPuzzle) {\n",
        "    int originalColLeft = GetColOfReflection(inputPuzzle);\n",
        "    int originalRowAbove = GetRowOfReflection(inputPuzzle);\n",
        "\n",
        "    var newColLeft = SwapAllChars(inputPuzzle).SelectMany(GetColOfReflection2).ToHashSet();\n",
        "    newColLeft.Remove(originalColLeft);\n",
        "    var newRowAbove = SwapAllChars(inputPuzzle).SelectMany(GetRowOfReflection2).ToHashSet();\n",
        "    newRowAbove.Remove(originalRowAbove);\n",
        "    \n",
        "    return (newColLeft.SingleOrDefault(), newRowAbove.SingleOrDefault());\n",
        "}"
      ]
    },
    {
      "cell_type": "code",
      "execution_count": 16,
      "metadata": {
        "dotnet_interactive": {
          "language": "csharp"
        },
        "polyglot_notebook": {
          "kernelName": "csharp"
        },
        "vscode": {
          "languageId": "polyglot-notebook"
        }
      },
      "outputs": [
        {
          "name": "stdout",
          "output_type": "stream",
          "text": [
            "Original puzzle:\n",
            "#.##..##.\n",
            "..#.##.#.\n",
            "##......#\n",
            "##......#\n",
            "..#.##.#.\n",
            "..##..##.\n",
            "#.#.##.#.\n",
            "(5, 0)\n",
            "New split: \n",
            "(0, 3)\n"
          ]
        }
      ],
      "source": [
        "var testInput2 = \u0022\u0022\u0022\n",
        "#.##..##.\n",
        "..#.##.#.\n",
        "##......#\n",
        "##......#\n",
        "..#.##.#.\n",
        "..##..##.\n",
        "#.#.##.#.\n",
        "\n",
        "#...##..#\n",
        "#....#..#\n",
        "..##..###\n",
        "#####.##.\n",
        "#####.##.\n",
        "..##..###\n",
        "#....#..#\n",
        "\u0022\u0022\u0022;\n",
        "var testInputLines2 = testInput2.Split(\u0027\\n\u0027);\n",
        "var testInputPuzzles2 = ParsePuzzles(testInputLines2).ToList();\n",
        "Console.WriteLine(\u0022Original puzzle:\u0022);\n",
        "Console.WriteLine(string.Join(\u0027\\n\u0027, testInputPuzzles2[0]));\n",
        "\n",
        "(int colsLeft, int rowsAbove) GetRowCols(IList\u003Cstring\u003E puzzleInput) =\u003E (GetColOfReflection(puzzleInput), GetRowOfReflection(puzzleInput));\n",
        "Console.WriteLine(GetRowCols(testInputPuzzles2[0]));\n",
        "\n",
        "Console.WriteLine(\u0022New split: \u0022);\n",
        "Console.WriteLine(GetNewSplit(testInputPuzzles2[0]));\n",
        "\n",
        "// The first pattern\u0027s smudge is in the top-left corner. If the top-left # were instead ., it would have a different, horizontal line of reflection:\n",
        "\n",
        "// 1 ..##..##. 1\n",
        "// 2 ..#.##.#. 2\n",
        "// 3v##......#v3\n",
        "// 4^##......#^4\n",
        "// 5 ..#.##.#. 5\n",
        "// 6 ..##..##. 6\n",
        "// 7 #.#.##.#. 7\n"
      ]
    },
    {
      "cell_type": "code",
      "execution_count": 17,
      "metadata": {
        "dotnet_interactive": {
          "language": "csharp"
        },
        "polyglot_notebook": {
          "kernelName": "csharp"
        },
        "vscode": {
          "languageId": "polyglot-notebook"
        }
      },
      "outputs": [
        {
          "name": "stdout",
          "output_type": "stream",
          "text": [
            "24847\n"
          ]
        }
      ],
      "source": [
        "// In each pattern, fix the smudge and find the different line of reflection.\n",
        "// What number do you get after summarizing the new reflection line in each pattern\n",
        "// in your notes?\n",
        "\n",
        "var allNewSplits = inputPuzzles.Select(GetNewSplit).ToList();\n",
        "var answer2ColsLeft = allNewSplits.Select(s =\u003E s.newColLeft).Sum();\n",
        "var answer2RowsAbove = allNewSplits.Select(s =\u003E s.newRowAbove).Sum();\n",
        "\n",
        "var part2Answer = answer2ColsLeft \u002B answer2RowsAbove * 100;\n",
        "Console.WriteLine(part2Answer);"
      ]
    },
    {
      "cell_type": "code",
      "execution_count": 18,
      "metadata": {
        "dotnet_interactive": {
          "language": "csharp"
        },
        "polyglot_notebook": {
          "kernelName": "csharp"
        },
        "vscode": {
          "languageId": "polyglot-notebook"
        }
      },
      "outputs": [],
      "source": [
        "// 24847 is correct!\n",
        "Ensure(24847, part2Answer);"
      ]
    }
  ],
  "metadata": {
    "kernelspec": {
      "display_name": ".NET (C#)",
      "language": "C#",
      "name": ".net-csharp"
    },
    "language_info": {
      "name": "python"
    },
    "polyglot_notebook": {
      "kernelInfo": {
        "defaultKernelName": "csharp",
        "items": [
          {
            "aliases": [],
            "name": "csharp"
          }
        ]
      }
    }
  },
  "nbformat": 4,
  "nbformat_minor": 2
}