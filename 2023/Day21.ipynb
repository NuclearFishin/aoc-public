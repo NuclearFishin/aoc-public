{
  "cells": [
    {
      "cell_type": "markdown",
      "metadata": {
        "dotnet_interactive": {
          "language": "csharp"
        },
        "polyglot_notebook": {
          "kernelName": "csharp"
        },
        "vscode": {
          "languageId": "polyglot-notebook"
        }
      },
      "source": [
        "### --- Day 21: Step Counter ---\n",
        "\n",
        "Puzzle description redacted as-per Advent of Code guidelines\n",
        "\n",
        "You may find the puzzle description at: https://adventofcode.com/2023/day/21"
      ]
    },
    {
      "cell_type": "code",
      "execution_count": 2,
      "metadata": {
        "dotnet_interactive": {
          "language": "csharp"
        },
        "polyglot_notebook": {
          "kernelName": "csharp"
        },
        "vscode": {
          "languageId": "polyglot-notebook"
        }
      },
      "outputs": [],
      "source": [
        "#!import ../Utils.ipynb"
      ]
    },
    {
      "cell_type": "code",
      "execution_count": 3,
      "metadata": {
        "dotnet_interactive": {
          "language": "csharp"
        },
        "polyglot_notebook": {
          "kernelName": "csharp"
        },
        "vscode": {
          "languageId": "polyglot-notebook"
        }
      },
      "outputs": [
        {
          "name": "stdout",
          "output_type": "stream",
          "text": [
            "Loading puzzle file: Day21.txt\n",
            "Total lines: 131\n",
            "Max line length: 131\n",
            "\n",
            "...................................................................................................................................\n",
            "...................#.....#.....#.#.............#.#......#.......................#......#.......#......#...#...#.##..........##.....\n",
            "......#......#.....#....#........#...............#..........................#................#...........#...#......#.....#.##.#...\n",
            "..#.........#......#........##..##.#............#.#.#.#...................##....#......#.#............#...........#................\n",
            ".#...............#....###.#....#...........#........##..............................#...............##.............#....#..........\n"
          ]
        }
      ],
      "source": [
        "var inputLines = LoadPuzzleInput(2023, 21);\n",
        "WriteLines(inputLines);"
      ]
    },
    {
      "cell_type": "code",
      "execution_count": 4,
      "metadata": {
        "dotnet_interactive": {
          "language": "csharp"
        },
        "polyglot_notebook": {
          "kernelName": "csharp"
        },
        "vscode": {
          "languageId": "polyglot-notebook"
        }
      },
      "outputs": [],
      "source": [
        "const char GardenPlot = \u0027.\u0027;\n",
        "const char Rock = \u0027#\u0027;\n",
        "const char StartingSquare = \u0027S\u0027;\n",
        "\n",
        "record Point(int row, int col) {\n",
        "    Point North =\u003E new(row - 1, col);\n",
        "    Point South =\u003E new(row \u002B 1, col);\n",
        "    Point East =\u003E new(row, col - 1);\n",
        "    Point West =\u003E new(row, col \u002B 1);\n",
        "\n",
        "    public Point[] All =\u003E [North, South, East, West];\n",
        "}\n",
        "record PlotPoint(Point point, char plotType);\n",
        "\n",
        "static Dictionary\u003CPoint, PlotPoint\u003E ParseGarden(string[] map) {\n",
        "    var q = from row in Enumerable.Range(0, map.Length)\n",
        "            from col in Enumerable.Range(0, map[0].Length)\n",
        "            let point = new Point(row, col)\n",
        "            select new PlotPoint(point, map[row][col]);\n",
        "\n",
        "    return q.ToDictionary(p =\u003E p.point);\n",
        "}"
      ]
    },
    {
      "cell_type": "code",
      "execution_count": 5,
      "metadata": {
        "dotnet_interactive": {
          "language": "csharp"
        },
        "polyglot_notebook": {
          "kernelName": "csharp"
        },
        "vscode": {
          "languageId": "polyglot-notebook"
        }
      },
      "outputs": [],
      "source": [
        "class Garden \n",
        "{\n",
        "    readonly Dictionary\u003CPoint, PlotPoint\u003E gardenPoints;\n",
        "    readonly int rows;\n",
        "    readonly int cols;\n",
        "    readonly Point startPoint;\n",
        "\n",
        "    public Garden(string[] map) {\n",
        "        gardenPoints = ParseGarden(map);\n",
        "\n",
        "        rows = gardenPoints.Values.Max(gp =\u003E gp.point.row) \u002B 1;\n",
        "        cols = gardenPoints.Values.Max(gp =\u003E gp.point.col) \u002B 1;\n",
        "        startPoint = gardenPoints.Values.Single(gp =\u003E gp.plotType == StartingSquare).point;\n",
        "    }\n",
        "\n",
        "    public HashSet\u003CPoint\u003E Explore(int steps)\n",
        "    {\n",
        "        HashSet\u003CPoint\u003E currentPoints = [startPoint];\n",
        "\n",
        "        for (var i = 0; i \u003C steps; i\u002B\u002B)\n",
        "        {\n",
        "            var nextPoints = currentPoints.SelectMany(cp =\u003E cp.All).Distinct().ToList();\n",
        "\n",
        "            var q = from p in nextPoints\n",
        "            where \n",
        "                p.row \u003E= 0\n",
        "                \u0026\u0026 p.row \u003C rows\n",
        "                \u0026\u0026 p.col \u003E= 0\n",
        "                \u0026\u0026 p.col \u003C cols\n",
        "            let gardenPoint = gardenPoints[p]\n",
        "            where gardenPoint.plotType != Rock\n",
        "            select p;\n",
        "\n",
        "            currentPoints.Clear();\n",
        "            currentPoints.UnionWith(q);\n",
        "        }\n",
        "\n",
        "        return currentPoints;\n",
        "    }\n",
        "\n",
        "    public string Render(HashSet\u003CPoint\u003E reachablePoints = null)\n",
        "    {\n",
        "        reachablePoints ??= [];\n",
        "\n",
        "        var sb = new StringBuilder();\n",
        "        foreach (var row in Enumerable.Range(0, rows)) {\n",
        "            foreach (var col in Enumerable.Range(0, cols)) {\n",
        "                Point p = new(row, col);\n",
        "                if (reachablePoints.Contains(p)) {\n",
        "                    sb.Append(\u0022O\u0022);\n",
        "                } else {\n",
        "                    sb.Append(gardenPoints[p].plotType);\n",
        "                }\n",
        "            }\n",
        "            sb.AppendLine();\n",
        "        }\n",
        "        return sb.ToString();\n",
        "    }\n",
        "}"
      ]
    },
    {
      "cell_type": "code",
      "execution_count": 6,
      "metadata": {
        "dotnet_interactive": {
          "language": "csharp"
        },
        "polyglot_notebook": {
          "kernelName": "csharp"
        },
        "vscode": {
          "languageId": "polyglot-notebook"
        }
      },
      "outputs": [],
      "source": [
        "string[] testInputLines = [\n",
        "    \u0022...........\u0022,\n",
        "    \u0022.....###.#.\u0022,\n",
        "    \u0022.###.##..#.\u0022,\n",
        "    \u0022..#.#...#..\u0022,\n",
        "    \u0022....#.#....\u0022,\n",
        "    \u0022.##..S####.\u0022,\n",
        "    \u0022.##..#...#.\u0022,\n",
        "    \u0022.......##..\u0022,\n",
        "    \u0022.##.#.####.\u0022,\n",
        "    \u0022.##..##.##.\u0022,\n",
        "    \u0022...........\u0022,\n",
        "];"
      ]
    },
    {
      "cell_type": "code",
      "execution_count": 7,
      "metadata": {
        "dotnet_interactive": {
          "language": "csharp"
        },
        "polyglot_notebook": {
          "kernelName": "csharp"
        },
        "vscode": {
          "languageId": "polyglot-notebook"
        }
      },
      "outputs": [
        {
          "name": "stdout",
          "output_type": "stream",
          "text": [
            "...........\n",
            ".....###.#.\n",
            ".###.##..#.\n",
            "..#.#...#..\n",
            "....#.#....\n",
            ".##..S####.\n",
            ".##..#...#.\n",
            ".......##..\n",
            ".##.#.####.\n",
            ".##..##.##.\n",
            "...........\n",
            "\n"
          ]
        }
      ],
      "source": [
        "var testGarden = new Garden(testInputLines);\n",
        "Console.WriteLine(testGarden.Render());"
      ]
    },
    {
      "cell_type": "code",
      "execution_count": 8,
      "metadata": {
        "dotnet_interactive": {
          "language": "csharp"
        },
        "polyglot_notebook": {
          "kernelName": "csharp"
        },
        "vscode": {
          "languageId": "polyglot-notebook"
        }
      },
      "outputs": [
        {
          "name": "stdout",
          "output_type": "stream",
          "text": [
            "...........\n",
            ".....###.#.\n",
            ".###.##.O#.\n",
            ".O#O#O.O#..\n",
            "O.O.#.#.O..\n",
            ".##O.O####.\n",
            ".##.O#O..#.\n",
            ".O.O.O.##..\n",
            ".##.#.####.\n",
            ".##O.##.##.\n",
            "...........\n",
            "\n"
          ]
        }
      ],
      "source": [
        "// After a total of 6 steps, he could reach any of the garden plots marked O:\n",
        "\n",
        "// ...........\n",
        "// .....###.#.\n",
        "// .###.##.O#.\n",
        "// .O#O#O.O#..\n",
        "// O.O.#.#.O..\n",
        "// .##O.O####.\n",
        "// .##.O#O..#.\n",
        "// .O.O.O.##..\n",
        "// .##.#.####.\n",
        "// .##O.##.##.\n",
        "// ...........\n",
        "\n",
        "var testReachable = testGarden.Explore(6);\n",
        "Console.WriteLine(testGarden.Render(testReachable));"
      ]
    },
    {
      "cell_type": "code",
      "execution_count": 9,
      "metadata": {
        "dotnet_interactive": {
          "language": "csharp"
        },
        "polyglot_notebook": {
          "kernelName": "csharp"
        },
        "vscode": {
          "languageId": "polyglot-notebook"
        }
      },
      "outputs": [
        {
          "name": "stdout",
          "output_type": "stream",
          "text": [
            "3764\n"
          ]
        }
      ],
      "source": [
        "// Starting from the garden plot marked S on your map, how many garden plots could the Elf reach in exactly 64 steps?\n",
        "\n",
        "var part1Garden = new Garden(inputLines);\n",
        "var part1Answer = part1Garden.Explore(64).Count;\n",
        "Console.WriteLine(part1Answer);"
      ]
    },
    {
      "cell_type": "code",
      "execution_count": 10,
      "metadata": {
        "dotnet_interactive": {
          "language": "csharp"
        },
        "polyglot_notebook": {
          "kernelName": "csharp"
        },
        "vscode": {
          "languageId": "polyglot-notebook"
        }
      },
      "outputs": [],
      "source": [
        "// 3764 is correct!\n",
        "Ensure(3764, part1Answer);"
      ]
    },
    {
      "cell_type": "markdown",
      "metadata": {
        "dotnet_interactive": {
          "language": "csharp"
        },
        "polyglot_notebook": {
          "kernelName": "csharp"
        },
        "vscode": {
          "languageId": "polyglot-notebook"
        }
      },
      "source": [
        "### --- Part Two ---\n",
        "\n",
        "Puzzle description redacted as-per Advent of Code guidelines\n",
        "\n",
        "You may find the puzzle description at: https://adventofcode.com/2023/day/21"
      ]
    },
    {
      "cell_type": "code",
      "execution_count": 12,
      "metadata": {
        "dotnet_interactive": {
          "language": "csharp"
        },
        "polyglot_notebook": {
          "kernelName": "csharp"
        },
        "vscode": {
          "languageId": "polyglot-notebook"
        }
      },
      "outputs": [],
      "source": [
        "// Ok so we\u0027re going to need an infinte tile garden simulator"
      ]
    },
    {
      "cell_type": "code",
      "execution_count": 13,
      "metadata": {
        "dotnet_interactive": {
          "language": "csharp"
        },
        "polyglot_notebook": {
          "kernelName": "csharp"
        },
        "vscode": {
          "languageId": "polyglot-notebook"
        }
      },
      "outputs": [],
      "source": [
        "class Garden2\n",
        "{\n",
        "    readonly Dictionary\u003CPoint, PlotPoint\u003E gardenPoints;\n",
        "    readonly int rows;\n",
        "    readonly int cols;\n",
        "    readonly Point startPoint;\n",
        "\n",
        "    public Garden2(string[] map) {\n",
        "        gardenPoints = ParseGarden(map);\n",
        "\n",
        "        rows = cols = map.Length; // assume square\n",
        "        startPoint = gardenPoints.Values.Single(gp =\u003E gp.plotType == StartingSquare).point;\n",
        "    }\n",
        "\n",
        "    PlotPoint GetPoint(Point p)\n",
        "    {\n",
        "        var (row, col) = (p.row % rows, p.col % cols);\n",
        "\n",
        "        row = row \u003C 0 ? row \u002B rows : row;\n",
        "        col = col \u003C 0 ? col \u002B cols : col;\n",
        "\n",
        "        Point mappedPoint = new(row, col);\n",
        "\n",
        "        return gardenPoints[mappedPoint];\n",
        "    }\n",
        "\n",
        "    public HashSet\u003CPoint\u003E Explore(int steps)\n",
        "    {\n",
        "        HashSet\u003CPoint\u003E discovered = [startPoint];\n",
        "        HashSet\u003CPoint\u003E currentPoints = [startPoint];\n",
        "\n",
        "        var i = steps % 2;\n",
        "        if (i == 1) {\n",
        "            discovered.Clear();\n",
        "            currentPoints.Clear();\n",
        "            discovered.UnionWith(startPoint.All);\n",
        "            currentPoints.UnionWith(discovered);\n",
        "        }\n",
        "\n",
        "        for (; i \u003C steps; i \u002B= 2)\n",
        "        {\n",
        "            HashSet\u003CPoint\u003E nextPoints = new();\n",
        "            foreach (var cp in currentPoints) {\n",
        "                foreach (var cpNext in cp.All) {\n",
        "                    var gardenPoint = GetPoint(cpNext);\n",
        "                    if (gardenPoint.plotType == Rock) continue;\n",
        "\n",
        "                    foreach (var cp2 in cpNext.All) {\n",
        "                        if (discovered.Contains(cp2)) continue;\n",
        "                        \n",
        "                        gardenPoint = GetPoint(cp2);\n",
        "                        if (gardenPoint.plotType == Rock) continue;\n",
        "\n",
        "                        nextPoints.Add(cp2);\n",
        "                    }\n",
        "                }\n",
        "            }\n",
        "\n",
        "            currentPoints.Clear();\n",
        "            currentPoints.UnionWith(nextPoints);\n",
        "            discovered.UnionWith(currentPoints);\n",
        "        }\n",
        "\n",
        "        return discovered;\n",
        "    }\n",
        "\n",
        "    public int ExploreCount(int steps) =\u003E Explore(steps).Count;\n",
        "\n",
        "    public string Render(HashSet\u003CPoint\u003E reachablePoints = null)\n",
        "    {\n",
        "        reachablePoints ??= [];\n",
        "\n",
        "        var sb = new StringBuilder();\n",
        "        foreach (var row in Enumerable.Range(0, rows)) {\n",
        "            foreach (var col in Enumerable.Range(0, cols)) {\n",
        "                Point p = new(row, col);\n",
        "                if (reachablePoints.Contains(p)) {\n",
        "                    sb.Append(\u0022O\u0022);\n",
        "                } else {\n",
        "                    sb.Append(gardenPoints[p].plotType);\n",
        "                }\n",
        "            }\n",
        "            sb.AppendLine();\n",
        "        }\n",
        "        return sb.ToString();\n",
        "    }\n",
        "}"
      ]
    },
    {
      "cell_type": "code",
      "execution_count": 14,
      "metadata": {
        "dotnet_interactive": {
          "language": "csharp"
        },
        "polyglot_notebook": {
          "kernelName": "csharp"
        },
        "vscode": {
          "languageId": "polyglot-notebook"
        }
      },
      "outputs": [
        {
          "name": "stdout",
          "output_type": "stream",
          "text": [
            "16\n",
            "1594\n",
            "6536\n",
            "167004\n",
            "668697\n"
          ]
        }
      ],
      "source": [
        "var testGarden2 = new Garden2(testInputLines);\n",
        "\n",
        "// In exactly 6 steps, he can still reach 16 garden plots.\n",
        "// In exactly 10 steps, he can reach any of 50 garden plots.\n",
        "// In exactly 50 steps, he can reach 1594 garden plots.\n",
        "// In exactly 100 steps, he can reach 6536 garden plots.\n",
        "// In exactly 500 steps, he can reach 167004 garden plots.\n",
        "// In exactly 1000 steps, he can reach 668697 garden plots.\n",
        "// In exactly 5000 steps, he can reach 16733044 garden plots.\n",
        "\n",
        "Console.WriteLine(testGarden2.ExploreCount(6));\n",
        "Console.WriteLine(testGarden2.ExploreCount(50));\n",
        "Console.WriteLine(testGarden2.ExploreCount(100));\n",
        "Console.WriteLine(testGarden2.ExploreCount(500));\n",
        "Console.WriteLine(testGarden2.ExploreCount(1000));\n",
        "// This one takes ~40 seconds\n",
        "// Console.WriteLine(testGarden2.ExploreCount(5000));\n"
      ]
    },
    {
      "cell_type": "code",
      "execution_count": 15,
      "metadata": {
        "dotnet_interactive": {
          "language": "csharp"
        },
        "polyglot_notebook": {
          "kernelName": "csharp"
        },
        "vscode": {
          "languageId": "polyglot-notebook"
        }
      },
      "outputs": [],
      "source": [
        "// As suspected we can\u0027t just calculate our way to the result."
      ]
    },
    {
      "cell_type": "code",
      "execution_count": 16,
      "metadata": {
        "dotnet_interactive": {
          "language": "csharp"
        },
        "polyglot_notebook": {
          "kernelName": "csharp"
        },
        "vscode": {
          "languageId": "polyglot-notebook"
        }
      },
      "outputs": [
        {
          "name": "stdout",
          "output_type": "stream",
          "text": [
            "...............................\n",
            "...............................\n",
            "...............................\n",
            "...............................\n",
            "...............................\n",
            "...............................\n",
            "...............O...............\n",
            "..............O.O..............\n",
            ".............O.O.O.............\n",
            "............O.O.O.O............\n",
            "...........O.O.O.O.O...........\n",
            "..........O.O.O.O.O.O..........\n",
            ".........O.O.O.O.O.O.O.........\n",
            "........O.O.O.O.O.O.O.O........\n",
            ".......O.O.O.O.O.O.O.O.O.......\n",
            "......O.O.O.O.OSO.O.O.O.O......\n",
            ".......O.O.O.O.O.O.O.O.O.......\n",
            "........O.O.O.O.O.O.O.O........\n",
            ".........O.O.O.O.O.O.O.........\n",
            "..........O.O.O.O.O.O..........\n",
            "...........O.O.O.O.O...........\n",
            "............O.O.O.O............\n",
            ".............O.O.O.............\n",
            "..............O.O..............\n",
            "...............O...............\n",
            "...............................\n",
            "...............................\n",
            "...............................\n",
            "...............................\n",
            "...............................\n",
            "...............................\n",
            "\n",
            "100\n"
          ]
        }
      ],
      "source": [
        "// Let\u0027s see if the diamond theory is correct. Essentially we can reach every second tile in the up, down, left, right directions. \n",
        "\n",
        "var expInputLines = File.ReadAllLines(\u0022Day21-exp.txt\u0022);\n",
        "var expInputMap = new Garden(expInputLines);\n",
        "\n",
        "var expResult = expInputMap.Explore(9);\n",
        "Console.WriteLine(expInputMap.Render(expResult));\n",
        "Console.WriteLine(expResult.Count);"
      ]
    },
    {
      "cell_type": "code",
      "execution_count": 17,
      "metadata": {
        "dotnet_interactive": {
          "language": "csharp"
        },
        "polyglot_notebook": {
          "kernelName": "csharp"
        },
        "vscode": {
          "languageId": "polyglot-notebook"
        }
      },
      "outputs": [],
      "source": [
        "// Ok, so for a given number n, without any rocks the total reachable points is (n \u002B 1)^2\n",
        "\n",
        "// But how do we adjust for rocks??"
      ]
    },
    {
      "cell_type": "code",
      "execution_count": 18,
      "metadata": {
        "dotnet_interactive": {
          "language": "csharp"
        },
        "polyglot_notebook": {
          "kernelName": "csharp"
        },
        "vscode": {
          "languageId": "polyglot-notebook"
        }
      },
      "outputs": [
        {
          "name": "stdout",
          "output_type": "stream",
          "text": [
            "Display range: 0 ... 65 ... 130\n",
            "Position after 26501365 steps: 26501430 = 130\n"
          ]
        }
      ],
      "source": [
        "// Curiously there is a full diamond at 65 steps with 0 rocks on the outside\n",
        "\n",
        "// Total steps to explore: 26501365\n",
        "\n",
        "// Our garden has 131 cols, the S is right in the middle at col 66\n",
        "// Likewise, 131 rows, S is at row 66\n",
        "\n",
        "// I have a theory that our exploring reaches this diamond\n",
        "\n",
        "var cols = 131;\n",
        "var min_col = 0;\n",
        "var max_col = cols - 1;\n",
        "var middle = cols / 2;\n",
        "var steps = 26501365;\n",
        "\n",
        "var right = (middle \u002B steps);\n",
        "var rightMod = right % cols;\n",
        "\n",
        "Console.WriteLine($\u0022Display range: {min_col} ... {middle} ... {max_col}\u0022);\n",
        "Console.WriteLine($\u0022Position after {steps} steps: {right} = {rightMod}\u0022);\n",
        "\n",
        "// So now we know that...\n",
        "// The explored shape is a diamond, which terminates exactly on the edges of a tile\n",
        "\n",
        "// The edges are not blocked by any rocks, so we always reach the full extremity of\n",
        "// each edge- our reachable steps are not blocked by rocks on non-reachable steps\n",
        "\n",
        "// Therefore the internal spaces blocked by rocks can be \u0022walked around\u0022, leaving\n",
        "// the only unreachable spaces are the reachable ones blocked by rocks\n",
        "\n"
      ]
    },
    {
      "cell_type": "code",
      "execution_count": 19,
      "metadata": {
        "dotnet_interactive": {
          "language": "csharp"
        },
        "polyglot_notebook": {
          "kernelName": "csharp"
        },
        "vscode": {
          "languageId": "polyglot-notebook"
        }
      },
      "outputs": [
        {
          "data": {
            "text/html": [
              "\u003Cdiv class=\u0022dni-plaintext\u0022\u003E\u003Cpre\u003E404601\u003C/pre\u003E\u003C/div\u003E\u003Cstyle\u003E\r\n",
              ".dni-code-hint {\r\n",
              "    font-style: italic;\r\n",
              "    overflow: hidden;\r\n",
              "    white-space: nowrap;\r\n",
              "}\r\n",
              ".dni-treeview {\r\n",
              "    white-space: nowrap;\r\n",
              "}\r\n",
              ".dni-treeview td {\r\n",
              "    vertical-align: top;\r\n",
              "    text-align: start;\r\n",
              "}\r\n",
              "details.dni-treeview {\r\n",
              "    padding-left: 1em;\r\n",
              "}\r\n",
              "table td {\r\n",
              "    text-align: start;\r\n",
              "}\r\n",
              "table tr { \r\n",
              "    vertical-align: top; \r\n",
              "    margin: 0em 0px;\r\n",
              "}\r\n",
              "table tr td pre \r\n",
              "{ \r\n",
              "    vertical-align: top !important; \r\n",
              "    margin: 0em 0px !important;\r\n",
              "} \r\n",
              "table th {\r\n",
              "    text-align: start;\r\n",
              "}\r\n",
              "\u003C/style\u003E"
            ]
          },
          "metadata": {},
          "output_type": "display_data"
        }
      ],
      "source": [
        "// so once we explore 26501365 steps to the right, we are at one edge, and exploring 26501365 steps the other direction puts us at the other, so I guess our exploring is an even multiple of tiles:\n",
        "\n",
        "(26501365 * 2 \u002B 1) / 131\n",
        "\n",
        "// = 404601, so yes it looks that way"
      ]
    },
    {
      "cell_type": "code",
      "execution_count": 20,
      "metadata": {
        "dotnet_interactive": {
          "language": "csharp"
        },
        "polyglot_notebook": {
          "kernelName": "csharp"
        },
        "vscode": {
          "languageId": "polyglot-notebook"
        }
      },
      "outputs": [],
      "source": [
        "// Let\u0027s create a 3x3 off the original and render that?\n",
        "\n",
        "// I think the rend result should be a number of full boxes plus triangles\n",
        "\n",
        "string[] Replicate(string[] template, int times) {\n",
        "    var result = new string[template.Length * times];\n",
        "    var j = 0;\n",
        "    foreach (var i in Enumerable.Range(0, times)) {\n",
        "        foreach (var row in template) {\n",
        "            var bigRow = Enumerable.Range(0, times).SelectMany(j =\u003E row.Replace(\u0027S\u0027, \u0027.\u0027)).ToArray();\n",
        "            var bigStr = new string(bigRow);\n",
        "            result[j\u002B\u002B] = bigStr;\n",
        "        }\n",
        "    }\n",
        "\n",
        "    var middleRow = result[result.Length / 2].ToCharArray();\n",
        "    middleRow[middleRow.Length / 2] = \u0027S\u0027;\n",
        "    result[result.Length / 2] = new string(middleRow);\n",
        "\n",
        "    return result;\n",
        "}"
      ]
    },
    {
      "cell_type": "code",
      "execution_count": 21,
      "metadata": {
        "dotnet_interactive": {
          "language": "csharp"
        },
        "polyglot_notebook": {
          "kernelName": "csharp"
        },
        "vscode": {
          "languageId": "polyglot-notebook"
        }
      },
      "outputs": [
        {
          "name": "stdout",
          "output_type": "stream",
          "text": [
            ".........................................................................................................................................................................................................................................................................................................................................................................................................\n",
            "...................#.....#.....#.#.............#.#......#.......................#......#.......#......#...#...#.##..........##........................#.....#.....#.#.............#.#......#.......................#......#.......#......#...#...#.##..........##........................#.....#.....#.#.............#.#......#.......................#......#.......#......#...#...#.##..........##.....\n",
            "......#......#.....#....#........#...............#..........................#................#...........#...#......#.....#.##.#.........#......#.....#....#........#...............#..........................#................#...........#...#......#.....#.##.#.........#......#.....#....#........#...............#..........................#................#...........#...#......#.....#.##.#...\n",
            "..#.........#......#........##..##.#............#.#.#.#...................##....#......#.#............#...........#..................#.........#......#........##..##.#............#.#.#.#...................##....#......#.#............#...........#..................#.........#......#........##..##.#............#.#.#.#...................##....#......#.#............#...........#................\n",
            ".#...............#....###.#....#...........#........##..............................#...............##.............#....#...........#...............#....###.#....#...........#........##..............................#...............##.............#....#...........#...............#....###.#....#...........#........##..............................#...............##.............#....#..........\n",
            "............#.............##..#.#.....#..........#...#....................###...#.......#...........#.......##.#.........#.....................#.............##..#.#.....#..........#...#....................###...#.......#...........#.......##.#.........#.....................#.............##..#.#.....#..........#...#....................###...#.......#...........#.......##.#.........#.........\n",
            ".................#..........#..#..#.....##..#........#..........#............#...##.#..............#.....#.........#....#..#........................#..........#..#..#.....##..#........#..........#............#...##.#..............#.....#.........#....#..#........................#..........#..#..#.....##..#........#..........#............#...##.#..............#.....#.........#....#..#.......\n",
            "...#.......#..........#..#......###............#...#.#......................#.....#........###.#.............#..#....#..........#.....#.......#..........#..#......###............#...#.#......................#.....#........###.#.............#..#....#..........#.....#.......#..........#..#......###............#...#.#......................#.....#........###.#.............#..#....#..........#..\n",
            ".................#...#........................................................#.#..................##...#.#.#....#...##..........#..................#...#........................................................#.#..................##...#.#.#....#...##..........#..................#...#........................................................#.#..................##...#.#.#....#...##..........#.\n",
            "....#..........#...##...#...........#...........#................................#..#.............#.#...........#....#........#........#..........#...##...#...........#...........#................................#..#.............#.#...........#....#........#........#..........#...##...#...........#...........#................................#..#.............#.#...........#....#........#....\n",
            ".....#....##...#........#......#.#..............#..........#......#..............#.......#...................#.......#...##..#...#......#....##...#........#......#.#..............#..........#......#..............#.......#...................#.......#...##..#...#......#....##...#........#......#.#..............#..........#......#..............#.......#...................#.......#...##..#...#.\n",
            "......#...#.#....#...............#............#.....................#................#...###.#...#..........#.##...#.....................#...#.#....#...............#............#.....................#................#...###.#...#..........#.##...#.....................#...#.#....#...............#............#.....................#................#...###.#...#..........#.##...#...............\n",
            ".....##..#............#..#.........#..#....#...............#..............................#.#.......................#............#......##..#............#..#.........#..#....#...............#..............................#.#.......................#............#......##..#............#..#.........#..#....#...............#..............................#.#.......................#............#.\n",
            ".........##.....#.....#.........#.....#....#...............#.##.#....................#........................#..#..#...........#...........##.....#.....#.........#.....#....#...............#.##.#....................#........................#..#..#...........#...........##.....#.....#.........#.....#....#...............#.##.#....................#........................#..#..#...........#..\n",
            "......#.##.............#......#.##.............................#......#..#..........#....#.#.......#...#.#...#.......#.#........#........#.##.............#......#.##.............................#......#..#..........#....#.#.......#...#.#...#.......#.#........#........#.##.............#......#.##.............................#......#..#..........#....#.#.......#...#.#...#.......#.#........#..\n",
            "...................#..........#...........#.................#......#.......#..................#.....#...........#.#...#...............................#..........#...........#.................#......#.......#..................#.....#...........#.#...#...............................#..........#...........#.................#......#.......#..................#.....#...........#.#...#............\n",
            ".....#.........##........#.........#.#.#.##..............#....#..........##.............###.##.....#......##.##.#...............#.......#.........##........#.........#.#.#.##..............#....#..........##.............###.##.....#......##.##.#...............#.......#.........##........#.........#.#.#.##..............#....#..........##.............###.##.....#......##.##.#...............#..\n",
            ".#..#.....#...#..#......#..........................................#..........................#.....#......#........................#..#.....#...#..#......#..........................................#..........................#.....#......#........................#..#.....#...#..#......#..........................................#..........................#.....#......#.......................\n",
            ".....#.#....#..........#............#.....##.................#................................#.##..#...........#............#..........#.#....#..........#............#.....##.................#................................#.##..#...........#............#..........#.#....#..........#............#.....##.................#................................#.##..#...........#............#.....\n",
            "............#.......#...#.#......#.............................#...............................#..........#................#.....#.............#.......#...#.#......#.............................#...............................#..........#................#.....#.............#.......#...#.#......#.............................#...............................#..........#................#.....#.\n",
            ".......#.....##..........##.#.........#...............................#......#.#..........................#......#......##.....#..........#.....##..........##.#.........#...............................#......#.#..........................#......#......##.....#..........#.....##..........##.#.........#...............................#......#.#..........................#......#......##.....#...\n",
            "......#.#.......#..#..#..#............................##.#....##..........#...............#.......#.............##.....##................#.#.......#..#..#..#............................##.#....##..........#...............#.......#.............##.....##................#.#.......#..#..#..#............................##.#....##..........#...............#.......#.............##.....##..........\n",
            "................#..#.........#.....#...........#...##.#.....#.......#......#...............#..#......##........#...#.#.............................#..#.........#.....#...........#...##.#.....#.......#......#...............#..#......##........#...#.#.............................#..#.........#.....#...........#...##.#.....#.......#......#...............#..#......##........#...#.#.............\n",
            ".#............#..#.#.#....#....#.............................#.........#...........#................#....#...#....#...#.#...#.......#............#..#.#.#....#....#.............................#.........#...........#................#....#...#....#...#.#...#.......#............#..#.#.#....#....#.............................#.........#...........#................#....#...#....#...#.#...#......\n",
            ".................#......#......##..............#.........#........#.........#...#....#............#.#..#...................#..##....................#......#......##..............#.........#........#.........#...#....#............#.#..#...................#..##....................#......#......##..............#.........#........#.........#...#....#............#.#..#...................#..##...\n",
            "........#..........#..........................##..#....#...............................................#......#...........##..#............#..........#..........................##..#....#...............................................#......#...........##..#............#..........#..........................##..#....#...............................................#......#...........##..#....\n",
            "........#.#.#..........#...#....................#....#..#....#.........#...#..#.................#......#..##......#..........#.............#.#.#..........#...#....................#....#..#....#.........#...#..#.................#......#..##......#..........#.............#.#.#..........#...#....................#....#..#....#.........#...#..#.................#......#..##......#..........#.....\n",
            "...............#..................#.................................#..#....#..#..#...................#.......#............#......................#..................#.................................#..#....#..#..#...................#.......#............#......................#..................#.................................#..#....#..#..#...................#.......#............#.......\n",
            ".#.#..............#......#.............................................#..............##....................#...........#......#.#..#.#..............#......#.............................................#..............##....................#...........#......#.#..#.#..............#......#.............................................#..............##....................#...........#......#.#.\n",
            ".#.........#.....#............#...............#...........#.......#......#........................#...#..................#..........#.........#.....#............#...............#...........#.......#......#........................#...#..................#..........#.........#.....#............#...............#...........#.......#......#........................#...#..................#.........\n",
            "......#.........#....#.....................#.#..................#....#....#.....###..#.#.............#..#................................#.........#....#.....................#.#..................#....#....#.....###..#.#.............#..#................................#.........#....#.....................#.#..................#....#....#.....###..#.#.............#..#..........................\n",
            "...#....#................................#.....#.#...........#.................#.................................#.......#.....#.#....#....#................................#.....#.#...........#.................#.................................#.......#.....#.#....#....#................................#.....#.#...........#.................#.................................#.......#.....#.#.\n",
            "...#...#..##...........#..............#....................#.........#.#....#....##..................#....#...#.......................#...#..##...........#..............#....................#.........#.#....#....##..................#....#...#.......................#...#..##...........#..............#....................#.........#.#....#....##..................#....#...#....................\n",
            "......#..........#........#...........................##........#.#.....#.....#.......#...............#.......#..........................#..........#........#...........................##........#.#.....#.....#.......#...............#.......#..........................#..........#........#...........................##........#.#.....#.....#.......#...............#.......#....................\n",
            ".......#..........##..#.#..........................#.#........#.#...........#...........#....#.........#..................#.#.............#..........##..#.#..........................#.#........#.#...........#...........#....#.........#..................#.#.............#..........##..#.#..........................#.#........#.#...........#...........#....#.........#..................#.#......\n",
            "....................#....................#.........#...#......#.......#.......##.......................................................................#....................#.........#...#......#.......#.......##.......................................................................#....................#.........#...#......#.......#.......##...................................................\n",
            "..........#............#..........#........#...........#......................#..........................##.#..#.........#...#...............#............#..........#........#...........#......................#..........................##.#..#.........#...#...............#............#..........#........#...........#......................#..........................##.#..#.........#...#.....\n",
            "......#.....#.....................#.##.........#...#............#.#...........#...#.#............#.........##......#..........#..........#.....#.....................#.##.........#...#............#.#...........#...#.#............#.........##......#..........#..........#.....#.....................#.##.........#...#............#.#...........#...#.#............#.........##......#..........#....\n",
            ".....#..........#.....#..............#.......#..##...........#.............#..#....#...#.......................##...........##...#......#..........#.....#..............#.......#..##...........#.............#..#....#...#.......................##...........##...#......#..........#.....#..............#.......#..##...........#.............#..#....#...#.......................##...........##...#.\n",
            ".#..........#...#....................#...#......#..#.................#........#..........#...#...#..#.........#.........#....#......#..........#...#....................#...#......#..#.................#........#..........#...#...#..#.........#.........#....#......#..........#...#....................#...#......#..#.................#........#..........#...#...#..#.........#.........#....#.....\n",
            "......#......#.....................#.......#.....#.........................##............#.#..##.................#...#...###.............#......#.....................#.......#.....#.........................##............#.#..##.................#...#...###.............#......#.....................#.......#.....#.........................##............#.#..##.................#...#...###.......\n",
            ".......#.......#...................#..........#...#.....#......................#......##.....#.................#.............#............#.......#...................#..........#...#.....#......................#......##.....#.................#.............#............#.......#...................#..........#...#.....#......................#......##.....#.................#.............#.....\n",
            "......#.....#..#..................#............................#....#.#..#..##...........................................................#.....#..#..................#............................#....#.#..#..##...........................................................#.....#..#..................#............................#....#.#..#..##.....................................................\n",
            ".....#..#....#..#.#...............#......#.............#..#...........#.....#....#..#......#.#.....................##.#.................#..#....#..#.#...............#......#.............#..#...........#.....#....#..#......#.#.....................##.#.................#..#....#..#.#...............#......#.............#..#...........#.....#....#..#......#.#.....................##.#............\n",
            "....#.......#..#.........#........#....#.#..................##......#..........#........................#.............#.....#..........#.......#..#.........#........#....#.#..................##......#..........#........................#.............#.....#..........#.......#..#.........#........#....#.#..................##......#..........#........................#.............#.....#......\n",
            ".#.....#......#........................#..#..............................#..........#.......#.......##...#...........#..............#.....#......#........................#..#..............................#..........#.......#.......##...#...........#..............#.....#......#........................#..#..............................#..........#.......#.......##...#...........#.............\n",
            "...........................#.........#....##.....#.#....#...###...######...#.#......#...............#..........................##.............................#.........#....##.....#.#....#...###...######...#.#......#...............#..........................##.............................#.........#....##.....#.#....#...###...######...#.#......#...............#..........................##..\n",
            "..#......#................#.#......#.#.............#..#......#....#..#..#..#.........................##.........................#....#......#................#.#......#.#.............#..#......#....#..#..#..#.........................##.........................#....#......#................#.#......#.#.............#..#......#....#..#..#..#.........................##.........................#..\n",
            "...#........#.........#.##..............................##.#....#.......#.......#.......................#.#.#...............#....#....#........#.........#.##..............................##.#....#.......#.......#.......................#.#.#...............#....#....#........#.........#.##..............................##.#....#.......#.......#.......................#.#.#...............#....#.\n",
            ".......#..#.......................#..............#..........................#.#.....#.....#............#..............#..#.#.....#........#..#.......................#..............#..........................#.#.....#.....#............#..............#..#.#.....#........#..#.......................#..............#..........................#.#.....#.....#............#..............#..#.#.....#.\n",
            "..#.........................##......................#.........#.#.#.#........#.................#.....#..#.#..........................#.........................##......................#.........#.#.#.#........#.................#.....#..#.#..........................#.........................##......................#.........#.#.#.#........#.................#.....#..#.#........................\n",
            "..................#.......#.................#.#...................#.......#.#...........#......##...........................#........................#.......#.................#.#...................#.......#.#...........#......##...........................#........................#.......#.................#.#...................#.......#.#...........#......##...........................#......\n",
            ".......................#.#.....##...#.#.....#...#...#.##...#.............#.....................##.##......................................................#.#.....##...#.#.....#...#...#.##...#.............#.....................##.##......................................................#.#.....##...#.#.....#...#...#.##...#.............#.....................##.##...............................\n",
            "..#...............#.....#......#.....###.......................#............#.............#.#.....#.#.#..............................#...............#.....#......#.....###.......................#............#.............#.#.....#.#.#..............................#...............#.....#......#.....###.......................#............#.............#.#.....#.#.#............................\n",
            ".......#...................#......#...#....................#.#...............#..........................#..#................#..#..........#...................#......#...#....................#.#...............#..........................#..#................#..#..........#...................#......#...#....................#.#...............#..........................#..#................#..#...\n",
            "...........................#..........##..#..........#................................#..##..#.......##....#....#...........#.................................#..........##..#..........#................................#..##..#.......##....#....#...........#.................................#..........##..#..........#................................#..##..#.......##....#....#...........#......\n",
            "...##.............#...##.....#.......#...............#.....###..#.........#.............#....#........#...#.....#.#...................##.............#...##.....#.......#...............#.....###..#.........#.............#....#........#...#.....#.#...................##.............#...##.....#.......#...............#.....###..#.........#.............#....#........#...#.....#.#................\n",
            ".#...................#...##...........#............##........................#....#....#.....#........#......#...................#..#...................#...##...........#............##........................#....#....#.....#........#......#...................#..#...................#...##...........#............##........................#....#....#.....#........#......#...................#.\n",
            "..............#.#..........#................................#...........#..#..............##..##...#.......#.......#..#..........#...............#.#..........#................................#...........#..#..............##..##...#.......#.......#..#..........#...............#.#..........#................................#...........#..#..............##..##...#.......#.......#..#..........#.\n",
            "...............#........#........#..............#....#.........#.......#..........#.......#.#............#......#.#...#.........#.................#........#........#..............#....#.........#.......#..........#.......#.#............#......#.#...#.........#.................#........#........#..............#....#.........#.......#..........#.......#.#............#......#.#...#.........#..\n",
            ".........#.......###...#.#...#..................#..#.......#...##...#.....##............#..#.......#........................................#.......###...#.#...#..................#..#.......#...##...#.....##............#..#.......#........................................#.......###...#.#...#..................#..#.......#...##...#.....##............#..#.......#...............................\n",
            "............#......#.......................#..........#...#........#.#.......#....................#......#......#....#....#....................#......#.......................#..........#...#........#.#.......#....................#......#......#....#....#....................#......#.......................#..........#...#........#.#.......#....................#......#......#....#....#........\n",
            ".........##.....#.......................................#...........#........................#.........#....................................##.....#.......................................#...........#........................#.........#....................................##.....#.......................................#...........#........................#.........#...........................\n",
            "..........##.........#.....#.......#.................##..#.#......##...............#....#...#..#..#...##..#.##.#.....#.#.#...................##.........#.....#.......#.................##..#.#......##...............#....#...#..#..#...##..#.##.#.....#.#.#...................##.........#.....#.......#.................##..#.#......##...............#....#...#..#..#...##..#.##.#.....#.#.#.........\n",
            ".......................#..............#......##.#.#.#...................##....##........#....#.....................#......................................#..............#......##.#.#.#...................##....##........#....#.....................#......................................#..............#......##.#.#.#...................##....##........#....#.....................#...............\n",
            ".........................................................................................................................................................................................................................................................................................................................................................................................................\n",
            ".....#............#................#..###............#..##....#.#......#...........#..........#...#.....................................#............#................#..###............#..##....#.#......#...........#..........#...#.....................................#............#................#..###............#..##....#.#......#...........#..........#...#................................\n",
            "...........#.......#...#.........#....#........#..#................#.........#.#......................#....#....#.........#.#.................#.......#...#.........#....#........#..#................#.........#.#......................#....#....#.........#.#.................#.......#...#.........#....#........#..#................#.........#.#......................#....#....#.........#.#......\n",
            "................#..#........................#..#................#......#..#.......#...........##...#...............#...............................#..#........................#..#................#......#..#.......#...........##...#...............#...............................#..#........................#..#................#......#..#.......#...........##...#...............#...............\n",
            "............#....#...#.....#.##.............#.#..............#.#...#........#...........#..#...##.........................#....................#....#...#.....#.##.............#.#..............#.#...#........#...........#..#...##.........................#....................#....#...#.....#.##.............#.#..............#.#...#........#...........#..#...##.........................#........\n",
            ".#.........##.#..#...#.....#.#....##.#.#.....#.................#...#.........................#............#.#.#....#................#.........##.#..#...#.....#.#....##.#.#.....#.................#...#.........................#............#.#.#....#................#.........##.#..#...#.....#.#....##.#.#.....#.................#...#.........................#............#.#.#....#...............\n",
            ".#...........#.#..........#......................#...#......##............#....................#......##.......#........#...........#...........#.#..........#......................#...#......##............#....................#......##.......#........#...........#...........#.#..........#......................#...#......##............#....................#......##.......#........#..........\n",
            "..#......................#.#.............#..#.........................#........##.#.#...#..#.#...................#...................#......................#.#.............#..#.........................#........##.#.#...#..#.#...................#...................#......................#.#.............#..#.........................#........##.#.#...#..#.#...................#.................\n",
            ".........................................#.#...#.#............#.............#...........#.#..#.#.#.......#.#.....#..#.......................................................#.#...#.#............#.............#...........#.#..#.#.#.......#.#.....#..#.......................................................#.#...#.#............#.............#...........#.#..#.#.#.......#.#.....#..#..............\n",
            "....#........................#........#...#...........#..#..................##.#.#...........#....#.#......#...................#.#.....#........................#........#...#...........#..#..................##.#.#...........#....#.#......#...................#.#.....#........................#........#...#...........#..#..................##.#.#...........#....#.#......#...................#.#.\n",
            "......#..........#.......##....#..........#.....#.............#.#......#..........#....#...........#.......#.......#...........#.........#..........#.......##....#..........#.....#.............#.#......#..........#....#...........#.......#.......#...........#.........#..........#.......##....#..........#.....#.............#.#......#..........#....#...........#.......#.......#...........#...\n",
            "...#............#........#..#...........#........#..###.....#..#..........#...........#.........#.........#...##.###............##....#............#........#..#...........#........#..###.....#..#..........#...........#.........#.........#...##.###............##....#............#........#..#...........#........#..###.....#..#..........#...........#.........#.........#...##.###............##.\n",
            ".......#........#....#.#.#.........#..#...............#..#........#.......#.................#.......#...#........#..............#.........#........#....#.#.#.........#..#...............#..#........#.......#.................#.......#...#........#..............#.........#........#....#.#.#.........#..#...............#..#........#.......#.................#.......#...#........#..............#..\n",
            ".......................#............#.....#......#............#....#.....#.#..#..........#.......#...#........#..........#................................#............#.....#......#............#....#.....#.#..#..........#.......#...#........#..........#................................#............#.....#......#............#....#.....#.#..#..........#.......#...#........#..........#.........\n",
            "...#..............#...................#.....#.........#....#.........#.......#.#.............##........#....#...#.....................#..............#...................#.....#.........#....#.........#.......#.#.............##........#....#...#.....................#..............#...................#.....#.........#....#.........#.......#.#.............##........#....#...#..................\n",
            "..........#..........#......#.............#....................#..#.......#.#.#....##...#.#................................#.................#..........#......#.............#....................#..#.......#.#.#....##...#.#................................#.................#..........#......#.............#....................#..#.......#.#.#....##...#.#................................#.......\n",
            "..#...........................#.......................................#....#..........#....................#................#....#...#...........................#.......................................#....#..........#....................#................#....#...#...........................#.......................................#....#..........#....................#................#....#.\n",
            "......................#.#...............#.......#.........#....##.................#......#..........#....................##......#.......................#.#...............#.......#.........#....##.................#......#..........#....................##......#.......................#.#...............#.......#.........#....##.................#......#..........#....................##......#.\n",
            ".........#...#............#...............##.....#......#..#........#.....#...#............#....................................#...........#...#............#...............##.....#......#..#........#.....#...#............#....................................#...........#...#............#...............##.....#......#..#........#.....#...#............#....................................#..\n",
            "......##..#.#...........#..#...........###.....#........................##.....................#........#................................##..#.#...........#..#...........###.....#........................##.....................#........#................................##..#.#...........#..#...........###.....#........................##.....................#........#..........................\n",
            "............#...............#....#..#..............#.................#......#.#..#..........#..................................#...............#...............#....#..#..............#.................#......#.#..#..........#..................................#...............#...............#....#..#..............#.................#......#.#..#..........#..................................#...\n",
            ".............#.##...................................#.........##...#.....................................#.................#.#...#..............#.##...................................#.........##...#.....................................#.................#.#...#..............#.##...................................#.........##...#.....................................#.................#.#...#.\n",
            ".#...........................#............#............#.####..........................#.#...#.#.....#...........#..................#...........................#............#............#.####..........................#.#...#.#.....#...........#..................#...........................#............#............#.####..........................#.#...#.#.....#...........#.................\n",
            ".....#...........#.#.................#....#....#....##.#.....#.....#...#............##...#.#....................#.#.#..#..#..#..........#...........#.#.................#....#....#....##.#.....#.....#...#............##...#.#....................#.#.#..#..#..#..........#...........#.#.................#....#....#....##.#.....#.....#...#............##...#.#....................#.#.#..#..#..#.....\n",
            "........#.#..#..#...........#.........#..#.....#.##.#........#......................#........#.....##...........#......#...................#.#..#..#...........#.........#..#.....#.##.#........#......................#........#.....##...........#......#...................#.#..#..#...........#.........#..#.....#.##.#........#......................#........#.....##...........#......#...........\n",
            "............#..#................#......#.#.#............#...#...........#....#..#..............................................#.#.............#..#................#......#.#.#............#...#...........#....#..#..............................................#.#.............#..#................#......#.#.#............#...#...........#....#..#..............................................#.#.\n",
            "......#...#............................................................#...#................#.##............#.....#....#.......#.........#...#............................................................#...#................#.##............#.....#....#.......#.........#...#............................................................#...#................#.##............#.....#....#.......#...\n",
            "..#..........#...#.....................#............#........#.......#.##....#...#.............#........................##......#....#..........#...#.....................#............#........#.......#.##....#...#.............#........................##......#....#..........#...#.....................#............#........#.......#.##....#...#.............#........................##......#..\n",
            "..#....#.#..........................#.#......#.......#..........#......#..........#......#.....#...............#.##.....#...#........#....#.#..........................#.#......#.......#..........#......#..........#......#.....#...............#.##.....#...#........#....#.#..........................#.#......#.......#..........#......#..........#......#.....#...............#.##.....#...#......\n",
            ".................#......##........#....................#..#.......#........#.......#.#.....................#...................#....................#......##........#....................#..#.......#........#.......#.#.....................#...................#....................#......##........#....................#..#.......#........#.......#.#.....................#...................#...\n",
            "....####..............##...........#.........#....#......#.....................#.#...#.....#.#...............#.#.......................####..............##...........#.........#....#......#.....................#.#...#.....#.#...............#.#.......................####..............##...........#.........#....#......#.....................#.#...#.....#.#...............#.#...................\n",
            "......#.....#.............................#.........#..#..#.....#.#............##......##..#............#..#....#......#...#...###.......#.....#.............................#.........#..#..#.....#.#............##......##..#............#..#....#......#...#...###.......#.....#.............................#.........#..#..#.....#.#............##......##..#............#..#....#......#...#...###.\n",
            ".#........#............#...#..............#..............##....#......#...#.#.#.........#..#.#........#...........#...##....#.......#........#............#...#..............#..............##....#......#...#.#.#.........#..#.#........#...........#...##....#.......#........#............#...#..............#..............##....#......#...#.#.#.........#..#.#........#...........#...##....#......\n",
            ".......#......#..#.....#.....................#....#..#..............#...............#....................#....#...##..#.......#.##........#......#..#.....#.....................#....#..#..............#...............#....................#....#...##..#.......#.##........#......#..#.....#.....................#....#..#..............#...............#....................#....#...##..#.......#.##.\n",
            "........#.........#....###...#...........#..........#..........#....#....#...........#......#...........#...#..........#.......#...........#.........#....###...#...........#..........#..........#....#....#...........#......#...........#...#..........#.......#...........#.........#....###...#...........#..........#..........#....#....#...........#......#...........#...#..........#.......#...\n",
            "....#...........#.......#...##.........#...#...#...#......#..............#......................................#.......##....##.......#...........#.......#...##.........#...#...#...#......#..............#......................................#.......##....##.......#...........#.......#...##.........#...#...#...#......#..............#......................................#.......##....##...\n",
            ".....##..#..........#..#...#.................##.........................#..#............................#......#.#..............#.......##..#..........#..#...#.................##.........................#..#............................#......#.#..............#.......##..#..........#..#...#.................##.........................#..#............................#......#.#..............#..\n",
            ".#.#.##...............#.........#...............................#..#....##.#......#...#..#.............#................#...........#.#.##...............#.........#...............................#..#....##.#......#...#..#.............#................#...........#.#.##...............#.........#...............................#..#....##.#......#...#..#.............#................#..........\n",
            ".....................#....#.....#............#..#.#.....#...........#......#..........................#................###...#..........................#....#.....#............#..#.#.....#...........#......#..........................#................###...#..........................#....#.....#............#..#.#.....#...........#......#..........................#................###...#.....\n",
            ".#.......#..#.....................##..........#.............................##......#.................#...............#.....#.##....#.......#..#.....................##..........#.............................##......#.................#...............#.....#.##....#.......#..#.....................##..........#.............................##......#.................#...............#.....#.##...\n",
            "..#..............#...#.#........................#..#..................##.......#..............##.#..................##...............#..............#...#.#........................#..#..................##.......#..............##.#..................##...............#..............#...#.#........................#..#..................##.......#..............##.#..................##.............\n",
            "............#..........#.................................................#......#..#.#.........#...#....................#....#.................#..........#.................................................#......#..#.#.........#...#....................#....#.................#..........#.................................................#......#..#.#.........#...#....................#....#.....\n",
            ".......#.................#.....................#.....#..##....................#.........................#........#...#....#.##............#.................#.....................#.....#..##....................#.........................#........#...#....#.##............#.................#.....................#.....#..##....................#.........................#........#...#....#.##.....\n",
            ".#..............###.....#.........#...................#....#............#..#.................#......##....##.#.#.........#..........#..............###.....#.........#...................#....#............#..#.................#......##....##.#.#.........#..........#..............###.....#.........#...................#....#............#..#.................#......##....##.#.#.........#.........\n",
            "..................#.#.................................#.......##..#..#.#..#.#.#.........................#...#..........#...#.........................#.#.................................#.......##..#..#.#..#.#.#.........................#...#..........#...#.........................#.#.................................#.......##..#..#.#..#.#.#.........................#...#..........#...#.......\n",
            ".......##...#...##...#.............................................#...#.........................#..........##.....###...#.....#..........##...#...##...#.............................................#...#.........................#..........##.....###...#.....#..........##...#...##...#.............................................#...#.........................#..........##.....###...#.....#...\n",
            ".......#........#..#...#....#..........#.#........#........#......#..#...................#........#.#....##.#......#.#.........#..........#........#..#...#....#..........#.#........#........#......#..#...................#........#.#....##.#......#.#.........#..........#........#..#...#....#..........#.#........#........#......#..#...................#........#.#....##.#......#.#.........#...\n",
            "..#....#..........#.#..#...........#.....................#..#...#.#...#..#..#..............#......#..#.......#..##..#................#....#..........#.#..#...........#.....................#..#...#.#...#..#..#..............#......#..#.......#..##..#................#....#..........#.#..#...........#.....................#..#...#.#...#..#..#..............#......#..#.......#..##..#..............\n",
            "..........#.........#...##..........#...#..........................#.........................#.................#.....#.....#.....#...........#.........#...##..........#...#..........................#.........................#.................#.....#.....#.....#...........#.........#...##..........#...#..........................#.........................#.................#.....#.....#.....#.\n",
            "............#......#..#...............#.....#..................#.......#....................#...#....#...#......#........#...#.................#......#..#...............#.....#..................#.......#....................#...#....#...#......#........#...#.................#......#..#...............#.....#..................#.......#....................#...#....#...#......#........#...#.....\n",
            ".##........................#....##.#....................#.....#...........#...........#...#........#...#..........#..#......#.......##........................#....##.#....................#.....#...........#...........#...#........#...#..........#..#......#.......##........................#....##.#....................#.....#...........#...........#...#........#...#..........#..#......#......\n",
            "...#....................#...............#...............................#....................................#....#.#..........#......#....................#...............#...............................#....................................#....#.#..........#......#....................#...............#...............................#....................................#....#.#..........#...\n",
            "......................#.............##....#.............#....#..#.#.......#............##............#.#.##.........#......#...#.........................#.............##....#.............#....#..#.#.......#............##............#.#.##.........#......#...#.........................#.............##....#.............#....#..#.#.......#............##............#.#.##.........#......#...#...\n",
            "..#..#..........#.##.........#......##...#......................#...................#.................#..................##..........#..#..........#.##.........#......##...#......................#...................#.................#..................##..........#..#..........#.##.........#......##...#......................#...................#.................#..................##........\n",
            ".........#............##.#....#......#....##.#.#..........#.......#...#.............#........................#..........#...................#............##.#....#......#....##.#.#..........#.......#...#.............#........................#..........#...................#............##.#....#......#....##.#.#..........#.......#...#.............#........................#..........#..........\n",
            ".....#..#............#..............#..#..............................#................#.....#...........................#.#.#..........#..#............#..............#..#..............................#................#.....#...........................#.#.#..........#..#............#..............#..#..............................#................#.....#...........................#.#.#.....\n",
            "........#..#.##...#..#..##.#....#..........##.................##..#...............#.#....#..........#.........##..##.......................#..#.##...#..#..##.#....#..........##.................##..#...............#.#....#..........#.........##..##.......................#..#.##...#..#..##.#....#..........##.................##..#...............#.#....#..........#.........##..##...............\n",
            "..........#..........#....#..#.............#.................#.....#..............#...........##......##.....................................#..........#....#..#.............#.................#.....#..............#...........##......##.....................................#..........#....#..#.............#.................#.....#..............#...........##......##...........................\n",
            ".#....##...#...........#.................##....................................#..#..........................#...........#..........#....##...#...........#.................##....................................#..#..........................#...........#..........#....##...#...........#.................##....................................#..#..........................#...........#.........\n",
            ".............................#............#..#......#...........................##..............#.#...#............#.......##.#.................................#............#..#......#...........................##..............#.#...#............#.......##.#.................................#............#..#......#...........................##..............#.#...#............#.......##.#....\n",
            "....#...........#..##....##.#......##.....##........#..##.................#.........................#.......##.#.#...#...#.............#...........#..##....##.#......##.....##........#..##.................#.........................#.......##.#.#...#...#.............#...........#..##....##.#......##.....##........#..##.................#.........................#.......##.#.#...#...#.........\n",
            "..........#...#............#....#....#..##.....#.........#........................#..............#.......................#.....#.............#...#............#....#....#..##.....#.........#........................#..............#.......................#.....#.............#...#............#....#....#..##.....#.........#........................#..............#.......................#.....#...\n",
            "..#.....#....#...#..##.#..........#.#.....#...............#..............#.##..#...#..........#.....#.#.........##.##.....#......#...#.....#....#...#..##.#..........#.#.....#...............#..............#.##..#...#..........#.....#.#.........##.##.....#......#...#.....#....#...#..##.#..........#.#.....#...............#..............#.##..#...#..........#.....#.#.........##.##.....#......#.\n",
            "......#....#.........#............#.....................##................#..#.............#..............#....#.............#...........#....#.........#............#.....................##................#..#.............#..............#....#.............#...........#....#.........#............#.....................##................#..#.............#..............#....#.............#.....\n",
            ".......#...........#......#........#.............#...#......#................#.#.#........#.....#.#.#....#.######......#..................#...........#......#........#.............#...#......#................#.#.#........#.....#.#.#....#.######......#..................#...........#......#........#.............#...#......#................#.#.#........#.....#.#.#....#.######......#...........\n",
            ".........................................................................................................................................................................................................................................................................................................................................................................................................\n",
            ".........................................................................................................................................................................................................................................................................................................................................................................................................\n",
            "...................#.....#.....#.#.............#.#......#.......................#......#.......#......#...#...#.##..........##........................#.....#.....#.#.............#.#......#.......................#......#.......#......#...#...#.##..........##........................#.....#.....#.#.............#.#......#.......................#......#.......#......#...#...#.##..........##.....\n",
            "......#......#.....#....#........#...............#..........................#................#...........#...#......#.....#.##.#.........#......#.....#....#........#...............#..........................#................#...........#...#......#.....#.##.#.........#......#.....#....#........#...............#..........................#................#...........#...#......#.....#.##.#...\n",
            "..#.........#......#........##..##.#............#.#.#.#...................##....#......#.#............#...........#..................#.........#......#........##..##.#............#.#.#.#...................##....#......#.#............#...........#..................#.........#......#........##..##.#............#.#.#.#...................##....#......#.#............#...........#................\n",
            ".#...............#....###.#....#...........#........##..............................#...............##.............#....#...........#...............#....###.#....#...........#........##..............................#...............##.............#....#...........#...............#....###.#....#...........#........##..............................#...............##.............#....#..........\n",
            "............#.............##..#.#.....#..........#...#....................###...#.......#...........#.......##.#.........#.....................#.............##..#.#.....#..........#...#....................###...#.......#...........#.......##.#.........#.....................#.............##..#.#.....#..........#...#....................###...#.......#...........#.......##.#.........#.........\n",
            ".................#..........#..#..#.....##..#........#..........#............#...##.#..............#.....#.........#....#..#........................#..........#..#..#.....##..#........#..........#............#...##.#..............#.....#.........#....#..#........................#..........#..#..#.....##..#........#..........#............#...##.#..............#.....#.........#....#..#.......\n",
            "...#.......#..........#..#......###............#...#.#......................#.....#........###.#.............#..#....#..........#.....#.......#..........#..#......###............#...#.#......................#.....#........###.#.............#..#....#..........#.....#.......#..........#..#......###............#...#.#......................#.....#........###.#.............#..#....#..........#..\n",
            ".................#...#........................................................#.#..................##...#.#.#....#...##..........#..................#...#........................................................#.#..................##...#.#.#....#...##..........#..................#...#........................................................#.#..................##...#.#.#....#...##..........#.\n",
            "....#..........#...##...#...........#...........#................................#..#.............#.#...........#....#........#........#..........#...##...#...........#...........#................................#..#.............#.#...........#....#........#........#..........#...##...#...........#...........#................................#..#.............#.#...........#....#........#....\n",
            ".....#....##...#........#......#.#..............#..........#......#..............#.......#...................#.......#...##..#...#......#....##...#........#......#.#..............#..........#......#..............#.......#...................#.......#...##..#...#......#....##...#........#......#.#..............#..........#......#..............#.......#...................#.......#...##..#...#.\n",
            "......#...#.#....#...............#............#.....................#................#...###.#...#..........#.##...#.....................#...#.#....#...............#............#.....................#................#...###.#...#..........#.##...#.....................#...#.#....#...............#............#.....................#................#...###.#...#..........#.##...#...............\n",
            ".....##..#............#..#.........#..#....#...............#..............................#.#.......................#............#......##..#............#..#.........#..#....#...............#..............................#.#.......................#............#......##..#............#..#.........#..#....#...............#..............................#.#.......................#............#.\n",
            ".........##.....#.....#.........#.....#....#...............#.##.#....................#........................#..#..#...........#...........##.....#.....#.........#.....#....#...............#.##.#....................#........................#..#..#...........#...........##.....#.....#.........#.....#....#...............#.##.#....................#........................#..#..#...........#..\n",
            "......#.##.............#......#.##.............................#......#..#..........#....#.#.......#...#.#...#.......#.#........#........#.##.............#......#.##.............................#......#..#..........#....#.#.......#...#.#...#.......#.#........#........#.##.............#......#.##.............................#......#..#..........#....#.#.......#...#.#...#.......#.#........#..\n",
            "...................#..........#...........#.................#......#.......#..................#.....#...........#.#...#...............................#..........#...........#.................#......#.......#..................#.....#...........#.#...#...............................#..........#...........#.................#......#.......#..................#.....#...........#.#...#............\n",
            ".....#.........##........#.........#.#.#.##..............#....#..........##.............###.##.....#......##.##.#...............#.......#.........##........#.........#.#.#.##..............#....#..........##.............###.##.....#......##.##.#...............#.......#.........##........#.........#.#.#.##..............#....#..........##.............###.##.....#......##.##.#...............#..\n",
            ".#..#.....#...#..#......#..........................................#..........................#.....#......#........................#..#.....#...#..#......#..........................................#..........................#.....#......#........................#..#.....#...#..#......#..........................................#..........................#.....#......#.......................\n",
            ".....#.#....#..........#............#.....##.................#................................#.##..#...........#............#..........#.#....#..........#............#.....##.................#................................#.##..#...........#............#..........#.#....#..........#............#.....##.................#................................#.##..#...........#............#.....\n",
            "............#.......#...#.#......#.............................#...............................#..........#................#.....#.............#.......#...#.#......#.............................#...............................#..........#................#.....#.............#.......#...#.#......#.............................#...............................#..........#................#.....#.\n",
            ".......#.....##..........##.#.........#...............................#......#.#..........................#......#......##.....#..........#.....##..........##.#.........#...............................#......#.#..........................#......#......##.....#..........#.....##..........##.#.........#...............................#......#.#..........................#......#......##.....#...\n",
            "......#.#.......#..#..#..#............................##.#....##..........#...............#.......#.............##.....##................#.#.......#..#..#..#............................##.#....##..........#...............#.......#.............##.....##................#.#.......#..#..#..#............................##.#....##..........#...............#.......#.............##.....##..........\n",
            "................#..#.........#.....#...........#...##.#.....#.......#......#...............#..#......##........#...#.#.............................#..#.........#.....#...........#...##.#.....#.......#......#...............#..#......##........#...#.#.............................#..#.........#.....#...........#...##.#.....#.......#......#...............#..#......##........#...#.#.............\n",
            ".#............#..#.#.#....#....#.............................#.........#...........#................#....#...#....#...#.#...#.......#............#..#.#.#....#....#.............................#.........#...........#................#....#...#....#...#.#...#.......#............#..#.#.#....#....#.............................#.........#...........#................#....#...#....#...#.#...#......\n",
            ".................#......#......##..............#.........#........#.........#...#....#............#.#..#...................#..##....................#......#......##..............#.........#........#.........#...#....#............#.#..#...................#..##....................#......#......##..............#.........#........#.........#...#....#............#.#..#...................#..##...\n",
            "........#..........#..........................##..#....#...............................................#......#...........##..#............#..........#..........................##..#....#...............................................#......#...........##..#............#..........#..........................##..#....#...............................................#......#...........##..#....\n",
            "........#.#.#..........#...#....................#....#..#....#.........#...#..#.................#......#..##......#..........#.............#.#.#..........#...#....................#....#..#....#.........#...#..#.................#......#..##......#..........#.............#.#.#..........#...#....................#....#..#....#.........#...#..#.................#......#..##......#..........#.....\n",
            "...............#..................#.................................#..#....#..#..#...................#.......#............#......................#..................#.................................#..#....#..#..#...................#.......#............#......................#..................#.................................#..#....#..#..#...................#.......#............#.......\n",
            ".#.#..............#......#.............................................#..............##....................#...........#......#.#..#.#..............#......#.............................................#..............##....................#...........#......#.#..#.#..............#......#.............................................#..............##....................#...........#......#.#.\n",
            ".#.........#.....#............#...............#...........#.......#......#........................#...#..................#..........#.........#.....#............#...............#...........#.......#......#........................#...#..................#..........#.........#.....#............#...............#...........#.......#......#........................#...#..................#.........\n",
            "......#.........#....#.....................#.#..................#....#....#.....###..#.#.............#..#................................#.........#....#.....................#.#..................#....#....#.....###..#.#.............#..#................................#.........#....#.....................#.#..................#....#....#.....###..#.#.............#..#..........................\n",
            "...#....#................................#.....#.#...........#.................#.................................#.......#.....#.#....#....#................................#.....#.#...........#.................#.................................#.......#.....#.#....#....#................................#.....#.#...........#.................#.................................#.......#.....#.#.\n",
            "...#...#..##...........#..............#....................#.........#.#....#....##..................#....#...#.......................#...#..##...........#..............#....................#.........#.#....#....##..................#....#...#.......................#...#..##...........#..............#....................#.........#.#....#....##..................#....#...#....................\n",
            "......#..........#........#...........................##........#.#.....#.....#.......#...............#.......#..........................#..........#........#...........................##........#.#.....#.....#.......#...............#.......#..........................#..........#........#...........................##........#.#.....#.....#.......#...............#.......#....................\n",
            ".......#..........##..#.#..........................#.#........#.#...........#...........#....#.........#..................#.#.............#..........##..#.#..........................#.#........#.#...........#...........#....#.........#..................#.#.............#..........##..#.#..........................#.#........#.#...........#...........#....#.........#..................#.#......\n",
            "....................#....................#.........#...#......#.......#.......##.......................................................................#....................#.........#...#......#.......#.......##.......................................................................#....................#.........#...#......#.......#.......##...................................................\n",
            "..........#............#..........#........#...........#......................#..........................##.#..#.........#...#...............#............#..........#........#...........#......................#..........................##.#..#.........#...#...............#............#..........#........#...........#......................#..........................##.#..#.........#...#.....\n",
            "......#.....#.....................#.##.........#...#............#.#...........#...#.#............#.........##......#..........#..........#.....#.....................#.##.........#...#............#.#...........#...#.#............#.........##......#..........#..........#.....#.....................#.##.........#...#............#.#...........#...#.#............#.........##......#..........#....\n",
            ".....#..........#.....#..............#.......#..##...........#.............#..#....#...#.......................##...........##...#......#..........#.....#..............#.......#..##...........#.............#..#....#...#.......................##...........##...#......#..........#.....#..............#.......#..##...........#.............#..#....#...#.......................##...........##...#.\n",
            ".#..........#...#....................#...#......#..#.................#........#..........#...#...#..#.........#.........#....#......#..........#...#....................#...#......#..#.................#........#..........#...#...#..#.........#.........#....#......#..........#...#....................#...#......#..#.................#........#..........#...#...#..#.........#.........#....#.....\n",
            "......#......#.....................#.......#.....#.........................##............#.#..##.................#...#...###.............#......#.....................#.......#.....#.........................##............#.#..##.................#...#...###.............#......#.....................#.......#.....#.........................##............#.#..##.................#...#...###.......\n",
            ".......#.......#...................#..........#...#.....#......................#......##.....#.................#.............#............#.......#...................#..........#...#.....#......................#......##.....#.................#.............#............#.......#...................#..........#...#.....#......................#......##.....#.................#.............#.....\n",
            "......#.....#..#..................#............................#....#.#..#..##...........................................................#.....#..#..................#............................#....#.#..#..##...........................................................#.....#..#..................#............................#....#.#..#..##.....................................................\n",
            ".....#..#....#..#.#...............#......#.............#..#...........#.....#....#..#......#.#.....................##.#.................#..#....#..#.#...............#......#.............#..#...........#.....#....#..#......#.#.....................##.#.................#..#....#..#.#...............#......#.............#..#...........#.....#....#..#......#.#.....................##.#............\n",
            "....#.......#..#.........#........#....#.#..................##......#..........#........................#.............#.....#..........#.......#..#.........#........#....#.#..................##......#..........#........................#.............#.....#..........#.......#..#.........#........#....#.#..................##......#..........#........................#.............#.....#......\n",
            ".#.....#......#........................#..#..............................#..........#.......#.......##...#...........#..............#.....#......#........................#..#..............................#..........#.......#.......##...#...........#..............#.....#......#........................#..#..............................#..........#.......#.......##...#...........#.............\n",
            "...........................#.........#....##.....#.#....#...###...######...#.#......#...............#..........................##.............................#.........#....##.....#.#....#...###...######...#.#......#...............#..........................##.............................#.........#....##.....#.#....#...###...######...#.#......#...............#..........................##..\n",
            "..#......#................#.#......#.#.............#..#......#....#..#..#..#.........................##.........................#....#......#................#.#......#.#.............#..#......#....#..#..#..#.........................##.........................#....#......#................#.#......#.#.............#..#......#....#..#..#..#.........................##.........................#..\n",
            "...#........#.........#.##..............................##.#....#.......#.......#.......................#.#.#...............#....#....#........#.........#.##..............................##.#....#.......#.......#.......................#.#.#...............#....#....#........#.........#.##..............................##.#....#.......#.......#.......................#.#.#...............#....#.\n",
            ".......#..#.......................#..............#..........................#.#.....#.....#............#..............#..#.#.....#........#..#.......................#..............#..........................#.#.....#.....#............#..............#..#.#.....#........#..#.......................#..............#..........................#.#.....#.....#............#..............#..#.#.....#.\n",
            "..#.........................##......................#.........#.#.#.#........#.................#.....#..#.#..........................#.........................##......................#.........#.#.#.#........#.................#.....#..#.#..........................#.........................##......................#.........#.#.#.#........#.................#.....#..#.#........................\n",
            "..................#.......#.................#.#...................#.......#.#...........#......##...........................#........................#.......#.................#.#...................#.......#.#...........#......##...........................#........................#.......#.................#.#...................#.......#.#...........#......##...........................#......\n",
            ".......................#.#.....##...#.#.....#...#...#.##...#.............#.....................##.##......................................................#.#.....##...#.#.....#...#...#.##...#.............#.....................##.##......................................................#.#.....##...#.#.....#...#...#.##...#.............#.....................##.##...............................\n",
            "..#...............#.....#......#.....###.......................#............#.............#.#.....#.#.#..............................#...............#.....#......#.....###.......................#............#.............#.#.....#.#.#..............................#...............#.....#......#.....###.......................#............#.............#.#.....#.#.#............................\n",
            ".......#...................#......#...#....................#.#...............#..........................#..#................#..#..........#...................#......#...#....................#.#...............#..........................#..#................#..#..........#...................#......#...#....................#.#...............#..........................#..#................#..#...\n",
            "...........................#..........##..#..........#................................#..##..#.......##....#....#...........#.................................#..........##..#..........#................................#..##..#.......##....#....#...........#.................................#..........##..#..........#................................#..##..#.......##....#....#...........#......\n",
            "...##.............#...##.....#.......#...............#.....###..#.........#.............#....#........#...#.....#.#...................##.............#...##.....#.......#...............#.....###..#.........#.............#....#........#...#.....#.#...................##.............#...##.....#.......#...............#.....###..#.........#.............#....#........#...#.....#.#................\n",
            ".#...................#...##...........#............##........................#....#....#.....#........#......#...................#..#...................#...##...........#............##........................#....#....#.....#........#......#...................#..#...................#...##...........#............##........................#....#....#.....#........#......#...................#.\n",
            "..............#.#..........#................................#...........#..#..............##..##...#.......#.......#..#..........#...............#.#..........#................................#...........#..#..............##..##...#.......#.......#..#..........#...............#.#..........#................................#...........#..#..............##..##...#.......#.......#..#..........#.\n",
            "...............#........#........#..............#....#.........#.......#..........#.......#.#............#......#.#...#.........#.................#........#........#..............#....#.........#.......#..........#.......#.#............#......#.#...#.........#.................#........#........#..............#....#.........#.......#..........#.......#.#............#......#.#...#.........#..\n",
            ".........#.......###...#.#...#..................#..#.......#...##...#.....##............#..#.......#........................................#.......###...#.#...#..................#..#.......#...##...#.....##............#..#.......#........................................#.......###...#.#...#..................#..#.......#...##...#.....##............#..#.......#...............................\n",
            "............#......#.......................#..........#...#........#.#.......#....................#......#......#....#....#....................#......#.......................#..........#...#........#.#.......#....................#......#......#....#....#....................#......#.......................#..........#...#........#.#.......#....................#......#......#....#....#........\n",
            ".........##.....#.......................................#...........#........................#.........#....................................##.....#.......................................#...........#........................#.........#....................................##.....#.......................................#...........#........................#.........#...........................\n",
            "..........##.........#.....#.......#.................##..#.#......##...............#....#...#..#..#...##..#.##.#.....#.#.#...................##.........#.....#.......#.................##..#.#......##...............#....#...#..#..#...##..#.##.#.....#.#.#...................##.........#.....#.......#.................##..#.#......##...............#....#...#..#..#...##..#.##.#.....#.#.#.........\n",
            ".......................#..............#......##.#.#.#...................##....##........#....#.....................#......................................#..............#......##.#.#.#...................##....##........#....#.....................#......................................#..............#......##.#.#.#...................##....##........#....#.....................#...............\n",
            "....................................................................................................................................................................................................S....................................................................................................................................................................................................\n",
            ".....#............#................#..###............#..##....#.#......#...........#..........#...#.....................................#............#................#..###............#..##....#.#......#...........#..........#...#.....................................#............#................#..###............#..##....#.#......#...........#..........#...#................................\n",
            "...........#.......#...#.........#....#........#..#................#.........#.#......................#....#....#.........#.#.................#.......#...#.........#....#........#..#................#.........#.#......................#....#....#.........#.#.................#.......#...#.........#....#........#..#................#.........#.#......................#....#....#.........#.#......\n",
            "................#..#........................#..#................#......#..#.......#...........##...#...............#...............................#..#........................#..#................#......#..#.......#...........##...#...............#...............................#..#........................#..#................#......#..#.......#...........##...#...............#...............\n",
            "............#....#...#.....#.##.............#.#..............#.#...#........#...........#..#...##.........................#....................#....#...#.....#.##.............#.#..............#.#...#........#...........#..#...##.........................#....................#....#...#.....#.##.............#.#..............#.#...#........#...........#..#...##.........................#........\n",
            ".#.........##.#..#...#.....#.#....##.#.#.....#.................#...#.........................#............#.#.#....#................#.........##.#..#...#.....#.#....##.#.#.....#.................#...#.........................#............#.#.#....#................#.........##.#..#...#.....#.#....##.#.#.....#.................#...#.........................#............#.#.#....#...............\n",
            ".#...........#.#..........#......................#...#......##............#....................#......##.......#........#...........#...........#.#..........#......................#...#......##............#....................#......##.......#........#...........#...........#.#..........#......................#...#......##............#....................#......##.......#........#..........\n",
            "..#......................#.#.............#..#.........................#........##.#.#...#..#.#...................#...................#......................#.#.............#..#.........................#........##.#.#...#..#.#...................#...................#......................#.#.............#..#.........................#........##.#.#...#..#.#...................#.................\n",
            ".........................................#.#...#.#............#.............#...........#.#..#.#.#.......#.#.....#..#.......................................................#.#...#.#............#.............#...........#.#..#.#.#.......#.#.....#..#.......................................................#.#...#.#............#.............#...........#.#..#.#.#.......#.#.....#..#..............\n",
            "....#........................#........#...#...........#..#..................##.#.#...........#....#.#......#...................#.#.....#........................#........#...#...........#..#..................##.#.#...........#....#.#......#...................#.#.....#........................#........#...#...........#..#..................##.#.#...........#....#.#......#...................#.#.\n",
            "......#..........#.......##....#..........#.....#.............#.#......#..........#....#...........#.......#.......#...........#.........#..........#.......##....#..........#.....#.............#.#......#..........#....#...........#.......#.......#...........#.........#..........#.......##....#..........#.....#.............#.#......#..........#....#...........#.......#.......#...........#...\n",
            "...#............#........#..#...........#........#..###.....#..#..........#...........#.........#.........#...##.###............##....#............#........#..#...........#........#..###.....#..#..........#...........#.........#.........#...##.###............##....#............#........#..#...........#........#..###.....#..#..........#...........#.........#.........#...##.###............##.\n",
            ".......#........#....#.#.#.........#..#...............#..#........#.......#.................#.......#...#........#..............#.........#........#....#.#.#.........#..#...............#..#........#.......#.................#.......#...#........#..............#.........#........#....#.#.#.........#..#...............#..#........#.......#.................#.......#...#........#..............#..\n",
            ".......................#............#.....#......#............#....#.....#.#..#..........#.......#...#........#..........#................................#............#.....#......#............#....#.....#.#..#..........#.......#...#........#..........#................................#............#.....#......#............#....#.....#.#..#..........#.......#...#........#..........#.........\n",
            "...#..............#...................#.....#.........#....#.........#.......#.#.............##........#....#...#.....................#..............#...................#.....#.........#....#.........#.......#.#.............##........#....#...#.....................#..............#...................#.....#.........#....#.........#.......#.#.............##........#....#...#..................\n",
            "..........#..........#......#.............#....................#..#.......#.#.#....##...#.#................................#.................#..........#......#.............#....................#..#.......#.#.#....##...#.#................................#.................#..........#......#.............#....................#..#.......#.#.#....##...#.#................................#.......\n",
            "..#...........................#.......................................#....#..........#....................#................#....#...#...........................#.......................................#....#..........#....................#................#....#...#...........................#.......................................#....#..........#....................#................#....#.\n",
            "......................#.#...............#.......#.........#....##.................#......#..........#....................##......#.......................#.#...............#.......#.........#....##.................#......#..........#....................##......#.......................#.#...............#.......#.........#....##.................#......#..........#....................##......#.\n",
            ".........#...#............#...............##.....#......#..#........#.....#...#............#....................................#...........#...#............#...............##.....#......#..#........#.....#...#............#....................................#...........#...#............#...............##.....#......#..#........#.....#...#............#....................................#..\n",
            "......##..#.#...........#..#...........###.....#........................##.....................#........#................................##..#.#...........#..#...........###.....#........................##.....................#........#................................##..#.#...........#..#...........###.....#........................##.....................#........#..........................\n",
            "............#...............#....#..#..............#.................#......#.#..#..........#..................................#...............#...............#....#..#..............#.................#......#.#..#..........#..................................#...............#...............#....#..#..............#.................#......#.#..#..........#..................................#...\n",
            ".............#.##...................................#.........##...#.....................................#.................#.#...#..............#.##...................................#.........##...#.....................................#.................#.#...#..............#.##...................................#.........##...#.....................................#.................#.#...#.\n",
            ".#...........................#............#............#.####..........................#.#...#.#.....#...........#..................#...........................#............#............#.####..........................#.#...#.#.....#...........#..................#...........................#............#............#.####..........................#.#...#.#.....#...........#.................\n",
            ".....#...........#.#.................#....#....#....##.#.....#.....#...#............##...#.#....................#.#.#..#..#..#..........#...........#.#.................#....#....#....##.#.....#.....#...#............##...#.#....................#.#.#..#..#..#..........#...........#.#.................#....#....#....##.#.....#.....#...#............##...#.#....................#.#.#..#..#..#.....\n",
            "........#.#..#..#...........#.........#..#.....#.##.#........#......................#........#.....##...........#......#...................#.#..#..#...........#.........#..#.....#.##.#........#......................#........#.....##...........#......#...................#.#..#..#...........#.........#..#.....#.##.#........#......................#........#.....##...........#......#...........\n",
            "............#..#................#......#.#.#............#...#...........#....#..#..............................................#.#.............#..#................#......#.#.#............#...#...........#....#..#..............................................#.#.............#..#................#......#.#.#............#...#...........#....#..#..............................................#.#.\n",
            "......#...#............................................................#...#................#.##............#.....#....#.......#.........#...#............................................................#...#................#.##............#.....#....#.......#.........#...#............................................................#...#................#.##............#.....#....#.......#...\n",
            "..#..........#...#.....................#............#........#.......#.##....#...#.............#........................##......#....#..........#...#.....................#............#........#.......#.##....#...#.............#........................##......#....#..........#...#.....................#............#........#.......#.##....#...#.............#........................##......#..\n",
            "..#....#.#..........................#.#......#.......#..........#......#..........#......#.....#...............#.##.....#...#........#....#.#..........................#.#......#.......#..........#......#..........#......#.....#...............#.##.....#...#........#....#.#..........................#.#......#.......#..........#......#..........#......#.....#...............#.##.....#...#......\n",
            ".................#......##........#....................#..#.......#........#.......#.#.....................#...................#....................#......##........#....................#..#.......#........#.......#.#.....................#...................#....................#......##........#....................#..#.......#........#.......#.#.....................#...................#...\n",
            "....####..............##...........#.........#....#......#.....................#.#...#.....#.#...............#.#.......................####..............##...........#.........#....#......#.....................#.#...#.....#.#...............#.#.......................####..............##...........#.........#....#......#.....................#.#...#.....#.#...............#.#...................\n",
            "......#.....#.............................#.........#..#..#.....#.#............##......##..#............#..#....#......#...#...###.......#.....#.............................#.........#..#..#.....#.#............##......##..#............#..#....#......#...#...###.......#.....#.............................#.........#..#..#.....#.#............##......##..#............#..#....#......#...#...###.\n",
            ".#........#............#...#..............#..............##....#......#...#.#.#.........#..#.#........#...........#...##....#.......#........#............#...#..............#..............##....#......#...#.#.#.........#..#.#........#...........#...##....#.......#........#............#...#..............#..............##....#......#...#.#.#.........#..#.#........#...........#...##....#......\n",
            ".......#......#..#.....#.....................#....#..#..............#...............#....................#....#...##..#.......#.##........#......#..#.....#.....................#....#..#..............#...............#....................#....#...##..#.......#.##........#......#..#.....#.....................#....#..#..............#...............#....................#....#...##..#.......#.##.\n",
            "........#.........#....###...#...........#..........#..........#....#....#...........#......#...........#...#..........#.......#...........#.........#....###...#...........#..........#..........#....#....#...........#......#...........#...#..........#.......#...........#.........#....###...#...........#..........#..........#....#....#...........#......#...........#...#..........#.......#...\n",
            "....#...........#.......#...##.........#...#...#...#......#..............#......................................#.......##....##.......#...........#.......#...##.........#...#...#...#......#..............#......................................#.......##....##.......#...........#.......#...##.........#...#...#...#......#..............#......................................#.......##....##...\n",
            ".....##..#..........#..#...#.................##.........................#..#............................#......#.#..............#.......##..#..........#..#...#.................##.........................#..#............................#......#.#..............#.......##..#..........#..#...#.................##.........................#..#............................#......#.#..............#..\n",
            ".#.#.##...............#.........#...............................#..#....##.#......#...#..#.............#................#...........#.#.##...............#.........#...............................#..#....##.#......#...#..#.............#................#...........#.#.##...............#.........#...............................#..#....##.#......#...#..#.............#................#..........\n",
            ".....................#....#.....#............#..#.#.....#...........#......#..........................#................###...#..........................#....#.....#............#..#.#.....#...........#......#..........................#................###...#..........................#....#.....#............#..#.#.....#...........#......#..........................#................###...#.....\n",
            ".#.......#..#.....................##..........#.............................##......#.................#...............#.....#.##....#.......#..#.....................##..........#.............................##......#.................#...............#.....#.##....#.......#..#.....................##..........#.............................##......#.................#...............#.....#.##...\n",
            "..#..............#...#.#........................#..#..................##.......#..............##.#..................##...............#..............#...#.#........................#..#..................##.......#..............##.#..................##...............#..............#...#.#........................#..#..................##.......#..............##.#..................##.............\n",
            "............#..........#.................................................#......#..#.#.........#...#....................#....#.................#..........#.................................................#......#..#.#.........#...#....................#....#.................#..........#.................................................#......#..#.#.........#...#....................#....#.....\n",
            ".......#.................#.....................#.....#..##....................#.........................#........#...#....#.##............#.................#.....................#.....#..##....................#.........................#........#...#....#.##............#.................#.....................#.....#..##....................#.........................#........#...#....#.##.....\n",
            ".#..............###.....#.........#...................#....#............#..#.................#......##....##.#.#.........#..........#..............###.....#.........#...................#....#............#..#.................#......##....##.#.#.........#..........#..............###.....#.........#...................#....#............#..#.................#......##....##.#.#.........#.........\n",
            "..................#.#.................................#.......##..#..#.#..#.#.#.........................#...#..........#...#.........................#.#.................................#.......##..#..#.#..#.#.#.........................#...#..........#...#.........................#.#.................................#.......##..#..#.#..#.#.#.........................#...#..........#...#.......\n",
            ".......##...#...##...#.............................................#...#.........................#..........##.....###...#.....#..........##...#...##...#.............................................#...#.........................#..........##.....###...#.....#..........##...#...##...#.............................................#...#.........................#..........##.....###...#.....#...\n",
            ".......#........#..#...#....#..........#.#........#........#......#..#...................#........#.#....##.#......#.#.........#..........#........#..#...#....#..........#.#........#........#......#..#...................#........#.#....##.#......#.#.........#..........#........#..#...#....#..........#.#........#........#......#..#...................#........#.#....##.#......#.#.........#...\n",
            "..#....#..........#.#..#...........#.....................#..#...#.#...#..#..#..............#......#..#.......#..##..#................#....#..........#.#..#...........#.....................#..#...#.#...#..#..#..............#......#..#.......#..##..#................#....#..........#.#..#...........#.....................#..#...#.#...#..#..#..............#......#..#.......#..##..#..............\n",
            "..........#.........#...##..........#...#..........................#.........................#.................#.....#.....#.....#...........#.........#...##..........#...#..........................#.........................#.................#.....#.....#.....#...........#.........#...##..........#...#..........................#.........................#.................#.....#.....#.....#.\n",
            "............#......#..#...............#.....#..................#.......#....................#...#....#...#......#........#...#.................#......#..#...............#.....#..................#.......#....................#...#....#...#......#........#...#.................#......#..#...............#.....#..................#.......#....................#...#....#...#......#........#...#.....\n",
            ".##........................#....##.#....................#.....#...........#...........#...#........#...#..........#..#......#.......##........................#....##.#....................#.....#...........#...........#...#........#...#..........#..#......#.......##........................#....##.#....................#.....#...........#...........#...#........#...#..........#..#......#......\n",
            "...#....................#...............#...............................#....................................#....#.#..........#......#....................#...............#...............................#....................................#....#.#..........#......#....................#...............#...............................#....................................#....#.#..........#...\n",
            "......................#.............##....#.............#....#..#.#.......#............##............#.#.##.........#......#...#.........................#.............##....#.............#....#..#.#.......#............##............#.#.##.........#......#...#.........................#.............##....#.............#....#..#.#.......#............##............#.#.##.........#......#...#...\n",
            "..#..#..........#.##.........#......##...#......................#...................#.................#..................##..........#..#..........#.##.........#......##...#......................#...................#.................#..................##..........#..#..........#.##.........#......##...#......................#...................#.................#..................##........\n",
            ".........#............##.#....#......#....##.#.#..........#.......#...#.............#........................#..........#...................#............##.#....#......#....##.#.#..........#.......#...#.............#........................#..........#...................#............##.#....#......#....##.#.#..........#.......#...#.............#........................#..........#..........\n",
            ".....#..#............#..............#..#..............................#................#.....#...........................#.#.#..........#..#............#..............#..#..............................#................#.....#...........................#.#.#..........#..#............#..............#..#..............................#................#.....#...........................#.#.#.....\n",
            "........#..#.##...#..#..##.#....#..........##.................##..#...............#.#....#..........#.........##..##.......................#..#.##...#..#..##.#....#..........##.................##..#...............#.#....#..........#.........##..##.......................#..#.##...#..#..##.#....#..........##.................##..#...............#.#....#..........#.........##..##...............\n",
            "..........#..........#....#..#.............#.................#.....#..............#...........##......##.....................................#..........#....#..#.............#.................#.....#..............#...........##......##.....................................#..........#....#..#.............#.................#.....#..............#...........##......##...........................\n",
            ".#....##...#...........#.................##....................................#..#..........................#...........#..........#....##...#...........#.................##....................................#..#..........................#...........#..........#....##...#...........#.................##....................................#..#..........................#...........#.........\n",
            ".............................#............#..#......#...........................##..............#.#...#............#.......##.#.................................#............#..#......#...........................##..............#.#...#............#.......##.#.................................#............#..#......#...........................##..............#.#...#............#.......##.#....\n",
            "....#...........#..##....##.#......##.....##........#..##.................#.........................#.......##.#.#...#...#.............#...........#..##....##.#......##.....##........#..##.................#.........................#.......##.#.#...#...#.............#...........#..##....##.#......##.....##........#..##.................#.........................#.......##.#.#...#...#.........\n",
            "..........#...#............#....#....#..##.....#.........#........................#..............#.......................#.....#.............#...#............#....#....#..##.....#.........#........................#..............#.......................#.....#.............#...#............#....#....#..##.....#.........#........................#..............#.......................#.....#...\n",
            "..#.....#....#...#..##.#..........#.#.....#...............#..............#.##..#...#..........#.....#.#.........##.##.....#......#...#.....#....#...#..##.#..........#.#.....#...............#..............#.##..#...#..........#.....#.#.........##.##.....#......#...#.....#....#...#..##.#..........#.#.....#...............#..............#.##..#...#..........#.....#.#.........##.##.....#......#.\n",
            "......#....#.........#............#.....................##................#..#.............#..............#....#.............#...........#....#.........#............#.....................##................#..#.............#..............#....#.............#...........#....#.........#............#.....................##................#..#.............#..............#....#.............#.....\n",
            ".......#...........#......#........#.............#...#......#................#.#.#........#.....#.#.#....#.######......#..................#...........#......#........#.............#...#......#................#.#.#........#.....#.#.#....#.######......#..................#...........#......#........#.............#...#......#................#.#.#........#.....#.#.#....#.######......#...........\n",
            ".........................................................................................................................................................................................................................................................................................................................................................................................................\n",
            ".........................................................................................................................................................................................................................................................................................................................................................................................................\n",
            "...................#.....#.....#.#.............#.#......#.......................#......#.......#......#...#...#.##..........##........................#.....#.....#.#.............#.#......#.......................#......#.......#......#...#...#.##..........##........................#.....#.....#.#.............#.#......#.......................#......#.......#......#...#...#.##..........##.....\n",
            "......#......#.....#....#........#...............#..........................#................#...........#...#......#.....#.##.#.........#......#.....#....#........#...............#..........................#................#...........#...#......#.....#.##.#.........#......#.....#....#........#...............#..........................#................#...........#...#......#.....#.##.#...\n",
            "..#.........#......#........##..##.#............#.#.#.#...................##....#......#.#............#...........#..................#.........#......#........##..##.#............#.#.#.#...................##....#......#.#............#...........#..................#.........#......#........##..##.#............#.#.#.#...................##....#......#.#............#...........#................\n",
            ".#...............#....###.#....#...........#........##..............................#...............##.............#....#...........#...............#....###.#....#...........#........##..............................#...............##.............#....#...........#...............#....###.#....#...........#........##..............................#...............##.............#....#..........\n",
            "............#.............##..#.#.....#..........#...#....................###...#.......#...........#.......##.#.........#.....................#.............##..#.#.....#..........#...#....................###...#.......#...........#.......##.#.........#.....................#.............##..#.#.....#..........#...#....................###...#.......#...........#.......##.#.........#.........\n",
            ".................#..........#..#..#.....##..#........#..........#............#...##.#..............#.....#.........#....#..#........................#..........#..#..#.....##..#........#..........#............#...##.#..............#.....#.........#....#..#........................#..........#..#..#.....##..#........#..........#............#...##.#..............#.....#.........#....#..#.......\n",
            "...#.......#..........#..#......###............#...#.#......................#.....#........###.#.............#..#....#..........#.....#.......#..........#..#......###............#...#.#......................#.....#........###.#.............#..#....#..........#.....#.......#..........#..#......###............#...#.#......................#.....#........###.#.............#..#....#..........#..\n",
            ".................#...#........................................................#.#..................##...#.#.#....#...##..........#..................#...#........................................................#.#..................##...#.#.#....#...##..........#..................#...#........................................................#.#..................##...#.#.#....#...##..........#.\n",
            "....#..........#...##...#...........#...........#................................#..#.............#.#...........#....#........#........#..........#...##...#...........#...........#................................#..#.............#.#...........#....#........#........#..........#...##...#...........#...........#................................#..#.............#.#...........#....#........#....\n",
            ".....#....##...#........#......#.#..............#..........#......#..............#.......#...................#.......#...##..#...#......#....##...#........#......#.#..............#..........#......#..............#.......#...................#.......#...##..#...#......#....##...#........#......#.#..............#..........#......#..............#.......#...................#.......#...##..#...#.\n",
            "......#...#.#....#...............#............#.....................#................#...###.#...#..........#.##...#.....................#...#.#....#...............#............#.....................#................#...###.#...#..........#.##...#.....................#...#.#....#...............#............#.....................#................#...###.#...#..........#.##...#...............\n",
            ".....##..#............#..#.........#..#....#...............#..............................#.#.......................#............#......##..#............#..#.........#..#....#...............#..............................#.#.......................#............#......##..#............#..#.........#..#....#...............#..............................#.#.......................#............#.\n",
            ".........##.....#.....#.........#.....#....#...............#.##.#....................#........................#..#..#...........#...........##.....#.....#.........#.....#....#...............#.##.#....................#........................#..#..#...........#...........##.....#.....#.........#.....#....#...............#.##.#....................#........................#..#..#...........#..\n",
            "......#.##.............#......#.##.............................#......#..#..........#....#.#.......#...#.#...#.......#.#........#........#.##.............#......#.##.............................#......#..#..........#....#.#.......#...#.#...#.......#.#........#........#.##.............#......#.##.............................#......#..#..........#....#.#.......#...#.#...#.......#.#........#..\n",
            "...................#..........#...........#.................#......#.......#..................#.....#...........#.#...#...............................#..........#...........#.................#......#.......#..................#.....#...........#.#...#...............................#..........#...........#.................#......#.......#..................#.....#...........#.#...#............\n",
            ".....#.........##........#.........#.#.#.##..............#....#..........##.............###.##.....#......##.##.#...............#.......#.........##........#.........#.#.#.##..............#....#..........##.............###.##.....#......##.##.#...............#.......#.........##........#.........#.#.#.##..............#....#..........##.............###.##.....#......##.##.#...............#..\n",
            ".#..#.....#...#..#......#..........................................#..........................#.....#......#........................#..#.....#...#..#......#..........................................#..........................#.....#......#........................#..#.....#...#..#......#..........................................#..........................#.....#......#.......................\n",
            ".....#.#....#..........#............#.....##.................#................................#.##..#...........#............#..........#.#....#..........#............#.....##.................#................................#.##..#...........#............#..........#.#....#..........#............#.....##.................#................................#.##..#...........#............#.....\n",
            "............#.......#...#.#......#.............................#...............................#..........#................#.....#.............#.......#...#.#......#.............................#...............................#..........#................#.....#.............#.......#...#.#......#.............................#...............................#..........#................#.....#.\n",
            ".......#.....##..........##.#.........#...............................#......#.#..........................#......#......##.....#..........#.....##..........##.#.........#...............................#......#.#..........................#......#......##.....#..........#.....##..........##.#.........#...............................#......#.#..........................#......#......##.....#...\n",
            "......#.#.......#..#..#..#............................##.#....##..........#...............#.......#.............##.....##................#.#.......#..#..#..#............................##.#....##..........#...............#.......#.............##.....##................#.#.......#..#..#..#............................##.#....##..........#...............#.......#.............##.....##..........\n",
            "................#..#.........#.....#...........#...##.#.....#.......#......#...............#..#......##........#...#.#.............................#..#.........#.....#...........#...##.#.....#.......#......#...............#..#......##........#...#.#.............................#..#.........#.....#...........#...##.#.....#.......#......#...............#..#......##........#...#.#.............\n",
            ".#............#..#.#.#....#....#.............................#.........#...........#................#....#...#....#...#.#...#.......#............#..#.#.#....#....#.............................#.........#...........#................#....#...#....#...#.#...#.......#............#..#.#.#....#....#.............................#.........#...........#................#....#...#....#...#.#...#......\n",
            ".................#......#......##..............#.........#........#.........#...#....#............#.#..#...................#..##....................#......#......##..............#.........#........#.........#...#....#............#.#..#...................#..##....................#......#......##..............#.........#........#.........#...#....#............#.#..#...................#..##...\n",
            "........#..........#..........................##..#....#...............................................#......#...........##..#............#..........#..........................##..#....#...............................................#......#...........##..#............#..........#..........................##..#....#...............................................#......#...........##..#....\n",
            "........#.#.#..........#...#....................#....#..#....#.........#...#..#.................#......#..##......#..........#.............#.#.#..........#...#....................#....#..#....#.........#...#..#.................#......#..##......#..........#.............#.#.#..........#...#....................#....#..#....#.........#...#..#.................#......#..##......#..........#.....\n",
            "...............#..................#.................................#..#....#..#..#...................#.......#............#......................#..................#.................................#..#....#..#..#...................#.......#............#......................#..................#.................................#..#....#..#..#...................#.......#............#.......\n",
            ".#.#..............#......#.............................................#..............##....................#...........#......#.#..#.#..............#......#.............................................#..............##....................#...........#......#.#..#.#..............#......#.............................................#..............##....................#...........#......#.#.\n",
            ".#.........#.....#............#...............#...........#.......#......#........................#...#..................#..........#.........#.....#............#...............#...........#.......#......#........................#...#..................#..........#.........#.....#............#...............#...........#.......#......#........................#...#..................#.........\n",
            "......#.........#....#.....................#.#..................#....#....#.....###..#.#.............#..#................................#.........#....#.....................#.#..................#....#....#.....###..#.#.............#..#................................#.........#....#.....................#.#..................#....#....#.....###..#.#.............#..#..........................\n",
            "...#....#................................#.....#.#...........#.................#.................................#.......#.....#.#....#....#................................#.....#.#...........#.................#.................................#.......#.....#.#....#....#................................#.....#.#...........#.................#.................................#.......#.....#.#.\n",
            "...#...#..##...........#..............#....................#.........#.#....#....##..................#....#...#.......................#...#..##...........#..............#....................#.........#.#....#....##..................#....#...#.......................#...#..##...........#..............#....................#.........#.#....#....##..................#....#...#....................\n",
            "......#..........#........#...........................##........#.#.....#.....#.......#...............#.......#..........................#..........#........#...........................##........#.#.....#.....#.......#...............#.......#..........................#..........#........#...........................##........#.#.....#.....#.......#...............#.......#....................\n",
            ".......#..........##..#.#..........................#.#........#.#...........#...........#....#.........#..................#.#.............#..........##..#.#..........................#.#........#.#...........#...........#....#.........#..................#.#.............#..........##..#.#..........................#.#........#.#...........#...........#....#.........#..................#.#......\n",
            "....................#....................#.........#...#......#.......#.......##.......................................................................#....................#.........#...#......#.......#.......##.......................................................................#....................#.........#...#......#.......#.......##...................................................\n",
            "..........#............#..........#........#...........#......................#..........................##.#..#.........#...#...............#............#..........#........#...........#......................#..........................##.#..#.........#...#...............#............#..........#........#...........#......................#..........................##.#..#.........#...#.....\n",
            "......#.....#.....................#.##.........#...#............#.#...........#...#.#............#.........##......#..........#..........#.....#.....................#.##.........#...#............#.#...........#...#.#............#.........##......#..........#..........#.....#.....................#.##.........#...#............#.#...........#...#.#............#.........##......#..........#....\n",
            ".....#..........#.....#..............#.......#..##...........#.............#..#....#...#.......................##...........##...#......#..........#.....#..............#.......#..##...........#.............#..#....#...#.......................##...........##...#......#..........#.....#..............#.......#..##...........#.............#..#....#...#.......................##...........##...#.\n",
            ".#..........#...#....................#...#......#..#.................#........#..........#...#...#..#.........#.........#....#......#..........#...#....................#...#......#..#.................#........#..........#...#...#..#.........#.........#....#......#..........#...#....................#...#......#..#.................#........#..........#...#...#..#.........#.........#....#.....\n",
            "......#......#.....................#.......#.....#.........................##............#.#..##.................#...#...###.............#......#.....................#.......#.....#.........................##............#.#..##.................#...#...###.............#......#.....................#.......#.....#.........................##............#.#..##.................#...#...###.......\n",
            ".......#.......#...................#..........#...#.....#......................#......##.....#.................#.............#............#.......#...................#..........#...#.....#......................#......##.....#.................#.............#............#.......#...................#..........#...#.....#......................#......##.....#.................#.............#.....\n",
            "......#.....#..#..................#............................#....#.#..#..##...........................................................#.....#..#..................#............................#....#.#..#..##...........................................................#.....#..#..................#............................#....#.#..#..##.....................................................\n",
            ".....#..#....#..#.#...............#......#.............#..#...........#.....#....#..#......#.#.....................##.#.................#..#....#..#.#...............#......#.............#..#...........#.....#....#..#......#.#.....................##.#.................#..#....#..#.#...............#......#.............#..#...........#.....#....#..#......#.#.....................##.#............\n",
            "....#.......#..#.........#........#....#.#..................##......#..........#........................#.............#.....#..........#.......#..#.........#........#....#.#..................##......#..........#........................#.............#.....#..........#.......#..#.........#........#....#.#..................##......#..........#........................#.............#.....#......\n",
            ".#.....#......#........................#..#..............................#..........#.......#.......##...#...........#..............#.....#......#........................#..#..............................#..........#.......#.......##...#...........#..............#.....#......#........................#..#..............................#..........#.......#.......##...#...........#.............\n",
            "...........................#.........#....##.....#.#....#...###...######...#.#......#...............#..........................##.............................#.........#....##.....#.#....#...###...######...#.#......#...............#..........................##.............................#.........#....##.....#.#....#...###...######...#.#......#...............#..........................##..\n",
            "..#......#................#.#......#.#.............#..#......#....#..#..#..#.........................##.........................#....#......#................#.#......#.#.............#..#......#....#..#..#..#.........................##.........................#....#......#................#.#......#.#.............#..#......#....#..#..#..#.........................##.........................#..\n",
            "...#........#.........#.##..............................##.#....#.......#.......#.......................#.#.#...............#....#....#........#.........#.##..............................##.#....#.......#.......#.......................#.#.#...............#....#....#........#.........#.##..............................##.#....#.......#.......#.......................#.#.#...............#....#.\n",
            ".......#..#.......................#..............#..........................#.#.....#.....#............#..............#..#.#.....#........#..#.......................#..............#..........................#.#.....#.....#............#..............#..#.#.....#........#..#.......................#..............#..........................#.#.....#.....#............#..............#..#.#.....#.\n",
            "..#.........................##......................#.........#.#.#.#........#.................#.....#..#.#..........................#.........................##......................#.........#.#.#.#........#.................#.....#..#.#..........................#.........................##......................#.........#.#.#.#........#.................#.....#..#.#........................\n",
            "..................#.......#.................#.#...................#.......#.#...........#......##...........................#........................#.......#.................#.#...................#.......#.#...........#......##...........................#........................#.......#.................#.#...................#.......#.#...........#......##...........................#......\n",
            ".......................#.#.....##...#.#.....#...#...#.##...#.............#.....................##.##......................................................#.#.....##...#.#.....#...#...#.##...#.............#.....................##.##......................................................#.#.....##...#.#.....#...#...#.##...#.............#.....................##.##...............................\n",
            "..#...............#.....#......#.....###.......................#............#.............#.#.....#.#.#..............................#...............#.....#......#.....###.......................#............#.............#.#.....#.#.#..............................#...............#.....#......#.....###.......................#............#.............#.#.....#.#.#............................\n",
            ".......#...................#......#...#....................#.#...............#..........................#..#................#..#..........#...................#......#...#....................#.#...............#..........................#..#................#..#..........#...................#......#...#....................#.#...............#..........................#..#................#..#...\n",
            "...........................#..........##..#..........#................................#..##..#.......##....#....#...........#.................................#..........##..#..........#................................#..##..#.......##....#....#...........#.................................#..........##..#..........#................................#..##..#.......##....#....#...........#......\n",
            "...##.............#...##.....#.......#...............#.....###..#.........#.............#....#........#...#.....#.#...................##.............#...##.....#.......#...............#.....###..#.........#.............#....#........#...#.....#.#...................##.............#...##.....#.......#...............#.....###..#.........#.............#....#........#...#.....#.#................\n",
            ".#...................#...##...........#............##........................#....#....#.....#........#......#...................#..#...................#...##...........#............##........................#....#....#.....#........#......#...................#..#...................#...##...........#............##........................#....#....#.....#........#......#...................#.\n",
            "..............#.#..........#................................#...........#..#..............##..##...#.......#.......#..#..........#...............#.#..........#................................#...........#..#..............##..##...#.......#.......#..#..........#...............#.#..........#................................#...........#..#..............##..##...#.......#.......#..#..........#.\n",
            "...............#........#........#..............#....#.........#.......#..........#.......#.#............#......#.#...#.........#.................#........#........#..............#....#.........#.......#..........#.......#.#............#......#.#...#.........#.................#........#........#..............#....#.........#.......#..........#.......#.#............#......#.#...#.........#..\n",
            ".........#.......###...#.#...#..................#..#.......#...##...#.....##............#..#.......#........................................#.......###...#.#...#..................#..#.......#...##...#.....##............#..#.......#........................................#.......###...#.#...#..................#..#.......#...##...#.....##............#..#.......#...............................\n",
            "............#......#.......................#..........#...#........#.#.......#....................#......#......#....#....#....................#......#.......................#..........#...#........#.#.......#....................#......#......#....#....#....................#......#.......................#..........#...#........#.#.......#....................#......#......#....#....#........\n",
            ".........##.....#.......................................#...........#........................#.........#....................................##.....#.......................................#...........#........................#.........#....................................##.....#.......................................#...........#........................#.........#...........................\n",
            "..........##.........#.....#.......#.................##..#.#......##...............#....#...#..#..#...##..#.##.#.....#.#.#...................##.........#.....#.......#.................##..#.#......##...............#....#...#..#..#...##..#.##.#.....#.#.#...................##.........#.....#.......#.................##..#.#......##...............#....#...#..#..#...##..#.##.#.....#.#.#.........\n",
            ".......................#..............#......##.#.#.#...................##....##........#....#.....................#......................................#..............#......##.#.#.#...................##....##........#....#.....................#......................................#..............#......##.#.#.#...................##....##........#....#.....................#...............\n",
            ".........................................................................................................................................................................................................................................................................................................................................................................................................\n",
            ".....#............#................#..###............#..##....#.#......#...........#..........#...#.....................................#............#................#..###............#..##....#.#......#...........#..........#...#.....................................#............#................#..###............#..##....#.#......#...........#..........#...#................................\n",
            "...........#.......#...#.........#....#........#..#................#.........#.#......................#....#....#.........#.#.................#.......#...#.........#....#........#..#................#.........#.#......................#....#....#.........#.#.................#.......#...#.........#....#........#..#................#.........#.#......................#....#....#.........#.#......\n",
            "................#..#........................#..#................#......#..#.......#...........##...#...............#...............................#..#........................#..#................#......#..#.......#...........##...#...............#...............................#..#........................#..#................#......#..#.......#...........##...#...............#...............\n",
            "............#....#...#.....#.##.............#.#..............#.#...#........#...........#..#...##.........................#....................#....#...#.....#.##.............#.#..............#.#...#........#...........#..#...##.........................#....................#....#...#.....#.##.............#.#..............#.#...#........#...........#..#...##.........................#........\n",
            ".#.........##.#..#...#.....#.#....##.#.#.....#.................#...#.........................#............#.#.#....#................#.........##.#..#...#.....#.#....##.#.#.....#.................#...#.........................#............#.#.#....#................#.........##.#..#...#.....#.#....##.#.#.....#.................#...#.........................#............#.#.#....#...............\n",
            ".#...........#.#..........#......................#...#......##............#....................#......##.......#........#...........#...........#.#..........#......................#...#......##............#....................#......##.......#........#...........#...........#.#..........#......................#...#......##............#....................#......##.......#........#..........\n",
            "..#......................#.#.............#..#.........................#........##.#.#...#..#.#...................#...................#......................#.#.............#..#.........................#........##.#.#...#..#.#...................#...................#......................#.#.............#..#.........................#........##.#.#...#..#.#...................#.................\n",
            ".........................................#.#...#.#............#.............#...........#.#..#.#.#.......#.#.....#..#.......................................................#.#...#.#............#.............#...........#.#..#.#.#.......#.#.....#..#.......................................................#.#...#.#............#.............#...........#.#..#.#.#.......#.#.....#..#..............\n",
            "....#........................#........#...#...........#..#..................##.#.#...........#....#.#......#...................#.#.....#........................#........#...#...........#..#..................##.#.#...........#....#.#......#...................#.#.....#........................#........#...#...........#..#..................##.#.#...........#....#.#......#...................#.#.\n",
            "......#..........#.......##....#..........#.....#.............#.#......#..........#....#...........#.......#.......#...........#.........#..........#.......##....#..........#.....#.............#.#......#..........#....#...........#.......#.......#...........#.........#..........#.......##....#..........#.....#.............#.#......#..........#....#...........#.......#.......#...........#...\n",
            "...#............#........#..#...........#........#..###.....#..#..........#...........#.........#.........#...##.###............##....#............#........#..#...........#........#..###.....#..#..........#...........#.........#.........#...##.###............##....#............#........#..#...........#........#..###.....#..#..........#...........#.........#.........#...##.###............##.\n",
            ".......#........#....#.#.#.........#..#...............#..#........#.......#.................#.......#...#........#..............#.........#........#....#.#.#.........#..#...............#..#........#.......#.................#.......#...#........#..............#.........#........#....#.#.#.........#..#...............#..#........#.......#.................#.......#...#........#..............#..\n",
            ".......................#............#.....#......#............#....#.....#.#..#..........#.......#...#........#..........#................................#............#.....#......#............#....#.....#.#..#..........#.......#...#........#..........#................................#............#.....#......#............#....#.....#.#..#..........#.......#...#........#..........#.........\n",
            "...#..............#...................#.....#.........#....#.........#.......#.#.............##........#....#...#.....................#..............#...................#.....#.........#....#.........#.......#.#.............##........#....#...#.....................#..............#...................#.....#.........#....#.........#.......#.#.............##........#....#...#..................\n",
            "..........#..........#......#.............#....................#..#.......#.#.#....##...#.#................................#.................#..........#......#.............#....................#..#.......#.#.#....##...#.#................................#.................#..........#......#.............#....................#..#.......#.#.#....##...#.#................................#.......\n",
            "..#...........................#.......................................#....#..........#....................#................#....#...#...........................#.......................................#....#..........#....................#................#....#...#...........................#.......................................#....#..........#....................#................#....#.\n",
            "......................#.#...............#.......#.........#....##.................#......#..........#....................##......#.......................#.#...............#.......#.........#....##.................#......#..........#....................##......#.......................#.#...............#.......#.........#....##.................#......#..........#....................##......#.\n",
            ".........#...#............#...............##.....#......#..#........#.....#...#............#....................................#...........#...#............#...............##.....#......#..#........#.....#...#............#....................................#...........#...#............#...............##.....#......#..#........#.....#...#............#....................................#..\n",
            "......##..#.#...........#..#...........###.....#........................##.....................#........#................................##..#.#...........#..#...........###.....#........................##.....................#........#................................##..#.#...........#..#...........###.....#........................##.....................#........#..........................\n",
            "............#...............#....#..#..............#.................#......#.#..#..........#..................................#...............#...............#....#..#..............#.................#......#.#..#..........#..................................#...............#...............#....#..#..............#.................#......#.#..#..........#..................................#...\n",
            ".............#.##...................................#.........##...#.....................................#.................#.#...#..............#.##...................................#.........##...#.....................................#.................#.#...#..............#.##...................................#.........##...#.....................................#.................#.#...#.\n",
            ".#...........................#............#............#.####..........................#.#...#.#.....#...........#..................#...........................#............#............#.####..........................#.#...#.#.....#...........#..................#...........................#............#............#.####..........................#.#...#.#.....#...........#.................\n",
            ".....#...........#.#.................#....#....#....##.#.....#.....#...#............##...#.#....................#.#.#..#..#..#..........#...........#.#.................#....#....#....##.#.....#.....#...#............##...#.#....................#.#.#..#..#..#..........#...........#.#.................#....#....#....##.#.....#.....#...#............##...#.#....................#.#.#..#..#..#.....\n",
            "........#.#..#..#...........#.........#..#.....#.##.#........#......................#........#.....##...........#......#...................#.#..#..#...........#.........#..#.....#.##.#........#......................#........#.....##...........#......#...................#.#..#..#...........#.........#..#.....#.##.#........#......................#........#.....##...........#......#...........\n",
            "............#..#................#......#.#.#............#...#...........#....#..#..............................................#.#.............#..#................#......#.#.#............#...#...........#....#..#..............................................#.#.............#..#................#......#.#.#............#...#...........#....#..#..............................................#.#.\n",
            "......#...#............................................................#...#................#.##............#.....#....#.......#.........#...#............................................................#...#................#.##............#.....#....#.......#.........#...#............................................................#...#................#.##............#.....#....#.......#...\n",
            "..#..........#...#.....................#............#........#.......#.##....#...#.............#........................##......#....#..........#...#.....................#............#........#.......#.##....#...#.............#........................##......#....#..........#...#.....................#............#........#.......#.##....#...#.............#........................##......#..\n",
            "..#....#.#..........................#.#......#.......#..........#......#..........#......#.....#...............#.##.....#...#........#....#.#..........................#.#......#.......#..........#......#..........#......#.....#...............#.##.....#...#........#....#.#..........................#.#......#.......#..........#......#..........#......#.....#...............#.##.....#...#......\n",
            ".................#......##........#....................#..#.......#........#.......#.#.....................#...................#....................#......##........#....................#..#.......#........#.......#.#.....................#...................#....................#......##........#....................#..#.......#........#.......#.#.....................#...................#...\n",
            "....####..............##...........#.........#....#......#.....................#.#...#.....#.#...............#.#.......................####..............##...........#.........#....#......#.....................#.#...#.....#.#...............#.#.......................####..............##...........#.........#....#......#.....................#.#...#.....#.#...............#.#...................\n",
            "......#.....#.............................#.........#..#..#.....#.#............##......##..#............#..#....#......#...#...###.......#.....#.............................#.........#..#..#.....#.#............##......##..#............#..#....#......#...#...###.......#.....#.............................#.........#..#..#.....#.#............##......##..#............#..#....#......#...#...###.\n",
            ".#........#............#...#..............#..............##....#......#...#.#.#.........#..#.#........#...........#...##....#.......#........#............#...#..............#..............##....#......#...#.#.#.........#..#.#........#...........#...##....#.......#........#............#...#..............#..............##....#......#...#.#.#.........#..#.#........#...........#...##....#......\n",
            ".......#......#..#.....#.....................#....#..#..............#...............#....................#....#...##..#.......#.##........#......#..#.....#.....................#....#..#..............#...............#....................#....#...##..#.......#.##........#......#..#.....#.....................#....#..#..............#...............#....................#....#...##..#.......#.##.\n",
            "........#.........#....###...#...........#..........#..........#....#....#...........#......#...........#...#..........#.......#...........#.........#....###...#...........#..........#..........#....#....#...........#......#...........#...#..........#.......#...........#.........#....###...#...........#..........#..........#....#....#...........#......#...........#...#..........#.......#...\n",
            "....#...........#.......#...##.........#...#...#...#......#..............#......................................#.......##....##.......#...........#.......#...##.........#...#...#...#......#..............#......................................#.......##....##.......#...........#.......#...##.........#...#...#...#......#..............#......................................#.......##....##...\n",
            ".....##..#..........#..#...#.................##.........................#..#............................#......#.#..............#.......##..#..........#..#...#.................##.........................#..#............................#......#.#..............#.......##..#..........#..#...#.................##.........................#..#............................#......#.#..............#..\n",
            ".#.#.##...............#.........#...............................#..#....##.#......#...#..#.............#................#...........#.#.##...............#.........#...............................#..#....##.#......#...#..#.............#................#...........#.#.##...............#.........#...............................#..#....##.#......#...#..#.............#................#..........\n",
            ".....................#....#.....#............#..#.#.....#...........#......#..........................#................###...#..........................#....#.....#............#..#.#.....#...........#......#..........................#................###...#..........................#....#.....#............#..#.#.....#...........#......#..........................#................###...#.....\n",
            ".#.......#..#.....................##..........#.............................##......#.................#...............#.....#.##....#.......#..#.....................##..........#.............................##......#.................#...............#.....#.##....#.......#..#.....................##..........#.............................##......#.................#...............#.....#.##...\n",
            "..#..............#...#.#........................#..#..................##.......#..............##.#..................##...............#..............#...#.#........................#..#..................##.......#..............##.#..................##...............#..............#...#.#........................#..#..................##.......#..............##.#..................##.............\n",
            "............#..........#.................................................#......#..#.#.........#...#....................#....#.................#..........#.................................................#......#..#.#.........#...#....................#....#.................#..........#.................................................#......#..#.#.........#...#....................#....#.....\n",
            ".......#.................#.....................#.....#..##....................#.........................#........#...#....#.##............#.................#.....................#.....#..##....................#.........................#........#...#....#.##............#.................#.....................#.....#..##....................#.........................#........#...#....#.##.....\n",
            ".#..............###.....#.........#...................#....#............#..#.................#......##....##.#.#.........#..........#..............###.....#.........#...................#....#............#..#.................#......##....##.#.#.........#..........#..............###.....#.........#...................#....#............#..#.................#......##....##.#.#.........#.........\n",
            "..................#.#.................................#.......##..#..#.#..#.#.#.........................#...#..........#...#.........................#.#.................................#.......##..#..#.#..#.#.#.........................#...#..........#...#.........................#.#.................................#.......##..#..#.#..#.#.#.........................#...#..........#...#.......\n",
            ".......##...#...##...#.............................................#...#.........................#..........##.....###...#.....#..........##...#...##...#.............................................#...#.........................#..........##.....###...#.....#..........##...#...##...#.............................................#...#.........................#..........##.....###...#.....#...\n",
            ".......#........#..#...#....#..........#.#........#........#......#..#...................#........#.#....##.#......#.#.........#..........#........#..#...#....#..........#.#........#........#......#..#...................#........#.#....##.#......#.#.........#..........#........#..#...#....#..........#.#........#........#......#..#...................#........#.#....##.#......#.#.........#...\n",
            "..#....#..........#.#..#...........#.....................#..#...#.#...#..#..#..............#......#..#.......#..##..#................#....#..........#.#..#...........#.....................#..#...#.#...#..#..#..............#......#..#.......#..##..#................#....#..........#.#..#...........#.....................#..#...#.#...#..#..#..............#......#..#.......#..##..#..............\n",
            "..........#.........#...##..........#...#..........................#.........................#.................#.....#.....#.....#...........#.........#...##..........#...#..........................#.........................#.................#.....#.....#.....#...........#.........#...##..........#...#..........................#.........................#.................#.....#.....#.....#.\n",
            "............#......#..#...............#.....#..................#.......#....................#...#....#...#......#........#...#.................#......#..#...............#.....#..................#.......#....................#...#....#...#......#........#...#.................#......#..#...............#.....#..................#.......#....................#...#....#...#......#........#...#.....\n",
            ".##........................#....##.#....................#.....#...........#...........#...#........#...#..........#..#......#.......##........................#....##.#....................#.....#...........#...........#...#........#...#..........#..#......#.......##........................#....##.#....................#.....#...........#...........#...#........#...#..........#..#......#......\n",
            "...#....................#...............#...............................#....................................#....#.#..........#......#....................#...............#...............................#....................................#....#.#..........#......#....................#...............#...............................#....................................#....#.#..........#...\n",
            "......................#.............##....#.............#....#..#.#.......#............##............#.#.##.........#......#...#.........................#.............##....#.............#....#..#.#.......#............##............#.#.##.........#......#...#.........................#.............##....#.............#....#..#.#.......#............##............#.#.##.........#......#...#...\n",
            "..#..#..........#.##.........#......##...#......................#...................#.................#..................##..........#..#..........#.##.........#......##...#......................#...................#.................#..................##..........#..#..........#.##.........#......##...#......................#...................#.................#..................##........\n",
            ".........#............##.#....#......#....##.#.#..........#.......#...#.............#........................#..........#...................#............##.#....#......#....##.#.#..........#.......#...#.............#........................#..........#...................#............##.#....#......#....##.#.#..........#.......#...#.............#........................#..........#..........\n",
            ".....#..#............#..............#..#..............................#................#.....#...........................#.#.#..........#..#............#..............#..#..............................#................#.....#...........................#.#.#..........#..#............#..............#..#..............................#................#.....#...........................#.#.#.....\n",
            "........#..#.##...#..#..##.#....#..........##.................##..#...............#.#....#..........#.........##..##.......................#..#.##...#..#..##.#....#..........##.................##..#...............#.#....#..........#.........##..##.......................#..#.##...#..#..##.#....#..........##.................##..#...............#.#....#..........#.........##..##...............\n",
            "..........#..........#....#..#.............#.................#.....#..............#...........##......##.....................................#..........#....#..#.............#.................#.....#..............#...........##......##.....................................#..........#....#..#.............#.................#.....#..............#...........##......##...........................\n",
            ".#....##...#...........#.................##....................................#..#..........................#...........#..........#....##...#...........#.................##....................................#..#..........................#...........#..........#....##...#...........#.................##....................................#..#..........................#...........#.........\n",
            ".............................#............#..#......#...........................##..............#.#...#............#.......##.#.................................#............#..#......#...........................##..............#.#...#............#.......##.#.................................#............#..#......#...........................##..............#.#...#............#.......##.#....\n",
            "....#...........#..##....##.#......##.....##........#..##.................#.........................#.......##.#.#...#...#.............#...........#..##....##.#......##.....##........#..##.................#.........................#.......##.#.#...#...#.............#...........#..##....##.#......##.....##........#..##.................#.........................#.......##.#.#...#...#.........\n",
            "..........#...#............#....#....#..##.....#.........#........................#..............#.......................#.....#.............#...#............#....#....#..##.....#.........#........................#..............#.......................#.....#.............#...#............#....#....#..##.....#.........#........................#..............#.......................#.....#...\n",
            "..#.....#....#...#..##.#..........#.#.....#...............#..............#.##..#...#..........#.....#.#.........##.##.....#......#...#.....#....#...#..##.#..........#.#.....#...............#..............#.##..#...#..........#.....#.#.........##.##.....#......#...#.....#....#...#..##.#..........#.#.....#...............#..............#.##..#...#..........#.....#.#.........##.##.....#......#.\n",
            "......#....#.........#............#.....................##................#..#.............#..............#....#.............#...........#....#.........#............#.....................##................#..#.............#..............#....#.............#...........#....#.........#............#.....................##................#..#.............#..............#....#.............#.....\n",
            ".......#...........#......#........#.............#...#......#................#.#.#........#.....#.#.#....#.######......#..................#...........#......#........#.............#...#......#................#.#.#........#.....#.#.#....#.######......#..................#...........#......#........#.............#...#......#................#.#.#........#.....#.#.#....#.######......#...........\n",
            ".........................................................................................................................................................................................................................................................................................................................................................................................................\n"
          ]
        }
      ],
      "source": [
        "Console.WriteLine(String.Join(\u0022\\n\u0022, Replicate(inputLines, 3)));"
      ]
    },
    {
      "cell_type": "code",
      "execution_count": 22,
      "metadata": {
        "dotnet_interactive": {
          "language": "csharp"
        },
        "polyglot_notebook": {
          "kernelName": "csharp"
        },
        "vscode": {
          "languageId": "polyglot-notebook"
        }
      },
      "outputs": [
        {
          "name": "stdout",
          "output_type": "stream",
          "text": [
            "Steps for 5 times: 327\n",
            "Reachable plots: 95442\n",
            "Saving data to Day21-SplitExplore-5.txt\n"
          ]
        }
      ],
      "source": [
        "// Dammit I had to take a hint on this one :( Time to abandon the diamond idea.\n",
        "// Repetition the theme but the key is to use tiles, not diamonds. There are only\n",
        "// a certain number of unique tiles, and the big diamond can be composed of these\n",
        "\n",
        "// Separate a replicated tile back into its individual tiles\n",
        "IEnumerable\u003Cstring\u003E Separate(string[] template, string[] fullMap) {\n",
        "    var rows = cols = template.Length; // square\n",
        "\n",
        "    var times = fullMap.Length / template.Length;\n",
        "\n",
        "    foreach (var i in Enumerable.Range(0, times)) {\n",
        "        foreach (var j in Enumerable.Range(0, times)) {\n",
        "            var startRow = i * template.Length;\n",
        "            var startCol = j * template.Length;\n",
        "\n",
        "            var tileResult = new string[template.Length];\n",
        "\n",
        "            for (var row = 0; row \u003C template.Length; row\u002B\u002B) {\n",
        "                tileResult[row] = fullMap[startRow \u002B row].Substring(startCol, template.Length);\n",
        "            }\n",
        "\n",
        "            var tileStr = string.Join(\u0027\\n\u0027, tileResult);\n",
        "            yield return tileStr;\n",
        "        }\n",
        "    }\n",
        "}\n",
        "\n",
        "// Add the S back to the middle of each tile (helps recognise each tile on a large map)\n",
        "string[] insertSS(string source, int tileSize) {\n",
        "    var sourceLines = source.Split(\u0027\\n\u0027);\n",
        "    var result = new string[sourceLines.Length];\n",
        "\n",
        "    var middle = tileSize / 2;\n",
        "\n",
        "    for (var i = 0; i \u003C sourceLines.Length; i\u002B\u002B) {\n",
        "        var newRow = sourceLines[i].ToCharArray();\n",
        "        \n",
        "        if (i % tileSize == middle) {\n",
        "            for (var j = 0; j \u003C newRow.Length; j\u002B\u002B) {\n",
        "                if (j % tileSize == middle) {\n",
        "                    newRow[j] = \u0027S\u0027;\n",
        "                }\n",
        "            }\n",
        "        }\n",
        "\n",
        "        result[i] = (new string(newRow));\n",
        "    }\n",
        "\n",
        "    return result;\n",
        "}\n",
        "\n",
        "void SplitExplore(string[] template, int times) {\n",
        "    var replicated = Replicate(template, times);\n",
        "\n",
        "    var steps = ((template.Length * times) / 2);\n",
        "    Console.WriteLine($\u0022Steps for {times} times: {steps}\u0022);\n",
        "\n",
        "    var garden = new Garden2(replicated);\n",
        "    var explored = garden.Explore(steps);\n",
        "\n",
        "    Console.WriteLine($\u0022Reachable plots: {explored.Count}\u0022);\n",
        "\n",
        "    var rendered = garden.Render(explored);\n",
        "\n",
        "    var rendered_s = insertSS(rendered, template.Length);\n",
        "\n",
        "    var filePath = $\u0022Day21-SplitExplore-{times}.txt\u0022;\n",
        "\n",
        "    Console.WriteLine($\u0022Saving data to {filePath}\u0022);\n",
        "\n",
        "    File.WriteAllLines(filePath, rendered_s);\n",
        "\n",
        "    // Show the unique tiles and their counts\n",
        "    // var tiles = Separate(inputLines, rendered_s).ToList();\n",
        "\n",
        "    // var tileGroups = tiles.GroupBy(t =\u003E t).Select(tg =\u003E (tile: tg.Key, count: tg.Count()));\n",
        "    // Console.WriteLine($\u0022Total unique tiles: {tileGroups.Count()}\u0022);\n",
        "    // foreach (var tg in tileGroups.OrderByDescending(tg =\u003E tg.count)) {\n",
        "    //     Console.WriteLine($\u0022Count: {tg.count}\u0022);\n",
        "    //     Console.WriteLine(tg.tile);\n",
        "    //     Console.WriteLine();\n",
        "    // }\n",
        "}\n",
        "\n",
        "SplitExplore(inputLines, 5);"
      ]
    },
    {
      "cell_type": "code",
      "execution_count": 23,
      "metadata": {
        "dotnet_interactive": {
          "language": "csharp"
        },
        "polyglot_notebook": {
          "kernelName": "csharp"
        },
        "vscode": {
          "languageId": "polyglot-notebook"
        }
      },
      "outputs": [
        {
          "name": "stdout",
          "output_type": "stream",
          "text": [
            "95442\n",
            "95442\n",
            "308770\n",
            "643866\n"
          ]
        }
      ],
      "source": [
        "// From 5x5, we have 15 unique tiles\n",
        "\n",
        "// For each row that is not the middle or the top, we have 2 end pieces- fortunately there\u0027re always the same!\n",
        "\n",
        "// Therefore our unique tiles are (for 13x)...\n",
        "\n",
        "// full OSO (25)\n",
        "// full .S. (36)\n",
        "// top middle x 2 (1 each)\n",
        "// side middle x 2 (1 each)\n",
        "// side piece inner x 4 (5 each)\n",
        "// side piece outer x 4 (6 each)\n",
        "// empty (60)\n",
        "\n",
        "// so we need a minimum of 5x5, which is exploring 327 steps\n",
        "\n",
        "var g5Map = Replicate(inputLines, 5);\n",
        "var g5 = new Garden2(g5Map);\n",
        "var g5Steps = 327;\n",
        "var g5Result = g5.Explore(g5Steps);\n",
        "\n",
        "Console.WriteLine(g5Result.Count());\n",
        "\n",
        "int getTileExplored(string[] template, HashSet\u003CPoint\u003E result, int tileRow, int tileCol)\n",
        "{\n",
        "    var tileSize = template.Length; // square\n",
        "\n",
        "    var tileResult = result.Where(r =\u003E r.row / tileSize == tileRow \n",
        "                                    \u0026\u0026 r.col / tileSize == tileCol);\n",
        "    return tileResult.Count();\n",
        "}\n",
        "\n",
        "var get = (int row, int col) =\u003E getTileExplored(inputLines, g5Result, row, col);\n",
        "\n",
        "var fullOso = get(2, 2);\n",
        "var fullAlt = get(2, 3);\n",
        "var sideOuter = get(1, 0) \u002B get (1, 4) \u002B get(3, 0) \u002B get(3, 4);\n",
        "var sideInner = get(1, 1) \u002B get (1, 3) \u002B get(3, 1) \u002B get(3, 3);\n",
        "var topMiddle = get(0, 2) \u002B get(4, 2);\n",
        "var sideMiddle = get(2, 0) \u002B get(2, 4);\n",
        "\n",
        "ulong fullCount(int times) \n",
        "{\n",
        "    checked {\n",
        "        var outers = (ulong)times / 2;\n",
        "        var inners = outers - 1;\n",
        "        var fullOsoCount = inners * inners;\n",
        "        var fullAltCount = outers * outers;\n",
        "\n",
        "        ulong total = (ulong)topMiddle \n",
        "                    \u002B (ulong)sideMiddle\n",
        "                    \u002B ((ulong)sideOuter * outers)\n",
        "                    \u002B ((ulong)sideInner * inners)\n",
        "                    \u002B ((ulong)fullOso * fullOsoCount)\n",
        "                    \u002B ((ulong)fullAlt * fullAltCount);\n",
        "\n",
        "        return total;\n",
        "    }\n",
        "}\n",
        "\n",
        "Console.WriteLine(fullCount(5)); // correct\n",
        "Console.WriteLine(fullCount(9)); // correct\n",
        "Console.WriteLine(fullCount(13)); // correct"
      ]
    },
    {
      "cell_type": "code",
      "execution_count": 24,
      "metadata": {
        "dotnet_interactive": {
          "language": "csharp"
        },
        "polyglot_notebook": {
          "kernelName": "csharp"
        },
        "vscode": {
          "languageId": "polyglot-notebook"
        }
      },
      "outputs": [
        {
          "name": "stdout",
          "output_type": "stream",
          "text": [
            "622926941971282\n"
          ]
        }
      ],
      "source": [
        "// ...how many garden plots could the Elf reach in exactly 26501365 steps?\n",
        "\n",
        "// As-stated above 26501365 steps convers 404601 tiles in width x height\n",
        "var part2Answer = fullCount(404601);\n",
        "Console.WriteLine(part2Answer);"
      ]
    },
    {
      "cell_type": "code",
      "execution_count": 25,
      "metadata": {
        "dotnet_interactive": {
          "language": "csharp"
        },
        "polyglot_notebook": {
          "kernelName": "csharp"
        },
        "vscode": {
          "languageId": "polyglot-notebook"
        }
      },
      "outputs": [],
      "source": [
        "// 622926941971282 is correct!\n",
        "Ensure(622926941971282, part2Answer);"
      ]
    }
  ],
  "metadata": {
    "kernelspec": {
      "display_name": ".NET (C#)",
      "language": "C#",
      "name": ".net-csharp"
    },
    "language_info": {
      "name": "python"
    },
    "polyglot_notebook": {
      "kernelInfo": {
        "defaultKernelName": "csharp",
        "items": [
          {
            "aliases": [],
            "name": "csharp"
          }
        ]
      }
    }
  },
  "nbformat": 4,
  "nbformat_minor": 2
}