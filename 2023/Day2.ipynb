{
  "cells": [
    {
      "cell_type": "markdown",
      "metadata": {
        "dotnet_interactive": {
          "language": "csharp"
        },
        "polyglot_notebook": {
          "kernelName": "csharp"
        },
        "vscode": {
          "languageId": "polyglot-notebook"
        }
      },
      "source": [
        "### --- Day 2: Cube Conundrum ---\n",
        "\n",
        "Puzzle description redacted as-per Advent of Code guidelines\n",
        "\n",
        "You may find the puzzle description at: https://adventofcode.com/2023/day/2"
      ]
    },
    {
      "cell_type": "code",
      "execution_count": 2,
      "metadata": {
        "dotnet_interactive": {
          "language": "csharp"
        },
        "polyglot_notebook": {
          "kernelName": "csharp"
        },
        "vscode": {
          "languageId": "polyglot-notebook"
        }
      },
      "outputs": [],
      "source": [
        "#!import ../Utils.ipynb"
      ]
    },
    {
      "cell_type": "code",
      "execution_count": 3,
      "metadata": {
        "dotnet_interactive": {
          "language": "csharp"
        },
        "polyglot_notebook": {
          "kernelName": "csharp"
        },
        "vscode": {
          "languageId": "polyglot-notebook"
        }
      },
      "outputs": [
        {
          "name": "stdout",
          "output_type": "stream",
          "text": [
            "Loading puzzle file: Day2.txt\n",
            "Total lines: 100\n",
            "Max line length: 156\n",
            "\n",
            "Game 1: 10 green, 9 blue, 1 red; 1 red, 7 green; 11 green, 6 blue; 8 blue, 12 green\n",
            "Game 2: 11 red, 7 green, 3 blue; 1 blue, 8 green, 5 red; 2 red, 12 green, 1 blue; 10 green, 5 blue, 7 red\n",
            "Game 3: 2 red, 7 green, 1 blue; 1 blue, 8 red; 7 green, 19 red, 5 blue; 1 blue, 10 green, 18 red; 10 red, 6 blue, 4 green\n",
            "Game 4: 2 blue, 5 green, 2 red; 7 red, 3 green; 3 blue, 2 red; 16 green, 2 blue\n",
            "Game 5: 1 blue, 9 red; 5 blue, 9 green, 6 red; 8 red, 10 blue, 3 green; 3 red, 13 green, 4 blue; 5 green, 9 red, 6 blue; 4 green, 8 red, 7 blue\n"
          ]
        }
      ],
      "source": [
        "var inputLines = LoadPuzzleInput(2023, 2);\n",
        "WriteLines(inputLines);"
      ]
    },
    {
      "cell_type": "code",
      "execution_count": 4,
      "metadata": {
        "dotnet_interactive": {
          "language": "csharp"
        },
        "polyglot_notebook": {
          "kernelName": "csharp"
        },
        "vscode": {
          "languageId": "polyglot-notebook"
        }
      },
      "outputs": [
        {
          "name": "stdout",
          "output_type": "stream",
          "text": [
            "1\n"
          ]
        }
      ],
      "source": [
        "const int validRed = 12;\n",
        "const int validGreen = 13;\n",
        "const int validBlue = 14;\n",
        "\n",
        "// Let\u0027s try and do this without using parsing or regex :)\n",
        "\n",
        "var validSamples = new HashSet\u003Cstring\u003E();\n",
        "validSamples.UnionWith(Enumerable.Range(1, validRed).Select(i =\u003E $\u0022{i} red\u0022));\n",
        "validSamples.UnionWith(Enumerable.Range(1, validGreen).Select(i =\u003E $\u0022{i} green\u0022));\n",
        "validSamples.UnionWith(Enumerable.Range(1, validBlue).Select(i =\u003E $\u0022{i} blue\u0022));\n",
        "\n",
        "int ParseGame(string line) {\n",
        "    var numberGames = line.Split(\u0022: \u0022).ToArray();\n",
        "    var number = int.Parse(numberGames[0].Replace(\u0022Game \u0022, string.Empty));\n",
        "    var games = numberGames[1];\n",
        "\n",
        "    var gameBits = games.Split(\u0022; \u0022).SelectMany(g =\u003E g.Split(\u0022, \u0022)).ToArray();\n",
        "\n",
        "    var isValid = gameBits.All(b =\u003E validSamples.Contains(b));\n",
        "\n",
        "    return isValid ? number : 0;\n",
        "}\n",
        "\n",
        "var firstLine = inputLines[0];\n",
        "Console.WriteLine(ParseGame(firstLine));"
      ]
    },
    {
      "cell_type": "code",
      "execution_count": 5,
      "metadata": {
        "dotnet_interactive": {
          "language": "csharp"
        },
        "polyglot_notebook": {
          "kernelName": "csharp"
        },
        "vscode": {
          "languageId": "polyglot-notebook"
        }
      },
      "outputs": [
        {
          "name": "stdout",
          "output_type": "stream",
          "text": [
            "2239\n"
          ]
        }
      ],
      "source": [
        "// Determine which games would have been possible if the bag had been loaded\n",
        "// with only 12 red cubes, 13 green cubes, and 14 blue cubes. What is the sum of\n",
        "// the IDs of those games?\n",
        "\n",
        "var numbers = inputLines.Select(ParseGame).ToArray();\n",
        "var part1Answer = numbers.Sum();\n",
        "\n",
        "Console.WriteLine(part1Answer);"
      ]
    },
    {
      "cell_type": "code",
      "execution_count": 6,
      "metadata": {
        "dotnet_interactive": {
          "language": "csharp"
        },
        "polyglot_notebook": {
          "kernelName": "csharp"
        },
        "vscode": {
          "languageId": "polyglot-notebook"
        }
      },
      "outputs": [],
      "source": [
        "// 2239 is correct!\n",
        "Ensure(2239, part1Answer);"
      ]
    },
    {
      "cell_type": "markdown",
      "metadata": {
        "dotnet_interactive": {
          "language": "csharp"
        },
        "polyglot_notebook": {
          "kernelName": "csharp"
        },
        "vscode": {
          "languageId": "polyglot-notebook"
        }
      },
      "source": [
        "### --- Part Two ---\n",
        "\n",
        "Puzzle description redacted as-per Advent of Code guidelines\n",
        "\n",
        "You may find the puzzle description at: https://adventofcode.com/2023/day/2"
      ]
    },
    {
      "cell_type": "code",
      "execution_count": 8,
      "metadata": {
        "dotnet_interactive": {
          "language": "csharp"
        },
        "polyglot_notebook": {
          "kernelName": "csharp"
        },
        "vscode": {
          "languageId": "polyglot-notebook"
        }
      },
      "outputs": [],
      "source": [
        "using System.Text.RegularExpressions;"
      ]
    },
    {
      "cell_type": "code",
      "execution_count": 9,
      "metadata": {
        "dotnet_interactive": {
          "language": "csharp"
        },
        "polyglot_notebook": {
          "kernelName": "csharp"
        },
        "vscode": {
          "languageId": "polyglot-notebook"
        }
      },
      "outputs": [
        {
          "name": "stdout",
          "output_type": "stream",
          "text": [
            "Game 1: 10 green, 9 blue, 1 red; 1 red, 7 green; 11 green, 6 blue; 8 blue, 12 green\n",
            "108\n"
          ]
        }
      ],
      "source": [
        "var gameRegex = new Regex(@\u0022((\\d\u002B) (green|blue|red))\u0022);\n",
        "\n",
        "int ParseGame2(string line) {\n",
        "    var matchGroups = gameRegex.Matches(line);\n",
        "\n",
        "    var q = from mg in matchGroups\n",
        "            let number = int.Parse(mg.Groups[2].Value)\n",
        "            let colour = mg.Groups[3].Value\n",
        "            group number by colour into numberColour\n",
        "            select numberColour.Max();\n",
        "\n",
        "    return q.Aggregate((a, b) =\u003E a * b);\n",
        "}\n",
        "\n",
        "Console.WriteLine(firstLine);\n",
        "// 12 green\n",
        "// 9 blue\n",
        "// 1 red\n",
        "Console.WriteLine(ParseGame2(firstLine));"
      ]
    },
    {
      "cell_type": "code",
      "execution_count": 10,
      "metadata": {
        "dotnet_interactive": {
          "language": "csharp"
        },
        "polyglot_notebook": {
          "kernelName": "csharp"
        },
        "vscode": {
          "languageId": "polyglot-notebook"
        }
      },
      "outputs": [
        {
          "name": "stdout",
          "output_type": "stream",
          "text": [
            "83435\n"
          ]
        }
      ],
      "source": [
        "// For each game, find the minimum set of cubes that must have been present. What is the sum of the power of these sets?\n",
        "\n",
        "var numbers = inputLines.Select(ParseGame2);\n",
        "var part2Answer = numbers.Sum();\n",
        "\n",
        "Console.WriteLine(part2Answer);"
      ]
    },
    {
      "cell_type": "code",
      "execution_count": 11,
      "metadata": {
        "dotnet_interactive": {
          "language": "csharp"
        },
        "polyglot_notebook": {
          "kernelName": "csharp"
        },
        "vscode": {
          "languageId": "polyglot-notebook"
        }
      },
      "outputs": [],
      "source": [
        "// 83435 is correct!\n",
        "Ensure(83435, part2Answer);"
      ]
    }
  ],
  "metadata": {
    "kernelspec": {
      "display_name": ".NET (C#)",
      "language": "C#",
      "name": ".net-csharp"
    },
    "language_info": {
      "name": "python"
    },
    "polyglot_notebook": {
      "kernelInfo": {
        "defaultKernelName": "csharp",
        "items": [
          {
            "aliases": [],
            "name": "csharp"
          }
        ]
      }
    }
  },
  "nbformat": 4,
  "nbformat_minor": 2
}