{
  "cells": [
    {
      "cell_type": "code",
      "execution_count": 1,
      "metadata": {
        "dotnet_interactive": {
          "language": "csharp"
        },
        "polyglot_notebook": {
          "kernelName": "csharp"
        },
        "vscode": {
          "languageId": "polyglot-notebook"
        }
      },
      "outputs": [],
      "source": [
        "// # --- Day 11: Cosmic Expansion ---\n",
        "\n",
        "// Puzzle description redacted as-per Advent of Code guidelines\n",
        "\n",
        "// You may find the puzzle description at: https://adventofcode.com/2023/day/11"
      ]
    },
    {
      "cell_type": "code",
      "execution_count": 2,
      "metadata": {
        "dotnet_interactive": {
          "language": "csharp"
        },
        "polyglot_notebook": {
          "kernelName": "csharp"
        },
        "vscode": {
          "languageId": "polyglot-notebook"
        }
      },
      "outputs": [],
      "source": [
        "#!import ../Utils.ipynb"
      ]
    },
    {
      "cell_type": "code",
      "execution_count": 3,
      "metadata": {
        "dotnet_interactive": {
          "language": "csharp"
        },
        "polyglot_notebook": {
          "kernelName": "csharp"
        },
        "vscode": {
          "languageId": "polyglot-notebook"
        }
      },
      "outputs": [
        {
          "name": "stdout",
          "output_type": "stream",
          "text": [
            "Loading puzzle file: Day11.txt\n",
            "Total lines: 140\n",
            "Max line length: 140\n",
            "\n",
            ".....................#..........#......#............#........................................#..............................................\n",
            "#.........................#...................................#...................#.........................................................\n",
            "......................................................................#......#...................................#..........#...............\n",
            "........................................................................................................................................#...\n",
            "......#............................#.......................#................................................................................\n"
          ]
        }
      ],
      "source": [
        "var inputLines = LoadPuzzleInput(2023, 11);\n",
        "WriteLines(inputLines);"
      ]
    },
    {
      "cell_type": "code",
      "execution_count": 4,
      "metadata": {
        "dotnet_interactive": {
          "language": "csharp"
        },
        "polyglot_notebook": {
          "kernelName": "csharp"
        },
        "vscode": {
          "languageId": "polyglot-notebook"
        }
      },
      "outputs": [],
      "source": [
        "record Point(int x, int y);"
      ]
    },
    {
      "cell_type": "code",
      "execution_count": 5,
      "metadata": {
        "dotnet_interactive": {
          "language": "csharp"
        },
        "polyglot_notebook": {
          "kernelName": "csharp"
        },
        "vscode": {
          "languageId": "polyglot-notebook"
        }
      },
      "outputs": [
        {
          "name": "stdout",
          "output_type": "stream",
          "text": [
            "9\n"
          ]
        }
      ],
      "source": [
        "int Distance(Point a, Point b) {\n",
        "    var across = a.x - b.x;\n",
        "    across = across \u003E 0 ? across : b.x - a.x;\n",
        "\n",
        "    var vert = a.y - b.y;\n",
        "    vert = vert \u003E 0 ? vert : b.y - a.y;\n",
        "\n",
        "    return across \u002B vert;\n",
        "}\n",
        "var testDistance = Distance(new Point(1, 6), new Point(5, 11));\n",
        "Console.WriteLine(testDistance);"
      ]
    },
    {
      "cell_type": "code",
      "execution_count": 6,
      "metadata": {
        "dotnet_interactive": {
          "language": "csharp"
        },
        "polyglot_notebook": {
          "kernelName": "csharp"
        },
        "vscode": {
          "languageId": "polyglot-notebook"
        }
      },
      "outputs": [
        {
          "name": "stdout",
          "output_type": "stream",
          "text": [
            "(0, 1)\n",
            "(0, 2)\n",
            "(0, 3)\n",
            "(0, 4)\n",
            "(1, 2)\n",
            "(1, 3)\n",
            "(1, 4)\n",
            "(2, 3)\n",
            "(2, 4)\n",
            "(3, 4)\n"
          ]
        }
      ],
      "source": [
        "IEnumerable\u003C(int, int)\u003E AllPairs(int range) {\n",
        "    return Enumerable.Range(0, range).SelectMany(i =\u003E Enumerable.Range(i \u002B 1, range - i - 1).Select(j =\u003E (i, j)));\n",
        "}\n",
        "foreach (var pair in AllPairs(5)) {\n",
        "    Console.WriteLine(pair);\n",
        "}"
      ]
    },
    {
      "cell_type": "code",
      "execution_count": 7,
      "metadata": {
        "dotnet_interactive": {
          "language": "csharp"
        },
        "polyglot_notebook": {
          "kernelName": "csharp"
        },
        "vscode": {
          "languageId": "polyglot-notebook"
        }
      },
      "outputs": [],
      "source": [
        "List\u003CPoint\u003E FindGalaxies(string[] universe) {\n",
        "    var q = from y in Enumerable.Range(0, universe.Length)\n",
        "            from x in Enumerable.Range(0, universe[y].Length)\n",
        "            where universe[y][x] == \u0027#\u0027\n",
        "            select new Point(x, y);\n",
        "    return q.ToList();\n",
        "}"
      ]
    },
    {
      "cell_type": "code",
      "execution_count": 8,
      "metadata": {
        "dotnet_interactive": {
          "language": "csharp"
        },
        "polyglot_notebook": {
          "kernelName": "csharp"
        },
        "vscode": {
          "languageId": "polyglot-notebook"
        }
      },
      "outputs": [
        {
          "name": "stdout",
          "output_type": "stream",
          "text": [
            "Point { x = 4, y = 0 }\n",
            "Point { x = 9, y = 1 }\n",
            "Point { x = 0, y = 2 }\n",
            "Point { x = 8, y = 5 }\n",
            "Point { x = 1, y = 6 }\n",
            "Point { x = 12, y = 7 }\n",
            "Point { x = 9, y = 10 }\n",
            "Point { x = 0, y = 11 }\n",
            "Point { x = 5, y = 11 }\n"
          ]
        }
      ],
      "source": [
        "const string testInput = \u0022\u0022\u0022\n",
        "....#........\n",
        ".........#...\n",
        "#............\n",
        ".............\n",
        ".............\n",
        "........#....\n",
        ".#...........\n",
        "............#\n",
        ".............\n",
        ".............\n",
        ".........#...\n",
        "#....#.......\n",
        "\u0022\u0022\u0022; // already expanded\n",
        "var testInputLines = testInput.Split(\u0027\\n\u0027);\n",
        "\n",
        "foreach (var g in FindGalaxies(testInputLines)) {\n",
        "    Console.WriteLine(g);\n",
        "}"
      ]
    },
    {
      "cell_type": "code",
      "execution_count": 9,
      "metadata": {
        "dotnet_interactive": {
          "language": "csharp"
        },
        "polyglot_notebook": {
          "kernelName": "csharp"
        },
        "vscode": {
          "languageId": "polyglot-notebook"
        }
      },
      "outputs": [
        {
          "name": "stdout",
          "output_type": "stream",
          "text": [
            "374\n"
          ]
        }
      ],
      "source": [
        "int SumAllLengths(string[] inputLines) {\n",
        "    var galaxies = FindGalaxies(inputLines);\n",
        "    var galaxyPairs = AllPairs(galaxies.Count).Select((p) =\u003E (galaxies[p.Item1], galaxies[p.Item2]));\n",
        "\n",
        "    var distanceSum = galaxyPairs.Select(pair =\u003E Distance(pair.Item1, pair.Item2)).Sum();\n",
        "\n",
        "    return distanceSum;\n",
        "}\n",
        "\n",
        "// # In this example, after expanding the universe, the sum of the shortest path between all 36 pairs of galaxies is 374.\n",
        "Console.WriteLine(SumAllLengths(testInputLines));"
      ]
    },
    {
      "cell_type": "code",
      "execution_count": 10,
      "metadata": {
        "dotnet_interactive": {
          "language": "csharp"
        },
        "polyglot_notebook": {
          "kernelName": "csharp"
        },
        "vscode": {
          "languageId": "polyglot-notebook"
        }
      },
      "outputs": [
        {
          "name": "stdout",
          "output_type": "stream",
          "text": [
            "3\n",
            "4\n",
            "8\n",
            "9\n"
          ]
        }
      ],
      "source": [
        "int[] FindEmptyRows(string[] inputLines) =\u003E Enumerable.Range(0, inputLines.Length).Where(row =\u003E inputLines[row].All(ch =\u003E ch == \u0027.\u0027)).ToArray();\n",
        "foreach (var row in FindEmptyRows(testInputLines)) {\n",
        "    Console.WriteLine(row);\n",
        "}"
      ]
    },
    {
      "cell_type": "code",
      "execution_count": 11,
      "metadata": {
        "dotnet_interactive": {
          "language": "csharp"
        },
        "polyglot_notebook": {
          "kernelName": "csharp"
        },
        "vscode": {
          "languageId": "polyglot-notebook"
        }
      },
      "outputs": [
        {
          "name": "stdout",
          "output_type": "stream",
          "text": [
            "2\n",
            "3\n",
            "6\n",
            "7\n",
            "10\n",
            "11\n"
          ]
        }
      ],
      "source": [
        "int[] FindEmptyCols(string[] inputLines) {\n",
        "    var yRange = inputLines.Length;\n",
        "    var xRange = inputLines[0].Length;\n",
        "\n",
        "    return Enumerable.Range(0, xRange).Where(x =\u003E Enumerable.Range(0, yRange).All(y =\u003E inputLines[y][x] == \u0027.\u0027)).ToArray();\n",
        "}\n",
        "foreach (var col in FindEmptyCols(testInputLines)) {\n",
        "    Console.WriteLine(col);\n",
        "}"
      ]
    },
    {
      "cell_type": "code",
      "execution_count": 12,
      "metadata": {
        "dotnet_interactive": {
          "language": "csharp"
        },
        "polyglot_notebook": {
          "kernelName": "csharp"
        },
        "vscode": {
          "languageId": "polyglot-notebook"
        }
      },
      "outputs": [
        {
          "name": "stdout",
          "output_type": "stream",
          "text": [
            ".xx.\n"
          ]
        }
      ],
      "source": [
        "IEnumerable\u003CT\u003E Repeat\u003CT\u003E(IEnumerable\u003CT\u003E source, int[] numsToRepeat) {\n",
        "    var i = 0;\n",
        "    foreach (var s in source) {\n",
        "        yield return s;\n",
        "\n",
        "        if (numsToRepeat.Contains(i)) {\n",
        "            yield return s;\n",
        "        }\n",
        "\n",
        "        i\u002B\u002B;\n",
        "    }\n",
        "}\n",
        "Console.WriteLine(String.Concat(Repeat(\u0022.x.\u0022, [1])));"
      ]
    },
    {
      "cell_type": "code",
      "execution_count": 13,
      "metadata": {
        "dotnet_interactive": {
          "language": "csharp"
        },
        "polyglot_notebook": {
          "kernelName": "csharp"
        },
        "vscode": {
          "languageId": "polyglot-notebook"
        }
      },
      "outputs": [],
      "source": [
        "const string testInputUnExpanded = \u0022\u0022\u0022\n",
        "...#......\n",
        ".......#..\n",
        "#.........\n",
        "..........\n",
        "......#...\n",
        ".#........\n",
        ".........#\n",
        "..........\n",
        ".......#..\n",
        "#...#.....\n",
        "\u0022\u0022\u0022;\n",
        "var testInputUnExpandedLines = testInputUnExpanded.Split(\u0027\\n\u0027);"
      ]
    },
    {
      "cell_type": "code",
      "execution_count": 14,
      "metadata": {
        "dotnet_interactive": {
          "language": "csharp"
        },
        "polyglot_notebook": {
          "kernelName": "csharp"
        },
        "vscode": {
          "languageId": "polyglot-notebook"
        }
      },
      "outputs": [
        {
          "name": "stdout",
          "output_type": "stream",
          "text": [
            "374\n"
          ]
        }
      ],
      "source": [
        "int ExpandAndSumLengths(string[] inputLines) {\n",
        "    var emptyRows = FindEmptyRows(inputLines);\n",
        "    var emptyCols = FindEmptyCols(inputLines);\n",
        "\n",
        "    var expandedUniverse = Repeat(inputLines, emptyRows).Select(row =\u003E String.Concat(Repeat(row, emptyCols))).ToArray();\n",
        "\n",
        "    return SumAllLengths(expandedUniverse);\n",
        "}\n",
        "Console.WriteLine(ExpandAndSumLengths(testInputUnExpandedLines));"
      ]
    },
    {
      "cell_type": "code",
      "execution_count": 15,
      "metadata": {
        "dotnet_interactive": {
          "language": "csharp"
        },
        "polyglot_notebook": {
          "kernelName": "csharp"
        },
        "vscode": {
          "languageId": "polyglot-notebook"
        }
      },
      "outputs": [
        {
          "name": "stdout",
          "output_type": "stream",
          "text": [
            "9734203\n"
          ]
        }
      ],
      "source": [
        "// # Expand the universe, then find the length of the shortest path between every pair of galaxies. What is the sum of these lengths?\n",
        "var part1Answer = ExpandAndSumLengths(inputLines);\n",
        "Console.WriteLine(part1Answer);"
      ]
    },
    {
      "cell_type": "code",
      "execution_count": 16,
      "metadata": {
        "dotnet_interactive": {
          "language": "csharp"
        },
        "polyglot_notebook": {
          "kernelName": "csharp"
        },
        "vscode": {
          "languageId": "polyglot-notebook"
        }
      },
      "outputs": [],
      "source": [
        "// 9734203 is correct!\n",
        "Ensure(9734203, part1Answer);"
      ]
    },
    {
      "cell_type": "code",
      "execution_count": 17,
      "metadata": {
        "dotnet_interactive": {
          "language": "csharp"
        },
        "polyglot_notebook": {
          "kernelName": "csharp"
        },
        "vscode": {
          "languageId": "polyglot-notebook"
        }
      },
      "outputs": [],
      "source": [
        "// --- Part Two ---\n",
        "\n",
        "// Puzzle description redacted as-per Advent of Code guidelines\n",
        "\n",
        "// You may find the puzzle description at: https://adventofcode.com/2023/day/11"
      ]
    },
    {
      "cell_type": "code",
      "execution_count": 18,
      "metadata": {
        "dotnet_interactive": {
          "language": "csharp"
        },
        "polyglot_notebook": {
          "kernelName": "csharp"
        },
        "vscode": {
          "languageId": "polyglot-notebook"
        }
      },
      "outputs": [
        {
          "name": "stdout",
          "output_type": "stream",
          "text": [
            "6\n"
          ]
        }
      ],
      "source": [
        "long ExpandedDistance(int expansion, Point a, Point b, int[]expandedRows, int[] expandedCols) {\n",
        "    var xRange = a.x \u003C= b.x ? (a.x, b.x) : (b.x, a.x);\n",
        "    var yRange = a.y \u003C= b.y ? (a.y, b.y) : (b.y, a.y);\n",
        "\n",
        "    long across = xRange.Item2 - xRange.Item1;\n",
        "    across \u002B= (expandedCols.Where(c =\u003E xRange.Item1 \u003C= c \u0026\u0026 c \u003C= xRange.Item2).Count() * expansion);\n",
        "\n",
        "    long vert = yRange.Item2 - yRange.Item1;\n",
        "    vert \u002B= (expandedRows.Where(r =\u003E yRange.Item1 \u003C= r \u0026\u0026 r \u003C= yRange.Item2).Count() * expansion);\n",
        "\n",
        "    return across \u002B vert;\n",
        "}\n",
        "Console.WriteLine(ExpandedDistance(1, new Point(0, 0), new Point(2, 2), [1], [1]));"
      ]
    },
    {
      "cell_type": "code",
      "execution_count": 19,
      "metadata": {
        "dotnet_interactive": {
          "language": "csharp"
        },
        "polyglot_notebook": {
          "kernelName": "csharp"
        },
        "vscode": {
          "languageId": "polyglot-notebook"
        }
      },
      "outputs": [
        {
          "name": "stdout",
          "output_type": "stream",
          "text": [
            "1030\n"
          ]
        }
      ],
      "source": [
        "long ExpandAndSumLengths2(int expansion, string[] inputLines) {\n",
        "    var galaxies = FindGalaxies(inputLines);\n",
        "    var galaxyPairs = AllPairs(galaxies.Count).Select((p) =\u003E (galaxies[p.Item1], galaxies[p.Item2]));\n",
        "\n",
        "    var emptyRows = FindEmptyRows(inputLines);\n",
        "    var emptyCols = FindEmptyCols(inputLines);\n",
        "    var distanceSum = galaxyPairs.Select(pair =\u003E ExpandedDistance(expansion, pair.Item1, pair.Item2, emptyRows, emptyCols)).Sum();\n",
        "\n",
        "    return distanceSum;\n",
        "} \n",
        "// (In the example above, if each empty row or column were merely 10 times\n",
        "// larger, the sum of the shortest paths between every pair of galaxies would be\n",
        "// 1030. If each empty row or column were merely 100 times larger, the sum of the\n",
        "// shortest paths between every pair of galaxies would be 8410. However, your\n",
        "// universe will need to expand far beyond these values.)\n",
        "Console.WriteLine(ExpandAndSumLengths2(9, testInputUnExpandedLines));\n"
      ]
    },
    {
      "cell_type": "code",
      "execution_count": null,
      "metadata": {
        "dotnet_interactive": {
          "language": "csharp"
        },
        "polyglot_notebook": {
          "kernelName": "csharp"
        },
        "vscode": {
          "languageId": "polyglot-notebook"
        }
      },
      "outputs": [
        {
          "name": "stdout",
          "output_type": "stream",
          "text": [
            "568914596391\n"
          ]
        }
      ],
      "source": [
        "// Starting with the same initial image, expand the universe according to these\n",
        "// new rules, then find the length of the shortest path between every pair of\n",
        "// galaxies. What is the sum of these lengths?\n",
        "int expansion = 1000000 - 1; // \n",
        "var part2Answer = ExpandAndSumLengths2(expansion, inputLines);\n",
        "Console.WriteLine(part2Answer);"
      ]
    },
    {
      "cell_type": "code",
      "execution_count": 21,
      "metadata": {
        "dotnet_interactive": {
          "language": "csharp"
        },
        "polyglot_notebook": {
          "kernelName": "csharp"
        },
        "vscode": {
          "languageId": "polyglot-notebook"
        }
      },
      "outputs": [],
      "source": [
        "// 568914596391 is correct!\n",
        "Ensure(568914596391, part2Answer);"
      ]
    }
  ],
  "metadata": {
    "kernelspec": {
      "display_name": ".NET (C#)",
      "language": "C#",
      "name": ".net-csharp"
    },
    "language_info": {
      "name": "python"
    },
    "polyglot_notebook": {
      "kernelInfo": {
        "defaultKernelName": "csharp",
        "items": [
          {
            "aliases": [],
            "name": "csharp"
          }
        ]
      }
    }
  },
  "nbformat": 4,
  "nbformat_minor": 2
}