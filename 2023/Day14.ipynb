{
  "cells": [
    {
      "cell_type": "markdown",
      "metadata": {
        "dotnet_interactive": {
          "language": "csharp"
        },
        "polyglot_notebook": {
          "kernelName": "csharp"
        },
        "vscode": {
          "languageId": "polyglot-notebook"
        }
      },
      "source": [
        "### --- Day 14: Parabolic Reflector Dish ---\n",
        "\n",
        "Puzzle description redacted as-per Advent of Code guidelines\n",
        "\n",
        "You may find the puzzle description at: https://adventofcode.com/2023/day/14"
      ]
    },
    {
      "cell_type": "code",
      "execution_count": 2,
      "metadata": {
        "dotnet_interactive": {
          "language": "csharp"
        },
        "polyglot_notebook": {
          "kernelName": "csharp"
        },
        "vscode": {
          "languageId": "polyglot-notebook"
        }
      },
      "outputs": [],
      "source": [
        "#!import ../Utils.ipynb"
      ]
    },
    {
      "cell_type": "code",
      "execution_count": 3,
      "metadata": {
        "dotnet_interactive": {
          "language": "csharp"
        },
        "polyglot_notebook": {
          "kernelName": "csharp"
        },
        "vscode": {
          "languageId": "polyglot-notebook"
        }
      },
      "outputs": [
        {
          "name": "stdout",
          "output_type": "stream",
          "text": [
            "Loading puzzle file: Day14.txt\n",
            "Total lines: 100\n",
            "Max line length: 100\n",
            "\n",
            "#....O#O.......O.......#O.......#...#O#.O...O...O..O#..#.O......OOO.OOO...#O.O.........OO.#..O....O.\n",
            "##.#O..........OO.#.#..#...O..O.O##....O.....#....O.#....O....O.#..OOO..#..O.OO..##.#O#OO..##OO..#..\n",
            "#.O.#O.O.O.......#.....##.##......#.###..###........OO...#..OO.....O....O......OOO.OOO.......OO.O#.O\n",
            "O#.....#......#..##O#O.#..#O#.O.O.#...O....O.#......#....#.....O.#........O....O...O..O#...O...#O...\n",
            "O#..#.OO.O#..#O##.#.#..O...OO..#..O#...#.....O.#.OO#...O.OO.O.O.....#...#.O..##...O.#.O.....O.##..O#\n"
          ]
        }
      ],
      "source": [
        "var inputLines = LoadPuzzleInput(2023, 14);\n",
        "WriteLines(inputLines);"
      ]
    },
    {
      "cell_type": "code",
      "execution_count": 4,
      "metadata": {
        "dotnet_interactive": {
          "language": "csharp"
        },
        "polyglot_notebook": {
          "kernelName": "csharp"
        },
        "vscode": {
          "languageId": "polyglot-notebook"
        }
      },
      "outputs": [
        {
          "name": "stdout",
          "output_type": "stream",
          "text": [
            "13\n",
            "24\n"
          ]
        }
      ],
      "source": [
        "IList\u003Cstring\u003E ColStrings(string[] inputLines) {\n",
        "    var rows = inputLines.Length;\n",
        "    var cols = inputLines[0].Length;\n",
        "\n",
        "    List\u003Cstring\u003E result = new();\n",
        "    for (var col = 0; col \u003C cols; col\u002B\u002B) {\n",
        "        var sb = new StringBuilder();\n",
        "        for (var row = 0; row \u003C rows; row\u002B\u002B) {\n",
        "            sb.Append(inputLines[row][col]);\n",
        "        }\n",
        "        result.Add(sb.ToString());\n",
        "    }\n",
        "\n",
        "    return result;\n",
        "}\n",
        "string[] colStringsTest = [\n",
        "    \u002212\u0022,\n",
        "    \u002234\u0022\n",
        "];\n",
        "Console.WriteLine(string.Join(\u0027\\n\u0027, ColStrings(colStringsTest)));"
      ]
    },
    {
      "cell_type": "code",
      "execution_count": 5,
      "metadata": {
        "dotnet_interactive": {
          "language": "csharp"
        },
        "polyglot_notebook": {
          "kernelName": "csharp"
        },
        "vscode": {
          "languageId": "polyglot-notebook"
        }
      },
      "outputs": [],
      "source": [
        "record RockGroup(int pos, int rocks);"
      ]
    },
    {
      "cell_type": "code",
      "execution_count": 6,
      "metadata": {
        "dotnet_interactive": {
          "language": "csharp"
        },
        "polyglot_notebook": {
          "kernelName": "csharp"
        },
        "vscode": {
          "languageId": "polyglot-notebook"
        }
      },
      "outputs": [
        {
          "name": "stdout",
          "output_type": "stream",
          "text": [
            "RockGroup { pos = 0, rocks = 1 }\n",
            "RockGroup { pos = 4, rocks = 2 }\n"
          ]
        }
      ],
      "source": [
        "IEnumerable\u003CRockGroup\u003E PartitionRocks(string line) {\n",
        "    int currentPos = 0;\n",
        "    int currentRocks = 0;\n",
        "\n",
        "    var i = 0;\n",
        "    foreach (var ch in line) {\n",
        "        if (ch == \u0027#\u0027) {\n",
        "            yield return new(currentPos, currentRocks);\n",
        "            currentPos = i \u002B 1;\n",
        "            currentRocks = 0;\n",
        "        }\n",
        "        else if (ch == \u0027O\u0027) {\n",
        "            currentRocks\u002B\u002B;\n",
        "        }\n",
        "\n",
        "        i\u002B\u002B;\n",
        "    }\n",
        "\n",
        "    yield return new(currentPos, currentRocks);\n",
        "}\n",
        "var partitionRocksTest = \u0022..O#.OO\u0022;\n",
        "Console.WriteLine(string.Join(\u0027\\n\u0027, PartitionRocks(partitionRocksTest)));"
      ]
    },
    {
      "cell_type": "code",
      "execution_count": 7,
      "metadata": {
        "dotnet_interactive": {
          "language": "csharp"
        },
        "polyglot_notebook": {
          "kernelName": "csharp"
        },
        "vscode": {
          "languageId": "polyglot-notebook"
        }
      },
      "outputs": [
        {
          "name": "stdout",
          "output_type": "stream",
          "text": [
            "12\n"
          ]
        }
      ],
      "source": [
        "int RollAndSum(IEnumerable\u003CRockGroup\u003E rockGroups, int totalLength) =\u003E \n",
        "    rockGroups.SelectMany(rg =\u003E Enumerable.Range(0, rg.rocks).Select(i =\u003E totalLength - rg.pos - i)).Sum();\n",
        "// 7 \u002B 3 \u002B 2 = 12\n",
        "Console.WriteLine(RollAndSum(PartitionRocks(partitionRocksTest), partitionRocksTest.Length));"
      ]
    },
    {
      "cell_type": "code",
      "execution_count": 8,
      "metadata": {
        "dotnet_interactive": {
          "language": "csharp"
        },
        "polyglot_notebook": {
          "kernelName": "csharp"
        },
        "vscode": {
          "languageId": "polyglot-notebook"
        }
      },
      "outputs": [],
      "source": [
        "int RollAndSumAll(string[] inputLines) {\n",
        "    var inputColStrings = ColStrings(inputLines);\n",
        "    \n",
        "    var lineLength = inputColStrings[0].Length;\n",
        "\n",
        "    return inputColStrings.Select(line =\u003E RollAndSum(PartitionRocks(line), lineLength)).Sum();\n",
        "}"
      ]
    },
    {
      "cell_type": "code",
      "execution_count": 9,
      "metadata": {
        "dotnet_interactive": {
          "language": "csharp"
        },
        "polyglot_notebook": {
          "kernelName": "csharp"
        },
        "vscode": {
          "languageId": "polyglot-notebook"
        }
      },
      "outputs": [
        {
          "name": "stdout",
          "output_type": "stream",
          "text": [
            "136\n"
          ]
        }
      ],
      "source": [
        "var testInput = \u0022\u0022\u0022\n",
        "O....#....\n",
        "O.OO#....#\n",
        ".....##...\n",
        "OO.#O....O\n",
        ".O.....O#.\n",
        "O.#..O.#.#\n",
        "..O..#O..O\n",
        ".......O..\n",
        "#....###..\n",
        "#OO..#....\n",
        "\u0022\u0022\u0022;\n",
        "var testInputLines = testInput.Split(\u0027\\n\u0027);\n",
        "\n",
        "// The total load is the sum of the load caused by all of the rounded rocks. In this example, the total load is 136.\n",
        "Console.WriteLine(RollAndSumAll(testInputLines));\n"
      ]
    },
    {
      "cell_type": "code",
      "execution_count": 10,
      "metadata": {
        "dotnet_interactive": {
          "language": "csharp"
        },
        "polyglot_notebook": {
          "kernelName": "csharp"
        },
        "vscode": {
          "languageId": "polyglot-notebook"
        }
      },
      "outputs": [
        {
          "name": "stdout",
          "output_type": "stream",
          "text": [
            "109665\n"
          ]
        }
      ],
      "source": [
        "// Tilt the platform so that the rounded rocks all roll north. Afterward, what\n",
        "// is the total load on the north support beams?\n",
        "\n",
        "var part1Answer = RollAndSumAll(inputLines);\n",
        "Console.WriteLine(part1Answer);"
      ]
    },
    {
      "cell_type": "code",
      "execution_count": 11,
      "metadata": {
        "dotnet_interactive": {
          "language": "csharp"
        },
        "polyglot_notebook": {
          "kernelName": "csharp"
        },
        "vscode": {
          "languageId": "polyglot-notebook"
        }
      },
      "outputs": [],
      "source": [
        "// 109665 is correct!\n",
        "Ensure(109665, part1Answer);"
      ]
    },
    {
      "cell_type": "markdown",
      "metadata": {
        "dotnet_interactive": {
          "language": "csharp"
        },
        "polyglot_notebook": {
          "kernelName": "csharp"
        },
        "vscode": {
          "languageId": "polyglot-notebook"
        }
      },
      "source": [
        "### --- Part Two ---\n",
        "\n",
        "Puzzle description redacted as-per Advent of Code guidelines\n",
        "\n",
        "You may find the puzzle description at: https://adventofcode.com/2023/day/14"
      ]
    },
    {
      "cell_type": "code",
      "execution_count": 13,
      "metadata": {
        "dotnet_interactive": {
          "language": "csharp"
        },
        "polyglot_notebook": {
          "kernelName": "csharp"
        },
        "vscode": {
          "languageId": "polyglot-notebook"
        }
      },
      "outputs": [
        {
          "name": "stdout",
          "output_type": "stream",
          "text": [
            ".O.#O.O\n",
            "RockGroup { pos = 0, rocks = 1 }\n",
            "RockGroup { pos = 4, rocks = 2 }\n",
            "O..#OO.\n"
          ]
        }
      ],
      "source": [
        "string Render(IEnumerable\u003CRockGroup\u003E rockGroups, int totalLength) {\n",
        "    var result = Enumerable.Range(0, totalLength).Select(i =\u003E \u0027.\u0027).ToArray();\n",
        "\n",
        "    foreach (var rg in rockGroups) {\n",
        "        if (rg.pos \u003E 0) {\n",
        "            result[rg.pos - 1] = \u0027#\u0027;\n",
        "        }\n",
        "\n",
        "        for (var i = 0; i \u003C rg.rocks; i\u002B\u002B) {\n",
        "            result[rg.pos \u002B i] = \u0027O\u0027;\n",
        "        }\n",
        "    }\n",
        "\n",
        "    return new string(result);\n",
        "}\n",
        "\n",
        "var partitionRocksTest2 = \u0022.O.#O.O\u0022;\n",
        "Console.WriteLine(partitionRocksTest2);\n",
        "\n",
        "var rockGroupsTest2 = PartitionRocks(partitionRocksTest2);\n",
        "foreach (var rg in rockGroupsTest2) {\n",
        "    Console.WriteLine(rg);\n",
        "}\n",
        "\n",
        "Console.WriteLine(Render(rockGroupsTest2, partitionRocksTest2.Length));"
      ]
    },
    {
      "cell_type": "code",
      "execution_count": 14,
      "metadata": {
        "dotnet_interactive": {
          "language": "csharp"
        },
        "polyglot_notebook": {
          "kernelName": "csharp"
        },
        "vscode": {
          "languageId": "polyglot-notebook"
        }
      },
      "outputs": [
        {
          "name": "stdout",
          "output_type": "stream",
          "text": [
            "O....#....\n",
            "O.OO#....#\n",
            ".....##...\n",
            "OO.#O....O\n",
            ".O.....O#.\n",
            "O.#..O.#.#\n",
            "..O..#O..O\n",
            ".......O..\n",
            "#....###..\n",
            "#OO..#....\n",
            "\n",
            "O....#....\n",
            "OOO.#....#\n",
            ".....##...\n",
            "OO.#OO....\n",
            "OO......#.\n",
            "O.#O...#.#\n",
            "O....#OO..\n",
            "O.........\n",
            "#....###..\n",
            "#OO..#....\n"
          ]
        }
      ],
      "source": [
        "foreach (var ti in testInputLines) {\n",
        "    Console.WriteLine(ti);\n",
        "}\n",
        "\n",
        "Console.WriteLine();\n",
        "\n",
        "var testInputLinesRendered = testInputLines.Select(l =\u003E Render(PartitionRocks(l), l.Length));\n",
        "foreach (var l in testInputLinesRendered) {\n",
        "    Console.WriteLine(l);\n",
        "}"
      ]
    },
    {
      "cell_type": "code",
      "execution_count": 15,
      "metadata": {
        "dotnet_interactive": {
          "language": "csharp"
        },
        "polyglot_notebook": {
          "kernelName": "csharp"
        },
        "vscode": {
          "languageId": "polyglot-notebook"
        }
      },
      "outputs": [
        {
          "name": "stdout",
          "output_type": "stream",
          "text": [
            "O....#....\n",
            "O.OO#....#\n",
            ".....##...\n",
            "OO.#O....O\n",
            ".O.....O#.\n",
            "O.#..O.#.#\n",
            "..O..#O..O\n",
            ".......O..\n",
            "#....###..\n",
            "#OO..#....\n",
            "\n",
            "OOOO.#.O..\n",
            "OO..#....#\n",
            "OO..O##..O\n",
            "O..#.OO...\n",
            "........#.\n",
            "..#....#.#\n",
            "..O..#.O.O\n",
            "..O.......\n",
            "#....###..\n",
            "#....#....\n"
          ]
        }
      ],
      "source": [
        "IList\u003Cstring\u003E RenderNorth(string[] inputLines) {\n",
        "    var colStrings = ColStrings(inputLines);\n",
        "\n",
        "    var renderedColStrings = colStrings.Select(col =\u003E Render(PartitionRocks(col), col.Length)).ToArray();\n",
        "\n",
        "    return ColStrings(renderedColStrings);\n",
        "}\n",
        "\n",
        "foreach (var ti in testInputLines) {\n",
        "    Console.WriteLine(ti);\n",
        "}\n",
        "\n",
        "Console.WriteLine();\n",
        "\n",
        "foreach (var l in RenderNorth(testInputLines)) {\n",
        "    Console.WriteLine(l);\n",
        "}\n"
      ]
    },
    {
      "cell_type": "code",
      "execution_count": 16,
      "metadata": {
        "dotnet_interactive": {
          "language": "csharp"
        },
        "polyglot_notebook": {
          "kernelName": "csharp"
        },
        "vscode": {
          "languageId": "polyglot-notebook"
        }
      },
      "outputs": [
        {
          "name": "stdout",
          "output_type": "stream",
          "text": [
            "gda\n",
            "heb\n",
            "ifc\n",
            "\n",
            "ihg\n",
            "fed\n",
            "cba\n",
            "\n",
            "abc\n",
            "def\n",
            "ghi\n"
          ]
        }
      ],
      "source": [
        "string[] RotateRight(string[] inputLines) {\n",
        "    var resultCols = inputLines.Length;\n",
        "    var resultRows = inputLines[0].Length;\n",
        "\n",
        "    var result = new string[resultRows];\n",
        "\n",
        "    for (var row = 0; row \u003C resultRows; row\u002B\u002B) {\n",
        "        var rowArr = new char[resultCols];\n",
        "        for (var col = 0; col \u003C resultCols; col\u002B\u002B) {\n",
        "            rowArr[col] = inputLines[inputLines.Length - col - 1][row];\n",
        "        }\n",
        "        result[row] = new string(rowArr);\n",
        "    }\n",
        "\n",
        "    return result;\n",
        "}\n",
        "string[] testRotateInput = [\n",
        "    \u0022abc\u0022,\n",
        "    \u0022def\u0022,\n",
        "    \u0022ghi\u0022\n",
        "];\n",
        "\n",
        "Console.WriteLine(string.Join(\u0027\\n\u0027, RotateRight(testRotateInput)));\n",
        "Console.WriteLine();\n",
        "Console.WriteLine(string.Join(\u0027\\n\u0027, RotateRight(RotateRight(testRotateInput))));\n",
        "Console.WriteLine();\n",
        "Console.WriteLine(string.Join(\u0027\\n\u0027,  RotateRight(RotateRight(RotateRight(RotateRight(testRotateInput))))));\n"
      ]
    },
    {
      "cell_type": "code",
      "execution_count": 17,
      "metadata": {
        "dotnet_interactive": {
          "language": "csharp"
        },
        "polyglot_notebook": {
          "kernelName": "csharp"
        },
        "vscode": {
          "languageId": "polyglot-notebook"
        }
      },
      "outputs": [
        {
          "name": "stdout",
          "output_type": "stream",
          "text": [
            ".....#....\n",
            "....#...O#\n",
            "...OO##...\n",
            ".OO#......\n",
            ".....OOO#.\n",
            ".O#...O#.#\n",
            "....O#....\n",
            "......OOOO\n",
            "#...O###..\n",
            "#..OO#....\n"
          ]
        }
      ],
      "source": [
        "string[] Cycle(string[] inputLines) {\n",
        "    // North\n",
        "    var x = RenderNorth(inputLines).ToArray();\n",
        "    \n",
        "    // West\n",
        "    x = RotateRight(x);\n",
        "    x = RenderNorth(x).ToArray();\n",
        "\n",
        "    // South\n",
        "    x = RotateRight(x);\n",
        "    x = RenderNorth(x).ToArray();\n",
        "\n",
        "    // East\n",
        "    x = RotateRight(x);\n",
        "    x = RenderNorth(x).ToArray();\n",
        "\n",
        "    // Back to North\n",
        "    x = RotateRight(x);\n",
        "    return x;\n",
        "}\n",
        "\n",
        "// Here\u0027s what happens in the example above after each of the first few cycles:\n",
        "\n",
        "// After 1 cycle:\n",
        "// .....#....\n",
        "// ....#...O#\n",
        "// ...OO##...\n",
        "// .OO#......\n",
        "// .....OOO#.\n",
        "// .O#...O#.#\n",
        "// ....O#....\n",
        "// ......OOOO\n",
        "// #...O###..\n",
        "// #..OO#....\n",
        "\n",
        "Console.WriteLine(string.Join(\u0027\\n\u0027, Cycle(testInputLines)));"
      ]
    },
    {
      "cell_type": "code",
      "execution_count": 18,
      "metadata": {
        "dotnet_interactive": {
          "language": "csharp"
        },
        "polyglot_notebook": {
          "kernelName": "csharp"
        },
        "vscode": {
          "languageId": "polyglot-notebook"
        }
      },
      "outputs": [
        {
          "name": "stdout",
          "output_type": "stream",
          "text": [
            ".....#....\n",
            "....#...O#\n",
            ".....##...\n",
            "..O#......\n",
            ".....OOO#.\n",
            ".O#...O#.#\n",
            "....O#...O\n",
            ".......OOO\n",
            "#...O###.O\n",
            "#.OOO#...O\n"
          ]
        }
      ],
      "source": [
        "// After 3 cycles:\n",
        "// .....#....\n",
        "// ....#...O#\n",
        "// .....##...\n",
        "// ..O#......\n",
        "// .....OOO#.\n",
        "// .O#...O#.#\n",
        "// ....O#...O\n",
        "// .......OOO\n",
        "// #...O###.O\n",
        "// #.OOO#...O\n",
        "\n",
        "Console.WriteLine(string.Join(\u0027\\n\u0027, Cycle(Cycle(Cycle(testInputLines)))));"
      ]
    },
    {
      "cell_type": "code",
      "execution_count": 19,
      "metadata": {
        "dotnet_interactive": {
          "language": "csharp"
        },
        "polyglot_notebook": {
          "kernelName": "csharp"
        },
        "vscode": {
          "languageId": "polyglot-notebook"
        }
      },
      "outputs": [],
      "source": [
        "int SumWithoutRoll(string[] inputLines) {\n",
        "    int result = 0;\n",
        "    for (var row = 0; row \u003C inputLines.Length; row\u002B\u002B) {\n",
        "        var rocks = inputLines[row].Where(ch =\u003E ch == \u0027O\u0027).Count();\n",
        "\n",
        "        result \u002B= (rocks * (inputLines.Length - row));\n",
        "    }\n",
        "\n",
        "    return result;\n",
        "}"
      ]
    },
    {
      "cell_type": "code",
      "execution_count": 20,
      "metadata": {
        "dotnet_interactive": {
          "language": "csharp"
        },
        "polyglot_notebook": {
          "kernelName": "csharp"
        },
        "vscode": {
          "languageId": "polyglot-notebook"
        }
      },
      "outputs": [],
      "source": [
        "const int totalCycles = 1000000000;\n",
        "\n",
        "IEnumerable\u003Cint\u003E CycleAndWeigh(string[] inputLines) {\n",
        "    string[] result = inputLines;\n",
        "    foreach (var i in Enumerable.Range(0, totalCycles)) {\n",
        "        result = Cycle(result);\n",
        "        yield return SumWithoutRoll(result);\n",
        "    }\n",
        "}"
      ]
    },
    {
      "cell_type": "code",
      "execution_count": 21,
      "metadata": {
        "dotnet_interactive": {
          "language": "csharp"
        },
        "polyglot_notebook": {
          "kernelName": "csharp"
        },
        "vscode": {
          "languageId": "polyglot-notebook"
        }
      },
      "outputs": [
        {
          "name": "stdout",
          "output_type": "stream",
          "text": [
            "101199\n",
            "101037\n",
            "101014\n",
            "101066\n",
            "101046\n",
            "101088\n",
            "101152\n",
            "101195\n",
            "101216\n",
            "101242\n",
            "101274\n",
            "101275\n",
            "101292\n",
            "101258\n",
            "101257\n",
            "101218\n",
            "101180\n",
            "101142\n",
            "101137\n",
            "101102\n",
            "101094\n",
            "101084\n",
            "101050\n",
            "101026\n",
            "101010\n"
          ]
        }
      ],
      "source": [
        "// Assume some kind of loop\n",
        "\n",
        "// NB: this needs to be 100, or 1000 to find the loop. Shortening for presentation\n",
        "foreach (var x in CycleAndWeigh(inputLines).Take(25)) {\n",
        "    // Console.Write(x);\n",
        "    // Console.Write(\u0022,\u0022);\n",
        "    Console.WriteLine(x);\n",
        "}"
      ]
    },
    {
      "cell_type": "code",
      "execution_count": 22,
      "metadata": {
        "dotnet_interactive": {
          "language": "csharp"
        },
        "polyglot_notebook": {
          "kernelName": "csharp"
        },
        "vscode": {
          "languageId": "polyglot-notebook"
        }
      },
      "outputs": [
        {
          "name": "stdout",
          "output_type": "stream",
          "text": [
            "64\n"
          ]
        }
      ],
      "source": [
        "int RepetitionVal(string[] inputLines, int sequence, int period) {\n",
        "    var ith = (totalCycles - sequence) % period;\n",
        "\n",
        "    var repetitionArr = CycleAndWeigh(inputLines).Skip(sequence).Take(ith).Last();\n",
        "\n",
        "    return repetitionArr;\n",
        "}\n",
        "\n",
        "// Visually inspecting the results for testInputLines, there are 2 unique values then the values repeat every 7 \n",
        "Console.WriteLine(RepetitionVal(testInputLines, 2, 7));"
      ]
    },
    {
      "cell_type": "code",
      "execution_count": 23,
      "metadata": {
        "dotnet_interactive": {
          "language": "csharp"
        },
        "polyglot_notebook": {
          "kernelName": "csharp"
        },
        "vscode": {
          "languageId": "polyglot-notebook"
        }
      },
      "outputs": [
        {
          "name": "stdout",
          "output_type": "stream",
          "text": [
            "96061\n"
          ]
        }
      ],
      "source": [
        "// Run the spin cycle for 1000000000 cycles. Afterward, what is the total load on the north support beams?\n",
        "\n",
        "// Visually inspecting the results for inputLines, there are 112 unique values then the value repeat every 7\n",
        "var part2Answer = RepetitionVal(inputLines, 112, 7);\n",
        "Console.WriteLine(part2Answer);"
      ]
    },
    {
      "cell_type": "code",
      "execution_count": 24,
      "metadata": {
        "dotnet_interactive": {
          "language": "csharp"
        },
        "polyglot_notebook": {
          "kernelName": "csharp"
        },
        "vscode": {
          "languageId": "polyglot-notebook"
        }
      },
      "outputs": [],
      "source": [
        "// 96061 is correct!\n",
        "Ensure(96061, part2Answer);"
      ]
    }
  ],
  "metadata": {
    "kernelspec": {
      "display_name": ".NET (C#)",
      "language": "C#",
      "name": ".net-csharp"
    },
    "language_info": {
      "name": "python"
    },
    "polyglot_notebook": {
      "kernelInfo": {
        "defaultKernelName": "csharp",
        "items": [
          {
            "aliases": [],
            "name": "csharp"
          }
        ]
      }
    }
  },
  "nbformat": 4,
  "nbformat_minor": 2
}