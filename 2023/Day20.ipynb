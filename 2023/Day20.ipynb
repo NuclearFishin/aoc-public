{
  "cells": [
    {
      "cell_type": "markdown",
      "metadata": {
        "dotnet_interactive": {
          "language": "csharp"
        },
        "polyglot_notebook": {
          "kernelName": "csharp"
        }
      },
      "source": [
        "### --- Day 20: Pulse Propagation ---\n",
        "\n",
        "Puzzle description redacted as-per Advent of Code guidelines\n",
        "\n",
        "You may find the puzzle description at: https://adventofcode.com/2023/day/20"
      ]
    },
    {
      "cell_type": "code",
      "execution_count": 2,
      "metadata": {
        "dotnet_interactive": {
          "language": "csharp"
        },
        "polyglot_notebook": {
          "kernelName": "csharp"
        }
      },
      "outputs": [],
      "source": [
        "#!import ../Utils.ipynb"
      ]
    },
    {
      "cell_type": "code",
      "execution_count": 3,
      "metadata": {
        "dotnet_interactive": {
          "language": "csharp"
        },
        "polyglot_notebook": {
          "kernelName": "csharp"
        }
      },
      "outputs": [
        {
          "name": "stdout",
          "output_type": "stream",
          "text": [
            "Loading puzzle file: Day20.txt\n",
            "Total lines: 58\n",
            "Max line length: 33\n",
            "\n",
            "%db -\u003E cq\n",
            "%rj -\u003E gp, nd\n",
            "%ff -\u003E bk\n",
            "%rc -\u003E gp\n",
            "%bk -\u003E tv\n"
          ]
        }
      ],
      "source": [
        "var inputLines = LoadPuzzleInput(2023, 20);\n",
        "WriteLines(inputLines);"
      ]
    },
    {
      "cell_type": "code",
      "execution_count": 4,
      "metadata": {
        "dotnet_interactive": {
          "language": "csharp"
        },
        "polyglot_notebook": {
          "kernelName": "csharp"
        }
      },
      "outputs": [],
      "source": [
        "const bool LowPulse = false;\n",
        "const bool HighPulse = true;\n",
        "\n",
        "record Pulse(string source, bool pulse, string dest);\n",
        "\n",
        "abstract class PulseModule(string key, string[] sources, string[] destinations) {\n",
        "    protected string key = key;\n",
        "    protected string[] sources = sources;\n",
        "    public string[] destinations = destinations; // public for part 2\n",
        "\n",
        "    public abstract IEnumerable\u003CPulse\u003E Process(Pulse input);\n",
        "\n",
        "    public override string ToString() =\u003E (GetType().Name, key, string.Join(\u0027,\u0027, sources), string.Join(\u0027,\u0027, destinations)).ToString();\n",
        "\n",
        "    public string Key =\u003E key;\n",
        "}"
      ]
    },
    {
      "cell_type": "code",
      "execution_count": 5,
      "metadata": {
        "dotnet_interactive": {
          "language": "csharp"
        },
        "polyglot_notebook": {
          "kernelName": "csharp"
        }
      },
      "outputs": [],
      "source": [
        "// Flip-flop modules (prefix %) are either on or off; they are initially off. If\n",
        "// a flip-flop module receives a high pulse, it is ignored and nothing happens.\n",
        "// However, if a flip-flop module receives a low pulse, it flips between on and\n",
        "// off. If it was off, it turns on and sends a high pulse. If it was on, it turns\n",
        "// off and sends a low pulse.\n",
        "\n",
        "class FlipFlop(string key, string[] sources, string[] destinations) : PulseModule(key, sources, destinations)\n",
        "{\n",
        "    private bool OnOff = false; // off\n",
        "    private Pulse[] Nothing = [];\n",
        "\n",
        "    public override IEnumerable\u003CPulse\u003E Process(Pulse input) {\n",
        "        if (input.pulse == HighPulse) {\n",
        "            return Nothing;\n",
        "        }\n",
        "\n",
        "        OnOff = !OnOff;\n",
        "\n",
        "        return destinations.Select(d =\u003E new Pulse(key, OnOff, d)).ToList();\n",
        "    }\n",
        "}"
      ]
    },
    {
      "cell_type": "code",
      "execution_count": 6,
      "metadata": {
        "dotnet_interactive": {
          "language": "csharp"
        },
        "polyglot_notebook": {
          "kernelName": "csharp"
        }
      },
      "outputs": [],
      "source": [
        "// Conjunction modules (prefix \u0026) remember the type of the most recent pulse\n",
        "// received from each of their connected input modules; they initially default to\n",
        "// remembering a low pulse for each input. When a pulse is received, the\n",
        "// conjunction module first updates its memory for that input. Then, if it\n",
        "// remembers high pulses for all inputs, it sends a low pulse; otherwise, it sends\n",
        "// a high pulse.\n",
        "\n",
        "class Conjunction(string key, string[] sources, string[] destinations) : PulseModule(key, sources, destinations)\n",
        "{\n",
        "    private Dictionary\u003Cstring, bool\u003E pulseMemory = sources.ToDictionary(s =\u003E s, s =\u003E LowPulse);\n",
        "\n",
        "    public override IEnumerable\u003CPulse\u003E Process(Pulse input) {\n",
        "        pulseMemory[input.source] = input.pulse;\n",
        "\n",
        "        var allHigh = pulseMemory.Values.All(mem =\u003E mem == HighPulse);\n",
        "\n",
        "        return destinations.Select(d =\u003E new Pulse(key, !allHigh, d));\n",
        "    }\n",
        "}"
      ]
    },
    {
      "cell_type": "code",
      "execution_count": 7,
      "metadata": {
        "dotnet_interactive": {
          "language": "csharp"
        },
        "polyglot_notebook": {
          "kernelName": "csharp"
        }
      },
      "outputs": [],
      "source": [
        "// There is a single broadcast module (named broadcaster). When it receives a\n",
        "// pulse, it sends the same pulse to all of its destination modules.\n",
        "\n",
        "class Broadcaster(string key, string[] sources, string[] destinations) : PulseModule(key, sources, destinations) \n",
        "{\n",
        "    public override IEnumerable\u003CPulse\u003E Process(Pulse input) =\u003E destinations.Select(d =\u003E new Pulse(key, input.pulse, d)).ToList();    \n",
        "}"
      ]
    },
    {
      "cell_type": "code",
      "execution_count": 8,
      "metadata": {
        "dotnet_interactive": {
          "language": "csharp"
        },
        "polyglot_notebook": {
          "kernelName": "csharp"
        }
      },
      "outputs": [],
      "source": [
        "using ParsedModule = (string type, string key, string[] destinations);\n",
        "\n",
        "IList\u003CPulseModule\u003E BuildModules(IEnumerable\u003CParsedModule\u003E parsedModules) {\n",
        "    var destLookup = parsedModules.ToDictionary(p =\u003E p.key, p =\u003E p.destinations);\n",
        "    var sourcesLookup = destLookup.SelectMany(kv =\u003E kv.Value.Select(dest =\u003E (source: kv.Key, dest)))\n",
        "                                .GroupBy(sd =\u003E sd.dest)\n",
        "                                .ToDictionary(g =\u003E g.Key, g =\u003E g.Select(sd =\u003E sd.source).ToArray());\n",
        "    \n",
        "\n",
        "    PulseModule buildFunc(ParsedModule pm) {\n",
        "        var sources = sourcesLookup.GetValueOrDefault(pm.key, []); // Can have no source\n",
        "        var dests = destLookup[pm.key];\n",
        "\n",
        "        return pm.type switch {\n",
        "            \u0022broadcaster\u0022 =\u003E new Broadcaster(pm.key, sources, dests),\n",
        "            \u0022%\u0022 =\u003E new FlipFlop(pm.key, sources, dests),\n",
        "            \u0022\u0026\u0022 =\u003E new Conjunction(pm.key, sources, dests),\n",
        "            _ =\u003E throw new Exception(\u0022Unexpected module type\u0022)\n",
        "        };\n",
        "    }\n",
        "\n",
        "    return parsedModules.Select(buildFunc).ToList();\n",
        "}"
      ]
    },
    {
      "cell_type": "code",
      "execution_count": 9,
      "metadata": {
        "dotnet_interactive": {
          "language": "csharp"
        },
        "polyglot_notebook": {
          "kernelName": "csharp"
        }
      },
      "outputs": [],
      "source": [
        "ParsedModule Parse(string line) {\n",
        "    var lineBits = line.Split(\u0022 -\u003E \u0022);\n",
        "\n",
        "    var dests = lineBits[1].Split(\u0022, \u0022);\n",
        "\n",
        "    var key = lineBits[0].Substring(1, lineBits[0].Length - 1);\n",
        "\n",
        "    return lineBits[0][0] switch {\n",
        "        \u0027b\u0027 =\u003E (\u0022broadcaster\u0022, \u0022broadcaster\u0022, dests),\n",
        "        \u0027%\u0027 =\u003E (\u0022%\u0022, key, dests),\n",
        "        \u0027\u0026\u0027 =\u003E (\u0022\u0026\u0022, key, dests),\n",
        "        _ =\u003E throw new Exception(\u0022Unrecognised module type\u0022)\n",
        "    };\n",
        "}"
      ]
    },
    {
      "cell_type": "code",
      "execution_count": 10,
      "metadata": {
        "dotnet_interactive": {
          "language": "csharp"
        },
        "polyglot_notebook": {
          "kernelName": "csharp"
        }
      },
      "outputs": [
        {
          "name": "stdout",
          "output_type": "stream",
          "text": [
            "(Broadcaster, broadcaster, , a,b,c)\n",
            "(FlipFlop, a, broadcaster,inv, b)\n",
            "(FlipFlop, b, broadcaster,a, c)\n",
            "(FlipFlop, c, broadcaster,b, inv)\n",
            "(Conjunction, inv, c, a)\n"
          ]
        }
      ],
      "source": [
        "string[] testInputLines = [\n",
        "    \u0022broadcaster -\u003E a, b, c\u0022,\n",
        "    \u0022%a -\u003E b\u0022,\n",
        "    \u0022%b -\u003E c\u0022,\n",
        "    \u0022%c -\u003E inv\u0022,\n",
        "    \u0022\u0026inv -\u003E a\u0022,\n",
        "];\n",
        "\n",
        "var testInputParsedModules = testInputLines.Select(Parse);\n",
        "var testInputModules = BuildModules(testInputParsedModules);\n",
        "foreach (var x in testInputModules) {\n",
        "    Console.WriteLine(x);\n",
        "}"
      ]
    },
    {
      "cell_type": "code",
      "execution_count": 11,
      "metadata": {
        "dotnet_interactive": {
          "language": "csharp"
        },
        "polyglot_notebook": {
          "kernelName": "csharp"
        }
      },
      "outputs": [
        {
          "name": "stdout",
          "output_type": "stream",
          "text": [
            "Pulse { source = button, pulse = False, dest = broadcaster }\n",
            "Pulse { source = broadcaster, pulse = False, dest = a }\n",
            "Pulse { source = broadcaster, pulse = False, dest = b }\n",
            "Pulse { source = broadcaster, pulse = False, dest = c }\n",
            "Pulse { source = a, pulse = True, dest = b }\n",
            "Pulse { source = b, pulse = True, dest = c }\n",
            "Pulse { source = c, pulse = True, dest = inv }\n",
            "Pulse { source = inv, pulse = False, dest = a }\n",
            "Pulse { source = a, pulse = False, dest = b }\n",
            "Pulse { source = b, pulse = False, dest = c }\n",
            "Pulse { source = c, pulse = False, dest = inv }\n",
            "Pulse { source = inv, pulse = True, dest = a }\n"
          ]
        }
      ],
      "source": [
        "IEnumerable\u003CPulse\u003E PressButton(IList\u003CPulseModule\u003E modules) \n",
        "{\n",
        "    Queue\u003CPulse\u003E pulses = new();\n",
        "    var moduleDict = modules.ToDictionary(m =\u003E m.Key);\n",
        "\n",
        "    pulses.Enqueue(new(\u0022button\u0022, LowPulse, \u0022broadcaster\u0022));\n",
        "\n",
        "    var safety = 0;\n",
        "    while (pulses.Count \u003E 0) {\n",
        "        var nextPulse = pulses.Dequeue();\n",
        "        yield return nextPulse;\n",
        "\n",
        "        // Need to account for this weirdness:\n",
        "        //\n",
        "        // \u0026vf -\u003E rx\n",
        "\n",
        "        if (moduleDict.TryGetValue(nextPulse.dest, out var nextModule)) {\n",
        "            var nextOutputs = nextModule.Process(nextPulse);\n",
        "            foreach (var n in nextOutputs) {\n",
        "                pulses.Enqueue(n); // no range?\n",
        "            }\n",
        "        }\n",
        "\n",
        "        if (safety\u002B\u002B \u003E 1000) {\n",
        "            throw new Exception(\u0022Safety limit exceeded\u0022);\n",
        "        }\n",
        "    }\n",
        "}\n",
        "\n",
        "// button -low-\u003E broadcaster\n",
        "// broadcaster -low-\u003E a\n",
        "// broadcaster -low-\u003E b\n",
        "// broadcaster -low-\u003E c\n",
        "// a -high-\u003E b\n",
        "// b -high-\u003E c\n",
        "// c -high-\u003E inv\n",
        "// inv -low-\u003E a\n",
        "// a -low-\u003E b\n",
        "// b -low-\u003E c\n",
        "// c -low-\u003E inv\n",
        "// inv -high-\u003E a\n",
        "\n",
        "foreach (var p in PressButton(testInputModules)) {\n",
        "    Console.WriteLine(p);\n",
        "}"
      ]
    },
    {
      "cell_type": "code",
      "execution_count": 12,
      "metadata": {
        "dotnet_interactive": {
          "language": "csharp"
        },
        "polyglot_notebook": {
          "kernelName": "csharp"
        }
      },
      "outputs": [
        {
          "name": "stdout",
          "output_type": "stream",
          "text": [
            "32000000\n"
          ]
        }
      ],
      "source": [
        "long CountPulses (IList\u003CPulseModule\u003E pulseModules) {\n",
        "    var allPulses = Enumerable.Range(0, 1000).SelectMany(i =\u003E PressButton(pulseModules));\n",
        "    var pulseCounts = allPulses.GroupBy(p =\u003E p.pulse).ToDictionary(g =\u003E g.Key, g =\u003E g.LongCount());\n",
        "\n",
        "    return pulseCounts[LowPulse] * pulseCounts[HighPulse];\n",
        "}\n",
        "\n",
        "// In the first example, the same thing happens every time the button is pushed:\n",
        "// 8 low pulses and 4 high pulses are sent. So, after pushing the button 1000\n",
        "// times, 8000 low pulses and 4000 high pulses are sent. Multiplying these together\n",
        "// gives 32000000.\n",
        "\n",
        "var testAnswer = CountPulses(testInputModules);\n",
        "Console.WriteLine(testAnswer);"
      ]
    },
    {
      "cell_type": "code",
      "execution_count": 13,
      "metadata": {
        "dotnet_interactive": {
          "language": "csharp"
        },
        "polyglot_notebook": {
          "kernelName": "csharp"
        }
      },
      "outputs": [],
      "source": [
        "var inputParsedModules = inputLines.Select(Parse);\n",
        "var inputModules = BuildModules(inputParsedModules);"
      ]
    },
    {
      "cell_type": "code",
      "execution_count": 14,
      "metadata": {
        "dotnet_interactive": {
          "language": "csharp"
        },
        "polyglot_notebook": {
          "kernelName": "csharp"
        }
      },
      "outputs": [
        {
          "name": "stdout",
          "output_type": "stream",
          "text": [
            "680278040\n"
          ]
        }
      ],
      "source": [
        "// Consult your module configuration; determine the number of low pulses and\n",
        "// high pulses that would be sent after pushing the button 1000 times, waiting for\n",
        "// all pulses to be fully handled after each push of the button. What do you get if\n",
        "// you multiply the total number of low pulses sent by the total number of high\n",
        "// pulses sent?\n",
        "\n",
        "var part1Answer = CountPulses(inputModules);\n",
        "Console.WriteLine(part1Answer);"
      ]
    },
    {
      "cell_type": "code",
      "execution_count": 15,
      "metadata": {
        "dotnet_interactive": {
          "language": "csharp"
        },
        "polyglot_notebook": {
          "kernelName": "csharp"
        }
      },
      "outputs": [],
      "source": [
        "// 680278040 is correct!\n",
        "Ensure(680278040, part1Answer);"
      ]
    },
    {
      "cell_type": "markdown",
      "metadata": {
        "dotnet_interactive": {
          "language": "csharp"
        },
        "polyglot_notebook": {
          "kernelName": "csharp"
        }
      },
      "source": [
        "### --- Part Two ---\n",
        "\n",
        "Puzzle description redacted as-per Advent of Code guidelines\n",
        "\n",
        "You may find the puzzle description at: https://adventofcode.com/2023/day/20"
      ]
    },
    {
      "cell_type": "code",
      "execution_count": 17,
      "metadata": {
        "dotnet_interactive": {
          "language": "csharp"
        },
        "polyglot_notebook": {
          "kernelName": "csharp"
        }
      },
      "outputs": [],
      "source": [
        "// Let\u0027s try this one, it\u0027s sure to not work, but let\u0027s just get closure :)"
      ]
    },
    {
      "cell_type": "code",
      "execution_count": 18,
      "metadata": {
        "dotnet_interactive": {
          "language": "csharp"
        },
        "polyglot_notebook": {
          "kernelName": "csharp"
        }
      },
      "outputs": [],
      "source": [
        "void PressUntilRx(IList\u003CPulseModule\u003E modules) {\n",
        "    var xx = Enumerable.Range(0, 10000).SelectMany(i =\u003E PressButton(modules));\n",
        "\n",
        "    foreach (var pulse in xx) {\n",
        "        if (pulse.dest == \u0022rx\u0022 \u0026\u0026 pulse.pulse == LowPulse) {\n",
        "            Console.WriteLine(pulse);\n",
        "            throw new Exception(\u0022We hit rx\u0022);\n",
        "        }\n",
        "    }\n",
        "}\n",
        "PressUntilRx(inputModules);\n",
        "\n",
        "// No hits after 3 mins. Ok we can confirm it\u0027s not happening :)"
      ]
    },
    {
      "cell_type": "code",
      "execution_count": 19,
      "metadata": {
        "dotnet_interactive": {
          "language": "csharp"
        },
        "polyglot_notebook": {
          "kernelName": "csharp"
        }
      },
      "outputs": [],
      "source": [
        "// Ok, I had to take a hint on this one. The suggestion is to render the graph- let\u0027s try with Mermaid\n",
        "\n",
        "using Microsoft.DotNet.Interactive;\n",
        "using Microsoft.DotNet.Interactive.Commands;"
      ]
    },
    {
      "cell_type": "code",
      "execution_count": 20,
      "metadata": {
        "dotnet_interactive": {
          "language": "csharp"
        },
        "polyglot_notebook": {
          "kernelName": "csharp"
        }
      },
      "outputs": [
        {
          "data": {
            "text/plain": [
              "hi"
            ]
          },
          "metadata": {},
          "output_type": "display_data"
        }
      ],
      "source": [
        "var command = new SubmitCode(\u0022console.log(\\\u0022hi\\\u0022);\u0022, \u0022javascript\u0022);\n",
        "\n",
        "await Kernel.Root.SendAsync(command);"
      ]
    },
    {
      "cell_type": "code",
      "execution_count": 21,
      "metadata": {
        "dotnet_interactive": {
          "language": "mermaid"
        },
        "polyglot_notebook": {
          "kernelName": "mermaid"
        }
      },
      "outputs": [
        {
          "data": {
            "text/html": [
              "\u003Cdiv class=\u0022mermaidMarkdownContainer\u0022 style=\u0022background-color:white\u0022\u003E\n",
              "\u003Clink rel=\u0022stylesheet\u0022 href=\u0022https://cdnjs.cloudflare.com/ajax/libs/font-awesome/6.2.0/css/all.min.css\u0022\u003E\n",
              "\u003Cdiv id=\u0022f710479b092244aa93f599c70b877623\u0022\u003E\u003C/div\u003E\n",
              "\u003Cscript type=\u0022module\u0022\u003E\n",
              "\r\n",
              "            import mermaid from \u0027https://cdn.jsdelivr.net/npm/mermaid@10.6.1/dist/mermaid.esm.min.mjs\u0027;\r\n",
              "            let renderTarget = document.getElementById(\u0027f710479b092244aa93f599c70b877623\u0027);\r\n",
              "            try {\r\n",
              "                const {svg, bindFunctions} = await mermaid.mermaidAPI.render( \r\n",
              "                    \u0027mermaid_f710479b092244aa93f599c70b877623\u0027, \r\n",
              "                    \u0060flowchart LR\n",
              "    A --\u003E B\n",
              "    A --\u003E C\n",
              "    A --\u003E D\n",
              "    B --\u003E C\n",
              "    B --\u003E D\u0060);\r\n",
              "                renderTarget.innerHTML = svg;\r\n",
              "                bindFunctions?.(renderTarget);\r\n",
              "            }\r\n",
              "            catch (error) {\r\n",
              "                console.log(error);\r\n",
              "            }\n",
              "\u003C/script\u003E\n",
              "\u003C/div\u003E\n"
            ]
          },
          "metadata": {},
          "output_type": "display_data"
        }
      ],
      "source": [
        "flowchart LR\n",
        "    A --\u003E B\n",
        "    A --\u003E C\n",
        "    A --\u003E D\n",
        "    B --\u003E C\n",
        "    B --\u003E D"
      ]
    },
    {
      "cell_type": "code",
      "execution_count": 22,
      "metadata": {
        "dotnet_interactive": {
          "language": "csharp"
        },
        "polyglot_notebook": {
          "kernelName": "csharp"
        }
      },
      "outputs": [
        {
          "data": {
            "text/html": [
              "\u003Cdiv class=\u0022mermaidMarkdownContainer\u0022 style=\u0022background-color:white\u0022\u003E\n",
              "\u003Clink rel=\u0022stylesheet\u0022 href=\u0022https://cdnjs.cloudflare.com/ajax/libs/font-awesome/6.2.0/css/all.min.css\u0022\u003E\n",
              "\u003Cdiv id=\u0022ac540628d655496dbd7c4b663ed6b5df\u0022\u003E\u003C/div\u003E\n",
              "\u003Cscript type=\u0022module\u0022\u003E\n",
              "\r\n",
              "            import mermaid from \u0027https://cdn.jsdelivr.net/npm/mermaid@10.6.1/dist/mermaid.esm.min.mjs\u0027;\r\n",
              "            let renderTarget = document.getElementById(\u0027ac540628d655496dbd7c4b663ed6b5df\u0027);\r\n",
              "            try {\r\n",
              "                const {svg, bindFunctions} = await mermaid.mermaidAPI.render( \r\n",
              "                    \u0027mermaid_ac540628d655496dbd7c4b663ed6b5df\u0027, \r\n",
              "                    \u0060flowchart LR\n",
              "    dn --\u003E cz\n",
              "    sz --\u003E cz\n",
              "    sz --\u003E fz\n",
              "    rq --\u003E gp\n",
              "    rq --\u003E ff\n",
              "    vr --\u003E cz\n",
              "    vr --\u003E qd\n",
              "    hf --\u003E vf\n",
              "    fs --\u003E bz\n",
              "    fs --\u003E bn\n",
              "    gp --\u003E rs\n",
              "    gp --\u003E nv\n",
              "    gp --\u003E pm\n",
              "    gp --\u003E cg\n",
              "    gp --\u003E ff\n",
              "    gp --\u003E bk\n",
              "    gp --\u003E ps\n",
              "    fz --\u003E dn\n",
              "    fz --\u003E cz\n",
              "    bz --\u003E cf\n",
              "    sh --\u003E rr\n",
              "    sh --\u003E cz\n",
              "    xl --\u003E hp\n",
              "    rt --\u003E pk\n",
              "    rt --\u003E xl\n",
              "    rt --\u003E nm\n",
              "    rt --\u003E vg\n",
              "    rt --\u003E db\n",
              "    vf --\u003E rx\n",
              "    cf --\u003E bv\n",
              "    broadcaster --\u003E sh\n",
              "    broadcaster --\u003E nm\n",
              "    broadcaster --\u003E ps\n",
              "    broadcaster --\u003E fs\n",
              "    sl --\u003E cz\n",
              "    sl --\u003E kz\n",
              "    cz --\u003E hc\n",
              "    cz --\u003E kz\n",
              "    cz --\u003E rr\n",
              "    cz --\u003E hf\n",
              "    cz --\u003E sh\n",
              "    gn --\u003E rt\n",
              "    gn --\u003E dg\n",
              "    cg --\u003E rq\n",
              "    pk --\u003E vf\n",
              "    hp --\u003E bs\n",
              "    hp --\u003E rt\n",
              "    bv --\u003E xz\n",
              "    rr --\u003E ls\n",
              "    bn --\u003E fs\n",
              "    bn --\u003E bv\n",
              "    bn --\u003E vb\n",
              "    bn --\u003E mk\n",
              "    bn --\u003E sr\n",
              "    bn --\u003E bz\n",
              "    bn --\u003E cf\n",
              "    vx --\u003E bn\n",
              "    vx --\u003E gs\n",
              "    bs --\u003E rt\n",
              "    bs --\u003E lh\n",
              "    mk --\u003E vf\n",
              "    tf --\u003E sr\n",
              "    tf --\u003E bn\n",
              "    tv --\u003E gp\n",
              "    tv --\u003E rj\n",
              "    ls --\u003E sl\n",
              "    ls --\u003E cz\n",
              "    lh --\u003E pn\n",
              "    lh --\u003E rt\n",
              "    lf --\u003E vx\n",
              "    lf --\u003E bn\n",
              "    sr --\u003E vb\n",
              "    cq --\u003E rt\n",
              "    cq --\u003E vg\n",
              "    pp --\u003E rt\n",
              "    qd --\u003E cz\n",
              "    qd --\u003E sz\n",
              "    vb --\u003E ft\n",
              "    mj --\u003E hc\n",
              "    mj --\u003E cz\n",
              "    ft --\u003E lf\n",
              "    ft --\u003E bn\n",
              "    hc --\u003E vr\n",
              "    vg --\u003E gn\n",
              "    dg --\u003E rt\n",
              "    dg --\u003E xl\n",
              "    nm --\u003E rt\n",
              "    nm --\u003E db\n",
              "    nd --\u003E rc\n",
              "    nd --\u003E gp\n",
              "    kz --\u003E mj\n",
              "    rs --\u003E nv\n",
              "    nv --\u003E jr\n",
              "    pn --\u003E pp\n",
              "    pn --\u003E rt\n",
              "    pm --\u003E vf\n",
              "    jr --\u003E gp\n",
              "    jr --\u003E cg\n",
              "    ps --\u003E rs\n",
              "    ps --\u003E gp\n",
              "    gs --\u003E bn\n",
              "    xz --\u003E tf\n",
              "    xz --\u003E bn\n",
              "    bk --\u003E tv\n",
              "    rc --\u003E gp\n",
              "    ff --\u003E bk\n",
              "    rj --\u003E gp\n",
              "    rj --\u003E nd\n",
              "    db --\u003E cq\n",
              "\u0060);\r\n",
              "                renderTarget.innerHTML = svg;\r\n",
              "                bindFunctions?.(renderTarget);\r\n",
              "            }\r\n",
              "            catch (error) {\r\n",
              "                console.log(error);\r\n",
              "            }\n",
              "\u003C/script\u003E\n",
              "\u003C/div\u003E\n"
            ]
          },
          "metadata": {},
          "output_type": "display_data"
        }
      ],
      "source": [
        "string WriteMermaid(IList\u003CPulseModule\u003E modules) {\n",
        "    var sb = new StringBuilder();\n",
        "    sb.AppendLine(\u0022flowchart LR\u0022);\n",
        "\n",
        "    foreach (var m in modules.Reverse()) {\n",
        "        foreach (var d in m.destinations) {\n",
        "            sb.AppendLine($\u0022    {m.Key} --\u003E {d}\u0022);\n",
        "        }\n",
        "    }\n",
        "\n",
        "    return sb.ToString();\n",
        "}\n",
        "\n",
        "async Task ShowInMermaidAsync(string mermaidStr) {\n",
        "    var showMermaid = new SubmitCode(mermaidStr, \u0022mermaid\u0022);\n",
        "    await Kernel.Root.SendAsync(showMermaid);\n",
        "}\n",
        "\n",
        "await ShowInMermaidAsync(WriteMermaid(inputModules));\n",
        "\n"
      ]
    },
    {
      "cell_type": "code",
      "execution_count": 23,
      "metadata": {
        "dotnet_interactive": {
          "language": "csharp"
        },
        "polyglot_notebook": {
          "kernelName": "csharp"
        }
      },
      "outputs": [
        {
          "name": "stdout",
          "output_type": "stream",
          "text": [
            "flowchart LR\n",
            "    broadcaster(broadcaster - Broadcaster)\n",
            "    broadcaster --\u003E sh\n",
            "    sh(sh - FlipFlop)\n",
            "    sh --\u003E rr\n",
            "    rr(rr - FlipFlop)\n",
            "    rr --\u003E ls\n",
            "    ls(ls - FlipFlop)\n",
            "    ls --\u003E sl\n",
            "    sl(sl - FlipFlop)\n",
            "    sl --\u003E cz\n",
            "    cz(cz - Conjunction)\n",
            "    cz --\u003E hc\n",
            "    hc(hc - FlipFlop)\n",
            "    hc --\u003E vr\n",
            "    vr(vr - FlipFlop)\n",
            "    vr --\u003E cz\n",
            "    vr --\u003E qd\n",
            "    qd(qd - FlipFlop)\n",
            "    qd --\u003E cz\n",
            "    qd --\u003E sz\n",
            "    sz(sz - FlipFlop)\n",
            "    sz --\u003E cz\n",
            "    sz --\u003E fz\n",
            "    fz(fz - FlipFlop)\n",
            "    fz --\u003E dn\n",
            "    dn(dn - FlipFlop)\n",
            "    dn --\u003E cz\n",
            "    fz --\u003E cz\n",
            "    cz --\u003E kz\n",
            "    kz(kz - FlipFlop)\n",
            "    kz --\u003E mj\n",
            "    mj(mj - FlipFlop)\n",
            "    mj --\u003E hc\n",
            "    mj --\u003E cz\n",
            "    cz --\u003E rr\n",
            "    cz --\u003E hf\n",
            "    hf(hf - Conjunction)\n",
            "    hf --\u003E vf\n",
            "    vf(vf - Conjunction)\n",
            "    vf --\u003E rx\n",
            "    rx(rx - NULL)\n",
            "    cz --\u003E sh\n",
            "    sl --\u003E kz\n",
            "    ls --\u003E cz\n",
            "    sh --\u003E cz\n",
            "    broadcaster --\u003E nm\n",
            "    nm(nm - FlipFlop)\n",
            "    nm --\u003E rt\n",
            "    rt(rt - Conjunction)\n",
            "    rt --\u003E pk\n",
            "    pk(pk - Conjunction)\n",
            "    pk --\u003E vf\n",
            "    rt --\u003E xl\n",
            "    xl(xl - FlipFlop)\n",
            "    xl --\u003E hp\n",
            "    hp(hp - FlipFlop)\n",
            "    hp --\u003E bs\n",
            "    bs(bs - FlipFlop)\n",
            "    bs --\u003E rt\n",
            "    bs --\u003E lh\n",
            "    lh(lh - FlipFlop)\n",
            "    lh --\u003E pn\n",
            "    pn(pn - FlipFlop)\n",
            "    pn --\u003E pp\n",
            "    pp(pp - FlipFlop)\n",
            "    pp --\u003E rt\n",
            "    pn --\u003E rt\n",
            "    lh --\u003E rt\n",
            "    hp --\u003E rt\n",
            "    rt --\u003E nm\n",
            "    rt --\u003E vg\n",
            "    vg(vg - FlipFlop)\n",
            "    vg --\u003E gn\n",
            "    gn(gn - FlipFlop)\n",
            "    gn --\u003E rt\n",
            "    gn --\u003E dg\n",
            "    dg(dg - FlipFlop)\n",
            "    dg --\u003E rt\n",
            "    dg --\u003E xl\n",
            "    rt --\u003E db\n",
            "    db(db - FlipFlop)\n",
            "    db --\u003E cq\n",
            "    cq(cq - FlipFlop)\n",
            "    cq --\u003E rt\n",
            "    cq --\u003E vg\n",
            "    nm --\u003E db\n",
            "    broadcaster --\u003E ps\n",
            "    ps(ps - FlipFlop)\n",
            "    ps --\u003E rs\n",
            "    rs(rs - FlipFlop)\n",
            "    rs --\u003E nv\n",
            "    nv(nv - FlipFlop)\n",
            "    nv --\u003E jr\n",
            "    jr(jr - FlipFlop)\n",
            "    jr --\u003E gp\n",
            "    gp(gp - Conjunction)\n",
            "    gp --\u003E rs\n",
            "    gp --\u003E nv\n",
            "    gp --\u003E pm\n",
            "    pm(pm - Conjunction)\n",
            "    pm --\u003E vf\n",
            "    gp --\u003E cg\n",
            "    cg(cg - FlipFlop)\n",
            "    cg --\u003E rq\n",
            "    rq(rq - FlipFlop)\n",
            "    rq --\u003E gp\n",
            "    rq --\u003E ff\n",
            "    ff(ff - FlipFlop)\n",
            "    ff --\u003E bk\n",
            "    bk(bk - FlipFlop)\n",
            "    bk --\u003E tv\n",
            "    tv(tv - FlipFlop)\n",
            "    tv --\u003E gp\n",
            "    tv --\u003E rj\n",
            "    rj(rj - FlipFlop)\n",
            "    rj --\u003E gp\n",
            "    rj --\u003E nd\n",
            "    nd(nd - FlipFlop)\n",
            "    nd --\u003E rc\n",
            "    rc(rc - FlipFlop)\n",
            "    rc --\u003E gp\n",
            "    nd --\u003E gp\n",
            "    gp --\u003E ff\n",
            "    gp --\u003E bk\n",
            "    gp --\u003E ps\n",
            "    jr --\u003E cg\n",
            "    ps --\u003E gp\n",
            "    broadcaster --\u003E fs\n",
            "    fs(fs - FlipFlop)\n",
            "    fs --\u003E bz\n",
            "    bz(bz - FlipFlop)\n",
            "    bz --\u003E cf\n",
            "    cf(cf - FlipFlop)\n",
            "    cf --\u003E bv\n",
            "    bv(bv - FlipFlop)\n",
            "    bv --\u003E xz\n",
            "    xz(xz - FlipFlop)\n",
            "    xz --\u003E tf\n",
            "    tf(tf - FlipFlop)\n",
            "    tf --\u003E sr\n",
            "    sr(sr - FlipFlop)\n",
            "    sr --\u003E vb\n",
            "    vb(vb - FlipFlop)\n",
            "    vb --\u003E ft\n",
            "    ft(ft - FlipFlop)\n",
            "    ft --\u003E lf\n",
            "    lf(lf - FlipFlop)\n",
            "    lf --\u003E vx\n",
            "    vx(vx - FlipFlop)\n",
            "    vx --\u003E bn\n",
            "    bn(bn - Conjunction)\n",
            "    bn --\u003E fs\n",
            "    bn --\u003E bv\n",
            "    bn --\u003E vb\n",
            "    bn --\u003E mk\n",
            "    mk(mk - Conjunction)\n",
            "    mk --\u003E vf\n",
            "    bn --\u003E sr\n",
            "    bn --\u003E bz\n",
            "    bn --\u003E cf\n",
            "    vx --\u003E gs\n",
            "    gs(gs - FlipFlop)\n",
            "    gs --\u003E bn\n",
            "    lf --\u003E bn\n",
            "    ft --\u003E bn\n",
            "    tf --\u003E bn\n",
            "    xz --\u003E bn\n",
            "    fs --\u003E bn\n",
            "\n"
          ]
        },
        {
          "data": {
            "text/html": [
              "\u003Cdiv class=\u0022mermaidMarkdownContainer\u0022 style=\u0022background-color:white\u0022\u003E\n",
              "\u003Clink rel=\u0022stylesheet\u0022 href=\u0022https://cdnjs.cloudflare.com/ajax/libs/font-awesome/6.2.0/css/all.min.css\u0022\u003E\n",
              "\u003Cdiv id=\u00229e604c715f4348298640b444d9c725f3\u0022\u003E\u003C/div\u003E\n",
              "\u003Cscript type=\u0022module\u0022\u003E\n",
              "\r\n",
              "            import mermaid from \u0027https://cdn.jsdelivr.net/npm/mermaid@10.6.1/dist/mermaid.esm.min.mjs\u0027;\r\n",
              "            let renderTarget = document.getElementById(\u00279e604c715f4348298640b444d9c725f3\u0027);\r\n",
              "            try {\r\n",
              "                const {svg, bindFunctions} = await mermaid.mermaidAPI.render( \r\n",
              "                    \u0027mermaid_9e604c715f4348298640b444d9c725f3\u0027, \r\n",
              "                    \u0060flowchart LR\n",
              "    broadcaster(broadcaster - Broadcaster)\n",
              "    broadcaster --\u003E sh\n",
              "    sh(sh - FlipFlop)\n",
              "    sh --\u003E rr\n",
              "    rr(rr - FlipFlop)\n",
              "    rr --\u003E ls\n",
              "    ls(ls - FlipFlop)\n",
              "    ls --\u003E sl\n",
              "    sl(sl - FlipFlop)\n",
              "    sl --\u003E cz\n",
              "    cz(cz - Conjunction)\n",
              "    cz --\u003E hc\n",
              "    hc(hc - FlipFlop)\n",
              "    hc --\u003E vr\n",
              "    vr(vr - FlipFlop)\n",
              "    vr --\u003E cz\n",
              "    vr --\u003E qd\n",
              "    qd(qd - FlipFlop)\n",
              "    qd --\u003E cz\n",
              "    qd --\u003E sz\n",
              "    sz(sz - FlipFlop)\n",
              "    sz --\u003E cz\n",
              "    sz --\u003E fz\n",
              "    fz(fz - FlipFlop)\n",
              "    fz --\u003E dn\n",
              "    dn(dn - FlipFlop)\n",
              "    dn --\u003E cz\n",
              "    fz --\u003E cz\n",
              "    cz --\u003E kz\n",
              "    kz(kz - FlipFlop)\n",
              "    kz --\u003E mj\n",
              "    mj(mj - FlipFlop)\n",
              "    mj --\u003E hc\n",
              "    mj --\u003E cz\n",
              "    cz --\u003E rr\n",
              "    cz --\u003E hf\n",
              "    hf(hf - Conjunction)\n",
              "    hf --\u003E vf\n",
              "    vf(vf - Conjunction)\n",
              "    vf --\u003E rx\n",
              "    rx(rx - NULL)\n",
              "    cz --\u003E sh\n",
              "    sl --\u003E kz\n",
              "    ls --\u003E cz\n",
              "    sh --\u003E cz\n",
              "    broadcaster --\u003E nm\n",
              "    nm(nm - FlipFlop)\n",
              "    nm --\u003E rt\n",
              "    rt(rt - Conjunction)\n",
              "    rt --\u003E pk\n",
              "    pk(pk - Conjunction)\n",
              "    pk --\u003E vf\n",
              "    rt --\u003E xl\n",
              "    xl(xl - FlipFlop)\n",
              "    xl --\u003E hp\n",
              "    hp(hp - FlipFlop)\n",
              "    hp --\u003E bs\n",
              "    bs(bs - FlipFlop)\n",
              "    bs --\u003E rt\n",
              "    bs --\u003E lh\n",
              "    lh(lh - FlipFlop)\n",
              "    lh --\u003E pn\n",
              "    pn(pn - FlipFlop)\n",
              "    pn --\u003E pp\n",
              "    pp(pp - FlipFlop)\n",
              "    pp --\u003E rt\n",
              "    pn --\u003E rt\n",
              "    lh --\u003E rt\n",
              "    hp --\u003E rt\n",
              "    rt --\u003E nm\n",
              "    rt --\u003E vg\n",
              "    vg(vg - FlipFlop)\n",
              "    vg --\u003E gn\n",
              "    gn(gn - FlipFlop)\n",
              "    gn --\u003E rt\n",
              "    gn --\u003E dg\n",
              "    dg(dg - FlipFlop)\n",
              "    dg --\u003E rt\n",
              "    dg --\u003E xl\n",
              "    rt --\u003E db\n",
              "    db(db - FlipFlop)\n",
              "    db --\u003E cq\n",
              "    cq(cq - FlipFlop)\n",
              "    cq --\u003E rt\n",
              "    cq --\u003E vg\n",
              "    nm --\u003E db\n",
              "    broadcaster --\u003E ps\n",
              "    ps(ps - FlipFlop)\n",
              "    ps --\u003E rs\n",
              "    rs(rs - FlipFlop)\n",
              "    rs --\u003E nv\n",
              "    nv(nv - FlipFlop)\n",
              "    nv --\u003E jr\n",
              "    jr(jr - FlipFlop)\n",
              "    jr --\u003E gp\n",
              "    gp(gp - Conjunction)\n",
              "    gp --\u003E rs\n",
              "    gp --\u003E nv\n",
              "    gp --\u003E pm\n",
              "    pm(pm - Conjunction)\n",
              "    pm --\u003E vf\n",
              "    gp --\u003E cg\n",
              "    cg(cg - FlipFlop)\n",
              "    cg --\u003E rq\n",
              "    rq(rq - FlipFlop)\n",
              "    rq --\u003E gp\n",
              "    rq --\u003E ff\n",
              "    ff(ff - FlipFlop)\n",
              "    ff --\u003E bk\n",
              "    bk(bk - FlipFlop)\n",
              "    bk --\u003E tv\n",
              "    tv(tv - FlipFlop)\n",
              "    tv --\u003E gp\n",
              "    tv --\u003E rj\n",
              "    rj(rj - FlipFlop)\n",
              "    rj --\u003E gp\n",
              "    rj --\u003E nd\n",
              "    nd(nd - FlipFlop)\n",
              "    nd --\u003E rc\n",
              "    rc(rc - FlipFlop)\n",
              "    rc --\u003E gp\n",
              "    nd --\u003E gp\n",
              "    gp --\u003E ff\n",
              "    gp --\u003E bk\n",
              "    gp --\u003E ps\n",
              "    jr --\u003E cg\n",
              "    ps --\u003E gp\n",
              "    broadcaster --\u003E fs\n",
              "    fs(fs - FlipFlop)\n",
              "    fs --\u003E bz\n",
              "    bz(bz - FlipFlop)\n",
              "    bz --\u003E cf\n",
              "    cf(cf - FlipFlop)\n",
              "    cf --\u003E bv\n",
              "    bv(bv - FlipFlop)\n",
              "    bv --\u003E xz\n",
              "    xz(xz - FlipFlop)\n",
              "    xz --\u003E tf\n",
              "    tf(tf - FlipFlop)\n",
              "    tf --\u003E sr\n",
              "    sr(sr - FlipFlop)\n",
              "    sr --\u003E vb\n",
              "    vb(vb - FlipFlop)\n",
              "    vb --\u003E ft\n",
              "    ft(ft - FlipFlop)\n",
              "    ft --\u003E lf\n",
              "    lf(lf - FlipFlop)\n",
              "    lf --\u003E vx\n",
              "    vx(vx - FlipFlop)\n",
              "    vx --\u003E bn\n",
              "    bn(bn - Conjunction)\n",
              "    bn --\u003E fs\n",
              "    bn --\u003E bv\n",
              "    bn --\u003E vb\n",
              "    bn --\u003E mk\n",
              "    mk(mk - Conjunction)\n",
              "    mk --\u003E vf\n",
              "    bn --\u003E sr\n",
              "    bn --\u003E bz\n",
              "    bn --\u003E cf\n",
              "    vx --\u003E gs\n",
              "    gs(gs - FlipFlop)\n",
              "    gs --\u003E bn\n",
              "    lf --\u003E bn\n",
              "    ft --\u003E bn\n",
              "    tf --\u003E bn\n",
              "    xz --\u003E bn\n",
              "    fs --\u003E bn\n",
              "\u0060);\r\n",
              "                renderTarget.innerHTML = svg;\r\n",
              "                bindFunctions?.(renderTarget);\r\n",
              "            }\r\n",
              "            catch (error) {\r\n",
              "                console.log(error);\r\n",
              "            }\n",
              "\u003C/script\u003E\n",
              "\u003C/div\u003E\n"
            ]
          },
          "metadata": {},
          "output_type": "display_data"
        }
      ],
      "source": [
        "void WriteMermaidModule(IList\u003CPulseModule\u003E modules, HashSet\u003Cstring\u003E visited, string moduleName, int pad, StringBuilder sb) {\n",
        "    if (visited.Contains(moduleName))\n",
        "        return;\n",
        "\n",
        "    visited.Add(moduleName);\n",
        "\n",
        "    var pm = modules.Where(m =\u003E m.Key == moduleName).SingleOrDefault();\n",
        "    \n",
        "    var type = pm?.GetType().Name ?? \u0022NULL\u0022;\n",
        "    sb.AppendLine($\u0022    {moduleName}({moduleName} - {type})\u0022);\n",
        "\n",
        "    if (pm is null) {\n",
        "        return;\n",
        "    }\n",
        "\n",
        "    foreach (var child in pm.destinations) {\n",
        "        sb.AppendLine($\u0022    {moduleName} --\u003E {child}\u0022);\n",
        "        WriteMermaidModule(modules, visited, child, pad \u002B 2, sb);\n",
        "    }\n",
        "}\n",
        "\n",
        "var sbx = new StringBuilder();\n",
        "sbx.AppendLine(\u0022flowchart LR\u0022);\n",
        "\n",
        "WriteMermaidModule(inputModules, new(), \u0022broadcaster\u0022, 0, sbx);\n",
        "\n",
        "Console.WriteLine(sbx.ToString());\n",
        "\n",
        "await ShowInMermaidAsync(sbx.ToString());"
      ]
    },
    {
      "cell_type": "code",
      "execution_count": 24,
      "metadata": {
        "dotnet_interactive": {
          "language": "csharp"
        },
        "polyglot_notebook": {
          "kernelName": "csharp"
        }
      },
      "outputs": [
        {
          "name": "stdout",
          "output_type": "stream",
          "text": [
            "We found a target pulse at press 3881 (3881)\n",
            "Pulse { source = gp, pulse = False, dest = pm }\n",
            "We found a target pulse at press 7762 (3881)\n",
            "Pulse { source = gp, pulse = False, dest = pm }\n",
            "We found a target pulse at press 11643 (3881)\n",
            "Pulse { source = gp, pulse = False, dest = pm }\n",
            "We found a target pulse at press 15524 (3881)\n",
            "Pulse { source = gp, pulse = False, dest = pm }\n",
            "We found a target pulse at press 19405 (3881)\n",
            "Pulse { source = gp, pulse = False, dest = pm }\n",
            "We found a target pulse at press 23286 (3881)\n",
            "Pulse { source = gp, pulse = False, dest = pm }\n",
            "We found a target pulse at press 27167 (3881)\n",
            "Pulse { source = gp, pulse = False, dest = pm }\n",
            "We found a target pulse at press 31048 (3881)\n",
            "Pulse { source = gp, pulse = False, dest = pm }\n",
            "We found a target pulse at press 34929 (3881)\n",
            "Pulse { source = gp, pulse = False, dest = pm }\n",
            "We found a target pulse at press 38810 (3881)\n",
            "Pulse { source = gp, pulse = False, dest = pm }\n",
            "We found a target pulse at press 42691 (3881)\n",
            "Pulse { source = gp, pulse = False, dest = pm }\n",
            "We found a target pulse at press 46572 (3881)\n",
            "Pulse { source = gp, pulse = False, dest = pm }\n",
            "We found a target pulse at press 50453 (3881)\n",
            "Pulse { source = gp, pulse = False, dest = pm }\n",
            "We found a target pulse at press 54334 (3881)\n",
            "Pulse { source = gp, pulse = False, dest = pm }\n",
            "We found a target pulse at press 58215 (3881)\n",
            "Pulse { source = gp, pulse = False, dest = pm }\n",
            "We found a target pulse at press 62096 (3881)\n",
            "Pulse { source = gp, pulse = False, dest = pm }\n",
            "We found a target pulse at press 65977 (3881)\n",
            "Pulse { source = gp, pulse = False, dest = pm }\n",
            "We found a target pulse at press 69858 (3881)\n",
            "Pulse { source = gp, pulse = False, dest = pm }\n",
            "We found a target pulse at press 73739 (3881)\n",
            "Pulse { source = gp, pulse = False, dest = pm }\n",
            "We found a target pulse at press 77620 (3881)\n",
            "Pulse { source = gp, pulse = False, dest = pm }\n",
            "We found a target pulse at press 81501 (3881)\n",
            "Pulse { source = gp, pulse = False, dest = pm }\n",
            "We found a target pulse at press 85382 (3881)\n",
            "Pulse { source = gp, pulse = False, dest = pm }\n",
            "We found a target pulse at press 89263 (3881)\n",
            "Pulse { source = gp, pulse = False, dest = pm }\n",
            "We found a target pulse at press 93144 (3881)\n",
            "Pulse { source = gp, pulse = False, dest = pm }\n",
            "We found a target pulse at press 97025 (3881)\n",
            "Pulse { source = gp, pulse = False, dest = pm }\n"
          ]
        }
      ],
      "source": [
        "// Ok, let\u0027s see if we can find out when mk hits\n",
        "\n",
        "void PressUntilFound(IList\u003CPulseModule\u003E modules, string expectedDest, bool expectedPulse) {\n",
        "    int previousFind = 0;\n",
        "\n",
        "    foreach (var i in Enumerable.Range(1, 100_000)) {\n",
        "        var pulses = PressButton(modules);\n",
        "\n",
        "        foreach (var pulse in pulses) {\n",
        "            if (pulse.dest == expectedDest \u0026\u0026 pulse.pulse == expectedPulse) {\n",
        "                Console.WriteLine($\u0022We found a target pulse at press {i} ({i - previousFind})\u0022);\n",
        "                Console.WriteLine(pulse);\n",
        "\n",
        "                previousFind = i;\n",
        "            }\n",
        "        }\n",
        "    }\n",
        "}\n",
        "var inputModules = BuildModules(inputParsedModules);\n",
        "PressUntilFound(inputModules, \u0022pm\u0022, LowPulse);\n",
        "\n",
        "// mk = 3889\n",
        "// pm = 3881\n",
        "// pk = 4021\n",
        "// hf = 4013"
      ]
    },
    {
      "cell_type": "code",
      "execution_count": 25,
      "metadata": {
        "dotnet_interactive": {
          "language": "csharp"
        },
        "polyglot_notebook": {
          "kernelName": "csharp"
        }
      },
      "outputs": [],
      "source": [
        "static ulong GCD(ulong a, ulong b) {\n",
        "    if (b == 0) {\n",
        "        return a;\n",
        "    }\n",
        "\n",
        "    return GCD(b, a % b);\n",
        "}"
      ]
    },
    {
      "cell_type": "code",
      "execution_count": 26,
      "metadata": {
        "dotnet_interactive": {
          "language": "csharp"
        },
        "polyglot_notebook": {
          "kernelName": "csharp"
        }
      },
      "outputs": [
        {
          "name": "stdout",
          "output_type": "stream",
          "text": [
            "1\n"
          ]
        }
      ],
      "source": [
        "ulong mk = 3889;\n",
        "ulong pm = 3881;\n",
        "ulong pk = 4021;\n",
        "ulong hf = 4013;\n",
        "\n",
        "var g = GCD(mk, hf);\n",
        "Console.WriteLine(g);"
      ]
    },
    {
      "cell_type": "code",
      "execution_count": 27,
      "metadata": {
        "dotnet_interactive": {
          "language": "csharp"
        },
        "polyglot_notebook": {
          "kernelName": "csharp"
        }
      },
      "outputs": [
        {
          "name": "stdout",
          "output_type": "stream",
          "text": [
            "243548140870057\n"
          ]
        }
      ],
      "source": [
        "// Ok, having tried them all, GCD is 1, therefore the only time they will all be equal is when they are full multiples of each other\n",
        "\n",
        "var part2Answer = mk * pm * pk * hf;\n",
        "Console.WriteLine(part2Answer);"
      ]
    },
    {
      "cell_type": "code",
      "execution_count": 28,
      "metadata": {
        "dotnet_interactive": {
          "language": "csharp"
        },
        "polyglot_notebook": {
          "kernelName": "csharp"
        }
      },
      "outputs": [],
      "source": [
        "// 243548140870057 is correct!\n",
        "Ensure(243548140870057UL, part2Answer);"
      ]
    }
  ],
  "metadata": {
    "kernelspec": {
      "display_name": ".NET (C#)",
      "language": "C#",
      "name": ".net-csharp"
    },
    "language_info": {
      "name": "polyglot-notebook"
    },
    "polyglot_notebook": {
      "kernelInfo": {
        "defaultKernelName": "csharp",
        "items": [
          {
            "aliases": [],
            "name": "csharp"
          }
        ]
      }
    }
  },
  "nbformat": 4,
  "nbformat_minor": 2
}