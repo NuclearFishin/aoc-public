{
  "cells": [
    {
      "cell_type": "markdown",
      "execution_count": 1,
      "metadata": {
        "dotnet_interactive": {
          "language": "csharp"
        },
        "polyglot_notebook": {
          "kernelName": "csharp"
        },
        "vscode": {
          "languageId": "polyglot-notebook"
        }
      },
      "source": [
        "### --- Day 15: Lens Library ---\n",
        "\n",
        "Puzzle description redacted as-per Advent of Code guidelines\n",
        "\n",
        "You may find the puzzle description at: https://adventofcode.com/2023/day/15"
      ]
    },
    {
      "cell_type": "code",
      "execution_count": 2,
      "metadata": {
        "dotnet_interactive": {
          "language": "csharp"
        },
        "polyglot_notebook": {
          "kernelName": "csharp"
        },
        "vscode": {
          "languageId": "polyglot-notebook"
        }
      },
      "outputs": [],
      "source": [
        "#!import ../Utils.ipynb"
      ]
    },
    {
      "cell_type": "code",
      "execution_count": 3,
      "metadata": {
        "dotnet_interactive": {
          "language": "csharp"
        },
        "polyglot_notebook": {
          "kernelName": "csharp"
        },
        "vscode": {
          "languageId": "polyglot-notebook"
        }
      },
      "outputs": [
        {
          "name": "stdout",
          "output_type": "stream",
          "text": [
            "Loading puzzle file: Day15.txt\n",
            "Total lines: 1\n",
            "Max line length: 22928\n",
            "\n",
            "fb-,kgf=2,xdr-,fqqg=7,cgth-,hkpjg-,gl=7,nrq-,jp-,r\n"
          ]
        }
      ],
      "source": [
        "var inputLines = LoadPuzzleInput(2023, 15);\n",
        "WriteLines(inputLines, maxCols: 50);"
      ]
    },
    {
      "cell_type": "code",
      "execution_count": 4,
      "metadata": {
        "dotnet_interactive": {
          "language": "csharp"
        },
        "polyglot_notebook": {
          "kernelName": "csharp"
        },
        "vscode": {
          "languageId": "polyglot-notebook"
        }
      },
      "outputs": [
        {
          "name": "stdout",
          "output_type": "stream",
          "text": [
            "65\n",
            "4335\n"
          ]
        }
      ],
      "source": [
        "Console.WriteLine(Encoding.ASCII.GetBytes(\u0022A\u0022)[0]);\n",
        "Console.WriteLine(byte.MaxValue * 17);"
      ]
    },
    {
      "cell_type": "code",
      "execution_count": 5,
      "metadata": {
        "dotnet_interactive": {
          "language": "csharp"
        },
        "polyglot_notebook": {
          "kernelName": "csharp"
        },
        "vscode": {
          "languageId": "polyglot-notebook"
        }
      },
      "outputs": [],
      "source": [
        "// Determine the ASCII code for the current character of the string.\n",
        "// Increase the current value by the ASCII code you just determined.\n",
        "// Set the current value to itself multiplied by 17.\n",
        "// Set the current value to the remainder of dividing itself by 256.\n",
        "\n",
        "int HashOne(int previous, int next) =\u003E (int)((previous \u002B next) * 17 % 256);"
      ]
    },
    {
      "cell_type": "code",
      "execution_count": 6,
      "metadata": {
        "dotnet_interactive": {
          "language": "csharp"
        },
        "polyglot_notebook": {
          "kernelName": "csharp"
        },
        "vscode": {
          "languageId": "polyglot-notebook"
        }
      },
      "outputs": [],
      "source": [
        "byte Hash(string input) =\u003E (byte)Encoding.ASCII.GetBytes(input).Select(b =\u003E (int)b).Aggregate(0, HashOne);"
      ]
    },
    {
      "cell_type": "code",
      "execution_count": 7,
      "metadata": {
        "dotnet_interactive": {
          "language": "csharp"
        },
        "polyglot_notebook": {
          "kernelName": "csharp"
        },
        "vscode": {
          "languageId": "polyglot-notebook"
        }
      },
      "outputs": [
        {
          "name": "stdout",
          "output_type": "stream",
          "text": [
            "30,253,97,47,14,180,9,197,48,214,231\n"
          ]
        }
      ],
      "source": [
        "const string testInputLine = \u0022rn=1,cm-,qp=3,cm=2,qp-,pc=4,ot=9,ab=5,pc-,pc=6,ot=7\u0022;\n",
        "\n",
        "var hashSteps = testInputLine.Split(\u0027,\u0027).Select(Hash);\n",
        "Console.WriteLine(string.Join(\u0022,\u0022, hashSteps));"
      ]
    },
    {
      "cell_type": "code",
      "execution_count": 8,
      "metadata": {
        "dotnet_interactive": {
          "language": "csharp"
        },
        "polyglot_notebook": {
          "kernelName": "csharp"
        },
        "vscode": {
          "languageId": "polyglot-notebook"
        }
      },
      "outputs": [
        {
          "name": "stdout",
          "output_type": "stream",
          "text": [
            "513158\n"
          ]
        }
      ],
      "source": [
        "// Run the HASH algorithm on each step in the initialization sequence. What is\n",
        "// the sum of the results? (The initialization sequence is one long line; be\n",
        "// careful when copy-pasting it.)\n",
        "\n",
        "var part1Answer = inputLines[0].Split(\u0027,\u0027).Select(input =\u003E (int)Hash(input)).Sum();\n",
        "Console.WriteLine(part1Answer);"
      ]
    },
    {
      "cell_type": "code",
      "execution_count": 9,
      "metadata": {
        "dotnet_interactive": {
          "language": "csharp"
        },
        "polyglot_notebook": {
          "kernelName": "csharp"
        },
        "vscode": {
          "languageId": "polyglot-notebook"
        }
      },
      "outputs": [],
      "source": [
        "// 513158 is correct!\n",
        "Ensure(513158, part1Answer);"
      ]
    },
    {
      "cell_type": "markdown",
      "execution_count": 10,
      "metadata": {
        "dotnet_interactive": {
          "language": "csharp"
        },
        "polyglot_notebook": {
          "kernelName": "csharp"
        },
        "vscode": {
          "languageId": "polyglot-notebook"
        }
      },
      "source": [
        "### --- Part Two ---\n",
        "\n",
        "Puzzle description redacted as-per Advent of Code guidelines\n",
        "\n",
        "You may find the puzzle description at: https://adventofcode.com/2023/day/15"
      ]
    },
    {
      "cell_type": "code",
      "execution_count": 11,
      "metadata": {
        "dotnet_interactive": {
          "language": "csharp"
        },
        "polyglot_notebook": {
          "kernelName": "csharp"
        },
        "vscode": {
          "languageId": "polyglot-notebook"
        }
      },
      "outputs": [
        {
          "name": "stdout",
          "output_type": "stream",
          "text": [
            "LensAdd { boxHash = 0, lens = Lens { label = rn, focalLength = 1 } }\n",
            "LensRemove { boxHash = 0, label = cm }\n",
            "LensAdd { boxHash = 1, lens = Lens { label = qp, focalLength = 3 } }\n",
            "LensAdd { boxHash = 0, lens = Lens { label = cm, focalLength = 2 } }\n",
            "LensRemove { boxHash = 1, label = qp }\n",
            "LensAdd { boxHash = 3, lens = Lens { label = pc, focalLength = 4 } }\n",
            "LensAdd { boxHash = 3, lens = Lens { label = ot, focalLength = 9 } }\n",
            "LensAdd { boxHash = 3, lens = Lens { label = ab, focalLength = 5 } }\n",
            "LensRemove { boxHash = 3, label = pc }\n",
            "LensAdd { boxHash = 3, lens = Lens { label = pc, focalLength = 6 } }\n",
            "LensAdd { boxHash = 3, lens = Lens { label = ot, focalLength = 7 } }\n"
          ]
        }
      ],
      "source": [
        "record Lens(string label, byte focalLength);\n",
        "\n",
        "interface LensAction { byte boxHash {get;} }\n",
        "record LensAdd(byte boxHash, Lens lens) : LensAction;\n",
        "record LensRemove(byte boxHash, string label) : LensAction;\n",
        "\n",
        "LensAction ParseAction(string action) \n",
        "{\n",
        "    LensAction result;\n",
        "    var maybeAdd = action.Split(\u0027=\u0027);\n",
        "    if (maybeAdd.Length == 2) {\n",
        "        var boxHash = Hash(maybeAdd[0]);\n",
        "        result = new LensAdd(boxHash, new Lens(maybeAdd[0], byte.Parse(maybeAdd[1])));\n",
        "    } else {\n",
        "        var removeLabel = action.Substring(0, action.Length - 1);\n",
        "        var boxHash = Hash(removeLabel);\n",
        "        result = new LensRemove(boxHash, removeLabel);\n",
        "    }\n",
        "\n",
        "    return result;\n",
        "}\n",
        "\n",
        "var testInputActions = testInputLine.Split(\u0027,\u0027).Select(ParseAction).ToList();\n",
        "foreach (var action in testInputActions) {\n",
        "    Console.WriteLine(action);\n",
        "}"
      ]
    },
    {
      "cell_type": "code",
      "execution_count": 12,
      "metadata": {
        "dotnet_interactive": {
          "language": "csharp"
        },
        "polyglot_notebook": {
          "kernelName": "csharp"
        },
        "vscode": {
          "languageId": "polyglot-notebook"
        }
      },
      "outputs": [
        {
          "name": "stdout",
          "output_type": "stream",
          "text": [
            "Box 0: Lens { label = rn, focalLength = 1 },Lens { label = cm, focalLength = 2 }\n",
            "Box 3: Lens { label = ot, focalLength = 7 },Lens { label = ab, focalLength = 5 },Lens { label = pc, focalLength = 6 }\n",
            "145\n"
          ]
        }
      ],
      "source": [
        "class LensState\n",
        "{\n",
        "    Dictionary\u003Cbyte, List\u003CLens\u003E\u003E _boxDict = new();\n",
        "\n",
        "    List\u003CLens\u003E GetBox(byte boxHash) {\n",
        "        List\u003CLens\u003E box;\n",
        "        if (!_boxDict.TryGetValue(boxHash, out box)) {\n",
        "            box = new();\n",
        "            _boxDict[boxHash] = box;\n",
        "        }\n",
        "\n",
        "        return box;\n",
        "    }\n",
        "\n",
        "    public LensState Process(LensAction action) =\u003E action switch {\n",
        "        (LensAdd add) =\u003E ProcessAdd(add),\n",
        "        (LensRemove remove) =\u003E ProcessRemove(remove),\n",
        "        _ =\u003E throw new Exception(\u0022Unexpected action type\u0022)\n",
        "    };\n",
        "\n",
        "    LensState ProcessAdd(LensAdd add) {\n",
        "        var box = GetBox(add.boxHash);\n",
        "\n",
        "        bool swapped = false;\n",
        "        for (var i = 0; i \u003C box.Count; i\u002B\u002B) {\n",
        "            var existing = box[i];\n",
        "\n",
        "            if (existing.label == add.lens.label) {\n",
        "                box[i] = add.lens;\n",
        "                swapped = true;\n",
        "            }\n",
        "        }\n",
        "\n",
        "        if (!swapped) {\n",
        "            box.Add(add.lens);\n",
        "        }\n",
        "\n",
        "        return this;\n",
        "    }\n",
        "\n",
        "    LensState ProcessRemove(LensRemove remove) {\n",
        "        var box = GetBox(remove.boxHash);\n",
        "\n",
        "        var newBox = box.Where(l =\u003E l.label != remove.label).ToList();\n",
        "        box.Clear();\n",
        "        box.AddRange(newBox);\n",
        "\n",
        "        return this;\n",
        "    }\n",
        "\n",
        "    public void WriteToConsole() {\n",
        "        for (var i = 0; i \u003C 256; i\u002B\u002B) {\n",
        "            var box = GetBox((byte)i);\n",
        "\n",
        "            if (box.Count \u003E 0) {\n",
        "                Console.Write($\u0022Box {i}: \u0022);\n",
        "                Console.WriteLine(string.Join(\u0022,\u0022, box));\n",
        "            }\n",
        "        }\n",
        "    }\n",
        "\n",
        "    public int FocusingPower {\n",
        "        get {\n",
        "            int result = 0;\n",
        "\n",
        "            foreach (var i in Enumerable.Range(0, 256)) {\n",
        "                var box = GetBox((byte)i);\n",
        "\n",
        "                var j = 0;\n",
        "                foreach (var lens in box) {\n",
        "                    // One plus the box number of the lens in question.\n",
        "                    var a = i \u002B 1;\n",
        "                    // The slot number of the lens within the box: 1 for the first lens, 2 for the second lens, and so on.\n",
        "                    var b = \u002B\u002Bj;\n",
        "                    // The focal length of the lens.\n",
        "                    var c = lens.focalLength;\n",
        "\n",
        "                    result \u002B= a * b * c;\n",
        "                }\n",
        "            }\n",
        "\n",
        "            return result;\n",
        "        }\n",
        "    }\n",
        "}\n",
        "\n",
        "var testInputLensState = testInputActions.Aggregate(new LensState(), (state, action) =\u003E state.Process(action));\n",
        "\n",
        "// After \u0022ot=7\u0022:\n",
        "// Box 0: [rn 1] [cm 2]\n",
        "// Box 3: [ot 7] [ab 5] [pc 6]\n",
        "testInputLensState.WriteToConsole();\n",
        "\n",
        "// So, the above example ends up with a total focusing power of 145.\n",
        "Console.WriteLine(testInputLensState.FocusingPower);\n"
      ]
    },
    {
      "cell_type": "code",
      "execution_count": 13,
      "metadata": {
        "dotnet_interactive": {
          "language": "csharp"
        },
        "polyglot_notebook": {
          "kernelName": "csharp"
        },
        "vscode": {
          "languageId": "polyglot-notebook"
        }
      },
      "outputs": [
        {
          "name": "stdout",
          "output_type": "stream",
          "text": [
            "200277\n"
          ]
        }
      ],
      "source": [
        "// With the help of an over-enthusiastic reindeer in a hard hat, follow the\n",
        "// initialization sequence. What is the focusing power of the resulting lens\n",
        "// configuration?\n",
        "\n",
        "var inputActions = inputLines[0].Split(\u0027,\u0027).Select(ParseAction);\n",
        "var lensState = inputActions.Aggregate(new LensState(), (state, action) =\u003E state.Process(action));\n",
        "var part2Answer = lensState.FocusingPower;\n",
        "Console.WriteLine(part2Answer);"
      ]
    },
    {
      "cell_type": "code",
      "execution_count": 14,
      "metadata": {
        "dotnet_interactive": {
          "language": "csharp"
        },
        "polyglot_notebook": {
          "kernelName": "csharp"
        },
        "vscode": {
          "languageId": "polyglot-notebook"
        }
      },
      "outputs": [],
      "source": [
        "// 200277 is correct!\n",
        "Ensure(200277, part2Answer);"
      ]
    }
  ],
  "metadata": {
    "kernelspec": {
      "display_name": ".NET (C#)",
      "language": "C#",
      "name": ".net-csharp"
    },
    "language_info": {
      "name": "python"
    },
    "polyglot_notebook": {
      "kernelInfo": {
        "defaultKernelName": "csharp",
        "items": [
          {
            "aliases": [],
            "name": "csharp"
          }
        ]
      }
    }
  },
  "nbformat": 4,
  "nbformat_minor": 2
}