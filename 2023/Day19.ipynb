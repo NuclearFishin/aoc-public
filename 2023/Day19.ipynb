{
  "cells": [
    {
      "cell_type": "markdown",
      "metadata": {
        "dotnet_interactive": {
          "language": "csharp"
        },
        "polyglot_notebook": {
          "kernelName": "csharp"
        },
        "vscode": {
          "languageId": "polyglot-notebook"
        }
      },
      "source": [
        "### --- Day 19: Aplenty ---\n",
        "\n",
        "Puzzle description redacted as-per Advent of Code guidelines\n",
        "\n",
        "You may find the puzzle description at: https://adventofcode.com/2023/day/19"
      ]
    },
    {
      "cell_type": "code",
      "execution_count": 2,
      "metadata": {
        "dotnet_interactive": {
          "language": "csharp"
        },
        "polyglot_notebook": {
          "kernelName": "csharp"
        },
        "vscode": {
          "languageId": "polyglot-notebook"
        }
      },
      "outputs": [],
      "source": [
        "#!import ../Utils.ipynb"
      ]
    },
    {
      "cell_type": "code",
      "execution_count": 3,
      "metadata": {
        "dotnet_interactive": {
          "language": "csharp"
        },
        "polyglot_notebook": {
          "kernelName": "csharp"
        },
        "vscode": {
          "languageId": "polyglot-notebook"
        }
      },
      "outputs": [
        {
          "name": "stdout",
          "output_type": "stream",
          "text": [
            "Loading puzzle file: Day19.txt\n",
            "Total lines: 771\n",
            "Max line length: 40\n",
            "\n",
            "vm{a\u003E1183:zz,s\u003E1553:A,s\u003C827:xc,hls}\n",
            "rvv{m\u003C3430:A,m\u003E3663:A,a\u003C1488:mnf,prg}\n",
            "px{s\u003E1361:cfv,x\u003E2479:R,R}\n",
            "pz{x\u003C2570:R,s\u003E1531:ccq,x\u003C2716:dgp,R}\n",
            "sh{m\u003E1073:A,s\u003E1756:R,m\u003C1022:A,A}\n"
          ]
        }
      ],
      "source": [
        "var inputLines = LoadPuzzleInput(2023, 19);\n",
        "WriteLines(inputLines);"
      ]
    },
    {
      "cell_type": "code",
      "execution_count": 4,
      "metadata": {
        "dotnet_interactive": {
          "language": "csharp"
        },
        "polyglot_notebook": {
          "kernelName": "csharp"
        },
        "vscode": {
          "languageId": "polyglot-notebook"
        }
      },
      "outputs": [],
      "source": [
        "class Workflow(string id, IEnumerable\u003CStage\u003E stages) \n",
        "{\n",
        "    public string Id { get; } = id;\n",
        "\n",
        "    public List\u003CStage\u003E Stages { get; } = stages.ToList(); // public for part 2\n",
        "\n",
        "    public string GetWorkflow(Part part) =\u003E Stages.Where(st =\u003E st.Matches(part)).First().Workflow;\n",
        "\n",
        "    public override string ToString() =\u003E $\u0022{Id}{{{string.Join(\u0027,\u0027, Stages)}}}\u0022;\n",
        "}\n",
        "\n",
        "abstract class Stage(string workflow) {\n",
        "    public string Workflow { get; } = workflow;\n",
        "\n",
        "    public abstract bool Matches(Part part);\n",
        "}\n",
        "\n",
        "class DefaultStage(string workflow) : Stage(workflow) {\n",
        "    public override bool Matches(Part part) =\u003E true;\n",
        "\n",
        "    public override string ToString() =\u003E Workflow;\n",
        "}\n",
        "\n",
        "class ComparisonStage(string workflow, char attribute, char comparison, int value) : Stage(workflow) {\n",
        "    public override bool Matches(Part part) =\u003E Comparison switch {\n",
        "        \u0027\u003E\u0027 =\u003E part[Attribute] \u003E Value,\n",
        "        \u0027\u003C\u0027 =\u003E part[Attribute] \u003C Value,\n",
        "        _ =\u003E throw new Exception(\u0022Unrecognised comparison\u0022)\n",
        "    };\n",
        "\n",
        "    public override string ToString() =\u003E $\u0022{Attribute}{Comparison}{Value}:{Workflow}\u0022;\n",
        "\n",
        "    // The following required for part 2\n",
        "\n",
        "    public char Attribute {get;} = attribute;\n",
        "    public char Comparison {get;} = comparison;\n",
        "    public int Value { get; } = value;\n",
        "}\n",
        "\n",
        "class Part : Dictionary\u003Cchar, int\u003E {\n",
        "    public Part(int x, int m, int a, int s) {\n",
        "        this[\u0027x\u0027] = x;\n",
        "        this[\u0027m\u0027] = m;\n",
        "        this[\u0027a\u0027] = a;\n",
        "        this[\u0027s\u0027] = s;\n",
        "    }\n",
        "\n",
        "    public override string ToString() =\u003E $\u0022{{x={this[\u0027x\u0027]},m={this[\u0027m\u0027]},a={this[\u0027a\u0027]},s={this[\u0027s\u0027]}}}\u0022;\n",
        "\n",
        "    public int Rating =\u003E \u0022xmas\u0022.Select(ch =\u003E this[ch]).Sum();\n",
        "}\n",
        "\n",
        "class Sorter(IEnumerable\u003CWorkflow\u003E workflows) {\n",
        "    public Dictionary\u003Cstring, Workflow\u003E Workflows { get; } = workflows.ToDictionary(wf =\u003E wf.Id);\n",
        "\n",
        "    bool IsAccepted(Part part) {\n",
        "        var nextWorkflow = \u0022in\u0022;\n",
        "        var safety = 0;\n",
        "\n",
        "        while (safety \u003C 100) {\n",
        "            if (nextWorkflow == \u0022A\u0022) return true;\n",
        "            if (nextWorkflow == \u0022R\u0022) return false;\n",
        "\n",
        "            nextWorkflow = Workflows[nextWorkflow].GetWorkflow(part);\n",
        "            safety\u002B\u002B;\n",
        "        }\n",
        "\n",
        "        throw new Exception(\u0022Safety limit reached\u0022);\n",
        "    }\n",
        "\n",
        "    public int Sort(IEnumerable\u003CPart\u003E parts) =\u003E parts.Where(IsAccepted).Select(p =\u003E p.Rating).Sum();\n",
        "}"
      ]
    },
    {
      "cell_type": "code",
      "execution_count": 5,
      "metadata": {
        "dotnet_interactive": {
          "language": "csharp"
        },
        "polyglot_notebook": {
          "kernelName": "csharp"
        },
        "vscode": {
          "languageId": "polyglot-notebook"
        }
      },
      "outputs": [],
      "source": [
        "using System.Text.RegularExpressions;\n",
        "\n",
        "Stage ParseStage(string s) {\n",
        "    var comp = new Regex(@\u0022([xmas])([\u003C\u003E])(\\d\u002B):(\\w\u002B)\u0022);\n",
        "\n",
        "    var compMatch = comp.Match(s);\n",
        "    if (compMatch.Success) {\n",
        "        var attribute = compMatch.Groups[1].Value[0];\n",
        "        var comparison = compMatch.Groups[2].Value[0];\n",
        "        var value = int.Parse(compMatch.Groups[3].Value);\n",
        "        var workflow = compMatch.Groups[4].Value;\n",
        "\n",
        "        return new ComparisonStage(workflow, attribute, comparison, value);\n",
        "    } else {\n",
        "        return new DefaultStage(s);\n",
        "    }\n",
        "}\n",
        "\n",
        "Workflow ParseWorkflow(string line) {\n",
        "    var lineBits = line.Split(\u0027{\u0027);\n",
        "    var id = lineBits[0];\n",
        "    var stages = lineBits[1].Substring(0, lineBits[1].Length - 1).Split(\u0027,\u0027).Select(ParseStage);\n",
        "\n",
        "    return new Workflow(id, stages);\n",
        "}"
      ]
    },
    {
      "cell_type": "code",
      "execution_count": 6,
      "metadata": {
        "dotnet_interactive": {
          "language": "csharp"
        },
        "polyglot_notebook": {
          "kernelName": "csharp"
        },
        "vscode": {
          "languageId": "polyglot-notebook"
        }
      },
      "outputs": [
        {
          "name": "stdout",
          "output_type": "stream",
          "text": [
            "px{a\u003C2006:qkq,m\u003E2090:A,rfg}\n",
            "pv{a\u003E1716:R,A}\n",
            "lnx{m\u003E1548:A,A}\n",
            "rfg{s\u003C537:gd,x\u003E2440:R,A}\n",
            "qs{s\u003E3448:A,lnx}\n"
          ]
        }
      ],
      "source": [
        "var testInputWorkflowStr = \u0022\u0022\u0022\n",
        "px{a\u003C2006:qkq,m\u003E2090:A,rfg}\n",
        "pv{a\u003E1716:R,A}\n",
        "lnx{m\u003E1548:A,A}\n",
        "rfg{s\u003C537:gd,x\u003E2440:R,A}\n",
        "qs{s\u003E3448:A,lnx}\n",
        "qkq{x\u003C1416:A,crn}\n",
        "crn{x\u003E2662:A,R}\n",
        "in{s\u003C1351:px,qqz}\n",
        "qqz{s\u003E2770:qs,m\u003C1801:hdj,R}\n",
        "gd{a\u003E3333:R,R}\n",
        "hdj{m\u003E838:A,pv}\n",
        "\u0022\u0022\u0022;\n",
        "var testInputWorkflowLines = testInputWorkflowStr.Split(\u0027\\n\u0027).ToList();\n",
        "\n",
        "var testInputWorkflows = testInputWorkflowLines.Select(ParseWorkflow).ToList();\n",
        "foreach (var wf in testInputWorkflows.Take(5)) {\n",
        "    Console.WriteLine(wf);\n",
        "}"
      ]
    },
    {
      "cell_type": "code",
      "execution_count": 7,
      "metadata": {
        "dotnet_interactive": {
          "language": "csharp"
        },
        "polyglot_notebook": {
          "kernelName": "csharp"
        },
        "vscode": {
          "languageId": "polyglot-notebook"
        }
      },
      "outputs": [],
      "source": [
        "var testInputSorter = new Sorter(testInputWorkflows);"
      ]
    },
    {
      "cell_type": "code",
      "execution_count": 8,
      "metadata": {
        "dotnet_interactive": {
          "language": "csharp"
        },
        "polyglot_notebook": {
          "kernelName": "csharp"
        },
        "vscode": {
          "languageId": "polyglot-notebook"
        }
      },
      "outputs": [],
      "source": [
        "var partRegex = new Regex(@\u0022\\w=(\\d\u002B)\u0022);\n",
        "\n",
        "Part ParsePart(string line) {\n",
        "    var a = partRegex.Matches(line).Select(m =\u003E int.Parse(m.Groups[1].Value)).ToArray();\n",
        "\n",
        "    return new Part(a[0], a[1], a[2], a[3]);\n",
        "}"
      ]
    },
    {
      "cell_type": "code",
      "execution_count": 9,
      "metadata": {
        "dotnet_interactive": {
          "language": "csharp"
        },
        "polyglot_notebook": {
          "kernelName": "csharp"
        },
        "vscode": {
          "languageId": "polyglot-notebook"
        }
      },
      "outputs": [
        {
          "name": "stdout",
          "output_type": "stream",
          "text": [
            "{x=787,m=2655,a=1222,s=2876}\n",
            "{x=1679,m=44,a=2067,s=496}\n",
            "{x=2036,m=264,a=79,s=2244}\n",
            "{x=2461,m=1339,a=466,s=291}\n",
            "{x=2127,m=1623,a=2188,s=1013}\n"
          ]
        }
      ],
      "source": [
        "var testInputPartStr = \u0022\u0022\u0022\n",
        "{x=787,m=2655,a=1222,s=2876}\n",
        "{x=1679,m=44,a=2067,s=496}\n",
        "{x=2036,m=264,a=79,s=2244}\n",
        "{x=2461,m=1339,a=466,s=291}\n",
        "{x=2127,m=1623,a=2188,s=1013}\n",
        "\u0022\u0022\u0022;\n",
        "var testInputPartLines = testInputPartStr.Split(\u0027\\n\u0027).ToArray();\n",
        "var testInputParts = testInputPartLines.Select(ParsePart).ToList();\n",
        "foreach (var p in testInputParts) {\n",
        "    Console.WriteLine(p);\n",
        "}"
      ]
    },
    {
      "cell_type": "code",
      "execution_count": 10,
      "metadata": {
        "dotnet_interactive": {
          "language": "csharp"
        },
        "polyglot_notebook": {
          "kernelName": "csharp"
        },
        "vscode": {
          "languageId": "polyglot-notebook"
        }
      },
      "outputs": [
        {
          "name": "stdout",
          "output_type": "stream",
          "text": [
            "19114\n"
          ]
        }
      ],
      "source": [
        "// Adding all of the ratings for all of the accepted parts gives the sum total of 19114.\n",
        "\n",
        "var testInputAnswer = testInputSorter.Sort(testInputParts);\n",
        "Console.WriteLine(testInputAnswer);"
      ]
    },
    {
      "cell_type": "code",
      "execution_count": 11,
      "metadata": {
        "dotnet_interactive": {
          "language": "csharp"
        },
        "polyglot_notebook": {
          "kernelName": "csharp"
        },
        "vscode": {
          "languageId": "polyglot-notebook"
        }
      },
      "outputs": [
        {
          "name": "stdout",
          "output_type": "stream",
          "text": [
            "401674\n"
          ]
        }
      ],
      "source": [
        "// Sort through all of the parts you\u0027ve been given; what do you get if you add together all of the rating numbers for all of the parts that ultimately get accepted?\n",
        "\n",
        "var inputWorkflows = inputLines.TakeWhile(line =\u003E line != \u0022\u0022).Select(ParseWorkflow);\n",
        "var inputParts = inputLines.SkipWhile(line =\u003E line != \u0022\u0022).Skip(1).Select(ParsePart);\n",
        "var inputSorter = new Sorter(inputWorkflows);\n",
        "\n",
        "var part1Answer = inputSorter.Sort(inputParts);\n",
        "Console.WriteLine(part1Answer);"
      ]
    },
    {
      "cell_type": "code",
      "execution_count": 12,
      "metadata": {
        "dotnet_interactive": {
          "language": "csharp"
        },
        "polyglot_notebook": {
          "kernelName": "csharp"
        },
        "vscode": {
          "languageId": "polyglot-notebook"
        }
      },
      "outputs": [],
      "source": [
        "// 401674 is correct!\n",
        "Ensure(401674, part1Answer);"
      ]
    },
    {
      "cell_type": "markdown",
      "metadata": {
        "dotnet_interactive": {
          "language": "csharp"
        },
        "polyglot_notebook": {
          "kernelName": "csharp"
        },
        "vscode": {
          "languageId": "polyglot-notebook"
        }
      },
      "source": [
        "### --- Part Two ---\n",
        "\n",
        "Puzzle description redacted as-per Advent of Code guidelines\n",
        "\n",
        "You may find the puzzle description at: https://adventofcode.com/2023/day/19"
      ]
    },
    {
      "cell_type": "code",
      "execution_count": 14,
      "metadata": {
        "dotnet_interactive": {
          "language": "csharp"
        },
        "polyglot_notebook": {
          "kernelName": "csharp"
        },
        "vscode": {
          "languageId": "polyglot-notebook"
        }
      },
      "outputs": [],
      "source": [
        "record MinMax(int min = 1, int max = 4000) {\n",
        "    public int Combos =\u003E max - min \u002B 1;\n",
        "}\n",
        "\n",
        "class Avail : Dictionary\u003Cchar, MinMax\u003E {\n",
        "    public Avail() {\n",
        "        foreach (var ch in \u0022xmas\u0022) { this[ch] = new(); }\n",
        "    }\n",
        "\n",
        "    public Avail(Avail clone) : base(clone) {}\n",
        "\n",
        "    public override string ToString() =\u003E $\u0022{{x={this[\u0027x\u0027]},m={this[\u0027m\u0027]},a={this[\u0027a\u0027]},s={this[\u0027s\u0027]}}}\u0022;\n",
        "\n",
        "    public long Combos =\u003E \u0022xmas\u0022.Select(ch =\u003E (long)this[ch].Combos).Aggregate((a, b) =\u003E a * b);\n",
        "}\n"
      ]
    },
    {
      "cell_type": "code",
      "execution_count": 15,
      "metadata": {
        "dotnet_interactive": {
          "language": "csharp"
        },
        "polyglot_notebook": {
          "kernelName": "csharp"
        },
        "vscode": {
          "languageId": "polyglot-notebook"
        }
      },
      "outputs": [
        {
          "name": "stdout",
          "output_type": "stream",
          "text": [
            "167409079868000\n"
          ]
        }
      ],
      "source": [
        "IEnumerable\u003CAvail\u003E GetAvails(Sorter s, string workflowId, Avail current) {\n",
        "    if (workflowId == \u0022A\u0022) {\n",
        "        yield return current;\n",
        "        yield break;\n",
        "    }\n",
        "    else if (workflowId == \u0022R\u0022) {\n",
        "        yield break;\n",
        "    }\n",
        "    \n",
        "    var workflow = s.Workflows[workflowId];\n",
        "\n",
        "    foreach (var stage in workflow.Stages) {\n",
        "        if (stage is DefaultStage) {\n",
        "            foreach (var a2 in GetAvails(s, stage.Workflow, current)) {\n",
        "                yield return a2;\n",
        "            }\n",
        "        } else if (stage is ComparisonStage comp) {\n",
        "            Avail nextAvail = new(current);\n",
        "            var nextAvailAttr = nextAvail[comp.Attribute];\n",
        "            Avail nextCurrent = new(current);\n",
        "            var nextCurrentAttr = nextCurrent[comp.Attribute];\n",
        "\n",
        "            switch (comp.Comparison) {\n",
        "                case \u0027\u003C\u0027:\n",
        "                    nextAvailAttr = nextAvailAttr with { max = comp.Value - 1};\n",
        "                    nextCurrentAttr = nextCurrentAttr with { min = comp.Value };\n",
        "                    break;\n",
        "                case \u0027\u003E\u0027:\n",
        "                    nextAvailAttr = nextAvailAttr with { min = comp.Value \u002B 1};\n",
        "                    nextCurrentAttr = nextCurrentAttr with { max = comp.Value };\n",
        "                    break;\n",
        "                default:\n",
        "                    throw new Exception(\u0022Unexpected comparison\u0022);\n",
        "            }\n",
        "            nextAvail[comp.Attribute] = nextAvailAttr;\n",
        "            foreach (var a2 in GetAvails(s, stage.Workflow, nextAvail)) {\n",
        "                yield return a2;\n",
        "            }\n",
        "            nextCurrent[comp.Attribute] = nextCurrentAttr;\n",
        "            current = nextCurrent;\n",
        "        }\n",
        "    }\n",
        "}\n",
        "\n",
        "// In the above example, there are 167409079868000 distinct combinations of ratings that will be accepted.\n",
        "var testInputCombos = GetAvails(testInputSorter, \u0022in\u0022, new()).Select(a =\u003E a.Combos).Sum();\n",
        "Console.WriteLine(testInputCombos);"
      ]
    },
    {
      "cell_type": "code",
      "execution_count": 16,
      "metadata": {
        "dotnet_interactive": {
          "language": "csharp"
        },
        "polyglot_notebook": {
          "kernelName": "csharp"
        },
        "vscode": {
          "languageId": "polyglot-notebook"
        }
      },
      "outputs": [
        {
          "name": "stdout",
          "output_type": "stream",
          "text": [
            "134906204068564\n"
          ]
        }
      ],
      "source": [
        "// Consider only your list of workflows; the list of part ratings that the Elves\n",
        "// wanted you to sort is no longer relevant. How many distinct combinations of\n",
        "// ratings will be accepted by the Elves\u0027 workflows?\n",
        "\n",
        "var part2Answer = GetAvails(inputSorter, \u0022in\u0022, new()).Select(a =\u003E a.Combos).Sum();\n",
        "Console.WriteLine(part2Answer);"
      ]
    },
    {
      "cell_type": "code",
      "execution_count": 17,
      "metadata": {
        "dotnet_interactive": {
          "language": "csharp"
        },
        "polyglot_notebook": {
          "kernelName": "csharp"
        },
        "vscode": {
          "languageId": "polyglot-notebook"
        }
      },
      "outputs": [],
      "source": [
        "// 134906204068564 is correct!\n",
        "Ensure(134906204068564, part2Answer);"
      ]
    }
  ],
  "metadata": {
    "kernelspec": {
      "display_name": ".NET (C#)",
      "language": "C#",
      "name": ".net-csharp"
    },
    "language_info": {
      "name": "python"
    },
    "polyglot_notebook": {
      "kernelInfo": {
        "defaultKernelName": "csharp",
        "items": [
          {
            "aliases": [],
            "name": "csharp"
          }
        ]
      }
    }
  },
  "nbformat": 4,
  "nbformat_minor": 2
}