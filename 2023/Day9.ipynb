{
  "cells": [
    {
      "cell_type": "markdown",
      "metadata": {
        "dotnet_interactive": {
          "language": "csharp"
        },
        "polyglot_notebook": {
          "kernelName": "csharp"
        }
      },
      "source": [
        "### --- Day 9: Mirage Maintenance ---\n",
        "\n",
        "Puzzle description redacted as-per Advent of Code guidelines\n",
        "\n",
        "You may find the puzzle description at: https://adventofcode.com/2023/day/9"
      ]
    },
    {
      "cell_type": "code",
      "execution_count": 2,
      "metadata": {
        "dotnet_interactive": {
          "language": "csharp"
        },
        "polyglot_notebook": {
          "kernelName": "csharp"
        }
      },
      "outputs": [],
      "source": [
        "#!import ../Utils.ipynb"
      ]
    },
    {
      "cell_type": "code",
      "execution_count": 3,
      "metadata": {
        "dotnet_interactive": {
          "language": "csharp"
        },
        "polyglot_notebook": {
          "kernelName": "csharp"
        }
      },
      "outputs": [
        {
          "name": "stdout",
          "output_type": "stream",
          "text": [
            "Loading puzzle file: Day9.txt\n",
            "Total lines: 200\n",
            "Max line length: 121\n",
            "\n",
            "-7 4 41 121 272 539 997 1790 3238 6096 12113 25120 52964 110690 225447 443645 840883 1535008 2702137 4594155 7553340\n",
            "4 6 15 32 56 97 215 608 1782 4848 12001 27235 57322 113013 210281 371191 623616 998482 1522475 2203130 3001892\n",
            "1 14 30 60 127 259 482 812 1241 1708 2047 1924 854 -1364 -2779 6693 61773 262974 871468 2514024 6601925\n",
            "6 11 22 52 122 270 570 1162 2299 4438 8451 16122 31239 61800 124158 250420 501360 989250 1920158 3677323 6993968\n",
            "5 7 20 59 158 375 798 1567 2933 5377 9809 17858 32248 57231 99015 166082 269237 421163 635178 922797 1289594\n"
          ]
        }
      ],
      "source": [
        "var inputLines = LoadPuzzleInput(2023, 9);\n",
        "WriteLines(inputLines);"
      ]
    },
    {
      "cell_type": "code",
      "execution_count": 4,
      "metadata": {
        "dotnet_interactive": {
          "language": "csharp"
        },
        "polyglot_notebook": {
          "kernelName": "csharp"
        }
      },
      "outputs": [
        {
          "name": "stdout",
          "output_type": "stream",
          "text": [
            "-7, 4, 41, 121, 272, 539, 997, 1790, 3238, 6096, 12113, 25120, 52964, 110690, 225447, 443645, 840883, 1535008, 2702137, 4594155, 7553340\n",
            "4, 6, 15, 32, 56, 97, 215, 608, 1782, 4848, 12001, 27235, 57322, 113013, 210281, 371191, 623616, 998482, 1522475, 2203130, 3001892\n",
            "1, 14, 30, 60, 127, 259, 482, 812, 1241, 1708, 2047, 1924, 854, -1364, -2779, 6693, 61773, 262974, 871468, 2514024, 6601925\n",
            "6, 11, 22, 52, 122, 270, 570, 1162, 2299, 4438, 8451, 16122, 31239, 61800, 124158, 250420, 501360, 989250, 1920158, 3677323, 6993968\n",
            "5, 7, 20, 59, 158, 375, 798, 1567, 2933, 5377, 9809, 17858, 32248, 57231, 99015, 166082, 269237, 421163, 635178, 922797, 1289594\n",
            "0, -3, -6, -7, 1, 43, 201, 703, 2093, 5515, 13138, 28727, 58310, 110773, 197987, 333665, 529470, 785825, 1073258, 1297757, 1240279\n",
            "4, 16, 31, 51, 77, 110, 165, 305, 716, 1872, 4881, 12159, 28649, 63886, 135307, 273317, 528748, 983488, 1765211, 3067307, 5175293\n",
            "28, 42, 56, 70, 84, 98, 112, 126, 140, 154, 168, 182, 196, 210, 224, 238, 252, 266, 280, 294, 308\n",
            "14, 30, 55, 105, 221, 486, 1057, 2232, 4581, 9179, 17987, 34432, 64237, 116546, 205378, 351432, 584260, 944840, 1488635, 2289343, 3443761\n",
            "11, 22, 37, 68, 148, 338, 743, 1559, 3190, 6514, 13460, 28214, 59658, 126174, 264919, 549437, 1122545, 2256574, 4461315, 8672808, 16575204\n"
          ]
        }
      ],
      "source": [
        "\n",
        "var inputNumbers = inputLines.Select(l =\u003E l.Split(\u0027 \u0027).Select(int.Parse).ToArray()).ToArray();\n",
        "foreach (var i in inputNumbers[..10]) {\n",
        "        Console.WriteLine(string.Join(\u0022, \u0022, i));\n",
        "}"
      ]
    },
    {
      "cell_type": "code",
      "execution_count": 5,
      "metadata": {
        "dotnet_interactive": {
          "language": "csharp"
        },
        "polyglot_notebook": {
          "kernelName": "csharp"
        }
      },
      "outputs": [],
      "source": [
        "int PredictNext(int[] list) {\n",
        "    if (list.All(l =\u003E l == 0)) {\n",
        "        return 0;\n",
        "    }\n",
        "\n",
        "    var last = list.Last();\n",
        "    var diffs = list.Zip(list.Skip(1)).Select(ab =\u003E ab.Second - ab.First).ToArray();\n",
        "    return last \u002B PredictNext(diffs);\n",
        "}"
      ]
    },
    {
      "cell_type": "code",
      "execution_count": 6,
      "metadata": {
        "dotnet_interactive": {
          "language": "csharp"
        },
        "polyglot_notebook": {
          "kernelName": "csharp"
        }
      },
      "outputs": [
        {
          "name": "stdout",
          "output_type": "stream",
          "text": [
            "68\n"
          ]
        }
      ],
      "source": [
        "var test1 = \u00220 3 6 9 12 15\u0022; // 18\n",
        "var test2 = \u00221 3 6 10 15 21\u0022; // 28\n",
        "var test3 = \u002210 13 16 21 30 45\u0022; // 68\n",
        "var testNums = test3.Split(\u0027 \u0027).Select(int.Parse).ToArray();\n",
        "\n",
        "// So, the next value of the third history is 68.\n",
        "\n",
        "var testAnswer = PredictNext(testNums);\n",
        "Console.WriteLine(testAnswer);"
      ]
    },
    {
      "cell_type": "code",
      "execution_count": 7,
      "metadata": {
        "dotnet_interactive": {
          "language": "csharp"
        },
        "polyglot_notebook": {
          "kernelName": "csharp"
        }
      },
      "outputs": [
        {
          "name": "stdout",
          "output_type": "stream",
          "text": [
            "2105961943\n"
          ]
        }
      ],
      "source": [
        "// Analyze your OASIS report and extrapolate the next value for each history. What is the sum of these extrapolated values?\n",
        "\n",
        "var part1Answer = inputNumbers.Select(PredictNext).Sum();\n",
        "Console.WriteLine(part1Answer);"
      ]
    },
    {
      "cell_type": "code",
      "execution_count": 8,
      "metadata": {
        "dotnet_interactive": {
          "language": "csharp"
        },
        "polyglot_notebook": {
          "kernelName": "csharp"
        }
      },
      "outputs": [],
      "source": [
        "// 2105961943 is correct!\n",
        "Ensure(2105961943, part1Answer);"
      ]
    },
    {
      "cell_type": "markdown",
      "metadata": {
        "dotnet_interactive": {
          "language": "csharp"
        },
        "polyglot_notebook": {
          "kernelName": "csharp"
        }
      },
      "source": [
        "### --- Part Two ---\n",
        "\n",
        "Puzzle description redacted as-per Advent of Code guidelines\n",
        "\n",
        "You may find the puzzle description at: https://adventofcode.com/2023/day/9"
      ]
    },
    {
      "cell_type": "code",
      "execution_count": 10,
      "metadata": {
        "dotnet_interactive": {
          "language": "csharp"
        },
        "polyglot_notebook": {
          "kernelName": "csharp"
        }
      },
      "outputs": [],
      "source": [
        "int PredictBackwards(int[] list) {\n",
        "    if (list.All(l =\u003E l == 0)) {\n",
        "        return 0;\n",
        "    }\n",
        "\n",
        "    var first = list[0];\n",
        "    var diffs = list.Zip(list.Skip(1)).Select(ab =\u003E ab.Second - ab.First).ToArray();\n",
        "    return first - PredictBackwards(diffs);\n",
        "}"
      ]
    },
    {
      "cell_type": "code",
      "execution_count": 11,
      "metadata": {
        "dotnet_interactive": {
          "language": "csharp"
        },
        "polyglot_notebook": {
          "kernelName": "csharp"
        }
      },
      "outputs": [
        {
          "name": "stdout",
          "output_type": "stream",
          "text": [
            "5\n"
          ]
        }
      ],
      "source": [
        "var part2TestAnswer = PredictBackwards(testNums);\n",
        "Console.WriteLine(part2TestAnswer);"
      ]
    },
    {
      "cell_type": "code",
      "execution_count": 12,
      "metadata": {
        "dotnet_interactive": {
          "language": "csharp"
        },
        "polyglot_notebook": {
          "kernelName": "csharp"
        }
      },
      "outputs": [
        {
          "name": "stdout",
          "output_type": "stream",
          "text": [
            "1019\n"
          ]
        }
      ],
      "source": [
        "// Analyze your OASIS report again, this time extrapolating the previous value for each history. What is the sum of these extrapolated values?\n",
        "\n",
        "var part2Answer = inputNumbers.Select(PredictBackwards).Sum();\n",
        "Console.WriteLine(part2Answer);"
      ]
    },
    {
      "cell_type": "code",
      "execution_count": 13,
      "metadata": {
        "dotnet_interactive": {
          "language": "csharp"
        },
        "polyglot_notebook": {
          "kernelName": "csharp"
        }
      },
      "outputs": [],
      "source": [
        "// 1019 is correct!\n",
        "Ensure(1019, part2Answer);"
      ]
    }
  ],
  "metadata": {
    "kernelspec": {
      "display_name": ".NET (C#)",
      "language": "C#",
      "name": ".net-csharp"
    },
    "language_info": {
      "name": "polyglot-notebook"
    },
    "polyglot_notebook": {
      "kernelInfo": {
        "defaultKernelName": "csharp",
        "items": [
          {
            "aliases": [],
            "name": "csharp"
          }
        ]
      }
    }
  },
  "nbformat": 4,
  "nbformat_minor": 2
}