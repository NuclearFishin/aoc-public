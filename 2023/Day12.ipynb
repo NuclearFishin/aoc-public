{
  "cells": [
    {
      "cell_type": "markdown",
      "metadata": {
        "dotnet_interactive": {
          "language": "csharp"
        },
        "polyglot_notebook": {
          "kernelName": "csharp"
        },
        "vscode": {
          "languageId": "polyglot-notebook"
        }
      },
      "source": [
        "### --- Day 12: Hot Springs ---\n",
        "\n",
        "Puzzle description redacted as-per Advent of Code guidelines\n",
        "\n",
        "You may find the puzzle description at: https://adventofcode.com/2023/day/12"
      ]
    },
    {
      "cell_type": "code",
      "execution_count": 2,
      "metadata": {
        "dotnet_interactive": {
          "language": "csharp"
        },
        "polyglot_notebook": {
          "kernelName": "csharp"
        },
        "vscode": {
          "languageId": "polyglot-notebook"
        }
      },
      "outputs": [],
      "source": [
        "#!import ../Utils.ipynb"
      ]
    },
    {
      "cell_type": "code",
      "execution_count": 3,
      "metadata": {
        "dotnet_interactive": {
          "language": "csharp"
        },
        "polyglot_notebook": {
          "kernelName": "csharp"
        },
        "vscode": {
          "languageId": "polyglot-notebook"
        }
      },
      "outputs": [
        {
          "name": "stdout",
          "output_type": "stream",
          "text": [
            "Loading puzzle file: Day12.txt\n",
            "Total lines: 1000\n",
            "Max line length: 32\n",
            "\n",
            "????#?#???.??.. 9,2\n",
            "?.#?????????###.?# 1,1,2,1,5,1\n",
            ".???#????#?????#?#? 1,9,4\n",
            "?#?.??.#?.??? 2,1,1,1\n",
            "?????????#?###???.?. 1,9\n"
          ]
        }
      ],
      "source": [
        "var inputLines = LoadPuzzleInput(2023, 12);\n",
        "WriteLines(inputLines);"
      ]
    },
    {
      "cell_type": "code",
      "execution_count": 4,
      "metadata": {
        "dotnet_interactive": {
          "language": "csharp"
        },
        "polyglot_notebook": {
          "kernelName": "csharp"
        },
        "vscode": {
          "languageId": "polyglot-notebook"
        }
      },
      "outputs": [
        {
          "name": "stdout",
          "output_type": "stream",
          "text": [
            "15\n"
          ]
        }
      ],
      "source": [
        "Console.WriteLine(inputLines[0].Split(\u0027 \u0027)[0].Length);"
      ]
    },
    {
      "cell_type": "code",
      "execution_count": 5,
      "metadata": {
        "dotnet_interactive": {
          "language": "csharp"
        },
        "polyglot_notebook": {
          "kernelName": "csharp"
        },
        "vscode": {
          "languageId": "polyglot-notebook"
        }
      },
      "outputs": [
        {
          "name": "stdout",
          "output_type": "stream",
          "text": [
            "0, 0, 0\n",
            "0, 0, 1\n",
            "0, 0, 2\n",
            "0, 0, 3\n",
            "0, 1, 0\n",
            "0, 1, 1\n",
            "0, 1, 2\n",
            "0, 2, 0\n",
            "0, 2, 1\n",
            "0, 3, 0\n",
            "1, 0, 0\n",
            "1, 0, 1\n",
            "1, 0, 2\n",
            "1, 1, 0\n",
            "1, 1, 1\n",
            "1, 2, 0\n",
            "2, 0, 0\n",
            "2, 0, 1\n",
            "2, 1, 0\n",
            "3, 0, 0\n"
          ]
        }
      ],
      "source": [
        "IEnumerable\u003Cint[]\u003E Shuffle(int segments, int padding, int depth) {\n",
        "    for (var i = 0; i \u003C= padding; i\u002B\u002B) \n",
        "    {\n",
        "        IEnumerable\u003Cint[]\u003E arr;\n",
        "        if (depth == 0) {\n",
        "            arr = [new int[segments]];\n",
        "        } else {\n",
        "            arr = Shuffle(segments, padding - i, depth - 1);\n",
        "        }\n",
        "\n",
        "        foreach (var a in arr) {\n",
        "            a[segments - depth - 1] = i;\n",
        "\n",
        "            yield return a;\n",
        "        }\n",
        "    }\n",
        "}\n",
        "\n",
        "foreach (var s in Shuffle(3, 3, 2)) {\n",
        "    Console.WriteLine(string.Join(\u0022, \u0022, s));\n",
        "}"
      ]
    },
    {
      "cell_type": "code",
      "execution_count": 6,
      "metadata": {
        "dotnet_interactive": {
          "language": "csharp"
        },
        "polyglot_notebook": {
          "kernelName": "csharp"
        },
        "vscode": {
          "languageId": "polyglot-notebook"
        }
      },
      "outputs": [],
      "source": [
        "record PuzzleRow(string mask, int[] segments) {\n",
        "    public override string ToString() =\u003E $\u0022PuzzleRow mask = {mask}, segments = {string.Join(\u0027,\u0027, segments)}\u0022;\n",
        "}"
      ]
    },
    {
      "cell_type": "code",
      "execution_count": 7,
      "metadata": {
        "dotnet_interactive": {
          "language": "csharp"
        },
        "polyglot_notebook": {
          "kernelName": "csharp"
        },
        "vscode": {
          "languageId": "polyglot-notebook"
        }
      },
      "outputs": [
        {
          "name": "stdout",
          "output_type": "stream",
          "text": [
            "PuzzleRow mask = ?###????????, segments = 3,2,1\n"
          ]
        }
      ],
      "source": [
        "PuzzleRow ParsePuzzleRow(string line) {\n",
        "    var maskSegments = line.Split(\u0027 \u0027);\n",
        "    var mask = maskSegments[0];\n",
        "    var segments = maskSegments[1].Split(\u0027,\u0027).Select(int.Parse).ToArray();\n",
        "\n",
        "    return new(mask, segments);\n",
        "}\n",
        "\n",
        "var testInputLine = \u0022?###???????? 3,2,1\u0022;\n",
        "Console.WriteLine(ParsePuzzleRow(testInputLine));"
      ]
    },
    {
      "cell_type": "code",
      "execution_count": 8,
      "metadata": {
        "dotnet_interactive": {
          "language": "csharp"
        },
        "polyglot_notebook": {
          "kernelName": "csharp"
        },
        "vscode": {
          "languageId": "polyglot-notebook"
        }
      },
      "outputs": [
        {
          "name": "stdout",
          "output_type": "stream",
          "text": [
            "35\n"
          ]
        }
      ],
      "source": [
        "IEnumerable\u003Cint[]\u003E Shuffle(PuzzleRow puzzleRow) {\n",
        "    var minSpace = puzzleRow.segments.Sum() \u002B puzzleRow.segments.Length - 1;\n",
        "    var padding = puzzleRow.mask.Length - minSpace;\n",
        "\n",
        "    return Shuffle(puzzleRow.segments.Length, padding, puzzleRow.segments.Length - 1);\n",
        "}\n",
        "var testInputPuzzle = ParsePuzzleRow(testInputLine);\n",
        "var testShuffleResult = Shuffle(testInputPuzzle).Count();\n",
        "\n",
        "// ?###???????? 3,2,1 - 10 arrangements\n",
        "Console.WriteLine(testShuffleResult); // We should have more than 10 right now, no validity checks"
      ]
    },
    {
      "cell_type": "code",
      "execution_count": 9,
      "metadata": {
        "dotnet_interactive": {
          "language": "csharp"
        },
        "polyglot_notebook": {
          "kernelName": "csharp"
        },
        "vscode": {
          "languageId": "polyglot-notebook"
        }
      },
      "outputs": [
        {
          "name": "stdout",
          "output_type": "stream",
          "text": [
            "1000\n",
            "54841\n"
          ]
        }
      ],
      "source": [
        "var puzzleRows = inputLines.Select(ParsePuzzleRow).ToArray();\n",
        "Console.WriteLine(puzzleRows.Length);\n",
        "\n",
        "var totalPossibleShuffles = puzzleRows.Select(p =\u003E Shuffle(p).Count()).Sum();\n",
        "Console.WriteLine(totalPossibleShuffles);"
      ]
    },
    {
      "cell_type": "code",
      "execution_count": 10,
      "metadata": {
        "dotnet_interactive": {
          "language": "csharp"
        },
        "polyglot_notebook": {
          "kernelName": "csharp"
        },
        "vscode": {
          "languageId": "polyglot-notebook"
        }
      },
      "outputs": [
        {
          "name": "stdout",
          "output_type": "stream",
          "text": [
            "###.##.#....\n",
            "###.##..#...\n",
            "###.##...#..\n",
            "###.##....#.\n",
            "###.##.....#\n",
            "###..##.#...\n",
            "###..##..#..\n",
            "###..##...#.\n",
            "###..##....#\n",
            "###...##.#..\n",
            "###...##..#.\n",
            "###...##...#\n",
            "###....##.#.\n",
            "###....##..#\n",
            "###.....##.#\n",
            ".###.##.#...\n",
            ".###.##..#..\n",
            ".###.##...#.\n",
            ".###.##....#\n",
            ".###..##.#..\n"
          ]
        }
      ],
      "source": [
        "string RenderCombo(PuzzleRow puzzleRow, int[] padding) {\n",
        "    var sb = new StringBuilder();\n",
        "\n",
        "    var segments = puzzleRow.segments;\n",
        "    var totalLength = puzzleRow.mask.Length;\n",
        "\n",
        "    foreach (var (seg, pad) in segments.Zip(padding)) {\n",
        "        for (var i = 0; i \u003C pad; i\u002B\u002B) {\n",
        "            sb.Append(\u0027.\u0027);\n",
        "        }\n",
        "        for (var i = 0; i \u003C seg; i\u002B\u002B) {\n",
        "            sb.Append(\u0027#\u0027);\n",
        "        }\n",
        "\n",
        "        if (sb.Length \u003C totalLength) {\n",
        "            sb.Append(\u0027.\u0027);\n",
        "        }\n",
        "    }\n",
        "\n",
        "    while (sb.Length \u003C totalLength) {\n",
        "        sb.Append(\u0027.\u0027);\n",
        "    }\n",
        "\n",
        "    return sb.ToString();\n",
        "}\n",
        "var testCombos = Shuffle(testInputPuzzle).Select(pad =\u003E RenderCombo(testInputPuzzle, pad));\n",
        "foreach (var combo in testCombos.Take(20)) {\n",
        "    Console.WriteLine(combo);\n",
        "}"
      ]
    },
    {
      "cell_type": "code",
      "execution_count": 11,
      "metadata": {
        "dotnet_interactive": {
          "language": "csharp"
        },
        "polyglot_notebook": {
          "kernelName": "csharp"
        },
        "vscode": {
          "languageId": "polyglot-notebook"
        }
      },
      "outputs": [
        {
          "name": "stdout",
          "output_type": "stream",
          "text": [
            ".###.##.#...\n",
            ".###.##..#..\n",
            ".###.##...#.\n",
            ".###.##....#\n",
            ".###..##.#..\n",
            ".###..##..#.\n",
            ".###..##...#\n",
            ".###...##.#.\n",
            ".###...##..#\n",
            ".###....##.#\n",
            "10\n"
          ]
        }
      ],
      "source": [
        "bool ValidMask(string combo, string mask) {\n",
        "    if (combo.Length != mask.Length) {\n",
        "        throw new Exception(\u0022Lengths should be equal\u0022);\n",
        "    }\n",
        "\n",
        "    return (combo.Zip(mask).All(ch =\u003E (ch.Item1 == ch.Item2 || ch.Item2 == \u0027?\u0027)));\n",
        "}\n",
        "\n",
        "var validTestCombos = testCombos.Where(c =\u003E ValidMask(c, testInputPuzzle.mask));\n",
        "foreach (var v in validTestCombos) {\n",
        "    Console.WriteLine(v);\n",
        "}\n",
        "\n",
        "// ?###???????? 3,2,1 - 10 arrangements\n",
        "var validCount = validTestCombos.Count();\n",
        "Console.WriteLine(validCount);"
      ]
    },
    {
      "cell_type": "code",
      "execution_count": 12,
      "metadata": {
        "dotnet_interactive": {
          "language": "csharp"
        },
        "polyglot_notebook": {
          "kernelName": "csharp"
        },
        "vscode": {
          "languageId": "polyglot-notebook"
        }
      },
      "outputs": [
        {
          "name": "stdout",
          "output_type": "stream",
          "text": [
            "7622\n"
          ]
        }
      ],
      "source": [
        "// For each row, count all of the different arrangements of operational and\n",
        "// broken springs that meet the given criteria. What is the sum of those counts?\n",
        "\n",
        "var q = from puzzle in puzzleRows\n",
        "        let shuffles = Shuffle(puzzle)\n",
        "        from padding in shuffles\n",
        "        let rendered = RenderCombo(puzzle, padding)\n",
        "        where ValidMask(rendered, puzzle.mask)\n",
        "        select rendered;\n",
        "\n",
        "var part1Answer = q.Count();\n",
        "Console.WriteLine(part1Answer);  "
      ]
    },
    {
      "cell_type": "code",
      "execution_count": 13,
      "metadata": {
        "dotnet_interactive": {
          "language": "csharp"
        },
        "polyglot_notebook": {
          "kernelName": "csharp"
        },
        "vscode": {
          "languageId": "polyglot-notebook"
        }
      },
      "outputs": [],
      "source": [
        "// 7622 is correct!\n",
        "Ensure(7622, part1Answer);"
      ]
    },
    {
      "cell_type": "markdown",
      "metadata": {
        "dotnet_interactive": {
          "language": "csharp"
        },
        "polyglot_notebook": {
          "kernelName": "csharp"
        },
        "vscode": {
          "languageId": "polyglot-notebook"
        }
      },
      "source": [
        "### --- Part Two ---\n",
        "\n",
        "Puzzle description redacted as-per Advent of Code guidelines\n",
        "\n",
        "You may find the puzzle description at: https://adventofcode.com/2023/day/12"
      ]
    },
    {
      "cell_type": "code",
      "execution_count": 15,
      "metadata": {
        "dotnet_interactive": {
          "language": "csharp"
        },
        "polyglot_notebook": {
          "kernelName": "csharp"
        },
        "vscode": {
          "languageId": "polyglot-notebook"
        }
      },
      "outputs": [
        {
          "name": "stdout",
          "output_type": "stream",
          "text": [
            "PuzzleRow mask = ?###??????????###??????????###??????????###??????????###????????, segments = 3,2,1,3,2,1,3,2,1,3,2,1,3,2,1\n"
          ]
        }
      ],
      "source": [
        "PuzzleRow UnfoldPuzzleRow(PuzzleRow input) {\n",
        "    var mask = input.mask;\n",
        "    var unfoldedMask = string.Join(\u0027?\u0027, [mask, mask, mask, mask, mask]);\n",
        "    var segments = Enumerable.Range(0, 5).SelectMany(i =\u003E input.segments).ToArray();\n",
        "\n",
        "    return new(unfoldedMask, segments);\n",
        "}\n",
        "var testUnfoldedInputPuzzle = UnfoldPuzzleRow(testInputPuzzle);\n",
        "Console.WriteLine(testUnfoldedInputPuzzle);"
      ]
    },
    {
      "cell_type": "code",
      "execution_count": 16,
      "metadata": {
        "dotnet_interactive": {
          "language": "csharp"
        },
        "polyglot_notebook": {
          "kernelName": "csharp"
        },
        "vscode": {
          "languageId": "polyglot-notebook"
        }
      },
      "outputs": [],
      "source": [
        "// This takes too long, as suspected. We\u0027ll need another way...\n",
        "// var unfoldedTestShuffleResult = Shuffle(testUnfoldedInputPuzzle).Count();\n",
        "// Console.WriteLine(unfoldedTestshuffleResult);"
      ]
    },
    {
      "cell_type": "code",
      "execution_count": 17,
      "metadata": {
        "dotnet_interactive": {
          "language": "csharp"
        },
        "polyglot_notebook": {
          "kernelName": "csharp"
        },
        "vscode": {
          "languageId": "polyglot-notebook"
        }
      },
      "outputs": [
        {
          "name": "stdout",
          "output_type": "stream",
          "text": [
            "0, 0, 0, 0\n",
            "0, 0, 0, 1\n",
            "0, 0, 0, 2\n",
            "0, 0, 0, 3\n",
            "0, 0, 0, 4\n",
            "0, 0, 1, 0\n",
            "0, 0, 1, 1\n",
            "0, 0, 1, 2\n",
            "0, 0, 1, 3\n",
            "0, 0, 2, 0\n",
            "0, 0, 2, 1\n",
            "0, 0, 2, 2\n",
            "0, 0, 3, 0\n",
            "0, 0, 3, 1\n",
            "0, 0, 4, 0\n",
            "0, 1, 0, 0\n",
            "0, 1, 0, 1\n",
            "0, 1, 0, 2\n",
            "0, 1, 0, 3\n",
            "0, 1, 1, 0\n"
          ]
        }
      ],
      "source": [
        "// Dynamic programming is most likely the way. We are performing a lot of\n",
        "// repetition of the same \u0022lower\u0022 combinations each time:\n",
        "\n",
        "foreach (var s in Shuffle(4, 4, 3).Take(20)) {\n",
        "    Console.WriteLine(string.Join(\u0022, \u0022, s));\n",
        "}"
      ]
    },
    {
      "cell_type": "code",
      "execution_count": 18,
      "metadata": {
        "dotnet_interactive": {
          "language": "csharp"
        },
        "polyglot_notebook": {
          "kernelName": "csharp"
        },
        "vscode": {
          "languageId": "polyglot-notebook"
        }
      },
      "outputs": [],
      "source": [
        "// We know that, if we reach the same point in the padding string, eg: 1,0 ===\n",
        "// 0,1, we know that the number of valid combos is the same from that point\n",
        "// onwards"
      ]
    },
    {
      "cell_type": "code",
      "execution_count": 19,
      "metadata": {
        "dotnet_interactive": {
          "language": "csharp"
        },
        "polyglot_notebook": {
          "kernelName": "csharp"
        },
        "vscode": {
          "languageId": "polyglot-notebook"
        }
      },
      "outputs": [
        {
          "name": "stdout",
          "output_type": "stream",
          "text": [
            "..##..\n"
          ]
        }
      ],
      "source": [
        "string RenderSingle(int segmentSize, int leftPadding, int rightPadding) {\n",
        "    var sb = new StringBuilder();\n",
        "    for (var i = 0; i \u003C leftPadding; i\u002B\u002B) {\n",
        "        sb.Append(\u0027.\u0027);\n",
        "    }\n",
        "\n",
        "    for (var i = 0; i \u003C segmentSize; i\u002B\u002B) {\n",
        "        sb.Append(\u0027#\u0027);\n",
        "    }\n",
        "\n",
        "    for (var i = 0; i \u003C rightPadding; i\u002B\u002B) {\n",
        "        sb.Append(\u0027.\u0027);\n",
        "    }\n",
        "\n",
        "    return sb.ToString();\n",
        "}\n",
        "Console.WriteLine(RenderSingle(2, 2, 2));\n"
      ]
    },
    {
      "cell_type": "code",
      "execution_count": 20,
      "metadata": {
        "dotnet_interactive": {
          "language": "csharp"
        },
        "polyglot_notebook": {
          "kernelName": "csharp"
        },
        "vscode": {
          "languageId": "polyglot-notebook"
        }
      },
      "outputs": [
        {
          "name": "stdout",
          "output_type": "stream",
          "text": [
            "True\n",
            "True\n"
          ]
        }
      ],
      "source": [
        "bool ValidMask2(string segment, string mask, int startPos) {\n",
        "    var maskSegment = mask.Substring(startPos, segment.Length);\n",
        "\n",
        "    return (segment.Zip(maskSegment).All(ch =\u003E (ch.Item1 == ch.Item2 || ch.Item2 == \u0027?\u0027)));\n",
        "}\n",
        "\n",
        "Console.WriteLine(ValidMask2(\u0022...##..#\u0022, \u0022...??..?\u0022, 0));\n",
        "Console.WriteLine(ValidMask2(\u0022..##..#\u0022, \u0022...??..?\u0022, 1));"
      ]
    },
    {
      "cell_type": "code",
      "execution_count": 21,
      "metadata": {
        "dotnet_interactive": {
          "language": "csharp"
        },
        "polyglot_notebook": {
          "kernelName": "csharp"
        },
        "vscode": {
          "languageId": "polyglot-notebook"
        }
      },
      "outputs": [],
      "source": [
        "using PreCalc = System.Collections.Generic.Dictionary\u003C(int startPos, int padding, int depth), long\u003E;"
      ]
    },
    {
      "cell_type": "code",
      "execution_count": 22,
      "metadata": {
        "dotnet_interactive": {
          "language": "csharp"
        },
        "polyglot_notebook": {
          "kernelName": "csharp"
        },
        "vscode": {
          "languageId": "polyglot-notebook"
        }
      },
      "outputs": [
        {
          "name": "stdout",
          "output_type": "stream",
          "text": [
            "PuzzleRow mask = ?###????????, segments = 3,2,1\n",
            "10\n"
          ]
        }
      ],
      "source": [
        "long ShuffleAndFilter(PuzzleRow puzzleRow, PreCalc preCalcs, int startPos, int padding, int depth) {\n",
        "    var key = (startPos, padding, depth);\n",
        "    if (preCalcs.TryGetValue(key, out var preCalcResult)) {\n",
        "        return preCalcResult;\n",
        "    }\n",
        "    \n",
        "    var segmentCount = puzzleRow.segments.Length;\n",
        "    var segment = puzzleRow.segments[segmentCount - 1 - depth];\n",
        "\n",
        "    long result = 0;\n",
        "    \n",
        "    for (var i = 0; i \u003C= padding; i\u002B\u002B) \n",
        "    {\n",
        "        // Given this start pos, we can render this segment and check if it is valid\n",
        "        // if so, assuming the following segments are also valid, we can add the previous sums to the total\n",
        "        \n",
        "        string renderedSegment;\n",
        "        int rightPadding = 1;\n",
        "        if (depth == 0) {\n",
        "            rightPadding = puzzleRow.mask.Length - startPos - i - segment;\n",
        "        }\n",
        "        \n",
        "        renderedSegment = RenderSingle(segment, i, rightPadding);\n",
        "\n",
        "        var maskMatch = ValidMask2(renderedSegment, puzzleRow.mask, startPos);\n",
        "\n",
        "        if (!maskMatch) {\n",
        "            continue;\n",
        "        }\n",
        "\n",
        "        // At this point the current segment / padding is valid\n",
        "\n",
        "        if (depth == 0) {\n",
        "            result\u002B\u002B;\n",
        "        } else {\n",
        "            result \u002B= ShuffleAndFilter(puzzleRow, preCalcs, startPos \u002B segment \u002B i \u002B 1, padding - i, depth - 1);\n",
        "        }\n",
        "    }\n",
        "\n",
        "    preCalcs[key] = result;\n",
        "    return result;\n",
        "}\n",
        "\n",
        "long ShuffleAndFilter(PuzzleRow puzzleRow) {\n",
        "    var minSpace = puzzleRow.segments.Sum() \u002B puzzleRow.segments.Length - 1;\n",
        "    var padding = puzzleRow.mask.Length - minSpace;\n",
        "\n",
        "    return ShuffleAndFilter(puzzleRow, new(), 0, padding, puzzleRow.segments.Length - 1);\n",
        "}\n",
        "\n",
        "Console.WriteLine(testInputPuzzle);\n",
        "Console.WriteLine(ShuffleAndFilter(testInputPuzzle))"
      ]
    },
    {
      "cell_type": "code",
      "execution_count": 23,
      "metadata": {
        "dotnet_interactive": {
          "language": "csharp"
        },
        "polyglot_notebook": {
          "kernelName": "csharp"
        },
        "vscode": {
          "languageId": "polyglot-notebook"
        }
      },
      "outputs": [
        {
          "name": "stdout",
          "output_type": "stream",
          "text": [
            "7622\n"
          ]
        }
      ],
      "source": [
        "var doubleCheck = puzzleRows.Select(ShuffleAndFilter).Sum();\n",
        "Console.WriteLine(doubleCheck);"
      ]
    },
    {
      "cell_type": "code",
      "execution_count": 24,
      "metadata": {
        "dotnet_interactive": {
          "language": "csharp"
        },
        "polyglot_notebook": {
          "kernelName": "csharp"
        },
        "vscode": {
          "languageId": "polyglot-notebook"
        }
      },
      "outputs": [
        {
          "name": "stdout",
          "output_type": "stream",
          "text": [
            "PuzzleRow mask = ?###????????, segments = 3,2,1\n",
            "PuzzleRow mask = ?###??????????###??????????###??????????###??????????###????????, segments = 3,2,1,3,2,1,3,2,1,3,2,1,3,2,1\n",
            "506250\n"
          ]
        }
      ],
      "source": [
        "// Try this one again\n",
        "\n",
        "Console.WriteLine(testInputPuzzle);\n",
        "Console.WriteLine(testUnfoldedInputPuzzle);\n",
        "\n",
        "// ?###???????? 3,2,1 - 506250 arrangements\n",
        "var unfoldedTestShuffleResult = ShuffleAndFilter(testUnfoldedInputPuzzle);\n",
        "Console.WriteLine(unfoldedTestShuffleResult);"
      ]
    },
    {
      "cell_type": "code",
      "execution_count": 25,
      "metadata": {
        "dotnet_interactive": {
          "language": "csharp"
        },
        "polyglot_notebook": {
          "kernelName": "csharp"
        },
        "vscode": {
          "languageId": "polyglot-notebook"
        }
      },
      "outputs": [
        {
          "name": "stdout",
          "output_type": "stream",
          "text": [
            "4964259839627\n"
          ]
        }
      ],
      "source": [
        "// Unfold your condition records; what is the new sum of possible arrangement counts?\n",
        "var unfoldedPuzzleRows = puzzleRows.Select(UnfoldPuzzleRow).ToArray();\n",
        "var part2Answer = unfoldedPuzzleRows.Select(ShuffleAndFilter).Sum();\n",
        "Console.WriteLine(part2Answer);"
      ]
    },
    {
      "cell_type": "code",
      "execution_count": 26,
      "metadata": {
        "dotnet_interactive": {
          "language": "csharp"
        },
        "polyglot_notebook": {
          "kernelName": "csharp"
        },
        "vscode": {
          "languageId": "polyglot-notebook"
        }
      },
      "outputs": [],
      "source": [
        "// 4964259839627 is correct!\n",
        "Ensure(4964259839627, part2Answer);"
      ]
    }
  ],
  "metadata": {
    "kernelspec": {
      "display_name": ".NET (C#)",
      "language": "C#",
      "name": ".net-csharp"
    },
    "language_info": {
      "name": "python"
    },
    "polyglot_notebook": {
      "kernelInfo": {
        "defaultKernelName": "csharp",
        "items": [
          {
            "aliases": [],
            "name": "csharp"
          }
        ]
      }
    }
  },
  "nbformat": 4,
  "nbformat_minor": 2
}