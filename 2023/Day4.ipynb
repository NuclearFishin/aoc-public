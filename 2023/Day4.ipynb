{
  "cells": [
    {
      "cell_type": "code",
      "execution_count": 1,
      "metadata": {
        "dotnet_interactive": {
          "language": "csharp"
        },
        "polyglot_notebook": {
          "kernelName": "csharp"
        },
        "vscode": {
          "languageId": "polyglot-notebook"
        }
      },
      "outputs": [],
      "source": [
        "// --- Day 4: Scratchcards ---\n",
        "\n",
        "// Puzzle description redacted as-per Advent of Code guidelines\n",
        "\n",
        "// You may find the puzzle description at: https://adventofcode.com/2023/day/4"
      ]
    },
    {
      "cell_type": "code",
      "execution_count": 2,
      "metadata": {
        "dotnet_interactive": {
          "language": "csharp"
        },
        "polyglot_notebook": {
          "kernelName": "csharp"
        },
        "vscode": {
          "languageId": "polyglot-notebook"
        }
      },
      "outputs": [],
      "source": [
        "#!import ../Utils.ipynb"
      ]
    },
    {
      "cell_type": "code",
      "execution_count": 3,
      "metadata": {
        "dotnet_interactive": {
          "language": "csharp"
        },
        "polyglot_notebook": {
          "kernelName": "csharp"
        },
        "vscode": {
          "languageId": "polyglot-notebook"
        }
      },
      "outputs": [
        {
          "name": "stdout",
          "output_type": "stream",
          "text": [
            "Loading puzzle file: Day4.txt\n",
            "Total lines: 192\n",
            "Max line length: 116\n",
            "\n",
            "Card   1: 26 36 90  2 75 32  3 21 59 18 | 47 97 83 82 43  7 61 73 57  2 67 31 69 11 44 38 23 52 10 21 45 36 86 49 14\n",
            "Card   2: 45 10 54 17 15 38 59 96 25 32 | 17 12 77 87 29 70 38 96 15 54 86 64 32 10 28 59 24 45 65 81 42 25 98 14 60\n",
            "Card   3: 37 31 21 71 80 76 91 77 64 69 | 90 71 91 13  2 40 83 22 45 31 69 53 77 27 97 35  4 55 14  9 52 21 16 19 63\n",
            "Card   4: 16 82 44 42 51 11 86 14 92 47 | 44 61 81 88 15 11 76 42 17 98 48 83 14 92 99 16 82 86 56 47 10 66 13 22 51\n",
            "Card   5: 83 84 64 81 97 88 96 59 92 25 | 52 65 98 86 75 48 96 60 56 33 76 81 29 44 97 82 59 64 88 25 23 92 37 84 83\n"
          ]
        }
      ],
      "source": [
        "var inputLines = LoadPuzzleInput(2023, 4);\n",
        "WriteLines(inputLines);"
      ]
    },
    {
      "cell_type": "code",
      "execution_count": 4,
      "metadata": {
        "dotnet_interactive": {
          "language": "csharp"
        },
        "polyglot_notebook": {
          "kernelName": "csharp"
        },
        "vscode": {
          "languageId": "polyglot-notebook"
        }
      },
      "outputs": [
        {
          "name": "stdout",
          "output_type": "stream",
          "text": [
            "4\n"
          ]
        }
      ],
      "source": [
        "int ParseLine(string line) {\n",
        "    var winningBit = line.Substring(10, 10 * 2 \u002B 9);\n",
        "    var cardNumbers = line.Substring(42, line.Length - 42);\n",
        "\n",
        "    var winningSet = winningBit.Split(\u0027 \u0027, StringSplitOptions.RemoveEmptyEntries).Select(n =\u003E int.Parse(n)).ToHashSet();\n",
        "    var cardNumSet = cardNumbers.Split(\u0027 \u0027, StringSplitOptions.RemoveEmptyEntries).Select(n =\u003E int.Parse(n));\n",
        "\n",
        "    winningSet.IntersectWith(cardNumSet);\n",
        "    \n",
        "    if (!winningSet.Any()) {\n",
        "        return 0;\n",
        "    }\n",
        "\n",
        "    return winningSet.Skip(1).Aggregate(1, (a, b) =\u003E a * 2);\n",
        "}\n",
        "\n",
        "Console.WriteLine(ParseLine(inputLines[0]));"
      ]
    },
    {
      "cell_type": "code",
      "execution_count": 5,
      "metadata": {
        "dotnet_interactive": {
          "language": "csharp"
        },
        "polyglot_notebook": {
          "kernelName": "csharp"
        },
        "vscode": {
          "languageId": "polyglot-notebook"
        }
      },
      "outputs": [
        {
          "name": "stdout",
          "output_type": "stream",
          "text": [
            "21213\n"
          ]
        }
      ],
      "source": [
        "var parsedLines = inputLines.Select(ParseLine);\n",
        "var part1Answer = parsedLines.Sum();\n",
        "Console.WriteLine(part1Answer);"
      ]
    },
    {
      "cell_type": "code",
      "execution_count": 6,
      "metadata": {
        "dotnet_interactive": {
          "language": "csharp"
        },
        "polyglot_notebook": {
          "kernelName": "csharp"
        },
        "vscode": {
          "languageId": "polyglot-notebook"
        }
      },
      "outputs": [],
      "source": [
        "// 21213 is correct!\n",
        "Ensure(21213, part1Answer);"
      ]
    },
    {
      "cell_type": "code",
      "execution_count": 7,
      "metadata": {
        "dotnet_interactive": {
          "language": "csharp"
        },
        "polyglot_notebook": {
          "kernelName": "csharp"
        },
        "vscode": {
          "languageId": "polyglot-notebook"
        }
      },
      "outputs": [],
      "source": [
        "// --- Part Two ---\n",
        "\n",
        "// Puzzle description redacted as-per Advent of Code guidelines\n",
        "\n",
        "// You may find the puzzle description at: https://adventofcode.com/2023/day/4"
      ]
    },
    {
      "cell_type": "code",
      "execution_count": 8,
      "metadata": {
        "dotnet_interactive": {
          "language": "csharp"
        },
        "polyglot_notebook": {
          "kernelName": "csharp"
        },
        "vscode": {
          "languageId": "polyglot-notebook"
        }
      },
      "outputs": [],
      "source": [
        "int ParseLine2(string line) {\n",
        "    var winningBit = line.Substring(10, 10 * 2 \u002B 9);\n",
        "    var cardNumbers = line.Substring(42, line.Length - 42);\n",
        "\n",
        "    var winningSet = winningBit.Split(\u0027 \u0027, StringSplitOptions.RemoveEmptyEntries).Select(n =\u003E int.Parse(n)).ToHashSet();\n",
        "    var cardNumSet = cardNumbers.Split(\u0027 \u0027, StringSplitOptions.RemoveEmptyEntries).Select(n =\u003E int.Parse(n));\n",
        "\n",
        "    winningSet.IntersectWith(cardNumSet);\n",
        "    \n",
        "    return winningSet.Count();\n",
        "}"
      ]
    },
    {
      "cell_type": "code",
      "execution_count": 9,
      "metadata": {
        "dotnet_interactive": {
          "language": "csharp"
        },
        "polyglot_notebook": {
          "kernelName": "csharp"
        },
        "vscode": {
          "languageId": "polyglot-notebook"
        }
      },
      "outputs": [
        {
          "name": "stdout",
          "output_type": "stream",
          "text": [
            "8549735\n"
          ]
        }
      ],
      "source": [
        "Dictionary\u003Cint, int\u003E results = new();\n",
        "\n",
        "for (var i = inputLines.Length - 1; i \u003E= 0; i--)\n",
        "{\n",
        "    var line = inputLines[i];\n",
        "    var lineProcessed = 1;\n",
        "    \n",
        "    var winCopies = ParseLine2(line);\n",
        "\n",
        "    foreach (var iWin in Enumerable.Range(1, winCopies))\n",
        "    {\n",
        "        lineProcessed \u002B= results[i \u002B iWin];\n",
        "    }\n",
        "\n",
        "    results[i] = lineProcessed;\n",
        "}\n",
        "\n",
        "// Process all of the original and copied scratchcards until no more\n",
        "// scratchcards are won. Including the original set of scratchcards, how many total\n",
        "// scratchcards do you end up with?\n",
        "\n",
        "var part2Answer = results.Values.Sum();\n",
        "Console.WriteLine(part2Answer);"
      ]
    },
    {
      "cell_type": "code",
      "execution_count": 10,
      "metadata": {
        "dotnet_interactive": {
          "language": "csharp"
        },
        "polyglot_notebook": {
          "kernelName": "csharp"
        },
        "vscode": {
          "languageId": "polyglot-notebook"
        }
      },
      "outputs": [],
      "source": [
        "// 8549735 is correct!\n",
        "Ensure(8549735, part2Answer);"
      ]
    }
  ],
  "metadata": {
    "kernelspec": {
      "display_name": ".NET (C#)",
      "language": "C#",
      "name": ".net-csharp"
    },
    "language_info": {
      "name": "python"
    },
    "polyglot_notebook": {
      "kernelInfo": {
        "defaultKernelName": "csharp",
        "items": [
          {
            "aliases": [],
            "name": "csharp"
          }
        ]
      }
    }
  },
  "nbformat": 4,
  "nbformat_minor": 2
}