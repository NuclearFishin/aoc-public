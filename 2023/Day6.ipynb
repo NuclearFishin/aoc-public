{
  "cells": [
    {
      "cell_type": "markdown",
      "execution_count": 1,
      "metadata": {
        "dotnet_interactive": {
          "language": "csharp"
        },
        "polyglot_notebook": {
          "kernelName": "csharp"
        },
        "vscode": {
          "languageId": "polyglot-notebook"
        }
      },
      "source": [
        "### --- Day 6: Wait For It ---\n",
        "\n",
        "Puzzle description redacted as-per Advent of Code guidelines\n",
        "\n",
        "You may find the puzzle description at: https://adventofcode.com/2023/day/6"
      ]
    },
    {
      "cell_type": "code",
      "execution_count": 2,
      "metadata": {
        "dotnet_interactive": {
          "language": "csharp"
        },
        "polyglot_notebook": {
          "kernelName": "csharp"
        },
        "vscode": {
          "languageId": "polyglot-notebook"
        }
      },
      "outputs": [],
      "source": [
        "#!import ../Utils.ipynb"
      ]
    },
    {
      "cell_type": "code",
      "execution_count": 3,
      "metadata": {
        "dotnet_interactive": {
          "language": "csharp"
        },
        "polyglot_notebook": {
          "kernelName": "csharp"
        },
        "vscode": {
          "languageId": "polyglot-notebook"
        }
      },
      "outputs": [
        {
          "name": "stdout",
          "output_type": "stream",
          "text": [
            "Loading puzzle file: Day6.txt\n",
            "Total lines: 2\n",
            "Max line length: 36\n",
            "\n",
            "Input redacted as it\u0027s only 2 lines long\n"
          ]
        }
      ],
      "source": [
        "var inputLines = LoadPuzzleInput(2023, 6);\n",
        "// WriteLines(inputLines);\n",
        "Console.WriteLine(\u0022Input redacted as it\u0027s only 2 lines long\u0022);"
      ]
    },
    {
      "cell_type": "code",
      "execution_count": 4,
      "metadata": {
        "dotnet_interactive": {
          "language": "csharp"
        },
        "polyglot_notebook": {
          "kernelName": "csharp"
        },
        "vscode": {
          "languageId": "polyglot-notebook"
        }
      },
      "outputs": [
        {
          "name": "stdout",
          "output_type": "stream",
          "text": [
            "12\n"
          ]
        }
      ],
      "source": [
        "int DoRace(int totalTime, int chargeTime) \n",
        "{\n",
        "    var remain = totalTime - chargeTime;\n",
        "    return remain * chargeTime;\n",
        "}\n",
        "\n",
        "// Hold the button for 3 milliseconds. After its remaining 4 milliseconds of travel time, the boat will have gone 12 millimeters.\n",
        "Console.WriteLine(DoRace(7, 3));"
      ]
    },
    {
      "cell_type": "code",
      "execution_count": 5,
      "metadata": {
        "dotnet_interactive": {
          "language": "csharp"
        },
        "polyglot_notebook": {
          "kernelName": "csharp"
        },
        "vscode": {
          "languageId": "polyglot-notebook"
        }
      },
      "outputs": [
        {
          "name": "stdout",
          "output_type": "stream",
          "text": [
            "3317888\n"
          ]
        }
      ],
      "source": [
        "var timeStr = inputLines[0].Substring(12).Split(\u0027 \u0027, StringSplitOptions.RemoveEmptyEntries).Select(int.Parse).ToArray();\n",
        "var recordStr = inputLines[1].Substring(12).Split(\u0027 \u0027, StringSplitOptions.RemoveEmptyEntries).Select(int.Parse).ToArray();\n",
        "\n",
        "var games = timeStr.Zip(recordStr);\n",
        "\n",
        "// Determine the number of ways you could beat the record in each race. What do you get if you multiply these numbers together?\n",
        "int GetWins((int, int) game) {\n",
        "    var (time, rec) = game;\n",
        "    return Enumerable.Range(0, time).Select(t =\u003E DoRace(time, t)).Where(distance =\u003E distance \u003E rec).Count();\n",
        "}\n",
        "\n",
        "var part1Answer = games.Select(GetWins).Aggregate(1, (a, b) =\u003E a * b);\n",
        "Console.WriteLine(part1Answer);\n"
      ]
    },
    {
      "cell_type": "code",
      "execution_count": 6,
      "metadata": {
        "dotnet_interactive": {
          "language": "csharp"
        },
        "polyglot_notebook": {
          "kernelName": "csharp"
        },
        "vscode": {
          "languageId": "polyglot-notebook"
        }
      },
      "outputs": [],
      "source": [
        "// 3317888 is correct!\n",
        "Ensure(3317888, part1Answer);"
      ]
    },
    {
      "cell_type": "markdown",
      "execution_count": 7,
      "metadata": {
        "dotnet_interactive": {
          "language": "csharp"
        },
        "polyglot_notebook": {
          "kernelName": "csharp"
        },
        "vscode": {
          "languageId": "polyglot-notebook"
        }
      },
      "source": [
        "### --- Part Two ---\n",
        "\n",
        "Puzzle description redacted as-per Advent of Code guidelines\n",
        "\n",
        "You may find the puzzle description at: https://adventofcode.com/2023/day/6"
      ]
    },
    {
      "cell_type": "code",
      "execution_count": 8,
      "metadata": {
        "dotnet_interactive": {
          "language": "csharp"
        },
        "polyglot_notebook": {
          "kernelName": "csharp"
        },
        "vscode": {
          "languageId": "polyglot-notebook"
        }
      },
      "outputs": [
        {
          "name": "stdout",
          "output_type": "stream",
          "text": [
            "42899189\n"
          ]
        }
      ],
      "source": [
        "var time2 = int.Parse(inputLines[0].Substring(12).Replace(\u0022 \u0022, string.Empty));\n",
        "var distance2 = Int64.Parse(inputLines[1].Substring(12).Replace(\u0022 \u0022, string.Empty));\n",
        "\n",
        "Console.WriteLine(time2);"
      ]
    },
    {
      "cell_type": "code",
      "execution_count": 9,
      "metadata": {
        "dotnet_interactive": {
          "language": "csharp"
        },
        "polyglot_notebook": {
          "kernelName": "csharp"
        },
        "vscode": {
          "languageId": "polyglot-notebook"
        }
      },
      "outputs": [
        {
          "name": "stdout",
          "output_type": "stream",
          "text": [
            "24655068\n"
          ]
        }
      ],
      "source": [
        "// How many ways can you beat the record in this one much longer race?\n",
        "\n",
        "Int64 DoRace2(int totalTime, int chargeTime) \n",
        "{\n",
        "    Int64 remain = totalTime - chargeTime;\n",
        "    return remain * chargeTime;\n",
        "}\n",
        "\n",
        "int GetWins2(int time, Int64 rec) {\n",
        "    return Enumerable.Range(0, time).Select(t =\u003E DoRace2(time, t)).Where(distance =\u003E distance \u003E rec).Count();\n",
        "}\n",
        "\n",
        "var part2Answer = GetWins2(time2, distance2);\n",
        "Console.WriteLine(part2Answer);"
      ]
    },
    {
      "cell_type": "code",
      "execution_count": 10,
      "metadata": {
        "dotnet_interactive": {
          "language": "csharp"
        },
        "polyglot_notebook": {
          "kernelName": "csharp"
        },
        "vscode": {
          "languageId": "polyglot-notebook"
        }
      },
      "outputs": [],
      "source": [
        "// 24655068 is correct!\n",
        "Ensure(24655068, part2Answer);"
      ]
    }
  ],
  "metadata": {
    "kernelspec": {
      "display_name": ".NET (C#)",
      "language": "C#",
      "name": ".net-csharp"
    },
    "language_info": {
      "name": "python"
    },
    "polyglot_notebook": {
      "kernelInfo": {
        "defaultKernelName": "csharp",
        "items": [
          {
            "aliases": [],
            "name": "csharp"
          }
        ]
      }
    }
  },
  "nbformat": 4,
  "nbformat_minor": 2
}