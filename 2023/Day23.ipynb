{
  "cells": [
    {
      "cell_type": "code",
      "execution_count": 1,
      "metadata": {
        "dotnet_interactive": {
          "language": "csharp"
        },
        "polyglot_notebook": {
          "kernelName": "csharp"
        },
        "vscode": {
          "languageId": "polyglot-notebook"
        }
      },
      "outputs": [],
      "source": [
        "// --- Day 23: A Long Walk ---\n",
        "\n",
        "// Puzzle description redacted as-per Advent of Code guidelines\n",
        "\n",
        "// You may find the puzzle description at: https://adventofcode.com/2023/day/23"
      ]
    },
    {
      "cell_type": "code",
      "execution_count": 2,
      "metadata": {
        "dotnet_interactive": {
          "language": "csharp"
        },
        "polyglot_notebook": {
          "kernelName": "csharp"
        },
        "vscode": {
          "languageId": "polyglot-notebook"
        }
      },
      "outputs": [],
      "source": [
        "#!import ../Utils.ipynb"
      ]
    },
    {
      "cell_type": "code",
      "execution_count": 3,
      "metadata": {
        "dotnet_interactive": {
          "language": "csharp"
        },
        "polyglot_notebook": {
          "kernelName": "csharp"
        },
        "vscode": {
          "languageId": "polyglot-notebook"
        }
      },
      "outputs": [
        {
          "name": "stdout",
          "output_type": "stream",
          "text": [
            "Loading puzzle file: Day23.txt\n",
            "Total lines: 141\n",
            "Max line length: 141\n",
            "\n",
            "#.###########################################################################################################################################\n",
            "#...###...#...#.......#...#.....#.........#...#...#...#...#...#.....#...#.......#...#...#.......#.....#...........#.....#...###...#.....#...#\n",
            "###.###.#.#.#.#.#####.#.#.#.###.#.#######.#.#.#.#.#.#.#.#.#.#.#.###.#.#.#.#####.#.#.#.#.#.#####.#.###.#.#########.#.###.#.#.###.#.#.###.#.#.#\n",
            "#...#...#...#.#.#.....#.#.#...#.#.......#.#.#.#.#.#.#.#.#.#.#.#.#...#.#.#...#...#.#.#.#.#.#.....#.#...#.........#.#...#.#.#...#.#.#...#.#.#.#\n",
            "#.###.#######.#.#v#####.#.###.#.#######.#.#.#.#.#.#.#.#.#.#.#.#.#.###.#.###.#.###.#.#.#.#.#.#####.#.###########.#.###.#.#.###.#.#.###.#.#.#.#\n"
          ]
        }
      ],
      "source": [
        "var inputLines = LoadPuzzleInput(2023, 23);\n",
        "WriteLines(inputLines);"
      ]
    },
    {
      "cell_type": "code",
      "execution_count": 4,
      "metadata": {
        "dotnet_interactive": {
          "language": "csharp"
        },
        "polyglot_notebook": {
          "kernelName": "csharp"
        },
        "vscode": {
          "languageId": "polyglot-notebook"
        }
      },
      "outputs": [],
      "source": [
        "string[] testInputLines = [\n",
        "    \u0022#.#####################\u0022,\n",
        "    \u0022#.......#########...###\u0022,\n",
        "    \u0022#######.#########.#.###\u0022,\n",
        "    \u0022###.....#.\u003E.\u003E.###.#.###\u0022,\n",
        "    \u0022###v#####.#v#.###.#.###\u0022,\n",
        "    \u0022###.\u003E...#.#.#.....#...#\u0022,\n",
        "    \u0022###v###.#.#.#########.#\u0022,\n",
        "    \u0022###...#.#.#.......#...#\u0022,\n",
        "    \u0022#####.#.#.#######.#.###\u0022,\n",
        "    \u0022#.....#.#.#.......#...#\u0022,\n",
        "    \u0022#.#####.#.#.#########v#\u0022,\n",
        "    \u0022#.#...#...#...###...\u003E.#\u0022,\n",
        "    \u0022#.#.#v#######v###.###v#\u0022,\n",
        "    \u0022#...#.\u003E.#...\u003E.\u003E.#.###.#\u0022,\n",
        "    \u0022#####v#.#.###v#.#.###.#\u0022,\n",
        "    \u0022#.....#...#...#.#.#...#\u0022,\n",
        "    \u0022#.#########.###.#.#.###\u0022,\n",
        "    \u0022#...###...#...#...#.###\u0022,\n",
        "    \u0022###.###.#.###v#####v###\u0022,\n",
        "    \u0022#...#...#.#.\u003E.\u003E.#.\u003E.###\u0022,\n",
        "    \u0022#.###.###.#.###.#.#v###\u0022,\n",
        "    \u0022#.....###...###...#...#\u0022,\n",
        "    \u0022#####################.#\u0022,\n",
        "];"
      ]
    },
    {
      "cell_type": "code",
      "execution_count": 5,
      "metadata": {
        "dotnet_interactive": {
          "language": "csharp"
        },
        "polyglot_notebook": {
          "kernelName": "csharp"
        },
        "vscode": {
          "languageId": "polyglot-notebook"
        }
      },
      "outputs": [],
      "source": [
        "record Point(int x, int y) \n",
        "{\n",
        "    public Point Up() =\u003E new(x, y - 1);\n",
        "    public Point Down() =\u003E new(x, y \u002B 1);\n",
        "    public Point Left() =\u003E new(x - 1, y);\n",
        "    public Point Right() =\u003E new(x \u002B 1, y);   \n",
        "}\n",
        "\n",
        "record Tile(Point point, char type);"
      ]
    },
    {
      "cell_type": "code",
      "execution_count": 6,
      "metadata": {
        "dotnet_interactive": {
          "language": "csharp"
        },
        "polyglot_notebook": {
          "kernelName": "csharp"
        },
        "vscode": {
          "languageId": "polyglot-notebook"
        }
      },
      "outputs": [],
      "source": [
        "// A full journey; every step from start to end\n",
        "class HikeJourney(HashSet\u003CPoint\u003E steps, Point start, Point end)\n",
        "{\n",
        "    public HashSet\u003CPoint\u003E Steps =\u003E steps;\n",
        "\n",
        "    public Point Start =\u003E start;\n",
        "\n",
        "    public Point End =\u003E end;\n",
        "\n",
        "    public int Distance =\u003E Steps.Count - 1; \n",
        "\n",
        "    public HikeJourney AddStep(Point step)\n",
        "    {\n",
        "        HashSet\u003CPoint\u003E newSteps = new(Steps);\n",
        "        newSteps.Add(step);\n",
        "        return new(newSteps, Start, step);\n",
        "    }\n",
        "}\n",
        "\n",
        "// A summarisation of a journey, having decomposed the\n",
        "// tile map into a graph of paths / junctions (nodes). \n",
        "// Required to efficiently search the map in part 2\n",
        "class NodeWalk\n",
        "{\n",
        "    public Point Current { get; }\n",
        "    public int Distance { get; init; }\n",
        "    public HashSet\u003CPoint\u003E VisitedNodes { get; }\n",
        "    List\u003CHikeJourney\u003E Journeys { get; }\n",
        "\n",
        "    public NodeWalk(Point start)\n",
        "    {\n",
        "        Current = start;\n",
        "        Distance = 0;\n",
        "        VisitedNodes = [start];\n",
        "        Journeys = new();\n",
        "    }\n",
        "\n",
        "    public NodeWalk AddJourney(HikeJourney journey) =\u003E new(this, journey);\n",
        "\n",
        "    NodeWalk(NodeWalk current, HikeJourney journey)\n",
        "    {\n",
        "        Current = journey.End;\n",
        "        Distance = current.Distance \u002B journey.Distance;\n",
        "        VisitedNodes = new(current.VisitedNodes.Append(journey.End));\n",
        "        Journeys = new(current.Journeys.Append(journey));\n",
        "    }\n",
        "\n",
        "    public HikeJourney ToJourney()\n",
        "    {\n",
        "        HashSet\u003CPoint\u003E allSteps = new(Journeys.SelectMany(j =\u003E j.Steps));\n",
        "        var j = new HikeJourney(allSteps, Journeys.First().Start, Journeys.Last().End);\n",
        "        return j;\n",
        "    }\n",
        "}\n",
        "\n",
        "class HikeSim \n",
        "{\n",
        "    protected Dictionary\u003CPoint, Tile\u003E tiles;\n",
        "    private Point startPoint;\n",
        "    private Point endPoint;\n",
        "    protected int xMax;\n",
        "    protected int yMax;\n",
        "\n",
        "    public HikeSim(string[] inputLines)\n",
        "    {\n",
        "        var rows = inputLines.Length;\n",
        "        var cols = inputLines[0].Length;\n",
        "\n",
        "        tiles = new(rows * cols);\n",
        "\n",
        "        for (var row = 0; row \u003C rows; row\u002B\u002B)\n",
        "        {\n",
        "            var rowStr = inputLines[row];\n",
        "            for (var col = 0; col \u003C cols; col\u002B\u002B) {\n",
        "                Point tilePoint = new(col, row);\n",
        "                Tile tile = new(tilePoint, rowStr[col]);\n",
        "\n",
        "                tiles[tilePoint] = tile;\n",
        "            }\n",
        "        }\n",
        "\n",
        "        xMax = cols;\n",
        "        yMax = rows;\n",
        "\n",
        "        startPoint = new(1, 0); // Same in sample and actual\n",
        "\n",
        "        var endRow = yMax - 1;\n",
        "        var endCol = inputLines[endRow].IndexOf(\u0027.\u0027); // Assume only one point available on end row\n",
        "        endPoint = new(endCol, endRow);\n",
        "    }\n",
        "\n",
        "    public NodeWalk FindLongest()\n",
        "    {\n",
        "        var allPaths = DiscoverAllPaths();\n",
        "        \n",
        "        Queue\u003CNodeWalk\u003E queue = new();\n",
        "\n",
        "        var initial = new NodeWalk(startPoint);\n",
        "        var longest = initial;\n",
        "        queue.Enqueue(initial);\n",
        "\n",
        "        int processed = 0;\n",
        "        while (queue.TryDequeue(out var nodeWalk))\n",
        "        {\n",
        "            processed\u002B\u002B;\n",
        "            if (processed % 1_000_000 == 0)\n",
        "            {\n",
        "                Console.WriteLine($\u0022Processed {processed} steps. Queue length: {queue.Count}\u0022);\n",
        "            }\n",
        "\n",
        "            if (nodeWalk.Current == endPoint)\n",
        "            {\n",
        "                if (nodeWalk.Distance \u003E longest.Distance)\n",
        "                {\n",
        "                    longest = nodeWalk;\n",
        "                    Console.WriteLine($\u0022New longest steps found at {longest.Distance} steps.\u0022);\n",
        "                }\n",
        "            }\n",
        "            else\n",
        "            {\n",
        "                var nextJourneys = allPaths[nodeWalk.Current];\n",
        "                foreach (var nextJourney in nextJourneys)\n",
        "                {\n",
        "                    if (!nodeWalk.VisitedNodes.Contains(nextJourney.End))\n",
        "                    {\n",
        "                        var newWalk = nodeWalk.AddJourney(nextJourney);\n",
        "                        queue.Enqueue(newWalk);\n",
        "                    }\n",
        "                }\n",
        "            }\n",
        "        }\n",
        "\n",
        "        return longest;\n",
        "    }\n",
        "\n",
        "    // Discover all paths from a given point to next junctions / terminations\n",
        "    Dictionary\u003CPoint, List\u003CHikeJourney\u003E\u003E DiscoverAllPaths()\n",
        "    {\n",
        "        Dictionary\u003CPoint, List\u003CHikeJourney\u003E\u003E allPaths = new();\n",
        "        \n",
        "        Queue\u003CPoint\u003E queue = new();\n",
        "        queue.Enqueue(startPoint);\n",
        "        allPaths[startPoint] = new();\n",
        "\n",
        "        while (queue.TryDequeue(out var node))\n",
        "        {\n",
        "            foreach (var next in DiscoverPaths(node))\n",
        "            {\n",
        "                allPaths[node].Add(next);\n",
        "                \n",
        "                if (!allPaths.Keys.Contains(next.End))\n",
        "                {\n",
        "                    queue.Enqueue(next.End);\n",
        "                    allPaths[next.End] = new();\n",
        "                }\n",
        "            }\n",
        "        }\n",
        "\n",
        "        return allPaths;\n",
        "    }\n",
        "\n",
        "    IEnumerable\u003CHikeJourney\u003E DiscoverPaths(Point node)\n",
        "    {\n",
        "        foreach (var nodeStep in GetValidOptions(node))\n",
        "        {\n",
        "            HikeJourney currentJourney = new([node, nodeStep], node, nodeStep);\n",
        "\n",
        "            while (true)\n",
        "            {\n",
        "                // Keep walking along the path until we hit the end or a junction\n",
        "                List\u003CPoint\u003E options = new();\n",
        "                foreach (var opt in GetValidOptions(currentJourney.End))\n",
        "                {\n",
        "                    var alreadyStepped = currentJourney.Steps.Contains(opt);\n",
        "                    if (alreadyStepped) continue;\n",
        "                    \n",
        "                    options.Add(opt);\n",
        "                }\n",
        "\n",
        "                if (options.Count == 1)\n",
        "                {\n",
        "                    // Continuation of the current path\n",
        "                    currentJourney = currentJourney.AddStep(options[0]);\n",
        "                }\n",
        "                else\n",
        "                {\n",
        "                    // We have reached the end of this path\n",
        "                    yield return currentJourney;\n",
        "                    break;\n",
        "                }\n",
        "            }\n",
        "        }\n",
        "    }\n",
        "\n",
        "    protected IEnumerable\u003CPoint\u003E GetValidOptions(Point point)\n",
        "    {\n",
        "        foreach (var opt in GetOptions(point))\n",
        "        {\n",
        "            var inBounds = opt switch \n",
        "            {\n",
        "                {x: \u003C 0} =\u003E false,\n",
        "                {y: \u003C 0} =\u003E false,\n",
        "                var p when p.x \u003E= xMax =\u003E false,\n",
        "                var p when p.y \u003E= yMax =\u003E false,\n",
        "                _ =\u003E true\n",
        "            };\n",
        "\n",
        "            if (!inBounds) continue;\n",
        "\n",
        "            var canStep = tiles[opt].type != \u0027#\u0027;\n",
        "            if (!canStep) continue;\n",
        "\n",
        "            yield return opt;\n",
        "        }\n",
        "    }\n",
        "\n",
        "    protected virtual IEnumerable\u003CPoint\u003E GetOptions(Point p)\n",
        "    {\n",
        "        // There\u0027s a map of nearby hiking trails (your puzzle input) that\n",
        "        // indicates paths (.), forest (#), and steep slopes (^, \u003E, v, and \u003C).\n",
        "        \n",
        "        var tile = tiles[p];\n",
        "\n",
        "        return tile.type switch \n",
        "        {\n",
        "            \u0027.\u0027 =\u003E [p.Up(), p.Down(), p.Left(), p.Right()],\n",
        "            \u0027^\u0027 =\u003E [p.Up()],\n",
        "            \u0027\u003E\u0027 =\u003E [p.Right()],\n",
        "            \u0027\u003C\u0027 =\u003E [p.Left()],\n",
        "            \u0027v\u0027 =\u003E [p.Down()],\n",
        "            _ =\u003E []\n",
        "        };\n",
        "    }\n",
        "}"
      ]
    },
    {
      "cell_type": "code",
      "execution_count": 7,
      "metadata": {
        "dotnet_interactive": {
          "language": "csharp"
        },
        "polyglot_notebook": {
          "kernelName": "csharp"
        },
        "vscode": {
          "languageId": "polyglot-notebook"
        }
      },
      "outputs": [
        {
          "name": "stdout",
          "output_type": "stream",
          "text": [
            "New longest steps found at 90 steps.\n",
            "New longest steps found at 94 steps.\n",
            "94\n"
          ]
        }
      ],
      "source": [
        "// This hike contains 94 steps. (The other possible hikes you could have taken were 90, 86, 82, 82, and 74 steps long.)\n",
        "\n",
        "var testInputHike = new HikeSim(testInputLines);\n",
        "var testInputResult = testInputHike.FindLongest();\n",
        "Console.WriteLine(testInputResult.Distance);"
      ]
    },
    {
      "cell_type": "code",
      "execution_count": 8,
      "metadata": {
        "dotnet_interactive": {
          "language": "csharp"
        },
        "polyglot_notebook": {
          "kernelName": "csharp"
        },
        "vscode": {
          "languageId": "polyglot-notebook"
        }
      },
      "outputs": [
        {
          "ename": "Error",
          "evalue": "(5,19): error CS0103: The name \u0027part1Longest\u0027 does not exist in the current context",
          "output_type": "error",
          "traceback": [
            "(5,19): error CS0103: The name \u0027part1Longest\u0027 does not exist in the current context"
          ]
        }
      ],
      "source": [
        "// Find the longest hike you can take through the hiking trails listed on your map. How many steps long is the longest hike?\n",
        "\n",
        "var part1Hike = new HikeSim(inputLines);\n",
        "var part1Longesst = part1Hike.FindLongest();\n",
        "var part1Answer = part1Longest.Distance;\n",
        "Console.WriteLine(part1Answer);"
      ]
    },
    {
      "cell_type": "code",
      "execution_count": 9,
      "metadata": {
        "dotnet_interactive": {
          "language": "csharp"
        },
        "polyglot_notebook": {
          "kernelName": "csharp"
        },
        "vscode": {
          "languageId": "polyglot-notebook"
        }
      },
      "outputs": [
        {
          "ename": "Error",
          "evalue": "(2,14): error CS0103: The name \u0027part1Answer\u0027 does not exist in the current context",
          "output_type": "error",
          "traceback": [
            "(2,14): error CS0103: The name \u0027part1Answer\u0027 does not exist in the current context"
          ]
        }
      ],
      "source": [
        "// 2210 is correct!\n",
        "Ensure(2210, part1Answer);"
      ]
    },
    {
      "cell_type": "code",
      "execution_count": 10,
      "metadata": {
        "dotnet_interactive": {
          "language": "csharp"
        },
        "polyglot_notebook": {
          "kernelName": "csharp"
        },
        "vscode": {
          "languageId": "polyglot-notebook"
        }
      },
      "outputs": [],
      "source": [
        "// --- Part Two ---\n",
        "\n",
        "// Puzzle description redacted as-per Advent of Code guidelines\n",
        "\n",
        "// You may find the puzzle description at: https://adventofcode.com/2023/day/23"
      ]
    },
    {
      "cell_type": "code",
      "execution_count": 11,
      "metadata": {
        "dotnet_interactive": {
          "language": "csharp"
        },
        "polyglot_notebook": {
          "kernelName": "csharp"
        },
        "vscode": {
          "languageId": "polyglot-notebook"
        }
      },
      "outputs": [],
      "source": [
        "class HikeSim2 : HikeSim\n",
        "{\n",
        "    public HikeSim2(string[] inputLines): base(inputLines) {}\n",
        "\n",
        "    protected override IEnumerable\u003CPoint\u003E GetOptions(Point p)\n",
        "    {\n",
        "        // There\u0027s a map of nearby hiking trails (your puzzle input) that\n",
        "        // indicates paths (.), forest (#), and steep slopes (^, \u003E, v, and \u003C).\n",
        "        \n",
        "        var tile = tiles[p];\n",
        "\n",
        "        return tile.type switch \n",
        "        {\n",
        "            \u0027.\u0027 or \u0027^\u0027 or \u0027\u003E\u0027 or \u0027\u003C\u0027 or \u0027v\u0027 =\u003E [p.Up(), p.Down(), p.Left(), p.Right()],\n",
        "            _ =\u003E []\n",
        "        };\n",
        "    }\n",
        "\n",
        "    public IEnumerable\u003Cstring\u003E Render(HikeJourney journey)\n",
        "    {\n",
        "        foreach (var y in Enumerable.Range(0, yMax))\n",
        "        {\n",
        "            char[] row = new char[xMax];\n",
        "            foreach (var x in Enumerable.Range(0, xMax))\n",
        "            {\n",
        "                Point point = new(x, y);\n",
        "                row[x] = tiles[point].type;\n",
        "                if (journey.Steps.Contains(point)) {\n",
        "                    row[x] = \u0027O\u0027;\n",
        "                }\n",
        "            }\n",
        "            yield return new String(row);\n",
        "        }\n",
        "    }\n",
        "}"
      ]
    },
    {
      "cell_type": "code",
      "execution_count": 12,
      "metadata": {
        "dotnet_interactive": {
          "language": "csharp"
        },
        "polyglot_notebook": {
          "kernelName": "csharp"
        },
        "vscode": {
          "languageId": "polyglot-notebook"
        }
      },
      "outputs": [
        {
          "name": "stdout",
          "output_type": "stream",
          "text": [
            "New longest steps found at 90 steps.\n",
            "New longest steps found at 94 steps.\n",
            "New longest steps found at 118 steps.\n",
            "New longest steps found at 126 steps.\n",
            "New longest steps found at 154 steps.\n",
            "154\n"
          ]
        }
      ],
      "source": [
        "// In the example above, this increases the longest hike to 154 steps:\n",
        "\n",
        "var testInputHike2 = new HikeSim2(testInputLines);\n",
        "var testInputResult2 = testInputHike2.FindLongest();\n",
        "Console.WriteLine(testInputResult2.Distance);\n"
      ]
    },
    {
      "cell_type": "code",
      "execution_count": 13,
      "metadata": {
        "dotnet_interactive": {
          "language": "csharp"
        },
        "polyglot_notebook": {
          "kernelName": "csharp"
        },
        "vscode": {
          "languageId": "polyglot-notebook"
        }
      },
      "outputs": [
        {
          "name": "stdout",
          "output_type": "stream",
          "text": [
            "New longest steps found at 2210 steps.\n",
            "New longest steps found at 2614 steps.\n",
            "New longest steps found at 2730 steps.\n",
            "New longest steps found at 2778 steps.\n",
            "New longest steps found at 2918 steps.\n",
            "New longest steps found at 2998 steps.\n",
            "New longest steps found at 3038 steps.\n",
            "New longest steps found at 3086 steps.\n",
            "New longest steps found at 3158 steps.\n",
            "New longest steps found at 3174 steps.\n",
            "New longest steps found at 3226 steps.\n",
            "New longest steps found at 3238 steps.\n",
            "New longest steps found at 3254 steps.\n",
            "New longest steps found at 3306 steps.\n",
            "New longest steps found at 3378 steps.\n",
            "New longest steps found at 3474 steps.\n",
            "New longest steps found at 3494 steps.\n",
            "New longest steps found at 3546 steps.\n",
            "New longest steps found at 3562 steps.\n",
            "New longest steps found at 3582 steps.\n",
            "New longest steps found at 3662 steps.\n",
            "New longest steps found at 3742 steps.\n",
            "New longest steps found at 3790 steps.\n",
            "Processed 1000000 steps. Queue length: 675680\n",
            "New longest steps found at 3858 steps.\n",
            "New longest steps found at 3958 steps.\n",
            "New longest steps found at 4038 steps.\n",
            "New longest steps found at 4050 steps.\n",
            "New longest steps found at 4054 steps.\n",
            "New longest steps found at 4130 steps.\n",
            "New longest steps found at 4134 steps.\n",
            "Processed 2000000 steps. Queue length: 1203619\n",
            "Processed 3000000 steps. Queue length: 1619320\n",
            "New longest steps found at 4322 steps.\n",
            "New longest steps found at 4346 steps.\n",
            "New longest steps found at 4462 steps.\n",
            "New longest steps found at 4562 steps.\n",
            "New longest steps found at 4642 steps.\n",
            "Processed 4000000 steps. Queue length: 1998474\n",
            "Processed 5000000 steps. Queue length: 2358150\n",
            "Processed 6000000 steps. Queue length: 2596080\n",
            "Processed 7000000 steps. Queue length: 2848132\n",
            "New longest steps found at 4730 steps.\n",
            "New longest steps found at 4810 steps.\n",
            "New longest steps found at 4926 steps.\n",
            "New longest steps found at 4950 steps.\n",
            "New longest steps found at 4962 steps.\n",
            "New longest steps found at 4974 steps.\n",
            "Processed 8000000 steps. Queue length: 3079815\n",
            "Processed 9000000 steps. Queue length: 3261442\n",
            "Processed 10000000 steps. Queue length: 3458196\n",
            "Processed 11000000 steps. Queue length: 3556199\n",
            "Processed 12000000 steps. Queue length: 3594164\n",
            "Processed 13000000 steps. Queue length: 3656924\n",
            "New longest steps found at 5030 steps.\n",
            "New longest steps found at 5110 steps.\n",
            "New longest steps found at 5226 steps.\n",
            "New longest steps found at 5234 steps.\n",
            "New longest steps found at 5246 steps.\n",
            "New longest steps found at 5266 steps.\n",
            "New longest steps found at 5282 steps.\n",
            "New longest steps found at 5294 steps.\n",
            "Processed 14000000 steps. Queue length: 3743736\n",
            "Processed 15000000 steps. Queue length: 3756068\n",
            "Processed 16000000 steps. Queue length: 3746871\n",
            "Processed 17000000 steps. Queue length: 3751565\n",
            "Processed 18000000 steps. Queue length: 3692128\n",
            "Processed 19000000 steps. Queue length: 3555895\n",
            "Processed 20000000 steps. Queue length: 3410790\n",
            "New longest steps found at 5334 steps.\n",
            "New longest steps found at 5450 steps.\n",
            "New longest steps found at 5534 steps.\n",
            "New longest steps found at 5546 steps.\n",
            "New longest steps found at 5574 steps.\n",
            "New longest steps found at 5586 steps.\n",
            "New longest steps found at 5598 steps.\n",
            "New longest steps found at 5610 steps.\n",
            "Processed 21000000 steps. Queue length: 3321652\n",
            "Processed 22000000 steps. Queue length: 3158670\n",
            "Processed 23000000 steps. Queue length: 2913304\n",
            "Processed 24000000 steps. Queue length: 2717606\n",
            "Processed 25000000 steps. Queue length: 2465125\n",
            "Processed 26000000 steps. Queue length: 2134104\n",
            "New longest steps found at 5686 steps.\n",
            "New longest steps found at 5758 steps.\n",
            "New longest steps found at 5770 steps.\n",
            "New longest steps found at 5778 steps.\n",
            "New longest steps found at 5798 steps.\n",
            "New longest steps found at 5818 steps.\n",
            "New longest steps found at 5850 steps.\n",
            "New longest steps found at 5862 steps.\n",
            "New longest steps found at 5874 steps.\n",
            "New longest steps found at 5902 steps.\n",
            "New longest steps found at 5918 steps.\n",
            "New longest steps found at 5930 steps.\n",
            "Processed 27000000 steps. Queue length: 1819484\n",
            "Processed 28000000 steps. Queue length: 1390461\n",
            "Processed 29000000 steps. Queue length: 964298\n",
            "New longest steps found at 6026 steps.\n",
            "New longest steps found at 6074 steps.\n",
            "New longest steps found at 6094 steps.\n",
            "New longest steps found at 6118 steps.\n",
            "New longest steps found at 6126 steps.\n",
            "New longest steps found at 6210 steps.\n",
            "New longest steps found at 6222 steps.\n",
            "Processed 30000000 steps. Queue length: 420177\n",
            "New longest steps found at 6334 steps.\n",
            "New longest steps found at 6346 steps.\n",
            "New longest steps found at 6374 steps.\n",
            "New longest steps found at 6426 steps.\n",
            "New longest steps found at 6438 steps.\n",
            "New longest steps found at 6486 steps.\n",
            "New longest steps found at 6498 steps.\n",
            "New longest steps found at 6522 steps.\n",
            "6522\n"
          ]
        }
      ],
      "source": [
        "// Find the longest hike you can take through the surprisingly dry hiking trails listed on your map. How many steps long is the longest hike?\n",
        "\n",
        "var part2Hike = new HikeSim2(inputLines);\n",
        "var part2Longest = part2Hike.FindLongest();\n",
        "var part2Answer = part2Longest.Distance;\n",
        "Console.WriteLine(part2Answer);"
      ]
    },
    {
      "cell_type": "code",
      "execution_count": 14,
      "metadata": {
        "dotnet_interactive": {
          "language": "csharp"
        },
        "polyglot_notebook": {
          "kernelName": "csharp"
        },
        "vscode": {
          "languageId": "polyglot-notebook"
        }
      },
      "outputs": [],
      "source": [
        "// 6522 is correct!\n",
        "Ensure(6522, part2Answer);"
      ]
    },
    {
      "cell_type": "code",
      "execution_count": 15,
      "metadata": {
        "dotnet_interactive": {
          "language": "csharp"
        },
        "polyglot_notebook": {
          "kernelName": "csharp"
        },
        "vscode": {
          "languageId": "polyglot-notebook"
        }
      },
      "outputs": [
        {
          "name": "stdout",
          "output_type": "stream",
          "text": [
            "#O###########################################################################################################################################\n",
            "#OOO###OOO#OOO#OOOOOOO#...#.....#OOOOOOOOO#OOO#OOO#OOO#OOO#OOO#OOOOO#...#.......#OOO#OOO#OOOOOOO#OOOOO#OOOOOOOOOOO#OOOOO#OOO###OOO#OOOOO#OOO#\n",
            "###O###O#O#O#O#O#####O#.#.#.###.#O#######O#O#O#O#O#O#O#O#O#O#O#O###O#.#.#.#####.#O#O#O#O#O#####O#O###O#O#########O#O###O#O#O###O#O#O###O#O#O#\n",
            "#OOO#OOO#OOO#O#O#OOOOO#.#.#...#.#OOOOOOO#O#O#O#O#O#O#O#O#O#O#O#O#OOO#.#.#...#...#O#O#O#O#O#OOOOO#O#OOO#OOOOOOOOO#O#OOO#O#O#OOO#O#O#OOO#O#O#O#\n",
            "#O###O#######O#O#O#####.#.###.#.#######O#O#O#O#O#O#O#O#O#O#O#O#O#O###.#.###.#.###O#O#O#O#O#O#####O#O###########O#O###O#O#O###O#O#O###O#O#O#O#\n",
            "#OOO#OOO#OOOOO#O#O\u003E.###.#.#...#.#OOOOO#O#O#O#O#O#O#O#O#O#OOO#OOO#OOO\u003E.#...#.#...#O#OOO#OOO#O#OOO#O#OOOOO#OOOOOOO#O###O#O#O#OOO#O#O###O#O#O#O#\n",
            "###O###O#O#####O#O#.###.#.#.###.#O###O#O#O#O#O#O#O#O#O#O###########O#####.#.###.#O#########O#O#O#O#####O#O#######O###O#O#O#O###O#O###O#O#O#O#\n",
            "#OOO#OOO#O#OOO#O#O#.....#...#...#OOO#O#O#O#O#O#O#O#O#O#O#OOOOOOOOO#O#.....#.#...#OOO#OOOOOOO#O#O#O#OOOOO#OOOOOOO#OOOOO#O#O#OOO#O#O#OOO#O#O#O#\n",
            "#O###O###O#O#O#O#O###########.#####O#O#O#O#O#O#O#O#O#O#O#O#######O#O#.#####.#.#####O#O#######O#O#O#O###########O#######O#O###O#O#O#O###O#O#O#\n",
            "#O#OOO###OOO#OOO#OOOOO###...#...#OOO#OOO#O#O#O#O#OOO#OOO#OOOOOOO#OOO#...#...#.#.\u003EOOO#OOOOO#OOO#O#O#O###OOO#OOO#OOOOOOO#OOO###O#O#O#O#OOO#O#O#\n",
            "#O#O#################O###.#.###.#O#######O#O#O#O###############O#######.#.###.#.#O#######O#O###O#O#O###O#O#O#O#######O#######O#O#O#O#O###O#O#\n",
            "#O#OOO###OOOOOOOOOOOOO#...#.....#OOOOOOO#OOO#O#OOO#OOOOOOO#OOO#OOOOO###.#.#...#.#OOO#OOOOO#O#OOO#O#OOO#O#O#O#O#OOOOOOO#OOO###OOO#O#O#OOOOO#O#\n",
            "#O###O###O#############.###############O#####O###O#O#####O#O#O#####O###.#.#.###.###O#O#####O#O###O###O#O#O#O#O#O#######O#O#######O#O#######O#\n",
            "#O#OOO#OOO#OOOOOOOOO###.......#.\u003EOOOOOOO#OOO#O#OOO#OOOOO#O#O#OOOOO#OOO#.#.#.#...#OOO#OOO###O#OOO#O#OOO#O#O#O#O#OOOOOOOOO#OOOOO#OOO#O#OOOOOOO#\n",
            "#O#O###O###O#######O#########.#.#O#######O#O#O#O#######O#O#O#####O###O#.#.#.#.###O#####O###O###O#O#O###O#O#O#O###############O#O###O#O#######\n",
            "#O#OOO#O#OOO#OOOOO#OOOOOOO###.#.#O#OOO###O#O#OOO#OOOOOOO#O#OOOOO#O#OOO#.#.#.#.#OOO#OOO#OOO#OOO#O#O#O#OOO#OOO#O#OOOOOOOOOOOOOOO#OOOOO#OOOOOOO#\n",
            "#O###O#O#O###O###O#######O###.#.#O#O#O###O#O#####O#######O#####O#O#O###.#.#.#.#O###O#O###O###O#O#O#O#O#######O#O###########################O#\n",
            "#O#OOO#O#OOO#OOO#OOOOOOOOO#...#.#O#O#OOOOO#OOOOO#O#OOOOO#OOOOOOO#OOO###...#...#OOOOO#OOO#OOO#O#O#O#O#OOO#OOOOO#OOOOOOOOOOOOO###OOOOOOOOOOOOO#\n",
            "#O#O###O###O###O###########.###.#O#O###########O#O#O###O###############################O###O#O#O#O#O###O#O#################O###O#############\n",
            "#OOO###OOOOO###OOOOOOOOOOO#.#...#O#O#OOOOOOOOOOO#OOO###OOOOOOOOOOO#OOO###OOO#OOO#OOO#OOO#OOO#O#O#O#O#OOO#O#OOOOOOO#OOOOOOOOO#OOO#OOO#OOOOOOO#\n",
            "#########################O#.#.###O#O#O###########################O#O#O###O#O#O#O#O#O#O###O###O#O#O#O#O###O#O###v#O#O#########O###O#O#O#####O#\n",
            "#OOO#OOOOOOO#OOOOOOOOOOO#O#.#...#OOO#OOOOOOOOO#OOO#OOOOOOOOOOOOO#OOO#OOO#O#OOO#OOO#OOO###OOOOO#OOO#O#O#OOO#O###.#O#OOOOOOO###OOO#O#O#O#OOOOO#\n",
            "#O#O#O#####O#O#########O#O#.###.#############O#O#O#O###########O#######O#O#########################O#O#O###O###.#O#######O#####O#O#O#O#O#####\n",
            "#O#O#OOOOO#O#OOOOOOOOO#OOO#.....#...#OOOOOOOOO#O#O#O#OOO#OOO###OOOOOOOOO#OOO#OOO#OOO#OOOOOOOOOOO#OOO#O#OOO#O#...#OOOOOOOOO#...#OOO#OOO#OOOOO#\n",
            "#O#O#####O#O#########O###########.#.#O#########O#O#O#O#O#O#O###############O#O#O#O#O#O#########O#O###O###O#O#.#############.#.#############O#\n",
            "#O#O#OOOOO#O#OOOOOOOOO#...###.....#.#OOOOOOOOOOO#O#OOO#OOO#OOOOOOOOOOOOO###OOO#OOO#OOO#OOOOO#OOO#OOOOO###OOO#...#...#.....#.#...###...#OOOOO#\n",
            "#O#O#O#####O#O#########.#.###.#####.#############O#####################O###############O###O#O#################.#.#.#.###.#.###.###.#.#O#####\n",
            "#O#O#OOOOO#O#OOOOOOO###.#...#.....#.#OOOOOOOOO#OOO#...#OOOOOOOOOOOOOOOOO#OOO###OOOOOOOOO###OOO#...#...#...#.....#.#.#...#.#...#.###.#.#OOO###\n",
            "#O#O#####O#O#######O###.###.#####.#.#O#######O#O###.#.#O#################O#O###O###############.#.#.#.#.#.#.#####.#.###.#.###.#.###.#.###O###\n",
            "#O#OOO#OOO#OOOOOOO#O\u003E.#.#...#.....#.#OOOOOOO#OOO###.#.#OOOOOOOOOOO#OOOOO#O#OOO#OOOOOOOOO#...#...#...#.#.#.#.....#.#.....#.#...#.#...#.#.\u003EO###\n",
            "#O###O#O#########O#O#.#.#.###.#####.#######O#######.#.###########O#O###O#O###O#########O#.#.#.#######.#.#.#####.#.#######.#.###.#.###.#.#O###\n",
            "#O#OOO#OOOOOOOOO#O#O#.#.#...#.....#.#...#OOO#.....#.#.....#OOO#OOO#O#OOO#OOO#O#OOO#OOOOO#.#.#.#.......#.#.###...#.......#.#...#.#...#.#.#OOO#\n",
            "#O#O###########O#O#O#.#.###.#####.#.#.#.#O###.###.#.#####.#O#O#O###O#O#####O#O#O#O#O#####.#.#.#.#######.#.###v#########.#.###.#.###.#.#.###O#\n",
            "#O#OOOOOOOOO###O#O#O#.#.#...#...#.#...#.\u003EO\u003E.#.#...#.....#.#O#OOO###O#O#OOO#O#O#O#O#OOOOO#.#.#.#...#...#.#...\u003E.\u003E.#.....#.#.#...#.....#...#OOO#\n",
            "#O#########O###O#O#O#.#.#.###.#.#.#######O#.#.#.#######.#.#O#######O#O#O#O#O#O#O#O#####O#.#.#.###.#.#.#.#####v#.#.###.#.#.#.#############O###\n",
            "#OOOOOOOOO#O#OOO#O#O#...#.#...#.#.....#OOO#.#.#...#.....#.\u003EOOOOOOO#O#O#O#O#O#OOO#OOO#OOO#.#...#...#.#.#.#.....#.#.###.#.#.#...#OOOOOOOOO#OOO#\n",
            "#########O#O#O###O#O#####.#.###.#####.#O###.#.###.#.#######v#####O#O#O#O#O#O#######O#O###.#####.###.#.#.#.#####.#.###.#.#.###.#O#######O###O#\n",
            "#OOOOOOOOO#OOO###OOO###...#.###.#.....#OOO#.#...#...###...#.#OOOOO#O#O#O#O#OOO#OOOOO#OOO#.....#.....#...#.....#.#...#...#.#...#OOO#OOO#OOOOO#\n",
            "#O#####################.###.###.#.#######O#.###.#######.#.#.#O#####O#O#O#O###O#O#######O#####.###############.#.###.#####.#.#####O#O#O#######\n",
            "#OOOOOOOOOOOOOOOOOOOOO#...#...#.#.#OOOOOOO#.....#.......#...#O#OOO#O#O#O#O#OOO#OOOOOOOOO\u003E.#...#####.....###...#...#.....#...#####OOO#OOOOOOO#\n",
            "#####################O###.###.#.#.#O#############.###########O#O#O#O#O#O#O#O###########v#.#.#######.###.###.#####.#####.###################O#\n",
            "#OOO#OOOOOOOOOOO#OOO#O#...#...#...#OOOOOOO###OOO#...#.......#O#O#O#O#OOO#O#O###.........#...###.....#...#...#.....#.....#OOOOO###OOO#OOOOOOO#\n",
            "#O#O#O#########O#O#O#O#.###.#############O###O#O###.#.#####.#O#O#O#O#####O#O###.###############.#####.###.###.#####.#####O###O###O#O#O#######\n",
            "#O#OOO#OOOOOOO#O#O#O#O#...#.#OOO#OOO#OOO#OOOOO#OOO#...#.....#OOO#OOO###OOO#O#...#.......###...#.....#.....###.....#.#OOO#OOO#OOOOO#OOO#OOO###\n",
            "#O#####O#####O#O#O#O#O###.#.#O#O#O#O#O#O#########O#####.###############O###O#.###.#####.###.#.#####.#############.#.#O#O###O###########O#O###\n",
            "#O#OOO#O#OOOOO#OOO#OOO###.#.#O#OOO#OOO#O#OOOOOOOOO#.....#.........#OOOOO#OOO#.....#...#...#.#.#.....#...###...###...#O#OOO#OOOOOOOOOOOOO#OOO#\n",
            "#O#O#O#O#O###############.#.#O#########O#O#########.#####.#######.#O#####O#########.#.###.#.#.#.#####.#.###.#.#######O###O#################O#\n",
            "#O#O#OOO#OOO###OOO#OOO###...#OOOOOOOOO#O#OOOOO#####.......#.....#.#O#OOOOO#...###...#...#.#.#.#.......#.....#.#OOO#OOO#OOO#OOO###OOO#OOOOOOO#\n",
            "#O#O#######O###O#O#O#O###############O#O#####O#############.###.#.#O#O#####.#.###.#####.#.#.#.###############.#O#O#O###O###O#O###O#O#O#######\n",
            "#OOO###OOO#OOOOO#OOO#OOO#OOOOOOOOOOOOO#OOOOO#OOO#...........###...#O#O#.....#.....#...#.#.#.#.................#O#O#O#OOO#OOO#O#OOO#OOO#OOOOO#\n",
            "#######O#O#############O#O#################O###O#.#################O#O#.###########.#.#.#.#.###################O#O#O#O###O###O#O#######O###O#\n",
            "#OOOOOOO#OOOOOOO#OOOOOOO#OOOOOOOOO#OOOOOOO#OOOOO#.................#OOO#.#...#.....#.#.#...#.........#OOOOOOOOO#O#OOO#OOO#OOO#O#OOOOOOO#O#OOO#\n",
            "#O#############O#O###############O#O#####O#######################.#####.#.#.#.###.#.#.#############v#O#######O#O#######O###O#O#######O#O#O###\n",
            "#OOO#OOO#OOO###OOO#OOO#OOO#OOO###OOO#OOO#OOOOOOO#.................#.....#.#...###...#.........#OOOOOOO#OOOOO#O#O#OOOOOOO#OOO#OOOOO###OOO#OOO#\n",
            "###O#O#O#O#O#######O#O#O#O#O#O#######O#O#######O#.#################.#####.###################.#O###v###O###O#O#O#O#######O#######O#########O#\n",
            "#OOO#O#O#O#OOOOO###O#O#O#O#O#O###OOO#O#OOOOOOOOO#.............#OOO#.......###...#...#.........#OOO#.###O###OOO#O#OOOOO###OOOOOOO#O#OOOOOOOOO#\n",
            "#O###O#O#O#####O###O#O#O#O#O#O###O#O#O#######################.#O#O###########.#.#.#.#.###########O#.###O#######O#####O#########O#O#O#########\n",
            "#OOO#O#OOO#OOOOO#OOO#O#O#O#O#OOO#O#O#OOOOOOOOOOOOO#...........#O#OOO#OOO#.....#...#...#OOOOOOOOOOO#...#OOO###OOO#OOOOO#OOO#OOOOO#O#OOOOOOOOO#\n",
            "###O#O#####O#####O###O#O#O#O###O#O#O#############O#.###########O###O#O#O#.#############O#############.###O###O###O#####O#O#O#####O#########O#\n",
            "###OOO#...#OOO###OOO#O#O#O#OOO#O#O#OOO#OOOOOOOOOOO#.......#OOO#O#OOO#O#O#.............#OOOOOOO#OOO###...#OOO#O#OOO#OOO#O#O#OOO#OOO#OOO###OOO#\n",
            "#######.#.#v#O#####O#O#O#O###O#O#O###O#O#################.#O#O#O#O###O#O#############.#######O#O#O#####.###O#O#O###O#O#O#O###O#O###O#O###O###\n",
            "#.......#...#OOO###O#O#O#O###O#O#OOO#O#OOO###...###...#...#O#OOO#O#OOO#O#OOO#OOO#.....#OOO###OOO#OOO#...#OOO#O#OOO#O#O#O#O#OOO#O#OOO#O#OOO###\n",
            "#.#############O###O#O#O#O###O#O###O#O###O###.#.###.#.#v###O#####O#O###O#O#O#O#O#.#####O#O#########O#.###O###O###O#O#O#O#O#O###O#O###O#O#v###\n",
            "#.......#.....#O#OOO#O#O#O#OOO#OOO#O#OOOOO\u003E.#.#.#...#.\u003EOOO#O#OOOOO#OOO#O#O#O#O#O#.#OOO#O#O#OOOOO#OOO#.###OOOOO###O#O#O#O#O#OOO#O#O###OOO#...#\n",
            "#######.#.###.#O#O###O#O#O#O#####O#O#####v#.#.#.#.#####O#O#O#O#######O#O#O#O#O#O#v#O#O#O#O#O###O#O###.###########O#O#O#O#O###O#O#O#########.#\n",
            "#######.#.###.#O#O#OOO#O#O#OOO###OOO###...#.#.#.#.#OOOOO#OOO#OOO#OOO#O#O#O#O#O#OOOOO#O#O#O#O#OOO#O###.......#####O#O#O#O#OOO#O#OOO#...#...#.#\n",
            "#######.#.###.#O#O#O###O#O###O#########.###.#.#.#.#O###########O#O#O#O#O#O#O#O###v###O#O#O#O#O###O#########.#####O#O#O#O###O#O#####.#.#.#.#.#\n",
            "#.......#.#...#OOO#OOOOO#O#OOO#.........###.#.#...#OOOOOOOOOOO#O#O#O#O#O#O#OOO#...###OOO#OOO#OOO#O#.......#.....#OOO#O#O#OOO#O#.....#...#...#\n",
            "#.#######.#.#############O#O###.###########.#.###############O#O#O#O#O#O#O#####.###############O#O#.#####.#####.#####O#O#O###O#.#############\n",
            "#.........#.........#OOO#O#O#...#...#.....#.#.#OOO#OOOOOOOOOOO#OOO#O#O#OOO#...#.....#OOO#OOO#OOO#O#.....#.#.....#OOO#O#O#OOO#O#.............#\n",
            "###################.#O#O#O#O#.###.#.#.###.#.#.#O#O#O###############O#O#####.#.#####.#O#O#O#O#O###O#####.#.#.#####O#O#O#O###O#O#############.#\n",
            "#...#...#...#.......#O#O#OOO#.....#...#...#...#O#O#OOOOO#OOO#OOO###O#O#.....#.......#O#OOO#O#OOOOO#.....#...#OOOOO#O#OOO#OOO#OOO#...........#\n",
            "#.#.#.#.#.#.#.#######O#O###############.#######O#O#####O#O#O#O#O###O#O#.#############O#####O#######.#########O#####O#####O#####O#.###########\n",
            "#.#...#...#...#...###O#OOO#OOO#...#...#.....#OOO#OOOOOOO#O#O#O#OOO#OOO#...#...#.....#O#OOOOO#OOO###.......###O#OOOOO#OOO#OOOOOOO#...........#\n",
            "#.#############.#.###O###O#O#O#.#.#.#.#####.#O###########O#O#O###O#######.#.#.#.###.#O#O#####O#O#########.###O#O#####O#O###################.#\n",
            "#.#.............#...#OOO#O#O#O#.#...#.......#OOOOOOOOOOOOO#OOO#OOO#...###...#...#...#O#O#OOO#O#O#OOO#.....#OOO#OOOOO#O#O#OOO#OOOOOOOOO#.....#\n",
            "#.#.###############.###O#O#O#O#v###############################O###.#.###########.###O#O#O#O#O#O#O#O#.#####O#######O#O#O#O#O#O#######O#.#####\n",
            "#...#...............###O#O#O#OOOOO#OOOOOOO#OOOOOOOOOOOOOOOOOOOOO#...#...#...#...#...#O#O#O#O#O#O#O#O#.#####OOO#OOOOO#O#O#O#O#OOOOOOO#O#.....#\n",
            "#####.#################O#O#O###v#O#O#####O#O#####################.#####.#.#.#.#.###.#O#O#O#O#O#O#O#O#v#######O#O#####O#O#O#O#######O#O#####.#\n",
            "#OOO#.........#OOO#OOO#O#O#O###.#OOO#OOOOO#O#OOOOO#OOOOOOO#.....#...#...#.#.#.#.#...#O#O#O#O#O#OOO#OOOOO#OOO#O#O#OOO#O#O#O#OOO#OOO#O#O#...#.#\n",
            "#O#O#########v#O#O#O#O#O#O#O###.#####O#####O#O###O#O#####O#.###.###.#.###.#.#.#.#v###O#O#O#O#O#######v#O#O#O#O#O#O#O#O#O#O###O#O#O#O#O#.#.#.#\n",
            "#O#OOOOOOO###OOO#O#O#OOO#O#O#...#OOO#OOO###OOO#OOO#O#OOOOO#...#.#...#...#.#.#.#.\u003EOOO#O#O#O#O#OOO#.....#O#O#O#O#O#O#O#O#O#OOO#O#O#O#O#O#.#...#\n",
            "#O#######O###O###O#O#####O#O#.###O#O###O#######O###O#O#######.#.#.#####.#.#.#.###O#O#O#O#O#O###O#.#####O#O#O#O#O#O#O#O#O###O#O#O#O#O#O#v#####\n",
            "#OOOOOOO#OOOOO###O#OOOOO#OOO#.#OOO#OOOOO#OOO###OOOOO#OOOOO###.#.#.#...#.#.#.#.#OOO#OOO#OOO#OOOOO#.....#O#O#O#O#O#O#O#O#OOO#O#O#O#O#O#OOO#OOO#\n",
            "#######O#########O#####O#####.#O#########O#O#############O###.#.#.#.#.#.#.#.#.#O#####################.#O#O#O#O#O#O#O#O###O#O#O#O#O#O###O#O#O#\n",
            "#OOOOO#OOOOOOOOO#O#OOO#O#...#.#OOOOO#OOO#O#OOO#OOO#OOO#OOO#...#.#...#.#.#.#.#.#O#OOO###OOOOO#OOOOO#...#OOO#O#O#O#O#O#OOO#O#O#O#O#OOO###OOO#O#\n",
            "#O###O#########O#O#O#O#O#.#.#.#####O#O#O#O###O#O#O#O#O#O###.###.#####.#.#.#.#.#O#O#O###O###O#O###O#.#######O#O#O#O#O###O#O#O#O#O###########O#\n",
            "#OOO#O#OOOOOOOOO#OOO#OOO#.#...#...#O#O#O#O#OOO#O#O#O#OOO\u003E...###.......#...#.#.#O#O#OOO#O#OOO#OOO#O#.......#O#O#O#O#O#OOO#O#O#OOO#OOOOOOOOOOO#\n",
            "###O#O#O#################.#####.#.#O#O#O#O#O###O#O#O###v###################.#.#O#O###O#O#O#####O#O#######.#O#O#O#O#O#O###O#O#####O###########\n",
            "#OOO#OOO#OOOOOOO#OOO#.....#.....#.#O#O#OOO#OOO#O#O#O###...#...........#...#...#OOO#OOO#O#OOOOOOO#O#.......#OOO#OOO#O#O###O#OOOOO#OOOOOOOOOOO#\n",
            "#O#######O#####O#O#O#.#####.#####.#O#O#######O#O#O#O#####.#.#########.#.#.#########O###O#########O#.###############O#O###O#####O###########O#\n",
            "#OOO#OOOOO#OOOOO#O#O#.......#.....#OOO###OOO#OOO#OOO#.....#.#.........#.#.#.....###OOOOO#OOO#OOOOO#.....#.....#OOOOO#O#OOO#OOOOO#OOO#OOOOO#O#\n",
            "###O#O#####O#####O#O#########.###########O#O#########.#####.#.#########.#.#.###.#########O#O#O#########.#.###.#O#####O#O###O#####O#O#O###O#O#\n",
            "#OOO#O#OOOOO#OOO#O#O#.........#...###OOOOO#OOOOO#OOO#.......#...........#.#...#.#OOOOOOOOO#OOO#...###...#.#...#OOOOO#O#O#OOO#OOO#O#O#OOO#O#O#\n",
            "#O###O#O#####O#O#O#O#.#########.#.###O#########O#O#O#####################.###.#.#O#############.#.###.###.#.#######O#O#O#O###O#O#O#O###O#O#O#\n",
            "#OOOOO#OOOOO#O#O#O#O#...........#...#OOOOOOO#OOO#O#O#OOO#OOO#.......#.....#...#.#OOOOOOO#OOOOO#.#.#...#...#.....#OOO#O#O#O#OOO#OOO#OOOOO#O#O#\n",
            "###########O#O#O#O#O###############.#######O#O###O#O#O#O#O#O#.#####.#.#####.###.#######O#O###O#.#.#.###.#######.#O###O#O#O#O#############O#O#\n",
            "#OOOOOOOOO#OOO#OOO#OOOOO#.......#...#OOO#OOO#OOO#O#O#O#O#O#O#.....#.#.#...#...#.#.....#OOO#OOO#.#.#.....#...#...#OOO#O#OOO#OOOOOOOOOOOOO#O#O#\n",
            "#O#######O#############O#.#####.#.###O#O#O#####O#O#O#O#O#O#O#####.#.#.#.#.###.#.#.###.#####O###.#.#######.#.#.#####O#O#################O#O#O#\n",
            "#OOOOOOO#OOOOOOOOOOOOOOO#.....#...###O#O#OOO#OOO#O#O#O#O#O#O###...#...#.#.#...#...#...#OOOOO#...#.........#.#.....#O#OOO#OOOOOOOOO#OOOOO#OOO#\n",
            "#######O#####################v#######O#O###O#O###O#O#O#O#O#O###v#######.#.#.#######.###O#####.#############.#####.#O###O#O#######O#O#########\n",
            "#OOOOOOO#OOOOO#...#...#.....\u003EOOO#OOOOO#OOOOO#OOO#O#O#O#OOO#O#OOO\u003E.#...#.#.#...#.....###O#...#.............#.#...#.#OOOOO#OOOOOOO#O#OOO#OOO###\n",
            "#O#######O###O#.#.#.#.#.#####O#O#O#############O#O#O#O#####O#O#O#.#.#.#.#.###.#.#######O#.#.#############.#.#.#.#.#############O#O###O#O#O###\n",
            "#OOOOOOOOO#OOO#.#.#.#.#.....#O#OOO#OOO#OOO#OOOOO#O#O#OOOOO#O#O#O#...#.#.#.#...#.#...#.\u003EO\u003E.#...###...#.....#...#...#OOO#OOO#OOO#O#OOOOO#O#O###\n",
            "###########O###.#.#.#.#####.#O#####O#O#O#O#O#####O#O#####O#O#O#O#####.#.#.#.###.#.#.#.#O#####.###.#.#.#############O#O#O#O#O#O#O#######O#O###\n",
            "#OOOOOOOOOOO#...#.#.#.###...#O#OOO#O#O#O#O#OOOOO#O#OOOOO#O#OOO#OOO###.#.#...###...#.#.#O###...#...#...###OOO###OOO#O#O#O#O#O#O#OOOOOOOOO#OOO#\n",
            "#O###########.###.#.#.###.###O#O#O#O#O#O#O#####O#O#####O#O#######O###.#.###########.#.#O###.###.#########O#O###O#O#O#O#O#O#O#O#############O#\n",
            "#OOOOOOOOOOO#...#.#.#...#.#OOO#O#O#O#OOO#OOOOO#O#O#OOOOO#O#OOOOOOO#...#.....###OOO#...#OOO#.###.......#OOO#OOO#O#OOO#O#O#O#O#O#OOOOOOO#OOO#O#\n",
            "###########O###.#.#.###.#.#O###O#O#O#########O#O#O#O#####O#O#######.#######.###O#O#######O#.#########.#O#####O#O#####O#O#O#O#O#O#####O#O#O#O#\n",
            "#OOOOOOO###OOO#.#...#...#.#OOO#O#OOO#OOOOOOOOO#OOO#O#OOO#O#OOOOO###...#...#.#OOO#O###OOOOO#.#...#...#.#O#OOOOO#OOO#OOO#O#O#O#O#OOOOO#O#O#OOO#\n",
            "#O#####O#####O#.#####.###.###O#O#####O#############O#O#O#O#####O#####.#.#.#.#O###O###O#####.#.#.#.#.#v#O#O#######O#O###O#O#O#O#####O#O#O#####\n",
            "#OOOOO#OOO#OOO#.....#...#.###OOO#OOO#OOOOOOOOOOO###OOO#O#O#OOO#OOOOO#...#...#OOO#OOO#OOOOO#.#.#.#.#.\u003EOOO#OOOOO#OOO#OOO#O#O#O#O#OOOOO#OOO#...#\n",
            "#####O###O#O#######.###.#.#######O#O###########O#######O#O#O#O#####O###########O###O#####O#.#.#.#.###O#######O#O#####O#O#O#O#O#O###v#####.#.#\n",
            "#####O#OOO#O\u003E...#...###.#.....#OOO#O###OOOOOOOOO#OOO###OOO#O#OOOOOOO###OOOOO###OOO#OOOOOOO#...#.#.###OOOOOOO#O#OOOOO#O#O#O#O#O#OOO#.......#.#\n",
            "#####O#O###O###.#.#####.#####.#O###O###O#########O#O#######O###########O###O#####O#############.#.#########O#O#####O#O#O#O#O#O###O#########.#\n",
            "#OOOOO#OOOOO###...#OOO#.......#OOO#O#OOO#OOO#OOOOO#OOO#...#O#OOO#OOO#OOO#OOO#OOOOO#OOOOOOO#OOO#.#.#OOOOOOOOO#O#OOOOO#O#O#O#O#O#OOO#.........#\n",
            "#O#################O#O###########O#O#O###O#O#O#######O#.#.#O#O#O#O#O#O###O###O#####O#####O#O#O#.#.#O#########O#O#####O#O#O#O#O#O###.#########\n",
            "#OOOOOOOOO#OOOOOOOOO#OOO#OOOOO#OOO#O#OOOOO#OOO#OOOOOOO#.#.#OOO#OOO#OOO#OOO###O#OOO#O#OOOOO#O#O#...#OOOOOOOOO#O#OOO#OOO#O#OOO#OOO###...#...###\n",
            "#########O#O###########O#O###O#O###O###########O#######.#.#############O#####O#O#O#O#O#####O#O#############O#O###O#O###O#############.#.#.###\n",
            "#OOOOOOOOO#O#OOOOOOOOOOO#O#OOO#OOO#OOOOOOOOOOO#OOO#...#.#.###OOOOOOOOOOO#OOO#OOO#OOO#OOOOOOO#OOO#OOOOOOOOOOO#O#OOO#OOO#O###...#...#...#.#...#\n",
            "#O#########O#O###########O#O#####O###########O###O#.#.#.#.###O###########O#O###################O#O###########O#O#####O#O###.#.#.#.#.###.###.#\n",
            "#O#OOOOO#OOO#O#OOOOOOOOOOO#OOO#OOO#OOO#OOOOO#OOOOO#.#.#.#...#OOOOOOOOOOO#O#O###OOOOOOO#OOO#OOOOO#OOOOOOOOOOO#OOO#OOO#OOO#...#...#.#.....#...#\n",
            "#O#O###O#O###O#O#############O#O###O#O#O###O#######.#.#.###.###########O#O#O###O#####O#O#O#O###############O#####O#O#####.#######.#######.###\n",
            "#OOO#OOO#O###OOO#OOO#OOO#OOOOO#OOOOO#O#O#OOO#OOO###.#.#.#...###OOOOOOOOO#O#OOO#OOOOO#OOO#OOO#####OOO###OOOOO###OOO#O#OOO#.......#.....#...###\n",
            "#####O###O#######O#O#O#O#O###########O#O#O###O#O###.#.#.#.#####O#########O###O#####O#############O#O###O#######O###O#O#O#######.#####.#.#####\n",
            "#OOO#OOO#OOO#OOOOO#OOO#OOO#OOOOOOO###OOO#OOOOO#O#...#.#.#...#.\u003EOOO#OOOOO#O#OOO#OOO#OOOOO###OOO#OOO#OOOOO#OOO###O#OOO#O#O#OOOOO#.....#...#OOO#\n",
            "#O#O###O###O#O#############O#####O#############O#.###.#.###.#.###O#O###O#O#O###O#O#####O###O#O#O#########O#O###O#O###O#O#O###O#####.#####O#O#\n",
            "#O#OOOOO#OOO#OOO#OOO###OOO#O#OOOOO#OOO#OOOOOOOOO#...#.#...#.#.###O#O#OOO#O#O#OOO#O#OOO#OOOOO#O#OOOOOOOOO#O#O###O#O###O#O#O#OOO#...#...#OOO#O#\n",
            "#O#######O#####O#O#O###O#O#O#O#####O#O#O###########.#.###.#.#.###O#O#O###O#O#O###O#O#O#######O#########O#O#O###O#O###O#O#O#O###v#.###.#O###O#\n",
            "#OOO#OOOOO#OOO#OOO#OOO#O#O#O#O#OOO#O#O#OOOOOOO###...#.#...#.#.#OOO#O#OOO#O#O#OOO#O#O#O#OOOOOOO#...#...\u003EOOO#OOO#O#OOO#O#O#O#O#OOO#.....#OOO#O#\n",
            "###O#O#####O#O#######O#O#O#O#O#O#O#O#O#######O###.###.#.###.#.#O###O###O#O#O###O#O#O#O#O#######.#.#.#########O#O###O#O#O#O#O#O#O#########O#O#\n",
            "#OOO#O#OOOOO#OOO#OOO#O#O#O#O#O#O#O#O#O#####OOO#...###.#.###.#.#OOO#O#OOO#O#OOOOO#O#O#OOO\u003E.#...#.#.#.#...#...#O#O###O#O#O#O#OOO#OOO#OOO#OOO#O#\n",
            "#O###O#O#######O#O#O#O#O#O#O#O#O#O#O#O#####O###.#####.#.###.#.###O#O#O###O#######O#O#####.#.#.#.#.#.#.#.#.#.#O#O###O#O#O#O#######O#O#O#O###O#\n",
            "#OOO#O#O#OOOOO#OOO#OOO#O#O#O#O#O#O#O#OOO#OOO\u003E.#...#...#...#.#.#OOO#O#OOO#O###OOOOO#OOOOO#.#.#.#.#.#...#...#.#O#OOO#OOO#O#O#OOOOOOO#O#O#OOO#O#\n",
            "###O#O#O#O###O#########O#O#O#O#O#O#O###O#O###.###.#.#####.#.#.#O###O###O#O###O#########O#.#.#.#.#.#########.#O###O#####O#O#O#######O#O###O#O#\n",
            "###O#O#O#O###OOOOOOO#OOO#O#O#OOO#O#O#OOO#O###.#...#.....#.#...#OOOOO###O#OOO#O#OOO#OOOOO#.#.#.#.#...#.....#.#O#OOO#OOOOO#O#OOOOO#OOO#O#OOO#O#\n",
            "###O#O#O#O#########O#O###O#O#####O#O#O###O###.#.#######.#.#############O###O#O#O#O#O#####.#.#.#.###.#.###.#.#O#O###O#####O#####O#O###O#O###O#\n",
            "#OOO#O#O#O#OOOOOOOOO#O#OOO#OOOOO#O#O#OOO#O###.#.#.......#.....#OOOOOOOOO#OOO#O#O#O#OOOOO#.#.#.#.#...#...#.#.#O#OOO#OOO#OOO#OOOOO#O#OOO#O#OOO#\n",
            "#O###O#O#O#O#########O#O#######O#O#O###O#O###.#.#.###########.#O#########O###O#O#O#####O#.#.#.#.#.#####.#.#.#O###O###O#O###O#####O#O###O#O###\n",
            "#OOOOO#OOO#OOOOOOOOOOO#OOOOOOOOO#OOO###OOO###...#.............#OOOOOOOOOOO###OOO#OOOOOOO#...#...#.......#...#OOOOO###OOO###OOOOOOO#OOOOO#OOO#\n",
            "###########################################################################################################################################O#\n"
          ]
        }
      ],
      "source": [
        "foreach (var line in part2Hike.Render(part2Longest.ToJourney()))\n",
        "{\n",
        "    Console.WriteLine(line);\n",
        "}"
      ]
    }
  ],
  "metadata": {
    "kernelspec": {
      "display_name": ".NET (C#)",
      "language": "C#",
      "name": ".net-csharp"
    },
    "language_info": {
      "name": "python"
    },
    "polyglot_notebook": {
      "kernelInfo": {
        "defaultKernelName": "csharp",
        "items": [
          {
            "aliases": [],
            "name": "csharp"
          }
        ]
      }
    }
  },
  "nbformat": 4,
  "nbformat_minor": 2
}