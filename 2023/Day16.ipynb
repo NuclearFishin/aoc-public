{
  "cells": [
    {
      "cell_type": "markdown",
      "metadata": {
        "dotnet_interactive": {
          "language": "csharp"
        },
        "polyglot_notebook": {
          "kernelName": "csharp"
        }
      },
      "source": [
        "### --- Day 16: The Floor Will Be Lava ---\n",
        "\n",
        "Puzzle description redacted as-per Advent of Code guidelines\n",
        "\n",
        "You may find the puzzle description at: https://adventofcode.com/2023/day/16"
      ]
    },
    {
      "cell_type": "code",
      "execution_count": 2,
      "metadata": {
        "dotnet_interactive": {
          "language": "csharp"
        },
        "polyglot_notebook": {
          "kernelName": "csharp"
        }
      },
      "outputs": [],
      "source": [
        "#!import ../Utils.ipynb"
      ]
    },
    {
      "cell_type": "code",
      "execution_count": 3,
      "metadata": {
        "dotnet_interactive": {
          "language": "csharp"
        },
        "polyglot_notebook": {
          "kernelName": "csharp"
        }
      },
      "outputs": [
        {
          "name": "stdout",
          "output_type": "stream",
          "text": [
            "Loading puzzle file: Day16.txt\n",
            "Total lines: 110\n",
            "Max line length: 110\n",
            "\n",
            "\\...|.........\\........./.................\\...\\.../.\\/../|....\\................./..../........-\\..-.\\-..../...\n",
            "...|....\\................../.............../-....--..........-......-......\\....-........../-..............|..\n",
            "..............\\....../.........../...................|.........\\.................|.-................../.......\n",
            ".........................\\........../..-........./.../..........|....................-....\\./.........|.......\n",
            ".-.......\\......-.-................|......................................-..............\\......./............\n"
          ]
        }
      ],
      "source": [
        "var inputLines = LoadPuzzleInput(2023, 16);\n",
        "WriteLines(inputLines);"
      ]
    },
    {
      "cell_type": "code",
      "execution_count": 4,
      "metadata": {
        "dotnet_interactive": {
          "language": "csharp"
        },
        "polyglot_notebook": {
          "kernelName": "csharp"
        }
      },
      "outputs": [],
      "source": [
        "class MirrorMap(string[] inputLines) {\n",
        "    private string[] inputLines = inputLines;\n",
        "\n",
        "    public int Rows = inputLines.Length;\n",
        "    public int Cols = inputLines[0].Length;\n",
        "\n",
        "    public bool IsValid(Point p) {\n",
        "        return 0 \u003C= p.row \u0026\u0026 p.row \u003C Rows \u0026\u0026 0 \u003C= p.col \u0026\u0026 p.col \u003C Cols;\n",
        "    }\n",
        "\n",
        "    public char Char(Point p) =\u003E inputLines[p.row][p.col];\n",
        "}\n",
        "\n",
        "record Point(int row, int col) {\n",
        "    public Point Up() =\u003E new(row - 1, col);\n",
        "    public Point Down() =\u003E new(row \u002B 1, col);\n",
        "    public Point Left() =\u003E new(row, col - 1);\n",
        "    public Point Right() =\u003E new(row, col \u002B 1);\n",
        "}\n",
        "\n",
        "enum Direction {\n",
        "    Up,\n",
        "    Down,\n",
        "    Left,\n",
        "    Right\n",
        "}\n",
        "\n",
        "record BeamPoint(Point point, Direction direction);"
      ]
    },
    {
      "cell_type": "code",
      "execution_count": 5,
      "metadata": {
        "dotnet_interactive": {
          "language": "csharp"
        },
        "polyglot_notebook": {
          "kernelName": "csharp"
        }
      },
      "outputs": [],
      "source": [
        "HashSet\u003CPoint\u003E ScanAll(MirrorMap map, BeamPoint startPoint)\n",
        "{\n",
        "    var queue = new Queue\u003CBeamPoint\u003E();\n",
        "    queue.Enqueue(startPoint);\n",
        "\n",
        "    var safety = 0;\n",
        "\n",
        "    HashSet\u003CBeamPoint\u003E scannedPoints = new();\n",
        "    while (queue.TryDequeue(out var beamPoint)) {\n",
        "        if (safety\u002B\u002B \u003E= 100000) {\n",
        "            throw new Exception(\u0022Safety limit exceeded\u0022);\n",
        "        }\n",
        "\n",
        "        var (point, direction) = beamPoint;\n",
        "\n",
        "        if (!map.IsValid(point)) {\n",
        "            continue;\n",
        "        }\n",
        "        if (scannedPoints.Contains(beamPoint)) {\n",
        "            continue;\n",
        "        }\n",
        "\n",
        "        scannedPoints.Add(beamPoint);\n",
        "\n",
        "        var ch = map.Char(point);\n",
        "        foreach (var next in GetNext(beamPoint, ch)) {\n",
        "            queue.Enqueue(next);\n",
        "        }\n",
        "    }\n",
        "\n",
        "    return scannedPoints.Select(sp =\u003E sp.point).ToHashSet();\n",
        "}\n",
        "\n",
        "HashSet\u003CPoint\u003E ScanAll(MirrorMap map) =\u003E ScanAll(map, new(new(0, 0), Direction.Right));\n",
        "\n",
        "IList\u003CBeamPoint\u003E GetNext(BeamPoint bp, char ch) =\u003E (bp.direction, bp.point, ch) switch {\n",
        "    (Direction.Up, var p, \u0027-\u0027) =\u003E [new(p.Left(), Direction.Left), new(p.Right(), Direction.Right)],\n",
        "    (Direction.Up, var p, \u0027/\u0027) =\u003E [new(p.Right(), Direction.Right)],\n",
        "    (Direction.Up, var p, \u0027\\\\\u0027) =\u003E [new(p.Left(), Direction.Left)],\n",
        "    (Direction.Up, var p, _) =\u003E [new(p.Up(), Direction.Up)],\n",
        "\n",
        "    (Direction.Down, var p, \u0027-\u0027) =\u003E [new(p.Left(), Direction.Left), new(p.Right(), Direction.Right)],\n",
        "    (Direction.Down, var p, \u0027/\u0027) =\u003E [new(p.Left(), Direction.Left)],\n",
        "    (Direction.Down, var p, \u0027\\\\\u0027) =\u003E [new(p.Right(), Direction.Right)],\n",
        "    (Direction.Down, var p, _) =\u003E [new(p.Down(), Direction.Down)],\n",
        "\n",
        "    (Direction.Left, var p, \u0027|\u0027) =\u003E [new(p.Up(), Direction.Up), new(p.Down(), Direction.Down)],\n",
        "    (Direction.Left, var p, \u0027/\u0027) =\u003E [new(p.Down(), Direction.Down)],\n",
        "    (Direction.Left, var p, \u0027\\\\\u0027) =\u003E [new(p.Up(), Direction.Up)],\n",
        "    (Direction.Left, var p, _) =\u003E [new(p.Left(), Direction.Left)],\n",
        "\n",
        "    (Direction.Right, var p, \u0027|\u0027) =\u003E [new(p.Up(), Direction.Up), new(p.Down(), Direction.Down)],\n",
        "    (Direction.Right, var p, \u0027/\u0027) =\u003E [new(p.Up(), Direction.Up)],\n",
        "    (Direction.Right, var p, \u0027\\\\\u0027) =\u003E [new(p.Down(), Direction.Down)],\n",
        "    (Direction.Right, var p, _) =\u003E [new(p.Right(), Direction.Right)],\n",
        "    \n",
        "    _ =\u003E throw new Exception(\u0022unexpected combo\u0022)\n",
        "};"
      ]
    },
    {
      "cell_type": "code",
      "execution_count": 6,
      "metadata": {
        "dotnet_interactive": {
          "language": "csharp"
        },
        "polyglot_notebook": {
          "kernelName": "csharp"
        }
      },
      "outputs": [
        {
          "name": "stdout",
          "output_type": "stream",
          "text": [
            "46\n"
          ]
        }
      ],
      "source": [
        "var testInputString = \u0022\u0022\u0022\n",
        ".|...\\....\n",
        "|.-.\\.....\n",
        ".....|-...\n",
        "........|.\n",
        "..........\n",
        ".........\\\n",
        "..../.\\\\..\n",
        ".-.-/..|..\n",
        ".|....-|.\\\n",
        "..//.|....\n",
        "\u0022\u0022\u0022;\n",
        "var testInputLines = testInputString.Split(\u0027\\n\u0027);\n",
        "var testInputMap = new MirrorMap(testInputLines);\n",
        "var testAnswer = ScanAll(testInputMap);\n",
        "\n",
        "// Ultimately, in this example, 46 tiles become energized.\n",
        "Console.WriteLine(testAnswer.Count);"
      ]
    },
    {
      "cell_type": "code",
      "execution_count": 7,
      "metadata": {
        "dotnet_interactive": {
          "language": "csharp"
        },
        "polyglot_notebook": {
          "kernelName": "csharp"
        }
      },
      "outputs": [
        {
          "name": "stdout",
          "output_type": "stream",
          "text": [
            "8146\n"
          ]
        }
      ],
      "source": [
        "var inputMap = new MirrorMap(inputLines);\n",
        "var result = ScanAll(inputMap);\n",
        "\n",
        "// The light isn\u0027t energizing enough tiles to produce lava; to debug the\n",
        "// contraption, you need to start by analyzing the current situation. With the beam\n",
        "// starting in the top-left heading right, how many tiles end up being energized?\n",
        "\n",
        "var part1Answer = result.Count;\n",
        "Console.WriteLine(part1Answer);"
      ]
    },
    {
      "cell_type": "code",
      "execution_count": 8,
      "metadata": {
        "dotnet_interactive": {
          "language": "csharp"
        },
        "polyglot_notebook": {
          "kernelName": "csharp"
        }
      },
      "outputs": [],
      "source": [
        "// 8146 is correct!\n",
        "Ensure(8146, part1Answer);"
      ]
    },
    {
      "cell_type": "markdown",
      "metadata": {
        "dotnet_interactive": {
          "language": "csharp"
        },
        "polyglot_notebook": {
          "kernelName": "csharp"
        }
      },
      "source": [
        "### --- Part Two ---\n",
        "\n",
        "Puzzle description redacted as-per Advent of Code guidelines\n",
        "\n",
        "You may find the puzzle description at: https://adventofcode.com/2023/day/16"
      ]
    },
    {
      "cell_type": "code",
      "execution_count": 10,
      "metadata": {
        "dotnet_interactive": {
          "language": "csharp"
        },
        "polyglot_notebook": {
          "kernelName": "csharp"
        }
      },
      "outputs": [],
      "source": [
        "IEnumerable\u003CBeamPoint\u003E GetAllStartPoints(MirrorMap map) {\n",
        "    var topDown = Enumerable.Range(0, map.Cols).Select(col =\u003E new BeamPoint(new(0, col), Direction.Down));\n",
        "    var bottomUp = Enumerable.Range(0, map.Cols).Select(col =\u003E new BeamPoint(new(map.Rows - 1, col), Direction.Up));\n",
        "    var leftRight = Enumerable.Range(0, map.Rows).Select(row =\u003E new BeamPoint(new(row, 0), Direction.Right));\n",
        "    var rightLeft = Enumerable.Range(0, map.Rows).Select(row =\u003E new BeamPoint(new(row, map.Cols - 1), Direction.Left));\n",
        "\n",
        "    return topDown.Concat(bottomUp).Concat(leftRight).Concat(rightLeft);\n",
        "}"
      ]
    },
    {
      "cell_type": "code",
      "execution_count": 11,
      "metadata": {
        "dotnet_interactive": {
          "language": "csharp"
        },
        "polyglot_notebook": {
          "kernelName": "csharp"
        }
      },
      "outputs": [
        {
          "name": "stdout",
          "output_type": "stream",
          "text": [
            "51\n"
          ]
        }
      ],
      "source": [
        "// Using this configuration, 51 tiles are energized:\n",
        "\n",
        "var part2TestAnswer = GetAllStartPoints(testInputMap).Select(sp =\u003E ScanAll(testInputMap, sp).Count()).Max();\n",
        "Console.WriteLine(part2TestAnswer);"
      ]
    },
    {
      "cell_type": "code",
      "execution_count": 12,
      "metadata": {
        "dotnet_interactive": {
          "language": "csharp"
        },
        "polyglot_notebook": {
          "kernelName": "csharp"
        }
      },
      "outputs": [
        {
          "name": "stdout",
          "output_type": "stream",
          "text": [
            "8358\n"
          ]
        }
      ],
      "source": [
        "// Find the initial beam configuration that energizes the largest number of tiles; how many tiles are energized in that configuration?\n",
        "\n",
        "var part2Answer = GetAllStartPoints(inputMap).Select(sp =\u003E ScanAll(inputMap, sp).Count()).Max();\n",
        "Console.WriteLine(part2Answer);"
      ]
    },
    {
      "cell_type": "code",
      "execution_count": 13,
      "metadata": {
        "dotnet_interactive": {
          "language": "csharp"
        },
        "polyglot_notebook": {
          "kernelName": "csharp"
        }
      },
      "outputs": [],
      "source": [
        "// 8358 is correct!\n",
        "Ensure(8358, part2Answer);"
      ]
    }
  ],
  "metadata": {
    "kernelspec": {
      "display_name": ".NET (C#)",
      "language": "C#",
      "name": ".net-csharp"
    },
    "language_info": {
      "name": "polyglot-notebook"
    },
    "polyglot_notebook": {
      "kernelInfo": {
        "defaultKernelName": "csharp",
        "items": [
          {
            "aliases": [],
            "name": "csharp"
          }
        ]
      }
    }
  },
  "nbformat": 4,
  "nbformat_minor": 2
}