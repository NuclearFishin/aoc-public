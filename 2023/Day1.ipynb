{
  "cells": [
    {
      "cell_type": "markdown",
      "metadata": {
        "dotnet_interactive": {
          "language": "csharp"
        },
        "polyglot_notebook": {
          "kernelName": "csharp"
        },
        "vscode": {
          "languageId": "polyglot-notebook"
        }
      },
      "source": [
        "### --- Day 1: Trebuchet?! ---\n",
        "\n",
        "Puzzle description redacted as-per Advent of Code guidelines\n",
        "\n",
        "You may find the puzzle description at: https://adventofcode.com/2023/day/1"
      ]
    },
    {
      "cell_type": "code",
      "execution_count": 2,
      "metadata": {
        "dotnet_interactive": {
          "language": "csharp"
        },
        "polyglot_notebook": {
          "kernelName": "csharp"
        },
        "vscode": {
          "languageId": "polyglot-notebook"
        }
      },
      "outputs": [],
      "source": [
        "#!import ../Utils.ipynb"
      ]
    },
    {
      "cell_type": "code",
      "execution_count": 3,
      "metadata": {
        "dotnet_interactive": {
          "language": "csharp"
        },
        "polyglot_notebook": {
          "kernelName": "csharp"
        },
        "vscode": {
          "languageId": "polyglot-notebook"
        }
      },
      "outputs": [],
      "source": [
        "var testInput = \u0022\u0022\u0022\n",
        "1abc2\n",
        "pqr3stu8vwx\n",
        "a1b2c3d4e5f\n",
        "treb7uchet\n",
        "\u0022\u0022\u0022;"
      ]
    },
    {
      "cell_type": "code",
      "execution_count": 4,
      "metadata": {
        "dotnet_interactive": {
          "language": "csharp"
        },
        "polyglot_notebook": {
          "kernelName": "csharp"
        },
        "vscode": {
          "languageId": "polyglot-notebook"
        }
      },
      "outputs": [
        {
          "name": "stdout",
          "output_type": "stream",
          "text": [
            "142\n"
          ]
        }
      ],
      "source": [
        "int GetNumber(string line) {\n",
        "    int? first = null;\n",
        "    int? last = null;\n",
        "    \n",
        "    foreach (var i in Enumerable.Range(0, line.Length)) {\n",
        "        var fChar = line[i];\n",
        "        var bChar = line[line.Length - 1 - i];\n",
        "\n",
        "        if (Char.IsDigit(fChar)) {\n",
        "            first ??= (fChar - \u00270\u0027);\n",
        "        }\n",
        "\n",
        "        if (Char.IsDigit(bChar)) {\n",
        "            last ??= (bChar - \u00270\u0027);\n",
        "        }\n",
        "\n",
        "        if (first.HasValue \u0026\u0026 last.HasValue) {\n",
        "            break;\n",
        "        }\n",
        "    }\n",
        "\n",
        "    return first.Value * 10 \u002B last.Value;\n",
        "}\n",
        "\n",
        "var testInputLines = testInput.Split(\u0027\\n\u0027);\n",
        "var testInputNumbers = testInputLines.Select(GetNumber);\n",
        "\n",
        "var testInputAnswer = testInputNumbers.Sum();\n",
        "\n",
        "// In this example, the calibration values of these four lines are 12, 38, 15,\n",
        "// and 77. Adding these together produces 142.\n",
        "Console.WriteLine(testInputAnswer);"
      ]
    },
    {
      "cell_type": "code",
      "execution_count": 5,
      "metadata": {
        "dotnet_interactive": {
          "language": "csharp"
        },
        "polyglot_notebook": {
          "kernelName": "csharp"
        },
        "vscode": {
          "languageId": "polyglot-notebook"
        }
      },
      "outputs": [
        {
          "name": "stdout",
          "output_type": "stream",
          "text": [
            "Loading puzzle file: Day1.txt\n",
            "Total lines: 1000\n",
            "Max line length: 49\n",
            "\n",
            "23krgjlpone\n",
            "kfxone67bzb2\n",
            "8jjpseven\n",
            "236twoknbxlczgd\n",
            "sevensrncljm5zmvvrtthreejjd85twonepvj\n"
          ]
        }
      ],
      "source": [
        "var inputLines = LoadPuzzleInput(2023, 1);\n",
        "WriteLines(inputLines);"
      ]
    },
    {
      "cell_type": "code",
      "execution_count": 6,
      "metadata": {
        "dotnet_interactive": {
          "language": "csharp"
        },
        "polyglot_notebook": {
          "kernelName": "csharp"
        },
        "vscode": {
          "languageId": "polyglot-notebook"
        }
      },
      "outputs": [
        {
          "name": "stdout",
          "output_type": "stream",
          "text": [
            "54667\n"
          ]
        }
      ],
      "source": [
        "var numbers = inputLines.Select(GetNumber);\n",
        "var part1Answer = numbers.Sum();\n",
        "\n",
        "Console.WriteLine(part1Answer);"
      ]
    },
    {
      "cell_type": "code",
      "execution_count": 7,
      "metadata": {
        "dotnet_interactive": {
          "language": "csharp"
        },
        "polyglot_notebook": {
          "kernelName": "csharp"
        },
        "vscode": {
          "languageId": "polyglot-notebook"
        }
      },
      "outputs": [],
      "source": [
        "// 54667 is correct!\n",
        "Ensure(54667, part1Answer);"
      ]
    },
    {
      "cell_type": "markdown",
      "metadata": {
        "dotnet_interactive": {
          "language": "csharp"
        },
        "polyglot_notebook": {
          "kernelName": "csharp"
        },
        "vscode": {
          "languageId": "polyglot-notebook"
        }
      },
      "source": [
        "### --- Part Two ---\n",
        "\n",
        "Puzzle description redacted as-per Advent of Code guidelines\n",
        "\n",
        "You may find the puzzle description at: https://adventofcode.com/2023/day/1"
      ]
    },
    {
      "cell_type": "code",
      "execution_count": 9,
      "metadata": {
        "dotnet_interactive": {
          "language": "csharp"
        },
        "polyglot_notebook": {
          "kernelName": "csharp"
        },
        "vscode": {
          "languageId": "polyglot-notebook"
        }
      },
      "outputs": [],
      "source": [
        "Dictionary\u003Cstring, int\u003E lookup = new() {\n",
        "    { \u00220\u0022, 0 },\n",
        "    { \u00221\u0022, 1 },\n",
        "    { \u00222\u0022, 2 },\n",
        "    { \u00223\u0022, 3 },\n",
        "    { \u00224\u0022, 4 },\n",
        "    { \u00225\u0022, 5 },\n",
        "    { \u00226\u0022, 6 },\n",
        "    { \u00227\u0022, 7 }, \n",
        "    { \u00228\u0022, 8 },\n",
        "    { \u00229\u0022, 9 },\n",
        "    { \u0022zero\u0022, 0 },\n",
        "    { \u0022one\u0022, 1 },\n",
        "    { \u0022two\u0022, 2 },\n",
        "    { \u0022three\u0022, 3 },\n",
        "    { \u0022four\u0022, 4 },\n",
        "    { \u0022five\u0022, 5 },\n",
        "    { \u0022six\u0022, 6 },\n",
        "    { \u0022seven\u0022, 7},\n",
        "    { \u0022eight\u0022, 8 },\n",
        "    { \u0022nine\u0022, 9}\n",
        "};"
      ]
    },
    {
      "cell_type": "code",
      "execution_count": 10,
      "metadata": {
        "dotnet_interactive": {
          "language": "csharp"
        },
        "polyglot_notebook": {
          "kernelName": "csharp"
        },
        "vscode": {
          "languageId": "polyglot-notebook"
        }
      },
      "outputs": [
        {
          "name": "stdout",
          "output_type": "stream",
          "text": [
            "14\n"
          ]
        }
      ],
      "source": [
        "int GetNumber2(string line) {\n",
        "    int? first = null;\n",
        "    int? last = null;\n",
        "    \n",
        "    var foundLookups = lookup.Where(l =\u003E line.Contains(l.Key)).ToArray();\n",
        "\n",
        "    var forwardsFirst = foundLookups.OrderBy(l =\u003E line.IndexOf(l.Key)).First();\n",
        "    first = forwardsFirst.Value;\n",
        "\n",
        "    var backwardsLast = foundLookups.OrderBy(l =\u003E line.LastIndexOf(l.Key)).Last();\n",
        "    last = backwardsLast.Value;\n",
        "\n",
        "    return first.Value * 10 \u002B last.Value;\n",
        "}\n",
        "\n",
        "Console.WriteLine(GetNumber2(\u0022zoneight234\u0022).ToString());"
      ]
    },
    {
      "cell_type": "code",
      "execution_count": 11,
      "metadata": {
        "dotnet_interactive": {
          "language": "csharp"
        },
        "polyglot_notebook": {
          "kernelName": "csharp"
        },
        "vscode": {
          "languageId": "polyglot-notebook"
        }
      },
      "outputs": [
        {
          "name": "stdout",
          "output_type": "stream",
          "text": [
            "54203\n"
          ]
        }
      ],
      "source": [
        "var numbers = inputLines.Select(GetNumber2);\n",
        "var part2Answer = numbers.Sum();\n",
        "\n",
        "Console.WriteLine(part2Answer);"
      ]
    },
    {
      "cell_type": "code",
      "execution_count": 12,
      "metadata": {
        "dotnet_interactive": {
          "language": "csharp"
        },
        "polyglot_notebook": {
          "kernelName": "csharp"
        },
        "vscode": {
          "languageId": "polyglot-notebook"
        }
      },
      "outputs": [],
      "source": [
        "// 54203 is correct!\n",
        "Ensure(54203, part2Answer);"
      ]
    }
  ],
  "metadata": {
    "kernelspec": {
      "display_name": ".NET (C#)",
      "language": "C#",
      "name": ".net-csharp"
    },
    "language_info": {
      "name": "python"
    },
    "polyglot_notebook": {
      "kernelInfo": {
        "defaultKernelName": "csharp",
        "items": [
          {
            "aliases": [],
            "name": "csharp"
          }
        ]
      }
    }
  },
  "nbformat": 4,
  "nbformat_minor": 2
}