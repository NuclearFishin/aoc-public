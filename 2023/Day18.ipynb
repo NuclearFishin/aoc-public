{
  "cells": [
    {
      "cell_type": "markdown",
      "metadata": {
        "dotnet_interactive": {
          "language": "csharp"
        },
        "polyglot_notebook": {
          "kernelName": "csharp"
        },
        "vscode": {
          "languageId": "polyglot-notebook"
        }
      },
      "source": [
        "### --- Day 18: Lavaduct Lagoon ---\n",
        "\n",
        "Puzzle description redacted as-per Advent of Code guidelines\n",
        "\n",
        "You may find the puzzle description at: https://adventofcode.com/2023/day/18"
      ]
    },
    {
      "cell_type": "code",
      "execution_count": 2,
      "metadata": {
        "dotnet_interactive": {
          "language": "csharp"
        },
        "polyglot_notebook": {
          "kernelName": "csharp"
        },
        "vscode": {
          "languageId": "polyglot-notebook"
        }
      },
      "outputs": [],
      "source": [
        "#!import ../Utils.ipynb"
      ]
    },
    {
      "cell_type": "code",
      "execution_count": 3,
      "metadata": {
        "dotnet_interactive": {
          "language": "csharp"
        },
        "polyglot_notebook": {
          "kernelName": "csharp"
        },
        "vscode": {
          "languageId": "polyglot-notebook"
        }
      },
      "outputs": [
        {
          "name": "stdout",
          "output_type": "stream",
          "text": [
            "Loading puzzle file: Day18.txt\n",
            "Total lines: 624\n",
            "Max line length: 14\n",
            "\n",
            "R 4 (#5ca782)\n",
            "U 6 (#79d133)\n",
            "R 8 (#90d7f2)\n",
            "U 3 (#13cc11)\n",
            "R 3 (#57f4c0)\n"
          ]
        }
      ],
      "source": [
        "var inputLines =  LoadPuzzleInput(2023, 18);\n",
        "WriteLines(inputLines);"
      ]
    },
    {
      "cell_type": "code",
      "execution_count": 4,
      "metadata": {
        "dotnet_interactive": {
          "language": "csharp"
        },
        "polyglot_notebook": {
          "kernelName": "csharp"
        },
        "vscode": {
          "languageId": "polyglot-notebook"
        }
      },
      "outputs": [],
      "source": [
        "record Point(int row, int col) {\n",
        "    public static Point operator \u002B(Point a, Point b) =\u003E new(a.row \u002B b.row, a.col \u002B b.col);\n",
        "\n",
        "    public static Point operator *(Point a, int x) =\u003E new(a.row * x, a.col * x);\n",
        "}\n",
        "\n",
        "Point Down = new(1, 0);\n",
        "Point Up = new(-1, 0);\n",
        "Point Right = new(0, 1);\n",
        "Point Left = new(0, -1);\n",
        "\n",
        "Point GetDir(char c) =\u003E c switch {\n",
        "    \u0027U\u0027 =\u003E Up,\n",
        "    \u0027D\u0027 =\u003E Down,\n",
        "    \u0027L\u0027 =\u003E Left,\n",
        "    \u0027R\u0027 =\u003E Right,\n",
        "    _ =\u003E throw new Exception(\u0022Unexpected char\u0022)\n",
        "};\n",
        "\n",
        "record Step(char direction, int steps, string colour);\n",
        "\n",
        "record TracePoint(Point point, bool isWall, Step source);\n",
        "\n",
        "IEnumerable\u003C(T item, int i)\u003E Enumerate\u003CT\u003E(IEnumerable\u003CT\u003E source) =\u003E source.Select((item, i) =\u003E (item, i));\n",
        "\n",
        "IList\u003CTracePoint\u003E TraceAllPoints(IList\u003CStep\u003E steps) {\n",
        "    Dictionary\u003CPoint, TracePoint\u003E result = new();\n",
        "    \n",
        "    Point p = new(0, 0);\n",
        "\n",
        "    var prev = steps.Last();\n",
        "    foreach (var (step, i) in Enumerate(steps))\n",
        "    {\n",
        "        var next = steps[(i \u002B 1) % steps.Count];\n",
        "\n",
        "        var directions = (prev.direction, step.direction, next.direction);\n",
        "        var isWall = directions switch {\n",
        "            (_, \u0027D\u0027, _) =\u003E true,\n",
        "            (_, \u0027U\u0027, _) =\u003E true,\n",
        "            (\u0027U\u0027, _, \u0027U\u0027) =\u003E true,\n",
        "            (\u0027D\u0027, _, \u0027D\u0027) =\u003E true,\n",
        "            _ =\u003E false\n",
        "        };\n",
        "\n",
        "        if (\u0022LR\u0022.Contains(step.direction)) {\n",
        "            // Assign the last of the pervious vertical step it to the current\n",
        "            // horizontal step, so we can \u0022group\u0022 the wall pieces\n",
        "            \n",
        "            result[p] = new(p, isWall, step);\n",
        "        }\n",
        "\n",
        "        foreach (var st in Enumerable.Range(0, step.steps)) {\n",
        "            p \u002B= GetDir(step.direction);\n",
        "            \n",
        "            if (!result.ContainsKey(p)) {\n",
        "                // Can happen for 0,0\n",
        "                result[p] = new(p, isWall, step);\n",
        "            }\n",
        "        }\n",
        "\n",
        "        prev = step;\n",
        "    }\n",
        "\n",
        "    return result.Values.ToList();\n",
        "}"
      ]
    },
    {
      "cell_type": "code",
      "execution_count": 5,
      "metadata": {
        "dotnet_interactive": {
          "language": "csharp"
        },
        "polyglot_notebook": {
          "kernelName": "csharp"
        },
        "vscode": {
          "languageId": "polyglot-notebook"
        }
      },
      "outputs": [
        {
          "name": "stdout",
          "output_type": "stream",
          "text": [
            "TracePoint { point = Point { row = 0, col = 0 }, isWall = True, source = Step { direction = R, steps = 3, colour = red } }\n",
            "TracePoint { point = Point { row = 0, col = 1 }, isWall = True, source = Step { direction = R, steps = 3, colour = red } }\n",
            "TracePoint { point = Point { row = 0, col = 2 }, isWall = True, source = Step { direction = R, steps = 3, colour = red } }\n",
            "TracePoint { point = Point { row = 0, col = 3 }, isWall = True, source = Step { direction = R, steps = 3, colour = red } }\n",
            "TracePoint { point = Point { row = -1, col = 3 }, isWall = True, source = Step { direction = U, steps = 3, colour = blue } }\n",
            "TracePoint { point = Point { row = -2, col = 3 }, isWall = True, source = Step { direction = U, steps = 3, colour = blue } }\n",
            "TracePoint { point = Point { row = -3, col = 3 }, isWall = True, source = Step { direction = U, steps = 3, colour = blue } }\n"
          ]
        }
      ],
      "source": [
        "Console.WriteLine(string.Join(\u0027\\n\u0027, TraceAllPoints([new(\u0027R\u0027, 3, \u0022red\u0022), new(\u0027U\u0027, 3, \u0022blue\u0022)])));"
      ]
    },
    {
      "cell_type": "code",
      "execution_count": 6,
      "metadata": {
        "dotnet_interactive": {
          "language": "csharp"
        },
        "polyglot_notebook": {
          "kernelName": "csharp"
        },
        "vscode": {
          "languageId": "polyglot-notebook"
        }
      },
      "outputs": [],
      "source": [
        "Step ParseStep(string line) {\n",
        "    var bits = line.Split(\u0027 \u0027);\n",
        "\n",
        "    var direction = bits[0][0];\n",
        "    var steps = int.Parse(bits[1]);\n",
        "    var colour = bits[2].Substring(2, 6);\n",
        "\n",
        "    return new(direction, steps, colour);\n",
        "}"
      ]
    },
    {
      "cell_type": "code",
      "execution_count": 7,
      "metadata": {
        "dotnet_interactive": {
          "language": "csharp"
        },
        "polyglot_notebook": {
          "kernelName": "csharp"
        },
        "vscode": {
          "languageId": "polyglot-notebook"
        }
      },
      "outputs": [
        {
          "name": "stdout",
          "output_type": "stream",
          "text": [
            "38\n",
            "TracePoint { point = Point { row = 0, col = 0 }, isWall = False, source = Step { direction = R, steps = 6, colour = 70c710 } }\n",
            "TracePoint { point = Point { row = 0, col = 1 }, isWall = False, source = Step { direction = R, steps = 6, colour = 70c710 } }\n",
            "TracePoint { point = Point { row = 0, col = 2 }, isWall = False, source = Step { direction = R, steps = 6, colour = 70c710 } }\n",
            "TracePoint { point = Point { row = 0, col = 3 }, isWall = False, source = Step { direction = R, steps = 6, colour = 70c710 } }\n",
            "TracePoint { point = Point { row = 0, col = 4 }, isWall = False, source = Step { direction = R, steps = 6, colour = 70c710 } }\n"
          ]
        }
      ],
      "source": [
        "var testInput = \u0022\u0022\u0022\n",
        "R 6 (#70c710)\n",
        "D 5 (#0dc571)\n",
        "L 2 (#5713f0)\n",
        "D 2 (#d2c081)\n",
        "R 2 (#59c680)\n",
        "D 2 (#411b91)\n",
        "L 5 (#8ceee2)\n",
        "U 2 (#caa173)\n",
        "L 1 (#1b58a2)\n",
        "U 2 (#caa171)\n",
        "R 2 (#7807d2)\n",
        "U 3 (#a77fa3)\n",
        "L 2 (#015232)\n",
        "U 2 (#7a21e3)\n",
        "\u0022\u0022\u0022;\n",
        "var testInputLines = testInput.Split(\u0027\\n\u0027);\n",
        "var testInputSteps = testInputLines.Select(ParseStep).ToList();\n",
        "\n",
        "var testInputTrace = TraceAllPoints(testInputSteps).ToList();\n",
        "Console.WriteLine(testInputTrace.Count);\n",
        "Console.WriteLine(string.Join(\u0027\\n\u0027, testInputTrace.Take(5)));"
      ]
    },
    {
      "cell_type": "code",
      "execution_count": 8,
      "metadata": {
        "dotnet_interactive": {
          "language": "csharp"
        },
        "polyglot_notebook": {
          "kernelName": "csharp"
        },
        "vscode": {
          "languageId": "polyglot-notebook"
        }
      },
      "outputs": [
        {
          "name": "stdout",
          "output_type": "stream",
          "text": [
            "Point { row = 1, col = 1 }\n",
            "Point { row = 1, col = 2 }\n",
            "Point { row = 1, col = 3 }\n",
            "Point { row = 1, col = 4 }\n",
            "Point { row = 1, col = 5 }\n",
            "Point { row = 2, col = 3 }\n",
            "Point { row = 2, col = 4 }\n",
            "Point { row = 2, col = 5 }\n",
            "Point { row = 3, col = 3 }\n",
            "Point { row = 3, col = 4 }\n"
          ]
        }
      ],
      "source": [
        "IEnumerable\u003CPoint\u003E GetInternals(IEnumerable\u003CTracePoint\u003E tracePoints) {\n",
        "    HashSet\u003CPoint\u003E existing = new(tracePoints.Select(tp =\u003E tp.point));\n",
        "\n",
        "    // For a given row, the current column is inside the shape if it\u0027s within an odd-numbered number of walls\n",
        "\n",
        "    var q = from tp in tracePoints\n",
        "            where tp.isWall\n",
        "            group tp by tp.point.row into tpRow\n",
        "            let tpg = tpRow.GroupBy(tpr =\u003E tpr.source).OrderBy(g =\u003E g.Min(gg =\u003E gg.point.col))\n",
        "            let tpgPairs = Enumerate(tpg).GroupBy(ti =\u003E ti.i / 2).Where(g =\u003E g.Count() == 2)\n",
        "            let tpgPairTuples = tpgPairs.Select(p =\u003E p.ToArray()).Select(p =\u003E (a: p[0].item, b: p[1].item))\n",
        "            from tp in tpgPairTuples\n",
        "            let lastA = tp.a.Max(a =\u003E a.point.col)\n",
        "            let firstB = tp.b.Min(b =\u003E b.point.col)\n",
        "            let start = lastA \u002B 1\n",
        "            let cols = firstB - start\n",
        "            // Make sure we don\u0027t double-count horizontal pieces that are not\n",
        "            // counted as \u0022walls\u0022\n",
        "            from i in Enumerable.Range(0, cols)\n",
        "            let p = new Point(tpRow.Key, start) \u002B (Right * i)\n",
        "            where !existing.Contains(p)\n",
        "            select p;\n",
        "\n",
        "    return q;\n",
        "}\n",
        "\n",
        "foreach (var x in GetInternals(testInputTrace).Take(10)) {\n",
        "    Console.WriteLine(x);\n",
        "}"
      ]
    },
    {
      "cell_type": "code",
      "execution_count": 9,
      "metadata": {
        "dotnet_interactive": {
          "language": "csharp"
        },
        "polyglot_notebook": {
          "kernelName": "csharp"
        },
        "vscode": {
          "languageId": "polyglot-notebook"
        }
      },
      "outputs": [
        {
          "name": "stdout",
          "output_type": "stream",
          "text": [
            "-------\n",
            "|xxxxx|\n",
            "|||xxx|\n",
            "..|xxx|\n",
            "..|xxx|\n",
            "|||x|||\n",
            "|xxx|..\n",
            "||xx|||\n",
            ".|xxxx|\n",
            ".------\n"
          ]
        }
      ],
      "source": [
        "void Render(IEnumerable\u003CTracePoint\u003E points) {\n",
        "    var minRow = points.Min(p =\u003E p.point.row);\n",
        "    var minCol = points.Min(p =\u003E p.point.col);\n",
        "\n",
        "    var correction = new Point(-minRow, -minCol);\n",
        "\n",
        "    var pointDict = points.ToDictionary(tp =\u003E tp.point \u002B correction);\n",
        "\n",
        "    var rows = pointDict.Keys.Max(p =\u003E p.row);\n",
        "    var cols = pointDict.Keys.Max(p =\u003E p.col);\n",
        "\n",
        "    var chars = new char[rows \u002B 1][];\n",
        "\n",
        "    for (var row = 0; row \u003C= rows; row\u002B\u002B) {\n",
        "        chars[row] = new char[cols \u002B 1];\n",
        "        for (var col = 0; col \u003C= cols; col\u002B\u002B) {\n",
        "            var p = new Point(row, col);\n",
        "\n",
        "            char ch = \u0027.\u0027;\n",
        "\n",
        "            chars[row][col] = ch;\n",
        "        }\n",
        "    }\n",
        "\n",
        "    foreach (var p in points) {\n",
        "        var (row, col) = p.point \u002B correction;\n",
        "        chars[row][col] = p.isWall ? \u0027|\u0027 : \u0027-\u0027;\n",
        "    }\n",
        "\n",
        "    var internals = GetInternals(points).Select(p =\u003E p \u002B correction);\n",
        "    foreach (var (row, col) in internals) {\n",
        "        chars[row][col] = \u0027x\u0027;\n",
        "    }\n",
        "\n",
        "    Console.WriteLine(string.Join(\u0027\\n\u0027, chars.Select(row =\u003E new string(row))));\n",
        "}\n",
        "\n",
        "Render(testInputTrace);"
      ]
    },
    {
      "cell_type": "code",
      "execution_count": 10,
      "metadata": {
        "dotnet_interactive": {
          "language": "csharp"
        },
        "polyglot_notebook": {
          "kernelName": "csharp"
        },
        "vscode": {
          "languageId": "polyglot-notebook"
        }
      },
      "outputs": [
        {
          "name": "stdout",
          "output_type": "stream",
          "text": [
            "62\n"
          ]
        }
      ],
      "source": [
        "// Now, the lagoon can contain a much more respectable 62 cubic meters of lava. \n",
        "\n",
        "var testTotal = testInputSteps.Sum(st =\u003E st.steps) \u002B GetInternals(testInputTrace).Count();\n",
        "Console.WriteLine(testTotal);"
      ]
    },
    {
      "cell_type": "code",
      "execution_count": 11,
      "metadata": {
        "dotnet_interactive": {
          "language": "csharp"
        },
        "polyglot_notebook": {
          "kernelName": "csharp"
        },
        "vscode": {
          "languageId": "polyglot-notebook"
        }
      },
      "outputs": [],
      "source": [
        "var inputSteps = inputLines.Select(ParseStep).ToList();\n",
        "var inputTrace = TraceAllPoints(inputSteps);\n",
        "\n",
        "// Big ascii art here\n",
        "// Render(inputTrace);"
      ]
    },
    {
      "cell_type": "code",
      "execution_count": 12,
      "metadata": {
        "dotnet_interactive": {
          "language": "csharp"
        },
        "polyglot_notebook": {
          "kernelName": "csharp"
        },
        "vscode": {
          "languageId": "polyglot-notebook"
        }
      },
      "outputs": [
        {
          "name": "stdout",
          "output_type": "stream",
          "text": [
            "47139\n"
          ]
        }
      ],
      "source": [
        "// The Elves are concerned the lagoon won\u0027t be large enough; if they follow\n",
        "// their dig plan, how many cubic meters of lava could it hold?\n",
        "\n",
        "var part1Answer = inputSteps.Sum(x =\u003E x.steps) \u002B GetInternals(inputTrace).Count();\n",
        "Console.WriteLine(part1Answer);"
      ]
    },
    {
      "cell_type": "code",
      "execution_count": 13,
      "metadata": {
        "dotnet_interactive": {
          "language": "csharp"
        },
        "polyglot_notebook": {
          "kernelName": "csharp"
        },
        "vscode": {
          "languageId": "polyglot-notebook"
        }
      },
      "outputs": [],
      "source": [
        "// 47139 is correct!\n",
        "Ensure(47139, part1Answer);"
      ]
    },
    {
      "cell_type": "markdown",
      "metadata": {
        "dotnet_interactive": {
          "language": "csharp"
        },
        "polyglot_notebook": {
          "kernelName": "csharp"
        },
        "vscode": {
          "languageId": "polyglot-notebook"
        }
      },
      "source": [
        "### --- Part Two ---\n",
        "\n",
        "Puzzle description redacted as-per Advent of Code guidelines\n",
        "\n",
        "You may find the puzzle description at: https://adventofcode.com/2023/day/18"
      ]
    },
    {
      "cell_type": "code",
      "execution_count": 15,
      "metadata": {
        "dotnet_interactive": {
          "language": "csharp"
        },
        "polyglot_notebook": {
          "kernelName": "csharp"
        },
        "vscode": {
          "languageId": "polyglot-notebook"
        }
      },
      "outputs": [
        {
          "name": "stdout",
          "output_type": "stream",
          "text": [
            "Step { direction = R, steps = 461937, colour = 70c71 }\n",
            "Step { direction = D, steps = 56407, colour = 0dc57 }\n",
            "Step { direction = R, steps = 356671, colour = 5713f }\n",
            "Step { direction = D, steps = 863240, colour = d2c08 }\n",
            "Step { direction = R, steps = 367720, colour = 59c68 }\n",
            "Step { direction = D, steps = 266681, colour = 411b9 }\n",
            "Step { direction = L, steps = 577262, colour = 8ceee }\n",
            "Step { direction = U, steps = 829975, colour = caa17 }\n",
            "Step { direction = L, steps = 112010, colour = 1b58a }\n",
            "Step { direction = D, steps = 829975, colour = caa17 }\n",
            "Step { direction = L, steps = 491645, colour = 7807d }\n",
            "Step { direction = U, steps = 686074, colour = a77fa }\n",
            "Step { direction = L, steps = 5411, colour = 01523 }\n",
            "Step { direction = U, steps = 500254, colour = 7a21e }\n"
          ]
        }
      ],
      "source": [
        "int Number(string s) =\u003E int.Parse(s, System.Globalization.NumberStyles.HexNumber);\n",
        "\n",
        "char[] directionIndex = [\u0027R\u0027, \u0027D\u0027, \u0027L\u0027, \u0027U\u0027];\n",
        "\n",
        "Step ParseStep2(string line) {\n",
        "    var bits = line.Split(\u0027 \u0027);\n",
        "\n",
        "    var stepsHex = bits[2].Substring(2, 5);\n",
        "    var steps = Number(stepsHex);\n",
        "    var dirInt = int.Parse(bits[2].Substring(7,1));\n",
        "    var dirChar = directionIndex[dirInt];\n",
        "\n",
        "    return new Step(dirChar, steps, stepsHex);\n",
        "}\n",
        "\n",
        "var testInputSteps2 = testInputLines.Select(ParseStep2);\n",
        "foreach (var t in testInputSteps2) {\n",
        "    Console.WriteLine(t);\n",
        "}"
      ]
    },
    {
      "cell_type": "code",
      "execution_count": 16,
      "metadata": {
        "dotnet_interactive": {
          "language": "csharp"
        },
        "polyglot_notebook": {
          "kernelName": "csharp"
        },
        "vscode": {
          "languageId": "polyglot-notebook"
        }
      },
      "outputs": [
        {
          "name": "stdout",
          "output_type": "stream",
          "text": [
            "461937\n",
            "356671\n",
            "367720\n",
            "577262\n",
            "112010\n",
            "491645\n",
            "5411\n",
            "1\n"
          ]
        }
      ],
      "source": [
        "// See if we can reduce these to blocks\n",
        "static ulong GCD(ulong a, ulong b) {\n",
        "    if (b == 0) {\n",
        "        return a;\n",
        "    }\n",
        "\n",
        "    return GCD(b, a % b);\n",
        "}\n",
        "\n",
        "var horizontals = testInputSteps2.Where(s =\u003E \u0022LR\u0022.Contains(s.direction)).Select(s =\u003E s.steps).ToList();\n",
        "foreach (var h in horizontals) {\n",
        "    Console.WriteLine(h);\n",
        "}\n",
        "var horizontalGCD = horizontals.Take(3).Select(h =\u003E (ulong)h).Aggregate(GCD);\n",
        "Console.WriteLine(horizontalGCD);"
      ]
    },
    {
      "cell_type": "code",
      "execution_count": 17,
      "metadata": {
        "dotnet_interactive": {
          "language": "csharp"
        },
        "polyglot_notebook": {
          "kernelName": "csharp"
        },
        "vscode": {
          "languageId": "polyglot-notebook"
        }
      },
      "outputs": [
        {
          "name": "stdout",
          "output_type": "stream",
          "text": [
            "TraceLine { point = Point { row = 4, col = 0 }, direction = U, extraSteps = 3, isWall = True, source = Step { direction = U, steps = 5, colour = x } }\n",
            "TraceLine { point = Point { row = 0, col = 0 }, direction = R, extraSteps = 5, isWall = False, source = Step { direction = R, steps = 5, colour = x } }\n",
            "TraceLine { point = Point { row = 1, col = 5 }, direction = D, extraSteps = 3, isWall = True, source = Step { direction = D, steps = 5, colour = x } }\n",
            "TraceLine { point = Point { row = 5, col = 5 }, direction = L, extraSteps = 5, isWall = False, source = Step { direction = L, steps = 5, colour = x } }\n"
          ]
        }
      ],
      "source": [
        "// Ok, so we can\u0027t scale :D. Let\u0027s try maintaing our lines as actual lines and breaking up the grid into sectors\n",
        "\n",
        "record TraceLine(Point point, char direction, int extraSteps, bool isWall, Step source);\n",
        "\n",
        "IList\u003CTraceLine\u003E TraceAllLines(IList\u003CStep\u003E steps) {\n",
        "    Dictionary\u003CStep, TraceLine\u003E result = new();\n",
        "    \n",
        "    Point p = new(0, 0);\n",
        "\n",
        "    var prev = steps[steps.Count - 1];\n",
        "    foreach (var (step, i) in Enumerate(steps))\n",
        "    {\n",
        "        var next = steps[(i \u002B 1) % steps.Count];\n",
        "\n",
        "        var directions = (prev.direction, step.direction, next.direction);\n",
        "        var isWall = directions switch {\n",
        "            (_, \u0027D\u0027, _) =\u003E true,\n",
        "            (_, \u0027U\u0027, _) =\u003E true,\n",
        "            (\u0027U\u0027, _, \u0027U\u0027) =\u003E true,\n",
        "            (\u0027D\u0027, _, \u0027D\u0027) =\u003E true,\n",
        "            _ =\u003E false\n",
        "        };\n",
        "\n",
        "        var traceDir = GetDir(step.direction);\n",
        "        var traceStart = p \u002B traceDir;\n",
        "        var traceExtraSteps = step.steps - 1;\n",
        "        var newLine = new TraceLine(traceStart, step.direction, traceExtraSteps, isWall, step);\n",
        "\n",
        "        if (\u0022LR\u0022.Contains(step.direction)) {\n",
        "            // The previous line terminates on our line. Move our start position\n",
        "            // across 1 block, to consume their vertical block as our horizontal\n",
        "            // one\n",
        "            \n",
        "            newLine = newLine with { \n",
        "                point = newLine.point \u002B traceDir * -1,\n",
        "                extraSteps = newLine.extraSteps \u002B 1\n",
        "             };\n",
        "\n",
        "            // Likewise, shorten the length of the previous vertical block by\n",
        "            // one\n",
        "\n",
        "            var prevDir = GetDir(prev.direction);\n",
        "            var prevStart = p \u002B (prevDir * -prev.steps) \u002B prevDir;\n",
        "            var newPrev = new TraceLine(prevStart, prev.direction, prev.steps - 2, true, prev);\n",
        "            result[prev] = newPrev;\n",
        "        }\n",
        "\n",
        "        p \u002B= GetDir(step.direction) * step.steps;\n",
        "\n",
        "        if (!result.ContainsKey(step)) {\n",
        "            // Can happen for 0,0\n",
        "            result[step] = newLine;\n",
        "        }\n",
        "\n",
        "        prev = step;\n",
        "    }\n",
        "\n",
        "    return result.Values.ToList();\n",
        "}\n",
        "\n",
        "Step[] testSquare = [\n",
        "    new (\u0027R\u0027, 5, \u0022x\u0022),\n",
        "    new (\u0027D\u0027, 5, \u0022x\u0022),\n",
        "    new (\u0027L\u0027, 5, \u0022x\u0022),\n",
        "    new (\u0027U\u0027, 5, \u0022x\u0022)\n",
        "];\n",
        "var testSquareTraceLines = TraceAllLines(testSquare);\n",
        "\n",
        "foreach (var st in testSquareTraceLines) {\n",
        "    Console.WriteLine(st);\n",
        "}"
      ]
    },
    {
      "cell_type": "code",
      "execution_count": 18,
      "metadata": {
        "dotnet_interactive": {
          "language": "csharp"
        },
        "polyglot_notebook": {
          "kernelName": "csharp"
        },
        "vscode": {
          "languageId": "polyglot-notebook"
        }
      },
      "outputs": [],
      "source": [
        "// Normalise to Right or Down lines, so the end point is always larger than the\n",
        "// start\n",
        "\n",
        "IEnumerable\u003CTraceLine\u003E Normalise(IEnumerable\u003CTraceLine\u003E traceLines) {\n",
        "    foreach (var tl in traceLines) {\n",
        "        var (startRow, startCol) = tl.point;\n",
        "        var (endRow, endCol) = tl.point \u002B GetDir(tl.direction) * (tl.extraSteps);\n",
        "\n",
        "        yield return tl.direction switch {\n",
        "            \u0027L\u0027 =\u003E new(new(endRow, endCol), \u0027R\u0027, tl.extraSteps, tl.isWall, tl.source),\n",
        "            \u0027U\u0027 =\u003E new(new(endRow, endCol), \u0027D\u0027, tl.extraSteps, tl.isWall, tl.source),\n",
        "            _ =\u003E tl\n",
        "        };\n",
        "    }\n",
        "}"
      ]
    },
    {
      "cell_type": "code",
      "execution_count": 19,
      "metadata": {
        "dotnet_interactive": {
          "language": "csharp"
        },
        "polyglot_notebook": {
          "kernelName": "csharp"
        },
        "vscode": {
          "languageId": "polyglot-notebook"
        }
      },
      "outputs": [],
      "source": [
        "IEnumerable\u003Cint\u003E RowJunctions(IEnumerable\u003CTraceLine\u003E traceLines) {\n",
        "    var rowStarts = traceLines.Select(tl =\u003E tl.point.row);\n",
        "\n",
        "    // Handle the case where a vertical line starts on the same row as a\n",
        "    // horizontal line. In this case the horizontal line height is 1 while the\n",
        "    // vertical line may be greater than 1. Handle this by adding the following row\n",
        "    // as a junction point also, ensuring that all vertical lines that share a row\n",
        "    // with a horizontal line will also have a height 0\n",
        "    var afterLines = traceLines.Where(tl =\u003E tl.direction == \u0027R\u0027).Select(tl =\u003E tl.point.row \u002B 1);\n",
        "\n",
        "    var rowJunctions = rowStarts.Concat(afterLines)\n",
        "        .Distinct()\n",
        "        .OrderBy(row =\u003E row)\n",
        "        .ToList();\n",
        "\n",
        "    return rowJunctions;\n",
        "}"
      ]
    },
    {
      "cell_type": "code",
      "execution_count": 20,
      "metadata": {
        "dotnet_interactive": {
          "language": "csharp"
        },
        "polyglot_notebook": {
          "kernelName": "csharp"
        },
        "vscode": {
          "languageId": "polyglot-notebook"
        }
      },
      "outputs": [],
      "source": [
        "IEnumerable\u003CTraceLine\u003E ChopVerticals(IEnumerable\u003CTraceLine\u003E traceLines) {\n",
        "    var verticalJunctions = RowJunctions(traceLines.ToList());\n",
        "\n",
        "    foreach (var tl in traceLines) {\n",
        "        if (tl.direction == \u0027R\u0027) {\n",
        "            // Horizontal. No chop\n",
        "            yield return tl;\n",
        "            continue;\n",
        "        }\n",
        "\n",
        "        // Vertical line. Chop at all the junction points between the start and end\n",
        "\n",
        "        var start = tl.point;\n",
        "        var startRow = tl.point.row;\n",
        "        var endRow = startRow \u002B tl.extraSteps;\n",
        "\n",
        "        var bits = verticalJunctions.Where(vj =\u003E vj \u003E startRow \u0026\u0026 vj \u003C= endRow).Append(startRow).Append(endRow \u002B 1).OrderBy(vj =\u003E vj);\n",
        "        var splits = bits.Zip(bits.Skip(1));\n",
        "\n",
        "        foreach (var s in splits) {\n",
        "            var (a, b) = s;\n",
        "\n",
        "            var extraSteps = b - a - 1;\n",
        "\n",
        "            Point startPoint = new(a, tl.point.col);\n",
        "            var newLine = new TraceLine(startPoint, tl.direction, extraSteps, tl.isWall, tl.source);\n",
        "            yield return newLine;\n",
        "        }\n",
        "    }\n",
        "}"
      ]
    },
    {
      "cell_type": "code",
      "execution_count": 21,
      "metadata": {
        "dotnet_interactive": {
          "language": "csharp"
        },
        "polyglot_notebook": {
          "kernelName": "csharp"
        },
        "vscode": {
          "languageId": "polyglot-notebook"
        }
      },
      "outputs": [
        {
          "name": "stdout",
          "output_type": "stream",
          "text": [
            "62\n"
          ]
        }
      ],
      "source": [
        "// At this point all the vertical lines have been chopped at all significant\n",
        "// horizontal points, and all lines on the same row have the same height. Therefore\n",
        "// we should be able to perform our horizontal scan again\n",
        "\n",
        "record Sector(Point point, int rows, int cols);\n",
        "\n",
        "int RowHeight(TraceLine tl) =\u003E tl.direction switch {\n",
        "    \u0027D\u0027 =\u003E 1 \u002B tl.extraSteps,\n",
        "    \u0027R\u0027 =\u003E 1,\n",
        "    _ =\u003E throw new Exception(\u0022Unexpected direction\u0022)\n",
        "};\n",
        "\n",
        "IEnumerable\u003CSector\u003E GetInternals2(IEnumerable\u003CTraceLine\u003E traceLines) {\n",
        "    HashSet\u003CPoint\u003E existing = new(traceLines.Select(tp =\u003E tp.point));\n",
        "\n",
        "    // For a given row, the current column is inside the shape if it\u0027s within an odd-numbered number of walls\n",
        "\n",
        "    var traceLineRows = from tl in traceLines\n",
        "                        group tl by tl.point.row into tlRow\n",
        "                        select tlRow.OrderBy(tlr =\u003E tlr.point.col).ToList();\n",
        "\n",
        "    foreach (var row in traceLineRows) {\n",
        "        var rowHeight = RowHeight(row.First()); // all lines in a row have same height\n",
        "\n",
        "        Point scanPoint = null;\n",
        "        foreach (var line in row) {\n",
        "            if (scanPoint != null) {\n",
        "                // We\u0027ve hit another line inside the shape\n",
        "                var cols = line.point.col - scanPoint.col;\n",
        "                var rows = rowHeight;\n",
        "                if (line.isWall) {\n",
        "                    // We\u0027ve run into the next wall. Return the internal sector and now we are outside\n",
        "                    yield return new Sector(scanPoint, rows, cols);\n",
        "                    scanPoint = null;\n",
        "                } else {\n",
        "                    // We\u0027ve run into a non-wall horizontal piece. Return the current sector but stay within the wall; advance the pointer\n",
        "                    yield return new Sector(scanPoint, rows, cols);\n",
        "                    var newCol = line.point.col \u002B 1 \u002B line.extraSteps;\n",
        "                    scanPoint = new(line.point.row, newCol);\n",
        "                }\n",
        "            } else {\n",
        "                if (line.isWall) {\n",
        "                    // We\u0027ve hit an outer wall. Track the pointer as we are now inside the shape\n",
        "                    var advanceCols = 1 \u002B (line.direction == \u0027D\u0027 ? 0 : line.extraSteps);\n",
        "                    scanPoint = new(line.point.row, line.point.col \u002B advanceCols);\n",
        "                }\n",
        "            }\n",
        "        }\n",
        "    }\n",
        "}\n",
        "\n",
        "var testInputTraceLines = TraceAllLines(testInputSteps);\n",
        "var testInputTraceInternals = GetInternals2(ChopVerticals(Normalise(testInputTraceLines)));\n",
        "var testInputTraceLinesTotal = testInputTraceInternals.Select(i =\u003E i.rows * i.cols).Sum() \n",
        "                                \u002B testInputTraceLines.Select(tl =\u003E 1 \u002B tl.extraSteps).Sum();\n",
        "\n",
        "// Match the original 62 from the Pt 1 sample\n",
        "Console.WriteLine(testInputTraceLinesTotal);"
      ]
    },
    {
      "cell_type": "code",
      "execution_count": 22,
      "metadata": {
        "dotnet_interactive": {
          "language": "csharp"
        },
        "polyglot_notebook": {
          "kernelName": "csharp"
        },
        "vscode": {
          "languageId": "polyglot-notebook"
        }
      },
      "outputs": [
        {
          "name": "stdout",
          "output_type": "stream",
          "text": [
            "47139\n"
          ]
        }
      ],
      "source": [
        "// Re-test Pt 1 using this sector scanning\n",
        "var inputTraceLines = TraceAllLines(inputSteps);\n",
        "var inputTraceLinesChopped = ChopVerticals(Normalise(inputTraceLines)).ToList();\n",
        "var inputTraceLinesInternal = GetInternals2(inputTraceLinesChopped).ToList();\n",
        "var inputTraceLinesTotal = inputTraceLinesInternal.Select(i =\u003E i.rows * i.cols).Sum()\n",
        "                            \u002B inputTraceLinesChopped.Sum(tl =\u003E 1 \u002B tl.extraSteps);\n",
        "\n",
        "// Hoping to match the 47139\n",
        "Console.WriteLine(inputTraceLinesTotal);"
      ]
    },
    {
      "cell_type": "code",
      "execution_count": 23,
      "metadata": {
        "dotnet_interactive": {
          "language": "csharp"
        },
        "polyglot_notebook": {
          "kernelName": "csharp"
        },
        "vscode": {
          "languageId": "polyglot-notebook"
        }
      },
      "outputs": [
        {
          "name": "stdout",
          "output_type": "stream",
          "text": [
            "173152345887206\n"
          ]
        }
      ],
      "source": [
        "var inputSteps2 = inputLines.Select(ParseStep2).ToList();\n",
        "var inputTraceLines2 = TraceAllLines(inputSteps2);\n",
        "var inputTraceLines2Chopped = ChopVerticals(Normalise(inputTraceLines2)).ToList();\n",
        "var inputTraceLines2Internal = GetInternals2(inputTraceLines2Chopped).ToList();\n",
        "\n",
        "var part2Answer = inputTraceLines2Internal.Select(i =\u003E (long)i.rows * (long)i.cols).Sum() \n",
        "                                \u002B inputTraceLines2Chopped.Sum(tl =\u003E 1 \u002B (long)tl.extraSteps);\n",
        "\n",
        "// Convert the hexadecimal color codes into the correct instructions; if the\n",
        "// Elves follow this new dig plan, how many cubic meters of lava could the lagoon\n",
        "// hold?\n",
        "Console.WriteLine(part2Answer);"
      ]
    },
    {
      "cell_type": "code",
      "execution_count": 24,
      "metadata": {
        "dotnet_interactive": {
          "language": "csharp"
        },
        "polyglot_notebook": {
          "kernelName": "csharp"
        },
        "vscode": {
          "languageId": "polyglot-notebook"
        }
      },
      "outputs": [],
      "source": [
        "// 173152345887206 is correct!\n",
        "Ensure(173152345887206, part2Answer);"
      ]
    },
    {
      "cell_type": "code",
      "execution_count": 25,
      "metadata": {
        "dotnet_interactive": {
          "language": "csharp"
        },
        "polyglot_notebook": {
          "kernelName": "csharp"
        },
        "vscode": {
          "languageId": "polyglot-notebook"
        }
      },
      "outputs": [],
      "source": [
        "// Consider revisiting this one. Consider the shoelace algorithm and Pikes(??) algorithm?"
      ]
    }
  ],
  "metadata": {
    "kernelspec": {
      "display_name": ".NET (C#)",
      "language": "C#",
      "name": ".net-csharp"
    },
    "language_info": {
      "name": "python"
    },
    "polyglot_notebook": {
      "kernelInfo": {
        "defaultKernelName": "csharp",
        "items": [
          {
            "aliases": [],
            "name": "csharp"
          }
        ]
      }
    }
  },
  "nbformat": 4,
  "nbformat_minor": 2
}