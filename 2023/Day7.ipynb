{
  "cells": [
    {
      "cell_type": "markdown",
      "execution_count": 1,
      "metadata": {
        "dotnet_interactive": {
          "language": "csharp"
        },
        "polyglot_notebook": {
          "kernelName": "csharp"
        },
        "vscode": {
          "languageId": "polyglot-notebook"
        }
      },
      "source": [
        "### --- Day 7: Camel Cards ---\n",
        "\n",
        "Puzzle description redacted as-per Advent of Code guidelines\n",
        "\n",
        "You may find the puzzle description at: https://adventofcode.com/2023/day/7"
      ]
    },
    {
      "cell_type": "code",
      "execution_count": 2,
      "metadata": {
        "dotnet_interactive": {
          "language": "csharp"
        },
        "polyglot_notebook": {
          "kernelName": "csharp"
        },
        "vscode": {
          "languageId": "polyglot-notebook"
        }
      },
      "outputs": [],
      "source": [
        "#!import ../Utils.ipynb"
      ]
    },
    {
      "cell_type": "code",
      "execution_count": 3,
      "metadata": {
        "dotnet_interactive": {
          "language": "csharp"
        },
        "polyglot_notebook": {
          "kernelName": "csharp"
        },
        "vscode": {
          "languageId": "polyglot-notebook"
        }
      },
      "outputs": [
        {
          "name": "stdout",
          "output_type": "stream",
          "text": [
            "Loading puzzle file: Day7.txt\n",
            "Total lines: 1000\n",
            "Max line length: 10\n",
            "\n",
            "K43AT 328\n",
            "AAQ2A 410\n",
            "45452 995\n",
            "T9999 645\n",
            "J7737 326\n"
          ]
        }
      ],
      "source": [
        "var inputLines = LoadPuzzleInput(2023, 7);\n",
        "WriteLines(inputLines);"
      ]
    },
    {
      "cell_type": "code",
      "execution_count": 4,
      "metadata": {
        "dotnet_interactive": {
          "language": "csharp"
        },
        "polyglot_notebook": {
          "kernelName": "csharp"
        },
        "vscode": {
          "languageId": "polyglot-notebook"
        }
      },
      "outputs": [
        {
          "name": "stdout",
          "output_type": "stream",
          "text": [
            "d\n"
          ]
        }
      ],
      "source": [
        "char ParseHand(string hand) {\n",
        "    var groups = hand.ToCharArray().GroupBy(ch =\u003E ch).Select(ch =\u003E ch.Count()).OrderByDescending(ch =\u003E ch).ToArray();\n",
        "\n",
        "    // Five of a kind, where all five cards have the same label: AAAAA\n",
        "    if (groups[0] == 5) {\n",
        "        return \u0027a\u0027;\n",
        "    }\n",
        "    // Four of a kind, where four cards have the same label and one card has a different label: AA8AA\n",
        "    else if (groups[0] == 4) {\n",
        "        return \u0027b\u0027;\n",
        "    }\n",
        "    // Full house, where three cards have the same label, and the remaining two cards share a different label: 23332\n",
        "    else if (groups[0] == 3 \u0026\u0026 groups[1] == 2) {\n",
        "        return \u0027c\u0027;\n",
        "    }\n",
        "    // Three of a kind, where three cards have the same label, and the remaining two cards are each different from any other card in the hand: TTT98\n",
        "    else if (groups[0] == 3) {\n",
        "        return \u0027d\u0027;\n",
        "    }\n",
        "    // Two pair, where two cards share one label, two other cards share a second label, and the remaining card has a third label: 23432\n",
        "    else if (groups[0] == 2 \u0026\u0026 groups[1] == 2) {\n",
        "        return \u0027e\u0027;\n",
        "    }\n",
        "    // One pair, where two cards share one label, and the other three cards have a different label from the pair and each other: A23A4\n",
        "    else if (groups[0] == 2 \u0026\u0026 groups[1] == 1) {\n",
        "        return \u0027f\u0027;\n",
        "    }\n",
        "    // High card, where all cards\u0027 labels are distinct: 23456\n",
        "    else {\n",
        "        return \u0027g\u0027;\n",
        "    }\n",
        "}\n",
        "\n",
        "Console.WriteLine(ParseHand(\u0022TTT98\u0022));"
      ]
    },
    {
      "cell_type": "code",
      "execution_count": 5,
      "metadata": {
        "dotnet_interactive": {
          "language": "csharp"
        },
        "polyglot_notebook": {
          "kernelName": "csharp"
        },
        "vscode": {
          "languageId": "polyglot-notebook"
        }
      },
      "outputs": [],
      "source": [
        "Dictionary\u003Cchar, char\u003E CardRank = new() {\n",
        "    { \u0027A\u0027, \u0027a\u0027 },\n",
        "    { \u0027K\u0027, \u0027b\u0027 },\n",
        "    { \u0027Q\u0027, \u0027c\u0027 },\n",
        "    { \u0027J\u0027, \u0027d\u0027 },\n",
        "    { \u0027T\u0027, \u0027e\u0027 },\n",
        "    { \u00279\u0027, \u0027f\u0027 },\n",
        "    { \u00278\u0027, \u0027g\u0027 },\n",
        "    { \u00277\u0027, \u0027h\u0027 },\n",
        "    { \u00276\u0027, \u0027i\u0027 },\n",
        "    { \u00275\u0027, \u0027j\u0027 },\n",
        "    { \u00274\u0027, \u0027k\u0027 },\n",
        "    { \u00273\u0027, \u0027l\u0027 },\n",
        "    { \u00272\u0027, \u0027m\u0027 },\n",
        "};"
      ]
    },
    {
      "cell_type": "code",
      "execution_count": 6,
      "metadata": {
        "dotnet_interactive": {
          "language": "csharp"
        },
        "polyglot_notebook": {
          "kernelName": "csharp"
        },
        "vscode": {
          "languageId": "polyglot-notebook"
        }
      },
      "outputs": [
        {
          "name": "stdout",
          "output_type": "stream",
          "text": [
            "eeefg\n"
          ]
        }
      ],
      "source": [
        "string RankCards(string hand) =\u003E new String(hand.ToCharArray().Select(ch =\u003E CardRank[ch]).ToArray());\n",
        "\n",
        "Console.WriteLine(RankCards(\u0022TTT98\u0022));"
      ]
    },
    {
      "cell_type": "code",
      "execution_count": 7,
      "metadata": {
        "dotnet_interactive": {
          "language": "csharp"
        },
        "polyglot_notebook": {
          "kernelName": "csharp"
        },
        "vscode": {
          "languageId": "polyglot-notebook"
        }
      },
      "outputs": [
        {
          "name": "stdout",
          "output_type": "stream",
          "text": [
            "OrderedHand { kind = g, rankedHand = bklae, bid = 328 }\n"
          ]
        }
      ],
      "source": [
        "record struct OrderedHand(char kind, string rankedHand, int bid);\n",
        "\n",
        "OrderedHand OrderHand(string handBid) {\n",
        "    var hand = handBid.Substring(0, 5);\n",
        "    var bid = int.Parse(handBid.Substring(6));\n",
        "\n",
        "    var kind = ParseHand(hand);\n",
        "    var rankedHand = RankCards(hand);\n",
        "\n",
        "    return new OrderedHand(kind, rankedHand, bid);\n",
        "}\n",
        "\n",
        "Console.WriteLine(OrderHand(inputLines[0]));"
      ]
    },
    {
      "cell_type": "code",
      "execution_count": 8,
      "metadata": {
        "dotnet_interactive": {
          "language": "csharp"
        },
        "polyglot_notebook": {
          "kernelName": "csharp"
        },
        "vscode": {
          "languageId": "polyglot-notebook"
        }
      },
      "outputs": [
        {
          "name": "stdout",
          "output_type": "stream",
          "text": [
            "OrderedHand { kind = a, rankedHand = ddddd, bid = 974 }\n",
            "OrderedHand { kind = b, rankedHand = aaaal, bid = 412 }\n",
            "OrderedHand { kind = b, rankedHand = aaafa, bid = 187 }\n",
            "OrderedHand { kind = b, rankedHand = aagaa, bid = 379 }\n",
            "OrderedHand { kind = b, rankedHand = aajaa, bid = 541 }\n"
          ]
        }
      ],
      "source": [
        "var ranked = inputLines.Select(OrderHand).OrderBy(r =\u003E r.kind).ThenBy(r =\u003E r.rankedHand).ToArray();\n",
        "\n",
        "foreach (var r in ranked.Take(5)) {\n",
        "    Console.WriteLine(r);\n",
        "}"
      ]
    },
    {
      "cell_type": "code",
      "execution_count": 9,
      "metadata": {
        "dotnet_interactive": {
          "language": "csharp"
        },
        "polyglot_notebook": {
          "kernelName": "csharp"
        },
        "vscode": {
          "languageId": "polyglot-notebook"
        }
      },
      "outputs": [
        {
          "name": "stdout",
          "output_type": "stream",
          "text": [
            "253313241\n"
          ]
        }
      ],
      "source": [
        "// Now, you can determine the total winnings of this set of hands by adding up the result of multiplying each hand\u0027s bid with its rank (765 * 1 \u002B 220 * 2 \u002B 28 * 3 \u002B 684 * 4 \u002B 483 * 5). So the total winnings in this example are 6440.\n",
        "\n",
        "// Find the rank of every hand in your set. What are the total winnings?\n",
        "var part1Answer = ranked.Reverse().Select((r, i) =\u003E ((Int64)r.bid) * (i \u002B 1)).Sum();\n",
        "Console.WriteLine(part1Answer);"
      ]
    },
    {
      "cell_type": "code",
      "execution_count": 10,
      "metadata": {
        "dotnet_interactive": {
          "language": "csharp"
        },
        "polyglot_notebook": {
          "kernelName": "csharp"
        },
        "vscode": {
          "languageId": "polyglot-notebook"
        }
      },
      "outputs": [],
      "source": [
        "// 253313241 is correct!\n",
        "Ensure(253313241, part1Answer);"
      ]
    },
    {
      "cell_type": "markdown",
      "execution_count": 11,
      "metadata": {
        "dotnet_interactive": {
          "language": "csharp"
        },
        "polyglot_notebook": {
          "kernelName": "csharp"
        },
        "vscode": {
          "languageId": "polyglot-notebook"
        }
      },
      "source": [
        "### --- Part Two ---\n",
        "\n",
        "Puzzle description redacted as-per Advent of Code guidelines\n",
        "\n",
        "You may find the puzzle description at: https://adventofcode.com/2023/day/7"
      ]
    },
    {
      "cell_type": "code",
      "execution_count": 12,
      "metadata": {
        "dotnet_interactive": {
          "language": "csharp"
        },
        "polyglot_notebook": {
          "kernelName": "csharp"
        },
        "vscode": {
          "languageId": "polyglot-notebook"
        }
      },
      "outputs": [],
      "source": [
        "Dictionary\u003Cchar, char\u003E CardRank2 = new() {\n",
        "    { \u0027A\u0027, \u0027a\u0027 },\n",
        "    { \u0027K\u0027, \u0027b\u0027 },\n",
        "    { \u0027Q\u0027, \u0027c\u0027 },\n",
        "    { \u0027T\u0027, \u0027d\u0027 },\n",
        "    { \u00279\u0027, \u0027e\u0027 },\n",
        "    { \u00278\u0027, \u0027f\u0027 },\n",
        "    { \u00277\u0027, \u0027g\u0027 },\n",
        "    { \u00276\u0027, \u0027h\u0027 },\n",
        "    { \u00275\u0027, \u0027i\u0027 },\n",
        "    { \u00274\u0027, \u0027j\u0027 },\n",
        "    { \u00273\u0027, \u0027k\u0027 },\n",
        "    { \u00272\u0027, \u0027l\u0027 },\n",
        "    { \u0027J\u0027, \u0027m\u0027 },\n",
        "};\n",
        "\n",
        "string RankCards2(string hand) =\u003E new String(hand.Select(ch =\u003E CardRank2[ch]).ToArray());\n"
      ]
    },
    {
      "cell_type": "code",
      "execution_count": 13,
      "metadata": {
        "dotnet_interactive": {
          "language": "csharp"
        },
        "polyglot_notebook": {
          "kernelName": "csharp"
        },
        "vscode": {
          "languageId": "polyglot-notebook"
        }
      },
      "outputs": [
        {
          "name": "stdout",
          "output_type": "stream",
          "text": [
            "1\n"
          ]
        }
      ],
      "source": [
        "byte GetHandStrength(string hand) {\n",
        "    var groups = hand.Where(ch =\u003E ch != \u0027J\u0027).GroupBy(ch =\u003E ch).Select(ch =\u003E ch.Count()).OrderByDescending(ch =\u003E ch).ToArray();\n",
        "\n",
        "    byte result;\n",
        "    if (groups.Length == 0) {\n",
        "        // All jokers!\n",
        "        result = 8;\n",
        "    }\n",
        "    // Five of a kind, where all five cards have the same label: AAAAA\n",
        "    else if (groups[0] == 5) {\n",
        "        result = 1;\n",
        "    }\n",
        "    // Four of a kind, where four cards have the same label and one card has a different label: AA8AA\n",
        "    else if (groups[0] == 4) {\n",
        "        result = 2;\n",
        "    }\n",
        "    // Full house, where three cards have the same label, and the remaining two cards share a different label: 23332\n",
        "    else if (groups[0] == 3 \u0026\u0026 groups.Length \u003E 1 \u0026\u0026 groups[1] == 2) {\n",
        "        result = 3;\n",
        "    }\n",
        "    // Three of a kind, where three cards have the same label, and the remaining two cards are each different from any other card in the hand: TTT98\n",
        "    else if (groups[0] == 3) {\n",
        "        result = 4;\n",
        "    }\n",
        "    // Two pair, where two cards share one label, two other cards share a second label, and the remaining card has a third label: 23432\n",
        "    else if (groups[0] == 2 \u0026\u0026 groups.Length \u003E 1 \u0026\u0026 groups[1] == 2) {\n",
        "        result = 5;\n",
        "    }\n",
        "    // One pair, where two cards share one label, and the other three cards have a different label from the pair and each other: A23A4\n",
        "    else if (groups[0] == 2) {\n",
        "        result = 6;\n",
        "    }\n",
        "    // High card, where all cards\u0027 labels are distinct: 23456\n",
        "    else {\n",
        "        result = 7;\n",
        "    }\n",
        "\n",
        "    // Add the jokers\n",
        "    var jokers = hand.Where(ch =\u003E ch == \u0027J\u0027);\n",
        "\n",
        "    foreach (var j in jokers) {\n",
        "        result = result switch {\n",
        "            8 =\u003E 7, // all jokers -\u003E high card\n",
        "            7 =\u003E 6, // high card -\u003E pair\n",
        "            6 =\u003E 4, // pair -\u003E three of a kind\n",
        "            5 =\u003E 3, // two pair -\u003E full house\n",
        "            4 =\u003E 2, // three of a kind -\u003E four of a kind\n",
        "            3 =\u003E 2, // full house -\u003E four of a kind\n",
        "            2 =\u003E 1, // four of a kind -\u003E five of a kind\n",
        "            _ =\u003E throw new Exception($\u0022Unexpected joker at score {result} for hand {hand}\u0022)\n",
        "        };\n",
        "    }\n",
        "\n",
        "    return result;\n",
        "}\n",
        "\n",
        "// T55J5, KTJJT, and QQQJA are now all four of a kind!\n",
        "var testHandStrength = GetHandStrength(\u0022AAJJJ\u0022);\n",
        "Console.WriteLine(testHandStrength);"
      ]
    },
    {
      "cell_type": "code",
      "execution_count": 14,
      "metadata": {
        "dotnet_interactive": {
          "language": "csharp"
        },
        "polyglot_notebook": {
          "kernelName": "csharp"
        },
        "vscode": {
          "languageId": "polyglot-notebook"
        }
      },
      "outputs": [],
      "source": [
        "record OrderedHand2(byte strength, string rankedHand, int bid, string original);"
      ]
    },
    {
      "cell_type": "code",
      "execution_count": 15,
      "metadata": {
        "dotnet_interactive": {
          "language": "csharp"
        },
        "polyglot_notebook": {
          "kernelName": "csharp"
        },
        "vscode": {
          "languageId": "polyglot-notebook"
        }
      },
      "outputs": [],
      "source": [
        "OrderedHand2 OrderHand2(string handBid) {\n",
        "    var hand = handBid.Substring(0, 5);\n",
        "    var bid = int.Parse(handBid.Substring(6));\n",
        "\n",
        "    var strength = GetHandStrength(hand);\n",
        "    var rankedHand = RankCards2(hand);\n",
        "\n",
        "    return new OrderedHand2(strength, rankedHand, bid, hand);\n",
        "}"
      ]
    },
    {
      "cell_type": "code",
      "execution_count": 16,
      "metadata": {
        "dotnet_interactive": {
          "language": "csharp"
        },
        "polyglot_notebook": {
          "kernelName": "csharp"
        },
        "vscode": {
          "languageId": "polyglot-notebook"
        }
      },
      "outputs": [
        {
          "name": "stdout",
          "output_type": "stream",
          "text": [
            "OrderedHand2 { strength = 1, rankedHand = bbbmm, bid = 960, original = KKKJJ }\n",
            "OrderedHand2 { strength = 1, rankedHand = ccccm, bid = 612, original = QQQQJ }\n",
            "OrderedHand2 { strength = 1, rankedHand = cmcmc, bid = 462, original = QJQJQ }\n",
            "OrderedHand2 { strength = 1, rankedHand = dmddd, bid = 946, original = TJTTT }\n",
            "OrderedHand2 { strength = 1, rankedHand = eemee, bid = 584, original = 99J99 }\n",
            "OrderedHand2 { strength = 1, rankedHand = emmee, bid = 811, original = 9JJ99 }\n",
            "OrderedHand2 { strength = 1, rankedHand = ffffm, bid = 473, original = 8888J }\n",
            "OrderedHand2 { strength = 1, rankedHand = ggggm, bid = 409, original = 7777J }\n",
            "OrderedHand2 { strength = 1, rankedHand = ggmgm, bid = 155, original = 77J7J }\n",
            "OrderedHand2 { strength = 1, rankedHand = hhhmh, bid = 267, original = 666J6 }\n"
          ]
        }
      ],
      "source": [
        "var ranked2 = inputLines.Select(OrderHand2).OrderBy(r =\u003E r.strength).ThenBy(r =\u003E r.rankedHand).ToArray();\n",
        "\n",
        "foreach (var r in ranked2.Take(10)) {\n",
        "    Console.WriteLine(r);\n",
        "}"
      ]
    },
    {
      "cell_type": "code",
      "execution_count": 17,
      "metadata": {
        "dotnet_interactive": {
          "language": "csharp"
        },
        "polyglot_notebook": {
          "kernelName": "csharp"
        },
        "vscode": {
          "languageId": "polyglot-notebook"
        }
      },
      "outputs": [
        {
          "name": "stdout",
          "output_type": "stream",
          "text": [
            "253362743\n"
          ]
        }
      ],
      "source": [
        "// Using the new joker rule, find the rank of every hand in your set. What are the new total winnings?\n",
        "\n",
        "var part2Answer = ranked2.Reverse().Select((r, i) =\u003E r.bid * (i \u002B 1)).Select(x =\u003E (long)x).Sum();\n",
        "Console.WriteLine(part2Answer);\n"
      ]
    },
    {
      "cell_type": "code",
      "execution_count": 18,
      "metadata": {
        "dotnet_interactive": {
          "language": "csharp"
        },
        "polyglot_notebook": {
          "kernelName": "csharp"
        },
        "vscode": {
          "languageId": "polyglot-notebook"
        }
      },
      "outputs": [],
      "source": [
        "// 253362743 is correct!\n",
        "Ensure(253362743, part2Answer);"
      ]
    }
  ],
  "metadata": {
    "kernelspec": {
      "display_name": ".NET (C#)",
      "language": "C#",
      "name": ".net-csharp"
    },
    "language_info": {
      "name": "python"
    },
    "polyglot_notebook": {
      "kernelInfo": {
        "defaultKernelName": "csharp",
        "items": [
          {
            "aliases": [],
            "name": "csharp"
          }
        ]
      }
    }
  },
  "nbformat": 4,
  "nbformat_minor": 2
}