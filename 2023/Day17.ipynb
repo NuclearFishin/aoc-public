{
  "cells": [
    {
      "cell_type": "markdown",
      "metadata": {
        "dotnet_interactive": {
          "language": "csharp"
        },
        "polyglot_notebook": {
          "kernelName": "csharp"
        },
        "vscode": {
          "languageId": "polyglot-notebook"
        }
      },
      "source": [
        "### --- Day 17: Clumsy Crucible ---\n",
        "\n",
        "Puzzle description redacted as-per Advent of Code guidelines\n",
        "\n",
        "You may find the puzzle description at: https://adventofcode.com/2023/day/17"
      ]
    },
    {
      "cell_type": "code",
      "execution_count": 2,
      "metadata": {
        "dotnet_interactive": {
          "language": "csharp"
        },
        "polyglot_notebook": {
          "kernelName": "csharp"
        },
        "vscode": {
          "languageId": "polyglot-notebook"
        }
      },
      "outputs": [],
      "source": [
        "#!import ../Utils.ipynb"
      ]
    },
    {
      "cell_type": "code",
      "execution_count": 3,
      "metadata": {
        "dotnet_interactive": {
          "language": "csharp"
        },
        "polyglot_notebook": {
          "kernelName": "csharp"
        },
        "vscode": {
          "languageId": "polyglot-notebook"
        }
      },
      "outputs": [
        {
          "name": "stdout",
          "output_type": "stream",
          "text": [
            "Loading puzzle file: Day17.txt\n",
            "Total lines: 141\n",
            "Max line length: 141\n",
            "\n",
            "131445551112233253211343462645362264333536364313674124314476621242354636547511555665246535766355535443144555253111262426511545413534355213143\n",
            "233424145115554544563536623551634234245245226647466342141335242732317413264173727553773417346271273452636214526231261626636515443114231334134\n",
            "142542344522223413612323412633411265511751721337441417257213276727474627134235456623341427634774763161362433662654321313511364221333134444545\n",
            "215325514111432316211413445125445152444115313243425213457743777551554161363342731541663254115427451521737561133533312121462215531232432435315\n",
            "451531341324135344542462126654325246235214355273527352517361157226542614511154755512673466615546552747525176152644433635456345422344511151123\n"
          ]
        }
      ],
      "source": [
        "var inputLines = LoadPuzzleInput(2023, 17);\n",
        "WriteLines(inputLines);"
      ]
    },
    {
      "cell_type": "code",
      "execution_count": 4,
      "metadata": {
        "dotnet_interactive": {
          "language": "csharp"
        },
        "polyglot_notebook": {
          "kernelName": "csharp"
        },
        "vscode": {
          "languageId": "polyglot-notebook"
        }
      },
      "outputs": [],
      "source": [
        "static byte ParseByte(char ch) =\u003E ch switch {\n",
        "    \u00270\u0027 =\u003E 0,\n",
        "    \u00271\u0027 =\u003E 1,\n",
        "    \u00272\u0027 =\u003E 2,\n",
        "    \u00273\u0027 =\u003E 3,\n",
        "    \u00274\u0027 =\u003E 4,\n",
        "    \u00275\u0027 =\u003E 5,\n",
        "    \u00276\u0027 =\u003E 6,\n",
        "    \u00277\u0027 =\u003E 7,\n",
        "    \u00278\u0027 =\u003E 8,\n",
        "    \u00279\u0027 =\u003E 9,\n",
        "    \u0027x\u0027 =\u003E 50, // for testing\n",
        "    _ =\u003E throw new Exception(\u0022Unexpected char\u0022)\n",
        "};\n",
        "\n",
        "class PointMap(string[] inputLines) {\n",
        "    private byte[][] inputLines = inputLines.Select(l =\u003E l.Select(ParseByte).ToArray()).ToArray();\n",
        "\n",
        "    public int Rows = inputLines.Length;\n",
        "    public int Cols = inputLines[0].Length;\n",
        "\n",
        "    public bool IsValid(Point p) {\n",
        "        return 0 \u003C= p.row \u0026\u0026 p.row \u003C Rows \u0026\u0026 0 \u003C= p.col \u0026\u0026 p.col \u003C Cols;\n",
        "    }\n",
        "\n",
        "    public byte Char(Point p) =\u003E inputLines[p.row][p.col];\n",
        "}\n",
        "\n",
        "record Point(int row, int col) {\n",
        "    public Point Up() =\u003E new(row - 1, col);\n",
        "    public Point Down() =\u003E new(row \u002B 1, col);\n",
        "    public Point Left() =\u003E new(row, col - 1);\n",
        "    public Point Right() =\u003E new(row, col \u002B 1);\n",
        "}\n",
        "\n",
        "enum Direction {\n",
        "    Up,\n",
        "    Down,\n",
        "    Left,\n",
        "    Right\n",
        "}"
      ]
    },
    {
      "cell_type": "code",
      "execution_count": 5,
      "metadata": {
        "dotnet_interactive": {
          "language": "csharp"
        },
        "polyglot_notebook": {
          "kernelName": "csharp"
        },
        "vscode": {
          "languageId": "polyglot-notebook"
        }
      },
      "outputs": [],
      "source": [
        "record PointState(Point point, Direction direction, int freeMoves);"
      ]
    },
    {
      "cell_type": "code",
      "execution_count": 6,
      "metadata": {
        "dotnet_interactive": {
          "language": "csharp"
        },
        "polyglot_notebook": {
          "kernelName": "csharp"
        },
        "vscode": {
          "languageId": "polyglot-notebook"
        }
      },
      "outputs": [],
      "source": [
        "(IEnumerable\u003CPoint\u003E points, int totalCost) ShortestPath(PointMap map) {\n",
        "\n",
        "    Point start = new(0, 0);\n",
        "    PointState startState = new(start, Direction.Down, 3); // TODO do we need the other direction too?\n",
        "    Point end = new(map.Rows - 1, map.Cols - 1);\n",
        "    \n",
        "    Dictionary\u003CPointState, int\u003E distances = new(map.Cols * map.Rows);\n",
        "    Dictionary\u003CPointState, PointState\u003E previous = new(map.Cols * map.Rows);\n",
        "    HashSet\u003CPointState\u003E queue = new();\n",
        "\n",
        "    queue.Add(startState);\n",
        "    distances[startState] = 0;\n",
        "\n",
        "    while (queue.Count \u003E 0) {\n",
        "        var next = queue.OrderBy(p =\u003E distances[p]).First();\n",
        "        var nextDist = distances[next];\n",
        "\n",
        "        queue.Remove(next);\n",
        "\n",
        "        var (p, dir, free) = next;\n",
        "        PointState[] neighbours = (dir, free) switch {\n",
        "            (Direction.Up, \u003E 0) =\u003E [new(p.Left(), Direction.Left, 2), new(p.Right(), Direction.Right, 2), new(p.Up(), Direction.Up, free - 1) ],\n",
        "            (Direction.Up, 0) =\u003E [new(p.Left(), Direction.Left, 2), new(p.Right(), Direction.Right, 2)],\n",
        "\n",
        "            (Direction.Down, \u003E 0) =\u003E [new(p.Left(), Direction.Left, 2), new(p.Right(), Direction.Right, 2), new(p.Down(), Direction.Down, free - 1) ],\n",
        "            (Direction.Down, 0) =\u003E [new(p.Left(), Direction.Left, 2), new(p.Right(), Direction.Right, 2)],\n",
        "            \n",
        "            (Direction.Left, \u003E 0) =\u003E [new(p.Up(), Direction.Up, 2), new(p.Down(), Direction.Down, 2), new(p.Left(), Direction.Left, free - 1)],\n",
        "            (Direction.Left, 0) =\u003E [new(p.Up(), Direction.Up, 2), new(p.Down(), Direction.Down, 2)],\n",
        "\n",
        "            (Direction.Right, \u003E 0) =\u003E [new(p.Up(), Direction.Up, 2), new(p.Down(), Direction.Down, 2), new(p.Right(), Direction.Right, free - 1)],\n",
        "            (Direction.Right, 0) =\u003E [new(p.Up(), Direction.Up, 2), new(p.Down(), Direction.Down, 2)],\n",
        "\n",
        "            _ =\u003E throw new Exception(\u0022Unexpected pointState\u0022)\n",
        "        };\n",
        "        \n",
        "        foreach (var n in neighbours) {\n",
        "            if (!map.IsValid(n.point)) {\n",
        "                continue;\n",
        "            }\n",
        "\n",
        "            var nDist = nextDist \u002B map.Char(n.point);\n",
        "            if (!distances.TryGetValue(n, out var nCurrent)) {\n",
        "                // currently infinite distance\n",
        "                distances[n] = nDist;\n",
        "                previous[n] = next;\n",
        "                queue.Add(n);\n",
        "            } else if (nDist \u003C nCurrent) {\n",
        "                // Found shorter distance\n",
        "                distances[n] = nDist;\n",
        "                previous[n] = next;\n",
        "            }\n",
        "        }\n",
        "    }\n",
        "\n",
        "    var endStates = distances.Where(kv =\u003E kv.Key.point == end).OrderBy(kv =\u003E kv.Value);\n",
        "    var best = endStates.First();\n",
        "\n",
        "    IEnumerable\u003CPoint\u003E PointPath(PointState point) {\n",
        "        PointState p = point;\n",
        "\n",
        "        while (p != null) {\n",
        "            yield return p.point;\n",
        "\n",
        "            previous.TryGetValue(p, out p);\n",
        "        }\n",
        "    }\n",
        "\n",
        "    return (PointPath(best.Key).Reverse(), best.Value);\n",
        "}"
      ]
    },
    {
      "cell_type": "code",
      "execution_count": 7,
      "metadata": {
        "dotnet_interactive": {
          "language": "csharp"
        },
        "polyglot_notebook": {
          "kernelName": "csharp"
        },
        "vscode": {
          "languageId": "polyglot-notebook"
        }
      },
      "outputs": [
        {
          "name": "stdout",
          "output_type": "stream",
          "text": [
            "2\u003E\u003E34^\u003E\u003E\u003E1323\n",
            "32v\u003E\u003E\u003E35v\u003E623\n",
            "325524565v\u003E54\n",
            "3446585845v52\n",
            "4546657867v\u003E6\n",
            "14385987984v4\n",
            "44578769877v6\n",
            "36378779796v\u003E\n",
            "465496798688v\n",
            "456467998645v\n",
            "12246868655\u003Cv\n",
            "25465488877v5\n",
            "43226746555v\u003E\n",
            "Total cost: 102\n"
          ]
        }
      ],
      "source": [
        "var testInput = \u0022\u0022\u0022\n",
        "2413432311323\n",
        "3215453535623\n",
        "3255245654254\n",
        "3446585845452\n",
        "4546657867536\n",
        "1438598798454\n",
        "4457876987766\n",
        "3637877979653\n",
        "4654967986887\n",
        "4564679986453\n",
        "1224686865563\n",
        "2546548887735\n",
        "4322674655533\n",
        "\u0022\u0022\u0022;\n",
        "var testInputLines = testInput.Split(\u0027\\n\u0027);\n",
        "\n",
        "var testInputMap = new PointMap(testInputLines);\n",
        "\n",
        "var testResult = ShortestPath(testInputMap);\n",
        "\n",
        "string[] Render(string[] inputLines, IEnumerable\u003CPoint\u003E points) {\n",
        "    var chars = inputLines.Select(l =\u003E l.ToCharArray()).ToArray();\n",
        "\n",
        "        var pointList = points.ToList();\n",
        "\n",
        "        foreach (var (p1, p2) in pointList.Zip(pointList.Skip(1))) {\n",
        "            char ch = \u0027*\u0027;\n",
        "            if (p1.Down() == p2) {\n",
        "                ch = \u0027v\u0027;\n",
        "            } else if (p1.Up() == p2) {\n",
        "                ch = \u0027^\u0027;\n",
        "            } else if (p1.Left() == p2) {\n",
        "                ch = \u0027\u003C\u0027;\n",
        "            } else if (p1.Right() == p2) {\n",
        "                ch = \u0027\u003E\u0027;\n",
        "            }\n",
        "\n",
        "            chars[p2.row][p2.col] = ch;\n",
        "        }\n",
        "\n",
        "    return chars.Select(arr =\u003E new string(arr)).ToArray();\n",
        "}\n",
        "\n",
        "foreach (var line in Render(testInputLines, testResult.points)) {\n",
        "    Console.WriteLine(line);\n",
        "}\n",
        "\n",
        "// This path never moves more than three consecutive blocks in the same direction and incurs a heat loss of only 102.\n",
        "Console.WriteLine($\u0022Total cost: {testResult.totalCost}\u0022);"
      ]
    },
    {
      "cell_type": "code",
      "execution_count": 8,
      "metadata": {
        "dotnet_interactive": {
          "language": "csharp"
        },
        "polyglot_notebook": {
          "kernelName": "csharp"
        },
        "vscode": {
          "languageId": "polyglot-notebook"
        }
      },
      "outputs": [
        {
          "name": "stdout",
          "output_type": "stream",
          "text": [
            "866\n"
          ]
        }
      ],
      "source": [
        "var inputMap = new PointMap(inputLines);\n",
        "\n",
        "// This takes around 30 seconds, but it gets there in the end...\n",
        "var shortestPath = ShortestPath(inputMap);\n",
        "var part1Answer = shortestPath.totalCost;\n",
        "\n",
        "Console.WriteLine(part1Answer);"
      ]
    },
    {
      "cell_type": "code",
      "execution_count": 9,
      "metadata": {
        "dotnet_interactive": {
          "language": "csharp"
        },
        "polyglot_notebook": {
          "kernelName": "csharp"
        },
        "vscode": {
          "languageId": "polyglot-notebook"
        }
      },
      "outputs": [],
      "source": [
        "// 866 is correct!\n",
        "Ensure(866, part1Answer);"
      ]
    },
    {
      "cell_type": "markdown",
      "metadata": {
        "dotnet_interactive": {
          "language": "csharp"
        },
        "polyglot_notebook": {
          "kernelName": "csharp"
        },
        "vscode": {
          "languageId": "polyglot-notebook"
        }
      },
      "source": [
        "### --- Part Two ---\n",
        "\n",
        "Puzzle description redacted as-per Advent of Code guidelines\n",
        "\n",
        "You may find the puzzle description at: https://adventofcode.com/2023/day/17"
      ]
    },
    {
      "cell_type": "code",
      "execution_count": 11,
      "metadata": {
        "dotnet_interactive": {
          "language": "csharp"
        },
        "polyglot_notebook": {
          "kernelName": "csharp"
        },
        "vscode": {
          "languageId": "polyglot-notebook"
        }
      },
      "outputs": [],
      "source": [
        "record PointState2(Point point, Direction direction, int currentMoves, int freeMoves);"
      ]
    },
    {
      "cell_type": "code",
      "execution_count": 12,
      "metadata": {
        "dotnet_interactive": {
          "language": "csharp"
        },
        "polyglot_notebook": {
          "kernelName": "csharp"
        },
        "vscode": {
          "languageId": "polyglot-notebook"
        }
      },
      "outputs": [],
      "source": [
        "(IEnumerable\u003CPoint\u003E points, int totalCost) ShortestPath2(PointMap map) {\n",
        "\n",
        "    Point start = new(0, 0);\n",
        "    PointState2 startState = new(start, Direction.Down, 0, 10); // TODO do we need the other direction too?\n",
        "    Point end = new(map.Rows - 1, map.Cols - 1);\n",
        "    \n",
        "    Dictionary\u003CPointState2, int\u003E distances = new(map.Cols * map.Rows);\n",
        "    Dictionary\u003CPointState2, PointState2\u003E previous = new(map.Cols * map.Rows);\n",
        "    PriorityQueue\u003CPointState2, int\u003E queue = new(); // Side note: this makes a massive difference over the above\n",
        "\n",
        "    queue.Enqueue(startState, 0);\n",
        "    distances[startState] = 0;\n",
        "\n",
        "    var currentBest = int.MaxValue; // best score to reach the end so far\n",
        "\n",
        "    while (queue.Count \u003E 0) {\n",
        "        var next = queue.Dequeue();\n",
        "        var nextDist = distances[next];\n",
        "\n",
        "        var (p, dir, curr, free) = next;\n",
        "        PointState2[] neighbours = (dir, curr, free) switch {\n",
        "            (Direction.Up, \u003C 4, _) =\u003E [new(p.Up(), dir, curr \u002B 1, free - 1)],\n",
        "            (Direction.Down, \u003C 4, _) =\u003E [new(p.Down(), dir, curr \u002B 1, free - 1)],\n",
        "            (Direction.Left, \u003C 4, _) =\u003E [new(p.Left(), dir, curr \u002B 1, free - 1)],\n",
        "            (Direction.Right, \u003C 4, _) =\u003E [new(p.Right(), dir, curr \u002B 1, free - 1)],\n",
        "\n",
        "            (Direction.Up, _, \u003E 0) =\u003E [new(p.Left(), Direction.Left, 1, 9), new(p.Right(), Direction.Right, 1, 9), new(p.Up(), Direction.Up, curr \u002B 1, free - 1) ],\n",
        "            (Direction.Up, _, 0) =\u003E [new(p.Left(), Direction.Left, 1, 9), new(p.Right(), Direction.Right, 1, 9)],\n",
        "\n",
        "            (Direction.Down, _, \u003E 0) =\u003E [new(p.Left(), Direction.Left, 1, 9), new(p.Right(), Direction.Right, 1, 9), new(p.Down(), Direction.Down, curr \u002B 1, free - 1) ],\n",
        "            (Direction.Down, _, 0) =\u003E [new(p.Left(), Direction.Left, 1, 9), new(p.Right(), Direction.Right, 1, 9)],\n",
        "            \n",
        "            (Direction.Left, _, \u003E 0) =\u003E [new(p.Up(), Direction.Up, 1, 9), new(p.Down(), Direction.Down, 1, 9), new(p.Left(), Direction.Left, curr \u002B 1, free - 1)],\n",
        "            (Direction.Left, _, 0) =\u003E [new(p.Up(), Direction.Up, 1, 9), new(p.Down(), Direction.Down, 1, 9)],\n",
        "\n",
        "            (Direction.Right, _, \u003E 0) =\u003E [new(p.Up(), Direction.Up, 1, 9), new(p.Down(), Direction.Down, 1, 9), new(p.Right(), Direction.Right, curr \u002B 1, free - 1)],\n",
        "            (Direction.Right, _, 0) =\u003E [new(p.Up(), Direction.Up, 1, 9), new(p.Down(), Direction.Down, 1, 9)],\n",
        "\n",
        "            _ =\u003E throw new Exception(\u0022Unexpected pointState\u0022)\n",
        "        };\n",
        "        \n",
        "        if (next.point == start) {\n",
        "            // Special case for very start\n",
        "            neighbours = [new(p.Right(), Direction.Right, 1, 9), new(p.Down(), Direction.Down, 1, 9)];\n",
        "        }\n",
        "\n",
        "        if (nextDist \u003E= currentBest) {\n",
        "            // Not possible to improve, end here\n",
        "            neighbours = [];\n",
        "        }\n",
        "\n",
        "        if (next.point == end \u0026\u0026 next.currentMoves \u003E= 4) {\n",
        "            // This has reached the end valid-ly\n",
        "            if (distances[next] \u003C currentBest) {\n",
        "                currentBest = distances[next];\n",
        "            }\n",
        "        }\n",
        "\n",
        "        foreach (var n in neighbours) {\n",
        "            if (!map.IsValid(n.point)) {\n",
        "                continue;\n",
        "            }\n",
        "\n",
        "            var nDist = nextDist \u002B map.Char(n.point);\n",
        "            if (!distances.TryGetValue(n, out var nCurrent)) {\n",
        "                // currently infinite distance\n",
        "                distances[n] = nDist;\n",
        "                previous[n] = next;\n",
        "                queue.Enqueue(n, nDist);\n",
        "            } else if (nDist \u003C nCurrent) {\n",
        "                // Found shorter distance\n",
        "                distances[n] = nDist;\n",
        "                previous[n] = next;\n",
        "            }\n",
        "        }\n",
        "    }\n",
        "\n",
        "    var endStates = distances.Where(kv =\u003E kv.Key.point == end \u0026\u0026 kv.Key.currentMoves \u003E= 4).OrderBy(kv =\u003E kv.Value);\n",
        "    var best = endStates.First();\n",
        "\n",
        "    IEnumerable\u003CPoint\u003E PointPath(PointState2 point) {\n",
        "        PointState2 p = point;\n",
        "\n",
        "        while (p != null) {\n",
        "            yield return p.point;\n",
        "\n",
        "            previous.TryGetValue(p, out p);\n",
        "        }\n",
        "    }\n",
        "\n",
        "    return (PointPath(best.Key).Reverse(), best.Value);\n",
        "}"
      ]
    },
    {
      "cell_type": "code",
      "execution_count": 13,
      "metadata": {
        "dotnet_interactive": {
          "language": "csharp"
        },
        "polyglot_notebook": {
          "kernelName": "csharp"
        },
        "vscode": {
          "languageId": "polyglot-notebook"
        }
      },
      "outputs": [
        {
          "name": "stdout",
          "output_type": "stream",
          "text": [
            "2\u003E\u003E\u003E\u003E\u003E\u003E\u003E\u003E1323\n",
            "32154535v5623\n",
            "32552456v4254\n",
            "34465858v5452\n",
            "45466578v\u003E\u003E\u003E\u003E\n",
            "143859879845v\n",
            "445787698776v\n",
            "363787797965v\n",
            "465496798688v\n",
            "456467998645v\n",
            "122468686556v\n",
            "254654888773v\n",
            "432267465553v\n",
            "Total cost: 94\n"
          ]
        }
      ],
      "source": [
        "var testResult2 = ShortestPath2(testInputMap);\n",
        "foreach (var line in Render(testInputLines, testResult2.points)) {\n",
        "    Console.WriteLine(line);\n",
        "}\n",
        "\n",
        "// In the above example, an ultra crucible would incur the minimum possible heat loss of 94.\n",
        "Console.WriteLine($\u0022Total cost: {testResult2.totalCost}\u0022);"
      ]
    },
    {
      "cell_type": "code",
      "execution_count": 14,
      "metadata": {
        "dotnet_interactive": {
          "language": "csharp"
        },
        "polyglot_notebook": {
          "kernelName": "csharp"
        },
        "vscode": {
          "languageId": "polyglot-notebook"
        }
      },
      "outputs": [
        {
          "name": "stdout",
          "output_type": "stream",
          "text": [
            "1\u003E\u003E\u003E\u003E\u003E\u003E\u003E1111\n",
            "9999999v9991\n",
            "9999999v9991\n",
            "9999999v9991\n",
            "9999999v\u003E\u003E\u003E\u003E\n",
            "Total cost: 71\n"
          ]
        }
      ],
      "source": [
        "string[] testInputLines2 = [\n",
        "\u0022111111111111\u0022,\n",
        "\u0022999999999991\u0022,\n",
        "\u0022999999999991\u0022,\n",
        "\u0022999999999991\u0022,\n",
        "\u0022999999999991\u0022,\n",
        "];\n",
        "\n",
        "var testInputMap2 = new PointMap(testInputLines2);\n",
        "var testResult22 = ShortestPath2(testInputMap2);\n",
        "\n",
        "foreach (var line in Render(testInputLines2, testResult22.points)) {\n",
        "    Console.WriteLine(line);\n",
        "}\n",
        "\n",
        "// This route causes the ultra crucible to incur the minimum possible heat loss of 71.\n",
        "Console.WriteLine($\u0022Total cost: {testResult22.totalCost}\u0022);"
      ]
    },
    {
      "cell_type": "code",
      "execution_count": 15,
      "metadata": {
        "dotnet_interactive": {
          "language": "csharp"
        },
        "polyglot_notebook": {
          "kernelName": "csharp"
        },
        "vscode": {
          "languageId": "polyglot-notebook"
        }
      },
      "outputs": [
        {
          "name": "stdout",
          "output_type": "stream",
          "text": [
            "1010\n"
          ]
        }
      ],
      "source": [
        "// Directing the ultra crucible from the lava pool to the machine parts factory, what is the least heat loss it can incur?\n",
        "\n",
        "var shortestPath2 = ShortestPath2(inputMap);\n",
        "var answerPart2 = shortestPath2.totalCost;\n",
        "\n",
        "Console.WriteLine(answerPart2);"
      ]
    },
    {
      "cell_type": "code",
      "execution_count": 16,
      "metadata": {
        "dotnet_interactive": {
          "language": "csharp"
        },
        "polyglot_notebook": {
          "kernelName": "csharp"
        },
        "vscode": {
          "languageId": "polyglot-notebook"
        }
      },
      "outputs": [],
      "source": [
        "// 1010 is correct!\n",
        "Ensure(1010, answerPart2);"
      ]
    },
    {
      "cell_type": "code",
      "execution_count": 17,
      "metadata": {
        "dotnet_interactive": {
          "language": "csharp"
        },
        "polyglot_notebook": {
          "kernelName": "csharp"
        },
        "vscode": {
          "languageId": "polyglot-notebook"
        }
      },
      "outputs": [
        {
          "name": "stdout",
          "output_type": "stream",
          "text": [
            "1\u003E\u003E\u003E\u003E5551112233253211343462645362264333536364313674124314476621242354636547511555665246535766355535443144555253111262426511545413534355213143\n",
            "2334v4145115554544563536623551634234245245226647466342141335242732317413264173727553773417346271273452636214526231261626636515443114231334134\n",
            "1425v2344522223413612323412633411265511751721337441417257213276727474627134235456623341427634774763161362433662654321313511364221333134444545\n",
            "2153v55141114^\u003E\u003E\u003E\u003E\u003E\u003E\u003E\u003E\u003E\u003E445125445152444115313243425213457743777551554161363342731541663254115427451521737561133533312121462215531232432435315\n",
            "4515v13413241^534454246v126654325246235214355273527352517361157226542614511154755512673466615546552747525176152644433635456345422344511151123\n",
            "2152v43114321^244465336v515334123237613537445736667574453555324626246274545121327374666676161332514434747162764221426162366535531234123343531\n",
            "3442v52123155^314321635v651545632454522671676741355321433133117626761337161853414372767277524472641632243715222512245552455156241132412343151\n",
            "2114v\u003E\u003E\u003E\u003E\u003E\u003E\u003E\u003E\u003E666134445v465655256575153642122434145162143353276585528121454215786472232636762241645671716135454142224264423524643261324145253\n",
            "42222412251333356536644v446451622346152571416715331314462357473333243546322312334341837777564363611633652273345267755152462645612415312452451\n",
            "32355521141434566314315v\u003E\u003E\u003E\u003E\u003E\u003E\u003E51757527^\u003E\u003E\u003E\u003E\u003E\u003E\u003E\u003E314532465854148818126576621281224168626267882445242246726237774412646656663632541416332512543\n",
            "315451553255656466364646463774v42415617^5354244v482448787161235257752342122554345168743862685574366323676755254357634643546114141412434455134\n",
            "331442443131244242215432426216v43673357^3252566v188148275724881666337686447134118645367881388775721221754357614322541664244415411312152545421\n",
            "455515126331244525512213561113v44125127^6111146v856846367441241611554433144828355285377646274488118744636113745111113135144522511144666532514\n",
            "442245445415551152316465555445v\u003E\u003E\u003E\u003E\u003E\u003E\u003E\u003E\u003E3575568v448178123188811211632828625481346484667621148357462251265242142251614165444353356666116322455\n",
            "42122313265423163345522576154215232422516224653v571373583845165136481713753764865858457126687765747733545431277741253656615143643516233343121\n",
            "51551316565421251455445451317675117353448652127v\u003E\u003E\u003E\u003E\u003E\u003E\u003E\u003E\u003E\u003E87637716356221514388336653134341152582814837717254736237336561566533553635441666135\n",
            "452322122313235163336123717442746545775351661477426485854v22638883562771876425838714554146161348763225487253733752526246424735224552341654441\n",
            "511261231262533135553326773122451455133526611731788533655v87284571774976634151381173266134442171344582835271546674346256765426221346555126354\n",
            "441312444426226322326662564465772645165484625533552466632v82734959745954345729313323451248384362734271573243616325466632556511656634663155266\n",
            "436124143141565661715577517474527177537841752865223364127v\u003E\u003E\u003E\u003E\u003E\u003E\u003E\u003E\u003E\u003E7265164511384914174281558633266537436657748131153475376671233235563324655\n",
            "2154626266621623735172456462611324174684654223583536396375563334517v9661813229377294416572815728366312241266672662671623625227112545415151634\n",
            "5265164451332264646247137137132266148236814738225371422563937426648v2193735258399575752884244441628851426136361161335277173466213443245255232\n",
            "4314621542541463546241716151626354216155622518886995992777847976993v4194914868856453757847573653564178674457176163625357741353335615155661316\n",
            "2446243253523436211476376573142684212251838822223173868732199268247v\u003E\u003E\u003E\u003E\u003E\u003E\u003E\u003E\u003E7435785839743475964736777571752154351611764245621344431132251465\n",
            "6224661316242254141657461754681324674425243874535618428492868496232893846538v3662687733791731219129358366565355757635446311733143657425122563\n",
            "4155652445575674437244212741461183678622537794412697799873852983842598423842v8756474636422514452298191475376632765124517311772223747111221553\n",
            "2244155444427227372642778374563312412623834348132181834633599632534425984972v6492941383277632623418667535385535482231643236343734565232236444\n",
            "6425316446344571377225233853762341523244856587659675514837922618387826583476v\u003E\u003E\u003E\u003E\u003E46376458811756134717552147451331773156467323215724342116442\n",
            "112113412634335564534268458676158367547228686447194692571532281255486635234896812v44882937351298543936536772483618318322621454477535523115114\n",
            "216121412513263576431356731484743423226186323591931731372862828827435596268672847v39849336184758446348635438321131345433132174242622437525153\n",
            "361244662336135551344452463485211862627172377935539245834996384454592258948699898v79493281223257671814911488182376662145511164525275131736665\n",
            "165234521654275573365338385518278629948818996367435586895254436684523588948834744v\u003E\u003E\u003E\u003E\u003E\u003E61976738986265779662653464324822271266514762166614456\n",
            "324144767427637621188145143771424263391457862667374927664422328857282489772884986588289v23465238542877749258682122413475416277214371116144623\n",
            "462141757254226563733583713476432319352426521991596892898487867483266853758672579895694v42632283377513828828261837833183121631572445742221442\n",
            "215437425121164562573363383767726238622382131485669753322623542876563466426275244369368v47787488539787837637458832715174756512351354433553615\n",
            "411512143274675166775574111817787573766775639649748955987736757897939233746284477745449v98436594834584563281472552721784377616221164373235444\n",
            "512226541464154167618621765353997426286177987528994879733349887982688442788392574494257v23769364334977973914468831215213434121557435771565134\n",
            "635331345725771132217132287438273585552172816423755333597376226838886737863392477937822v67422942458778328451456818552882733583711124745146656\n",
            "162257267374445546767112112712599764653643626686288372592388595479834563982395645952583v83855929363816518284764675946533645314857511275441423\n",
            "525354122752235724621386155517388489843996386869822654744547868463666959853998539475689v99989335596595158734553643844345146762118341614515637\n",
            "212327336673515327218426574633382538632266645426845353829727535364459353455497533356978v\u003E\u003E\u003E\u003E\u003E\u003E\u003E\u003E\u003E68863571995889884663822271785863316751172437\n",
            "654151554722716881474716178795444491967242838664634497963334873734937539636888983644492435252529v92388296918524215237646756324535244337742726\n",
            "436134144453674243475135213891997979652264272377259763296776495333488365579853956347338222448869v75679874493495427192882433526465264166512725\n",
            "352441657667211781286346867251829436915494872282657548879573773477647586633836864636375888836387v34837247286746357749946378358815164761341544\n",
            "344211312455633127334571881285487991146674766575667553989789874759837856753797837467959637559882v38673235724542397242463723311666271462151564\n",
            "765447465132754118378824765215457832223883484794236957898556549574873435765334375746566573588226v\u003E\u003E\u003E\u003E\u003E\u003E\u003E\u003E\u003E74263269962798366373842274325572431\n",
            "245442774216763847855223456682983887229487772878955883963385895968748584584569393936333658859622439522349v96447541345839677485776581752747135\n",
            "464755326741735643184731216812211999566567378343556656375863985733995377668847983654457864497366893338557v66694594267935524728564757115562372\n",
            "276611114441172744317873532453116592272575726637753987386573644857854859893767947868594769849334765626244v38348181439655388314127867476637735\n",
            "172775757671812773447757984667458565653235583325877488595356447758955333968754849886479358495987483444887v\u003E\u003E\u003E\u003E\u003E\u003E\u003E\u003E944126868285314572316572772\n",
            "34621112114372854765889483189653874544964686987839589648338693953388767586976893667658455675883557725984979265364v654418357664532478455461772\n",
            "32464363385727663763541411225226134576794748644993339589999735496696888665575486343497364486494344359786832983336v741583728881152722855261725\n",
            "25243155287662623541587997151586593362225888644939494665984748569776684469656885989997384834373567276477887885377v812544691151562486731376623\n",
            "31672273747475526432919378728561793636585526854776534675744965888994875649646877696567573563495444528649444282896v927698659861153211716551626\n",
            "13277314148371274385356313421867433444692379455485977556638687586654779585476458994988868546373376485664633524561v\u003E\u003E\u003E\u003E66215322668416242466113\n",
            "151424512168615731394256965226768648859888366593449576393685848577645497546546978799664387869736344954593839425929866v56999385267562844644522\n",
            "717555552616666821865629725717366683284624363537696575686478884697444676498558794865964555694576556597676343463327134v46854342316624568632777\n",
            "472551411442145515626216329563746474844686877348583653658695864448747455675695987878797598759876444588982764936271821v31287267286142726275636\n",
            "155171541533286818525899767799783899346843864587558768894759884784845468548846448976554648647475865438854692464626677v43436765547273851552154\n",
            "452664558522671782529494711976935543453978977539657538756697754957459645979486797498575948848686937394226747747999577v44696386565128765367717\n",
            "361424226524565628529315274622585494838268365938499747649755856858756997855858979678977694755749839789795947672642972v87911181354825148861517\n",
            "561537484637775558882152657299652655948477594858347748599487656596976588789645474478889684757873779366738489275563128v69128352376636643832235\n",
            "776337212743488848616748846392848847657896659968374447465495596675785796966587646955589596975767597746769797657792654v\u003E\u003E\u003E\u003E\u003E486318357545244116\n",
            "24634352832855747434159679181488889257957549995599987959676559687695786955959869586895599576393497778668853753799699663658v397672628681375556\n",
            "13667132657727144584536686329263646435897436957887854449678845889758656555599655578985898849364633396749563955475667475238v266681768511686224\n",
            "24517661783526213332972796133527548638695786845479977789457545688997985966858595569649457688545338969694867686438835517376v295788522586337231\n",
            "53261724836362625258366948212778336439843695475989865556767469765668977688996596995686684669699796478358786358488972498877v766816773813426155\n",
            "15116415168555357992392922983944743983256758694836778755599859969686786669579868958969489984859634543375436523422359718556v768133543256874513\n",
            "47315122414837838785964649298934637744474567748756459777568999865656597869885655899859487698459648659996292563578445424216v242433423243854376\n",
            "46672465245823726454112191568895456573663936435356976988664595678889798977688966797644877654949695638667635883725471189896v961655123621842475\n",
            "23355424887163448551612433633332766842334463693634547584587456889555687878776669655595574845873599476393287978769589253164v372335182388765717\n",
            "44272168687362128816724896727264469876568674946699845469848886585558557696985989995774976769636764348574956738475696912183v\u003E\u003E\u003E\u003E42323362853652\n",
            "131224361257182686937194839198486944358486644639849596675999459955899587657775896596474765495634946934837752398746648454767955v27874862685614\n",
            "577234453284318136659448565923964378722959595589456744664955686696755697588769877684847445447355475683793483446432761555355475v57422686143754\n",
            "214426477131541647836848128972238555848384596844999685878568658578767557689977756869565899556864366577378248982482248471328646v38385415561444\n",
            "631517715854527284224457827182847678446846445586854979459977968978968565995858675949787689884939546674347723982983665277794391v64422526543176\n",
            "155422167537473389555527617774884937496574996375454598584877665555986698978669587546956446897646686535954259459925769837343945v32326525117536\n",
            "177246373177536325624347194283597785836546576666856679887798468766676885797776967668857755495734793955638228967677315548569511v16845714682231\n",
            "471717133624583778845711674197464474634833438739354856948587945795776985555876655445447849884384784634339268857367889839651724v35343345431411\n",
            "377264345556117134287713473164229944453868433958366976647975665796597677889585857887445887653768679867444347749283781729133858v\u003E\u003E\u003E\u003E3765272413\n",
            "3145243835743233881834454883929753745243353875568337849957554578459585875979579779965857469495645689548263283292448681712119483628v6573326426\n",
            "4345546826831754186386561628925848432627774936894398669857896557797778575995885975666964787696434733555985376443797889864598323842v7463657114\n",
            "6741331615546484416888355141396886546822458557678676746984558897749845744644969446877896756969566483435232265227882862698387516525v5475555456\n",
            "4624267656631431579694892987644386584495575656889689388765766845764544996448467956569574997686939476832346354825796137417387416388v6361164112\n",
            "6343421365781531212738146353982983229673973544666556675785676459874786667554794785854974496938937796588837649227928199962931643751v5165847245\n",
            "2355122274446332776382926783874976288526597945535743586949776747649865885965894568844648474468565875494475934788727412687219271734v1372624313\n",
            "7434123578316531661339322922329599699652739755389943977769766549988899968459798445765787358764336638539954263623646271244255116133v5172526143\n",
            "4427316222751682618243534336542557783684574943677794889637784559547594848787445986859788656658685347962592382585647797938838432786v2577531277\n",
            "2433434127655768417198691452312837256272532797357566668597676869877648589965796669996765993454456877536298773498674324789177376534v5348747374\n",
            "621763522433384116683368611216128726575499999675558585954765897754884669785976859747364543433576448954453786355916219328327532\u003C\u003C\u003C\u003Cv8665575477\n",
            "524543276433232377649358862969143584849235654778537988384848895866487768479675459835474689886657946249585372249161848824253141v64326626477154\n",
            "722467124826263612881883691123387632828943444693843379587888388849754449955477549743646495473486965329666372536965677348341865v38638286273165\n",
            "477477475777163455752141878838789829433429974989495973339968493793545759888944879396357777984646839554485527326119533345645764v13471445746721\n",
            "222532226153666532176538988216672893266644423264847958673475539977487799368647679888345686669979534437572432521737216573686711v33826462247211\n",
            "173125312356454673552112123737663794747882924722848674959576679798568663889689975554993867883977224268427432287697474147348411v25466854222637\n",
            "557631726747636381682623367181467282894546696525796984344945887944877648398534397357966494763826492939374534122237664392856188v71226651127435\n",
            "127171514561685641185667884337671878659495478688583573464567388339338786567678789679838634369722994557784389588644887343583216v87451252327643\n",
            "164453367524423665665615869718416552687693584876854963898383679539375389476467578738696549498664263688784327314522691774631815v84468627112721\n",
            "715112634543835623631547327647797526999869329583334828693863687779564638748458393589797999328837637987726614986922784643114286v83182776447661\n",
            "355711513326446741182421385369326178555652458559644274549864795578944956536585564867778923226244636978342947532318399341185647v\u003E\u003E\u003E\u003E5124255224\n",
            "6474554654373753171457776425284681313317945889298438363538767949985394894439598785934782893577999774957835164195182822213587323684v4747565234\n",
            "3123645133262148421481443733186383277933486962883367338239878596575576733865563697557788786956674576745148485819882833841725686237v6413616744\n",
            "6255424171356187864712585481972794473883357555496625427799886438958653864668876943554483258477829593827895241434869543237672286737v3555533613\n",
            "1134211622617315861231156284967299855896696795776943344526734846485483485993797229839688646787446334763429945537712513447714523666v4141255454\n",
            "1344776161172157823837663864934537758733919458359589358538828845772856878347722293789923874297655835359569249167589183665683472125v7667423251\n",
            "5461257325715543748723582234762649332682816772454466478537259638527756897763443695957348274723367229588253844623696322788654373116v5461246774\n",
            "6462553366233156421818746516843513739552486687344842779969526328949692965593585432332566957563896765922815326326837677667528825262v4571557735\n",
            "2631331111546266651531457456736863789722546711796395353542896597493777252762684449557968534373659576818683698898535383657666831337v3143774351\n",
            "3561571225352321573585558626126427185879231875223234688834862368242348824296292989373257276795846338164176733643662572268864371712v5264255132\n",
            "4361477525321127267853338157274157841131199245589279934944373428943348744896445454237954986689666684943976147431337885613723135655v\u003E\u003E\u003E\u003E412513\n",
            "23433363566126312212541588576481151494951669123743736955325289528562435342436664352229853832188819312161471533374238757417384251226744v376422\n",
            "22663235517547615345536725563524545982759821873864887347648789864575492353549574228643934855983417393379737554474855574315572663561515v146352\n",
            "63622441331744613315771458568575655288712557628839689677782736475553746664893893486886866118578745389317937171478878311371373424125453v625421\n",
            "24441621115146564512346252467187115614911278957975485979438539968785487559479462673512359129122632938938173267552884528818224637551217v533615\n",
            "34123464474222447242365146215535767863692943566925295245628146534526348637283662627322432289989555712299316786672467255433713513565311v124612\n",
            "33616334274342737525444811686756227541736296176158295232445731622352115512746997564729278466817932524794135744842266467371537225754235v143314\n",
            "44626616621217522442525761233831161674577944388882713642468469657867858972348252244873976185515459745167178554117288187735555132626622v432533\n",
            "44123646662523716524662121652265516211625681259259191868922753532696468429469975776421282466913884741643265855888573841541437112175422v445626\n",
            "33621416621267627573161355858251146376477728963982715536522313284191871697645278853793952779278242741551232368782626611341525321263441v\u003E\u003E\u003E\u003E66\n",
            "156655122133261521516122566572515434717653146596644589653135146364735937358668722466893845594315477856718262712185527217322662323224666442v46\n",
            "542641643422157335736531433711262816675866776438164738517212817131258542834354849896414772143641517274847844786871322316165477233165122143v53\n",
            "425621532435625222342717431654422836474813525672717161472481558477572163341687313384669111285481622875246428871137436573216744553463552166v64\n",
            "524561366513451634126562352443225173336757122613738581756359314696894871173855271891555265243141257445447562465313572767217323644435611635v11\n",
            "254251516443366157753771541143258516782164212551873214229594347153265831994849692151361355851528274236211216786152232711711651453223421646v16\n",
            "215554635355325667135716763721217234635357578417452187761828897357193917742118942459777752848665384211266816873171647372217112621162542255v12\n",
            "514541236521552351223166776737136317146134543621414737161624368879494573519462877621671886741747258617584764124161374765546174436421234345v53\n",
            "511145424614131264516515137133473167736454277231865328842625472572663325674638234365183157326727761782846522133167145275224151666252145636v23\n",
            "313332415443536513146361473172162515251734213163676225225133426717638474216532617124775345723771118682526213266352774677221132662366\u003C\u003C\u003C\u003C\u003C\u003Cv15\n",
            "132555424153156351214646455337532635262861546511415871233484875138164523831438345121328725486262357726311244324365742311451662324156v36636425\n",
            "255222216146651531513124575714616465116454165766426434148253317171658475836237648832735577785846338655172353646633527411215524341665v62134453\n",
            "542143544121563154365555264354257567561417334681327243362335833747845244188881616757755642416375682814575742262167632761256266143411v11654155\n",
            "424224422121645653255645552354442744755732533713878525763571554588132424638372283711583118661563834233124414622412742711452641462412v56452541\n",
            "323451134536366144223243127356522172173776114241763278766524165337612613172258564327763676767642716652727411374535644514445412342414v64232233\n",
            "143523413366136226616145352725462712565116534325315828681434815576341256675583812823136155425577535611711462112345264132341661156123v22512444\n",
            "534424215335116121416355453212641742616637467561421765211312716561473764825324643348524726375416371646456513273323442243456342316616v45312513\n",
            "453232513252636341354514425646123634164432116237255356562765431344418733453743628134654343261472464746252217135122315455326111441265v\u003E\u003E\u003E\u003E\u003E\u003E\u003E\u003E\n",
            "41221513352454162245124354416646623276631752762324212475331631618851662313147282276446753161627324753344416373655525461141146223214442422423v\n",
            "33421215331341321452445344233656174434541673225776113113172121337153164565632425365745221553334653716653376414216154146135435166434542251152v\n",
            "31324233214233345125351535525551345327377532661151165147727347566572175263312324656746363657243561427646621322214141265454266661312211234453v\n",
            "44445412111531341246343361115161556435142266131535133723674743364247714733553376644377364621477712566542424366132221533124551652315514252343v\n",
            "11115444132113453454624351513243254344242277645675376262356756112217643272721421516557176576335667751726435645151115653356643531552523122534v\n"
          ]
        }
      ],
      "source": [
        "foreach (var line in Render(inputLines, shortestPath2.points)) {\n",
        "    Console.WriteLine(line);\n",
        "}"
      ]
    }
  ],
  "metadata": {
    "kernelspec": {
      "display_name": ".NET (C#)",
      "language": "C#",
      "name": ".net-csharp"
    },
    "language_info": {
      "name": "python"
    },
    "polyglot_notebook": {
      "kernelInfo": {
        "defaultKernelName": "csharp",
        "items": [
          {
            "aliases": [],
            "name": "csharp"
          }
        ]
      }
    }
  },
  "nbformat": 4,
  "nbformat_minor": 2
}