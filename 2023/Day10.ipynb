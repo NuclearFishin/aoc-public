{
  "cells": [
    {
      "cell_type": "markdown",
      "metadata": {
        "dotnet_interactive": {
          "language": "csharp"
        },
        "polyglot_notebook": {
          "kernelName": "csharp"
        }
      },
      "source": [
        "### --- Day 10: Pipe Maze ---\n",
        "\n",
        "Puzzle description redacted as-per Advent of Code guidelines\n",
        "\n",
        "You may find the puzzle description at: https://adventofcode.com/2023/day/10"
      ]
    },
    {
      "cell_type": "code",
      "execution_count": 2,
      "metadata": {
        "dotnet_interactive": {
          "language": "csharp"
        },
        "polyglot_notebook": {
          "kernelName": "csharp"
        }
      },
      "outputs": [],
      "source": [
        "#!import ../Utils.ipynb"
      ]
    },
    {
      "cell_type": "code",
      "execution_count": 3,
      "metadata": {
        "dotnet_interactive": {
          "language": "csharp"
        },
        "polyglot_notebook": {
          "kernelName": "csharp"
        }
      },
      "outputs": [
        {
          "name": "stdout",
          "output_type": "stream",
          "text": [
            "Loading puzzle file: Day10.txt\n",
            "Total lines: 140\n",
            "Max line length: 140\n",
            "\n",
            "7-LJ7.F-F77FF-77FJ-J-F7FF|777F7--..JJ.F.7.|.F-J7-J777F7FF77F|.|7L-7.F-|7F7FF-J7LF|.7--7J-F.F--7-L--77.|F-J77F7F|-F-F7-J-FFF---F--77|FF7--L7.\n",
            "L7.F--J.L7J7|---FJ-|JLF77L7J7F|-J7|J.FLLJ.FFF7|F7L7-J7LF7.-|L-77-LL7J.|.L-7JFJ7-7J7L-LFJF-7-|7|-|FL--J|L77L-J|7|F|-7J.|LLJJL|.|JF7-|-|||L|-F\n",
            "F|--7.L-7|.-L-|.|7-LL-J|L-|.FJJ7F-..F|.L|FLJL7F7|F.L-|-7LJL|JL77-.|7|7.J.LF-7FJ7JF-J||J|FL77LJJ-7-77||F--7JL-7-LJJF--77LLF7F7-|.JJ|||JFF-|JF\n",
            "FJ|L7-FL-L7J|FL-|LJFL7-F|LJ--J.F-7F-7L7--7.|F7J|F|7.L||F7J-J.FFJ.LLF-7F..-|--JLJF7J.LF.LJ|L-JJ.|.LJ-LFF7|L7-L|-LF7|F|7--7LJF77|7|LF|7FJ|L|F|\n",
            "|LF7L-7J||LF-FJ.|7FF-F--J-J-L-|JJLL.J.||L7-FF7|L-L-7F77L77FJFFLJ7|JL7F-77-L-JL--LJJ7L-77LJJJ|.FF-FJLL|L--L7F|JFLF7FLJ7FJJJFL7JJ77-7|LJL|.J-F\n"
          ]
        }
      ],
      "source": [
        "var inputLines = LoadPuzzleInput(2023, 10);\n",
        "WriteLines(inputLines);"
      ]
    },
    {
      "cell_type": "code",
      "execution_count": 4,
      "metadata": {
        "dotnet_interactive": {
          "language": "csharp"
        },
        "polyglot_notebook": {
          "kernelName": "csharp"
        }
      },
      "outputs": [],
      "source": [
        "record Point(int x, int y)\n",
        "{\n",
        "    public Point Up() =\u003E new Point(x, y - 1);\n",
        "    public Point Down() =\u003E new Point(x, y \u002B 1);\n",
        "    public Point Left() =\u003E new Point(x - 1, y);\n",
        "    public Point Right() =\u003E new Point(x \u002B 1, y);\n",
        "}\n",
        "\n",
        "record Piece(Point point, char shape);"
      ]
    },
    {
      "cell_type": "code",
      "execution_count": 5,
      "metadata": {
        "dotnet_interactive": {
          "language": "csharp"
        },
        "polyglot_notebook": {
          "kernelName": "csharp"
        }
      },
      "outputs": [],
      "source": [
        "IEnumerable\u003CPiece\u003E ParsePieces(string line, int rowNum) {\n",
        "    return line.Select((ch, i) =\u003E new Piece(new(i, rowNum), ch));\n",
        "}"
      ]
    },
    {
      "cell_type": "code",
      "execution_count": 6,
      "metadata": {
        "dotnet_interactive": {
          "language": "csharp"
        },
        "polyglot_notebook": {
          "kernelName": "csharp"
        }
      },
      "outputs": [],
      "source": [
        "var testInput = \u0022\u0022\u0022\n",
        ".....\n",
        ".S-7.\n",
        ".|.|.\n",
        ".L-J.\n",
        ".....\n",
        "\u0022\u0022\u0022;\n",
        "var testInputLines = testInput.Split(\u0027\\n\u0027);"
      ]
    },
    {
      "cell_type": "code",
      "execution_count": 7,
      "metadata": {
        "dotnet_interactive": {
          "language": "csharp"
        },
        "polyglot_notebook": {
          "kernelName": "csharp"
        }
      },
      "outputs": [],
      "source": [
        "Dictionary\u003CPoint, Piece\u003E GetPieceMap(string[] inputLines) {\n",
        "    return inputLines.SelectMany((line, row) =\u003E ParsePieces(line, row)).ToDictionary(p =\u003E p.point);\n",
        "}"
      ]
    },
    {
      "cell_type": "code",
      "execution_count": 8,
      "metadata": {
        "dotnet_interactive": {
          "language": "csharp"
        },
        "polyglot_notebook": {
          "kernelName": "csharp"
        }
      },
      "outputs": [
        {
          "name": "stdout",
          "output_type": "stream",
          "text": [
            "Piece { point = Point { x = 1, y = 1 }, shape = S }\n"
          ]
        }
      ],
      "source": [
        "var testPieceMap = GetPieceMap(testInputLines);\n",
        "var testStartPiece = testPieceMap.Values.Where(p =\u003E p.shape == \u0027S\u0027).Single();\n",
        "Console.WriteLine(testStartPiece);"
      ]
    },
    {
      "cell_type": "code",
      "execution_count": 9,
      "metadata": {
        "dotnet_interactive": {
          "language": "csharp"
        },
        "polyglot_notebook": {
          "kernelName": "csharp"
        }
      },
      "outputs": [],
      "source": [
        "Point[] Traverse(Piece current) {\n",
        "    var p = current.point;\n",
        "\n",
        "    return current.shape switch {\n",
        "        // | is a vertical pipe connecting north and south.\n",
        "        \u0027|\u0027 =\u003E [p.Up(), p.Down()],\n",
        "        // - is a horizontal pipe connecting east and west.\n",
        "        \u0027-\u0027 =\u003E [p.Left(), p.Right()],\n",
        "        // L is a 90-degree bend connecting north and east.\n",
        "        \u0027L\u0027 =\u003E [p.Up(), p.Right()],\n",
        "        // J is a 90-degree bend connecting north and west.\n",
        "        \u0027J\u0027 =\u003E [p.Up(), p.Left()],\n",
        "        // 7 is a 90-degree bend connecting south and west.\n",
        "        \u00277\u0027 =\u003E [p.Down(), p.Left()],\n",
        "        // F is a 90-degree bend connecting south and east.\n",
        "        \u0027F\u0027 =\u003E [p.Down(), p.Right()],\n",
        "        // . is ground; there is no pipe in this tile.\n",
        "        \u0027.\u0027 =\u003E [],\n",
        "        // S is the starting position of the animal; there is a pipe on this tile, but your sketch doesn\u0027t show what shape the pipe has.\n",
        "        \u0027S\u0027 =\u003E [p.Up(), p.Down(), p.Left(), p.Right()],\n",
        "        _ =\u003E throw new Exception($\u0022Unexpected piece shape {current.shape}\u0022)\n",
        "    };\n",
        "}"
      ]
    },
    {
      "cell_type": "code",
      "execution_count": 10,
      "metadata": {
        "dotnet_interactive": {
          "language": "csharp"
        },
        "polyglot_notebook": {
          "kernelName": "csharp"
        }
      },
      "outputs": [],
      "source": [
        "// The graph is too deep to recurse, so let\u0027s iterate instead\n",
        "\n",
        "// We know that the pipe is a single connected string, so we don\u0027t need to\n",
        "// consider alternative paths\n",
        "\n",
        "List\u003CPiece\u003E IterateLoop(Dictionary\u003CPoint, Piece\u003E pieceMap, HashSet\u003CPoint\u003E visited, Piece piece) \n",
        "{\n",
        "    // Starting point S has 4 potential inputs but is guaranteed to have 2 only.\n",
        "    // So we need to find one connected input as that\u0027s guaranteed to be a part of\n",
        "    // the connected loop\n",
        "\n",
        "    var upDownLeftRight = Traverse(piece);\n",
        "    var connectedPoint = upDownLeftRight.Where(x =\u003E Traverse(pieceMap[x]).Any(p =\u003E p == piece.point)).First();\n",
        "    var connectedPiece = pieceMap[connectedPoint];\n",
        "    Console.WriteLine($\u0022Found pipe entry at {connectedPiece}\u0022);\n",
        "    \n",
        "    var i = 0;\n",
        "\n",
        "    List\u003CPiece\u003E result = [piece];\n",
        "    visited.Add(piece.point);\n",
        "\n",
        "    var currentPiece = connectedPiece;\n",
        "    while (true) {\n",
        "        result.Add(currentPiece);\n",
        "        visited.Add(currentPiece.point);\n",
        "\n",
        "        // Console.WriteLine($\u0022Adding {currentPiece}\u0022);\n",
        "\n",
        "        var nextPoint = Traverse(currentPiece).Where(t =\u003E !visited.Contains(t)).FirstOrDefault(); // Pick a direction on the first piece\n",
        "\n",
        "        if (nextPoint == null) {\n",
        "            Console.WriteLine(\u0022No more next piece!\u0022);\n",
        "            return result;\n",
        "        }\n",
        "\n",
        "        currentPiece = pieceMap[nextPoint];\n",
        "\n",
        "        if (\u002B\u002Bi \u003E 100000) {\n",
        "            throw new Exception(\u0022Exceeded max iterations\u0022);\n",
        "        }\n",
        "    }\n",
        "}\n"
      ]
    },
    {
      "cell_type": "code",
      "execution_count": 11,
      "metadata": {
        "dotnet_interactive": {
          "language": "csharp"
        },
        "polyglot_notebook": {
          "kernelName": "csharp"
        }
      },
      "outputs": [
        {
          "name": "stdout",
          "output_type": "stream",
          "text": [
            "Found pipe entry at Piece { point = Point { x = 1, y = 2 }, shape = | }\n",
            "No more next piece!\n",
            "4\n",
            "Piece { point = Point { x = 1, y = 1 }, shape = S }\n",
            "Piece { point = Point { x = 1, y = 2 }, shape = | }\n",
            "Piece { point = Point { x = 1, y = 3 }, shape = L }\n",
            "Piece { point = Point { x = 2, y = 3 }, shape = - }\n",
            "Piece { point = Point { x = 3, y = 3 }, shape = J }\n",
            "Piece { point = Point { x = 3, y = 2 }, shape = | }\n",
            "Piece { point = Point { x = 3, y = 1 }, shape = 7 }\n",
            "Piece { point = Point { x = 2, y = 1 }, shape = - }\n"
          ]
        }
      ],
      "source": [
        "var test = IterateLoop(testPieceMap, new(), testStartPiece);\n",
        "\n",
        "// In this example, the farthest point from the start is 4 steps away.\n",
        "Console.WriteLine(test.Count / 2);\n",
        "\n",
        "foreach (var t in test) {\n",
        "    Console.WriteLine(t);\n",
        "}\n"
      ]
    },
    {
      "cell_type": "code",
      "execution_count": 12,
      "metadata": {
        "dotnet_interactive": {
          "language": "csharp"
        },
        "polyglot_notebook": {
          "kernelName": "csharp"
        }
      },
      "outputs": [
        {
          "name": "stdout",
          "output_type": "stream",
          "text": [
            "Piece { point = Point { x = 0, y = 2 }, shape = S }\n",
            "Found pipe entry at Piece { point = Point { x = 0, y = 3 }, shape = | }\n",
            "No more next piece!\n",
            "8\n",
            "Piece { point = Point { x = 0, y = 2 }, shape = S }\n",
            "Piece { point = Point { x = 0, y = 3 }, shape = | }\n",
            "Piece { point = Point { x = 0, y = 4 }, shape = L }\n",
            "Piece { point = Point { x = 1, y = 4 }, shape = J }\n",
            "Piece { point = Point { x = 1, y = 3 }, shape = F }\n",
            "Piece { point = Point { x = 2, y = 3 }, shape = - }\n",
            "Piece { point = Point { x = 3, y = 3 }, shape = - }\n",
            "Piece { point = Point { x = 4, y = 3 }, shape = J }\n",
            "Piece { point = Point { x = 4, y = 2 }, shape = 7 }\n",
            "Piece { point = Point { x = 3, y = 2 }, shape = L }\n",
            "Piece { point = Point { x = 3, y = 1 }, shape = | }\n",
            "Piece { point = Point { x = 3, y = 0 }, shape = 7 }\n",
            "Piece { point = Point { x = 2, y = 0 }, shape = F }\n",
            "Piece { point = Point { x = 2, y = 1 }, shape = J }\n",
            "Piece { point = Point { x = 1, y = 1 }, shape = F }\n",
            "Piece { point = Point { x = 1, y = 2 }, shape = J }\n"
          ]
        }
      ],
      "source": [
        "var testInput2 = \u0022\u0022\u0022\n",
        "7-F7-\n",
        ".FJ|7\n",
        "SJLL7\n",
        "|F--J\n",
        "LJ.LJ\n",
        "\u0022\u0022\u0022;\n",
        "var testInputLines2 = testInput2.Split(\u0027\\n\u0027);\n",
        "var testPieceMap2 = GetPieceMap(testInputLines2);\n",
        "var testStartPiece2 = testPieceMap2.Values.Where(p =\u003E p.shape == \u0027S\u0027).Single();\n",
        "Console.WriteLine(testStartPiece2);\n",
        "\n",
        "var test2 = IterateLoop(testPieceMap2, new(), testStartPiece2);\n",
        "\n",
        "// Max distance for this one is 8\n",
        "Console.WriteLine(test2.Count / 2);\n",
        "\n",
        "foreach (var t in test2) {\n",
        "    Console.WriteLine(t);\n",
        "}"
      ]
    },
    {
      "cell_type": "code",
      "execution_count": 13,
      "metadata": {
        "dotnet_interactive": {
          "language": "csharp"
        },
        "polyglot_notebook": {
          "kernelName": "csharp"
        }
      },
      "outputs": [
        {
          "name": "stdout",
          "output_type": "stream",
          "text": [
            "Start piece is Piece { point = Point { x = 93, y = 24 }, shape = S }\n",
            "Found pipe entry at Piece { point = Point { x = 93, y = 25 }, shape = | }\n",
            "No more next piece!\n",
            "6956\n"
          ]
        }
      ],
      "source": [
        "var pieceMap = GetPieceMap(inputLines);\n",
        "var startPiece = pieceMap.Values.Where(p =\u003E p.shape == \u0027S\u0027).Single();\n",
        "Console.WriteLine($\u0022Start piece is {startPiece}\u0022);\n",
        "\n",
        "var result = IterateLoop(pieceMap, new(), startPiece);\n",
        "\n",
        "// Find the single giant loop starting at S. How many steps along the loop does\n",
        "// it take to get from the starting position to the point farthest from the\n",
        "// starting position?\n",
        "\n",
        "var part1Answer = result.Count / 2;\n",
        "Console.WriteLine(part1Answer);"
      ]
    },
    {
      "cell_type": "code",
      "execution_count": 14,
      "metadata": {
        "dotnet_interactive": {
          "language": "csharp"
        },
        "polyglot_notebook": {
          "kernelName": "csharp"
        }
      },
      "outputs": [],
      "source": [
        "// 6956 is correct!\n",
        "Ensure(6956, part1Answer);"
      ]
    },
    {
      "cell_type": "markdown",
      "metadata": {
        "dotnet_interactive": {
          "language": "csharp"
        },
        "polyglot_notebook": {
          "kernelName": "csharp"
        }
      },
      "source": [
        "### --- Part Two ---\n",
        "\n",
        "Puzzle description redacted as-per Advent of Code guidelines\n",
        "\n",
        "You may find the puzzle description at: https://adventofcode.com/2023/day/10"
      ]
    },
    {
      "cell_type": "code",
      "execution_count": 16,
      "metadata": {
        "dotnet_interactive": {
          "language": "csharp"
        },
        "polyglot_notebook": {
          "kernelName": "csharp"
        }
      },
      "outputs": [],
      "source": [
        "// Looks like we actually need to infer the exact shape of S so we can properly\n",
        "// enclose the shape\n",
        "\n",
        "char InferShape(Dictionary\u003CPoint, Piece\u003E pieceMap, Piece sPiece) \n",
        "{\n",
        "    bool hasStart(Point p) =\u003E Traverse(pieceMap[p]).Any(p =\u003E p == sPiece.point);\n",
        "\n",
        "    var up = hasStart(sPiece.point.Up());\n",
        "    var down = hasStart(sPiece.point.Down());\n",
        "    var left = hasStart(sPiece.point.Left());\n",
        "    var right = hasStart(sPiece.point.Right());\n",
        "\n",
        "    var result = (up, down, left, right) switch {\n",
        "        (true, true, false, false) =\u003E \u0027|\u0027,\n",
        "        (true, false, true, false) =\u003E \u0027J\u0027,\n",
        "        (true, false, false, true) =\u003E \u0027L\u0027,\n",
        "        (false, false, true, true) =\u003E \u0027-\u0027,\n",
        "        (false, true, true, false) =\u003E \u00277\u0027,\n",
        "        (false, true, false, true) =\u003E \u0027F\u0027,\n",
        "        _ =\u003E throw new Exception(\u0022Unexpected connections\u0022)\n",
        "    };\n",
        "\n",
        "    return result;\n",
        "}"
      ]
    },
    {
      "cell_type": "code",
      "execution_count": 17,
      "metadata": {
        "dotnet_interactive": {
          "language": "csharp"
        },
        "polyglot_notebook": {
          "kernelName": "csharp"
        }
      },
      "outputs": [],
      "source": [
        "// We can calculate the inside pieces by \u0022drawing a line\u0022 throw a row. If we\n",
        "// have passed an odd number of walls, the following pieces are inside. Conversely\n",
        "// if we have passed an even number of walls, the pieces are outside. We need to be\n",
        "// careful with curved pieces: it only counts as a wall if it does not turn back on\n",
        "// itself!\n",
        "\n",
        "class Scanner(List\u003CPiece\u003E loopPieces)\n",
        "{\n",
        "    public bool IsInside { get; private set; } = false;\n",
        "\n",
        "    public List\u003CPiece\u003E InsidePieces { get; } = new();\n",
        "\n",
        "    HashSet\u003CPiece\u003E loopPieces = new(loopPieces);\n",
        "\n",
        "    Piece transitionPiece = null;\n",
        "\n",
        "    public Scanner ScanOne(Piece piece) \n",
        "    {\n",
        "        if (!loopPieces.Contains(piece)) {\n",
        "            // Not part of the loop. Continue as in/out\n",
        "            if (IsInside) {\n",
        "                InsidePieces.Add(piece);\n",
        "            }\n",
        "        } else {\n",
        "            // We hit a loop piece\n",
        "\n",
        "            switch (piece.shape) {\n",
        "                case \u0027|\u0027:\n",
        "                    IsInside = !IsInside;\n",
        "                break;\n",
        "                case \u0027-\u0027:\n",
        "                    // Part of a transition\n",
        "                    if (transitionPiece == null) {\n",
        "                        throw new Exception(\u0022Expected transition piece\u0022);\n",
        "                    }\n",
        "                break;\n",
        "                case \u0027L\u0027:\n",
        "                    transitionPiece = piece;\n",
        "                break;\n",
        "                case \u0027J\u0027:\n",
        "                    if (transitionPiece.shape == \u0027F\u0027) {\n",
        "                        // Transitioned into a wall\n",
        "                        IsInside = !IsInside;\n",
        "                    }\n",
        "                    transitionPiece = null;\n",
        "                break;\n",
        "                case \u00277\u0027:\n",
        "                    if (transitionPiece.shape == \u0027L\u0027) {\n",
        "                        // Transitioned into a wall\n",
        "                        IsInside = !IsInside;\n",
        "                    }\n",
        "                    transitionPiece = null;\n",
        "                break;\n",
        "                case \u0027F\u0027:\n",
        "                    transitionPiece = piece;\n",
        "                break;\n",
        "                case \u0027.\u0027:\n",
        "                    throw new Exception(\u0022Should not happen\u0022);\n",
        "                case \u0027S\u0027:\n",
        "                    throw new Exception(\u0022Need to remove S\u0022);\n",
        "                default:\n",
        "                    throw new Exception($\u0022Unexpected piece of wall: {piece}\u0022);\n",
        "            }\n",
        "        }\n",
        "\n",
        "        return this;\n",
        "    }\n",
        "}"
      ]
    },
    {
      "cell_type": "code",
      "execution_count": 18,
      "metadata": {
        "dotnet_interactive": {
          "language": "csharp"
        },
        "polyglot_notebook": {
          "kernelName": "csharp"
        }
      },
      "outputs": [
        {
          "name": "stdout",
          "output_type": "stream",
          "text": [
            "Found pipe entry at Piece { point = Point { x = 1, y = 2 }, shape = | }\n",
            "No more next piece!\n",
            "F\n",
            "Found pipe entry at Piece { point = Point { x = 1, y = 2 }, shape = | }\n",
            "No more next piece!\n",
            "Inside pieces of this row: 4\n"
          ]
        }
      ],
      "source": [
        "string part2Input = \u0022\u0022\u0022\n",
        "...........\n",
        ".S-------7.\n",
        ".|F-----7|.\n",
        ".||OOOOO||.\n",
        ".||OOOOO||.\n",
        ".|L-7OF-J|.\n",
        ".|II|O|II|.\n",
        ".L--JOL--J.\n",
        ".....O.....\n",
        "\u0022\u0022\u0022;\n",
        "var part2InputLines = part2Input.Split(\u0027\\n\u0027);\n",
        "var part2PieceMap = GetPieceMap(part2InputLines);\n",
        "var part2PieceStart = part2PieceMap.Values.Where(p =\u003E p.shape == \u0027S\u0027).Single();\n",
        "var part2Result = IterateLoop(part2PieceMap, new(), part2PieceStart);\n",
        "\n",
        "var part2StartShape = InferShape(part2PieceMap, part2PieceStart);\n",
        "Console.WriteLine(part2StartShape);\n",
        "// Replace start piece\n",
        "var newStartPiece = new Piece(part2PieceStart.point, part2StartShape);\n",
        "part2PieceMap[part2PieceStart.point] = newStartPiece;\n",
        "part2Result = IterateLoop(part2PieceMap, new(), newStartPiece);\n",
        "\n",
        "var part2Scanner = new Scanner(part2Result);\n",
        "var part2TestRow = Enumerable.Range(0, part2InputLines[0].Length).Select(x =\u003E part2PieceMap[new Point(x, 6)]).ToArray();\n",
        "var part2TestRowScanned = part2TestRow.Aggregate(part2Scanner, (a, b) =\u003E a.ScanOne(b));\n",
        "Console.WriteLine($\u0022Inside pieces of this row: {part2TestRowScanned.InsidePieces.Count()}\u0022);"
      ]
    },
    {
      "cell_type": "code",
      "execution_count": 19,
      "metadata": {
        "dotnet_interactive": {
          "language": "csharp"
        },
        "polyglot_notebook": {
          "kernelName": "csharp"
        }
      },
      "outputs": [
        {
          "name": "stdout",
          "output_type": "stream",
          "text": [
            "Inferred start shape is 7. Will replace\n",
            "Found pipe entry at Piece { point = Point { x = 93, y = 25 }, shape = | }\n",
            "No more next piece!\n",
            "455\n"
          ]
        }
      ],
      "source": [
        "var startShape = InferShape(pieceMap, startPiece);\n",
        "Console.WriteLine($\u0022Inferred start shape is {startShape}. Will replace\u0022);\n",
        "// Replace start Piece\n",
        "var newStartPiece = new Piece(startPiece.point, startShape);\n",
        "pieceMap[startPiece.point] = newStartPiece;\n",
        "\n",
        "var result2 = IterateLoop(pieceMap, new(), newStartPiece);\n",
        "\n",
        "var rows = Enumerable.Range(0, inputLines.Length);\n",
        "var cols = Enumerable.Range(0, inputLines[0].Length);\n",
        "var rowCols = rows.Select(y =\u003E cols.Select(x =\u003E new Point(x, y)).ToArray()).ToArray();\n",
        "\n",
        "// Figure out whether you have time to search for the nest by calculating the\n",
        "// area within the loop. How many tiles are enclosed by the loop?\n",
        "\n",
        "var part2Answer = rowCols.Select(row =\u003E row.Aggregate(new Scanner(result2), (scanner, point) =\u003E scanner.ScanOne(pieceMap[point])).InsidePieces.Count()).Sum();\n",
        "Console.WriteLine(part2Answer);"
      ]
    },
    {
      "cell_type": "code",
      "execution_count": 20,
      "metadata": {
        "dotnet_interactive": {
          "language": "csharp"
        },
        "polyglot_notebook": {
          "kernelName": "csharp"
        }
      },
      "outputs": [],
      "source": [
        "// 455 is correct!\n",
        "Ensure(455, part2Answer);"
      ]
    }
  ],
  "metadata": {
    "kernelspec": {
      "display_name": ".NET (C#)",
      "language": "C#",
      "name": ".net-csharp"
    },
    "language_info": {
      "name": "polyglot-notebook"
    },
    "polyglot_notebook": {
      "kernelInfo": {
        "defaultKernelName": "csharp",
        "items": [
          {
            "aliases": [],
            "name": "csharp"
          }
        ]
      }
    }
  },
  "nbformat": 4,
  "nbformat_minor": 2
}