{
  "cells": [
    {
      "cell_type": "code",
      "execution_count": 1,
      "metadata": {
        "dotnet_interactive": {
          "language": "csharp"
        },
        "polyglot_notebook": {
          "kernelName": "csharp"
        },
        "vscode": {
          "languageId": "polyglot-notebook"
        }
      },
      "outputs": [],
      "source": [
        "// --- Day 25: Snowverload ---\n",
        "\n",
        "// Puzzle description redacted as-per Advent of Code guidelines\n",
        "\n",
        "// You may find the puzzle description at: https://adventofcode.com/2023/day/25"
      ]
    },
    {
      "cell_type": "code",
      "execution_count": 2,
      "metadata": {
        "dotnet_interactive": {
          "language": "csharp"
        },
        "polyglot_notebook": {
          "kernelName": "csharp"
        },
        "vscode": {
          "languageId": "polyglot-notebook"
        }
      },
      "outputs": [],
      "source": [
        "#!import ../Utils.ipynb"
      ]
    },
    {
      "cell_type": "code",
      "execution_count": 3,
      "metadata": {
        "dotnet_interactive": {
          "language": "csharp"
        },
        "polyglot_notebook": {
          "kernelName": "csharp"
        },
        "vscode": {
          "languageId": "polyglot-notebook"
        }
      },
      "outputs": [
        {
          "name": "stdout",
          "output_type": "stream",
          "text": [
            "Loading puzzle file: Day25.txt\n",
            "Total lines: 1214\n",
            "Max line length: 32\n",
            "\n",
            "vmq: rcq qvj bpj\n",
            "fgc: gph\n",
            "cgg: jnf fmh pbf tmm qml\n",
            "ghp: pvl\n",
            "fbh: zcx\n"
          ]
        }
      ],
      "source": [
        "var inputLines = LoadPuzzleInput(2023, 25);\n",
        "WriteLines(inputLines);"
      ]
    },
    {
      "cell_type": "code",
      "execution_count": 4,
      "metadata": {
        "dotnet_interactive": {
          "language": "csharp"
        },
        "polyglot_notebook": {
          "kernelName": "csharp"
        },
        "vscode": {
          "languageId": "polyglot-notebook"
        }
      },
      "outputs": [],
      "source": [
        "string[] testInputLines = [\n",
        "    \u0022jqt: rhn xhk nvd\u0022,\n",
        "    \u0022rsh: frs pzl lsr\u0022,\n",
        "    \u0022xhk: hfx\u0022,\n",
        "    \u0022cmg: qnr nvd lhk bvb\u0022,\n",
        "    \u0022rhn: xhk bvb hfx\u0022,\n",
        "    \u0022bvb: xhk hfx\u0022,\n",
        "    \u0022pzl: lsr hfx nvd\u0022,\n",
        "    \u0022qnr: nvd\u0022,\n",
        "    \u0022ntq: jqt hfx bvb xhk\u0022,\n",
        "    \u0022nvd: lhk\u0022,\n",
        "    \u0022lsr: lhk\u0022,\n",
        "    \u0022rzs: qnr cmg lsr rsh\u0022,\n",
        "    \u0022frs: qnr lhk lsr\u0022,\n",
        "];"
      ]
    },
    {
      "cell_type": "code",
      "execution_count": 5,
      "metadata": {
        "dotnet_interactive": {
          "language": "csharp"
        },
        "polyglot_notebook": {
          "kernelName": "csharp"
        },
        "vscode": {
          "languageId": "polyglot-notebook"
        }
      },
      "outputs": [
        {
          "data": {
            "text/html": [
              "\u003Ctable\u003E\u003Cthead\u003E\u003Ctr\u003E\u003Cth\u003E\u003Ci\u003Ekey\u003C/i\u003E\u003C/th\u003E\u003Cth\u003Evalue\u003C/th\u003E\u003C/tr\u003E\u003C/thead\u003E\u003Ctbody\u003E\u003Ctr\u003E\u003Ctd\u003E\u003Cdiv class=\u0022dni-plaintext\u0022\u003E\u003Cpre\u003Ejqt\u003C/pre\u003E\u003C/div\u003E\u003C/td\u003E\u003Ctd\u003E\u003Cdetails class=\u0022dni-treeview\u0022\u003E\u003Csummary\u003E\u003Cspan class=\u0022dni-code-hint\u0022\u003E\u003Ccode\u003E[ rhn, xhk, nvd, ntq ]\u003C/code\u003E\u003C/span\u003E\u003C/summary\u003E\u003Cdiv\u003E\u003Ctable\u003E\u003Cthead\u003E\u003Ctr\u003E\u003C/tr\u003E\u003C/thead\u003E\u003Ctbody\u003E\u003Ctr\u003E\u003Ctd\u003ECount\u003C/td\u003E\u003Ctd\u003E\u003Cdiv class=\u0022dni-plaintext\u0022\u003E\u003Cpre\u003E4\u003C/pre\u003E\u003C/div\u003E\u003C/td\u003E\u003C/tr\u003E\u003Ctr\u003E\u003Ctd\u003EComparer\u003C/td\u003E\u003Ctd\u003E\u003Cdetails class=\u0022dni-treeview\u0022\u003E\u003Csummary\u003E\u003Cspan class=\u0022dni-code-hint\u0022\u003E\u003Ccode\u003ESystem.Collections.Generic.GenericEqualityComparer\u00601[System.String]\u003C/code\u003E\u003C/span\u003E\u003C/summary\u003E\u003Cdiv\u003E\u003Ctable\u003E\u003Cthead\u003E\u003Ctr\u003E\u003C/tr\u003E\u003C/thead\u003E\u003Ctbody\u003E\u003C/tbody\u003E\u003C/table\u003E\u003C/div\u003E\u003C/details\u003E\u003C/td\u003E\u003C/tr\u003E\u003Ctr\u003E\u003Ctd\u003E\u003Ci\u003E(values)\u003C/i\u003E\u003C/td\u003E\u003Ctd\u003E\u003Cdiv class=\u0022dni-plaintext\u0022\u003E\u003Cpre\u003E[ rhn, xhk, nvd, ntq ]\u003C/pre\u003E\u003C/div\u003E\u003C/td\u003E\u003C/tr\u003E\u003C/tbody\u003E\u003C/table\u003E\u003C/div\u003E\u003C/details\u003E\u003C/td\u003E\u003C/tr\u003E\u003Ctr\u003E\u003Ctd\u003E\u003Cdiv class=\u0022dni-plaintext\u0022\u003E\u003Cpre\u003Erhn\u003C/pre\u003E\u003C/div\u003E\u003C/td\u003E\u003Ctd\u003E\u003Cdetails class=\u0022dni-treeview\u0022\u003E\u003Csummary\u003E\u003Cspan class=\u0022dni-code-hint\u0022\u003E\u003Ccode\u003E[ jqt, xhk, bvb, hfx ]\u003C/code\u003E\u003C/span\u003E\u003C/summary\u003E\u003Cdiv\u003E\u003Ctable\u003E\u003Cthead\u003E\u003Ctr\u003E\u003C/tr\u003E\u003C/thead\u003E\u003Ctbody\u003E\u003Ctr\u003E\u003Ctd\u003ECount\u003C/td\u003E\u003Ctd\u003E\u003Cdiv class=\u0022dni-plaintext\u0022\u003E\u003Cpre\u003E4\u003C/pre\u003E\u003C/div\u003E\u003C/td\u003E\u003C/tr\u003E\u003Ctr\u003E\u003Ctd\u003EComparer\u003C/td\u003E\u003Ctd\u003E\u003Cdetails class=\u0022dni-treeview\u0022\u003E\u003Csummary\u003E\u003Cspan class=\u0022dni-code-hint\u0022\u003E\u003Ccode\u003ESystem.Collections.Generic.GenericEqualityComparer\u00601[System.String]\u003C/code\u003E\u003C/span\u003E\u003C/summary\u003E\u003Cdiv\u003E\u003Ctable\u003E\u003Cthead\u003E\u003Ctr\u003E\u003C/tr\u003E\u003C/thead\u003E\u003Ctbody\u003E\u003C/tbody\u003E\u003C/table\u003E\u003C/div\u003E\u003C/details\u003E\u003C/td\u003E\u003C/tr\u003E\u003Ctr\u003E\u003Ctd\u003E\u003Ci\u003E(values)\u003C/i\u003E\u003C/td\u003E\u003Ctd\u003E\u003Cdiv class=\u0022dni-plaintext\u0022\u003E\u003Cpre\u003E[ jqt, xhk, bvb, hfx ]\u003C/pre\u003E\u003C/div\u003E\u003C/td\u003E\u003C/tr\u003E\u003C/tbody\u003E\u003C/table\u003E\u003C/div\u003E\u003C/details\u003E\u003C/td\u003E\u003C/tr\u003E\u003Ctr\u003E\u003Ctd\u003E\u003Cdiv class=\u0022dni-plaintext\u0022\u003E\u003Cpre\u003Exhk\u003C/pre\u003E\u003C/div\u003E\u003C/td\u003E\u003Ctd\u003E\u003Cdetails class=\u0022dni-treeview\u0022\u003E\u003Csummary\u003E\u003Cspan class=\u0022dni-code-hint\u0022\u003E\u003Ccode\u003E[ jqt, hfx, rhn, bvb, ntq ]\u003C/code\u003E\u003C/span\u003E\u003C/summary\u003E\u003Cdiv\u003E\u003Ctable\u003E\u003Cthead\u003E\u003Ctr\u003E\u003C/tr\u003E\u003C/thead\u003E\u003Ctbody\u003E\u003Ctr\u003E\u003Ctd\u003ECount\u003C/td\u003E\u003Ctd\u003E\u003Cdiv class=\u0022dni-plaintext\u0022\u003E\u003Cpre\u003E5\u003C/pre\u003E\u003C/div\u003E\u003C/td\u003E\u003C/tr\u003E\u003Ctr\u003E\u003Ctd\u003EComparer\u003C/td\u003E\u003Ctd\u003E\u003Cdetails class=\u0022dni-treeview\u0022\u003E\u003Csummary\u003E\u003Cspan class=\u0022dni-code-hint\u0022\u003E\u003Ccode\u003ESystem.Collections.Generic.GenericEqualityComparer\u00601[System.String]\u003C/code\u003E\u003C/span\u003E\u003C/summary\u003E\u003Cdiv\u003E\u003Ctable\u003E\u003Cthead\u003E\u003Ctr\u003E\u003C/tr\u003E\u003C/thead\u003E\u003Ctbody\u003E\u003C/tbody\u003E\u003C/table\u003E\u003C/div\u003E\u003C/details\u003E\u003C/td\u003E\u003C/tr\u003E\u003Ctr\u003E\u003Ctd\u003E\u003Ci\u003E(values)\u003C/i\u003E\u003C/td\u003E\u003Ctd\u003E\u003Cdiv class=\u0022dni-plaintext\u0022\u003E\u003Cpre\u003E[ jqt, hfx, rhn, bvb, ntq ]\u003C/pre\u003E\u003C/div\u003E\u003C/td\u003E\u003C/tr\u003E\u003C/tbody\u003E\u003C/table\u003E\u003C/div\u003E\u003C/details\u003E\u003C/td\u003E\u003C/tr\u003E\u003Ctr\u003E\u003Ctd\u003E\u003Cdiv class=\u0022dni-plaintext\u0022\u003E\u003Cpre\u003Envd\u003C/pre\u003E\u003C/div\u003E\u003C/td\u003E\u003Ctd\u003E\u003Cdetails class=\u0022dni-treeview\u0022\u003E\u003Csummary\u003E\u003Cspan class=\u0022dni-code-hint\u0022\u003E\u003Ccode\u003E[ jqt, cmg, pzl, qnr, lhk ]\u003C/code\u003E\u003C/span\u003E\u003C/summary\u003E\u003Cdiv\u003E\u003Ctable\u003E\u003Cthead\u003E\u003Ctr\u003E\u003C/tr\u003E\u003C/thead\u003E\u003Ctbody\u003E\u003Ctr\u003E\u003Ctd\u003ECount\u003C/td\u003E\u003Ctd\u003E\u003Cdiv class=\u0022dni-plaintext\u0022\u003E\u003Cpre\u003E5\u003C/pre\u003E\u003C/div\u003E\u003C/td\u003E\u003C/tr\u003E\u003Ctr\u003E\u003Ctd\u003EComparer\u003C/td\u003E\u003Ctd\u003E\u003Cdetails class=\u0022dni-treeview\u0022\u003E\u003Csummary\u003E\u003Cspan class=\u0022dni-code-hint\u0022\u003E\u003Ccode\u003ESystem.Collections.Generic.GenericEqualityComparer\u00601[System.String]\u003C/code\u003E\u003C/span\u003E\u003C/summary\u003E\u003Cdiv\u003E\u003Ctable\u003E\u003Cthead\u003E\u003Ctr\u003E\u003C/tr\u003E\u003C/thead\u003E\u003Ctbody\u003E\u003C/tbody\u003E\u003C/table\u003E\u003C/div\u003E\u003C/details\u003E\u003C/td\u003E\u003C/tr\u003E\u003Ctr\u003E\u003Ctd\u003E\u003Ci\u003E(values)\u003C/i\u003E\u003C/td\u003E\u003Ctd\u003E\u003Cdiv class=\u0022dni-plaintext\u0022\u003E\u003Cpre\u003E[ jqt, cmg, pzl, qnr, lhk ]\u003C/pre\u003E\u003C/div\u003E\u003C/td\u003E\u003C/tr\u003E\u003C/tbody\u003E\u003C/table\u003E\u003C/div\u003E\u003C/details\u003E\u003C/td\u003E\u003C/tr\u003E\u003Ctr\u003E\u003Ctd\u003E\u003Cdiv class=\u0022dni-plaintext\u0022\u003E\u003Cpre\u003Ersh\u003C/pre\u003E\u003C/div\u003E\u003C/td\u003E\u003Ctd\u003E\u003Cdetails class=\u0022dni-treeview\u0022\u003E\u003Csummary\u003E\u003Cspan class=\u0022dni-code-hint\u0022\u003E\u003Ccode\u003E[ frs, pzl, lsr, rzs ]\u003C/code\u003E\u003C/span\u003E\u003C/summary\u003E\u003Cdiv\u003E\u003Ctable\u003E\u003Cthead\u003E\u003Ctr\u003E\u003C/tr\u003E\u003C/thead\u003E\u003Ctbody\u003E\u003Ctr\u003E\u003Ctd\u003ECount\u003C/td\u003E\u003Ctd\u003E\u003Cdiv class=\u0022dni-plaintext\u0022\u003E\u003Cpre\u003E4\u003C/pre\u003E\u003C/div\u003E\u003C/td\u003E\u003C/tr\u003E\u003Ctr\u003E\u003Ctd\u003EComparer\u003C/td\u003E\u003Ctd\u003E\u003Cdetails class=\u0022dni-treeview\u0022\u003E\u003Csummary\u003E\u003Cspan class=\u0022dni-code-hint\u0022\u003E\u003Ccode\u003ESystem.Collections.Generic.GenericEqualityComparer\u00601[System.String]\u003C/code\u003E\u003C/span\u003E\u003C/summary\u003E\u003Cdiv\u003E\u003Ctable\u003E\u003Cthead\u003E\u003Ctr\u003E\u003C/tr\u003E\u003C/thead\u003E\u003Ctbody\u003E\u003C/tbody\u003E\u003C/table\u003E\u003C/div\u003E\u003C/details\u003E\u003C/td\u003E\u003C/tr\u003E\u003Ctr\u003E\u003Ctd\u003E\u003Ci\u003E(values)\u003C/i\u003E\u003C/td\u003E\u003Ctd\u003E\u003Cdiv class=\u0022dni-plaintext\u0022\u003E\u003Cpre\u003E[ frs, pzl, lsr, rzs ]\u003C/pre\u003E\u003C/div\u003E\u003C/td\u003E\u003C/tr\u003E\u003C/tbody\u003E\u003C/table\u003E\u003C/div\u003E\u003C/details\u003E\u003C/td\u003E\u003C/tr\u003E\u003Ctr\u003E\u003Ctd\u003E\u003Cdiv class=\u0022dni-plaintext\u0022\u003E\u003Cpre\u003Efrs\u003C/pre\u003E\u003C/div\u003E\u003C/td\u003E\u003Ctd\u003E\u003Cdetails class=\u0022dni-treeview\u0022\u003E\u003Csummary\u003E\u003Cspan class=\u0022dni-code-hint\u0022\u003E\u003Ccode\u003E[ rsh, qnr, lhk, lsr ]\u003C/code\u003E\u003C/span\u003E\u003C/summary\u003E\u003Cdiv\u003E\u003Ctable\u003E\u003Cthead\u003E\u003Ctr\u003E\u003C/tr\u003E\u003C/thead\u003E\u003Ctbody\u003E\u003Ctr\u003E\u003Ctd\u003ECount\u003C/td\u003E\u003Ctd\u003E\u003Cdiv class=\u0022dni-plaintext\u0022\u003E\u003Cpre\u003E4\u003C/pre\u003E\u003C/div\u003E\u003C/td\u003E\u003C/tr\u003E\u003Ctr\u003E\u003Ctd\u003EComparer\u003C/td\u003E\u003Ctd\u003E\u003Cdetails class=\u0022dni-treeview\u0022\u003E\u003Csummary\u003E\u003Cspan class=\u0022dni-code-hint\u0022\u003E\u003Ccode\u003ESystem.Collections.Generic.GenericEqualityComparer\u00601[System.String]\u003C/code\u003E\u003C/span\u003E\u003C/summary\u003E\u003Cdiv\u003E\u003Ctable\u003E\u003Cthead\u003E\u003Ctr\u003E\u003C/tr\u003E\u003C/thead\u003E\u003Ctbody\u003E\u003C/tbody\u003E\u003C/table\u003E\u003C/div\u003E\u003C/details\u003E\u003C/td\u003E\u003C/tr\u003E\u003Ctr\u003E\u003Ctd\u003E\u003Ci\u003E(values)\u003C/i\u003E\u003C/td\u003E\u003Ctd\u003E\u003Cdiv class=\u0022dni-plaintext\u0022\u003E\u003Cpre\u003E[ rsh, qnr, lhk, lsr ]\u003C/pre\u003E\u003C/div\u003E\u003C/td\u003E\u003C/tr\u003E\u003C/tbody\u003E\u003C/table\u003E\u003C/div\u003E\u003C/details\u003E\u003C/td\u003E\u003C/tr\u003E\u003Ctr\u003E\u003Ctd\u003E\u003Cdiv class=\u0022dni-plaintext\u0022\u003E\u003Cpre\u003Epzl\u003C/pre\u003E\u003C/div\u003E\u003C/td\u003E\u003Ctd\u003E\u003Cdetails class=\u0022dni-treeview\u0022\u003E\u003Csummary\u003E\u003Cspan class=\u0022dni-code-hint\u0022\u003E\u003Ccode\u003E[ rsh, lsr, hfx, nvd ]\u003C/code\u003E\u003C/span\u003E\u003C/summary\u003E\u003Cdiv\u003E\u003Ctable\u003E\u003Cthead\u003E\u003Ctr\u003E\u003C/tr\u003E\u003C/thead\u003E\u003Ctbody\u003E\u003Ctr\u003E\u003Ctd\u003ECount\u003C/td\u003E\u003Ctd\u003E\u003Cdiv class=\u0022dni-plaintext\u0022\u003E\u003Cpre\u003E4\u003C/pre\u003E\u003C/div\u003E\u003C/td\u003E\u003C/tr\u003E\u003Ctr\u003E\u003Ctd\u003EComparer\u003C/td\u003E\u003Ctd\u003E\u003Cdetails class=\u0022dni-treeview\u0022\u003E\u003Csummary\u003E\u003Cspan class=\u0022dni-code-hint\u0022\u003E\u003Ccode\u003ESystem.Collections.Generic.GenericEqualityComparer\u00601[System.String]\u003C/code\u003E\u003C/span\u003E\u003C/summary\u003E\u003Cdiv\u003E\u003Ctable\u003E\u003Cthead\u003E\u003Ctr\u003E\u003C/tr\u003E\u003C/thead\u003E\u003Ctbody\u003E\u003C/tbody\u003E\u003C/table\u003E\u003C/div\u003E\u003C/details\u003E\u003C/td\u003E\u003C/tr\u003E\u003Ctr\u003E\u003Ctd\u003E\u003Ci\u003E(values)\u003C/i\u003E\u003C/td\u003E\u003Ctd\u003E\u003Cdiv class=\u0022dni-plaintext\u0022\u003E\u003Cpre\u003E[ rsh, lsr, hfx, nvd ]\u003C/pre\u003E\u003C/div\u003E\u003C/td\u003E\u003C/tr\u003E\u003C/tbody\u003E\u003C/table\u003E\u003C/div\u003E\u003C/details\u003E\u003C/td\u003E\u003C/tr\u003E\u003Ctr\u003E\u003Ctd\u003E\u003Cdiv class=\u0022dni-plaintext\u0022\u003E\u003Cpre\u003Elsr\u003C/pre\u003E\u003C/div\u003E\u003C/td\u003E\u003Ctd\u003E\u003Cdetails class=\u0022dni-treeview\u0022\u003E\u003Csummary\u003E\u003Cspan class=\u0022dni-code-hint\u0022\u003E\u003Ccode\u003E[ rsh, pzl, lhk, rzs, frs ]\u003C/code\u003E\u003C/span\u003E\u003C/summary\u003E\u003Cdiv\u003E\u003Ctable\u003E\u003Cthead\u003E\u003Ctr\u003E\u003C/tr\u003E\u003C/thead\u003E\u003Ctbody\u003E\u003Ctr\u003E\u003Ctd\u003ECount\u003C/td\u003E\u003Ctd\u003E\u003Cdiv class=\u0022dni-plaintext\u0022\u003E\u003Cpre\u003E5\u003C/pre\u003E\u003C/div\u003E\u003C/td\u003E\u003C/tr\u003E\u003Ctr\u003E\u003Ctd\u003EComparer\u003C/td\u003E\u003Ctd\u003E\u003Cdetails class=\u0022dni-treeview\u0022\u003E\u003Csummary\u003E\u003Cspan class=\u0022dni-code-hint\u0022\u003E\u003Ccode\u003ESystem.Collections.Generic.GenericEqualityComparer\u00601[System.String]\u003C/code\u003E\u003C/span\u003E\u003C/summary\u003E\u003Cdiv\u003E\u003Ctable\u003E\u003Cthead\u003E\u003Ctr\u003E\u003C/tr\u003E\u003C/thead\u003E\u003Ctbody\u003E\u003C/tbody\u003E\u003C/table\u003E\u003C/div\u003E\u003C/details\u003E\u003C/td\u003E\u003C/tr\u003E\u003Ctr\u003E\u003Ctd\u003E\u003Ci\u003E(values)\u003C/i\u003E\u003C/td\u003E\u003Ctd\u003E\u003Cdiv class=\u0022dni-plaintext\u0022\u003E\u003Cpre\u003E[ rsh, pzl, lhk, rzs, frs ]\u003C/pre\u003E\u003C/div\u003E\u003C/td\u003E\u003C/tr\u003E\u003C/tbody\u003E\u003C/table\u003E\u003C/div\u003E\u003C/details\u003E\u003C/td\u003E\u003C/tr\u003E\u003Ctr\u003E\u003Ctd\u003E\u003Cdiv class=\u0022dni-plaintext\u0022\u003E\u003Cpre\u003Ehfx\u003C/pre\u003E\u003C/div\u003E\u003C/td\u003E\u003Ctd\u003E\u003Cdetails class=\u0022dni-treeview\u0022\u003E\u003Csummary\u003E\u003Cspan class=\u0022dni-code-hint\u0022\u003E\u003Ccode\u003E[ xhk, rhn, bvb, pzl, ntq ]\u003C/code\u003E\u003C/span\u003E\u003C/summary\u003E\u003Cdiv\u003E\u003Ctable\u003E\u003Cthead\u003E\u003Ctr\u003E\u003C/tr\u003E\u003C/thead\u003E\u003Ctbody\u003E\u003Ctr\u003E\u003Ctd\u003ECount\u003C/td\u003E\u003Ctd\u003E\u003Cdiv class=\u0022dni-plaintext\u0022\u003E\u003Cpre\u003E5\u003C/pre\u003E\u003C/div\u003E\u003C/td\u003E\u003C/tr\u003E\u003Ctr\u003E\u003Ctd\u003EComparer\u003C/td\u003E\u003Ctd\u003E\u003Cdetails class=\u0022dni-treeview\u0022\u003E\u003Csummary\u003E\u003Cspan class=\u0022dni-code-hint\u0022\u003E\u003Ccode\u003ESystem.Collections.Generic.GenericEqualityComparer\u00601[System.String]\u003C/code\u003E\u003C/span\u003E\u003C/summary\u003E\u003Cdiv\u003E\u003Ctable\u003E\u003Cthead\u003E\u003Ctr\u003E\u003C/tr\u003E\u003C/thead\u003E\u003Ctbody\u003E\u003C/tbody\u003E\u003C/table\u003E\u003C/div\u003E\u003C/details\u003E\u003C/td\u003E\u003C/tr\u003E\u003Ctr\u003E\u003Ctd\u003E\u003Ci\u003E(values)\u003C/i\u003E\u003C/td\u003E\u003Ctd\u003E\u003Cdiv class=\u0022dni-plaintext\u0022\u003E\u003Cpre\u003E[ xhk, rhn, bvb, pzl, ntq ]\u003C/pre\u003E\u003C/div\u003E\u003C/td\u003E\u003C/tr\u003E\u003C/tbody\u003E\u003C/table\u003E\u003C/div\u003E\u003C/details\u003E\u003C/td\u003E\u003C/tr\u003E\u003Ctr\u003E\u003Ctd\u003E\u003Cdiv class=\u0022dni-plaintext\u0022\u003E\u003Cpre\u003Ecmg\u003C/pre\u003E\u003C/div\u003E\u003C/td\u003E\u003Ctd\u003E\u003Cdetails class=\u0022dni-treeview\u0022\u003E\u003Csummary\u003E\u003Cspan class=\u0022dni-code-hint\u0022\u003E\u003Ccode\u003E[ qnr, nvd, lhk, bvb, rzs ]\u003C/code\u003E\u003C/span\u003E\u003C/summary\u003E\u003Cdiv\u003E\u003Ctable\u003E\u003Cthead\u003E\u003Ctr\u003E\u003C/tr\u003E\u003C/thead\u003E\u003Ctbody\u003E\u003Ctr\u003E\u003Ctd\u003ECount\u003C/td\u003E\u003Ctd\u003E\u003Cdiv class=\u0022dni-plaintext\u0022\u003E\u003Cpre\u003E5\u003C/pre\u003E\u003C/div\u003E\u003C/td\u003E\u003C/tr\u003E\u003Ctr\u003E\u003Ctd\u003EComparer\u003C/td\u003E\u003Ctd\u003E\u003Cdetails class=\u0022dni-treeview\u0022\u003E\u003Csummary\u003E\u003Cspan class=\u0022dni-code-hint\u0022\u003E\u003Ccode\u003ESystem.Collections.Generic.GenericEqualityComparer\u00601[System.String]\u003C/code\u003E\u003C/span\u003E\u003C/summary\u003E\u003Cdiv\u003E\u003Ctable\u003E\u003Cthead\u003E\u003Ctr\u003E\u003C/tr\u003E\u003C/thead\u003E\u003Ctbody\u003E\u003C/tbody\u003E\u003C/table\u003E\u003C/div\u003E\u003C/details\u003E\u003C/td\u003E\u003C/tr\u003E\u003Ctr\u003E\u003Ctd\u003E\u003Ci\u003E(values)\u003C/i\u003E\u003C/td\u003E\u003Ctd\u003E\u003Cdiv class=\u0022dni-plaintext\u0022\u003E\u003Cpre\u003E[ qnr, nvd, lhk, bvb, rzs ]\u003C/pre\u003E\u003C/div\u003E\u003C/td\u003E\u003C/tr\u003E\u003C/tbody\u003E\u003C/table\u003E\u003C/div\u003E\u003C/details\u003E\u003C/td\u003E\u003C/tr\u003E\u003Ctr\u003E\u003Ctd\u003E\u003Cdiv class=\u0022dni-plaintext\u0022\u003E\u003Cpre\u003Eqnr\u003C/pre\u003E\u003C/div\u003E\u003C/td\u003E\u003Ctd\u003E\u003Cdetails class=\u0022dni-treeview\u0022\u003E\u003Csummary\u003E\u003Cspan class=\u0022dni-code-hint\u0022\u003E\u003Ccode\u003E[ cmg, nvd, rzs, frs ]\u003C/code\u003E\u003C/span\u003E\u003C/summary\u003E\u003Cdiv\u003E\u003Ctable\u003E\u003Cthead\u003E\u003Ctr\u003E\u003C/tr\u003E\u003C/thead\u003E\u003Ctbody\u003E\u003Ctr\u003E\u003Ctd\u003ECount\u003C/td\u003E\u003Ctd\u003E\u003Cdiv class=\u0022dni-plaintext\u0022\u003E\u003Cpre\u003E4\u003C/pre\u003E\u003C/div\u003E\u003C/td\u003E\u003C/tr\u003E\u003Ctr\u003E\u003Ctd\u003EComparer\u003C/td\u003E\u003Ctd\u003E\u003Cdetails class=\u0022dni-treeview\u0022\u003E\u003Csummary\u003E\u003Cspan class=\u0022dni-code-hint\u0022\u003E\u003Ccode\u003ESystem.Collections.Generic.GenericEqualityComparer\u00601[System.String]\u003C/code\u003E\u003C/span\u003E\u003C/summary\u003E\u003Cdiv\u003E\u003Ctable\u003E\u003Cthead\u003E\u003Ctr\u003E\u003C/tr\u003E\u003C/thead\u003E\u003Ctbody\u003E\u003C/tbody\u003E\u003C/table\u003E\u003C/div\u003E\u003C/details\u003E\u003C/td\u003E\u003C/tr\u003E\u003Ctr\u003E\u003Ctd\u003E\u003Ci\u003E(values)\u003C/i\u003E\u003C/td\u003E\u003Ctd\u003E\u003Cdiv class=\u0022dni-plaintext\u0022\u003E\u003Cpre\u003E[ cmg, nvd, rzs, frs ]\u003C/pre\u003E\u003C/div\u003E\u003C/td\u003E\u003C/tr\u003E\u003C/tbody\u003E\u003C/table\u003E\u003C/div\u003E\u003C/details\u003E\u003C/td\u003E\u003C/tr\u003E\u003Ctr\u003E\u003Ctd\u003E\u003Cdiv class=\u0022dni-plaintext\u0022\u003E\u003Cpre\u003Elhk\u003C/pre\u003E\u003C/div\u003E\u003C/td\u003E\u003Ctd\u003E\u003Cdetails class=\u0022dni-treeview\u0022\u003E\u003Csummary\u003E\u003Cspan class=\u0022dni-code-hint\u0022\u003E\u003Ccode\u003E[ cmg, nvd, lsr, frs ]\u003C/code\u003E\u003C/span\u003E\u003C/summary\u003E\u003Cdiv\u003E\u003Ctable\u003E\u003Cthead\u003E\u003Ctr\u003E\u003C/tr\u003E\u003C/thead\u003E\u003Ctbody\u003E\u003Ctr\u003E\u003Ctd\u003ECount\u003C/td\u003E\u003Ctd\u003E\u003Cdiv class=\u0022dni-plaintext\u0022\u003E\u003Cpre\u003E4\u003C/pre\u003E\u003C/div\u003E\u003C/td\u003E\u003C/tr\u003E\u003Ctr\u003E\u003Ctd\u003EComparer\u003C/td\u003E\u003Ctd\u003E\u003Cdetails class=\u0022dni-treeview\u0022\u003E\u003Csummary\u003E\u003Cspan class=\u0022dni-code-hint\u0022\u003E\u003Ccode\u003ESystem.Collections.Generic.GenericEqualityComparer\u00601[System.String]\u003C/code\u003E\u003C/span\u003E\u003C/summary\u003E\u003Cdiv\u003E\u003Ctable\u003E\u003Cthead\u003E\u003Ctr\u003E\u003C/tr\u003E\u003C/thead\u003E\u003Ctbody\u003E\u003C/tbody\u003E\u003C/table\u003E\u003C/div\u003E\u003C/details\u003E\u003C/td\u003E\u003C/tr\u003E\u003Ctr\u003E\u003Ctd\u003E\u003Ci\u003E(values)\u003C/i\u003E\u003C/td\u003E\u003Ctd\u003E\u003Cdiv class=\u0022dni-plaintext\u0022\u003E\u003Cpre\u003E[ cmg, nvd, lsr, frs ]\u003C/pre\u003E\u003C/div\u003E\u003C/td\u003E\u003C/tr\u003E\u003C/tbody\u003E\u003C/table\u003E\u003C/div\u003E\u003C/details\u003E\u003C/td\u003E\u003C/tr\u003E\u003Ctr\u003E\u003Ctd\u003E\u003Cdiv class=\u0022dni-plaintext\u0022\u003E\u003Cpre\u003Ebvb\u003C/pre\u003E\u003C/div\u003E\u003C/td\u003E\u003Ctd\u003E\u003Cdetails class=\u0022dni-treeview\u0022\u003E\u003Csummary\u003E\u003Cspan class=\u0022dni-code-hint\u0022\u003E\u003Ccode\u003E[ cmg, rhn, xhk, hfx, ntq ]\u003C/code\u003E\u003C/span\u003E\u003C/summary\u003E\u003Cdiv\u003E\u003Ctable\u003E\u003Cthead\u003E\u003Ctr\u003E\u003C/tr\u003E\u003C/thead\u003E\u003Ctbody\u003E\u003Ctr\u003E\u003Ctd\u003ECount\u003C/td\u003E\u003Ctd\u003E\u003Cdiv class=\u0022dni-plaintext\u0022\u003E\u003Cpre\u003E5\u003C/pre\u003E\u003C/div\u003E\u003C/td\u003E\u003C/tr\u003E\u003Ctr\u003E\u003Ctd\u003EComparer\u003C/td\u003E\u003Ctd\u003E\u003Cdetails class=\u0022dni-treeview\u0022\u003E\u003Csummary\u003E\u003Cspan class=\u0022dni-code-hint\u0022\u003E\u003Ccode\u003ESystem.Collections.Generic.GenericEqualityComparer\u00601[System.String]\u003C/code\u003E\u003C/span\u003E\u003C/summary\u003E\u003Cdiv\u003E\u003Ctable\u003E\u003Cthead\u003E\u003Ctr\u003E\u003C/tr\u003E\u003C/thead\u003E\u003Ctbody\u003E\u003C/tbody\u003E\u003C/table\u003E\u003C/div\u003E\u003C/details\u003E\u003C/td\u003E\u003C/tr\u003E\u003Ctr\u003E\u003Ctd\u003E\u003Ci\u003E(values)\u003C/i\u003E\u003C/td\u003E\u003Ctd\u003E\u003Cdiv class=\u0022dni-plaintext\u0022\u003E\u003Cpre\u003E[ cmg, rhn, xhk, hfx, ntq ]\u003C/pre\u003E\u003C/div\u003E\u003C/td\u003E\u003C/tr\u003E\u003C/tbody\u003E\u003C/table\u003E\u003C/div\u003E\u003C/details\u003E\u003C/td\u003E\u003C/tr\u003E\u003Ctr\u003E\u003Ctd\u003E\u003Cdiv class=\u0022dni-plaintext\u0022\u003E\u003Cpre\u003Entq\u003C/pre\u003E\u003C/div\u003E\u003C/td\u003E\u003Ctd\u003E\u003Cdetails class=\u0022dni-treeview\u0022\u003E\u003Csummary\u003E\u003Cspan class=\u0022dni-code-hint\u0022\u003E\u003Ccode\u003E[ jqt, hfx, bvb, xhk ]\u003C/code\u003E\u003C/span\u003E\u003C/summary\u003E\u003Cdiv\u003E\u003Ctable\u003E\u003Cthead\u003E\u003Ctr\u003E\u003C/tr\u003E\u003C/thead\u003E\u003Ctbody\u003E\u003Ctr\u003E\u003Ctd\u003ECount\u003C/td\u003E\u003Ctd\u003E\u003Cdiv class=\u0022dni-plaintext\u0022\u003E\u003Cpre\u003E4\u003C/pre\u003E\u003C/div\u003E\u003C/td\u003E\u003C/tr\u003E\u003Ctr\u003E\u003Ctd\u003EComparer\u003C/td\u003E\u003Ctd\u003E\u003Cdetails class=\u0022dni-treeview\u0022\u003E\u003Csummary\u003E\u003Cspan class=\u0022dni-code-hint\u0022\u003E\u003Ccode\u003ESystem.Collections.Generic.GenericEqualityComparer\u00601[System.String]\u003C/code\u003E\u003C/span\u003E\u003C/summary\u003E\u003Cdiv\u003E\u003Ctable\u003E\u003Cthead\u003E\u003Ctr\u003E\u003C/tr\u003E\u003C/thead\u003E\u003Ctbody\u003E\u003C/tbody\u003E\u003C/table\u003E\u003C/div\u003E\u003C/details\u003E\u003C/td\u003E\u003C/tr\u003E\u003Ctr\u003E\u003Ctd\u003E\u003Ci\u003E(values)\u003C/i\u003E\u003C/td\u003E\u003Ctd\u003E\u003Cdiv class=\u0022dni-plaintext\u0022\u003E\u003Cpre\u003E[ jqt, hfx, bvb, xhk ]\u003C/pre\u003E\u003C/div\u003E\u003C/td\u003E\u003C/tr\u003E\u003C/tbody\u003E\u003C/table\u003E\u003C/div\u003E\u003C/details\u003E\u003C/td\u003E\u003C/tr\u003E\u003Ctr\u003E\u003Ctd\u003E\u003Cdiv class=\u0022dni-plaintext\u0022\u003E\u003Cpre\u003Erzs\u003C/pre\u003E\u003C/div\u003E\u003C/td\u003E\u003Ctd\u003E\u003Cdetails class=\u0022dni-treeview\u0022\u003E\u003Csummary\u003E\u003Cspan class=\u0022dni-code-hint\u0022\u003E\u003Ccode\u003E[ qnr, cmg, lsr, rsh ]\u003C/code\u003E\u003C/span\u003E\u003C/summary\u003E\u003Cdiv\u003E\u003Ctable\u003E\u003Cthead\u003E\u003Ctr\u003E\u003C/tr\u003E\u003C/thead\u003E\u003Ctbody\u003E\u003Ctr\u003E\u003Ctd\u003ECount\u003C/td\u003E\u003Ctd\u003E\u003Cdiv class=\u0022dni-plaintext\u0022\u003E\u003Cpre\u003E4\u003C/pre\u003E\u003C/div\u003E\u003C/td\u003E\u003C/tr\u003E\u003Ctr\u003E\u003Ctd\u003EComparer\u003C/td\u003E\u003Ctd\u003E\u003Cdetails class=\u0022dni-treeview\u0022\u003E\u003Csummary\u003E\u003Cspan class=\u0022dni-code-hint\u0022\u003E\u003Ccode\u003ESystem.Collections.Generic.GenericEqualityComparer\u00601[System.String]\u003C/code\u003E\u003C/span\u003E\u003C/summary\u003E\u003Cdiv\u003E\u003Ctable\u003E\u003Cthead\u003E\u003Ctr\u003E\u003C/tr\u003E\u003C/thead\u003E\u003Ctbody\u003E\u003C/tbody\u003E\u003C/table\u003E\u003C/div\u003E\u003C/details\u003E\u003C/td\u003E\u003C/tr\u003E\u003Ctr\u003E\u003Ctd\u003E\u003Ci\u003E(values)\u003C/i\u003E\u003C/td\u003E\u003Ctd\u003E\u003Cdiv class=\u0022dni-plaintext\u0022\u003E\u003Cpre\u003E[ qnr, cmg, lsr, rsh ]\u003C/pre\u003E\u003C/div\u003E\u003C/td\u003E\u003C/tr\u003E\u003C/tbody\u003E\u003C/table\u003E\u003C/div\u003E\u003C/details\u003E\u003C/td\u003E\u003C/tr\u003E\u003C/tbody\u003E\u003C/table\u003E\u003Cstyle\u003E\r\n",
              ".dni-code-hint {\r\n",
              "    font-style: italic;\r\n",
              "    overflow: hidden;\r\n",
              "    white-space: nowrap;\r\n",
              "}\r\n",
              ".dni-treeview {\r\n",
              "    white-space: nowrap;\r\n",
              "}\r\n",
              ".dni-treeview td {\r\n",
              "    vertical-align: top;\r\n",
              "    text-align: start;\r\n",
              "}\r\n",
              "details.dni-treeview {\r\n",
              "    padding-left: 1em;\r\n",
              "}\r\n",
              "table td {\r\n",
              "    text-align: start;\r\n",
              "}\r\n",
              "table tr { \r\n",
              "    vertical-align: top; \r\n",
              "    margin: 0em 0px;\r\n",
              "}\r\n",
              "table tr td pre \r\n",
              "{ \r\n",
              "    vertical-align: top !important; \r\n",
              "    margin: 0em 0px !important;\r\n",
              "} \r\n",
              "table th {\r\n",
              "    text-align: start;\r\n",
              "}\r\n",
              "\u003C/style\u003E"
            ]
          },
          "metadata": {},
          "output_type": "display_data"
        }
      ],
      "source": [
        "Dictionary\u003Cstring, HashSet\u003Cstring\u003E\u003E ParseNeighbours(string[] inputLines)\n",
        "{\n",
        "    Dictionary\u003Cstring, HashSet\u003Cstring\u003E\u003E result = new();\n",
        "    \n",
        "    foreach (var line in inputLines)\n",
        "    {\n",
        "        var lineBits = line.Split(\u0027:\u0027)\n",
        "            .SelectMany(l =\u003E l.Split(\u0027 \u0027, StringSplitOptions.RemoveEmptyEntries))\n",
        "            .ToArray();\n",
        "\n",
        "        var key = lineBits[0];\n",
        "        var others = lineBits[1..];\n",
        "\n",
        "        var forward = result[key] = result.GetValueOrDefault(key, new());\n",
        "\n",
        "        foreach (var other in others)\n",
        "        {\n",
        "            forward.Add(other);\n",
        "\n",
        "            var backward = result[other] = result.GetValueOrDefault(other, new());\n",
        "\n",
        "            backward.Add(key);\n",
        "        }\n",
        "    }\n",
        "\n",
        "    return result;\n",
        "}\n",
        "\n",
        "var testInputNeighbours = ParseNeighbours(testInputLines);\n",
        "display(testInputNeighbours);"
      ]
    },
    {
      "cell_type": "code",
      "execution_count": 6,
      "metadata": {
        "dotnet_interactive": {
          "language": "csharp"
        },
        "polyglot_notebook": {
          "kernelName": "csharp"
        },
        "vscode": {
          "languageId": "polyglot-notebook"
        }
      },
      "outputs": [
        {
          "data": {
            "text/html": [
              "\u003Cdetails open=\u0022open\u0022 class=\u0022dni-treeview\u0022\u003E\u003Csummary\u003E\u003Cspan class=\u0022dni-code-hint\u0022\u003E\u003Ccode\u003E[ jqt, rhn, xhk, nvd, ntq, bvb, hfx, cmg, pzl, qnr, lhk, rzs, rsh, lsr, frs ]\u003C/code\u003E\u003C/span\u003E\u003C/summary\u003E\u003Cdiv\u003E\u003Ctable\u003E\u003Cthead\u003E\u003Ctr\u003E\u003C/tr\u003E\u003C/thead\u003E\u003Ctbody\u003E\u003Ctr\u003E\u003Ctd\u003ECount\u003C/td\u003E\u003Ctd\u003E\u003Cdiv class=\u0022dni-plaintext\u0022\u003E\u003Cpre\u003E15\u003C/pre\u003E\u003C/div\u003E\u003C/td\u003E\u003C/tr\u003E\u003Ctr\u003E\u003Ctd\u003EComparer\u003C/td\u003E\u003Ctd\u003E\u003Cdetails class=\u0022dni-treeview\u0022\u003E\u003Csummary\u003E\u003Cspan class=\u0022dni-code-hint\u0022\u003E\u003Ccode\u003ESystem.Collections.Generic.GenericEqualityComparer\u00601[System.String]\u003C/code\u003E\u003C/span\u003E\u003C/summary\u003E\u003Cdiv\u003E\u003Ctable\u003E\u003Cthead\u003E\u003Ctr\u003E\u003C/tr\u003E\u003C/thead\u003E\u003Ctbody\u003E\u003C/tbody\u003E\u003C/table\u003E\u003C/div\u003E\u003C/details\u003E\u003C/td\u003E\u003C/tr\u003E\u003Ctr\u003E\u003Ctd\u003E\u003Ci\u003E(values)\u003C/i\u003E\u003C/td\u003E\u003Ctd\u003E\u003Cdiv class=\u0022dni-plaintext\u0022\u003E\u003Cpre\u003E[ jqt, rhn, xhk, nvd, ntq, bvb, hfx, cmg, pzl, qnr, lhk, rzs, rsh, lsr, frs ]\u003C/pre\u003E\u003C/div\u003E\u003C/td\u003E\u003C/tr\u003E\u003C/tbody\u003E\u003C/table\u003E\u003C/div\u003E\u003C/details\u003E\u003Cstyle\u003E\r\n",
              ".dni-code-hint {\r\n",
              "    font-style: italic;\r\n",
              "    overflow: hidden;\r\n",
              "    white-space: nowrap;\r\n",
              "}\r\n",
              ".dni-treeview {\r\n",
              "    white-space: nowrap;\r\n",
              "}\r\n",
              ".dni-treeview td {\r\n",
              "    vertical-align: top;\r\n",
              "    text-align: start;\r\n",
              "}\r\n",
              "details.dni-treeview {\r\n",
              "    padding-left: 1em;\r\n",
              "}\r\n",
              "table td {\r\n",
              "    text-align: start;\r\n",
              "}\r\n",
              "table tr { \r\n",
              "    vertical-align: top; \r\n",
              "    margin: 0em 0px;\r\n",
              "}\r\n",
              "table tr td pre \r\n",
              "{ \r\n",
              "    vertical-align: top !important; \r\n",
              "    margin: 0em 0px !important;\r\n",
              "} \r\n",
              "table th {\r\n",
              "    text-align: start;\r\n",
              "}\r\n",
              "\u003C/style\u003E"
            ]
          },
          "metadata": {},
          "output_type": "display_data"
        }
      ],
      "source": [
        "// Ok, using a breadth-first search should give us the partition(s),\n",
        "// let\u0027s see if we can make that first\n",
        "\n",
        "using HashSetString = System.Collections.Generic.HashSet\u003Cstring\u003E;\n",
        "using NeighbourSet = System.Collections.Generic.Dictionary\u003Cstring, System.Collections.Generic.HashSet\u003Cstring\u003E\u003E;\n",
        "using ExcludePair = (string a, string b);\n",
        "\n",
        "HashSetString BFS(NeighbourSet inputSet, params ExcludePair[] excludes)\n",
        "{\n",
        "    HashSetString result = new();\n",
        "    \n",
        "    HashSet\u003CExcludePair\u003E excludePairs = new(excludes);\n",
        "    excludePairs.UnionWith(excludes.Select(ab =\u003E (ab.b, ab.a)));\n",
        "    \n",
        "    Queue\u003Cstring\u003E nodes = new();\n",
        "    nodes.Enqueue(inputSet.Keys.First());\n",
        "\n",
        "    while (nodes.TryDequeue(out var node))\n",
        "    {\n",
        "        result.Add(node);\n",
        "\n",
        "        foreach (var neighbour in inputSet[node])\n",
        "        {\n",
        "            if (excludePairs.Contains((node, neighbour))) {\n",
        "                continue;\n",
        "            }\n",
        "\n",
        "            if (!result.Contains(neighbour))\n",
        "            {\n",
        "                nodes.Enqueue(neighbour);\n",
        "            }\n",
        "        }\n",
        "    }\n",
        "\n",
        "    return result;\n",
        "}\n",
        "\n",
        "var testInputBFS = BFS(testInputNeighbours, []);\n",
        "display(testInputBFS);"
      ]
    },
    {
      "cell_type": "code",
      "execution_count": 7,
      "metadata": {
        "dotnet_interactive": {
          "language": "csharp"
        },
        "polyglot_notebook": {
          "kernelName": "csharp"
        },
        "vscode": {
          "languageId": "polyglot-notebook"
        }
      },
      "outputs": [
        {
          "data": {
            "text/html": [
              "\u003Cdetails open=\u0022open\u0022 class=\u0022dni-treeview\u0022\u003E\u003Csummary\u003E\u003Cspan class=\u0022dni-code-hint\u0022\u003E\u003Ccode\u003E[ jqt, rhn, xhk, ntq, bvb, hfx ]\u003C/code\u003E\u003C/span\u003E\u003C/summary\u003E\u003Cdiv\u003E\u003Ctable\u003E\u003Cthead\u003E\u003Ctr\u003E\u003C/tr\u003E\u003C/thead\u003E\u003Ctbody\u003E\u003Ctr\u003E\u003Ctd\u003ECount\u003C/td\u003E\u003Ctd\u003E\u003Cdiv class=\u0022dni-plaintext\u0022\u003E\u003Cpre\u003E6\u003C/pre\u003E\u003C/div\u003E\u003C/td\u003E\u003C/tr\u003E\u003Ctr\u003E\u003Ctd\u003EComparer\u003C/td\u003E\u003Ctd\u003E\u003Cdetails class=\u0022dni-treeview\u0022\u003E\u003Csummary\u003E\u003Cspan class=\u0022dni-code-hint\u0022\u003E\u003Ccode\u003ESystem.Collections.Generic.GenericEqualityComparer\u00601[System.String]\u003C/code\u003E\u003C/span\u003E\u003C/summary\u003E\u003Cdiv\u003E\u003Ctable\u003E\u003Cthead\u003E\u003Ctr\u003E\u003C/tr\u003E\u003C/thead\u003E\u003Ctbody\u003E\u003C/tbody\u003E\u003C/table\u003E\u003C/div\u003E\u003C/details\u003E\u003C/td\u003E\u003C/tr\u003E\u003Ctr\u003E\u003Ctd\u003E\u003Ci\u003E(values)\u003C/i\u003E\u003C/td\u003E\u003Ctd\u003E\u003Cdiv class=\u0022dni-plaintext\u0022\u003E\u003Cpre\u003E[ jqt, rhn, xhk, ntq, bvb, hfx ]\u003C/pre\u003E\u003C/div\u003E\u003C/td\u003E\u003C/tr\u003E\u003C/tbody\u003E\u003C/table\u003E\u003C/div\u003E\u003C/details\u003E\u003Cstyle\u003E\r\n",
              ".dni-code-hint {\r\n",
              "    font-style: italic;\r\n",
              "    overflow: hidden;\r\n",
              "    white-space: nowrap;\r\n",
              "}\r\n",
              ".dni-treeview {\r\n",
              "    white-space: nowrap;\r\n",
              "}\r\n",
              ".dni-treeview td {\r\n",
              "    vertical-align: top;\r\n",
              "    text-align: start;\r\n",
              "}\r\n",
              "details.dni-treeview {\r\n",
              "    padding-left: 1em;\r\n",
              "}\r\n",
              "table td {\r\n",
              "    text-align: start;\r\n",
              "}\r\n",
              "table tr { \r\n",
              "    vertical-align: top; \r\n",
              "    margin: 0em 0px;\r\n",
              "}\r\n",
              "table tr td pre \r\n",
              "{ \r\n",
              "    vertical-align: top !important; \r\n",
              "    margin: 0em 0px !important;\r\n",
              "} \r\n",
              "table th {\r\n",
              "    text-align: start;\r\n",
              "}\r\n",
              "\u003C/style\u003E"
            ]
          },
          "metadata": {},
          "output_type": "display_data"
        }
      ],
      "source": [
        "// In this example, if you disconnect the wire between hfx/pzl, the wire between\n",
        "// bvb/cmg, and the wire between nvd/jqt, you will divide the components into two\n",
        "// separate, disconnected groups:\n",
        "\n",
        "var testInputBFSSplit = BFS(testInputNeighbours, [(\u0022hfx\u0022, \u0022pzl\u0022), (\u0022bvb\u0022, \u0022cmg\u0022), (\u0022nvd\u0022, \u0022jqt\u0022)]);\n",
        "display(testInputBFSSplit);"
      ]
    },
    {
      "cell_type": "code",
      "execution_count": 8,
      "metadata": {
        "dotnet_interactive": {
          "language": "csharp"
        },
        "polyglot_notebook": {
          "kernelName": "csharp"
        },
        "vscode": {
          "languageId": "polyglot-notebook"
        }
      },
      "outputs": [
        {
          "data": {
            "text/html": [
              "\u003Cdetails open=\u0022open\u0022 class=\u0022dni-treeview\u0022\u003E\u003Csummary\u003E\u003Cspan class=\u0022dni-code-hint\u0022\u003E\u003Ccode\u003E(6, 9)\u003C/code\u003E\u003C/span\u003E\u003C/summary\u003E\u003Cdiv\u003E\u003Ctable\u003E\u003Cthead\u003E\u003Ctr\u003E\u003C/tr\u003E\u003C/thead\u003E\u003Ctbody\u003E\u003Ctr\u003E\u003Ctd\u003EItem1\u003C/td\u003E\u003Ctd\u003E\u003Cdiv class=\u0022dni-plaintext\u0022\u003E\u003Cpre\u003E6\u003C/pre\u003E\u003C/div\u003E\u003C/td\u003E\u003C/tr\u003E\u003Ctr\u003E\u003Ctd\u003EItem2\u003C/td\u003E\u003Ctd\u003E\u003Cdiv class=\u0022dni-plaintext\u0022\u003E\u003Cpre\u003E9\u003C/pre\u003E\u003C/div\u003E\u003C/td\u003E\u003C/tr\u003E\u003C/tbody\u003E\u003C/table\u003E\u003C/div\u003E\u003C/details\u003E\u003Cstyle\u003E\r\n",
              ".dni-code-hint {\r\n",
              "    font-style: italic;\r\n",
              "    overflow: hidden;\r\n",
              "    white-space: nowrap;\r\n",
              "}\r\n",
              ".dni-treeview {\r\n",
              "    white-space: nowrap;\r\n",
              "}\r\n",
              ".dni-treeview td {\r\n",
              "    vertical-align: top;\r\n",
              "    text-align: start;\r\n",
              "}\r\n",
              "details.dni-treeview {\r\n",
              "    padding-left: 1em;\r\n",
              "}\r\n",
              "table td {\r\n",
              "    text-align: start;\r\n",
              "}\r\n",
              "table tr { \r\n",
              "    vertical-align: top; \r\n",
              "    margin: 0em 0px;\r\n",
              "}\r\n",
              "table tr td pre \r\n",
              "{ \r\n",
              "    vertical-align: top !important; \r\n",
              "    margin: 0em 0px !important;\r\n",
              "} \r\n",
              "table th {\r\n",
              "    text-align: start;\r\n",
              "}\r\n",
              "\u003C/style\u003E"
            ]
          },
          "metadata": {},
          "output_type": "display_data"
        }
      ],
      "source": [
        "(int one, int other) CheckSplit(NeighbourSet inputSet, params ExcludePair[] excludes)\n",
        "{\n",
        "    var nodeCount = inputSet.Keys.Count;\n",
        "\n",
        "    var maybeSplit = BFS(inputSet, excludes);\n",
        "\n",
        "    var otherCount = nodeCount - maybeSplit.Count;\n",
        "\n",
        "    return (maybeSplit.Count, otherCount);\n",
        "}\n",
        "\n",
        "var checkSplitTest = CheckSplit(testInputNeighbours, [(\u0022hfx\u0022, \u0022pzl\u0022), (\u0022bvb\u0022, \u0022cmg\u0022), (\u0022nvd\u0022, \u0022jqt\u0022)]);\n",
        "display(checkSplitTest);"
      ]
    },
    {
      "cell_type": "code",
      "execution_count": 9,
      "metadata": {
        "dotnet_interactive": {
          "language": "csharp"
        },
        "polyglot_notebook": {
          "kernelName": "csharp"
        },
        "vscode": {
          "languageId": "polyglot-notebook"
        }
      },
      "outputs": [
        {
          "data": {
            "text/html": [
              "\u003Ctable\u003E\u003Cthead\u003E\u003Ctr\u003E\u003Cth\u003E\u003Ci\u003Eindex\u003C/i\u003E\u003C/th\u003E\u003Cth\u003Evalue\u003C/th\u003E\u003C/tr\u003E\u003C/thead\u003E\u003Ctbody\u003E\u003Ctr\u003E\u003Ctd\u003E0\u003C/td\u003E\u003Ctd\u003E\u003Cdetails class=\u0022dni-treeview\u0022\u003E\u003Csummary\u003E\u003Cspan class=\u0022dni-code-hint\u0022\u003E\u003Ccode\u003E(jqt, rhn)\u003C/code\u003E\u003C/span\u003E\u003C/summary\u003E\u003Cdiv\u003E\u003Ctable\u003E\u003Cthead\u003E\u003Ctr\u003E\u003C/tr\u003E\u003C/thead\u003E\u003Ctbody\u003E\u003Ctr\u003E\u003Ctd\u003EItem1\u003C/td\u003E\u003Ctd\u003E\u003Cdiv class=\u0022dni-plaintext\u0022\u003E\u003Cpre\u003Ejqt\u003C/pre\u003E\u003C/div\u003E\u003C/td\u003E\u003C/tr\u003E\u003Ctr\u003E\u003Ctd\u003EItem2\u003C/td\u003E\u003Ctd\u003E\u003Cdiv class=\u0022dni-plaintext\u0022\u003E\u003Cpre\u003Erhn\u003C/pre\u003E\u003C/div\u003E\u003C/td\u003E\u003C/tr\u003E\u003C/tbody\u003E\u003C/table\u003E\u003C/div\u003E\u003C/details\u003E\u003C/td\u003E\u003C/tr\u003E\u003Ctr\u003E\u003Ctd\u003E1\u003C/td\u003E\u003Ctd\u003E\u003Cdetails class=\u0022dni-treeview\u0022\u003E\u003Csummary\u003E\u003Cspan class=\u0022dni-code-hint\u0022\u003E\u003Ccode\u003E(jqt, xhk)\u003C/code\u003E\u003C/span\u003E\u003C/summary\u003E\u003Cdiv\u003E\u003Ctable\u003E\u003Cthead\u003E\u003Ctr\u003E\u003C/tr\u003E\u003C/thead\u003E\u003Ctbody\u003E\u003Ctr\u003E\u003Ctd\u003EItem1\u003C/td\u003E\u003Ctd\u003E\u003Cdiv class=\u0022dni-plaintext\u0022\u003E\u003Cpre\u003Ejqt\u003C/pre\u003E\u003C/div\u003E\u003C/td\u003E\u003C/tr\u003E\u003Ctr\u003E\u003Ctd\u003EItem2\u003C/td\u003E\u003Ctd\u003E\u003Cdiv class=\u0022dni-plaintext\u0022\u003E\u003Cpre\u003Exhk\u003C/pre\u003E\u003C/div\u003E\u003C/td\u003E\u003C/tr\u003E\u003C/tbody\u003E\u003C/table\u003E\u003C/div\u003E\u003C/details\u003E\u003C/td\u003E\u003C/tr\u003E\u003Ctr\u003E\u003Ctd\u003E2\u003C/td\u003E\u003Ctd\u003E\u003Cdetails class=\u0022dni-treeview\u0022\u003E\u003Csummary\u003E\u003Cspan class=\u0022dni-code-hint\u0022\u003E\u003Ccode\u003E(jqt, nvd)\u003C/code\u003E\u003C/span\u003E\u003C/summary\u003E\u003Cdiv\u003E\u003Ctable\u003E\u003Cthead\u003E\u003Ctr\u003E\u003C/tr\u003E\u003C/thead\u003E\u003Ctbody\u003E\u003Ctr\u003E\u003Ctd\u003EItem1\u003C/td\u003E\u003Ctd\u003E\u003Cdiv class=\u0022dni-plaintext\u0022\u003E\u003Cpre\u003Ejqt\u003C/pre\u003E\u003C/div\u003E\u003C/td\u003E\u003C/tr\u003E\u003Ctr\u003E\u003Ctd\u003EItem2\u003C/td\u003E\u003Ctd\u003E\u003Cdiv class=\u0022dni-plaintext\u0022\u003E\u003Cpre\u003Envd\u003C/pre\u003E\u003C/div\u003E\u003C/td\u003E\u003C/tr\u003E\u003C/tbody\u003E\u003C/table\u003E\u003C/div\u003E\u003C/details\u003E\u003C/td\u003E\u003C/tr\u003E\u003Ctr\u003E\u003Ctd\u003E3\u003C/td\u003E\u003Ctd\u003E\u003Cdetails class=\u0022dni-treeview\u0022\u003E\u003Csummary\u003E\u003Cspan class=\u0022dni-code-hint\u0022\u003E\u003Ccode\u003E(jqt, ntq)\u003C/code\u003E\u003C/span\u003E\u003C/summary\u003E\u003Cdiv\u003E\u003Ctable\u003E\u003Cthead\u003E\u003Ctr\u003E\u003C/tr\u003E\u003C/thead\u003E\u003Ctbody\u003E\u003Ctr\u003E\u003Ctd\u003EItem1\u003C/td\u003E\u003Ctd\u003E\u003Cdiv class=\u0022dni-plaintext\u0022\u003E\u003Cpre\u003Ejqt\u003C/pre\u003E\u003C/div\u003E\u003C/td\u003E\u003C/tr\u003E\u003Ctr\u003E\u003Ctd\u003EItem2\u003C/td\u003E\u003Ctd\u003E\u003Cdiv class=\u0022dni-plaintext\u0022\u003E\u003Cpre\u003Entq\u003C/pre\u003E\u003C/div\u003E\u003C/td\u003E\u003C/tr\u003E\u003C/tbody\u003E\u003C/table\u003E\u003C/div\u003E\u003C/details\u003E\u003C/td\u003E\u003C/tr\u003E\u003Ctr\u003E\u003Ctd\u003E4\u003C/td\u003E\u003Ctd\u003E\u003Cdetails class=\u0022dni-treeview\u0022\u003E\u003Csummary\u003E\u003Cspan class=\u0022dni-code-hint\u0022\u003E\u003Ccode\u003E(rhn, xhk)\u003C/code\u003E\u003C/span\u003E\u003C/summary\u003E\u003Cdiv\u003E\u003Ctable\u003E\u003Cthead\u003E\u003Ctr\u003E\u003C/tr\u003E\u003C/thead\u003E\u003Ctbody\u003E\u003Ctr\u003E\u003Ctd\u003EItem1\u003C/td\u003E\u003Ctd\u003E\u003Cdiv class=\u0022dni-plaintext\u0022\u003E\u003Cpre\u003Erhn\u003C/pre\u003E\u003C/div\u003E\u003C/td\u003E\u003C/tr\u003E\u003Ctr\u003E\u003Ctd\u003EItem2\u003C/td\u003E\u003Ctd\u003E\u003Cdiv class=\u0022dni-plaintext\u0022\u003E\u003Cpre\u003Exhk\u003C/pre\u003E\u003C/div\u003E\u003C/td\u003E\u003C/tr\u003E\u003C/tbody\u003E\u003C/table\u003E\u003C/div\u003E\u003C/details\u003E\u003C/td\u003E\u003C/tr\u003E\u003Ctr\u003E\u003Ctd\u003E5\u003C/td\u003E\u003Ctd\u003E\u003Cdetails class=\u0022dni-treeview\u0022\u003E\u003Csummary\u003E\u003Cspan class=\u0022dni-code-hint\u0022\u003E\u003Ccode\u003E(nvd, pzl)\u003C/code\u003E\u003C/span\u003E\u003C/summary\u003E\u003Cdiv\u003E\u003Ctable\u003E\u003Cthead\u003E\u003Ctr\u003E\u003C/tr\u003E\u003C/thead\u003E\u003Ctbody\u003E\u003Ctr\u003E\u003Ctd\u003EItem1\u003C/td\u003E\u003Ctd\u003E\u003Cdiv class=\u0022dni-plaintext\u0022\u003E\u003Cpre\u003Envd\u003C/pre\u003E\u003C/div\u003E\u003C/td\u003E\u003C/tr\u003E\u003Ctr\u003E\u003Ctd\u003EItem2\u003C/td\u003E\u003Ctd\u003E\u003Cdiv class=\u0022dni-plaintext\u0022\u003E\u003Cpre\u003Epzl\u003C/pre\u003E\u003C/div\u003E\u003C/td\u003E\u003C/tr\u003E\u003C/tbody\u003E\u003C/table\u003E\u003C/div\u003E\u003C/details\u003E\u003C/td\u003E\u003C/tr\u003E\u003Ctr\u003E\u003Ctd\u003E6\u003C/td\u003E\u003Ctd\u003E\u003Cdetails class=\u0022dni-treeview\u0022\u003E\u003Csummary\u003E\u003Cspan class=\u0022dni-code-hint\u0022\u003E\u003Ccode\u003E(nvd, qnr)\u003C/code\u003E\u003C/span\u003E\u003C/summary\u003E\u003Cdiv\u003E\u003Ctable\u003E\u003Cthead\u003E\u003Ctr\u003E\u003C/tr\u003E\u003C/thead\u003E\u003Ctbody\u003E\u003Ctr\u003E\u003Ctd\u003EItem1\u003C/td\u003E\u003Ctd\u003E\u003Cdiv class=\u0022dni-plaintext\u0022\u003E\u003Cpre\u003Envd\u003C/pre\u003E\u003C/div\u003E\u003C/td\u003E\u003C/tr\u003E\u003Ctr\u003E\u003Ctd\u003EItem2\u003C/td\u003E\u003Ctd\u003E\u003Cdiv class=\u0022dni-plaintext\u0022\u003E\u003Cpre\u003Eqnr\u003C/pre\u003E\u003C/div\u003E\u003C/td\u003E\u003C/tr\u003E\u003C/tbody\u003E\u003C/table\u003E\u003C/div\u003E\u003C/details\u003E\u003C/td\u003E\u003C/tr\u003E\u003Ctr\u003E\u003Ctd\u003E7\u003C/td\u003E\u003Ctd\u003E\u003Cdetails class=\u0022dni-treeview\u0022\u003E\u003Csummary\u003E\u003Cspan class=\u0022dni-code-hint\u0022\u003E\u003Ccode\u003E(rsh, rzs)\u003C/code\u003E\u003C/span\u003E\u003C/summary\u003E\u003Cdiv\u003E\u003Ctable\u003E\u003Cthead\u003E\u003Ctr\u003E\u003C/tr\u003E\u003C/thead\u003E\u003Ctbody\u003E\u003Ctr\u003E\u003Ctd\u003EItem1\u003C/td\u003E\u003Ctd\u003E\u003Cdiv class=\u0022dni-plaintext\u0022\u003E\u003Cpre\u003Ersh\u003C/pre\u003E\u003C/div\u003E\u003C/td\u003E\u003C/tr\u003E\u003Ctr\u003E\u003Ctd\u003EItem2\u003C/td\u003E\u003Ctd\u003E\u003Cdiv class=\u0022dni-plaintext\u0022\u003E\u003Cpre\u003Erzs\u003C/pre\u003E\u003C/div\u003E\u003C/td\u003E\u003C/tr\u003E\u003C/tbody\u003E\u003C/table\u003E\u003C/div\u003E\u003C/details\u003E\u003C/td\u003E\u003C/tr\u003E\u003Ctr\u003E\u003Ctd\u003E8\u003C/td\u003E\u003Ctd\u003E\u003Cdetails class=\u0022dni-treeview\u0022\u003E\u003Csummary\u003E\u003Cspan class=\u0022dni-code-hint\u0022\u003E\u003Ccode\u003E(frs, rsh)\u003C/code\u003E\u003C/span\u003E\u003C/summary\u003E\u003Cdiv\u003E\u003Ctable\u003E\u003Cthead\u003E\u003Ctr\u003E\u003C/tr\u003E\u003C/thead\u003E\u003Ctbody\u003E\u003Ctr\u003E\u003Ctd\u003EItem1\u003C/td\u003E\u003Ctd\u003E\u003Cdiv class=\u0022dni-plaintext\u0022\u003E\u003Cpre\u003Efrs\u003C/pre\u003E\u003C/div\u003E\u003C/td\u003E\u003C/tr\u003E\u003Ctr\u003E\u003Ctd\u003EItem2\u003C/td\u003E\u003Ctd\u003E\u003Cdiv class=\u0022dni-plaintext\u0022\u003E\u003Cpre\u003Ersh\u003C/pre\u003E\u003C/div\u003E\u003C/td\u003E\u003C/tr\u003E\u003C/tbody\u003E\u003C/table\u003E\u003C/div\u003E\u003C/details\u003E\u003C/td\u003E\u003C/tr\u003E\u003Ctr\u003E\u003Ctd\u003E9\u003C/td\u003E\u003Ctd\u003E\u003Cdetails class=\u0022dni-treeview\u0022\u003E\u003Csummary\u003E\u003Cspan class=\u0022dni-code-hint\u0022\u003E\u003Ccode\u003E(frs, qnr)\u003C/code\u003E\u003C/span\u003E\u003C/summary\u003E\u003Cdiv\u003E\u003Ctable\u003E\u003Cthead\u003E\u003Ctr\u003E\u003C/tr\u003E\u003C/thead\u003E\u003Ctbody\u003E\u003Ctr\u003E\u003Ctd\u003EItem1\u003C/td\u003E\u003Ctd\u003E\u003Cdiv class=\u0022dni-plaintext\u0022\u003E\u003Cpre\u003Efrs\u003C/pre\u003E\u003C/div\u003E\u003C/td\u003E\u003C/tr\u003E\u003Ctr\u003E\u003Ctd\u003EItem2\u003C/td\u003E\u003Ctd\u003E\u003Cdiv class=\u0022dni-plaintext\u0022\u003E\u003Cpre\u003Eqnr\u003C/pre\u003E\u003C/div\u003E\u003C/td\u003E\u003C/tr\u003E\u003C/tbody\u003E\u003C/table\u003E\u003C/div\u003E\u003C/details\u003E\u003C/td\u003E\u003C/tr\u003E\u003C/tbody\u003E\u003C/table\u003E\u003Cstyle\u003E\r\n",
              ".dni-code-hint {\r\n",
              "    font-style: italic;\r\n",
              "    overflow: hidden;\r\n",
              "    white-space: nowrap;\r\n",
              "}\r\n",
              ".dni-treeview {\r\n",
              "    white-space: nowrap;\r\n",
              "}\r\n",
              ".dni-treeview td {\r\n",
              "    vertical-align: top;\r\n",
              "    text-align: start;\r\n",
              "}\r\n",
              "details.dni-treeview {\r\n",
              "    padding-left: 1em;\r\n",
              "}\r\n",
              "table td {\r\n",
              "    text-align: start;\r\n",
              "}\r\n",
              "table tr { \r\n",
              "    vertical-align: top; \r\n",
              "    margin: 0em 0px;\r\n",
              "}\r\n",
              "table tr td pre \r\n",
              "{ \r\n",
              "    vertical-align: top !important; \r\n",
              "    margin: 0em 0px !important;\r\n",
              "} \r\n",
              "table th {\r\n",
              "    text-align: start;\r\n",
              "}\r\n",
              "\u003C/style\u003E"
            ]
          },
          "metadata": {},
          "output_type": "display_data"
        }
      ],
      "source": [
        "ExcludePair[] FindAllNeighbourPairs(NeighbourSet inputSet)\n",
        "{\n",
        "    return inputSet\n",
        "        .SelectMany(s =\u003E s.Value.Select(b =\u003E (a: s.Key, b)))\n",
        "        // Only take (a, b), not (b, a)\n",
        "        .Where(ab =\u003E string.Compare(ab.a, ab.b) \u003C= 0)\n",
        "        .ToArray();\n",
        "}\n",
        "display(FindAllNeighbourPairs(testInputNeighbours).Take(10));"
      ]
    },
    {
      "cell_type": "code",
      "execution_count": 10,
      "metadata": {
        "dotnet_interactive": {
          "language": "csharp"
        },
        "polyglot_notebook": {
          "kernelName": "csharp"
        },
        "vscode": {
          "languageId": "polyglot-notebook"
        }
      },
      "outputs": [
        {
          "name": "stdout",
          "output_type": "stream",
          "text": [
            "Total length is: 33\n",
            "Result pairs to search: 32736\n"
          ]
        },
        {
          "data": {
            "text/html": [
              "\u003Ctable\u003E\u003Cthead\u003E\u003Ctr\u003E\u003Cth\u003E\u003Ci\u003Eindex\u003C/i\u003E\u003C/th\u003E\u003Cth\u003Evalue\u003C/th\u003E\u003C/tr\u003E\u003C/thead\u003E\u003Ctbody\u003E\u003Ctr\u003E\u003Ctd\u003E0\u003C/td\u003E\u003Ctd\u003E\u003Ctable\u003E\u003Cthead\u003E\u003Ctr\u003E\u003Cth\u003E\u003Ci\u003Eindex\u003C/i\u003E\u003C/th\u003E\u003Cth\u003Evalue\u003C/th\u003E\u003C/tr\u003E\u003C/thead\u003E\u003Ctbody\u003E\u003Ctr\u003E\u003Ctd\u003E0\u003C/td\u003E\u003Ctd\u003E\u003Cdetails class=\u0022dni-treeview\u0022\u003E\u003Csummary\u003E\u003Cspan class=\u0022dni-code-hint\u0022\u003E\u003Ccode\u003E(jqt, rhn)\u003C/code\u003E\u003C/span\u003E\u003C/summary\u003E\u003Cdiv\u003E\u003Ctable\u003E\u003Cthead\u003E\u003Ctr\u003E\u003C/tr\u003E\u003C/thead\u003E\u003Ctbody\u003E\u003Ctr\u003E\u003Ctd\u003EItem1\u003C/td\u003E\u003Ctd\u003E\u003Cdiv class=\u0022dni-plaintext\u0022\u003E\u003Cpre\u003Ejqt\u003C/pre\u003E\u003C/div\u003E\u003C/td\u003E\u003C/tr\u003E\u003Ctr\u003E\u003Ctd\u003EItem2\u003C/td\u003E\u003Ctd\u003E\u003Cdiv class=\u0022dni-plaintext\u0022\u003E\u003Cpre\u003Erhn\u003C/pre\u003E\u003C/div\u003E\u003C/td\u003E\u003C/tr\u003E\u003C/tbody\u003E\u003C/table\u003E\u003C/div\u003E\u003C/details\u003E\u003C/td\u003E\u003C/tr\u003E\u003Ctr\u003E\u003Ctd\u003E1\u003C/td\u003E\u003Ctd\u003E\u003Cdetails class=\u0022dni-treeview\u0022\u003E\u003Csummary\u003E\u003Cspan class=\u0022dni-code-hint\u0022\u003E\u003Ccode\u003E(jqt, xhk)\u003C/code\u003E\u003C/span\u003E\u003C/summary\u003E\u003Cdiv\u003E\u003Ctable\u003E\u003Cthead\u003E\u003Ctr\u003E\u003C/tr\u003E\u003C/thead\u003E\u003Ctbody\u003E\u003Ctr\u003E\u003Ctd\u003EItem1\u003C/td\u003E\u003Ctd\u003E\u003Cdiv class=\u0022dni-plaintext\u0022\u003E\u003Cpre\u003Ejqt\u003C/pre\u003E\u003C/div\u003E\u003C/td\u003E\u003C/tr\u003E\u003Ctr\u003E\u003Ctd\u003EItem2\u003C/td\u003E\u003Ctd\u003E\u003Cdiv class=\u0022dni-plaintext\u0022\u003E\u003Cpre\u003Exhk\u003C/pre\u003E\u003C/div\u003E\u003C/td\u003E\u003C/tr\u003E\u003C/tbody\u003E\u003C/table\u003E\u003C/div\u003E\u003C/details\u003E\u003C/td\u003E\u003C/tr\u003E\u003Ctr\u003E\u003Ctd\u003E2\u003C/td\u003E\u003Ctd\u003E\u003Cdetails class=\u0022dni-treeview\u0022\u003E\u003Csummary\u003E\u003Cspan class=\u0022dni-code-hint\u0022\u003E\u003Ccode\u003E(jqt, nvd)\u003C/code\u003E\u003C/span\u003E\u003C/summary\u003E\u003Cdiv\u003E\u003Ctable\u003E\u003Cthead\u003E\u003Ctr\u003E\u003C/tr\u003E\u003C/thead\u003E\u003Ctbody\u003E\u003Ctr\u003E\u003Ctd\u003EItem1\u003C/td\u003E\u003Ctd\u003E\u003Cdiv class=\u0022dni-plaintext\u0022\u003E\u003Cpre\u003Ejqt\u003C/pre\u003E\u003C/div\u003E\u003C/td\u003E\u003C/tr\u003E\u003Ctr\u003E\u003Ctd\u003EItem2\u003C/td\u003E\u003Ctd\u003E\u003Cdiv class=\u0022dni-plaintext\u0022\u003E\u003Cpre\u003Envd\u003C/pre\u003E\u003C/div\u003E\u003C/td\u003E\u003C/tr\u003E\u003C/tbody\u003E\u003C/table\u003E\u003C/div\u003E\u003C/details\u003E\u003C/td\u003E\u003C/tr\u003E\u003C/tbody\u003E\u003C/table\u003E\u003C/td\u003E\u003C/tr\u003E\u003Ctr\u003E\u003Ctd\u003E1\u003C/td\u003E\u003Ctd\u003E\u003Ctable\u003E\u003Cthead\u003E\u003Ctr\u003E\u003Cth\u003E\u003Ci\u003Eindex\u003C/i\u003E\u003C/th\u003E\u003Cth\u003Evalue\u003C/th\u003E\u003C/tr\u003E\u003C/thead\u003E\u003Ctbody\u003E\u003Ctr\u003E\u003Ctd\u003E0\u003C/td\u003E\u003Ctd\u003E\u003Cdetails class=\u0022dni-treeview\u0022\u003E\u003Csummary\u003E\u003Cspan class=\u0022dni-code-hint\u0022\u003E\u003Ccode\u003E(jqt, rhn)\u003C/code\u003E\u003C/span\u003E\u003C/summary\u003E\u003Cdiv\u003E\u003Ctable\u003E\u003Cthead\u003E\u003Ctr\u003E\u003C/tr\u003E\u003C/thead\u003E\u003Ctbody\u003E\u003Ctr\u003E\u003Ctd\u003EItem1\u003C/td\u003E\u003Ctd\u003E\u003Cdiv class=\u0022dni-plaintext\u0022\u003E\u003Cpre\u003Ejqt\u003C/pre\u003E\u003C/div\u003E\u003C/td\u003E\u003C/tr\u003E\u003Ctr\u003E\u003Ctd\u003EItem2\u003C/td\u003E\u003Ctd\u003E\u003Cdiv class=\u0022dni-plaintext\u0022\u003E\u003Cpre\u003Erhn\u003C/pre\u003E\u003C/div\u003E\u003C/td\u003E\u003C/tr\u003E\u003C/tbody\u003E\u003C/table\u003E\u003C/div\u003E\u003C/details\u003E\u003C/td\u003E\u003C/tr\u003E\u003Ctr\u003E\u003Ctd\u003E1\u003C/td\u003E\u003Ctd\u003E\u003Cdetails class=\u0022dni-treeview\u0022\u003E\u003Csummary\u003E\u003Cspan class=\u0022dni-code-hint\u0022\u003E\u003Ccode\u003E(jqt, xhk)\u003C/code\u003E\u003C/span\u003E\u003C/summary\u003E\u003Cdiv\u003E\u003Ctable\u003E\u003Cthead\u003E\u003Ctr\u003E\u003C/tr\u003E\u003C/thead\u003E\u003Ctbody\u003E\u003Ctr\u003E\u003Ctd\u003EItem1\u003C/td\u003E\u003Ctd\u003E\u003Cdiv class=\u0022dni-plaintext\u0022\u003E\u003Cpre\u003Ejqt\u003C/pre\u003E\u003C/div\u003E\u003C/td\u003E\u003C/tr\u003E\u003Ctr\u003E\u003Ctd\u003EItem2\u003C/td\u003E\u003Ctd\u003E\u003Cdiv class=\u0022dni-plaintext\u0022\u003E\u003Cpre\u003Exhk\u003C/pre\u003E\u003C/div\u003E\u003C/td\u003E\u003C/tr\u003E\u003C/tbody\u003E\u003C/table\u003E\u003C/div\u003E\u003C/details\u003E\u003C/td\u003E\u003C/tr\u003E\u003Ctr\u003E\u003Ctd\u003E2\u003C/td\u003E\u003Ctd\u003E\u003Cdetails class=\u0022dni-treeview\u0022\u003E\u003Csummary\u003E\u003Cspan class=\u0022dni-code-hint\u0022\u003E\u003Ccode\u003E(jqt, ntq)\u003C/code\u003E\u003C/span\u003E\u003C/summary\u003E\u003Cdiv\u003E\u003Ctable\u003E\u003Cthead\u003E\u003Ctr\u003E\u003C/tr\u003E\u003C/thead\u003E\u003Ctbody\u003E\u003Ctr\u003E\u003Ctd\u003EItem1\u003C/td\u003E\u003Ctd\u003E\u003Cdiv class=\u0022dni-plaintext\u0022\u003E\u003Cpre\u003Ejqt\u003C/pre\u003E\u003C/div\u003E\u003C/td\u003E\u003C/tr\u003E\u003Ctr\u003E\u003Ctd\u003EItem2\u003C/td\u003E\u003Ctd\u003E\u003Cdiv class=\u0022dni-plaintext\u0022\u003E\u003Cpre\u003Entq\u003C/pre\u003E\u003C/div\u003E\u003C/td\u003E\u003C/tr\u003E\u003C/tbody\u003E\u003C/table\u003E\u003C/div\u003E\u003C/details\u003E\u003C/td\u003E\u003C/tr\u003E\u003C/tbody\u003E\u003C/table\u003E\u003C/td\u003E\u003C/tr\u003E\u003Ctr\u003E\u003Ctd\u003E2\u003C/td\u003E\u003Ctd\u003E\u003Ctable\u003E\u003Cthead\u003E\u003Ctr\u003E\u003Cth\u003E\u003Ci\u003Eindex\u003C/i\u003E\u003C/th\u003E\u003Cth\u003Evalue\u003C/th\u003E\u003C/tr\u003E\u003C/thead\u003E\u003Ctbody\u003E\u003Ctr\u003E\u003Ctd\u003E0\u003C/td\u003E\u003Ctd\u003E\u003Cdetails class=\u0022dni-treeview\u0022\u003E\u003Csummary\u003E\u003Cspan class=\u0022dni-code-hint\u0022\u003E\u003Ccode\u003E(jqt, rhn)\u003C/code\u003E\u003C/span\u003E\u003C/summary\u003E\u003Cdiv\u003E\u003Ctable\u003E\u003Cthead\u003E\u003Ctr\u003E\u003C/tr\u003E\u003C/thead\u003E\u003Ctbody\u003E\u003Ctr\u003E\u003Ctd\u003EItem1\u003C/td\u003E\u003Ctd\u003E\u003Cdiv class=\u0022dni-plaintext\u0022\u003E\u003Cpre\u003Ejqt\u003C/pre\u003E\u003C/div\u003E\u003C/td\u003E\u003C/tr\u003E\u003Ctr\u003E\u003Ctd\u003EItem2\u003C/td\u003E\u003Ctd\u003E\u003Cdiv class=\u0022dni-plaintext\u0022\u003E\u003Cpre\u003Erhn\u003C/pre\u003E\u003C/div\u003E\u003C/td\u003E\u003C/tr\u003E\u003C/tbody\u003E\u003C/table\u003E\u003C/div\u003E\u003C/details\u003E\u003C/td\u003E\u003C/tr\u003E\u003Ctr\u003E\u003Ctd\u003E1\u003C/td\u003E\u003Ctd\u003E\u003Cdetails class=\u0022dni-treeview\u0022\u003E\u003Csummary\u003E\u003Cspan class=\u0022dni-code-hint\u0022\u003E\u003Ccode\u003E(jqt, xhk)\u003C/code\u003E\u003C/span\u003E\u003C/summary\u003E\u003Cdiv\u003E\u003Ctable\u003E\u003Cthead\u003E\u003Ctr\u003E\u003C/tr\u003E\u003C/thead\u003E\u003Ctbody\u003E\u003Ctr\u003E\u003Ctd\u003EItem1\u003C/td\u003E\u003Ctd\u003E\u003Cdiv class=\u0022dni-plaintext\u0022\u003E\u003Cpre\u003Ejqt\u003C/pre\u003E\u003C/div\u003E\u003C/td\u003E\u003C/tr\u003E\u003Ctr\u003E\u003Ctd\u003EItem2\u003C/td\u003E\u003Ctd\u003E\u003Cdiv class=\u0022dni-plaintext\u0022\u003E\u003Cpre\u003Exhk\u003C/pre\u003E\u003C/div\u003E\u003C/td\u003E\u003C/tr\u003E\u003C/tbody\u003E\u003C/table\u003E\u003C/div\u003E\u003C/details\u003E\u003C/td\u003E\u003C/tr\u003E\u003Ctr\u003E\u003Ctd\u003E2\u003C/td\u003E\u003Ctd\u003E\u003Cdetails class=\u0022dni-treeview\u0022\u003E\u003Csummary\u003E\u003Cspan class=\u0022dni-code-hint\u0022\u003E\u003Ccode\u003E(rhn, xhk)\u003C/code\u003E\u003C/span\u003E\u003C/summary\u003E\u003Cdiv\u003E\u003Ctable\u003E\u003Cthead\u003E\u003Ctr\u003E\u003C/tr\u003E\u003C/thead\u003E\u003Ctbody\u003E\u003Ctr\u003E\u003Ctd\u003EItem1\u003C/td\u003E\u003Ctd\u003E\u003Cdiv class=\u0022dni-plaintext\u0022\u003E\u003Cpre\u003Erhn\u003C/pre\u003E\u003C/div\u003E\u003C/td\u003E\u003C/tr\u003E\u003Ctr\u003E\u003Ctd\u003EItem2\u003C/td\u003E\u003Ctd\u003E\u003Cdiv class=\u0022dni-plaintext\u0022\u003E\u003Cpre\u003Exhk\u003C/pre\u003E\u003C/div\u003E\u003C/td\u003E\u003C/tr\u003E\u003C/tbody\u003E\u003C/table\u003E\u003C/div\u003E\u003C/details\u003E\u003C/td\u003E\u003C/tr\u003E\u003C/tbody\u003E\u003C/table\u003E\u003C/td\u003E\u003C/tr\u003E\u003Ctr\u003E\u003Ctd\u003E3\u003C/td\u003E\u003Ctd\u003E\u003Ctable\u003E\u003Cthead\u003E\u003Ctr\u003E\u003Cth\u003E\u003Ci\u003Eindex\u003C/i\u003E\u003C/th\u003E\u003Cth\u003Evalue\u003C/th\u003E\u003C/tr\u003E\u003C/thead\u003E\u003Ctbody\u003E\u003Ctr\u003E\u003Ctd\u003E0\u003C/td\u003E\u003Ctd\u003E\u003Cdetails class=\u0022dni-treeview\u0022\u003E\u003Csummary\u003E\u003Cspan class=\u0022dni-code-hint\u0022\u003E\u003Ccode\u003E(jqt, rhn)\u003C/code\u003E\u003C/span\u003E\u003C/summary\u003E\u003Cdiv\u003E\u003Ctable\u003E\u003Cthead\u003E\u003Ctr\u003E\u003C/tr\u003E\u003C/thead\u003E\u003Ctbody\u003E\u003Ctr\u003E\u003Ctd\u003EItem1\u003C/td\u003E\u003Ctd\u003E\u003Cdiv class=\u0022dni-plaintext\u0022\u003E\u003Cpre\u003Ejqt\u003C/pre\u003E\u003C/div\u003E\u003C/td\u003E\u003C/tr\u003E\u003Ctr\u003E\u003Ctd\u003EItem2\u003C/td\u003E\u003Ctd\u003E\u003Cdiv class=\u0022dni-plaintext\u0022\u003E\u003Cpre\u003Erhn\u003C/pre\u003E\u003C/div\u003E\u003C/td\u003E\u003C/tr\u003E\u003C/tbody\u003E\u003C/table\u003E\u003C/div\u003E\u003C/details\u003E\u003C/td\u003E\u003C/tr\u003E\u003Ctr\u003E\u003Ctd\u003E1\u003C/td\u003E\u003Ctd\u003E\u003Cdetails class=\u0022dni-treeview\u0022\u003E\u003Csummary\u003E\u003Cspan class=\u0022dni-code-hint\u0022\u003E\u003Ccode\u003E(jqt, xhk)\u003C/code\u003E\u003C/span\u003E\u003C/summary\u003E\u003Cdiv\u003E\u003Ctable\u003E\u003Cthead\u003E\u003Ctr\u003E\u003C/tr\u003E\u003C/thead\u003E\u003Ctbody\u003E\u003Ctr\u003E\u003Ctd\u003EItem1\u003C/td\u003E\u003Ctd\u003E\u003Cdiv class=\u0022dni-plaintext\u0022\u003E\u003Cpre\u003Ejqt\u003C/pre\u003E\u003C/div\u003E\u003C/td\u003E\u003C/tr\u003E\u003Ctr\u003E\u003Ctd\u003EItem2\u003C/td\u003E\u003Ctd\u003E\u003Cdiv class=\u0022dni-plaintext\u0022\u003E\u003Cpre\u003Exhk\u003C/pre\u003E\u003C/div\u003E\u003C/td\u003E\u003C/tr\u003E\u003C/tbody\u003E\u003C/table\u003E\u003C/div\u003E\u003C/details\u003E\u003C/td\u003E\u003C/tr\u003E\u003Ctr\u003E\u003Ctd\u003E2\u003C/td\u003E\u003Ctd\u003E\u003Cdetails class=\u0022dni-treeview\u0022\u003E\u003Csummary\u003E\u003Cspan class=\u0022dni-code-hint\u0022\u003E\u003Ccode\u003E(nvd, pzl)\u003C/code\u003E\u003C/span\u003E\u003C/summary\u003E\u003Cdiv\u003E\u003Ctable\u003E\u003Cthead\u003E\u003Ctr\u003E\u003C/tr\u003E\u003C/thead\u003E\u003Ctbody\u003E\u003Ctr\u003E\u003Ctd\u003EItem1\u003C/td\u003E\u003Ctd\u003E\u003Cdiv class=\u0022dni-plaintext\u0022\u003E\u003Cpre\u003Envd\u003C/pre\u003E\u003C/div\u003E\u003C/td\u003E\u003C/tr\u003E\u003Ctr\u003E\u003Ctd\u003EItem2\u003C/td\u003E\u003Ctd\u003E\u003Cdiv class=\u0022dni-plaintext\u0022\u003E\u003Cpre\u003Epzl\u003C/pre\u003E\u003C/div\u003E\u003C/td\u003E\u003C/tr\u003E\u003C/tbody\u003E\u003C/table\u003E\u003C/div\u003E\u003C/details\u003E\u003C/td\u003E\u003C/tr\u003E\u003C/tbody\u003E\u003C/table\u003E\u003C/td\u003E\u003C/tr\u003E\u003Ctr\u003E\u003Ctd\u003E4\u003C/td\u003E\u003Ctd\u003E\u003Ctable\u003E\u003Cthead\u003E\u003Ctr\u003E\u003Cth\u003E\u003Ci\u003Eindex\u003C/i\u003E\u003C/th\u003E\u003Cth\u003Evalue\u003C/th\u003E\u003C/tr\u003E\u003C/thead\u003E\u003Ctbody\u003E\u003Ctr\u003E\u003Ctd\u003E0\u003C/td\u003E\u003Ctd\u003E\u003Cdetails class=\u0022dni-treeview\u0022\u003E\u003Csummary\u003E\u003Cspan class=\u0022dni-code-hint\u0022\u003E\u003Ccode\u003E(jqt, rhn)\u003C/code\u003E\u003C/span\u003E\u003C/summary\u003E\u003Cdiv\u003E\u003Ctable\u003E\u003Cthead\u003E\u003Ctr\u003E\u003C/tr\u003E\u003C/thead\u003E\u003Ctbody\u003E\u003Ctr\u003E\u003Ctd\u003EItem1\u003C/td\u003E\u003Ctd\u003E\u003Cdiv class=\u0022dni-plaintext\u0022\u003E\u003Cpre\u003Ejqt\u003C/pre\u003E\u003C/div\u003E\u003C/td\u003E\u003C/tr\u003E\u003Ctr\u003E\u003Ctd\u003EItem2\u003C/td\u003E\u003Ctd\u003E\u003Cdiv class=\u0022dni-plaintext\u0022\u003E\u003Cpre\u003Erhn\u003C/pre\u003E\u003C/div\u003E\u003C/td\u003E\u003C/tr\u003E\u003C/tbody\u003E\u003C/table\u003E\u003C/div\u003E\u003C/details\u003E\u003C/td\u003E\u003C/tr\u003E\u003Ctr\u003E\u003Ctd\u003E1\u003C/td\u003E\u003Ctd\u003E\u003Cdetails class=\u0022dni-treeview\u0022\u003E\u003Csummary\u003E\u003Cspan class=\u0022dni-code-hint\u0022\u003E\u003Ccode\u003E(jqt, xhk)\u003C/code\u003E\u003C/span\u003E\u003C/summary\u003E\u003Cdiv\u003E\u003Ctable\u003E\u003Cthead\u003E\u003Ctr\u003E\u003C/tr\u003E\u003C/thead\u003E\u003Ctbody\u003E\u003Ctr\u003E\u003Ctd\u003EItem1\u003C/td\u003E\u003Ctd\u003E\u003Cdiv class=\u0022dni-plaintext\u0022\u003E\u003Cpre\u003Ejqt\u003C/pre\u003E\u003C/div\u003E\u003C/td\u003E\u003C/tr\u003E\u003Ctr\u003E\u003Ctd\u003EItem2\u003C/td\u003E\u003Ctd\u003E\u003Cdiv class=\u0022dni-plaintext\u0022\u003E\u003Cpre\u003Exhk\u003C/pre\u003E\u003C/div\u003E\u003C/td\u003E\u003C/tr\u003E\u003C/tbody\u003E\u003C/table\u003E\u003C/div\u003E\u003C/details\u003E\u003C/td\u003E\u003C/tr\u003E\u003Ctr\u003E\u003Ctd\u003E2\u003C/td\u003E\u003Ctd\u003E\u003Cdetails class=\u0022dni-treeview\u0022\u003E\u003Csummary\u003E\u003Cspan class=\u0022dni-code-hint\u0022\u003E\u003Ccode\u003E(nvd, qnr)\u003C/code\u003E\u003C/span\u003E\u003C/summary\u003E\u003Cdiv\u003E\u003Ctable\u003E\u003Cthead\u003E\u003Ctr\u003E\u003C/tr\u003E\u003C/thead\u003E\u003Ctbody\u003E\u003Ctr\u003E\u003Ctd\u003EItem1\u003C/td\u003E\u003Ctd\u003E\u003Cdiv class=\u0022dni-plaintext\u0022\u003E\u003Cpre\u003Envd\u003C/pre\u003E\u003C/div\u003E\u003C/td\u003E\u003C/tr\u003E\u003Ctr\u003E\u003Ctd\u003EItem2\u003C/td\u003E\u003Ctd\u003E\u003Cdiv class=\u0022dni-plaintext\u0022\u003E\u003Cpre\u003Eqnr\u003C/pre\u003E\u003C/div\u003E\u003C/td\u003E\u003C/tr\u003E\u003C/tbody\u003E\u003C/table\u003E\u003C/div\u003E\u003C/details\u003E\u003C/td\u003E\u003C/tr\u003E\u003C/tbody\u003E\u003C/table\u003E\u003C/td\u003E\u003C/tr\u003E\u003Ctr\u003E\u003Ctd\u003E5\u003C/td\u003E\u003Ctd\u003E\u003Ctable\u003E\u003Cthead\u003E\u003Ctr\u003E\u003Cth\u003E\u003Ci\u003Eindex\u003C/i\u003E\u003C/th\u003E\u003Cth\u003Evalue\u003C/th\u003E\u003C/tr\u003E\u003C/thead\u003E\u003Ctbody\u003E\u003Ctr\u003E\u003Ctd\u003E0\u003C/td\u003E\u003Ctd\u003E\u003Cdetails class=\u0022dni-treeview\u0022\u003E\u003Csummary\u003E\u003Cspan class=\u0022dni-code-hint\u0022\u003E\u003Ccode\u003E(jqt, rhn)\u003C/code\u003E\u003C/span\u003E\u003C/summary\u003E\u003Cdiv\u003E\u003Ctable\u003E\u003Cthead\u003E\u003Ctr\u003E\u003C/tr\u003E\u003C/thead\u003E\u003Ctbody\u003E\u003Ctr\u003E\u003Ctd\u003EItem1\u003C/td\u003E\u003Ctd\u003E\u003Cdiv class=\u0022dni-plaintext\u0022\u003E\u003Cpre\u003Ejqt\u003C/pre\u003E\u003C/div\u003E\u003C/td\u003E\u003C/tr\u003E\u003Ctr\u003E\u003Ctd\u003EItem2\u003C/td\u003E\u003Ctd\u003E\u003Cdiv class=\u0022dni-plaintext\u0022\u003E\u003Cpre\u003Erhn\u003C/pre\u003E\u003C/div\u003E\u003C/td\u003E\u003C/tr\u003E\u003C/tbody\u003E\u003C/table\u003E\u003C/div\u003E\u003C/details\u003E\u003C/td\u003E\u003C/tr\u003E\u003Ctr\u003E\u003Ctd\u003E1\u003C/td\u003E\u003Ctd\u003E\u003Cdetails class=\u0022dni-treeview\u0022\u003E\u003Csummary\u003E\u003Cspan class=\u0022dni-code-hint\u0022\u003E\u003Ccode\u003E(jqt, xhk)\u003C/code\u003E\u003C/span\u003E\u003C/summary\u003E\u003Cdiv\u003E\u003Ctable\u003E\u003Cthead\u003E\u003Ctr\u003E\u003C/tr\u003E\u003C/thead\u003E\u003Ctbody\u003E\u003Ctr\u003E\u003Ctd\u003EItem1\u003C/td\u003E\u003Ctd\u003E\u003Cdiv class=\u0022dni-plaintext\u0022\u003E\u003Cpre\u003Ejqt\u003C/pre\u003E\u003C/div\u003E\u003C/td\u003E\u003C/tr\u003E\u003Ctr\u003E\u003Ctd\u003EItem2\u003C/td\u003E\u003Ctd\u003E\u003Cdiv class=\u0022dni-plaintext\u0022\u003E\u003Cpre\u003Exhk\u003C/pre\u003E\u003C/div\u003E\u003C/td\u003E\u003C/tr\u003E\u003C/tbody\u003E\u003C/table\u003E\u003C/div\u003E\u003C/details\u003E\u003C/td\u003E\u003C/tr\u003E\u003Ctr\u003E\u003Ctd\u003E2\u003C/td\u003E\u003Ctd\u003E\u003Cdetails class=\u0022dni-treeview\u0022\u003E\u003Csummary\u003E\u003Cspan class=\u0022dni-code-hint\u0022\u003E\u003Ccode\u003E(rsh, rzs)\u003C/code\u003E\u003C/span\u003E\u003C/summary\u003E\u003Cdiv\u003E\u003Ctable\u003E\u003Cthead\u003E\u003Ctr\u003E\u003C/tr\u003E\u003C/thead\u003E\u003Ctbody\u003E\u003Ctr\u003E\u003Ctd\u003EItem1\u003C/td\u003E\u003Ctd\u003E\u003Cdiv class=\u0022dni-plaintext\u0022\u003E\u003Cpre\u003Ersh\u003C/pre\u003E\u003C/div\u003E\u003C/td\u003E\u003C/tr\u003E\u003Ctr\u003E\u003Ctd\u003EItem2\u003C/td\u003E\u003Ctd\u003E\u003Cdiv class=\u0022dni-plaintext\u0022\u003E\u003Cpre\u003Erzs\u003C/pre\u003E\u003C/div\u003E\u003C/td\u003E\u003C/tr\u003E\u003C/tbody\u003E\u003C/table\u003E\u003C/div\u003E\u003C/details\u003E\u003C/td\u003E\u003C/tr\u003E\u003C/tbody\u003E\u003C/table\u003E\u003C/td\u003E\u003C/tr\u003E\u003Ctr\u003E\u003Ctd\u003E6\u003C/td\u003E\u003Ctd\u003E\u003Ctable\u003E\u003Cthead\u003E\u003Ctr\u003E\u003Cth\u003E\u003Ci\u003Eindex\u003C/i\u003E\u003C/th\u003E\u003Cth\u003Evalue\u003C/th\u003E\u003C/tr\u003E\u003C/thead\u003E\u003Ctbody\u003E\u003Ctr\u003E\u003Ctd\u003E0\u003C/td\u003E\u003Ctd\u003E\u003Cdetails class=\u0022dni-treeview\u0022\u003E\u003Csummary\u003E\u003Cspan class=\u0022dni-code-hint\u0022\u003E\u003Ccode\u003E(jqt, rhn)\u003C/code\u003E\u003C/span\u003E\u003C/summary\u003E\u003Cdiv\u003E\u003Ctable\u003E\u003Cthead\u003E\u003Ctr\u003E\u003C/tr\u003E\u003C/thead\u003E\u003Ctbody\u003E\u003Ctr\u003E\u003Ctd\u003EItem1\u003C/td\u003E\u003Ctd\u003E\u003Cdiv class=\u0022dni-plaintext\u0022\u003E\u003Cpre\u003Ejqt\u003C/pre\u003E\u003C/div\u003E\u003C/td\u003E\u003C/tr\u003E\u003Ctr\u003E\u003Ctd\u003EItem2\u003C/td\u003E\u003Ctd\u003E\u003Cdiv class=\u0022dni-plaintext\u0022\u003E\u003Cpre\u003Erhn\u003C/pre\u003E\u003C/div\u003E\u003C/td\u003E\u003C/tr\u003E\u003C/tbody\u003E\u003C/table\u003E\u003C/div\u003E\u003C/details\u003E\u003C/td\u003E\u003C/tr\u003E\u003Ctr\u003E\u003Ctd\u003E1\u003C/td\u003E\u003Ctd\u003E\u003Cdetails class=\u0022dni-treeview\u0022\u003E\u003Csummary\u003E\u003Cspan class=\u0022dni-code-hint\u0022\u003E\u003Ccode\u003E(jqt, xhk)\u003C/code\u003E\u003C/span\u003E\u003C/summary\u003E\u003Cdiv\u003E\u003Ctable\u003E\u003Cthead\u003E\u003Ctr\u003E\u003C/tr\u003E\u003C/thead\u003E\u003Ctbody\u003E\u003Ctr\u003E\u003Ctd\u003EItem1\u003C/td\u003E\u003Ctd\u003E\u003Cdiv class=\u0022dni-plaintext\u0022\u003E\u003Cpre\u003Ejqt\u003C/pre\u003E\u003C/div\u003E\u003C/td\u003E\u003C/tr\u003E\u003Ctr\u003E\u003Ctd\u003EItem2\u003C/td\u003E\u003Ctd\u003E\u003Cdiv class=\u0022dni-plaintext\u0022\u003E\u003Cpre\u003Exhk\u003C/pre\u003E\u003C/div\u003E\u003C/td\u003E\u003C/tr\u003E\u003C/tbody\u003E\u003C/table\u003E\u003C/div\u003E\u003C/details\u003E\u003C/td\u003E\u003C/tr\u003E\u003Ctr\u003E\u003Ctd\u003E2\u003C/td\u003E\u003Ctd\u003E\u003Cdetails class=\u0022dni-treeview\u0022\u003E\u003Csummary\u003E\u003Cspan class=\u0022dni-code-hint\u0022\u003E\u003Ccode\u003E(frs, rsh)\u003C/code\u003E\u003C/span\u003E\u003C/summary\u003E\u003Cdiv\u003E\u003Ctable\u003E\u003Cthead\u003E\u003Ctr\u003E\u003C/tr\u003E\u003C/thead\u003E\u003Ctbody\u003E\u003Ctr\u003E\u003Ctd\u003EItem1\u003C/td\u003E\u003Ctd\u003E\u003Cdiv class=\u0022dni-plaintext\u0022\u003E\u003Cpre\u003Efrs\u003C/pre\u003E\u003C/div\u003E\u003C/td\u003E\u003C/tr\u003E\u003Ctr\u003E\u003Ctd\u003EItem2\u003C/td\u003E\u003Ctd\u003E\u003Cdiv class=\u0022dni-plaintext\u0022\u003E\u003Cpre\u003Ersh\u003C/pre\u003E\u003C/div\u003E\u003C/td\u003E\u003C/tr\u003E\u003C/tbody\u003E\u003C/table\u003E\u003C/div\u003E\u003C/details\u003E\u003C/td\u003E\u003C/tr\u003E\u003C/tbody\u003E\u003C/table\u003E\u003C/td\u003E\u003C/tr\u003E\u003Ctr\u003E\u003Ctd\u003E7\u003C/td\u003E\u003Ctd\u003E\u003Ctable\u003E\u003Cthead\u003E\u003Ctr\u003E\u003Cth\u003E\u003Ci\u003Eindex\u003C/i\u003E\u003C/th\u003E\u003Cth\u003Evalue\u003C/th\u003E\u003C/tr\u003E\u003C/thead\u003E\u003Ctbody\u003E\u003Ctr\u003E\u003Ctd\u003E0\u003C/td\u003E\u003Ctd\u003E\u003Cdetails class=\u0022dni-treeview\u0022\u003E\u003Csummary\u003E\u003Cspan class=\u0022dni-code-hint\u0022\u003E\u003Ccode\u003E(jqt, rhn)\u003C/code\u003E\u003C/span\u003E\u003C/summary\u003E\u003Cdiv\u003E\u003Ctable\u003E\u003Cthead\u003E\u003Ctr\u003E\u003C/tr\u003E\u003C/thead\u003E\u003Ctbody\u003E\u003Ctr\u003E\u003Ctd\u003EItem1\u003C/td\u003E\u003Ctd\u003E\u003Cdiv class=\u0022dni-plaintext\u0022\u003E\u003Cpre\u003Ejqt\u003C/pre\u003E\u003C/div\u003E\u003C/td\u003E\u003C/tr\u003E\u003Ctr\u003E\u003Ctd\u003EItem2\u003C/td\u003E\u003Ctd\u003E\u003Cdiv class=\u0022dni-plaintext\u0022\u003E\u003Cpre\u003Erhn\u003C/pre\u003E\u003C/div\u003E\u003C/td\u003E\u003C/tr\u003E\u003C/tbody\u003E\u003C/table\u003E\u003C/div\u003E\u003C/details\u003E\u003C/td\u003E\u003C/tr\u003E\u003Ctr\u003E\u003Ctd\u003E1\u003C/td\u003E\u003Ctd\u003E\u003Cdetails class=\u0022dni-treeview\u0022\u003E\u003Csummary\u003E\u003Cspan class=\u0022dni-code-hint\u0022\u003E\u003Ccode\u003E(jqt, xhk)\u003C/code\u003E\u003C/span\u003E\u003C/summary\u003E\u003Cdiv\u003E\u003Ctable\u003E\u003Cthead\u003E\u003Ctr\u003E\u003C/tr\u003E\u003C/thead\u003E\u003Ctbody\u003E\u003Ctr\u003E\u003Ctd\u003EItem1\u003C/td\u003E\u003Ctd\u003E\u003Cdiv class=\u0022dni-plaintext\u0022\u003E\u003Cpre\u003Ejqt\u003C/pre\u003E\u003C/div\u003E\u003C/td\u003E\u003C/tr\u003E\u003Ctr\u003E\u003Ctd\u003EItem2\u003C/td\u003E\u003Ctd\u003E\u003Cdiv class=\u0022dni-plaintext\u0022\u003E\u003Cpre\u003Exhk\u003C/pre\u003E\u003C/div\u003E\u003C/td\u003E\u003C/tr\u003E\u003C/tbody\u003E\u003C/table\u003E\u003C/div\u003E\u003C/details\u003E\u003C/td\u003E\u003C/tr\u003E\u003Ctr\u003E\u003Ctd\u003E2\u003C/td\u003E\u003Ctd\u003E\u003Cdetails class=\u0022dni-treeview\u0022\u003E\u003Csummary\u003E\u003Cspan class=\u0022dni-code-hint\u0022\u003E\u003Ccode\u003E(frs, qnr)\u003C/code\u003E\u003C/span\u003E\u003C/summary\u003E\u003Cdiv\u003E\u003Ctable\u003E\u003Cthead\u003E\u003Ctr\u003E\u003C/tr\u003E\u003C/thead\u003E\u003Ctbody\u003E\u003Ctr\u003E\u003Ctd\u003EItem1\u003C/td\u003E\u003Ctd\u003E\u003Cdiv class=\u0022dni-plaintext\u0022\u003E\u003Cpre\u003Efrs\u003C/pre\u003E\u003C/div\u003E\u003C/td\u003E\u003C/tr\u003E\u003Ctr\u003E\u003Ctd\u003EItem2\u003C/td\u003E\u003Ctd\u003E\u003Cdiv class=\u0022dni-plaintext\u0022\u003E\u003Cpre\u003Eqnr\u003C/pre\u003E\u003C/div\u003E\u003C/td\u003E\u003C/tr\u003E\u003C/tbody\u003E\u003C/table\u003E\u003C/div\u003E\u003C/details\u003E\u003C/td\u003E\u003C/tr\u003E\u003C/tbody\u003E\u003C/table\u003E\u003C/td\u003E\u003C/tr\u003E\u003Ctr\u003E\u003Ctd\u003E8\u003C/td\u003E\u003Ctd\u003E\u003Ctable\u003E\u003Cthead\u003E\u003Ctr\u003E\u003Cth\u003E\u003Ci\u003Eindex\u003C/i\u003E\u003C/th\u003E\u003Cth\u003Evalue\u003C/th\u003E\u003C/tr\u003E\u003C/thead\u003E\u003Ctbody\u003E\u003Ctr\u003E\u003Ctd\u003E0\u003C/td\u003E\u003Ctd\u003E\u003Cdetails class=\u0022dni-treeview\u0022\u003E\u003Csummary\u003E\u003Cspan class=\u0022dni-code-hint\u0022\u003E\u003Ccode\u003E(jqt, rhn)\u003C/code\u003E\u003C/span\u003E\u003C/summary\u003E\u003Cdiv\u003E\u003Ctable\u003E\u003Cthead\u003E\u003Ctr\u003E\u003C/tr\u003E\u003C/thead\u003E\u003Ctbody\u003E\u003Ctr\u003E\u003Ctd\u003EItem1\u003C/td\u003E\u003Ctd\u003E\u003Cdiv class=\u0022dni-plaintext\u0022\u003E\u003Cpre\u003Ejqt\u003C/pre\u003E\u003C/div\u003E\u003C/td\u003E\u003C/tr\u003E\u003Ctr\u003E\u003Ctd\u003EItem2\u003C/td\u003E\u003Ctd\u003E\u003Cdiv class=\u0022dni-plaintext\u0022\u003E\u003Cpre\u003Erhn\u003C/pre\u003E\u003C/div\u003E\u003C/td\u003E\u003C/tr\u003E\u003C/tbody\u003E\u003C/table\u003E\u003C/div\u003E\u003C/details\u003E\u003C/td\u003E\u003C/tr\u003E\u003Ctr\u003E\u003Ctd\u003E1\u003C/td\u003E\u003Ctd\u003E\u003Cdetails class=\u0022dni-treeview\u0022\u003E\u003Csummary\u003E\u003Cspan class=\u0022dni-code-hint\u0022\u003E\u003Ccode\u003E(jqt, xhk)\u003C/code\u003E\u003C/span\u003E\u003C/summary\u003E\u003Cdiv\u003E\u003Ctable\u003E\u003Cthead\u003E\u003Ctr\u003E\u003C/tr\u003E\u003C/thead\u003E\u003Ctbody\u003E\u003Ctr\u003E\u003Ctd\u003EItem1\u003C/td\u003E\u003Ctd\u003E\u003Cdiv class=\u0022dni-plaintext\u0022\u003E\u003Cpre\u003Ejqt\u003C/pre\u003E\u003C/div\u003E\u003C/td\u003E\u003C/tr\u003E\u003Ctr\u003E\u003Ctd\u003EItem2\u003C/td\u003E\u003Ctd\u003E\u003Cdiv class=\u0022dni-plaintext\u0022\u003E\u003Cpre\u003Exhk\u003C/pre\u003E\u003C/div\u003E\u003C/td\u003E\u003C/tr\u003E\u003C/tbody\u003E\u003C/table\u003E\u003C/div\u003E\u003C/details\u003E\u003C/td\u003E\u003C/tr\u003E\u003Ctr\u003E\u003Ctd\u003E2\u003C/td\u003E\u003Ctd\u003E\u003Cdetails class=\u0022dni-treeview\u0022\u003E\u003Csummary\u003E\u003Cspan class=\u0022dni-code-hint\u0022\u003E\u003Ccode\u003E(frs, lhk)\u003C/code\u003E\u003C/span\u003E\u003C/summary\u003E\u003Cdiv\u003E\u003Ctable\u003E\u003Cthead\u003E\u003Ctr\u003E\u003C/tr\u003E\u003C/thead\u003E\u003Ctbody\u003E\u003Ctr\u003E\u003Ctd\u003EItem1\u003C/td\u003E\u003Ctd\u003E\u003Cdiv class=\u0022dni-plaintext\u0022\u003E\u003Cpre\u003Efrs\u003C/pre\u003E\u003C/div\u003E\u003C/td\u003E\u003C/tr\u003E\u003Ctr\u003E\u003Ctd\u003EItem2\u003C/td\u003E\u003Ctd\u003E\u003Cdiv class=\u0022dni-plaintext\u0022\u003E\u003Cpre\u003Elhk\u003C/pre\u003E\u003C/div\u003E\u003C/td\u003E\u003C/tr\u003E\u003C/tbody\u003E\u003C/table\u003E\u003C/div\u003E\u003C/details\u003E\u003C/td\u003E\u003C/tr\u003E\u003C/tbody\u003E\u003C/table\u003E\u003C/td\u003E\u003C/tr\u003E\u003Ctr\u003E\u003Ctd\u003E9\u003C/td\u003E\u003Ctd\u003E\u003Ctable\u003E\u003Cthead\u003E\u003Ctr\u003E\u003Cth\u003E\u003Ci\u003Eindex\u003C/i\u003E\u003C/th\u003E\u003Cth\u003Evalue\u003C/th\u003E\u003C/tr\u003E\u003C/thead\u003E\u003Ctbody\u003E\u003Ctr\u003E\u003Ctd\u003E0\u003C/td\u003E\u003Ctd\u003E\u003Cdetails class=\u0022dni-treeview\u0022\u003E\u003Csummary\u003E\u003Cspan class=\u0022dni-code-hint\u0022\u003E\u003Ccode\u003E(jqt, rhn)\u003C/code\u003E\u003C/span\u003E\u003C/summary\u003E\u003Cdiv\u003E\u003Ctable\u003E\u003Cthead\u003E\u003Ctr\u003E\u003C/tr\u003E\u003C/thead\u003E\u003Ctbody\u003E\u003Ctr\u003E\u003Ctd\u003EItem1\u003C/td\u003E\u003Ctd\u003E\u003Cdiv class=\u0022dni-plaintext\u0022\u003E\u003Cpre\u003Ejqt\u003C/pre\u003E\u003C/div\u003E\u003C/td\u003E\u003C/tr\u003E\u003Ctr\u003E\u003Ctd\u003EItem2\u003C/td\u003E\u003Ctd\u003E\u003Cdiv class=\u0022dni-plaintext\u0022\u003E\u003Cpre\u003Erhn\u003C/pre\u003E\u003C/div\u003E\u003C/td\u003E\u003C/tr\u003E\u003C/tbody\u003E\u003C/table\u003E\u003C/div\u003E\u003C/details\u003E\u003C/td\u003E\u003C/tr\u003E\u003Ctr\u003E\u003Ctd\u003E1\u003C/td\u003E\u003Ctd\u003E\u003Cdetails class=\u0022dni-treeview\u0022\u003E\u003Csummary\u003E\u003Cspan class=\u0022dni-code-hint\u0022\u003E\u003Ccode\u003E(jqt, xhk)\u003C/code\u003E\u003C/span\u003E\u003C/summary\u003E\u003Cdiv\u003E\u003Ctable\u003E\u003Cthead\u003E\u003Ctr\u003E\u003C/tr\u003E\u003C/thead\u003E\u003Ctbody\u003E\u003Ctr\u003E\u003Ctd\u003EItem1\u003C/td\u003E\u003Ctd\u003E\u003Cdiv class=\u0022dni-plaintext\u0022\u003E\u003Cpre\u003Ejqt\u003C/pre\u003E\u003C/div\u003E\u003C/td\u003E\u003C/tr\u003E\u003Ctr\u003E\u003Ctd\u003EItem2\u003C/td\u003E\u003Ctd\u003E\u003Cdiv class=\u0022dni-plaintext\u0022\u003E\u003Cpre\u003Exhk\u003C/pre\u003E\u003C/div\u003E\u003C/td\u003E\u003C/tr\u003E\u003C/tbody\u003E\u003C/table\u003E\u003C/div\u003E\u003C/details\u003E\u003C/td\u003E\u003C/tr\u003E\u003Ctr\u003E\u003Ctd\u003E2\u003C/td\u003E\u003Ctd\u003E\u003Cdetails class=\u0022dni-treeview\u0022\u003E\u003Csummary\u003E\u003Cspan class=\u0022dni-code-hint\u0022\u003E\u003Ccode\u003E(frs, lsr)\u003C/code\u003E\u003C/span\u003E\u003C/summary\u003E\u003Cdiv\u003E\u003Ctable\u003E\u003Cthead\u003E\u003Ctr\u003E\u003C/tr\u003E\u003C/thead\u003E\u003Ctbody\u003E\u003Ctr\u003E\u003Ctd\u003EItem1\u003C/td\u003E\u003Ctd\u003E\u003Cdiv class=\u0022dni-plaintext\u0022\u003E\u003Cpre\u003Efrs\u003C/pre\u003E\u003C/div\u003E\u003C/td\u003E\u003C/tr\u003E\u003Ctr\u003E\u003Ctd\u003EItem2\u003C/td\u003E\u003Ctd\u003E\u003Cdiv class=\u0022dni-plaintext\u0022\u003E\u003Cpre\u003Elsr\u003C/pre\u003E\u003C/div\u003E\u003C/td\u003E\u003C/tr\u003E\u003C/tbody\u003E\u003C/table\u003E\u003C/div\u003E\u003C/details\u003E\u003C/td\u003E\u003C/tr\u003E\u003C/tbody\u003E\u003C/table\u003E\u003C/td\u003E\u003C/tr\u003E\u003C/tbody\u003E\u003C/table\u003E\u003Cstyle\u003E\r\n",
              ".dni-code-hint {\r\n",
              "    font-style: italic;\r\n",
              "    overflow: hidden;\r\n",
              "    white-space: nowrap;\r\n",
              "}\r\n",
              ".dni-treeview {\r\n",
              "    white-space: nowrap;\r\n",
              "}\r\n",
              ".dni-treeview td {\r\n",
              "    vertical-align: top;\r\n",
              "    text-align: start;\r\n",
              "}\r\n",
              "details.dni-treeview {\r\n",
              "    padding-left: 1em;\r\n",
              "}\r\n",
              "table td {\r\n",
              "    text-align: start;\r\n",
              "}\r\n",
              "table tr { \r\n",
              "    vertical-align: top; \r\n",
              "    margin: 0em 0px;\r\n",
              "}\r\n",
              "table tr td pre \r\n",
              "{ \r\n",
              "    vertical-align: top !important; \r\n",
              "    margin: 0em 0px !important;\r\n",
              "} \r\n",
              "table th {\r\n",
              "    text-align: start;\r\n",
              "}\r\n",
              "\u003C/style\u003E"
            ]
          },
          "metadata": {},
          "output_type": "display_data"
        }
      ],
      "source": [
        "IEnumerable\u003CExcludePair[]\u003E TryAllExcludePairs(NeighbourSet inputSet)\n",
        "{\n",
        "    var allPairs = FindAllNeighbourPairs(inputSet);\n",
        "\n",
        "    var length = allPairs.Length;\n",
        "\n",
        "    Console.WriteLine($\u0022Total length is: {length}\u0022);\n",
        "    Console.WriteLine($\u0022Result pairs to search: {length * (length - 1) * (length - 2)}\u0022);\n",
        "\n",
        "    for (var i = 0; i \u003C length; i\u002B\u002B)\n",
        "    for (var j = i \u002B 1; j \u003C length; j\u002B\u002B)\n",
        "    for (var k = j \u002B 1; k \u003C length; k\u002B\u002B)\n",
        "    {\n",
        "        ExcludePair[] currentResult = [allPairs[i], allPairs[j], allPairs[k]];\n",
        "\n",
        "        yield return currentResult;\n",
        "    }\n",
        "}\n",
        "\n",
        "var tryAllExcludePairsTest = TryAllExcludePairs(testInputNeighbours).Take(10);\n",
        "display(tryAllExcludePairsTest);"
      ]
    },
    {
      "cell_type": "code",
      "execution_count": 11,
      "metadata": {
        "dotnet_interactive": {
          "language": "csharp"
        },
        "polyglot_notebook": {
          "kernelName": "csharp"
        },
        "vscode": {
          "languageId": "polyglot-notebook"
        }
      },
      "outputs": [
        {
          "name": "stdout",
          "output_type": "stream",
          "text": [
            "Total length is: 33\n",
            "Result pairs to search: 32736\n",
            "Found Split at: jqt/nvd, hfx/pzl, bvb/cmg\n"
          ]
        },
        {
          "data": {
            "text/html": [
              "\u003Cdetails open=\u0022open\u0022 class=\u0022dni-treeview\u0022\u003E\u003Csummary\u003E\u003Cspan class=\u0022dni-code-hint\u0022\u003E\u003Ccode\u003E(6, 9)\u003C/code\u003E\u003C/span\u003E\u003C/summary\u003E\u003Cdiv\u003E\u003Ctable\u003E\u003Cthead\u003E\u003Ctr\u003E\u003C/tr\u003E\u003C/thead\u003E\u003Ctbody\u003E\u003Ctr\u003E\u003Ctd\u003EItem1\u003C/td\u003E\u003Ctd\u003E\u003Cdiv class=\u0022dni-plaintext\u0022\u003E\u003Cpre\u003E6\u003C/pre\u003E\u003C/div\u003E\u003C/td\u003E\u003C/tr\u003E\u003Ctr\u003E\u003Ctd\u003EItem2\u003C/td\u003E\u003Ctd\u003E\u003Cdiv class=\u0022dni-plaintext\u0022\u003E\u003Cpre\u003E9\u003C/pre\u003E\u003C/div\u003E\u003C/td\u003E\u003C/tr\u003E\u003C/tbody\u003E\u003C/table\u003E\u003C/div\u003E\u003C/details\u003E\u003Cstyle\u003E\r\n",
              ".dni-code-hint {\r\n",
              "    font-style: italic;\r\n",
              "    overflow: hidden;\r\n",
              "    white-space: nowrap;\r\n",
              "}\r\n",
              ".dni-treeview {\r\n",
              "    white-space: nowrap;\r\n",
              "}\r\n",
              ".dni-treeview td {\r\n",
              "    vertical-align: top;\r\n",
              "    text-align: start;\r\n",
              "}\r\n",
              "details.dni-treeview {\r\n",
              "    padding-left: 1em;\r\n",
              "}\r\n",
              "table td {\r\n",
              "    text-align: start;\r\n",
              "}\r\n",
              "table tr { \r\n",
              "    vertical-align: top; \r\n",
              "    margin: 0em 0px;\r\n",
              "}\r\n",
              "table tr td pre \r\n",
              "{ \r\n",
              "    vertical-align: top !important; \r\n",
              "    margin: 0em 0px !important;\r\n",
              "} \r\n",
              "table th {\r\n",
              "    text-align: start;\r\n",
              "}\r\n",
              "\u003C/style\u003E"
            ]
          },
          "metadata": {},
          "output_type": "display_data"
        },
        {
          "data": {
            "text/html": [
              "\u003Cdiv class=\u0022dni-plaintext\u0022\u003E\u003Cpre\u003E54\u003C/pre\u003E\u003C/div\u003E\u003Cstyle\u003E\r\n",
              ".dni-code-hint {\r\n",
              "    font-style: italic;\r\n",
              "    overflow: hidden;\r\n",
              "    white-space: nowrap;\r\n",
              "}\r\n",
              ".dni-treeview {\r\n",
              "    white-space: nowrap;\r\n",
              "}\r\n",
              ".dni-treeview td {\r\n",
              "    vertical-align: top;\r\n",
              "    text-align: start;\r\n",
              "}\r\n",
              "details.dni-treeview {\r\n",
              "    padding-left: 1em;\r\n",
              "}\r\n",
              "table td {\r\n",
              "    text-align: start;\r\n",
              "}\r\n",
              "table tr { \r\n",
              "    vertical-align: top; \r\n",
              "    margin: 0em 0px;\r\n",
              "}\r\n",
              "table tr td pre \r\n",
              "{ \r\n",
              "    vertical-align: top !important; \r\n",
              "    margin: 0em 0px !important;\r\n",
              "} \r\n",
              "table th {\r\n",
              "    text-align: start;\r\n",
              "}\r\n",
              "\u003C/style\u003E"
            ]
          },
          "metadata": {},
          "output_type": "display_data"
        }
      ],
      "source": [
        "(int one, int other) FindSplit(NeighbourSet inputSet)\n",
        "{\n",
        "    foreach (var excludePair in TryAllExcludePairs(inputSet))\n",
        "    {\n",
        "        var checkSplit = CheckSplit(inputSet, excludePair);\n",
        "        if (checkSplit.other != 0)\n",
        "        {\n",
        "            var debugStr = excludePair.Select(ab =\u003E $\u0022{ab.a}/{ab.b}\u0022);\n",
        "            Console.WriteLine($\u0022Found Split at: {string.Join(\u0022, \u0022, debugStr)}\u0022);\n",
        "\n",
        "            return checkSplit;\n",
        "        }\n",
        "    }\n",
        "\n",
        "    throw new Exception(\u0022Did not find a split!\u0022);\n",
        "}\n",
        "\n",
        "// In this example, if you disconnect the wire between hfx/pzl, the wire between\n",
        "// bvb/cmg, and the wire between nvd/jqt, you will divide the components into two\n",
        "// separate, disconnected groups:\n",
        "\n",
        "// 9 components: cmg, frs, lhk, lsr, nvd, pzl, qnr, rsh, and rzs.\n",
        "// 6 components: bvb, hfx, jqt, ntq, rhn, and xhk.\n",
        "// Multiplying the sizes of these groups together produces 54.\n",
        "\n",
        "var findSplitTest = FindSplit(testInputNeighbours);\n",
        "display(findSplitTest);\n",
        "display(findSplitTest.one * findSplitTest.other);"
      ]
    },
    {
      "cell_type": "code",
      "execution_count": 12,
      "metadata": {
        "dotnet_interactive": {
          "language": "csharp"
        },
        "polyglot_notebook": {
          "kernelName": "csharp"
        },
        "vscode": {
          "languageId": "polyglot-notebook"
        }
      },
      "outputs": [],
      "source": [
        "var part1Neighbours = ParseNeighbours(inputLines);\n",
        "// var part1Split = FindSplit(part1Neighbours);\n",
        "// display(part1Split);"
      ]
    },
    {
      "cell_type": "code",
      "execution_count": 13,
      "metadata": {
        "dotnet_interactive": {
          "language": "csharp"
        },
        "polyglot_notebook": {
          "kernelName": "csharp"
        },
        "vscode": {
          "languageId": "polyglot-notebook"
        }
      },
      "outputs": [],
      "source": [
        "// Ok, as sorta-expected, that takes too long. We\u0027ll need to figure out a faster\n",
        "// way than brute force"
      ]
    },
    {
      "cell_type": "code",
      "execution_count": 14,
      "metadata": {
        "dotnet_interactive": {
          "language": "csharp"
        },
        "polyglot_notebook": {
          "kernelName": "csharp"
        },
        "vscode": {
          "languageId": "polyglot-notebook"
        }
      },
      "outputs": [],
      "source": [
        "// Solutions on Reddit suggest \u0022Karger\u0027s Algorithm\u0022\n",
        "// https://www.reddit.com/r/adventofcode/comments/18qbsxs/2023_day_25_solutions/\n",
        "\n",
        "// Essentially, pick edges at random (not nodes) and merge the source and\n",
        "// destination into a single node, preserving the edges to other nodes\n",
        "\n",
        "// This works (probabilistically) because most edges are not likely to be part\n",
        "// of the \u0022cut\u0022, so we are progressively eliminating non-minimal edges until we get\n",
        "// to 2 nodes, at which point their edges will be the minimal cut\n",
        "\n",
        "// We know in our case that the minimal cut is 3. So we are expecting the final\n",
        "// 2 nodes to have 3 edges. These 2 nodes will have the nodes of their respective\n",
        "// \u0022sides\u0022 merged into them, so we can use these node counts to derive\n",
        "// the answer"
      ]
    },
    {
      "cell_type": "code",
      "execution_count": 15,
      "metadata": {
        "dotnet_interactive": {
          "language": "csharp"
        },
        "polyglot_notebook": {
          "kernelName": "csharp"
        },
        "vscode": {
          "languageId": "polyglot-notebook"
        }
      },
      "outputs": [
        {
          "name": "stdout",
          "output_type": "stream",
          "text": [
            "Found a match for seed 14! Node jqt has 6 nodes. Node pzl has 9 nodes\n",
            "54\n"
          ]
        }
      ],
      "source": [
        "(int edgeCount, string a, string b, int aNodes, int bNodes) MinimalCut(NeighbourSet inputSet, int seed = 11)\n",
        "{\n",
        "    Random rand = new(seed);\n",
        "\n",
        "    var mergedSet = inputSet.ToDictionary(kv =\u003E kv.Key, kv =\u003E new List\u003Cstring\u003E(kv.Value));\n",
        "    var mergeCounts = mergedSet.ToDictionary(kv =\u003E kv.Key, kv =\u003E 1);\n",
        "\n",
        "    (string a, string b) RandomEdge()\n",
        "    {\n",
        "        var currentNodes = mergedSet.Keys.ToList();\n",
        "        var randomNode = currentNodes[rand.Next(currentNodes.Count)];\n",
        "        var randomNodeEdges = mergedSet[randomNode];\n",
        "        var randomEdge = randomNodeEdges[rand.Next(randomNodeEdges.Count)];\n",
        "\n",
        "        return (randomNode, randomEdge);\n",
        "    }\n",
        "\n",
        "    void MergeNodes(string a, string b)\n",
        "    {\n",
        "        // Merge \u0027b\u0027 into \u0027a\u0027\n",
        "\n",
        "        if (a == b) {\n",
        "            throw new Exception($\u0022Should never be merging {a} into {b}\u0022);\n",
        "        }\n",
        "\n",
        "        var aEdges = mergedSet[a];\n",
        "        aEdges.RemoveAll(e =\u003E e == b);\n",
        "        var bEdges = mergedSet[b];\n",
        "        bEdges.RemoveAll(e =\u003E e == a);\n",
        "        \n",
        "        mergedSet[a].AddRange(bEdges);\n",
        "        mergedSet.Remove(b);\n",
        "\n",
        "        foreach (var bNeighbour in bEdges)\n",
        "        {\n",
        "            // For B\u0027s neighbours, rewrite the links for B back to A\n",
        "            var bNeighbourEdges = mergedSet[bNeighbour];\n",
        "            for (var i = 0; i \u003C bNeighbourEdges.Count; i\u002B\u002B)\n",
        "            {\n",
        "                if (bNeighbourEdges[i] == b) {\n",
        "                    bNeighbourEdges[i] = a;\n",
        "                }\n",
        "            }\n",
        "        }\n",
        "        \n",
        "        mergeCounts[a] \u002B= mergeCounts[b];\n",
        "    }\n",
        "\n",
        "    int i = 1;\n",
        "    while (mergedSet.Count \u003E 2)\n",
        "    {\n",
        "        var (a, b) = RandomEdge();\n",
        "\n",
        "        MergeNodes(a, b);\n",
        "\n",
        "        const int limit = 2000;\n",
        "        i\u002B\u002B;\n",
        "        if (i \u003E limit) \n",
        "        {\n",
        "            throw new Exception($\u0022Hitting loop limit of {limit}\u0022);\n",
        "        }\n",
        "    }\n",
        "\n",
        "    var aFinal = mergedSet.First().Key;\n",
        "    var bFinal = mergedSet.Last().Key;\n",
        "    var edgeCount = mergedSet[aFinal].Count;\n",
        "\n",
        "    return (edgeCount, aFinal, bFinal, mergeCounts[aFinal], mergeCounts[bFinal]);\n",
        "}\n",
        "\n",
        "int IterateMinimalCut(NeighbourSet inputSet)\n",
        "{\n",
        "    const int iterations = 2000;\n",
        "    for (var seed = 0; seed \u003C= iterations; seed\u002B\u002B)\n",
        "    {\n",
        "        var (edgeCount, a, b, aCount, bCount) = MinimalCut(inputSet, seed);\n",
        "\n",
        "        // Console.WriteLine($\u0022Seed {seed} found {edgeCount} edges\u0022);\n",
        "\n",
        "        if (edgeCount == 3) \n",
        "        {\n",
        "            Console.WriteLine($\u0022Found a match for seed {seed}! Node {a} has {aCount} nodes. Node {b} has {bCount} nodes\u0022);\n",
        "            return aCount * bCount;\n",
        "        }\n",
        "    }\n",
        "    throw new Exception($\u0022Could not find 3-edge cut after {iterations} iterations\u0022);\n",
        "}\n",
        "\n",
        "// In this example, if you disconnect the wire between hfx/pzl, the wire between\n",
        "// bvb/cmg, and the wire between nvd/jqt, you will divide the components into two\n",
        "// separate, disconnected groups:\n",
        "\n",
        "// 9 components: cmg, frs, lhk, lsr, nvd, pzl, qnr, rsh, and rzs.\n",
        "// 6 components: bvb, hfx, jqt, ntq, rhn, and xhk.\n",
        "// Multiplying the sizes of these groups together produces 54.\n",
        "\n",
        "var testInputAnswer = IterateMinimalCut(testInputNeighbours);\n",
        "Console.WriteLine(testInputAnswer);"
      ]
    },
    {
      "cell_type": "code",
      "execution_count": 16,
      "metadata": {
        "dotnet_interactive": {
          "language": "csharp"
        },
        "polyglot_notebook": {
          "kernelName": "csharp"
        },
        "vscode": {
          "languageId": "polyglot-notebook"
        }
      },
      "outputs": [
        {
          "name": "stdout",
          "output_type": "stream",
          "text": [
            "Found a match for seed 27! Node hlc has 763 nodes. Node tvh has 712 nodes\n",
            "543256\n"
          ]
        }
      ],
      "source": [
        "// Find the three wires you need to disconnect in order to divide the components\n",
        "// into two separate groups. What do you get if you multiply the sizes of these two\n",
        "// groups together?\n",
        "\n",
        "var part1Answer = IterateMinimalCut(part1Neighbours);\n",
        "Console.WriteLine(part1Answer);"
      ]
    },
    {
      "cell_type": "code",
      "execution_count": 17,
      "metadata": {
        "dotnet_interactive": {
          "language": "csharp"
        },
        "polyglot_notebook": {
          "kernelName": "csharp"
        },
        "vscode": {
          "languageId": "polyglot-notebook"
        }
      },
      "outputs": [],
      "source": [
        "// 543256 is correct!\n",
        "Ensure(543256, part1Answer);"
      ]
    }
  ],
  "metadata": {
    "kernelspec": {
      "display_name": ".NET (C#)",
      "language": "C#",
      "name": ".net-csharp"
    },
    "language_info": {
      "name": "python"
    },
    "polyglot_notebook": {
      "kernelInfo": {
        "defaultKernelName": "csharp",
        "items": [
          {
            "aliases": [],
            "name": "csharp"
          }
        ]
      }
    }
  },
  "nbformat": 4,
  "nbformat_minor": 2
}