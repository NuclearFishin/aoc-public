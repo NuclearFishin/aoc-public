{
  "cells": [
    {
      "cell_type": "markdown",
      "execution_count": 1,
      "metadata": {
        "dotnet_interactive": {
          "language": "csharp"
        },
        "polyglot_notebook": {
          "kernelName": "csharp"
        },
        "vscode": {
          "languageId": "polyglot-notebook"
        }
      },
      "source": [
        "### --- Day 8: Haunted Wasteland ---\n",
        "\n",
        "Puzzle description redacted as-per Advent of Code guidelines\n",
        "\n",
        "You may find the puzzle description at: https://adventofcode.com/2023/day/8"
      ]
    },
    {
      "cell_type": "code",
      "execution_count": 2,
      "metadata": {
        "dotnet_interactive": {
          "language": "csharp"
        },
        "polyglot_notebook": {
          "kernelName": "csharp"
        },
        "vscode": {
          "languageId": "polyglot-notebook"
        }
      },
      "outputs": [],
      "source": [
        "#!import ../Utils.ipynb"
      ]
    },
    {
      "cell_type": "code",
      "execution_count": 3,
      "metadata": {
        "dotnet_interactive": {
          "language": "csharp"
        },
        "polyglot_notebook": {
          "kernelName": "csharp"
        },
        "vscode": {
          "languageId": "polyglot-notebook"
        }
      },
      "outputs": [
        {
          "name": "stdout",
          "output_type": "stream",
          "text": [
            "Loading puzzle file: Day8.txt\n",
            "Total lines: 764\n",
            "Max line length: 263\n",
            "\n",
            "LRRRLRLLLLLLLRLRLRRLRRRLRRLRRRLRRLRRRLLRRRLRRLRLRRRLRRLRRRLLRLLRRRLRRRLRLLRLRLRRRLRRLRRLRRLRLRRRLRRLRRRLLRLLRLLRRLRLLRLRRLRLRLRRLRRRLLLRRLRRRLLRRLRLRLRRRLRLRRRLLRLLLRRRLLLRRLLRLLRRLLRLRRRLRLRRLRRLLRRLRLLRLRRRLRRRLRLRRRLRLRLRRLRLRRRLRRRLRRRLRRLRRLRRRLLRLRLLRLLRRRR\n",
            "\n",
            "HVX = (SCS, XQN)\n",
            "DMK = (JKL, JKL)\n",
            "FDF = (XHL, RMM)\n"
          ]
        }
      ],
      "source": [
        "var inputLines = LoadPuzzleInput(2023, 8);\n",
        "WriteLines(inputLines);"
      ]
    },
    {
      "cell_type": "code",
      "execution_count": 4,
      "metadata": {
        "dotnet_interactive": {
          "language": "csharp"
        },
        "polyglot_notebook": {
          "kernelName": "csharp"
        },
        "vscode": {
          "languageId": "polyglot-notebook"
        }
      },
      "outputs": [],
      "source": [
        "var instructions = inputLines[0];"
      ]
    },
    {
      "cell_type": "code",
      "execution_count": 5,
      "metadata": {
        "dotnet_interactive": {
          "language": "csharp"
        },
        "polyglot_notebook": {
          "kernelName": "csharp"
        },
        "vscode": {
          "languageId": "polyglot-notebook"
        }
      },
      "outputs": [],
      "source": [
        "record struct Node(string Key, string LeftKey, string RightKey);"
      ]
    },
    {
      "cell_type": "code",
      "execution_count": 6,
      "metadata": {
        "dotnet_interactive": {
          "language": "csharp"
        },
        "polyglot_notebook": {
          "kernelName": "csharp"
        },
        "vscode": {
          "languageId": "polyglot-notebook"
        }
      },
      "outputs": [
        {
          "name": "stdout",
          "output_type": "stream",
          "text": [
            "Node { Key = HVX, LeftKey = SCS, RightKey = XQN }\n"
          ]
        }
      ],
      "source": [
        "Node ParseNode(string line) {\n",
        "    var key = line.Substring(0, 3);\n",
        "    var leftKey = line.Substring(7, 3);\n",
        "    var rightKey = line.Substring(12, 3);\n",
        "\n",
        "    var result = new Node(key, leftKey, rightKey);\n",
        "    return result;\n",
        "}\n",
        "\n",
        "var testLine = \u0022HVX = (SCS, XQN)\u0022;\n",
        "Console.WriteLine(ParseNode(testLine));"
      ]
    },
    {
      "cell_type": "code",
      "execution_count": 7,
      "metadata": {
        "dotnet_interactive": {
          "language": "csharp"
        },
        "polyglot_notebook": {
          "kernelName": "csharp"
        },
        "vscode": {
          "languageId": "polyglot-notebook"
        }
      },
      "outputs": [
        {
          "name": "stdout",
          "output_type": "stream",
          "text": [
            "[HVX, Node { Key = HVX, LeftKey = SCS, RightKey = XQN }]\n",
            "[DMK, Node { Key = DMK, LeftKey = JKL, RightKey = JKL }]\n",
            "[FDF, Node { Key = FDF, LeftKey = XHL, RightKey = RMM }]\n",
            "[JTK, Node { Key = JTK, LeftKey = SVN, RightKey = DVP }]\n",
            "[QCF, Node { Key = QCF, LeftKey = FCH, RightKey = FCH }]\n",
            "[TCG, Node { Key = TCG, LeftKey = VMS, RightKey = SDL }]\n",
            "[JJP, Node { Key = JJP, LeftKey = FQJ, RightKey = RLT }]\n",
            "[DRP, Node { Key = DRP, LeftKey = RMJ, RightKey = RMJ }]\n",
            "[VKF, Node { Key = VKF, LeftKey = XQB, RightKey = VBX }]\n",
            "[HRS, Node { Key = HRS, LeftKey = BXK, RightKey = DPM }]\n"
          ]
        }
      ],
      "source": [
        "var allParsedNodes = inputLines[2..].Select(ParseNode);\n",
        "\n",
        "var network = allParsedNodes.ToDictionary(n =\u003E n.Key);\n",
        "\n",
        "foreach (var n in network.Take(10)) {\n",
        "    Console.WriteLine(n);\n",
        "}"
      ]
    },
    {
      "cell_type": "code",
      "execution_count": 8,
      "metadata": {
        "dotnet_interactive": {
          "language": "csharp"
        },
        "polyglot_notebook": {
          "kernelName": "csharp"
        },
        "vscode": {
          "languageId": "polyglot-notebook"
        }
      },
      "outputs": [],
      "source": [
        "IEnumerable\u003Cchar\u003E RepeatSteps(string steps) {\n",
        "    while (true) {\n",
        "        foreach (var step in steps) {\n",
        "            yield return step;\n",
        "        }\n",
        "    }\n",
        "}"
      ]
    },
    {
      "cell_type": "code",
      "execution_count": 9,
      "metadata": {
        "dotnet_interactive": {
          "language": "csharp"
        },
        "polyglot_notebook": {
          "kernelName": "csharp"
        },
        "vscode": {
          "languageId": "polyglot-notebook"
        }
      },
      "outputs": [
        {
          "name": "stdout",
          "output_type": "stream",
          "text": [
            "15517\n"
          ]
        }
      ],
      "source": [
        "\n",
        "var currentStep = network[\u0022AAA\u0022];\n",
        "var steps = 0;\n",
        "\n",
        "foreach (var step in RepeatSteps(instructions)) {\n",
        "    var nextKey = step switch {\n",
        "        \u0027L\u0027 =\u003E currentStep.LeftKey,\n",
        "        _ =\u003E currentStep.RightKey\n",
        "    };\n",
        "\n",
        "    currentStep = network[nextKey];\n",
        "    steps\u002B\u002B;\n",
        "\n",
        "    if (currentStep.Key == \u0022ZZZ\u0022) {\n",
        "        break;\n",
        "    }\n",
        "\n",
        "    if (steps \u003E= 100000) {\n",
        "        throw new Exception(\u0022Too many steps\u0022);\n",
        "    }\n",
        "}\n",
        "\n",
        "// Starting at AAA, follow the left/right instructions. How many steps are required to reach ZZZ?\n",
        "\n",
        "var part1Answer = steps;\n",
        "Console.WriteLine(part1Answer);"
      ]
    },
    {
      "cell_type": "code",
      "execution_count": 10,
      "metadata": {
        "dotnet_interactive": {
          "language": "csharp"
        },
        "polyglot_notebook": {
          "kernelName": "csharp"
        },
        "vscode": {
          "languageId": "polyglot-notebook"
        }
      },
      "outputs": [],
      "source": [
        "// 15517 is correct!\n",
        "Ensure(15517, part1Answer);"
      ]
    },
    {
      "cell_type": "markdown",
      "execution_count": 11,
      "metadata": {
        "dotnet_interactive": {
          "language": "csharp"
        },
        "polyglot_notebook": {
          "kernelName": "csharp"
        },
        "vscode": {
          "languageId": "polyglot-notebook"
        }
      },
      "source": [
        "### --- Part Two ---\n",
        "\n",
        "Puzzle description redacted as-per Advent of Code guidelines\n",
        "\n",
        "You may find the puzzle description at: https://adventofcode.com/2023/day/8"
      ]
    },
    {
      "cell_type": "code",
      "execution_count": 12,
      "metadata": {
        "dotnet_interactive": {
          "language": "csharp"
        },
        "polyglot_notebook": {
          "kernelName": "csharp"
        },
        "vscode": {
          "languageId": "polyglot-notebook"
        }
      },
      "outputs": [],
      "source": [
        "(int initial, int loop) FindLoop(string startPos) \n",
        "{\n",
        "    var currentStep = network[startPos];\n",
        "    var steps = 0;\n",
        "\n",
        "    int initial = 0;\n",
        "    int loop = 0;\n",
        "    foreach (var step in RepeatSteps(instructions)) {\n",
        "        var nextKey = step == \u0027L\u0027 ? currentStep.LeftKey : currentStep.RightKey;\n",
        "\n",
        "        currentStep = network[nextKey];\n",
        "        steps\u002B\u002B;\n",
        "\n",
        "        if (currentStep.Key.EndsWith(\u0027Z\u0027)) {\n",
        "            if (initial == 0) {\n",
        "                initial = steps;\n",
        "            } else {\n",
        "                loop = (steps - initial);\n",
        "                break;\n",
        "            }\n",
        "        }\n",
        "\n",
        "        if (steps \u003E= 100000) {\n",
        "            throw new Exception(\u0022Too many steps\u0022);\n",
        "        }\n",
        "    }\n",
        "\n",
        "    return (initial, loop);\n",
        "}"
      ]
    },
    {
      "cell_type": "code",
      "execution_count": 13,
      "metadata": {
        "dotnet_interactive": {
          "language": "csharp"
        },
        "polyglot_notebook": {
          "kernelName": "csharp"
        },
        "vscode": {
          "languageId": "polyglot-notebook"
        }
      },
      "outputs": [
        {
          "name": "stdout",
          "output_type": "stream",
          "text": [
            "(13939, 13939)\n",
            "(17621, 17621)\n",
            "(19199, 19199)\n",
            "(15517, 15517)\n",
            "(12361, 12361)\n",
            "(20777, 20777)\n"
          ]
        }
      ],
      "source": [
        "var startKeys = network.Keys.Where(k =\u003E k.EndsWith(\u0027A\u0027)).ToArray();\n",
        "var loops = startKeys.Select(FindLoop).ToArray();\n",
        "\n",
        "foreach (var l in loops) {\n",
        "    Console.WriteLine(l);\n",
        "}\n",
        "\n",
        "// Interestingly, they all reach their initial point and loop at the same interval! Nice, we can use that\n",
        "\n",
        "var loopPeriods = loops.Select(l =\u003E l.loop).ToArray();\n",
        "\n",
        "static ulong GCD(ulong a, ulong b) {\n",
        "    if (b == 0) {\n",
        "        return a;\n",
        "    }\n",
        "\n",
        "    return GCD(b, a % b);\n",
        "}\n",
        "\n",
        "// Least common multiple. I.e., If we repeat a and b, at what value do they equal?\n",
        "static ulong LCM(ulong a, ulong b) {\n",
        "    var gcd = GCD(a, b);\n",
        "    var result = a * (b / gcd);\n",
        "\n",
        "    return result;\n",
        "}"
      ]
    },
    {
      "cell_type": "code",
      "execution_count": 14,
      "metadata": {
        "dotnet_interactive": {
          "language": "csharp"
        },
        "polyglot_notebook": {
          "kernelName": "csharp"
        },
        "vscode": {
          "languageId": "polyglot-notebook"
        }
      },
      "outputs": [
        {
          "name": "stdout",
          "output_type": "stream",
          "text": [
            "14935034899483 % 13939 = 0\n",
            "14935034899483 % 17621 = 0\n",
            "14935034899483 % 19199 = 0\n",
            "14935034899483 % 15517 = 0\n",
            "14935034899483 % 12361 = 0\n",
            "14935034899483 % 20777 = 0\n",
            "14935034899483\n"
          ]
        }
      ],
      "source": [
        "// LCM is ideal for us as we are basically want to know the value at which 2\n",
        "// cycles looping at different frequencies will both reach the origin\n",
        "\n",
        "// In our case, the LCM of the first 2 loops gives us a new \u0022minimum\u0022 cycle\n",
        "// time. Therefore we feed this cycle into the next loop input, which gives us the\n",
        "// next cycle, and so on\n",
        "\n",
        "var part2Answer = loopPeriods.Select(l =\u003E (ulong)l).Aggregate(LCM);\n",
        "\n",
        "foreach (var l in loopPeriods) {\n",
        "    var x = part2Answer % (ulong)l;\n",
        "    Console.WriteLine($\u0022{part2Answer} % {l} = {x}\u0022);\n",
        "}\n",
        "\n",
        "Console.WriteLine(part2Answer);\n"
      ]
    },
    {
      "cell_type": "code",
      "execution_count": 15,
      "metadata": {
        "dotnet_interactive": {
          "language": "csharp"
        },
        "polyglot_notebook": {
          "kernelName": "csharp"
        },
        "vscode": {
          "languageId": "polyglot-notebook"
        }
      },
      "outputs": [],
      "source": [
        "// 14935034899483 is correct!\n",
        "Ensure(14935034899483, part2Answer);"
      ]
    }
  ],
  "metadata": {
    "kernelspec": {
      "display_name": ".NET (C#)",
      "language": "C#",
      "name": ".net-csharp"
    },
    "language_info": {
      "name": "python"
    },
    "polyglot_notebook": {
      "kernelInfo": {
        "defaultKernelName": "csharp",
        "items": [
          {
            "aliases": [],
            "name": "csharp"
          }
        ]
      }
    }
  },
  "nbformat": 4,
  "nbformat_minor": 2
}