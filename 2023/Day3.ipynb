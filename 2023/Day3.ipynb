{
  "cells": [
    {
      "cell_type": "markdown",
      "execution_count": 17,
      "metadata": {
        "dotnet_interactive": {
          "language": "csharp"
        },
        "polyglot_notebook": {
          "kernelName": "csharp"
        },
        "vscode": {
          "languageId": "polyglot-notebook"
        }
      },
      "source": [
        "### --- Day 3: Gear Ratios ---\n",
        "\n",
        "Puzzle description redacted as-per Advent of Code guidelines\n",
        "\n",
        "You may find the puzzle description at: https://adventofcode.com/2023/day/3"
      ]
    },
    {
      "cell_type": "code",
      "execution_count": 18,
      "metadata": {
        "dotnet_interactive": {
          "language": "csharp"
        },
        "polyglot_notebook": {
          "kernelName": "csharp"
        },
        "vscode": {
          "languageId": "polyglot-notebook"
        }
      },
      "outputs": [],
      "source": [
        "#!import ../Utils.ipynb"
      ]
    },
    {
      "cell_type": "code",
      "execution_count": 19,
      "metadata": {
        "dotnet_interactive": {
          "language": "csharp"
        },
        "polyglot_notebook": {
          "kernelName": "csharp"
        },
        "vscode": {
          "languageId": "polyglot-notebook"
        }
      },
      "outputs": [
        {
          "name": "stdout",
          "output_type": "stream",
          "text": [
            "Loading puzzle file: Day3.txt\n",
            "Total lines: 140\n",
            "Max line length: 140\n",
            "\n",
            "...317..........214.....................................751.................................630...479..205....41.993............416.........\n",
            "...*....813........%....572........%...629.154......518....*....365..................-.......*.......#.....................422...........661\n",
            "269.......*...58...........=......264.....*..........*......937.-...........235...303.........848..............195.....154*.........144.-...\n",
            "........476..@...162.855................$....288...821..............107.....-...........290......../..301.........=...........135..*........\n",
            "618.............=....*...547...........441....*........................@................*........851....\u002B...................\u002B..*...102.310..\n"
          ]
        }
      ],
      "source": [
        "var inputLines = LoadPuzzleInput(2023, 3);\n",
        "WriteLines(inputLines);"
      ]
    },
    {
      "cell_type": "code",
      "execution_count": 20,
      "metadata": {
        "dotnet_interactive": {
          "language": "csharp"
        },
        "polyglot_notebook": {
          "kernelName": "csharp"
        },
        "vscode": {
          "languageId": "polyglot-notebook"
        }
      },
      "outputs": [],
      "source": [
        "const char blank = \u0027.\u0027;\n",
        "\n",
        "char[][] lineArr = inputLines.Select(l =\u003E l.ToCharArray()).ToArray();\n",
        "\n",
        "HashSet\u003Cchar\u003E nonSymbols = new([\u00270\u0027, \u00271\u0027, \u00272\u0027, \u00273\u0027, \u00274\u0027, \u00275\u0027, \u00276\u0027, \u00277\u0027, \u00278\u0027, \u00279\u0027, \u0027.\u0027]);\n",
        "int[] offsets = [-1, 0, 1];\n",
        "\n",
        "bool IsAdjacent(int row, int col)\n",
        "{\n",
        "    var endCol = lineArr[row].Length;\n",
        "    var endRow = lineArr.Length;\n",
        "\n",
        "    var q = from rowAdj in offsets\n",
        "            let rowOffset = row \u002B rowAdj\n",
        "            where rowOffset \u003E= 0 \u0026\u0026 rowOffset \u003C endRow\n",
        "            from colAdj in offsets\n",
        "            let colOffset = col \u002B colAdj\n",
        "            where colOffset \u003E= 0 \u0026\u0026 colOffset \u003C endCol\n",
        "            let ch = lineArr[rowOffset][colOffset]\n",
        "            where !nonSymbols.Contains(ch)\n",
        "            select (rowOffset, colOffset);\n",
        "    \n",
        "    var check = q.FirstOrDefault();\n",
        "    return q.Any();\n",
        "}\n",
        "\n",
        "IEnumerable\u003Cint\u003E ParseNumbers() \n",
        "{\n",
        "    var currentNumber = 0;\n",
        "    var isAdjacent = false;\n",
        "\n",
        "    for (var row = 0; row \u003C lineArr.Length; row\u002B\u002B)\n",
        "    {\n",
        "        var rowLength = lineArr[row].Length;\n",
        "        for (var col = 0; col \u003C rowLength; col\u002B\u002B) {\n",
        "            var ch = lineArr[row][col];\n",
        "\n",
        "            if (!Char.IsDigit(ch)) {\n",
        "                if (currentNumber \u003E 0 \u0026\u0026 isAdjacent) {\n",
        "                    yield return currentNumber;\n",
        "                }\n",
        "                currentNumber = 0;\n",
        "                isAdjacent = false;\n",
        "            } else {\n",
        "                var num = (int)Char.GetNumericValue(ch);\n",
        "                currentNumber *= 10;\n",
        "                currentNumber \u002B= num;\n",
        "                isAdjacent |= IsAdjacent(row, col);\n",
        "            }\n",
        "        }\n",
        "\n",
        "        if (currentNumber \u003E 0 \u0026\u0026 isAdjacent)\n",
        "        {\n",
        "            yield return currentNumber;\n",
        "        }\n",
        "        currentNumber = 0;\n",
        "        isAdjacent = false;\n",
        "    }\n",
        "}"
      ]
    },
    {
      "cell_type": "code",
      "execution_count": 21,
      "metadata": {
        "dotnet_interactive": {
          "language": "csharp"
        },
        "polyglot_notebook": {
          "kernelName": "csharp"
        },
        "vscode": {
          "languageId": "polyglot-notebook"
        }
      },
      "outputs": [
        {
          "name": "stdout",
          "output_type": "stream",
          "text": [
            "317\n",
            "214\n",
            "751\n",
            "630\n",
            "479\n",
            "813\n",
            "572\n",
            "629\n",
            "154\n",
            "518\n"
          ]
        }
      ],
      "source": [
        "foreach (var n in ParseNumbers().Take(10)) {\n",
        "    Console.WriteLine(n);\n",
        "}"
      ]
    },
    {
      "cell_type": "code",
      "execution_count": 22,
      "metadata": {
        "dotnet_interactive": {
          "language": "csharp"
        },
        "polyglot_notebook": {
          "kernelName": "csharp"
        },
        "vscode": {
          "languageId": "polyglot-notebook"
        }
      },
      "outputs": [
        {
          "name": "stdout",
          "output_type": "stream",
          "text": [
            "514969\n"
          ]
        }
      ],
      "source": [
        "// Of course, the actual engine schematic is much larger. What is the sum of all of the part numbers in the engine schematic?\n",
        "\n",
        "var part1Answer = ParseNumbers().Sum();\n",
        "Console.WriteLine(part1Answer);"
      ]
    },
    {
      "cell_type": "code",
      "execution_count": 23,
      "metadata": {
        "dotnet_interactive": {
          "language": "csharp"
        },
        "polyglot_notebook": {
          "kernelName": "csharp"
        },
        "vscode": {
          "languageId": "polyglot-notebook"
        }
      },
      "outputs": [],
      "source": [
        "// 514969 is correct!\n",
        "Ensure(514969, part1Answer);"
      ]
    },
    {
      "cell_type": "markdown",
      "execution_count": 24,
      "metadata": {
        "dotnet_interactive": {
          "language": "csharp"
        },
        "polyglot_notebook": {
          "kernelName": "csharp"
        },
        "vscode": {
          "languageId": "polyglot-notebook"
        }
      },
      "source": [
        "### --- Part Two ---\n",
        "\n",
        "Puzzle description redacted as-per Advent of Code guidelines\n",
        "\n",
        "You may find the puzzle description at: https://adventofcode.com/2023/day/3"
      ]
    },
    {
      "cell_type": "code",
      "execution_count": 25,
      "metadata": {
        "dotnet_interactive": {
          "language": "csharp"
        },
        "polyglot_notebook": {
          "kernelName": "csharp"
        },
        "vscode": {
          "languageId": "polyglot-notebook"
        }
      },
      "outputs": [],
      "source": [
        "record Found(int row, int col) {}\n",
        "\n",
        "Found IsAdjacentStar(int row, int col)\n",
        "{\n",
        "    var endCol = lineArr[row].Length;\n",
        "    var endRow = lineArr.Length;\n",
        "\n",
        "    var q = from rowAdj in offsets\n",
        "            let rowOffset = row \u002B rowAdj\n",
        "            where rowOffset \u003E= 0 \u0026\u0026 rowOffset \u003C endRow\n",
        "            from colAdj in offsets\n",
        "            let colOffset = col \u002B colAdj\n",
        "            where colOffset \u003E= 0 \u0026\u0026 colOffset \u003C endCol\n",
        "            let ch = lineArr[rowOffset][colOffset]\n",
        "            where ch == \u0027*\u0027\n",
        "            select new Found(rowOffset, colOffset);\n",
        "    \n",
        "    var f = q.FirstOrDefault();\n",
        "\n",
        "    return f;\n",
        "}"
      ]
    },
    {
      "cell_type": "code",
      "execution_count": 26,
      "metadata": {
        "dotnet_interactive": {
          "language": "csharp"
        },
        "polyglot_notebook": {
          "kernelName": "csharp"
        },
        "vscode": {
          "languageId": "polyglot-notebook"
        }
      },
      "outputs": [
        {
          "name": "stdout",
          "output_type": "stream",
          "text": [
            "Found { row = 1, col = 3 }\n"
          ]
        }
      ],
      "source": [
        "Console.WriteLine(IsAdjacentStar(0, 3));"
      ]
    },
    {
      "cell_type": "code",
      "execution_count": 27,
      "metadata": {
        "dotnet_interactive": {
          "language": "csharp"
        },
        "polyglot_notebook": {
          "kernelName": "csharp"
        },
        "vscode": {
          "languageId": "polyglot-notebook"
        }
      },
      "outputs": [],
      "source": [
        "IEnumerable\u003C(int, Found)\u003E ParseNumbersStar() \n",
        "{\n",
        "    var currentNumber = 0;\n",
        "    Found adjacentStar = null;\n",
        "\n",
        "    for (var row = 0; row \u003C lineArr.Length; row\u002B\u002B)\n",
        "    {\n",
        "        var rowLength = lineArr[row].Length;\n",
        "        for (var col = 0; col \u003C rowLength; col\u002B\u002B) {\n",
        "            var ch = lineArr[row][col];\n",
        "\n",
        "            if (!Char.IsDigit(ch)) {\n",
        "                if (currentNumber \u003E 0 \u0026\u0026 adjacentStar != null) {\n",
        "                    yield return (currentNumber, adjacentStar);\n",
        "                }\n",
        "                currentNumber = 0;\n",
        "                adjacentStar = null;\n",
        "            } else {\n",
        "                var num = (int)Char.GetNumericValue(ch);\n",
        "                currentNumber *= 10;\n",
        "                currentNumber \u002B= num;\n",
        "                adjacentStar ??= IsAdjacentStar(row, col);\n",
        "            }\n",
        "        }\n",
        "\n",
        "        if (currentNumber \u003E 0 \u0026\u0026 adjacentStar != null)\n",
        "        {\n",
        "            yield return (currentNumber, adjacentStar);\n",
        "        }\n",
        "        currentNumber = 0;\n",
        "        adjacentStar = null;\n",
        "    }\n",
        "}"
      ]
    },
    {
      "cell_type": "code",
      "execution_count": 28,
      "metadata": {
        "dotnet_interactive": {
          "language": "csharp"
        },
        "polyglot_notebook": {
          "kernelName": "csharp"
        },
        "vscode": {
          "languageId": "polyglot-notebook"
        }
      },
      "outputs": [
        {
          "name": "stdout",
          "output_type": "stream",
          "text": [
            "(317, Found { row = 1, col = 3 })\n",
            "(751, Found { row = 1, col = 59 })\n",
            "(630, Found { row = 1, col = 93 })\n",
            "(813, Found { row = 2, col = 10 })\n",
            "(629, Found { row = 2, col = 42 })\n",
            "(154, Found { row = 2, col = 42 })\n",
            "(518, Found { row = 2, col = 53 })\n",
            "(422, Found { row = 2, col = 122 })\n",
            "(269, Found { row = 1, col = 3 })\n",
            "(937, Found { row = 1, col = 59 })\n"
          ]
        }
      ],
      "source": [
        "foreach (var x in ParseNumbersStar().Take(10)) {\n",
        "    Console.WriteLine(x);\n",
        "}"
      ]
    },
    {
      "cell_type": "code",
      "execution_count": 29,
      "metadata": {
        "dotnet_interactive": {
          "language": "csharp"
        },
        "polyglot_notebook": {
          "kernelName": "csharp"
        },
        "vscode": {
          "languageId": "polyglot-notebook"
        }
      },
      "outputs": [],
      "source": [
        "var pairs = from pn in ParseNumbersStar()\n",
        "            let number = pn.Item1\n",
        "            let star = pn.Item2\n",
        "            group number by star into numStar\n",
        "            where numStar.Count() == 2\n",
        "            let a = numStar.ToArray()\n",
        "            let ratio = a[0] * a[1]\n",
        "            select (numStar.Key, a[0], a[1], ratio);\n",
        "\n"
      ]
    },
    {
      "cell_type": "code",
      "execution_count": 30,
      "metadata": {
        "dotnet_interactive": {
          "language": "csharp"
        },
        "polyglot_notebook": {
          "kernelName": "csharp"
        },
        "vscode": {
          "languageId": "polyglot-notebook"
        }
      },
      "outputs": [
        {
          "name": "stdout",
          "output_type": "stream",
          "text": [
            "(Found { row = 1, col = 3 }, 317, 269, 85273)\n",
            "(Found { row = 1, col = 59 }, 751, 937, 703687)\n",
            "(Found { row = 1, col = 93 }, 630, 848, 534240)\n",
            "(Found { row = 2, col = 10 }, 813, 476, 386988)\n",
            "(Found { row = 2, col = 42 }, 629, 154, 96866)\n",
            "(Found { row = 2, col = 53 }, 518, 821, 425278)\n",
            "(Found { row = 2, col = 122 }, 422, 154, 64988)\n",
            "(Found { row = 3, col = 131 }, 144, 102, 14688)\n",
            "(Found { row = 4, col = 21 }, 855, 534, 456570)\n",
            "(Found { row = 4, col = 46 }, 288, 854, 245952)\n"
          ]
        }
      ],
      "source": [
        "foreach (var p in pairs.Take(10)) {\n",
        "    Console.WriteLine(p);\n",
        "}"
      ]
    },
    {
      "cell_type": "code",
      "execution_count": 31,
      "metadata": {
        "dotnet_interactive": {
          "language": "csharp"
        },
        "polyglot_notebook": {
          "kernelName": "csharp"
        },
        "vscode": {
          "languageId": "polyglot-notebook"
        }
      },
      "outputs": [
        {
          "name": "stdout",
          "output_type": "stream",
          "text": [
            "78915902\n"
          ]
        }
      ],
      "source": [
        "// What is the sum of all of the gear ratios in your engine schematic?\n",
        "\n",
        "var part2Answer = pairs.Select(p =\u003E p.ratio).Sum();\n",
        "Console.WriteLine(part2Answer);"
      ]
    },
    {
      "cell_type": "code",
      "execution_count": 32,
      "metadata": {
        "dotnet_interactive": {
          "language": "csharp"
        },
        "polyglot_notebook": {
          "kernelName": "csharp"
        },
        "vscode": {
          "languageId": "polyglot-notebook"
        }
      },
      "outputs": [],
      "source": [
        "// 78915902 is correct!\n",
        "Ensure(78915902, part2Answer);"
      ]
    }
  ],
  "metadata": {
    "kernelspec": {
      "display_name": ".NET (C#)",
      "language": "C#",
      "name": ".net-csharp"
    },
    "language_info": {
      "name": "python"
    },
    "polyglot_notebook": {
      "kernelInfo": {
        "defaultKernelName": "csharp",
        "items": [
          {
            "aliases": [],
            "name": "csharp"
          }
        ]
      }
    }
  },
  "nbformat": 4,
  "nbformat_minor": 2
}