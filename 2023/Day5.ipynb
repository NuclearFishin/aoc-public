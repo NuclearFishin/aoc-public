{
  "cells": [
    {
      "cell_type": "code",
      "execution_count": 1,
      "metadata": {
        "dotnet_interactive": {
          "language": "csharp"
        },
        "polyglot_notebook": {
          "kernelName": "csharp"
        },
        "vscode": {
          "languageId": "polyglot-notebook"
        }
      },
      "outputs": [],
      "source": [
        "// --- Day 5: If You Give A Seed A Fertilizer ---\n",
        "\n",
        "// Puzzle description redacted as-per Advent of Code guidelines\n",
        "\n",
        "// You may find the puzzle description at: https://adventofcode.com/2023/day/5"
      ]
    },
    {
      "cell_type": "code",
      "execution_count": 2,
      "metadata": {
        "dotnet_interactive": {
          "language": "csharp"
        },
        "polyglot_notebook": {
          "kernelName": "csharp"
        },
        "vscode": {
          "languageId": "polyglot-notebook"
        }
      },
      "outputs": [],
      "source": [
        "#!import ../Utils.ipynb"
      ]
    },
    {
      "cell_type": "code",
      "execution_count": 3,
      "metadata": {
        "dotnet_interactive": {
          "language": "csharp"
        },
        "polyglot_notebook": {
          "kernelName": "csharp"
        },
        "vscode": {
          "languageId": "polyglot-notebook"
        }
      },
      "outputs": [
        {
          "name": "stdout",
          "output_type": "stream",
          "text": [
            "Loading puzzle file: Day5.txt\n",
            "Total lines: 197\n",
            "Max line length: 211\n",
            "\n",
            "seeds: 565778304 341771914 1736484943 907429186 3928647431 87620927 311881326 149873504 1588660730 119852039 1422681143 13548942 1095049712 216743334 3671387621 186617344 3055786218 213191880 2783359478 44001797\n",
            "\n",
            "seed-to-soil map:\n",
            "1136439539 28187015 34421000\n",
            "4130684560 3591141854 62928737\n"
          ]
        }
      ],
      "source": [
        "var inputLines = LoadPuzzleInput(2023, 5);\n",
        "WriteLines(inputLines);"
      ]
    },
    {
      "cell_type": "code",
      "execution_count": 4,
      "metadata": {
        "dotnet_interactive": {
          "language": "csharp"
        },
        "polyglot_notebook": {
          "kernelName": "csharp"
        },
        "vscode": {
          "languageId": "polyglot-notebook"
        }
      },
      "outputs": [
        {
          "name": "stdout",
          "output_type": "stream",
          "text": [
            "81\n",
            "14\n",
            "57\n",
            "13\n"
          ]
        }
      ],
      "source": [
        "record MapEntry(uint destStart, uint sourceStart, uint length) {}\n",
        "\n",
        "class Mapper \n",
        "{\n",
        "    private readonly List\u003CMapEntry\u003E _maps = new();\n",
        "\n",
        "    public uint Map(uint source) {\n",
        "        var matchRow = _maps.Where(m =\u003E m.sourceStart \u003C= source \u0026\u0026 source \u003C m.sourceStart \u002B m.length).SingleOrDefault();\n",
        "        if (matchRow == null) {\n",
        "            return source;\n",
        "        }\n",
        "\n",
        "        var offset = source - matchRow.sourceStart;\n",
        "\n",
        "        return matchRow.destStart \u002B offset;\n",
        "    }\n",
        "\n",
        "    public void Add(uint destStart, uint sourceStart, uint length) {\n",
        "        _maps.Add(new(destStart, sourceStart, length));\n",
        "    }\n",
        "}\n",
        "\n",
        "var test1 = new Mapper();\n",
        "test1.Add(50, 98, 2);\n",
        "test1.Add(52, 50, 48);\n",
        "\n",
        "// Seed number 79 corresponds to soil number 81.\n",
        "Console.WriteLine(test1.Map(79));\n",
        "// Seed number 14 corresponds to soil number 14.\n",
        "Console.WriteLine(test1.Map(14));\n",
        "// Seed number 55 corresponds to soil number 57.\n",
        "Console.WriteLine(test1.Map(55));\n",
        "// Seed number 13 corresponds to soil number 13.\n",
        "Console.WriteLine(test1.Map(13));"
      ]
    },
    {
      "cell_type": "code",
      "execution_count": 5,
      "metadata": {
        "dotnet_interactive": {
          "language": "csharp"
        },
        "polyglot_notebook": {
          "kernelName": "csharp"
        },
        "vscode": {
          "languageId": "polyglot-notebook"
        }
      },
      "outputs": [],
      "source": [
        "var seedMapLine = inputLines[0];\n",
        "\n",
        "Dictionary\u003Cstring, Mapper\u003E mappers = new();\n",
        "Mapper currentMapper = null;\n",
        "foreach (var line in inputLines.Skip(1)) \n",
        "{\n",
        "    if (line.Contains(\u0022map:\u0022)) {\n",
        "        currentMapper = new();\n",
        "        mappers[line] = currentMapper;\n",
        "    } else if (line == \u0022\u0022) {\n",
        "        currentMapper = null;\n",
        "    } else {\n",
        "        var numbers = line.Split(\u0027 \u0027).Select(i =\u003E uint.Parse(i)).ToArray();\n",
        "        currentMapper.Add(numbers[0], numbers[1], numbers[2]);\n",
        "    }\n",
        "}\n",
        "\n",
        "string[] mapOrder = [\n",
        "    \u0022seed-to-soil map:\u0022,\n",
        "    \u0022soil-to-fertilizer map:\u0022,\n",
        "    \u0022fertilizer-to-water map:\u0022,\n",
        "    \u0022water-to-light map:\u0022,\n",
        "    \u0022light-to-temperature map:\u0022,\n",
        "    \u0022temperature-to-humidity map:\u0022,\n",
        "    \u0022humidity-to-location map:\u0022,\n",
        "];\n",
        "\n",
        "uint fullMap(uint source) \n",
        "{\n",
        "    uint result = source;\n",
        "    foreach (var mapper in mapOrder.Select(m =\u003E mappers[m])) {\n",
        "        result = mapper.Map(result);\n",
        "    }\n",
        "    return result;\n",
        "}"
      ]
    },
    {
      "cell_type": "code",
      "execution_count": 6,
      "metadata": {
        "dotnet_interactive": {
          "language": "csharp"
        },
        "polyglot_notebook": {
          "kernelName": "csharp"
        },
        "vscode": {
          "languageId": "polyglot-notebook"
        }
      },
      "outputs": [
        {
          "name": "stdout",
          "output_type": "stream",
          "text": [
            "510109797\n"
          ]
        }
      ],
      "source": [
        "var seedsLine = inputLines[0];\n",
        "\n",
        "var seeds = seedsLine.Substring(7).Split(\u0027 \u0027).Select(s =\u003E uint.Parse((s))).ToArray();\n",
        "var part1Answer = seeds.Select(fullMap).Min();\n",
        "\n",
        "Console.WriteLine(part1Answer);"
      ]
    },
    {
      "cell_type": "code",
      "execution_count": 7,
      "metadata": {
        "dotnet_interactive": {
          "language": "csharp"
        },
        "polyglot_notebook": {
          "kernelName": "csharp"
        },
        "vscode": {
          "languageId": "polyglot-notebook"
        }
      },
      "outputs": [],
      "source": [
        "// 510109797 is correct!\n",
        "Ensure(510109797, part1Answer);"
      ]
    },
    {
      "cell_type": "code",
      "execution_count": 8,
      "metadata": {
        "dotnet_interactive": {
          "language": "csharp"
        },
        "polyglot_notebook": {
          "kernelName": "csharp"
        },
        "vscode": {
          "languageId": "polyglot-notebook"
        }
      },
      "outputs": [],
      "source": [
        "// --- Part Two ---\n",
        "\n",
        "// Puzzle description redacted as-per Advent of Code guidelines\n",
        "\n",
        "// You may find the puzzle description at: https://adventofcode.com/2023/day/5"
      ]
    },
    {
      "cell_type": "code",
      "execution_count": 9,
      "metadata": {
        "dotnet_interactive": {
          "language": "csharp"
        },
        "polyglot_notebook": {
          "kernelName": "csharp"
        },
        "vscode": {
          "languageId": "polyglot-notebook"
        }
      },
      "outputs": [
        {
          "name": "stdout",
          "output_type": "stream",
          "text": [
            "(565778304, 341771914)\n"
          ]
        }
      ],
      "source": [
        "var seedPairs = Enumerable.Range(0, seeds.Length / 2).Select(i =\u003E (seeds[i], seeds[i \u002B 1])).ToArray();\n",
        "Console.WriteLine(seedPairs[0]);"
      ]
    },
    {
      "cell_type": "code",
      "execution_count": 10,
      "metadata": {
        "dotnet_interactive": {
          "language": "csharp"
        },
        "polyglot_notebook": {
          "kernelName": "csharp"
        },
        "vscode": {
          "languageId": "polyglot-notebook"
        }
      },
      "outputs": [],
      "source": [
        "record struct Range(uint from, uint length) {}"
      ]
    },
    {
      "cell_type": "code",
      "execution_count": 11,
      "metadata": {
        "dotnet_interactive": {
          "language": "csharp"
        },
        "polyglot_notebook": {
          "kernelName": "csharp"
        },
        "vscode": {
          "languageId": "polyglot-notebook"
        }
      },
      "outputs": [
        {
          "name": "stdout",
          "output_type": "stream",
          "text": [
            "Range { from = 3, length = 47 }\n",
            "Range { from = 52, length = 48 }\n",
            "Range { from = 50, length = 2 }\n",
            "Range { from = 100, length = 403 }\n"
          ]
        }
      ],
      "source": [
        "class Mapper2\n",
        "{\n",
        "    private readonly List\u003CMapEntry\u003E _maps = new();\n",
        "\n",
        "    public uint Map(uint source) {\n",
        "        var matchRow = _maps.Where(m =\u003E m.sourceStart \u003C= source \u0026\u0026 source \u003C m.sourceStart \u002B m.length).SingleOrDefault();\n",
        "        if (matchRow == null) {\n",
        "            return source;\n",
        "        }\n",
        "\n",
        "        var offset = source - matchRow.sourceStart;\n",
        "\n",
        "        return matchRow.destStart \u002B offset;\n",
        "    }\n",
        "\n",
        "    public void Add(uint destStart, uint sourceStart, uint length) {\n",
        "        _maps.Add(new(destStart, sourceStart, length));\n",
        "    }\n",
        "\n",
        "    public IEnumerable\u003CRange\u003E MapRange(Range range) \n",
        "    {\n",
        "        var rangeEnd = range.from \u002B range.length;\n",
        "        var rangeMatches = _maps.Where(m =\u003E m.sourceStart \u002B m.length \u003E= range.from \u0026\u0026 m.sourceStart \u003C rangeEnd)\n",
        "            .OrderBy(m =\u003E m.sourceStart)\n",
        "            .SelectMany(m =\u003E new[] {m.sourceStart, m.sourceStart \u002B m.length})\n",
        "            .Where(r =\u003E r \u003E range.from \u0026\u0026 r \u003C rangeEnd)\n",
        "            .Concat(new[] { range.from, rangeEnd })\n",
        "            .Distinct()\n",
        "            .OrderBy(r =\u003E r)\n",
        "            .ToList();\n",
        "\n",
        "        foreach (var pairs in rangeMatches.Zip(rangeMatches.Skip(1))) {\n",
        "            var mapSource = Map(pairs.First);\n",
        "            var r = new Range(mapSource, pairs.Second - pairs.First);\n",
        "            yield return r;\n",
        "        }\n",
        "    }\n",
        "}\n",
        "\n",
        "var test1 = new Mapper2();\n",
        "test1.Add(50, 98, 2);\n",
        "test1.Add(52, 50, 48);\n",
        "\n",
        "var testRange = new Range(3, 500);\n",
        "foreach (var x in test1.MapRange(testRange)) {\n",
        "    Console.WriteLine(x);\n",
        "}"
      ]
    },
    {
      "cell_type": "code",
      "execution_count": 12,
      "metadata": {
        "dotnet_interactive": {
          "language": "csharp"
        },
        "polyglot_notebook": {
          "kernelName": "csharp"
        },
        "vscode": {
          "languageId": "polyglot-notebook"
        }
      },
      "outputs": [],
      "source": [
        "Dictionary\u003Cstring, Mapper2\u003E mappers2 = new();\n",
        "{\n",
        "    Mapper2 currentMapper = null;\n",
        "    foreach (var line in inputLines.Skip(1)) \n",
        "    {\n",
        "        if (line.Contains(\u0022map:\u0022)) {\n",
        "            currentMapper = new();\n",
        "            mappers2[line] = currentMapper;\n",
        "        } else if (line == \u0022\u0022) {\n",
        "            currentMapper = null;\n",
        "        } else {\n",
        "            var numbers = line.Split(\u0027 \u0027).Select(i =\u003E uint.Parse(i)).ToArray();\n",
        "            currentMapper.Add(numbers[0], numbers[1], numbers[2]);\n",
        "        }\n",
        "    }\n",
        "}"
      ]
    },
    {
      "cell_type": "code",
      "execution_count": 13,
      "metadata": {
        "dotnet_interactive": {
          "language": "csharp"
        },
        "polyglot_notebook": {
          "kernelName": "csharp"
        },
        "vscode": {
          "languageId": "polyglot-notebook"
        }
      },
      "outputs": [],
      "source": [
        "List\u003CRange\u003E fullMap2(Range source) \n",
        "{\n",
        "    List\u003CRange\u003E result = [source];\n",
        "    foreach (var mapper in mapOrder.Select(m =\u003E mappers2[m])) {\n",
        "        result = result.SelectMany(x =\u003E mapper.MapRange(x)).ToList();\n",
        "    }\n",
        "    return result;\n",
        "}"
      ]
    },
    {
      "cell_type": "code",
      "execution_count": 14,
      "metadata": {
        "dotnet_interactive": {
          "language": "csharp"
        },
        "polyglot_notebook": {
          "kernelName": "csharp"
        },
        "vscode": {
          "languageId": "polyglot-notebook"
        }
      },
      "outputs": [
        {
          "name": "stdout",
          "output_type": "stream",
          "text": [
            "Range { from = 2205270016, length = 28398111 }\n",
            "Range { from = 3854006626, length = 5024044 }\n",
            "Range { from = 35081694, length = 13027333 }\n",
            "Range { from = 677981164, length = 6213439 }\n",
            "Range { from = 722731256, length = 18180873 }\n",
            "Range { from = 1068860974, length = 62085472 }\n",
            "Range { from = 3660075389, length = 15038557 }\n",
            "Range { from = 529753769, length = 26140330 }\n",
            "Range { from = 905148721, length = 68252033 }\n",
            "Range { from = 899704500, length = 5444221 }\n",
            "Range { from = 2183824782, length = 14317667 }\n",
            "Range { from = 2987118178, length = 17179223 }\n",
            "Range { from = 4121411395, length = 21220680 }\n",
            "Range { from = 2973132883, length = 13985295 }\n",
            "Range { from = 2792909967, length = 9628062 }\n",
            "Range { from = 2943635292, length = 1727995 }\n",
            "Range { from = 2468989683, length = 4026632 }\n",
            "Range { from = 2198142449, length = 5812031 }\n",
            "Range { from = 2584594924, length = 6069916 }\n"
          ]
        }
      ],
      "source": [
        "var ranges = seedPairs.Select(sp =\u003E new Range(sp.Item1, sp.Item2)).ToArray();\n",
        "foreach (var res in fullMap2(ranges[0])) {\n",
        "    Console.WriteLine(res);\n",
        "}"
      ]
    },
    {
      "cell_type": "code",
      "execution_count": 15,
      "metadata": {
        "dotnet_interactive": {
          "language": "csharp"
        },
        "polyglot_notebook": {
          "kernelName": "csharp"
        },
        "vscode": {
          "languageId": "polyglot-notebook"
        }
      },
      "outputs": [
        {
          "name": "stdout",
          "output_type": "stream",
          "text": [
            "9622622\n"
          ]
        }
      ],
      "source": [
        "// What is the lowest location number that corresponds to any of the initial seed numbers?\n",
        "\n",
        "var part2Answer = ranges.SelectMany(range =\u003E fullMap2(range)).OrderBy(r =\u003E r.from).First().from;\n",
        "Console.WriteLine(part2Answer);"
      ]
    },
    {
      "cell_type": "code",
      "execution_count": 16,
      "metadata": {
        "dotnet_interactive": {
          "language": "csharp"
        },
        "polyglot_notebook": {
          "kernelName": "csharp"
        },
        "vscode": {
          "languageId": "polyglot-notebook"
        }
      },
      "outputs": [],
      "source": [
        "// 9622622 is correct!\n",
        "Ensure(9622622, part2Answer);"
      ]
    }
  ],
  "metadata": {
    "kernelspec": {
      "display_name": ".NET (C#)",
      "language": "C#",
      "name": ".net-csharp"
    },
    "language_info": {
      "name": "python"
    },
    "polyglot_notebook": {
      "kernelInfo": {
        "defaultKernelName": "csharp",
        "items": [
          {
            "aliases": [],
            "name": "csharp"
          }
        ]
      }
    }
  },
  "nbformat": 4,
  "nbformat_minor": 2
}