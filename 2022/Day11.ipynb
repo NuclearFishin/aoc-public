{
  "cells": [
    {
      "cell_type": "markdown",
      "id": "851a1e37",
      "metadata": {},
      "source": [
        "### --- Day 11: Monkey in the Middle ---\n",
        "\n",
        "Puzzle description redacted as-per Advent of Code guidelines\n",
        "\n",
        "You may find the puzzle description at: https://adventofcode.com/2022/day/11"
      ]
    },
    {
      "cell_type": "code",
      "execution_count": 2,
      "id": "7523118d",
      "metadata": {},
      "outputs": [],
      "source": [
        "#!import ../Utils.ipynb"
      ]
    },
    {
      "cell_type": "code",
      "execution_count": 3,
      "id": "1eaf0fe0",
      "metadata": {},
      "outputs": [
        {
          "name": "stdout",
          "output_type": "stream",
          "text": [
            "Loading puzzle file: Day11.txt\n",
            "Total lines: 55\n",
            "Max line length: 48\n",
            "\n",
            "Monkey 0:\n",
            "  Starting items: 66, 71, 94\n",
            "  Operation: new = old * 5\n",
            "  Test: divisible by 3\n",
            "    If true: throw to monkey 7\n",
            "    If false: throw to monkey 4\n",
            "\n",
            "Monkey 1:\n",
            "  Starting items: 70\n",
            "  Operation: new = old \u002B 6\n",
            "  Test: divisible by 17\n",
            "    If true: throw to monkey 3\n",
            "    If false: throw to monkey 0\n"
          ]
        }
      ],
      "source": [
        "var inputLines = LoadPuzzleInput(2022, 11);\n",
        "WriteLines(inputLines, maxRows: 13);"
      ]
    },
    {
      "cell_type": "code",
      "execution_count": 4,
      "id": "e2d2e1ba",
      "metadata": {},
      "outputs": [],
      "source": [
        "string[] testInputLines = \n",
        "[\n",
        "    \u0022Monkey 0:\u0022,\n",
        "    \u0022  Starting items: 79, 98\u0022,\n",
        "    \u0022  Operation: new = old * 19\u0022,\n",
        "    \u0022  Test: divisible by 23\u0022,\n",
        "    \u0022    If true: throw to monkey 2\u0022,\n",
        "    \u0022    If false: throw to monkey 3\u0022,\n",
        "    \u0022\u0022,\n",
        "    \u0022Monkey 1:\u0022,\n",
        "    \u0022  Starting items: 54, 65, 75, 74\u0022,\n",
        "    \u0022  Operation: new = old \u002B 6\u0022,\n",
        "    \u0022  Test: divisible by 19\u0022,\n",
        "    \u0022    If true: throw to monkey 2\u0022,\n",
        "    \u0022    If false: throw to monkey 0\u0022,\n",
        "    \u0022\u0022,\n",
        "    \u0022Monkey 2:\u0022,\n",
        "    \u0022  Starting items: 79, 60, 97\u0022,\n",
        "    \u0022  Operation: new = old * old\u0022,\n",
        "    \u0022  Test: divisible by 13\u0022,\n",
        "    \u0022    If true: throw to monkey 1\u0022,\n",
        "    \u0022    If false: throw to monkey 3\u0022,\n",
        "    \u0022\u0022,\n",
        "    \u0022Monkey 3:\u0022,\n",
        "    \u0022  Starting items: 74\u0022,\n",
        "    \u0022  Operation: new = old \u002B 3\u0022,\n",
        "    \u0022  Test: divisible by 17\u0022,\n",
        "    \u0022    If true: throw to monkey 0\u0022,\n",
        "    \u0022    If false: throw to monkey 1\u0022,\n",
        "];"
      ]
    },
    {
      "cell_type": "code",
      "execution_count": 5,
      "id": "0d0fbade",
      "metadata": {},
      "outputs": [],
      "source": [
        "// Firstly, let\u0027s parse monkey definitions:\n",
        "\n",
        "// Monkey 0:\n",
        "//   Starting items: 79, 98\n",
        "//   Operation: new = old * 19\n",
        "//   Test: divisible by 23\n",
        "//     If true: throw to monkey 2\n",
        "//     If false: throw to monkey 3\n",
        "\n",
        "using Operation = (char op, string value);\n",
        "\n",
        "class Monkey\n",
        "{\n",
        "    public int Id { get; init; }\n",
        "    public Queue\u003CItem\u003E Items { get; init; }\n",
        "    public Operation Operation { get; init; }\n",
        "    public int DivisibleTest { get; init; }\n",
        "    public int TrueRecipient { get; init; }\n",
        "    public int FalseRecipient { get; init; }\n",
        "    public int InspectionCount { get; set; }\n",
        "}\n",
        "\n",
        "class Item(long worryLevel) \n",
        "{\n",
        "    public long WorryLevel { get; set; } = worryLevel;\n",
        "}\n",
        "\n",
        "int[] Numbers(string inputLine) =\u003E inputLine.ParseAll(@\u0022\\d\u002B\u0022).Select(int.Parse).ToArray();\n",
        "\n",
        "Monkey ParseMonkey(string[] inputLines)\n",
        "{\n",
        "    Monkey monkey = new()\n",
        "    {\n",
        "        Id = Numbers(inputLines[0])[0],\n",
        "        Items = new(Numbers(inputLines[1]).Select(i =\u003E new Item(i))),\n",
        "        Operation = (inputLines[2][23], inputLines[2][25..]),\n",
        "        DivisibleTest = Numbers(inputLines[3])[0],\n",
        "        TrueRecipient = Numbers(inputLines[4])[0],\n",
        "        FalseRecipient = Numbers(inputLines[5])[0],\n",
        "    };\n",
        "\n",
        "    return monkey;\n",
        "}"
      ]
    },
    {
      "cell_type": "code",
      "execution_count": 6,
      "id": "bcd14375",
      "metadata": {},
      "outputs": [],
      "source": [
        "class MonkeyGame\n",
        "{\n",
        "    public List\u003CMonkey\u003E Monkeys { get; init; }\n",
        "\n",
        "    public Func\u003Clong, long\u003E WorryResolver { get; set; } = w =\u003E w / 3;\n",
        "\n",
        "    public void DoMonkeyRound()\n",
        "    {\n",
        "        foreach (var i in Enumerable.Range(0, Monkeys.Count))\n",
        "        {\n",
        "            DoOneMonkey(i);\n",
        "        }\n",
        "    }\n",
        "\n",
        "    void DoOneMonkey(int monkeyId)\n",
        "    {\n",
        "        var monkey = Monkeys[monkeyId];\n",
        "\n",
        "        while (monkey.Items.TryDequeue(out var item))\n",
        "        {\n",
        "            monkey.InspectionCount\u002B\u002B;\n",
        "\n",
        "            var oldWorry = item.WorryLevel;\n",
        "            var newWorry = monkey.Operation switch \n",
        "            {\n",
        "                (\u0027*\u0027, \u0022old\u0022) =\u003E oldWorry * oldWorry,\n",
        "                (\u0027*\u0027, var x) =\u003E oldWorry * long.Parse(x),\n",
        "                (\u0027\u002B\u0027, \u0022old\u0022) =\u003E oldWorry \u002B oldWorry,\n",
        "                (\u0027\u002B\u0027, var x) =\u003E oldWorry \u002B long.Parse(x),\n",
        "                _ =\u003E throw new Exception(\u0022Unexpected operation\u0022)\n",
        "            };\n",
        "            item.WorryLevel = WorryResolver(newWorry);\n",
        "\n",
        "            var nextMonkey = (item.WorryLevel % monkey.DivisibleTest) switch \n",
        "            {\n",
        "                0 =\u003E monkey.TrueRecipient,\n",
        "                _ =\u003E monkey.FalseRecipient\n",
        "            };\n",
        "            Monkeys[nextMonkey].Items.Enqueue(item);\n",
        "        }\n",
        "   }\n",
        "}\n",
        "\n",
        "MonkeyGame ParseMonkeyGame(string[] inputLines)\n",
        "{\n",
        "    var monkeys = inputLines.SeparateBy(line =\u003E line is \u0022\u0022)\n",
        "                    .Select(ParseMonkey)\n",
        "                    .OrderBy(m =\u003E m.Id)\n",
        "                    .ToList();\n",
        "    return new MonkeyGame { Monkeys = monkeys };\n",
        "}\n",
        "\n",
        "long RunMonkeySim(string[] inputLines, int rounds = 20, Func\u003Clong, long\u003E worryResolver = null)\n",
        "{\n",
        "    var monkeyGame = ParseMonkeyGame(inputLines);\n",
        "    \n",
        "    // Spoiler alert: this changes in part 2\n",
        "    var wr = worryResolver ?? monkeyGame.WorryResolver;\n",
        "    monkeyGame.WorryResolver = wr;\n",
        "\n",
        "    foreach (var _ in Enumerable.Range(0, rounds))\n",
        "    {\n",
        "        monkeyGame.DoMonkeyRound();\n",
        "    }\n",
        "\n",
        "    var (a, b) = monkeyGame.Monkeys.Select(m =\u003E m.InspectionCount)\n",
        "                    .OrderByDescending(m =\u003E m)\n",
        "                    .ToArray();\n",
        "    \n",
        "    long result = a;\n",
        "    result *= b;\n",
        "    return result;\n",
        "}"
      ]
    },
    {
      "cell_type": "code",
      "execution_count": 7,
      "id": "c867d51a",
      "metadata": {},
      "outputs": [
        {
          "name": "stdout",
          "output_type": "stream",
          "text": [
            "10605\n"
          ]
        }
      ],
      "source": [
        "// In this example, the two most active monkeys inspected items 101 and 105\n",
        "// times. The level of monkey business in this situation can be found by\n",
        "// multiplying these together: 10605.\n",
        "\n",
        "var testAnswer = RunMonkeySim(testInputLines);\n",
        "Console.WriteLine(testAnswer);"
      ]
    },
    {
      "cell_type": "code",
      "execution_count": 8,
      "id": "d478ff2a",
      "metadata": {},
      "outputs": [
        {
          "name": "stdout",
          "output_type": "stream",
          "text": [
            "55944\n"
          ]
        }
      ],
      "source": [
        "// Figure out which monkeys to chase by counting how many items they inspect\n",
        "// over 20 rounds. What is the level of monkey business after 20 rounds of\n",
        "// stuff-slinging simian shenanigans?\n",
        "\n",
        "var part1Answer = RunMonkeySim(inputLines);\n",
        "Console.WriteLine(part1Answer);"
      ]
    },
    {
      "cell_type": "code",
      "execution_count": 9,
      "id": "b745272c",
      "metadata": {},
      "outputs": [],
      "source": [
        "// 55944 is correct!\n",
        "Ensure(55944, part1Answer);"
      ]
    },
    {
      "cell_type": "markdown",
      "id": "8bc3e46e",
      "metadata": {},
      "source": [
        "### --- Part Two ---\n",
        "\n",
        "Puzzle description redacted as-per Advent of Code guidelines\n",
        "\n",
        "You may find the puzzle description at: https://adventofcode.com/2022/day/11"
      ]
    },
    {
      "cell_type": "markdown",
      "id": "f2b377ff",
      "metadata": {},
      "source": [
        "So after some messing around, I noticed the multiplications performed by the monkey operations will overflow 64-bit integers. I also noticed the divisible tests are all prime numbers! Therefore I think we can truncate the large number into the lowest common multiple of these primes, and the divisible tests will still have the same result. "
      ]
    },
    {
      "cell_type": "code",
      "execution_count": 11,
      "id": "b55c2d67",
      "metadata": {},
      "outputs": [
        {
          "name": "stdout",
          "output_type": "stream",
          "text": [
            "2713310158\n"
          ]
        }
      ],
      "source": [
        "// This number is the product of all the divisible numbers for the testInput\n",
        "// monkeys:\n",
        "Func\u003Clong, long\u003E testWR = a =\u003E a % 96577;\n",
        "\n",
        "// After 10000 rounds, the two most active monkeys inspected items 52166 and\n",
        "// 52013 times. Multiplying these together, the level of monkey business in this\n",
        "// situation is now 2713310158.\n",
        "\n",
        "var part2TestAnswer = RunMonkeySim(testInputLines, rounds: 10_000, worryResolver: testWR);\n",
        "Console.WriteLine(part2TestAnswer);"
      ]
    },
    {
      "cell_type": "code",
      "execution_count": 12,
      "id": "83c4bb28",
      "metadata": {},
      "outputs": [
        {
          "name": "stdout",
          "output_type": "stream",
          "text": [
            "15117269860\n"
          ]
        }
      ],
      "source": [
        "// This number is the product of all the divisible numbers for the puzzle input\n",
        "// monkeys:\n",
        "Func\u003Clong, long\u003E part2WR = a =\u003E a % 9699690;\n",
        "\n",
        "// Starting again from the initial state in your puzzle input, what is the level\n",
        "// of monkey business after 10000 rounds?\n",
        "\n",
        "var part2Answer = RunMonkeySim(inputLines, rounds: 10_000, worryResolver: part2WR);\n",
        "Console.WriteLine(part2Answer);"
      ]
    },
    {
      "cell_type": "code",
      "execution_count": 13,
      "id": "b5ea839a",
      "metadata": {},
      "outputs": [],
      "source": [
        "// 15117269860 is correct!\n",
        "Ensure(15117269860L, part2Answer);"
      ]
    }
  ],
  "metadata": {
    "kernelspec": {
      "display_name": ".NET (C#)",
      "language": "C#",
      "name": ".net-csharp"
    },
    "language_info": {
      "name": "polyglot-notebook"
    },
    "polyglot_notebook": {
      "kernelInfo": {
        "defaultKernelName": "csharp",
        "items": [
          {
            "aliases": [],
            "name": "csharp"
          }
        ]
      }
    }
  },
  "nbformat": 4,
  "nbformat_minor": 5
}