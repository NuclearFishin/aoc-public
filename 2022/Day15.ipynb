{
  "cells": [
    {
      "cell_type": "markdown",
      "id": "6dc39ab8",
      "metadata": {
        "language_info": {
          "name": "polyglot-notebook"
        },
        "polyglot_notebook": {
          "kernelName": "csharp"
        }
      },
      "source": [
        "### --- Day 15: Beacon Exclusion Zone ---\n",
        "\n",
        "Puzzle description redacted as-per Advent of Code guidelines\n",
        "\n",
        "You may find the puzzle description at: https://adventofcode.com/2022/day/15"
      ]
    },
    {
      "cell_type": "code",
      "execution_count": 2,
      "id": "339fb6df",
      "metadata": {
        "language_info": {
          "name": "polyglot-notebook"
        },
        "polyglot_notebook": {
          "kernelName": "csharp"
        }
      },
      "outputs": [],
      "source": [
        "#!import ../Utils.ipynb"
      ]
    },
    {
      "cell_type": "code",
      "execution_count": 3,
      "id": "9623271d",
      "metadata": {
        "language_info": {
          "name": "polyglot-notebook"
        },
        "polyglot_notebook": {
          "kernelName": "csharp"
        }
      },
      "outputs": [
        {
          "name": "stdout",
          "output_type": "stream",
          "text": [
            "Loading puzzle file: Day15.txt\n",
            "Total lines: 28\n",
            "Max line length: 73\n",
            "\n",
            "Sensor at x=3088287, y=2966967: closest beacon is at x=3340990, y=2451747\n",
            "Sensor at x=289570, y=339999: closest beacon is at x=20077, y=1235084\n",
            "Sensor at x=1940197, y=3386754: closest beacon is at x=2010485, y=3291030\n",
            "Sensor at x=1979355, y=2150711: closest beacon is at x=1690952, y=2000000\n",
            "Sensor at x=2859415, y=1555438: closest beacon is at x=3340990, y=2451747\n"
          ]
        }
      ],
      "source": [
        "var inputLines = LoadPuzzleInput(2022, 15);\n",
        "WriteLines(inputLines);"
      ]
    },
    {
      "cell_type": "code",
      "execution_count": 4,
      "id": "286dba49",
      "metadata": {
        "language_info": {
          "name": "polyglot-notebook"
        },
        "polyglot_notebook": {
          "kernelName": "csharp"
        }
      },
      "outputs": [],
      "source": [
        "string[] testInputLines = \n",
        "[\n",
        "    \u0022Sensor at x=2, y=18: closest beacon is at x=-2, y=15\u0022,\n",
        "    \u0022Sensor at x=9, y=16: closest beacon is at x=10, y=16\u0022,\n",
        "    \u0022Sensor at x=13, y=2: closest beacon is at x=15, y=3\u0022,\n",
        "    \u0022Sensor at x=12, y=14: closest beacon is at x=10, y=16\u0022,\n",
        "    \u0022Sensor at x=10, y=20: closest beacon is at x=10, y=16\u0022,\n",
        "    \u0022Sensor at x=14, y=17: closest beacon is at x=10, y=16\u0022,\n",
        "    \u0022Sensor at x=8, y=7: closest beacon is at x=2, y=10\u0022,\n",
        "    \u0022Sensor at x=2, y=0: closest beacon is at x=2, y=10\u0022,\n",
        "    \u0022Sensor at x=0, y=11: closest beacon is at x=2, y=10\u0022,\n",
        "    \u0022Sensor at x=20, y=14: closest beacon is at x=25, y=17\u0022,\n",
        "    \u0022Sensor at x=17, y=20: closest beacon is at x=21, y=22\u0022,\n",
        "    \u0022Sensor at x=16, y=7: closest beacon is at x=15, y=3\u0022,\n",
        "    \u0022Sensor at x=14, y=3: closest beacon is at x=15, y=3\u0022,\n",
        "    \u0022Sensor at x=20, y=1: closest beacon is at x=15, y=3\u0022,\n",
        "];"
      ]
    },
    {
      "cell_type": "code",
      "execution_count": 5,
      "id": "db14eb95",
      "metadata": {
        "language_info": {
          "name": "polyglot-notebook"
        },
        "polyglot_notebook": {
          "kernelName": "csharp"
        }
      },
      "outputs": [],
      "source": [
        "/// \u003Csummary\u003E\n",
        "/// Explore all points for given Manhattan distance\n",
        "/// \u003C/summary\u003E\n",
        "IEnumerable\u003CPoint\u003EExplore(int distance)\n",
        "{\n",
        "    var yDist = (int x) =\u003E distance - Math.Abs(x);\n",
        "\n",
        "    foreach (var x in Enumerable.Range(-distance, distance * 2 \u002B 1))\n",
        "    foreach (var y in Enumerable.Range(-yDist(x), yDist(x) * 2 \u002B 1))\n",
        "    {\n",
        "        yield return (x, y);\n",
        "    }\n",
        "}"
      ]
    },
    {
      "cell_type": "code",
      "execution_count": 6,
      "id": "a721542a",
      "metadata": {
        "language_info": {
          "name": "polyglot-notebook"
        },
        "polyglot_notebook": {
          "kernelName": "csharp"
        }
      },
      "outputs": [],
      "source": [
        "int Distance(int a, int b) =\u003E Math.Abs(a - b);\n",
        "int Distance(Point a, Point b) =\u003E Distance(a.X, b.X) \u002B Distance(a.Y, b.Y);"
      ]
    },
    {
      "cell_type": "code",
      "execution_count": 7,
      "metadata": {
        "language_info": {
          "name": "polyglot-notebook"
        },
        "polyglot_notebook": {
          "kernelName": "csharp"
        }
      },
      "outputs": [
        {
          "name": "stdout",
          "output_type": "stream",
          "text": [
            "26\n"
          ]
        }
      ],
      "source": [
        "int FindNoBeacons(string[] inputLines, int checkRow)\n",
        "{\n",
        "    HashSet\u003CPoint\u003E noBeaconSet = new();\n",
        "\n",
        "    foreach (var line in inputLines[..])\n",
        "    {\n",
        "        var (x, y, a, b) = line.ParseInts().ToArray();\n",
        "\n",
        "        Point sensor = (x, y);\n",
        "        Point beacon = (a, b);\n",
        "\n",
        "        var distance = Distance(sensor, beacon);\n",
        "\n",
        "        var noBeacons = Explore(distance)\n",
        "            .Select(p =\u003E sensor \u002B p)\n",
        "            .Where(p =\u003E p != beacon)\n",
        "            .Where(p =\u003E p.Y == checkRow);\n",
        "\n",
        "        noBeaconSet.UnionWith(noBeacons);\n",
        "    }\n",
        "    \n",
        "    return noBeaconSet.Count;\n",
        "}\n",
        "\n",
        "var testAnswer = FindNoBeacons(testInputLines, 10);\n",
        "Console.WriteLine(testAnswer);"
      ]
    },
    {
      "cell_type": "code",
      "execution_count": 8,
      "metadata": {
        "language_info": {
          "name": "polyglot-notebook"
        },
        "polyglot_notebook": {
          "kernelName": "csharp"
        }
      },
      "outputs": [],
      "source": [
        "// This takes too long to run!\n",
        "\n",
        "// var part1Answer = FindNoBeacons(inputLines, 2000000);\n",
        "// Console.WriteLine(part1Answer);"
      ]
    },
    {
      "cell_type": "markdown",
      "metadata": {
        "language_info": {
          "name": "polyglot-notebook"
        },
        "polyglot_notebook": {
          "kernelName": "csharp"
        }
      },
      "source": [
        "In retrospect, the above takes way too long as it calculates the entire \u0022exploration diamond\u0022 when we only care about a specific line. Some of the sensors may not even reach the line in question. I guess we need to rewrite to explore the target line only. Let\u0027s try again..."
      ]
    },
    {
      "cell_type": "code",
      "execution_count": 9,
      "id": "65c3912f",
      "metadata": {
        "language_info": {
          "name": "polyglot-notebook"
        },
        "polyglot_notebook": {
          "kernelName": "csharp"
        }
      },
      "outputs": [],
      "source": [
        "int FindNoBeaconLine(string[] inputLines, int targetLine)\n",
        "{\n",
        "    HashSet\u003CPoint\u003E noBeacons = new();\n",
        "    HashSet\u003CPoint\u003E hardware = new();\n",
        "\n",
        "    foreach (var line in inputLines)\n",
        "    {\n",
        "        var (x, y, a, b) = line.ParseInts().ToArray();\n",
        "\n",
        "        Point sensor = (x, y);\n",
        "        Point beacon = (a, b);\n",
        "\n",
        "        hardware.Add(beacon);\n",
        "\n",
        "        var distance = Distance((x, y), (a, b));\n",
        "        var ySteps = Distance(y, targetLine);\n",
        "\n",
        "        // Distance too far?\n",
        "        if (ySteps \u003E distance) { continue; }\n",
        "\n",
        "        var xSteps = distance - ySteps;\n",
        "        var xRange = Enumerable.Range(-xSteps, 2 * xSteps \u002B 1);\n",
        "        var noBeaconLine = xRange.Select(r =\u003E new Point(x \u002B r, targetLine));\n",
        "\n",
        "        noBeacons.UnionWith(noBeaconLine);\n",
        "    }\n",
        "\n",
        "    noBeacons.ExceptWith(hardware);\n",
        "\n",
        "    return noBeacons.Count();\n",
        "}"
      ]
    },
    {
      "cell_type": "code",
      "execution_count": 10,
      "metadata": {
        "language_info": {
          "name": "polyglot-notebook"
        },
        "polyglot_notebook": {
          "kernelName": "csharp"
        }
      },
      "outputs": [
        {
          "name": "stdout",
          "output_type": "stream",
          "text": [
            "26\n"
          ]
        }
      ],
      "source": [
        "// In this example, in the row where y=10, there are 26 positions...\n",
        "\n",
        "var testAnswer2 = FindNoBeaconLine(testInputLines, 10);\n",
        "Console.WriteLine(testAnswer2);"
      ]
    },
    {
      "cell_type": "code",
      "execution_count": 11,
      "metadata": {
        "language_info": {
          "name": "polyglot-notebook"
        },
        "polyglot_notebook": {
          "kernelName": "csharp"
        }
      },
      "outputs": [
        {
          "name": "stdout",
          "output_type": "stream",
          "text": [
            "5142231\n"
          ]
        }
      ],
      "source": [
        "// Consult the report from the sensors you just deployed. In the row where\n",
        "// y=2000000, how many positions cannot contain a beacon?\n",
        "\n",
        "var part1Answer = FindNoBeaconLine(inputLines, targetLine: 2000000);\n",
        "Console.WriteLine(part1Answer);"
      ]
    },
    {
      "cell_type": "code",
      "execution_count": 12,
      "metadata": {
        "language_info": {
          "name": "polyglot-notebook"
        },
        "polyglot_notebook": {
          "kernelName": "csharp"
        }
      },
      "outputs": [],
      "source": [
        "// 5142231 is correct!\n",
        "Ensure(5142231, part1Answer);"
      ]
    },
    {
      "cell_type": "markdown",
      "metadata": {
        "language_info": {
          "name": "polyglot-notebook"
        },
        "polyglot_notebook": {
          "kernelName": "csharp"
        }
      },
      "source": [
        "### --- Part Two ---\n",
        "\n",
        "Puzzle description redacted as-per Advent of Code guidelines\n",
        "\n",
        "You may find the puzzle description at: https://adventofcode.com/2022/day/15"
      ]
    },
    {
      "cell_type": "markdown",
      "metadata": {
        "language_info": {
          "name": "polyglot-notebook"
        },
        "polyglot_notebook": {
          "kernelName": "csharp"
        }
      },
      "source": [
        "Hmm, this seems like another case where the simplest approach will be too computationally expensive. I don\u0027t think applying our row-wise approach from part 1 will be efficient enough for 4,000,000 rows in part 2.\n",
        "\n",
        "From our experience with other AoC puzzles, often this means there is some kind of aggregate approach. In this case, we know that each sensor\u0027s effect on a given row is always a contiguous range. Perhaps we can merge these ranges together until they fill the complete row, in which case we know the distress beacon is not there. Likewise we know that beacon row will be two ranges split at exactly one point.\n",
        "\n",
        "Let\u0027s start by modelling the range:"
      ]
    },
    {
      "cell_type": "code",
      "execution_count": 14,
      "id": "45f2a8d9",
      "metadata": {
        "language_info": {
          "name": "polyglot-notebook"
        },
        "polyglot_notebook": {
          "kernelName": "csharp"
        }
      },
      "outputs": [],
      "source": [
        "record Range\n",
        "{\n",
        "    public Range(int from, int to)\n",
        "    {\n",
        "        (From, To) = from \u003C to ? (from, to) : (to, from);\n",
        "    }\n",
        "\n",
        "    public int From { get; private set; }\n",
        "    public int To { get; private set; }\n",
        "\n",
        "    public int Count =\u003E To - From \u002B 1;\n",
        "\n",
        "    public override string ToString() =\u003E $\u0022{From} -\u003E {To}\u0022;\n",
        "\n",
        "    public bool TryMerge(Range other, out Range result)\n",
        "    {\n",
        "        var (left, right) = Order(this, other);\n",
        "\n",
        "        if (left.To \u002B 1 \u003C right.From)\n",
        "        {\n",
        "            result = default;\n",
        "            return false;\n",
        "        }\n",
        "\n",
        "        result = new(left.From, Math.Max(left.To, right.To));\n",
        "        return true;\n",
        "    }\n",
        "\n",
        "    public static (Range left, Range Right) Order(Range a, Range b)\n",
        "    {\n",
        "        return a.From \u003C= b.From ? (a, b) : (b, a);\n",
        "    }\n",
        "}"
      ]
    },
    {
      "cell_type": "code",
      "execution_count": 15,
      "metadata": {
        "language_info": {
          "name": "polyglot-notebook"
        },
        "polyglot_notebook": {
          "kernelName": "csharp"
        }
      },
      "outputs": [],
      "source": [
        "// To isolate the distress beacon\u0027s signal, you need to determine its tuning\n",
        "// frequency, which can be found by multiplying its x coordinate by 4000000 and\n",
        "// then adding its y coordinate.\n",
        "\n",
        "static long TuningFrequency(Point p) =\u003E 4000000L * p.X \u002B p.Y;"
      ]
    },
    {
      "cell_type": "code",
      "execution_count": 16,
      "metadata": {
        "language_info": {
          "name": "polyglot-notebook"
        },
        "polyglot_notebook": {
          "kernelName": "csharp"
        }
      },
      "outputs": [],
      "source": [
        "long FindDistressBeacon(string[] inputLines, int targetMax)\n",
        "{\n",
        "    List\u003CRange\u003E[] rowRanges = new List\u003CRange\u003E[targetMax \u002B 1];\n",
        "\n",
        "    foreach (var line in inputLines)\n",
        "    {\n",
        "        var (x, y, a, b) = line.ParseInts().ToArray();\n",
        "\n",
        "        Point sensor = (x, y);\n",
        "        Point beacon = (a, b);\n",
        "        var distance = Distance(sensor, beacon);\n",
        "\n",
        "        for (var targetLine = 0; targetLine \u003C= targetMax; targetLine\u002B\u002B)\n",
        "        {\n",
        "            var ySteps = Distance(y, targetLine);\n",
        "\n",
        "            // Distance too far?\n",
        "            if (ySteps \u003E distance) { continue; }\n",
        "\n",
        "            var xSteps = distance - ySteps;\n",
        "            Range xRange = new(\n",
        "                from: Math.Max(sensor.X - xSteps, 0),\n",
        "                to: Math.Min(sensor.X \u002B xSteps, targetMax)\n",
        "            );\n",
        "\n",
        "            var rowRange = rowRanges[targetLine] ??= new();\n",
        "            foreach (var r in rowRange.ToList())\n",
        "            {\n",
        "                if (xRange.TryMerge(r, out var merged))\n",
        "                {\n",
        "                    rowRange.Remove(r);\n",
        "                    xRange = merged;\n",
        "                }\n",
        "            }\n",
        "            rowRange.Add(xRange);\n",
        "        }\n",
        "    }\n",
        "\n",
        "    long result = -1;\n",
        "    for (var y = 0; y \u003C rowRanges.Length; y\u002B\u002B)\n",
        "    {\n",
        "        var rangeRow = rowRanges[y];\n",
        "\n",
        "        if (rangeRow is [var a, var b])\n",
        "        {\n",
        "            // The split we\u0027re looking for\n",
        "            var x = a switch {\n",
        "                { From: 0, To: var t } =\u003E t \u002B 1,\n",
        "                { From: var f } =\u003E f - 1\n",
        "            };\n",
        "            result = TuningFrequency((x, y));\n",
        "            break;\n",
        "        }\n",
        "\n",
        "        // For now, ignore the unlikely possibility of the beacon being at the\n",
        "        // start / end of the row!\n",
        "    }\n",
        "\n",
        "    return result;\n",
        "}"
      ]
    },
    {
      "cell_type": "code",
      "execution_count": 17,
      "metadata": {
        "language_info": {
          "name": "polyglot-notebook"
        },
        "polyglot_notebook": {
          "kernelName": "csharp"
        }
      },
      "outputs": [
        {
          "name": "stdout",
          "output_type": "stream",
          "text": [
            "56000011\n"
          ]
        }
      ],
      "source": [
        "// In the example above... The tuning frequency for this distress beacon is\n",
        "// 56000011.\n",
        "\n",
        "var part2TestAnswer = FindDistressBeacon(testInputLines, targetMax: 20);\n",
        "Console.WriteLine(part2TestAnswer);"
      ]
    },
    {
      "cell_type": "code",
      "execution_count": 18,
      "metadata": {
        "language_info": {
          "name": "polyglot-notebook"
        },
        "polyglot_notebook": {
          "kernelName": "csharp"
        }
      },
      "outputs": [
        {
          "name": "stdout",
          "output_type": "stream",
          "text": [
            "10884459367718\n"
          ]
        }
      ],
      "source": [
        "// Find the only possible position for the distress beacon. What is its tuning\n",
        "// frequency?\n",
        "\n",
        "var part2Answer = FindDistressBeacon(inputLines, targetMax: 4000000);\n",
        "Console.WriteLine(part2Answer);"
      ]
    },
    {
      "cell_type": "code",
      "execution_count": 19,
      "metadata": {
        "language_info": {
          "name": "polyglot-notebook"
        },
        "polyglot_notebook": {
          "kernelName": "csharp"
        }
      },
      "outputs": [],
      "source": [
        "// 10884459367718 is correct!\n",
        "Ensure(10884459367718L, part2Answer);"
      ]
    },
    {
      "cell_type": "markdown",
      "metadata": {
        "language_info": {
          "name": "polyglot-notebook"
        },
        "polyglot_notebook": {
          "kernelName": "csharp"
        }
      },
      "source": [
        "## Exploration\n",
        "\n",
        "Looks like our approach for part 2 worked, but are there any other approaches I missed? Looking at Peter Norvig\u0027s solution, he had the insight that the distress beacon will always reside on the perimeter of the sensors\u0027 ranges. \n",
        "\n",
        "I thought I could try a set-based solution whereby we take the set of edge points __on__ the perimeter of the sensors, then test the points outside the perimeter- if it is bordered on all four sides by edges, it must be the distress beacon. Whilst it is true that the distress beacon must be bordered by edges on all sides, it turns out this returns too many false positives, as sensor ranges can overlap, resulting in many points bordered on all sides by edges.\n",
        "\n",
        "For example here are the edges of the test input:\n",
        "\n",
        "\u0060\u0060\u0060\n",
        "......#...#.#.#.....\n",
        ".....#.....#.#.#....\n",
        "....#.....#.#.#.#...\n",
        "...#.....#.#.#.#.#..\n",
        "..#.....#...#.#.#.#.\n",
        ".#.....#.....#.#.#.#\n",
        "#.....#.....#...#.#.\n",
        ".....#.....#.....#.#\n",
        "#...#.......#...#.#.\n",
        ".#.#.........#.#.#.#\n",
        "..#.........#.#.#.#.\n",
        "..##.......#.#.#.#..\n",
        ".####.....#.#.#.#...\n",
        "##..##...#.#.#.#....\n",
        "#....##.#.#.#...##..\n",
        "......##.#.#.#.####.\n",
        ".......##.#...##..##\n",
        "........##.#.###...#\n",
        "........###.##..#.#.\n",
        ".......##..###...#..\n",
        "\u0060\u0060\u0060\n",
        "\n",
        "Having scrapped this approach, instead I\u0027ll try Peter\u0027s approach of testing all the perimeter points and excluding those within the range of any sensor - the remaining point is the distress beacon!"
      ]
    },
    {
      "cell_type": "code",
      "execution_count": 20,
      "metadata": {
        "language_info": {
          "name": "polyglot-notebook"
        },
        "polyglot_notebook": {
          "kernelName": "csharp"
        }
      },
      "outputs": [],
      "source": [
        "IEnumerable\u003CPoint\u003E Perimeter(Point centroid, int distance)\n",
        "{\n",
        "    var trace = centroid \u002B (Up * distance);\n",
        "    Point[] directions = [Down \u002B Right, Down \u002B Left, Up \u002B Left, Up \u002B Right];\n",
        "\n",
        "    foreach (var dir in directions)\n",
        "    foreach (var _ in Enumerable.Range(0, distance))\n",
        "    {\n",
        "        trace \u002B= dir;\n",
        "        yield return trace;\n",
        "    } \n",
        "}"
      ]
    },
    {
      "cell_type": "code",
      "execution_count": 21,
      "metadata": {
        "language_info": {
          "name": "polyglot-notebook"
        },
        "polyglot_notebook": {
          "kernelName": "csharp"
        }
      },
      "outputs": [],
      "source": [
        "IEnumerable\u003CPoint\u003E Perimeter(Point sensor, Point beacon)\n",
        "    =\u003E Perimeter(sensor, Distance(sensor, beacon) \u002B 1);\n",
        "\n",
        "long SolvePart2ViaParameter(string[] inputLines, int rangeMax)\n",
        "{\n",
        "    var sbq = from l in inputLines\n",
        "              let ints = l.ParseInts().ToArray()\n",
        "              let sensor = new Point(ints[0], ints[1])\n",
        "              let beacon = new Point(ints[2], ints[3])\n",
        "              let distance = Distance(sensor, beacon)\n",
        "              select (sensor, beacon, distance);\n",
        "    var sensorBeacons = sbq.ToList();\n",
        "\n",
        "    var pq = from sb in sensorBeacons\n",
        "             from p in Perimeter(sb.sensor, sb.beacon)\n",
        "             where p.X \u003E= 0 \u0026\u0026 p.X \u003C= rangeMax\n",
        "             where p.Y \u003E= 0 \u0026\u0026 p.Y \u003C= rangeMax\n",
        "             where !sensorBeacons.Any(sb2 =\u003E Distance(sb2.sensor, p) \u003C= sb2.distance)\n",
        "             select p;\n",
        "    return TuningFrequency(pq.First());\n",
        "}"
      ]
    },
    {
      "cell_type": "code",
      "execution_count": 22,
      "metadata": {
        "language_info": {
          "name": "polyglot-notebook"
        },
        "polyglot_notebook": {
          "kernelName": "csharp"
        }
      },
      "outputs": [
        {
          "name": "stdout",
          "output_type": "stream",
          "text": [
            "56000011\n",
            "10884459367718\n"
          ]
        }
      ],
      "source": [
        "var part2TestAnswer2 = SolvePart2ViaParameter(testInputLines, 20);\n",
        "Console.WriteLine(part2TestAnswer2);\n",
        "Ensure(56000011, part2TestAnswer2);\n",
        "\n",
        "var part2Answer2 = SolvePart2ViaParameter(inputLines, 4000000);\n",
        "Console.WriteLine(part2Answer2);\n",
        "Ensure(10884459367718L, part2Answer2);"
      ]
    },
    {
      "cell_type": "markdown",
      "metadata": {
        "language_info": {
          "name": "polyglot-notebook"
        },
        "polyglot_notebook": {
          "kernelName": "csharp"
        }
      },
      "source": [
        "Final comment: originally I wrote \u0060SolvePart2ViaParameter\u0060 as a series of \u0060foreach\u0060 loops, and the runtime was around 10 seconds. For aesthetic reasons I rewrote it as a couple of LINQ expressions and runtime dropped to under a second! I was super surprised by this- rarely have I ever experienced _any_ runtime improvement when rewriting to LINQ expressions, let alone a tenfold improvement! I am curious to look into why, but I\u0027ll force myself to park it for now and move on to the next puzzle \uD83D\uDE0A "
      ]
    }
  ],
  "metadata": {
    "kernelspec": {
      "display_name": ".NET (C#)",
      "language": "C#",
      "name": ".net-csharp"
    },
    "language_info": {
      "name": "polyglot-notebook"
    },
    "polyglot_notebook": {
      "kernelInfo": {
        "defaultKernelName": "csharp",
        "items": [
          {
            "aliases": [],
            "name": "csharp"
          }
        ]
      }
    }
  },
  "nbformat": 4,
  "nbformat_minor": 5
}