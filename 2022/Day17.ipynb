{
  "cells": [
    {
      "cell_type": "markdown",
      "id": "6af51ded",
      "metadata": {
        "language_info": {
          "name": "polyglot-notebook"
        },
        "polyglot_notebook": {
          "kernelName": "csharp"
        }
      },
      "source": [
        "### --- Day 17: Pyroclastic Flow ---\n",
        "\n",
        "Puzzle description redacted as-per Advent of Code guidelines\n",
        "\n",
        "You may find the puzzle description at: https://adventofcode.com/2022/day/17"
      ]
    },
    {
      "cell_type": "code",
      "execution_count": 2,
      "id": "3803ff03",
      "metadata": {
        "language_info": {
          "name": "polyglot-notebook"
        },
        "polyglot_notebook": {
          "kernelName": "csharp"
        }
      },
      "outputs": [],
      "source": [
        "#!import ../Utils.ipynb"
      ]
    },
    {
      "cell_type": "code",
      "execution_count": 3,
      "id": "9b7a7397",
      "metadata": {
        "language_info": {
          "name": "polyglot-notebook"
        },
        "polyglot_notebook": {
          "kernelName": "csharp"
        }
      },
      "outputs": [
        {
          "name": "stdout",
          "output_type": "stream",
          "text": [
            "Loading puzzle file: Day17.txt\n",
            "Total lines: 1\n",
            "Max line length: 10091\n",
            "\n",
            "\u003E\u003E\u003E\u003E\u003C\u003C\u003C\u003C\u003E\u003E\u003E\u003E\u003C\u003E\u003E\u003E\u003E\u003C\u003C\u003C\u003E\u003E\u003C\u003C\u003C\u003E\u003E\u003E\u003C\u003C\u003E\u003C\u003C\u003E\u003E\u003E\u003C\u003C\u003E\u003E\u003E\u003C\u003C\u003C\u003E\u003E\u003E\u003E\u003C\u003E\n"
          ]
        }
      ],
      "source": [
        "var inputLines = LoadPuzzleInput(2022, 17);\n",
        "WriteLines(inputLines, maxCols: 50);"
      ]
    },
    {
      "cell_type": "code",
      "execution_count": 4,
      "id": "c1208e2c",
      "metadata": {
        "language_info": {
          "name": "polyglot-notebook"
        },
        "polyglot_notebook": {
          "kernelName": "csharp"
        }
      },
      "outputs": [],
      "source": [
        "string[] testInputLines = [\n",
        "    \u0022\u003E\u003E\u003E\u003C\u003C\u003E\u003C\u003E\u003E\u003C\u003C\u003C\u003E\u003E\u003C\u003E\u003E\u003E\u003C\u003C\u003C\u003E\u003E\u003E\u003C\u003C\u003C\u003E\u003C\u003C\u003C\u003E\u003E\u003C\u003E\u003E\u003C\u003C\u003E\u003E\u0022\n",
        "];"
      ]
    },
    {
      "cell_type": "code",
      "execution_count": 5,
      "id": "12d40eb6",
      "metadata": {
        "language_info": {
          "name": "polyglot-notebook"
        },
        "polyglot_notebook": {
          "kernelName": "csharp"
        }
      },
      "outputs": [],
      "source": [
        "string[] shapes = [\n",
        "    \u0022####\u0022,\n",
        "    \u0022\u0022,\n",
        "    \u0022.#.\u0022,\n",
        "    \u0022###\u0022,\n",
        "    \u0022.#.\u0022,\n",
        "    \u0022\u0022,\n",
        "    \u0022..#\u0022,\n",
        "    \u0022..#\u0022,\n",
        "    \u0022###\u0022,\n",
        "    \u0022\u0022,\n",
        "    \u0022#\u0022,\n",
        "    \u0022#\u0022,\n",
        "    \u0022#\u0022,\n",
        "    \u0022#\u0022,\n",
        "    \u0022\u0022,\n",
        "    \u0022##\u0022,\n",
        "    \u0022##\u0022,\n",
        "];"
      ]
    },
    {
      "cell_type": "code",
      "execution_count": 6,
      "id": "6d2c623e",
      "metadata": {
        "language_info": {
          "name": "polyglot-notebook"
        },
        "polyglot_notebook": {
          "kernelName": "csharp"
        }
      },
      "outputs": [
        {
          "data": {
            "text/html": [
              "\u003Ctable\u003E\u003Cthead\u003E\u003Ctr\u003E\u003Cth\u003E\u003Ci\u003Eindex\u003C/i\u003E\u003C/th\u003E\u003Cth\u003Evalue\u003C/th\u003E\u003C/tr\u003E\u003C/thead\u003E\u003Ctbody\u003E\u003Ctr\u003E\u003Ctd\u003E0\u003C/td\u003E\u003Ctd\u003E\u003Cdetails class=\u0022dni-treeview\u0022\u003E\u003Csummary\u003E\u003Cspan class=\u0022dni-code-hint\u0022\u003E\u003Ccode\u003E[ (0, 0), (1, 0), (2, 0), (3, 0) ]\u003C/code\u003E\u003C/span\u003E\u003C/summary\u003E\u003Cdiv\u003E\u003Ctable\u003E\u003Cthead\u003E\u003Ctr\u003E\u003C/tr\u003E\u003C/thead\u003E\u003Ctbody\u003E\u003Ctr\u003E\u003Ctd\u003ECount\u003C/td\u003E\u003Ctd\u003E\u003Cdiv class=\u0022dni-plaintext\u0022\u003E\u003Cpre\u003E4\u003C/pre\u003E\u003C/div\u003E\u003C/td\u003E\u003C/tr\u003E\u003Ctr\u003E\u003Ctd\u003ECapacity\u003C/td\u003E\u003Ctd\u003E\u003Cdiv class=\u0022dni-plaintext\u0022\u003E\u003Cpre\u003E7\u003C/pre\u003E\u003C/div\u003E\u003C/td\u003E\u003C/tr\u003E\u003Ctr\u003E\u003Ctd\u003EComparer\u003C/td\u003E\u003Ctd\u003E\u003Cdetails class=\u0022dni-treeview\u0022\u003E\u003Csummary\u003E\u003Cspan class=\u0022dni-code-hint\u0022\u003E\u003Ccode\u003ESystem.Collections.Generic.GenericEqualityComparer\u00601[Submission#12\u002BPoint]\u003C/code\u003E\u003C/span\u003E\u003C/summary\u003E\u003Cdiv\u003E\u003Ctable\u003E\u003Cthead\u003E\u003Ctr\u003E\u003C/tr\u003E\u003C/thead\u003E\u003Ctbody\u003E\u003C/tbody\u003E\u003C/table\u003E\u003C/div\u003E\u003C/details\u003E\u003C/td\u003E\u003C/tr\u003E\u003Ctr\u003E\u003Ctd\u003E\u003Ci\u003E(values)\u003C/i\u003E\u003C/td\u003E\u003Ctd\u003E\u003Ctable\u003E\u003Cthead\u003E\u003Ctr\u003E\u003Cth\u003E\u003Ci\u003Eindex\u003C/i\u003E\u003C/th\u003E\u003Cth\u003Evalue\u003C/th\u003E\u003C/tr\u003E\u003C/thead\u003E\u003Ctbody\u003E\u003Ctr\u003E\u003Ctd\u003E0\u003C/td\u003E\u003Ctd\u003E\u003Cdetails class=\u0022dni-treeview\u0022\u003E\u003Csummary\u003E\u003Cspan class=\u0022dni-code-hint\u0022\u003E\u003Ccode\u003E(0, 0)\u003C/code\u003E\u003C/span\u003E\u003C/summary\u003E\u003Cdiv\u003E\u003Ctable\u003E\u003Cthead\u003E\u003Ctr\u003E\u003C/tr\u003E\u003C/thead\u003E\u003Ctbody\u003E\u003Ctr\u003E\u003Ctd\u003EX\u003C/td\u003E\u003Ctd\u003E\u003Cdiv class=\u0022dni-plaintext\u0022\u003E\u003Cpre\u003E0\u003C/pre\u003E\u003C/div\u003E\u003C/td\u003E\u003C/tr\u003E\u003Ctr\u003E\u003Ctd\u003EY\u003C/td\u003E\u003Ctd\u003E\u003Cdiv class=\u0022dni-plaintext\u0022\u003E\u003Cpre\u003E0\u003C/pre\u003E\u003C/div\u003E\u003C/td\u003E\u003C/tr\u003E\u003C/tbody\u003E\u003C/table\u003E\u003C/div\u003E\u003C/details\u003E\u003C/td\u003E\u003C/tr\u003E\u003Ctr\u003E\u003Ctd\u003E1\u003C/td\u003E\u003Ctd\u003E\u003Cdetails class=\u0022dni-treeview\u0022\u003E\u003Csummary\u003E\u003Cspan class=\u0022dni-code-hint\u0022\u003E\u003Ccode\u003E(1, 0)\u003C/code\u003E\u003C/span\u003E\u003C/summary\u003E\u003Cdiv\u003E\u003Ctable\u003E\u003Cthead\u003E\u003Ctr\u003E\u003C/tr\u003E\u003C/thead\u003E\u003Ctbody\u003E\u003Ctr\u003E\u003Ctd\u003EX\u003C/td\u003E\u003Ctd\u003E\u003Cdiv class=\u0022dni-plaintext\u0022\u003E\u003Cpre\u003E1\u003C/pre\u003E\u003C/div\u003E\u003C/td\u003E\u003C/tr\u003E\u003Ctr\u003E\u003Ctd\u003EY\u003C/td\u003E\u003Ctd\u003E\u003Cdiv class=\u0022dni-plaintext\u0022\u003E\u003Cpre\u003E0\u003C/pre\u003E\u003C/div\u003E\u003C/td\u003E\u003C/tr\u003E\u003C/tbody\u003E\u003C/table\u003E\u003C/div\u003E\u003C/details\u003E\u003C/td\u003E\u003C/tr\u003E\u003Ctr\u003E\u003Ctd\u003E2\u003C/td\u003E\u003Ctd\u003E\u003Cdetails class=\u0022dni-treeview\u0022\u003E\u003Csummary\u003E\u003Cspan class=\u0022dni-code-hint\u0022\u003E\u003Ccode\u003E(2, 0)\u003C/code\u003E\u003C/span\u003E\u003C/summary\u003E\u003Cdiv\u003E\u003Ctable\u003E\u003Cthead\u003E\u003Ctr\u003E\u003C/tr\u003E\u003C/thead\u003E\u003Ctbody\u003E\u003Ctr\u003E\u003Ctd\u003EX\u003C/td\u003E\u003Ctd\u003E\u003Cdiv class=\u0022dni-plaintext\u0022\u003E\u003Cpre\u003E2\u003C/pre\u003E\u003C/div\u003E\u003C/td\u003E\u003C/tr\u003E\u003Ctr\u003E\u003Ctd\u003EY\u003C/td\u003E\u003Ctd\u003E\u003Cdiv class=\u0022dni-plaintext\u0022\u003E\u003Cpre\u003E0\u003C/pre\u003E\u003C/div\u003E\u003C/td\u003E\u003C/tr\u003E\u003C/tbody\u003E\u003C/table\u003E\u003C/div\u003E\u003C/details\u003E\u003C/td\u003E\u003C/tr\u003E\u003Ctr\u003E\u003Ctd\u003E3\u003C/td\u003E\u003Ctd\u003E\u003Cdetails class=\u0022dni-treeview\u0022\u003E\u003Csummary\u003E\u003Cspan class=\u0022dni-code-hint\u0022\u003E\u003Ccode\u003E(3, 0)\u003C/code\u003E\u003C/span\u003E\u003C/summary\u003E\u003Cdiv\u003E\u003Ctable\u003E\u003Cthead\u003E\u003Ctr\u003E\u003C/tr\u003E\u003C/thead\u003E\u003Ctbody\u003E\u003Ctr\u003E\u003Ctd\u003EX\u003C/td\u003E\u003Ctd\u003E\u003Cdiv class=\u0022dni-plaintext\u0022\u003E\u003Cpre\u003E3\u003C/pre\u003E\u003C/div\u003E\u003C/td\u003E\u003C/tr\u003E\u003Ctr\u003E\u003Ctd\u003EY\u003C/td\u003E\u003Ctd\u003E\u003Cdiv class=\u0022dni-plaintext\u0022\u003E\u003Cpre\u003E0\u003C/pre\u003E\u003C/div\u003E\u003C/td\u003E\u003C/tr\u003E\u003C/tbody\u003E\u003C/table\u003E\u003C/div\u003E\u003C/details\u003E\u003C/td\u003E\u003C/tr\u003E\u003C/tbody\u003E\u003C/table\u003E\u003C/td\u003E\u003C/tr\u003E\u003C/tbody\u003E\u003C/table\u003E\u003C/div\u003E\u003C/details\u003E\u003C/td\u003E\u003C/tr\u003E\u003Ctr\u003E\u003Ctd\u003E1\u003C/td\u003E\u003Ctd\u003E\u003Cdetails class=\u0022dni-treeview\u0022\u003E\u003Csummary\u003E\u003Cspan class=\u0022dni-code-hint\u0022\u003E\u003Ccode\u003E[ (1, 0), (0, 1), (1, 1), (2, 1), (1, 2) ]\u003C/code\u003E\u003C/span\u003E\u003C/summary\u003E\u003Cdiv\u003E\u003Ctable\u003E\u003Cthead\u003E\u003Ctr\u003E\u003C/tr\u003E\u003C/thead\u003E\u003Ctbody\u003E\u003Ctr\u003E\u003Ctd\u003ECount\u003C/td\u003E\u003Ctd\u003E\u003Cdiv class=\u0022dni-plaintext\u0022\u003E\u003Cpre\u003E5\u003C/pre\u003E\u003C/div\u003E\u003C/td\u003E\u003C/tr\u003E\u003Ctr\u003E\u003Ctd\u003ECapacity\u003C/td\u003E\u003Ctd\u003E\u003Cdiv class=\u0022dni-plaintext\u0022\u003E\u003Cpre\u003E7\u003C/pre\u003E\u003C/div\u003E\u003C/td\u003E\u003C/tr\u003E\u003Ctr\u003E\u003Ctd\u003EComparer\u003C/td\u003E\u003Ctd\u003E\u003Cdetails class=\u0022dni-treeview\u0022\u003E\u003Csummary\u003E\u003Cspan class=\u0022dni-code-hint\u0022\u003E\u003Ccode\u003ESystem.Collections.Generic.GenericEqualityComparer\u00601[Submission#12\u002BPoint]\u003C/code\u003E\u003C/span\u003E\u003C/summary\u003E\u003Cdiv\u003E\u003Ctable\u003E\u003Cthead\u003E\u003Ctr\u003E\u003C/tr\u003E\u003C/thead\u003E\u003Ctbody\u003E\u003C/tbody\u003E\u003C/table\u003E\u003C/div\u003E\u003C/details\u003E\u003C/td\u003E\u003C/tr\u003E\u003Ctr\u003E\u003Ctd\u003E\u003Ci\u003E(values)\u003C/i\u003E\u003C/td\u003E\u003Ctd\u003E\u003Ctable\u003E\u003Cthead\u003E\u003Ctr\u003E\u003Cth\u003E\u003Ci\u003Eindex\u003C/i\u003E\u003C/th\u003E\u003Cth\u003Evalue\u003C/th\u003E\u003C/tr\u003E\u003C/thead\u003E\u003Ctbody\u003E\u003Ctr\u003E\u003Ctd\u003E0\u003C/td\u003E\u003Ctd\u003E\u003Cdetails class=\u0022dni-treeview\u0022\u003E\u003Csummary\u003E\u003Cspan class=\u0022dni-code-hint\u0022\u003E\u003Ccode\u003E(1, 0)\u003C/code\u003E\u003C/span\u003E\u003C/summary\u003E\u003Cdiv\u003E\u003Ctable\u003E\u003Cthead\u003E\u003Ctr\u003E\u003C/tr\u003E\u003C/thead\u003E\u003Ctbody\u003E\u003Ctr\u003E\u003Ctd\u003EX\u003C/td\u003E\u003Ctd\u003E\u003Cdiv class=\u0022dni-plaintext\u0022\u003E\u003Cpre\u003E1\u003C/pre\u003E\u003C/div\u003E\u003C/td\u003E\u003C/tr\u003E\u003Ctr\u003E\u003Ctd\u003EY\u003C/td\u003E\u003Ctd\u003E\u003Cdiv class=\u0022dni-plaintext\u0022\u003E\u003Cpre\u003E0\u003C/pre\u003E\u003C/div\u003E\u003C/td\u003E\u003C/tr\u003E\u003C/tbody\u003E\u003C/table\u003E\u003C/div\u003E\u003C/details\u003E\u003C/td\u003E\u003C/tr\u003E\u003Ctr\u003E\u003Ctd\u003E1\u003C/td\u003E\u003Ctd\u003E\u003Cdetails class=\u0022dni-treeview\u0022\u003E\u003Csummary\u003E\u003Cspan class=\u0022dni-code-hint\u0022\u003E\u003Ccode\u003E(0, 1)\u003C/code\u003E\u003C/span\u003E\u003C/summary\u003E\u003Cdiv\u003E\u003Ctable\u003E\u003Cthead\u003E\u003Ctr\u003E\u003C/tr\u003E\u003C/thead\u003E\u003Ctbody\u003E\u003Ctr\u003E\u003Ctd\u003EX\u003C/td\u003E\u003Ctd\u003E\u003Cdiv class=\u0022dni-plaintext\u0022\u003E\u003Cpre\u003E0\u003C/pre\u003E\u003C/div\u003E\u003C/td\u003E\u003C/tr\u003E\u003Ctr\u003E\u003Ctd\u003EY\u003C/td\u003E\u003Ctd\u003E\u003Cdiv class=\u0022dni-plaintext\u0022\u003E\u003Cpre\u003E1\u003C/pre\u003E\u003C/div\u003E\u003C/td\u003E\u003C/tr\u003E\u003C/tbody\u003E\u003C/table\u003E\u003C/div\u003E\u003C/details\u003E\u003C/td\u003E\u003C/tr\u003E\u003Ctr\u003E\u003Ctd\u003E2\u003C/td\u003E\u003Ctd\u003E\u003Cdetails class=\u0022dni-treeview\u0022\u003E\u003Csummary\u003E\u003Cspan class=\u0022dni-code-hint\u0022\u003E\u003Ccode\u003E(1, 1)\u003C/code\u003E\u003C/span\u003E\u003C/summary\u003E\u003Cdiv\u003E\u003Ctable\u003E\u003Cthead\u003E\u003Ctr\u003E\u003C/tr\u003E\u003C/thead\u003E\u003Ctbody\u003E\u003Ctr\u003E\u003Ctd\u003EX\u003C/td\u003E\u003Ctd\u003E\u003Cdiv class=\u0022dni-plaintext\u0022\u003E\u003Cpre\u003E1\u003C/pre\u003E\u003C/div\u003E\u003C/td\u003E\u003C/tr\u003E\u003Ctr\u003E\u003Ctd\u003EY\u003C/td\u003E\u003Ctd\u003E\u003Cdiv class=\u0022dni-plaintext\u0022\u003E\u003Cpre\u003E1\u003C/pre\u003E\u003C/div\u003E\u003C/td\u003E\u003C/tr\u003E\u003C/tbody\u003E\u003C/table\u003E\u003C/div\u003E\u003C/details\u003E\u003C/td\u003E\u003C/tr\u003E\u003Ctr\u003E\u003Ctd\u003E3\u003C/td\u003E\u003Ctd\u003E\u003Cdetails class=\u0022dni-treeview\u0022\u003E\u003Csummary\u003E\u003Cspan class=\u0022dni-code-hint\u0022\u003E\u003Ccode\u003E(2, 1)\u003C/code\u003E\u003C/span\u003E\u003C/summary\u003E\u003Cdiv\u003E\u003Ctable\u003E\u003Cthead\u003E\u003Ctr\u003E\u003C/tr\u003E\u003C/thead\u003E\u003Ctbody\u003E\u003Ctr\u003E\u003Ctd\u003EX\u003C/td\u003E\u003Ctd\u003E\u003Cdiv class=\u0022dni-plaintext\u0022\u003E\u003Cpre\u003E2\u003C/pre\u003E\u003C/div\u003E\u003C/td\u003E\u003C/tr\u003E\u003Ctr\u003E\u003Ctd\u003EY\u003C/td\u003E\u003Ctd\u003E\u003Cdiv class=\u0022dni-plaintext\u0022\u003E\u003Cpre\u003E1\u003C/pre\u003E\u003C/div\u003E\u003C/td\u003E\u003C/tr\u003E\u003C/tbody\u003E\u003C/table\u003E\u003C/div\u003E\u003C/details\u003E\u003C/td\u003E\u003C/tr\u003E\u003Ctr\u003E\u003Ctd\u003E4\u003C/td\u003E\u003Ctd\u003E\u003Cdetails class=\u0022dni-treeview\u0022\u003E\u003Csummary\u003E\u003Cspan class=\u0022dni-code-hint\u0022\u003E\u003Ccode\u003E(1, 2)\u003C/code\u003E\u003C/span\u003E\u003C/summary\u003E\u003Cdiv\u003E\u003Ctable\u003E\u003Cthead\u003E\u003Ctr\u003E\u003C/tr\u003E\u003C/thead\u003E\u003Ctbody\u003E\u003Ctr\u003E\u003Ctd\u003EX\u003C/td\u003E\u003Ctd\u003E\u003Cdiv class=\u0022dni-plaintext\u0022\u003E\u003Cpre\u003E1\u003C/pre\u003E\u003C/div\u003E\u003C/td\u003E\u003C/tr\u003E\u003Ctr\u003E\u003Ctd\u003EY\u003C/td\u003E\u003Ctd\u003E\u003Cdiv class=\u0022dni-plaintext\u0022\u003E\u003Cpre\u003E2\u003C/pre\u003E\u003C/div\u003E\u003C/td\u003E\u003C/tr\u003E\u003C/tbody\u003E\u003C/table\u003E\u003C/div\u003E\u003C/details\u003E\u003C/td\u003E\u003C/tr\u003E\u003C/tbody\u003E\u003C/table\u003E\u003C/td\u003E\u003C/tr\u003E\u003C/tbody\u003E\u003C/table\u003E\u003C/div\u003E\u003C/details\u003E\u003C/td\u003E\u003C/tr\u003E\u003Ctr\u003E\u003Ctd\u003E2\u003C/td\u003E\u003Ctd\u003E\u003Cdetails class=\u0022dni-treeview\u0022\u003E\u003Csummary\u003E\u003Cspan class=\u0022dni-code-hint\u0022\u003E\u003Ccode\u003E[ (2, 0), (2, 1), (0, 2), (1, 2), (2, 2) ]\u003C/code\u003E\u003C/span\u003E\u003C/summary\u003E\u003Cdiv\u003E\u003Ctable\u003E\u003Cthead\u003E\u003Ctr\u003E\u003C/tr\u003E\u003C/thead\u003E\u003Ctbody\u003E\u003Ctr\u003E\u003Ctd\u003ECount\u003C/td\u003E\u003Ctd\u003E\u003Cdiv class=\u0022dni-plaintext\u0022\u003E\u003Cpre\u003E5\u003C/pre\u003E\u003C/div\u003E\u003C/td\u003E\u003C/tr\u003E\u003Ctr\u003E\u003Ctd\u003ECapacity\u003C/td\u003E\u003Ctd\u003E\u003Cdiv class=\u0022dni-plaintext\u0022\u003E\u003Cpre\u003E7\u003C/pre\u003E\u003C/div\u003E\u003C/td\u003E\u003C/tr\u003E\u003Ctr\u003E\u003Ctd\u003EComparer\u003C/td\u003E\u003Ctd\u003E\u003Cdetails class=\u0022dni-treeview\u0022\u003E\u003Csummary\u003E\u003Cspan class=\u0022dni-code-hint\u0022\u003E\u003Ccode\u003ESystem.Collections.Generic.GenericEqualityComparer\u00601[Submission#12\u002BPoint]\u003C/code\u003E\u003C/span\u003E\u003C/summary\u003E\u003Cdiv\u003E\u003Ctable\u003E\u003Cthead\u003E\u003Ctr\u003E\u003C/tr\u003E\u003C/thead\u003E\u003Ctbody\u003E\u003C/tbody\u003E\u003C/table\u003E\u003C/div\u003E\u003C/details\u003E\u003C/td\u003E\u003C/tr\u003E\u003Ctr\u003E\u003Ctd\u003E\u003Ci\u003E(values)\u003C/i\u003E\u003C/td\u003E\u003Ctd\u003E\u003Ctable\u003E\u003Cthead\u003E\u003Ctr\u003E\u003Cth\u003E\u003Ci\u003Eindex\u003C/i\u003E\u003C/th\u003E\u003Cth\u003Evalue\u003C/th\u003E\u003C/tr\u003E\u003C/thead\u003E\u003Ctbody\u003E\u003Ctr\u003E\u003Ctd\u003E0\u003C/td\u003E\u003Ctd\u003E\u003Cdetails class=\u0022dni-treeview\u0022\u003E\u003Csummary\u003E\u003Cspan class=\u0022dni-code-hint\u0022\u003E\u003Ccode\u003E(2, 0)\u003C/code\u003E\u003C/span\u003E\u003C/summary\u003E\u003Cdiv\u003E\u003Ctable\u003E\u003Cthead\u003E\u003Ctr\u003E\u003C/tr\u003E\u003C/thead\u003E\u003Ctbody\u003E\u003Ctr\u003E\u003Ctd\u003EX\u003C/td\u003E\u003Ctd\u003E\u003Cdiv class=\u0022dni-plaintext\u0022\u003E\u003Cpre\u003E2\u003C/pre\u003E\u003C/div\u003E\u003C/td\u003E\u003C/tr\u003E\u003Ctr\u003E\u003Ctd\u003EY\u003C/td\u003E\u003Ctd\u003E\u003Cdiv class=\u0022dni-plaintext\u0022\u003E\u003Cpre\u003E0\u003C/pre\u003E\u003C/div\u003E\u003C/td\u003E\u003C/tr\u003E\u003C/tbody\u003E\u003C/table\u003E\u003C/div\u003E\u003C/details\u003E\u003C/td\u003E\u003C/tr\u003E\u003Ctr\u003E\u003Ctd\u003E1\u003C/td\u003E\u003Ctd\u003E\u003Cdetails class=\u0022dni-treeview\u0022\u003E\u003Csummary\u003E\u003Cspan class=\u0022dni-code-hint\u0022\u003E\u003Ccode\u003E(2, 1)\u003C/code\u003E\u003C/span\u003E\u003C/summary\u003E\u003Cdiv\u003E\u003Ctable\u003E\u003Cthead\u003E\u003Ctr\u003E\u003C/tr\u003E\u003C/thead\u003E\u003Ctbody\u003E\u003Ctr\u003E\u003Ctd\u003EX\u003C/td\u003E\u003Ctd\u003E\u003Cdiv class=\u0022dni-plaintext\u0022\u003E\u003Cpre\u003E2\u003C/pre\u003E\u003C/div\u003E\u003C/td\u003E\u003C/tr\u003E\u003Ctr\u003E\u003Ctd\u003EY\u003C/td\u003E\u003Ctd\u003E\u003Cdiv class=\u0022dni-plaintext\u0022\u003E\u003Cpre\u003E1\u003C/pre\u003E\u003C/div\u003E\u003C/td\u003E\u003C/tr\u003E\u003C/tbody\u003E\u003C/table\u003E\u003C/div\u003E\u003C/details\u003E\u003C/td\u003E\u003C/tr\u003E\u003Ctr\u003E\u003Ctd\u003E2\u003C/td\u003E\u003Ctd\u003E\u003Cdetails class=\u0022dni-treeview\u0022\u003E\u003Csummary\u003E\u003Cspan class=\u0022dni-code-hint\u0022\u003E\u003Ccode\u003E(0, 2)\u003C/code\u003E\u003C/span\u003E\u003C/summary\u003E\u003Cdiv\u003E\u003Ctable\u003E\u003Cthead\u003E\u003Ctr\u003E\u003C/tr\u003E\u003C/thead\u003E\u003Ctbody\u003E\u003Ctr\u003E\u003Ctd\u003EX\u003C/td\u003E\u003Ctd\u003E\u003Cdiv class=\u0022dni-plaintext\u0022\u003E\u003Cpre\u003E0\u003C/pre\u003E\u003C/div\u003E\u003C/td\u003E\u003C/tr\u003E\u003Ctr\u003E\u003Ctd\u003EY\u003C/td\u003E\u003Ctd\u003E\u003Cdiv class=\u0022dni-plaintext\u0022\u003E\u003Cpre\u003E2\u003C/pre\u003E\u003C/div\u003E\u003C/td\u003E\u003C/tr\u003E\u003C/tbody\u003E\u003C/table\u003E\u003C/div\u003E\u003C/details\u003E\u003C/td\u003E\u003C/tr\u003E\u003Ctr\u003E\u003Ctd\u003E3\u003C/td\u003E\u003Ctd\u003E\u003Cdetails class=\u0022dni-treeview\u0022\u003E\u003Csummary\u003E\u003Cspan class=\u0022dni-code-hint\u0022\u003E\u003Ccode\u003E(1, 2)\u003C/code\u003E\u003C/span\u003E\u003C/summary\u003E\u003Cdiv\u003E\u003Ctable\u003E\u003Cthead\u003E\u003Ctr\u003E\u003C/tr\u003E\u003C/thead\u003E\u003Ctbody\u003E\u003Ctr\u003E\u003Ctd\u003EX\u003C/td\u003E\u003Ctd\u003E\u003Cdiv class=\u0022dni-plaintext\u0022\u003E\u003Cpre\u003E1\u003C/pre\u003E\u003C/div\u003E\u003C/td\u003E\u003C/tr\u003E\u003Ctr\u003E\u003Ctd\u003EY\u003C/td\u003E\u003Ctd\u003E\u003Cdiv class=\u0022dni-plaintext\u0022\u003E\u003Cpre\u003E2\u003C/pre\u003E\u003C/div\u003E\u003C/td\u003E\u003C/tr\u003E\u003C/tbody\u003E\u003C/table\u003E\u003C/div\u003E\u003C/details\u003E\u003C/td\u003E\u003C/tr\u003E\u003Ctr\u003E\u003Ctd\u003E4\u003C/td\u003E\u003Ctd\u003E\u003Cdetails class=\u0022dni-treeview\u0022\u003E\u003Csummary\u003E\u003Cspan class=\u0022dni-code-hint\u0022\u003E\u003Ccode\u003E(2, 2)\u003C/code\u003E\u003C/span\u003E\u003C/summary\u003E\u003Cdiv\u003E\u003Ctable\u003E\u003Cthead\u003E\u003Ctr\u003E\u003C/tr\u003E\u003C/thead\u003E\u003Ctbody\u003E\u003Ctr\u003E\u003Ctd\u003EX\u003C/td\u003E\u003Ctd\u003E\u003Cdiv class=\u0022dni-plaintext\u0022\u003E\u003Cpre\u003E2\u003C/pre\u003E\u003C/div\u003E\u003C/td\u003E\u003C/tr\u003E\u003Ctr\u003E\u003Ctd\u003EY\u003C/td\u003E\u003Ctd\u003E\u003Cdiv class=\u0022dni-plaintext\u0022\u003E\u003Cpre\u003E2\u003C/pre\u003E\u003C/div\u003E\u003C/td\u003E\u003C/tr\u003E\u003C/tbody\u003E\u003C/table\u003E\u003C/div\u003E\u003C/details\u003E\u003C/td\u003E\u003C/tr\u003E\u003C/tbody\u003E\u003C/table\u003E\u003C/td\u003E\u003C/tr\u003E\u003C/tbody\u003E\u003C/table\u003E\u003C/div\u003E\u003C/details\u003E\u003C/td\u003E\u003C/tr\u003E\u003Ctr\u003E\u003Ctd\u003E3\u003C/td\u003E\u003Ctd\u003E\u003Cdetails class=\u0022dni-treeview\u0022\u003E\u003Csummary\u003E\u003Cspan class=\u0022dni-code-hint\u0022\u003E\u003Ccode\u003E[ (0, 0), (0, 1), (0, 2), (0, 3) ]\u003C/code\u003E\u003C/span\u003E\u003C/summary\u003E\u003Cdiv\u003E\u003Ctable\u003E\u003Cthead\u003E\u003Ctr\u003E\u003C/tr\u003E\u003C/thead\u003E\u003Ctbody\u003E\u003Ctr\u003E\u003Ctd\u003ECount\u003C/td\u003E\u003Ctd\u003E\u003Cdiv class=\u0022dni-plaintext\u0022\u003E\u003Cpre\u003E4\u003C/pre\u003E\u003C/div\u003E\u003C/td\u003E\u003C/tr\u003E\u003Ctr\u003E\u003Ctd\u003ECapacity\u003C/td\u003E\u003Ctd\u003E\u003Cdiv class=\u0022dni-plaintext\u0022\u003E\u003Cpre\u003E7\u003C/pre\u003E\u003C/div\u003E\u003C/td\u003E\u003C/tr\u003E\u003Ctr\u003E\u003Ctd\u003EComparer\u003C/td\u003E\u003Ctd\u003E\u003Cdetails class=\u0022dni-treeview\u0022\u003E\u003Csummary\u003E\u003Cspan class=\u0022dni-code-hint\u0022\u003E\u003Ccode\u003ESystem.Collections.Generic.GenericEqualityComparer\u00601[Submission#12\u002BPoint]\u003C/code\u003E\u003C/span\u003E\u003C/summary\u003E\u003Cdiv\u003E\u003Ctable\u003E\u003Cthead\u003E\u003Ctr\u003E\u003C/tr\u003E\u003C/thead\u003E\u003Ctbody\u003E\u003C/tbody\u003E\u003C/table\u003E\u003C/div\u003E\u003C/details\u003E\u003C/td\u003E\u003C/tr\u003E\u003Ctr\u003E\u003Ctd\u003E\u003Ci\u003E(values)\u003C/i\u003E\u003C/td\u003E\u003Ctd\u003E\u003Ctable\u003E\u003Cthead\u003E\u003Ctr\u003E\u003Cth\u003E\u003Ci\u003Eindex\u003C/i\u003E\u003C/th\u003E\u003Cth\u003Evalue\u003C/th\u003E\u003C/tr\u003E\u003C/thead\u003E\u003Ctbody\u003E\u003Ctr\u003E\u003Ctd\u003E0\u003C/td\u003E\u003Ctd\u003E\u003Cdetails class=\u0022dni-treeview\u0022\u003E\u003Csummary\u003E\u003Cspan class=\u0022dni-code-hint\u0022\u003E\u003Ccode\u003E(0, 0)\u003C/code\u003E\u003C/span\u003E\u003C/summary\u003E\u003Cdiv\u003E\u003Ctable\u003E\u003Cthead\u003E\u003Ctr\u003E\u003C/tr\u003E\u003C/thead\u003E\u003Ctbody\u003E\u003Ctr\u003E\u003Ctd\u003EX\u003C/td\u003E\u003Ctd\u003E\u003Cdiv class=\u0022dni-plaintext\u0022\u003E\u003Cpre\u003E0\u003C/pre\u003E\u003C/div\u003E\u003C/td\u003E\u003C/tr\u003E\u003Ctr\u003E\u003Ctd\u003EY\u003C/td\u003E\u003Ctd\u003E\u003Cdiv class=\u0022dni-plaintext\u0022\u003E\u003Cpre\u003E0\u003C/pre\u003E\u003C/div\u003E\u003C/td\u003E\u003C/tr\u003E\u003C/tbody\u003E\u003C/table\u003E\u003C/div\u003E\u003C/details\u003E\u003C/td\u003E\u003C/tr\u003E\u003Ctr\u003E\u003Ctd\u003E1\u003C/td\u003E\u003Ctd\u003E\u003Cdetails class=\u0022dni-treeview\u0022\u003E\u003Csummary\u003E\u003Cspan class=\u0022dni-code-hint\u0022\u003E\u003Ccode\u003E(0, 1)\u003C/code\u003E\u003C/span\u003E\u003C/summary\u003E\u003Cdiv\u003E\u003Ctable\u003E\u003Cthead\u003E\u003Ctr\u003E\u003C/tr\u003E\u003C/thead\u003E\u003Ctbody\u003E\u003Ctr\u003E\u003Ctd\u003EX\u003C/td\u003E\u003Ctd\u003E\u003Cdiv class=\u0022dni-plaintext\u0022\u003E\u003Cpre\u003E0\u003C/pre\u003E\u003C/div\u003E\u003C/td\u003E\u003C/tr\u003E\u003Ctr\u003E\u003Ctd\u003EY\u003C/td\u003E\u003Ctd\u003E\u003Cdiv class=\u0022dni-plaintext\u0022\u003E\u003Cpre\u003E1\u003C/pre\u003E\u003C/div\u003E\u003C/td\u003E\u003C/tr\u003E\u003C/tbody\u003E\u003C/table\u003E\u003C/div\u003E\u003C/details\u003E\u003C/td\u003E\u003C/tr\u003E\u003Ctr\u003E\u003Ctd\u003E2\u003C/td\u003E\u003Ctd\u003E\u003Cdetails class=\u0022dni-treeview\u0022\u003E\u003Csummary\u003E\u003Cspan class=\u0022dni-code-hint\u0022\u003E\u003Ccode\u003E(0, 2)\u003C/code\u003E\u003C/span\u003E\u003C/summary\u003E\u003Cdiv\u003E\u003Ctable\u003E\u003Cthead\u003E\u003Ctr\u003E\u003C/tr\u003E\u003C/thead\u003E\u003Ctbody\u003E\u003Ctr\u003E\u003Ctd\u003EX\u003C/td\u003E\u003Ctd\u003E\u003Cdiv class=\u0022dni-plaintext\u0022\u003E\u003Cpre\u003E0\u003C/pre\u003E\u003C/div\u003E\u003C/td\u003E\u003C/tr\u003E\u003Ctr\u003E\u003Ctd\u003EY\u003C/td\u003E\u003Ctd\u003E\u003Cdiv class=\u0022dni-plaintext\u0022\u003E\u003Cpre\u003E2\u003C/pre\u003E\u003C/div\u003E\u003C/td\u003E\u003C/tr\u003E\u003C/tbody\u003E\u003C/table\u003E\u003C/div\u003E\u003C/details\u003E\u003C/td\u003E\u003C/tr\u003E\u003Ctr\u003E\u003Ctd\u003E3\u003C/td\u003E\u003Ctd\u003E\u003Cdetails class=\u0022dni-treeview\u0022\u003E\u003Csummary\u003E\u003Cspan class=\u0022dni-code-hint\u0022\u003E\u003Ccode\u003E(0, 3)\u003C/code\u003E\u003C/span\u003E\u003C/summary\u003E\u003Cdiv\u003E\u003Ctable\u003E\u003Cthead\u003E\u003Ctr\u003E\u003C/tr\u003E\u003C/thead\u003E\u003Ctbody\u003E\u003Ctr\u003E\u003Ctd\u003EX\u003C/td\u003E\u003Ctd\u003E\u003Cdiv class=\u0022dni-plaintext\u0022\u003E\u003Cpre\u003E0\u003C/pre\u003E\u003C/div\u003E\u003C/td\u003E\u003C/tr\u003E\u003Ctr\u003E\u003Ctd\u003EY\u003C/td\u003E\u003Ctd\u003E\u003Cdiv class=\u0022dni-plaintext\u0022\u003E\u003Cpre\u003E3\u003C/pre\u003E\u003C/div\u003E\u003C/td\u003E\u003C/tr\u003E\u003C/tbody\u003E\u003C/table\u003E\u003C/div\u003E\u003C/details\u003E\u003C/td\u003E\u003C/tr\u003E\u003C/tbody\u003E\u003C/table\u003E\u003C/td\u003E\u003C/tr\u003E\u003C/tbody\u003E\u003C/table\u003E\u003C/div\u003E\u003C/details\u003E\u003C/td\u003E\u003C/tr\u003E\u003Ctr\u003E\u003Ctd\u003E4\u003C/td\u003E\u003Ctd\u003E\u003Cdetails class=\u0022dni-treeview\u0022\u003E\u003Csummary\u003E\u003Cspan class=\u0022dni-code-hint\u0022\u003E\u003Ccode\u003E[ (0, 0), (1, 0), (0, 1), (1, 1) ]\u003C/code\u003E\u003C/span\u003E\u003C/summary\u003E\u003Cdiv\u003E\u003Ctable\u003E\u003Cthead\u003E\u003Ctr\u003E\u003C/tr\u003E\u003C/thead\u003E\u003Ctbody\u003E\u003Ctr\u003E\u003Ctd\u003ECount\u003C/td\u003E\u003Ctd\u003E\u003Cdiv class=\u0022dni-plaintext\u0022\u003E\u003Cpre\u003E4\u003C/pre\u003E\u003C/div\u003E\u003C/td\u003E\u003C/tr\u003E\u003Ctr\u003E\u003Ctd\u003ECapacity\u003C/td\u003E\u003Ctd\u003E\u003Cdiv class=\u0022dni-plaintext\u0022\u003E\u003Cpre\u003E7\u003C/pre\u003E\u003C/div\u003E\u003C/td\u003E\u003C/tr\u003E\u003Ctr\u003E\u003Ctd\u003EComparer\u003C/td\u003E\u003Ctd\u003E\u003Cdetails class=\u0022dni-treeview\u0022\u003E\u003Csummary\u003E\u003Cspan class=\u0022dni-code-hint\u0022\u003E\u003Ccode\u003ESystem.Collections.Generic.GenericEqualityComparer\u00601[Submission#12\u002BPoint]\u003C/code\u003E\u003C/span\u003E\u003C/summary\u003E\u003Cdiv\u003E\u003Ctable\u003E\u003Cthead\u003E\u003Ctr\u003E\u003C/tr\u003E\u003C/thead\u003E\u003Ctbody\u003E\u003C/tbody\u003E\u003C/table\u003E\u003C/div\u003E\u003C/details\u003E\u003C/td\u003E\u003C/tr\u003E\u003Ctr\u003E\u003Ctd\u003E\u003Ci\u003E(values)\u003C/i\u003E\u003C/td\u003E\u003Ctd\u003E\u003Ctable\u003E\u003Cthead\u003E\u003Ctr\u003E\u003Cth\u003E\u003Ci\u003Eindex\u003C/i\u003E\u003C/th\u003E\u003Cth\u003Evalue\u003C/th\u003E\u003C/tr\u003E\u003C/thead\u003E\u003Ctbody\u003E\u003Ctr\u003E\u003Ctd\u003E0\u003C/td\u003E\u003Ctd\u003E\u003Cdetails class=\u0022dni-treeview\u0022\u003E\u003Csummary\u003E\u003Cspan class=\u0022dni-code-hint\u0022\u003E\u003Ccode\u003E(0, 0)\u003C/code\u003E\u003C/span\u003E\u003C/summary\u003E\u003Cdiv\u003E\u003Ctable\u003E\u003Cthead\u003E\u003Ctr\u003E\u003C/tr\u003E\u003C/thead\u003E\u003Ctbody\u003E\u003Ctr\u003E\u003Ctd\u003EX\u003C/td\u003E\u003Ctd\u003E\u003Cdiv class=\u0022dni-plaintext\u0022\u003E\u003Cpre\u003E0\u003C/pre\u003E\u003C/div\u003E\u003C/td\u003E\u003C/tr\u003E\u003Ctr\u003E\u003Ctd\u003EY\u003C/td\u003E\u003Ctd\u003E\u003Cdiv class=\u0022dni-plaintext\u0022\u003E\u003Cpre\u003E0\u003C/pre\u003E\u003C/div\u003E\u003C/td\u003E\u003C/tr\u003E\u003C/tbody\u003E\u003C/table\u003E\u003C/div\u003E\u003C/details\u003E\u003C/td\u003E\u003C/tr\u003E\u003Ctr\u003E\u003Ctd\u003E1\u003C/td\u003E\u003Ctd\u003E\u003Cdetails class=\u0022dni-treeview\u0022\u003E\u003Csummary\u003E\u003Cspan class=\u0022dni-code-hint\u0022\u003E\u003Ccode\u003E(1, 0)\u003C/code\u003E\u003C/span\u003E\u003C/summary\u003E\u003Cdiv\u003E\u003Ctable\u003E\u003Cthead\u003E\u003Ctr\u003E\u003C/tr\u003E\u003C/thead\u003E\u003Ctbody\u003E\u003Ctr\u003E\u003Ctd\u003EX\u003C/td\u003E\u003Ctd\u003E\u003Cdiv class=\u0022dni-plaintext\u0022\u003E\u003Cpre\u003E1\u003C/pre\u003E\u003C/div\u003E\u003C/td\u003E\u003C/tr\u003E\u003Ctr\u003E\u003Ctd\u003EY\u003C/td\u003E\u003Ctd\u003E\u003Cdiv class=\u0022dni-plaintext\u0022\u003E\u003Cpre\u003E0\u003C/pre\u003E\u003C/div\u003E\u003C/td\u003E\u003C/tr\u003E\u003C/tbody\u003E\u003C/table\u003E\u003C/div\u003E\u003C/details\u003E\u003C/td\u003E\u003C/tr\u003E\u003Ctr\u003E\u003Ctd\u003E2\u003C/td\u003E\u003Ctd\u003E\u003Cdetails class=\u0022dni-treeview\u0022\u003E\u003Csummary\u003E\u003Cspan class=\u0022dni-code-hint\u0022\u003E\u003Ccode\u003E(0, 1)\u003C/code\u003E\u003C/span\u003E\u003C/summary\u003E\u003Cdiv\u003E\u003Ctable\u003E\u003Cthead\u003E\u003Ctr\u003E\u003C/tr\u003E\u003C/thead\u003E\u003Ctbody\u003E\u003Ctr\u003E\u003Ctd\u003EX\u003C/td\u003E\u003Ctd\u003E\u003Cdiv class=\u0022dni-plaintext\u0022\u003E\u003Cpre\u003E0\u003C/pre\u003E\u003C/div\u003E\u003C/td\u003E\u003C/tr\u003E\u003Ctr\u003E\u003Ctd\u003EY\u003C/td\u003E\u003Ctd\u003E\u003Cdiv class=\u0022dni-plaintext\u0022\u003E\u003Cpre\u003E1\u003C/pre\u003E\u003C/div\u003E\u003C/td\u003E\u003C/tr\u003E\u003C/tbody\u003E\u003C/table\u003E\u003C/div\u003E\u003C/details\u003E\u003C/td\u003E\u003C/tr\u003E\u003Ctr\u003E\u003Ctd\u003E3\u003C/td\u003E\u003Ctd\u003E\u003Cdetails class=\u0022dni-treeview\u0022\u003E\u003Csummary\u003E\u003Cspan class=\u0022dni-code-hint\u0022\u003E\u003Ccode\u003E(1, 1)\u003C/code\u003E\u003C/span\u003E\u003C/summary\u003E\u003Cdiv\u003E\u003Ctable\u003E\u003Cthead\u003E\u003Ctr\u003E\u003C/tr\u003E\u003C/thead\u003E\u003Ctbody\u003E\u003Ctr\u003E\u003Ctd\u003EX\u003C/td\u003E\u003Ctd\u003E\u003Cdiv class=\u0022dni-plaintext\u0022\u003E\u003Cpre\u003E1\u003C/pre\u003E\u003C/div\u003E\u003C/td\u003E\u003C/tr\u003E\u003Ctr\u003E\u003Ctd\u003EY\u003C/td\u003E\u003Ctd\u003E\u003Cdiv class=\u0022dni-plaintext\u0022\u003E\u003Cpre\u003E1\u003C/pre\u003E\u003C/div\u003E\u003C/td\u003E\u003C/tr\u003E\u003C/tbody\u003E\u003C/table\u003E\u003C/div\u003E\u003C/details\u003E\u003C/td\u003E\u003C/tr\u003E\u003C/tbody\u003E\u003C/table\u003E\u003C/td\u003E\u003C/tr\u003E\u003C/tbody\u003E\u003C/table\u003E\u003C/div\u003E\u003C/details\u003E\u003C/td\u003E\u003C/tr\u003E\u003C/tbody\u003E\u003C/table\u003E\u003Cstyle\u003E\r\n",
              ".dni-code-hint {\r\n",
              "    font-style: italic;\r\n",
              "    overflow: hidden;\r\n",
              "    white-space: nowrap;\r\n",
              "}\r\n",
              ".dni-treeview {\r\n",
              "    white-space: nowrap;\r\n",
              "}\r\n",
              ".dni-treeview td {\r\n",
              "    vertical-align: top;\r\n",
              "    text-align: start;\r\n",
              "}\r\n",
              "details.dni-treeview {\r\n",
              "    padding-left: 1em;\r\n",
              "}\r\n",
              "table td {\r\n",
              "    text-align: start;\r\n",
              "}\r\n",
              "table tr { \r\n",
              "    vertical-align: top; \r\n",
              "    margin: 0em 0px;\r\n",
              "}\r\n",
              "table tr td pre \r\n",
              "{ \r\n",
              "    vertical-align: top !important; \r\n",
              "    margin: 0em 0px !important;\r\n",
              "} \r\n",
              "table th {\r\n",
              "    text-align: start;\r\n",
              "}\r\n",
              "\u003C/style\u003E"
            ]
          },
          "metadata": {},
          "output_type": "display_data"
        }
      ],
      "source": [
        "HashSet\u003CPoint\u003E ParseShape(string[] shapeLines)\n",
        "{\n",
        "    CharGrid g = new(shapeLines);\n",
        "    return new(g.Enumerate().Where(gg =\u003E gg.ch is \u0027#\u0027).Select(gg =\u003E gg.point));\n",
        "}\n",
        "\n",
        "var shapePoints = shapes.SeparateBy(s =\u003E s is \u0022\u0022).Select(ParseShape).ToList();\n",
        "shapePoints.Display();"
      ]
    },
    {
      "cell_type": "markdown",
      "id": "0911f6d0",
      "metadata": {},
      "source": [
        "For this one, I\u0027m thinking of leveraging the \u0060HashSet\u003C\u003E.Overlaps\u0060 method - we\u0027ll model the tower as one \u0060HashSet\u0060, and each falling rock as another. Each manipulation of the falling rocks (ie sideways / down), we can manipulate the point point values of the falling rock\u0027s \u0060HashSet\u0060. If this causes an overlap, we stop this rock and move to the next one."
      ]
    },
    {
      "cell_type": "code",
      "execution_count": 7,
      "id": "0459ac9c",
      "metadata": {
        "language_info": {
          "name": "polyglot-notebook"
        },
        "polyglot_notebook": {
          "kernelName": "csharp"
        }
      },
      "outputs": [],
      "source": [
        "// Helper method to apply movements to a rock\n",
        "\n",
        "static void Apply(this HashSet\u003CPoint\u003E rock, Point direction)\n",
        "{\n",
        "    var newPoints = rock.Select(r =\u003E r \u002B direction).ToArray();\n",
        "    \n",
        "    rock.Clear();\n",
        "    foreach (var n in newPoints)\n",
        "    {\n",
        "        rock.Add(n);\n",
        "    }\n",
        "}"
      ]
    },
    {
      "cell_type": "code",
      "execution_count": 8,
      "id": "a6ce549f",
      "metadata": {
        "language_info": {
          "name": "polyglot-notebook"
        },
        "polyglot_notebook": {
          "kernelName": "csharp"
        }
      },
      "outputs": [],
      "source": [
        "class TowerSim(IList\u003CHashSet\u003CPoint\u003E\u003E rockShapes, string[] inputLines)\n",
        "{\n",
        "    public HashSet\u003CPoint\u003E Tower { get; } = new();\n",
        "    \n",
        "    public int TowerHeight =\u003E Tower.Select(p =\u003E -p.Y \u002B 1).Append(0).Max();\n",
        "\n",
        "    public string Jetstream { get; } = inputLines[0];\n",
        "\n",
        "    public void DoSomeFalling(int rockCount)\n",
        "    {\n",
        "        foreach (var rock in MakeRockSequence(rockCount))\n",
        "        {\n",
        "            HashSet\u003CPoint\u003E nextRock = new(rock);\n",
        "            var startPoint = FindStartPoint(nextRock);\n",
        "            nextRock.Apply(startPoint);\n",
        "\n",
        "            foreach (var move in NextShapeMove())\n",
        "            {\n",
        "                HashSet\u003CPoint\u003E maybeShape = new(nextRock);\n",
        "                maybeShape.Apply(move);\n",
        "\n",
        "                if (IsOOB(maybeShape) || Tower.Overlaps(maybeShape))\n",
        "                {\n",
        "                    if (move == Down) { break; }\n",
        "                    continue;\n",
        "                }\n",
        "\n",
        "                nextRock = maybeShape;\n",
        "            }\n",
        "            Tower.UnionWith(nextRock);\n",
        "        }\n",
        "    }\n",
        "\n",
        "    public int RockSequenceTotal { get; private set; } = 0;\n",
        "    public int RockSequenceIndex =\u003E RockSequenceTotal % rockShapes.Count;\n",
        "    IEnumerable\u003CHashSet\u003CPoint\u003E\u003E MakeRockSequence(int rockCount)\n",
        "        =\u003E Enumerable.Range(0, rockCount)\n",
        "            .Select(_ =\u003E rockShapes[RockSequenceTotal\u002B\u002B % rockShapes.Count]);\n",
        "\n",
        "    Point FindStartPoint(HashSet\u003CPoint\u003E nextShape)\n",
        "    {\n",
        "        // The tall, vertical chamber is exactly seven units wide. Each rock\n",
        "        // appears so that its left edge is two units away from the left wall\n",
        "        // and its bottom edge is three units above the highest rock in the room\n",
        "        // (or the floor, if there isn\u0027t one).\n",
        "\n",
        "        var height = nextShape.Select(p =\u003E p.Y).Distinct().Count();\n",
        "\n",
        "        Point result = (0,0);\n",
        "        result \u002B= Right * 2;\n",
        "        result \u002B= Up * (height \u002B TowerHeight \u002B 2);\n",
        "\n",
        "        return result;\n",
        "    }\n",
        "\n",
        "    public int MoveSequenceTotal { get; private set; } = 0;\n",
        "    public int MoveSequenceIndex =\u003E MoveSequenceTotal % Jetstream.Length;\n",
        "    IEnumerable\u003CPoint\u003E NextShapeMove()\n",
        "    {\n",
        "        foreach (var _ in Enumerable.Range(0, int.MaxValue))\n",
        "        {\n",
        "            var ch = Jetstream[MoveSequenceIndex];\n",
        "            var dir = ch is \u0027\u003C\u0027 ? Left : Right;\n",
        "            MoveSequenceTotal\u002B\u002B;\n",
        "            yield return dir;\n",
        "            yield return Down;\n",
        "        }\n",
        "        throw new Exception($\u0022This shouldn\u0027t happen!\u0022);\n",
        "    }\n",
        "\n",
        "    bool IsOOB(HashSet\u003CPoint\u003E shape) =\u003E shape.Any(p =\u003E p switch \n",
        "    {\n",
        "        (\u003C 0 or \u003E 6, _) =\u003E true,\n",
        "        (_, \u003E 0) =\u003E true,\n",
        "        _ =\u003E false\n",
        "    });\n",
        "}"
      ]
    },
    {
      "cell_type": "code",
      "execution_count": 9,
      "id": "ed40ad69",
      "metadata": {
        "language_info": {
          "name": "polyglot-notebook"
        },
        "polyglot_notebook": {
          "kernelName": "csharp"
        }
      },
      "outputs": [
        {
          "name": "stdout",
          "output_type": "stream",
          "text": [
            "3224\n"
          ]
        }
      ],
      "source": [
        "int DoSomeFalling2(string[] inputLines, int rockCount)\n",
        "{\n",
        "    TowerSim towerSim = new(shapePoints, inputLines);\n",
        "    towerSim.DoSomeFalling(rockCount);\n",
        "    return towerSim.TowerHeight;\n",
        "}\n",
        "var testResult = DoSomeFalling2(inputLines, 2022);\n",
        "Console.WriteLine(testResult);"
      ]
    },
    {
      "cell_type": "code",
      "execution_count": 10,
      "id": "6e14350d",
      "metadata": {
        "language_info": {
          "name": "polyglot-notebook"
        },
        "polyglot_notebook": {
          "kernelName": "csharp"
        }
      },
      "outputs": [
        {
          "name": "stdout",
          "output_type": "stream",
          "text": [
            "3068\n"
          ]
        }
      ],
      "source": [
        "// To prove to the elephants your simulation is accurate, they want to know how\n",
        "// tall the tower will get after 2022 rocks have stopped (but before the 2023rd\n",
        "// rock begins falling). In this example, the tower of rocks will be 3068 units\n",
        "// tall.\n",
        "\n",
        "// var testAnswer = DoSomeFalling(testInputLines, 2022).Last().towerHeight;\n",
        "var testAnswer = DoSomeFalling2(testInputLines, 2022);\n",
        "Console.WriteLine(testAnswer);"
      ]
    },
    {
      "cell_type": "code",
      "execution_count": 11,
      "id": "663c2bc3",
      "metadata": {
        "language_info": {
          "name": "polyglot-notebook"
        },
        "polyglot_notebook": {
          "kernelName": "csharp"
        }
      },
      "outputs": [
        {
          "name": "stdout",
          "output_type": "stream",
          "text": [
            "3224\n"
          ]
        }
      ],
      "source": [
        "// How many units tall will the tower of rocks be after 2022 rocks have stopped\n",
        "// falling?\n",
        "\n",
        "// var part1Answer = DoSomeFalling(inputLines, 2022).Last().towerHeight;\n",
        "var part1Answer = DoSomeFalling2(inputLines, 2022);\n",
        "Console.WriteLine(part1Answer);"
      ]
    },
    {
      "cell_type": "code",
      "execution_count": 12,
      "id": "5b1f463e",
      "metadata": {
        "language_info": {
          "name": "polyglot-notebook"
        },
        "polyglot_notebook": {
          "kernelName": "csharp"
        }
      },
      "outputs": [],
      "source": [
        "// 3224 is correct!\n",
        "Ensure(3224, part1Answer);"
      ]
    },
    {
      "cell_type": "markdown",
      "id": "dfab09f6",
      "metadata": {
        "language_info": {
          "name": "polyglot-notebook"
        },
        "polyglot_notebook": {
          "kernelName": "csharp"
        }
      },
      "source": [
        "### --- Part Two ---\n",
        "\n",
        "Puzzle description redacted as-per Advent of Code guidelines\n",
        "\n",
        "You may find the puzzle description at: https://adventofcode.com/2022/day/17"
      ]
    },
    {
      "cell_type": "markdown",
      "id": "9fab608b",
      "metadata": {},
      "source": [
        "Geez, 1,000,000,000,000 rocks huh? I suspect this is going to require some kind of cycle. We know the rock sequence is repeating, so perhaps after we have done the entire cycle we know the rock pattern will repeat itself. Although that might depend on the drop patterns. Perhaps we can find the point at which the rocks and drop patterns both cycle back to the start, and we\u0027ll check that.\n",
        "\n",
        "But what would a cycle look like in this case? \n",
        "\n",
        "* We are starting at the same rock (so the rock order will be the same)\n",
        "* We are starting at the same jetstream position (so the dropping movements will be the same)\n",
        "* The columns of each tower are the same height (so we know they will land in the same configuration)\n",
        "\n",
        "For the columns configuration part, let\u0027s define a \u0022signature\u0022, which is the number of whitespaces before the tops of each column of the tower. Eg, if the tower had a top like so...\n",
        "\n",
        "\u0060\u0060\u0060\n",
        "#.#.#..\n",
        "######.\n",
        "#######\n",
        "\u0060\u0060\u0060\n",
        "\n",
        "...the signature would be \u00600,1,0,1,0,2\u0060. This should uniquely describe each possible towertop configuration. \n",
        "\n",
        "Let\u0027s check every batch of rocks (5), and see if we can find a repeating jetstream position \u002B signature - this should be our repetition."
      ]
    },
    {
      "cell_type": "code",
      "execution_count": 14,
      "id": "f2fc46db",
      "metadata": {},
      "outputs": [
        {
          "name": "stdout",
          "output_type": "stream",
          "text": [
            "empty\n",
            "1,0,2,2,2,2,2\n"
          ]
        }
      ],
      "source": [
        "// A checkpoint to inspect after each batch of rocks\n",
        "using Checkpoint = (int towerHeight, int rockSequenceIndex, int rockSequenceTotal, int moveSequenceIndex, string signature);\n",
        "\n",
        "// Our signature function as explained above\n",
        "string GetSignature(HashSet\u003CPoint\u003E tower)\n",
        "{\n",
        "    if (tower.Count is 0) { return \u0022empty\u0022; }\n",
        "\n",
        "    // Tower ascends in -Y, so highest point is lowest Y\n",
        "    var yMax = tower.Min(p =\u003E p.Y);\n",
        "    var xMax = 6;\n",
        "\n",
        "    var mins = Enumerable.Range(0, xMax \u002B 1).Select(x =\u003E new Point(x, 0));\n",
        "\n",
        "    var q = from p in tower.Concat(mins)\n",
        "            group p by p.X into pGroup\n",
        "            orderby pGroup.Key\n",
        "            select Math.Abs(yMax - pGroup.Select(pg =\u003E pg.Y).Min());\n",
        "\n",
        "    return string.Join(\u0022,\u0022, q.Select(qq =\u003E qq.ToString()));\n",
        "}\n",
        "\n",
        "Console.WriteLine(GetSignature([]));\n",
        "\n",
        "HashSet\u003CPoint\u003E testPoints = [\n",
        "    (0, -1),\n",
        "    (1, -2)\n",
        "];\n",
        "Console.WriteLine(GetSignature(testPoints));"
      ]
    },
    {
      "cell_type": "code",
      "execution_count": 15,
      "id": "725be00b",
      "metadata": {},
      "outputs": [
        {
          "name": "stdout",
          "output_type": "stream",
          "text": [
            "(9, 0, 5, 24, 5,5,3,5,0,0,8)\n",
            "(17, 0, 10, 12, 3,3,4,4,0,2,16)\n",
            "(25, 0, 15, 2, 7,11,5,4,4,0,0)\n",
            "(36, 0, 20, 28, 18,4,4,6,0,10,11)\n",
            "(43, 0, 25, 15, 25,0,0,6,3,3,1)\n",
            "(51, 0, 30, 5, 0,4,2,4,5,5,5)\n",
            "(60, 0, 35, 34, 9,4,4,6,0,8,14)\n",
            "(66, 0, 40, 21, 15,0,0,0,4,3,4)\n",
            "(72, 0, 45, 10, 4,3,2,2,0,4,2)\n",
            "(78, 0, 50, 2, 10,5,0,0,0,2,3)\n",
            "(89, 0, 55, 28, 21,4,4,6,0,10,14)\n",
            "(96, 0, 60, 15, 28,0,0,6,3,3,1)\n",
            "(104, 0, 65, 5, 0,4,2,4,5,5,5)\n",
            "(113, 0, 70, 34, 9,4,4,6,0,8,14)\n",
            "(119, 0, 75, 21, 15,0,0,0,4,3,4)\n",
            "(125, 0, 80, 10, 4,3,2,2,0,4,2)\n",
            "(131, 0, 85, 2, 10,5,0,0,0,2,3)\n",
            "(142, 0, 90, 28, 21,4,4,6,0,10,14)\n",
            "(149, 0, 95, 15, 28,0,0,6,3,3,1)\n",
            "(157, 0, 100, 5, 0,4,2,4,5,5,5)\n"
          ]
        }
      ],
      "source": [
        "IEnumerable\u003CCheckpoint\u003E GetCheckpoints(string[] inputLines, int rockCount)\n",
        "{\n",
        "    TowerSim towerSim = new(shapePoints, inputLines);\n",
        "\n",
        "    var remain = rockCount;\n",
        "    while (remain \u003E 0)\n",
        "    {\n",
        "        var nextChunk = Math.Min(remain, shapePoints.Count);\n",
        "        towerSim.DoSomeFalling(nextChunk);\n",
        "\n",
        "        Checkpoint cp = (\n",
        "            towerSim.TowerHeight,\n",
        "            towerSim.RockSequenceIndex,\n",
        "            towerSim.RockSequenceTotal,\n",
        "            towerSim.MoveSequenceIndex,\n",
        "            GetSignature(towerSim.Tower)\n",
        "        );\n",
        "\n",
        "        remain -= nextChunk;\n",
        "        yield return cp;\n",
        "    }\n",
        "}\n",
        "\n",
        "foreach (var checkpoint in GetCheckpoints(testInputLines, 100))\n",
        "{\n",
        "    Console.WriteLine(checkpoint);\n",
        "}"
      ]
    },
    {
      "cell_type": "markdown",
      "id": "e070516d",
      "metadata": {},
      "source": [
        "Looks like there is some repetition in the test input - eg the signature \u00600,4,2,4,5,5,5\u0060  always repeats back at pos \u00605\u0060 in the move sequence. Let\u0027s continue!"
      ]
    },
    {
      "cell_type": "code",
      "execution_count": 16,
      "id": "c0c63690",
      "metadata": {
        "language_info": {
          "name": "polyglot-notebook"
        },
        "polyglot_notebook": {
          "kernelName": "csharp"
        }
      },
      "outputs": [
        {
          "name": "stdout",
          "output_type": "stream",
          "text": [
            "Repetitions in test input:\n"
          ]
        },
        {
          "data": {
            "text/html": [
              "\u003Ctable\u003E\u003Cthead\u003E\u003Ctr\u003E\u003Cth\u003E\u003Ci\u003Eindex\u003C/i\u003E\u003C/th\u003E\u003Cth\u003Evalue\u003C/th\u003E\u003C/tr\u003E\u003C/thead\u003E\u003Ctbody\u003E\u003Ctr\u003E\u003Ctd\u003E0\u003C/td\u003E\u003Ctd\u003E\u003Cdetails class=\u0022dni-treeview\u0022\u003E\u003Csummary\u003E\u003Cspan class=\u0022dni-code-hint\u0022\u003E\u003Ccode\u003E[(0,4,2,4,5,5,5, 5), 57]\u003C/code\u003E\u003C/span\u003E\u003C/summary\u003E\u003Cdiv\u003E\u003Ctable\u003E\u003Cthead\u003E\u003Ctr\u003E\u003C/tr\u003E\u003C/thead\u003E\u003Ctbody\u003E\u003Ctr\u003E\u003Ctd\u003EKey\u003C/td\u003E\u003Ctd\u003E\u003Cdetails class=\u0022dni-treeview\u0022\u003E\u003Csummary\u003E\u003Cspan class=\u0022dni-code-hint\u0022\u003E\u003Ccode\u003E(0,4,2,4,5,5,5, 5)\u003C/code\u003E\u003C/span\u003E\u003C/summary\u003E\u003Cdiv\u003E\u003Ctable\u003E\u003Cthead\u003E\u003Ctr\u003E\u003C/tr\u003E\u003C/thead\u003E\u003Ctbody\u003E\u003Ctr\u003E\u003Ctd\u003EItem1\u003C/td\u003E\u003Ctd\u003E\u003Cdiv class=\u0022dni-plaintext\u0022\u003E\u003Cpre\u003E0,4,2,4,5,5,5\u003C/pre\u003E\u003C/div\u003E\u003C/td\u003E\u003C/tr\u003E\u003Ctr\u003E\u003Ctd\u003EItem2\u003C/td\u003E\u003Ctd\u003E\u003Cdiv class=\u0022dni-plaintext\u0022\u003E\u003Cpre\u003E5\u003C/pre\u003E\u003C/div\u003E\u003C/td\u003E\u003C/tr\u003E\u003C/tbody\u003E\u003C/table\u003E\u003C/div\u003E\u003C/details\u003E\u003C/td\u003E\u003C/tr\u003E\u003Ctr\u003E\u003Ctd\u003EValue\u003C/td\u003E\u003Ctd\u003E\u003Cdiv class=\u0022dni-plaintext\u0022\u003E\u003Cpre\u003E57\u003C/pre\u003E\u003C/div\u003E\u003C/td\u003E\u003C/tr\u003E\u003C/tbody\u003E\u003C/table\u003E\u003C/div\u003E\u003C/details\u003E\u003C/td\u003E\u003C/tr\u003E\u003Ctr\u003E\u003Ctd\u003E1\u003C/td\u003E\u003Ctd\u003E\u003Cdetails class=\u0022dni-treeview\u0022\u003E\u003Csummary\u003E\u003Cspan class=\u0022dni-code-hint\u0022\u003E\u003Ccode\u003E[(9,4,4,6,0,8,14, 34), 57]\u003C/code\u003E\u003C/span\u003E\u003C/summary\u003E\u003Cdiv\u003E\u003Ctable\u003E\u003Cthead\u003E\u003Ctr\u003E\u003C/tr\u003E\u003C/thead\u003E\u003Ctbody\u003E\u003Ctr\u003E\u003Ctd\u003EKey\u003C/td\u003E\u003Ctd\u003E\u003Cdetails class=\u0022dni-treeview\u0022\u003E\u003Csummary\u003E\u003Cspan class=\u0022dni-code-hint\u0022\u003E\u003Ccode\u003E(9,4,4,6,0,8,14, 34)\u003C/code\u003E\u003C/span\u003E\u003C/summary\u003E\u003Cdiv\u003E\u003Ctable\u003E\u003Cthead\u003E\u003Ctr\u003E\u003C/tr\u003E\u003C/thead\u003E\u003Ctbody\u003E\u003Ctr\u003E\u003Ctd\u003EItem1\u003C/td\u003E\u003Ctd\u003E\u003Cdiv class=\u0022dni-plaintext\u0022\u003E\u003Cpre\u003E9,4,4,6,0,8,14\u003C/pre\u003E\u003C/div\u003E\u003C/td\u003E\u003C/tr\u003E\u003Ctr\u003E\u003Ctd\u003EItem2\u003C/td\u003E\u003Ctd\u003E\u003Cdiv class=\u0022dni-plaintext\u0022\u003E\u003Cpre\u003E34\u003C/pre\u003E\u003C/div\u003E\u003C/td\u003E\u003C/tr\u003E\u003C/tbody\u003E\u003C/table\u003E\u003C/div\u003E\u003C/details\u003E\u003C/td\u003E\u003C/tr\u003E\u003Ctr\u003E\u003Ctd\u003EValue\u003C/td\u003E\u003Ctd\u003E\u003Cdiv class=\u0022dni-plaintext\u0022\u003E\u003Cpre\u003E57\u003C/pre\u003E\u003C/div\u003E\u003C/td\u003E\u003C/tr\u003E\u003C/tbody\u003E\u003C/table\u003E\u003C/div\u003E\u003C/details\u003E\u003C/td\u003E\u003C/tr\u003E\u003Ctr\u003E\u003Ctd\u003E2\u003C/td\u003E\u003Ctd\u003E\u003Cdetails class=\u0022dni-treeview\u0022\u003E\u003Csummary\u003E\u003Cspan class=\u0022dni-code-hint\u0022\u003E\u003Ccode\u003E[(15,0,0,0,4,3,4, 21), 57]\u003C/code\u003E\u003C/span\u003E\u003C/summary\u003E\u003Cdiv\u003E\u003Ctable\u003E\u003Cthead\u003E\u003Ctr\u003E\u003C/tr\u003E\u003C/thead\u003E\u003Ctbody\u003E\u003Ctr\u003E\u003Ctd\u003EKey\u003C/td\u003E\u003Ctd\u003E\u003Cdetails class=\u0022dni-treeview\u0022\u003E\u003Csummary\u003E\u003Cspan class=\u0022dni-code-hint\u0022\u003E\u003Ccode\u003E(15,0,0,0,4,3,4, 21)\u003C/code\u003E\u003C/span\u003E\u003C/summary\u003E\u003Cdiv\u003E\u003Ctable\u003E\u003Cthead\u003E\u003Ctr\u003E\u003C/tr\u003E\u003C/thead\u003E\u003Ctbody\u003E\u003Ctr\u003E\u003Ctd\u003EItem1\u003C/td\u003E\u003Ctd\u003E\u003Cdiv class=\u0022dni-plaintext\u0022\u003E\u003Cpre\u003E15,0,0,0,4,3,4\u003C/pre\u003E\u003C/div\u003E\u003C/td\u003E\u003C/tr\u003E\u003Ctr\u003E\u003Ctd\u003EItem2\u003C/td\u003E\u003Ctd\u003E\u003Cdiv class=\u0022dni-plaintext\u0022\u003E\u003Cpre\u003E21\u003C/pre\u003E\u003C/div\u003E\u003C/td\u003E\u003C/tr\u003E\u003C/tbody\u003E\u003C/table\u003E\u003C/div\u003E\u003C/details\u003E\u003C/td\u003E\u003C/tr\u003E\u003Ctr\u003E\u003Ctd\u003EValue\u003C/td\u003E\u003Ctd\u003E\u003Cdiv class=\u0022dni-plaintext\u0022\u003E\u003Cpre\u003E57\u003C/pre\u003E\u003C/div\u003E\u003C/td\u003E\u003C/tr\u003E\u003C/tbody\u003E\u003C/table\u003E\u003C/div\u003E\u003C/details\u003E\u003C/td\u003E\u003C/tr\u003E\u003Ctr\u003E\u003Ctd\u003E3\u003C/td\u003E\u003Ctd\u003E\u003Cdetails class=\u0022dni-treeview\u0022\u003E\u003Csummary\u003E\u003Cspan class=\u0022dni-code-hint\u0022\u003E\u003Ccode\u003E[(4,3,2,2,0,4,2, 10), 57]\u003C/code\u003E\u003C/span\u003E\u003C/summary\u003E\u003Cdiv\u003E\u003Ctable\u003E\u003Cthead\u003E\u003Ctr\u003E\u003C/tr\u003E\u003C/thead\u003E\u003Ctbody\u003E\u003Ctr\u003E\u003Ctd\u003EKey\u003C/td\u003E\u003Ctd\u003E\u003Cdetails class=\u0022dni-treeview\u0022\u003E\u003Csummary\u003E\u003Cspan class=\u0022dni-code-hint\u0022\u003E\u003Ccode\u003E(4,3,2,2,0,4,2, 10)\u003C/code\u003E\u003C/span\u003E\u003C/summary\u003E\u003Cdiv\u003E\u003Ctable\u003E\u003Cthead\u003E\u003Ctr\u003E\u003C/tr\u003E\u003C/thead\u003E\u003Ctbody\u003E\u003Ctr\u003E\u003Ctd\u003EItem1\u003C/td\u003E\u003Ctd\u003E\u003Cdiv class=\u0022dni-plaintext\u0022\u003E\u003Cpre\u003E4,3,2,2,0,4,2\u003C/pre\u003E\u003C/div\u003E\u003C/td\u003E\u003C/tr\u003E\u003Ctr\u003E\u003Ctd\u003EItem2\u003C/td\u003E\u003Ctd\u003E\u003Cdiv class=\u0022dni-plaintext\u0022\u003E\u003Cpre\u003E10\u003C/pre\u003E\u003C/div\u003E\u003C/td\u003E\u003C/tr\u003E\u003C/tbody\u003E\u003C/table\u003E\u003C/div\u003E\u003C/details\u003E\u003C/td\u003E\u003C/tr\u003E\u003Ctr\u003E\u003Ctd\u003EValue\u003C/td\u003E\u003Ctd\u003E\u003Cdiv class=\u0022dni-plaintext\u0022\u003E\u003Cpre\u003E57\u003C/pre\u003E\u003C/div\u003E\u003C/td\u003E\u003C/tr\u003E\u003C/tbody\u003E\u003C/table\u003E\u003C/div\u003E\u003C/details\u003E\u003C/td\u003E\u003C/tr\u003E\u003Ctr\u003E\u003Ctd\u003E4\u003C/td\u003E\u003Ctd\u003E\u003Cdetails class=\u0022dni-treeview\u0022\u003E\u003Csummary\u003E\u003Cspan class=\u0022dni-code-hint\u0022\u003E\u003Ccode\u003E[(10,5,0,0,0,2,3, 2), 57]\u003C/code\u003E\u003C/span\u003E\u003C/summary\u003E\u003Cdiv\u003E\u003Ctable\u003E\u003Cthead\u003E\u003Ctr\u003E\u003C/tr\u003E\u003C/thead\u003E\u003Ctbody\u003E\u003Ctr\u003E\u003Ctd\u003EKey\u003C/td\u003E\u003Ctd\u003E\u003Cdetails class=\u0022dni-treeview\u0022\u003E\u003Csummary\u003E\u003Cspan class=\u0022dni-code-hint\u0022\u003E\u003Ccode\u003E(10,5,0,0,0,2,3, 2)\u003C/code\u003E\u003C/span\u003E\u003C/summary\u003E\u003Cdiv\u003E\u003Ctable\u003E\u003Cthead\u003E\u003Ctr\u003E\u003C/tr\u003E\u003C/thead\u003E\u003Ctbody\u003E\u003Ctr\u003E\u003Ctd\u003EItem1\u003C/td\u003E\u003Ctd\u003E\u003Cdiv class=\u0022dni-plaintext\u0022\u003E\u003Cpre\u003E10,5,0,0,0,2,3\u003C/pre\u003E\u003C/div\u003E\u003C/td\u003E\u003C/tr\u003E\u003Ctr\u003E\u003Ctd\u003EItem2\u003C/td\u003E\u003Ctd\u003E\u003Cdiv class=\u0022dni-plaintext\u0022\u003E\u003Cpre\u003E2\u003C/pre\u003E\u003C/div\u003E\u003C/td\u003E\u003C/tr\u003E\u003C/tbody\u003E\u003C/table\u003E\u003C/div\u003E\u003C/details\u003E\u003C/td\u003E\u003C/tr\u003E\u003Ctr\u003E\u003Ctd\u003EValue\u003C/td\u003E\u003Ctd\u003E\u003Cdiv class=\u0022dni-plaintext\u0022\u003E\u003Cpre\u003E57\u003C/pre\u003E\u003C/div\u003E\u003C/td\u003E\u003C/tr\u003E\u003C/tbody\u003E\u003C/table\u003E\u003C/div\u003E\u003C/details\u003E\u003C/td\u003E\u003C/tr\u003E\u003C/tbody\u003E\u003C/table\u003E\u003Cstyle\u003E\r\n",
              ".dni-code-hint {\r\n",
              "    font-style: italic;\r\n",
              "    overflow: hidden;\r\n",
              "    white-space: nowrap;\r\n",
              "}\r\n",
              ".dni-treeview {\r\n",
              "    white-space: nowrap;\r\n",
              "}\r\n",
              ".dni-treeview td {\r\n",
              "    vertical-align: top;\r\n",
              "    text-align: start;\r\n",
              "}\r\n",
              "details.dni-treeview {\r\n",
              "    padding-left: 1em;\r\n",
              "}\r\n",
              "table td {\r\n",
              "    text-align: start;\r\n",
              "}\r\n",
              "table tr { \r\n",
              "    vertical-align: top; \r\n",
              "    margin: 0em 0px;\r\n",
              "}\r\n",
              "table tr td pre \r\n",
              "{ \r\n",
              "    vertical-align: top !important; \r\n",
              "    margin: 0em 0px !important;\r\n",
              "} \r\n",
              "table th {\r\n",
              "    text-align: start;\r\n",
              "}\r\n",
              "\u003C/style\u003E"
            ]
          },
          "metadata": {},
          "output_type": "display_data"
        },
        {
          "name": "stdout",
          "output_type": "stream",
          "text": [
            "Repetitions in puzzle input\n"
          ]
        },
        {
          "data": {
            "text/html": [
              "\u003Ctable\u003E\u003Cthead\u003E\u003Ctr\u003E\u003Cth\u003E\u003Ci\u003Eindex\u003C/i\u003E\u003C/th\u003E\u003Cth\u003Evalue\u003C/th\u003E\u003C/tr\u003E\u003C/thead\u003E\u003Ctbody\u003E\u003Ctr\u003E\u003Ctd\u003E0\u003C/td\u003E\u003Ctd\u003E\u003Cdetails class=\u0022dni-treeview\u0022\u003E\u003Csummary\u003E\u003Cspan class=\u0022dni-code-hint\u0022\u003E\u003Ccode\u003E[(6,6,0,4,4,9,30, 819), 6]\u003C/code\u003E\u003C/span\u003E\u003C/summary\u003E\u003Cdiv\u003E\u003Ctable\u003E\u003Cthead\u003E\u003Ctr\u003E\u003C/tr\u003E\u003C/thead\u003E\u003Ctbody\u003E\u003Ctr\u003E\u003Ctd\u003EKey\u003C/td\u003E\u003Ctd\u003E\u003Cdetails class=\u0022dni-treeview\u0022\u003E\u003Csummary\u003E\u003Cspan class=\u0022dni-code-hint\u0022\u003E\u003Ccode\u003E(6,6,0,4,4,9,30, 819)\u003C/code\u003E\u003C/span\u003E\u003C/summary\u003E\u003Cdiv\u003E\u003Ctable\u003E\u003Cthead\u003E\u003Ctr\u003E\u003C/tr\u003E\u003C/thead\u003E\u003Ctbody\u003E\u003Ctr\u003E\u003Ctd\u003EItem1\u003C/td\u003E\u003Ctd\u003E\u003Cdiv class=\u0022dni-plaintext\u0022\u003E\u003Cpre\u003E6,6,0,4,4,9,30\u003C/pre\u003E\u003C/div\u003E\u003C/td\u003E\u003C/tr\u003E\u003Ctr\u003E\u003Ctd\u003EItem2\u003C/td\u003E\u003Ctd\u003E\u003Cdiv class=\u0022dni-plaintext\u0022\u003E\u003Cpre\u003E819\u003C/pre\u003E\u003C/div\u003E\u003C/td\u003E\u003C/tr\u003E\u003C/tbody\u003E\u003C/table\u003E\u003C/div\u003E\u003C/details\u003E\u003C/td\u003E\u003C/tr\u003E\u003Ctr\u003E\u003Ctd\u003EValue\u003C/td\u003E\u003Ctd\u003E\u003Cdiv class=\u0022dni-plaintext\u0022\u003E\u003Cpre\u003E6\u003C/pre\u003E\u003C/div\u003E\u003C/td\u003E\u003C/tr\u003E\u003C/tbody\u003E\u003C/table\u003E\u003C/div\u003E\u003C/details\u003E\u003C/td\u003E\u003C/tr\u003E\u003Ctr\u003E\u003Ctd\u003E1\u003C/td\u003E\u003Ctd\u003E\u003Cdetails class=\u0022dni-treeview\u0022\u003E\u003Csummary\u003E\u003Cspan class=\u0022dni-code-hint\u0022\u003E\u003Ccode\u003E[(2,2,0,0,0,1,36, 847), 6]\u003C/code\u003E\u003C/span\u003E\u003C/summary\u003E\u003Cdiv\u003E\u003Ctable\u003E\u003Cthead\u003E\u003Ctr\u003E\u003C/tr\u003E\u003C/thead\u003E\u003Ctbody\u003E\u003Ctr\u003E\u003Ctd\u003EKey\u003C/td\u003E\u003Ctd\u003E\u003Cdetails class=\u0022dni-treeview\u0022\u003E\u003Csummary\u003E\u003Cspan class=\u0022dni-code-hint\u0022\u003E\u003Ccode\u003E(2,2,0,0,0,1,36, 847)\u003C/code\u003E\u003C/span\u003E\u003C/summary\u003E\u003Cdiv\u003E\u003Ctable\u003E\u003Cthead\u003E\u003Ctr\u003E\u003C/tr\u003E\u003C/thead\u003E\u003Ctbody\u003E\u003Ctr\u003E\u003Ctd\u003EItem1\u003C/td\u003E\u003Ctd\u003E\u003Cdiv class=\u0022dni-plaintext\u0022\u003E\u003Cpre\u003E2,2,0,0,0,1,36\u003C/pre\u003E\u003C/div\u003E\u003C/td\u003E\u003C/tr\u003E\u003Ctr\u003E\u003Ctd\u003EItem2\u003C/td\u003E\u003Ctd\u003E\u003Cdiv class=\u0022dni-plaintext\u0022\u003E\u003Cpre\u003E847\u003C/pre\u003E\u003C/div\u003E\u003C/td\u003E\u003C/tr\u003E\u003C/tbody\u003E\u003C/table\u003E\u003C/div\u003E\u003C/details\u003E\u003C/td\u003E\u003C/tr\u003E\u003Ctr\u003E\u003Ctd\u003EValue\u003C/td\u003E\u003Ctd\u003E\u003Cdiv class=\u0022dni-plaintext\u0022\u003E\u003Cpre\u003E6\u003C/pre\u003E\u003C/div\u003E\u003C/td\u003E\u003C/tr\u003E\u003C/tbody\u003E\u003C/table\u003E\u003C/div\u003E\u003C/details\u003E\u003C/td\u003E\u003C/tr\u003E\u003Ctr\u003E\u003Ctd\u003E2\u003C/td\u003E\u003Ctd\u003E\u003Cdetails class=\u0022dni-treeview\u0022\u003E\u003Csummary\u003E\u003Cspan class=\u0022dni-code-hint\u0022\u003E\u003Ccode\u003E[(9,9,4,4,0,8,31, 1131), 6]\u003C/code\u003E\u003C/span\u003E\u003C/summary\u003E\u003Cdiv\u003E\u003Ctable\u003E\u003Cthead\u003E\u003Ctr\u003E\u003C/tr\u003E\u003C/thead\u003E\u003Ctbody\u003E\u003Ctr\u003E\u003Ctd\u003EKey\u003C/td\u003E\u003Ctd\u003E\u003Cdetails class=\u0022dni-treeview\u0022\u003E\u003Csummary\u003E\u003Cspan class=\u0022dni-code-hint\u0022\u003E\u003Ccode\u003E(9,9,4,4,0,8,31, 1131)\u003C/code\u003E\u003C/span\u003E\u003C/summary\u003E\u003Cdiv\u003E\u003Ctable\u003E\u003Cthead\u003E\u003Ctr\u003E\u003C/tr\u003E\u003C/thead\u003E\u003Ctbody\u003E\u003Ctr\u003E\u003Ctd\u003EItem1\u003C/td\u003E\u003Ctd\u003E\u003Cdiv class=\u0022dni-plaintext\u0022\u003E\u003Cpre\u003E9,9,4,4,0,8,31\u003C/pre\u003E\u003C/div\u003E\u003C/td\u003E\u003C/tr\u003E\u003Ctr\u003E\u003Ctd\u003EItem2\u003C/td\u003E\u003Ctd\u003E\u003Cdiv class=\u0022dni-plaintext\u0022\u003E\u003Cpre\u003E1131\u003C/pre\u003E\u003C/div\u003E\u003C/td\u003E\u003C/tr\u003E\u003C/tbody\u003E\u003C/table\u003E\u003C/div\u003E\u003C/details\u003E\u003C/td\u003E\u003C/tr\u003E\u003Ctr\u003E\u003Ctd\u003EValue\u003C/td\u003E\u003Ctd\u003E\u003Cdiv class=\u0022dni-plaintext\u0022\u003E\u003Cpre\u003E6\u003C/pre\u003E\u003C/div\u003E\u003C/td\u003E\u003C/tr\u003E\u003C/tbody\u003E\u003C/table\u003E\u003C/div\u003E\u003C/details\u003E\u003C/td\u003E\u003C/tr\u003E\u003Ctr\u003E\u003Ctd\u003E3\u003C/td\u003E\u003Ctd\u003E\u003Cdetails class=\u0022dni-treeview\u0022\u003E\u003Csummary\u003E\u003Cspan class=\u0022dni-code-hint\u0022\u003E\u003Ccode\u003E[(22,22,8,8,0,0,44, 1151), 6]\u003C/code\u003E\u003C/span\u003E\u003C/summary\u003E\u003Cdiv\u003E\u003Ctable\u003E\u003Cthead\u003E\u003Ctr\u003E\u003C/tr\u003E\u003C/thead\u003E\u003Ctbody\u003E\u003Ctr\u003E\u003Ctd\u003EKey\u003C/td\u003E\u003Ctd\u003E\u003Cdetails class=\u0022dni-treeview\u0022\u003E\u003Csummary\u003E\u003Cspan class=\u0022dni-code-hint\u0022\u003E\u003Ccode\u003E(22,22,8,8,0,0,44, 1151)\u003C/code\u003E\u003C/span\u003E\u003C/summary\u003E\u003Cdiv\u003E\u003Ctable\u003E\u003Cthead\u003E\u003Ctr\u003E\u003C/tr\u003E\u003C/thead\u003E\u003Ctbody\u003E\u003Ctr\u003E\u003Ctd\u003EItem1\u003C/td\u003E\u003Ctd\u003E\u003Cdiv class=\u0022dni-plaintext\u0022\u003E\u003Cpre\u003E22,22,8,8,0,0,44\u003C/pre\u003E\u003C/div\u003E\u003C/td\u003E\u003C/tr\u003E\u003Ctr\u003E\u003Ctd\u003EItem2\u003C/td\u003E\u003Ctd\u003E\u003Cdiv class=\u0022dni-plaintext\u0022\u003E\u003Cpre\u003E1151\u003C/pre\u003E\u003C/div\u003E\u003C/td\u003E\u003C/tr\u003E\u003C/tbody\u003E\u003C/table\u003E\u003C/div\u003E\u003C/details\u003E\u003C/td\u003E\u003C/tr\u003E\u003Ctr\u003E\u003Ctd\u003EValue\u003C/td\u003E\u003Ctd\u003E\u003Cdiv class=\u0022dni-plaintext\u0022\u003E\u003Cpre\u003E6\u003C/pre\u003E\u003C/div\u003E\u003C/td\u003E\u003C/tr\u003E\u003C/tbody\u003E\u003C/table\u003E\u003C/div\u003E\u003C/details\u003E\u003C/td\u003E\u003C/tr\u003E\u003Ctr\u003E\u003Ctd\u003E4\u003C/td\u003E\u003Ctd\u003E\u003Cdetails class=\u0022dni-treeview\u0022\u003E\u003Csummary\u003E\u003Cspan class=\u0022dni-code-hint\u0022\u003E\u003Ccode\u003E[(12,10,0,4,2,3,3, 1193), 6]\u003C/code\u003E\u003C/span\u003E\u003C/summary\u003E\u003Cdiv\u003E\u003Ctable\u003E\u003Cthead\u003E\u003Ctr\u003E\u003C/tr\u003E\u003C/thead\u003E\u003Ctbody\u003E\u003Ctr\u003E\u003Ctd\u003EKey\u003C/td\u003E\u003Ctd\u003E\u003Cdetails class=\u0022dni-treeview\u0022\u003E\u003Csummary\u003E\u003Cspan class=\u0022dni-code-hint\u0022\u003E\u003Ccode\u003E(12,10,0,4,2,3,3, 1193)\u003C/code\u003E\u003C/span\u003E\u003C/summary\u003E\u003Cdiv\u003E\u003Ctable\u003E\u003Cthead\u003E\u003Ctr\u003E\u003C/tr\u003E\u003C/thead\u003E\u003Ctbody\u003E\u003Ctr\u003E\u003Ctd\u003EItem1\u003C/td\u003E\u003Ctd\u003E\u003Cdiv class=\u0022dni-plaintext\u0022\u003E\u003Cpre\u003E12,10,0,4,2,3,3\u003C/pre\u003E\u003C/div\u003E\u003C/td\u003E\u003C/tr\u003E\u003Ctr\u003E\u003Ctd\u003EItem2\u003C/td\u003E\u003Ctd\u003E\u003Cdiv class=\u0022dni-plaintext\u0022\u003E\u003Cpre\u003E1193\u003C/pre\u003E\u003C/div\u003E\u003C/td\u003E\u003C/tr\u003E\u003C/tbody\u003E\u003C/table\u003E\u003C/div\u003E\u003C/details\u003E\u003C/td\u003E\u003C/tr\u003E\u003Ctr\u003E\u003Ctd\u003EValue\u003C/td\u003E\u003Ctd\u003E\u003Cdiv class=\u0022dni-plaintext\u0022\u003E\u003Cpre\u003E6\u003C/pre\u003E\u003C/div\u003E\u003C/td\u003E\u003C/tr\u003E\u003C/tbody\u003E\u003C/table\u003E\u003C/div\u003E\u003C/details\u003E\u003C/td\u003E\u003C/tr\u003E\u003C/tbody\u003E\u003C/table\u003E\u003Cstyle\u003E\r\n",
              ".dni-code-hint {\r\n",
              "    font-style: italic;\r\n",
              "    overflow: hidden;\r\n",
              "    white-space: nowrap;\r\n",
              "}\r\n",
              ".dni-treeview {\r\n",
              "    white-space: nowrap;\r\n",
              "}\r\n",
              ".dni-treeview td {\r\n",
              "    vertical-align: top;\r\n",
              "    text-align: start;\r\n",
              "}\r\n",
              "details.dni-treeview {\r\n",
              "    padding-left: 1em;\r\n",
              "}\r\n",
              "table td {\r\n",
              "    text-align: start;\r\n",
              "}\r\n",
              "table tr { \r\n",
              "    vertical-align: top; \r\n",
              "    margin: 0em 0px;\r\n",
              "}\r\n",
              "table tr td pre \r\n",
              "{ \r\n",
              "    vertical-align: top !important; \r\n",
              "    margin: 0em 0px !important;\r\n",
              "} \r\n",
              "table th {\r\n",
              "    text-align: start;\r\n",
              "}\r\n",
              "\u003C/style\u003E"
            ]
          },
          "metadata": {},
          "output_type": "display_data"
        }
      ],
      "source": [
        "void FindRepetition(string[] inputLines, int rockCount)\n",
        "{\n",
        "    Dictionary\u003C(string signature, int jetstreamPos), int\u003E repeatCount = new();\n",
        "\n",
        "    foreach (var checkpoint in GetCheckpoints(inputLines, rockCount))\n",
        "    {\n",
        "        var sig = checkpoint.signature;\n",
        "        var moveIdx = checkpoint.moveSequenceIndex;\n",
        "        var sigMove = (sig, moveIdx);\n",
        "\n",
        "        repeatCount[sigMove] = repeatCount.TryGetValue(sigMove, out var count) switch {\n",
        "            true =\u003E count \u002B 1,\n",
        "            _ =\u003E 1\n",
        "        };\n",
        "    }\n",
        "\n",
        "    repeatCount.OrderByDescending(r =\u003E r.Value).Take(5).ToList().Display();\n",
        "}\n",
        "\n",
        "Console.WriteLine(\u0022Repetitions in test input:\u0022);\n",
        "FindRepetition(testInputLines, 2022);\n",
        "Console.WriteLine(\u0022Repetitions in puzzle input\u0022);\n",
        "FindRepetition(inputLines, 10_000);"
      ]
    },
    {
      "cell_type": "markdown",
      "id": "39d82b60",
      "metadata": {},
      "source": [
        "Ok I\u0027m fairly confident we\u0027re going to find repetitive cycles now. Let\u0027s try to specifically find a cycle."
      ]
    },
    {
      "cell_type": "code",
      "execution_count": 17,
      "id": "4c9979bc",
      "metadata": {
        "language_info": {
          "name": "polyglot-notebook"
        },
        "polyglot_notebook": {
          "kernelName": "csharp"
        }
      },
      "outputs": [
        {
          "name": "stdout",
          "output_type": "stream",
          "text": [
            "Finding repetitive cycle in test input:\n",
            "Original was...\n",
            "(51, 0, 30, 5, 0,4,2,4,5,5,5)\n",
            "We found a repetition!\n",
            "(104, 0, 65, 5, 0,4,2,4,5,5,5)\n",
            "Height diff: 53. Rocks diff: 35\n",
            "We found a repetition!\n",
            "(157, 0, 100, 5, 0,4,2,4,5,5,5)\n",
            "Height diff: 53. Rocks diff: 35\n",
            "We found a repetition!\n",
            "(210, 0, 135, 5, 0,4,2,4,5,5,5)\n",
            "Height diff: 53. Rocks diff: 35\n",
            "We found a repetition!\n",
            "(263, 0, 170, 5, 0,4,2,4,5,5,5)\n",
            "Height diff: 53. Rocks diff: 35\n",
            "\n",
            "Finding repetitive cycle in puzzle input\n",
            "Original was...\n",
            "(188, 0, 130, 819, 6,6,0,4,4,9,30)\n",
            "We found a repetition!\n",
            "(2989, 0, 1880, 819, 6,6,0,4,4,9,30)\n",
            "Height diff: 2801. Rocks diff: 1750\n",
            "We found a repetition!\n",
            "(5774, 0, 3625, 819, 6,6,0,4,4,9,30)\n",
            "Height diff: 2785. Rocks diff: 1745\n",
            "We found a repetition!\n",
            "(8559, 0, 5370, 819, 6,6,0,4,4,9,30)\n",
            "Height diff: 2785. Rocks diff: 1745\n"
          ]
        }
      ],
      "source": [
        "void FindRepetitionCycle(string[] inputLines, int rockCount)\n",
        "{\n",
        "    Dictionary\u003C(string signature, int moveSequenceIndex), Checkpoint\u003E found = new();\n",
        "\n",
        "    (string signature, int moveSequenceIndex) firstRepeat = default;\n",
        "    foreach (var checkpoint in GetCheckpoints(inputLines, rockCount))\n",
        "    {\n",
        "        var (_, _, _, moveSequenceIndex, signature) = checkpoint;\n",
        "\n",
        "        if (found.ContainsKey((signature, moveSequenceIndex)))\n",
        "        {\n",
        "            var sig = (signature, moveSequenceIndex);\n",
        "            if (sig == firstRepeat || firstRepeat == default)\n",
        "            {\n",
        "                var previous = found[sig];\n",
        "                if (firstRepeat == default)\n",
        "                {\n",
        "                    Console.WriteLine(\u0022Original was...\u0022);\n",
        "                    Console.WriteLine(previous);\n",
        "                }\n",
        "                \n",
        "                Console.WriteLine($\u0022We found a repetition!\u0022);\n",
        "                Console.WriteLine(checkpoint);\n",
        "\n",
        "                var heightDiff = checkpoint.towerHeight - previous.towerHeight;\n",
        "                var shapeDiff = checkpoint.rockSequenceTotal - previous.rockSequenceTotal;\n",
        "                Console.WriteLine($\u0022Height diff: {heightDiff}. Rocks diff: {shapeDiff}\u0022);\n",
        "\n",
        "                firstRepeat = sig;\n",
        "            } \n",
        "        }\n",
        "        found[(signature, moveSequenceIndex)] = checkpoint;\n",
        "    }\n",
        "}\n",
        "\n",
        "Console.WriteLine(\u0022Finding repetitive cycle in test input:\u0022);\n",
        "FindRepetitionCycle(testInputLines, 200);\n",
        "Console.WriteLine();\n",
        "Console.WriteLine(\u0022Finding repetitive cycle in puzzle input\u0022);\n",
        "FindRepetitionCycle(inputLines, 6000); "
      ]
    },
    {
      "cell_type": "markdown",
      "id": "08ee90f5",
      "metadata": {},
      "source": [
        "Ok, we found the cycle we are looking for! In the test input this worked beautifully, but there\u0027s a slight quirk in the puzzle input. It seems the cycle interval isn\u0027t quite right the first time, i.e., \u00601750\u0060 vs \u00601745\u0060 thereafter. After some thinking I suspect this is due to my definition of the signature: something like a \u0022C\u0022 shape would have the same signature as a straight column, so some falling rocks might drift and settle in the gap. The first instance of the cycle is found after only 130 blocks, building up from the flat base of the tower. Perhaps this underlying rock formation is slightly different from the subsequent cycles which are building up from the jagged top of the tower.\n",
        "\n",
        "I could try and code-out this quirk but I\u0027ll bury my head in the sand for now and just process a bunch of rocks before searching for cycles :) But at least let\u0027s confirm our suspiction and compare the towers."
      ]
    },
    {
      "cell_type": "code",
      "execution_count": 18,
      "id": "99930714",
      "metadata": {},
      "outputs": [],
      "source": [
        "void CheckTowerShapes()\n",
        "{\n",
        "    TowerSim sim = new(shapePoints, inputLines);\n",
        "    sim.DoSomeFalling(130);\n",
        "    Console.WriteLine($\u0022After falling, we have: {GetSignature(sim.Tower)}\u0022);\n",
        "    sim.Tower.Render();\n",
        "\n",
        "    var firstHeight = sim.TowerHeight;\n",
        "    sim.DoSomeFalling(1750);\n",
        "    Console.WriteLine($\u0022After some more falling, we have: {GetSignature(sim.Tower)}\u0022);\n",
        "    sim.Tower.Where(p =\u003E p.Y \u003C= -sim.TowerHeight \u002B firstHeight).Render();\n",
        "\n",
        "    sim.DoSomeFalling(1745);\n",
        "    Console.WriteLine($\u0022After falling a third time, we have {GetSignature(sim.Tower)}\u0022);\n",
        "    sim.Tower.Where(p =\u003E p.Y \u003C= -sim.TowerHeight \u002B firstHeight).Render();\n",
        "}\n",
        "\n",
        "// Skipping this verbose output, but it confirms the towers differ between cycles 1-2, but are identical between 2-3\n",
        "// CheckTowerShapes();"
      ]
    },
    {
      "cell_type": "markdown",
      "id": "1dad37dc",
      "metadata": {},
      "source": [
        "Now that we know there are cycles, we can put it all together and calculate the height mostly as a function of the cycle length."
      ]
    },
    {
      "cell_type": "code",
      "execution_count": 19,
      "id": "4f7bf9da",
      "metadata": {},
      "outputs": [],
      "source": [
        "const long repetitions = 1_000_000_000_000;\n",
        "\n",
        "long DoLargeFall(string[] inputLines, long rockCount)\n",
        "{\n",
        "    Dictionary\u003C(string signature, int jetstreamIndex), (int towerHeight, int shapeTotal)\u003E repeatLookup = new();\n",
        "\n",
        "    long heightIncrement = 0;\n",
        "    long rockIncrement = 0;\n",
        "\n",
        "    TowerSim towerSim = new(shapePoints, inputLines);\n",
        "\n",
        "    // Head-burying-in-sand moment here: see comments above\n",
        "    towerSim.DoSomeFalling(5000);\n",
        "\n",
        "    while (heightIncrement is 0)\n",
        "    {\n",
        "        towerSim.DoSomeFalling(shapePoints.Count);\n",
        "        var sigIndex = (GetSignature(towerSim.Tower), towerSim.MoveSequenceIndex);\n",
        "        if (repeatLookup.TryGetValue(sigIndex, out var previous))\n",
        "        {\n",
        "            // we found the repeat!\n",
        "            var (prevTowerheight, prevShapeTotal) = previous;\n",
        "\n",
        "            heightIncrement = towerSim.TowerHeight - prevTowerheight;\n",
        "            rockIncrement = towerSim.RockSequenceTotal - prevShapeTotal;\n",
        "            break;\n",
        "        }\n",
        "\n",
        "        repeatLookup[sigIndex] = (towerSim.TowerHeight, towerSim.RockSequenceTotal);\n",
        "    }\n",
        "\n",
        "    long remainingDrops = rockCount - towerSim.RockSequenceTotal;\n",
        "    long remainingLoops = remainingDrops / rockIncrement;\n",
        "    int remainingManualSteps = (int)(remainingDrops % rockIncrement);\n",
        "    towerSim.DoSomeFalling(remainingManualSteps);\n",
        "    long result = towerSim.TowerHeight \u002B (remainingLoops * heightIncrement);\n",
        "    \n",
        "    return result;\n",
        "}"
      ]
    },
    {
      "cell_type": "code",
      "execution_count": 20,
      "id": "b36556d2",
      "metadata": {},
      "outputs": [
        {
          "name": "stdout",
          "output_type": "stream",
          "text": [
            "1514285714288\n"
          ]
        }
      ],
      "source": [
        "// In the example above, the tower would be 1514285714288 units tall!\n",
        "\n",
        "var part2TestAnswer = DoLargeFall(testInputLines, repetitions);\n",
        "Console.WriteLine(part2TestAnswer);\n",
        "Ensure(1514285714288L, part2TestAnswer);"
      ]
    },
    {
      "cell_type": "code",
      "execution_count": 21,
      "id": "33c7f262",
      "metadata": {},
      "outputs": [
        {
          "name": "stdout",
          "output_type": "stream",
          "text": [
            "1595988538691\n"
          ]
        }
      ],
      "source": [
        "// How tall will the tower be after 1000000000000 rocks have stopped?\n",
        "\n",
        "var part2Answer = DoLargeFall(inputLines, repetitions);\n",
        "Console.WriteLine(part2Answer);"
      ]
    },
    {
      "cell_type": "code",
      "execution_count": 22,
      "id": "36769023",
      "metadata": {},
      "outputs": [],
      "source": [
        "// 1595988538691 is correct!\n",
        "Ensure(1595988538691L, part2Answer);"
      ]
    }
  ],
  "metadata": {
    "kernelspec": {
      "display_name": ".NET (C#)",
      "language": "C#",
      "name": ".net-csharp"
    },
    "language_info": {
      "name": "polyglot-notebook"
    },
    "polyglot_notebook": {
      "kernelInfo": {
        "defaultKernelName": "csharp",
        "items": [
          {
            "aliases": [],
            "name": "csharp"
          }
        ]
      }
    }
  },
  "nbformat": 4,
  "nbformat_minor": 5
}