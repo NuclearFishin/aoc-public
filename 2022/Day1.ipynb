{
  "cells": [
    {
      "cell_type": "markdown",
      "id": "24dc6f34",
      "metadata": {
        "polyglot_notebook": {
          "kernelName": "csharp"
        }
      },
      "source": [
        "### --- Day 1: Calorie Counting ---\n",
        "\n",
        "Puzzle description redacted as-per Advent of Code guidelines\n",
        "\n",
        "You may find the puzzle description at: https://adventofcode.com/2022/day/1"
      ]
    },
    {
      "cell_type": "code",
      "execution_count": 2,
      "id": "95e9f23e",
      "metadata": {
        "polyglot_notebook": {
          "kernelName": "csharp"
        }
      },
      "outputs": [],
      "source": [
        "#!import ../Utils.ipynb"
      ]
    },
    {
      "cell_type": "code",
      "execution_count": 3,
      "id": "9cd4d8cb",
      "metadata": {
        "polyglot_notebook": {
          "kernelName": "csharp"
        }
      },
      "outputs": [
        {
          "name": "stdout",
          "output_type": "stream",
          "text": [
            "Loading puzzle file: Day1.txt\n",
            "Total lines: 2242\n",
            "Max line length: 5\n",
            "\n",
            "2936\n",
            "2154\n",
            "1578\n",
            "4820\n",
            "5674\n",
            "5582\n",
            "2392\n",
            "6148\n",
            "1276\n",
            "1783\n",
            "2572\n",
            "5067\n",
            "3526\n",
            "\n",
            "1673\n",
            "10546\n",
            "\n",
            "1036\n",
            "2765\n",
            "2244\n"
          ]
        }
      ],
      "source": [
        "var inputLines = LoadPuzzleInput(2023, 1);\n",
        "WriteLines(inputLines, maxRows: 20);"
      ]
    },
    {
      "cell_type": "code",
      "execution_count": 4,
      "id": "2647b5d0",
      "metadata": {
        "polyglot_notebook": {
          "kernelName": "csharp"
        }
      },
      "outputs": [],
      "source": [
        "string[] testInputLines = [\n",
        "    \u00221000\u0022,\n",
        "    \u00222000\u0022,\n",
        "    \u00223000\u0022,\n",
        "    \u0022\u0022,\n",
        "    \u00224000\u0022,\n",
        "    \u0022\u0022,\n",
        "    \u00225000\u0022,\n",
        "    \u00226000\u0022,\n",
        "    \u0022\u0022,\n",
        "    \u00227000\u0022,\n",
        "    \u00228000\u0022,\n",
        "    \u00229000\u0022,\n",
        "    \u0022\u0022,\n",
        "    \u002210000\u0022,\n",
        "];"
      ]
    },
    {
      "cell_type": "code",
      "execution_count": 5,
      "id": "0d682103",
      "metadata": {
        "polyglot_notebook": {
          "kernelName": "csharp"
        }
      },
      "outputs": [],
      "source": [
        "int FindMaxCalories(string[] inputLines)\n",
        "{\n",
        "    var inputGroups = inputLines.SeparateBy(line =\u003E line is \u0022\u0022);\n",
        "    var maxCalories = inputGroups.Select(ig =\u003E ig.Select(int.Parse).Sum()).Max();\n",
        "    return maxCalories;\n",
        "}"
      ]
    },
    {
      "cell_type": "code",
      "execution_count": 6,
      "id": "e334eb36",
      "metadata": {
        "polyglot_notebook": {
          "kernelName": "csharp"
        }
      },
      "outputs": [
        {
          "name": "stdout",
          "output_type": "stream",
          "text": [
            "24000\n"
          ]
        }
      ],
      "source": [
        "// In the example above, this is 24000 (carried by the fourth Elf).\n",
        "\n",
        "var testAnswer = FindMaxCalories(testInputLines);\n",
        "Console.WriteLine(testAnswer);"
      ]
    },
    {
      "cell_type": "code",
      "execution_count": 7,
      "id": "395c7b85",
      "metadata": {
        "polyglot_notebook": {
          "kernelName": "csharp"
        }
      },
      "outputs": [
        {
          "name": "stdout",
          "output_type": "stream",
          "text": [
            "74198\n"
          ]
        }
      ],
      "source": [
        "// Find the Elf carrying the most Calories. How many total Calories is that Elf carrying?\n",
        "\n",
        "var part1Answer = FindMaxCalories(inputLines);\n",
        "Console.WriteLine(part1Answer);"
      ]
    },
    {
      "cell_type": "code",
      "execution_count": 8,
      "metadata": {
        "polyglot_notebook": {
          "kernelName": "csharp"
        }
      },
      "outputs": [],
      "source": [
        "// 74198 is correct!\n",
        "Ensure(74198, part1Answer);"
      ]
    },
    {
      "cell_type": "markdown",
      "metadata": {
        "language_info": {
          "name": "polyglot-notebook"
        },
        "polyglot_notebook": {
          "kernelName": "csharp"
        }
      },
      "source": [
        "### --- Part Two ---\n",
        "\n",
        "Puzzle description redacted as-per Advent of Code guidelines\n",
        "\n",
        "You may find the puzzle description at: https://adventofcode.com/2022/day/1"
      ]
    },
    {
      "cell_type": "code",
      "execution_count": 10,
      "metadata": {
        "language_info": {
          "name": "polyglot-notebook"
        },
        "polyglot_notebook": {
          "kernelName": "csharp"
        }
      },
      "outputs": [],
      "source": [
        "int Top3Calories(string[] inputLines)\n",
        "{\n",
        "    var inputGroups = inputLines.SeparateBy(line =\u003E line is \u0022\u0022);\n",
        "    var groupCalories = inputGroups.Select(ig =\u003E ig.Select(int.Parse).Sum());\n",
        "\n",
        "    return groupCalories.OrderByDescending(c =\u003E c).Take(3).Sum();\n",
        "}"
      ]
    },
    {
      "cell_type": "code",
      "execution_count": 11,
      "metadata": {
        "language_info": {
          "name": "polyglot-notebook"
        },
        "polyglot_notebook": {
          "kernelName": "csharp"
        }
      },
      "outputs": [
        {
          "name": "stdout",
          "output_type": "stream",
          "text": [
            "45000\n"
          ]
        }
      ],
      "source": [
        "// In the example above, the top three Elves... The sum of the Calories carried\n",
        "// by these three elves is 45000.\n",
        "\n",
        "var part2TestResult = Top3Calories(testInputLines);\n",
        "Console.WriteLine(part2TestResult);"
      ]
    },
    {
      "cell_type": "code",
      "execution_count": 12,
      "metadata": {
        "language_info": {
          "name": "polyglot-notebook"
        },
        "polyglot_notebook": {
          "kernelName": "csharp"
        }
      },
      "outputs": [
        {
          "name": "stdout",
          "output_type": "stream",
          "text": [
            "209914\n"
          ]
        }
      ],
      "source": [
        "// Find the top three Elves carrying the most Calories. How many Calories are\n",
        "// those Elves carrying in total?\n",
        "\n",
        "var part2Answer = Top3Calories(inputLines);\n",
        "Console.WriteLine(part2Answer);"
      ]
    },
    {
      "cell_type": "code",
      "execution_count": 13,
      "metadata": {
        "language_info": {
          "name": "polyglot-notebook"
        },
        "polyglot_notebook": {
          "kernelName": "csharp"
        }
      },
      "outputs": [],
      "source": [
        "// 209914 is correct!\n",
        "Ensure(209914, part2Answer);"
      ]
    }
  ],
  "metadata": {
    "kernelspec": {
      "display_name": ".NET (C#)",
      "language": "C#",
      "name": ".net-csharp"
    },
    "language_info": {
      "name": "polyglot-notebook"
    },
    "polyglot_notebook": {
      "kernelInfo": {
        "defaultKernelName": "csharp",
        "items": [
          {
            "aliases": [],
            "name": "csharp"
          }
        ]
      }
    }
  },
  "nbformat": 4,
  "nbformat_minor": 5
}