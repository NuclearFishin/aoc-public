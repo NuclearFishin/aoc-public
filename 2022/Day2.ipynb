{
  "cells": [
    {
      "cell_type": "markdown",
      "id": "24dc6f34",
      "metadata": {
        "language_info": {
          "name": "polyglot-notebook"
        },
        "polyglot_notebook": {
          "kernelName": "csharp"
        }
      },
      "source": [
        "### --- Day 2: Rock Paper Scissors ---\n",
        "\n",
        "Puzzle description redacted as-per Advent of Code guidelines\n",
        "\n",
        "You may find the puzzle description at: https://adventofcode.com/2022/day/2"
      ]
    },
    {
      "cell_type": "code",
      "execution_count": 2,
      "id": "045793eb",
      "metadata": {
        "language_info": {
          "name": "polyglot-notebook"
        },
        "polyglot_notebook": {
          "kernelName": "csharp"
        }
      },
      "outputs": [],
      "source": [
        "#!import ../Utils.ipynb"
      ]
    },
    {
      "cell_type": "code",
      "execution_count": 3,
      "id": "13508b8d",
      "metadata": {
        "language_info": {
          "name": "polyglot-notebook"
        },
        "polyglot_notebook": {
          "kernelName": "csharp"
        }
      },
      "outputs": [
        {
          "name": "stdout",
          "output_type": "stream",
          "text": [
            "Loading puzzle file: Day2.txt\n",
            "Total lines: 2500\n",
            "Max line length: 3\n",
            "\n",
            "A X\n",
            "B Y\n",
            "B Y\n",
            "C X\n",
            "B X\n"
          ]
        }
      ],
      "source": [
        "var inputLines = LoadPuzzleInput(2022, 2);\n",
        "WriteLines(inputLines);"
      ]
    },
    {
      "cell_type": "code",
      "execution_count": 4,
      "id": "3b5d5f45",
      "metadata": {
        "language_info": {
          "name": "polyglot-notebook"
        },
        "polyglot_notebook": {
          "kernelName": "csharp"
        }
      },
      "outputs": [],
      "source": [
        "string[] testInputLines = [\n",
        "    \u0022A Y\u0022,\n",
        "    \u0022B X\u0022,\n",
        "    \u0022C Z\u0022,\n",
        "];"
      ]
    },
    {
      "cell_type": "code",
      "execution_count": 5,
      "id": "61447fdd",
      "metadata": {
        "language_info": {
          "name": "polyglot-notebook"
        },
        "polyglot_notebook": {
          "kernelName": "csharp"
        }
      },
      "outputs": [],
      "source": [
        "const int Rock = 1;\n",
        "const int Paper = 2;\n",
        "const int Scissors = 3;\n",
        "\n",
        "int ParseMove(char c) =\u003E c switch \n",
        "{\n",
        "    \u0027A\u0027 or \u0027X\u0027 =\u003E Rock,\n",
        "    \u0027B\u0027 or \u0027Y\u0027 =\u003E Paper,\n",
        "    \u0027C\u0027 or \u0027Z\u0027 =\u003E Scissors,\n",
        "    _ =\u003E throw new ArgumentException(\u0022Invalid char\u0022)\n",
        "};\n",
        "\n",
        "int Score(string inputLine)\n",
        "{\n",
        "    var move1 = ParseMove(inputLine[0]);\n",
        "    var move2 = ParseMove(inputLine[2]);\n",
        "\n",
        "    var moveScore = move2;\n",
        "\n",
        "    var winScore = (move1, move2) switch \n",
        "    {\n",
        "        (var x, var y) when x == y =\u003E 3, // draw\n",
        "        (var x, var y) when (x % 3) \u002B 1 == y =\u003E 6, // win\n",
        "        _ =\u003E 0 // lose\n",
        "    };\n",
        "\n",
        "    return moveScore \u002B winScore;\n",
        "}\n",
        "\n",
        "int TotalScore(string[] inputLines) =\u003E inputLines.Select(Score).Sum();"
      ]
    },
    {
      "cell_type": "code",
      "execution_count": 6,
      "id": "0e8151c2",
      "metadata": {
        "language_info": {
          "name": "polyglot-notebook"
        },
        "polyglot_notebook": {
          "kernelName": "csharp"
        }
      },
      "outputs": [
        {
          "name": "stdout",
          "output_type": "stream",
          "text": [
            "15\n"
          ]
        }
      ],
      "source": [
        "// In this example, if you were to follow the strategy guide, you would get a total score of 15 (8 \u002B 1 \u002B 6).\n",
        "\n",
        "var testAnswer = TotalScore(testInputLines);\n",
        "Console.WriteLine(testAnswer);"
      ]
    },
    {
      "cell_type": "code",
      "execution_count": 7,
      "id": "e2fdea59",
      "metadata": {
        "language_info": {
          "name": "polyglot-notebook"
        },
        "polyglot_notebook": {
          "kernelName": "csharp"
        }
      },
      "outputs": [
        {
          "name": "stdout",
          "output_type": "stream",
          "text": [
            "12794\n"
          ]
        }
      ],
      "source": [
        "// What would your total score be if everything goes exactly according to your strategy guide?\n",
        "\n",
        "var part1Answer = TotalScore(inputLines);\n",
        "Console.WriteLine(part1Answer);"
      ]
    },
    {
      "cell_type": "code",
      "execution_count": 8,
      "id": "8a526410",
      "metadata": {
        "language_info": {
          "name": "polyglot-notebook"
        },
        "polyglot_notebook": {
          "kernelName": "csharp"
        }
      },
      "outputs": [],
      "source": [
        "// 12794 is correct!\n",
        "Ensure(12794, part1Answer);"
      ]
    },
    {
      "cell_type": "markdown",
      "metadata": {
        "language_info": {
          "name": "polyglot-notebook"
        },
        "polyglot_notebook": {
          "kernelName": "csharp"
        }
      },
      "source": [
        "### --- Part Two ---\n",
        "\n",
        "Puzzle description redacted as-per Advent of Code guidelines\n",
        "\n",
        "You may find the puzzle description at: https://adventofcode.com/2022/day/2"
      ]
    },
    {
      "cell_type": "code",
      "execution_count": 10,
      "id": "8852fc0a",
      "metadata": {
        "language_info": {
          "name": "polyglot-notebook"
        },
        "polyglot_notebook": {
          "kernelName": "csharp"
        }
      },
      "outputs": [],
      "source": [
        "// 1 --\u003E 2\n",
        "// 2 --\u003E 3\n",
        "// 3 --\u003E 1\n",
        "int WinningMove(int move) =\u003E (move % 3) \u002B 1;\n",
        "\n",
        "// 1 --\u003E 3\n",
        "// 2 --\u003E 1\n",
        "// 3 --\u003E 2\n",
        "int LosingMove(int move) =\u003E ((move \u002B 1) % 3) \u002B 1;\n",
        "\n",
        "int DrawMove(int move) =\u003E move;\n",
        "\n",
        "int Part2Score(string inputLine)\n",
        "{\n",
        "    var opponentMove = ParseMove(inputLine[0]);\n",
        "\n",
        "    // X means you need to lose, Y means you need to end the round in a draw,\n",
        "    // and Z means you need to win\n",
        "    var resultMove = inputLine[2] switch \n",
        "    {\n",
        "        \u0027X\u0027 =\u003E LosingMove(opponentMove),\n",
        "        \u0027Y\u0027 =\u003E DrawMove(opponentMove) \u002B 3,\n",
        "        _ =\u003E WinningMove(opponentMove) \u002B 6\n",
        "    };\n",
        "\n",
        "    return resultMove; \n",
        "}\n",
        "\n",
        "int Part2TotalScore(string[] inputLines) =\u003E inputLines.Select(Part2Score).Sum();"
      ]
    },
    {
      "cell_type": "code",
      "execution_count": 11,
      "metadata": {
        "language_info": {
          "name": "polyglot-notebook"
        },
        "polyglot_notebook": {
          "kernelName": "csharp"
        }
      },
      "outputs": [
        {
          "name": "stdout",
          "output_type": "stream",
          "text": [
            "12\n"
          ]
        }
      ],
      "source": [
        "var part2TestAnswer = Part2TotalScore(testInputLines);\n",
        "Console.WriteLine(part2TestAnswer);"
      ]
    },
    {
      "cell_type": "code",
      "execution_count": null,
      "metadata": {
        "language_info": {
          "name": "polyglot-notebook"
        },
        "polyglot_notebook": {
          "kernelName": "csharp"
        }
      },
      "outputs": [
        {
          "name": "stdout",
          "output_type": "stream",
          "text": [
            "14979\n"
          ]
        }
      ],
      "source": [
        "// Following the Elf\u0027s instructions for the second column, what would your total\n",
        "// score be if everything goes exactly according to your strategy guide?\n",
        "\n",
        "var part2Answer = Part2TotalScore(inputLines);\n",
        "Console.WriteLine(part2Answer);"
      ]
    },
    {
      "cell_type": "code",
      "execution_count": 13,
      "metadata": {
        "language_info": {
          "name": "polyglot-notebook"
        },
        "polyglot_notebook": {
          "kernelName": "csharp"
        }
      },
      "outputs": [],
      "source": [
        "// 14979 is correct!\n",
        "Ensure(14979, part2Answer);"
      ]
    }
  ],
  "metadata": {
    "kernelspec": {
      "display_name": ".NET (C#)",
      "language": "C#",
      "name": ".net-csharp"
    },
    "language_info": {
      "name": "polyglot-notebook"
    },
    "polyglot_notebook": {
      "kernelInfo": {
        "defaultKernelName": "csharp",
        "items": [
          {
            "aliases": [],
            "name": "csharp"
          }
        ]
      }
    }
  },
  "nbformat": 4,
  "nbformat_minor": 5
}