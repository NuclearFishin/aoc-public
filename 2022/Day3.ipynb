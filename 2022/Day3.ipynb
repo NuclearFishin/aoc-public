{
  "cells": [
    {
      "cell_type": "markdown",
      "id": "24dc6f34",
      "metadata": {
        "language_info": {
          "name": "polyglot-notebook"
        },
        "polyglot_notebook": {
          "kernelName": "csharp"
        }
      },
      "source": [
        "### --- Day 3: Rucksack Reorganization ---\n",
        "\n",
        "Puzzle description redacted as-per Advent of Code guidelines\n",
        "\n",
        "You may find the puzzle description at: https://adventofcode.com/2022/day/3"
      ]
    },
    {
      "cell_type": "code",
      "execution_count": 2,
      "id": "a9549f41",
      "metadata": {
        "language_info": {
          "name": "polyglot-notebook"
        },
        "polyglot_notebook": {
          "kernelName": "csharp"
        }
      },
      "outputs": [],
      "source": [
        "#!import ../Utils.ipynb"
      ]
    },
    {
      "cell_type": "code",
      "execution_count": 3,
      "id": "d4b262a3",
      "metadata": {
        "language_info": {
          "name": "polyglot-notebook"
        },
        "polyglot_notebook": {
          "kernelName": "csharp"
        }
      },
      "outputs": [
        {
          "name": "stdout",
          "output_type": "stream",
          "text": [
            "Loading puzzle file: Day3.txt\n",
            "Total lines: 300\n",
            "Max line length: 48\n",
            "\n",
            "WwcsbsWwspmFTGVV\n",
            "RHtMDHdSMnDBGMSDvnvDjtmpTpjTFggpmjmTFggTjmpP\n",
            "vtCSGRMBDzHddvBHBzRhrlcZhlLzWNlqblhzcr\n",
            "shhszHNHHZWqSzVNdClMjlFjBBbNTB\n",
            "tQQGmnrMnJnGfmvrRRPCjlbljFBdjFCjTjnP\n"
          ]
        }
      ],
      "source": [
        "var inputLines = LoadPuzzleInput(2022, 3);\n",
        "WriteLines(inputLines);"
      ]
    },
    {
      "cell_type": "code",
      "execution_count": 4,
      "id": "e3a0d83c",
      "metadata": {
        "language_info": {
          "name": "polyglot-notebook"
        },
        "polyglot_notebook": {
          "kernelName": "csharp"
        }
      },
      "outputs": [],
      "source": [
        "string[] testInputLines = [\n",
        "    \u0022vJrwpWtwJgWrhcsFMMfFFhFp\u0022,\n",
        "    \u0022jqHRNqRjqzjGDLGLrsFMfFZSrLrFZsSL\u0022,\n",
        "    \u0022PmmdzqPrVvPwwTWBwg\u0022,\n",
        "    \u0022wMqvLMZHhHMvwLHjbvcjnnSBnvTQFn\u0022,\n",
        "    \u0022ttgJtRGJQctTZtZT\u0022,\n",
        "    \u0022CrZsJsPPZsGzwwsLwLmpwMDw\u0022,\n",
        "];"
      ]
    },
    {
      "cell_type": "code",
      "execution_count": 5,
      "id": "09ba70de",
      "metadata": {
        "language_info": {
          "name": "polyglot-notebook"
        },
        "polyglot_notebook": {
          "kernelName": "csharp"
        }
      },
      "outputs": [],
      "source": [
        "// Lowercase item types a through z have priorities 1 through 26.\n",
        "// Uppercase item types A through Z have priorities 27 through 52.\n",
        "var priorities = Alphabet.Concat(Alphabet.ToUpperInvariant()).Index().ToDictionary(chi =\u003E chi.Item, chi =\u003E chi.Index \u002B 1);\n",
        "\n",
        "int FindMisplaced(string inputLine)\n",
        "{\n",
        "    var halfway = inputLine.Length / 2;\n",
        "    var firstHalf = inputLine[0..halfway].ToHashSet();\n",
        "    var secondHalf = inputLine[halfway..].ToHashSet();\n",
        "\n",
        "    var bothHalves = firstHalf.Intersect(secondHalf).Single();\n",
        "    \n",
        "    return priorities[bothHalves];\n",
        "}\n",
        "\n",
        "int SumMisplaced(string[] inputLines) =\u003E inputLines.Select(FindMisplaced).Sum();"
      ]
    },
    {
      "cell_type": "code",
      "execution_count": 6,
      "id": "e9c61695",
      "metadata": {
        "language_info": {
          "name": "polyglot-notebook"
        },
        "polyglot_notebook": {
          "kernelName": "csharp"
        }
      },
      "outputs": [
        {
          "name": "stdout",
          "output_type": "stream",
          "text": [
            "157\n"
          ]
        }
      ],
      "source": [
        "// In the above example, the priority of the item type that appears in both\n",
        "// compartments of each rucksack is 16 (p), 38 (L), 42 (P), 22 (v), 20 (t), and\n",
        "// 19 (s); the sum of these is 157.\n",
        "\n",
        "var testAnswer = SumMisplaced(testInputLines);\n",
        "Console.WriteLine(testAnswer);"
      ]
    },
    {
      "cell_type": "code",
      "execution_count": 7,
      "id": "b8e5fe53",
      "metadata": {
        "language_info": {
          "name": "polyglot-notebook"
        },
        "polyglot_notebook": {
          "kernelName": "csharp"
        }
      },
      "outputs": [
        {
          "name": "stdout",
          "output_type": "stream",
          "text": [
            "7850\n"
          ]
        }
      ],
      "source": [
        "// Find the item type that appears in both compartments of each rucksack. What\n",
        "// is the sum of the priorities of those item types?\n",
        "\n",
        "var part1Answer = SumMisplaced(inputLines);\n",
        "Console.WriteLine(part1Answer);"
      ]
    },
    {
      "cell_type": "code",
      "execution_count": 8,
      "id": "c8736b92",
      "metadata": {
        "language_info": {
          "name": "polyglot-notebook"
        },
        "polyglot_notebook": {
          "kernelName": "csharp"
        }
      },
      "outputs": [],
      "source": [
        "// 7850 is correct!\n",
        "Ensure(7850, part1Answer);"
      ]
    },
    {
      "cell_type": "markdown",
      "metadata": {
        "language_info": {
          "name": "polyglot-notebook"
        },
        "polyglot_notebook": {
          "kernelName": "csharp"
        }
      },
      "source": [
        "### --- Part Two ---\n",
        "\n",
        "Puzzle description redacted as-per Advent of Code guidelines\n",
        "\n",
        "You may find the puzzle description at: https://adventofcode.com/2022/day/3"
      ]
    },
    {
      "cell_type": "code",
      "execution_count": 19,
      "metadata": {
        "language_info": {
          "name": "polyglot-notebook"
        },
        "polyglot_notebook": {
          "kernelName": "csharp"
        }
      },
      "outputs": [],
      "source": [
        "int SumPriorities(string[] inputLines)\n",
        "{\n",
        "    int findCommon(IEnumerable\u003Cstring\u003E group)\n",
        "    {\n",
        "        IEnumerable\u003Cchar\u003E initial = priorities.Keys;\n",
        "        var common = group.Aggregate(initial, (curr, next) =\u003E curr.Intersect(next)).Single();\n",
        "        return priorities[common];\n",
        "    }\n",
        "\n",
        "    var inputGroups = inputLines.Index().GroupBy(ix =\u003E ix.Index / 3)\n",
        "                        .Select(g =\u003E g.Select(gg =\u003E gg.Item)).Select(findCommon);\n",
        "\n",
        "    return inputGroups.Sum();\n",
        "}"
      ]
    },
    {
      "cell_type": "code",
      "execution_count": 21,
      "metadata": {
        "language_info": {
          "name": "polyglot-notebook"
        },
        "polyglot_notebook": {
          "kernelName": "csharp"
        }
      },
      "outputs": [
        {
          "name": "stdout",
          "output_type": "stream",
          "text": [
            "70\n"
          ]
        }
      ],
      "source": [
        "// Priorities for these items must still be found to organize the sticker\n",
        "// attachment efforts: here, they are 18 (r) for the first group and 52 (Z) for\n",
        "// the second group. The sum of these is 70.\n",
        "\n",
        "var part2TestAnswer = SumPriorities(testInputLines);\n",
        "Console.WriteLine(part2TestAnswer);"
      ]
    },
    {
      "cell_type": "code",
      "execution_count": 23,
      "metadata": {
        "language_info": {
          "name": "polyglot-notebook"
        },
        "polyglot_notebook": {
          "kernelName": "csharp"
        }
      },
      "outputs": [
        {
          "name": "stdout",
          "output_type": "stream",
          "text": [
            "2581\n"
          ]
        }
      ],
      "source": [
        "// Find the item type that corresponds to the badges of each three-Elf group. What is the sum of the priorities of those item types?\n",
        "\n",
        "var part2Answer = SumPriorities(inputLines);\n",
        "Console.WriteLine(part2Answer);"
      ]
    },
    {
      "cell_type": "code",
      "execution_count": 24,
      "metadata": {
        "language_info": {
          "name": "polyglot-notebook"
        },
        "polyglot_notebook": {
          "kernelName": "csharp"
        }
      },
      "outputs": [],
      "source": [
        "// 2581 is correct!\n",
        "Ensure(2581, part2Answer);"
      ]
    }
  ],
  "metadata": {
    "kernelspec": {
      "display_name": ".NET (C#)",
      "language": "C#",
      "name": ".net-csharp"
    },
    "language_info": {
      "name": "polyglot-notebook"
    },
    "polyglot_notebook": {
      "kernelInfo": {
        "defaultKernelName": "csharp",
        "items": [
          {
            "aliases": [],
            "name": "csharp"
          }
        ]
      }
    }
  },
  "nbformat": 4,
  "nbformat_minor": 5
}