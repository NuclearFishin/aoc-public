{
  "cells": [
    {
      "cell_type": "markdown",
      "id": "e20e08b4",
      "metadata": {
        "language_info": {
          "name": "polyglot-notebook"
        },
        "polyglot_notebook": {
          "kernelName": "csharp"
        }
      },
      "source": [
        "### --- Day 18: Boiling Boulders ---\n",
        "\n",
        "Puzzle description redacted as-per Advent of Code guidelines\n",
        "\n",
        "You may find the puzzle description at: https://adventofcode.com/2022/day/18"
      ]
    },
    {
      "cell_type": "code",
      "execution_count": 2,
      "id": "f3156330",
      "metadata": {
        "language_info": {
          "name": "polyglot-notebook"
        },
        "polyglot_notebook": {
          "kernelName": "csharp"
        }
      },
      "outputs": [],
      "source": [
        "#!import ../Utils.ipynb"
      ]
    },
    {
      "cell_type": "code",
      "execution_count": 3,
      "id": "84cc00d5",
      "metadata": {
        "language_info": {
          "name": "polyglot-notebook"
        },
        "polyglot_notebook": {
          "kernelName": "csharp"
        }
      },
      "outputs": [
        {
          "name": "stdout",
          "output_type": "stream",
          "text": [
            "Loading puzzle file: Day18.txt\n",
            "Total lines: 2781\n",
            "Max line length: 8\n",
            "\n",
            "4,8,5\n",
            "10,14,18\n",
            "8,17,6\n",
            "15,14,15\n",
            "8,15,3\n"
          ]
        }
      ],
      "source": [
        "var inputLines = LoadPuzzleInput(2022, 18);\n",
        "WriteLines(inputLines);"
      ]
    },
    {
      "cell_type": "code",
      "execution_count": 4,
      "id": "01714929",
      "metadata": {
        "language_info": {
          "name": "polyglot-notebook"
        },
        "polyglot_notebook": {
          "kernelName": "csharp"
        }
      },
      "outputs": [],
      "source": [
        "string[] testInputLines = \n",
        "[\n",
        "    \u00222,2,2\u0022,\n",
        "    \u00221,2,2\u0022,\n",
        "    \u00223,2,2\u0022,\n",
        "    \u00222,1,2\u0022,\n",
        "    \u00222,3,2\u0022,\n",
        "    \u00222,2,1\u0022,\n",
        "    \u00222,2,3\u0022,\n",
        "    \u00222,2,4\u0022,\n",
        "    \u00222,2,6\u0022,\n",
        "    \u00221,2,5\u0022,\n",
        "    \u00223,2,5\u0022,\n",
        "    \u00222,1,5\u0022,\n",
        "    \u00222,3,5\u0022,\n",
        "];"
      ]
    },
    {
      "cell_type": "markdown",
      "id": "24f73f84",
      "metadata": {},
      "source": [
        "Hmm, the first part certainly seems straightforward enough. Each cube adds six units of surface area - for each cube, we check the neighbouring points and subtract the side if a neighbour is present. I suspect the pain is waiting for us in part two :)"
      ]
    },
    {
      "cell_type": "code",
      "execution_count": 5,
      "id": "51562567",
      "metadata": {
        "language_info": {
          "name": "polyglot-notebook"
        },
        "polyglot_notebook": {
          "kernelName": "csharp"
        }
      },
      "outputs": [],
      "source": [
        "using Point3D = (int x, int y, int z);\n",
        "Point3D AsPoint3D(int[] p) =\u003E (p[0], p[1], p[2]);\n",
        "\n",
        "int SurfaceArea(string[] inputLines)\n",
        "{\n",
        "    var points = inputLines.Select(l =\u003E l.ParseInts().ToArray());\n",
        "    var pointSet = points.Select(AsPoint3D).ToHashSet();\n",
        "\n",
        "    var checkPoints = pointSet.SelectMany(Neighbours);\n",
        "    var covered = checkPoints.Where(p =\u003E pointSet.Contains(p)).Count();\n",
        "\n",
        "    return pointSet.Count * 6 - covered;\n",
        "}\n",
        "\n",
        "IEnumerable\u003CPoint3D\u003E Neighbours(Point3D p) \n",
        "{\n",
        "    foreach (var i in List(-1, 1))\n",
        "    {\n",
        "        yield return (p.x \u002B i, p.y, p.z);\n",
        "        yield return (p.x, p.y \u002B i, p.z);\n",
        "        yield return (p.x, p.y, p.z \u002B i);\n",
        "    }\n",
        "}"
      ]
    },
    {
      "cell_type": "code",
      "execution_count": 6,
      "id": "920a3ccd",
      "metadata": {
        "language_info": {
          "name": "polyglot-notebook"
        },
        "polyglot_notebook": {
          "kernelName": "csharp"
        }
      },
      "outputs": [
        {
          "name": "stdout",
          "output_type": "stream",
          "text": [
            "64\n"
          ]
        }
      ],
      "source": [
        "// In the above example, after counting up all the sides that aren\u0027t connected\n",
        "// to another cube, the total surface area is 64.\n",
        "\n",
        "var testAnswer = SurfaceArea(testInputLines);\n",
        "Console.WriteLine(testAnswer);"
      ]
    },
    {
      "cell_type": "code",
      "execution_count": 7,
      "id": "61234f28",
      "metadata": {
        "language_info": {
          "name": "polyglot-notebook"
        },
        "polyglot_notebook": {
          "kernelName": "csharp"
        }
      },
      "outputs": [
        {
          "name": "stdout",
          "output_type": "stream",
          "text": [
            "4500\n"
          ]
        }
      ],
      "source": [
        "// What is the surface area of your scanned lava droplet?\n",
        "\n",
        "var part1Answer = SurfaceArea(inputLines);\n",
        "Console.WriteLine(part1Answer);"
      ]
    },
    {
      "cell_type": "code",
      "execution_count": 8,
      "id": "116ff2de",
      "metadata": {
        "language_info": {
          "name": "polyglot-notebook"
        },
        "polyglot_notebook": {
          "kernelName": "csharp"
        }
      },
      "outputs": [],
      "source": [
        "// 4500 is correct!\n",
        "Ensure(4500, part1Answer);"
      ]
    },
    {
      "cell_type": "markdown",
      "id": "8ffda65a",
      "metadata": {
        "language_info": {
          "name": "polyglot-notebook"
        },
        "polyglot_notebook": {
          "kernelName": "csharp"
        }
      },
      "source": [
        "### --- Part Two ---\n",
        "\n",
        "Puzzle description redacted as-per Advent of Code guidelines\n",
        "\n",
        "You may find the puzzle description at: https://adventofcode.com/2022/day/18"
      ]
    },
    {
      "cell_type": "markdown",
      "id": "6ca9c048",
      "metadata": {},
      "source": [
        "Ok, so for part two, we only need to consider the exterior surfaces of the shape, i.e., we exclude the inside surfaces if the shape is sealed. \n",
        "\n",
        "Figuring out of the shape is sealed might be tricky, as we could have an almost-cube with just one piece missing, and the water would be able to ingress. So our trick of determining the inside of a shape by counting edge intersections is not really useful here.\n",
        "\n",
        "I\u0027m thinking the easiest approach might be to start at a point outside the shape, and search all points in space that are empty, bounded by a box around the shape, effectively \u0022casting\u0022 the shape in a mould. Then, we know that every external face of the original shape has a neighbouring point within our external casted shape. If we count these points, it should give us our external surface area."
      ]
    },
    {
      "cell_type": "code",
      "execution_count": 10,
      "id": "2018b90b",
      "metadata": {
        "language_info": {
          "name": "polyglot-notebook"
        },
        "polyglot_notebook": {
          "kernelName": "csharp"
        }
      },
      "outputs": [],
      "source": [
        "int ExternalSurfaceArea(string[] inputLines)\n",
        "{\n",
        "    var points = inputLines.Select(line =\u003E line.ParseInts().ToArray());\n",
        "    var pointSet = points.Select(AsPoint3D).ToHashSet();\n",
        "\n",
        "    var (xMin, xMax) = MinMax(pointSet.Select(p =\u003E p.x));\n",
        "    var (yMin, yMax) = MinMax(pointSet.Select(p =\u003E p.y));\n",
        "    var (zMin, zMax) = MinMax(pointSet.Select(p =\u003E p.z));\n",
        "\n",
        "    var (xStart, xEnd) = (xMin - 1, xMax \u002B 1);\n",
        "    var (yStart, yEnd) = (yMin - 1, yMax \u002B 1);\n",
        "    var (zStart, zEnd) = (zMin - 1, zMax \u002B 1);\n",
        "\n",
        "    Point3D startPoint = (xStart, yStart, zStart);\n",
        "\n",
        "    bool inBounds(Point3D p) =\u003E p.x.In(xStart, xEnd) \n",
        "                                \u0026\u0026 p.y.In(yStart, yEnd) \n",
        "                                \u0026\u0026 p.z.In(zStart, zEnd);\n",
        "    bool isExternal(Point3D p) =\u003E inBounds(p) \u0026\u0026 !pointSet.Contains(p);\n",
        "    var externalPoints = BFS(startPoint, p =\u003E Neighbours(p).Where(isExternal));\n",
        "    var externalSet = externalPoints.ToHashSet();\n",
        "\n",
        "    var externalFaces = pointSet.SelectMany(Neighbours)\n",
        "        .Where(p =\u003E externalSet.Contains(p))\n",
        "        .Count();\n",
        "    \n",
        "    return externalFaces;\n",
        "}\n",
        "\n",
        "static bool In(this int x, int start, int end) =\u003E start \u003C= x \u0026\u0026 x \u003C= end;"
      ]
    },
    {
      "cell_type": "code",
      "execution_count": 11,
      "id": "211ee63d",
      "metadata": {
        "language_info": {
          "name": "polyglot-notebook"
        },
        "polyglot_notebook": {
          "kernelName": "csharp"
        }
      },
      "outputs": [
        {
          "name": "stdout",
          "output_type": "stream",
          "text": [
            "58\n"
          ]
        }
      ],
      "source": [
        "// In the larger example above, exactly one cube of air is trapped within the\n",
        "// lava droplet (at 2,2,5), so the exterior surface area of the lava droplet is\n",
        "// 58.\n",
        "\n",
        "var part2TestAnswer = ExternalSurfaceArea(testInputLines);\n",
        "Console.WriteLine(part2TestAnswer);"
      ]
    },
    {
      "cell_type": "code",
      "execution_count": 12,
      "id": "f5bcd40d",
      "metadata": {
        "language_info": {
          "name": "polyglot-notebook"
        },
        "polyglot_notebook": {
          "kernelName": "csharp"
        }
      },
      "outputs": [
        {
          "name": "stdout",
          "output_type": "stream",
          "text": [
            "2558\n"
          ]
        }
      ],
      "source": [
        "// What is the exterior surface area of your scanned lava droplet?\n",
        "\n",
        "var part2Answer = ExternalSurfaceArea(inputLines);\n",
        "Console.WriteLine(part2Answer);"
      ]
    },
    {
      "cell_type": "code",
      "execution_count": 13,
      "id": "30979c7d",
      "metadata": {
        "language_info": {
          "name": "polyglot-notebook"
        },
        "polyglot_notebook": {
          "kernelName": "csharp"
        }
      },
      "outputs": [],
      "source": [
        "// 2558 is correct!\n",
        "Ensure(2558, part2Answer);"
      ]
    }
  ],
  "metadata": {
    "kernelspec": {
      "display_name": ".NET (C#)",
      "language": "C#",
      "name": ".net-csharp"
    },
    "language_info": {
      "name": "polyglot-notebook"
    },
    "polyglot_notebook": {
      "kernelInfo": {
        "defaultKernelName": "csharp",
        "items": [
          {
            "aliases": [],
            "name": "csharp"
          }
        ]
      }
    }
  },
  "nbformat": 4,
  "nbformat_minor": 5
}