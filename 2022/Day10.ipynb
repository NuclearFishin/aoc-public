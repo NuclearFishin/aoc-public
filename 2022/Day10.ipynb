{
  "cells": [
    {
      "cell_type": "markdown",
      "id": "24dc6f34",
      "metadata": {},
      "source": [
        "### --- Day 10: Cathode-Ray Tube ---\n",
        "\n",
        "Puzzle description redacted as-per Advent of Code guidelines\n",
        "\n",
        "You may find the puzzle description at: https://adventofcode.com/2022/day/10"
      ]
    },
    {
      "cell_type": "code",
      "execution_count": 16,
      "id": "0c2a15f7",
      "metadata": {},
      "outputs": [],
      "source": [
        "#!import ../Utils.ipynb"
      ]
    },
    {
      "cell_type": "code",
      "execution_count": 17,
      "id": "f9dff4ee",
      "metadata": {},
      "outputs": [
        {
          "name": "stdout",
          "output_type": "stream",
          "text": [
            "Total lines: 139\n",
            "Max line length: 8\n",
            "\n",
            "noop\n",
            "noop\n",
            "addx 5\n",
            "addx 31\n",
            "addx -30\n",
            "addx 2\n",
            "addx 7\n",
            "noop\n",
            "noop\n",
            "addx -4\n",
            "addx 5\n",
            "addx 6\n",
            "noop\n",
            "addx -1\n",
            "addx 5\n",
            "addx -1\n",
            "addx 5\n",
            "addx 1\n",
            "noop\n",
            "addx 5\n"
          ]
        }
      ],
      "source": [
        "var inputLines = LoadPuzzleInput(2022, 10);\n",
        "WriteLines(inputLines, maxRows: 20);"
      ]
    },
    {
      "cell_type": "code",
      "execution_count": 18,
      "id": "8778b1e5",
      "metadata": {},
      "outputs": [],
      "source": [
        "string[] testInputLines = [\n",
        "    \u0022addx 15\u0022,\n",
        "    \u0022addx -11\u0022,\n",
        "    \u0022addx 6\u0022,\n",
        "    \u0022addx -3\u0022,\n",
        "    \u0022addx 5\u0022,\n",
        "    \u0022addx -1\u0022,\n",
        "    \u0022addx -8\u0022,\n",
        "    \u0022addx 13\u0022,\n",
        "    \u0022addx 4\u0022,\n",
        "    \u0022noop\u0022,\n",
        "    \u0022addx -1\u0022,\n",
        "    \u0022addx 5\u0022,\n",
        "    \u0022addx -1\u0022,\n",
        "    \u0022addx 5\u0022,\n",
        "    \u0022addx -1\u0022,\n",
        "    \u0022addx 5\u0022,\n",
        "    \u0022addx -1\u0022,\n",
        "    \u0022addx 5\u0022,\n",
        "    \u0022addx -1\u0022,\n",
        "    \u0022addx -35\u0022,\n",
        "    \u0022addx 1\u0022,\n",
        "    \u0022addx 24\u0022,\n",
        "    \u0022addx -19\u0022,\n",
        "    \u0022addx 1\u0022,\n",
        "    \u0022addx 16\u0022,\n",
        "    \u0022addx -11\u0022,\n",
        "    \u0022noop\u0022,\n",
        "    \u0022noop\u0022,\n",
        "    \u0022addx 21\u0022,\n",
        "    \u0022addx -15\u0022,\n",
        "    \u0022noop\u0022,\n",
        "    \u0022noop\u0022,\n",
        "    \u0022addx -3\u0022,\n",
        "    \u0022addx 9\u0022,\n",
        "    \u0022addx 1\u0022,\n",
        "    \u0022addx -3\u0022,\n",
        "    \u0022addx 8\u0022,\n",
        "    \u0022addx 1\u0022,\n",
        "    \u0022addx 5\u0022,\n",
        "    \u0022noop\u0022,\n",
        "    \u0022noop\u0022,\n",
        "    \u0022noop\u0022,\n",
        "    \u0022noop\u0022,\n",
        "    \u0022noop\u0022,\n",
        "    \u0022addx -36\u0022,\n",
        "    \u0022noop\u0022,\n",
        "    \u0022addx 1\u0022,\n",
        "    \u0022addx 7\u0022,\n",
        "    \u0022noop\u0022,\n",
        "    \u0022noop\u0022,\n",
        "    \u0022noop\u0022,\n",
        "    \u0022addx 2\u0022,\n",
        "    \u0022addx 6\u0022,\n",
        "    \u0022noop\u0022,\n",
        "    \u0022noop\u0022,\n",
        "    \u0022noop\u0022,\n",
        "    \u0022noop\u0022,\n",
        "    \u0022noop\u0022,\n",
        "    \u0022addx 1\u0022,\n",
        "    \u0022noop\u0022,\n",
        "    \u0022noop\u0022,\n",
        "    \u0022addx 7\u0022,\n",
        "    \u0022addx 1\u0022,\n",
        "    \u0022noop\u0022,\n",
        "    \u0022addx -13\u0022,\n",
        "    \u0022addx 13\u0022,\n",
        "    \u0022addx 7\u0022,\n",
        "    \u0022noop\u0022,\n",
        "    \u0022addx 1\u0022,\n",
        "    \u0022addx -33\u0022,\n",
        "    \u0022noop\u0022,\n",
        "    \u0022noop\u0022,\n",
        "    \u0022noop\u0022,\n",
        "    \u0022addx 2\u0022,\n",
        "    \u0022noop\u0022,\n",
        "    \u0022noop\u0022,\n",
        "    \u0022noop\u0022,\n",
        "    \u0022addx 8\u0022,\n",
        "    \u0022noop\u0022,\n",
        "    \u0022addx -1\u0022,\n",
        "    \u0022addx 2\u0022,\n",
        "    \u0022addx 1\u0022,\n",
        "    \u0022noop\u0022,\n",
        "    \u0022addx 17\u0022,\n",
        "    \u0022addx -9\u0022,\n",
        "    \u0022addx 1\u0022,\n",
        "    \u0022addx 1\u0022,\n",
        "    \u0022addx -3\u0022,\n",
        "    \u0022addx 11\u0022,\n",
        "    \u0022noop\u0022,\n",
        "    \u0022noop\u0022,\n",
        "    \u0022addx 1\u0022,\n",
        "    \u0022noop\u0022,\n",
        "    \u0022addx 1\u0022,\n",
        "    \u0022noop\u0022,\n",
        "    \u0022noop\u0022,\n",
        "    \u0022addx -13\u0022,\n",
        "    \u0022addx -19\u0022,\n",
        "    \u0022addx 1\u0022,\n",
        "    \u0022addx 3\u0022,\n",
        "    \u0022addx 26\u0022,\n",
        "    \u0022addx -30\u0022,\n",
        "    \u0022addx 12\u0022,\n",
        "    \u0022addx -1\u0022,\n",
        "    \u0022addx 3\u0022,\n",
        "    \u0022addx 1\u0022,\n",
        "    \u0022noop\u0022,\n",
        "    \u0022noop\u0022,\n",
        "    \u0022noop\u0022,\n",
        "    \u0022addx -9\u0022,\n",
        "    \u0022addx 18\u0022,\n",
        "    \u0022addx 1\u0022,\n",
        "    \u0022addx 2\u0022,\n",
        "    \u0022noop\u0022,\n",
        "    \u0022noop\u0022,\n",
        "    \u0022addx 9\u0022,\n",
        "    \u0022noop\u0022,\n",
        "    \u0022noop\u0022,\n",
        "    \u0022noop\u0022,\n",
        "    \u0022addx -1\u0022,\n",
        "    \u0022addx 2\u0022,\n",
        "    \u0022addx -37\u0022,\n",
        "    \u0022addx 1\u0022,\n",
        "    \u0022addx 3\u0022,\n",
        "    \u0022noop\u0022,\n",
        "    \u0022addx 15\u0022,\n",
        "    \u0022addx -21\u0022,\n",
        "    \u0022addx 22\u0022,\n",
        "    \u0022addx -6\u0022,\n",
        "    \u0022addx 1\u0022,\n",
        "    \u0022noop\u0022,\n",
        "    \u0022addx 2\u0022,\n",
        "    \u0022addx 1\u0022,\n",
        "    \u0022noop\u0022,\n",
        "    \u0022addx -10\u0022,\n",
        "    \u0022noop\u0022,\n",
        "    \u0022noop\u0022,\n",
        "    \u0022addx 20\u0022,\n",
        "    \u0022addx 1\u0022,\n",
        "    \u0022addx 2\u0022,\n",
        "    \u0022addx 2\u0022,\n",
        "    \u0022addx -6\u0022,\n",
        "    \u0022addx -11\u0022,\n",
        "    \u0022noop\u0022,\n",
        "    \u0022noop\u0022,\n",
        "    \u0022noop\u0022,\n",
        "];"
      ]
    },
    {
      "cell_type": "code",
      "execution_count": 19,
      "id": "74b2421f",
      "metadata": {},
      "outputs": [
        {
          "name": "stdout",
          "output_type": "stream",
          "text": [
            "ello\n"
          ]
        }
      ],
      "source": [
        "var x = \u0022hello\u0022;\n",
        "Console.WriteLine(x[1..]);"
      ]
    },
    {
      "cell_type": "code",
      "execution_count": 20,
      "id": "2fb92297",
      "metadata": {},
      "outputs": [],
      "source": [
        "abstract class CPU \n",
        "{\n",
        "    protected int RegisterX { get; private set; } = 1;\n",
        "\n",
        "    protected int Ticks { get; private set; }\n",
        "\n",
        "    public void Process(string[] inputLines)\n",
        "    {\n",
        "        foreach (var line in inputLines)\n",
        "        {\n",
        "            if (line.StartsWith(\u0022addx\u0022))\n",
        "            {\n",
        "                addx(line);\n",
        "            }\n",
        "            else\n",
        "            {\n",
        "                noop();\n",
        "            }\n",
        "        }\n",
        "\n",
        "        void addx(string line)\n",
        "        {\n",
        "            var increment = int.Parse(line[5..]);\n",
        "            Advance(0);\n",
        "            Advance(increment);\n",
        "        }\n",
        "\n",
        "        void noop() =\u003E Advance(0);\n",
        "    }\n",
        "\n",
        "    void Advance(int addRegisterX)\n",
        "    {\n",
        "        Ticks\u002B\u002B;\n",
        "        Update();\n",
        "        RegisterX \u002B= addRegisterX;\n",
        "    }\n",
        "\n",
        "    protected abstract void Update();\n",
        "}\n",
        "\n",
        "class Part1CPU(int[] Captures) : CPU\n",
        "{\n",
        "    public int CaptureTotal { get; private set; }\n",
        "\n",
        "    protected override void Update()\n",
        "    {\n",
        "        var foundCaptures = Captures.Where(c =\u003E c == Ticks);\n",
        "        foreach (var fc in foundCaptures)\n",
        "        {\n",
        "            CaptureTotal \u002B= (fc * RegisterX);\n",
        "        }\n",
        "    }\n",
        "}"
      ]
    },
    {
      "cell_type": "code",
      "execution_count": 21,
      "id": "ae304a9c",
      "metadata": {},
      "outputs": [
        {
          "name": "stdout",
          "output_type": "stream",
          "text": [
            "13140\n"
          ]
        }
      ],
      "source": [
        "// During the 20th cycle, register X has the value 21, so the signal strength is 20 * 21 = 420. (The 20th cycle occurs in the middle of the second addx -1, so the value of register X is the starting value, 1, plus all of the other addx values up to that point: 1 \u002B 15 - 11 \u002B 6 - 3 \u002B 5 - 1 - 8 \u002B 13 \u002B 4 = 21.)\n",
        "// During the 60th cycle, register X has the value 19, so the signal strength is 60 * 19 = 1140.\n",
        "// During the 100th cycle, register X has the value 18, so the signal strength is 100 * 18 = 1800.\n",
        "// During the 140th cycle, register X has the value 21, so the signal strength is 140 * 21 = 2940.\n",
        "// During the 180th cycle, register X has the value 16, so the signal strength is 180 * 16 = 2880.\n",
        "// During the 220th cycle, register X has the value 18, so the signal strength is 220 * 18 = 3960.\n",
        "// The sum of these signal strengths is 13140.\n",
        "\n",
        "int[] RequiredCaptures = [20, 60, 100, 140, 180, 220];\n",
        "\n",
        "var testCPU = new Part1CPU(RequiredCaptures);\n",
        "testCPU.Process(testInputLines);\n",
        "var testAnswer = testCPU.CaptureTotal;\n",
        "Console.WriteLine(testAnswer);"
      ]
    },
    {
      "cell_type": "code",
      "execution_count": 22,
      "id": "45e1796d",
      "metadata": {},
      "outputs": [
        {
          "name": "stdout",
          "output_type": "stream",
          "text": [
            "15360\n"
          ]
        }
      ],
      "source": [
        "// Find the signal strength during the 20th, 60th, 100th, 140th, 180th, and 220th cycles. What is the sum of these six signal strengths?\n",
        "\n",
        "var part1CPU = new Part1CPU(RequiredCaptures);\n",
        "part1CPU.Process(inputLines);\n",
        "var part1Answer = part1CPU.CaptureTotal;\n",
        "Console.WriteLine(part1Answer);"
      ]
    },
    {
      "cell_type": "code",
      "execution_count": 23,
      "id": "f37763e4",
      "metadata": {},
      "outputs": [],
      "source": [
        "// 15360 is correct!\n",
        "Ensure(15360, part1Answer);"
      ]
    },
    {
      "cell_type": "markdown",
      "id": "a0df6d62",
      "metadata": {},
      "source": [
        "### --- Part Two ---\n",
        "\n",
        "Puzzle description redacted as-per Advent of Code guidelines\n",
        "\n",
        "You may find the puzzle description at: https://adventofcode.com/2022/day/10"
      ]
    },
    {
      "cell_type": "markdown",
      "id": "d45aa057",
      "metadata": {},
      "source": [
        "Ok, I think this part is fairly straightforward. We don\u0027t need the cumulative sum of part one. One pixel is rendered each CPU cycle, so we can maintain the buffer of pixels and update each one as we go."
      ]
    },
    {
      "cell_type": "code",
      "execution_count": 25,
      "id": "f3384e41",
      "metadata": {},
      "outputs": [],
      "source": [
        "class Part2CPU : CPU\n",
        "{\n",
        "    char[][] DisplayChars { get; set; }\n",
        "\n",
        "    public Part2CPU()\n",
        "    {\n",
        "        DisplayChars = Enumerable.Range(0, 6).Select(_ =\u003E new char[40]).ToArray();\n",
        "    }\n",
        "\n",
        "    protected override void Update()\n",
        "    {\n",
        "        var t = Ticks - 1; // start from 0, helps the math\n",
        "        var row = t / 40;\n",
        "        var col = t % 40;\n",
        "\n",
        "        DisplayChars[row][col] = (col - RegisterX) switch\n",
        "        {\n",
        "            \u003E= -1 and \u003C= 1 =\u003E \u0027#\u0027,\n",
        "            _ =\u003E \u0027.\u0027\n",
        "        };\n",
        "    }\n",
        "\n",
        "    public void Render()\n",
        "    {\n",
        "        foreach (var i in Enumerable.Range(0, DisplayChars.Length))\n",
        "        {\n",
        "            Console.WriteLine(new string(DisplayChars[i]));\n",
        "        }\n",
        "    }\n",
        "}"
      ]
    },
    {
      "cell_type": "code",
      "execution_count": 26,
      "id": "2f3797c4",
      "metadata": {},
      "outputs": [
        {
          "name": "stdout",
          "output_type": "stream",
          "text": [
            "##..##..##..##..##..##..##..##..##..##..\n",
            "###...###...###...###...###...###...###.\n",
            "####....####....####....####....####....\n",
            "#####.....#####.....#####.....#####.....\n",
            "######......######......######......####\n",
            "#######.......#######.......#######.....\n"
          ]
        }
      ],
      "source": [
        "// Allowing the program to run to completion causes the CRT to produce the\n",
        "// following image:\n",
        "\n",
        "// ##..##..##..##..##..##..##..##..##..##..\n",
        "// ###...###...###...###...###...###...###.\n",
        "// ####....####....####....####....####....\n",
        "// #####.....#####.....#####.....#####.....\n",
        "// ######......######......######......####\n",
        "// #######.......#######.......#######.....\n",
        "\n",
        "var part2TestCPU = new Part2CPU();\n",
        "part2TestCPU.Process(testInputLines);\n",
        "part2TestCPU.Render();"
      ]
    },
    {
      "cell_type": "code",
      "execution_count": 27,
      "id": "5fe4d4f0",
      "metadata": {},
      "outputs": [
        {
          "name": "stdout",
          "output_type": "stream",
          "text": [
            "###..#..#.#....#..#...##..##..####..##..\n",
            "#..#.#..#.#....#..#....#.#..#....#.#..#.\n",
            "#..#.####.#....####....#.#......#..#..#.\n",
            "###..#..#.#....#..#....#.#.##..#...####.\n",
            "#....#..#.#....#..#.#..#.#..#.#....#..#.\n",
            "#....#..#.####.#..#..##...###.####.#..#.\n"
          ]
        }
      ],
      "source": [
        "// Render the image given by your program. What eight capital letters appear on\n",
        "// your CRT?\n",
        "\n",
        "var part2CPU = new Part2CPU();\n",
        "part2CPU.Process(inputLines);\n",
        "part2CPU.Render();"
      ]
    },
    {
      "cell_type": "code",
      "execution_count": 28,
      "id": "ff63cad8",
      "metadata": {},
      "outputs": [],
      "source": [
        "// PHLHJGZA is correct!\n",
        "var part2Answer = \u0022PHLHJGZA\u0022;\n",
        "Ensure(\u0022PHLHJGZA\u0022, part2Answer);"
      ]
    }
  ],
  "metadata": {
    "kernelspec": {
      "display_name": ".NET (C#)",
      "language": "C#",
      "name": ".net-csharp"
    },
    "language_info": {
      "name": "polyglot-notebook"
    },
    "polyglot_notebook": {
      "kernelInfo": {
        "defaultKernelName": "csharp",
        "items": [
          {
            "aliases": [],
            "name": "csharp"
          }
        ]
      }
    }
  },
  "nbformat": 4,
  "nbformat_minor": 5
}