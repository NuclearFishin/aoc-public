{
  "cells": [
    {
      "cell_type": "markdown",
      "id": "24dc6f34",
      "metadata": {},
      "source": [
        "### --- Day 9: Rope Bridge ---\n",
        "\n",
        "Puzzle description redacted as-per Advent of Code guidelines\n",
        "\n",
        "You may find the puzzle description at: https://adventofcode.com/2022/day/9"
      ]
    },
    {
      "cell_type": "code",
      "execution_count": 2,
      "id": "905be21a",
      "metadata": {},
      "outputs": [],
      "source": [
        "#!import ../Utils.ipynb"
      ]
    },
    {
      "cell_type": "code",
      "execution_count": 3,
      "id": "b7df284e",
      "metadata": {},
      "outputs": [
        {
          "name": "stdout",
          "output_type": "stream",
          "text": [
            "Total lines: 2000\n",
            "Max line length: 4\n",
            "\n",
            "L 1\n",
            "R 2\n",
            "L 1\n",
            "U 2\n",
            "D 1\n"
          ]
        }
      ],
      "source": [
        "var inputLines = LoadPuzzleInput(2022, 9);\n",
        "WriteLines(inputLines);"
      ]
    },
    {
      "cell_type": "code",
      "execution_count": 4,
      "id": "389b7bae",
      "metadata": {},
      "outputs": [],
      "source": [
        "string[] testInputLines = \n",
        "[\n",
        "    \u0022R 4\u0022,\n",
        "    \u0022U 4\u0022,\n",
        "    \u0022L 3\u0022,\n",
        "    \u0022D 1\u0022,\n",
        "    \u0022R 4\u0022,\n",
        "    \u0022D 1\u0022,\n",
        "    \u0022L 5\u0022,\n",
        "    \u0022R 2\u0022,\n",
        "];"
      ]
    },
    {
      "cell_type": "code",
      "execution_count": 5,
      "id": "a8663afe",
      "metadata": {},
      "outputs": [],
      "source": [
        "Dictionary\u003Cchar, Point\u003E Directions = new()\n",
        "{\n",
        "    { \u0027R\u0027, Right },\n",
        "    { \u0027L\u0027, Left },\n",
        "    { \u0027U\u0027, Up },\n",
        "    { \u0027D\u0027, Down },\n",
        "};"
      ]
    },
    {
      "cell_type": "markdown",
      "id": "6151977b",
      "metadata": {},
      "source": [
        "The tricky part about this one is that the tail doesn\u0027t always move after two head movements. It does for purely horizontal or vertical movements, but in the case where the head turns a corner, eg \u0060across\u0060, \u0060up\u0060, \u0060up\u0060, the tail doesn\u0027t move until the third head movement.\n",
        "\n",
        "What is true however is that the tail is always \u0022attached\u0022 to the head. So I think we can check that whenever we have a horizontal or vertical difference of \u00602\u0060, we know where we need to place the tail."
      ]
    },
    {
      "cell_type": "code",
      "execution_count": 6,
      "id": "0edca2fe",
      "metadata": {},
      "outputs": [],
      "source": [
        "string[] demoMatrix = [\n",
        "    \u0022..........................\u0022,\n",
        "    \u0022..........................\u0022,\n",
        "    \u0022..........................\u0022,\n",
        "    \u0022..........................\u0022,\n",
        "    \u0022..........................\u0022,\n",
        "    \u0022..........................\u0022,\n",
        "    \u0022..........................\u0022,\n",
        "    \u0022..........................\u0022,\n",
        "    \u0022..........................\u0022,\n",
        "    \u0022..........................\u0022,\n",
        "    \u0022..........................\u0022,\n",
        "    \u0022..........................\u0022,\n",
        "    \u0022..........................\u0022,\n",
        "    \u0022..........................\u0022,\n",
        "    \u0022..........................\u0022,\n",
        "    \u0022..........................\u0022,\n",
        "    \u0022..........................\u0022,\n",
        "    \u0022..........................\u0022,\n",
        "    \u0022..........................\u0022,\n",
        "    \u0022..........................\u0022,\n",
        "    \u0022..........................\u0022,\n",
        "];\n",
        "\n",
        "Point demoStart = (11, 15);"
      ]
    },
    {
      "cell_type": "code",
      "execution_count": null,
      "id": "b7a7e67a",
      "metadata": {},
      "outputs": [],
      "source": [
        "int RunSim(string[] inputLines, int knotCount = 2, Func\u003CPoint, Point, Point\u003E chaseFunc = null)\n",
        "{\n",
        "    // Spoiler alert: knot count and chase function change in part 2\n",
        "    chaseFunc ??= Chase;\n",
        "\n",
        "    Point[] allKnots = new Point[knotCount];\n",
        "    HashSet\u003CPoint\u003E tailVisited = [];\n",
        "\n",
        "    foreach (var line in inputLines)\n",
        "    {\n",
        "        var direction = Directions[line[0]];\n",
        "        var steps = int.Parse(line[2..]);\n",
        "\n",
        "        tailVisited.UnionWith(MoveAndChase(direction, steps));\n",
        "    }\n",
        "\n",
        "    return tailVisited.Count;\n",
        "\n",
        "    IEnumerable\u003CPoint\u003E MoveAndChase(Point direction, int steps)\n",
        "    {\n",
        "        foreach (var _ in Enumerable.Range(0, steps))\n",
        "        {\n",
        "            allKnots[0]\u002B= direction;\n",
        "\n",
        "            foreach (var i in Enumerable.Range(1, allKnots.Length - 1))\n",
        "            {\n",
        "                var head = allKnots[i-1];\n",
        "                var tail = allKnots[i];\n",
        "                var newTail = chaseFunc(head, tail);\n",
        "                allKnots[i] = newTail;\n",
        "            }\n",
        "\n",
        "            var finalTail = allKnots[^1];\n",
        "            yield return finalTail;\n",
        "        }\n",
        "    }\n",
        "}\n",
        "\n",
        "Point Chase(Point head, Point tail)\n",
        "{\n",
        "    // See comments above for how this handles the literal corner case :)\n",
        "\n",
        "    return (head - tail) switch \n",
        "    {\n",
        "        (\u003E 1, _) =\u003E (head.X \u002B Left.X, head.Y),\n",
        "        (\u003C -1, _) =\u003E (head.X \u002B Right.X, head.Y),\n",
        "        (_, \u003E 1) =\u003E (head.X, head.Y \u002B Up.Y),\n",
        "        (_, \u003C -1) =\u003E (head.X, head.Y \u002B Down.Y),\n",
        "        _ =\u003E tail\n",
        "    };\n"
      ]
    },
    {
      "cell_type": "code",
      "execution_count": 8,
      "id": "96e952b5",
      "metadata": {},
      "outputs": [],
      "source": [
        "// So, there are 13 positions the tail visited at least once.\n",
        "\n",
        "var testAnswer = RunSim(testInputLines);\n",
        "Console.WriteLine(testAnswer);"
      ]
    },
    {
      "cell_type": "code",
      "execution_count": 9,
      "id": "e1030512",
      "metadata": {},
      "outputs": [],
      "source": [
        "// Simulate your complete hypothetical series of motions. How many positions\n",
        "// does the tail of the rope visit at least once?\n",
        "\n",
        "var part1Answer = RunSim(inputLines);\n",
        "Console.WriteLine(part1Answer);"
      ]
    },
    {
      "cell_type": "code",
      "execution_count": 10,
      "id": "be98763b",
      "metadata": {},
      "outputs": [],
      "source": [
        "// 6181 is correct!\n",
        "Ensure(6181, part1Answer);"
      ]
    },
    {
      "cell_type": "markdown",
      "id": "fd1db70f",
      "metadata": {},
      "source": [
        "### --- Part Two ---\n",
        "\n",
        "Puzzle description redacted as-per Advent of Code guidelines\n",
        "\n",
        "You may find the puzzle description at: https://adventofcode.com/2022/day/9"
      ]
    },
    {
      "cell_type": "markdown",
      "id": "537a3192",
      "metadata": {},
      "source": [
        "Ok, so in part two, fundamentally we can progressively treat each knot pair as the head / tail, but there is one complication. Suppose we have the following:\n",
        "\n",
        "\u0060\u0060\u0060\n",
        ".....\n",
        "...0.\n",
        "..1..\n",
        ".2...\n",
        ".....\n",
        "\u0060\u0060\u0060\n",
        "\n",
        "In this case, if the head moves up, point \u00601\u0060 will move across and underneath point \u00600\u0060. This now leaves a gap of 2 rows and 2 columns between \u00601\u0060 and \u00602\u0060, eg:\n",
        "\n",
        "\u0060\u0060\u0060\n",
        "...0.\n",
        "...1.\n",
        ".....\n",
        ".2...\n",
        ".....\n",
        "\u0060\u0060\u0060\n",
        "\n",
        "This was a case that couldn\u0027t happen in part one, and we need to account for it in part two. In this case, we need to place point \u00602\u0060 on the diagonal of \u00601\u0060 eg:\n",
        "\n",
        "\u0060\u0060\u0060\n",
        "...0.\n",
        "...1.\n",
        "..2..\n",
        ".....\n",
        ".....\n",
        "\u0060\u0060\u0060\n",
        "\n",
        "Therefore we need to update our \u0060Chase\u0060 function to accomodate this new case."
      ]
    },
    {
      "cell_type": "code",
      "execution_count": 12,
      "id": "bada2d72",
      "metadata": {},
      "outputs": [],
      "source": [
        "Point ChasePt2(Point head, Point tail)\n",
        "{\n",
        "    return (head - tail) switch \n",
        "    {\n",
        "        (\u003E 1, \u003E 1) =\u003E (head.X \u002B Left.X, head.Y \u002B Up.Y),\n",
        "        (\u003E 1, \u003C -1) =\u003E (head.X \u002B Left.X, head.Y \u002B Down.Y),\n",
        "        (\u003C -1, \u003E 1) =\u003E (head.X \u002B Right.X, head.Y \u002B Up.Y),\n",
        "        (\u003C -1, \u003C -1) =\u003E (head.X \u002B Right.X, head.Y \u002B Down.Y),\n",
        "\n",
        "        _ =\u003E Chase(head, tail)\n",
        "    };\n",
        "}"
      ]
    },
    {
      "cell_type": "code",
      "execution_count": 13,
      "id": "b015f2aa",
      "metadata": {},
      "outputs": [],
      "source": [
        "// Now, the tail (9) visits 36 positions (including s) at least once:\n",
        "\n",
        "string[] part2TestInputLines = \n",
        "[\n",
        "    \u0022R 5\u0022,\n",
        "    \u0022U 8\u0022,\n",
        "    \u0022L 8\u0022,\n",
        "    \u0022D 3\u0022,\n",
        "    \u0022R 17\u0022,\n",
        "    \u0022D 10\u0022,\n",
        "    \u0022L 25\u0022,\n",
        "    \u0022U 20\u0022,\n",
        "];\n",
        "\n",
        "var part2TestAnswer = RunSim(part2TestInputLines, knotCount: 10, chaseFunc: ChasePt2);\n",
        "Console.WriteLine(part2TestAnswer);"
      ]
    },
    {
      "cell_type": "code",
      "execution_count": 14,
      "id": "32381702",
      "metadata": {},
      "outputs": [],
      "source": [
        "// Simulate your complete series of motions on a larger rope with ten knots. How\n",
        "// many positions does the tail of the rope visit at least once?\n",
        "\n",
        "var part2Answer = RunSim(inputLines, knotCount: 10, chaseFunc: ChasePt2);\n",
        "Console.WriteLine(part2Answer);"
      ]
    },
    {
      "cell_type": "code",
      "execution_count": 15,
      "id": "29f959c7",
      "metadata": {},
      "outputs": [],
      "source": [
        "// 2386 is correct!\n",
        "Ensure(2386, part2Answer);"
      ]
    }
  ],
  "metadata": {
    "kernelspec": {
      "display_name": ".NET (C#)",
      "language": "C#",
      "name": ".net-csharp"
    },
    "language_info": {
      "name": "polyglot-notebook"
    },
    "polyglot_notebook": {
      "kernelInfo": {
        "defaultKernelName": "csharp",
        "items": [
          {
            "aliases": [],
            "name": "csharp"
          }
        ]
      }
    }
  },
  "nbformat": 4,
  "nbformat_minor": 5
}