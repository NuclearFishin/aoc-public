{
  "cells": [
    {
      "cell_type": "markdown",
      "id": "24dc6f34",
      "metadata": {},
      "source": [
        "### --- Day 7: No Space Left On Device ---\n",
        "\n",
        "Puzzle description redacted as-per Advent of Code guidelines\n",
        "\n",
        "You may find the puzzle description at: https://adventofcode.com/2022/day/7"
      ]
    },
    {
      "cell_type": "code",
      "execution_count": 2,
      "id": "8c6d3fe1",
      "metadata": {},
      "outputs": [],
      "source": [
        "#!import ../Utils.ipynb"
      ]
    },
    {
      "cell_type": "code",
      "execution_count": 3,
      "id": "69f7108f",
      "metadata": {},
      "outputs": [
        {
          "name": "stdout",
          "output_type": "stream",
          "text": [
            "Loading puzzle file: Day7.txt\n",
            "Total lines: 979\n",
            "Max line length: 19\n",
            "\n",
            "$ cd /\n",
            "$ ls\n",
            "dir plws\n",
            "dir pwlbgbz\n",
            "dir pwtpltr\n",
            "dir szn\n",
            "$ cd plws\n",
            "$ ls\n",
            "dir ffpzc\n",
            "dir frcmjzts\n",
            "92461 nbvnzg\n",
            "dir phqcg\n",
            "21621 vqgsglwq\n",
            "$ cd ffpzc\n",
            "$ ls\n",
            "48459 dzdfc.vqq\n",
            "143107 jql.jzl\n",
            "208330 mmnvqn.hqb\n",
            "290122 svjvhflz\n",
            "218008 wjlmgq\n"
          ]
        }
      ],
      "source": [
        "var inputLines = LoadPuzzleInput(2022, 7);\n",
        "WriteLines(inputLines, maxRows: 20);"
      ]
    },
    {
      "cell_type": "code",
      "execution_count": 4,
      "id": "581eff66",
      "metadata": {},
      "outputs": [],
      "source": [
        "string[] testInputLines = [\n",
        "    \u0022$ cd /\u0022,\n",
        "    \u0022$ ls\u0022,\n",
        "    \u0022dir a\u0022,\n",
        "    \u002214848514 b.txt\u0022,\n",
        "    \u00228504156 c.dat\u0022,\n",
        "    \u0022dir d\u0022,\n",
        "    \u0022$ cd a\u0022,\n",
        "    \u0022$ ls\u0022,\n",
        "    \u0022dir e\u0022,\n",
        "    \u002229116 f\u0022,\n",
        "    \u00222557 g\u0022,\n",
        "    \u002262596 h.lst\u0022,\n",
        "    \u0022$ cd e\u0022,\n",
        "    \u0022$ ls\u0022,\n",
        "    \u0022584 i\u0022,\n",
        "    \u0022$ cd ..\u0022,\n",
        "    \u0022$ cd ..\u0022,\n",
        "    \u0022$ cd d\u0022,\n",
        "    \u0022$ ls\u0022,\n",
        "    \u00224060174 j\u0022,\n",
        "    \u00228033020 d.log\u0022,\n",
        "    \u00225626152 d.ext\u0022,\n",
        "    \u00227214296 k\u0022,\n",
        "];"
      ]
    },
    {
      "cell_type": "code",
      "execution_count": 5,
      "id": "16a7f515",
      "metadata": {},
      "outputs": [],
      "source": [
        "Regex FileRegex = new(@\u0022^(\\d\u002B) (.\u002B)$\u0022);\n",
        "const int MaxSizeAtMost = 100_000;\n",
        "\n",
        "Dictionary\u003Cstring, int\u003E ScanFolders(string[] inputLines)\n",
        "{\n",
        "    Stack\u003Cstring\u003E pathTree = new();\n",
        "    Dictionary\u003Cstring, int\u003E pathSizes = new();\n",
        "\n",
        "    foreach (var line in inputLines)\n",
        "    {\n",
        "        if (line.StartsWith(\u0022$ cd\u0022))\n",
        "        {\n",
        "            ChangeDirectory(line);\n",
        "            continue;\n",
        "        }\n",
        "\n",
        "        MaybeFile(line);\n",
        "    }\n",
        "\n",
        "    return pathSizes;\n",
        "\n",
        "    void ChangeDirectory(string line)\n",
        "    {\n",
        "        var path = line[5..];\n",
        "\n",
        "        if (path is \u0022..\u0022)\n",
        "        {\n",
        "            pathTree.Pop();\n",
        "            return;\n",
        "        }\n",
        "\n",
        "        pathTree.TryPeek(out var cwd);\n",
        "        var newPath = $\u0022{cwd}.{path}\u0022;\n",
        "        pathTree.Push(newPath);\n",
        "    }\n",
        "\n",
        "    void MaybeFile(string line)\n",
        "    {\n",
        "        var fileMatch = FileRegex.Match(line);\n",
        "        if (!fileMatch.Success) { return; }\n",
        "\n",
        "        // Found a file\n",
        "        var (_, size, name) = fileMatch.Groups;\n",
        "\n",
        "        foreach (var dir in pathTree)\n",
        "        {\n",
        "            pathSizes.TryGetValue(dir, out var currentSize);\n",
        "            currentSize \u002B= int.Parse(size);\n",
        "            pathSizes[dir] = currentSize;\n",
        "        }\n",
        "    }\n",
        "}\n",
        "\n",
        "int FindSmallFolders(string[] inputLines) =\u003E ScanFolders(inputLines).Where(f =\u003E f.Value \u003C= MaxSizeAtMost).Select(f =\u003E f.Value).Sum();"
      ]
    },
    {
      "cell_type": "code",
      "execution_count": 6,
      "id": "2c4036d1",
      "metadata": {},
      "outputs": [
        {
          "name": "stdout",
          "output_type": "stream",
          "text": [
            "95437\n"
          ]
        }
      ],
      "source": [
        "// In the example above, these directories are a and e; the sum of their total sizes is 95437 (94853 \u002B 584)\n",
        "\n",
        "var testAnswer = FindSmallFolders(testInputLines);\n",
        "Console.WriteLine(testAnswer);"
      ]
    },
    {
      "cell_type": "code",
      "execution_count": 7,
      "id": "7a1d32fb",
      "metadata": {},
      "outputs": [
        {
          "name": "stdout",
          "output_type": "stream",
          "text": [
            "1432936\n"
          ]
        }
      ],
      "source": [
        "// Find all of the directories with a total size of at most 100000. What is the\n",
        "// sum of the total sizes of those directories?\n",
        "\n",
        "var part1Answer = FindSmallFolders(inputLines);\n",
        "Console.WriteLine(part1Answer);"
      ]
    },
    {
      "cell_type": "code",
      "execution_count": 8,
      "id": "748fb105",
      "metadata": {},
      "outputs": [],
      "source": [
        "// 1432936 is correct!\n",
        "Ensure(1432936, part1Answer);"
      ]
    },
    {
      "cell_type": "markdown",
      "id": "8975ae3d",
      "metadata": {},
      "source": [
        "### --- Part Two ---\n",
        "\n",
        "Puzzle description redacted as-per Advent of Code guidelines\n",
        "\n",
        "You may find the puzzle description at: https://adventofcode.com/2022/day/7"
      ]
    },
    {
      "cell_type": "code",
      "execution_count": 10,
      "id": "b4f36905",
      "metadata": {},
      "outputs": [],
      "source": [
        "const int TotalSpace = 70_000_000;\n",
        "const int MinUnusedSpaceAtLeast = 30_000_000;\n",
        "\n",
        "int FindSmallestSaving(string[] inputLines)\n",
        "{\n",
        "    var folders = ScanFolders(inputLines);\n",
        "    var currentUsed = folders[\u0022./\u0022];\n",
        "\n",
        "    var isSaving = (int size) =\u003E TotalSpace - currentUsed \u002B size \u003E= MinUnusedSpaceAtLeast;\n",
        "    var min = folders.Where(f =\u003E isSaving(f.Value)).Select(f =\u003E f.Value).Min();\n",
        "    return min;\n",
        "}"
      ]
    },
    {
      "cell_type": "code",
      "execution_count": 11,
      "id": "be7eeb7f",
      "metadata": {},
      "outputs": [
        {
          "name": "stdout",
          "output_type": "stream",
          "text": [
            "24933642\n"
          ]
        }
      ],
      "source": [
        "// Between these, choose the smallest: d, increasing unused space by 24933642.\n",
        "\n",
        "var part2TestAnswer = FindSmallestSaving(testInputLines);\n",
        "Console.WriteLine(part2TestAnswer);"
      ]
    },
    {
      "cell_type": "code",
      "execution_count": 12,
      "id": "d31fd7fe",
      "metadata": {},
      "outputs": [
        {
          "name": "stdout",
          "output_type": "stream",
          "text": [
            "272298\n"
          ]
        }
      ],
      "source": [
        "// Find the smallest directory that, if deleted, would free up enough space on\n",
        "// the filesystem to run the update. What is the total size of that directory?\n",
        "\n",
        "var part2Answer = FindSmallestSaving(inputLines);\n",
        "Console.WriteLine(part2Answer);"
      ]
    },
    {
      "cell_type": "code",
      "execution_count": 13,
      "id": "28a50982",
      "metadata": {},
      "outputs": [],
      "source": [
        "// 272298 is correct!\n",
        "Ensure(272298, part2Answer);"
      ]
    }
  ],
  "metadata": {
    "kernelspec": {
      "display_name": ".NET (C#)",
      "language": "C#",
      "name": ".net-csharp"
    },
    "language_info": {
      "name": "polyglot-notebook"
    },
    "polyglot_notebook": {
      "kernelInfo": {
        "defaultKernelName": "csharp",
        "items": [
          {
            "aliases": [],
            "name": "csharp"
          }
        ]
      }
    }
  },
  "nbformat": 4,
  "nbformat_minor": 5
}