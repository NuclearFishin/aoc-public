{
  "cells": [
    {
      "cell_type": "markdown",
      "id": "24dc6f34",
      "metadata": {
        "language_info": {
          "name": "polyglot-notebook"
        },
        "polyglot_notebook": {
          "kernelName": "csharp"
        }
      },
      "source": [
        "### --- Day 5: Supply Stacks ---\n",
        "\n",
        "Puzzle description redacted as-per Advent of Code guidelines\n",
        "\n",
        "You may find the puzzle description at: https://adventofcode.com/2022/day/5"
      ]
    },
    {
      "cell_type": "code",
      "execution_count": 2,
      "id": "e205223b",
      "metadata": {
        "language_info": {
          "name": "polyglot-notebook"
        },
        "polyglot_notebook": {
          "kernelName": "csharp"
        }
      },
      "outputs": [],
      "source": [
        "#!import ../Utils.ipynb"
      ]
    },
    {
      "cell_type": "code",
      "execution_count": 3,
      "id": "f3e584f6",
      "metadata": {
        "language_info": {
          "name": "polyglot-notebook"
        },
        "polyglot_notebook": {
          "kernelName": "csharp"
        }
      },
      "outputs": [
        {
          "name": "stdout",
          "output_type": "stream",
          "text": [
            "Total lines: 512\n",
            "Max line length: 35\n",
            "\n",
            "[T]     [Q]             [S]        \n",
            "[R]     [M]             [L] [V] [G]\n",
            "[D] [V] [V]             [Q] [N] [C]\n",
            "[H] [T] [S] [C]         [V] [D] [Z]\n",
            "[Q] [J] [D] [M]     [Z] [C] [M] [F]\n",
            "[N] [B] [H] [N] [B] [W] [N] [J] [M]\n",
            "[P] [G] [R] [Z] [Z] [C] [Z] [G] [P]\n",
            "[B] [W] [N] [P] [D] [V] [G] [L] [T]\n",
            " 1   2   3   4   5   6   7   8   9 \n",
            "\n",
            "move 5 from 4 to 9\n",
            "move 3 from 5 to 1\n",
            "move 12 from 9 to 6\n",
            "move 1 from 6 to 9\n",
            "move 3 from 2 to 8\n",
            "move 6 from 3 to 9\n",
            "move 2 from 2 to 9\n",
            "move 2 from 3 to 5\n",
            "move 9 from 8 to 1\n",
            "move 1 from 6 to 9\n"
          ]
        }
      ],
      "source": [
        "var inputLines = LoadPuzzleInput(2022, 5);\n",
        "WriteLines(inputLines, maxRows: 20);"
      ]
    },
    {
      "cell_type": "code",
      "execution_count": 4,
      "id": "cdf872af",
      "metadata": {
        "language_info": {
          "name": "polyglot-notebook"
        },
        "polyglot_notebook": {
          "kernelName": "csharp"
        }
      },
      "outputs": [],
      "source": [
        "string[] testInputLines = [\n",
        "    \u0022    [D]    \u0022,\n",
        "    \u0022[N] [C]    \u0022,\n",
        "    \u0022[Z] [M] [P]\u0022,\n",
        "    \u0022 1   2   3 \u0022,\n",
        "    \u0022\u0022,\n",
        "    \u0022move 1 from 2 to 1\u0022,\n",
        "    \u0022move 3 from 1 to 3\u0022,\n",
        "    \u0022move 2 from 2 to 1\u0022,\n",
        "    \u0022move 1 from 1 to 2\u0022,\n",
        "];"
      ]
    },
    {
      "cell_type": "code",
      "execution_count": 5,
      "id": "fba91953",
      "metadata": {
        "language_info": {
          "name": "polyglot-notebook"
        },
        "polyglot_notebook": {
          "kernelName": "csharp"
        }
      },
      "outputs": [],
      "source": [
        "using ColStack = SCG.Dictionary\u003Cint, SCG.List\u003Cchar\u003E\u003E;"
      ]
    },
    {
      "cell_type": "code",
      "execution_count": 6,
      "id": "9436d7b3",
      "metadata": {
        "language_info": {
          "name": "polyglot-notebook"
        },
        "polyglot_notebook": {
          "kernelName": "csharp"
        }
      },
      "outputs": [],
      "source": [
        "(ColStack colStacks, string[] moves) ParseStacks(string[] inputLines)\n",
        "{\n",
        "    var (stack, moves) = inputLines.SeparateBy(line =\u003E line is \u0022\u0022).ToArray();\n",
        "    \n",
        "    var alphabet = Alphabet.ToUpper().ToHashSet();\n",
        "\n",
        "    ColStack stacks = new();\n",
        "    foreach (var (row, col, ch) in getAll(stack))\n",
        "    {\n",
        "        var colStack = stacks[col] = stacks.GetValueOrDefault(col, new());\n",
        "        colStack.Insert(0, ch);\n",
        "    }\n",
        "\n",
        "    return (stacks, moves);\n",
        "\n",
        "    // Helper method: get every row/col that has a char\n",
        "    IEnumerable\u003C(int row, int col, char ch)\u003E getAll(string[] stackLines)\n",
        "    {\n",
        "        foreach ((var row, var line) in stackLines.Index())\n",
        "        foreach ((var col, var ch) in line[1..^1].Index())\n",
        "        {\n",
        "            if (alphabet.Contains(ch))\n",
        "            {\n",
        "                yield return (row, 1 \u002B col / 4, ch);\n",
        "            }\n",
        "        }\n",
        "    }\n",
        "}"
      ]
    },
    {
      "cell_type": "code",
      "execution_count": 7,
      "id": "184669aa",
      "metadata": {
        "language_info": {
          "name": "polyglot-notebook"
        },
        "polyglot_notebook": {
          "kernelName": "csharp"
        }
      },
      "outputs": [],
      "source": [
        "void DoMove(ColStack colStacks, string inputLine)\n",
        "{\n",
        "    var (count, from, to) = inputLine.ParseAll(@\u0022\\d\u002B\u0022).Select(int.Parse).ToArray();\n",
        "    \n",
        "    // NB: the move is individual pick / drop of N items, not picking N items at\n",
        "    // once\n",
        "    colStacks[to].AddRange(Enumerable.Reverse(colStacks[from][^count..]));\n",
        "    colStacks[from] = colStacks[from][..^count];\n",
        "}\n",
        "\n",
        "void DoAllMoves(ColStack colStacks, string[] inputLines, Action\u003CColStack, string\u003E moveFunc = null)\n",
        "{\n",
        "    moveFunc ??= DoMove; // Spoiler alert, this changes in part 2\n",
        "\n",
        "    foreach (var inputLine in inputLines)\n",
        "    {\n",
        "        moveFunc(colStacks, inputLine);\n",
        "    }\n",
        "}\n"
      ]
    },
    {
      "cell_type": "code",
      "execution_count": 8,
      "id": "ce32f194",
      "metadata": {
        "language_info": {
          "name": "polyglot-notebook"
        },
        "polyglot_notebook": {
          "kernelName": "csharp"
        }
      },
      "outputs": [],
      "source": [
        "string DoAllMoves(string[] inputLines, Action\u003CColStack, string\u003E moveFunc = null)\n",
        "{\n",
        "    var (colStacks, moves) = ParseStacks(inputLines);\n",
        "    DoAllMoves(colStacks, moves, moveFunc);\n",
        "    char[] resultChars = new char[colStacks.Count];\n",
        "    foreach (var (col, stack) in colStacks)\n",
        "    {\n",
        "        resultChars[col-1] = stack[^1];\n",
        "    }\n",
        "    return new(resultChars);\n",
        "}"
      ]
    },
    {
      "cell_type": "code",
      "execution_count": 9,
      "id": "76a6b281",
      "metadata": {
        "language_info": {
          "name": "polyglot-notebook"
        },
        "polyglot_notebook": {
          "kernelName": "csharp"
        }
      },
      "outputs": [],
      "source": [
        "// The Elves just need to know which crate will end up on top of each stack; in\n",
        "// this example, the top crates are C in stack 1, M in stack 2, and Z in stack 3,\n",
        "// so you should combine these together and give the Elves the message CMZ.\n",
        "\n",
        "var testAnswer = DoAllMoves(testInputLines);\n",
        "Console.WriteLine(testAnswer);"
      ]
    },
    {
      "cell_type": "code",
      "execution_count": 10,
      "id": "fa961fd5",
      "metadata": {
        "language_info": {
          "name": "polyglot-notebook"
        },
        "polyglot_notebook": {
          "kernelName": "csharp"
        }
      },
      "outputs": [],
      "source": [
        "// After the rearrangement procedure completes, what crate ends up on top of\n",
        "// each stack?\n",
        "\n",
        "var part1Answer = DoAllMoves(inputLines);\n",
        "Console.WriteLine(part1Answer);\n"
      ]
    },
    {
      "cell_type": "code",
      "execution_count": 11,
      "metadata": {
        "language_info": {
          "name": "polyglot-notebook"
        },
        "polyglot_notebook": {
          "kernelName": "csharp"
        }
      },
      "outputs": [],
      "source": [
        "// ZBDRNPMVH is correct!\n",
        "Ensure(\u0022ZBDRNPMVH\u0022, part1Answer);"
      ]
    },
    {
      "cell_type": "markdown",
      "metadata": {
        "language_info": {
          "name": "polyglot-notebook"
        },
        "polyglot_notebook": {
          "kernelName": "csharp"
        }
      },
      "source": [
        "### --- Part Two ---\n",
        "\n",
        "Puzzle description redacted as-per Advent of Code guidelines\n",
        "\n",
        "You may find the puzzle description at: https://adventofcode.com/2022/day/5"
      ]
    },
    {
      "cell_type": "code",
      "execution_count": 13,
      "metadata": {
        "language_info": {
          "name": "polyglot-notebook"
        },
        "polyglot_notebook": {
          "kernelName": "csharp"
        }
      },
      "outputs": [],
      "source": [
        "void DoMove2(ColStack colStacks, string inputLine)\n",
        "{\n",
        "    var (count, from, to) = inputLine.ParseAll(@\u0022\\d\u002B\u0022).Select(int.Parse).ToArray();\n",
        "\n",
        "    // NB: this time we pick up all the items at once!\n",
        "    colStacks[to].AddRange(colStacks[from][^count..]);\n",
        "    colStacks[from] = colStacks[from][..^count];\n",
        "}"
      ]
    },
    {
      "cell_type": "code",
      "execution_count": 14,
      "metadata": {
        "language_info": {
          "name": "polyglot-notebook"
        },
        "polyglot_notebook": {
          "kernelName": "csharp"
        }
      },
      "outputs": [],
      "source": [
        "// In this example, the CrateMover 9001 has put the crates in a totally different order: MCD.\n",
        "\n",
        "var part2TestAnswer = DoAllMoves(testInputLines, moveFunc: DoMove2);\n",
        "Console.WriteLine(part2TestAnswer);"
      ]
    },
    {
      "cell_type": "code",
      "execution_count": 15,
      "metadata": {
        "language_info": {
          "name": "polyglot-notebook"
        },
        "polyglot_notebook": {
          "kernelName": "csharp"
        }
      },
      "outputs": [],
      "source": [
        "// After the rearrangement procedure completes, what crate ends up on top of each stack?\n",
        "\n",
        "var part2Answer = DoAllMoves(inputLines, moveFunc: DoMove2);\n",
        "Console.WriteLine(part2Answer);"
      ]
    },
    {
      "cell_type": "code",
      "execution_count": 16,
      "metadata": {
        "language_info": {
          "name": "polyglot-notebook"
        },
        "polyglot_notebook": {
          "kernelName": "csharp"
        }
      },
      "outputs": [],
      "source": [
        "// WDLPFNNNB is correct!\n",
        "Ensure(\u0022WDLPFNNNB\u0022, part2Answer);"
      ]
    }
  ],
  "metadata": {
    "kernelspec": {
      "display_name": ".NET (C#)",
      "language": "C#",
      "name": ".net-csharp"
    },
    "language_info": {
      "name": "polyglot-notebook"
    },
    "polyglot_notebook": {
      "kernelInfo": {
        "defaultKernelName": "csharp",
        "items": [
          {
            "aliases": [],
            "name": "csharp"
          }
        ]
      }
    }
  },
  "nbformat": 4,
  "nbformat_minor": 5
}