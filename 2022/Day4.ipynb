{
  "cells": [
    {
      "cell_type": "markdown",
      "id": "24dc6f34",
      "metadata": {
        "language_info": {
          "name": "polyglot-notebook"
        },
        "polyglot_notebook": {
          "kernelName": "csharp"
        }
      },
      "source": [
        "### --- Day 4: Camp Cleanup ---\n",
        "\n",
        "Puzzle description redacted as-per Advent of Code guidelines\n",
        "\n",
        "You may find the puzzle description at: https://adventofcode.com/2022/day/4"
      ]
    },
    {
      "cell_type": "code",
      "execution_count": 2,
      "id": "52af11a5",
      "metadata": {
        "language_info": {
          "name": "polyglot-notebook"
        },
        "polyglot_notebook": {
          "kernelName": "csharp"
        }
      },
      "outputs": [],
      "source": [
        "#!import ../Utils.ipynb"
      ]
    },
    {
      "cell_type": "code",
      "execution_count": 3,
      "id": "44790697",
      "metadata": {
        "language_info": {
          "name": "polyglot-notebook"
        },
        "polyglot_notebook": {
          "kernelName": "csharp"
        }
      },
      "outputs": [
        {
          "name": "stdout",
          "output_type": "stream",
          "text": [
            "Loading puzzle file: Day4.txt\n",
            "Total lines: 1000\n",
            "Max line length: 11\n",
            "\n",
            "48-50,48-49\n",
            "5-89,5-5\n",
            "17-57,55-96\n",
            "24-67,23-25\n",
            "89-99,11-89\n"
          ]
        }
      ],
      "source": [
        "var inputLines = LoadPuzzleInput(2022, 4);\n",
        "WriteLines(inputLines);"
      ]
    },
    {
      "cell_type": "code",
      "execution_count": 4,
      "id": "06d5fc4a",
      "metadata": {
        "language_info": {
          "name": "polyglot-notebook"
        },
        "polyglot_notebook": {
          "kernelName": "csharp"
        }
      },
      "outputs": [],
      "source": [
        "string[] testInputLines = [\n",
        "    \u00222-4,6-8\u0022,\n",
        "    \u00222-3,4-5\u0022,\n",
        "    \u00225-7,7-9\u0022,\n",
        "    \u00222-8,3-7\u0022,\n",
        "    \u00226-6,4-6\u0022,\n",
        "    \u00222-6,4-8\u0022,\n",
        "];"
      ]
    },
    {
      "cell_type": "code",
      "execution_count": 5,
      "id": "34768ddc",
      "metadata": {
        "language_info": {
          "name": "polyglot-notebook"
        },
        "polyglot_notebook": {
          "kernelName": "csharp"
        }
      },
      "outputs": [],
      "source": [
        "int FullyContains(string inputLine)\n",
        "{\n",
        "    var (a, b, c, d) = inputLine.ParseAll(@\u0022\\d\u002B\u0022).Select(int.Parse).ToArray();\n",
        "\n",
        "    return \n",
        "        a \u003C= c \u0026\u0026 b \u003E= d ? 1 : // a-b contains\n",
        "        c \u003C= a \u0026\u0026 d \u003E= b ? 1 : // c-d contains\n",
        "        0;\n",
        "}\n",
        "\n",
        "int CountFullyContains(string[] inputLines) =\u003E inputLines.Select(FullyContains).Sum();"
      ]
    },
    {
      "cell_type": "code",
      "execution_count": 6,
      "id": "6a32b209",
      "metadata": {
        "language_info": {
          "name": "polyglot-notebook"
        },
        "polyglot_notebook": {
          "kernelName": "csharp"
        }
      },
      "outputs": [
        {
          "name": "stdout",
          "output_type": "stream",
          "text": [
            "2\n"
          ]
        }
      ],
      "source": [
        "// In this example, there are 2 such pairs.\n",
        "\n",
        "var testAnswer = CountFullyContains(testInputLines);\n",
        "Console.WriteLine(testAnswer);"
      ]
    },
    {
      "cell_type": "code",
      "execution_count": 7,
      "id": "8f70a54e",
      "metadata": {
        "language_info": {
          "name": "polyglot-notebook"
        },
        "polyglot_notebook": {
          "kernelName": "csharp"
        }
      },
      "outputs": [
        {
          "name": "stdout",
          "output_type": "stream",
          "text": [
            "530\n"
          ]
        }
      ],
      "source": [
        "// In how many assignment pairs does one range fully contain the other?\n",
        "\n",
        "var part1Answer = CountFullyContains(inputLines);\n",
        "Console.WriteLine(part1Answer);"
      ]
    },
    {
      "cell_type": "code",
      "execution_count": 8,
      "metadata": {
        "language_info": {
          "name": "polyglot-notebook"
        },
        "polyglot_notebook": {
          "kernelName": "csharp"
        }
      },
      "outputs": [],
      "source": [
        "// 530 is correct\n",
        "Ensure(530, part1Answer);"
      ]
    },
    {
      "cell_type": "markdown",
      "metadata": {
        "language_info": {
          "name": "polyglot-notebook"
        },
        "polyglot_notebook": {
          "kernelName": "csharp"
        }
      },
      "source": [
        "### --- Part Two ---\n",
        "\n",
        "Puzzle description redacted as-per Advent of Code guidelines\n",
        "\n",
        "You may find the puzzle description at: https://adventofcode.com/2022/day/4"
      ]
    },
    {
      "cell_type": "code",
      "execution_count": 10,
      "metadata": {
        "language_info": {
          "name": "polyglot-notebook"
        },
        "polyglot_notebook": {
          "kernelName": "csharp"
        }
      },
      "outputs": [],
      "source": [
        "int PartiallyContains(string inputLine)\n",
        "{\n",
        "    var (a, b, c, d) = inputLine.ParseAll(@\u0022\\d\u002B\u0022).Select(int.Parse).ToArray();\n",
        "\n",
        "    if (a \u003C= c \u0026\u0026 b \u003E= c) { return 1; } // First overlaps second\n",
        "    if (c \u003C= a \u0026\u0026 d \u003E= a) { return 1; } // Second overlaps first\n",
        "    \n",
        "    return 0;\n",
        "}\n",
        "\n",
        "int CountPartiallyContains(string[] inputLines) =\u003E inputLines.Select(PartiallyContains).Sum();"
      ]
    },
    {
      "cell_type": "code",
      "execution_count": 11,
      "metadata": {
        "language_info": {
          "name": "polyglot-notebook"
        },
        "polyglot_notebook": {
          "kernelName": "csharp"
        }
      },
      "outputs": [
        {
          "name": "stdout",
          "output_type": "stream",
          "text": [
            "4\n"
          ]
        }
      ],
      "source": [
        "// So, in this example, the number of overlapping assignment pairs is 4.\n",
        "\n",
        "var part2TestAnswer = CountPartiallyContains(testInputLines);\n",
        "Console.WriteLine(part2TestAnswer);"
      ]
    },
    {
      "cell_type": "code",
      "execution_count": 12,
      "metadata": {
        "language_info": {
          "name": "polyglot-notebook"
        },
        "polyglot_notebook": {
          "kernelName": "csharp"
        }
      },
      "outputs": [
        {
          "name": "stdout",
          "output_type": "stream",
          "text": [
            "903\n"
          ]
        }
      ],
      "source": [
        "// In how many assignment pairs do the ranges overlap?\n",
        "\n",
        "var part2Answer = CountPartiallyContains(inputLines);\n",
        "Console.WriteLine(part2Answer);"
      ]
    },
    {
      "cell_type": "code",
      "execution_count": 13,
      "metadata": {
        "language_info": {
          "name": "polyglot-notebook"
        },
        "polyglot_notebook": {
          "kernelName": "csharp"
        }
      },
      "outputs": [],
      "source": [
        "// 903 is correct!\n",
        "Ensure(903, part2Answer);"
      ]
    }
  ],
  "metadata": {
    "kernelspec": {
      "display_name": ".NET (C#)",
      "language": "C#",
      "name": ".net-csharp"
    },
    "language_info": {
      "name": "polyglot-notebook"
    },
    "polyglot_notebook": {
      "kernelInfo": {
        "defaultKernelName": "csharp",
        "items": [
          {
            "aliases": [],
            "name": "csharp"
          }
        ]
      }
    }
  },
  "nbformat": 4,
  "nbformat_minor": 5
}