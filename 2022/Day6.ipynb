{
  "cells": [
    {
      "cell_type": "markdown",
      "id": "24dc6f34",
      "metadata": {},
      "source": [
        "### --- Day 6: Tuning Trouble ---\n",
        "\n",
        "Puzzle description redacted as-per Advent of Code guidelines\n",
        "\n",
        "You may find the puzzle description at: https://adventofcode.com/2022/day/6"
      ]
    },
    {
      "cell_type": "code",
      "execution_count": 2,
      "id": "de675aa7",
      "metadata": {},
      "outputs": [],
      "source": [
        "#!import \u0022../Utils.ipynb\u0022"
      ]
    },
    {
      "cell_type": "code",
      "execution_count": 3,
      "id": "f500fde2",
      "metadata": {},
      "outputs": [
        {
          "name": "stdout",
          "output_type": "stream",
          "text": [
            "Total lines: 1\n",
            "Max line length: 4095\n",
            "\n",
            "rdzrddbgdbbqtbqbrrznznjzjjctcbtttrvrwwsvwssjfjcjnjzzqgzgzsggfddvnnrbbwgwfwgfgpgrprgrprmmqjmqmvmlmmgj\n"
          ]
        }
      ],
      "source": [
        "var inputLines = LoadPuzzleInput(2022, 6);\n",
        "WriteLines(inputLines, maxCols: 100);"
      ]
    },
    {
      "cell_type": "code",
      "execution_count": 4,
      "id": "dad36af4",
      "metadata": {},
      "outputs": [],
      "source": [
        "string testInputLine = \u0022mjqjpqmgbljsphdztnvjfqwrcgsmlb\u0022;"
      ]
    },
    {
      "cell_type": "code",
      "execution_count": 5,
      "id": "a991abb7",
      "metadata": {},
      "outputs": [],
      "source": [
        "int FindFirstMarker(string inputLine, int windowSize = 4)\n",
        "{\n",
        "    Dictionary\u003Cchar, int\u003E charCounts = new();\n",
        "    Alphabet.ToList().ForEach(ch =\u003E charCounts[ch] = 0);\n",
        "\n",
        "    // Maintain a sliding window of char counts - from this we can derive when\n",
        "    // characters are distinct (ie a count of 1)\n",
        "\n",
        "    int initialFunc(IEnumerable\u003Cchar\u003E firstWindow)\n",
        "    {\n",
        "        firstWindow.ToList().ForEach(ch =\u003E charCounts[ch]\u002B\u002B);\n",
        "        return charCounts.Values.Where(c =\u003E c \u003E 0).Count();\n",
        "    }\n",
        "\n",
        "    int nextFunc(int count, char remove, char add)\n",
        "    {\n",
        "        if (--charCounts[remove] == 0)\n",
        "        {\n",
        "            count--;\n",
        "        }\n",
        "\n",
        "        if (\u002B\u002BcharCounts[add] == 1)\n",
        "        {\n",
        "            count\u002B\u002B;\n",
        "        }\n",
        "\n",
        "        return count;\n",
        "    };\n",
        "\n",
        "    var windowCounts = SlidingWindow(inputLine, windowSize, initialFunc, nextFunc);\n",
        "\n",
        "    foreach (var (index, count) in windowCounts.Index())\n",
        "    {\n",
        "        if (count == windowSize)\n",
        "        {\n",
        "            return index \u002B windowSize;\n",
        "        }\n",
        "    }\n",
        "\n",
        "    throw new Exception(\u0022Expected to find marker\u0022);\n",
        "}"
      ]
    },
    {
      "cell_type": "code",
      "execution_count": 6,
      "id": "3a2ae2fd",
      "metadata": {},
      "outputs": [
        {
          "name": "stdout",
          "output_type": "stream",
          "text": [
            "7\n"
          ]
        }
      ],
      "source": [
        "Console.WriteLine(testInputLine);\n",
        "var testAnswer = FindFirstMarker(testInputLine);\n",
        "Console.WriteLine(testAnswer);"
      ]
    },
    {
      "cell_type": "code",
      "execution_count": 7,
      "id": "32ed9143",
      "metadata": {},
      "outputs": [
        {
          "name": "stdout",
          "output_type": "stream",
          "text": [
            "nppdvjthqldpwncqszvftbrmjlhg: first marker after character 6\n",
            "nznrnfrfntjfmvfwmzdfjlvtqnbhcprsg: first marker after character 10\n",
            "zcfzfwzzqfrljwzlrfnpqdbhtmscgvjw: first marker after character 11\n"
          ]
        }
      ],
      "source": [
        "// Here are a few more examples:\n",
        "\n",
        "// bvwbjplbgvbhsrlpgdmjqwftvncz: first marker after character 5\n",
        "// nppdvjthqldpwncqszvftbrmjlhg: first marker after character 6\n",
        "// nznrnfrfntjfmvfwmzdfjlvtqnbhcprsg: first marker after character 10\n",
        "// zcfzfwzzqfrljwzlrfnpqdbhtmscgvjw: first marker after character 11\n",
        "\n",
        "string[] moreInputLines = [\n",
        "    \u0022bvwbjplbgvbhsrlpgdmjqwftvncz\u0022,\n",
        "    \u0022nppdvjthqldpwncqszvftbrmjlhg\u0022,\n",
        "    \u0022nznrnfrfntjfmvfwmzdfjlvtqnbhcprsg\u0022,\n",
        "    \u0022zcfzfwzzqfrljwzlrfnpqdbhtmscgvjw\u0022\n",
        "];\n",
        "\n",
        "foreach (var inputLine in moreInputLines)\n",
        "{\n",
        "    var testAnswer = FindFirstMarker(inputLine);\n",
        "    Console.WriteLine($\u0022{inputLine}: first marker after character {testAnswer}\u0022);\n",
        "}"
      ]
    },
    {
      "cell_type": "code",
      "execution_count": 8,
      "id": "05b9b81a",
      "metadata": {},
      "outputs": [],
      "source": [
        "// How many characters need to be processed before the first start-of-packet marker is detected?\n",
        "\n",
        "var part1Answer = FindFirstMarker(inputLines[0]);\n",
        "Console.WriteLine(part1Answer);"
      ]
    },
    {
      "cell_type": "code",
      "execution_count": 9,
      "id": "c677a10c",
      "metadata": {},
      "outputs": [],
      "source": [
        "// 1702 is correct\n",
        "Ensure(1702, part1Answer);"
      ]
    },
    {
      "cell_type": "code",
      "execution_count": 10,
      "id": "72bb3c7c",
      "metadata": {},
      "outputs": [],
      "source": [
        "var part2Answer = FindFirstMarker(inputLines[0], windowSize: 14);\n",
        "Console.WriteLine(part2Answer);"
      ]
    },
    {
      "cell_type": "code",
      "execution_count": 11,
      "id": "e3f62d87",
      "metadata": {},
      "outputs": [],
      "source": [
        "// 3559 is correct!\n",
        "Ensure(3559, part2Answer);"
      ]
    }
  ],
  "metadata": {
    "kernelspec": {
      "display_name": ".NET (C#)",
      "language": "C#",
      "name": ".net-csharp"
    },
    "language_info": {
      "name": "polyglot-notebook"
    },
    "polyglot_notebook": {
      "kernelInfo": {
        "defaultKernelName": "csharp",
        "items": [
          {
            "aliases": [],
            "name": "csharp"
          }
        ]
      }
    }
  },
  "nbformat": 4,
  "nbformat_minor": 5
}