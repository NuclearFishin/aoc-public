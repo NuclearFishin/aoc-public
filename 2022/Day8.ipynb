{
  "cells": [
    {
      "cell_type": "markdown",
      "id": "24dc6f34",
      "metadata": {},
      "source": [
        "### --- Day 8: Treetop Tree House ---\n",
        "\n",
        "Puzzle description redacted as-per Advent of Code guidelines\n",
        "\n",
        "You may find the puzzle description at: https://adventofcode.com/2022/day/8"
      ]
    },
    {
      "cell_type": "code",
      "execution_count": 2,
      "id": "f2d0863c",
      "metadata": {},
      "outputs": [],
      "source": [
        "#!import ../Utils.ipynb"
      ]
    },
    {
      "cell_type": "code",
      "execution_count": 3,
      "id": "93679223",
      "metadata": {},
      "outputs": [
        {
          "name": "stdout",
          "output_type": "stream",
          "text": [
            "Loading puzzle file: Day8.txt\n",
            "Total lines: 99\n",
            "Max line length: 99\n",
            "\n",
            "422411333315050450444501456006152604434030162031174034546313212413064150120521030152355534203000121\n",
            "301324204451515335252342253126503010214314026675523135330307170405066545120014006214521335013332134\n",
            "410011302103513543254453460342420630261341511764171765703774273674310415535166643155002215230224343\n",
            "103430412453541534313620414103230457371320115213510406561165762764547335046351220043205123531400041\n",
            "431144033221543442550410360065613506340166441027415155772664554705330520251311025141223233351402243\n"
          ]
        }
      ],
      "source": [
        "var inputLines = LoadPuzzleInput(2022, 8);\n",
        "WriteLines(inputLines);"
      ]
    },
    {
      "cell_type": "code",
      "execution_count": 4,
      "id": "f1f90486",
      "metadata": {},
      "outputs": [],
      "source": [
        "string[] testInputLines =\n",
        "[\n",
        "    \u002230373\u0022,\n",
        "    \u002225512\u0022,\n",
        "    \u002265332\u0022,\n",
        "    \u002233549\u0022,\n",
        "    \u002235390\u0022,\n",
        "];"
      ]
    },
    {
      "cell_type": "code",
      "execution_count": 5,
      "id": "29143a6a",
      "metadata": {},
      "outputs": [],
      "source": [
        "// It seems to me that things will only be visible as long as the number is always increasing until it reaches 9\n",
        "\n",
        "// So rather than check all grid spots, just check inboard from the edges as long as the number range is increasing?\n",
        "\n",
        "int CountTrees(string[] inputLines)\n",
        "{\n",
        "    CharGrid ch = new(inputLines);\n",
        "    HashSet\u003CPoint\u003E visibleSet = new();\n",
        "\n",
        "    var topRow =    Enumerable.Range(0, ch.Cols).Select(x =\u003E (x, 0));\n",
        "    var bottomRow = Enumerable.Range(0, ch.Cols).Select(x =\u003E (x, ch.Cols - 1));\n",
        "    var leftCol =   Enumerable.Range(0, ch.Rows).Select(y =\u003E (0, y));\n",
        "    var rightCol =  Enumerable.Range(0, ch.Rows).Select(y =\u003E (ch.Cols - 1, y));\n",
        "\n",
        "    var borderSearches = new[] \n",
        "    {\n",
        "        (topRow, Down),\n",
        "        (bottomRow, Up),\n",
        "        (leftCol, Right),\n",
        "        (rightCol, Left)\n",
        "    };\n",
        "\n",
        "    foreach (var (edge, direction) in borderSearches)\n",
        "    {\n",
        "        visibleSet.UnionWith(edge.SelectMany(start =\u003E GetVisible(start, direction)));\n",
        "    }\n",
        "\n",
        "    return visibleSet.Count;\n",
        "\n",
        "    IEnumerable\u003CPoint\u003E GetVisible(Point start, Point direction)\n",
        "    {\n",
        "        var currentMaxHeight = -1;\n",
        "        var currentPoint = start;\n",
        "\n",
        "        // Look along each treeline, noting that we can see each tree where the\n",
        "        // height increases, but not when it decreases\n",
        "        while (ch.IsValid(currentPoint))\n",
        "        {\n",
        "            if (ch[currentPoint] \u003E currentMaxHeight)\n",
        "            {\n",
        "                yield return currentPoint;\n",
        "                currentMaxHeight = ch[currentPoint];\n",
        "                if (currentMaxHeight == 9) { yield break; }\n",
        "            }\n",
        "            currentPoint \u002B= direction;\n",
        "        }\n",
        "    }\n",
        "}"
      ]
    },
    {
      "cell_type": "code",
      "execution_count": 6,
      "id": "b27c5dd8",
      "metadata": {},
      "outputs": [
        {
          "name": "stdout",
          "output_type": "stream",
          "text": [
            "21\n"
          ]
        }
      ],
      "source": [
        "// With 16 trees visible on the edge and another 5 visible in the interior, a\n",
        "// total of 21 trees are visible in this arrangement.\n",
        "\n",
        "var testAnswer = CountTrees(testInputLines);\n",
        "Console.WriteLine(testAnswer);"
      ]
    },
    {
      "cell_type": "code",
      "execution_count": 7,
      "id": "c89a9a79",
      "metadata": {},
      "outputs": [
        {
          "name": "stdout",
          "output_type": "stream",
          "text": [
            "1543\n"
          ]
        }
      ],
      "source": [
        "// Consider your map; how many trees are visible from outside the grid?\n",
        "\n",
        "var part1Answer = CountTrees(inputLines);\n",
        "Console.WriteLine(part1Answer);"
      ]
    },
    {
      "cell_type": "code",
      "execution_count": 8,
      "id": "1423c9ab",
      "metadata": {},
      "outputs": [],
      "source": [
        "// 1543 is correct!\n",
        "Ensure(1543, part1Answer);"
      ]
    },
    {
      "cell_type": "markdown",
      "id": "8af2c014",
      "metadata": {},
      "source": [
        "### --- Part Two ---\n",
        "\n",
        "Puzzle description redacted as-per Advent of Code guidelines\n",
        "\n",
        "You may find the puzzle description at: https://adventofcode.com/2022/day/8"
      ]
    },
    {
      "cell_type": "code",
      "execution_count": 10,
      "id": "18548a6b",
      "metadata": {},
      "outputs": [],
      "source": [
        "Point[] directions = [Up, Down, Left, Right];\n",
        "\n",
        "int CountTrees2(string[] inputLines)\n",
        "{\n",
        "    CharGrid ch = new(inputLines);\n",
        "\n",
        "    var maxScenic = ch.Enumerate().Select(pch =\u003E pch.point).Select(ScenicScore).Max();\n",
        "    return maxScenic;\n",
        "\n",
        "    int ScenicScore(Point start) =\u003E directions.Select(dir =\u003E CountTrees(start, dir)).Aggregate(1, (a, b) =\u003E a * b);\n",
        "\n",
        "    int CountTrees(Point start, Point direction) =\u003E Look(start, direction).Count();\n",
        "\n",
        "    IEnumerable\u003CPoint\u003E Look(Point start, Point direction)\n",
        "    {\n",
        "        var heightLimit = ch[start];\n",
        "\n",
        "        for (var p = start \u002B direction; ch.IsValid(p); p \u002B= direction)\n",
        "        {\n",
        "            yield return p;\n",
        "\n",
        "            if (ch[p] \u003E= heightLimit) { break; }\n",
        "        }\n",
        "    }\n",
        "}"
      ]
    },
    {
      "cell_type": "code",
      "execution_count": 11,
      "id": "c1b67bd8",
      "metadata": {},
      "outputs": [
        {
          "name": "stdout",
          "output_type": "stream",
          "text": [
            "8\n"
          ]
        }
      ],
      "source": [
        "// This tree\u0027s scenic score is 8 (2 * 2 * 1 * 2); this is the ideal spot for the tree house.\n",
        "\n",
        "var part2TestAnswer = CountTrees2(testInputLines);\n",
        "Console.WriteLine(part2TestAnswer);"
      ]
    },
    {
      "cell_type": "code",
      "execution_count": 12,
      "id": "196ff513",
      "metadata": {},
      "outputs": [
        {
          "name": "stdout",
          "output_type": "stream",
          "text": [
            "595080\n"
          ]
        }
      ],
      "source": [
        "// Consider each tree on your map. What is the highest scenic score possible for any tree?\n",
        "\n",
        "var part2Answer = CountTrees2(inputLines);\n",
        "Console.WriteLine(part2Answer);"
      ]
    },
    {
      "cell_type": "code",
      "execution_count": 13,
      "id": "1d6d361d",
      "metadata": {},
      "outputs": [],
      "source": [
        "// 595080 is correct!\n",
        "Ensure(595080, part2Answer);"
      ]
    }
  ],
  "metadata": {
    "kernelspec": {
      "display_name": ".NET (C#)",
      "language": "C#",
      "name": ".net-csharp"
    },
    "language_info": {
      "name": "polyglot-notebook"
    },
    "polyglot_notebook": {
      "kernelInfo": {
        "defaultKernelName": "csharp",
        "items": [
          {
            "aliases": [],
            "name": "csharp"
          }
        ]
      }
    }
  },
  "nbformat": 4,
  "nbformat_minor": 5
}