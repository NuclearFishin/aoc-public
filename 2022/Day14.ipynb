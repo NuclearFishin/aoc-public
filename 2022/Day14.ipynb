{
  "cells": [
    {
      "cell_type": "markdown",
      "id": "4467da51",
      "metadata": {
        "language_info": {
          "name": "polyglot-notebook"
        },
        "polyglot_notebook": {
          "kernelName": "csharp"
        }
      },
      "source": [
        "### --- Day 14: Regolith Reservoir ---\n",
        "\n",
        "Puzzle description redacted as-per Advent of Code guidelines\n",
        "\n",
        "You may find the puzzle description at: https://adventofcode.com/2022/day/14"
      ]
    },
    {
      "cell_type": "code",
      "execution_count": 2,
      "id": "085ba23c",
      "metadata": {
        "language_info": {
          "name": "polyglot-notebook"
        },
        "polyglot_notebook": {
          "kernelName": "csharp"
        }
      },
      "outputs": [],
      "source": [
        "#!import ../Utils.ipynb"
      ]
    },
    {
      "cell_type": "code",
      "execution_count": 3,
      "id": "d246c467",
      "metadata": {
        "language_info": {
          "name": "polyglot-notebook"
        },
        "polyglot_notebook": {
          "kernelName": "csharp"
        }
      },
      "outputs": [
        {
          "name": "stdout",
          "output_type": "stream",
          "text": [
            "Loading puzzle file: Day14.txt\n",
            "Total lines: 176\n",
            "Max line length: 266\n",
            "\n",
            "500,30 -\u003E 504,30\n",
            "503,28 -\u003E 507,28\n",
            "477,136 -\u003E 477,133 -\u003E 477,136 -\u003E 479,136 -\u003E 479,135 -\u003E 479,136 -\u003E 481,136 -\u003E 481,127 -\u003E 481,136 -\u003E 483,136 -\u003E 483,131 -\u003E 483,136 -\u003E 485,136 -\u003E 485,129 -\u003E 485,136 -\u003E 487,136 -\u003E 487,135 -\u003E 487,136\n",
            "496,97 -\u003E 496,99 -\u003E 488,99 -\u003E 488,103 -\u003E 508,103 -\u003E 508,99 -\u003E 502,99 -\u003E 502,97\n",
            "537,66 -\u003E 541,66\n"
          ]
        }
      ],
      "source": [
        "var inputLines = LoadPuzzleInput(2022, 14);\n",
        "WriteLines(inputLines);"
      ]
    },
    {
      "cell_type": "code",
      "execution_count": 4,
      "id": "4fcf53bb",
      "metadata": {
        "language_info": {
          "name": "polyglot-notebook"
        },
        "polyglot_notebook": {
          "kernelName": "csharp"
        }
      },
      "outputs": [],
      "source": [
        "string[] testInputLines = \n",
        "[\n",
        "    \u0022498,4 -\u003E 498,6 -\u003E 496,6\u0022,\n",
        "    \u0022503,4 -\u003E 502,4 -\u003E 502,9 -\u003E 494,9\u0022,\n",
        "];"
      ]
    },
    {
      "cell_type": "markdown",
      "id": "cbdbaccf",
      "metadata": {},
      "source": [
        "So, I think for this one we\u0027re going to need our grid.\n",
        "\n",
        "Then, we\u0027ll need a function to draw lines in grid space.\n",
        "\n",
        "Finally a function to simulate dropping items until they can\u0027t move any more (or fall off the edge)"
      ]
    },
    {
      "cell_type": "code",
      "execution_count": 5,
      "id": "6d1e5ed5",
      "metadata": {
        "language_info": {
          "name": "polyglot-notebook"
        },
        "polyglot_notebook": {
          "kernelName": "csharp"
        }
      },
      "outputs": [],
      "source": [
        "// Calculate all points in a straight line\n",
        "IEnumerable\u003CPoint\u003E DrawLine(Point from, Point to)\n",
        "{\n",
        "    var diff = to - from;\n",
        "    Point direction = diff switch {\n",
        "        (0, var y) =\u003E (0, y / Math.Abs(y)),\n",
        "        (var x, _) =\u003E (x / Math.Abs(x), 0)\n",
        "    };\n",
        "\n",
        "    var steps = Math.Abs(diff.X \u002B diff.Y) \u002B 1;\n",
        "\n",
        "    return Enumerable.Range(0, steps).Select(i =\u003E from \u002B direction * i);\n",
        "}"
      ]
    },
    {
      "cell_type": "code",
      "execution_count": 6,
      "id": "8003f515",
      "metadata": {
        "language_info": {
          "name": "polyglot-notebook"
        },
        "polyglot_notebook": {
          "kernelName": "csharp"
        }
      },
      "outputs": [],
      "source": [
        "using SandGrid = SCG.Dictionary\u003CPoint, char\u003E;\n",
        "const char Rock = \u0027#\u0027;\n",
        "const char Sand = \u0027o\u0027;"
      ]
    },
    {
      "cell_type": "code",
      "execution_count": 7,
      "id": "46a3faac",
      "metadata": {
        "language_info": {
          "name": "polyglot-notebook"
        },
        "polyglot_notebook": {
          "kernelName": "csharp"
        }
      },
      "outputs": [],
      "source": [
        "Point[] directions = [Down, Down \u002B Left, Down \u002B Right];\n",
        "\n",
        "SandGrid ParseSandGrid(string[] inputLines)\n",
        "{\n",
        "    SandGrid grid = new();\n",
        "\n",
        "    foreach (var line in inputLines)\n",
        "    {\n",
        "        var linePoints = line.Split(\u0022 -\u003E \u0022).Select(ParsePoint).ToList();\n",
        "        foreach (var (a, b) in linePoints.Zip(linePoints.Skip(1)))\n",
        "        foreach (var x in DrawLine(a, b))\n",
        "        {\n",
        "            grid[x] = Rock;\n",
        "        }\n",
        "    }\n",
        "\n",
        "    return grid;\n",
        "\n",
        "    Point ParsePoint(string f) =\u003E (f.ParseInts().First(), f.ParseInts().Last());\n",
        "}"
      ]
    },
    {
      "cell_type": "code",
      "execution_count": 8,
      "id": "a9f47ca6",
      "metadata": {
        "language_info": {
          "name": "polyglot-notebook"
        },
        "polyglot_notebook": {
          "kernelName": "csharp"
        }
      },
      "outputs": [],
      "source": [
        "void DropSand(SandGrid grid)\n",
        "{\n",
        "    Point sand = (500, 0);\n",
        "    var floor = grid.Keys.Max(p =\u003E p.Y);\n",
        "\n",
        "    while (!grid.ContainsKey(sand))\n",
        "    {\n",
        "        // Fallen off?\n",
        "        if (sand.Y \u003E floor) { return; }\n",
        "\n",
        "        // See if we can drop down\n",
        "        var next = directions.Select(dir =\u003E sand \u002B dir)\n",
        "            .FirstOrDefault(n =\u003E !grid.ContainsKey(n));\n",
        "        \n",
        "        // Nowhere left to fall?\n",
        "        if (next == default) { break; }\n",
        "\n",
        "        // Still falling\n",
        "        sand = next;\n",
        "    }\n",
        "\n",
        "    grid[sand] = Sand;\n",
        "}"
      ]
    },
    {
      "cell_type": "code",
      "execution_count": 9,
      "id": "84cc8258",
      "metadata": {
        "language_info": {
          "name": "polyglot-notebook"
        },
        "polyglot_notebook": {
          "kernelName": "csharp"
        }
      },
      "outputs": [],
      "source": [
        "int DropAndCountSand(string[] inputLines, Action\u003CSandGrid\u003E dropSand)\n",
        "{\n",
        "    var grid = ParseSandGrid(inputLines);\n",
        "\n",
        "    var current = -2;\n",
        "    var next = -1;\n",
        "    while (next != current)\n",
        "    {\n",
        "        current = grid.Count;\n",
        "        dropSand(grid);\n",
        "        next = grid.Count;\n",
        "    }\n",
        "\n",
        "    return grid.Values.Where(v =\u003E v is \u0027o\u0027).Count();\n",
        "}"
      ]
    },
    {
      "cell_type": "code",
      "execution_count": 10,
      "id": "d75665bb",
      "metadata": {
        "language_info": {
          "name": "polyglot-notebook"
        },
        "polyglot_notebook": {
          "kernelName": "csharp"
        }
      },
      "outputs": [
        {
          "name": "stdout",
          "output_type": "stream",
          "text": [
            "24\n"
          ]
        }
      ],
      "source": [
        "// Once all 24 units of sand shown above have come to rest, all further sand\n",
        "// flows out the bottom\n",
        "\n",
        "var testAnswer = DropAndCountSand(testInputLines, DropSand);\n",
        "Console.WriteLine(testAnswer);"
      ]
    },
    {
      "cell_type": "code",
      "execution_count": 11,
      "id": "8a9bb0ee",
      "metadata": {
        "language_info": {
          "name": "polyglot-notebook"
        },
        "polyglot_notebook": {
          "kernelName": "csharp"
        }
      },
      "outputs": [
        {
          "name": "stdout",
          "output_type": "stream",
          "text": [
            "1406\n"
          ]
        }
      ],
      "source": [
        "// How many units of sand come to rest before sand starts flowing into the abyss\n",
        "// below?\n",
        "\n",
        "var part1Answer = DropAndCountSand(inputLines, DropSand);\n",
        "Console.WriteLine(part1Answer);"
      ]
    },
    {
      "cell_type": "code",
      "execution_count": 12,
      "id": "bfff682d",
      "metadata": {
        "language_info": {
          "name": "polyglot-notebook"
        },
        "polyglot_notebook": {
          "kernelName": "csharp"
        }
      },
      "outputs": [],
      "source": [
        "// 1406 is correct!\n",
        "Ensure(1406, part1Answer);"
      ]
    },
    {
      "cell_type": "markdown",
      "id": "37a4287f",
      "metadata": {
        "language_info": {
          "name": "polyglot-notebook"
        },
        "polyglot_notebook": {
          "kernelName": "csharp"
        }
      },
      "source": [
        "### --- Part Two ---\n",
        "\n",
        "Puzzle description redacted as-per Advent of Code guidelines\n",
        "\n",
        "You may find the puzzle description at: https://adventofcode.com/2022/day/14"
      ]
    },
    {
      "cell_type": "markdown",
      "id": "48b52155",
      "metadata": {},
      "source": [
        "Ok, I think we\u0027re pretty well set up for this one. We just need to tweak our falling simulation slightly so that it always stops on the new virtual floor.Ultimately, the initial block of sand will have no further options and will just overwrite the existing sand tile at the origin, adding no new items and terminating the simulation as-before."
      ]
    },
    {
      "cell_type": "code",
      "execution_count": 14,
      "id": "99724b66",
      "metadata": {
        "language_info": {
          "name": "polyglot-notebook"
        },
        "polyglot_notebook": {
          "kernelName": "csharp"
        }
      },
      "outputs": [],
      "source": [
        "void DropSand2(SandGrid grid)\n",
        "{\n",
        "    Point sand = (500, 0);\n",
        "\n",
        "    var floor = floorCache.TryGetValue(grid, out var f) switch {\n",
        "        true =\u003E f,\n",
        "        _ =\u003E grid.Where(gg =\u003E gg.Value is Rock).Max(gg =\u003E gg.Key.Y) \u002B 2\n",
        "    };\n",
        "    floorCache[grid] = floor;\n",
        "\n",
        "    while (!grid.ContainsKey(sand))\n",
        "    {\n",
        "        // See if we can drop down\n",
        "        var next = directions.Select(dir =\u003E sand \u002B dir)\n",
        "            .FirstOrDefault(n =\u003E !grid.ContainsKey(n) \u0026\u0026 n.Y \u003C floor);\n",
        "        \n",
        "        // Nowhere left to fall?\n",
        "        if (next == default) { break; }\n",
        "\n",
        "        // Still falling\n",
        "        sand = next;\n",
        "    }\n",
        "\n",
        "    grid[sand] = Sand;\n",
        "}\n",
        "\n",
        "Dictionary\u003CSandGrid, int\u003E floorCache = new();"
      ]
    },
    {
      "cell_type": "code",
      "execution_count": 15,
      "id": "6ee31b16",
      "metadata": {
        "language_info": {
          "name": "polyglot-notebook"
        },
        "polyglot_notebook": {
          "kernelName": "csharp"
        }
      },
      "outputs": [
        {
          "name": "stdout",
          "output_type": "stream",
          "text": [
            "93\n"
          ]
        }
      ],
      "source": [
        "// In the example above, the situation finally looks like this after 93 units of\n",
        "// sand come to rest:\n",
        "\n",
        "var part2TestAnswer = DropAndCountSand(testInputLines, DropSand2);\n",
        "Console.WriteLine(part2TestAnswer);"
      ]
    },
    {
      "cell_type": "code",
      "execution_count": 16,
      "id": "2b077c98",
      "metadata": {
        "language_info": {
          "name": "polyglot-notebook"
        },
        "polyglot_notebook": {
          "kernelName": "csharp"
        }
      },
      "outputs": [
        {
          "name": "stdout",
          "output_type": "stream",
          "text": [
            "20870\n"
          ]
        }
      ],
      "source": [
        "// Using your scan, simulate the falling sand until the source of the sand\n",
        "// becomes blocked. How many units of sand come to rest?\n",
        "\n",
        "var part2Answer = DropAndCountSand(inputLines, DropSand2);\n",
        "Console.WriteLine(part2Answer);"
      ]
    },
    {
      "cell_type": "code",
      "execution_count": 17,
      "metadata": {
        "language_info": {
          "name": "polyglot-notebook"
        },
        "polyglot_notebook": {
          "kernelName": "csharp"
        }
      },
      "outputs": [],
      "source": [
        "// 20870 is correct!\n",
        "Ensure(20870, part2Answer);"
      ]
    }
  ],
  "metadata": {
    "kernelspec": {
      "display_name": ".NET (C#)",
      "language": "C#",
      "name": ".net-csharp"
    },
    "language_info": {
      "name": "polyglot-notebook"
    },
    "polyglot_notebook": {
      "kernelInfo": {
        "defaultKernelName": "csharp",
        "items": [
          {
            "aliases": [],
            "name": "csharp"
          }
        ]
      }
    }
  },
  "nbformat": 4,
  "nbformat_minor": 5
}