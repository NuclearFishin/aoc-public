{
  "cells": [
    {
      "cell_type": "markdown",
      "id": "81fd7c5a",
      "metadata": {},
      "source": [
        "### --- Day 13: Distress Signal ---\n",
        "\n",
        "Puzzle description redacted as-per Advent of Code guidelines\n",
        "\n",
        "You may find the puzzle description at: https://adventofcode.com/2022/day/13"
      ]
    },
    {
      "cell_type": "code",
      "execution_count": 2,
      "id": "8f89371f",
      "metadata": {},
      "outputs": [],
      "source": [
        "#!import ../Utils.ipynb"
      ]
    },
    {
      "cell_type": "code",
      "execution_count": 3,
      "id": "0d676dc9",
      "metadata": {},
      "outputs": [
        {
          "name": "stdout",
          "output_type": "stream",
          "text": [
            "Loading puzzle file: Day13.txt\n",
            "Total lines: 449\n",
            "Max line length: 223\n",
            "\n",
            "[[],[[3,[0,3,0,7,9],3],[0,1]],[[],4],[[[8,5]]],[9,5,5,1]]\n",
            "[[[[3,1,9,3],[1,1,1,9],1,[4,9,3,2],[9,1,8,7]],[1],[[4,2,10,2,5],[]],[[9,7,1],5,2,2,10],2],[],[[10,10,[],0]]]\n",
            "\n",
            "[[[5],7,0]]\n",
            "[[3,8,5],[9,[[4,10,0,4],[2,8,8,8,1],[2,6],[9,5,1,0,5]],10,6,5],[]]\n"
          ]
        }
      ],
      "source": [
        "var inputLines = LoadPuzzleInput(2022, 13);\n",
        "WriteLines(inputLines);"
      ]
    },
    {
      "cell_type": "code",
      "execution_count": 4,
      "id": "aaceb7f0",
      "metadata": {},
      "outputs": [],
      "source": [
        "string[] testInputLines = \n",
        "[\n",
        "    \u0022[1,1,3,1,1]\u0022,\n",
        "    \u0022[1,1,5,1,1]\u0022,\n",
        "    \u0022\u0022,\n",
        "    \u0022[[1],[2,3,4]]\u0022,\n",
        "    \u0022[[1],4]\u0022,\n",
        "    \u0022\u0022,\n",
        "    \u0022[9]\u0022,\n",
        "    \u0022[[8,7,6]]\u0022,\n",
        "    \u0022\u0022,\n",
        "    \u0022[[4,4],4,4]\u0022,\n",
        "    \u0022[[4,4],4,4,4]\u0022,\n",
        "    \u0022\u0022,\n",
        "    \u0022[7,7,7,7]\u0022,\n",
        "    \u0022[7,7,7]\u0022,\n",
        "    \u0022\u0022,\n",
        "    \u0022[]\u0022,\n",
        "    \u0022[3]\u0022,\n",
        "    \u0022\u0022,\n",
        "    \u0022[[[]]]\u0022,\n",
        "    \u0022[[]]\u0022,\n",
        "    \u0022\u0022,\n",
        "    \u0022[1,[2,[3,[4,[5,6,7]]]],8,9]\u0022,\n",
        "    \u0022[1,[2,[3,[4,[5,6,0]]]],8,9]\u0022,\n",
        "];"
      ]
    },
    {
      "cell_type": "code",
      "execution_count": 5,
      "id": "f6ef79da",
      "metadata": {},
      "outputs": [],
      "source": [
        "interface Packet {}\n",
        "\n",
        "record Scalar(int Value) : Packet {}\n",
        "\n",
        "class PacketList(IList\u003CPacket\u003E items) : Packet, IEnumerable\u003CPacket\u003E\n",
        "{\n",
        "    public PacketList() : this([]) {}\n",
        "\n",
        "    public IEnumerator\u003CPacket\u003E GetEnumerator() =\u003E items.GetEnumerator();\n",
        "\n",
        "    public void Add(Packet item) =\u003E items.Add(item);\n",
        "\n",
        "    public int Count =\u003E items.Count;\n",
        "    \n",
        "    IEnumerator IEnumerable.GetEnumerator() =\u003E this.GetEnumerator();\n",
        "\n",
        "    // The following required for part 2\n",
        "\n",
        "    public Packet this[int i] =\u003E items[i];\n",
        "}"
      ]
    },
    {
      "cell_type": "markdown",
      "id": "be956f1c",
      "metadata": {},
      "source": [
        "I managed to trip myself up here and had to peek at Peter Norvig\u0027s solution to resolve my mistake. I mistakenly interpreted the puzzle input as needing to work through all pairs \u0060a, b\u0060 ensuring \u0060a \u003C= b\u0060. What the puzzle input actually describes is more like an alphabetical sort: if the first pair is shown to be in order (or not), the two lists are sorted. Only if \u0060a == b\u0060 do we need to compare the next pair.\n",
        "\n",
        "First, let\u0027s model the data structures and the comparison..."
      ]
    },
    {
      "cell_type": "code",
      "execution_count": 6,
      "id": "1be53072",
      "metadata": {},
      "outputs": [],
      "source": [
        "using Ternary = int;\n",
        "const Ternary Neutral = 0;\n",
        "public static bool IsOrdered(this Ternary t) =\u003E t \u003C 0;\n",
        "\n",
        "static Ternary CheckOrder(Packet left, Packet right)\n",
        "{\n",
        "    return (left, right) switch {\n",
        "        (Scalar l, Scalar r) =\u003E CheckOrderScalarScalar(l, r),\n",
        "        (Scalar l, PacketList r) =\u003E CheckOrderScalarPacketList(l, r),\n",
        "        (PacketList l, Scalar r) =\u003E CheckOrderPacketListScalar(l, r),\n",
        "        (PacketList l, PacketList r) =\u003E CheckOrderPacketList2(l, r),\n",
        "        _ =\u003E throw new Exception($\u0022Unexpected comparison!\u0022)\n",
        "    };\n",
        "}\n",
        "\n",
        "static Ternary CheckOrderScalarScalar(Scalar left, Scalar right)\n",
        "    =\u003E left.Value - right.Value;\n",
        "\n",
        "static Ternary CheckOrderScalarPacketList(Scalar left, PacketList right)\n",
        "    =\u003E CheckOrderPacketList2([left], right);\n",
        "\n",
        "static Ternary CheckOrderPacketListScalar(PacketList left, Scalar right)\n",
        "    =\u003E CheckOrderPacketList2(left, [right]);\n",
        "\n",
        "static Ternary CheckOrderPacketList2(PacketList left, PacketList right)\n",
        "{\n",
        "    var hasDiff = left.Zip(right)\n",
        "                    .Select(lr =\u003E CheckOrder(lr.First, lr.Second))\n",
        "                    .FirstOrDefault(x =\u003E x != Neutral);\n",
        "\n",
        "    if (hasDiff is not Neutral)\n",
        "    {\n",
        "        return hasDiff;\n",
        "    }\n",
        "\n",
        "    var leftFinishesFirst = left.Count - right.Count;\n",
        "    return leftFinishesFirst;\n",
        "}"
      ]
    },
    {
      "cell_type": "markdown",
      "id": "5ac8fceb",
      "metadata": {},
      "source": [
        "Now for the parsing..."
      ]
    },
    {
      "cell_type": "code",
      "execution_count": 7,
      "id": "8a22c23f",
      "metadata": {},
      "outputs": [],
      "source": [
        "(PacketList, string) ParsePacketList(string chars)\n",
        "{\n",
        "    List\u003CPacket\u003E result = new();\n",
        "    \n",
        "    // Expect [\n",
        "    chars = chars[1..];\n",
        "\n",
        "    while (chars[0] is not \u0027]\u0027)\n",
        "    {\n",
        "        // Expect comma-separated packets or end of the list\n",
        "\n",
        "        var (packet, remain) = ParsePacket(chars);\n",
        "        result.Add(packet);\n",
        "\n",
        "        chars = remain[0] switch {\n",
        "            \u0027,\u0027 =\u003E remain[1..], // another packet\n",
        "            \u0027]\u0027 =\u003E remain, // end of list\n",
        "            _ =\u003E throw new Exception($\u0022Unexpected list item: {remain[0]}\u0022)\n",
        "        };\n",
        "    }\n",
        "\n",
        "    return (new(result), chars[1..]);\n",
        "}\n",
        "\n",
        "(Packet, string) ParseScalar(string chars)\n",
        "{\n",
        "    int result = -1;\n",
        "    int charEnd = 1;\n",
        "    while (int.TryParse(chars[0..charEnd], out var found))\n",
        "    {\n",
        "        result = found;\n",
        "        charEnd \u002B= 1;\n",
        "    }\n",
        "    charEnd -= 1;\n",
        "\n",
        "    return (new Scalar(result), chars[charEnd..]);\n",
        "}\n",
        "\n",
        "(Packet, string) ParsePacket(string chars)\n",
        "{\n",
        "    (Packet, string) result = chars[0] switch {\n",
        "        \u0027[\u0027 =\u003E ParsePacketList(chars),\n",
        "        _ =\u003E ParseScalar(chars),\n",
        "    };\n",
        "    return result;\n",
        "}"
      ]
    },
    {
      "cell_type": "code",
      "execution_count": 8,
      "id": "f76930ad",
      "metadata": {},
      "outputs": [],
      "source": [
        "int FindPairsInOrder(string[] inputLines)\n",
        "{\n",
        "    var pairs = inputLines.SeparateBy(l =\u003E l is \u0022\u0022).ToArray();\n",
        "\n",
        "    return pairs.Index()\n",
        "        .Where(x =\u003E PairIsOrdered(x.Item))\n",
        "        .Select(x =\u003E x.Index \u002B 1).Sum();\n",
        "}\n",
        "\n",
        "bool PairIsOrdered(string[] pair)\n",
        "{\n",
        "    var ((left, _), (right, _)) = pair.Select(ParsePacket).ToArray();\n",
        "    return CheckOrder(left, right).IsOrdered();\n",
        "}"
      ]
    },
    {
      "cell_type": "code",
      "execution_count": 9,
      "id": "b51dad48",
      "metadata": {},
      "outputs": [
        {
          "name": "stdout",
          "output_type": "stream",
          "text": [
            "13\n"
          ]
        }
      ],
      "source": [
        "// In the above example, the pairs in the right order are 1, 2, 4, and 6; the\n",
        "// sum of these indices is 13.\n",
        "\n",
        "var testAnswer = FindPairsInOrder(testInputLines);\n",
        "Console.WriteLine(testAnswer);"
      ]
    },
    {
      "cell_type": "code",
      "execution_count": 10,
      "id": "44dfc04e",
      "metadata": {},
      "outputs": [
        {
          "name": "stdout",
          "output_type": "stream",
          "text": [
            "5852\n"
          ]
        }
      ],
      "source": [
        "// Determine which pairs of packets are already in the right order. What is the\n",
        "// sum of the indices of those pairs?\n",
        "\n",
        "var part1Answer = FindPairsInOrder(inputLines);\n",
        "Console.WriteLine(part1Answer);"
      ]
    },
    {
      "cell_type": "code",
      "execution_count": 11,
      "id": "6b07865b",
      "metadata": {},
      "outputs": [],
      "source": [
        "// 5852 is correct!\n",
        "Ensure(5852, part1Answer);"
      ]
    },
    {
      "cell_type": "markdown",
      "id": "97529516",
      "metadata": {},
      "source": [
        "### --- Part Two ---\n",
        "\n",
        "Puzzle description redacted as-per Advent of Code guidelines\n",
        "\n",
        "You may find the puzzle description at: https://adventofcode.com/2022/day/13"
      ]
    },
    {
      "cell_type": "markdown",
      "id": "53b7542e",
      "metadata": {},
      "source": [
        "Ok, I think we can leverage .NET\u0027s sorting mechanisms here, if we can shoehorn our comparison functions into the IComparer interface"
      ]
    },
    {
      "cell_type": "code",
      "execution_count": 13,
      "id": "4fb43df9",
      "metadata": {},
      "outputs": [],
      "source": [
        "class PacketComparer : IComparer\u003CPacket\u003E\n",
        "{\n",
        "    public int Compare(Packet left, Packet right) =\u003E CheckOrder(left, right);\n",
        "}"
      ]
    },
    {
      "cell_type": "code",
      "execution_count": 14,
      "id": "6e37a4ec",
      "metadata": {},
      "outputs": [],
      "source": [
        "string[] dividers = \n",
        "[\n",
        "    \u0022[[2]]\u0022,\n",
        "    \u0022[[6]]\u0022,\n",
        "];\n",
        "\n",
        "int SortAndDivide(string[] inputLines)\n",
        "{\n",
        "    var fullSet = inputLines.Where(line =\u003E line is not \u0022\u0022).Concat(dividers);\n",
        "\n",
        "    var packetSet = fullSet.Select(ParsePacket).Select(x =\u003E x.Item1).ToList();\n",
        "    packetSet.Sort(new PacketComparer());\n",
        "\n",
        "    var indexProduct = 1;\n",
        "    foreach ((var i, PacketList p) in packetSet.Cast\u003CPacketList\u003E().Index())\n",
        "    {\n",
        "        if (p is [PacketList pl] \u0026\u0026 pl is [Scalar s] \u0026\u0026 s.Value is 2 or 6)\n",
        "        {\n",
        "            indexProduct *= i \u002B 1;\n",
        "        }\n",
        "    }\n",
        "\n",
        "    return indexProduct;\n",
        "}"
      ]
    },
    {
      "cell_type": "code",
      "execution_count": 15,
      "id": "2a09add9",
      "metadata": {},
      "outputs": [
        {
          "name": "stdout",
          "output_type": "stream",
          "text": [
            "140\n"
          ]
        }
      ],
      "source": [
        "// In this example, the divider packets are 10th and 14th, and so the decoder\n",
        "// key is 140.\n",
        "\n",
        "var part2TestAnswer = SortAndDivide(testInputLines);\n",
        "Console.WriteLine(part2TestAnswer);"
      ]
    },
    {
      "cell_type": "code",
      "execution_count": 16,
      "id": "b31f9fe3",
      "metadata": {},
      "outputs": [
        {
          "name": "stdout",
          "output_type": "stream",
          "text": [
            "24190\n"
          ]
        }
      ],
      "source": [
        "// Organize all of the packets into the correct order. What is the decoder key\n",
        "// for the distress signal?\n",
        "\n",
        "var part2Answer = SortAndDivide(inputLines);\n",
        "Console.WriteLine(part2Answer);"
      ]
    },
    {
      "cell_type": "code",
      "execution_count": 17,
      "id": "2a4aa1ba",
      "metadata": {},
      "outputs": [],
      "source": [
        "// 24190 is correct!\n",
        "Ensure(24190, part2Answer);"
      ]
    }
  ],
  "metadata": {
    "kernelspec": {
      "display_name": ".NET (C#)",
      "language": "C#",
      "name": ".net-csharp"
    },
    "language_info": {
      "name": "polyglot-notebook"
    },
    "polyglot_notebook": {
      "kernelInfo": {
        "defaultKernelName": "csharp",
        "items": [
          {
            "aliases": [],
            "name": "csharp"
          }
        ]
      }
    }
  },
  "nbformat": 4,
  "nbformat_minor": 5
}