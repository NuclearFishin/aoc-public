{
  "cells": [
    {
      "cell_type": "markdown",
      "id": "8406ce53",
      "metadata": {},
      "source": [
        "### --- Day 12: Hill Climbing Algorithm ---\n",
        "\n",
        "Puzzle description redacted as-per Advent of Code guidelines\n",
        "\n",
        "You may find the puzzle description at: https://adventofcode.com/2022/day/12"
      ]
    },
    {
      "cell_type": "code",
      "execution_count": 2,
      "id": "4a15e0ff",
      "metadata": {},
      "outputs": [],
      "source": [
        "#!import ../Utils.ipynb"
      ]
    },
    {
      "cell_type": "code",
      "execution_count": 3,
      "id": "b667d7d8",
      "metadata": {},
      "outputs": [
        {
          "name": "stdout",
          "output_type": "stream",
          "text": [
            "Loading puzzle file: Day12.txt\n",
            "Total lines: 41\n",
            "Max line length: 132\n",
            "\n",
            "abcccaaaaaaccccccccaaaaaccccccaaaaaacccc\n",
            "abcccaaaaaacccccccaaaaaaccccaaaaaaaacccc\n",
            "abccccaaaaacaaaccaaaaaaaacccaaaaaaaaaccc\n",
            "abccccaaaaccaaaaaaaaaaaaacccaaaaaaaaaacc\n",
            "abcccccccccaaaaaacccaacccccccccaaacaaacc\n"
          ]
        }
      ],
      "source": [
        "var inputLines = LoadPuzzleInput(2022, 12);\n",
        "WriteLines(inputLines, maxCols: 40);"
      ]
    },
    {
      "cell_type": "code",
      "execution_count": 4,
      "id": "f47ebf72",
      "metadata": {},
      "outputs": [],
      "source": [
        "string[] testInputLines = \n",
        "[\n",
        "    \u0022Sabqponm\u0022,\n",
        "    \u0022abcryxxl\u0022,\n",
        "    \u0022accszExk\u0022,\n",
        "    \u0022acctuvwj\u0022,\n",
        "    \u0022abdefghi\u0022,\n",
        "];"
      ]
    },
    {
      "cell_type": "code",
      "execution_count": 5,
      "id": "d0648013",
      "metadata": {},
      "outputs": [],
      "source": [
        "int FindShortestPath(string[] inputLines)\n",
        "{\n",
        "    CharGrid grid = new(inputLines);\n",
        "\n",
        "    var start = grid.Enumerate().Single(pch =\u003E pch.ch is \u0027S\u0027).point;\n",
        "    var end = grid.Enumerate().Single(pch =\u003E pch.ch is \u0027E\u0027).point;\n",
        "\n",
        "    var heightMap = Alphabet.Index().ToDictionary(a =\u003E a.Item, a =\u003E a.Index);\n",
        "    heightMap[\u0027S\u0027] = heightMap[\u0027a\u0027];\n",
        "    heightMap[\u0027E\u0027] = heightMap[\u0027z\u0027];\n",
        "    \n",
        "    NextNodeFunc\u003CPoint, int\u003E nnf = nextNodeFunc;\n",
        "    var shortest = ShortestPath(start, nnf).First(x =\u003E x.node == end);\n",
        "    return shortest.cost;\n",
        "\n",
        "    IEnumerable\u003C(Point p, int cost)\u003E nextNodeFunc(Point p, int cost)\n",
        "    {\n",
        "        var currentHeight = heightMap[grid[p]];\n",
        "        var maxHeight = currentHeight \u002B 1;\n",
        "\n",
        "        foreach (var dir in directions)\n",
        "        {\n",
        "            var nextPoint = p \u002B dir;\n",
        "            if (!grid.IsValid(nextPoint)) { continue; }\n",
        "\n",
        "            var nextHeight = heightMap[grid[nextPoint]];\n",
        "            if (nextHeight \u003E maxHeight) { continue; }\n",
        "\n",
        "            yield return (nextPoint, cost \u002B 1);\n",
        "        }\n",
        "    }\n",
        "}\n",
        "\n",
        "Point[] directions = [Up, Down, Left, Right];"
      ]
    },
    {
      "cell_type": "code",
      "execution_count": 6,
      "id": "540d2def",
      "metadata": {},
      "outputs": [
        {
          "name": "stdout",
          "output_type": "stream",
          "text": [
            "31\n"
          ]
        }
      ],
      "source": [
        "// This path reaches the goal in 31 steps, the fewest possible.\n",
        "\n",
        "var testAnswer = FindShortestPath(testInputLines);\n",
        "Console.WriteLine(testAnswer);"
      ]
    },
    {
      "cell_type": "code",
      "execution_count": 7,
      "id": "50e2b537",
      "metadata": {},
      "outputs": [
        {
          "name": "stdout",
          "output_type": "stream",
          "text": [
            "449\n"
          ]
        }
      ],
      "source": [
        "// What is the fewest steps required to move from your current position to the\n",
        "// location that should get the best signal?\n",
        "\n",
        "var part1Answer = FindShortestPath(inputLines);\n",
        "Console.WriteLine(part1Answer);"
      ]
    },
    {
      "cell_type": "code",
      "execution_count": 8,
      "id": "2872d6e2",
      "metadata": {},
      "outputs": [],
      "source": [
        "// 449 is correct!\n",
        "Ensure(449, part1Answer);"
      ]
    },
    {
      "cell_type": "markdown",
      "id": "8b5928d0",
      "metadata": {},
      "source": [
        "### --- Part Two ---\n",
        "\n",
        "Puzzle description redacted as-per Advent of Code guidelines\n",
        "\n",
        "You may find the puzzle description at: https://adventofcode.com/2022/day/12"
      ]
    },
    {
      "cell_type": "markdown",
      "id": "4d7eaf7f",
      "metadata": {},
      "source": [
        "Ok, I think this one is straightforward using our existing tools: run the shortest path across all the candidates, pick the shortest one..."
      ]
    },
    {
      "cell_type": "code",
      "execution_count": 10,
      "id": "89d24416",
      "metadata": {},
      "outputs": [],
      "source": [
        "int FindShortestPath2(string[] inputLines)\n",
        "{\n",
        "    CharGrid grid = new(inputLines);\n",
        "\n",
        "    var starts = grid.Enumerate()\n",
        "                    .Where(pch =\u003E pch.ch is \u0027S\u0027 or \u0027a\u0027)\n",
        "                    .Select(pch =\u003E pch.point);\n",
        "    var end = grid.Enumerate().Single(pch =\u003E pch.ch is \u0027E\u0027).point;\n",
        "\n",
        "    var heightMap = Alphabet.Index().ToDictionary(a =\u003E a.Item, a =\u003E a.Index);\n",
        "    heightMap[\u0027S\u0027] = heightMap[\u0027a\u0027];\n",
        "    heightMap[\u0027E\u0027] = heightMap[\u0027z\u0027];\n",
        "    \n",
        "    NextNodeFunc\u003CPoint, int\u003E nnf = nextNodeFunc;\n",
        "    int doOneShortest(Point start)\n",
        "    {\n",
        "        var shortest = ShortestPath(start, nnf)\n",
        "            .FirstOrDefault(x =\u003E x.node == end);\n",
        "        return shortest != default ? shortest.cost : int.MaxValue;\n",
        "    }\n",
        "\n",
        "    return starts.Select(doOneShortest).Min();\n",
        "\n",
        "    IEnumerable\u003C(Point p, int cost)\u003E nextNodeFunc(Point p, int cost)\n",
        "    {\n",
        "        var currentHeight = heightMap[grid[p]];\n",
        "        var maxHeight = currentHeight \u002B 1;\n",
        "\n",
        "        foreach (var dir in directions)\n",
        "        {\n",
        "            var nextPoint = p \u002B dir;\n",
        "            if (!grid.IsValid(nextPoint)) { continue; }\n",
        "\n",
        "            var nextHeight = heightMap[grid[nextPoint]];\n",
        "            if (nextHeight \u003E maxHeight) { continue; }\n",
        "\n",
        "            yield return (nextPoint, cost \u002B 1);\n",
        "        }\n",
        "    }\n",
        "}"
      ]
    },
    {
      "cell_type": "code",
      "execution_count": 11,
      "id": "804553f0",
      "metadata": {},
      "outputs": [
        {
          "name": "stdout",
          "output_type": "stream",
          "text": [
            "29\n"
          ]
        }
      ],
      "source": [
        "// This path reaches the goal in only 29 steps, the fewest possible.\n",
        "\n",
        "var part2TestAnswer = FindShortestPath2(testInputLines);\n",
        "Console.WriteLine(part2TestAnswer);"
      ]
    },
    {
      "cell_type": "code",
      "execution_count": 12,
      "id": "fe736b65",
      "metadata": {},
      "outputs": [
        {
          "name": "stdout",
          "output_type": "stream",
          "text": [
            "443\n"
          ]
        }
      ],
      "source": [
        "// What is the fewest steps required to move starting from any square with\n",
        "// elevation a to the location that should get the best signal?\n",
        "\n",
        "var part2Answer = FindShortestPath2(inputLines);\n",
        "Console.WriteLine(part2Answer);"
      ]
    },
    {
      "cell_type": "code",
      "execution_count": 13,
      "id": "666dc857",
      "metadata": {},
      "outputs": [],
      "source": [
        "// 443 is correct!\n",
        "Ensure(443, part2Answer);"
      ]
    }
  ],
  "metadata": {
    "kernelspec": {
      "display_name": ".NET (C#)",
      "language": "C#",
      "name": ".net-csharp"
    },
    "language_info": {
      "name": "polyglot-notebook"
    },
    "polyglot_notebook": {
      "kernelInfo": {
        "defaultKernelName": "csharp",
        "items": [
          {
            "aliases": [],
            "name": "csharp"
          }
        ]
      }
    }
  },
  "nbformat": 4,
  "nbformat_minor": 5
}