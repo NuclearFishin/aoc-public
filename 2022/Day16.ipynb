{
  "cells": [
    {
      "cell_type": "markdown",
      "id": "7567da6a",
      "metadata": {
        "language_info": {
          "name": "polyglot-notebook"
        },
        "polyglot_notebook": {
          "kernelName": "csharp"
        }
      },
      "source": [
        "### --- Day 16: Proboscidea Volcanium ---\n",
        "\n",
        "Puzzle description redacted as-per Advent of Code guidelines\n",
        "\n",
        "You may find the puzzle description at: https://adventofcode.com/2022/day/16"
      ]
    },
    {
      "cell_type": "code",
      "execution_count": 2,
      "id": "54b22616",
      "metadata": {
        "language_info": {
          "name": "polyglot-notebook"
        },
        "polyglot_notebook": {
          "kernelName": "csharp"
        }
      },
      "outputs": [],
      "source": [
        "#!import ../Utils.ipynb"
      ]
    },
    {
      "cell_type": "code",
      "execution_count": 3,
      "id": "4b4b42ba",
      "metadata": {
        "language_info": {
          "name": "polyglot-notebook"
        },
        "polyglot_notebook": {
          "kernelName": "csharp"
        }
      },
      "outputs": [
        {
          "name": "stdout",
          "output_type": "stream",
          "text": [
            "Loading puzzle file: Day16.txt\n",
            "Total lines: 51\n",
            "Max line length: 67\n",
            "\n",
            "Valve OS has flow rate=0; tunnels lead to valves EE, CL\n",
            "Valve EN has flow rate=0; tunnels lead to valves CL, GV\n",
            "Valve RR has flow rate=24; tunnels lead to valves FS, YP\n",
            "Valve VB has flow rate=20; tunnels lead to valves UU, EY, SG, ZB\n",
            "Valve UU has flow rate=0; tunnels lead to valves OT, VB\n"
          ]
        }
      ],
      "source": [
        "var inputLines = LoadPuzzleInput(2022, 16);\n",
        "WriteLines(inputLines);"
      ]
    },
    {
      "cell_type": "code",
      "execution_count": 4,
      "id": "5bba0400",
      "metadata": {
        "language_info": {
          "name": "polyglot-notebook"
        },
        "polyglot_notebook": {
          "kernelName": "csharp"
        }
      },
      "outputs": [],
      "source": [
        "string[] testInputLines = \n",
        "[\n",
        "    \u0022Valve AA has flow rate=0; tunnels lead to valves DD, II, BB\u0022,\n",
        "    \u0022Valve BB has flow rate=13; tunnels lead to valves CC, AA\u0022,\n",
        "    \u0022Valve CC has flow rate=2; tunnels lead to valves DD, BB\u0022,\n",
        "    \u0022Valve DD has flow rate=20; tunnels lead to valves CC, AA, EE\u0022,\n",
        "    \u0022Valve EE has flow rate=3; tunnels lead to valves FF, DD\u0022,\n",
        "    \u0022Valve FF has flow rate=0; tunnels lead to valves EE, GG\u0022,\n",
        "    \u0022Valve GG has flow rate=0; tunnels lead to valves FF, HH\u0022,\n",
        "    \u0022Valve HH has flow rate=22; tunnel leads to valve GG\u0022,\n",
        "    \u0022Valve II has flow rate=0; tunnels lead to valves AA, JJ\u0022,\n",
        "    \u0022Valve JJ has flow rate=21; tunnel leads to valve II\u0022,\n",
        "];"
      ]
    },
    {
      "cell_type": "markdown",
      "id": "84c32e9a",
      "metadata": {},
      "source": [
        "Hmm, this one seems a bit tricky. The net pressure contribution of a valve is relative to the time we open it, so this is not some fixed shortest path. There is also a chance that backtracking to previously-opened valves might be necessary to reach a new valve.\n",
        "\n",
        "It looks like the puzzle gives us enough information to calculate:\n",
        "\n",
        "* At any given time, the net pressure loss each valve can contribute\n",
        "* The shortest travel times from each valve to every other\n",
        "\n",
        "Is this a greedy algorithm? No I don\u0027t think so - if two valves have equal best pressure release, our subsequent options are then affected by the travel time, so making a locally optimal selection doesn\u0027t necessarily yield the globally optimal solution. It seems there is no choice in this case but to evaluate both choices and compare the net result!\n",
        "\n",
        "Therefore, reluctantly I think we need to compare all possible paths. Normally I would consider this infeasable, but the 30 second timer places an upper bound on the search depth. Further, many valves have \u0060flow rate=0\u0060, which means there\u0027s no point opening those! Hopefully those optimisations simplify this enough to make the comparison feasible. Let\u0027s see..."
      ]
    },
    {
      "cell_type": "code",
      "execution_count": 5,
      "id": "c77a4a18",
      "metadata": {
        "language_info": {
          "name": "polyglot-notebook"
        },
        "polyglot_notebook": {
          "kernelName": "csharp"
        }
      },
      "outputs": [],
      "source": [
        "// Model the valve first\n",
        "\n",
        "using ValvePair = (string a, string b);\n",
        "\n",
        "class Valve(string id, int flowRate)\n",
        "{\n",
        "    public string Id { get; init; } = id;\n",
        "    public int FlowRate { get; init; } = flowRate;\n",
        "    public List\u003Cstring\u003E Neighbours { get; } = [];\n",
        "}\n",
        "\n",
        "Valve ParseValve(string line)\n",
        "{\n",
        "    var id = line[6..8];\n",
        "    var flowRate = line.ParseInts().Single();\n",
        "\n",
        "    var valveRegex = Regex.Match(line, \u0022leads? to valves? (.\u002B)$\u0022);\n",
        "    var valveStr = valveRegex.Groups[1].Value;\n",
        "\n",
        "    Valve v = new(id, flowRate);\n",
        "    v.Neighbours.AddRange(valveStr.Split(\u0022, \u0022));\n",
        "    return v;\n",
        "}"
      ]
    },
    {
      "cell_type": "code",
      "execution_count": 6,
      "id": "00ef629d",
      "metadata": {
        "language_info": {
          "name": "polyglot-notebook"
        },
        "polyglot_notebook": {
          "kernelName": "csharp"
        }
      },
      "outputs": [],
      "source": [
        "// Calculate the shortest paths\n",
        "\n",
        "using DistanceDict = SCG.Dictionary\u003C(string a, string b), int\u003E;\n",
        "\n",
        "DistanceDict GetDistances(IEnumerable\u003CValve\u003E valveList)\n",
        "{\n",
        "    var neighbours = valveList.ToDictionary(x =\u003E x.Id, x =\u003E x.Neighbours);\n",
        "\n",
        "    NextNodeFunc\u003Cstring, int\u003E next;\n",
        "    next = (node, cost) =\u003E neighbours[node].Select(n =\u003E (n, cost \u002B 1));\n",
        "\n",
        "    Dictionary\u003C(string, string), int\u003E distances = new();\n",
        "    var q = from id in neighbours.Keys\n",
        "            from sp in ShortestPath(id, next)\n",
        "            select (id, sp.node, sp.cost);\n",
        "\n",
        "    return q.ToDictionary(qq =\u003E (qq.id, qq.node), qq =\u003E qq.cost);\n",
        "}\n",
        "GetDistances(testInputLines.Select(ParseValve));"
      ]
    },
    {
      "cell_type": "code",
      "execution_count": 7,
      "id": "a4df2339",
      "metadata": {
        "language_info": {
          "name": "polyglot-notebook"
        },
        "polyglot_notebook": {
          "kernelName": "csharp"
        }
      },
      "outputs": [],
      "source": [
        "// Let\u0027s find the answer\n",
        "\n",
        "int FindMostPressure(string[] inputLines, string startValue)\n",
        "{\n",
        "    var valveList = inputLines.Select(ParseValve).ToList();\n",
        "    var valveDict = valveList.ToDictionary(v =\u003E v.Id);\n",
        "    var distances = GetDistances(valveList);\n",
        "\n",
        "    const int MaxTime = 30;\n",
        "\n",
        "    HashSet\u003Cstring\u003E visited = new();\n",
        "    int pressure = 0;\n",
        "    int mostPressure = 0;\n",
        "\n",
        "    void Dfs(string next, int elapsed)\n",
        "    {\n",
        "        if (elapsed \u003E= MaxTime) { return; }\n",
        "        if (visited.Contains(next)) { return; }\n",
        "\n",
        "        // At this point we have a valid path!\n",
        "\n",
        "        // Open valve if it has flow\n",
        "        elapsed \u002B= valveDict[next].FlowRate \u003E 0 ? 1 : 0; \n",
        "\n",
        "        var release = valveDict[next].FlowRate * (MaxTime - elapsed);\n",
        "        pressure \u002B= release;\n",
        "        mostPressure = Math.Max(pressure, mostPressure);\n",
        "\n",
        "        visited.Add(next);\n",
        "        foreach (var valve in valveList)\n",
        "        {\n",
        "            if (valve is not { Id: var id, FlowRate: \u003E 0}) { continue; }\n",
        "\n",
        "            var travelTime = distances[(next, id)];\n",
        "            Dfs(id, elapsed \u002B travelTime);\n",
        "        }\n",
        "        visited.Remove(next);\n",
        "        pressure -= release;\n",
        "    }\n",
        "\n",
        "    Dfs(startValue, 0);\n",
        "    return mostPressure;\n",
        "}"
      ]
    },
    {
      "cell_type": "code",
      "execution_count": 8,
      "id": "36b63d11",
      "metadata": {
        "language_info": {
          "name": "polyglot-notebook"
        },
        "polyglot_notebook": {
          "kernelName": "csharp"
        }
      },
      "outputs": [
        {
          "name": "stdout",
          "output_type": "stream",
          "text": [
            "1651\n"
          ]
        }
      ],
      "source": [
        "// This approach lets you release the most pressure possible in 30 minutes with\n",
        "// this valve layout, 1651.\n",
        "\n",
        "var testAnswer = FindMostPressure(testInputLines, \u0022AA\u0022);\n",
        "Console.WriteLine(testAnswer);"
      ]
    },
    {
      "cell_type": "code",
      "execution_count": 9,
      "id": "71468bf3",
      "metadata": {
        "language_info": {
          "name": "polyglot-notebook"
        },
        "polyglot_notebook": {
          "kernelName": "csharp"
        }
      },
      "outputs": [
        {
          "name": "stdout",
          "output_type": "stream",
          "text": [
            "1741\n"
          ]
        }
      ],
      "source": [
        "// Work out the steps to release the most pressure in 30 minutes. What is the\n",
        "// most pressure you can release?\n",
        "\n",
        "var part1Answer = FindMostPressure(inputLines, \u0022AA\u0022);\n",
        "Console.WriteLine(part1Answer);"
      ]
    },
    {
      "cell_type": "code",
      "execution_count": 10,
      "metadata": {
        "language_info": {
          "name": "polyglot-notebook"
        },
        "polyglot_notebook": {
          "kernelName": "csharp"
        }
      },
      "outputs": [],
      "source": [
        "// 1741 is correct!\n",
        "Ensure(1741, part1Answer);"
      ]
    },
    {
      "cell_type": "markdown",
      "id": "8fc9676c",
      "metadata": {
        "language_info": {
          "name": "polyglot-notebook"
        },
        "polyglot_notebook": {
          "kernelName": "csharp"
        }
      },
      "source": [
        "### --- Part Two ---\n",
        "\n",
        "Puzzle description redacted as-per Advent of Code guidelines\n",
        "\n",
        "You may find the puzzle description at: https://adventofcode.com/2022/day/16"
      ]
    },
    {
      "cell_type": "markdown",
      "id": "c329ca55",
      "metadata": {},
      "source": [
        "So in part two, the elephant and I are moving concurrently. How to model this?\n",
        "\n",
        "The key consequence of having two explorers is that they will be opening valves and thus making them unavailable for opening by the other explorer. So we\u0027ll need to model the visited set of valves as a shared state.\n",
        "\n",
        "In this case, both the elephant and I can move, but concurrent movements will result in some valves being opened by the other party, affecting their partner\u0027s search.\n",
        "\n",
        "I\u0027ve got two ideas to try here:\n",
        "\n",
        "1. Model the search as a pair of steps, one for each explorer - This is nice in that the DFS is still a single iteration, but it might be tricky due to travel times meaning the explorers are taking different steps at different times.\n",
        "2. Execute each search independently - The search in part one gives us every possible combination of path for the person. I think we can use those paths as the \u0022starting point\u0022 for the elephant\u0027s exploration, and pre-mark the person\u0027s valves as visited. I\u0027m pretty sure this gives us every combination?\n",
        "\n",
        "I think we\u0027ll try option 2 first."
      ]
    },
    {
      "cell_type": "code",
      "execution_count": 12,
      "id": "752b2dd2",
      "metadata": {
        "language_info": {
          "name": "polyglot-notebook"
        },
        "polyglot_notebook": {
          "kernelName": "csharp"
        }
      },
      "outputs": [],
      "source": [
        "int FindMostPressure2(string[] inputLines, string startValue, int maxTime)\n",
        "{\n",
        "    var valveList = inputLines.Select(ParseValve).ToList();\n",
        "    var valveDict = valveList.ToDictionary(v =\u003E v.Id);\n",
        "    var distances = GetDistances(valveList);\n",
        "\n",
        "    IEnumerable\u003Cint\u003E StartDfs(HashSet\u003Cstring\u003E visited)\n",
        "    {\n",
        "        int pressure = 0;\n",
        "\n",
        "        foreach (var i in Dfs(startValue, 0))\n",
        "        {\n",
        "            yield return i;\n",
        "        }\n",
        "\n",
        "        IEnumerable\u003Cint\u003E Dfs(string next, int elapsed)\n",
        "        {\n",
        "            if (elapsed \u003E= maxTime) { yield break; }\n",
        "            if (visited.Contains(next)) { yield break; }\n",
        "\n",
        "            // At this point we have a valid path!\n",
        "\n",
        "            // Open valve if it has flow\n",
        "            elapsed \u002B= valveDict[next].FlowRate \u003E 0 ? 1 : 0; \n",
        "\n",
        "            var release = valveDict[next].FlowRate * (maxTime - elapsed);\n",
        "            pressure \u002B= release;\n",
        "            visited.Add(next);\n",
        "            yield return pressure;\n",
        "\n",
        "            foreach (var valve in valveList)\n",
        "            {\n",
        "                if (valve is not { Id: var id, FlowRate: \u003E 0}) { continue; }\n",
        "\n",
        "                var travelTime = distances[(next, id)];\n",
        "                foreach (var i in Dfs(id, elapsed \u002B travelTime))\n",
        "                {\n",
        "                    yield return i;\n",
        "                }\n",
        "            }\n",
        "            visited.Remove(next);\n",
        "            pressure -= release;\n",
        "        }\n",
        "    }\n",
        "\n",
        "    var best = 0;\n",
        "    HashSet\u003Cstring\u003E visited = [];\n",
        "    foreach (var a in StartDfs(visited))\n",
        "    {\n",
        "        visited.Remove(startValue);\n",
        "        foreach (var b in StartDfs(visited))\n",
        "        {\n",
        "            best = Math.Max(best, a \u002B b);\n",
        "        }\n",
        "        visited.Add(startValue);\n",
        "    }\n",
        "    return best;\n",
        "}\n"
      ]
    },
    {
      "cell_type": "code",
      "execution_count": 13,
      "id": "81f3779e",
      "metadata": {
        "language_info": {
          "name": "polyglot-notebook"
        },
        "polyglot_notebook": {
          "kernelName": "csharp"
        }
      },
      "outputs": [
        {
          "name": "stdout",
          "output_type": "stream",
          "text": [
            "1707\n"
          ]
        }
      ],
      "source": [
        "var part2TestAnswer = FindMostPressure2(testInputLines, \u0022AA\u0022, 26);\n",
        "Console.WriteLine(part2TestAnswer);"
      ]
    },
    {
      "cell_type": "code",
      "execution_count": 14,
      "id": "d20b952a",
      "metadata": {
        "language_info": {
          "name": "polyglot-notebook"
        },
        "polyglot_notebook": {
          "kernelName": "csharp"
        }
      },
      "outputs": [],
      "source": [
        "// This takes too long to run!\n",
        "\n",
        "// var part2Answer = FindMostPressure2(inputLines, \u0022AA\u0022, 26);\n",
        "// Console.WriteLine(part2Answer);"
      ]
    },
    {
      "cell_type": "markdown",
      "id": "59a0fe60",
      "metadata": {},
      "source": [
        "Bummer, looks like it works but the execution time is too long! We\u0027re on the right track at least, but how can we make it faster? Here\u0027s a few ideas...\n",
        "\n",
        "* No need to reclaculate the DFS each time - the first exploration gives us every possible path and associated pressure release. We can save and compare those paths together: if there is no overlap in paths (besides the initial \u0060AA\u0060), it\u0027s a valid pairing.\n",
        "* Pairing of paths \u0060a, b\u0060 is equivalent to \u0060b, a\u0060, so we only need consider _combinations_, not _permutations_ of all pairings.\n",
        "* Given path \u0060a\u0060, we need only consider the best path \u0060b\u0060 that is compatible with \u0060a\u0060 - all other paths will yield a lower total. So sorting the paths initially means we can stop once we find our first compatible path \u0060b\u0060, for each \u0060a\u0060."
      ]
    },
    {
      "cell_type": "code",
      "execution_count": 15,
      "id": "7a2f2a75",
      "metadata": {
        "language_info": {
          "name": "polyglot-notebook"
        },
        "polyglot_notebook": {
          "kernelName": "csharp"
        }
      },
      "outputs": [],
      "source": [
        "using PathPressure = (SCG.HashSet\u003Cstring\u003E path, int pressure);\n",
        "\n",
        "int FindMostPressure3(string[] inputLines, string startValue, int maxTime)\n",
        "{\n",
        "    var valveList = inputLines.Select(ParseValve).ToList();\n",
        "    var valveDict = valveList.ToDictionary(v =\u003E v.Id);\n",
        "    var distances = GetDistances(valveList);\n",
        "\n",
        "    HashSet\u003Cstring\u003E visited = new();\n",
        "    int pressure = 0;\n",
        "    List\u003CPathPressure\u003E paths = new();\n",
        "\n",
        "    void Dfs(string next, int elapsed)\n",
        "    {\n",
        "        if (elapsed \u003E= maxTime) { return; }\n",
        "        if (visited.Contains(next)) { return; }\n",
        "\n",
        "        // At this point we have a valid path!\n",
        "\n",
        "        // Open valve if it has flow\n",
        "        elapsed \u002B= valveDict[next].FlowRate \u003E 0 ? 1 : 0; \n",
        "\n",
        "        var release = valveDict[next].FlowRate * (maxTime - elapsed);\n",
        "        pressure \u002B= release;\n",
        "        visited.Add(next);\n",
        "        paths.Add((new(visited), pressure));\n",
        "        foreach (var valve in valveList)\n",
        "        {\n",
        "            if (valve is not { Id: var id, FlowRate: \u003E 0}) { continue; }\n",
        "\n",
        "            var travelTime = distances[(next, id)];\n",
        "            Dfs(id, elapsed \u002B travelTime);\n",
        "        }\n",
        "        visited.Remove(next);\n",
        "        pressure -= release;\n",
        "    }\n",
        "\n",
        "    Dfs(startValue, 0);\n",
        "\n",
        "    // Ok, start the exploration using the optimisations above...\n",
        "\n",
        "    paths.Sort((a, b) =\u003E b.pressure - a.pressure);\n",
        "    var bestPressure = 0;\n",
        "    for (var i = 0; i \u003C paths.Count; i\u002B\u002B)\n",
        "    for (var j = i \u002B 1; j \u003C paths.Count; j\u002B\u002B)\n",
        "    {\n",
        "        PathPressure a = (new(paths[i].path), paths[i].pressure);\n",
        "        PathPressure b = paths[j];\n",
        "\n",
        "        a.path.IntersectWith(b.path);\n",
        "        if (a.path.Count is not 1) { continue; }\n",
        "        \n",
        "        var newPressure = a.pressure \u002B b.pressure;\n",
        "        bestPressure = Math.Max(newPressure, bestPressure);\n",
        "        break;\n",
        "    }\n",
        "\n",
        "    return bestPressure;\n",
        "}"
      ]
    },
    {
      "cell_type": "code",
      "execution_count": 16,
      "id": "83a90669",
      "metadata": {
        "language_info": {
          "name": "polyglot-notebook"
        },
        "polyglot_notebook": {
          "kernelName": "csharp"
        }
      },
      "outputs": [
        {
          "name": "stdout",
          "output_type": "stream",
          "text": [
            "1707\n"
          ]
        }
      ],
      "source": [
        "// With the elephant helping, after 26 minutes, the best you could do would\n",
        "// release a total of 1707 pressure.\n",
        "\n",
        "var part2TestAnswer2 = FindMostPressure3(testInputLines, \u0022AA\u0022, 26);\n",
        "Console.WriteLine(part2TestAnswer2);"
      ]
    },
    {
      "cell_type": "code",
      "execution_count": 17,
      "id": "fbbfe4bb",
      "metadata": {
        "language_info": {
          "name": "polyglot-notebook"
        },
        "polyglot_notebook": {
          "kernelName": "csharp"
        }
      },
      "outputs": [
        {
          "name": "stdout",
          "output_type": "stream",
          "text": [
            "2316\n"
          ]
        }
      ],
      "source": [
        "// With you and an elephant working together for 26 minutes, what is the most\n",
        "// pressure you could release?\n",
        "\n",
        "var part2Answer2 = FindMostPressure3(inputLines, \u0022AA\u0022, 26);\n",
        "Console.WriteLine(part2Answer2);"
      ]
    },
    {
      "cell_type": "code",
      "execution_count": 18,
      "id": "8e10089c",
      "metadata": {
        "language_info": {
          "name": "polyglot-notebook"
        },
        "polyglot_notebook": {
          "kernelName": "csharp"
        }
      },
      "outputs": [],
      "source": [
        "// 2316 is correct!\n",
        "Ensure(2316, part2Answer2);"
      ]
    }
  ],
  "metadata": {
    "kernelspec": {
      "display_name": ".NET (C#)",
      "language": "C#",
      "name": ".net-csharp"
    },
    "language_info": {
      "name": "polyglot-notebook"
    },
    "polyglot_notebook": {
      "kernelInfo": {
        "defaultKernelName": "csharp",
        "items": [
          {
            "aliases": [],
            "name": "csharp"
          }
        ]
      }
    }
  },
  "nbformat": 4,
  "nbformat_minor": 5
}